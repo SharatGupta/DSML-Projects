{
  "cells": [
    {
      "cell_type": "markdown",
      "metadata": {
        "id": "view-in-github",
        "colab_type": "text"
      },
      "source": [
        "<a href=\"https://colab.research.google.com/github/SharatGupta/DSML-Projects/blob/main/Scaler%20-%20Clustering.ipynb\" target=\"_parent\"><img src=\"https://colab.research.google.com/assets/colab-badge.svg\" alt=\"Open In Colab\"/></a>"
      ]
    },
    {
      "cell_type": "markdown",
      "source": [
        "![Scaler_Logo_Transparent.png](data:image/png;base64,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)\n",
        "\n",
        "Scaler is an online tech-versity offering intensive computer science & Data Science courses through live classes delivered by tech leaders and subject matter experts. The meticulously structured program enhances the skills of software professionals by offering a modern curriculum with exposure to the latest technologies. It is a product by InterviewBit"
      ],
      "metadata": {
        "id": "rPflfHPXBDDN"
      }
    },
    {
      "cell_type": "markdown",
      "source": [
        "# **Business Problem**\n",
        "\n",
        "* Working as a data scientist with the analytics vertical of Scaler, focused on profiling the best companies and job positions to work for from the Scaler database.\n",
        "* You are provided with the information for a segment of learners and tasked to cluster them on the basis of their job profile, company, and other features. Ideally, these clusters should have similar characteristics\n"
      ],
      "metadata": {
        "id": "oM5JZ6QIrmXA"
      }
    },
    {
      "cell_type": "markdown",
      "source": [
        "# **Desired Outcome of Analysis**\n"
      ],
      "metadata": {
        "id": "EfL4CP_wUgGf"
      }
    },
    {
      "cell_type": "markdown",
      "source": [
        "* Define Problem Statement and perform Exploratory Data Analysis\n",
        "* Definition of problem (as per given problem statement with additional views)\n",
        "* Observations on shape of data, data types of all the attributes, conversion of categorical attributes to 'category' (If required) , missing value detection, statistical summary.\n",
        "* Univariate Analysis (distribution plots of all the continuous variable(s) barplots/countplots of all the categorical variables)\n",
        "* Bivariate Analysis (Relationships between important variables such as workday and count, season and count, weather and count.\n",
        "* Illustrate the insights based on EDA\n",
        "* Comments on range of attributes, outliers of various attributes\n",
        "* Comments on the distribution of the variables and relationship between them\n",
        "* Comments for each univariate and bivariate plots\n",
        "* Data Pre-processing:\n",
        "** Mean/ KNN Imputation\n",
        "** Regex for cleaning company names\n",
        "** Standardization & Encoding\n",
        "* Manual Clustering:\n",
        "** Creating Designation Flag & Insights\n",
        "** Creating Class Flag & Insights\n",
        "** Creating Tier Flag & Insights\n",
        "* Unsupervised learning:\n",
        "** Checking clustering tendency, Elbow method & K- means clustering\n",
        "** Hierarchical Clustering\n",
        "* Actionable Insights & Recommendations"
      ],
      "metadata": {
        "id": "9q9dvoY7E-Sd"
      }
    },
    {
      "cell_type": "markdown",
      "source": [
        "# **Loading Modules and Data**"
      ],
      "metadata": {
        "id": "T6FFrAcioP1L"
      }
    },
    {
      "cell_type": "code",
      "source": [
        "import warnings\n",
        "warnings.filterwarnings(\"ignore\")\n",
        "\n",
        "import numpy as np\n",
        "import pandas as pd\n",
        "import matplotlib.pyplot as plt\n",
        "import seaborn as sns\n",
        "\n",
        "import re\n",
        "\n",
        "from sklearn.impute import KNNImputer\n",
        "from sklearn.neighbors import KNeighborsClassifier\n",
        "from sklearn.preprocessing import LabelEncoder, OrdinalEncoder, OneHotEncoder, StandardScaler, MinMaxScaler\n",
        "from sklearn.cluster import KMeans\n",
        "import scipy.cluster.hierarchy as sch\n",
        "\n",
        "from sklearn.model_selection import train_test_split\n"
      ],
      "metadata": {
        "id": "pB0oB_j4ZnLB"
      },
      "execution_count": null,
      "outputs": []
    },
    {
      "cell_type": "code",
      "source": [
        "data = pd.read_csv(\"https://d2beiqkhq929f0.cloudfront.net/public_assets/assets/000/002/856/original/scaler_clustering.csv\")"
      ],
      "metadata": {
        "id": "_CervoTuZ4Ts"
      },
      "execution_count": null,
      "outputs": []
    },
    {
      "cell_type": "markdown",
      "source": [
        "## Data Dictionary\n",
        "\n",
        "1. Unnamed 0: The index of the dataset.\n",
        "2. Email_hash: An anonymized identifier representing the email of the learner.\n",
        "3. Company_hash: An anonymized identifier indicating the current employer of the\n",
        "learner.\n",
        "4. orgyear: Represents the year the learner began employment at the current\n",
        "company.\n",
        "5. CTC: Current Compensation to the Company (CTC) of the learner.\n",
        "6. Job_position: Represents the job profile or role of the learner within their\n",
        "company.\n",
        "7. CTC_updated_year: The year in which the learner's CTC was most recently\n",
        "updated. This could be due to yearly increments, promotions, or other factors."
      ],
      "metadata": {
        "id": "y_OIbc7zZNrX"
      }
    },
    {
      "cell_type": "code",
      "source": [
        "data.shape"
      ],
      "metadata": {
        "id": "ABLS8tMb97sX",
        "outputId": "0e6f503f-db94-429b-efb6-e002c529b91e",
        "colab": {
          "base_uri": "https://localhost:8080/"
        }
      },
      "execution_count": null,
      "outputs": [
        {
          "output_type": "execute_result",
          "data": {
            "text/plain": [
              "(205843, 7)"
            ]
          },
          "metadata": {},
          "execution_count": 3
        }
      ]
    },
    {
      "cell_type": "code",
      "source": [
        "data.head(10)"
      ],
      "metadata": {
        "id": "z9PJqibhZ_SR",
        "outputId": "ca666d9c-52f1-4f26-b375-f7cc5e4c35d8",
        "colab": {
          "base_uri": "https://localhost:8080/",
          "height": 591
        }
      },
      "execution_count": null,
      "outputs": [
        {
          "output_type": "execute_result",
          "data": {
            "text/plain": [
              "   Unnamed: 0                         company_hash  \\\n",
              "0           0                       atrgxnnt xzaxv   \n",
              "1           1            qtrxvzwt xzegwgbb rxbxnta   \n",
              "2           2                        ojzwnvwnxw vx   \n",
              "3           3                            ngpgutaxv   \n",
              "4           4                           qxen sqghu   \n",
              "5           5  yvuuxrj hzbvqqxta bvqptnxzs ucn rna   \n",
              "6           6                   lubgqsvz wyvot  wg   \n",
              "7           7                 vwwtznhqt ntwyzgrgsj   \n",
              "8           8                   utqoxontzn ojontbo   \n",
              "9           9                                xrbhd   \n",
              "\n",
              "                                          email_hash  orgyear      ctc  \\\n",
              "0  6de0a4417d18ab14334c3f43397fc13b30c35149d70c05...   2016.0  1100000   \n",
              "1  b0aaf1ac138b53cb6e039ba2c3d6604a250d02d5145c10...   2018.0   449999   \n",
              "2  4860c670bcd48fb96c02a4b0ae3608ae6fdd98176112e9...   2015.0  2000000   \n",
              "3  effdede7a2e7c2af664c8a31d9346385016128d66bbc58...   2017.0   700000   \n",
              "4  6ff54e709262f55cb999a1c1db8436cb2055d8f79ab520...   2017.0  1400000   \n",
              "5  18f2c4aa2ac9dd3ae8ff74f32d30413f5165565b90d8f2...   2018.0   700000   \n",
              "6  9bf128ae3f4ea26c7a38b9cdc58cf2acbb8592100c4128...   2018.0  1500000   \n",
              "7  756d35a7f6bb8ffeaffc8fcca9ddbb78e7450fa0de2be0...   2019.0   400000   \n",
              "8  e245da546bf50eba09cb7c9976926bd56557d1ac9a17fb...   2020.0   450000   \n",
              "9  b2dc928f4c22a9860b4a427efb8ab761e1ce0015fba1a5...   2019.0   360000   \n",
              "\n",
              "         job_position  ctc_updated_year  \n",
              "0               Other            2020.0  \n",
              "1  FullStack Engineer            2019.0  \n",
              "2    Backend Engineer            2020.0  \n",
              "3    Backend Engineer            2019.0  \n",
              "4  FullStack Engineer            2019.0  \n",
              "5  FullStack Engineer            2020.0  \n",
              "6  FullStack Engineer            2019.0  \n",
              "7    Backend Engineer            2019.0  \n",
              "8                 NaN            2019.0  \n",
              "9                 NaN            2019.0  "
            ],
            "text/html": [
              "\n",
              "  <div id=\"df-bd977d98-43ce-4b8e-a9b4-4adc5af9c1e7\" class=\"colab-df-container\">\n",
              "    <div>\n",
              "<style scoped>\n",
              "    .dataframe tbody tr th:only-of-type {\n",
              "        vertical-align: middle;\n",
              "    }\n",
              "\n",
              "    .dataframe tbody tr th {\n",
              "        vertical-align: top;\n",
              "    }\n",
              "\n",
              "    .dataframe thead th {\n",
              "        text-align: right;\n",
              "    }\n",
              "</style>\n",
              "<table border=\"1\" class=\"dataframe\">\n",
              "  <thead>\n",
              "    <tr style=\"text-align: right;\">\n",
              "      <th></th>\n",
              "      <th>Unnamed: 0</th>\n",
              "      <th>company_hash</th>\n",
              "      <th>email_hash</th>\n",
              "      <th>orgyear</th>\n",
              "      <th>ctc</th>\n",
              "      <th>job_position</th>\n",
              "      <th>ctc_updated_year</th>\n",
              "    </tr>\n",
              "  </thead>\n",
              "  <tbody>\n",
              "    <tr>\n",
              "      <th>0</th>\n",
              "      <td>0</td>\n",
              "      <td>atrgxnnt xzaxv</td>\n",
              "      <td>6de0a4417d18ab14334c3f43397fc13b30c35149d70c05...</td>\n",
              "      <td>2016.0</td>\n",
              "      <td>1100000</td>\n",
              "      <td>Other</td>\n",
              "      <td>2020.0</td>\n",
              "    </tr>\n",
              "    <tr>\n",
              "      <th>1</th>\n",
              "      <td>1</td>\n",
              "      <td>qtrxvzwt xzegwgbb rxbxnta</td>\n",
              "      <td>b0aaf1ac138b53cb6e039ba2c3d6604a250d02d5145c10...</td>\n",
              "      <td>2018.0</td>\n",
              "      <td>449999</td>\n",
              "      <td>FullStack Engineer</td>\n",
              "      <td>2019.0</td>\n",
              "    </tr>\n",
              "    <tr>\n",
              "      <th>2</th>\n",
              "      <td>2</td>\n",
              "      <td>ojzwnvwnxw vx</td>\n",
              "      <td>4860c670bcd48fb96c02a4b0ae3608ae6fdd98176112e9...</td>\n",
              "      <td>2015.0</td>\n",
              "      <td>2000000</td>\n",
              "      <td>Backend Engineer</td>\n",
              "      <td>2020.0</td>\n",
              "    </tr>\n",
              "    <tr>\n",
              "      <th>3</th>\n",
              "      <td>3</td>\n",
              "      <td>ngpgutaxv</td>\n",
              "      <td>effdede7a2e7c2af664c8a31d9346385016128d66bbc58...</td>\n",
              "      <td>2017.0</td>\n",
              "      <td>700000</td>\n",
              "      <td>Backend Engineer</td>\n",
              "      <td>2019.0</td>\n",
              "    </tr>\n",
              "    <tr>\n",
              "      <th>4</th>\n",
              "      <td>4</td>\n",
              "      <td>qxen sqghu</td>\n",
              "      <td>6ff54e709262f55cb999a1c1db8436cb2055d8f79ab520...</td>\n",
              "      <td>2017.0</td>\n",
              "      <td>1400000</td>\n",
              "      <td>FullStack Engineer</td>\n",
              "      <td>2019.0</td>\n",
              "    </tr>\n",
              "    <tr>\n",
              "      <th>5</th>\n",
              "      <td>5</td>\n",
              "      <td>yvuuxrj hzbvqqxta bvqptnxzs ucn rna</td>\n",
              "      <td>18f2c4aa2ac9dd3ae8ff74f32d30413f5165565b90d8f2...</td>\n",
              "      <td>2018.0</td>\n",
              "      <td>700000</td>\n",
              "      <td>FullStack Engineer</td>\n",
              "      <td>2020.0</td>\n",
              "    </tr>\n",
              "    <tr>\n",
              "      <th>6</th>\n",
              "      <td>6</td>\n",
              "      <td>lubgqsvz wyvot  wg</td>\n",
              "      <td>9bf128ae3f4ea26c7a38b9cdc58cf2acbb8592100c4128...</td>\n",
              "      <td>2018.0</td>\n",
              "      <td>1500000</td>\n",
              "      <td>FullStack Engineer</td>\n",
              "      <td>2019.0</td>\n",
              "    </tr>\n",
              "    <tr>\n",
              "      <th>7</th>\n",
              "      <td>7</td>\n",
              "      <td>vwwtznhqt ntwyzgrgsj</td>\n",
              "      <td>756d35a7f6bb8ffeaffc8fcca9ddbb78e7450fa0de2be0...</td>\n",
              "      <td>2019.0</td>\n",
              "      <td>400000</td>\n",
              "      <td>Backend Engineer</td>\n",
              "      <td>2019.0</td>\n",
              "    </tr>\n",
              "    <tr>\n",
              "      <th>8</th>\n",
              "      <td>8</td>\n",
              "      <td>utqoxontzn ojontbo</td>\n",
              "      <td>e245da546bf50eba09cb7c9976926bd56557d1ac9a17fb...</td>\n",
              "      <td>2020.0</td>\n",
              "      <td>450000</td>\n",
              "      <td>NaN</td>\n",
              "      <td>2019.0</td>\n",
              "    </tr>\n",
              "    <tr>\n",
              "      <th>9</th>\n",
              "      <td>9</td>\n",
              "      <td>xrbhd</td>\n",
              "      <td>b2dc928f4c22a9860b4a427efb8ab761e1ce0015fba1a5...</td>\n",
              "      <td>2019.0</td>\n",
              "      <td>360000</td>\n",
              "      <td>NaN</td>\n",
              "      <td>2019.0</td>\n",
              "    </tr>\n",
              "  </tbody>\n",
              "</table>\n",
              "</div>\n",
              "    <div class=\"colab-df-buttons\">\n",
              "\n",
              "  <div class=\"colab-df-container\">\n",
              "    <button class=\"colab-df-convert\" onclick=\"convertToInteractive('df-bd977d98-43ce-4b8e-a9b4-4adc5af9c1e7')\"\n",
              "            title=\"Convert this dataframe to an interactive table.\"\n",
              "            style=\"display:none;\">\n",
              "\n",
              "  <svg xmlns=\"http://www.w3.org/2000/svg\" height=\"24px\" viewBox=\"0 -960 960 960\">\n",
              "    <path d=\"M120-120v-720h720v720H120Zm60-500h600v-160H180v160Zm220 220h160v-160H400v160Zm0 220h160v-160H400v160ZM180-400h160v-160H180v160Zm440 0h160v-160H620v160ZM180-180h160v-160H180v160Zm440 0h160v-160H620v160Z\"/>\n",
              "  </svg>\n",
              "    </button>\n",
              "\n",
              "  <style>\n",
              "    .colab-df-container {\n",
              "      display:flex;\n",
              "      gap: 12px;\n",
              "    }\n",
              "\n",
              "    .colab-df-convert {\n",
              "      background-color: #E8F0FE;\n",
              "      border: none;\n",
              "      border-radius: 50%;\n",
              "      cursor: pointer;\n",
              "      display: none;\n",
              "      fill: #1967D2;\n",
              "      height: 32px;\n",
              "      padding: 0 0 0 0;\n",
              "      width: 32px;\n",
              "    }\n",
              "\n",
              "    .colab-df-convert:hover {\n",
              "      background-color: #E2EBFA;\n",
              "      box-shadow: 0px 1px 2px rgba(60, 64, 67, 0.3), 0px 1px 3px 1px rgba(60, 64, 67, 0.15);\n",
              "      fill: #174EA6;\n",
              "    }\n",
              "\n",
              "    .colab-df-buttons div {\n",
              "      margin-bottom: 4px;\n",
              "    }\n",
              "\n",
              "    [theme=dark] .colab-df-convert {\n",
              "      background-color: #3B4455;\n",
              "      fill: #D2E3FC;\n",
              "    }\n",
              "\n",
              "    [theme=dark] .colab-df-convert:hover {\n",
              "      background-color: #434B5C;\n",
              "      box-shadow: 0px 1px 3px 1px rgba(0, 0, 0, 0.15);\n",
              "      filter: drop-shadow(0px 1px 2px rgba(0, 0, 0, 0.3));\n",
              "      fill: #FFFFFF;\n",
              "    }\n",
              "  </style>\n",
              "\n",
              "    <script>\n",
              "      const buttonEl =\n",
              "        document.querySelector('#df-bd977d98-43ce-4b8e-a9b4-4adc5af9c1e7 button.colab-df-convert');\n",
              "      buttonEl.style.display =\n",
              "        google.colab.kernel.accessAllowed ? 'block' : 'none';\n",
              "\n",
              "      async function convertToInteractive(key) {\n",
              "        const element = document.querySelector('#df-bd977d98-43ce-4b8e-a9b4-4adc5af9c1e7');\n",
              "        const dataTable =\n",
              "          await google.colab.kernel.invokeFunction('convertToInteractive',\n",
              "                                                    [key], {});\n",
              "        if (!dataTable) return;\n",
              "\n",
              "        const docLinkHtml = 'Like what you see? Visit the ' +\n",
              "          '<a target=\"_blank\" href=https://colab.research.google.com/notebooks/data_table.ipynb>data table notebook</a>'\n",
              "          + ' to learn more about interactive tables.';\n",
              "        element.innerHTML = '';\n",
              "        dataTable['output_type'] = 'display_data';\n",
              "        await google.colab.output.renderOutput(dataTable, element);\n",
              "        const docLink = document.createElement('div');\n",
              "        docLink.innerHTML = docLinkHtml;\n",
              "        element.appendChild(docLink);\n",
              "      }\n",
              "    </script>\n",
              "  </div>\n",
              "\n",
              "\n",
              "<div id=\"df-302e9b35-7830-4712-82ec-47ea19d410f6\">\n",
              "  <button class=\"colab-df-quickchart\" onclick=\"quickchart('df-302e9b35-7830-4712-82ec-47ea19d410f6')\"\n",
              "            title=\"Suggest charts\"\n",
              "            style=\"display:none;\">\n",
              "\n",
              "<svg xmlns=\"http://www.w3.org/2000/svg\" height=\"24px\"viewBox=\"0 0 24 24\"\n",
              "     width=\"24px\">\n",
              "    <g>\n",
              "        <path d=\"M19 3H5c-1.1 0-2 .9-2 2v14c0 1.1.9 2 2 2h14c1.1 0 2-.9 2-2V5c0-1.1-.9-2-2-2zM9 17H7v-7h2v7zm4 0h-2V7h2v10zm4 0h-2v-4h2v4z\"/>\n",
              "    </g>\n",
              "</svg>\n",
              "  </button>\n",
              "\n",
              "<style>\n",
              "  .colab-df-quickchart {\n",
              "      --bg-color: #E8F0FE;\n",
              "      --fill-color: #1967D2;\n",
              "      --hover-bg-color: #E2EBFA;\n",
              "      --hover-fill-color: #174EA6;\n",
              "      --disabled-fill-color: #AAA;\n",
              "      --disabled-bg-color: #DDD;\n",
              "  }\n",
              "\n",
              "  [theme=dark] .colab-df-quickchart {\n",
              "      --bg-color: #3B4455;\n",
              "      --fill-color: #D2E3FC;\n",
              "      --hover-bg-color: #434B5C;\n",
              "      --hover-fill-color: #FFFFFF;\n",
              "      --disabled-bg-color: #3B4455;\n",
              "      --disabled-fill-color: #666;\n",
              "  }\n",
              "\n",
              "  .colab-df-quickchart {\n",
              "    background-color: var(--bg-color);\n",
              "    border: none;\n",
              "    border-radius: 50%;\n",
              "    cursor: pointer;\n",
              "    display: none;\n",
              "    fill: var(--fill-color);\n",
              "    height: 32px;\n",
              "    padding: 0;\n",
              "    width: 32px;\n",
              "  }\n",
              "\n",
              "  .colab-df-quickchart:hover {\n",
              "    background-color: var(--hover-bg-color);\n",
              "    box-shadow: 0 1px 2px rgba(60, 64, 67, 0.3), 0 1px 3px 1px rgba(60, 64, 67, 0.15);\n",
              "    fill: var(--button-hover-fill-color);\n",
              "  }\n",
              "\n",
              "  .colab-df-quickchart-complete:disabled,\n",
              "  .colab-df-quickchart-complete:disabled:hover {\n",
              "    background-color: var(--disabled-bg-color);\n",
              "    fill: var(--disabled-fill-color);\n",
              "    box-shadow: none;\n",
              "  }\n",
              "\n",
              "  .colab-df-spinner {\n",
              "    border: 2px solid var(--fill-color);\n",
              "    border-color: transparent;\n",
              "    border-bottom-color: var(--fill-color);\n",
              "    animation:\n",
              "      spin 1s steps(1) infinite;\n",
              "  }\n",
              "\n",
              "  @keyframes spin {\n",
              "    0% {\n",
              "      border-color: transparent;\n",
              "      border-bottom-color: var(--fill-color);\n",
              "      border-left-color: var(--fill-color);\n",
              "    }\n",
              "    20% {\n",
              "      border-color: transparent;\n",
              "      border-left-color: var(--fill-color);\n",
              "      border-top-color: var(--fill-color);\n",
              "    }\n",
              "    30% {\n",
              "      border-color: transparent;\n",
              "      border-left-color: var(--fill-color);\n",
              "      border-top-color: var(--fill-color);\n",
              "      border-right-color: var(--fill-color);\n",
              "    }\n",
              "    40% {\n",
              "      border-color: transparent;\n",
              "      border-right-color: var(--fill-color);\n",
              "      border-top-color: var(--fill-color);\n",
              "    }\n",
              "    60% {\n",
              "      border-color: transparent;\n",
              "      border-right-color: var(--fill-color);\n",
              "    }\n",
              "    80% {\n",
              "      border-color: transparent;\n",
              "      border-right-color: var(--fill-color);\n",
              "      border-bottom-color: var(--fill-color);\n",
              "    }\n",
              "    90% {\n",
              "      border-color: transparent;\n",
              "      border-bottom-color: var(--fill-color);\n",
              "    }\n",
              "  }\n",
              "</style>\n",
              "\n",
              "  <script>\n",
              "    async function quickchart(key) {\n",
              "      const quickchartButtonEl =\n",
              "        document.querySelector('#' + key + ' button');\n",
              "      quickchartButtonEl.disabled = true;  // To prevent multiple clicks.\n",
              "      quickchartButtonEl.classList.add('colab-df-spinner');\n",
              "      try {\n",
              "        const charts = await google.colab.kernel.invokeFunction(\n",
              "            'suggestCharts', [key], {});\n",
              "      } catch (error) {\n",
              "        console.error('Error during call to suggestCharts:', error);\n",
              "      }\n",
              "      quickchartButtonEl.classList.remove('colab-df-spinner');\n",
              "      quickchartButtonEl.classList.add('colab-df-quickchart-complete');\n",
              "    }\n",
              "    (() => {\n",
              "      let quickchartButtonEl =\n",
              "        document.querySelector('#df-302e9b35-7830-4712-82ec-47ea19d410f6 button');\n",
              "      quickchartButtonEl.style.display =\n",
              "        google.colab.kernel.accessAllowed ? 'block' : 'none';\n",
              "    })();\n",
              "  </script>\n",
              "</div>\n",
              "\n",
              "    </div>\n",
              "  </div>\n"
            ],
            "application/vnd.google.colaboratory.intrinsic+json": {
              "type": "dataframe",
              "variable_name": "data"
            }
          },
          "metadata": {},
          "execution_count": 4
        }
      ]
    },
    {
      "cell_type": "code",
      "source": [
        "data.nunique()"
      ],
      "metadata": {
        "colab": {
          "base_uri": "https://localhost:8080/"
        },
        "id": "yZtNVTiHOvFw",
        "outputId": "ee7cc173-5b06-4e9f-9773-ffde5df73d87"
      },
      "execution_count": null,
      "outputs": [
        {
          "output_type": "execute_result",
          "data": {
            "text/plain": [
              "Unnamed: 0          205843\n",
              "company_hash         37299\n",
              "email_hash          153443\n",
              "orgyear                 77\n",
              "ctc                   3360\n",
              "job_position          1016\n",
              "ctc_updated_year         7\n",
              "dtype: int64"
            ]
          },
          "metadata": {},
          "execution_count": 5
        }
      ]
    },
    {
      "cell_type": "code",
      "source": [
        "data.info()"
      ],
      "metadata": {
        "id": "H1PHAcnNe-5y",
        "outputId": "1bd5526e-961b-4838-901f-10f9bd7f813c",
        "colab": {
          "base_uri": "https://localhost:8080/"
        }
      },
      "execution_count": null,
      "outputs": [
        {
          "output_type": "stream",
          "name": "stdout",
          "text": [
            "<class 'pandas.core.frame.DataFrame'>\n",
            "RangeIndex: 205843 entries, 0 to 205842\n",
            "Data columns (total 7 columns):\n",
            " #   Column            Non-Null Count   Dtype  \n",
            "---  ------            --------------   -----  \n",
            " 0   Unnamed: 0        205843 non-null  int64  \n",
            " 1   company_hash      205799 non-null  object \n",
            " 2   email_hash        205843 non-null  object \n",
            " 3   orgyear           205757 non-null  float64\n",
            " 4   ctc               205843 non-null  int64  \n",
            " 5   job_position      153279 non-null  object \n",
            " 6   ctc_updated_year  205843 non-null  float64\n",
            "dtypes: float64(2), int64(2), object(3)\n",
            "memory usage: 11.0+ MB\n"
          ]
        }
      ]
    },
    {
      "cell_type": "markdown",
      "source": [
        "* There are 205843 Records of Data\n",
        "* email_hash refers to each individual Learner--> 153443 Individual Details\n",
        "* company_hash refers to Each Individual Compnay --> there are 37299 Companies\n",
        "* 1017 Different job_position avaiable"
      ],
      "metadata": {
        "id": "gVBXseQFPM3K"
      }
    },
    {
      "cell_type": "code",
      "source": [
        "data[data.email_hash == data.email_hash[11]]"
      ],
      "metadata": {
        "colab": {
          "base_uri": "https://localhost:8080/",
          "height": 180
        },
        "id": "BkzdjmBFPW6i",
        "outputId": "5ef6c8ba-96cb-4f76-e83a-bc51005c69e1"
      },
      "execution_count": null,
      "outputs": [
        {
          "output_type": "execute_result",
          "data": {
            "text/plain": [
              "        Unnamed: 0 company_hash  \\\n",
              "11              11   ngdor ntwy   \n",
              "19283        19295   ngdor ntwy   \n",
              "144109      144648   ngdor ntwy   \n",
              "\n",
              "                                               email_hash  orgyear     ctc  \\\n",
              "11      72c2171a022115d475c8faac306912a4c95f6dd7fdd320...   2016.0  600000   \n",
              "19283   72c2171a022115d475c8faac306912a4c95f6dd7fdd320...   2016.0  600000   \n",
              "144109  72c2171a022115d475c8faac306912a4c95f6dd7fdd320...   2016.0  330000   \n",
              "\n",
              "        job_position  ctc_updated_year  \n",
              "11      iOS Engineer            2021.0  \n",
              "19283            NaN            2021.0  \n",
              "144109  iOS Engineer            2019.0  "
            ],
            "text/html": [
              "\n",
              "  <div id=\"df-a14eaf28-c3b3-4270-90e0-1cf2163df2f2\" class=\"colab-df-container\">\n",
              "    <div>\n",
              "<style scoped>\n",
              "    .dataframe tbody tr th:only-of-type {\n",
              "        vertical-align: middle;\n",
              "    }\n",
              "\n",
              "    .dataframe tbody tr th {\n",
              "        vertical-align: top;\n",
              "    }\n",
              "\n",
              "    .dataframe thead th {\n",
              "        text-align: right;\n",
              "    }\n",
              "</style>\n",
              "<table border=\"1\" class=\"dataframe\">\n",
              "  <thead>\n",
              "    <tr style=\"text-align: right;\">\n",
              "      <th></th>\n",
              "      <th>Unnamed: 0</th>\n",
              "      <th>company_hash</th>\n",
              "      <th>email_hash</th>\n",
              "      <th>orgyear</th>\n",
              "      <th>ctc</th>\n",
              "      <th>job_position</th>\n",
              "      <th>ctc_updated_year</th>\n",
              "    </tr>\n",
              "  </thead>\n",
              "  <tbody>\n",
              "    <tr>\n",
              "      <th>11</th>\n",
              "      <td>11</td>\n",
              "      <td>ngdor ntwy</td>\n",
              "      <td>72c2171a022115d475c8faac306912a4c95f6dd7fdd320...</td>\n",
              "      <td>2016.0</td>\n",
              "      <td>600000</td>\n",
              "      <td>iOS Engineer</td>\n",
              "      <td>2021.0</td>\n",
              "    </tr>\n",
              "    <tr>\n",
              "      <th>19283</th>\n",
              "      <td>19295</td>\n",
              "      <td>ngdor ntwy</td>\n",
              "      <td>72c2171a022115d475c8faac306912a4c95f6dd7fdd320...</td>\n",
              "      <td>2016.0</td>\n",
              "      <td>600000</td>\n",
              "      <td>NaN</td>\n",
              "      <td>2021.0</td>\n",
              "    </tr>\n",
              "    <tr>\n",
              "      <th>144109</th>\n",
              "      <td>144648</td>\n",
              "      <td>ngdor ntwy</td>\n",
              "      <td>72c2171a022115d475c8faac306912a4c95f6dd7fdd320...</td>\n",
              "      <td>2016.0</td>\n",
              "      <td>330000</td>\n",
              "      <td>iOS Engineer</td>\n",
              "      <td>2019.0</td>\n",
              "    </tr>\n",
              "  </tbody>\n",
              "</table>\n",
              "</div>\n",
              "    <div class=\"colab-df-buttons\">\n",
              "\n",
              "  <div class=\"colab-df-container\">\n",
              "    <button class=\"colab-df-convert\" onclick=\"convertToInteractive('df-a14eaf28-c3b3-4270-90e0-1cf2163df2f2')\"\n",
              "            title=\"Convert this dataframe to an interactive table.\"\n",
              "            style=\"display:none;\">\n",
              "\n",
              "  <svg xmlns=\"http://www.w3.org/2000/svg\" height=\"24px\" viewBox=\"0 -960 960 960\">\n",
              "    <path d=\"M120-120v-720h720v720H120Zm60-500h600v-160H180v160Zm220 220h160v-160H400v160Zm0 220h160v-160H400v160ZM180-400h160v-160H180v160Zm440 0h160v-160H620v160ZM180-180h160v-160H180v160Zm440 0h160v-160H620v160Z\"/>\n",
              "  </svg>\n",
              "    </button>\n",
              "\n",
              "  <style>\n",
              "    .colab-df-container {\n",
              "      display:flex;\n",
              "      gap: 12px;\n",
              "    }\n",
              "\n",
              "    .colab-df-convert {\n",
              "      background-color: #E8F0FE;\n",
              "      border: none;\n",
              "      border-radius: 50%;\n",
              "      cursor: pointer;\n",
              "      display: none;\n",
              "      fill: #1967D2;\n",
              "      height: 32px;\n",
              "      padding: 0 0 0 0;\n",
              "      width: 32px;\n",
              "    }\n",
              "\n",
              "    .colab-df-convert:hover {\n",
              "      background-color: #E2EBFA;\n",
              "      box-shadow: 0px 1px 2px rgba(60, 64, 67, 0.3), 0px 1px 3px 1px rgba(60, 64, 67, 0.15);\n",
              "      fill: #174EA6;\n",
              "    }\n",
              "\n",
              "    .colab-df-buttons div {\n",
              "      margin-bottom: 4px;\n",
              "    }\n",
              "\n",
              "    [theme=dark] .colab-df-convert {\n",
              "      background-color: #3B4455;\n",
              "      fill: #D2E3FC;\n",
              "    }\n",
              "\n",
              "    [theme=dark] .colab-df-convert:hover {\n",
              "      background-color: #434B5C;\n",
              "      box-shadow: 0px 1px 3px 1px rgba(0, 0, 0, 0.15);\n",
              "      filter: drop-shadow(0px 1px 2px rgba(0, 0, 0, 0.3));\n",
              "      fill: #FFFFFF;\n",
              "    }\n",
              "  </style>\n",
              "\n",
              "    <script>\n",
              "      const buttonEl =\n",
              "        document.querySelector('#df-a14eaf28-c3b3-4270-90e0-1cf2163df2f2 button.colab-df-convert');\n",
              "      buttonEl.style.display =\n",
              "        google.colab.kernel.accessAllowed ? 'block' : 'none';\n",
              "\n",
              "      async function convertToInteractive(key) {\n",
              "        const element = document.querySelector('#df-a14eaf28-c3b3-4270-90e0-1cf2163df2f2');\n",
              "        const dataTable =\n",
              "          await google.colab.kernel.invokeFunction('convertToInteractive',\n",
              "                                                    [key], {});\n",
              "        if (!dataTable) return;\n",
              "\n",
              "        const docLinkHtml = 'Like what you see? Visit the ' +\n",
              "          '<a target=\"_blank\" href=https://colab.research.google.com/notebooks/data_table.ipynb>data table notebook</a>'\n",
              "          + ' to learn more about interactive tables.';\n",
              "        element.innerHTML = '';\n",
              "        dataTable['output_type'] = 'display_data';\n",
              "        await google.colab.output.renderOutput(dataTable, element);\n",
              "        const docLink = document.createElement('div');\n",
              "        docLink.innerHTML = docLinkHtml;\n",
              "        element.appendChild(docLink);\n",
              "      }\n",
              "    </script>\n",
              "  </div>\n",
              "\n",
              "\n",
              "<div id=\"df-d51091e7-7845-4102-8cd0-eebf45c85f17\">\n",
              "  <button class=\"colab-df-quickchart\" onclick=\"quickchart('df-d51091e7-7845-4102-8cd0-eebf45c85f17')\"\n",
              "            title=\"Suggest charts\"\n",
              "            style=\"display:none;\">\n",
              "\n",
              "<svg xmlns=\"http://www.w3.org/2000/svg\" height=\"24px\"viewBox=\"0 0 24 24\"\n",
              "     width=\"24px\">\n",
              "    <g>\n",
              "        <path d=\"M19 3H5c-1.1 0-2 .9-2 2v14c0 1.1.9 2 2 2h14c1.1 0 2-.9 2-2V5c0-1.1-.9-2-2-2zM9 17H7v-7h2v7zm4 0h-2V7h2v10zm4 0h-2v-4h2v4z\"/>\n",
              "    </g>\n",
              "</svg>\n",
              "  </button>\n",
              "\n",
              "<style>\n",
              "  .colab-df-quickchart {\n",
              "      --bg-color: #E8F0FE;\n",
              "      --fill-color: #1967D2;\n",
              "      --hover-bg-color: #E2EBFA;\n",
              "      --hover-fill-color: #174EA6;\n",
              "      --disabled-fill-color: #AAA;\n",
              "      --disabled-bg-color: #DDD;\n",
              "  }\n",
              "\n",
              "  [theme=dark] .colab-df-quickchart {\n",
              "      --bg-color: #3B4455;\n",
              "      --fill-color: #D2E3FC;\n",
              "      --hover-bg-color: #434B5C;\n",
              "      --hover-fill-color: #FFFFFF;\n",
              "      --disabled-bg-color: #3B4455;\n",
              "      --disabled-fill-color: #666;\n",
              "  }\n",
              "\n",
              "  .colab-df-quickchart {\n",
              "    background-color: var(--bg-color);\n",
              "    border: none;\n",
              "    border-radius: 50%;\n",
              "    cursor: pointer;\n",
              "    display: none;\n",
              "    fill: var(--fill-color);\n",
              "    height: 32px;\n",
              "    padding: 0;\n",
              "    width: 32px;\n",
              "  }\n",
              "\n",
              "  .colab-df-quickchart:hover {\n",
              "    background-color: var(--hover-bg-color);\n",
              "    box-shadow: 0 1px 2px rgba(60, 64, 67, 0.3), 0 1px 3px 1px rgba(60, 64, 67, 0.15);\n",
              "    fill: var(--button-hover-fill-color);\n",
              "  }\n",
              "\n",
              "  .colab-df-quickchart-complete:disabled,\n",
              "  .colab-df-quickchart-complete:disabled:hover {\n",
              "    background-color: var(--disabled-bg-color);\n",
              "    fill: var(--disabled-fill-color);\n",
              "    box-shadow: none;\n",
              "  }\n",
              "\n",
              "  .colab-df-spinner {\n",
              "    border: 2px solid var(--fill-color);\n",
              "    border-color: transparent;\n",
              "    border-bottom-color: var(--fill-color);\n",
              "    animation:\n",
              "      spin 1s steps(1) infinite;\n",
              "  }\n",
              "\n",
              "  @keyframes spin {\n",
              "    0% {\n",
              "      border-color: transparent;\n",
              "      border-bottom-color: var(--fill-color);\n",
              "      border-left-color: var(--fill-color);\n",
              "    }\n",
              "    20% {\n",
              "      border-color: transparent;\n",
              "      border-left-color: var(--fill-color);\n",
              "      border-top-color: var(--fill-color);\n",
              "    }\n",
              "    30% {\n",
              "      border-color: transparent;\n",
              "      border-left-color: var(--fill-color);\n",
              "      border-top-color: var(--fill-color);\n",
              "      border-right-color: var(--fill-color);\n",
              "    }\n",
              "    40% {\n",
              "      border-color: transparent;\n",
              "      border-right-color: var(--fill-color);\n",
              "      border-top-color: var(--fill-color);\n",
              "    }\n",
              "    60% {\n",
              "      border-color: transparent;\n",
              "      border-right-color: var(--fill-color);\n",
              "    }\n",
              "    80% {\n",
              "      border-color: transparent;\n",
              "      border-right-color: var(--fill-color);\n",
              "      border-bottom-color: var(--fill-color);\n",
              "    }\n",
              "    90% {\n",
              "      border-color: transparent;\n",
              "      border-bottom-color: var(--fill-color);\n",
              "    }\n",
              "  }\n",
              "</style>\n",
              "\n",
              "  <script>\n",
              "    async function quickchart(key) {\n",
              "      const quickchartButtonEl =\n",
              "        document.querySelector('#' + key + ' button');\n",
              "      quickchartButtonEl.disabled = true;  // To prevent multiple clicks.\n",
              "      quickchartButtonEl.classList.add('colab-df-spinner');\n",
              "      try {\n",
              "        const charts = await google.colab.kernel.invokeFunction(\n",
              "            'suggestCharts', [key], {});\n",
              "      } catch (error) {\n",
              "        console.error('Error during call to suggestCharts:', error);\n",
              "      }\n",
              "      quickchartButtonEl.classList.remove('colab-df-spinner');\n",
              "      quickchartButtonEl.classList.add('colab-df-quickchart-complete');\n",
              "    }\n",
              "    (() => {\n",
              "      let quickchartButtonEl =\n",
              "        document.querySelector('#df-d51091e7-7845-4102-8cd0-eebf45c85f17 button');\n",
              "      quickchartButtonEl.style.display =\n",
              "        google.colab.kernel.accessAllowed ? 'block' : 'none';\n",
              "    })();\n",
              "  </script>\n",
              "</div>\n",
              "\n",
              "    </div>\n",
              "  </div>\n"
            ],
            "application/vnd.google.colaboratory.intrinsic+json": {
              "type": "dataframe",
              "summary": "{\n  \"name\": \"data[data\",\n  \"rows\": 3,\n  \"fields\": [\n    {\n      \"column\": \"Unnamed: 0\",\n      \"properties\": {\n        \"dtype\": \"number\",\n        \"std\": 78533,\n        \"min\": 11,\n        \"max\": 144648,\n        \"num_unique_values\": 3,\n        \"samples\": [\n          11,\n          19295,\n          144648\n        ],\n        \"semantic_type\": \"\",\n        \"description\": \"\"\n      }\n    },\n    {\n      \"column\": \"company_hash\",\n      \"properties\": {\n        \"dtype\": \"category\",\n        \"num_unique_values\": 1,\n        \"samples\": [\n          \"ngdor ntwy\"\n        ],\n        \"semantic_type\": \"\",\n        \"description\": \"\"\n      }\n    },\n    {\n      \"column\": \"email_hash\",\n      \"properties\": {\n        \"dtype\": \"category\",\n        \"num_unique_values\": 1,\n        \"samples\": [\n          \"72c2171a022115d475c8faac306912a4c95f6dd7fdd320df09a5e9160d2a8385\"\n        ],\n        \"semantic_type\": \"\",\n        \"description\": \"\"\n      }\n    },\n    {\n      \"column\": \"orgyear\",\n      \"properties\": {\n        \"dtype\": \"number\",\n        \"std\": 0.0,\n        \"min\": 2016.0,\n        \"max\": 2016.0,\n        \"num_unique_values\": 1,\n        \"samples\": [\n          2016.0\n        ],\n        \"semantic_type\": \"\",\n        \"description\": \"\"\n      }\n    },\n    {\n      \"column\": \"ctc\",\n      \"properties\": {\n        \"dtype\": \"number\",\n        \"std\": 155884,\n        \"min\": 330000,\n        \"max\": 600000,\n        \"num_unique_values\": 2,\n        \"samples\": [\n          330000\n        ],\n        \"semantic_type\": \"\",\n        \"description\": \"\"\n      }\n    },\n    {\n      \"column\": \"job_position\",\n      \"properties\": {\n        \"dtype\": \"category\",\n        \"num_unique_values\": 1,\n        \"samples\": [\n          \"iOS Engineer\"\n        ],\n        \"semantic_type\": \"\",\n        \"description\": \"\"\n      }\n    },\n    {\n      \"column\": \"ctc_updated_year\",\n      \"properties\": {\n        \"dtype\": \"number\",\n        \"std\": 1.1547005383792515,\n        \"min\": 2019.0,\n        \"max\": 2021.0,\n        \"num_unique_values\": 2,\n        \"samples\": [\n          2019.0\n        ],\n        \"semantic_type\": \"\",\n        \"description\": \"\"\n      }\n    }\n  ]\n}"
            }
          },
          "metadata": {},
          "execution_count": 7
        }
      ]
    },
    {
      "cell_type": "markdown",
      "source": [
        "* Same learner has multiple rows...we will merge all the Rows after extracting information frmom individual rows"
      ],
      "metadata": {
        "id": "_pypyKlISnDg"
      }
    },
    {
      "cell_type": "markdown",
      "source": [
        "# **Data Overview & Cleaning**"
      ],
      "metadata": {
        "id": "WEqma3Z7Rtn4"
      }
    },
    {
      "cell_type": "markdown",
      "source": [
        "## Dropping Irrelevant columns"
      ],
      "metadata": {
        "id": "xyXb2WPJgN-H"
      }
    },
    {
      "cell_type": "code",
      "source": [
        "data.columns"
      ],
      "metadata": {
        "colab": {
          "base_uri": "https://localhost:8080/"
        },
        "id": "mvLSaBx6Q0vg",
        "outputId": "65bf1c31-5448-4863-d2b8-8c549836f403"
      },
      "execution_count": null,
      "outputs": [
        {
          "output_type": "execute_result",
          "data": {
            "text/plain": [
              "Index(['Unnamed: 0', 'company_hash', 'email_hash', 'orgyear', 'ctc',\n",
              "       'job_position', 'ctc_updated_year'],\n",
              "      dtype='object')"
            ]
          },
          "metadata": {},
          "execution_count": 8
        }
      ]
    },
    {
      "cell_type": "markdown",
      "source": [
        "* \"Unnamed\" 0\"  Feature is just an index , so No value as a\n",
        "feature\n",
        "* Similarily \"email_hash\" is just a unique Identifier of employee...not needed for clustering\n",
        "* So we will drop these 2 feature"
      ],
      "metadata": {
        "id": "c8kZsawe_dHY"
      }
    },
    {
      "cell_type": "code",
      "source": [
        "data.drop([\"Unnamed: 0\",\"email_hash\"], axis = 1, inplace = True)"
      ],
      "metadata": {
        "id": "rcYGq8ivTyVB"
      },
      "execution_count": null,
      "outputs": []
    },
    {
      "cell_type": "code",
      "source": [
        "data.shape"
      ],
      "metadata": {
        "colab": {
          "base_uri": "https://localhost:8080/"
        },
        "id": "4jpQoD8NUMw5",
        "outputId": "19258f2b-9b8c-47f9-fbe5-10749511206c"
      },
      "execution_count": null,
      "outputs": [
        {
          "output_type": "execute_result",
          "data": {
            "text/plain": [
              "(205843, 5)"
            ]
          },
          "metadata": {},
          "execution_count": 10
        }
      ]
    },
    {
      "cell_type": "markdown",
      "source": [
        "## Duplicate Values & Their Treatment"
      ],
      "metadata": {
        "id": "IgZt_QzLj5cu"
      }
    },
    {
      "cell_type": "code",
      "source": [
        "data.loc[data.duplicated()]"
      ],
      "metadata": {
        "colab": {
          "base_uri": "https://localhost:8080/"
        },
        "id": "io73C3myj5Ot",
        "outputId": "26f8a6ea-5b80-4cdb-9510-18aaef61991b"
      },
      "execution_count": null,
      "outputs": [
        {
          "output_type": "execute_result",
          "data": {
            "text/plain": [
              "                     company_hash  orgyear      ctc job_position  \\\n",
              "584                 fxuqg rxbxnta   2019.0   350000          NaN   \n",
              "796     nvnv wgzohrnvzwj otqcxwto   2019.0   340000          NaN   \n",
              "882                     wgszxkvzn   2020.0   350000          NaN   \n",
              "899     nvnv wgzohrnvzwj otqcxwto   2020.0   700000          NaN   \n",
              "1040    nvnv wgzohrnvzwj otqcxwto   2020.0   340000          NaN   \n",
              "...                           ...      ...      ...          ...   \n",
              "205800             zgn vuurxwvmrt   2021.0   350000          NaN   \n",
              "205822              zggz uqgahwno   2013.0  2300000          NaN   \n",
              "205829                       yomw   2019.0   700000          NaN   \n",
              "205830             zgn vuurxwvmrt   2019.0   700000          NaN   \n",
              "205837             zgn vuurxwvmrt   2021.0   800000          NaN   \n",
              "\n",
              "        ctc_updated_year  \n",
              "584               2020.0  \n",
              "796               2020.0  \n",
              "882               2020.0  \n",
              "899               2020.0  \n",
              "1040              2020.0  \n",
              "...                  ...  \n",
              "205800            2021.0  \n",
              "205822            2020.0  \n",
              "205829            2019.0  \n",
              "205830            2019.0  \n",
              "205837            2021.0  \n",
              "\n",
              "[17471 rows x 5 columns]"
            ],
            "text/html": [
              "\n",
              "  <div id=\"df-0d81f1c1-05aa-4f12-8ec4-8a0b35e85c36\" class=\"colab-df-container\">\n",
              "    <div>\n",
              "<style scoped>\n",
              "    .dataframe tbody tr th:only-of-type {\n",
              "        vertical-align: middle;\n",
              "    }\n",
              "\n",
              "    .dataframe tbody tr th {\n",
              "        vertical-align: top;\n",
              "    }\n",
              "\n",
              "    .dataframe thead th {\n",
              "        text-align: right;\n",
              "    }\n",
              "</style>\n",
              "<table border=\"1\" class=\"dataframe\">\n",
              "  <thead>\n",
              "    <tr style=\"text-align: right;\">\n",
              "      <th></th>\n",
              "      <th>company_hash</th>\n",
              "      <th>orgyear</th>\n",
              "      <th>ctc</th>\n",
              "      <th>job_position</th>\n",
              "      <th>ctc_updated_year</th>\n",
              "    </tr>\n",
              "  </thead>\n",
              "  <tbody>\n",
              "    <tr>\n",
              "      <th>584</th>\n",
              "      <td>fxuqg rxbxnta</td>\n",
              "      <td>2019.0</td>\n",
              "      <td>350000</td>\n",
              "      <td>NaN</td>\n",
              "      <td>2020.0</td>\n",
              "    </tr>\n",
              "    <tr>\n",
              "      <th>796</th>\n",
              "      <td>nvnv wgzohrnvzwj otqcxwto</td>\n",
              "      <td>2019.0</td>\n",
              "      <td>340000</td>\n",
              "      <td>NaN</td>\n",
              "      <td>2020.0</td>\n",
              "    </tr>\n",
              "    <tr>\n",
              "      <th>882</th>\n",
              "      <td>wgszxkvzn</td>\n",
              "      <td>2020.0</td>\n",
              "      <td>350000</td>\n",
              "      <td>NaN</td>\n",
              "      <td>2020.0</td>\n",
              "    </tr>\n",
              "    <tr>\n",
              "      <th>899</th>\n",
              "      <td>nvnv wgzohrnvzwj otqcxwto</td>\n",
              "      <td>2020.0</td>\n",
              "      <td>700000</td>\n",
              "      <td>NaN</td>\n",
              "      <td>2020.0</td>\n",
              "    </tr>\n",
              "    <tr>\n",
              "      <th>1040</th>\n",
              "      <td>nvnv wgzohrnvzwj otqcxwto</td>\n",
              "      <td>2020.0</td>\n",
              "      <td>340000</td>\n",
              "      <td>NaN</td>\n",
              "      <td>2020.0</td>\n",
              "    </tr>\n",
              "    <tr>\n",
              "      <th>...</th>\n",
              "      <td>...</td>\n",
              "      <td>...</td>\n",
              "      <td>...</td>\n",
              "      <td>...</td>\n",
              "      <td>...</td>\n",
              "    </tr>\n",
              "    <tr>\n",
              "      <th>205800</th>\n",
              "      <td>zgn vuurxwvmrt</td>\n",
              "      <td>2021.0</td>\n",
              "      <td>350000</td>\n",
              "      <td>NaN</td>\n",
              "      <td>2021.0</td>\n",
              "    </tr>\n",
              "    <tr>\n",
              "      <th>205822</th>\n",
              "      <td>zggz uqgahwno</td>\n",
              "      <td>2013.0</td>\n",
              "      <td>2300000</td>\n",
              "      <td>NaN</td>\n",
              "      <td>2020.0</td>\n",
              "    </tr>\n",
              "    <tr>\n",
              "      <th>205829</th>\n",
              "      <td>yomw</td>\n",
              "      <td>2019.0</td>\n",
              "      <td>700000</td>\n",
              "      <td>NaN</td>\n",
              "      <td>2019.0</td>\n",
              "    </tr>\n",
              "    <tr>\n",
              "      <th>205830</th>\n",
              "      <td>zgn vuurxwvmrt</td>\n",
              "      <td>2019.0</td>\n",
              "      <td>700000</td>\n",
              "      <td>NaN</td>\n",
              "      <td>2019.0</td>\n",
              "    </tr>\n",
              "    <tr>\n",
              "      <th>205837</th>\n",
              "      <td>zgn vuurxwvmrt</td>\n",
              "      <td>2021.0</td>\n",
              "      <td>800000</td>\n",
              "      <td>NaN</td>\n",
              "      <td>2021.0</td>\n",
              "    </tr>\n",
              "  </tbody>\n",
              "</table>\n",
              "<p>17471 rows × 5 columns</p>\n",
              "</div>\n",
              "    <div class=\"colab-df-buttons\">\n",
              "\n",
              "  <div class=\"colab-df-container\">\n",
              "    <button class=\"colab-df-convert\" onclick=\"convertToInteractive('df-0d81f1c1-05aa-4f12-8ec4-8a0b35e85c36')\"\n",
              "            title=\"Convert this dataframe to an interactive table.\"\n",
              "            style=\"display:none;\">\n",
              "\n",
              "  <svg xmlns=\"http://www.w3.org/2000/svg\" height=\"24px\" viewBox=\"0 -960 960 960\">\n",
              "    <path d=\"M120-120v-720h720v720H120Zm60-500h600v-160H180v160Zm220 220h160v-160H400v160Zm0 220h160v-160H400v160ZM180-400h160v-160H180v160Zm440 0h160v-160H620v160ZM180-180h160v-160H180v160Zm440 0h160v-160H620v160Z\"/>\n",
              "  </svg>\n",
              "    </button>\n",
              "\n",
              "  <style>\n",
              "    .colab-df-container {\n",
              "      display:flex;\n",
              "      gap: 12px;\n",
              "    }\n",
              "\n",
              "    .colab-df-convert {\n",
              "      background-color: #E8F0FE;\n",
              "      border: none;\n",
              "      border-radius: 50%;\n",
              "      cursor: pointer;\n",
              "      display: none;\n",
              "      fill: #1967D2;\n",
              "      height: 32px;\n",
              "      padding: 0 0 0 0;\n",
              "      width: 32px;\n",
              "    }\n",
              "\n",
              "    .colab-df-convert:hover {\n",
              "      background-color: #E2EBFA;\n",
              "      box-shadow: 0px 1px 2px rgba(60, 64, 67, 0.3), 0px 1px 3px 1px rgba(60, 64, 67, 0.15);\n",
              "      fill: #174EA6;\n",
              "    }\n",
              "\n",
              "    .colab-df-buttons div {\n",
              "      margin-bottom: 4px;\n",
              "    }\n",
              "\n",
              "    [theme=dark] .colab-df-convert {\n",
              "      background-color: #3B4455;\n",
              "      fill: #D2E3FC;\n",
              "    }\n",
              "\n",
              "    [theme=dark] .colab-df-convert:hover {\n",
              "      background-color: #434B5C;\n",
              "      box-shadow: 0px 1px 3px 1px rgba(0, 0, 0, 0.15);\n",
              "      filter: drop-shadow(0px 1px 2px rgba(0, 0, 0, 0.3));\n",
              "      fill: #FFFFFF;\n",
              "    }\n",
              "  </style>\n",
              "\n",
              "    <script>\n",
              "      const buttonEl =\n",
              "        document.querySelector('#df-0d81f1c1-05aa-4f12-8ec4-8a0b35e85c36 button.colab-df-convert');\n",
              "      buttonEl.style.display =\n",
              "        google.colab.kernel.accessAllowed ? 'block' : 'none';\n",
              "\n",
              "      async function convertToInteractive(key) {\n",
              "        const element = document.querySelector('#df-0d81f1c1-05aa-4f12-8ec4-8a0b35e85c36');\n",
              "        const dataTable =\n",
              "          await google.colab.kernel.invokeFunction('convertToInteractive',\n",
              "                                                    [key], {});\n",
              "        if (!dataTable) return;\n",
              "\n",
              "        const docLinkHtml = 'Like what you see? Visit the ' +\n",
              "          '<a target=\"_blank\" href=https://colab.research.google.com/notebooks/data_table.ipynb>data table notebook</a>'\n",
              "          + ' to learn more about interactive tables.';\n",
              "        element.innerHTML = '';\n",
              "        dataTable['output_type'] = 'display_data';\n",
              "        await google.colab.output.renderOutput(dataTable, element);\n",
              "        const docLink = document.createElement('div');\n",
              "        docLink.innerHTML = docLinkHtml;\n",
              "        element.appendChild(docLink);\n",
              "      }\n",
              "    </script>\n",
              "  </div>\n",
              "\n",
              "\n",
              "<div id=\"df-f2daa18d-22cd-4976-a2dd-369bea80677b\">\n",
              "  <button class=\"colab-df-quickchart\" onclick=\"quickchart('df-f2daa18d-22cd-4976-a2dd-369bea80677b')\"\n",
              "            title=\"Suggest charts\"\n",
              "            style=\"display:none;\">\n",
              "\n",
              "<svg xmlns=\"http://www.w3.org/2000/svg\" height=\"24px\"viewBox=\"0 0 24 24\"\n",
              "     width=\"24px\">\n",
              "    <g>\n",
              "        <path d=\"M19 3H5c-1.1 0-2 .9-2 2v14c0 1.1.9 2 2 2h14c1.1 0 2-.9 2-2V5c0-1.1-.9-2-2-2zM9 17H7v-7h2v7zm4 0h-2V7h2v10zm4 0h-2v-4h2v4z\"/>\n",
              "    </g>\n",
              "</svg>\n",
              "  </button>\n",
              "\n",
              "<style>\n",
              "  .colab-df-quickchart {\n",
              "      --bg-color: #E8F0FE;\n",
              "      --fill-color: #1967D2;\n",
              "      --hover-bg-color: #E2EBFA;\n",
              "      --hover-fill-color: #174EA6;\n",
              "      --disabled-fill-color: #AAA;\n",
              "      --disabled-bg-color: #DDD;\n",
              "  }\n",
              "\n",
              "  [theme=dark] .colab-df-quickchart {\n",
              "      --bg-color: #3B4455;\n",
              "      --fill-color: #D2E3FC;\n",
              "      --hover-bg-color: #434B5C;\n",
              "      --hover-fill-color: #FFFFFF;\n",
              "      --disabled-bg-color: #3B4455;\n",
              "      --disabled-fill-color: #666;\n",
              "  }\n",
              "\n",
              "  .colab-df-quickchart {\n",
              "    background-color: var(--bg-color);\n",
              "    border: none;\n",
              "    border-radius: 50%;\n",
              "    cursor: pointer;\n",
              "    display: none;\n",
              "    fill: var(--fill-color);\n",
              "    height: 32px;\n",
              "    padding: 0;\n",
              "    width: 32px;\n",
              "  }\n",
              "\n",
              "  .colab-df-quickchart:hover {\n",
              "    background-color: var(--hover-bg-color);\n",
              "    box-shadow: 0 1px 2px rgba(60, 64, 67, 0.3), 0 1px 3px 1px rgba(60, 64, 67, 0.15);\n",
              "    fill: var(--button-hover-fill-color);\n",
              "  }\n",
              "\n",
              "  .colab-df-quickchart-complete:disabled,\n",
              "  .colab-df-quickchart-complete:disabled:hover {\n",
              "    background-color: var(--disabled-bg-color);\n",
              "    fill: var(--disabled-fill-color);\n",
              "    box-shadow: none;\n",
              "  }\n",
              "\n",
              "  .colab-df-spinner {\n",
              "    border: 2px solid var(--fill-color);\n",
              "    border-color: transparent;\n",
              "    border-bottom-color: var(--fill-color);\n",
              "    animation:\n",
              "      spin 1s steps(1) infinite;\n",
              "  }\n",
              "\n",
              "  @keyframes spin {\n",
              "    0% {\n",
              "      border-color: transparent;\n",
              "      border-bottom-color: var(--fill-color);\n",
              "      border-left-color: var(--fill-color);\n",
              "    }\n",
              "    20% {\n",
              "      border-color: transparent;\n",
              "      border-left-color: var(--fill-color);\n",
              "      border-top-color: var(--fill-color);\n",
              "    }\n",
              "    30% {\n",
              "      border-color: transparent;\n",
              "      border-left-color: var(--fill-color);\n",
              "      border-top-color: var(--fill-color);\n",
              "      border-right-color: var(--fill-color);\n",
              "    }\n",
              "    40% {\n",
              "      border-color: transparent;\n",
              "      border-right-color: var(--fill-color);\n",
              "      border-top-color: var(--fill-color);\n",
              "    }\n",
              "    60% {\n",
              "      border-color: transparent;\n",
              "      border-right-color: var(--fill-color);\n",
              "    }\n",
              "    80% {\n",
              "      border-color: transparent;\n",
              "      border-right-color: var(--fill-color);\n",
              "      border-bottom-color: var(--fill-color);\n",
              "    }\n",
              "    90% {\n",
              "      border-color: transparent;\n",
              "      border-bottom-color: var(--fill-color);\n",
              "    }\n",
              "  }\n",
              "</style>\n",
              "\n",
              "  <script>\n",
              "    async function quickchart(key) {\n",
              "      const quickchartButtonEl =\n",
              "        document.querySelector('#' + key + ' button');\n",
              "      quickchartButtonEl.disabled = true;  // To prevent multiple clicks.\n",
              "      quickchartButtonEl.classList.add('colab-df-spinner');\n",
              "      try {\n",
              "        const charts = await google.colab.kernel.invokeFunction(\n",
              "            'suggestCharts', [key], {});\n",
              "      } catch (error) {\n",
              "        console.error('Error during call to suggestCharts:', error);\n",
              "      }\n",
              "      quickchartButtonEl.classList.remove('colab-df-spinner');\n",
              "      quickchartButtonEl.classList.add('colab-df-quickchart-complete');\n",
              "    }\n",
              "    (() => {\n",
              "      let quickchartButtonEl =\n",
              "        document.querySelector('#df-f2daa18d-22cd-4976-a2dd-369bea80677b button');\n",
              "      quickchartButtonEl.style.display =\n",
              "        google.colab.kernel.accessAllowed ? 'block' : 'none';\n",
              "    })();\n",
              "  </script>\n",
              "</div>\n",
              "\n",
              "    </div>\n",
              "  </div>\n"
            ],
            "application/vnd.google.colaboratory.intrinsic+json": {
              "type": "dataframe",
              "summary": "{\n  \"name\": \"data\",\n  \"rows\": 17471,\n  \"fields\": [\n    {\n      \"column\": \"company_hash\",\n      \"properties\": {\n        \"dtype\": \"category\",\n        \"num_unique_values\": 767,\n        \"samples\": [\n          \"whongbtqoexqon zgf rrw\",\n          \"xzaxvbvqn xzntqbtoy rna\",\n          \"wqtaxn ovxogz\"\n        ],\n        \"semantic_type\": \"\",\n        \"description\": \"\"\n      }\n    },\n    {\n      \"column\": \"orgyear\",\n      \"properties\": {\n        \"dtype\": \"number\",\n        \"std\": 2.3721922677575025,\n        \"min\": 1999.0,\n        \"max\": 2025.0,\n        \"num_unique_values\": 26,\n        \"samples\": [\n          2011.0,\n          2000.0,\n          2019.0\n        ],\n        \"semantic_type\": \"\",\n        \"description\": \"\"\n      }\n    },\n    {\n      \"column\": \"ctc\",\n      \"properties\": {\n        \"dtype\": \"number\",\n        \"std\": 5619930,\n        \"min\": 3300,\n        \"max\": 200000000,\n        \"num_unique_values\": 254,\n        \"samples\": [\n          1980000,\n          1400000,\n          1300000\n        ],\n        \"semantic_type\": \"\",\n        \"description\": \"\"\n      }\n    },\n    {\n      \"column\": \"job_position\",\n      \"properties\": {\n        \"dtype\": \"category\",\n        \"num_unique_values\": 31,\n        \"samples\": [\n          \"Engineer\",\n          \"Engineering Intern\",\n          \"Programmer Analyst\"\n        ],\n        \"semantic_type\": \"\",\n        \"description\": \"\"\n      }\n    },\n    {\n      \"column\": \"ctc_updated_year\",\n      \"properties\": {\n        \"dtype\": \"number\",\n        \"std\": 0.9444525658743689,\n        \"min\": 2015.0,\n        \"max\": 2021.0,\n        \"num_unique_values\": 7,\n        \"samples\": [\n          2020.0,\n          2021.0,\n          2017.0\n        ],\n        \"semantic_type\": \"\",\n        \"description\": \"\"\n      }\n    }\n  ]\n}"
            }
          },
          "metadata": {},
          "execution_count": 11
        }
      ]
    },
    {
      "cell_type": "markdown",
      "source": [
        "* Duplicate rows are present, lets drop them"
      ],
      "metadata": {
        "id": "NVx-haOl8bY_"
      }
    },
    {
      "cell_type": "code",
      "source": [
        "print(data.shape)\n",
        "print(data.drop_duplicates().shape)\n",
        "data.drop_duplicates(inplace=True)"
      ],
      "metadata": {
        "id": "sGdgh61c8W5k",
        "outputId": "1aa1515c-24c1-495d-bf58-78f1c58c71be",
        "colab": {
          "base_uri": "https://localhost:8080/"
        }
      },
      "execution_count": null,
      "outputs": [
        {
          "output_type": "stream",
          "name": "stdout",
          "text": [
            "(205843, 5)\n",
            "(188372, 5)\n"
          ]
        }
      ]
    },
    {
      "cell_type": "markdown",
      "source": [
        "## Data Cleaning"
      ],
      "metadata": {
        "id": "PnS9eHia5Wty"
      }
    },
    {
      "cell_type": "code",
      "source": [
        "import re\n",
        "def remove_special (string):\n",
        "    new_string=re.sub('[^A-Za-z ]+','', string)\n",
        "    return new_string"
      ],
      "metadata": {
        "id": "muEvI09s5hDa"
      },
      "execution_count": null,
      "outputs": []
    },
    {
      "cell_type": "code",
      "source": [
        "#what happens here\n",
        "mystring='\\tAirtel\\\\\\\\&&**()90 X Labs'\n",
        "re.sub('[^A-Za-z0-9 ]+', '', mystring)"
      ],
      "metadata": {
        "id": "x5P1kJJM5wpw",
        "outputId": "4fd43950-d48b-43b5-b3b4-73e67a310a18",
        "colab": {
          "base_uri": "https://localhost:8080/"
        }
      },
      "execution_count": null,
      "outputs": [
        {
          "output_type": "execute_result",
          "data": {
            "text/plain": [
              "'Airtel90 X Labs'"
            ],
            "application/vnd.google.colaboratory.intrinsic+json": {
              "type": "string"
            }
          },
          "metadata": {},
          "execution_count": 14
        }
      ]
    },
    {
      "cell_type": "code",
      "source": [
        "data.job_position=data.job_position.apply(lambda x: remove_special(str(x)))\n",
        "data.job_position=data.job_position.apply(lambda x: x.lower())\n",
        "data.job_position=data.job_position.apply(lambda x: x.strip())\n",
        "data.job_position"
      ],
      "metadata": {
        "id": "jufTeaYV5wdY",
        "outputId": "6d3fc8cd-59ab-46d5-8e8c-5385dfa2ca3e",
        "colab": {
          "base_uri": "https://localhost:8080/"
        }
      },
      "execution_count": null,
      "outputs": [
        {
          "output_type": "execute_result",
          "data": {
            "text/plain": [
              "0                      other\n",
              "1         fullstack engineer\n",
              "2           backend engineer\n",
              "3           backend engineer\n",
              "4         fullstack engineer\n",
              "                 ...        \n",
              "205838                   nan\n",
              "205839                   nan\n",
              "205840                   nan\n",
              "205841                   nan\n",
              "205842                   nan\n",
              "Name: job_position, Length: 188372, dtype: object"
            ]
          },
          "metadata": {},
          "execution_count": 15
        }
      ]
    },
    {
      "cell_type": "code",
      "source": [
        "data['company_hash'].value_counts().sort_index()"
      ],
      "metadata": {
        "colab": {
          "base_uri": "https://localhost:8080/"
        },
        "id": "-hpcx09Wn2lq",
        "outputId": "5b7a1e45-0912-436b-8e55-175a07440370"
      },
      "execution_count": null,
      "outputs": [
        {
          "output_type": "execute_result",
          "data": {
            "text/plain": [
              "company_hash\n",
              "0                                 2\n",
              "0000                              1\n",
              "01 ojztqsj                        2\n",
              "05mz exzytvrny uqxcvnt rxbxnta    2\n",
              "1                                 2\n",
              "                                 ..\n",
              "zyvzwt wgzohrnxzs tzsxzttqo       1\n",
              "zz                                2\n",
              "zzb ztdnstz vacxogqj ucn rna      2\n",
              "zzgato                            1\n",
              "zzzbzb                            1\n",
              "Name: count, Length: 37299, dtype: int64"
            ]
          },
          "metadata": {},
          "execution_count": 16
        }
      ]
    },
    {
      "cell_type": "code",
      "source": [
        "data.company_hash=data.company_hash.apply(lambda x: remove_special(str(x)))\n",
        "data.company_hash=data.company_hash.apply(lambda x: x.lower())\n",
        "data.company_hash=data.company_hash.apply(lambda x: x.strip())\n",
        "data.company_hash"
      ],
      "metadata": {
        "colab": {
          "base_uri": "https://localhost:8080/"
        },
        "id": "fsD35Zu7ntwy",
        "outputId": "7a00ae49-cd73-4be7-8a38-3d13c96ac8b4"
      },
      "execution_count": null,
      "outputs": [
        {
          "output_type": "execute_result",
          "data": {
            "text/plain": [
              "0                    atrgxnnt xzaxv\n",
              "1         qtrxvzwt xzegwgbb rxbxnta\n",
              "2                     ojzwnvwnxw vx\n",
              "3                         ngpgutaxv\n",
              "4                        qxen sqghu\n",
              "                    ...            \n",
              "205838                    vuurt xzw\n",
              "205839                    husqvawgb\n",
              "205840                     vwwgrxnt\n",
              "205841               zgn vuurxwvmrt\n",
              "205842               bgqsvz onvzrtj\n",
              "Name: company_hash, Length: 188372, dtype: object"
            ]
          },
          "metadata": {},
          "execution_count": 17
        }
      ]
    },
    {
      "cell_type": "code",
      "source": [
        "print(data.shape)\n",
        "print(data.drop_duplicates().shape)\n",
        "data.drop_duplicates(inplace=True)"
      ],
      "metadata": {
        "colab": {
          "base_uri": "https://localhost:8080/"
        },
        "id": "QgAVCc7zoUN0",
        "outputId": "55bff4ed-748b-4d44-f60a-d7de13441d86"
      },
      "execution_count": null,
      "outputs": [
        {
          "output_type": "stream",
          "name": "stdout",
          "text": [
            "(188372, 5)\n",
            "(188245, 5)\n"
          ]
        }
      ]
    },
    {
      "cell_type": "markdown",
      "source": [
        "## Missingvalues & Their Treatment"
      ],
      "metadata": {
        "id": "zQ3cq5UjgcGv"
      }
    },
    {
      "cell_type": "code",
      "source": [
        "#removing rows where company or job_position is not available\n",
        "data=data[ ~((data['company_hash']=='') | (data['job_position']==''))]"
      ],
      "metadata": {
        "id": "g6EfN7Wjo_AN"
      },
      "execution_count": null,
      "outputs": []
    },
    {
      "cell_type": "code",
      "source": [
        "data.isna().sum(axis = 0)"
      ],
      "metadata": {
        "id": "mw-CpD-4Z4ve",
        "colab": {
          "base_uri": "https://localhost:8080/"
        },
        "outputId": "d9623acf-411f-4a81-983d-175d055266e2"
      },
      "execution_count": null,
      "outputs": [
        {
          "output_type": "execute_result",
          "data": {
            "text/plain": [
              "company_hash         0\n",
              "orgyear             86\n",
              "ctc                  0\n",
              "job_position         0\n",
              "ctc_updated_year     0\n",
              "dtype: int64"
            ]
          },
          "metadata": {},
          "execution_count": 20
        }
      ]
    },
    {
      "cell_type": "markdown",
      "source": [
        "* we can impute missing values through KNN Imputation for \"orgyear\" but many columns are of Object type\n",
        "* So for the Sake of Problem we will use Median imputation"
      ],
      "metadata": {
        "id": "oKbeeK-E3vf4"
      }
    },
    {
      "cell_type": "code",
      "source": [
        "data.loc[data.orgyear.isna()][\"company_hash\"].value_counts()"
      ],
      "metadata": {
        "colab": {
          "base_uri": "https://localhost:8080/"
        },
        "id": "XVJOSVrQS_5G",
        "outputId": "965bfe45-5bcc-473c-be15-993d5e901bc9"
      },
      "execution_count": null,
      "outputs": [
        {
          "output_type": "execute_result",
          "data": {
            "text/plain": [
              "company_hash\n",
              "vbuygqv ogenfvqt uqxcvnt rxbxnta    2\n",
              "vwwtznhqt                           2\n",
              "nvnv wgzohrnvzwj otqcxwto           2\n",
              "husqvawgb                           2\n",
              "qvkgquvj                            1\n",
              "                                   ..\n",
              "nojo                                1\n",
              "xuvj ojontbo rna                    1\n",
              "srgmvr                              1\n",
              "x wgzohrnxzs                        1\n",
              "vhngsqxa                            1\n",
              "Name: count, Length: 82, dtype: int64"
            ]
          },
          "metadata": {},
          "execution_count": 21
        }
      ]
    },
    {
      "cell_type": "code",
      "source": [
        "data[data[\"company_hash\"]==\"vwwtznhqt\"]"
      ],
      "metadata": {
        "colab": {
          "base_uri": "https://localhost:8080/",
          "height": 423
        },
        "id": "StqS0y8ETV3y",
        "outputId": "44c2c675-eb9e-4c39-eafe-6d2078cb7430"
      },
      "execution_count": null,
      "outputs": [
        {
          "output_type": "execute_result",
          "data": {
            "text/plain": [
              "       company_hash  orgyear       ctc        job_position  ctc_updated_year\n",
              "460       vwwtznhqt   2016.0   1010000  fullstack engineer            2020.0\n",
              "477       vwwtznhqt   2012.0    350000    backend engineer            2020.0\n",
              "568       vwwtznhqt   2018.0    460000    backend engineer            2020.0\n",
              "582       vwwtznhqt   2017.0    570000               other            2020.0\n",
              "637       vwwtznhqt   2012.0  78000000   frontend engineer            2020.0\n",
              "...             ...      ...       ...                 ...               ...\n",
              "204831    vwwtznhqt   2009.0    820000                 nan            2018.0\n",
              "204974    vwwtznhqt   2011.0    900000        data analyst            2021.0\n",
              "205149    vwwtznhqt   2018.0   1010000    backend engineer            2021.0\n",
              "205261    vwwtznhqt   2020.0    390000   frontend engineer            2021.0\n",
              "205305    vwwtznhqt   2020.0    390000                 nan            2021.0\n",
              "\n",
              "[2124 rows x 5 columns]"
            ],
            "text/html": [
              "\n",
              "  <div id=\"df-344f36cf-acd7-4f06-b8bc-19d3efcde1e0\" class=\"colab-df-container\">\n",
              "    <div>\n",
              "<style scoped>\n",
              "    .dataframe tbody tr th:only-of-type {\n",
              "        vertical-align: middle;\n",
              "    }\n",
              "\n",
              "    .dataframe tbody tr th {\n",
              "        vertical-align: top;\n",
              "    }\n",
              "\n",
              "    .dataframe thead th {\n",
              "        text-align: right;\n",
              "    }\n",
              "</style>\n",
              "<table border=\"1\" class=\"dataframe\">\n",
              "  <thead>\n",
              "    <tr style=\"text-align: right;\">\n",
              "      <th></th>\n",
              "      <th>company_hash</th>\n",
              "      <th>orgyear</th>\n",
              "      <th>ctc</th>\n",
              "      <th>job_position</th>\n",
              "      <th>ctc_updated_year</th>\n",
              "    </tr>\n",
              "  </thead>\n",
              "  <tbody>\n",
              "    <tr>\n",
              "      <th>460</th>\n",
              "      <td>vwwtznhqt</td>\n",
              "      <td>2016.0</td>\n",
              "      <td>1010000</td>\n",
              "      <td>fullstack engineer</td>\n",
              "      <td>2020.0</td>\n",
              "    </tr>\n",
              "    <tr>\n",
              "      <th>477</th>\n",
              "      <td>vwwtznhqt</td>\n",
              "      <td>2012.0</td>\n",
              "      <td>350000</td>\n",
              "      <td>backend engineer</td>\n",
              "      <td>2020.0</td>\n",
              "    </tr>\n",
              "    <tr>\n",
              "      <th>568</th>\n",
              "      <td>vwwtznhqt</td>\n",
              "      <td>2018.0</td>\n",
              "      <td>460000</td>\n",
              "      <td>backend engineer</td>\n",
              "      <td>2020.0</td>\n",
              "    </tr>\n",
              "    <tr>\n",
              "      <th>582</th>\n",
              "      <td>vwwtznhqt</td>\n",
              "      <td>2017.0</td>\n",
              "      <td>570000</td>\n",
              "      <td>other</td>\n",
              "      <td>2020.0</td>\n",
              "    </tr>\n",
              "    <tr>\n",
              "      <th>637</th>\n",
              "      <td>vwwtznhqt</td>\n",
              "      <td>2012.0</td>\n",
              "      <td>78000000</td>\n",
              "      <td>frontend engineer</td>\n",
              "      <td>2020.0</td>\n",
              "    </tr>\n",
              "    <tr>\n",
              "      <th>...</th>\n",
              "      <td>...</td>\n",
              "      <td>...</td>\n",
              "      <td>...</td>\n",
              "      <td>...</td>\n",
              "      <td>...</td>\n",
              "    </tr>\n",
              "    <tr>\n",
              "      <th>204831</th>\n",
              "      <td>vwwtznhqt</td>\n",
              "      <td>2009.0</td>\n",
              "      <td>820000</td>\n",
              "      <td>nan</td>\n",
              "      <td>2018.0</td>\n",
              "    </tr>\n",
              "    <tr>\n",
              "      <th>204974</th>\n",
              "      <td>vwwtznhqt</td>\n",
              "      <td>2011.0</td>\n",
              "      <td>900000</td>\n",
              "      <td>data analyst</td>\n",
              "      <td>2021.0</td>\n",
              "    </tr>\n",
              "    <tr>\n",
              "      <th>205149</th>\n",
              "      <td>vwwtznhqt</td>\n",
              "      <td>2018.0</td>\n",
              "      <td>1010000</td>\n",
              "      <td>backend engineer</td>\n",
              "      <td>2021.0</td>\n",
              "    </tr>\n",
              "    <tr>\n",
              "      <th>205261</th>\n",
              "      <td>vwwtznhqt</td>\n",
              "      <td>2020.0</td>\n",
              "      <td>390000</td>\n",
              "      <td>frontend engineer</td>\n",
              "      <td>2021.0</td>\n",
              "    </tr>\n",
              "    <tr>\n",
              "      <th>205305</th>\n",
              "      <td>vwwtznhqt</td>\n",
              "      <td>2020.0</td>\n",
              "      <td>390000</td>\n",
              "      <td>nan</td>\n",
              "      <td>2021.0</td>\n",
              "    </tr>\n",
              "  </tbody>\n",
              "</table>\n",
              "<p>2124 rows × 5 columns</p>\n",
              "</div>\n",
              "    <div class=\"colab-df-buttons\">\n",
              "\n",
              "  <div class=\"colab-df-container\">\n",
              "    <button class=\"colab-df-convert\" onclick=\"convertToInteractive('df-344f36cf-acd7-4f06-b8bc-19d3efcde1e0')\"\n",
              "            title=\"Convert this dataframe to an interactive table.\"\n",
              "            style=\"display:none;\">\n",
              "\n",
              "  <svg xmlns=\"http://www.w3.org/2000/svg\" height=\"24px\" viewBox=\"0 -960 960 960\">\n",
              "    <path d=\"M120-120v-720h720v720H120Zm60-500h600v-160H180v160Zm220 220h160v-160H400v160Zm0 220h160v-160H400v160ZM180-400h160v-160H180v160Zm440 0h160v-160H620v160ZM180-180h160v-160H180v160Zm440 0h160v-160H620v160Z\"/>\n",
              "  </svg>\n",
              "    </button>\n",
              "\n",
              "  <style>\n",
              "    .colab-df-container {\n",
              "      display:flex;\n",
              "      gap: 12px;\n",
              "    }\n",
              "\n",
              "    .colab-df-convert {\n",
              "      background-color: #E8F0FE;\n",
              "      border: none;\n",
              "      border-radius: 50%;\n",
              "      cursor: pointer;\n",
              "      display: none;\n",
              "      fill: #1967D2;\n",
              "      height: 32px;\n",
              "      padding: 0 0 0 0;\n",
              "      width: 32px;\n",
              "    }\n",
              "\n",
              "    .colab-df-convert:hover {\n",
              "      background-color: #E2EBFA;\n",
              "      box-shadow: 0px 1px 2px rgba(60, 64, 67, 0.3), 0px 1px 3px 1px rgba(60, 64, 67, 0.15);\n",
              "      fill: #174EA6;\n",
              "    }\n",
              "\n",
              "    .colab-df-buttons div {\n",
              "      margin-bottom: 4px;\n",
              "    }\n",
              "\n",
              "    [theme=dark] .colab-df-convert {\n",
              "      background-color: #3B4455;\n",
              "      fill: #D2E3FC;\n",
              "    }\n",
              "\n",
              "    [theme=dark] .colab-df-convert:hover {\n",
              "      background-color: #434B5C;\n",
              "      box-shadow: 0px 1px 3px 1px rgba(0, 0, 0, 0.15);\n",
              "      filter: drop-shadow(0px 1px 2px rgba(0, 0, 0, 0.3));\n",
              "      fill: #FFFFFF;\n",
              "    }\n",
              "  </style>\n",
              "\n",
              "    <script>\n",
              "      const buttonEl =\n",
              "        document.querySelector('#df-344f36cf-acd7-4f06-b8bc-19d3efcde1e0 button.colab-df-convert');\n",
              "      buttonEl.style.display =\n",
              "        google.colab.kernel.accessAllowed ? 'block' : 'none';\n",
              "\n",
              "      async function convertToInteractive(key) {\n",
              "        const element = document.querySelector('#df-344f36cf-acd7-4f06-b8bc-19d3efcde1e0');\n",
              "        const dataTable =\n",
              "          await google.colab.kernel.invokeFunction('convertToInteractive',\n",
              "                                                    [key], {});\n",
              "        if (!dataTable) return;\n",
              "\n",
              "        const docLinkHtml = 'Like what you see? Visit the ' +\n",
              "          '<a target=\"_blank\" href=https://colab.research.google.com/notebooks/data_table.ipynb>data table notebook</a>'\n",
              "          + ' to learn more about interactive tables.';\n",
              "        element.innerHTML = '';\n",
              "        dataTable['output_type'] = 'display_data';\n",
              "        await google.colab.output.renderOutput(dataTable, element);\n",
              "        const docLink = document.createElement('div');\n",
              "        docLink.innerHTML = docLinkHtml;\n",
              "        element.appendChild(docLink);\n",
              "      }\n",
              "    </script>\n",
              "  </div>\n",
              "\n",
              "\n",
              "<div id=\"df-7d3a96dc-0997-42f3-a9ad-6b381edfa4b3\">\n",
              "  <button class=\"colab-df-quickchart\" onclick=\"quickchart('df-7d3a96dc-0997-42f3-a9ad-6b381edfa4b3')\"\n",
              "            title=\"Suggest charts\"\n",
              "            style=\"display:none;\">\n",
              "\n",
              "<svg xmlns=\"http://www.w3.org/2000/svg\" height=\"24px\"viewBox=\"0 0 24 24\"\n",
              "     width=\"24px\">\n",
              "    <g>\n",
              "        <path d=\"M19 3H5c-1.1 0-2 .9-2 2v14c0 1.1.9 2 2 2h14c1.1 0 2-.9 2-2V5c0-1.1-.9-2-2-2zM9 17H7v-7h2v7zm4 0h-2V7h2v10zm4 0h-2v-4h2v4z\"/>\n",
              "    </g>\n",
              "</svg>\n",
              "  </button>\n",
              "\n",
              "<style>\n",
              "  .colab-df-quickchart {\n",
              "      --bg-color: #E8F0FE;\n",
              "      --fill-color: #1967D2;\n",
              "      --hover-bg-color: #E2EBFA;\n",
              "      --hover-fill-color: #174EA6;\n",
              "      --disabled-fill-color: #AAA;\n",
              "      --disabled-bg-color: #DDD;\n",
              "  }\n",
              "\n",
              "  [theme=dark] .colab-df-quickchart {\n",
              "      --bg-color: #3B4455;\n",
              "      --fill-color: #D2E3FC;\n",
              "      --hover-bg-color: #434B5C;\n",
              "      --hover-fill-color: #FFFFFF;\n",
              "      --disabled-bg-color: #3B4455;\n",
              "      --disabled-fill-color: #666;\n",
              "  }\n",
              "\n",
              "  .colab-df-quickchart {\n",
              "    background-color: var(--bg-color);\n",
              "    border: none;\n",
              "    border-radius: 50%;\n",
              "    cursor: pointer;\n",
              "    display: none;\n",
              "    fill: var(--fill-color);\n",
              "    height: 32px;\n",
              "    padding: 0;\n",
              "    width: 32px;\n",
              "  }\n",
              "\n",
              "  .colab-df-quickchart:hover {\n",
              "    background-color: var(--hover-bg-color);\n",
              "    box-shadow: 0 1px 2px rgba(60, 64, 67, 0.3), 0 1px 3px 1px rgba(60, 64, 67, 0.15);\n",
              "    fill: var(--button-hover-fill-color);\n",
              "  }\n",
              "\n",
              "  .colab-df-quickchart-complete:disabled,\n",
              "  .colab-df-quickchart-complete:disabled:hover {\n",
              "    background-color: var(--disabled-bg-color);\n",
              "    fill: var(--disabled-fill-color);\n",
              "    box-shadow: none;\n",
              "  }\n",
              "\n",
              "  .colab-df-spinner {\n",
              "    border: 2px solid var(--fill-color);\n",
              "    border-color: transparent;\n",
              "    border-bottom-color: var(--fill-color);\n",
              "    animation:\n",
              "      spin 1s steps(1) infinite;\n",
              "  }\n",
              "\n",
              "  @keyframes spin {\n",
              "    0% {\n",
              "      border-color: transparent;\n",
              "      border-bottom-color: var(--fill-color);\n",
              "      border-left-color: var(--fill-color);\n",
              "    }\n",
              "    20% {\n",
              "      border-color: transparent;\n",
              "      border-left-color: var(--fill-color);\n",
              "      border-top-color: var(--fill-color);\n",
              "    }\n",
              "    30% {\n",
              "      border-color: transparent;\n",
              "      border-left-color: var(--fill-color);\n",
              "      border-top-color: var(--fill-color);\n",
              "      border-right-color: var(--fill-color);\n",
              "    }\n",
              "    40% {\n",
              "      border-color: transparent;\n",
              "      border-right-color: var(--fill-color);\n",
              "      border-top-color: var(--fill-color);\n",
              "    }\n",
              "    60% {\n",
              "      border-color: transparent;\n",
              "      border-right-color: var(--fill-color);\n",
              "    }\n",
              "    80% {\n",
              "      border-color: transparent;\n",
              "      border-right-color: var(--fill-color);\n",
              "      border-bottom-color: var(--fill-color);\n",
              "    }\n",
              "    90% {\n",
              "      border-color: transparent;\n",
              "      border-bottom-color: var(--fill-color);\n",
              "    }\n",
              "  }\n",
              "</style>\n",
              "\n",
              "  <script>\n",
              "    async function quickchart(key) {\n",
              "      const quickchartButtonEl =\n",
              "        document.querySelector('#' + key + ' button');\n",
              "      quickchartButtonEl.disabled = true;  // To prevent multiple clicks.\n",
              "      quickchartButtonEl.classList.add('colab-df-spinner');\n",
              "      try {\n",
              "        const charts = await google.colab.kernel.invokeFunction(\n",
              "            'suggestCharts', [key], {});\n",
              "      } catch (error) {\n",
              "        console.error('Error during call to suggestCharts:', error);\n",
              "      }\n",
              "      quickchartButtonEl.classList.remove('colab-df-spinner');\n",
              "      quickchartButtonEl.classList.add('colab-df-quickchart-complete');\n",
              "    }\n",
              "    (() => {\n",
              "      let quickchartButtonEl =\n",
              "        document.querySelector('#df-7d3a96dc-0997-42f3-a9ad-6b381edfa4b3 button');\n",
              "      quickchartButtonEl.style.display =\n",
              "        google.colab.kernel.accessAllowed ? 'block' : 'none';\n",
              "    })();\n",
              "  </script>\n",
              "</div>\n",
              "\n",
              "    </div>\n",
              "  </div>\n"
            ],
            "application/vnd.google.colaboratory.intrinsic+json": {
              "type": "dataframe",
              "summary": "{\n  \"name\": \"data[data[\\\"company_hash\\\"]==\\\"vwwtznhqt\\\"]\",\n  \"rows\": 2124,\n  \"fields\": [\n    {\n      \"column\": \"company_hash\",\n      \"properties\": {\n        \"dtype\": \"category\",\n        \"num_unique_values\": 1,\n        \"samples\": [\n          \"vwwtznhqt\"\n        ],\n        \"semantic_type\": \"\",\n        \"description\": \"\"\n      }\n    },\n    {\n      \"column\": \"orgyear\",\n      \"properties\": {\n        \"dtype\": \"number\",\n        \"std\": 3.7436549462999986,\n        \"min\": 1993.0,\n        \"max\": 2022.0,\n        \"num_unique_values\": 27,\n        \"samples\": [\n          2015.0\n        ],\n        \"semantic_type\": \"\",\n        \"description\": \"\"\n      }\n    },\n    {\n      \"column\": \"ctc\",\n      \"properties\": {\n        \"dtype\": \"number\",\n        \"std\": 17900914,\n        \"min\": 1000,\n        \"max\": 200000000,\n        \"num_unique_values\": 329,\n        \"samples\": [\n          470000\n        ],\n        \"semantic_type\": \"\",\n        \"description\": \"\"\n      }\n    },\n    {\n      \"column\": \"job_position\",\n      \"properties\": {\n        \"dtype\": \"category\",\n        \"num_unique_values\": 57,\n        \"samples\": [\n          \"fullstack engineer\"\n        ],\n        \"semantic_type\": \"\",\n        \"description\": \"\"\n      }\n    },\n    {\n      \"column\": \"ctc_updated_year\",\n      \"properties\": {\n        \"dtype\": \"number\",\n        \"std\": 1.2069345645954257,\n        \"min\": 2015.0,\n        \"max\": 2021.0,\n        \"num_unique_values\": 7,\n        \"samples\": [\n          2020.0\n        ],\n        \"semantic_type\": \"\",\n        \"description\": \"\"\n      }\n    }\n  ]\n}"
            }
          },
          "metadata": {},
          "execution_count": 22
        }
      ]
    },
    {
      "cell_type": "code",
      "source": [
        "company_median_org_year=data.groupby('company_hash')['orgyear'].median()"
      ],
      "metadata": {
        "id": "JTNvbWiJvCSs"
      },
      "execution_count": null,
      "outputs": []
    },
    {
      "cell_type": "code",
      "source": [
        "#Code to impute\n",
        "#-----------------------------------------------------------------------\n",
        "import numpy as np\n",
        "def null_imputation(table_from_which_we_need_to_fill, main_col, null_col):\n",
        "    if np.isnan(null_col):\n",
        "        return table_from_which_we_need_to_fill[main_col]\n",
        "    else:\n",
        "        return null_col\n",
        "#-----------------------------------------------------------------------\n",
        "\n",
        "\n",
        "data['orgyear']=data.apply(lambda x: null_imputation(company_median_org_year,x['company_hash'],x['orgyear'] ), axis=1)"
      ],
      "metadata": {
        "id": "TJ68qhhpvKtA"
      },
      "execution_count": null,
      "outputs": []
    },
    {
      "cell_type": "code",
      "source": [
        "len(data[data['orgyear'].isnull()])"
      ],
      "metadata": {
        "id": "McwC5gWmvT6h",
        "outputId": "37ead2fc-50cb-44eb-ec35-c4e98dee83d1",
        "colab": {
          "base_uri": "https://localhost:8080/"
        }
      },
      "execution_count": null,
      "outputs": [
        {
          "output_type": "execute_result",
          "data": {
            "text/plain": [
              "26"
            ]
          },
          "metadata": {},
          "execution_count": 25
        }
      ]
    },
    {
      "cell_type": "markdown",
      "source": [
        "* Lets Drop the Remaining Rows"
      ],
      "metadata": {
        "id": "cDlSp62zvcPX"
      }
    },
    {
      "cell_type": "code",
      "source": [
        "#dropping remaining null values\n",
        "data=data[~data['orgyear'].isnull()]"
      ],
      "metadata": {
        "id": "URB7wgeVvhTQ"
      },
      "execution_count": null,
      "outputs": []
    },
    {
      "cell_type": "markdown",
      "source": [
        "* Filling Missing values in \"job_position\" & \"company_hash\" as \"Others\""
      ],
      "metadata": {
        "id": "21CU71uM_ZYE"
      }
    },
    {
      "cell_type": "code",
      "source": [
        "data['job_position'] = data['job_position'].fillna('Others')\n",
        "data['company_hash'] = data['company_hash'].fillna('Others')"
      ],
      "metadata": {
        "id": "FZ7aQOlZ-_kS"
      },
      "execution_count": null,
      "outputs": []
    },
    {
      "cell_type": "markdown",
      "source": [
        "## Checking Outliers"
      ],
      "metadata": {
        "id": "Tg1y-NZ-v3tV"
      }
    },
    {
      "cell_type": "code",
      "source": [
        "#simple understanding\n",
        "data.orgyear.describe()"
      ],
      "metadata": {
        "id": "GJctKiOjv8Bb",
        "colab": {
          "base_uri": "https://localhost:8080/"
        },
        "outputId": "0827aef4-a9b2-4e84-8a54-114687f234ea"
      },
      "execution_count": null,
      "outputs": [
        {
          "output_type": "execute_result",
          "data": {
            "text/plain": [
              "count    188126.000000\n",
              "mean       2014.613995\n",
              "std          66.472920\n",
              "min           0.000000\n",
              "25%        2013.000000\n",
              "50%        2016.000000\n",
              "75%        2018.000000\n",
              "max       20165.000000\n",
              "Name: orgyear, dtype: float64"
            ]
          },
          "metadata": {},
          "execution_count": 27
        }
      ]
    },
    {
      "cell_type": "code",
      "source": [
        "sns.boxplot(y = data[\"orgyear\"])"
      ],
      "metadata": {
        "colab": {
          "base_uri": "https://localhost:8080/",
          "height": 429
        },
        "id": "V227XYiK6K7H",
        "outputId": "b87badb3-f579-48b5-aff4-5211ab4eab16"
      },
      "execution_count": null,
      "outputs": [
        {
          "output_type": "execute_result",
          "data": {
            "text/plain": [
              "<Axes: ylabel='orgyear'>"
            ]
          },
          "metadata": {},
          "execution_count": 28
        },
        {
          "output_type": "display_data",
          "data": {
            "text/plain": [
              "<Figure size 640x480 with 1 Axes>"
            ],
            "image/png": "[encoded data removed]"
          },
          "metadata": {}
        }
      ]
    },
    {
      "cell_type": "code",
      "source": [
        "#removing outliers from orgyear using IQR\n",
        "\n",
        "q1=data.orgyear.quantile(0.25)\n",
        "q3=data.orgyear.quantile(0.75)\n",
        "iqr=q3-q1\n",
        "\n",
        "data=data.loc[(data.orgyear>=q1-1.5*iqr) & (data.orgyear<=q3+1.5*iqr)]\n"
      ],
      "metadata": {
        "id": "0-WpUHY3wDg9"
      },
      "execution_count": null,
      "outputs": []
    },
    {
      "cell_type": "code",
      "source": [
        "sns.boxplot(y = data[\"orgyear\"])"
      ],
      "metadata": {
        "colab": {
          "base_uri": "https://localhost:8080/",
          "height": 429
        },
        "id": "Ml_InkLw6qe_",
        "outputId": "51b75790-4148-4086-f8a1-b7f889978c2c"
      },
      "execution_count": null,
      "outputs": [
        {
          "output_type": "execute_result",
          "data": {
            "text/plain": [
              "<Axes: ylabel='orgyear'>"
            ]
          },
          "metadata": {},
          "execution_count": 30
        },
        {
          "output_type": "display_data",
          "data": {
            "text/plain": [
              "<Figure size 640x480 with 1 Axes>"
            ],
            "image/png": "[encoded data removed]"
          },
          "metadata": {}
        }
      ]
    },
    {
      "cell_type": "code",
      "source": [
        "data.orgyear.describe()"
      ],
      "metadata": {
        "id": "gEw6oGpGwJeN",
        "colab": {
          "base_uri": "https://localhost:8080/"
        },
        "outputId": "1f04a38a-a6d6-42b5-d597-9d8a3e18eba0"
      },
      "execution_count": null,
      "outputs": [
        {
          "output_type": "execute_result",
          "data": {
            "text/plain": [
              "count    180406.000000\n",
              "mean       2015.421513\n",
              "std           3.333918\n",
              "min        2006.000000\n",
              "25%        2013.000000\n",
              "50%        2016.000000\n",
              "75%        2018.000000\n",
              "max        2025.000000\n",
              "Name: orgyear, dtype: float64"
            ]
          },
          "metadata": {},
          "execution_count": 31
        }
      ]
    },
    {
      "cell_type": "code",
      "source": [
        "data.ctc.describe()"
      ],
      "metadata": {
        "colab": {
          "base_uri": "https://localhost:8080/"
        },
        "id": "ze4knQG162Xq",
        "outputId": "85086c09-1871-44f4-c868-972ddd494c8c"
      },
      "execution_count": null,
      "outputs": [
        {
          "output_type": "execute_result",
          "data": {
            "text/plain": [
              "count    1.804060e+05\n",
              "mean     2.323162e+06\n",
              "std      1.221796e+07\n",
              "min      2.000000e+00\n",
              "25%      5.800000e+05\n",
              "50%      1.000000e+06\n",
              "75%      1.680000e+06\n",
              "max      1.000150e+09\n",
              "Name: ctc, dtype: float64"
            ]
          },
          "metadata": {},
          "execution_count": 32
        }
      ]
    },
    {
      "cell_type": "code",
      "source": [
        "sns.boxplot(y = data[\"ctc\"])"
      ],
      "metadata": {
        "colab": {
          "base_uri": "https://localhost:8080/",
          "height": 444
        },
        "id": "ghfJNxae6yiZ",
        "outputId": "51281eef-4ae3-44e4-d266-1398ad6b5228"
      },
      "execution_count": null,
      "outputs": [
        {
          "output_type": "execute_result",
          "data": {
            "text/plain": [
              "<Axes: ylabel='ctc'>"
            ]
          },
          "metadata": {},
          "execution_count": 33
        },
        {
          "output_type": "display_data",
          "data": {
            "text/plain": [
              "<Figure size 640x480 with 1 Axes>"
            ],
            "image/png": "[encoded data removed]"
          },
          "metadata": {}
        }
      ]
    },
    {
      "cell_type": "code",
      "source": [
        "#removing outliers from ctc using IQR\n",
        "\n",
        "q1=data.ctc.quantile(0.25)\n",
        "q3=data.ctc.quantile(0.75)\n",
        "iqr=q3-q1\n",
        "\n",
        "data=data.loc[(data.ctc>=q1-1.5*iqr) & (data.ctc<=q3+1.5*iqr)]"
      ],
      "metadata": {
        "id": "JX7GrNq66n2j"
      },
      "execution_count": null,
      "outputs": []
    },
    {
      "cell_type": "code",
      "source": [
        "sns.boxplot(y = data[\"ctc\"])"
      ],
      "metadata": {
        "colab": {
          "base_uri": "https://localhost:8080/",
          "height": 444
        },
        "id": "ESkaWq5b61cX",
        "outputId": "d26e22c6-5e63-4599-db37-86de92888e6e"
      },
      "execution_count": null,
      "outputs": [
        {
          "output_type": "execute_result",
          "data": {
            "text/plain": [
              "<Axes: ylabel='ctc'>"
            ]
          },
          "metadata": {},
          "execution_count": 35
        },
        {
          "output_type": "display_data",
          "data": {
            "text/plain": [
              "<Figure size 640x480 with 1 Axes>"
            ],
            "image/png": "[encoded data removed]"
          },
          "metadata": {}
        }
      ]
    },
    {
      "cell_type": "code",
      "source": [
        "data.ctc.describe()"
      ],
      "metadata": {
        "colab": {
          "base_uri": "https://localhost:8080/"
        },
        "id": "HcDaNYcE6-xQ",
        "outputId": "72bd0ca6-9cdf-4133-da00-a2d346dec22c"
      },
      "execution_count": null,
      "outputs": [
        {
          "output_type": "execute_result",
          "data": {
            "text/plain": [
              "count    1.689860e+05\n",
              "mean     1.086971e+06\n",
              "std      7.268886e+05\n",
              "min      2.000000e+00\n",
              "25%      5.400000e+05\n",
              "50%      9.000000e+05\n",
              "75%      1.500000e+06\n",
              "max      3.330000e+06\n",
              "Name: ctc, dtype: float64"
            ]
          },
          "metadata": {},
          "execution_count": 36
        }
      ]
    },
    {
      "cell_type": "markdown",
      "source": [
        "## Masking companies by renaming it to \"Others\" having count less than 5"
      ],
      "metadata": {
        "id": "9ZsXkWxb2g-i"
      }
    },
    {
      "cell_type": "code",
      "source": [
        "data.company_hash.value_counts()"
      ],
      "metadata": {
        "colab": {
          "base_uri": "https://localhost:8080/"
        },
        "id": "PTUaew9f2u9e",
        "outputId": "47811724-eec2-4332-a2f4-50afa233da26"
      },
      "execution_count": null,
      "outputs": [
        {
          "output_type": "execute_result",
          "data": {
            "text/plain": [
              "company_hash\n",
              "nvnv wgzohrnvzwj otqcxwto    4111\n",
              "xzegojo                      2910\n",
              "vbvkgz                       2227\n",
              "wgszxkvzn                    2115\n",
              "vwwtznhqt                    1998\n",
              "                             ... \n",
              "mvqw xzaxv                      1\n",
              "wgznghq                         1\n",
              "uqgbvwn xzegntwy ucn rna        1\n",
              "bvctqxwpo ftm otqcxwto          1\n",
              "wyvqntq wgbbhzxwvnxgzo          1\n",
              "Name: count, Length: 34008, dtype: int64"
            ]
          },
          "metadata": {},
          "execution_count": 39
        }
      ]
    },
    {
      "cell_type": "code",
      "source": [
        "data=data.apply(lambda x: x.mask(x.map(x.value_counts())<=5,'Others') if x.name =='company_hash' else x)"
      ],
      "metadata": {
        "id": "m-nrk3Am2u68"
      },
      "execution_count": null,
      "outputs": []
    },
    {
      "cell_type": "code",
      "source": [
        "data.company_hash.value_counts(ascending = True)"
      ],
      "metadata": {
        "colab": {
          "base_uri": "https://localhost:8080/"
        },
        "id": "5c9j_NCH2u4q",
        "outputId": "ef420a11-5a04-4afe-f9f3-787485ce7b99"
      },
      "execution_count": null,
      "outputs": [
        {
          "output_type": "execute_result",
          "data": {
            "text/plain": [
              "company_hash\n",
              "ohbngnvr ojontbo                 6\n",
              "trrxt bvt                        6\n",
              "mgzatcvrht                       6\n",
              "vznfgqpo                         6\n",
              "btvohqtgzt                       6\n",
              "                             ...  \n",
              "wgszxkvzn                     2115\n",
              "vbvkgz                        2227\n",
              "xzegojo                       2910\n",
              "nvnv wgzohrnvzwj otqcxwto     4111\n",
              "Others                       46749\n",
              "Name: count, Length: 2943, dtype: int64"
            ]
          },
          "metadata": {},
          "execution_count": 42
        }
      ]
    },
    {
      "cell_type": "code",
      "source": [
        "data.job_position.value_counts(ascending = True)"
      ],
      "metadata": {
        "colab": {
          "base_uri": "https://localhost:8080/"
        },
        "id": "CblOHDc63gd2",
        "outputId": "86d86a04-0bcb-4285-a15a-4cfc5a1a1a00"
      },
      "execution_count": null,
      "outputs": [
        {
          "output_type": "execute_result",
          "data": {
            "text/plain": [
              "job_position\n",
              "sps associate                       1\n",
              "abap developer                      1\n",
              "lead consultant technology          1\n",
              "info technology sr associate        1\n",
              "associate technical support         1\n",
              "                                ...  \n",
              "frontend engineer                9428\n",
              "other                           14750\n",
              "fullstack engineer              22376\n",
              "backend engineer                36439\n",
              "nan                             39859\n",
              "Name: count, Length: 762, dtype: int64"
            ]
          },
          "metadata": {},
          "execution_count": 43
        }
      ]
    },
    {
      "cell_type": "code",
      "source": [
        "data=data.apply(lambda x: x.mask(x.map(x.value_counts())<=5,'Others') if x.name =='job_position' else x)"
      ],
      "metadata": {
        "id": "Ayy9KBMa2u2M"
      },
      "execution_count": null,
      "outputs": []
    },
    {
      "cell_type": "code",
      "source": [
        "data.job_position.value_counts(ascending = True)"
      ],
      "metadata": {
        "colab": {
          "base_uri": "https://localhost:8080/"
        },
        "id": "6SLf5dX12uzZ",
        "outputId": "e9337391-a0f4-430c-9b37-67507ad80196"
      },
      "execution_count": null,
      "outputs": [
        {
          "output_type": "execute_result",
          "data": {
            "text/plain": [
              "job_position\n",
              "android application developer                6\n",
              "full stack engineer                          6\n",
              "application development analyst              6\n",
              "analyst programmer                           6\n",
              "senior software  development engineer        6\n",
              "                                         ...  \n",
              "frontend engineer                         9428\n",
              "other                                    14750\n",
              "fullstack engineer                       22376\n",
              "backend engineer                         36439\n",
              "nan                                      39859\n",
              "Name: count, Length: 72, dtype: int64"
            ]
          },
          "metadata": {},
          "execution_count": 45
        }
      ]
    },
    {
      "cell_type": "code",
      "source": [],
      "metadata": {
        "id": "vYRvjRn-2uwt"
      },
      "execution_count": null,
      "outputs": []
    },
    {
      "cell_type": "code",
      "source": [],
      "metadata": {
        "id": "Mt0x0zdF2utx"
      },
      "execution_count": null,
      "outputs": []
    },
    {
      "cell_type": "markdown",
      "source": [
        "## Feature Engineering"
      ],
      "metadata": {
        "id": "DPi_cE1gcjtf"
      }
    },
    {
      "cell_type": "markdown",
      "source": [
        "* Let us create some flag for Quaterly Rating, Monthly Income , Grade by checking if Rating has increased or decreased --> if Increase we will categorize it as \"1\" representing growth\n",
        "* Next we will create our Target Variable for each driver ID from last working day--> if it present value will be \"1\" meaning driver left"
      ],
      "metadata": {
        "id": "KnIDu5A8wYTb"
      }
    },
    {
      "cell_type": "markdown",
      "source": [
        "### Years of Experience"
      ],
      "metadata": {
        "id": "m6QGF6nxy1cX"
      }
    },
    {
      "cell_type": "code",
      "source": [
        "data[\"orgyear\"].max()"
      ],
      "metadata": {
        "colab": {
          "base_uri": "https://localhost:8080/"
        },
        "id": "nJS_Q2SC6x_-",
        "outputId": "f176ce20-0ee0-47ce-b702-60a0ce904e7e"
      },
      "execution_count": null,
      "outputs": [
        {
          "output_type": "execute_result",
          "data": {
            "text/plain": [
              "2025.0"
            ]
          },
          "metadata": {},
          "execution_count": 47
        }
      ]
    },
    {
      "cell_type": "code",
      "source": [
        "data['orgyear'] = data.apply(lambda x: x['orgyear'] if x['orgyear'] <=\n",
        "                     2024 else 2024, axis=1)"
      ],
      "metadata": {
        "id": "2Bms730P6x9B"
      },
      "execution_count": null,
      "outputs": []
    },
    {
      "cell_type": "code",
      "source": [
        "data['years_of_experience']=2024-data['orgyear']"
      ],
      "metadata": {
        "id": "5D2V_i5C6xz6"
      },
      "execution_count": null,
      "outputs": []
    },
    {
      "cell_type": "code",
      "source": [
        "data.drop_duplicates(inplace=True)\n",
        "data.shape"
      ],
      "metadata": {
        "colab": {
          "base_uri": "https://localhost:8080/"
        },
        "id": "ij_o3IkE-U2F",
        "outputId": "3e585eb5-876e-4e05-c1ac-0fafbc3d48d6"
      },
      "execution_count": null,
      "outputs": [
        {
          "output_type": "execute_result",
          "data": {
            "text/plain": [
              "(147062, 6)"
            ]
          },
          "metadata": {},
          "execution_count": 52
        }
      ]
    },
    {
      "cell_type": "code",
      "source": [
        "data=data[~data['years_of_experience'].isnull()]"
      ],
      "metadata": {
        "id": "tKjWcRL5-Zwd"
      },
      "execution_count": null,
      "outputs": []
    },
    {
      "cell_type": "code",
      "source": [
        "#ctc_updated_year_check\n",
        "data['ctc_updated_year'] = data.apply(lambda x: x['orgyear'] if x['ctc_updated_year'] <\n",
        "                     x['orgyear'] else x['ctc_updated_year'], axis=1)"
      ],
      "metadata": {
        "id": "-JJFe5nn-76n"
      },
      "execution_count": null,
      "outputs": []
    },
    {
      "cell_type": "code",
      "source": [
        "data.isnull().sum()"
      ],
      "metadata": {
        "colab": {
          "base_uri": "https://localhost:8080/"
        },
        "id": "m4OvNHbc_DBk",
        "outputId": "99a086ea-7488-4e49-8736-3bceeaade8a3"
      },
      "execution_count": null,
      "outputs": [
        {
          "output_type": "execute_result",
          "data": {
            "text/plain": [
              "company_hash           0\n",
              "orgyear                0\n",
              "ctc                    0\n",
              "job_position           0\n",
              "ctc_updated_year       0\n",
              "years_of_experience    0\n",
              "dtype: int64"
            ]
          },
          "metadata": {},
          "execution_count": 56
        }
      ]
    },
    {
      "cell_type": "code",
      "source": [
        "data.drop_duplicates(inplace=True)\n",
        "data.shape"
      ],
      "metadata": {
        "colab": {
          "base_uri": "https://localhost:8080/"
        },
        "id": "UfpAYg_8_Meh",
        "outputId": "d01596ac-5685-4d77-fe25-ec11aab8a878"
      },
      "execution_count": null,
      "outputs": [
        {
          "output_type": "execute_result",
          "data": {
            "text/plain": [
              "(146027, 6)"
            ]
          },
          "metadata": {},
          "execution_count": 58
        }
      ]
    },
    {
      "cell_type": "markdown",
      "source": [
        "## Final Cleaned Data"
      ],
      "metadata": {
        "id": "95DDDvkR7VM-"
      }
    },
    {
      "cell_type": "code",
      "source": [
        "data.info()"
      ],
      "metadata": {
        "colab": {
          "base_uri": "https://localhost:8080/"
        },
        "id": "3URT4wMk7Hf8",
        "outputId": "e2a92032-2d2b-4db9-f373-55dafd7973e9"
      },
      "execution_count": null,
      "outputs": [
        {
          "output_type": "stream",
          "name": "stdout",
          "text": [
            "<class 'pandas.core.frame.DataFrame'>\n",
            "Index: 146027 entries, 0 to 205842\n",
            "Data columns (total 6 columns):\n",
            " #   Column               Non-Null Count   Dtype  \n",
            "---  ------               --------------   -----  \n",
            " 0   company_hash         146027 non-null  object \n",
            " 1   orgyear              146027 non-null  float64\n",
            " 2   ctc                  146027 non-null  int64  \n",
            " 3   job_position         146027 non-null  object \n",
            " 4   ctc_updated_year     146027 non-null  float64\n",
            " 5   years_of_experience  146027 non-null  float64\n",
            "dtypes: float64(3), int64(1), object(2)\n",
            "memory usage: 7.8+ MB\n"
          ]
        }
      ]
    },
    {
      "cell_type": "code",
      "source": [
        "data.describe(include = \"all\")"
      ],
      "metadata": {
        "colab": {
          "base_uri": "https://localhost:8080/",
          "height": 394
        },
        "id": "MbceXkhV7KLB",
        "outputId": "fe0a34bc-2673-4650-8ab7-3650218a5a91"
      },
      "execution_count": null,
      "outputs": [
        {
          "output_type": "execute_result",
          "data": {
            "text/plain": [
              "       company_hash        orgyear           ctc job_position  \\\n",
              "count        146027  146027.000000  1.460270e+05       146027   \n",
              "unique         2943            NaN           NaN           72   \n",
              "top          Others            NaN           NaN          nan   \n",
              "freq          24473            NaN           NaN        32793   \n",
              "mean            NaN    2015.453166  1.129425e+06          NaN   \n",
              "std             NaN       3.306079  7.439734e+05          NaN   \n",
              "min             NaN    2006.000000  2.000000e+00          NaN   \n",
              "25%             NaN    2013.000000  5.700000e+05          NaN   \n",
              "50%             NaN    2016.000000  9.600000e+05          NaN   \n",
              "75%             NaN    2018.000000  1.560000e+06          NaN   \n",
              "max             NaN    2024.000000  3.330000e+06          NaN   \n",
              "\n",
              "        ctc_updated_year  years_of_experience  \n",
              "count      146027.000000        146027.000000  \n",
              "unique               NaN                  NaN  \n",
              "top                  NaN                  NaN  \n",
              "freq                 NaN                  NaN  \n",
              "mean         2019.600711             8.546834  \n",
              "std             1.343856             3.306079  \n",
              "min          2015.000000             0.000000  \n",
              "25%          2019.000000             6.000000  \n",
              "50%          2020.000000             8.000000  \n",
              "75%          2021.000000            11.000000  \n",
              "max          2024.000000            18.000000  "
            ],
            "text/html": [
              "\n",
              "  <div id=\"df-ab3866db-2289-43ee-86ad-96cf6e5d6993\" class=\"colab-df-container\">\n",
              "    <div>\n",
              "<style scoped>\n",
              "    .dataframe tbody tr th:only-of-type {\n",
              "        vertical-align: middle;\n",
              "    }\n",
              "\n",
              "    .dataframe tbody tr th {\n",
              "        vertical-align: top;\n",
              "    }\n",
              "\n",
              "    .dataframe thead th {\n",
              "        text-align: right;\n",
              "    }\n",
              "</style>\n",
              "<table border=\"1\" class=\"dataframe\">\n",
              "  <thead>\n",
              "    <tr style=\"text-align: right;\">\n",
              "      <th></th>\n",
              "      <th>company_hash</th>\n",
              "      <th>orgyear</th>\n",
              "      <th>ctc</th>\n",
              "      <th>job_position</th>\n",
              "      <th>ctc_updated_year</th>\n",
              "      <th>years_of_experience</th>\n",
              "    </tr>\n",
              "  </thead>\n",
              "  <tbody>\n",
              "    <tr>\n",
              "      <th>count</th>\n",
              "      <td>146027</td>\n",
              "      <td>146027.000000</td>\n",
              "      <td>1.460270e+05</td>\n",
              "      <td>146027</td>\n",
              "      <td>146027.000000</td>\n",
              "      <td>146027.000000</td>\n",
              "    </tr>\n",
              "    <tr>\n",
              "      <th>unique</th>\n",
              "      <td>2943</td>\n",
              "      <td>NaN</td>\n",
              "      <td>NaN</td>\n",
              "      <td>72</td>\n",
              "      <td>NaN</td>\n",
              "      <td>NaN</td>\n",
              "    </tr>\n",
              "    <tr>\n",
              "      <th>top</th>\n",
              "      <td>Others</td>\n",
              "      <td>NaN</td>\n",
              "      <td>NaN</td>\n",
              "      <td>nan</td>\n",
              "      <td>NaN</td>\n",
              "      <td>NaN</td>\n",
              "    </tr>\n",
              "    <tr>\n",
              "      <th>freq</th>\n",
              "      <td>24473</td>\n",
              "      <td>NaN</td>\n",
              "      <td>NaN</td>\n",
              "      <td>32793</td>\n",
              "      <td>NaN</td>\n",
              "      <td>NaN</td>\n",
              "    </tr>\n",
              "    <tr>\n",
              "      <th>mean</th>\n",
              "      <td>NaN</td>\n",
              "      <td>2015.453166</td>\n",
              "      <td>1.129425e+06</td>\n",
              "      <td>NaN</td>\n",
              "      <td>2019.600711</td>\n",
              "      <td>8.546834</td>\n",
              "    </tr>\n",
              "    <tr>\n",
              "      <th>std</th>\n",
              "      <td>NaN</td>\n",
              "      <td>3.306079</td>\n",
              "      <td>7.439734e+05</td>\n",
              "      <td>NaN</td>\n",
              "      <td>1.343856</td>\n",
              "      <td>3.306079</td>\n",
              "    </tr>\n",
              "    <tr>\n",
              "      <th>min</th>\n",
              "      <td>NaN</td>\n",
              "      <td>2006.000000</td>\n",
              "      <td>2.000000e+00</td>\n",
              "      <td>NaN</td>\n",
              "      <td>2015.000000</td>\n",
              "      <td>0.000000</td>\n",
              "    </tr>\n",
              "    <tr>\n",
              "      <th>25%</th>\n",
              "      <td>NaN</td>\n",
              "      <td>2013.000000</td>\n",
              "      <td>5.700000e+05</td>\n",
              "      <td>NaN</td>\n",
              "      <td>2019.000000</td>\n",
              "      <td>6.000000</td>\n",
              "    </tr>\n",
              "    <tr>\n",
              "      <th>50%</th>\n",
              "      <td>NaN</td>\n",
              "      <td>2016.000000</td>\n",
              "      <td>9.600000e+05</td>\n",
              "      <td>NaN</td>\n",
              "      <td>2020.000000</td>\n",
              "      <td>8.000000</td>\n",
              "    </tr>\n",
              "    <tr>\n",
              "      <th>75%</th>\n",
              "      <td>NaN</td>\n",
              "      <td>2018.000000</td>\n",
              "      <td>1.560000e+06</td>\n",
              "      <td>NaN</td>\n",
              "      <td>2021.000000</td>\n",
              "      <td>11.000000</td>\n",
              "    </tr>\n",
              "    <tr>\n",
              "      <th>max</th>\n",
              "      <td>NaN</td>\n",
              "      <td>2024.000000</td>\n",
              "      <td>3.330000e+06</td>\n",
              "      <td>NaN</td>\n",
              "      <td>2024.000000</td>\n",
              "      <td>18.000000</td>\n",
              "    </tr>\n",
              "  </tbody>\n",
              "</table>\n",
              "</div>\n",
              "    <div class=\"colab-df-buttons\">\n",
              "\n",
              "  <div class=\"colab-df-container\">\n",
              "    <button class=\"colab-df-convert\" onclick=\"convertToInteractive('df-ab3866db-2289-43ee-86ad-96cf6e5d6993')\"\n",
              "            title=\"Convert this dataframe to an interactive table.\"\n",
              "            style=\"display:none;\">\n",
              "\n",
              "  <svg xmlns=\"http://www.w3.org/2000/svg\" height=\"24px\" viewBox=\"0 -960 960 960\">\n",
              "    <path d=\"M120-120v-720h720v720H120Zm60-500h600v-160H180v160Zm220 220h160v-160H400v160Zm0 220h160v-160H400v160ZM180-400h160v-160H180v160Zm440 0h160v-160H620v160ZM180-180h160v-160H180v160Zm440 0h160v-160H620v160Z\"/>\n",
              "  </svg>\n",
              "    </button>\n",
              "\n",
              "  <style>\n",
              "    .colab-df-container {\n",
              "      display:flex;\n",
              "      gap: 12px;\n",
              "    }\n",
              "\n",
              "    .colab-df-convert {\n",
              "      background-color: #E8F0FE;\n",
              "      border: none;\n",
              "      border-radius: 50%;\n",
              "      cursor: pointer;\n",
              "      display: none;\n",
              "      fill: #1967D2;\n",
              "      height: 32px;\n",
              "      padding: 0 0 0 0;\n",
              "      width: 32px;\n",
              "    }\n",
              "\n",
              "    .colab-df-convert:hover {\n",
              "      background-color: #E2EBFA;\n",
              "      box-shadow: 0px 1px 2px rgba(60, 64, 67, 0.3), 0px 1px 3px 1px rgba(60, 64, 67, 0.15);\n",
              "      fill: #174EA6;\n",
              "    }\n",
              "\n",
              "    .colab-df-buttons div {\n",
              "      margin-bottom: 4px;\n",
              "    }\n",
              "\n",
              "    [theme=dark] .colab-df-convert {\n",
              "      background-color: #3B4455;\n",
              "      fill: #D2E3FC;\n",
              "    }\n",
              "\n",
              "    [theme=dark] .colab-df-convert:hover {\n",
              "      background-color: #434B5C;\n",
              "      box-shadow: 0px 1px 3px 1px rgba(0, 0, 0, 0.15);\n",
              "      filter: drop-shadow(0px 1px 2px rgba(0, 0, 0, 0.3));\n",
              "      fill: #FFFFFF;\n",
              "    }\n",
              "  </style>\n",
              "\n",
              "    <script>\n",
              "      const buttonEl =\n",
              "        document.querySelector('#df-ab3866db-2289-43ee-86ad-96cf6e5d6993 button.colab-df-convert');\n",
              "      buttonEl.style.display =\n",
              "        google.colab.kernel.accessAllowed ? 'block' : 'none';\n",
              "\n",
              "      async function convertToInteractive(key) {\n",
              "        const element = document.querySelector('#df-ab3866db-2289-43ee-86ad-96cf6e5d6993');\n",
              "        const dataTable =\n",
              "          await google.colab.kernel.invokeFunction('convertToInteractive',\n",
              "                                                    [key], {});\n",
              "        if (!dataTable) return;\n",
              "\n",
              "        const docLinkHtml = 'Like what you see? Visit the ' +\n",
              "          '<a target=\"_blank\" href=https://colab.research.google.com/notebooks/data_table.ipynb>data table notebook</a>'\n",
              "          + ' to learn more about interactive tables.';\n",
              "        element.innerHTML = '';\n",
              "        dataTable['output_type'] = 'display_data';\n",
              "        await google.colab.output.renderOutput(dataTable, element);\n",
              "        const docLink = document.createElement('div');\n",
              "        docLink.innerHTML = docLinkHtml;\n",
              "        element.appendChild(docLink);\n",
              "      }\n",
              "    </script>\n",
              "  </div>\n",
              "\n",
              "\n",
              "<div id=\"df-b6fd47cd-9c85-4d25-8495-5d60dcabfe32\">\n",
              "  <button class=\"colab-df-quickchart\" onclick=\"quickchart('df-b6fd47cd-9c85-4d25-8495-5d60dcabfe32')\"\n",
              "            title=\"Suggest charts\"\n",
              "            style=\"display:none;\">\n",
              "\n",
              "<svg xmlns=\"http://www.w3.org/2000/svg\" height=\"24px\"viewBox=\"0 0 24 24\"\n",
              "     width=\"24px\">\n",
              "    <g>\n",
              "        <path d=\"M19 3H5c-1.1 0-2 .9-2 2v14c0 1.1.9 2 2 2h14c1.1 0 2-.9 2-2V5c0-1.1-.9-2-2-2zM9 17H7v-7h2v7zm4 0h-2V7h2v10zm4 0h-2v-4h2v4z\"/>\n",
              "    </g>\n",
              "</svg>\n",
              "  </button>\n",
              "\n",
              "<style>\n",
              "  .colab-df-quickchart {\n",
              "      --bg-color: #E8F0FE;\n",
              "      --fill-color: #1967D2;\n",
              "      --hover-bg-color: #E2EBFA;\n",
              "      --hover-fill-color: #174EA6;\n",
              "      --disabled-fill-color: #AAA;\n",
              "      --disabled-bg-color: #DDD;\n",
              "  }\n",
              "\n",
              "  [theme=dark] .colab-df-quickchart {\n",
              "      --bg-color: #3B4455;\n",
              "      --fill-color: #D2E3FC;\n",
              "      --hover-bg-color: #434B5C;\n",
              "      --hover-fill-color: #FFFFFF;\n",
              "      --disabled-bg-color: #3B4455;\n",
              "      --disabled-fill-color: #666;\n",
              "  }\n",
              "\n",
              "  .colab-df-quickchart {\n",
              "    background-color: var(--bg-color);\n",
              "    border: none;\n",
              "    border-radius: 50%;\n",
              "    cursor: pointer;\n",
              "    display: none;\n",
              "    fill: var(--fill-color);\n",
              "    height: 32px;\n",
              "    padding: 0;\n",
              "    width: 32px;\n",
              "  }\n",
              "\n",
              "  .colab-df-quickchart:hover {\n",
              "    background-color: var(--hover-bg-color);\n",
              "    box-shadow: 0 1px 2px rgba(60, 64, 67, 0.3), 0 1px 3px 1px rgba(60, 64, 67, 0.15);\n",
              "    fill: var(--button-hover-fill-color);\n",
              "  }\n",
              "\n",
              "  .colab-df-quickchart-complete:disabled,\n",
              "  .colab-df-quickchart-complete:disabled:hover {\n",
              "    background-color: var(--disabled-bg-color);\n",
              "    fill: var(--disabled-fill-color);\n",
              "    box-shadow: none;\n",
              "  }\n",
              "\n",
              "  .colab-df-spinner {\n",
              "    border: 2px solid var(--fill-color);\n",
              "    border-color: transparent;\n",
              "    border-bottom-color: var(--fill-color);\n",
              "    animation:\n",
              "      spin 1s steps(1) infinite;\n",
              "  }\n",
              "\n",
              "  @keyframes spin {\n",
              "    0% {\n",
              "      border-color: transparent;\n",
              "      border-bottom-color: var(--fill-color);\n",
              "      border-left-color: var(--fill-color);\n",
              "    }\n",
              "    20% {\n",
              "      border-color: transparent;\n",
              "      border-left-color: var(--fill-color);\n",
              "      border-top-color: var(--fill-color);\n",
              "    }\n",
              "    30% {\n",
              "      border-color: transparent;\n",
              "      border-left-color: var(--fill-color);\n",
              "      border-top-color: var(--fill-color);\n",
              "      border-right-color: var(--fill-color);\n",
              "    }\n",
              "    40% {\n",
              "      border-color: transparent;\n",
              "      border-right-color: var(--fill-color);\n",
              "      border-top-color: var(--fill-color);\n",
              "    }\n",
              "    60% {\n",
              "      border-color: transparent;\n",
              "      border-right-color: var(--fill-color);\n",
              "    }\n",
              "    80% {\n",
              "      border-color: transparent;\n",
              "      border-right-color: var(--fill-color);\n",
              "      border-bottom-color: var(--fill-color);\n",
              "    }\n",
              "    90% {\n",
              "      border-color: transparent;\n",
              "      border-bottom-color: var(--fill-color);\n",
              "    }\n",
              "  }\n",
              "</style>\n",
              "\n",
              "  <script>\n",
              "    async function quickchart(key) {\n",
              "      const quickchartButtonEl =\n",
              "        document.querySelector('#' + key + ' button');\n",
              "      quickchartButtonEl.disabled = true;  // To prevent multiple clicks.\n",
              "      quickchartButtonEl.classList.add('colab-df-spinner');\n",
              "      try {\n",
              "        const charts = await google.colab.kernel.invokeFunction(\n",
              "            'suggestCharts', [key], {});\n",
              "      } catch (error) {\n",
              "        console.error('Error during call to suggestCharts:', error);\n",
              "      }\n",
              "      quickchartButtonEl.classList.remove('colab-df-spinner');\n",
              "      quickchartButtonEl.classList.add('colab-df-quickchart-complete');\n",
              "    }\n",
              "    (() => {\n",
              "      let quickchartButtonEl =\n",
              "        document.querySelector('#df-b6fd47cd-9c85-4d25-8495-5d60dcabfe32 button');\n",
              "      quickchartButtonEl.style.display =\n",
              "        google.colab.kernel.accessAllowed ? 'block' : 'none';\n",
              "    })();\n",
              "  </script>\n",
              "</div>\n",
              "\n",
              "    </div>\n",
              "  </div>\n"
            ],
            "application/vnd.google.colaboratory.intrinsic+json": {
              "type": "dataframe",
              "summary": "{\n  \"name\": \"data\",\n  \"rows\": 11,\n  \"fields\": [\n    {\n      \"column\": \"company_hash\",\n      \"properties\": {\n        \"dtype\": \"category\",\n        \"num_unique_values\": 4,\n        \"samples\": [\n          2943,\n          \"24473\",\n          \"146027\"\n        ],\n        \"semantic_type\": \"\",\n        \"description\": \"\"\n      }\n    },\n    {\n      \"column\": \"orgyear\",\n      \"properties\": {\n        \"dtype\": \"number\",\n        \"std\": 51022.27143745964,\n        \"min\": 3.3060794140380443,\n        \"max\": 146027.0,\n        \"num_unique_values\": 8,\n        \"samples\": [\n          2015.4531661952926,\n          2016.0,\n          146027.0\n        ],\n        \"semantic_type\": \"\",\n        \"description\": \"\"\n      }\n    },\n    {\n      \"column\": \"ctc\",\n      \"properties\": {\n        \"dtype\": \"number\",\n        \"std\": 1049927.1611749388,\n        \"min\": 2.0,\n        \"max\": 3330000.0,\n        \"num_unique_values\": 8,\n        \"samples\": [\n          1129425.3709724913,\n          960000.0,\n          146027.0\n        ],\n        \"semantic_type\": \"\",\n        \"description\": \"\"\n      }\n    },\n    {\n      \"column\": \"job_position\",\n      \"properties\": {\n        \"dtype\": \"date\",\n        \"min\": \"1970-01-01 00:00:00.000000072\",\n        \"max\": \"1970-01-01 00:00:00.000146027\",\n        \"num_unique_values\": 4,\n        \"samples\": [\n          72,\n          \"32793\",\n          \"146027\"\n        ],\n        \"semantic_type\": \"\",\n        \"description\": \"\"\n      }\n    },\n    {\n      \"column\": \"ctc_updated_year\",\n      \"properties\": {\n        \"dtype\": \"number\",\n        \"std\": 51021.080393086566,\n        \"min\": 1.3438563695207595,\n        \"max\": 146027.0,\n        \"num_unique_values\": 8,\n        \"samples\": [\n          2019.6007108274498,\n          2020.0,\n          146027.0\n        ],\n        \"semantic_type\": \"\",\n        \"description\": \"\"\n      }\n    },\n    {\n      \"column\": \"years_of_experience\",\n      \"properties\": {\n        \"dtype\": \"number\",\n        \"std\": 51625.570753204156,\n        \"min\": 0.0,\n        \"max\": 146027.0,\n        \"num_unique_values\": 8,\n        \"samples\": [\n          8.546833804707349,\n          8.0,\n          146027.0\n        ],\n        \"semantic_type\": \"\",\n        \"description\": \"\"\n      }\n    }\n  ]\n}"
            }
          },
          "metadata": {},
          "execution_count": 60
        }
      ]
    },
    {
      "cell_type": "markdown",
      "source": [
        "# **Model Training - Random Forest[Ensemble - Bagging]**"
      ],
      "metadata": {
        "id": "eMp6Lf9Y3ON0"
      }
    },
    {
      "cell_type": "markdown",
      "source": [
        "## **Hyperparameter Tuning for RF**"
      ],
      "metadata": {
        "id": "0NlEW3HAbc56"
      }
    },
    {
      "cell_type": "code",
      "source": [
        "params = {\n",
        "    'n_estimators' : [100,300,500],\n",
        "    'max_depth' : [3,5,10],\n",
        "    'max_features' : [3,5,8],\n",
        "    'bootstrap' : [True,False]\n",
        "    }"
      ],
      "metadata": {
        "id": "Chlsvkp6bi23"
      },
      "execution_count": null,
      "outputs": []
    },
    {
      "cell_type": "code",
      "source": [
        "from sklearn.model_selection import RandomizedSearchCV\n",
        "from sklearn.ensemble import RandomForestClassifier\n",
        "\n",
        "\n",
        "random = RandomizedSearchCV(estimator = RandomForestClassifier(random_state=7),\n",
        "                            param_distributions = params,\n",
        "                            scoring = 'recall',\n",
        "                            cv = 3,\n",
        "                            n_iter=15,\n",
        "                            n_jobs=-1\n",
        "                            )"
      ],
      "metadata": {
        "id": "i88G3qAGcJI-"
      },
      "execution_count": null,
      "outputs": []
    },
    {
      "cell_type": "code",
      "source": [
        "# 1st Random search\n",
        "random.fit(Xtrainsm, ytrainsm)\n",
        "\n",
        "print(\"Best param: \", random.best_params_)\n",
        "print(\"Best score: \", random.best_score_)"
      ],
      "metadata": {
        "colab": {
          "base_uri": "https://localhost:8080/"
        },
        "id": "hRzqEx6Jc6z7",
        "outputId": "77ac42eb-9100-48b8-ec10-f1c724bfa578"
      },
      "execution_count": null,
      "outputs": [
        {
          "output_type": "stream",
          "name": "stdout",
          "text": [
            "Best param:  {'n_estimators': 100, 'max_features': 5, 'max_depth': 3, 'bootstrap': False}\n",
            "Best score:  0.8802874176705954\n"
          ]
        }
      ]
    },
    {
      "cell_type": "code",
      "source": [
        "# 2nd Random search\n",
        "random.fit(Xtrainsm, ytrainsm)"
      ],
      "metadata": {
        "colab": {
          "base_uri": "https://localhost:8080/",
          "height": 118
        },
        "id": "_hcRAMuWdUHe",
        "outputId": "91fc26c7-e933-4917-a398-f34edc39fee4"
      },
      "execution_count": null,
      "outputs": [
        {
          "output_type": "execute_result",
          "data": {
            "text/plain": [
              "RandomizedSearchCV(cv=3, estimator=RandomForestClassifier(random_state=7),\n",
              "                   n_iter=15, n_jobs=-1,\n",
              "                   param_distributions={'bootstrap': [True, False],\n",
              "                                        'max_depth': [3, 5, 10],\n",
              "                                        'max_features': [3, 5, 8],\n",
              "                                        'n_estimators': [100, 300, 500]},\n",
              "                   scoring='recall')"
            ],
            "text/html": [
              "<style>#sk-container-id-1 {color: black;background-color: white;}#sk-container-id-1 pre{padding: 0;}#sk-container-id-1 div.sk-toggleable {background-color: white;}#sk-container-id-1 label.sk-toggleable__label {cursor: pointer;display: block;width: 100%;margin-bottom: 0;padding: 0.3em;box-sizing: border-box;text-align: center;}#sk-container-id-1 label.sk-toggleable__label-arrow:before {content: \"▸\";float: left;margin-right: 0.25em;color: #696969;}#sk-container-id-1 label.sk-toggleable__label-arrow:hover:before {color: black;}#sk-container-id-1 div.sk-estimator:hover label.sk-toggleable__label-arrow:before {color: black;}#sk-container-id-1 div.sk-toggleable__content {max-height: 0;max-width: 0;overflow: hidden;text-align: left;background-color: #f0f8ff;}#sk-container-id-1 div.sk-toggleable__content pre {margin: 0.2em;color: black;border-radius: 0.25em;background-color: #f0f8ff;}#sk-container-id-1 input.sk-toggleable__control:checked~div.sk-toggleable__content {max-height: 200px;max-width: 100%;overflow: auto;}#sk-container-id-1 input.sk-toggleable__control:checked~label.sk-toggleable__label-arrow:before {content: \"▾\";}#sk-container-id-1 div.sk-estimator input.sk-toggleable__control:checked~label.sk-toggleable__label {background-color: #d4ebff;}#sk-container-id-1 div.sk-label input.sk-toggleable__control:checked~label.sk-toggleable__label {background-color: #d4ebff;}#sk-container-id-1 input.sk-hidden--visually {border: 0;clip: rect(1px 1px 1px 1px);clip: rect(1px, 1px, 1px, 1px);height: 1px;margin: -1px;overflow: hidden;padding: 0;position: absolute;width: 1px;}#sk-container-id-1 div.sk-estimator {font-family: monospace;background-color: #f0f8ff;border: 1px dotted black;border-radius: 0.25em;box-sizing: border-box;margin-bottom: 0.5em;}#sk-container-id-1 div.sk-estimator:hover {background-color: #d4ebff;}#sk-container-id-1 div.sk-parallel-item::after {content: \"\";width: 100%;border-bottom: 1px solid gray;flex-grow: 1;}#sk-container-id-1 div.sk-label:hover label.sk-toggleable__label {background-color: #d4ebff;}#sk-container-id-1 div.sk-serial::before {content: \"\";position: absolute;border-left: 1px solid gray;box-sizing: border-box;top: 0;bottom: 0;left: 50%;z-index: 0;}#sk-container-id-1 div.sk-serial {display: flex;flex-direction: column;align-items: center;background-color: white;padding-right: 0.2em;padding-left: 0.2em;position: relative;}#sk-container-id-1 div.sk-item {position: relative;z-index: 1;}#sk-container-id-1 div.sk-parallel {display: flex;align-items: stretch;justify-content: center;background-color: white;position: relative;}#sk-container-id-1 div.sk-item::before, #sk-container-id-1 div.sk-parallel-item::before {content: \"\";position: absolute;border-left: 1px solid gray;box-sizing: border-box;top: 0;bottom: 0;left: 50%;z-index: -1;}#sk-container-id-1 div.sk-parallel-item {display: flex;flex-direction: column;z-index: 1;position: relative;background-color: white;}#sk-container-id-1 div.sk-parallel-item:first-child::after {align-self: flex-end;width: 50%;}#sk-container-id-1 div.sk-parallel-item:last-child::after {align-self: flex-start;width: 50%;}#sk-container-id-1 div.sk-parallel-item:only-child::after {width: 0;}#sk-container-id-1 div.sk-dashed-wrapped {border: 1px dashed gray;margin: 0 0.4em 0.5em 0.4em;box-sizing: border-box;padding-bottom: 0.4em;background-color: white;}#sk-container-id-1 div.sk-label label {font-family: monospace;font-weight: bold;display: inline-block;line-height: 1.2em;}#sk-container-id-1 div.sk-label-container {text-align: center;}#sk-container-id-1 div.sk-container {/* jupyter's `normalize.less` sets `[hidden] { display: none; }` but bootstrap.min.css set `[hidden] { display: none !important; }` so we also need the `!important` here to be able to override the default hidden behavior on the sphinx rendered scikit-learn.org. See: https://github.com/scikit-learn/scikit-learn/issues/21755 */display: inline-block !important;position: relative;}#sk-container-id-1 div.sk-text-repr-fallback {display: none;}</style><div id=\"sk-container-id-1\" class=\"sk-top-container\"><div class=\"sk-text-repr-fallback\"><pre>RandomizedSearchCV(cv=3, estimator=RandomForestClassifier(random_state=7),\n",
              "                   n_iter=15, n_jobs=-1,\n",
              "                   param_distributions={&#x27;bootstrap&#x27;: [True, False],\n",
              "                                        &#x27;max_depth&#x27;: [3, 5, 10],\n",
              "                                        &#x27;max_features&#x27;: [3, 5, 8],\n",
              "                                        &#x27;n_estimators&#x27;: [100, 300, 500]},\n",
              "                   scoring=&#x27;recall&#x27;)</pre><b>In a Jupyter environment, please rerun this cell to show the HTML representation or trust the notebook. <br />On GitHub, the HTML representation is unable to render, please try loading this page with nbviewer.org.</b></div><div class=\"sk-container\" hidden><div class=\"sk-item sk-dashed-wrapped\"><div class=\"sk-label-container\"><div class=\"sk-label sk-toggleable\"><input class=\"sk-toggleable__control sk-hidden--visually\" id=\"sk-estimator-id-1\" type=\"checkbox\" ><label for=\"sk-estimator-id-1\" class=\"sk-toggleable__label sk-toggleable__label-arrow\">RandomizedSearchCV</label><div class=\"sk-toggleable__content\"><pre>RandomizedSearchCV(cv=3, estimator=RandomForestClassifier(random_state=7),\n",
              "                   n_iter=15, n_jobs=-1,\n",
              "                   param_distributions={&#x27;bootstrap&#x27;: [True, False],\n",
              "                                        &#x27;max_depth&#x27;: [3, 5, 10],\n",
              "                                        &#x27;max_features&#x27;: [3, 5, 8],\n",
              "                                        &#x27;n_estimators&#x27;: [100, 300, 500]},\n",
              "                   scoring=&#x27;recall&#x27;)</pre></div></div></div><div class=\"sk-parallel\"><div class=\"sk-parallel-item\"><div class=\"sk-item\"><div class=\"sk-label-container\"><div class=\"sk-label sk-toggleable\"><input class=\"sk-toggleable__control sk-hidden--visually\" id=\"sk-estimator-id-2\" type=\"checkbox\" ><label for=\"sk-estimator-id-2\" class=\"sk-toggleable__label sk-toggleable__label-arrow\">estimator: RandomForestClassifier</label><div class=\"sk-toggleable__content\"><pre>RandomForestClassifier(random_state=7)</pre></div></div></div><div class=\"sk-serial\"><div class=\"sk-item\"><div class=\"sk-estimator sk-toggleable\"><input class=\"sk-toggleable__control sk-hidden--visually\" id=\"sk-estimator-id-3\" type=\"checkbox\" ><label for=\"sk-estimator-id-3\" class=\"sk-toggleable__label sk-toggleable__label-arrow\">RandomForestClassifier</label><div class=\"sk-toggleable__content\"><pre>RandomForestClassifier(random_state=7)</pre></div></div></div></div></div></div></div></div></div></div>"
            ]
          },
          "metadata": {},
          "execution_count": 83
        }
      ]
    },
    {
      "cell_type": "code",
      "source": [
        "print(\"Best param: \", random.best_params_)\n",
        "print(\"Best score: \", random.best_score_)"
      ],
      "metadata": {
        "colab": {
          "base_uri": "https://localhost:8080/"
        },
        "id": "C7r1BBqNddHh",
        "outputId": "7e1ba936-7a75-4175-8b1a-2add93ba9554"
      },
      "execution_count": null,
      "outputs": [
        {
          "output_type": "stream",
          "name": "stdout",
          "text": [
            "Best param:  {'n_estimators': 500, 'max_features': 3, 'max_depth': 5, 'bootstrap': False}\n",
            "Best score:  0.8825948195107074\n"
          ]
        }
      ]
    },
    {
      "cell_type": "code",
      "source": [
        "# 3rd Random Search\n",
        "random.fit(Xtrainsm, ytrainsm)\n",
        "\n",
        "print(\"Best param: \", random.best_params_)\n",
        "print(\"Best score: \", random.best_score_)"
      ],
      "metadata": {
        "colab": {
          "base_uri": "https://localhost:8080/"
        },
        "id": "RghDz3N3drSn",
        "outputId": "fef42676-e629-483d-ef27-c80cb026bb51"
      },
      "execution_count": null,
      "outputs": [
        {
          "output_type": "stream",
          "name": "stdout",
          "text": [
            "Best param:  {'n_estimators': 300, 'max_features': 5, 'max_depth': 3, 'bootstrap': False}\n",
            "Best score:  0.8826184200015975\n"
          ]
        }
      ]
    },
    {
      "cell_type": "code",
      "source": [
        "params1 = {\n",
        "    'n_estimators' : [100,300,500],\n",
        "    'max_depth' : [3,5,6],\n",
        "    'max_features' : [3,5,6],\n",
        "    'bootstrap' : [False]\n",
        "    }"
      ],
      "metadata": {
        "id": "dcUid0l6d7H5"
      },
      "execution_count": null,
      "outputs": []
    },
    {
      "cell_type": "code",
      "source": [
        "from sklearn.model_selection import GridSearchCV\n",
        "grid = GridSearchCV(estimator = RandomForestClassifier(random_state=7),\n",
        "                    param_grid = params1,\n",
        "                    scoring = 'recall',\n",
        "                    cv = 3,\n",
        "                    n_jobs=-1,\n",
        "                    )"
      ],
      "metadata": {
        "id": "VOnWXeyPeO5U"
      },
      "execution_count": null,
      "outputs": []
    },
    {
      "cell_type": "code",
      "source": [
        "grid.fit(Xtrainsm, ytrainsm)"
      ],
      "metadata": {
        "colab": {
          "base_uri": "https://localhost:8080/",
          "height": 118
        },
        "id": "xwl737iUevx3",
        "outputId": "5a48a85f-7526-45ed-bcda-bc5c7af49f52"
      },
      "execution_count": null,
      "outputs": [
        {
          "output_type": "execute_result",
          "data": {
            "text/plain": [
              "GridSearchCV(cv=3, estimator=RandomForestClassifier(random_state=7), n_jobs=-1,\n",
              "             param_grid={'bootstrap': [False], 'max_depth': [3, 5, 6],\n",
              "                         'max_features': [3, 5, 6],\n",
              "                         'n_estimators': [100, 300, 500]},\n",
              "             scoring='recall')"
            ],
            "text/html": [
              "<style>#sk-container-id-2 {color: black;background-color: white;}#sk-container-id-2 pre{padding: 0;}#sk-container-id-2 div.sk-toggleable {background-color: white;}#sk-container-id-2 label.sk-toggleable__label {cursor: pointer;display: block;width: 100%;margin-bottom: 0;padding: 0.3em;box-sizing: border-box;text-align: center;}#sk-container-id-2 label.sk-toggleable__label-arrow:before {content: \"▸\";float: left;margin-right: 0.25em;color: #696969;}#sk-container-id-2 label.sk-toggleable__label-arrow:hover:before {color: black;}#sk-container-id-2 div.sk-estimator:hover label.sk-toggleable__label-arrow:before {color: black;}#sk-container-id-2 div.sk-toggleable__content {max-height: 0;max-width: 0;overflow: hidden;text-align: left;background-color: #f0f8ff;}#sk-container-id-2 div.sk-toggleable__content pre {margin: 0.2em;color: black;border-radius: 0.25em;background-color: #f0f8ff;}#sk-container-id-2 input.sk-toggleable__control:checked~div.sk-toggleable__content {max-height: 200px;max-width: 100%;overflow: auto;}#sk-container-id-2 input.sk-toggleable__control:checked~label.sk-toggleable__label-arrow:before {content: \"▾\";}#sk-container-id-2 div.sk-estimator input.sk-toggleable__control:checked~label.sk-toggleable__label {background-color: #d4ebff;}#sk-container-id-2 div.sk-label input.sk-toggleable__control:checked~label.sk-toggleable__label {background-color: #d4ebff;}#sk-container-id-2 input.sk-hidden--visually {border: 0;clip: rect(1px 1px 1px 1px);clip: rect(1px, 1px, 1px, 1px);height: 1px;margin: -1px;overflow: hidden;padding: 0;position: absolute;width: 1px;}#sk-container-id-2 div.sk-estimator {font-family: monospace;background-color: #f0f8ff;border: 1px dotted black;border-radius: 0.25em;box-sizing: border-box;margin-bottom: 0.5em;}#sk-container-id-2 div.sk-estimator:hover {background-color: #d4ebff;}#sk-container-id-2 div.sk-parallel-item::after {content: \"\";width: 100%;border-bottom: 1px solid gray;flex-grow: 1;}#sk-container-id-2 div.sk-label:hover label.sk-toggleable__label {background-color: #d4ebff;}#sk-container-id-2 div.sk-serial::before {content: \"\";position: absolute;border-left: 1px solid gray;box-sizing: border-box;top: 0;bottom: 0;left: 50%;z-index: 0;}#sk-container-id-2 div.sk-serial {display: flex;flex-direction: column;align-items: center;background-color: white;padding-right: 0.2em;padding-left: 0.2em;position: relative;}#sk-container-id-2 div.sk-item {position: relative;z-index: 1;}#sk-container-id-2 div.sk-parallel {display: flex;align-items: stretch;justify-content: center;background-color: white;position: relative;}#sk-container-id-2 div.sk-item::before, #sk-container-id-2 div.sk-parallel-item::before {content: \"\";position: absolute;border-left: 1px solid gray;box-sizing: border-box;top: 0;bottom: 0;left: 50%;z-index: -1;}#sk-container-id-2 div.sk-parallel-item {display: flex;flex-direction: column;z-index: 1;position: relative;background-color: white;}#sk-container-id-2 div.sk-parallel-item:first-child::after {align-self: flex-end;width: 50%;}#sk-container-id-2 div.sk-parallel-item:last-child::after {align-self: flex-start;width: 50%;}#sk-container-id-2 div.sk-parallel-item:only-child::after {width: 0;}#sk-container-id-2 div.sk-dashed-wrapped {border: 1px dashed gray;margin: 0 0.4em 0.5em 0.4em;box-sizing: border-box;padding-bottom: 0.4em;background-color: white;}#sk-container-id-2 div.sk-label label {font-family: monospace;font-weight: bold;display: inline-block;line-height: 1.2em;}#sk-container-id-2 div.sk-label-container {text-align: center;}#sk-container-id-2 div.sk-container {/* jupyter's `normalize.less` sets `[hidden] { display: none; }` but bootstrap.min.css set `[hidden] { display: none !important; }` so we also need the `!important` here to be able to override the default hidden behavior on the sphinx rendered scikit-learn.org. See: https://github.com/scikit-learn/scikit-learn/issues/21755 */display: inline-block !important;position: relative;}#sk-container-id-2 div.sk-text-repr-fallback {display: none;}</style><div id=\"sk-container-id-2\" class=\"sk-top-container\"><div class=\"sk-text-repr-fallback\"><pre>GridSearchCV(cv=3, estimator=RandomForestClassifier(random_state=7), n_jobs=-1,\n",
              "             param_grid={&#x27;bootstrap&#x27;: [False], &#x27;max_depth&#x27;: [3, 5, 6],\n",
              "                         &#x27;max_features&#x27;: [3, 5, 6],\n",
              "                         &#x27;n_estimators&#x27;: [100, 300, 500]},\n",
              "             scoring=&#x27;recall&#x27;)</pre><b>In a Jupyter environment, please rerun this cell to show the HTML representation or trust the notebook. <br />On GitHub, the HTML representation is unable to render, please try loading this page with nbviewer.org.</b></div><div class=\"sk-container\" hidden><div class=\"sk-item sk-dashed-wrapped\"><div class=\"sk-label-container\"><div class=\"sk-label sk-toggleable\"><input class=\"sk-toggleable__control sk-hidden--visually\" id=\"sk-estimator-id-4\" type=\"checkbox\" ><label for=\"sk-estimator-id-4\" class=\"sk-toggleable__label sk-toggleable__label-arrow\">GridSearchCV</label><div class=\"sk-toggleable__content\"><pre>GridSearchCV(cv=3, estimator=RandomForestClassifier(random_state=7), n_jobs=-1,\n",
              "             param_grid={&#x27;bootstrap&#x27;: [False], &#x27;max_depth&#x27;: [3, 5, 6],\n",
              "                         &#x27;max_features&#x27;: [3, 5, 6],\n",
              "                         &#x27;n_estimators&#x27;: [100, 300, 500]},\n",
              "             scoring=&#x27;recall&#x27;)</pre></div></div></div><div class=\"sk-parallel\"><div class=\"sk-parallel-item\"><div class=\"sk-item\"><div class=\"sk-label-container\"><div class=\"sk-label sk-toggleable\"><input class=\"sk-toggleable__control sk-hidden--visually\" id=\"sk-estimator-id-5\" type=\"checkbox\" ><label for=\"sk-estimator-id-5\" class=\"sk-toggleable__label sk-toggleable__label-arrow\">estimator: RandomForestClassifier</label><div class=\"sk-toggleable__content\"><pre>RandomForestClassifier(random_state=7)</pre></div></div></div><div class=\"sk-serial\"><div class=\"sk-item\"><div class=\"sk-estimator sk-toggleable\"><input class=\"sk-toggleable__control sk-hidden--visually\" id=\"sk-estimator-id-6\" type=\"checkbox\" ><label for=\"sk-estimator-id-6\" class=\"sk-toggleable__label sk-toggleable__label-arrow\">RandomForestClassifier</label><div class=\"sk-toggleable__content\"><pre>RandomForestClassifier(random_state=7)</pre></div></div></div></div></div></div></div></div></div></div>"
            ]
          },
          "metadata": {},
          "execution_count": 92
        }
      ]
    },
    {
      "cell_type": "code",
      "source": [
        "print(\"Best params: \", grid.best_params_)\n",
        "print(\"Best score: \", grid.best_score_)"
      ],
      "metadata": {
        "colab": {
          "base_uri": "https://localhost:8080/"
        },
        "id": "m87FiVbFe3k5",
        "outputId": "a23095a4-2390-42e3-ed26-2eabcb4ce2b7"
      },
      "execution_count": null,
      "outputs": [
        {
          "output_type": "stream",
          "name": "stdout",
          "text": [
            "Best params:  {'bootstrap': False, 'max_depth': 3, 'max_features': 5, 'n_estimators': 300}\n",
            "Best score:  0.8826184200015975\n"
          ]
        }
      ]
    },
    {
      "cell_type": "markdown",
      "source": [
        "* From Random and Grid Search we were able to fix out Hyper parameters\n",
        "** max_depth = 3\n",
        "** max_features = 5\n",
        "** n_estimators = 300\n",
        "** bootstrap = False"
      ],
      "metadata": {
        "id": "jyE6CoXUfHCW"
      }
    },
    {
      "cell_type": "code",
      "source": [
        "from sklearn.ensemble import RandomForestClassifier\n",
        "\n",
        "rf_clf = RandomForestClassifier(random_state=7,max_features = 5,max_depth=3, n_estimators=300, bootstrap=false,criterion='gini')"
      ],
      "metadata": {
        "id": "_d7ouKvWhP15"
      },
      "execution_count": null,
      "outputs": []
    },
    {
      "cell_type": "code",
      "source": [
        "rf_clf.fit(Xtrainsm,ytrainsm)"
      ],
      "metadata": {
        "colab": {
          "base_uri": "https://localhost:8080/",
          "height": 75
        },
        "id": "ubXQLLeghmOr",
        "outputId": "7fcb52e3-c914-4519-9ace-e56c2a6fe97a"
      },
      "execution_count": null,
      "outputs": [
        {
          "output_type": "execute_result",
          "data": {
            "text/plain": [
              "RandomForestClassifier(max_depth=7, n_estimators=50, random_state=7)"
            ],
            "text/html": [
              "<style>#sk-container-id-11 {color: black;background-color: white;}#sk-container-id-11 pre{padding: 0;}#sk-container-id-11 div.sk-toggleable {background-color: white;}#sk-container-id-11 label.sk-toggleable__label {cursor: pointer;display: block;width: 100%;margin-bottom: 0;padding: 0.3em;box-sizing: border-box;text-align: center;}#sk-container-id-11 label.sk-toggleable__label-arrow:before {content: \"▸\";float: left;margin-right: 0.25em;color: #696969;}#sk-container-id-11 label.sk-toggleable__label-arrow:hover:before {color: black;}#sk-container-id-11 div.sk-estimator:hover label.sk-toggleable__label-arrow:before {color: black;}#sk-container-id-11 div.sk-toggleable__content {max-height: 0;max-width: 0;overflow: hidden;text-align: left;background-color: #f0f8ff;}#sk-container-id-11 div.sk-toggleable__content pre {margin: 0.2em;color: black;border-radius: 0.25em;background-color: #f0f8ff;}#sk-container-id-11 input.sk-toggleable__control:checked~div.sk-toggleable__content {max-height: 200px;max-width: 100%;overflow: auto;}#sk-container-id-11 input.sk-toggleable__control:checked~label.sk-toggleable__label-arrow:before {content: \"▾\";}#sk-container-id-11 div.sk-estimator input.sk-toggleable__control:checked~label.sk-toggleable__label {background-color: #d4ebff;}#sk-container-id-11 div.sk-label input.sk-toggleable__control:checked~label.sk-toggleable__label {background-color: #d4ebff;}#sk-container-id-11 input.sk-hidden--visually {border: 0;clip: rect(1px 1px 1px 1px);clip: rect(1px, 1px, 1px, 1px);height: 1px;margin: -1px;overflow: hidden;padding: 0;position: absolute;width: 1px;}#sk-container-id-11 div.sk-estimator {font-family: monospace;background-color: #f0f8ff;border: 1px dotted black;border-radius: 0.25em;box-sizing: border-box;margin-bottom: 0.5em;}#sk-container-id-11 div.sk-estimator:hover {background-color: #d4ebff;}#sk-container-id-11 div.sk-parallel-item::after {content: \"\";width: 100%;border-bottom: 1px solid gray;flex-grow: 1;}#sk-container-id-11 div.sk-label:hover label.sk-toggleable__label {background-color: #d4ebff;}#sk-container-id-11 div.sk-serial::before {content: \"\";position: absolute;border-left: 1px solid gray;box-sizing: border-box;top: 0;bottom: 0;left: 50%;z-index: 0;}#sk-container-id-11 div.sk-serial {display: flex;flex-direction: column;align-items: center;background-color: white;padding-right: 0.2em;padding-left: 0.2em;position: relative;}#sk-container-id-11 div.sk-item {position: relative;z-index: 1;}#sk-container-id-11 div.sk-parallel {display: flex;align-items: stretch;justify-content: center;background-color: white;position: relative;}#sk-container-id-11 div.sk-item::before, #sk-container-id-11 div.sk-parallel-item::before {content: \"\";position: absolute;border-left: 1px solid gray;box-sizing: border-box;top: 0;bottom: 0;left: 50%;z-index: -1;}#sk-container-id-11 div.sk-parallel-item {display: flex;flex-direction: column;z-index: 1;position: relative;background-color: white;}#sk-container-id-11 div.sk-parallel-item:first-child::after {align-self: flex-end;width: 50%;}#sk-container-id-11 div.sk-parallel-item:last-child::after {align-self: flex-start;width: 50%;}#sk-container-id-11 div.sk-parallel-item:only-child::after {width: 0;}#sk-container-id-11 div.sk-dashed-wrapped {border: 1px dashed gray;margin: 0 0.4em 0.5em 0.4em;box-sizing: border-box;padding-bottom: 0.4em;background-color: white;}#sk-container-id-11 div.sk-label label {font-family: monospace;font-weight: bold;display: inline-block;line-height: 1.2em;}#sk-container-id-11 div.sk-label-container {text-align: center;}#sk-container-id-11 div.sk-container {/* jupyter's `normalize.less` sets `[hidden] { display: none; }` but bootstrap.min.css set `[hidden] { display: none !important; }` so we also need the `!important` here to be able to override the default hidden behavior on the sphinx rendered scikit-learn.org. See: https://github.com/scikit-learn/scikit-learn/issues/21755 */display: inline-block !important;position: relative;}#sk-container-id-11 div.sk-text-repr-fallback {display: none;}</style><div id=\"sk-container-id-11\" class=\"sk-top-container\"><div class=\"sk-text-repr-fallback\"><pre>RandomForestClassifier(max_depth=7, n_estimators=50, random_state=7)</pre><b>In a Jupyter environment, please rerun this cell to show the HTML representation or trust the notebook. <br />On GitHub, the HTML representation is unable to render, please try loading this page with nbviewer.org.</b></div><div class=\"sk-container\" hidden><div class=\"sk-item\"><div class=\"sk-estimator sk-toggleable\"><input class=\"sk-toggleable__control sk-hidden--visually\" id=\"sk-estimator-id-11\" type=\"checkbox\" checked><label for=\"sk-estimator-id-11\" class=\"sk-toggleable__label sk-toggleable__label-arrow\">RandomForestClassifier</label><div class=\"sk-toggleable__content\"><pre>RandomForestClassifier(max_depth=7, n_estimators=50, random_state=7)</pre></div></div></div></div></div>"
            ]
          },
          "metadata": {},
          "execution_count": 209
        }
      ]
    },
    {
      "cell_type": "markdown",
      "source": [
        "## Accuracy"
      ],
      "metadata": {
        "id": "vnv2M-hXdtS3"
      }
    },
    {
      "cell_type": "code",
      "source": [
        "rf_clf.score(Xtrainsm,ytrainsm)"
      ],
      "metadata": {
        "colab": {
          "base_uri": "https://localhost:8080/"
        },
        "id": "Pygd7vDyKIve",
        "outputId": "8141d9a0-2198-4978-b6ab-b1d98d26e622"
      },
      "execution_count": null,
      "outputs": [
        {
          "output_type": "execute_result",
          "data": {
            "text/plain": [
              "0.8114307931570762"
            ]
          },
          "metadata": {},
          "execution_count": 210
        }
      ]
    },
    {
      "cell_type": "code",
      "source": [
        "ypred = rf_clf.predict(Xtest)"
      ],
      "metadata": {
        "id": "L6TOGFt5fZ4u"
      },
      "execution_count": null,
      "outputs": []
    },
    {
      "cell_type": "code",
      "source": [
        "rf_clf.score(Xtest,ytest)"
      ],
      "metadata": {
        "colab": {
          "base_uri": "https://localhost:8080/"
        },
        "id": "BP1DWoY9dvyG",
        "outputId": "a8bb5d52-a1e5-417a-e5a8-f7a7f3007109"
      },
      "execution_count": null,
      "outputs": [
        {
          "output_type": "execute_result",
          "data": {
            "text/plain": [
              "0.7945492662473794"
            ]
          },
          "metadata": {},
          "execution_count": 212
        }
      ]
    },
    {
      "cell_type": "markdown",
      "source": [
        "* 79% Predictions by our model are accurate"
      ],
      "metadata": {
        "id": "gq-d7v01KkMQ"
      }
    },
    {
      "cell_type": "markdown",
      "source": [
        "## Precision"
      ],
      "metadata": {
        "id": "yCdMU2XmfOhn"
      }
    },
    {
      "cell_type": "code",
      "source": [
        "precision_score(ytest, ypred)"
      ],
      "metadata": {
        "colab": {
          "base_uri": "https://localhost:8080/"
        },
        "id": "rK_X37QbgMmC",
        "outputId": "aef7623e-4def-4d3f-846c-a407558878ea"
      },
      "execution_count": null,
      "outputs": [
        {
          "output_type": "execute_result",
          "data": {
            "text/plain": [
              "0.8411764705882353"
            ]
          },
          "metadata": {},
          "execution_count": 213
        }
      ]
    },
    {
      "cell_type": "markdown",
      "source": [
        "* 84% of all Positive prediction are actually positve"
      ],
      "metadata": {
        "id": "Cr2E0zthLCpG"
      }
    },
    {
      "cell_type": "markdown",
      "source": [
        "## Recall"
      ],
      "metadata": {
        "id": "6bxRZ6Fwia6c"
      }
    },
    {
      "cell_type": "code",
      "source": [
        "recall_score(ytest, ypred)"
      ],
      "metadata": {
        "colab": {
          "base_uri": "https://localhost:8080/"
        },
        "id": "dETpMn1kigYT",
        "outputId": "5fe0c971-09fc-4708-902b-409f9cbcdba2"
      },
      "execution_count": null,
      "outputs": [
        {
          "output_type": "execute_result",
          "data": {
            "text/plain": [
              "0.8666666666666667"
            ]
          },
          "metadata": {},
          "execution_count": 214
        }
      ]
    },
    {
      "cell_type": "markdown",
      "source": [
        "* Our Model predicts only 87% of all actual Positives as postives rest 13% of actual Positives aredetected as Negative[False Negatives]"
      ],
      "metadata": {
        "id": "o9S-rda4LPCW"
      }
    },
    {
      "cell_type": "markdown",
      "source": [
        "## F1 Score"
      ],
      "metadata": {
        "id": "DFfB641vfKFm"
      }
    },
    {
      "cell_type": "code",
      "source": [
        "f1_score(ytest,ypred)"
      ],
      "metadata": {
        "colab": {
          "base_uri": "https://localhost:8080/"
        },
        "id": "BkHlzGrafJmW",
        "outputId": "8bcf2df8-1e54-4191-ef5d-a67c208ba4a2"
      },
      "execution_count": null,
      "outputs": [
        {
          "output_type": "execute_result",
          "data": {
            "text/plain": [
              "0.853731343283582"
            ]
          },
          "metadata": {},
          "execution_count": 215
        }
      ]
    },
    {
      "cell_type": "markdown",
      "source": [
        "* From F1_score of 0.85, we can say Our model has almost good balance between reducing False Positives[Detect as Churner but not] and False Negative[Actually Churner but detect as not Churner]\n",
        "* However there is need to Further improve F1_Score"
      ],
      "metadata": {
        "id": "-FU6tnfILq0q"
      }
    },
    {
      "cell_type": "markdown",
      "source": [
        "## Confusion Matrix"
      ],
      "metadata": {
        "id": "1VurKM26imV8"
      }
    },
    {
      "cell_type": "code",
      "source": [
        "conf_matrix = confusion_matrix(ytest, ypred)\n",
        "conf_matrix"
      ],
      "metadata": {
        "colab": {
          "base_uri": "https://localhost:8080/"
        },
        "id": "3Vo27T0fisV2",
        "outputId": "e1450fef-fdb8-414b-a0ba-217163260214"
      },
      "execution_count": null,
      "outputs": [
        {
          "output_type": "execute_result",
          "data": {
            "text/plain": [
              "array([[ 93,  54],\n",
              "       [ 44, 286]])"
            ]
          },
          "metadata": {},
          "execution_count": 216
        }
      ]
    },
    {
      "cell_type": "code",
      "source": [
        "fig, ax = plt.subplots(figsize=(5,5))\n",
        "ConfusionMatrixDisplay(conf_matrix).plot(ax = ax)"
      ],
      "metadata": {
        "colab": {
          "base_uri": "https://localhost:8080/",
          "height": 445
        },
        "id": "fCK1_0k9i_wu",
        "outputId": "09c32d45-4385-4637-9c67-77b8fd71077c"
      },
      "execution_count": null,
      "outputs": [
        {
          "output_type": "execute_result",
          "data": {
            "text/plain": [
              "<sklearn.metrics._plot.confusion_matrix.ConfusionMatrixDisplay at 0x7d1499934d90>"
            ]
          },
          "metadata": {},
          "execution_count": 217
        },
        {
          "output_type": "display_data",
          "data": {
            "text/plain": [
              "<Figure size 500x500 with 2 Axes>"
            ],
            "image/png": "[encoded data removed]"
          },
          "metadata": {}
        }
      ]
    },
    {
      "cell_type": "markdown",
      "source": [
        "* As Seen Earlier from High Recall and  Better Precision values, same is reflected in Confusion Matrix\n",
        "* How ever our model is detecting FP & FN at almost same\n",
        "* **But as per the business problem our Focus is to identify all attrition driver as acquiring new drivers is more expensive than retaining existing ones --> So we want to reduce False Negtives**\n",
        "\n",
        "* So we will focus on Improving Recall at moderate expense of Precision by changing the threshold value for Classification\n"
      ],
      "metadata": {
        "id": "nDYqAj6lJ5J-"
      }
    },
    {
      "cell_type": "markdown",
      "source": [
        "## ROC"
      ],
      "metadata": {
        "id": "0d2TouZ5jHwG"
      }
    },
    {
      "cell_type": "code",
      "source": [
        "probability = rf_clf.predict_proba(Xtest)\n",
        "probabilites = probability[:,1]\n",
        "fpr, tpr, thr = roc_curve(ytest,probabilites)\n",
        "\n",
        "plt.plot(fpr,tpr)\n",
        "\n",
        "#random model for reference\n",
        "plt.plot(fpr,fpr,'--',color='red' )\n",
        "plt.title('ROC curve')\n",
        "plt.xlabel('FPR')\n",
        "plt.ylabel('TPR')\n",
        "plt.show()"
      ],
      "metadata": {
        "colab": {
          "base_uri": "https://localhost:8080/",
          "height": 472
        },
        "id": "DmGPmlYAQWhh",
        "outputId": "2f9c8610-6f45-4a1f-a32f-1932869c9416"
      },
      "execution_count": null,
      "outputs": [
        {
          "output_type": "display_data",
          "data": {
            "text/plain": [
              "<Figure size 640x480 with 1 Axes>"
            ],
            "image/png": "[encoded data removed]"
          },
          "metadata": {}
        }
      ]
    },
    {
      "cell_type": "code",
      "source": [
        "roc_auc_score(ytest,probabilites)"
      ],
      "metadata": {
        "colab": {
          "base_uri": "https://localhost:8080/"
        },
        "id": "qM5T61-Ljqu3",
        "outputId": "e7eda5b7-acd3-4e50-80ff-9d166baf3368"
      },
      "execution_count": null,
      "outputs": [
        {
          "output_type": "execute_result",
          "data": {
            "text/plain": [
              "0.8134611420325706"
            ]
          },
          "metadata": {},
          "execution_count": 219
        }
      ]
    },
    {
      "cell_type": "markdown",
      "source": [
        "roc_auc_score is 0.81 meaning our model can 81% efficiently Distinguish Positve and Neagative Classes"
      ],
      "metadata": {
        "id": "qkcUC8yanqRG"
      }
    },
    {
      "cell_type": "markdown",
      "source": [
        "## Precision Recall Curve"
      ],
      "metadata": {
        "id": "5RCjZnWSjx2E"
      }
    },
    {
      "cell_type": "code",
      "source": [
        "precision, recall, thr = precision_recall_curve(ytest, probabilites)"
      ],
      "metadata": {
        "id": "CO59G4yNj1Tx"
      },
      "execution_count": null,
      "outputs": []
    },
    {
      "cell_type": "code",
      "source": [
        "plt.plot(recall, precision)\n",
        "\n",
        "plt.xlabel('Recall')\n",
        "plt.ylabel('Precision')\n",
        "plt.title('PR curve')\n",
        "plt.show()"
      ],
      "metadata": {
        "colab": {
          "base_uri": "https://localhost:8080/",
          "height": 472
        },
        "id": "rUS4qHsIj6kK",
        "outputId": "6d270614-b857-4024-abf6-073042441943"
      },
      "execution_count": null,
      "outputs": [
        {
          "output_type": "display_data",
          "data": {
            "text/plain": [
              "<Figure size 640x480 with 1 Axes>"
            ],
            "image/png": "[encoded data removed]"
          },
          "metadata": {}
        }
      ]
    },
    {
      "cell_type": "code",
      "source": [
        "auc(recall, precision)"
      ],
      "metadata": {
        "colab": {
          "base_uri": "https://localhost:8080/"
        },
        "id": "R5jwZgU2kFNo",
        "outputId": "2a3c0dcc-3745-49d5-a81b-559fb4d13d61"
      },
      "execution_count": null,
      "outputs": [
        {
          "output_type": "execute_result",
          "data": {
            "text/plain": [
              "0.8957804551237599"
            ]
          },
          "metadata": {},
          "execution_count": 222
        }
      ]
    },
    {
      "cell_type": "markdown",
      "source": [
        "* 0.895 AUC under PR curve represents that our model has high Presicion and Recall values"
      ],
      "metadata": {
        "id": "zIq8syACoci1"
      }
    },
    {
      "cell_type": "markdown",
      "source": [
        "## Classification Report"
      ],
      "metadata": {
        "id": "X2OajtkqRUvk"
      }
    },
    {
      "cell_type": "code",
      "source": [
        "print(classification_report(ytest, ypred))"
      ],
      "metadata": {
        "colab": {
          "base_uri": "https://localhost:8080/"
        },
        "id": "6OFELctyRX5L",
        "outputId": "44d4c4b7-6848-4357-da5d-bd06facb9d4e"
      },
      "execution_count": null,
      "outputs": [
        {
          "output_type": "stream",
          "name": "stdout",
          "text": [
            "              precision    recall  f1-score   support\n",
            "\n",
            "         0.0       0.68      0.63      0.65       147\n",
            "         1.0       0.84      0.87      0.85       330\n",
            "\n",
            "    accuracy                           0.79       477\n",
            "   macro avg       0.76      0.75      0.75       477\n",
            "weighted avg       0.79      0.79      0.79       477\n",
            "\n"
          ]
        }
      ]
    },
    {
      "cell_type": "markdown",
      "source": [
        "* our Random Forest Model can detect attrition driver with\n",
        "** 84% Precision\n",
        "** 87% Recall\n",
        "** 79% Accuracy\n",
        "** 85% F1-Score"
      ],
      "metadata": {
        "id": "9Df5ag32Rcnq"
      }
    },
    {
      "cell_type": "markdown",
      "source": [
        "## Changing Classification Threshold for Better Recall"
      ],
      "metadata": {
        "id": "z-nT5LA2RA1Q"
      }
    },
    {
      "cell_type": "markdown",
      "source": [
        "* As per the bussiness problem, acquiring new drivers is more expensive than retaining existing ones\n",
        "* So our focus should to predict TP and Reduce FN, so that we can correctly idenitfy prospective Attrition Drivers"
      ],
      "metadata": {
        "id": "w9yIKoozHruE"
      }
    },
    {
      "cell_type": "markdown",
      "source": [
        "* Now let us plot Recall and Precision Variation w.r.t Different Classification Threshold values\n",
        "* So that we can select best threshold for our Bussiness Problem"
      ],
      "metadata": {
        "id": "uses8f3GGqTJ"
      }
    },
    {
      "cell_type": "code",
      "source": [
        "def precision_recall_curve_plot(y_test, pred_proba_c1):\n",
        "  precisions, recalls, thresholds = precision_recall_curve(y_test, pred_proba_c1)\n",
        "\n",
        "  threshold_boundary = thresholds.shape[0]\n",
        "  # plot precision\n",
        "  plt.plot(thresholds, precisions[0:threshold_boundary], linestyle='--',\n",
        "           label=\"Precision\")\n",
        "  # plot recall\n",
        "  plt.plot(thresholds, recalls[0:threshold_boundary], label='recalls')\n",
        "\n",
        "  start, end = plt.xlim()\n",
        "  plt.xticks(np.round(np.arange(start, end, 0.1), 2))\n",
        "\n",
        "  plt.xlabel('Threshold Value'); plt.ylabel('Precision and Recall Value')\n",
        "  plt.legend(); plt.grid()\n",
        "  plt.show()\n",
        "\n",
        "precision_recall_curve_plot(ytest, probabilites)"
      ],
      "metadata": {
        "colab": {
          "base_uri": "https://localhost:8080/",
          "height": 449
        },
        "id": "m8UvhuZxQ1W2",
        "outputId": "0849cde2-ac21-4ea1-84c0-447b55600b36"
      },
      "execution_count": null,
      "outputs": [
        {
          "output_type": "display_data",
          "data": {
            "text/plain": [
              "<Figure size 640x480 with 1 Axes>"
            ],
            "image/png": "[encoded data removed]"
          },
          "metadata": {}
        }
      ]
    },
    {
      "cell_type": "markdown",
      "source": [
        "* So in order to increase Recall of our Model, we can reduce the Threshold from Default 0.5 --> 0.43 to get better Recall result at little degrading precision result[which is ok as per company assement]\n",
        "* No we will check the Model perfromance on test data with New threshold"
      ],
      "metadata": {
        "id": "Y0h_TsVpJv35"
      }
    },
    {
      "cell_type": "code",
      "source": [
        "ypredthres_043 = (rf_clf.predict_proba(Xtest)[:, 1] >= 0.43).astype(int)"
      ],
      "metadata": {
        "id": "uLtLzKPrK2lv"
      },
      "execution_count": null,
      "outputs": []
    },
    {
      "cell_type": "code",
      "source": [
        "recall_score(ytest, ypredthres_043)"
      ],
      "metadata": {
        "colab": {
          "base_uri": "https://localhost:8080/"
        },
        "id": "Cq_6m3WbLePx",
        "outputId": "5f01515c-70d8-416c-c21f-a97eedbfab2e"
      },
      "execution_count": null,
      "outputs": [
        {
          "output_type": "execute_result",
          "data": {
            "text/plain": [
              "0.9333333333333333"
            ]
          },
          "metadata": {},
          "execution_count": 203
        }
      ]
    },
    {
      "cell_type": "code",
      "source": [
        "precision_score(ytest, ypredthres_043)"
      ],
      "metadata": {
        "colab": {
          "base_uri": "https://localhost:8080/"
        },
        "id": "Z12Oqn_eLl9k",
        "outputId": "1535a530-a9bd-4f9c-ec27-183a2758440f"
      },
      "execution_count": null,
      "outputs": [
        {
          "output_type": "execute_result",
          "data": {
            "text/plain": [
              "0.8"
            ]
          },
          "metadata": {},
          "execution_count": 204
        }
      ]
    },
    {
      "cell_type": "code",
      "source": [
        "f1_score(ytest,ypredthres_043)"
      ],
      "metadata": {
        "colab": {
          "base_uri": "https://localhost:8080/"
        },
        "id": "T9hFLGSwLtEu",
        "outputId": "520670df-438e-4884-f37d-d00673e4565e"
      },
      "execution_count": null,
      "outputs": [
        {
          "output_type": "execute_result",
          "data": {
            "text/plain": [
              "0.8615384615384616"
            ]
          },
          "metadata": {},
          "execution_count": 225
        }
      ]
    },
    {
      "cell_type": "code",
      "source": [
        "conf_matrix = confusion_matrix(ytest, ypredthres_043)\n",
        "fig, ax = plt.subplots(figsize=(5,5))\n",
        "ConfusionMatrixDisplay(conf_matrix).plot(ax = ax)"
      ],
      "metadata": {
        "colab": {
          "base_uri": "https://localhost:8080/",
          "height": 445
        },
        "id": "ShjXqZPrMBoo",
        "outputId": "7a05380b-f57c-4711-ec95-c6c4622e0c25"
      },
      "execution_count": null,
      "outputs": [
        {
          "output_type": "execute_result",
          "data": {
            "text/plain": [
              "<sklearn.metrics._plot.confusion_matrix.ConfusionMatrixDisplay at 0x7d149a06f820>"
            ]
          },
          "metadata": {},
          "execution_count": 207
        },
        {
          "output_type": "display_data",
          "data": {
            "text/plain": [
              "<Figure size 500x500 with 2 Axes>"
            ],
            "image/png": "[encoded data removed]"
          },
          "metadata": {}
        }
      ]
    },
    {
      "cell_type": "markdown",
      "source": [
        "* After Threshold Change from 0.5 --> 0.43 ,our Random Forest Model can detect attrition driver with\n",
        "** Precision: 84% --> 80%\n",
        "** **Recall : 87% --> 93%**\n",
        "** Accuracy: No change 79%\n",
        "** F1-Score : 85% --> 86%\n",
        "** No of False Neagtive Reduced from 42 --> 22 [Nearly 100% Improvment]"
      ],
      "metadata": {
        "id": "Pfz21khFR9rT"
      }
    },
    {
      "cell_type": "markdown",
      "source": [
        "# **Model Training - Gradient Boosting DT [Ensemble - Boosting]**"
      ],
      "metadata": {
        "id": "C_NPcN9X5mxv"
      }
    },
    {
      "cell_type": "markdown",
      "source": [
        "## **Hyperparameter Tuning for GBDT**"
      ],
      "metadata": {
        "id": "H-cDgCb3ffHe"
      }
    },
    {
      "cell_type": "code",
      "source": [
        "params = {\n",
        "    'n_estimators' : [100,300,500],\n",
        "    'max_depth' : [3,5,10],\n",
        "    'max_features' : [3,5,8],\n",
        "    'learning_rate' : [0.01,0.05,0.1,0.5]\n",
        "    }"
      ],
      "metadata": {
        "id": "TlV8jfA8ffHf"
      },
      "execution_count": null,
      "outputs": []
    },
    {
      "cell_type": "code",
      "source": [
        "from sklearn.model_selection import RandomizedSearchCV\n",
        "from sklearn.ensemble import GradientBoostingClassifier\n",
        "\n",
        "\n",
        "random = RandomizedSearchCV(estimator = GradientBoostingClassifier(random_state=7),\n",
        "                            param_distributions = params,\n",
        "                            scoring = 'recall',\n",
        "                            cv = 3,\n",
        "                            n_iter=15,\n",
        "                            n_jobs=-1\n",
        "                            )"
      ],
      "metadata": {
        "id": "UCCacaPFffHg"
      },
      "execution_count": null,
      "outputs": []
    },
    {
      "cell_type": "code",
      "source": [
        "# 1st Random search\n",
        "random.fit(Xtrainsm, ytrainsm)\n",
        "\n",
        "print(\"Best param: \", random.best_params_)\n",
        "print(\"Best score: \", random.best_score_)"
      ],
      "metadata": {
        "outputId": "8dc13b32-f754-47bd-c151-7c3c07878059",
        "colab": {
          "base_uri": "https://localhost:8080/"
        },
        "id": "ZTxuki7qffHg"
      },
      "execution_count": null,
      "outputs": [
        {
          "output_type": "stream",
          "name": "stdout",
          "text": [
            "Best param:  {'n_estimators': 300, 'max_features': 8, 'max_depth': 3, 'learning_rate': 0.1}\n",
            "Best score:  0.8646602618565234\n"
          ]
        }
      ]
    },
    {
      "cell_type": "code",
      "source": [
        "# 2nd Random search\n",
        "random.fit(Xtrainsm, ytrainsm)\n",
        "\n",
        "print(\"Best param: \", random.best_params_)\n",
        "print(\"Best score: \", random.best_score_)"
      ],
      "metadata": {
        "outputId": "f6ec4612-0610-4ac8-9fe8-f9f1ea12622c",
        "colab": {
          "base_uri": "https://localhost:8080/"
        },
        "id": "Z8_0c2jPffHi"
      },
      "execution_count": null,
      "outputs": [
        {
          "output_type": "stream",
          "name": "stdout",
          "text": [
            "Best param:  {'n_estimators': 100, 'max_features': 3, 'max_depth': 3, 'learning_rate': 0.5}\n",
            "Best score:  0.8428879012991163\n"
          ]
        }
      ]
    },
    {
      "cell_type": "code",
      "source": [
        "# 3rd Random Search\n",
        "random.fit(Xtrainsm, ytrainsm)\n",
        "\n",
        "print(\"Best param: \", random.best_params_)\n",
        "print(\"Best score: \", random.best_score_)"
      ],
      "metadata": {
        "outputId": "65ed4247-062e-4b67-c326-f2b47cb1a2a5",
        "colab": {
          "base_uri": "https://localhost:8080/"
        },
        "id": "UXMlK7QoffHk"
      },
      "execution_count": null,
      "outputs": [
        {
          "output_type": "stream",
          "name": "stdout",
          "text": [
            "Best param:  {'n_estimators': 100, 'max_features': 5, 'max_depth': 3, 'learning_rate': 0.01}\n",
            "Best score:  0.8725101482110827\n"
          ]
        }
      ]
    },
    {
      "cell_type": "code",
      "source": [
        "params1 = {\n",
        "    'n_estimators' : [100,200,300],\n",
        "    'max_depth' : [3],\n",
        "    'max_features' : [5,6,8],\n",
        "    'learning_rate' : [0.01,0.025,0.05,0.1]\n",
        "    }"
      ],
      "metadata": {
        "id": "dRH4apUEffHl"
      },
      "execution_count": null,
      "outputs": []
    },
    {
      "cell_type": "code",
      "source": [
        "from sklearn.model_selection import GridSearchCV\n",
        "grid = GridSearchCV(estimator = GradientBoostingClassifier(random_state=7),\n",
        "                    param_grid = params1,\n",
        "                    scoring = 'recall',\n",
        "                    cv = 3,\n",
        "                    n_jobs=-1,\n",
        "                    )"
      ],
      "metadata": {
        "id": "DI5OyH0DffHm"
      },
      "execution_count": null,
      "outputs": []
    },
    {
      "cell_type": "code",
      "source": [
        "grid.fit(Xtrainsm, ytrainsm)"
      ],
      "metadata": {
        "outputId": "22df957a-037e-4bef-bbd0-29bad20f8bf0",
        "colab": {
          "base_uri": "https://localhost:8080/",
          "height": 118
        },
        "id": "WQnv9i1wffHm"
      },
      "execution_count": null,
      "outputs": [
        {
          "output_type": "execute_result",
          "data": {
            "text/plain": [
              "GridSearchCV(cv=3, estimator=GradientBoostingClassifier(random_state=7),\n",
              "             n_jobs=-1,\n",
              "             param_grid={'learning_rate': [0.01, 0.025, 0.05, 0.1],\n",
              "                         'max_depth': [3], 'max_features': [5, 6, 8],\n",
              "                         'n_estimators': [100, 200, 300]},\n",
              "             scoring='recall')"
            ],
            "text/html": [
              "<style>#sk-container-id-4 {color: black;background-color: white;}#sk-container-id-4 pre{padding: 0;}#sk-container-id-4 div.sk-toggleable {background-color: white;}#sk-container-id-4 label.sk-toggleable__label {cursor: pointer;display: block;width: 100%;margin-bottom: 0;padding: 0.3em;box-sizing: border-box;text-align: center;}#sk-container-id-4 label.sk-toggleable__label-arrow:before {content: \"▸\";float: left;margin-right: 0.25em;color: #696969;}#sk-container-id-4 label.sk-toggleable__label-arrow:hover:before {color: black;}#sk-container-id-4 div.sk-estimator:hover label.sk-toggleable__label-arrow:before {color: black;}#sk-container-id-4 div.sk-toggleable__content {max-height: 0;max-width: 0;overflow: hidden;text-align: left;background-color: #f0f8ff;}#sk-container-id-4 div.sk-toggleable__content pre {margin: 0.2em;color: black;border-radius: 0.25em;background-color: #f0f8ff;}#sk-container-id-4 input.sk-toggleable__control:checked~div.sk-toggleable__content {max-height: 200px;max-width: 100%;overflow: auto;}#sk-container-id-4 input.sk-toggleable__control:checked~label.sk-toggleable__label-arrow:before {content: \"▾\";}#sk-container-id-4 div.sk-estimator input.sk-toggleable__control:checked~label.sk-toggleable__label {background-color: #d4ebff;}#sk-container-id-4 div.sk-label input.sk-toggleable__control:checked~label.sk-toggleable__label {background-color: #d4ebff;}#sk-container-id-4 input.sk-hidden--visually {border: 0;clip: rect(1px 1px 1px 1px);clip: rect(1px, 1px, 1px, 1px);height: 1px;margin: -1px;overflow: hidden;padding: 0;position: absolute;width: 1px;}#sk-container-id-4 div.sk-estimator {font-family: monospace;background-color: #f0f8ff;border: 1px dotted black;border-radius: 0.25em;box-sizing: border-box;margin-bottom: 0.5em;}#sk-container-id-4 div.sk-estimator:hover {background-color: #d4ebff;}#sk-container-id-4 div.sk-parallel-item::after {content: \"\";width: 100%;border-bottom: 1px solid gray;flex-grow: 1;}#sk-container-id-4 div.sk-label:hover label.sk-toggleable__label {background-color: #d4ebff;}#sk-container-id-4 div.sk-serial::before {content: \"\";position: absolute;border-left: 1px solid gray;box-sizing: border-box;top: 0;bottom: 0;left: 50%;z-index: 0;}#sk-container-id-4 div.sk-serial {display: flex;flex-direction: column;align-items: center;background-color: white;padding-right: 0.2em;padding-left: 0.2em;position: relative;}#sk-container-id-4 div.sk-item {position: relative;z-index: 1;}#sk-container-id-4 div.sk-parallel {display: flex;align-items: stretch;justify-content: center;background-color: white;position: relative;}#sk-container-id-4 div.sk-item::before, #sk-container-id-4 div.sk-parallel-item::before {content: \"\";position: absolute;border-left: 1px solid gray;box-sizing: border-box;top: 0;bottom: 0;left: 50%;z-index: -1;}#sk-container-id-4 div.sk-parallel-item {display: flex;flex-direction: column;z-index: 1;position: relative;background-color: white;}#sk-container-id-4 div.sk-parallel-item:first-child::after {align-self: flex-end;width: 50%;}#sk-container-id-4 div.sk-parallel-item:last-child::after {align-self: flex-start;width: 50%;}#sk-container-id-4 div.sk-parallel-item:only-child::after {width: 0;}#sk-container-id-4 div.sk-dashed-wrapped {border: 1px dashed gray;margin: 0 0.4em 0.5em 0.4em;box-sizing: border-box;padding-bottom: 0.4em;background-color: white;}#sk-container-id-4 div.sk-label label {font-family: monospace;font-weight: bold;display: inline-block;line-height: 1.2em;}#sk-container-id-4 div.sk-label-container {text-align: center;}#sk-container-id-4 div.sk-container {/* jupyter's `normalize.less` sets `[hidden] { display: none; }` but bootstrap.min.css set `[hidden] { display: none !important; }` so we also need the `!important` here to be able to override the default hidden behavior on the sphinx rendered scikit-learn.org. See: https://github.com/scikit-learn/scikit-learn/issues/21755 */display: inline-block !important;position: relative;}#sk-container-id-4 div.sk-text-repr-fallback {display: none;}</style><div id=\"sk-container-id-4\" class=\"sk-top-container\"><div class=\"sk-text-repr-fallback\"><pre>GridSearchCV(cv=3, estimator=GradientBoostingClassifier(random_state=7),\n",
              "             n_jobs=-1,\n",
              "             param_grid={&#x27;learning_rate&#x27;: [0.01, 0.025, 0.05, 0.1],\n",
              "                         &#x27;max_depth&#x27;: [3], &#x27;max_features&#x27;: [5, 6, 8],\n",
              "                         &#x27;n_estimators&#x27;: [100, 200, 300]},\n",
              "             scoring=&#x27;recall&#x27;)</pre><b>In a Jupyter environment, please rerun this cell to show the HTML representation or trust the notebook. <br />On GitHub, the HTML representation is unable to render, please try loading this page with nbviewer.org.</b></div><div class=\"sk-container\" hidden><div class=\"sk-item sk-dashed-wrapped\"><div class=\"sk-label-container\"><div class=\"sk-label sk-toggleable\"><input class=\"sk-toggleable__control sk-hidden--visually\" id=\"sk-estimator-id-10\" type=\"checkbox\" ><label for=\"sk-estimator-id-10\" class=\"sk-toggleable__label sk-toggleable__label-arrow\">GridSearchCV</label><div class=\"sk-toggleable__content\"><pre>GridSearchCV(cv=3, estimator=GradientBoostingClassifier(random_state=7),\n",
              "             n_jobs=-1,\n",
              "             param_grid={&#x27;learning_rate&#x27;: [0.01, 0.025, 0.05, 0.1],\n",
              "                         &#x27;max_depth&#x27;: [3], &#x27;max_features&#x27;: [5, 6, 8],\n",
              "                         &#x27;n_estimators&#x27;: [100, 200, 300]},\n",
              "             scoring=&#x27;recall&#x27;)</pre></div></div></div><div class=\"sk-parallel\"><div class=\"sk-parallel-item\"><div class=\"sk-item\"><div class=\"sk-label-container\"><div class=\"sk-label sk-toggleable\"><input class=\"sk-toggleable__control sk-hidden--visually\" id=\"sk-estimator-id-11\" type=\"checkbox\" ><label for=\"sk-estimator-id-11\" class=\"sk-toggleable__label sk-toggleable__label-arrow\">estimator: GradientBoostingClassifier</label><div class=\"sk-toggleable__content\"><pre>GradientBoostingClassifier(random_state=7)</pre></div></div></div><div class=\"sk-serial\"><div class=\"sk-item\"><div class=\"sk-estimator sk-toggleable\"><input class=\"sk-toggleable__control sk-hidden--visually\" id=\"sk-estimator-id-12\" type=\"checkbox\" ><label for=\"sk-estimator-id-12\" class=\"sk-toggleable__label sk-toggleable__label-arrow\">GradientBoostingClassifier</label><div class=\"sk-toggleable__content\"><pre>GradientBoostingClassifier(random_state=7)</pre></div></div></div></div></div></div></div></div></div></div>"
            ]
          },
          "metadata": {},
          "execution_count": 110
        }
      ]
    },
    {
      "cell_type": "code",
      "source": [
        "print(\"Best params: \", grid.best_params_)\n",
        "print(\"Best score: \", grid.best_score_)"
      ],
      "metadata": {
        "outputId": "4aa832a7-0ac4-47cd-b4c9-660d860efac2",
        "colab": {
          "base_uri": "https://localhost:8080/"
        },
        "id": "5mFKE5ljffHn"
      },
      "execution_count": null,
      "outputs": [
        {
          "output_type": "stream",
          "name": "stdout",
          "text": [
            "Best params:  {'learning_rate': 0.01, 'max_depth': 3, 'max_features': 5, 'n_estimators': 100}\n",
            "Best score:  0.8725101482110827\n"
          ]
        }
      ]
    },
    {
      "cell_type": "markdown",
      "source": [
        "* From Random and Grid Search we were able to fix out Hyper parameters for GBDT as below\n",
        "** max_depth = 3\n",
        "** max_features = 5\n",
        "** n_estimators = 100\n",
        "** learning rate = 0.01"
      ],
      "metadata": {
        "id": "4yXsKvu2ffHo"
      }
    },
    {
      "cell_type": "code",
      "source": [
        "from sklearn.ensemble import GradientBoostingClassifier\n",
        "gb_clf = GradientBoostingClassifier(n_estimators=100,max_depth=3,max_features = 5,learning_rate=0.01,random_state=7)\n",
        "gb_clf.fit(Xtrainsm,ytrainsm)\n",
        "ypred = gb_clf.predict(Xtest)"
      ],
      "metadata": {
        "id": "ZxhA0irO5myF"
      },
      "execution_count": null,
      "outputs": []
    },
    {
      "cell_type": "markdown",
      "source": [
        "## Accuracy"
      ],
      "metadata": {
        "id": "9aM2ZA-KXD3h"
      }
    },
    {
      "cell_type": "code",
      "source": [
        "gb_clf.score(Xtrainsm,ytrainsm)"
      ],
      "metadata": {
        "colab": {
          "base_uri": "https://localhost:8080/"
        },
        "outputId": "3933cdd6-34cb-49c4-8763-92630be2d775",
        "id": "vMlPxsirXD3i"
      },
      "execution_count": null,
      "outputs": [
        {
          "output_type": "execute_result",
          "data": {
            "text/plain": [
              "0.9284603421461898"
            ]
          },
          "metadata": {},
          "execution_count": 235
        }
      ]
    },
    {
      "cell_type": "code",
      "source": [
        "ypred = gb_clf.predict(Xtest)"
      ],
      "metadata": {
        "id": "97P7lyvSXD3j"
      },
      "execution_count": null,
      "outputs": []
    },
    {
      "cell_type": "code",
      "source": [
        "gb_clf.score(Xtest,ytest)"
      ],
      "metadata": {
        "colab": {
          "base_uri": "https://localhost:8080/"
        },
        "outputId": "935ecb48-9ec5-4083-efc9-c173a6ae536e",
        "id": "__DV6ChAXD3j"
      },
      "execution_count": null,
      "outputs": [
        {
          "output_type": "execute_result",
          "data": {
            "text/plain": [
              "0.7651991614255765"
            ]
          },
          "metadata": {},
          "execution_count": 237
        }
      ]
    },
    {
      "cell_type": "markdown",
      "source": [
        "* 76% Predictions by our model are accurate"
      ],
      "metadata": {
        "id": "AvaaPVZiXD3k"
      }
    },
    {
      "cell_type": "markdown",
      "source": [
        "## Precision"
      ],
      "metadata": {
        "id": "HRY_7kyaXD3l"
      }
    },
    {
      "cell_type": "code",
      "source": [
        "precision_score(ytest, ypred)"
      ],
      "metadata": {
        "colab": {
          "base_uri": "https://localhost:8080/"
        },
        "outputId": "de9a15e2-e118-4444-e8c6-4c9424f712fe",
        "id": "fRRbSkcOXD3m"
      },
      "execution_count": null,
      "outputs": [
        {
          "output_type": "execute_result",
          "data": {
            "text/plain": [
              "0.807909604519774"
            ]
          },
          "metadata": {},
          "execution_count": 238
        }
      ]
    },
    {
      "cell_type": "markdown",
      "source": [
        "* 80% of all Positive prediction are actually positve"
      ],
      "metadata": {
        "id": "t--p08KPXD3n"
      }
    },
    {
      "cell_type": "markdown",
      "source": [
        "## Recall"
      ],
      "metadata": {
        "id": "WpdQnU1VXD3n"
      }
    },
    {
      "cell_type": "code",
      "source": [
        "recall_score(ytest, ypred)"
      ],
      "metadata": {
        "colab": {
          "base_uri": "https://localhost:8080/"
        },
        "outputId": "fd1be666-df06-4e8b-9e3a-316c541fab10",
        "id": "yS-HEYWlXD3o"
      },
      "execution_count": null,
      "outputs": [
        {
          "output_type": "execute_result",
          "data": {
            "text/plain": [
              "0.8666666666666667"
            ]
          },
          "metadata": {},
          "execution_count": 239
        }
      ]
    },
    {
      "cell_type": "markdown",
      "source": [
        "* Our Model predicts only 87% of all actual Positives as postives remaining 13% as Negative[Which are False Negatives]"
      ],
      "metadata": {
        "id": "znO5cd63XD3p"
      }
    },
    {
      "cell_type": "markdown",
      "source": [
        "## F1 Score"
      ],
      "metadata": {
        "id": "mBx4egUKXD3q"
      }
    },
    {
      "cell_type": "code",
      "source": [
        "f1_score(ytest,ypred)"
      ],
      "metadata": {
        "colab": {
          "base_uri": "https://localhost:8080/"
        },
        "outputId": "df0b776e-f772-4edc-e0cf-f319db23c3e9",
        "id": "6KrxUQ7sXD3r"
      },
      "execution_count": null,
      "outputs": [
        {
          "output_type": "execute_result",
          "data": {
            "text/plain": [
              "0.8362573099415205"
            ]
          },
          "metadata": {},
          "execution_count": 240
        }
      ]
    },
    {
      "cell_type": "markdown",
      "source": [
        "* From F1_score of 0.83, we can say Our model has almost good balance between reducing False Positives[Detect as attrition driver but not] and False Negative[Actually attrition driver but detect as not attrition]\n",
        "* However there is need to Further improve F1_Score"
      ],
      "metadata": {
        "id": "AnhbJ94tXD3s"
      }
    },
    {
      "cell_type": "markdown",
      "source": [
        "## Confusion Matrix"
      ],
      "metadata": {
        "id": "_qpg8qOSXD3s"
      }
    },
    {
      "cell_type": "code",
      "source": [
        "conf_matrix = confusion_matrix(ytest, ypred)\n",
        "conf_matrix"
      ],
      "metadata": {
        "colab": {
          "base_uri": "https://localhost:8080/"
        },
        "outputId": "f5263a7c-c496-4f85-afa2-b204424f8aa7",
        "id": "krY_4nzXXD3t"
      },
      "execution_count": null,
      "outputs": [
        {
          "output_type": "execute_result",
          "data": {
            "text/plain": [
              "array([[ 79,  68],\n",
              "       [ 44, 286]])"
            ]
          },
          "metadata": {},
          "execution_count": 241
        }
      ]
    },
    {
      "cell_type": "code",
      "source": [
        "fig, ax = plt.subplots(figsize=(5,5))\n",
        "ConfusionMatrixDisplay(conf_matrix).plot(ax = ax)"
      ],
      "metadata": {
        "colab": {
          "base_uri": "https://localhost:8080/",
          "height": 445
        },
        "outputId": "152f50df-b195-4f2d-9267-f3f90507f403",
        "id": "7he_5_7DXD3u"
      },
      "execution_count": null,
      "outputs": [
        {
          "output_type": "execute_result",
          "data": {
            "text/plain": [
              "<sklearn.metrics._plot.confusion_matrix.ConfusionMatrixDisplay at 0x7d149e09c9d0>"
            ]
          },
          "metadata": {},
          "execution_count": 242
        },
        {
          "output_type": "display_data",
          "data": {
            "text/plain": [
              "<Figure size 500x500 with 2 Axes>"
            ],
            "image/png": "[encoded data removed]"
          },
          "metadata": {}
        }
      ]
    },
    {
      "cell_type": "markdown",
      "source": [
        "* As Seen Earlier from High Recall and  Better Precision values, same is reflected in Confusion Matrix\n",
        "* How ever our model is detecting FP & FN at almost 10% & 6% , But as per the business problem our Focus is to identify all attrition driver as acquiring new drivers is more expensive than retaining existing ones\n",
        "* So we will focus on Improving Recall at moderate expense of Precision\n"
      ],
      "metadata": {
        "id": "j7t7g10gXD3v"
      }
    },
    {
      "cell_type": "markdown",
      "source": [
        "## ROC"
      ],
      "metadata": {
        "id": "q3Oz-OqSXD3w"
      }
    },
    {
      "cell_type": "code",
      "source": [
        "probability = gb_clf.predict_proba(Xtest)\n",
        "probabilites = probability[:,1]\n",
        "fpr, tpr, thr = roc_curve(ytest,probabilites)\n",
        "\n",
        "plt.plot(fpr,tpr)\n",
        "\n",
        "#random model for reference\n",
        "plt.plot(fpr,fpr,'--',color='red' )\n",
        "plt.title('ROC curve')\n",
        "plt.xlabel('FPR')\n",
        "plt.ylabel('TPR')\n",
        "plt.show()"
      ],
      "metadata": {
        "colab": {
          "base_uri": "https://localhost:8080/",
          "height": 472
        },
        "outputId": "4c62efac-9cbf-458a-896b-1bf4234d685d",
        "id": "AKfXFiFZXD3w"
      },
      "execution_count": null,
      "outputs": [
        {
          "output_type": "display_data",
          "data": {
            "text/plain": [
              "<Figure size 640x480 with 1 Axes>"
            ],
            "image/png": "[encoded data removed]"
          },
          "metadata": {}
        }
      ]
    },
    {
      "cell_type": "code",
      "source": [
        "roc_auc_score(ytest,probabilites)"
      ],
      "metadata": {
        "colab": {
          "base_uri": "https://localhost:8080/"
        },
        "outputId": "bd52ce08-7cd4-46a1-e3d8-9b9c0174c37b",
        "id": "zJjo682VXD3x"
      },
      "execution_count": null,
      "outputs": [
        {
          "output_type": "execute_result",
          "data": {
            "text/plain": [
              "0.7706761492475778"
            ]
          },
          "metadata": {},
          "execution_count": 244
        }
      ]
    },
    {
      "cell_type": "markdown",
      "source": [
        "roc_auc_score is 0.77 meaning our model can 77% efficiently Distinguish Positve and Negative Classes"
      ],
      "metadata": {
        "id": "MzOplt79XD3y"
      }
    },
    {
      "cell_type": "markdown",
      "source": [
        "## Precision Recall Curve"
      ],
      "metadata": {
        "id": "Jk24Jy4YXD3z"
      }
    },
    {
      "cell_type": "code",
      "source": [
        "precision, recall, thr = precision_recall_curve(ytest, probabilites)"
      ],
      "metadata": {
        "id": "ZMwbgdfjXD3z"
      },
      "execution_count": null,
      "outputs": []
    },
    {
      "cell_type": "code",
      "source": [
        "plt.plot(recall, precision)\n",
        "\n",
        "plt.xlabel('Recall')\n",
        "plt.ylabel('Precision')\n",
        "plt.title('PR curve')\n",
        "plt.show()"
      ],
      "metadata": {
        "colab": {
          "base_uri": "https://localhost:8080/",
          "height": 472
        },
        "outputId": "fdf8fe03-c6fc-4b7c-ed7b-9c36384688d0",
        "id": "PVqHyaXMXD30"
      },
      "execution_count": null,
      "outputs": [
        {
          "output_type": "display_data",
          "data": {
            "text/plain": [
              "<Figure size 640x480 with 1 Axes>"
            ],
            "image/png": "[encoded data removed]"
          },
          "metadata": {}
        }
      ]
    },
    {
      "cell_type": "code",
      "source": [
        "auc(recall, precision)"
      ],
      "metadata": {
        "colab": {
          "base_uri": "https://localhost:8080/"
        },
        "outputId": "b44a31ee-82de-4c32-eac4-fe30f00f117f",
        "id": "gDdWq61VXD31"
      },
      "execution_count": null,
      "outputs": [
        {
          "output_type": "execute_result",
          "data": {
            "text/plain": [
              "0.8678787549538943"
            ]
          },
          "metadata": {},
          "execution_count": 247
        }
      ]
    },
    {
      "cell_type": "markdown",
      "source": [
        "* 0.867 AUC under PR curve represents that our model has high Presicion and Recall values"
      ],
      "metadata": {
        "id": "Ti0cdkLbXD32"
      }
    },
    {
      "cell_type": "markdown",
      "source": [
        "## Classification Report"
      ],
      "metadata": {
        "id": "qMO8HiJ1XD35"
      }
    },
    {
      "cell_type": "code",
      "source": [
        "print(classification_report(ytest, ypred))"
      ],
      "metadata": {
        "colab": {
          "base_uri": "https://localhost:8080/"
        },
        "outputId": "53dac1d0-22da-4104-b20b-b330130e1057",
        "id": "AheUBMVSXD35"
      },
      "execution_count": null,
      "outputs": [
        {
          "output_type": "stream",
          "name": "stdout",
          "text": [
            "              precision    recall  f1-score   support\n",
            "\n",
            "         0.0       0.64      0.54      0.59       147\n",
            "         1.0       0.81      0.87      0.84       330\n",
            "\n",
            "    accuracy                           0.77       477\n",
            "   macro avg       0.73      0.70      0.71       477\n",
            "weighted avg       0.76      0.77      0.76       477\n",
            "\n"
          ]
        }
      ]
    },
    {
      "cell_type": "markdown",
      "source": [
        "* our GBDT Model can detect attrition driver with\n",
        "** 81% Precision\n",
        "** 87% Recall\n",
        "** 77% Accuracy\n",
        "** 84% F1-Score"
      ],
      "metadata": {
        "id": "_1qaQNCZXD36"
      }
    },
    {
      "cell_type": "markdown",
      "source": [
        "# **Bussiness Insights**"
      ],
      "metadata": {
        "id": "NQS2XX1X8Z8t"
      }
    },
    {
      "cell_type": "markdown",
      "source": [
        "## Exploratory Data Analysis"
      ],
      "metadata": {
        "id": "mUhCqDnyV1m_"
      }
    },
    {
      "cell_type": "markdown",
      "source": [
        "* In OLA dataset Shared 68% of the Drivers have attritioned only 32% have retained\n",
        "* Huge Imbalance in the Data,we have to address imbalnce before model training\n",
        "* 50% of driver have age range between 29~37\n",
        "* Min age of Driver is 21 Years\n",
        "* Max age of Driver is 58 Years\n",
        "* Attrition almost same in all Age range...compartievely slightly high in 50~60 range\n",
        "* 59% of Drivers are Male, 41% are Female\n",
        "* Attrition rate is almost same irrepective of Gender\n",
        "* Driver with Eduction 12+ are comparitively high\n",
        "* Attrition rate is almost same w.r.t Education level\n",
        "* Majority of Driver are having Joning Grade as \"1\"\n",
        "* Attrition rate is highest with Driver having Joinin Grade as \"1\"\n",
        "* Attrition rate is least with Driver having Joinin Grade as \"3\"\n",
        "* Average Total Bussiness values borught by the Driver range from -197,932 ~ 3,972,128\n",
        "* 25% of Driver have Negative Average value to Compnay\n",
        "* 50% of Driver have Average Values to Company < 429,498\n",
        "* Most no of Drivers are from city \"C20\"\n",
        "* Least no of Driver from \"C11\"\n",
        "* Driver Attrition rate is highest in the City \"C13\"\n",
        "* only 2 % of Driver had their Income Growth\n",
        "* Very low 6.9% Attrition rate observed with Driver of Increase Income\n",
        "* 68.9% Attrtition rate observed in Driver with No Income Growth\n",
        "* Only 15 % of Driver had their Quaterly Rating Increase\n",
        "* 23% Attrition rate observed with Drivers whose Quaterly Rating has Increased\n",
        "* whereas 77% Attrtition rate observed with Driver whose Quaterly Rating has not Increased\n",
        "* only 2 % of Driver had their Grade Growth\n",
        "* Very low 6.9% Attrition rate observed with Driver of Increase in Grade\n",
        "* 68.9% Attrtition rate observed in Driver with No Grade Growth\n",
        "* Newly Created Features- Income and Grade are Perfectly Correlated [1]"
      ],
      "metadata": {
        "id": "XCtg7bpLS4sL"
      }
    },
    {
      "cell_type": "markdown",
      "source": [
        "## Model & Its paramater Inference"
      ],
      "metadata": {
        "id": "t0PbuXUaV98I"
      }
    },
    {
      "cell_type": "markdown",
      "source": [
        "### Random Forest [Bagging]"
      ],
      "metadata": {
        "id": "3tea5k_WUZ4W"
      }
    },
    {
      "cell_type": "markdown",
      "source": [
        "*  From Hyperparameter tuning through Random and Grid Search we were able to fix out Hyper parameters\n",
        "** max_depth = 3\n",
        "** max_features = 5\n",
        "** n_estimators = 300\n",
        "** bootstrap = False\n",
        "\n",
        "* 79% Predictions by our model are accurate\n",
        "* 84% of all Positive prediction are actually positve\n",
        "* Our Model predicts only 87% of all actual Positives as postives rest 13% of actual Positives aredetected as Negative[False Negatives]\n",
        "* From F1_score of 0.85, we can say Our model has almost good balance between reducing False Positives[Detect as Churner but not] and False Negative[Actually Churner but detect as not Churner]\n",
        "* However there is need to Further improve F1_Score\n",
        "* How ever our model is detecting FP & FN at almost same\n",
        "* roc_auc_score is 0.81 meaning our model can 81% efficiently Distinguish Positve and Neagative Classes\n",
        "* 0.895 AUC under PR curve represents that our model has high Presicion and Recall values\n",
        "\n",
        "* As per the bussiness problem, acquiring new drivers is more expensive than retaining existing ones\n",
        "* So our focus should to predict TP and Reduce FN, so that we can correctly idenitfy prospective Attrition Drivers\n",
        "* so, From Classification Threshold Versus Presicion& Recall Curve, we Checked and changed Classification threshold from 0.5 --> 0.39 for Better Results\n",
        "* After Threshold Change from 0.5 --> 0.43 ,our Random Forest Model can detect attrition driver with\n",
        "** Precision: 84% --> 80%\n",
        "** **Recall : 87% --> 93%**\n",
        "** Accuracy: No change 79%\n",
        "** F1-Score : 85% --> 86%\n",
        "** No of False Neagtive Reduced from 42 --> 22 [Nearly 100% Improvment]\n",
        "\n"
      ],
      "metadata": {
        "id": "-5b0vIrGUdEe"
      }
    },
    {
      "cell_type": "markdown",
      "source": [
        "### Gradient Boosting Decision Tree[Boosting]"
      ],
      "metadata": {
        "id": "4TAR4uDQVto8"
      }
    },
    {
      "cell_type": "markdown",
      "source": [
        "* From Hyperparameter tuning through Random and Grid Search we were able to fix out Hyper parameters for GBDT as below\n",
        "** max_depth = 3\n",
        "** max_features = 5\n",
        "** n_estimators = 100\n",
        "** learning rate = 0.01\n",
        "\n",
        "* 76% Predictions by our model are accurate\n",
        "* 80% of all Positive prediction are actually positve\n",
        "* Our Model predicts only 87% of all actual Positives as postives remaining 13% as Negative[Which are False Negatives]\n",
        "* From F1_score of 0.83, we can say Our model has almost good balance between reducing False Positives[Detect as attrition driver but not] and False Negative[Actually attrition driver but detect as not attrition]\n",
        "* However there is need to Further improve F1_Score\n",
        "* As Seen Earlier from High Recall and Better Precision values, same is reflected in Confusion Matrix\n",
        "* roc_auc_score is 0.77 meaning our model can 77% efficiently Distinguish Positve and Negative Classe\n",
        "* 0.867 AUC under PR curve represents that our model has high Presicion and Recall value\n",
        "* How ever our model is detecting FP & FN at almost 10% & 6% , But as per the business problem our Focus is to identify all attrition driver as acquiring new drivers is more expensive than retaining existing one\n",
        "* so, From Classification Threshold Versus Presicion& Recall Curve, we Checked and changed Classification threshold from 0.5 --> 0.39 for Better Results\n",
        "* After Threshold Change from 0.5 --> 0.37 ,our GBDT Model can detect attrition driver with\n",
        "** Precision: 81% --> 78%\n",
        "** Recall : 87% --> 95%\n",
        "** Accuracy: No change 77%\n",
        "** F1-Score : 84% --> 86%\n",
        "** False Negative Reduced from 44 --> 15 [approx 150% Improvment]\n",
        "\n"
      ],
      "metadata": {
        "id": "akHwnEzGWhI-"
      }
    },
    {
      "cell_type": "markdown",
      "source": [
        "# **Recommendations**"
      ],
      "metadata": {
        "id": "N4wirW018lGX"
      }
    },
    {
      "cell_type": "markdown",
      "source": [
        "* More Information could be inputed into Model for better prediction like below\n",
        "** Average No of Hours working per Day/month\n",
        "** General working hours\n",
        "** Customer Feeback Score for the Driver\n",
        "** Regularity Discipline Parameters in working\n",
        "\n",
        "* Further Kfold technique can be used alon with Random Forest and GBDT Model as no of data point are very less\n",
        "* Intensive Random & Grid Search can be perfomred for more Hyper Parameter tuning\n"
      ],
      "metadata": {
        "id": "ZVvKG0lita7L"
      }
    }
  ],
  "metadata": {
    "colab": {
      "name": "Welcome to Colaboratory",
      "provenance": [],
      "toc_visible": true,
      "include_colab_link": true
    },
    "kernelspec": {
      "display_name": "Python 3",
      "name": "python3"
    }
  },
  "nbformat": 4,
  "nbformat_minor": 0
}