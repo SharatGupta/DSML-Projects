{
  "cells": [
    {
      "cell_type": "markdown",
      "metadata": {
        "id": "view-in-github",
        "colab_type": "text"
      },
      "source": [
        "<a href=\"https://colab.research.google.com/github/SharatGupta/DSML-Projects/blob/main/DAV%20-%20Propability%20%26%20Statistics.ipynb\" target=\"_parent\"><img src=\"https://colab.research.google.com/assets/colab-badge.svg\" alt=\"Open In Colab\"/></a>"
      ]
    },
    {
      "cell_type": "code",
      "source": [
        "import numpy as np\n",
        "import pandas as pd\n",
        "import matplotlib.pyplot as plt\n",
        "import seaborn as sns\n",
        "from scipy.stats import norm"
      ],
      "metadata": {
        "id": "A1cnXURf3_FK"
      },
      "execution_count": null,
      "outputs": []
    },
    {
      "cell_type": "code",
      "source": [
        "def normal(mu, sigma,obs):\n",
        "  # Sigma is the Population standard Deviation\n",
        "  # mu is Pupulation or Sample Mean\n",
        "  # obs is value for which propability to be calculated\n",
        "  z = (obs- mu)/sigma\n",
        "  prob_less = norm.cdf(z)\n",
        "  prob_more = 1 - prob_less\n",
        "  return prob_less, prob_more"
      ],
      "metadata": {
        "id": "ZxwkC7t94bhK"
      },
      "execution_count": null,
      "outputs": []
    },
    {
      "cell_type": "code",
      "source": [
        "def clt_fun(mu, sigma, n, obs):\n",
        "  # Sigma is the Population standard Deviation\n",
        "  # mu is Pupulation or Sample Mean\n",
        "  # n is sample Size\n",
        "  # obs is value for which propability to be calculated\n",
        "  std_error = sigma / np.sqrt(n)\n",
        "  z = (obs- mu)/std_error\n",
        "  prob_less = norm.cdf(z)\n",
        "  prob_more = 1 - prob_less\n",
        "  return prob_less, prob_more"
      ],
      "metadata": {
        "id": "Qn-YZ0O64H8p"
      },
      "execution_count": null,
      "outputs": []
    },
    {
      "cell_type": "code",
      "source": [
        "clt_fun(80, 15, 50, 75)"
      ],
      "metadata": {
        "id": "ip9h9OAh4OEC",
        "outputId": "b2765573-dffe-40da-eb6c-d0891fe6dd0d",
        "colab": {
          "base_uri": "https://localhost:8080/"
        }
      },
      "execution_count": null,
      "outputs": [
        {
          "output_type": "execute_result",
          "data": {
            "text/plain": [
              "(0.009211062727049501, 0.9907889372729505)"
            ]
          },
          "metadata": {},
          "execution_count": 5
        }
      ]
    },
    {
      "cell_type": "code",
      "source": [
        "def confiinterval(mu, sigma, n, perct):\n",
        "  # Sigma is the Population standard Deviation\n",
        "  # mu is Pupulation or Sample Mean\n",
        "  # n is sample Size\n",
        "  # perct is percentatge for interval calculation\n",
        "  std_error = sigma / np.sqrt(n)\n",
        "  x1 = mu + (std_error * norm.ppf((100-perct)/200))\n",
        "  x2 = mu + (std_error * norm.ppf(1 - ((100-perct)/200)))\n",
        "  return x1,x2"
      ],
      "metadata": {
        "id": "y2blgh4c4YVM"
      },
      "execution_count": null,
      "outputs": []
    }
  ],
  "metadata": {
    "colab": {
      "name": "Welcome to Colaboratory",
      "toc_visible": true,
      "provenance": [],
      "include_colab_link": true
    },
    "kernelspec": {
      "display_name": "Python 3",
      "name": "python3"
    }
  },
  "nbformat": 4,
  "nbformat_minor": 0
}