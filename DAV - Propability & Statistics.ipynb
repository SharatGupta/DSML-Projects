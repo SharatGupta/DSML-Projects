{
  "cells": [
    {
      "cell_type": "markdown",
      "metadata": {
        "id": "view-in-github",
        "colab_type": "text"
      },
      "source": [
        "<a href=\"https://colab.research.google.com/github/SharatGupta/DSML-Projects/blob/main/DAV%20-%20Propability%20%26%20Statistics.ipynb\" target=\"_parent\"><img src=\"https://colab.research.google.com/assets/colab-badge.svg\" alt=\"Open In Colab\"/></a>"
      ]
    },
    {
      "cell_type": "markdown",
      "source": [
        "# **Loading Modules**"
      ],
      "metadata": {
        "id": "88OyOtSomLsg"
      }
    },
    {
      "cell_type": "code",
      "source": [
        "import numpy as np\n",
        "import pandas as pd\n",
        "import matplotlib.pyplot as plt\n",
        "import seaborn as sns\n",
        "\n",
        "from scipy.stats import norm, binom, geom\n",
        "\n",
        "from scipy.stats import ttest_1samp, ttest_ind,ttest_rel\n",
        "\n",
        "from scipy.stats import mannwhitneyu,kstest, ks_1samp, ks_2samp\n",
        "\n",
        "from scipy.stats import chisquare,chi2,chi2_contingency\n",
        "\n",
        "from scipy.stats import f_oneway,kruskal,shapiro,levene\n",
        "from statsmodels.graphics.gofplots import qqplot\n",
        "\n",
        "from scipy.stats import pearsonr,spearmanr\n",
        "\n",
        "from scipy.stats import poisson\n",
        "\n",
        "from scipy.stats import expon\n",
        "\n",
        "from sklearn.impute import SimpleImputer\n",
        "#!pip install sklearn\n",
        "from sklearn.preprocessing import LabelEncoder\n",
        "#!pip install category_encoders\n",
        "from category_encoders import TargetEncoder"
      ],
      "metadata": {
        "id": "A1cnXURf3_FK"
      },
      "execution_count": null,
      "outputs": []
    },
    {
      "cell_type": "markdown",
      "source": [
        "# **DAV - Propability & Statistics**"
      ],
      "metadata": {
        "id": "89l2xmvqgg9m"
      }
    },
    {
      "cell_type": "markdown",
      "source": [
        "## Normal Distribution"
      ],
      "metadata": {
        "id": "C5mipznFLoSj"
      }
    },
    {
      "cell_type": "code",
      "source": [
        "# TO calculate Percentile from Z value ( Input Z : -inf to +inf)(output Percentile: 0 ~ 1)\n",
        "norm.cdf(-1)"
      ],
      "metadata": {
        "id": "WeFR6guko9bX",
        "outputId": "c3668ac4-e63b-465a-dac1-16f63f1a6131",
        "colab": {
          "base_uri": "https://localhost:8080/"
        }
      },
      "execution_count": null,
      "outputs": [
        {
          "output_type": "execute_result",
          "data": {
            "text/plain": [
              "0.15865525393145707"
            ]
          },
          "metadata": {},
          "execution_count": 67
        }
      ]
    },
    {
      "cell_type": "code",
      "source": [
        "# TO calculate Z value from  Percentile ( Input Percentile : 0 ~ 1)( output Z: -inf to +inf)\n",
        "norm.ppf(0.9)"
      ],
      "metadata": {
        "id": "SGQYHfNbot3y",
        "outputId": "5e12633d-d9e2-49c5-9f15-3fb886e7c43a",
        "colab": {
          "base_uri": "https://localhost:8080/"
        }
      },
      "execution_count": null,
      "outputs": [
        {
          "output_type": "execute_result",
          "data": {
            "text/plain": [
              "1.2815515655446004"
            ]
          },
          "metadata": {},
          "execution_count": 66
        }
      ]
    },
    {
      "cell_type": "code",
      "source": [
        "def normal(mu, sigma,obs):\n",
        "  # Sigma is the Population standard Deviation\n",
        "  # mu is Pupulation or Sample Mean\n",
        "  # obs is value for which propability to be calculated\n",
        "  z = (obs- mu)/sigma\n",
        "  prob_less = norm.cdf(z)\n",
        "  prob_more = 1 - prob_less\n",
        "  return prob_less, prob_more,z"
      ],
      "metadata": {
        "id": "ZxwkC7t94bhK"
      },
      "execution_count": null,
      "outputs": []
    },
    {
      "cell_type": "code",
      "source": [
        "normal(80,10, 90)"
      ],
      "metadata": {
        "id": "3LtVNrJTwd2z",
        "outputId": "ecd40a69-c6c3-4469-97bb-46c67f4ed3f4",
        "colab": {
          "base_uri": "https://localhost:8080/"
        }
      },
      "execution_count": null,
      "outputs": [
        {
          "output_type": "execute_result",
          "data": {
            "text/plain": [
              "(0.8413447460685429, 0.15865525393145707, 1.0)"
            ]
          },
          "metadata": {},
          "execution_count": 61
        }
      ]
    },
    {
      "cell_type": "code",
      "source": [
        "def clt_fun(mu, sigma, n, obs):\n",
        "  # Sigma is the Population standard Deviation\n",
        "  # mu is Pupulation or Sample Mean\n",
        "  # n is sample Size\n",
        "  # obs is value for which propability to be calculated\n",
        "  std_error = sigma / np.sqrt(n)\n",
        "  z = (obs- mu)/std_error\n",
        "  prob_less = norm.cdf(z)\n",
        "  prob_more = 1 - prob_less\n",
        "  return prob_less, prob_more"
      ],
      "metadata": {
        "id": "Qn-YZ0O64H8p"
      },
      "execution_count": null,
      "outputs": []
    },
    {
      "cell_type": "code",
      "source": [
        "clt_fun(80, 15, 50, 75)"
      ],
      "metadata": {
        "id": "ip9h9OAh4OEC",
        "outputId": "141eb3db-a77c-44ce-8414-d3163868399e",
        "colab": {
          "base_uri": "https://localhost:8080/"
        }
      },
      "execution_count": null,
      "outputs": [
        {
          "output_type": "execute_result",
          "data": {
            "text/plain": [
              "(0.009211062727049501, 0.9907889372729505)"
            ]
          },
          "metadata": {},
          "execution_count": 63
        }
      ]
    },
    {
      "cell_type": "code",
      "source": [
        "def confiinterval(mu, sigma, n, perct):\n",
        "  # Sigma is the Population standard Deviation\n",
        "  # mu is Population or Sample Mean\n",
        "  # n is sample Size\n",
        "  # perct is confidence percentatge required for interval calculation\n",
        "  std_error = sigma / np.sqrt(n)\n",
        "  x1 = mu + (std_error * norm.ppf((100-perct)/200))\n",
        "  x2 = mu + (std_error * norm.ppf(1 - ((100-perct)/200)))\n",
        "  return x1,x2"
      ],
      "metadata": {
        "id": "y2blgh4c4YVM"
      },
      "execution_count": null,
      "outputs": []
    },
    {
      "cell_type": "code",
      "source": [
        "confiinterval(80, 10, 30, 99)"
      ],
      "metadata": {
        "id": "-e9YJJ33xHBT",
        "outputId": "634bb690-70ab-49dd-b81d-5e26c67322f9",
        "colab": {
          "base_uri": "https://localhost:8080/"
        }
      },
      "execution_count": null,
      "outputs": [
        {
          "output_type": "execute_result",
          "data": {
            "text/plain": [
              "(75.29720062054481, 84.70279937945519)"
            ]
          },
          "metadata": {},
          "execution_count": 65
        }
      ]
    },
    {
      "cell_type": "markdown",
      "source": [
        "### Population Mean & CI using Centre Limit Theorem"
      ],
      "metadata": {
        "id": "by6bV_-6OyiT"
      }
    },
    {
      "cell_type": "code",
      "source": [
        "# This can be used to interpret about population when large sample data is given but not given standard deviation of population\n",
        "# Function for Finding Confidence Interval(CI) from given sample data - \"data\" using CLT with sample bin size - \"n\" , No of sample bins - \"m\" , Confidence Interval - \"perct\"\n",
        "# This Function return tuple of 3 Values - CI lower limit, Mean, CI Upper Limit of given data\n",
        "\n",
        "# data = sample Dataset(Numerical Series Datatype)\n",
        "# n = Sample bin size for mean calculation >=30 (int)\n",
        "# m = No of Sample bins for mean distribution (int)\n",
        "# perct = Confidence interval Percentage (float)\n",
        "def Confidence_Interval(data,n,m,perct):\n",
        "   sample_mean_n = [np.mean(data.sample(n)) for i in range(m)]\n",
        "\n",
        "   Mean_of_samples_Mean = np.mean(sample_mean_n)\n",
        "   sd_of_samples_Mean = np.std(sample_mean_n)\n",
        "\n",
        "   std_error = sd_of_samples_Mean / np.sqrt(n)\n",
        "   x1 = Mean_of_samples_Mean + (std_error * norm.ppf((100-perct)/200))\n",
        "   x2 = Mean_of_samples_Mean + (std_error * norm.ppf(1 - ((100-perct)/200)))\n",
        "   return round(x1),round(Mean_of_samples_Mean),round(x2)"
      ],
      "metadata": {
        "id": "-IwxeV_nPvVO"
      },
      "execution_count": null,
      "outputs": []
    },
    {
      "cell_type": "code",
      "source": [
        "# This can also be used to interpret about population when large sample data is given but not given standard deviation of population\n",
        "# this method told during case study review session\n",
        "\n",
        "# Function for Finding Confidence Interval(CI) from given sample data - \"data\" using CLT with sample bin size - \"n\" , No of sample bins - \"m\" , Confidence Interval - \"perct\"\n",
        "# This Function return tuple of 3 Values - CI lower limit, Mean, CI Upper Limit of given data\n",
        "\n",
        "# data = sample Dataset(Numerical Series Datatype)\n",
        "# n = Sample bin size for mean calculation >=30 (int)\n",
        "# m = No of Sample bins for mean distribution (int)\n",
        "# perct = Confidence interval Percentage (float)\n",
        "def Confidence_Interval1(data,n,m,perct):\n",
        "   sample_mean_n = [np.mean(data.sample(n,replace=True)) for i in range(m)]\n",
        "\n",
        "   Mean_of_samples_Mean = np.mean(sample_mean_n)\n",
        "   x1 = np.percentile(sample_mean_n,(100-perct)/2)\n",
        "   x2 = np.percentile(sample_mean_n,100 -(100-perct)/2)\n",
        "\n",
        "   return round(x1),round(Mean_of_samples_Mean),round(x2)"
      ],
      "metadata": {
        "id": "J8X2TDK1yYTt"
      },
      "execution_count": null,
      "outputs": []
    },
    {
      "cell_type": "code",
      "source": [
        "data = pd.read_csv(\"https://d2beiqkhq929f0.cloudfront.net/public_assets/assets/000/001/293/original/walmart_data.csv\")\n",
        "print(\"*********************************************************************************\")\n",
        "for z in ['Gender', 'Age', 'Marital_Status', 'City_Category','Stay_In_Current_City_Years']:\n",
        "  X = []\n",
        "  U = []\n",
        "  L = []\n",
        "  M = []\n",
        "  print(z,\"Attribute Population - Mean & 99% Confidence Interval\")\n",
        "  print(\"*********************************************************************************\")\n",
        "  for y in data[z].value_counts().index:\n",
        "    outlierlist=[]\n",
        "    datai = data[data[z] == y]\n",
        "    print(\"-------------------------------------------------------------------\")\n",
        "    print(z,\"-\", y,\"Group\")\n",
        "    print()\n",
        "    IQR = np.percentile(datai[\"Purchase\"],75) - np.percentile(datai[\"Purchase\"],25)\n",
        "    lower_limit = max (np.percentile(datai[\"Purchase\"],25) - 1.5*IQR,0)\n",
        "    upper_limit = np.percentile(datai[\"Purchase\"],75) + 1.5*IQR\n",
        "    outlierlist = list(np.where( (datai[\"Purchase\"]>upper_limit) | (datai[\"Purchase\"]<lower_limit) )[0])\n",
        "    datai = datai.reset_index()\n",
        "    datai.drop(outlierlist,inplace=True)\n",
        "    Lower_limit,Mean_value,Upper_limit = Confidence_Interval(data= datai[\"Purchase\"],n=100,m=5000,perct=99)\n",
        "    print(\"Mean Purchase value :\",Mean_value)\n",
        "    print(\"99% Confidence Interval :\",Lower_limit,\"~\",Upper_limit )\n",
        "    X.append(y)\n",
        "    U.append(Upper_limit)\n",
        "    M.append(Mean_value)\n",
        "    L.append(Lower_limit)\n",
        "  print(\"-------------------------------------------------------------------\")\n",
        "  plt.figurefigsize=(6,4)\n",
        "  plt.title(\"Population Mean & 99% CI Intervals\" )\n",
        "  sns.scatterplot( x= X, y=U)\n",
        "  sns.scatterplot( x= X, y=M)\n",
        "  sns.scatterplot( x= X, y=L)\n",
        "  plt.grid(linestyle = '--', linewidth = 0.5,axis=\"y\")\n",
        "  plt.show()"
      ],
      "metadata": {
        "id": "inCcuERhIDaw"
      },
      "execution_count": null,
      "outputs": []
    },
    {
      "cell_type": "markdown",
      "source": [
        "### Population Mean & CI using Bootstrapping"
      ],
      "metadata": {
        "id": "TE1eg3v1Mh9y"
      }
    },
    {
      "cell_type": "markdown",
      "source": [
        "Bootstrapping is used when we have very small sample data may be less than 100 sample data points  or where we cannot use Centre limit Theorem"
      ],
      "metadata": {
        "id": "X2T_HFdjMpFd"
      }
    },
    {
      "cell_type": "code",
      "source": [
        "survey_1 = [35, 36, 33, 37, 34, 35]\n",
        "survey_2 = [20, 37, 17, 50, 53, 33]\n",
        "\n",
        "bootstrapped_mean_samples = []\n",
        "for i in range(10000):\n",
        "  bootstrapped_samples = np.random.choice(survey_1, size=6)\n",
        "  bootstrapped_samples_mean = np.mean(bootstrapped_samples)\n",
        "  bootstrapped_mean_samples.append(bootstrapped_samples_mean)\n",
        "len(bootstrapped_mean_samples)\n",
        "#Confidence interval [x1 ~ x2]\n",
        "x1 = np.percentile(bootstrapped_mean_samples, 2.5)\n",
        "x2 = np.percentile(bootstrapped_mean_samples, 97.5)\n",
        "x1, x2\n",
        "\n",
        "# Population Mean\n",
        "np.mean(bootstrapped_mean_samples)\n",
        "\n"
      ],
      "metadata": {
        "colab": {
          "base_uri": "https://localhost:8080/"
        },
        "id": "WJxSBGbMMzbI",
        "outputId": "e93e83e6-747f-4645-e7c4-007ef462e907"
      },
      "execution_count": null,
      "outputs": [
        {
          "output_type": "execute_result",
          "data": {
            "text/plain": [
              "35.00555"
            ]
          },
          "metadata": {},
          "execution_count": 3
        }
      ]
    },
    {
      "cell_type": "markdown",
      "source": [
        "## Binomial Distribution"
      ],
      "metadata": {
        "id": "S54Gt0bSLw88"
      }
    },
    {
      "cell_type": "code",
      "source": [
        "# Binomial Distribution Propability for \"s\" sucesses in \"n\" trial with success propability of \"p\"\n",
        "n = 10 # No of Trial\n",
        "p = 0.5 # Propability of Success\n",
        "s = 5 #No of Success in N trials\n",
        "binom.pmf(s, n, p)"
      ],
      "metadata": {
        "id": "qSU-GvIbsBT2",
        "outputId": "ce353b84-cce3-4e63-b1ff-5362f8eeda8f",
        "colab": {
          "base_uri": "https://localhost:8080/"
        }
      },
      "execution_count": null,
      "outputs": [
        {
          "output_type": "execute_result",
          "data": {
            "text/plain": [
              "0.24609375000000003"
            ]
          },
          "metadata": {},
          "execution_count": 68
        }
      ]
    },
    {
      "cell_type": "code",
      "source": [
        "# Binomial Distribution Propability for all possible success outcomes from 0 to n Sucesses\n",
        "n = 10 # No of Trial\n",
        "p = 0.5 # Propability of Succes\n",
        "binom.pmf(np.arange(n+1), n, p)"
      ],
      "metadata": {
        "id": "NrWFXrM8pZ-h",
        "outputId": "e2b89fa5-66ff-4893-faeb-e91d3a94825c",
        "colab": {
          "base_uri": "https://localhost:8080/"
        }
      },
      "execution_count": null,
      "outputs": [
        {
          "output_type": "execute_result",
          "data": {
            "text/plain": [
              "array([0.00097656, 0.00976563, 0.04394531, 0.1171875 , 0.20507812,\n",
              "       0.24609375, 0.20507812, 0.1171875 , 0.04394531, 0.00976563,\n",
              "       0.00097656])"
            ]
          },
          "metadata": {},
          "execution_count": 69
        }
      ]
    },
    {
      "cell_type": "code",
      "source": [
        "# Binomial Distribution Propability plot\n",
        "n = 10 # No of Trial\n",
        "p = 0.3 # Propability of Succes\n",
        "sns.barplot(x= np.arange(n+1), y = [binom.pmf(i,n,p) for i in range(n+1)])"
      ],
      "metadata": {
        "id": "Zfsk9lZlrmF_",
        "outputId": "8e30a4c1-3635-4933-933e-5f283bb644fd",
        "colab": {
          "base_uri": "https://localhost:8080/",
          "height": 447
        }
      },
      "execution_count": null,
      "outputs": [
        {
          "output_type": "execute_result",
          "data": {
            "text/plain": [
              "<Axes: >"
            ]
          },
          "metadata": {},
          "execution_count": 70
        },
        {
          "output_type": "display_data",
          "data": {
            "text/plain": [
              "<Figure size 640x480 with 1 Axes>"
            ],
            "image/png": "[encoded data removed]"
          },
          "metadata": {}
        }
      ]
    },
    {
      "cell_type": "code",
      "source": [
        "# Binomial Distribution Propability for  sucesses less than \"s\" in \"n\" trial with success propability of \"p\":Cummulative Distribution\n",
        "n = 10 # No of Trial\n",
        "p = 0.5 # Propability of Succes\n",
        "s = 7 # No of Success less than \"s\"\n",
        "binom.cdf(s,n,p)"
      ],
      "metadata": {
        "id": "AhCdhYRWqNi7",
        "outputId": "ccb26f36-8ac1-433e-cdd7-94ba803eaac9",
        "colab": {
          "base_uri": "https://localhost:8080/"
        }
      },
      "execution_count": null,
      "outputs": [
        {
          "output_type": "execute_result",
          "data": {
            "text/plain": [
              "0.9453125"
            ]
          },
          "metadata": {},
          "execution_count": 71
        }
      ]
    },
    {
      "cell_type": "code",
      "source": [
        "# Cummulative distribution for Binomial Distribution\n",
        "n = 10 # No of Trial\n",
        "p = 0.5 # Propability of Succes\n",
        "sns.lineplot(x= np.arange(n+1), y = [binom.cdf(i,n,p) for i in range(n+1)])"
      ],
      "metadata": {
        "id": "38Mc7CBpqi_J",
        "outputId": "1911c95e-4099-4f8e-8ef2-b2a5f6d33519",
        "colab": {
          "base_uri": "https://localhost:8080/",
          "height": 447
        }
      },
      "execution_count": null,
      "outputs": [
        {
          "output_type": "execute_result",
          "data": {
            "text/plain": [
              "<Axes: >"
            ]
          },
          "metadata": {},
          "execution_count": 72
        },
        {
          "output_type": "display_data",
          "data": {
            "text/plain": [
              "<Figure size 640x480 with 1 Axes>"
            ],
            "image/png": "[encoded data removed]"
          },
          "metadata": {}
        }
      ]
    },
    {
      "cell_type": "code",
      "source": [
        "# Binomial Distribution Propability given CDF value = q ,  \"n\" trial with success propability of \"p\":finding no of success\n",
        "# Given 94% confidence out of n trial, how many trial will be successful\n",
        "n = 10 # No of Trial\n",
        "p = 0.5 # Propability of Succes\n",
        "q = 0.94 # Percentile\n",
        "binom.ppf(q=0.94,n=10,p=0.5)"
      ],
      "metadata": {
        "colab": {
          "base_uri": "https://localhost:8080/"
        },
        "id": "X6UZojDNMZ2e",
        "outputId": "1c5f3e1a-e9f4-417c-e363-a3b30e830336"
      },
      "execution_count": null,
      "outputs": [
        {
          "output_type": "execute_result",
          "data": {
            "text/plain": [
              "7.0"
            ]
          },
          "metadata": {},
          "execution_count": 11
        }
      ]
    },
    {
      "cell_type": "markdown",
      "source": [
        "## Geometric Distribution"
      ],
      "metadata": {
        "id": "uDg0Pe5wL5s8"
      }
    },
    {
      "cell_type": "code",
      "source": [
        "# Geometric Distribution Propability\n",
        "n = 0 # No of Trial for 1st Succes\n",
        "p = 0.5 # Propability of Succes\n",
        "geom.pmf(n, p)"
      ],
      "metadata": {
        "id": "qXjAM5E9qCzX",
        "outputId": "f461fba9-d684-4894-8528-aa76ab02a855",
        "colab": {
          "base_uri": "https://localhost:8080/"
        }
      },
      "execution_count": null,
      "outputs": [
        {
          "output_type": "execute_result",
          "data": {
            "text/plain": [
              "0.0"
            ]
          },
          "metadata": {},
          "execution_count": 73
        }
      ]
    },
    {
      "cell_type": "code",
      "source": [
        "# Geometric Distribution Propability curve [Propability of Succes at given no of trials]\n",
        "n = 100 # No of Trial\n",
        "p = 0.1 # Propability of Succes\n",
        "sns.lineplot(x= np.arange(0,n+1), y = [geom.pmf(i,p) for i in range(0,n+1)])"
      ],
      "metadata": {
        "id": "7Kj8ypIisyo_",
        "outputId": "3d88c08d-f8b8-4f4d-fcc1-3dd316a62ce4",
        "colab": {
          "base_uri": "https://localhost:8080/",
          "height": 447
        }
      },
      "execution_count": null,
      "outputs": [
        {
          "output_type": "execute_result",
          "data": {
            "text/plain": [
              "<Axes: >"
            ]
          },
          "metadata": {},
          "execution_count": 74
        },
        {
          "output_type": "display_data",
          "data": {
            "text/plain": [
              "<Figure size 640x480 with 1 Axes>"
            ],
            "image/png": "[encoded data removed]"
          },
          "metadata": {}
        }
      ]
    },
    {
      "cell_type": "code",
      "source": [
        "# Geometric Distribution Propability for sucess  by \"n\"th trial  with success propability of \"p\" : Cummulative Distribution\n",
        "n = 3 #  sucesse  by \"n\"th\n",
        "p = 0.1 # Propability of Succes\n",
        "geom.cdf(n, p)"
      ],
      "metadata": {
        "id": "5gNpIWo4vEKJ",
        "outputId": "aa4e8aa2-0d78-49bd-9682-377ea4f40362",
        "colab": {
          "base_uri": "https://localhost:8080/"
        }
      },
      "execution_count": null,
      "outputs": [
        {
          "output_type": "execute_result",
          "data": {
            "text/plain": [
              "0.271"
            ]
          },
          "metadata": {},
          "execution_count": 75
        }
      ]
    },
    {
      "cell_type": "code",
      "source": [
        "# Cummulative distribution for Geomtric Distribution\n",
        "n = 20 # No of Trial\n",
        "p = 0.5 # Propability of Success\n",
        "sns.lineplot(x= np.arange(0,n+1), y = [geom.cdf(i,p) for i in range(0,n+1)])"
      ],
      "metadata": {
        "id": "8yI8W05UvJMd",
        "outputId": "24f08cb9-f115-45d5-b319-6be7ff741413",
        "colab": {
          "base_uri": "https://localhost:8080/",
          "height": 447
        }
      },
      "execution_count": null,
      "outputs": [
        {
          "output_type": "execute_result",
          "data": {
            "text/plain": [
              "<Axes: >"
            ]
          },
          "metadata": {},
          "execution_count": 23
        },
        {
          "output_type": "display_data",
          "data": {
            "text/plain": [
              "<Figure size 640x480 with 1 Axes>"
            ],
            "image/png": "[encoded data removed]"
          },
          "metadata": {}
        }
      ]
    },
    {
      "cell_type": "code",
      "source": [
        "# Geometric Distribution Propability given CDF value = q , with success propability of \"p\":finding n no of trials\n",
        "# with 95% confidence how many trial willbe needed for the first success\n",
        "p = 0.5 # Propability of Succes\n",
        "q = 0.95 # Percentile for\n",
        "geom.ppf(q=0.95,p=0.5)"
      ],
      "metadata": {
        "id": "pJBjxKW9_ods",
        "outputId": "0c286f5a-d2cf-461c-b6e5-0c661b995143",
        "colab": {
          "base_uri": "https://localhost:8080/"
        }
      },
      "execution_count": null,
      "outputs": [
        {
          "output_type": "execute_result",
          "data": {
            "text/plain": [
              "5.0"
            ]
          },
          "metadata": {},
          "execution_count": 18
        }
      ]
    },
    {
      "cell_type": "code",
      "source": [
        "geom.ppf?"
      ],
      "metadata": {
        "id": "gr2YrvtrN3eo"
      },
      "execution_count": null,
      "outputs": []
    },
    {
      "cell_type": "markdown",
      "source": [
        "# **DAV - Fundamentals**"
      ],
      "metadata": {
        "id": "Z5-OJAfHgocv"
      }
    },
    {
      "cell_type": "markdown",
      "source": [
        "![Hypothesis.jpg](data:image/jpeg;base64,/9j/4AAQSkZJRgABAQEAYABgAAD/4TbiRXhpZgAATU0AKgAAAAgABgALAAIAAAAmAAAIYgESAAMAAAABAAEAAAExAAIAAAAmAAAIiAEyAAIAAAAUAAAIrodpAAQAAAABAAAIwuocAAcAAAgMAAAAVgAAEUYc6gAAAAgAAAAAAAAAAAAAAAAAAAAAAAAAAAAAAAAAAAAAAAAAAAAAAAAAAAAAAAAAAAAAAAAAAAAAAAAAAAAAAAAAAAAAAAAAAAAAAAAAAAAAAAAAAAAAAAAAAAAAAAAAAAAAAAAAAAAAAAAAAAAAAAAAAAAAAAAAAAAAAAAAAAAAAAAAAAAAAAAAAAAAAAAAAAAAAAAAAAAAAAAAAAAAAAAAAAAAAAAAAAAAAAAAAAAAAAAAAAAAAAAAAAAAAAAAAAAAAAAAAAAAAAAAAAAAAAAAAAAAAAAAAAAAAAAAAAAAAAAAAAAAAAAAAAAAAAAAAAAAAAAAAAAAAAAAAAAAAAAAAAAAAAAAAAAAAAAAAAAAAAAAAAAAAAAAAAAAAAAAAAAAAAAAAAAAAAAAAAAAAAAAAAAAAAAAAAAAAAAAAAAAAAAAAAAAAAAAAAAAAAAAAAAAAAAAAAAAAAAAAAAAAAAAAAAAAAAAAAAAAAAAAAAAAAAAAAAAAAAAAAAAAAAAAAAAAAAAAAAAAAAAAAAAAAAAAAAAAAAAAAAAAAAAAAAAAAAAAAAAAAAAAAAAAAAAAAAAAAAAAAAAAAAAAAAAAAAAAAAAAAAAAAAAAAAAAAAAAAAAAAAAAAAAAAAAAAAAAAAAAAAAAAAAAAAAAAAAAAAAAAAAAAAAAAAAAAAAAAAAAAAAAAAAAAAAAAAAAAAAAAAAAAAAAAAAAAAAAAAAAAAAAAAAAAAAAAAAAAAAAAAAAAAAAAAAAAAAAAAAAAAAAAAAAAAAAAAAAAAAAAAAAAAAAAAAAAAAAAAAAAAAAAAAAAAAAAAAAAAAAAAAAAAAAAAAAAAAAAAAAAAAAAAAAAAAAAAAAAAAAAAAAAAAAAAAAAAAAAAAAAAAAAAAAAAAAAAAAAAAAAAAAAAAAAAAAAAAAAAAAAAAAAAAAAAAAAAAAAAAAAAAAAAAAAAAAAAAAAAAAAAAAAAAAAAAAAAAAAAAAAAAAAAAAAAAAAAAAAAAAAAAAAAAAAAAAAAAAAAAAAAAAAAAAAAAAAAAAAAAAAAAAAAAAAAAAAAAAAAAAAAAAAAAAAAAAAAAAAAAAAAAAAAAAAAAAAAAAAAAAAAAAAAAAAAAAAAAAAAAAAAAAAAAAAAAAAAAAAAAAAAAAAAAAAAAAAAAAAAAAAAAAAAAAAAAAAAAAAAAAAAAAAAAAAAAAAAAAAAAAAAAAAAAAAAAAAAAAAAAAAAAAAAAAAAAAAAAAAAAAAAAAAAAAAAAAAAAAAAAAAAAAAAAAAAAAAAAAAAAAAAAAAAAAAAAAAAAAAAAAAAAAAAAAAAAAAAAAAAAAAAAAAAAAAAAAAAAAAAAAAAAAAAAAAAAAAAAAAAAAAAAAAAAAAAAAAAAAAAAAAAAAAAAAAAAAAAAAAAAAAAAAAAAAAAAAAAAAAAAAAAAAAAAAAAAAAAAAAAAAAAAAAAAAAAAAAAAAAAAAAAAAAAAAAAAAAAAAAAAAAAAAAAAAAAAAAAAAAAAAAAAAAAAAAAAAAAAAAAAAAAAAAAAAAAAAAAAAAAAAAAAAAAAAAAAAAAAAAAAAAAAAAAAAAAAAAAAAAAAAAAAAAAAAAAAAAAAAAAAAAAAAAAAAAAAAAAAAAAAAAAAAAAAAAAAAAAAAAAAAAAAAAAAAAAAAAAAAAAAAAAAAAAAAAAAAAAAAAAAAAAAAAAAAAAAAAAAAAAAAAAAAAAAAAAAAAAAAAAAAAAAAAAAAAAAAAAAAAAAAAAAAAAAAAAAAAAAAAAAAAAAAAAAAAAAAAAAAAAAAAAAAAAAAAAAAAAAAAAAAAAAAAAAAAAAAAAAAAAAAAAAAAAAAAAAAAAAAAAAAAAAAAAAAAAAAAAAAAAAAAAAAAAAAAAAAAAAAAAAAAAAAAAAAAAAAAAAAAAAAAAAAAAAAAAAAAAAAAAAAAAAAAAAAAAAAAAAAAAAAAAAAAAAAAAAAAAAAAAAAAAAAAAAAAAAAAAAAAAAAAAAAAAAAAAAAAAAAAAAAAAAAAAAAAAAAAAAAAAAAAAAAAAAAAAAAAAAAAAAAAAAAAAAAAAAAAAAAAAAAAAAAAAAAAAAAAAAAAAAAAAAAAAAAAAAAAAAAAAAAAAAAAAAAAAAAAAAAAAAAAAAAAAAAAAAAAAAAAAAAAAAAAAAAAAAAAAAAAAAAAAAAAAAAAAAAAAAAAAAAAAAAAAAAAAAAAAAAAAAAAAAAAAAAAAAAAAAAAAAAAAAAAAAAAAAAAAAAAAAAAAAAAAAAAAAAAAAAAAAAAAAAAAAAAAAAAAAAAAAAAAAAAAAAAAAAAAAAAAAAAAAAAAAAAAAAAAAAAAAAAAAAAAAAAAAAAAAAAAAAAAAAAAAAAAAAAAAAAAAAAAAAAAAAAAAAAAAAAAAAAAAAAAAAAAAAAAAAAAAAAAAAAAAAAAAAAAAAAAAAAAAAAAAAAAAAAAAAAAAAAAAAAAAAAAAAAAAAAAAAAAAAAAAAAAAAAAAAAAAAAAAAAAAAAAAAAAAAAAAAAAAAAAAAAAAAAAAAAAAAAAAAAAAAAAAAAAAAAAAAAAAAAAAAAAAAAAAAAAAAAAAAAAAAAAAAAAAAAAAAAAAAAAAAAAAAAAAAAAAAAAAAAAAAAAAAAAAAAAAAAAAAAAAAAAAAAAAAAAAAAAAAAAAAAAAAAAAAAAAAAAAAAAAAAAAAAAAAAAAAAAAAAAAAAAAAAAAAAAAAAAAAAAAAAAAAAAAAAAAAAAAAAAAAAAAAAAAAAAAAFdpbmRvd3MgUGhvdG8gRWRpdG9yIDEwLjAuMTAwMTEuMTYzODQAV2luZG93cyBQaG90byBFZGl0b3IgMTAuMC4xMDAxMS4xNjM4NAAyMDIzOjExOjIxIDE1OjM0OjM1AAAGkAMAAgAAABQAABEckAQAAgAAABQAABEwkpEAAgAAAAMzNQAAkpIAAgAAAAMzNQAAoAEAAwAAAAEAAQAA6hwABwAACAwAAAkQAAAAABzqAAAACAAAAAAAAAAAAAAAAAAAAAAAAAAAAAAAAAAAAAAAAAAAAAAAAAAAAAAAAAAAAAAAAAAAAAAAAAAAAAAAAAAAAAAAAAAAAAAAAAAAAAAAAAAAAAAAAAAAAAAAAAAAAAAAAAAAAAAAAAAAAAAAAAAAAAAAAAAAAAAAAAAAAAAAAAAAAAAAAAAAAAAAAAAAAAAAAAAAAAAAAAAAAAAAAAAAAAAAAAAAAAAAAAAAAAAAAAAAAAAAAAAAAAAAAAAAAAAAAAAAAAAAAAAAAAAAAAAAAAAAAAAAAAAAAAAAAAAAAAAAAAAAAAAAAAAAAAAAAAAAAAAAAAAAAAAAAAAAAAAAAAAAAAAAAAAAAAAAAAAAAAAAAAAAAAAAAAAAAAAAAAAAAAAAAAAAAAAAAAAAAAAAAAAAAAAAAAAAAAAAAAAAAAAAAAAAAAAAAAAAAAAAAAAAAAAAAAAAAAAAAAAAAAAAAAAAAAAAAAAAAAAAAAAAAAAAAAAAAAAAAAAAAAAAAAAAAAAAAAAAAAAAAAAAAAAAAAAAAAAAAAAAAAAAAAAAAAAAAAAAAAAAAAAAAAAAAAAAAAAAAAAAAAAAAAAAAAAAAAAAAAAAAAAAAAAAAAAAAAAAAAAAAAAAAAAAAAAAAAAAAAAAAAAAAAAAAAAAAAAAAAAAAAAAAAAAAAAAAAAAAAAAAAAAAAAAAAAAAAAAAAAAAAAAAAAAAAAAAAAAAAAAAAAAAAAAAAAAAAAAAAAAAAAAAAAAAAAAAAAAAAAAAAAAAAAAAAAAAAAAAAAAAAAAAAAAAAAAAAAAAAAAAAAAAAAAAAAAAAAAAAAAAAAAAAAAAAAAAAAAAAAAAAAAAAAAAAAAAAAAAAAAAAAAAAAAAAAAAAAAAAAAAAAAAAAAAAAAAAAAAAAAAAAAAAAAAAAAAAAAAAAAAAAAAAAAAAAAAAAAAAAAAAAAAAAAAAAAAAAAAAAAAAAAAAAAAAAAAAAAAAAAAAAAAAAAAAAAAAAAAAAAAAAAAAAAAAAAAAAAAAAAAAAAAAAAAAAAAAAAAAAAAAAAAAAAAAAAAAAAAAAAAAAAAAAAAAAAAAAAAAAAAAAAAAAAAAAAAAAAAAAAAAAAAAAAAAAAAAAAAAAAAAAAAAAAAAAAAAAAAAAAAAAAAAAAAAAAAAAAAAAAAAAAAAAAAAAAAAAAAAAAAAAAAAAAAAAAAAAAAAAAAAAAAAAAAAAAAAAAAAAAAAAAAAAAAAAAAAAAAAAAAAAAAAAAAAAAAAAAAAAAAAAAAAAAAAAAAAAAAAAAAAAAAAAAAAAAAAAAAAAAAAAAAAAAAAAAAAAAAAAAAAAAAAAAAAAAAAAAAAAAAAAAAAAAAAAAAAAAAAAAAAAAAAAAAAAAAAAAAAAAAAAAAAAAAAAAAAAAAAAAAAAAAAAAAAAAAAAAAAAAAAAAAAAAAAAAAAAAAAAAAAAAAAAAAAAAAAAAAAAAAAAAAAAAAAAAAAAAAAAAAAAAAAAAAAAAAAAAAAAAAAAAAAAAAAAAAAAAAAAAAAAAAAAAAAAAAAAAAAAAAAAAAAAAAAAAAAAAAAAAAAAAAAAAAAAAAAAAAAAAAAAAAAAAAAAAAAAAAAAAAAAAAAAAAAAAAAAAAAAAAAAAAAAAAAAAAAAAAAAAAAAAAAAAAAAAAAAAAAAAAAAAAAAAAAAAAAAAAAAAAAAAAAAAAAAAAAAAAAAAAAAAAAAAAAAAAAAAAAAAAAAAAAAAAAAAAAAAAAAAAAAAAAAAAAAAAAAAAAAAAAAAAAAAAAAAAAAAAAAAAAAAAAAAAAAAAAAAAAAAAAAAAAAAAAAAAAAAAAAAAAAAAAAAAAAAAAAAAAAAAAAAAAAAAAAAAAAAAAAAAAAAAAAAAAAAAAAAAAAAAAAAAAAAAAAAAAAAAAAAAAAAAAAAAAAAAAAAAAAAAAAAAAAAAAAAAAAAAAAAAAAAAAAAAAAAAAAAAAAAAAAAAAAAAAAAAAAAAAAAAAAAAAAAAAAAAAAAAAAAAAAAAAAAAAAAAAAAAAAAAAAAAAAAAAAAAAAAAAAAAAAAAAAAAAAAAAAAAAAAAAAAAAAAAAAAAAAAAAAAAAAAAAAAAAAAAAAAAAAAAAAAAAAAAAAAAAAAAAAAAAAAAAAAAAAAAAAAAAAAAAAAAAAAAAAAAAAAAAAAAAAAAAAAAAAAAAAAAAAAAAAAAAAAAAAAAAAAAAAAAAAAAAAAAAAAAAAAAAAAAAAAAAAAAAAAAAAAAAAAAAAAAAAAAAAAAAAAAAAAAAAAAAAAAAAAAAAAAAAAAAAAAAAAAAAAAAAAAAAAAAAAAAAAAAAAAAAAAAAAAAAAAAAAAAAAAAAAAAAAAAAAAAAAAAAAAAAAAAAAAAAAAAAAAAAAAAAAAAAAAAAAAAAAAAAAAAAAAAAAAAAAAAAAAAAAAAAAAAAAAAAAAAAAAAAAAAAAAAAAAAAAAAAAAAAAAAAAAAAAAAAAAAAAAAAAAAAAAAAAAAAAAAAAAAAAAAAAAAAAAAAAAAAAAAAAAAAAAAAAAAAAAAAAAAAAAAAAAAAAAAAAAAAAAAAAAAAAAAAAAAAAAAAAAAAAAAAAAAAAAAAAAAAAAAAAAAAAAAAAAAAAAAAAAAAAAAAAAAAAAAAAAAAAAAAAAAAAAAAAAAAAAAAAAAAAAAAAAAAAAAAAAAAAAAAAAAAAAAAAAAAAAAAAAAAAAAAAAAAAAAAAAAAAAAAAAAAAAAAAAAAAAAAAAAAAAAAAMjAyMzoxMToyMSAxNTozMDoxOQAyMDIzOjExOjIxIDE1OjMwOjE5AAAAAAYBAwADAAAAAQAGAAABGgAFAAAAAQAAEZQBGwAFAAAAAQAAEZwBKAADAAAAAQACAAACAQAEAAAAAQAAEaQCAgAEAAAAAQAAJTYAAAAAAAAAYAAAAAEAAABgAAAAAf/Y/9sAQwAIBgYHBgUIBwcHCQkICgwUDQwLCwwZEhMPFB0aHx4dGhwcICQuJyAiLCMcHCg3KSwwMTQ0NB8nOT04MjwuMzQy/9sAQwEJCQkMCwwYDQ0YMiEcITIyMjIyMjIyMjIyMjIyMjIyMjIyMjIyMjIyMjIyMjIyMjIyMjIyMjIyMjIyMjIyMjIy/8AAEQgAewEAAwEhAAIRAQMRAf/EAB8AAAEFAQEBAQEBAAAAAAAAAAABAgMEBQYHCAkKC//EALUQAAIBAwMCBAMFBQQEAAABfQECAwAEEQUSITFBBhNRYQcicRQygZGhCCNCscEVUtHwJDNicoIJChYXGBkaJSYnKCkqNDU2Nzg5OkNERUZHSElKU1RVVldYWVpjZGVmZ2hpanN0dXZ3eHl6g4SFhoeIiYqSk5SVlpeYmZqio6Slpqeoqaqys7S1tre4ubrCw8TFxsfIycrS09TV1tfY2drh4uPk5ebn6Onq8fLz9PX29/j5+v/EAB8BAAMBAQEBAQEBAQEAAAAAAAABAgMEBQYHCAkKC//EALURAAIBAgQEAwQHBQQEAAECdwABAgMRBAUhMQYSQVEHYXETIjKBCBRCkaGxwQkjM1LwFWJy0QoWJDThJfEXGBkaJicoKSo1Njc4OTpDREVGR0hJSlNUVVZXWFlaY2RlZmdoaWpzdHV2d3h5eoKDhIWGh4iJipKTlJWWl5iZmqKjpKWmp6ipqrKztLW2t7i5usLDxMXGx8jJytLT1NXW19jZ2uLj5OXm5+jp6vLz9PX29/j5+v/aAAwDAQACEQMRAD8A9/ooAKKACigAooAKKACigAooAKKACigAooAKKACigAooAKKACigAooAKKACvJR431r7XeiDVVuL6LUHt4NJFhnzkD4/1o6cZ6+nvWFabjax6uWYWnX5/aRulbray6vzt2Otl8e2kcrFdNvntReixW7UJ5bS5wQPmzj3xjiiXx/ZQx6nM2nX/ANn06d7aWYKu1pVYKEX5skkkfTPOKPbrsJZVUdvfX476K23mNuviBa2CX/23StQt5bGGOaaJwhOHcIuCGIPUHr+vFRXPxGtbP7d9o0XVI/sBj+1ZWP8AdLJjYT8/U7hwOevpSeIS6P8Ar/hi4ZROe0467b6/D5f3kXJfHWmx6y2niKZ1S6WzedWTasp7bd24gEgEgYBrJsviHPHDqM+qaRcrFBqZsYvICEg8YRhvJLjvjjpih11fRBTymTj70km7W3699On3FmTxgthq1/cakb22t7fT1naxkhjJQmTaMMrEliccdOetdLpeoz6hC7z6ZdWBXGFuCmWBGcjax/WrhUu7HPicIqcFUTVtLb66K7WnmmcHpnj27PiG7a+vom0yF5d6rECBH5gjhaErlpMscMeg9q6PxpreqaLHpb6VCLiWa72PbkcyoEZio9Dxx7+tZxqycG1udlXAUoYmEHpFp39Ur/lZvzuuhnxePbY3moagZ2k0eDT4bhERAX3u7KV/3s4XBPBq5cePrOyhvDfabfW1xaGLzLZ1QuVkOFZdrEEevOaarq12ZyyqblyxaT0Vn30v9zaLtj4vsLh9QS+R9LeweNZxeuigbxlPmDEc/Wuc8S+L3g8SWdva+IYbHS57Ezi5jtRdB33lcDGeOP0onV926dmGGy+XtnGUeeNtLXSbtda+jLei+NruSysbe8026vNUnjkn2WsQQmBWKrKVdht3dh3/ABFTWXxEtNSeyjsdK1G4mu7driNEVMhVkaM7juwOVJ/LucURr6JNajqZVrKUZpRT630Wtr6eT2JB4/s3khZNNv2s7i9FjDdhU8uSQtt4+bOOvOOxqOL4iWs724i0fUnW5mkt4WCx4eVOqj5v1PH5HD+sLsyf7Jna7nH8d9brbpZkv/CwNOays5Utbg3F3JLGtszIjIY/v7mZgoxx35yKr2fjmbVPEenW1hps0mnXdoZ/MOwODuCk8t91TkEYzkcZFJ107JIFlUoqUqkkkr9+l7dOtn/TRBJ45Gq6dpV7Zw6jp9tc6jDbrM0MTifJYFOW4XI5Yc+net7SPE6a3ckWWm3jWPmPEt8dgiYr1IG7djIwDjrTjV5ntuLEZc6UG3Je7e711fbbfcyfF9x4g07UdOew1tIbfUL6KzWE2aP5W4HLbictyM4461Jb+M7ayvV0m8llvJorhbSe+CxxqZWPA2bt2BkAkAgGk6jhJ8z0KWFhXoR9lG0rXbu3e2m1ur+4ePG4u7bUJNO0u5n+yiUbvMh+8hwcrvDKO/IGRWp4V1e61vw9aX95am3lljViONr5AO5cE4U54zzxVRq80rJaGFfBKjScpS95NK2vbzX/AADZorY88KKACs3RtEttDhuYraSV1uLl7l/MIJDP1AwBxScbtM0jVcYSgtnb8DFk8BWUkzf8THUEtTei+W0V08tZc54yuce2atSeDdNl0jVNNeS4MOo3b3kjbwGSRiD8hxwAVGM5/GslQXc7pZnVdrRSs0+urWuuvkU7n4f2V9Hfi+1PUrmW+ijhmld4wQEcOu0BMDkDt+vNWtS8Fadqg1vz57pf7Y8j7RsZRt8nG3ZleM45zn8KPYLv/Wv+Y/7Uqppxikltv0cX3/uL8Ry+ELeHWJr+1vrq2W4uBczW6CMo7jGT8ylhnHODzUEvgWxlubhze3qwz3y6g0Csm0TA5yCVzg46ZodFdyY5lUi78qvZLr067/8AALOqeD9N1i7vri7ecte2q2siqwAVVbcrLxncDg9xx0q/pumS2NtJDcald3+/jdc7MqMYwNqj9c1SppSumYzxcp0lTklps+q2XfrZHOf8K20/y7OL+09R8uwffZLmPNu27dwdmTyOhJrpdQ0iDUbiwnmeRWsZ/PjCEYLbSvPHTBPTFKNFRVr/ANI0r5hUqyUnFK1+/wBrfr6sx7jwFotxNrEhWaP+1VUTpGwUBlO4OvHDbue4z2qOTwHZXUd2b7UL66uLpojJcOyBgIzlVAC4A9eOal0I/wBf15mkc1rK2ibVtdelvPryq5oWGk6ZNqGqapGWuDfyLHOkygoGg3R/KCPUHrnpxUy+H7KPX4tYj3xzRWptViTAjCFt2cYznPvWns0crxdS79Lfgl99kQ6p4ai1HVYdUivruxvY4Wt2ltiuXjJztO5SODyPrVXQvBOneH7u1uLSe6d7a1e0QSspBRpDIScKOcn8qn2S5ua5sswqKj7FRXa+t+tuvS76EC+AbFJIVXUdQWzt70X0NmHTy0kDbv7u7bntnvVm08F6dZrp4jnuj9hupLqLcy8u+cg/L059qSoJdS55pVkrcqX37tNN7+ZA3gPTxHB5F3dw3FvPNPFOCjMDL99SGUqV+oyMdat/8IrEL7Tr1dRvFurJGjMg8seejNuKuAuMfQChUUtmKWYzn8UU9++zvpv5+pFD4J06DQtK0hZ7o2+m3a3cLFl3s4ZmAY7cEZY9AKm0nwxHot0zWWo3qWRkeUWJKGJS2cgfLuAycgZ601SSaaexM8wnUjKM4pqTb66Nu91r0voXNW0W31h7Brh5VNldpdx+WQMuucA5B459qoDwlbxazNqNtfXVuJ5xPNboI2R3GOfmUsM45wRTlTTdzOljJ04clk1Zrr3v0ZFF4Ks/7aOqXV3c3U2ySNRIkScOMNkoiluOBknFaeg6Mug6Wmnx3lxcwxHERn27kTAwuVAyB7+tKNJRd7lV8bKtDkcUlpbfS1+7ff8AyNOitTiCigAooAKKACoL28t9OsLi+u5PLtraJpZXwTtRRknA5PA7UAZv/CT2H/Pvq3/gouv/AI3R/wAJPYf8++rf+Ci6/wDjdAB/wk9h/wA++rf+Ci6/+N0f8JPYf8++rf8Agouv/jdAB/wk9h/z76t/4KLr/wCN0f8ACT2H/Pvq3/gouv8A43QAf8JPYf8APvq3/gouv/jdH/CT2H/Pvq3/AIKLr/43QBn6Lr1raWMsc9pqyO13cyAf2TdH5XndlPEfcMD+NaH/AAk9h/z76t/4KLr/AON0AH/CT2H/AD76t/4KLr/43R/wk9h/z76t/wCCi6/+N0AH/CT2H/Pvq3/gouv/AI3R/wAJPYf8++rf+Ci6/wDjdAB/wk9h/wA++rf+Ci6/+N0f8JPYf8++rf8Agouv/jdAFjT9bstTuZ7e3Nws0CI8kdxaywMFcsFOJFGQSjdPStGgAooAKKACigAooAKw/FPirTvCOlrf6iJmjeQRIkKhnZiCeASB0B71dOm6k1CO7JlJRV2cd/wvPwz/AM+Gr/8AfmP/AOOUn/C8/DP/AD4av/35j/8Ajld/9l1u6/H/ACMPrUOzF/4Xn4Z/58NX/wC/Mf8A8crL8RfF3w3rvhzUNKSLWbVruBoRMsETbcjHQycjsR6E8jrR/Zdbuvx/yD61DszQh+OHhqKGOM2msyFFCl3ii3NjucPjNSf8Lz8M/wDPhq//AH6i/wDjlH9l1u6/H/IPrUOzD/hefhn/AJ8NX/78x/8Axyj/AIXn4Z/58NX/AO/Uf/xyj+y63dfj/kH1qHZndaBrtl4k0aDVLAv5E2cBxhlIOCCPXitOvPnFwk4vodCd1dBRUjCigArnfEvjPS/C0kEV6s8kswLBIFBIA7nJH+RUzkoq7N8Ph54ioqcN2YX/AAt7QP8Anz1P/v1H/wDF0f8AC3vD/wDz56n/AN+o/wD4usfrMT0/7CxHeP4/5B/wt7QP+fPU/wDv1H/8XR/wt7w//wA+ep/9+o//AIuj6zEP7CxHeP4/5GPB8QvD8Hiu813/AInTfabWK3+zFE2LsZju/wBZ/tcDt8x/i42P+FveH/8Anz1P/v1H/wDF0fWYh/YWI7x/H/IP+FveH/8Anz1P/v1H/wDF0f8AC3vD+f8Aj01If9sk/wDi6PrMRf2FiO6/H/I7q1uYry0huoG3QzIsiNjGVIyD+VS10HjtNOzCigQUUAFeafGvTby/8LWb2ltJOILoNII1LFVKkZwO2f510YSSjXi2Z1VeDseD/wBl6h/z43P/AH5b/CrFjBqlhdrcxWFwXVWUZhbjcpXPT3r6OU4NWueck072L5uL151ml8Pq7cF82uNzA5J+737/AF+mG3NzctDcNJ4fjhDS+b5iWu3y0/ujK424z1FZcsf5/wASrvsP+16iuowXsOiNA8N0bhEigKrjdnZwM7R06+tMWa+CKG0NncLhpGt8s3HJJK8knnnNHLD+YLvsZs2n30s8ki6bcRqzFgiwthQew4pn9l6h/wA+N1/35b/CtlUhbcjlfY+jvhTYXWneAbOK8geCV5JJAki4YKWOMg9M9a7WvmcQ06smu7PTpq0EFFYlhRQAV5J8W9MvZtWsbyG1lkg8jyy6KWwwYnBx04I/Wsq6bgellM4wxScnbc8+gtL6C4jmFlOTG4YAxNg4OavtPeOih9FVnG3LG3POOvbvz7c8YriV10Pqp8knfnt8xqT6gLRLVtLZ4UQqqtATglid2SDzyRThPcrbrH/YMZbzVkZzbckAcr04B607vsQ4w6Tt8xq3M77pYtFQpLKJV2wZULg/KvH3TnPfoPfJFLfx24t202WSJXkdVeIkAtt7Yxxt9P4jRr2Dlh1n+JFdrdXMIQaU8ZB4ZYSCBzx09x+VVF02+Zgq2VyWJwAImyf0pNN9DWE4RVnL8T6O8PwS2vhzS7edCksVpEjqeoYIARWjXox2PhKrTm2u4UUyAooAKyH1e8a5njttHnuEhk8syCaNQSACcAtnvQAf2nqn/Qv3H/gRD/8AFUf2nqn/AEL9x/4EQ/8AxVAB/aeqf9C/cf8AgRD/APFVm+IH1jV/DeqabDoUyS3dpLAjPcRbQXQqCcN05oA0v7T1T/oX7j/wIh/+Ko/tPVP+hfuP/AiH/wCKoAP7T1T/AKF+4/8AAiH/AOKqC91++0+wuL250G5WC3jaWQieIkKoyeN3oKAN6igAooAKKACigDJTX4pjJ5FjfTJHK8ReOIbSyMVbHPYginf2y3/QL1L/AL8j/GgA/tlv+gXqX/fkf40h1hipH9l6j0/54j/GgDP8P3s+n+G9LsrjSdQE9vZxRSARAgMqAHnPqK0f7Zb/AKBepf8Afkf40AH9st/0C9S/78j/ABq3YXseoWguIldVLuhWRcMGVirAj6g0AWaKACigAryfXfjM2m+IrzSrHQzdC2maHe0xVnZThsKFPGQa6sLhvbyabtYyq1ORXMv/AIX1cA4Ph6P/AMCj/wDEVR0/4vHQ5b1YvDjK91ctcyrNesSGbHABX5V9BXd/ZS/n/Aw+tPsX/wDhfNztLDw7HtBwT9qOAf8Avj2P5V2vgD4hJ42N5E9gbOe2CtgSb1ZTnnOBg5FY4jL/AGVNzUr2Lp4jnly2O2orzTpCuZ8c+L08GaGl+bU3Ukswhjj37RkgnJODxgGtKNP2k1DuTOXLFs88f46XsSI8nhkIkgyjNcsA30+TmqGr/GD+39EvNPvPDIe0mTZKUuyNuehzs4Oelep/Zcd+f8Dl+tPsWIfjrJBBHDF4chSONQqKLs4AAwB92rUfx2ljvFivfDxiRX2y7bg705weCo5HocUPKl0l+AfWvI9lByAfWlrxzsCigDk/GnjQeEltFWyNzLc7iAZNgULjvg88iuUf4w3MZAfQlUkZG64IyPX7tc86/LK1j2sJlCxFFVHO1/IzdG+JdzothJF/Zj3CTXM06yS3B43uXKj5e2f6960R8Y7hjgaGh4zxcH/4mo+svsdP9gx/5+fh/wAEv6H8Vv7U1q0sJ9KEK3EgiEiTbiGPA4wOM16TW9Kpzq55ePwX1Saje90VdSvo9M0u6vpQWjt4mlZV6nAzgV5mPi/dOjyJoAKJ95hOSF+p21NSryO1jTAZcsVFycrWGr8YrmRgiaEjMegW4JJ/8drO0f4nSaNaSWy6bJOHuJZi094WYF3LY+70Gf696z+svseh/YMf+fn4f8E0D8Y7gAZ0NBnkf6Qef/Ha9H8P6xHr+h2upxxNEs6k7GOSpBKkZ78g1pTrc7tY4cfln1WmpqV7uxpUVseUFfO/iXwL4pt/GeqXltoz31tc3EsqMnzI6SEnBwQQecdunpXfgKsISkpu10YYiMpJWK15ofjy/iukufD0ztclC8nk4YbcHjB4BIyR6kmiLTvGc9lcRWXhzy4pH2F7aM5Ro2wwB3dcqQxPJ5BPAA9H2mGtbnOblqdie50nxvO023wq6LNEI3Xyif4dpI546k4HHPfJz2fwd8J6zoM2pXmq2bWqzokcSSEbmwSScdh061hiKtFUJRhK7djSnCbmm0er0V4x2BXBfFrw7qXiLwvbxaXbm4mguhK0QIBK7WBxnqeRxW+GmoVoylsRUTlBpHkdv4W8bW0CxJ4cmYLH5al4AxHzMwPJ6guT+Ap0uheL4JZrqfw2y+fJEMurAK2Qqhfm4LHAz15wCK9p1sO3fnOHkqdi0mj+OVaVm8NTNubeqmM7UPHbPI68dDk5yCQYr/wf438T6wktzoJt5ZDtL+WIo1yxJJ59z7n3J5SrYaD5lIbhUatY+kVGFA9BS18+egFFAHnXxR8PaprP9nT6datciASLIqEbhnbjjv0Ncgul+MVuXn/sF2d87w0WQWLbi2M8HOemMZOMVyVIT520j6XBYjDfVYwqTs1f8yvbaN4ngYwR6CWlRCWBQlgrk4yN3AyGwOnB61Y/srxf5LI2gys5GN7ITxjpjOPz9ajlqdjrliMG3d1CfQfCniO48Y2eoXWltbRx3CTysw2qApB45yScV7bW9CLinc8XNq9KrOKpO6SM3xBZS6j4d1GygAM09u6ICcZYg4/WvDrfwn4qspiU0WdiDghkDKfb0INTXhJtNI6MpxNGnTnCrK1y02h+LJJInfw/I3lknb5ZAORjBAI457YzxnIAoj07xXcQgw6Kxh2+WfKTg4OCOuOxGB71jy1Ox6X1jB/8/AutC8V3aTxHw/IqTFeiElcHIwSff/8AVXrng3TLrRvCVhYXihbiJWLqDnbudmxn8a2oxkpXaPNzSvQlQVOlK7vf8LG7RXSeCFFABWD4RdH0i5KMrD+07/oc/wDL1KaAN6igAooAKy9U1k6ddW1rFpt5f3FwjusdsYgVVNoJJkdR/GOhoArf2/qP/Qpa1/39tP8A4/VDWNR1bULKOGLwpq4Zbq2mJeW0A2xzJI3/AC364U496AL/APb+o/8AQpa1/wB/bT/4/T4dfuXu4ILnw9qlmsz7BNM9uUU4J52Ss3bsKANqigAooAKKAMq3kQ+KtQQOpYWVtlQeR883+IrVoAKKAKup38WlaVeajOrtDaQPO6oAWKqpYgZ74FZn9v6j/wBClrX/AH9tP/j9AB/b+o/9ClrX/f20/wDj9UdI1LVbDTxby+FNXL+bK+VltMYaRmH/AC39CKAL39v6j/0KWtf9/bT/AOP1qafex6lplrfRI6R3MKTIrgbgGAIBwSM8+tAFmigArxXxL8ZtX03xHf6fp+n2Jt7WdoA06uzMVO0nhgMZBrsweGjXk1J6IxrVHTV0Zsfxv8TS7tun6R8qljuVxwPrJyfanad4+8UaJavBYeHNHtrd55JGKhghkZ/m+bzMfeOMZ4xgcDjtll9COjk/6+RgsRN7Ii/4Xn4k/wCgfpX/AH7k/wDi67/4a/EC78ZtfwX9pBDPbBXVoMhWU5GMEnkEevf2rPE5fClSc4t6FU8RKUuVo9ArP13VBoug3+pmLzfssDyiPONxAyBntXmQjzSUe51N2VzxofGLxiTxodj/AKszD/R5fuBdxb7/AE2kHPvWdN8Tteu9Ws9Wk8O6ZJe20bLbzfZ5SUV8Zx8/fHH1OOtex/Z1D+Z/gcf1ifYv/wDC5vF+0t/YthgdT5Ev/wAXXT+Hvipdal4O1zV7zT4ftWmbMJCSEk3nC9SSORzzWdXL6cY3hLqvxZUMRJuzRysnxq8VxSGOTSNORx1VoJQemem/0qlqHxV1zV/sv23QNMuPss6XUGYZfkkXIVuH+ta/2bQ/mf4E/WZ9i6vxq8WM6oukaeWc4VRBLknOOPn9SK9I+HXjK58Y6TczXtrHb3VtN5biLO1gRkEA5I/M1z4rBU6VPngzSlWlKVmjsqK8w6TiPiD4xvvC4sY7CGBnuN5ZpgTgLjoAR61xjfFHxSgUta2ih13Lm3YZGM5HzdMVy1K0oyaR9BgcroVqEalRu7uUU8f6xZ6nPqq6bp8V5exosk/2dgZVXO3+L0PX6egq1/wtrxF/zzsP+/Tf/FVn9YmdiyXCvZv7/wDgGn4e+J+s3/iCxsry3tGguJliby0ZWG44BBye5roPHXjq98M6jBZWNnDK7QiaR5gxAUsVAGCO4/UVqq0uRyOGrlVJYqNJN2aucXqHxD1fXtLutOvNFsLm0nhPmp5Mh+Tu3DcYPfsRUkXxa1mCFIotP0xI0UKirG4CgdABuqPrE+x1rI8O9OZ/h/kTj4u65FcBbjTrHCtiRArq3HUcscH8K6Pxf4+1HRbuGLTNPjmj+zpPLLMjMFD52j5SMdO5qlXk4t2OeplFGNWEVJ2d+3l/mcy/xY16T9y+m6c3mADYYpDuBHHG7nINUtK+JeoaJpdvpunaXpkFpbrtjjVJOB1/v8kkkk9yan6xLsdH9h4f+Z/h/kaUHxc1ress+m2bWyuokMaODzngEsQCQDjPpXsIO5QR3Ga2o1HO9zysywMMK48jve+/lb/MWvkzxjG8XjbXVkRlb7fO2CMcFyQfxBBr2sr+OXoeDivhRmWioWmZrgwbYmKlRy5xjb1HXPPtnr0OzDJCXslfxFdLAVRpBlv3JypIHPUdRgdcehr1al76RuckfU589T3r174DRv8A2jrMm07BDGpbHGcnissd/u8v66l0P4iPb657x3/yIeuf9ecn8q+fpfxI+qPQl8LPm6zvdanceTdI0iQLbKjhCPK2njkbQAuc5I4zmpYh4gtUfThJ5KrCWMeF5XPPIB556/h7V9FJUk7NHnJy3Le/xdI8SK7FvLIDKyfMvPU9+px+OO9XvChI+GnjYjqBZ4/7+Gs5qnye53X5lLmvr5/kYYl1yX7NOt8JJVcyRkSqWQ7zyT6bgcc4ps+oa59r+3TXW64aMJ5nysSgG7HT0/zitFGle1ibyLF7qPiWCZr67uz5pUDzNyFgBjsOnUenWvVfgldz32n61c3MrSzPcR7nbqcJj+QrlxcKaw7lBdjWi5e0SZ6rRXhnceTfGT/j50f/AHJf5rXC2tzqCRXbwmMBk2TA8l9/Gcc/nwB9SM8NS/tHY+vy+MXgoc3n+Ys95e6c6QO0TjaCrDJDAZA59Bzx0Hpmojrt8f41A3FsBcDJGP5H+vWs+ZrQ7VQpzXMS+Ff+Ru0f/r9h/wDQxXZ/EzULvTfGtvPZyiOT+z1BJA6eY/rWkXam/U5MRGM8bCMtnFnLumqRKl59std06mEgYDYLHgqRnquencVMl9rzNC5uYNsaZj3bQo/TkjHf9c1PvGjjQkrtMxtXuby4vSb2VJJVH3kxjnntx3rq/HV/eWeuWq2sjqH0+3dwvfaG6+3JoTdmwnTg6lONtLP9DO/tHxI8xuI5Uc+XksqoFCjOSMgAjk8jj9KyLHXtQ03/AI9JljJj8rOwE7fxpOUkXChQlFxivUcviHUl05rATj7O5JZSgJJOec4z3r6Tj/1S/QV0YeTd7ni53ShT5OXrf9B1UbrRdKvpvOu9Ms7iXGN8sCu2PqRXVGTi7xdjwGk9yH/hGdB/6Amm/wDgIn+FH/CM6D/0BNN/8BE/wq/bVP5n94uSPYP+EZ0H/oCab/4CJ/hV20sbSwiMVnaw28ZOSkMYQZ9cClKpOStJtjUUtkT1z3jv/kQ9c/685P5U6X8SPqhS+Fny9aLp5J+1STAdig5+43bngNt79O3oXSWCQ/6NNI8m7HzcDb83t/u/n+X09583keZpYqKzKcqxBxjg9q7nwr/yTLxv9LT/ANGGoxHwfNfmh09/v/I4WityAr3P4D/8gbV/+vhP/Qa4sw/3d/I2w/8AER63RXzp6J5N8ZP+PnR/9yX+a15zb/Y9kqSuys20I5U8c85wemM9j+FcFW3tHc+yy3m+pw5fP8yzcx6WDKYrueUqwCbhjeOM9uOM/l+FK8OjjzClzM3yEqMEfNg452+u30/wi0TqUq1tkP8ACv8AyN2j/wDX7D/6GK634rQPceMLZI4nkb7AmFXr/rHH49auP8NnLWdsdBv+VnMy6RFAGe40vVI1BHC4OMrnk4/yPesi8i8m5dFimiTPyLMPm29s8VEkdVGo5v4k15EFdj8RQDrtllgv/Eth6/Q018LJq/7xD0l+higwCJkXUpP3qgMM/QgHI9CB16qe2Kji0+weNS+qojEZK+UTt/HP48fz4pWT6j5pxWkDNcKGIViy9iRivqaP/Vr9BXRhup42fbU/n+g6iuo+dCigAooAKwvGlvNdeCtaggjaSV7OQKiDJY7TwB3NXSdppvuTL4WfLtpf3NjuEcKnLxuQynB2HIBGcEE9c+lLNfySwSRfYrdA4A3JDgj7vQ/8B/U19PyK97nmcztYo7H/ALrflXofg/S76f4YeMmitJWEwg8vCn59jFnx64BrPEySgr91+aKpJuX3nnmx/wC635UbH/ut+VdF0Zhsf+635V7v8DLWeHw/qU8sTpHNcjy2YYDYXnH51xZi17B/I3w6/eHqtFfPHoHk3xk/4+dH/wByX+a151Bfvbwzxqg2zbdwHT5a4KrtUZ9llsebBwX9blk6yCrY06yDEAZ8leOnQY6/59ctuNW8+3liFpbxeYqqWRcEAEH+g/IVHN5HUqFmnzMl8K/8jdo//X7D/wChiuz+JslvF41t3uJZ4lGnphoDhj+8fIz2yu4fj36VpH+G/U5K6bxsEv5Wct9ssDAIW1rVCgKkAg4GPbdjjAx9Me9YlzO9xMWeR5AOFLnJxnP9TWba6HXRhJO8opehDXYfEUga7ZZGf+JdD39jTXwsmr/vEPSX6GNLLFEiyPopjVs/MxODnrjjHcfTio2u7Iwqg0hVk3AmQSvkjHTHTrSuuxShN6qZSuijzM8Vv5EZ+6mSccepr6hj/wBWv0FdGG6niZ78NO7vv+g6iuo+eCigAooAKKACigAooAKKACigAooA81+K2ianqZ0yewsprpYvMRxChYqTtI4HOODzXm//AAi3iD/oB6j/AOAr/wCFcVWEnNtI+syzFUIYWMZTSavu/MP+EW8Qf9APUf8AwFf/AAo/4RbxB/0A9R/8BX/wrL2c+x3/AF3Df8/F96Njwr4W11fFOmSy6TeQxQ3CSvJNCyKFUgnkj2ro/ij4f1a/121vrGxmuoTbCE+TGXKsGY8gdOGHNbKEvZvQ86ri6H16D5laz16HGz6J4luImjbQb4Kz7zts3HOMenT26DtgVW/4RbxB/wBAPUf/AAFf/CsnCb6HfHFYaKsqi+9Do/CXiKWVY10S/BYgAtbso/EkYH4113xC8NazLq9nPaWNxcxCySEtboXwy5yDjp1q1TlyvQ56uNw/1iHvq1n19DmX0fxW8JibSdS2Fy5AtGGWOMnIXrwKkk07xhLLFLJpWotJECEY2RyAev8ADz3/ADNTy1Oxr7bB/wA6+/8A4Ikmg+LdWugk+mX5eaQEtJblFzjaCTgAACvoRRhFHoMV0UFJXcjxM4q0ZKnCk07X217C0V0HiBRQAUUAFFABRQAUUAFFABRQAUUAFFABRQAUUAFFABRQAUUAFFAH/9n/4THoaHR0cDovL25zLmFkb2JlLmNvbS94YXAvMS4wLwA8P3hwYWNrZXQgYmVnaW49J++7vycgaWQ9J1c1TTBNcENlaGlIenJlU3pOVGN6a2M5ZCc/Pg0KPHg6eG1wbWV0YSB4bWxuczp4PSJhZG9iZTpuczptZXRhLyI+PHJkZjpSREYgeG1sbnM6cmRmPSJodHRwOi8vd3d3LnczLm9yZy8xOTk5LzAyLzIyLXJkZi1zeW50YXgtbnMjIj48cmRmOkRlc2NyaXB0aW9uIHJkZjphYm91dD0idXVpZDpmYWY1YmRkNS1iYTNkLTExZGEtYWQzMS1kMzNkNzUxODJmMWIiIHhtbG5zOnhtcD0iaHR0cDovL25zLmFkb2JlLmNvbS94YXAvMS4wLyI+PHhtcDpDcmVhdG9yVG9vbD5XaW5kb3dzIFBob3RvIEVkaXRvciAxMC4wLjEwMDExLjE2Mzg0PC94bXA6Q3JlYXRvclRvb2w+PHhtcDpDcmVhdGVEYXRlPjIwMjMtMTEtMjFUMTU6MzA6MTkuMzQ1PC94bXA6Q3JlYXRlRGF0ZT48L3JkZjpEZXNjcmlwdGlvbj48L3JkZjpSREY+PC94OnhtcG1ldGE+DQogICAgICAgICAgICAgICAgICAgICAgICAgICAgICAgICAgICAgICAgICAgICAgICAgICAgICAgICAgICAgICAgICAgICAgICAgICAgICAgICAgICAgICAgICAgICAgICAgICAgCiAgICAgICAgICAgICAgICAgICAgICAgICAgICAgICAgICAgICAgICAgICAgICAgICAgICAgICAgICAgICAgICAgICAgICAgICAgICAgICAgICAgICAgICAgICAgICAgICAgICAKICAgICAgICAgICAgICAgICAgICAgICAgICAgICAgICAgICAgICAgICAgICAgICAgICAgICAgICAgICAgICAgICAgICAgICAgICAgICAgICAgICAgICAgICAgICAgICAgICAgIAogICAgICAgICAgICAgICAgICAgICAgICAgICAgICAgICAgICAgICAgICAgICAgICAgICAgICAgICAgICAgICAgICAgICAgICAgICAgICAgICAgICAgICAgICAgICAgICAgICAgCiAgICAgICAgICAgICAgICAgICAgICAgICAgICAgICAgICAgICAgICAgICAgICAgICAgICAgICAgICAgICAgICAgICAgICAgICAgICAgICAgICAgICAgICAgICAgICAgICAgICAKICAgICAgICAgICAgICAgICAgICAgICAgICAgICAgICAgICAgICAgICAgICAgICAgICAgICAgICAgICAgICAgICAgICAgICAgICAgICAgICAgICAgICAgICAgICAgICAgICAgIAogICAgICAgICAgICAgICAgICAgICAgICAgICAgICAgICAgICAgICAgICAgICAgICAgICAgICAgICAgICAgICAgICAgICAgICAgICAgICAgICAgICAgICAgICAgICAgICAgICAgCiAgICAgICAgICAgICAgICAgICAgICAgICAgICAgICAgICAgICAgICAgICAgICAgICAgICAgICAgICAgICAgICAgICAgICAgICAgICAgICAgICAgICAgICAgICAgICAgICAgICAKICAgICAgICAgICAgICAgICAgICAgICAgICAgICAgICAgICAgICAgICAgICAgICAgICAgICAgICAgICAgICAgICAgICAgICAgICAgICAgICAgICAgICAgICAgICAgICAgICAgIAogICAgICAgICAgICAgICAgICAgICAgICAgICAgICAgICAgICAgICAgICAgICAgICAgICAgICAgICAgICAgICAgICAgICAgICAgICAgICAgICAgICAgICAgICAgICAgICAgICAgCiAgICAgICAgICAgICAgICAgICAgICAgICAgICAgICAgICAgICAgICAgICAgICAgICAgICAgICAgICAgICAgICAgICAgICAgICAgICAgICAgICAgICAgICAgICAgICAgICAgICAKICAgICAgICAgICAgICAgICAgICAgICAgICAgICAgICAgICAgICAgICAgICAgICAgICAgICAgICAgICAgICAgICAgICAgICAgICAgICAgICAgICAgICAgICAgICAgICAgICAgIAogICAgICAgICAgICAgICAgICAgICAgICAgICAgICAgICAgICAgICAgICAgICAgICAgICAgICAgICAgICAgICAgICAgICAgICAgICAgICAgICAgICAgICAgICAgICAgICAgICAgCiAgICAgICAgICAgICAgICAgICAgICAgICAgICAgICAgICAgICAgICAgICAgICAgICAgICAgICAgICAgICAgICAgICAgICAgICAgICAgICAgICAgICAgICAgICAgICAgICAgICAKICAgICAgICAgICAgICAgICAgICAgICAgICAgICAgICAgICAgICAgICAgICAgICAgICAgICAgICAgICAgICAgICAgICAgICAgICAgICAgICAgICAgICAgICAgICAgICAgICAgIAogICAgICAgICAgICAgICAgICAgICAgICAgICAgICAgICAgICAgICAgICAgICAgICAgICAgICAgICAgICAgICAgICAgICAgICAgICAgICAgICAgICAgICAgICAgICAgICAgICAgCiAgICAgICAgICAgICAgICAgICAgICAgICAgICAgICAgICAgICAgICAgICAgICAgICAgICAgICAgICAgICAgICAgICAgICAgICAgICAgICAgICAgICAgICAgICAgICAgICAgICAKICAgICAgICAgICAgICAgICAgICAgICAgICAgICAgICAgICAgICAgICAgICAgICAgICAgICAgICAgICAgICAgICAgICAgICAgICAgICAgICAgICAgICAgICAgICAgICAgICAgIAogICAgICAgICAgICAgICAgICAgICAgICAgICAgICAgICAgICAgICAgICAgICAgICAgICAgICAgICAgICAgICAgICAgICAgICAgICAgICAgICAgICAgICAgICAgICAgICAgICAgCiAgICAgICAgICAgICAgICAgICAgICAgICAgICAgICAgICAgICAgICAgICAgICAgICAgICAgICAgICAgICAgICAgICAgICAgICAgICAgICAgICAgICAgICAgICAgICAgICAgICAKICAgICAgICAgICAgICAgICAgICAgICAgICAgICAgICAgICAgICAgICAgICAgICAgICAgICAgICAgICAgICAgICAgICAgICAgICAgICAgICAgICAgICAgICAgICAgICAgICAgIAogICAgICAgICAgICAgICAgICAgICAgICAgICAgICAgICAgICAgICAgICAgICAgICAgICAgICAgICAgICAgICAgICAgICAgICAgICAgICAgICAgICAgICAgICAgICAgICAgICAgCiAgICAgICAgICAgICAgICAgICAgICAgICAgICAgICAgICAgICAgICAgICAgICAgICAgICAgICAgICAgICAgICAgICAgICAgICAgICAgICAgICAgICAgICAgICAgICAgICAgICAKICAgICAgICAgICAgICAgICAgICAgICAgICAgICAgICAgICAgICAgICAgICAgICAgICAgICAgICAgICAgICAgICAgICAgICAgICAgICAgICAgICAgICAgICAgICAgICAgICAgIAogICAgICAgICAgICAgICAgICAgICAgICAgICAgICAgICAgICAgICAgICAgICAgICAgICAgICAgICAgICAgICAgICAgICAgICAgICAgICAgICAgICAgICAgICAgICAgICAgICAgCiAgICAgICAgICAgICAgICAgICAgICAgICAgICAgICAgICAgICAgICAgICAgICAgICAgICAgICAgICAgICAgICAgICAgICAgICAgICAgICAgICAgICAgICAgICAgICAgICAgICAKICAgICAgICAgICAgICAgICAgICAgICAgICAgICAgICAgICAgICAgICAgICAgICAgICAgICAgICAgICAgICAgICAgICAgICAgICAgICAgICAgICAgICAgICAgICAgICAgICAgIAogICAgICAgICAgICAgICAgICAgICAgICAgICAgICAgICAgICAgICAgICAgICAgICAgICAgICAgICAgICAgICAgICAgICAgICAgICAgICAgICAgICAgICAgICAgICAgICAgICAgCiAgICAgICAgICAgICAgICAgICAgICAgICAgICAgICAgICAgICAgICAgICAgICAgICAgICAgICAgICAgICAgICAgICAgICAgICAgICAgICAgICAgICAgICAgICAgICAgICAgICAKICAgICAgICAgICAgICAgICAgICAgICAgICAgICAgICAgICAgICAgICAgICAgICAgICAgICAgICAgICAgICAgICAgICAgICAgICAgICAgICAgICAgICAgICAgICAgICAgICAgIAogICAgICAgICAgICAgICAgICAgICAgICAgICAgICAgICAgICAgICAgICAgICAgICAgICAgICAgICAgICAgICAgICAgICAgICAgICAgICAgICAgICAgICAgICAgICAgICAgICAgCiAgICAgICAgICAgICAgICAgICAgICAgICAgICAgICAgICAgICAgICAgICAgICAgICAgICAgICAgICAgICAgICAgICAgICAgICAgICAgICAgICAgICAgICAgICAgICAgICAgICAKICAgICAgICAgICAgICAgICAgICAgICAgICAgICAgICAgICAgICAgICAgICAgICAgICAgICAgICAgICAgICAgICAgICAgICAgICAgICAgICAgICAgICAgICAgICAgICAgICAgIAogICAgICAgICAgICAgICAgICAgICAgICAgICAgICAgICAgICAgICAgICAgICAgICAgICAgICAgICAgICAgICAgICAgICAgICAgICAgICAgICAgICAgICAgICAgICAgICAgICAgCiAgICAgICAgICAgICAgICAgICAgICAgICAgICAgICAgICAgICAgICAgICAgICAgICAgICAgICAgICAgICAgICAgICAgICAgICAgICAgICAgICAgICAgICAgICAgICAgICAgICAKICAgICAgICAgICAgICAgICAgICAgICAgICAgICAgICAgICAgICAgICAgICAgICAgICAgICAgICAgICAgICAgICAgICAgICAgICAgICAgICAgICAgICAgICAgICAgICAgICAgIAogICAgICAgICAgICAgICAgICAgICAgICAgICAgICAgICAgICAgICAgICAgICAgICAgICAgICAgICAgICAgICAgICAgICAgICAgICAgICAgICAgICAgICAgICAgICAgICAgICAgCiAgICAgICAgICAgICAgICAgICAgICAgICAgICAgICAgICAgICAgICAgICAgICAgICAgICAgICAgICAgICAgICAgICAgICAgICAgICAgICAgICAgICAgICAgICAgICAgICAgICAKICAgICAgICAgICAgICAgICAgICAgICAgICAgICAgICAgICAgICAgICAgICAgICAgICAgICAgICAgICAgICAgICAgICAgICAgICAgICAgICAgICAgICAgICAgICAgICAgICAgIAogICAgICAgICAgICAgICAgICAgICAgICAgICAgICAgICAgICAgICAgICAgICAgICAgICAgICAgICAgICAgICAgICAgICAgICAgICAgICAgICAgICAgICAgICAgICAgICAgICAgCiAgICAgICAgICAgICAgICAgICAgICAgICAgICAgICAgICAgICAgICAgICAgICAgICAgICAgICAgICAgICAgICAgICAgICAgICAgICAgICAgICAgICAgICAgICAgICAgICAgICAKICAgICAgICAgICAgICAgICAgICAgICAgICAgICAgICAgICAgICAgICAgICAgICAgICAgICAgICAgICAgICAgICAgICAgICAgICAgICAgICAgICAgICAgICAgICAgICAgICAgIAogICAgICAgICAgICAgICAgICAgICAgICAgICAgICAgICAgICAgICAgICAgICAgICAgICAgICAgICAgICAgICAgICAgICAgICAgICAgICAgICAgICAgICAgICAgICAgICAgICAgCiAgICAgICAgICAgICAgICAgICAgICAgICAgICAgICAgICAgICAgICAgICAgICAgICAgICAgICAgICAgICAgICAgICAgICAgICAgICAgICAgICAgICAgICAgICAgICAgICAgICAKICAgICAgICAgICAgICAgICAgICAgICAgICAgICAgICAgICAgICAgICAgICAgICAgICAgICAgICAgICAgICAgICAgICAgICAgICAgICAgICAgICAgICAgICAgICAgICAgICAgIAogICAgICAgICAgICAgICAgICAgICAgICAgICAgICAgICAgICAgICAgICAgICAgICAgICAgICAgICAgICAgICAgICAgICAgICAgICAgICAgICAgICAgICAgICAgICAgICAgICAgCiAgICAgICAgICAgICAgICAgICAgICAgICAgICAgICAgICAgICAgICAgICAgICAgICAgICAgICAgICAgICAgICAgICAgICAgICAgICAgICAgICAgICAgICAgICAgICAgICAgICAKICAgICAgICAgICAgICAgICAgICAgICAgICAgICAgICAgICAgICAgICAgICAgICAgICAgICAgICAgICAgICAgICAgICAgICAgICAgICAgICAgICAgICAgICAgICAgICAgICAgIAogICAgICAgICAgICAgICAgICAgICAgICAgICAgICAgICAgICAgICAgICAgICAgICAgICAgICAgICAgICAgICAgICAgICAgICAgICAgICAgICAgICAgICAgICAgICAgICAgICAgCiAgICAgICAgICAgICAgICAgICAgICAgICAgICAgICAgICAgICAgICAgICAgICAgICAgICAgICAgICAgICAgICAgICAgICAgICAgICAgICAgICAgICAgICAgICAgICAgICAgICAKICAgICAgICAgICAgICAgICAgICAgICAgICAgICAgICAgICAgICAgICAgICAgICAgICAgICAgICAgICAgICAgICAgICAgICAgICAgICAgICAgICAgICAgICAgICAgICAgICAgIAogICAgICAgICAgICAgICAgICAgICAgICAgICAgICAgICAgICAgICAgICAgICAgICAgICAgICAgICAgICAgICAgICAgICAgICAgICAgICAgICAgICAgICAgICAgICAgICAgICAgCiAgICAgICAgICAgICAgICAgICAgICAgICAgICAgICAgICAgICAgICAgICAgICAgICAgICAgICAgICAgICAgICAgICAgICAgICAgICAgICAgICAgICAgICAgICAgICAgICAgICAKICAgICAgICAgICAgICAgICAgICAgICAgICAgICAgICAgICAgICAgICAgICAgICAgICAgICAgICAgICAgICAgICAgICAgICAgICAgICAgICAgICAgICAgICAgICAgICAgICAgIAogICAgICAgICAgICAgICAgICAgICAgICAgICAgICAgICAgICAgICAgICAgICAgICAgICAgICAgICAgICAgICAgICAgICAgICAgICAgICAgICAgICAgICAgICAgICAgICAgICAgCiAgICAgICAgICAgICAgICAgICAgICAgICAgICAgICAgICAgICAgICAgICAgICAgICAgICAgICAgICAgICAgICAgICAgICAgICAgICAgICAgICAgICAgICAgICAgICAgICAgICAKICAgICAgICAgICAgICAgICAgICAgICAgICAgICAgICAgICAgICAgICAgICAgICAgICAgICAgICAgICAgICAgICAgICAgICAgICAgICAgICAgICAgICAgICAgICAgICAgICAgIAogICAgICAgICAgICAgICAgICAgICAgICAgICAgICAgICAgICAgICAgICAgICAgICAgICAgICAgICAgICAgICAgICAgICAgICAgICAgICAgICAgICAgICAgICAgICAgICAgICAgCiAgICAgICAgICAgICAgICAgICAgICAgICAgICAgICAgICAgICAgICAgICAgICAgICAgICAgICAgICAgICAgICAgICAgICAgICAgICAgICAgICAgICAgICAgICAgICAgICAgICAKICAgICAgICAgICAgICAgICAgICAgICAgICAgICAgICAgICAgICAgICAgICAgICAgICAgICAgICAgICAgICAgICAgICAgICAgICAgICAgICAgICAgICAgICAgICAgICAgICAgIAogICAgICAgICAgICAgICAgICAgICAgICAgICAgICAgICAgICAgICAgICAgICAgICAgICAgICAgICAgICAgICAgICAgICAgICAgICAgICAgICAgICAgICAgICAgICAgICAgICAgCiAgICAgICAgICAgICAgICAgICAgICAgICAgICAgICAgICAgICAgICAgICAgICAgICAgICAgICAgICAgICAgICAgICAgICAgICAgICAgICAgICAgICAgICAgICAgICAgICAgICAKICAgICAgICAgICAgICAgICAgICAgICAgICAgICAgICAgICAgICAgICAgICAgICAgICAgICAgICAgICAgICAgICAgICAgICAgICAgICAgICAgICAgICAgICAgICAgICAgICAgIAogICAgICAgICAgICAgICAgICAgICAgICAgICAgICAgICAgICAgICAgICAgICAgICAgICAgICAgICAgICAgICAgICAgICAgICAgICAgICAgICAgICAgICAgICAgICAgICAgICAgCiAgICAgICAgICAgICAgICAgICAgICAgICAgICAgICAgICAgICAgICAgICAgICAgICAgICAgICAgICAgICAgICAgICAgICAgICAgICAgICAgICAgICAgICAgICAgICAgICAgICAKICAgICAgICAgICAgICAgICAgICAgICAgICAgICAgICAgICAgICAgICAgICAgICAgICAgICAgICAgICAgICAgICAgICAgICAgICAgICAgICAgICAgICAgICAgICAgICAgICAgIAogICAgICAgICAgICAgICAgICAgICAgICAgICAgICAgICAgICAgICAgICAgICAgICAgICAgICAgICAgICAgICAgICAgICAgICAgICAgICAgICAgICAgICAgICAgICAgICAgICAgCiAgICAgICAgICAgICAgICAgICAgICAgICAgICAgICAgICAgICAgICAgICAgICAgICAgICAgICAgICAgICAgICAgICAgICAgICAgICAgICAgICAgICAgICAgICAgICAgICAgICAKICAgICAgICAgICAgICAgICAgICAgICAgICAgICAgICAgICAgICAgICAgICAgICAgICAgICAgICAgICAgICAgICAgICAgICAgICAgICAgICAgICAgICAgICAgICAgICAgICAgIAogICAgICAgICAgICAgICAgICAgICAgICAgICAgICAgICAgICAgICAgICAgICAgICAgICAgICAgICAgICAgICAgICAgICAgICAgICAgICAgICAgICAgICAgICAgICAgICAgICAgCiAgICAgICAgICAgICAgICAgICAgICAgICAgICAgICAgICAgICAgICAgICAgICAgICAgICAgICAgICAgICAgICAgICAgICAgICAgICAgICAgICAgICAgICAgICAgICAgICAgICAKICAgICAgICAgICAgICAgICAgICAgICAgICAgICAgICAgICAgICAgICAgICAgICAgICAgICAgICAgICAgICAgICAgICAgICAgICAgICAgICAgICAgICAgICAgICAgICAgICAgIAogICAgICAgICAgICAgICAgICAgICAgICAgICAgICAgICAgICAgICAgICAgICAgICAgICAgICAgICAgICAgICAgICAgICAgICAgICAgICAgICAgICAgICAgICAgICAgICAgICAgCiAgICAgICAgICAgICAgICAgICAgICAgICAgICAgICAgICAgICAgICAgICAgICAgICAgICAgICAgICAgICAgICAgICAgICAgICAgICAgICAgICAgICAgICAgICAgICAgICAgICAKICAgICAgICAgICAgICAgICAgICAgICAgICAgICAgICAgICAgICAgICAgICAgICAgICAgICAgICAgICAgICAgICAgICAgICAgICAgICAgICAgICAgICAgICAgICAgICAgICAgIAogICAgICAgICAgICAgICAgICAgICAgICAgICAgICAgICAgICAgICAgICAgICAgICAgICAgICAgICAgICAgICAgICAgICAgICAgICAgICAgICAgICAgICAgICAgICAgICAgICAgCiAgICAgICAgICAgICAgICAgICAgICAgICAgICAgICAgICAgICAgICAgICAgICAgICAgICAgICAgICAgICAgICAgICAgICAgICAgICAgICAgICAgICAgICAgICAgICAgICAgICAKICAgICAgICAgICAgICAgICAgICAgICAgICAgICAgICAgICAgICAgICAgICAgICAgICAgICAgICAgICAgICAgICAgICAgICAgICAgICAgICAgICAgICAgICAgICAgICAgICAgIAogICAgICAgICAgICAgICAgICAgICAgICAgICAgICAgICAgICAgICAgICAgICAgICAgICAgICAgICAgICAgICAgICAgICAgICAgICAgICAgICAgICAgICAgICAgICAgICAgICAgCiAgICAgICAgICAgICAgICAgICAgICAgICAgICAgICAgICAgICAgICAgICAgICAgICAgICAgICAgICAgICAgICAgICAgICAgICAgICAgICAgICAgICAgICAgICAgICAgICAgICAKICAgICAgICAgICAgICAgICAgICAgICAgICAgICAgICAgICAgICAgICAgICAgICAgICAgICAgICAgICAgICAgICAgICAgICAgICAgICAgICAgICAgICAgICAgICAgICAgICAgIAogICAgICAgICAgICAgICAgICAgICAgICAgICAgICAgICAgICAgICAgICAgICAgICAgICAgICAgICAgICAgICAgICAgICAgICAgICAgICAgICAgICAgICAgICAgICAgICAgICAgCiAgICAgICAgICAgICAgICAgICAgICAgICAgICAgICAgICAgICAgICAgICAgICAgICAgICAgICAgICAgICAgICAgICAgICAgICAgICAgICAgICAgICAgICAgICAgICAgICAgICAKICAgICAgICAgICAgICAgICAgICAgICAgICAgICAgICAgICAgICAgICAgICAgICAgICAgICAgICAgICAgICAgICAgICAgICAgICAgICAgICAgICAgICAgICAgICAgICAgICAgIAogICAgICAgICAgICAgICAgICAgICAgICAgICAgICAgICAgICAgICAgICAgICAgICAgICAgICAgICAgICAgICAgICAgICAgICAgICAgICAgICAgICAgICAgICAgICAgICAgICAgCiAgICAgICAgICAgICAgICAgICAgICAgICAgICAgICAgICAgICAgICAgICAgICAgICAgICAgICAgICAgICAgICAgICAgICAgICAgICAgICAgICAgICAgICAgICAgICAgICAgICAKICAgICAgICAgICAgICAgICAgICAgICAgICAgICAgICAgICAgICAgICAgICAgICAgICAgICAgICAgICAgICAgICAgICAgICAgICAgICAgICAgICAgICAgICAgICAgICAgICAgIAogICAgICAgICAgICAgICAgICAgICAgICAgICAgICAgICAgICAgICAgICAgICAgICAgICAgICAgICAgICAgICAgICAgICAgICAgICAgICAgICAgICAgICAgICAgICAgICAgICAgCiAgICAgICAgICAgICAgICAgICAgICAgICAgICAgICAgICAgICAgICAgICAgICAgICAgICAgICAgICAgICAgICAgICAgICAgICAgICAgICAgICAgICAgICAgICAgICAgICAgICAKICAgICAgICAgICAgICAgICAgICAgICAgICAgICAgICAgICAgICAgICAgICAgICAgICAgICAgICAgICAgICAgICAgICAgICAgICAgICAgICAgICAgICAgICAgICAgICAgICAgIAogICAgICAgICAgICAgICAgICAgICAgICAgICAgICAgICAgICAgICAgICAgICAgICAgICAgICAgICAgICAgICAgICAgICAgICAgICAgICAgICAgICAgICAgICAgICAgICAgICAgCiAgICAgICAgICAgICAgICAgICAgICAgICAgICAgICAgICAgICAgICAgICAgICAgICAgICAgICAgICAgICAgICAgICAgICAgICAgICAgICAgICAgICAgICAgICAgICAgICAgICAKICAgICAgICAgICAgICAgICAgICAgICAgICAgICAgICAgICAgICAgICAgICAgICAgICAgICAgICAgICAgICAgICAgICAgICAgICAgICAgICAgICAgICAgICAgICAgICAgICAgIAogICAgICAgICAgICAgICAgICAgICAgICAgICAgICAgICAgICAgICAgICAgICAgICAgICAgICAgICAgICAgICAgICAgICAgICAgICAgICAgICAgICAgICAgICAgICAgICAgICAgCiAgICAgICAgICAgICAgICAgICAgICAgICAgICAgICAgICAgICAgICAgICAgICAgICAgICAgICAgICAgICAgICAgICAgICAgICAgICAgICAgICAgICAgICAgICAgICAgICAgICAKICAgICAgICAgICAgICAgICAgICAgICAgICAgICAgICAgICAgICAgICAgICAgICAgICAgICAgICAgICAgICAgICAgICAgICAgICAgICAgICAgICAgICAgICAgICAgICAgICAgIAogICAgICAgICAgICAgICAgICAgICAgICAgICAgICAgICAgICAgICAgICAgICAgICAgICAgICAgICAgICAgICAgICAgICAgICAgICAgICAgICAgICAgICAgICAgICAgICAgICAgCiAgICAgICAgICAgICAgICAgICAgICAgICAgICAgICAgICAgICAgICAgICAgICAgICAgICAgICAgICAgICAgICAgICAgICAgICAgICAgICAgICAgICAgICAgICAgICAgICAgICAKICAgICAgICAgICAgICAgICAgICAgICAgICAgICAgICAgICAgICAgICAgICAgICAgICAgICAgICAgICAgICAgICAgICAgICAgICAgICAgICAgICAgICAgICAgICAgICAgICAgIAogICAgICAgICAgICAgICAgICAgICAgICAgICAgICAgICAgICAgICAgICAgICAgICAgICAgICAgICAgICAgICAgICAgICAgICAgICAgICAgICAgICAgICAgICAgICAgICAgICAgCiAgICAgICAgICAgICAgICAgICAgICAgICAgICAgICAgICAgICAgICAgICAgICAgICAgICAgICAgICAgICAgICAgICAgICAgICAgICAgICAgICAgICAgICAgICAgICAgICAgICAKICAgICAgICAgICAgICAgICAgICAgICAgICAgICAgICAgICAgICAgICAgICAgICAgICAgICAgICAgICAgICAgICAgICAgICAgICAgICAgICAgICAgICAgICAgICAgICAgICAgIAogICAgICAgICAgICAgICAgICAgICAgICAgICAgICAgICAgICAgICAgICAgICAgICAgICAgICAgICAgICAgICAgICAgICAgICAgICAgICAgICAgICAgICAgICAgICAgICAgICAgCiAgICAgICAgICAgICAgICAgICAgICAgICAgICAgICAgICAgICAgICAgICAgICAgICAgICAgICAgICAgICAgICAgICAgICAgICAgICAgICAgICAgICAgICAgICAgICAgICAgICAKICAgICAgICAgICAgICAgICAgICAgICAgICAgICAgICAgICAgICAgICAgICAgICAgICAgICAgICAgICAgICAgICAgICAgICAgICAgICAgICAgICAgICAgICAgICAgICAgICAgIAogICAgICAgICAgICAgICAgICAgICAgICAgICAgICAgICAgICAgICAgICAgICAgICAgICAgICAgICAgICAgICAgICAgICAgICAgICAgICAgICAgICAgICAgICAgICAgICAgICAgCiAgICAgICAgICAgICAgICAgICAgICAgICAgICAgICAgICAgICAgICAgICAgICAgICAgICAgICAgICAgICAgICAgICAgICAgICAgICAgICAgICAgICAgICAgICAgICAgICAgICAKICAgICAgICAgICAgICAgICAgICAgICAgICAgICAgICAgICAgICAgICAgICAgICAgICAgICAgICAgICAgICAgICAgICAgICAgICAgICAgICAgICAgICAgICAgICAgICAgICAgIAogICAgICAgICAgICAgICAgICAgICAgICAgICAgICAgICAgICAgICAgICAgICAgICAgICAgICAgICAgICAgICAgICAgICAgICAgICAgICAgICAgICAgICAgICAgICAgICAgICAgCiAgICAgICAgICAgICAgICAgICAgICAgICAgICAgICAgICAgICAgICAgICAgICAgICAgICAgICAgICAgICAgICAgICAgICAgICAgICAgICAgICAgICAgICAgICAgICAgICAgICAKICAgICAgICAgICAgICAgICAgICAgICAgICAgICAgICAgICAgICAgICAgICAgICAgICAgICAgICAgICAgICAgICAgICAgICAgICAgICAgICAgICAgICAgICAgICAgICAgICAgIAogICAgICAgICAgICAgICAgICAgICAgICAgICAgICAgICAgICAgICAgICAgICAgICAgICAgICAgICAgICAgICAgICAgICAgICAgICAgICAgICAgICAgICAgICAgICAgICAgICAgCiAgICAgICAgICAgICAgICAgICAgICAgICAgICAgICAgICAgICAgICAgICAgICAgICAgICAgICAgICAgICAgICAgICAgICAgICAgICAgICAgICAgICAgICAgICAgICAgICAgICAKICAgICAgICAgICAgICAgICAgICAgICAgICAgICAgICAgICAgICAgICAgICAgICAgICAgICAgICAgICAgICAgICAgICAgICAgICAgICAgICAgICAgICAgICAgICAgICAgICAgIAogICAgICAgICAgICAgICAgICAgICAgICAgICAgICAgICAgICAgICAgICAgICAgICAgICAgICAgICAgICAgICAgICAgICAgICAgICAgICAgICAgICAgICAgICAgICAgICAgICAgCiAgICAgICAgICAgICAgICAgICAgICAgICAgICAgICAgICAgICAgICAgICAgICAgICAgICAgICAgICAgICAgICAgICAgICAgICAgICAgICAgICAgICAgICAgICAgICAgICAgICAKICAgICAgICAgICAgICAgICAgICAgICAgICAgICAgICAgICAgICAgICAgICAgICAgICAgICAgICAgICAgICAgICAgICAgICAgICAgICAgICAgICAgICAgICAgICAgICAgICAgIAogICAgICAgICAgICAgICAgICAgICAgICAgICAgICAgICAgICAgICAgICAgICAgICAgICAgICAgICAgICAgICAgICAgICAgICAgICAgICAgICAgICAgICAgICAgICAgICAgICAgCiAgICAgICAgICAgICAgICAgICAgICAgICAgICAgICAgICAgICAgICAgICAgICAgICAgICAgICAgICAgICAgICAgICAgICAgICAgICAgICAgICAgICAgICAgICAgICAgICAgICAKICAgICAgICAgICAgICAgICAgICAgICAgICAgICAgICAgICAgICAgICAgICAgICAgICAgICAgICAgICAgICAgICAgICAgICAgICAgICAgICAgICAgICAgICAgICAgICAgICAgIAogICAgICAgICAgICAgICAgICAgICAgICAgICAgICAgICAgICAgICAgICAgICAgICAgICAgICAgICAgICAgICAgICAgICAgICAgICAgICAgICAgICAgICAgICAgICAgICAgICAgCiAgICAgICAgICAgICAgICAgICAgICAgICAgICAgICAgICAgICAgICAgICAgICAgICAgICAgICAgICAgICAgICAgICA8P3hwYWNrZXQgZW5kPSd3Jz8+/9sAQwADAgIDAgIDAwMDBAMDBAUIBQUEBAUKBwcGCAwKDAwLCgsLDQ4SEA0OEQ4LCxAWEBETFBUVFQwPFxgWFBgSFBUU/9sAQwEDBAQFBAUJBQUJFA0LDRQUFBQUFBQUFBQUFBQUFBQUFBQUFBQUFBQUFBQUFBQUFBQUFBQUFBQUFBQUFBQUFBQU/8AAEQgB5wP2AwEiAAIRAQMRAf/EAB8AAAEFAQEBAQEBAAAAAAAAAAABAgMEBQYHCAkKC//EALUQAAIBAwMCBAMFBQQEAAABfQECAwAEEQUSITFBBhNRYQcicRQygZGhCCNCscEVUtHwJDNicoIJChYXGBkaJSYnKCkqNDU2Nzg5OkNERUZHSElKU1RVVldYWVpjZGVmZ2hpanN0dXZ3eHl6g4SFhoeIiYqSk5SVlpeYmZqio6Slpqeoqaqys7S1tre4ubrCw8TFxsfIycrS09TV1tfY2drh4uPk5ebn6Onq8fLz9PX29/j5+v/EAB8BAAMBAQEBAQEBAQEAAAAAAAABAgMEBQYHCAkKC//EALURAAIBAgQEAwQHBQQEAAECdwABAgMRBAUhMQYSQVEHYXETIjKBCBRCkaGxwQkjM1LwFWJy0QoWJDThJfEXGBkaJicoKSo1Njc4OTpDREVGR0hJSlNUVVZXWFlaY2RlZmdoaWpzdHV2d3h5eoKDhIWGh4iJipKTlJWWl5iZmqKjpKWmp6ipqrKztLW2t7i5usLDxMXGx8jJytLT1NXW19jZ2uLj5OXm5+jp6vLz9PX29/j5+v/aAAwDAQACEQMRAD8A/VOiiigAooooAKKKKACiiigAooooAKKKKACiiigAooooAKKKKACiiigAooooAKKKKACiiigAooooAKKKKACiiigAooooAKKKKACiiigAooooAKKKKACiiigAooooAKKKKACiiigAooooAKKKKACiiigAooooAKKKKACiiigAooooAKKKKACiiigAooooAKKKKACiiigAooooAKKKKACiiigAooooAKKKKACiiigAooooAKKKKACiiigAooooAKKKKACiiigAooooAKKKKACiiigAooooAKKKKACiiigAooooAKKKKACiiigAooooAKKKKACiiigAooooAKKKKACiiigAooooAKKKKACiiigAooooAKKKKACiiigAooooAKKKKACiiigAooooAKKKKACiiigAooooAKKKKACiiigAooooAKKKKACiiigAooooAKKKKACiiigAooooAKKKKACiiigAooooAKKKKACiiigAooooAKKKKACiiigAooooAKKKKACiiigAooooAKKKKACiiigAooooAKKKKACiiigAooooAKKKKACiiigAooooAKKKKACiiigAooooAKKKKACiiigAooooAKKKKACiiigAooooAKKKKACiiigAooooAKKKKACiiigAooooAKKKKACiiigAooooAKKKKACiiigAooooAKKKKACiiigAooooAKKKKACiiigAooooATI6UZr8iv2rPiZ4w0f9obx3ZWHivXLK0gv9sVvb6jNFHGu1PuqrYrK0Pw5+0N4l0m21TSF8falp10nmQXVvdXTRyL+dfPSzZKcqcabbR+yUvDmUsLSxVXGwgqiTXMrbq9tWfsVmivxp1jxZ8efg/dQ3Wr6v468Nlm2pLqM90sMv+z+8+V6+2f2Kf2vr/wCM1xdeEvFpibxLbQGe3vIUCi8iHDZUcK69/WtsPmcK1RUpxcWzyM54DxmV4N4+hVjWpR3cei79U0uup9fUUUV7Z+ZBRRRQAUUUUAFFFFABRRRQAUUUUAFFFFABRRRQAUUUUAFFFFACUV8D/Gj/AIKNa94M8aeIvDPh7wnYefo+oXOnNf6lM0gdopWj3rGu3jIzjNfcPhXUJdX8MaRezhfOubOGeTb03Misa46OKpV5yhB6xPosy4fzDKMPRxOMgoqr8Oqb2T6XtubFFFFdh86Vbi6h0+3kmuJUghjG5pJGwqj3JrJg8beH7qaOGLXtNlnkbakcd5GzM3oADya5r9oLQb/xR8EfG+kaVavfalfaVPBb28f3pHZCFAr82/gx+y38VvDvxi8CatqXgnUrPT7HXrG5uLiULtjjS4V2Y815mJxVShUjCMOZM+6yHh/BZrgq2JxOLVKUL2i7e9pfq1100R+tNFJS16Z8KFFFFABSUd65D4qePrX4X/D3X/FF6hmt9KtXuDCvBkI4VPxYgfjUSkopyeyNaNKdepGlTV5SaSXdvRHX5ozX5DJ46+MX7YXxEfR7DVrpppg1ymmw3bW9jaxL6/5yal8VWfxn/Yx8WaZLc69NaG7Bmi+z3rXFndBeqvGfw6ivA/tdWc1TfJ3P13/iHUlJYWeNgsS1dU/+De//AJKfrpS1wfwV+JEPxe+FvhvxdFEsH9p23mSRK2RHIrFJFB9nVhXd170ZKpFTWzPyTEUamGrToVVaUG015p2YtIeKK+bv2+Ne1Lwz+zzfX2k391p16t/bBbizmMUgyxzyPpUVqio05VH0OvLcE8yxtHBRlyupJRv2ufSI5or8nv2Wv2vtf+FnjxU8WazqGteGNSZYrpr+5kuGtPSZM9vUelfqtZ30GqWcF3aSxz2s6CSOaNtyupGQwIrlweMhjIXjo10Pd4k4axXDeIjSrvmjJXjJbPuvJr/JlugfnXy//wAFC/EGp+GfgLBfaTqV1pl2NZt0+0WUzRSbSku4bl57fpXjv/BNXxp4g8V+NvGUes65qerpBp8LRrf3jzhSZD03d6Usao4lYa2rN8NwxUxORVc8VVKMHbltq9Ut/mfoHRRRXpHxIUUUUAFFFFABRRRQAUUUUAJRxXlH7U2oXek/s9+O76wuprO8g0yR454HKOh45BH1NfkzoPxB+J3ijWLbStH8U+KtS1K5fy4LS31S5eSRv7qqGrx8ZmCwk1Bxu2fovDXBtTiPC1MVGuqag7O68k73uft7uHrRX5BP4D/aWRS32H4jf8BlvGqp4N/am+MXwZ8Qm3vdf1q5ktW2XOjeJHlmH+6RL80X4Vy/2wote0ptJn0D8Nq1aEngsbTqSXRf8Bs/YmiuB+CnxY0741fDfSfFmmL5CXalZbZjuaCVTh4z7gj9RXfV70ZKpFSjsz8hxFCrhasqFaNpRbTXZoKKKK0MAooooAKKKKACiiigAooooAKKKKACiiigAooooAKKKKAEorx39p34+L+zr4BtPEraMdce61CPT47UXHkDe0ckm4ttbgeSe3evM/2Qv2sPEf7RnjDxLZ6tpenaXY6fZRzww2YcsWZyDuZmrjliqUayoN+8z6Kjw/mFfLambRgvYw3d13S0W+7Pq+iiiuw+dE9azdT8Q6XopQahqVpYmT7v2qdY8/Tca0q+I/8Agoh8G/GnxS1vwVN4U8P3euJZ290s5tSP3ZZo8Z/L9K5MTWlQpOcY8zXQ97I8voZpj4YTEVlShK95O2lk31aWtrbn2VpfiDTNcEh0/UbW+8vG/wCyzLLtz0zg8Vo/WvjD/gnX8JvF/wAKf+E/XxZoV1obX5082y3QGZdguQxH/fS/nX2hTw1WValGco8rfQnO8vo5XmFTB4eqqsI2tJW1vFPo2tG7b9BaKKK6jwxO1FLXmP7SEOtXHwN8ZJ4ejvpNdewZbNdLVzcGTIx5ez5s/Ss5y5YuVtjpwtH6zXp0HLl5mld9Lu1/kem5or8cf+Ed/aO/6BnxT/8AAfUq4/WviJ8T/DepT6bq3ifxbpeownElnfahdQyofdGYMtfPyzhQ+Km0fstLwylXfLSx8JPyV/yZ+330or8Z9Js/j/r1hb6hpcXxI1KwuBvhurMahLDIP7ysK+qv2B9N+Kdh8RfEL+PLXxfb2DaXttm8Rx3Yi83zVPy+d3xn9a6KGZOvNQ9m1c8XNuBY5Xg6uKeNhNw+yt3ra25930UUV7h+VhRRRQAUUUUAJRzXyt+1d+2Zc/s6+LrDw3YeGodYvrvTk1D7Rc3ZjiRWlkj27FUlj+6J7da9D/ZQ+Lus/G74QweKdchs7a+nvLiHy7JWWNVRto6sT+tcccVSlVdBP3kfRVuH8ww+WwzWrBKjNpJ3V3e/Tfo97Hs9FFFdh86FFFFABRRRQAUUUUAFFFFABRRRQAUUUUAFFFFABRRRQAUUUUAFFFFABRRRQB+Mn7Xn/Jy3j7/sI/0Ffp5+ySR/wzZ8PP8AsExf1r8w/wBrz/k5bx9/2Ef6Cp/Cf7N3xp8VeG9P1fQPD2qXWjXcXmWs0F9GqtGehCmSvhcPiJ4fF1JRg5b/AJn9WZ1k+HzrIMDRxGKjQUVB3laz9y1tZR9T9EP24tb8PaX+zn4ntNcntxc3sQj06CUgvJchgy7F7kYJr4I/YLt7lv2pvB723EcYvGnb+HyzazD+ZFJa/sR/HLxFqCi78J3ER/iub+/t8BfqZM19z/sk/sl2/wCz/Y3erardx6n4svk8qWaH/VW8ec+VHn+f9K7VCvjsVGtKnyqJ8xPEZTwlw9ictpYyOIqVuZJRtpzR5dk5WSWur1Yn7V/7X1j8AIYNG0q0j1fxbdR+altKzCK1j7SyY/Qe1fGcP/BQr40NdlxqWnuoGTB/ZsWMfXr+tebftP8Aimfxf+0F491GaTzQurXFpF/1yhbyY/8Ax2Ov1T/Zt+FmjfCn4S+HbDTrSGO6uLGC4vbqOPa1xO8YLM3enGpicfiJRpz5YxJxGDyXg3JsNVxeEWIrVkr81uyb1adkrpKyu9z5B8T/APBSnW7z4f6TLoem2OneLRctHqME8LTW7RbflkjOc/nXvP7Efx88V/H7QvFF/wCKFsV/s+6hgtvsUJjHKsWzk89BXzX/AMFKfhbovgvxt4W8QaRZw2MniCK6F5FboFDTRNGfNwP4j52Pwr1P/gln/wAk98a/9hSL/wBE1WGrYlY72Fad0vx0OfOMtyWpwi81y/DKDm003rKPv2aT7JppeRzv7S/7bHxG+EPxu8TeE9GTRjpuntb+Sbi1dpdslvHJ1B9WNZHxO/4KN+IP+Ed8O2PhCCyj1l9Nt5tX1SaHeqXTRgyRQpnnnua8Y/bz/wCTsPHP/bj/AOkNvX2B+wn8A/Cdh8GNF8XX+kWOra9rXmztdXdusnkIJGjWNN3QYX8c1hTqYvEYqpQhUsrv+keni8Hw/k+RYHNcXhFOTjDRWXNKUE3zeW79ehd/Y7/aU134jfDLxp4o+Imr27W2hzjddJbpCI4fK3sSE618+/FL/gpJ401TXJ4/A1tZ6DosZ2xyXcAuLmb/AGmDHav+ea9w/wCChj6f4B/Z/NjolhaaW3iHWba2u/sUKw+bGiPJlto5w0UYr5x/4J3/AAv0n4gfFzUdR1m1hv7fQ7L7TBbzruXz2kUI5B9ACa1xFTEKrDBwnr1ZyZRgskqYLF8U4nCr2d/cp6WSSS2ta7lpdqyOp+E3/BSHxhpOvWsHxCtbfVdEuCPMvLW1EFzApON6oDtdf85qnH/wUS+KGreNo9M0yDQXsbrUPIti1m25o2fav/LSvvz4t/CvQ/i74I1Hw7rVlBPHPBIsErxgvbSlSFkQ/wALA85HpX4t/Df/AJKF4X/7Ctr/AOjVrLFvFYOUIOo2mehw1S4e4lp4nFRwEac4JXjvHW7TWis3Z306I/X/APai+JGs/CP4IeIPF2g/Z/7S05rbYLpDIhElxHE3GfST9K+Pfhp/wUm8TLqGrT+N7HT7uyh09ns7XTLdoXlut8YRWZmbC4Ldq+nv29P+TUPHH/bh/wCl1vX54/saeBNJ+In7QnhnSdbgF3pmJ7qS1kTckzRxM6h/xrpx+IrwxcKdKVrpfqeDwflOU4rhvFY3MaKn7OUtftcsYQlZPp1+87PWv+Ci3xf1DU5biyutM0i1z8llDYpIoX/eky1e5+Av+ClFi3ws1W+8U6Wj+NLIpHa2VnuSHUC+dr5O7ywMHdnPt7en/t9eE9Kuv2YfEF5JYwm40eS0ksnVADEWuYosL6fLIRivhD9i34d6X8Tv2gdB0zWbdLvTbZZr2W2kGVk8uPKAjuN2K5aksXhcSqKqXcj3MHhuG+IMjqZnPAqjGg3dRer5EpW5kldSTtr9/U6rVv8Agor8X77UHns73TNLt84Szh09GTH+9Jlq+v8A9jj9raX9oC31HR9etYLLxNp0azs9tlYrqInBcA9CDjI9xU37fXhTSrr9mHX7ySyhNxpElpJZOqAGItcxRYX0+WQjFfH/APwTjkZf2kIFHAbSroP+BB/pWyqYnCYyNKc+ZSPPqYXJeIuGMTmOFwcaE6N7W3vFKW6Sumn1Pv39ob9obQP2efCS6nqga81K6Yx6fpkJxJcSD/0FBkZb3r4Zk/bq+PHj/ULl/CWnRx28R5s9J0c3hjH+0xVq53/goT4vuPEX7SWr6e0u+10S2trKFf4V3RLM/wD49JXrX7Pn7bXwo+CPwr0bwyPD/iVtQhj8y/urOztik9y33mybjJ7flRWxcsRiZUnU5IxNcs4co5VklDHQwH1vEVknZ7Ri1daPTa3S93vYX4H/APBRLXbfxRBofxQsrdbSaYQNqkMLW8loemZo+ePpg17V+2z+0T4n/Z/0jwrd+FxYM+qTXEc322JpBhEQrjBH96vhX9rT4veDfjb8Q7XxN4R03UdLMtqIb9dQhiiMsqs22T93I/bA/Cv0j/Zc1GPxp+zn8P73U4ku7n+zVhL3CK5JiLRZ/Ja0wtarX9phlUvbaR5/EWV5flCwWezwXLGTaqUW7K7i7dGlbV7a6aLU/IDxd4luvGXivWdf1ARi+1S8mv7gRrhPMldpGwvpuavrX4L/ALeHxJ17x94E8IXMWiDSbzU7HSpGjs2E3lPIsRIPmYzj2r5y/aACp8ePiOiqsar4k1FVCrhRi6kr9j/AOh6d/wAIX4clWwtVlXT7Yh1hUEHy1PXFefl2HqzrT5J2tv5n2HGma5fg8uwrxODVVVIvlu7cnux20d9122Pi79pf9tj4jfCH43eJvCejJox03T2t/JNxau0u2S3jk6g+rGsj4nf8FG/EH/CO+HbHwhBZR6y+m282r6pNDvVLpowZIoUzzz3NeMft5/8AJ2Hjn/tx/wDSG3r7A/YT+AfhOw+DGi+Lr/SLHVte1rzZ2uru3WTyEEjRrGm7oML+Oa3p1MXiMTUoQqWV3/SPHxeD4fyfIsDmuLwinJxhotOaUoJvm8t369Cp+zf+0t45+IH7P/xU8Ya/d2t9rHhu2uLiyb7KsSDZatKu5U68gV5Z8Ff2+PiZ8QPiz4S8N6pFoa2Gq6lDaTm3s2DBHODtYyHmvsX42eF9I8O/AX4pPpel2enPc+G9RaY2sCxeYRaSAFto5r8q/wBl/wD5OK+HX/Yctf8A0Ot8VUr4WpRp87d9/vOHh/B5TnuEzPH/AFSMUtYqy933OlrddT9hvHXjfSPhv4V1DxHr12tnpWnx+ZLJ39lUd2JIUD3r88fiV/wUs8aaxqMieDNOsvDumqdqSXkQubpvc87BXo//AAVF8X3Fl4Z8FeGopNlvfXFze3Cr38pUWP8AWVq4n/gmz8IdH8Xav4k8XazZQ6i2ktBa2CTrvCSMHLyjP4fma0xWIr1sUsJRly+fyuebw7k2VZbkE+Is0pe1b+GL2+LlWm12+rvZbHE+Hf8Ago18XdKvElv7jSdct+hgurERH84ttfo78GviFN8VPhpoPiu40uXRpdTt/tH2ORw+0ZIBB7qw+YexrZ8ZeBfD/wAQNGl0rxFo9rrNg4I8m6j3AH1B6qf9pea09J0u10TTrSws4lgtLaJYIY16KijCj8hXpYXD1qEn7SpzI+Jz/OcpzahD6lgVh6ieri9GreSir38tLb6l+vNP2iPh3P8AFT4J+LvC9nj7bfWf+jhjw0sbLIg/FkA/GvSq+Uf20v2sLj4GWdr4c8NhG8WalCZftEgDLYw5Kh9v8TnnA9vpXTiqlOlRk6mx4uQ4PG43MqNPL1eqpKSvsuV3u/Jf1qfDv7L/AMZH/Zt+Mh1PV7KYWjRSaTqlvsPnQxmRWbCnurRCuo/aa+Ol9+1x8RtA0fwnoly1lZGS30y225uLl5Sm92Ufd+4PyrH+G/7MfxH/AGkNB8QeOYp/tcgeR1m1KZjNqdx1YKx/mfpUH7Mfx3uv2ZPiZcy6po3nWVw32LU4JoQLy3CtyYyfmBU9Y6+GhKrGEaNRuNKT3P6pxFHBVsZWzTAwjVx9CPK4qWibX52bX4aM/RfwFqHhP9lH4O+CvCnjDxJp+jTR2rqJLhyqTTbvMn2ewaX9RXqHgvxxoPxC0VNX8O6pb6xprOUW5tiShYdRzX5s/wDBQz4xaH8UfGHg+18OX8OqaZYaa9z9ogbcvmXDKdvswWKM/jX29+yB4Nk8C/s5+CdOuAUuZbQ3sik5+ad2m/k4r6vC4r2ld4emvcitz8BzzIlhcoo5zi5yWJxE25RdktXJt2tft957TXzD/wAFFP8Ak2nUv+wja/8AoRr6er5h/wCCin/JtOpf9hG1/wDQjXZjf92qeh8/wr/yPcH/ANfI/mfl3ofg/VPEema1qGn2rXNro1uLu98v70UJdY9/0DNX2r+wB+1N/Z1xbfDHxTdf6JMwXRLyY8RyH/l1J9M/d/LvXMf8EyLOHUPid4xtrlFmgk0ExvGwyrKZ4+PyzXC/tifs0XHwD8apqWjJIfCOpyF7GQf8ukvJMB9vQ+lfG4eFXC044ylqup/R+cYjAZ9jq/DGP92VlKnLztf71v5q6Pr/AP4KVf8AJu1v/wBhu1/9AlrxH/gln/yPnjn/ALB0H/ow1x/xM/agHxq/ZNi8Pa/eZ8aaTqtqXL8G/gCSATfXn5v/AK9dh/wSz/5Hzxz/ANg2D/0Ya9D28MRmFOcOx8n/AGbiMo4Kx2CxStKMn6P3oWa8mfYX7Qn7Q3h/9nnwkuqaqGvNRumMdhpkJxJcOOf+AqMjLe9fA/iD/got8Xte1EnRzpeixN8sdta2ImJ/GTNZf/BQnxdceIv2lNY05pma20W2trK3X+FcxLM//j0lfan7CXwv0bwX8CfD+uQWkLazrkLXd3f7R5jgyNsTd6BcVtKriMbipUaU+WMTzKGXZRwrkFDNMfhliK1a1lLZcy5ktU0rLd2bb8tvln4ef8FKvHmh6hGvi2wsPEemZCubeL7Lcr9MfKfxFfoh8O/H2jfFDwfp3iXQLoXemXqb426FTnBVh2YEEEe1fEf/AAU1+F+jaXB4b8Z2FrFa6leXT2d60aY+0fLuVm9SMGrX/BLjxdPPb+N/DMzs1tAbe/t1bopfckuPxVfyqsLiK+HxTwtWXN5/I5c+yjK824eXEWWUfYyj8UVt8XK/LR6ppK63Xbj/AIof8FAPin4L+JXi3w/ZpoD2uk6vd2EUj2L5KxTNGM/vPYVofGr/AIKSa7ca09n8N7S2sdMhOP7T1CHzZJvoh4UV8uftBf8AJe/iX/2Mupf+lUlfq7+zH8MfD3w8+DfhiPSbCCOfUNMt7q9uvLHm3MskSuzO3frj8BXLhpYrF1KlNVLJf1Y+iz7D8P8AD2CwePq4FVJyVlFe6m3FNuWjvbpo936r4e+Hn/BSD4h6L4gt38WrZ6/orMEnjitlt51B/ijKcH8Qa/S/Q9as/EWjWGrafMLiwvbeO5gmXo8bqGVvyI/OvyK/bZ8I6f4N/aR8U2Gl28drYyeRdiCFdqo0kCvJgducn8a/R79je+e+/Zk8ATSnc62Biz7JK6D9FFdmW4ir7apQrS5uU+a44ynLVleDznL6Kpe1tdLRWlHmWi0urW03PaqK/NvVP+CnHjnT9TurVfCvh5hDI0YLfaOcf8Dqt/w9E8e/9Cn4d/O4/wDi67P7Wwt7XPAj4c8QSV/Zx/8AAkfZ/wC1t/ybZ8Q/+wTL/SvzC/ZD/wCTlvAP/YR/oa/T39rb/k2v4h/9gmX+Yr8efB3h3WPF3iTT9J8P2811rF3L5drDAyo5f2Y4ryM2ly4qlJK9v8z9A8OqMcRkGOozlyqTkrvpeCV+m2+5+8WR7V+YX/BSjXdA1b4vaPDpM0E2qWenGHUng5Kt5mY0f/PeuA/4ZN/aB/6FTWf/AAYw/wDx6un+Hf8AwTw+KPizU4B4hs7fwlpmSZZrm4jnlx6LHGxH5kU8XiMRjafso0WjLIMlybhfGf2nWzSE+VNWi118lKTfkktz6V/4JoLPY/AHXLi8YRWh16eWIycYQW8AJPtx+leWfHL/AIKO65/wkVxp3w1htLbTLdyo1a8i86S59SiHgJ9ea9+/aK0jT/2f/wBjHxHofhlfstra2EemQc/O3nzLHKxI/iKySMfxr4J/Y1+HGmfFT4+aHpGsQRXelwLLeT20wys4jXKow78kVeIqVqCpYKlK0mtWZZLg8rzeeY8U4+lz0oylyxfaKTba2baa0eidz0rwJ/wUc+JOh6xBN4pgs/EejSHZJGlstrMP9qMpwfxBrW+IX/BSPxtb+NNVXwemkzeGxN/oLX9i3nGP1bElfob4g8F6H4p8NzaBqulWt5o0sflNZSRL5W0DAwuMDHbFfiP8SPDKeCviJ4p8PRyedFpGqXVgrf3lilaOssZ9bwUYr2t0zv4VXDvFOIqz/s+NOcEvd3i03vaySat22fXp+sXxq+Lfib4efst/8J7YCzTxBDY6dcSrcoXi3zSQpIMD3kNfLvwp/wCCjniJtR1qXx1b6dNYWumSTWltp9u0cs115kYjj5J4ILfzr3n9rj/kxfV/+wdpH/pVa1+f/wCyn8NdP+Lfx18N+G9YAk0qQyXNzEcgSpHE0nl1rjcRiIYmnClK10v1PK4XyfKMXkWNxeYUU1TqT1S95RjGMrJ/fb1PWtH/AOCgXxZ8VfEDSLcXem6bpl5qEEJsoLFCFjaQA/M+Wzj3r7V/ac/aY0n9nTwxBcSwDUtfviy6fpu/bvx96SRv4UHrXoVp8LPBmn2ENjbeEtEhsocCOFNPiCLjkcba/MH/AIKCeKJvEX7TGt2jvmDSLW1sIfTBiWZv/HpjW9aWIy+hKUp80pPTyPOyuhk/GWb0aGGwioUqUZSklb31eKV2knu9etr6l26/4KHfGa+1ANa3+m24Y4Wzg0xG/wDQ8tXpMf8AwUq1y4+F94H02xsfHdvPCIZBCz2VzDn94Su7cjdePevf/wBhH4W6P4K+BWga5FaQHWtdhN3dX2weawLNsjz6Kv8AWvIv+Cmnwv0Wy8L6B46tLOK11abUxp13JGoU3KvE7qWx1K+R19653TxlLDfWPa302PXp4zhnMs8WSrL1FRm4qasruPRxtrF2tq38unXfsV/tTeOf2gfGevaf4li0tbDT7ATq1jA0beYZFUdWPbNcL+01+2x8RvhB8cPE/hLRk0Z9N042/km4tXeQCS2jlxkH/aNYX/BLP/kfPHP/AGDYP/Rhrx/9vP8A5Ow8c/8Abj/6Q29RUxVdZfCqpPmb/wAzuwmRZZU4xxOBlh4+yjSTUbaJ/u9fXVnsXxC/4KSeI5PD2iWPhOys4tXawt31PVLiIuouSimVYYj2yT19a5n4c/8ABR/4g6P4jtz4v+x69ojNi4jhtVgnRf7yFeD+Ir6n/YL+HOieGv2f9A1q2soW1bXFmnvbt0XzZMTOipn+6Ao4r4J/bQ8PWHhb9prxvp+m2yWlms1vMIo12qGltoZZD/33IT+NTiJYyjShiXU36GmS0OHM0zHFZDTwCSp83vvWTtJRdtLx1elnt0R9E/Hz/go5qEGuS6T8MkszZwcNrV3H5vmn0jjPb61wfw9/4KQfETR/EMEnitbPxDorMFuIY7RbedQf4oynH5g19X/sLfC/RfBvwD8P6vDZwtq+uwtd3l4VUyOGZgke7+6q4/WvgP8AbQ8PWHhb9prxvp+m2yWlms1vMIo12qGltoZZD/31IT+NGJli6NOGKdT4unQjIcPw5mWNxGQU8Cn7JP8AeSd5S5Wot3snHV3Vn8kfr7oetWfiLRrDVtPmFxYXtvHcwTL0eN1DK34gj86+Q/2nP2+I/hnr174U8E2Vvq2t2jGG81C83NbW0veMKMb3H1x9a9E+FPiy48HfsPaT4iRs3Gl+E5rqFm7NHExjH6KK/MD4WeINA0X4naJrPjK1udV0O2vBd3tvCizS3O3nbtdgrZbrzXbjsfUpwpxg7OXU+W4R4UwuKxWNr4uDqQw8nGMf5mr+nRaLZt6nv8n7av7Q+naamuXcLDRZORcT6CFtWU/9NAv9a+vf2T/2uLH9oSzutM1Czj0jxXYx+bLaxtujuI+nmRk9s9R7157q3/BR74Pa9pN1pWoeFvFN3p9xEYZbWSxtCkkfcEfaelfH/wCyXr58OftQeC5tLkmS1uNT+xZb7zQzbo9rfnXNHEzw9aCjV51LfyPo8RkNLOssxU8RlqwlWknKDVrSsm7O1r7Wd11TRb/aA/au8a/G7S38L+IY9MTT7DUvtcRs7do5N6CSNeSzfwyGuU+B/wC0J4n/AGf9S1O/8Lpp7z6jCkEv2+FpVwrZ+XDCvub/AIKZaZaWPwJ0J7e0ggdvEsALxxKDza3VeS/8EvrO2vvHHjdLm2inUadAV8yNW/5aGuOpQrLHKn7T3n1PfwWbZdLhOrjo4JKinrTvo/eit7d9duh7p8C/2kPGHxI/Zb+IXxA1MaaniDQTf/ZfJgYQEQWkU67l3c5LHvXhvwp/4KM+L7zxzp6eNxpUXhcLO10+n2jLNxGzIEy3qBX2z8erOCx/Z/8AiVHbQpAh8N6m22NQoz9lk54r8efhL4Oj+IXxM8LeGp5Ggt9W1K3tJZE+8Ed1DMtd+Oq4jDTpU4z1/M+V4Vy/Js8wuYYvEYZQhfTq4Ll15XbputNz6B8Yf8FHPijq2tTy6HJp+gabn91aizS4fHqzv/Svo/8Aa2/aj8ZfA7wx8Nb7w+umyT+IbSea8N9A0g3IluRsAYY5mP5CvoXQ/gx4E8L6FHpGn+EdHj0+OPZ5LWUb7h/tEgliffNfGv8AwVOt4rOH4VwxKIoY11NFRR8qqPslbVqeJwuGqVJ1Lt2+Wp5WV4vIuIM7wWCw2AVOnH2l72fOuRtc3W6avq36nsn7En7RHij4/wCk+KrjxOtij6ZPbxQCxhaMbZFY85P+yKj/AGov21tK+Bd83h7RrJNd8VmINJG0mLez3fd8zHU+wrzD/glvNHaeGfiPPI2xFuLMsfTCzV8Ma5q+pfE7x/eahcMZNT1zUC5JbP7yV6wnjq1PB07P3pX1PawfCOXY/ifHRqQUcPQ5PdWivKKfTpo2z3W6/wCChvxmuJi8er6daJnIhj02Jgo+pya+jP2R/wBtbxf8ZPHkHhDxHodrdyywyTHVdO3QiIKP+WkZzwTxwRya+pvhj8L9A+EfhKy8P+HrKK0s4EUO6xqJJ3Aw0kjD7zH1PrU+i/DXwx4e8UXviTTNFs7DWr6Fbe6u7aIRtKgOcED3713UcHioTjOVa/dHx2acScPYyhWw1DLIwdmoTVk79G0krd7XfZnWUUUV7x+VCV+OP7av/J0Hj7/r7i/9ERV+x9fjh+2r/wAnQeP/APr7i/8AREVfOZ3/AAI+p+0eFf8AyNq3/Xt/+lRP0x/ZJ/5Nt+Hn/YJi/rXQ/GH4u6D8E/Bdz4k8QTMlrEfLit4RmW4lP3Y0Hrwa579kn/k2v4ef9gmL+tfG/wDwVC8XT3nxK8LeGhI32Kx0v7cU/h82WVl5/wCAwj866quIeFwUaiWtkfO5dk0c+4oq4Oo7Q56jlbeyk9Pnt5XuZes/8FAPjF4/1+SLwRpMNjDjKWNhp5v58f3mJU/oBWp8P/8Agoj4+8H+KP7N+JWkR3tmp8ufZaG0u7c+pXofyqj+yT+1l8M/2fPh5Jp2qaHr114hvLh57270+0t3VlziNAzTK3T2rjv2yv2hPAX7Qk2gan4Y0nV9O1qz82K7m1G2ij82EhCi7o5Wzg5/OvAeIqRpKuq95fyn69HJsHXx8srnk6jhtUqvXRb33s3otW9mfqjo+uaf4g0Sz1jTrqO7027gW5guUbKPGy7lcexGDXwJ8bP+Cjutf8JFc6T8NbO0+wQuY11W8iaeS5b1jT7oX65r1j9ie4v/AB/+x3e6GJyt1EdQ0m2mb+EOm5D+HnV8AfDrxJqH7O/xo07Vta0EzahoF263Gk3n7pt21k99rLu3Bq9HG4yr7Kk4PlUt2fIcLcL4FY7MKWJgq9TDtqEG7KW9m+mtktdFfVbHtd1+2p+0T4Xjj1DWbd4rI9DqWgCGJ/8AgQVa+ivCf7Y3iTxt+zH448fQ+H7XSda8PGOGKUlpbS4kLIGKr94YVxnnuKNA/wCCkHwt8SRNb69pWsaQkg2NHc2sc8DD3Ib+lfQHwlk8B6z4Gjl8BJpkvhm5mklCafGBD5jNlwUxwc9sVthYylJqniOa6PNzyvRw1KEsbkqoSjOLutItJ3lFtK12lbr36H5DfGz43+Ivj54otdf8SpZR39vaLYJ9hiaNfKWRn/vH+KQ123wj/bI8efBfwZD4Z8PR6Q2nwzSTq11bPI+X9wRXf/8ABTKzgsfjxoEVvBHBGfDcBIiVV5+1XVfTf/BPXR9PvP2bdPkuLKCd/wC0brLSQqT94e1eNRw9aWNlTVS0l1P0nM83y2jwvh8dVwSlRk42p30jvbW3S3bqe9fCnxNdeMvhf4P1+/WNdQ1bR7O/nEa4USSwpIwA9Mk12FQxQpBGqRoqKowFXgCpf4q+3inGKTd2fyxWnGpUlOEeVNuy7Lt8haKKKsyCiiigAooooAKKKKACiiigAooooAKKKKACiiigAooooAKKKKACiiigD8ZP2vP+TlvH3/YR/oK/T39kn/k234ef9gmL+Zrw34uf8E6f+Fq/EnX/ABYfH50w6rc/afsn9jecIzjoG89c/lX078JfAR+Fvw38P+ExenURpNqtsLvyfK83B67dxx19TXz2BwtajialSa0f+Z+xcWcQZbmeRYLB4SrzVKfLzK0la0LPVpJ69mdnSUtFfQn46fjR+1/4LuvA/wC0N4zguIysWpahJqsBU5V4528w/rkfhX3p+zv+2P8AD3xB8LdDh8SeJ7Hw/r2n2kVrd2+pSiLc0aBfMQn7ytjPWvRP2gP2bfC37Q2hQWusrJZanZ5+x6nagebDnqvP3lPpXyT/AMOtdZW++bx5Y/Yt33109vOx+eP1r5VYfFYLESnh480ZH7w864f4myehhc4rOjVo21Sbvpa6smrPTTe55v8At3/tAaL8bPHGj2XhqX7XougRTIl6vyrcSysnmMn+yBGOe9e//wDBLT/knvjb/sKRf+iaueMP+Ca3hnV/DOgaVoHiabQ5dPa4kvdSurFbua+aTywucSRhAnlnGPWvX/2Xf2a2/Zp8O61pY8QjxGdSuluvN+w/ZfLwu3bjzHz+daYfC4pY329ZbmOc5/kM+Fv7Iy2o+aLVotO7tO7bduXX4t+tt9D89P28/wDk7Dxz/wBuP/pDb1+h37FP/Jr3gL/r1l/9KJa8v+PH7AbfG34qa34yPjr+xG1PyM2P9k/aAnlwLCPm89M5C56d6+g/gt8Nz8H/AIY6F4OGof2sNLiaMXvk+R5u6Rnzs3Nt+96npWuDwtali6lSa913/M8ziXP8tzDhvAYDDVearT5OZWkrctNxerST17NnkH/BQrwVceMP2dby4tF82TRL+HVGQHBMYV4nx64WYn8K+Jv2JPjppnwN+KVxNrzmHQ9Wtfsc9wASLdgyskh9uCD9a/Wu6tYry3khmjWWKRSjxuMgg9Qa+Jvit/wTR0nxDrk2oeCtfXw5DO29tNuoDNDF7RsDkfQ5ox+Ere3jicOrtF8J8Q5ZHKq+Q5y3GnO7UtettNE2mmrp2t38/V/i5+2p8OPBPgXUL7QvE+n+IdaeJksrLT5RKxlKnaWx91QcE5r8r/hv/wAlC8L/APYVtf8A0atfoF8JP+Ca2i+E9bttU8Z66PExt5BJHptvbeVbMR08wklmHtxWV4d/4Jgnw7r2m6oPiV9payuYrkQnQtoYocgZ+08Vx4nD47FShOcUrdD6jIc44T4cpYnDYbEyk5296UZe9vZK0enmlfm0209u/b0/5NQ8cf8Abh/6XW9fCn/BPf8A5Oh8O/8AXpe/+k7V+lHx4+FP/C7fhTrfgr+0/wCyBqXkZvfI87y/Lnjlzs3LnJjx1HWvCf2fv2C2+BPxOsPF48cf261pHMgs/wCyfs+fMjKZ3ee/r6dq7cVha1TGU6sV7qsfK8O5/luA4XxuXYiry1qnPyq0ne8IpapNLVdWdz+3p/yaj44+tj/6XW9fEv8AwTl/5OUtP+wVd/zFfov8efhT/wALt+FOt+Cv7T/sgan5Gb3yPO8vy545c7Ny5z5eOo614l+zn+wsf2f/AIkx+LP+E1/t4payW32X+yhbff77vOejFYWrUxtOrFe6rEZDn2XYLhbG5bXqWrVHPlVpO94RS1SstU92jsP29P8Ak1Hxx9bH/wBLreviX/gnL/ycpaf9gq7/AJiv0X+PPwp/4Xb8Kdb8Ff2n/ZA1PyM3vked5flzxy52blzny8dR1rxL9nP9hY/s/wDxJj8Wf8Jr/bxS1ktvsv8AZQtvv993nPRisLVqY2nVivdVgyHPsuwXC2Ny2vUtWqOfKrSd7wilqlZap7tHzB/wUY+Ht94c+OUviQwEab4gtoZI5hyPOiRYnQ/gFP416/8Asq/HD4Jap8M9J0TxtpvhnRfEWlwLbS3GsafABdqPuyLKVwc+/pX2F8Svhn4c+LXhW58PeKNOXUNNlwwHKvGw6OjDlWHrXxf4q/4Jbs935nhvxuIrUnPk6pZ7nUenmIwz+VYVcJXw+JdehFSUuh6eX8RZRnOTUcqzitKhOlZRnG+qSstk+mjTVuqZ6r42+Pn7MvguxDiz8K69L0S00fSYLhz+SbR+Jr6S8Nw6XBoln/YsVtBpbRCS2js41jh8tvmBVRwMj09a+GvCP/BLhYbwSeKPGn2i1U5+zaVaBHf2MrnI/KvuDwj4WsPA/hnS/D+lRvHpum2yWtukjl2WNFCqCx68AV6eD+sSlJ1oKKPiuI45NSp0qWV4qdaSb5nK/Lbpa6Wq16Pfc/G39prSLjRP2hPiLb3I2yPr15cqf9iWVpU/8dav0m+Cv7W3w18VeD/B2mnxFbWfiC5jtNNOkzRuJRdELGEHHQv0bOKh/aW/Y18O/H+/TWo7+Tw/4nSMQm8hiEsdwo+6sqcZA9c14x8M/wDgm/rPgT4i+G/El54zsbu30fUrfUfs8Fm4aXyZVk29eM4x+NeVSw+LweIk6ceaMv8AM/QMdnHDvEuTUKePrypVqMdEk9Xy2/laabS8z53/AG8/+TsPHP8A24/+kNvX6HfsU/8AJr3gL/r1l/8ASiWvL/jx+wGfjb8VNb8ZHx1/Yran5GbL+yftATy4FhB3eemchc9O9fQfwW+G5+D/AMMdC8HDUP7WGlxNGL3yfI83dIz52bmx971NdODwtani6lSasnf8zxOJc/y3MOG8DgMNV5qtPk5laSty03F6tJPXs2RftDf8kD+JP/Ytal/6SyV+S37L/wDycV8O/wDsOWv/AKHX7DfELwqfHXgHxH4a+0fYzrOm3On/AGgLv8rzYmj344zjdnHfFfJfwx/4JwN8NfiF4f8AFI+IQ1J9IvY7xbT+xPKEpQ5ClvtJx9cUY/C1a9enOCul/mHB2f5blWU43C4yryzqX5VaTv7tt0mlr3sWf+CmHw5vPE3w28P+KbKFpk8PXMy3IX+GGcIpk+geOP8AOvnv9hH9o7RPgn4m1rSPFMps9B1oRP8AbipZbedAQC2M/Kwc/kK/UTUdNtdY0+ewvreK7tLiNopreZQ6OjDBVgeoNfF3xN/4Jn6HrWpSXfgzxFJ4fjkPNhewmeFPZGJyP1qMZhK8a6xWG1fY04b4iyqtk0+Hs7bjT15ZK7td83RNpqWqdmuj8/avF/7anwi8I6Q94vi611p9uY7TSyZ5n/Acfma9c8IeKbHxt4X0vXtMl82w1G2ju4W9Vddw/nXwl4d/4JbXf27drnjuAWYH3dOsGMj/AFZ2/wAa+3Pht8PdK+FXg3TPC2ifaDpenoyQm6lMsnzMzHc31Jrvws8XUm3Xgkj5PP8ACcO4ShCOUYiVWpfVtWXLb0Wt/U6uvyu/4KPeHr/Sv2gv7TnQ/YdS06BrRh3KLsdfz/nX6o1wPxe+C/hb43eGTo3ieyNxEjeZb3MLbJ7d/wC9G/Y/oaePwrxdFwjuZcI57T4ezSOLrRvBpxdt7O2q9Gl8j5l/Ys/an+Hug/BvSPCPiHWbTw1quj+ahF43lx3KtK8gkVun8RzXkn7eXiT4M+OLqDWvCOsxX/jYsq3DaWm+2uY+5lfG3cvGO/rXW+IP+CWl39tP9h+PIfsZ/g1CwPmD/gSNzWz8P/8AgmDpdjeJceMfFU2rQqdws9Kg+zq/1kJz+leLKnjqtFYaVNWXU/UKON4TwGZyzzD46fNJuTgk9XLVp3js30b+Z8FeDL7SNN8VaRdeILKbUtDhu45Ly0gYJJNEGyyKxr9m/hD8bvBPxm0jzvCGrw3XkRr5tiR5c9sDwA8Z6fyrhPid+xR8MviH4ZtNJt9HTw3cWMXlWmo6XGqSoMdHH/LUf7351p/sv/s4237OXhXUtNXUF1bUNQu/tE96sXl5QDbGmPbn8zXVgMJicHV5XZxfU8Hi3iLJuJ8BHERc4Yim7Rg9mm9X1Wy7p301R7hXzD/wUU/5Np1H/sI2v/oRr6d7V5d+0V8FR8fPhrceEjq/9hiW4iuPtYtvtBGxs427l6/WvYxUJVKE4R3aPznIMVRwObYbE4h2hCcW3q7JPyu/uPiT/gl3/wAlb8Wf9gP/ANuI6/QH4kfDrRfit4L1Lw1r9sLnTr1Cp/vxt/DIh7MpwQa8Q/Zf/Y5P7Nni7Vda/wCEt/4SP7fZfYzF/Zv2Xy/3ivuz5r56V9Ne1cmAw8qWG9lWR9DxhnFDMM8eYZbVuko2kk07peaT0Z+IXxu+Des/A/x3eeGtZG8RnzLW8UYS6hPSQf57GvqH/gln/wAj545/7B0H/ow19d/tHfs46L+0R4Uj02+n/szVbV/MstVjh82SA/xLjcNynuM1x/7LP7IJ/Zp1zW9S/wCErPiM6lbx2/l/2d9l8va27I/evmvKpZbUw+MU4K8D77MOOMFnPDFXC4mXLipJK1naTUk7ppWV10bVn5WPkL/go18PL3w38dJPExiP9neIbeJ45RyPNhjWJ0P4bT+Ne8/sYftYeCNP+D+l+FPFmvWvh/VdDDW6/bW8uO4h3EoysfY4/CvqT4n/AAr8OfF7wtP4f8T2C32nyEOuPleJx0dG/hYV8WeJv+CW9y18x8PeN4VseqpqdnmVfbch5/KtamFxOFxDxGHXMpdDz8HnuSZ9kdLJ87qOlOlblkldOysuj6aNNeaZx/7f37Rnhv4sS6D4X8KXiatZaZK93c6jDnypJSu1Y0Pfvz716l/wTH+H95o/hPxP4uukMdvrEsNpZ5/jSHeGb8yPyqP4b/8ABMfSNK1KO68Z+JJNZhQhhYafAbeN8dmfOT+GK+1NE0Wx8N6TaabptrDYadaxiKC2hXYkSDgKBWmFwlapiHisQrPscmf8Q5Vhckjw/ksnOL+KbTXXme6V235JJaH4qftBf8l7+Jf/AGMupf8ApVJX7G/B3/kkngj/ALAlj/6ISvk/x/8A8E1T478deI/Eh+In2A6zqVzqJtf7F80RebKZCob7QucZ64H0r7D8G6AfCvhHRdF8/wC0/wBm2UNl52zbv8tFTdjnGdtVl+FrUK1SVRWTI404gy3NsuwVDBVeaVP4laSt7qXVJPVdLn5Y/wDBQj/k6DxF/wBell/6TrX35+xT/wAmveAv+vWb/wBKJa82/aC/YKPx3+J2oeMD44/sQ3ccMZsjpP2gDy4wmd3np1xnp3r334LfDc/B/wCGOheDhqH9rDS4mjF55HkebukZ87NzY+96mjCYWrTxlSrNe67/AJmfEWfZdjuGsDl+Hq3q0+TmVpK1oNPVpJ69mzLm/Zj+E1xK0svw88PSO3LM1ghz+lN/4Zb+Ef8A0Tnw5/4L4/8ACvUefSjn0r2PYUv5F9x+cf2tmH/QRP8A8Cl/meR/ta/8m2/EP/sEy/0r8wf2Q/8Ak5bwD/2Ef6Gv1o+LngH/AIWh8NvEPhT7b/Z39rWjWv2ryfO8rP8AFsyN35ivmH4R/wDBOn/hVPxH0HxYvj/+020u4FwLX+xvJEhA6E+e2PyrxsdhatbE06kFov8AM/TeE+IMtyzIsbg8XV5alTm5VaTveFlqk0te7PtGiiivoT8dPIf2rvBN18Qv2efG+iWMbS3slmLiGNfvM0MiThR7ny8fjX5b/sxfFqD4J/GTRfE18jtpsZe3vNg3uIpFwWA744NftKa+Pfjt/wAE8dA+JGvXev8AhXV/+EW1C6cy3Fo1uJbWRz95gAQUJ9sj6V8/mOEq1KkcRQ1lE/W+C+I8vwODxGT5tdUa19ddLrladrvVJWaWjPUfEn7ZXwk0HwzPrEXjCw1QrHvjsbGQPczHsoTrn61+R3jLxJceM/F2t+ILpQl1ql9PfyqOivLI0jV94fD/AP4Jg2mn6qtx4x8VnU7GM5FjpUJi8z2aRjn9Kn8Wf8Ew7bxH4q1jVbLx7Fotle3k1xBp0Oh70tUdywjVvtIyFzjoOnSuHFUMfjFFyglbofYcOZrwjwxWqxoYqUnNK83GVrLaKtG/m3bsemftcf8AJi+rf9g7SP8A0qta+M/+Ce//ACdB4d/69L3/ANJ2r9Gfi18F/wDhZ3wMufh0dY/s7zra0t/7R+zCUjyJIpA3l7hnPldM968Y/Z+/YLb4EfE7T/F48c/261pHNH9j/sn7OD5kZTO7z39fTtXXiMJWqYulUivdja581kfEOWYPhzMMBXq2q1XUcVaTvzQilqlZarq0fXJr8qf+Civgm78O/tA3muOh+x+ILWC4ikzxmKJYHH5AfnX6rV5/8ZPgv4c+OXhF9C8R27NGreZbXUPyzWsnQPG3Y/zr0MwwrxdFwW6PjeEc9hw9mkcVVV4NOMrb2dndejSfofNP7GP7WngjTvhDpnhTxdrtr4f1XRFMCNfP5cdxCWJRlY8Z5/SvLf2/f2lPDXxQsNG8H+E71dVtrK6+3Xeo23MRkCOiRoe55atm/wD+CWurG+cWXjuzNgTkfaLAib8SCRXf33/BNbwy/wAOIdDsPEUtvrzXsd3c69cWXmsyKjjyY4lkQIpZ89T0rxpU8wqYf6u4q1vvP0uGK4NwObxzmniZSlKTly8r5YuW8n7t9LvTV36Hmf8AwSz/AOR78c/9g2D/ANGGvHv28/8Ak7Dxz/24/wDpDb192fstfsgn9mrXNb1L/hKz4jOp28dv5f8AZ32Xy9rbsj96+a5H48fsBt8bfiprfjI+Ov7EbU/IzY/2T9oCeXAsIO7z0zkLnp3pzwVd4GNFR95Py8ysJxVk9Pi3E5nOt+5nTUVLllq/c0ty36Poeo/sU/8AJr3gL/r1m/8ASiWvzw/bz/5Ov8c/9uP/AKQ29fqD8Fvhufg/8MdC8HDUP7W/suJoxeeT5Hm7pGfOzc2373qelfPnx4/YDPxt+Kmt+Mj46/sRtT8jNj/ZP2gJ5cCwj5vPTOQueneuzG4WtWwkKcF7yt+R87wvn+W5dxJjMfiavLSqe05XaTvzVIyWiTey6o9i/ZJ/5Ns+Hf8A2CYv5mvzf/by/wCTr/HP/bj/AOkNvX6l/CXwEfhd8N/D/hMXp1EaTarai78nyvNweu3ccdfU185fHj9gQ/G34qa34yPjr+xG1PyM2P8AZP2gJ5cCwj5vPTOQuenejHYWtWwsKcFeSt+RHCefZdlvEOLx2LqctKanZ2k73nGS0Sb2XVHoPwL8Mr43/Yx0Dw+zKn9reGZbHceg82N0z+ua/MDwDqx+C/xi0+58TaGLz+w75odQ0m6hVtwG6OVNr/Lur9i/hL4CPwu+G/h/wmL46gNJtVtvtfk+V5uCedm44/M15p8fv2OfBvx4mbVZzNoXiTYF/tSxUEyqOiyoeHH61GLwFStSpyh8cUacPcWYPLsdjqOLu8PiJSd1e6u3rbR2afqtDK0P4ufsya/pkV9HN4GtFkTPk31jbQSr7FWUHNT/AAz+LnwJ8dfE9PDXg3R9IuNZtoGvYdQtdHjhjyhAISQqGLDOePSvnO4/4Ja+IBMfJ8d6b5XYyWLh/wBCa9r/AGf/ANg7QPgr4os/E17rt54g1+zy1uyJ9lt4iysG+UMS3BPU/hVUpY2U4qVJJdScwo8L4fC1Z4fMatSbT5Y679L+6tO92iv/AMFK9Hn1P9nq1uYV3R6frttdTY7RmKaL/wBClWvlb9gr42eGvg38RNZHii8XTrHV7JYFvmVikUiyZCvgema/ULxd4V0vx34b1DQtatVvdMv4Wgnhb+JSP0NfDPiz/glzI2pM/hvxrHFp55EOp2heVPbeh5H4VGOw2IWIjicOrtHVwvnuUTyOtkWb1HTUm7SSezs+idmmuqsz6U+IXxL8M/FD9nP4pal4X1eDWrK20LVLWSe3BCiUWbMVG4ejD86/ML9l/wD5OK+HX/Yctf8A0Ov0g+DP7Ldx8Lv2ffGHw3uvEMd7P4iF5v1CG1wIDPbJAcIW+bbsz1Ga8w+GP/BOF/hr8QvD/ikfEIak+kXsd4tp/YnkiUochS32g4+uKnFYfE4ipRqOOq327nVkGd5HkmEzLAxxDcZ3VNuMm5Llt0jpr3sfbNfAP/BVbr8L/wDuKfzs6+/vSvn79qr9lM/tMf8ACMY8T/8ACOf2J9pwTYfavO87yf8AprHtx5I9etenj6U62GlCC1Pz/g/MMNlWeYfGYyXLTjzXdm94SS0Sb3a6HiX/AASw+bw98RQR1urL/wBAmr4p+K/gHUfg18T9a8PXCtDcaXeHyJWX70W7dFKufVcV+pX7LP7MTfs06fr9r/wko8SDVpYZd32H7L5flqygY8185z7dK1fj7+y/4O/aEsYf7ZSWw1e3XZbatZ4EyDrtOR86+xryamXVamDpw2nH/M/RMLxrgsBxLi8Unz4avyq6TuuWKSdnZ23TVr9Tm/hf+298MvG/hOzvdZ8S2PhrVhEPtmn37GJo5APm2k/eXOeldN8Nf2pvAfxZ8f6h4U8M6i+oXVpa/aRdbDHFMAwVlj3YZiMjtXybef8ABLbXPtDG08d6e1v2+0WDK/6E17h+zv8AsMaJ8C/E1t4mutdvNe1+3VxE0afZreLeu1hsDEtkHufwrqw9XMHKMKkFZbs+fzXAcHUcPWr4PFTlUafJGzsn0veK06av72fU1FFFe8flIlfjh+2p/wAnQePv+vqL/wBERV+x/bpXxr8af+Cep+L3xO17xefH39kNqsqSfY/7G88R4jVPveeuenp3rxM0w9TE0lGmrtM/TuAM5wOSZjVr5hU5IuDSdm9eaL+yn2Pbf2Sf+Tbfh5/2CYv618l/8FQPh7d/8JJ4Y8bww79PNmdKuJV6RyLI0ke76+Y35V9v/CXwEfhd8N/D/hP7adQGk2q2wu/J8rzcHrs3HH5mtvxT4V0nxroN5ouuWMOpaZeR+XPbTDKOvpW9XCuvhFRejsjycuz+OU8QTzSkuaDnPTa8ZN9+ttVfqfnv+xb8avhJp/gz/hEviFpeh2ep2s0j2uq6rYwyJPG7btrSFThh78V9BeKvjV+zJ4TsZLx18HaoegttJ0uC5mf6BV/nXlXj3/gmBYX188/g/wAWy6Zbuciz1W388R+wlUg/pWX4e/4JZ3X2wHXfHkP2Xuun2B8xv+BO1eVSjjqMPZKknbrofoWNq8JZliJZhLMKlPnd3Bc2/W3uu3ybXY+y/ht4k8KXvwz07xJ4ctbTRvDd5af2jsggWBY0KbmLKoxuGOfpXiUPxp/Zv/aUtkfxCNDXUgPLEfiWJLS6j/2VmJ/9BevYfDPwL8L+FfhHP8OLSK8fwzNbz2sqzXLGZ0l3eYd4xjO5umOtfKHjD/glzZyXby+FfG0lrAeRb6ra+btHp5iMp/SvSxH1lQgoU1JW1R8TkyyGpiMRLE4upRlzfu5q9+XX4rXd3pfb1OH/AGu/g38CPBHgf+1PAmsWkHiR7iNYtM07VvtqSKfvZQs7L9c10f8AwS1udQOteO4A0p0kW9q21vurPufP44zSaL/wS1v/ALcDrHju3Fmo5Gn2DeY3/fTV9n/CH4O+Gvgj4Ti0Dw1ZmC2B8yeeZt01zJ3kkbua87C4OtLFKvKCgl0Pr884jy2jkM8ooYqWLqTa96Sfuq6e7Xlpvvqz4L/4KgaPPD8YPC+qMP8ARbrQ1tkb/ajnmZv0mFdz+wv+014C8A/CV/C3inW4dCvrK8muEa6DBZo5MEEYB/zivqr47fAPw58f/CaaPryyQy28nm2l9b4822f1HqCOo718c3X/AAS01s3TC28dWJtCc/vrFhJ+horYfE0MW8RQjdMeW51kOb8O0smzes6Uqb3Setm7NaNbOzTPv/QdcsfFWhadq+mTi50/ULaO7tpsEb4pFDIwBwRlWrVrmvh74V/4QXwH4c8Neebv+x9NttOFxt2eb5USx78ZOM7a6Wvpo35Vzbn4hWVONWSpO8buz8ugtFFFUZBRRRQAUUUUAFFFFABRRRQAUUUUAFFFFABRRRQAUUUUAFFFFABRRRQAUUUUAFFFFABRRRQAUUUUAFFFFABRRRQAUUUUAFFFFABRRRQAUUUUAFFFFABRRRQAUUUUAFFFFABRRRQAUUUUAFFFFABRRRQAUUUUAFFFFABRRRQAUUUUAFFFFABRRRQAUUUUAFc/468daL8NfCep+J/Ed7/Z2habCbi7ujE8nlIO+1FLH8BXQV4V+3N/yaP8Uf8AsEP/AOhrQB6v4F8b6J8SfCel+J/Dt5/aGialCJ7S68p4vMjPfa4DDp3Fb1eFfsM/8mj/AAu/7BCf+htXutABRRRQAUUUUAFFFFABRRRQAUUUUAFFFFABRRRQAUUUUAFFFFABRRRQAUUUUAFFFFABRRRQAUUUUAFFFFABRRRQAUUUUAFFFFABRRRQAUUUUAFFFFABRRRQAUUUUAFFFFABRRRQAUUUUAFFFFABRRRQAUUUUAFFFFABRRRQAUUUUAFFFFABRRRQAUUUUAFFFFABRRRQAUUUUAFFFFABRRRQAUUUUAFFFFABRRRQAUUUUAFFFFABRRRQAUUUUAFFFFABRRRQAUUUUAFFFFABRRRQAUUUUAFFFFABRRRQAUUUUAFFFFABRRRQAUUUUAFFFFABRRRQAUUUUAFeFftzf8mj/FH/ALBD/wDoa17rXhX7c3/Jo/xR/wCwQ/8A6GtAB+wz/wAmj/C7/sEJ/wChtXuteFfsM/8AJo/wu/7BCf8AobV7rQAUUUUAFFFFABRRRQAUUUUAFFFFABRRRQAUUUUAFFFFABRRRQAUUUUAFFFFABRRRQAUUUUAFFFFABRRRQAUUUUAFFFFABRRRQAUUUUAFFFFABRRRQAUUUUAFFFFABRRRQAUUUUAFFFFABRRRQAUUUUAFFFFABRRRQAUUUUAFFFFABRRRQAUUUUAFFFFABRRRQAUUUUAFFFFABRRRQAUUUUAFFFFABRRRQAUUUUAFFFFABRRRQAUUUUAFeVa9+1J8IvC2t3uj6x8SPDem6pYymC5s7nUY0likXgqyk5Br1WvzW/Z/wDgH4B+On7Y37S9v478OQeIodN1rfaieaWPyy9xPuxsZaAPsj/hsP4H/wDRVvCf/g1i/wAaP+Gw/gf/ANFW8J/+DWL/ABrmP+He/wCz1/0TOw/8DLr/AOO0f8O9/wBnr/omdh/4GXX/AMdoA6f/AIbD+B//AEVbwn/4NYv8aP8AhsP4H/8ARVvCf/g1i/xrmP8Ah3v+z1/0TOw/8DLr/wCO0f8ADvf9nr/omdh/4GXX/wAdoA6f/hsP4H/9FW8J/wDg1i/xo/4bD+B//RVvCf8A4NYv8a5j/h3v+z1/0TOw/wDAy6/+O0f8O9/2ev8Aomdh/wCBl1/8doA6f/hsP4H/APRVvCf/AINYv8aP+Gw/gf8A9FW8J/8Ag1i/xrmP+He/7PX/AETOw/8AAy6/+O0f8O9/2ev+iZ2H/gZdf/HaAOn/AOGw/gf/ANFW8J/+DWL/ABo/4bD+B/8A0Vbwn/4NYv8AGuY/4d7/ALPX/RM7D/wMuv8A47R/w73/AGev+iZ2H/gZdf8Ax2gDp/8AhsP4H/8ARVvCf/g1i/xo/wCGw/gf/wBFW8J/+DWL/GuY/wCHe/7PX/RM7D/wMuv/AI7R/wAO9/2ev+iZ2H/gZdf/AB2gDp/+Gw/gf/0Vbwn/AODWL/Gj/hsP4H/9FW8J/wDg1i/xrmP+He/7PX/RM7D/AMDLr/47R/w73/Z6/wCiZ2H/AIGXX/x2gDp/+Gw/gf8A9FW8J/8Ag1i/xo/4bD+B/wD0Vbwn/wCDWL/GuY/4d7/s9f8ARM7D/wADLr/47R/w73/Z6/6JnYf+Bl1/8doA6f8A4bD+B/8A0Vbwn/4NYv8AGj/hsP4H/wDRVvCf/g1i/wAa5j/h3v8As9f9EzsP/Ay6/wDjtH/Dvf8AZ6/6JnYf+Bl1/wDHaAOn/wCGw/gf/wBFW8J/+DWL/Gj/AIbD+B//AEVbwn/4NYv8a5j/AId7/s9f9EzsP/Ay6/8AjtH/AA73/Z6/6JnYf+Bl1/8AHaAOn/4bD+B//RVvCf8A4NYv8aP+Gw/gf/0Vbwn/AODWL/GuY/4d7/s9f9EzsP8AwMuv/jtH/Dvf9nr/AKJnYf8AgZdf/HaAOn/4bD+B/wD0Vbwn/wCDWL/Gj/hsP4H/APRVvCf/AINYv8a5j/h3v+z1/wBEzsP/AAMuv/jtH/Dvf9nr/omdh/4GXX/x2gDp/wDhsP4H/wDRVvCf/g1i/wAaP+Gw/gf/ANFW8J/+DWL/ABrmP+He/wCz1/0TOw/8DLr/AOO0f8O9/wBnr/omdh/4GXX/AMdoA6f/AIbD+B//AEVbwn/4NYv8aP8AhsP4H/8ARVvCf/g1i/xrmP8Ah3v+z1/0TOw/8DLr/wCO0f8ADvf9nr/omdh/4GXX/wAdoA6f/hsP4H/9FW8J/wDg1i/xo/4bD+B//RVvCf8A4NYv8a5j/h3v+z1/0TOw/wDAy6/+O0f8O9/2ev8Aomdh/wCBl1/8doA6f/hsP4H/APRVvCf/AINYv8a8b/bA/ae+EfjD9mT4iaJofxF8Oatq99pLx21pa6hG8krbhgAA+xrvf+He/wCz1/0TOw/8DLr/AOO0f8O9/wBnr/omdh/4GXX/AMdoA4P9j/8Aag+Eng/9mb4daLrnxE8OaRq1jpKRXFndahGkkTBjwQT9K9j/AOGw/gf/ANFW8J/+DWL/ABrmP+He/wCz1/0TOw/8DLr/AOO0f8O9/wBnr/omdh/4GXX/AMdoA6f/AIbD+B//AEVbwn/4NYv8aP8AhsP4H/8ARVvCf/g1i/xrmP8Ah3v+z1/0TOw/8DLr/wCO0f8ADvf9nr/omdh/4GXX/wAdoA6f/hsP4H/9FW8J/wDg1i/xo/4bD+B//RVvCf8A4NYv8a5j/h3v+z1/0TOw/wDAy6/+O0f8O9/2ev8Aomdh/wCBl1/8doA6f/hsP4H/APRVvCf/AINYv8aP+Gw/gf8A9FW8J/8Ag1i/xrmP+He/7PX/AETOw/8AAy6/+O0f8O9/2ev+iZ2H/gZdf/HaAOn/AOGw/gf/ANFW8J/+DWL/ABo/4bD+B/8A0Vbwn/4NYv8AGuY/4d7/ALPX/RM7D/wMuv8A47R/w73/AGev+iZ2H/gZdf8Ax2gDp/8AhsP4H/8ARVvCf/g1i/xo/wCGw/gf/wBFW8J/+DWL/GuY/wCHe/7PX/RM7D/wMuv/AI7R/wAO9/2ev+iZ2H/gZdf/AB2gDp/+Gw/gf/0Vbwn/AODWL/Gj/hsP4H/9FW8J/wDg1i/xrmP+He/7PX/RM7D/AMDLr/47R/w73/Z6/wCiZ2H/AIGXX/x2gDp/+Gw/gf8A9FW8J/8Ag1i/xo/4bD+B/wD0Vbwn/wCDWL/GuY/4d7/s9f8ARM7D/wADLr/47R/w73/Z6/6JnYf+Bl1/8doA6f8A4bD+B/8A0Vbwn/4NYv8AGj/hsP4H/wDRVvCf/g1i/wAa5j/h3v8As9f9EzsP/Ay6/wDjtH/Dvf8AZ6/6JnYf+Bl1/wDHaAOn/wCGw/gf/wBFW8J/+DWL/Gj/AIbD+B//AEVbwn/4NYv8a5j/AId7/s9f9EzsP/Ay6/8AjtH/AA73/Z6/6JnYf+Bl1/8AHaAOn/4bD+B//RVvCf8A4NYv8aP+Gw/gf/0Vbwn/AODWL/GuY/4d7/s9f9EzsP8AwMuv/jtH/Dvf9nr/AKJnYf8AgZdf/HaAOn/4bD+B/wD0Vbwn/wCDWL/Gj/hsP4H/APRVvCf/AINYv8a5j/h3v+z1/wBEzsP/AAMuv/jtH/Dvf9nr/omdh/4GXX/x2gDp/wDhsP4H/wDRVvCf/g1i/wAaP+Gw/gf/ANFW8J/+DWL/ABrmP+He/wCz1/0TOw/8DLr/AOO0f8O9/wBnr/omdh/4GXX/AMdoA6f/AIbD+B//AEVbwn/4NYv8aP8AhsP4H/8ARVvCf/g1i/xrmP8Ah3v+z1/0TOw/8DLr/wCO0f8ADvf9nr/omdh/4GXX/wAdoA6f/hsP4H/9FW8J/wDg1i/xo/4bD+B//RVvCf8A4NYv8a5j/h3v+z1/0TOw/wDAy6/+O0f8O9/2ev8Aomdh/wCBl1/8doA6f/hsP4H/APRVvCf/AINYv8aP+Gw/gf8A9FW8J/8Ag1i/xrmP+He/7PX/AETOw/8AAy6/+O0f8O9/2ev+iZ2H/gZdf/HaAO08P/tSfCHxRrVjo+kfEjw3qWqXsy29tZ22oRvLLIeAiqDkmvVK/Nb9oD4B+AfgX+2N+zRb+BPDkHh2HUta33Qgmlk8wpcQbc72av0poAKKKKACiiigAooooAKKKKACiiigAooooAKKKKACiiigAooooAKKKKACiiigAooooAKKKKACiiigAooooAKKKKACiiigAooooAKKKKACiiigAooooAKKKKACiiigAooooAKKKKACiiigAooooAKKKKACiiigAooooA87+OPxy8M/s+eDU8U+LFv10X7Qls8tjamcxs/ClwOi+9fnD+zP+2t8NPhn+0f8c/GOtXOqLo3jDUkuNK8mwZ5XXzZjyueK/Tv4ieANH+K3gPXfCmvW/wBo0nWLV7SdOhAIwHU+oOGB9QK/Lz9jT9g7VrD9rLXovGtp5ug/D28WVJGX91qNwcPaNg+gPnfUj1oA/V3SdRGraZa3iwzW4uIll8m5TZLHuGdrr2Iq7RRQAUUUUAFFFFABRRRQAUUUUAFFFFABRRRQAUUUUAFFFFABRRRQAUUUUAFFFFABRRRQAUUUUAFFFFABRRRQAUUUUAFFFFABRRRQAUUUUAFFFFABRRRQAUUUUAFFFFABRRRQAUUUUAFFFFABRRRQAUUUUAFFFFABRRRQAVS1a6ubLS7y4srX7fdxRM8Vr5gTzXC5CZPTJq7RQB+OX7RH7eGj/Ez9oL4UeMR4O1jRP+Ff6i819p15NGJpWE0W5B+Vfpr+zd8d/wDhoj4bweMofDN74Z0+7ndLOLUJkeS4jU4Mo29B1/KvjT9sL/gnrqHxP/ai8M6/4Wge28O+LbonxHcQpxYSRrmSbr1mXj6g1+h/hfw1pvg3w9puhaPapY6VptvHaWttGMLFGihVUfgKANSiiigAooooAKKKKACiiigAooooAKKKKACiiigAooooAKKKKACiiigAooooAKKKKACiiigAooooAKKKKACiiigAooooAKKKKACiiigAooooAKKKKACiikoA+Zv2vP2xtN/Zs0+002wtI9b8Y30fm29jK5WKGLOPNlI7V8Cal/wUS+PV5eSTQ+MYtPjb7tvb6TZMg+hkiLGuX/bP8RXfib9qD4hz3bsxttSayi/2YoF8ta8Wr9gynJcJTwsJ1YKUpK7vr91z47FY2rOq1GTSXY+iP+Hg3x+/6H7/AMo2n/8Axij/AIeDfH7/AKH7/wAo2n//ABivneivZ/svAf8APiP/AICjk+s1/wCd/ez6I/4eDfH7/ofv/KNp/wD8Yo/4eDfH7/ofv/KNp/8A8Yr53oo/svAf8+I/+AoPrNf+d/ez6I/4eDfH7/ofv/KNp/8A8Yo/4eDfH7/ofv8Ayjaf/wDGK+d6KP7LwH/PmP8A4Cg+s1/5397Poj/h4N8fv+h+P/gn0/8A+MUf8PBvj9/0P3/lH0//AOMV8/6dpd5rF/BY6fZzXt9cOI4ra1jZ5JGP8IUfMzVv6x8K/Gvh3TnvtW8H69pVjH965vNLnijX6sy1nLL8ui7SpQTfkh/WMQ9VOX3s9h/4eDfH7/ofv/KNp/8A8Yo/4eDfH7/ofv8Ayjaf/wDGK+d6K0/svAf8+Y/+AoX1mv8Azv72fRH/AA8G+P3/AEP3/lG0/wD+MUf8PBvj9/0P3/lG0/8A+MV870Uf2XgP+fEf/AUH1mv/ADv72fRH/Dwb4/f9D9/5RtP/APjFH/Dwb4/f9D9/5RtP/wDjFfO9FH9l4D/nxH/wFB9Zr/zv72fRH/Dwb4/f9D9/5RtP/wDjFH/Dwf4/dvH+f+4Pp/8A8Yr53oo/svAf8+Y/+AoPrNf+d/ez6I/4eDfH7/ofv/KNp/8A8Yo/4eDfH7/ofv8Ayjaf/wDGK8E03QdS1qO9m0/T7q9isYTcXTWsLOtvEPvO+PurVKl/ZmA/58x/8BQfWK/87+9n0R/w8G+P3/Q/H/wT6f8A/GKP+Hg3x+/6H7/yjaf/APGK8D0TQ9S8S6pBpuj6fdarqE2fKtLOBpZZMLlsKuWbCrXVf8KN+I//AET/AMT/APgluf8A43WcsBlsHaVKCfoilXxEtpS+9nqX/Dwb4/f9D9/5RtP/APjFH/Dwb4/f9D9/5RtP/wDjFfPVxby2txLb3ETW88LGOSOVdrKw4ZSppla/2XgP+fMf/AUT9Zr/AM7+9n0R/wAPBvj9/wBD9/5RtP8A/jFH/Dwb4/f9D9/5RtP/APjFfO9FH9l4D/nzH/wFB9Zr/wA7+9n0R/w8G+P3/Q/f+UbT/wD4xR/w8G+P3/Q/f+UbT/8A4xXzvRR/ZeA/58R/8BQfWa/87+9n0R/w8G+P3/Q/f+UbT/8A4xR/w8G+P3/Q/f8AlG0//wCMV870Uf2XgP8AnxH/AMBQfWa/87+9n0R/w8G+P3/Q/f8AlG0//wCMUf8ADwb4/f8AQ/f+UbT/AP4xXzvRR/ZeA/58R/8AAUH1mv8Azv72fRH/AA8G+P3/AEPx/wDBPp//AMYrb8H/APBST42eH9Ujn1bWLLxNZ4w1lfadbxf+PQLG1fLlFTLKcBNNOjH5JDWKrrVTf3n7ofs8/H7w/wDtF/D+LxDooe1lV/JvdOmYGa0mH8J9R3Dd69Wr8tP+CUevXlv8ZvFWiCTFhdaEbuSP1khuIUQ/lcGv1Kr8fzbBxwOLnRg/d6H12DrSxFFTluLRRRXkHaFFFFABRRRQAUUUUAFFFFABRRRQAUUUUAFFFFABRRRQAUUUUAFFFFABRRRQAUUUUARyyLErOzBVUZLGvgr43ft9aw2uXOl/Dtbe00+3dozrNxGJmuGHeNW+UJ7mvp79qbV7nQ/2fvG93aSGK5+weUJF6r5jrGf0Y1+S9eLmGInSahDqfrPBORYXHwqYzFx5+V8qT22u211306HuH/DbXxo/6HP/AMpVl/8AGqP+G2vjR/0Of/lKsv8A41Xh9FeJ9YrfzP7z9a/sTK/+gWn/AOAR/wAj3D/htr40f9Dn/wCUqy/+NUf8NtfGj/oc/wDylWX/AMarw+ij29b+Z/eH9iZX/wBAtP8A8Aj/AJHt/wDw2z8Z/wDocv8AylWX/wAao/4bZ+M//Q5f+Uqy/wDjVeM6bpt5rN/FZ6fZzXt5M21La1jZ5JG9lFRW9rPdXUVvDFJLPI4jjjiXczMeFULR9YrfzMn+xsq2+rU//AI/5Htn/DbXxo/6HP8A8pVl/wDGqP8Ahtr40f8AQ5/+Uqy/+NV4peWc+m3U9rdQSW9zC7RywSqyyRuGwylT91hUVHt638z+8ayXK2rrC0//AACP+R7h/wANtfGj/oc//KVZf/GqP+G2vjR/0Of/AJSrL/41Xh9FHt638z+8f9iZX/0C0/8AwCP+R7h/w2z8aP8Aocv/AClWX/xqk/4bZ+M//Q5f+Uqy/wDjVeb/APCrfGn2X7R/wiGvfZtvmef/AGXPt2/3t22uYqnWrreTMoZTlFS/Jh6bt2jH/I9w/wCG2vjR/wBDn/5SrL/41R/w218aP+hz/wDKVZf/ABqvD6Kn6xW/mf3mv9iZX/0C0/8AwCP+R7h/w218aP8Aoc//AClWX/xqj/htr40f9Dn/AOUqy/8AjVeH0Ue3rfzP7w/sTK/+gWn/AOAR/wAj3D/htr40f9Dn/wCUqy/+NUf8NtfGj/oc/wDylWX/AMarw+ij29b+Z/eH9iZX/wBAtP8A8Aj/AJHuH/DbXxo/6HP/AMpVl/8AGqP+G2vjR/0Of/lKsv8A41Xh9T2FhdapeQWdnbzXd5M3lxQQRs8kjH+EKKPb1v5n94nkuVRV3hqf/gEf8j2n/htr40f9Dn/5SrL/AONUf8NtfGj/AKHP/wApVl/8arxO6tZbO4lt7iKS3nhcxyRyrtZWHDKVNR0e3rfzP7wWS5W1dYWn/wCAR/yPcP8Ahtr40f8AQ5/+Uqy/+NUn/DbPxo/6HL/ylWX/AMarz3/hUfjv/oSvEX/gpn/+JrA1nQdS8OXn2PVtOvNMvNobyLyBopNp/i2tVOtXW8mYwyzJqj5YUKTflGH+R7F/w218aP8Aoc//AClWX/xqj/htr40f9Dn/AOUqy/8AjVeH0VPt638z+83/ALEyv/oFp/8AgEf8j3D/AIba+NH/AEOf/lKsv/jVH/DbXxo/6HP/AMpVl/8AGq8Poo9vW/mf3h/YmV/9AtP/AMAj/ke4f8NtfGj/AKHP/wApVl/8ao/4ba+NH/Q5/wDlKsv/AI1Xh9FHt638z+8P7Eyv/oFp/wDgEf8AI9w/4ba+NH/Q5/8AlKsv/jVH/DbXxo/6HP8A8pVl/wDGq8Poo9vW/mf3h/YmV/8AQLT/APAI/wCR9k/BH9vrWYNattL+IiwX2nTME/ti3hWKWD3kRflK/SvvOGZLqJZI2WSNwCrKcgg1+IdfrB+yRrs3iT9nXwTeXL+ZOtq9qW9RDNJCv6Rivby/ETqtwnrY/JuN8hwuAp08bhY8nM+VpbXs2ml02fkex0UUV7R+ShRRRQAUUUUAFFFFABRRRQAUUUUAFFFFABRRRQAUUUUAFFFFABRRRQAUUUUAFFFFABRRRQAUlLSUAfhh+1X/AMnJ/Ez/ALD13/6NrymvVv2q/wDk5P4mf9h67/8ARteU1+/4H/dKX+Ffkfn9b+JL1YUUUV3GQUUUUAFFFFAHrX7JH/JzHw2/7DVv/Kvo7w9rGp/DT41X3ifxn8edG1Hwfa3d8114at9euNTmuYjuH2Q2u3bXyJ8JfH3/AAq/4l+GvFpsf7SGj3sd79lEnlebsOcbtp21ieJtZ/4SPxHq2reV9n+3Xc115G7d5e92fburwcTgZYrESbdocqXTu9jtpVlSpq2rvf8ABHt2r/D34Y/DXwj4Su/Gtp4jvdZ8YWP9swwaJexRRaRYvKyxH50LXEp211t5+zD4A0b4lfFPR9R1bXn8OeD/AA5Z65Dd2ckTXFz5kUEjjmP+LzXUfWvOLH43+Fdc8EeHtI8eeBpfE+qeGYGs9Kv7PVWsg9rv3LBcAId4Tc+GVlrZ8VftWnxT4q+KGuS+GRDJ430G20VolvfltGjSFPN/1fzKfJrkdHHKVlfrfVW+JWt8jVSoW1t93k73+dh1v4E+F9j4DvfifqWkeJf+EXu9WXRtD8PRajEtzJKlusk80915X3d3RVWuu8M/sw/D3xr46+EVhpWq66ug+NtK1PULie4lg862NusuxBiP+FotrfSvJfh18XtD0nwDdeBPGvhibxP4YbURq9r9hv8A7Hd2d15Xlswfaysjr1Wu60n9rqy0Pxr8N9asfA/2TT/Bem3+nQaamqE+clwsqKfMMZ2lfN/WnVo46PNGne+tnfS3K7bve4QlQ0c7dOnmr/gGl+A/gp4i+GeueM7OHxha2vhO9tba/sZbuAy6stxvWIo/lYt/mjq5/wAMx+HPHXxI8AQ+ErzVdP8ACnibQJPEE8F5turyyjhaZZok27RKW8oKteNeHfiR/wAI/wDCnxl4M/s83D+IbvT7n7Z523yPs3nNjZt+bd5tdpov7TV74cv/AIcXVholu/8AwiekXGiXNteSebDqkE7zGUMoUbAVmrSdDGQcvYyfW13fTl/+SIjUoyS50unTz/yOy8X/AAC8L6H4HvPF954P8aeErDQb22hvdN1bUrdpdTtZSyebby+QPLmDbN67WWvR/jN8MfAXxc/ba03wGbfWdJvNQEEeoXlrdW624iXShJCsEXlHa2OM/U18yeOvFnw21TQTb+Evh/f6BqsziSW91DXmu1h/vRQoIo/++mr0uD9rTR4/i94N+KL+CJpPGelqkequmr7bbUAln9mVkUxHymrmeHxmk483NaSWuz0t1fVGqqUvhdrXV/xv0QvhDw14J1zw58VG8C6n4x0aDQfDE0l1PLqSRLrLfaVTE0UcY/clW/1VZWv/AA9+F3wh0Xw3pnji18Ua14p1vSLfV7mbR7qC3g0yKcbokVJEbzn29a4L4bfFofD3QfiBph0v+0P+Eq0htK8z7Rs+y5kV9/3Tv+7XYp8d/Bnizw/4ei+IPw9uPE+u+HtOi0qz1Cz1prKO6t4v9UlwnltnZ/eWul4fE06jsm4XWz1ei63XW5mqlOUVsnbtpv8A5HjWk63qHhrVotS0XULzSr6HPlXdnO0U0eVw2HXDLlWr6Z+KXxU8bWX7LnwO1G18Xa5Dqd/c68l3eQ6nOs1xsuYhGHYNub/69fLMzB5XZU2KzfKv92u+8X/FYeKvhD4A8D/2WbVvCk2oy/bvO3faftUqyY2bRs27a9DFYd1qlKSjez122s/1Zz0qnJGava6/VH0a37G9nH4mh8Ha1ofjG5129SN7vxwssQ062vJE34MDJvkiDNtaVpK4bwR8A/D/APwqfT/Et94X8VfEPULq9u7XUoPCN0gOhiF9i+YnlSs7t94fdWsLXvjt4E+IE0eveN/hxNrXjVbeG3uL+x1lrO11AxJ5ayzwhCyvtVM+W1Ynwv8Aij4I8ArpOpXPg7Wm8UaXL50eo6T4ia0iuyJd6rOhikZQP+mbLXlexx3s3du91p33vZ8239WOvmocyslb+t9N/wCr7HrXhP8A4Vjb/sh+MJp9F8Tz2Ufii3huGW+t4rp5PLl8plJgYKu378eO/wCeJpPwJ8H6b8KvDHiG68L+MvHkGsae15qXiDwncxeRokm9h9nMBibc6bfn8xlrlNE/aL06+0/4iaV418LNruk+LtX/ALfMOl3/ANiazvA0jDY22TdGfMpfhR8cvBvwou9G8QaZ4K1eLxfpSxgTQeImSwvpAv354PKLfWNZKl4fFQU+VO7knvo9Nr3Vtf6Yc9J8t7Wtbbz9Dw+ipry6kv7ye6kVUaZzI235V3Fs1DX1SvY8wKKKKYBRRRQAUUUUAfZn/BKj/k4jxB/2K1x/6V2tfq1X5S/8EqP+TiPEH/YrXH/pXa1+rVfjPEn/ACMZ+i/I+wyz/d16sKKKK+YPVCiiigAooooAKKKKACiiigAooooAKKKKACiiigAooooAKKKKACiiigAooooAKKKKAPG/2wP+TbvG3/XvD/6Pir8oK/V/9sD/AJNu8bf9e8P/AKPir8oK+azL+LH0P33w+/5FtX/G/wD0mIUUUV45+oBRRRQB6t+yv/ycN4H/AOv/APpXb6bpNr8TfGvhD4l6Db29reR+ILCHxTpNr8v2W6a5ULdov/POb/x2SvHPhX44/wCFZ/ELQvE/2M6j/ZtwJ/sok8ovntu2mrXwp+KWqfCTxxb+IdLVZuqXNnMcR3MJOWjauunUioqMtr/5WPmcdgq9SvVr0Pi5ElrpLWfNF/emn0dntdHq/j3wL4atfFPxQ8feMV1K+0uPxjeaPZaXpcywSXFxvklZnlZW2oFqPwz+z/4U8ZfELwAun6hqlv4M8Y2N/cRec8ZvLKW3SbzImYLtZQyVzP8AwvPS9ev/ABfZ+J/DTan4X8Qa5Jr62kF75VzZXDM3zRy7Tu+VtpVlq5o/7SSeH/iB4U1jT/DK23hzwvY3VlpuhJeszL58UgeV5yp3OWk3Gteai5Xex5v1fNIUXCkmpqLW8eX+HaKWvxKdtbW31tZFO48FfD/xT8MPFus+FBr1jqvhb7LLK2qTxOmoQzTrFlVVR5TBmrkNe+DfjLwv4fbXNU0Gay0pVRvtLMm35/u9GqHwn48/4RnwZ400L7F9o/4SO2t4PP8AO2/Z/KuFm3bf4s7a5OuaUoO2n9XPosPRxNOc48/u82nN7zceWOzure9zbp+SsfZPxm03xL/wm2nXum/FzS/BdhHpunk2Fzr0ttLFi3j3SfZo/WuJ8eaf4B8ba54++LN+uoXfhJdUt9L0+x0sravqN4bfMshZ1PlIdvmV5B8XPiMvxS8WJraaf/Zu2xtrTyfO83/UxLHu3bR121d+HfxO07w74d1Xwp4n0WTxF4U1KeK7NtBc/Zbm3uI1YCWOXaf4W2lWrplWjKTXQ+eoZXiMNhqdRN86Si1HlT5W4uSv1lpo2+9rN3PSNH+BvgTxXqHwml0m61xNO8Zale291BcTxedaLB5eIwwj9v1rF0T4a+AfFXiHWYbJtet/D/hLTru91rUJZImuL7yyqosEe3bFvZv4t1Ps/wBpDTtJ1L4bvpng86fpvgy9u7iG0/tJpGuFn8v5S5j+9uFcP4E+KJ8GeK9a1CbSo9W0jW7a4stR0t5mTzbeZssFkH3WDKjBqTlRuv67G1PD5nKE5NyTSfKuZfzz3s7X5OW19E7X1R1WoeB/APiX4UeJvGPhuHXNKutLv7K0OmX93FPGomZvn3iMM27bXoGp/AX4XwfF7Xfhfb3XiKLWoIJriDWpp4ZIYdtuLjyjCEBk+WvM9a+MPhyD4c654L8L+Ep9K0/Ubu1vftV5qX2ifdFu+9+7C9qsah+0At78fdU+JX9gsEvYpo/7L+2/d8yza23eb5dJSpK17dP1Ilh8yqc/I5xSU3FOSve1Pkvq768+7a7kurfD3wd4s+GLeIfBFvrOn6hZaxbaRNbatcxTrdeerbJR5cY2NuX7td7e/ss6bb6tfeFBo/idb+2t5Svi6aWJdPa6SLds8jy9ywll2h/MrxDRPiPJonw21fwtDaN597qlpqMd+s23yWgWQbdm35s7q6vxR8XPBfjma+17XfAMtx4xvF3XFxa6w0VjNLtwZzDs3Z/2ValGVJq73NK2HzKM3CnKXInKzum9VGzd5Ruk+bRt+cXpbrfiU3glf2avhnJBpWsR3Fw2pixZruEFJlliWZrgiIeYvHHArTuvhR4D8EfHbw/4C0m88Vp4hl1CwZtZhv4YDZLKiyFYyseS53ferydfihpepfCGz8G654fmvbzR5ribRtSt73ylt/P2l1ki2neu5a1dY+PCat+0FY/E3+w/IFrNaTf2WLvdnyYo48eb5ffy6vnptpvy/wCCZRwOMjGdKHNb98/iVm5STh12s3dO2t7+eivw+8M6DofiHxt44fWtdtm8QXGj6fZWt2sU95Km55Jp52Vq8p8VNoba9cN4bi1CLSGw0EeqMjzr8vzKWXCthq9A0X4zaVcaTregeLfDcmteG9Q1h9aghtb9re5sbh+DsfaVZSvylWWuB8W6lpOra9PcaHozaFpjKixWLXLXLLhcbi5xuY1z1HFr3WezgoYiNWX1hS8ndcttLJK+/fTvrax7j8LfiN4r1D4E/GW+ufE2s3N7Y2+kta3E1/K0kBa7IYo30z+dR+F/hPeeLvBGjeOPFWl+LPiHea088NtDp17sa3t4W8vzZJZVk3MW8zZHXl3hH4jDwt8PfHPhg6d9o/4SaOzT7X5+37P5E3m/d2ndmtrwv8UtBfwTp3hXxt4Yl1/TdLnnm0260+/+yXNr5vMiFtjK6FlrWNSLSUui/U8ytgcRSlVnhoW5pp6Wu4ezitNY299a+8tL/Pu9L/Zy0ix8ceMtOnTVPEz6PZ2l9pvh7T5kttQ1CO4KnazbW2mHd+8CrW38C9M8F6V8TvFNn/wjPinSbuPw7eTGw1meIPagQsZk5iVi2NmySvF9P8VeBf7d1Ga98GX0OlzGH7FHp2tMlzY7FwzB2jZZGdvmO5a65f2kmj+JWjeIjoLXOjafop8O/wBm3V+0s9xZMsgbzLjb80n7z722rjUpJp7amGIwmYVqdSlJyleHdR1SWllJq7d76Kzb95xsWPh78MvCfjTR/E3iHS9C8ReKBZ3cFvZ+FLO/iW+WJkYvcSOsR3KGXaNsdeVeN7DTtO8UX9rpNnqmn2MbBVttcVVu4W2/MsmFHRq6nTvFnw7s9U1BpPBuuJaNcedp89nr/lXduoRRsdjEVbLVk/Fb4iTfFLxpPrstmtkGghtkg8xpWVIoljG9z99yq8tWM3Dk03PXwscTHFSlNS5GvtNabWVlJp9dbJ73vocfRRRXKe+FFFFABX6ofsT/APJsvg3/ALfP/S2evyvr9UP2J/8Ak2Xwb/2+f+ls9etlv8V+h+ZeIH/Irp/9fF/6TI9zooor6c/n8KKKKACiiigAooooAKKKKACiiigAooooAKKKKACiiigAooooAKKKKACiiigAooooAKKKKACkpaKAPxe/bz+Hd94B/aW8VTTwstjrsn9r2k/8LrJw/wCUlfPVfux8dv2f/CH7QXhldH8U2bs8JL2l9bNsubVu7Rt2NfEurf8ABJnVzcE6R8QrSW0/hW/05kcfkTX6llfEOFWHhSxD5ZRVuup8tisvq+0cqaumfANFfd//AA6Z8V/9D5o3/gHLR/w6Z8V/9D5o3/gHLXtf2/l3/P38Gcf1DE/yfkfCFFfd/wDw6Z8V/wDQ+aN/4By0f8OmfFf/AEPmjf8AgHLR/b+Xf8/fwYfUMT/J+R8IUV93/wDDpnxX/wBD5o3/AIBy0f8ADpnxX/0Pmjf+ActH9v5d/wA/fwYfUMT/ACfkfCFFfd//AA6Z8V/9D5o3/gHLR/w6Z8V/9D5o3/gHLR/b+Xf8/fwYfUMT/J+R8IUV93/8OmfFf/Q+aN/4By0f8OmfFf8A0Pmjf+ActH9v5d/z9/Bh9QxP8n5HwhRX3f8A8OmfFf8A0Pmjf+ActH/DpnxX/wBD5o3/AIBy0f2/l3/P38GH1DE/yfkfCFFfd/8Aw6Z8V/8AQ+aN/wCActH/AA6Z8V/9D5o3/gHLR/b+Xf8AP38GH1DE/wAn5HwhRX3f/wAOmfFf/Q+aN/4By14z8I/2MtY+Lnxa+JXgK08SWNhd+CbpbS4u57eRkuW3Om5fTpR/b+Xf8/fwYfUMT/J+R87UV93/APDpnxX/AND5o3/gHLR/w6Z8V/8AQ+aN/wCActH9v5d/z9/Bh9QxP8n5HwhRX3f/AMOmfFf/AEPmjf8AgHLR/wAOmfFf/Q+aN/4By0f2/l3/AD9/Bh9QxP8AJ+R8IUV93/8ADpnxX/0Pmjf+ActH/DpnxX/0Pmjf+ActH9v5d/z9/Bh9QxP8n5HwhRX3f/w6Z8V/9D5o3/gHLR/w6Z8V/wDQ+aN/4By0f2/l3/P38GH1DE/yfkfCFFfd/wDw6Z8V/wDQ+aN/4By0f8OmfFf/AEPmjf8AgHLR/b+Xf8/fwYfUMT/J+R8IUV93/wDDpnxX/wBD5o3/AIBy0f8ADpnxX/0Pmjf+ActH9v5d/wA/fwYfUMT/ACfkfCFFfd//AA6Z8V/9D5o3/gHLR/w6Z8V/9D5o3/gHLR/b+Xf8/fwYfUMT/J+R8IUV93/8OmfFf/Q+aN/4By10ng3/AIJOR219HL4r8dG6tF62WkWXlmT/AGfNdif0pS4iy6Kb9pf5MFl+Jbty/kYf/BKL4e30njTxd44ZGj0yGw/saJmP+tkeWOViPoIgPxr9LvWub8BeAdB+GnhWw8OeG9Oh0vSLNNsVvEPzJPcnua6WvyfMsb9fxU69rJ7H1eFo/V6SphRRRXmHUFFFFABRRRQAUUUUAFFFFABRRRQAUUUUAFFFFABRRRQAUUUUAFFFFABRRRQAUUUUAecftBeDbz4gfBfxZoOnKX1C6sybdB/HIjCRU/EqF/GvyDZWiZlZdjL95a/cOvmb43fsP+F/ilrVxrmlX0nhfWbkl7h4IfNgmc/xNHuGCfUV5GOwsq1pQ3R+l8IcR4fKVPDYvSEndNK9ns721s9Nv+G/NWivsZv+CbPiPcSvjHSx9baT/Gm/8O2fEv8A0OWlf+A0n+NeN9Tr/wAp+q/62ZL/ANBC+6X+R8d0V9if8O2fEv8A0OWlf+A0n+NH/DtnxL/0OWlf+A0n+NH1Ov8Ayh/rZkv/AEEL7pf5Hx3RX2J/w7Z8S/8AQ5aV/wCA0n+NH/DtnxL/ANDlpX/gNJ/jR9Tr/wAof62ZL/0EL7pf5Hx3RX2J/wAO2fEv/Q5aV/4DSf40f8O2fEv/AEOWlf8AgNJ/jR9Tr/yh/rZkv/QQvul/kfHdFfYn/DtnxL/0OWlf+A0n+NH/AA7Z8S/9DlpX/gNJ/jR9Tr/yh/rZkv8A0EL7pf5Hx3RX2J/w7Z8S/wDQ5aV/4DSf40f8O2fEv/Q5aV/4DSf40fU6/wDKH+tmS/8AQQvul/kfHdFfYn/DtnxL/wBDlpX/AIDSf40f8O2fEv8A0OWlf+A0n+NH1Ov/ACh/rZkv/QQvul/kfHdFfYn/AA7Z8S/9DlpX/gNJ/jR/w7Z8S/8AQ5aV/wCA0n+NH1Ov/KH+tmS/9BC+6X+R8d0V9LfFz9hvxD8Kvhf4p8YS+J9MvV0TT5r426wSqZBGmcVm/AP9jHxB8cvhF4b8cw+I9N0yLWYZJltpIJWaPbK6f0NV9Rr/AMpP+t2S83L9YX3St+R890V9if8ADtnxL/0OWlf+A0n+NH/DtnxL/wBDlpX/AIDSf41P1Ov/AClf62ZL/wBBC+6X+R8d0V9if8O2fEv/AEOWlf8AgNJ/jR/w7Z8S/wDQ5aV/4DSf40fU6/8AKH+tmS/9BC+6X+R8d0V9if8ADtnxL/0OWlf+A0n+NH/DtnxL/wBDlpX/AIDSf40fU6/8of62ZL/0EL7pf5Hx3RX2J/w7Z8S/9DlpX/gNJ/jR/wAO2fEv/Q5aV/4DSf40fU6/8of62ZL/ANBC+6X+R8d0V9if8O2fEv8A0OWlf+A0n+NH/DtnxL/0OWlf+A0n+NH1Ov8Ayh/rZkv/AEEL7pf5Hx3RX2J/w7Z8S/8AQ5aV/wCA0n+NH/DtnxL/ANDlpX/gNJ/jR9Tr/wAof62ZL/0EL7pf5Hx3RX2J/wAO2fEv/Q5aV/4DSf405f8Agmx4i3KW8Zabj+Lbbyf40fU6/wDKH+tmS/8AQQvul/kfHKq0rKqrvZvurX66fs5eCLj4ffBHwjoN7H5F7b2nmzx9dkkrtK6/g0h/KvMvgn+w34Y+FmrW+uaxev4q1u2YPbtNCIreBvVYwTk+5r6bFezgcLKhec92flXGHEeHzdQwuD1hF3b2u7WVlvZXYtFFFeufmgUUUUAFFFFABRRRQAUUUUAFFFFABRRRQAUUUUAFFFFABRRRQAUUUUAFFFFABRRRQAUUUUAFFFFABRRRQAUUUUAFFFFABRRRQAUUUUAFFFFABRRRQAUUUUAFfC37En/J537VX/YYT/0oua+6a+Fv2JP+Tzv2qv8AsMJ/6UXNAH3TRRRQAUUUUAFFFFABRRRQAUUUUAFFFFABRRRQAUUUUAFFFFABRRRQAUUUUAFFFFABRRRQAUUUUAFFFFABRRRQAUUUUAFFFFABRRRQAUUUUAFFFFABRRRQAUUUUAFFFFABRRRQAUUUUAFFFFABRRRQAUUUUAFFFFABRRRQB49+2H/yav8AFb/sXL3/ANFNXMf8E9/+TN/hn/15z/8ApVNXT/th/wDJq/xW/wCxcvf/AEU1cx/wT3/5M3+Gf/XnP/6VTUAfRFFFFABRRRQAUUUUAFFFFABRRRQAUUUUAFFFFABRRRQAUUUUAFFFFABRRRQAUUUUAFFFFABRRRQAUUUUAFFFFABRRRQAUUUUAFFFFABRRRQAUUUUAFFFFAHyp/wUq8Y694D/AGX77VvDOu6l4f1RdTtI1vdKvHtZtrMdyh055xXl3hf9hX4x+JPDukasP2ufHkH26zhuvJIvDt3xg4/5CHvXdf8ABVj/AJNG1L/sLWX/AKE1fTfwv/5Jn4S/7BFp/wCiUoA+Pf8Ah3z8ZP8Ao77x5+V7/wDLCj/h3z8ZP+jvvHn5Xv8A8sK+6aKAPhb/AId8/GT/AKO+8efle/8Aywo/4d8/GT/o77x5+V7/APLCvumigD4W/wCHfPxk/wCjvvHn5Xv/AMsKP+HfPxk/6O+8efle/wDywr7pooA+Fv8Ah3z8ZP8Ao77x5+V7/wDLCj/h3z8ZP+jvvHn5Xv8A8sK+6aKAPhb/AId8/GT/AKO+8efle/8Aywo/4d8/GT/o77x5+V7/APLCvumigD4W/wCHfPxk/wCjvvHn5Xv/AMsKP+HfPxk/6O+8efle/wDywr7pooA+Fv8Ah3z8ZP8Ao77x5+V7/wDLCj/h3z8ZP+jvvHn5Xv8A8sK+6aKAPhb/AId8/GT/AKO+8efle/8Aywo/4d8/GT/o77x5+V7/APLCvumigD4W/wCHfPxk/wCjvvHn5Xv/AMsKwtE/4JfePvDetarrGk/tN+JdK1bVX36hf2Gn3ENxeEf89ZBf5ev0GooA+Fv+HfPxk/6O+8efle//ACwo/wCHfPxk/wCjvvHn5Xv/AMsK+6aKAPhb/h3z8ZP+jvvHn5Xv/wAsKP8Ah3z8ZP8Ao77x5+V7/wDLCvumigD4W/4d8/GT/o77x5+V7/8ALCj/AId8/GT/AKO+8efle/8Aywr7pooA+Fv+HfPxk/6O+8efle//ACwo/wCHfPxk/wCjvvHn5Xv/AMsK+6aKAPhb/h3z8ZP+jvvHn5Xv/wAsKP8Ah3z8ZP8Ao77x5+V7/wDLCvumigD4W/4d8/GT/o77x5+V7/8ALCj/AId8/GT/AKO+8efle/8Aywr7pooA+Fv+HfPxk/6O+8efle//ACwo/wCHfPxk/wCjvvHn5Xv/AMsK+6aKAPg7U/2B/jJp+m3d1/w1347byIpJMbb3sCf+gh7V23/BL/xt4j+IH7NtzqvinX9U8R6n/bt1AL3VryS5m8tY4dql35wMn8697+KPxc8D+A9NvdP8TeNPD3hzULmyleC01bVILWWVdrAFUkcFhn0r49/4JYfFrwR4V/Z5/wCEe1nxjoOl+ILvxFcm30m91S3hu5d6QhAkJfcc+gFAH6BUUUUAFFFFABRRRQAUUUUAFFFFABRRRQAUUUUAFFFFABRRRQAUUUUAFFFFABRRRQAUUUUAFFFFABRRRQAV5F+1B+0Bb/szfCm48b3Wjy69FDdQ2n2KG4EBYyEjO4qfT0r12vj3/gqx/wAmjal/2FrL/wBCagDKj/4KAfEqaNJI/wBlP4jujruVha3P/wAiUv8Aw398S/8Ao1D4lf8AgJc//IlfYfhf/kWtJ/69If8A0AVp0AfFP/Df3xL/AOjUPiV/4CXP/wAiUf8ADf3xL/6NQ+JX/gJc/wDyJX2tRQB8U/8ADf3xL/6NQ+JX/gJc/wDyJR/w398S/wDo1D4lf+Alz/8AIlfa1FAHxT/w398S/wDo1D4lf+Alz/8AIlH/AA398S/+jUPiV/4CXP8A8iV9rUUAfFP/AA398S/+jUPiV/4CXP8A8iUf8N/fEv8A6NQ+JX/gJc//ACJX2tRQB8U/8N/fEv8A6NQ+JX/gJc//ACJR/wAN/fEv/o1D4lf+Alz/APIlfa1FAHxT/wAN/fEv/o1D4lf+Alz/APIlH/Df3xL/AOjUPiV/4CXP/wAiV9rUUAfnr8aP2uvif8WPhP4s8Gx/svfEjTZNc0yayW6axunEZdcZx9krL/Zx/ah+KHwM+C3hfwJP+zF8R9Yn0WCSFr2PT7mJZd0rvnBtv9qv0eooA+Kf+G/viX/0ah8Sv/AS5/8AkSj/AIb++Jf/AEah8Sv/AAEuf/kSvtaigD4p/wCG/viX/wBGofEr/wABLn/5Eo/4b++Jf/RqHxK/8BLn/wCRK+1qKAPin/hv74l/9GofEr/wEuf/AJEo/wCG/viX/wBGofEr/wABLn/5Er7WooA+Kf8Ahv74l/8ARqHxK/8AAS5/+RKP+G/viX/0ah8Sv/AS5/8AkSvtaigD4p/4b++Jf/RqHxK/8BLn/wCRKP8Ahv74l/8ARqHxK/8AAS5/+RK+1qKAPin/AIb++Jf/AEah8Sv/AAEuf/kSun+BH7c2o/Fv41QfDbX/AIT698PNYm0+XUV/tyYpJ5af9MniRua+r6+KdW/5SwaL/wBiMf8A0KegD7WooooAKKKKACiiigAooooAKKKKACiiigAooooAKKKKACiiigAooooAKKKKACiiigAoqC4uI7WB5pnWGKMFmdmwqgdzXyf8QP8Agpb8KPBOsS6fpw1XxbJG+x7jSYUNsD7SO6g/hXVh8LXxcuWhByZjUrU6KvUdj63or4e/4evfDz/oUPE35W//AMdo/wCHr3w8/wChQ8Tflb//AB2vQ/sPMP8Any/wOf69hv50fcNFfD3/AA9e+Hn/AEKHib8rf/47R/w9e+Hn/QoeJvyt/wD47R/YeYf8+X+AfXsN/Oj7hor4e/4evfDz/oUPE35W/wD8do/4evfDz/oUPE35W/8A8do/sPMP+fL/AAD69hv50fLP/BUz9mc/DH4nJ8R9FtQPD3iuZjeKPu22o/eY/wDbYfrmvqr/AIJf/szn4SfCtvHeuWvl+KPFsSTRLJ963sOsK/V/vn6iuR+JX/BRL4MfF7wnceGfFnw98Q6tos8kU0lrILchmjdZF6S+wrqE/wCCrnw7iUKng7xMqAYUKlv/AC82j+w8w/58v8A+vYb+dH3HRXw9/wAPXvh5/wBCh4m/K3/+O0f8PXvh5/0KHib8rf8A+O0f2HmH/Pl/gH17Dfzo+4aK+Hv+Hr3w8/6FDxN+Vv8A/HaP+Hr3w8/6FDxN+Vv/APHaP7DzD/ny/wAA+vYb+dH3DRXw9/w9e+Hn/QoeJvyt/wD47R/w9e+Hn/QoeJvyt/8A47R/YeYf8+X+AfXsN/Oj7hpK+JLX/gq18NnmRZ/C3iiCJjgyLHbPj8POr6h+E/xn8H/Gzw6Na8IaxDqtqCFljU4lgY/wyIeVP1rkxGX4vCx5q9NpGtPE0aztTkmzu6KKK4DpCiiigAooooAKKKKACiiigAooooAKKKKACiiigBOKWvKPjd+0t4E/Z/sIZvFmqGO8uAWttNtE826uAP7sdfOr/wDBV/4eL08JeJ2/4Dbf/Hq9LD5bi8VDno020c1TE0aT5Zysz7hor4e/4evfDz/oUPE35W//AMdo/wCHr3w8/wChQ8Tflb//AB2uj+w8w/58v8DL69hv50fcNFfD3/D174ef9Ch4m/K3/wDjtH/D174ef9Ch4m/K3/8AjtH9h5h/z5f4B9ew386PuGivh7/h698PP+hQ8Tflb/8Ax2j/AIevfDz/AKFDxN+Vv/8AHaP7DzD/AJ8v8A+vYb+dHa/8FEP2aP8AhoH4Ly3uk2vm+MPDYe+05UUF7hMfvIP+BDH4j3r5H/4JR/synxR4puvi3rlru0vRnNroyt92a7/jm+idB7mvoP8A4evfDz/oUPE35W//AMdrM8O/8FOvhR4R0qPTdG8A67ptirvItvaxWqRqzsztwsuOuT+NH9h5h/z5f4B9ew386PvSivh7/h698PP+hQ8Tflb/APx2j/h698PP+hQ8Tflb/wDx2j+w8w/58v8AAPr2G/nR9w0V8Pf8PXvh5/0KHib8rf8A+O0f8PXvh5/0KHib8rf/AOO0f2HmH/Pl/gH17Dfzo+4aK+Hv+Hr3w8/6FDxN+Vv/APHaP+Hr3w8/6FDxN+Vv/wDHaP7DzD/ny/wD69hv50fcNFfMvwb/AOCgXwu+MGuW+iLNe+GdZuX8q3ttZjVFnf8AupIrMpP5V9MferzcRhq2FnyVouL8zpp1YVVzQd0OooornNQooooAKKKKACiiigAooooAKKKKACiiigAooooAQZ70UV558Vvjn4P+C+nx3PifUvs8s4JgsYV824nx12xjrUSkoq8nob0KFXE1FSoxcpPZJXZ6JRXyQ3/BSHwMv3fDXiBv+Awf/HKZ/wAPH/BH/QteIP8AvmD/AOOVzfW6H8x9F/qtnP8A0DP8P8z66or5F/4eP+CP+ha8Qf8AfMH/AMco/wCHj/gj/oWvEH/fMH/xyj65Q/mH/qtnX/QM/wAP8z66r8xf+Cp37R2sQ2F58HdU8EGwtLp7bVLDxGuph0ukQnIEXldQcg8npX0B/wAPH/BH/QteIP8AvmD/AOOV87/trfGvwB+1Z8PbPT7bQtY0zxRpNytxpt/cJFsVWKiaNyG+6y0/rlD+YT4Xzlf8wz/D/M+sf2J/2nNX/ab8E32rT+BP+ER0XTHj061um1QXZvZUT95tXyY9oXj1619I18LfCf8AbQ+GPwb+HeheDvD/AIV19NM0i2FvGzJCGkIGWkb5+rsSfxrr/wDh4/4I/wCha8Qf98wf/HKX1yh/MP8A1Wzr/oGf4f5n11RXyL/w8f8ABH/QteIP++YP/jlH/Dx/wR/0LXiD/vmD/wCOUfXKH8wf6rZ1/wBAz/D/ADPrqivkX/h4/wCCP+ha8Qf98wf/AByj/h4/4I/6FrxB/wB8wf8Axyj65Q/mD/VbOv8AoGf4f5n11RXyL/w8f8Ef9C14g/75g/8AjlH/AA8f8Ef9C14g/wC+YP8A45R9cofzB/qtnX/QM/w/zPrmlr5F/wCHj/gj/oWvEH/fMH/xyu3+Gf7bHw6+JGrQ6WZrvQNQnbZDHqyLHHK3YK4YrmqjiaMnZSMK3Dmb4eDqVMPKy36/lc+g6KKK6j5wKKKKACiiigAooooAKK53xp420P4eeH7jWfEOpQ6Xp0I+aac9T2AA5Yn0FfOGof8ABRj4f2t68Vrouv30I/5brDEin6AyVhUrU6Xxux6+CynH5inLCUXNLqtvvPrGivkX/h4/4I/6FrxB/wB8wf8Axyj/AIeP+CP+ha8Qf98wf/HKy+uUP5z0/wDVbOv+gZ/h/mfXVFfIv/Dx/wAEf9C14g/75g/+OUf8PH/BH/QteIP++YP/AI5R9cofzh/qtnX/AEDP8P8AM+uqK+Rf+Hj/AII/6FrxB/3zB/8AHKP+Hj/gj/oWvEH/AHzB/wDHKPrlD+YP9Vs6/wCgZ/h/mfUHixddbwvqv/CNNZR6/wDZZDYHUkZ7fz9p8vzArK23djODmvxfu/2z/i7J+1pa+OZfCWhD4jWtufCo8PrZ3PlbzK0ezyvtHmeZuav0A/4eP+CP+ha8Qf8AfMH/AMcrwBvit8GpP2rF+Np8Na/9vWyx/ZoigCfb8+X9q/1n3vK4zR9cofzB/qtnP/QM/wAP8z9HfB/9ur4V0n/hJ/sR8RG1jbUBpqstt55UbxGGZm2humTW5XyL/wAPH/BH/QteIP8AvmD/AOOUf8PH/BH/AELXiD/vmD/45R9cofzB/qtnX/QM/wAP8z66or5F/wCHj/gj/oWvEH/fMH/xyj/h4/4I/wCha8Qf98wf/HKPrlD+YP8AVbOv+gZ/h/mfXVFfIv8Aw8f8Ef8AQteIP++YP/jlH/Dx/wAEf9C14g/75g/+OUfXKH8wf6rZ1/0DP8P8z66pK+XPDP8AwUI+HWuamlpf2WsaEkmAt3dwJJCD7mNmI/KvpXSdWste0221DTrmK9srhBJDcQsGR1PcGtqdanV+B3PIxuWY3Lmli6Thfa+z+exfooorY8wKKKKACiiigAooooAKKKKACiiigAooooAKKKKAPiH/AIKhfFu+8G/DTQfCWmXDWz+J55heMv3mtoQm5PozSD8q/Levv/8A4K3/APIwfDb/AK9b7/0OCvgCv2XhulGnl0JJayvf7z43MpOWJkn0CitTwr4Zv/GnibSfD+lwibU9Tu47S3Q8AySNtFe5an8O/gN4T8TTeD9c8Y+MJ9cs5jZXniDT7C2Olw3A4bETN5rxo1e5WxVOjJQkm35JvQ4YU3NX2R880V6F4/8AgP4u8C/ELxH4SXS7rXbnRGRpbnTLZ50aGTb5U3H3Uk8xMVh+Nvhn4s+G01rF4p8N6n4fe6XfAuoWrw+YB6bq0hiqNTl5ZLXYmVOcb3WxzNFdZqfwk8caL4Tg8TX/AIT1iz8OzBSupT2MqQHP3W3lau/BP4XTfGT4j6b4Yivl0yK4Es9zfPHv8m3iiaWUhB95tq8LQ8RSUJVVLSO/W1gVOTko21Zw1FeueItN+B91o+rR+HtY8a6fqtvE8llNrdray216y/dQrE26IvXHaL8JfGviTwzc+ItK8KazqWh227zdRtbCV4Bj73IXt3rOGKpyXNL3fXQbpyvZa+mpylFdPD8K/GdxquoaVD4R16bUtPkjhvLKLTp2ltXk4RJEC7lL9q2E/Z8+Jk3iK40FPAfiB9Zt4VuZrRNPl3pEfuua0liqMd5pfNC9nN7RZwFFb+k/DzxT4guLyHS/DesalLZ3CWdzHa2EsrQzOzBInUL8rnbJha67wh8F9XtPjd4K8F+OtD1XQV1jVrK1nguoWtpWt5ZljYxsaieKpU07y1Sv52Q1TlK2h5lRXomsfB3Xda+LHi3wr4J0DU9fGk6pd2qQ2cLTOsUcrIrOwrh9b0LUvDerXWmavp91pWpWr+XPZXkLRSwn0Kt8y1cK1OpZReu9utiZRlHdFOvcP2Nfi3qPwl+P3hi4triRdN1a7h0rUbf+GWGZ9gY/7jfNXh9dF8N/+SieF/8AsK2v/o1ajGUo1sPOE1dNFUpOE4yjvc/oDpaRfuilr+fT9BCiiigAooooAKKKKACiiigAooooAKKKKACqGralDo2mXl9cErDawSXDkf3UXJq9XOfEj/knvij/ALBd1/6KaqguaSTFJ2Vz8KPip8StX+L3j7WfFmuTtPf6jcFwjNuWGP8A5ZxJ/sovyiuUoor+hqUIU4RjBWSR+eSk5O73Civoj9nX4X/B/wCM2u6F4S1K68bWXiy8guJZ57c2YslaKOSb5cqX+7HXBePvDnge88O/2x8ONN8cXFjYzCPVdQ8QQwNbW/mf6pd8H3WNcixsHV9jytNfd1S++xs6MlDnujzSir11oOqWGk2GqXWm3lvpuoNItpeywMsNw0bYfy3Pyts77a2tN+FXjLVvEkHh+z8K6zc67PCt0mnLYS+eYGXKy427thVvvV2OrTirykkvXsZcsr2scvRWv4q8H654H1mTSfEWkXuiamoybW+haFz/ALWG/hr0f4b/AAt8KS/C7UviL471TVrfw/Dqg0Sz0/QY0a7ursxea2Wl+WJAtY1MTTp01UvdPt1KjTlKXKeQ0V3XxA0nwEz6RN8PtS8QXrXjPHc6Trdoi3Nu4ZdmJYm2yiSo9c+BvxD8NwefqngfxBYw/ZXvTJNpkoVIV+87Nt+UCnHE07Jt2b2vow9nLpr6HE0V2ug/BH4g+KLVJ9J8Ea/qMD2ov0kg06Uq0BZgsitt+YFlkxVO8+FHjOx8IjxTdeFdZt/DhbZ/astm6wY9claf1ije3Or+q3F7Odr2Zy1FdnoPwV+IHidd2k+CfEGoqLVL0NDpkpV4G+7Ivy/MH7V0nw++Fum698HfjD4h1aO7t9Z8Jppps49/lqrzXZhlWRfwrOeKowV+a+qX3uyHGnOXTv8AgrnlFFdZY/CPxtqHhGbxTbeE9Yn8OxDe+qRWMrW4Ufxb9v3a5OumnVhO/I72/Alxcd0Ffsv+wP8AFzUPi9+zzp11rFxJeato9zLpF1dTctMYwrKxPclJEya/Giv1V/4JT/8AJvviP/saJ/8A0jtK+P4qpxlg4za1Uj1crk1Xstmj7Rooor8lPrgooooAKKKKACiiigAooooAKKKKACiiigAooooAguLhLWCSaRsRxqWZvQCvxt+KPxC1D4pePNY8S6pIxlvJiYoWbcsMX8EQ9gtfsTr3/ID1D/r3k/8AQTX4mV4OaSdorofsfh3RhKWJrNe8uVJ+Tvf8kFFFeseHvhn4T8P+AdK8XfEHVNWt4NceZdK0nQYY2uZoom2PM7y/LGm6vDjFyvY/YMRiYYZJzu23ZJK7b3/JN+SPJ6K9Q8ffC3RIvB2l+NPAupX2seHLy9Olz2mpQKt7Y3e3eqP5eVYOvRlrnJfhD44t9Jv9Tm8I61Fp+nu6Xdw1hKqwlfvZyvbvTdOSdtzKnjsPUipc1tbWejutLWfX+luclRW/4U+H/ifx41wnh3QdR1xrcZl+w27y+X9cVi3VrPYXUtrdQSW9zC5jkglXa0bD7ylTUcrsnbQ61VhKTgpLmW66r1IqK9l1T4dfD74b6XoEPje/8TXfiDVtPi1RodBjgWC1hmXMS7pf9a9cDP4N/wCEg8ZXGj+B11DxZbEh7WSOyZZ3jKr96IZ243bTVunJHHRx1KteUbqK+01aOnn/AJ77o5iiuh1L4deK9FuY4L/w3q1nNJd/YY1nspQzXBVSsS/L8zlW+7Vm6+FPjWz0kanceEtbt7Jp1tlnlsJVHmFtuylyS7G/1qhZP2i121WpytFdNrXwz8XeG9Y03StT8NarYalqTBbO0ntHWW4YttCxr/E1JefC/wAYab4ffW7rwvq9ppEbbGvJbN1iU+pJWjkl2BYqg0mprXbVa+nc5qivSPG/w8sND+F3ww13T1uZdV8SJfm7XfuVmiuRFGsa/jXM+KPhv4p8E2drc+IPDmp6Nb3RxDNfWrxK567QxodOS6EUsZRrJWlZtyST3bi2nZddUc7RRRUHYfqF+xV8TL34jfBW2/tOd7jUdHuW06aaQ5aRVVWRif8AdYflX0DXyN/wTe/5Jf4n/wCwyf8A0THX1zX2eFk5UYtn8qcRUYYfNsRTpKy5tvXX9QooorqPnQooooAKKKKAPzL/AG7fiZfeLvjJdeHhM39keHgsUUKjjznRXlc/QYH4V84V6n+1J/ycJ45/7CLfyryyvisRJyqybfU/rPJaMMPluHp01Zckfvau382FFbvg3/hGP7ZH/CWf2t/ZHlH/AJA3lefv/h/1ny7a9p8SfDX4PeG9D8JanLJ49uk8S2zXNjDaGzaYbZRHhqmNJyTZ0YnHwwtSNOUJNy2srrZv8kfPNFao8I663iB9CGi6gdbjLq+l/ZH+0qVXLAxbd3C1Ws9D1HUrO/vrWwurizsUEl3PFAzR26s2xWdh93LVlyvsd3tIWvddPx2+/oU6K6ef4WeMbXwyniKbwvq8Whuu8ai1k/lbf72f7tV/h/4NufiF400Tw3ZSx29xqVytsJZBlY938RquSV7W3M/rNHklUU1yxvd3va297GBRXrms+H/g3Z3+paPDrfjC0vrVpIU1S6srZ7aSVN3WJWDqhauF8L/DvxT42gurjw/4e1PWYLUHzpLG1eVUI7bhVSpuLsjCnjaU4OpK8FprJW323/4fujnaK3U8AeJ5LprVPDurPcraLetCllL5n2d9qpNt2/cO5MNWvJ8E/H8GuW2jyeDdaTU7mJriK1awfeyD7zVPJLsayxWHi7SqJfNHF0Vt/wDCD+Ijq2paYuhak+pacpa8tEtHaW1UMqbpF27lXc1aF98M/EXhbVtIt/EuhalokWoTRrG13bvDvBboN1HJLsN4mimlzq76X1fXT5anKUV6T8T/AIVy6X8bPEPgvwhpuo6qtpdGK3t4w0820L321xXiTwtrHg/Vn0zXdMvNIv41DG3vIWifafuttP8ACaJU5RevQmhiqOIjCUJaySkl1s/Iy6+2P+Cc/wASL+bUNf8AA9zM0ljFbHVLRTz5R8xVlUfUyA/hXxPX1P8A8E5f+S361/2L0/8A6U2tdWDk41o2Z89xVRhWyevzq9ldeqaP0cooor7A/l4KKKKACiiigAooooAKKKKACiiigAooooAKKKKAPzY/4K4f8jD8N/8Ar1v/AP0OCvgCv0L/AOCt2lz/AGr4aaivNvsv7dz75gYV+elftXDzTy2l8/zZ8VmH+8z+X5I7v4D+OrP4afGTwd4o1FN9hpupQy3TfeYR52uwr07xj+yH8Qde+Iep3nh7TY9Z8IaneSXln4phuY209rSRt6zSSnphW5Vq+dqkW6nW1e3WeRIGYM0e75WYfxFa9OthqkqntaMrNqzur6XuuqOaFSPLyTV1e/Y+52+J9nr3jf8AaJ1jwdqkjWel+BYNMstWtWw0wh8qJpUrzDwP4jtbj9nHwZeeLZW1LRtN+KcDXP2r96y2ptVeda+Y6K4Y5TGnHlUuq162SsbPFSk7td/xdz7u+IkPiDwz4q+JXi62+GOsa1ousWGopL4muPFSy6Re2EsbYkRfKC4C/NGlfJHwZsfFd98SNJXwPqMemeKoTJPYXD3kVtl0Rj5YMjBWL/dC/wAVcZ9sna1W3aeT7MreYse75d397bUddGHwLoU5U7ptq2ztbpdXZnUre0kpW2/rsfa954T8R+JPCvjWf45/C/QfCFpY6TcXFt4st9Pi0y8bUFH7lB5TBbje1ZfjLwv458bTfB7xR8OmuU8E6R4e02IX9rd7bTSLqJmF0Ln5gqOG+Z6+Qri8uLpYluJ5JVjXbGsrM21f7opi3EsUUsKyskUmPMjVvlbH3c1yQyypFpqa9LPlt1smzWWJUla346/fY+7/AIjatd6DqH7Zl9YXL2d4kujrHPC2GUPdbG/TNePfEr4geJIf2b/gCsWuXyEy6uzMkzKzNFeL5W5v4tm6vm/c3zc/epK0oZWqSScr2ae393lJqYlzvZWvfr3lzf8AAP0O8SaV4k1jUP2vtO8HySQ63c6toscKQyLFJNl5d8cbf3itcX4R0jXvAuh/ADwr48Etv4x/4WPDe6bp942+6stKzCjK3dFaavmTwl8WP+EX+EfxA8ENpz3X/CVzadL9v87b9m+yytJ9zad+7dXCXF1PdXDTTSySzt96Rm3NXDTymq1KnOSSuum/uKN9zeWKjdSS19f7zfY+4vsNp4x8F/E/w5o3hq/8X69H8RtRvNU0LR9XWxvJrbpDNjY7SxK2K+fv2pNU1i/8aeH7bXfCtx4T1DTdDtbFrS+1Fb67kjRpPLeeTaNr7fl2tXjtvcS2twk1vK0Usbblkibay01mZmZmbezV6OGy76tU5+a6+d7/AH2OepiPaR5bW/r0/USui+G//JRPC/8A2FbX/wBGrXO11/wd0qbXPi54J062DNNc63ZxJ9WnUV6deXLSm5dmc0NZI/fZfuilpF6Clr+eT9DCiiigAooooAKKKKACiiigAooooAKKKKACub+JH/JPfE//AGC7r/0S1dHWH440+bU/BWv2dsu+4ubC4ijX1Zo2AH5mrp6TiTLZn8+1FIysrMrLsZaWv6Ijsj88Pf8A9g//AJOf8Mf9eup/+kFxWf8Asp3sOueJvEHw3v5Fj07x5pkmkJvVdsd8v72yl/CVa8Qorzq2C9tKpLms5JJeTTbT/E6IVuVRVtm/xsrfgfe9nofhz4w6lefAqa8tYNK+G0um3Vves/E8du3l6234tNurhtH8bar8ffB/xzPhFWTx34g1eyuoNMtG8u7uNHi3IsEXqI/kytfINLFK8UqSRuySq25WT5WVhXCsp5L2nd6W8mmm/wDwJo3eKv07/wCS+5M+h/2hrPUPDXwR+Ffhfxj5q+P9Pk1GeW0uZt9zZWMjqYI5vTJV2Rfaq37PFl8YF8J6vP8ADzTrHxdodxc+Xqnhq6S11BWZR8sj2kv/AKGteAszSszMzOzNuZmp1vcS2twk1vK0Usbblkibay12fUpLDui2m276q61d9rmPtv3nPr238rbn3No+m+E/APxQ+C/ifxp4b0P4aeN7q/u1vtDsGEVrFGIilneTQFn+znz6xvhf8Pfit4D8OfHWbx8L+xtNQ8H6kxXUp/M+33QHyzR//F18YMzSszMzOzNuZmp0txLcbPOlaXy18tdzbtqj+EVxf2XPl5XUvffS+zbVrvTc2+tK9+X8fK2un+R9beOvFetaLB+yrBYancWVummWd15UDlVaU3wHP4cVek8UavrXx5/ajtL/AFG6ubSPw94ht47eWQ+SscMyrCFX/ZVa+OKKv+yVb4tdend3J+tO+3br5WPtT4ufD/4qeOfB/wABf+EAi1G8t7Pwfp0hh0y78trS5Of38mGGwEdJPatH4pa1pWt2H7Xl3pVzDewGLw3DNcWg/dzXKXEaXDj6yq9fL3xT+L7/ABJt/BMUNhJpH/CO+Grfw5Iy3G/7UsRkPm/dG1T5n3a87rno5XVnGPtHZry/vqWrv5Gk8TG75Ve/n/da/U/QvxE9/J8WtG+IPgH4bav4w8PxWVr/AGTq9n4mWHSo7UW6o1tLEYNsCr910avz6v5EuLy4khgW3iaUssCtuWNS33aat1PFby26yyJBIwaSNW+VsfdytR16eCwTwd7u+y67LvqznrVva9Lf16BX6q/8Epv+TffEf/Y0T/8ApHaV+VVfq3/wSxspbP8AZ11eSaPYLnxHczRn++v2e2UH/wAdrw+Kf9wXqjtyv/ePkz7Looor8iPrwooooAKKKKACiiigAooooAKKKKACiiigAooooAz9e/5Aeof9e8n/AKCa/Eyv211aF7jS7yONcySROqj3KkV+JksT28rxyIyMrbWVvlZWFfP5pvE/afDp+7il/g/9uG179q3hfUPjp8I/AT+D7f8AtXWfC9tLpmqaPbt/pMamVpIp0Q/eR68Bp1vcS2sqSQu0Uq/dZW2stePTmo3T2P1XFYaVdwnTlyyg7q6utmmmrro++/3H0NdaXN8I/hHpngzXysHizXPFFrqj6T5qtLZ2sS7FabH3S7dFruZPEmq3n7euo2c+oXE1i013ZtbPJuhMP2Nv3e2vj5mZmZmbezUVsq9rWWmh488mVT2kqk7ynGabt1ny6pX0sopWvr3Pp3wbpsPjD9n/AMIWGg+GNT8X3mmX15Jq1hourfZJ4Z3dTFPLEIyzqY/lDV5L+0BrN/r3xO1G41TRf+Ef1NYbWG5tPta3Mm5IFG93RRucr1rgLe6ltZfMhlkhb7u5W2tUdROrzx5djswuXfVsRKvzXT5rb3XM+Z/a5bekV07H014U0v4xx+FtBsn8E6P8SfCywRtZNf2sGoRxQld3lC4Vt8Wyti68OaTCfjL4P+FxA1+5/s2SGxsLvzJGiTm9traT7zqjtXyjFdT28Uscc8iRSfLIqttVvrTYpWiZZI2ZGVtystWq6ta1zjlk85SlPnS62UWk2pRknJczT2tpbd6n1fZ6P4i8O/Dn4N6b4l89NStfHyRi2uJN0ttHmErE/wDnvSad42163+On7Qjx6tdD7Po+uCLD8Q+VMoiZP7pSvk9pWlZmZmdmbc1FH1jsiP7DUlL2k03K/wBnTWXNpr8j6c+EOoXOpeCPhBJdTSXUkXxNWJJJ2yypstTXWab4e8a+Hf2gPHHjHxZLMfh/t1QahfXEyvZ3dmyyCK3T1O5o1CV8q+AfFH/CE+OPD3iBoGvF0nUbe/8As/mbPN8t1fG7nbnbUXjDxNL4q8Ta1qmxrSLUtQnvvsnmb1jaR2etFiEorTUxq5PUqV6kYtKE4yTdtuaV2lro10drX1tc+pPhzquk6Ppf7Ntzq8sVtALfX1gnuJFjjiuGmkELEn/arkPHlnr/AIN+FnjPT7z4cazodhq0tq8+o63rv2tBOkysskS+WPNc/dLLXzjUkt1LcLEsksjrGu2NWbdtX/ZrOWI5o2sdMMm5a3tee6vdp83/AD8lUVrSS0crap7XtuiOiiiuQ+nP0K/4Ju/8kv8AE/8A2GT/AOiY6+ua+Tf+Cc1hNb/CHXriQbY7jWn8o/3gsMQr6yr7HB/wIn8tcUNPOcRbv+iCiiiuw+XCiiigAooooA/I/wDak/5OE8c/9hFv5V5ZXrv7W2mz6b+0Z41juFx5l2twh/2XhV1ryKvia/8AFl6n9c5S1LL8O1/JH/0lBXtPxub/AItP8FPbRLn/ANKWrxais4z5U0dFfD+2q0ql7cjb9bxcf1ufYM3juDwn4btvj7bPb3PiPWNPsdFFr/1EInxeSsvvDb1g/FKHw18JLHTNMs5I7nRPG3iCDxPcbEBb+xlKNBAf+BNPXy5RXV9YurW/rr954NPIo05qXtHZPa32V8Ed/sbp9Xc+z9P0Txbp/wC0trPjrWpZpfhdL9snm1aS53afcaW0Unkwj5tr8tGoSvkzwTZ6jqnjLSbfRb2PTNVkuk+xXc9ytusMobKN5p+7WP8AaJWt1h81vIVtyx7vl3VHWVSqpW06ndg8ulhVK8k24xirRsrRvZtXd3rrt0VkfYOjeHfGHi/Ub2H4z/D7RbLQPss0moeMXsorG7t2WJisqTxMFlO6uHuvDnib4gfAj4bQ/D6C8voNIa+XWLXTp9slvdmbes0yhu8fRq+epbqeW3ihklkeKPPlxs3yrn0psVxLb7/Ldk8xdrbW+8v92rdZbWOSnlFSm1OM4pxaaSi+RaSi/d5nupdGrWXnf7d1rUdS074i+O706hnVIfhEkjXlufvS4i3Sq315rw/UPFmtf8Mo6OP7Tuc/8JddReZ5x3NGLWF1Xd/vNXiG5qKcsQ5dBYbJIYdRvJPlcX8P8sWu/nfyPt3SG1S++MfjybS7kQa3dfC6BoruRgjfaGhtdrlz7153pegeJvAPwX1nTvH6XVlPqniDTG0HT9RbdN56Ss1zcIpbco8v5S1eN/DX4kf8K/g8Xxtp/wBv/wCEg0G40Pd52zyPNZT5v3Tuxt+7XGS3Etxt8x2faoVdzbtqj+Gq9urJ9dTloZLVjN03JKC9nry6vkS2d/d10em17bn2lq5tNU+I3x/0S202fVvE19e2TQ6ZZ6ktnc3tspbzYonKn/YYpXh/x8m1ex8O+CdC1XwdfeE00tLtbRdU1L7XcyROynaV2qyIG6V43uZW3bvmp1xcS3UryTO0srfeZm3M1RUr+0VrWuduDyf6pVhPn5lG3e91BQ0961rLqnvvtZtfU/8AwTl/5LhrX/YvT/8ApTa18sV9V/8ABOWF2+M2vT7f3a6DKhbtuNxbnH6UYP8AjxJ4mdsnxN/5f1R+jFFFFfZH8shRRRQAUUUUAFFFFABRRRQAUUUUAFFFFABRRRQB5b+0V8CNI/aG+Gt54W1OVrSYsJ7G+QZa1uFzskH+e9fkn8SP2Ovi58M9UntLvwZqmrWyHK6hottJe27r6kpyn41+3tBFe/ludYnLYuENYvo/0PPxOCp4p3ejPwN/4Un8Q/8AoQ/E3/gnuf8A43R/wpP4h/8AQh+Jv/BPc/8Axuv3y2j0o2j0r3/9bq3/AD6X3s4P7Ih/P+B+Bv8AwpP4h/8AQh+Jv/BPc/8Axuj/AIUn8Q/+hD8Tf+Ce5/8AjdfvltHpRtHpR/rdW/59L72H9kQ/n/A/A3/hSfxD/wChD8Tf+Ce5/wDjdH/Ck/iH/wBCH4m/8E9z/wDG6/fLaPSjaPSj/W6t/wA+l97D+yIfz/gfgb/wpP4h/wDQh+Jv/BPc/wDxuj/hSfxD/wChD8Tf+Ce5/wDjdfov+1Nr2pWH7eX7Omn2uoXVtZXXm/aLaOQrFN+9xyO5r7b2j0o/1urf8+l94v7Ih/P+B+Bv/Ck/iH/0Ifib/wAE9z/8bo/4Un8Q/wDoQ/E3/gnuf/jdfvltHpRtHpR/rdW/59L72P8AsiH8/wCB+Bv/AApP4h/9CH4m/wDBPc//ABuj/hSfxD/6EPxN/wCCe5/+N1++W0elG0elH+t1b/n0vvYf2RD+f8D8Df8AhSfxD/6EPxN/4J7n/wCN0f8ACk/iH/0Ifib/AME9z/8AG6/fLaPSjaPSj/W6t/z6X3sP7Ih/P+B+C2nfAP4mapdLb2nw88TzSnqBpFwAP/Ha++f2H/2FdU+GPiCHx98QIYrfXLdW/szSVkEotSy4aaRhwZMelfeG32o+tebjuJMVjKTopKKe9jpoZbSoy527tC0UUV8mesFFFFABRRRQAUUUUAFFFFABRRRQAUUUUAFJS0UAfmd+2B/wT+8QjxdqHjH4a2P9sadqUpubzRISqT20rfeaH++renavkK6+BXxJs53hn+H3iqKdfvK2i3H/AMbr97f1pMe1fYYPifFYakqU4qVuvU8arldKpJyi7H4Hf8KT+If/AEIfib/wT3P/AMbo/wCFJ/EP/oQ/E3/gnuf/AI3X75bR6UbR6V3f63Vv+fS+9mP9kQ/n/A/A3/hSfxD/AOhD8Tf+Ce5/+N0f8KT+If8A0Ifib/wT3P8A8br98to9KNo9KP8AW6t/z6X3sP7Ih/P+B+Bv/Ck/iH/0Ifib/wAE9z/8bo/4Un8Q/wDoQ/E3/gnuf/jdfvltHpRtHpR/rdW/59L72H9kQ/n/AAPwN/4Un8Q/+hD8Tf8Agnuf/jdH/Ck/iH/0Ifib/wAE9z/8br9F/wBvLWtQ0f8AaO/ZPtrG/urK2vvFbRXUdvIVW4T7Zpg2yeo5r7b2j0o/1urf8+l94v7Ih/P+B+Bv/Ck/iH/0Ifib/wAE9z/8bo/4Un8Q/wDoQ/E3/gnuf/jdfvltHpRtHpR/rdW/59L72P8AsiH8/wCB+Bv/AApP4h/9CH4m/wDBPc//ABuj/hSfxD/6EPxN/wCCe5/+N1++W0elG0elH+t1b/n0vvYf2RD+f8D8Df8AhSfxD/6EPxN/4J7n/wCN0f8ACk/iH/0Ifib/AME9z/8AG6/fLaPSjaPSj/W6t/z6X3sP7Ih/P+B+L/wd/YX+KnxW1i3jvPDt94R0fOZ9T1y2a3Kp/sRNh3r9c/hl8PtI+E/gPRvCehRmHTNLgEMQblm7s7f7RZix+tdbiivm8yzevmbSqaJdEejhsJTwt+XVvqLRRRXincFFFFABRRRQAUUUUAFFFFABRRRQAUUUUAFFFFABXwd+1J+xfrN14kv/ABZ4BtF1G2vZPOu9HXiWOU/eaEHghvSvvCg1zVqEK8eWR7eU5xismr+3wz30aezXmfjZc/B/x7YzPFP4J8RRzL1VtJn/APiai/4VP43/AOhN8Qf+Cuf/AOJr9mKK8z+y4/zH6CvETEW1w6+9/wCR+M//AAqfxv8A9Cb4g/8ABXP/APE0f8Kn8b/9Cb4g/wDBXP8A/E1+zFFH9lx/mH/xETEf9A6+9/5H4z/8Kn8b/wDQm+IP/BXP/wDE0f8ACp/G/wD0JviD/wAFc/8A8TX7MUUf2XH+YP8AiImI/wCgdfe/8j8Z/wDhU/jf/oTfEH/grn/+Jo/4VP43/wChN8Qf+Cuf/wCJr69/by1rUNH/AGjv2T7axv7qytr7xW0V1HBIVW4X7Zpg2yeo5r7bo/suP8wf8RExH/QOv/An/kfjP/wqfxv/ANCb4g/8Fc//AMTR/wAKn8b/APQm+IP/AAVz/wDxNfsxRR/Zcf5g/wCIiYj/AKB197/yPxn/AOFT+N/+hN8Qf+Cuf/4mj/hU/jf/AKE3xB/4K5//AImv2Yoo/suP8wf8RExH/QOvvf8AkfjP/wAKn8b/APQm+IP/AAVz/wDxNH/Cp/G//Qm+IP8AwVz/APxNfsxRR/Zcf5g/4iJiP+gdfe/8j8Z/+FT+N/8AoTfEH/grn/8Aia9A+GP7IfxI+I2rQR3Gg3nhvSyR52oavA0JVP8AZjbDPX6sUYq45bTi9Xc56/iDjJ03GlRjFvrdu3y0OV+HPgHS/hf4N0vwzo8bLY2EXlqXOXcnlnb3LZNdXRRXrpKKsj8uqVJ1pyqVHeT1b7sKKKKozCiiigAooooA+Zf2tv2V5fjTDbeIPDrww+KrOLyTHcHbFdxZ6E9mHYmvg7WvgV8RPD949vfeCNfR1O3MenSyRt/uyIpVq/Yr+dFeZXwNOtLn2Z97k/GONymgsM4qpBbX0a8r9vkfjP8A8Kn8b/8AQm+IP/BXP/8AE0f8Kn8b/wDQm+IP/BXP/wDE1+zFFc39lx/mPoP+IiYj/oHX3v8AyPxn/wCFT+N/+hN8Qf8Agrn/APiaP+FT+N/+hN8Qf+Cuf/4mv2Yoo/suP8wf8RExH/QOvvf+R+M//Cp/G/8A0JviD/wVz/8AxNH/AAqfxv8A9Cb4g/8ABXP/APE1+zFFH9lx/mD/AIiJiP8AoHX3v/I/Gf8A4VP43/6E3xB/4K5//iaP+FT+N/8AoTfEH/grn/8Aia/ZiviX9jHXNT1L9r/9p2yu9Rurqzs9WRLe3mkLJCv2i54Ao/suP8wf8RExH/QOvvf+R8g/8Kn8b/8AQm+IP/BXP/8AE0f8Kn8b/wDQm+IP/BXP/wDE1+zFFH9lx/mD/iImI/6B197/AMj8Z/8AhU/jf/oTfEH/AIK5/wD4mj/hU/jf/oTfEH/grn/+Jr9mKKP7Lj/MH/ERMR/0Dr73/kfjP/wqfxv/ANCb4g/8Fc//AMTR/wAKn8b/APQm+IP/AAVz/wDxNfsxRR/Zcf5g/wCIiYj/AKB197/yPyD8K/s4/EvxjfRW1h4M1hNxx9pv7RrWAfV3wK/RT9mX9n+0+Avg+W2eZb7X9QZZdQu0+7uXhY0/2Vya9ooxXXQwVOhLm3Z8xnXFmMzml9XklCHVLr6v/hhaKKK9E+JCiiigAooooAKKKKACiiigAooooAKKKKACiiigAooooAKKKKACiiigAooooA+Ff2sv+UgX7NX/AG1/9G191V8K/tZf8pAv2av+2v8A6Nr7qoAKKKKACiiigAooooAKKKKACiiigAooooAKKKKACiiigAooooAKKKKACiiigAooooAKKKKACiiigAooooAKKKKAPhb/AIKCf8nMfsgf9je3/pZplfdNfC3/AAUE/wCTmP2QP+xvb/0s0yvumgAooooAKKKKACiiigAooooAKKKKACiiigAooooAKKKKACiiigAooooAKKKKACiiigAooooAKKKKACiiigAooooA+Fv+Cgn/ACcx+yB/2N7f+lmmV9018Lf8FBP+TmP2QP8Asb2/9LNMr7poAKKKKACiiigAooooAKKKKACiiigAooooAKKKKACiiigAooooAKKKKACiiigAooooAK+Fv2JP+Tzv2qv+wwn/AKUXNfdNfC37En/J537VX/YYT/0ouaAPumiiigAooooAKKKKACiiigAooooAKKKKACiiigAooooAKKKKACiiigAooooAKKKKACiiigAooooAKKKKACiiszxB/aUeh6i2ixW0urLbyNZx3RKxNNtJQORztLYzQB8UftZf8pAv2av+2v8A6Nr7qr8SPjV+3H4t8UftGeDfGmveCrPQvEHw/nltn0f7RLhpQ7blkr9Yv2afiR4r+LXwg0Xxf4w0G08N6hq6m6ttPtHZttq3MLsW5DOPmx6EUAeq0UUUAFFFFABRRRQAUUUUAFFFFABRRRQAUUUUAFFFFABRRRQAUUUUAFFFFABXzp+358SPEnwl/Zl8QeJfCWqvout21zaRxXkaKxUPOitw3sa+i6/MP/gpp+1RrFvp/iT4Jav4C/s4Xn2W8svEP9rCRbiBJg28QeSOcjGMnoaAO78H/B39snxl4R0PxBa/HzRYrbVbGDUIoprQblWWJXCnFt71sf8ADPf7aX/RwGg/+Ag/+RK3P2Av2uNX+PuiweFo/ADaJofhLSbOxuNfk1cTCaZY1jRFi8hDlgpPXtX2bQB8Lf8ADPf7aX/RwGg/+Ag/+RKP+Ge/20v+jgNB/wDAQf8AyJX3TRQB8Lf8M9/tpf8ARwGg/wDgIP8A5Eo/4Z7/AG0v+jgNB/8AAQf/ACJX3TRQB8Lf8M9/tpf9HAaD/wCAg/8AkSj/AIZ7/bS/6OA0H/wEH/yJX3TRQB+dHjL9iH9qP4ga94a1vxD8ZPDOqat4buvtuk3UtoQ1rNuVty4tv9kfkK67/hnv9tL/AKOA0H/wEH/yJX3TRQB8Lf8ADPf7aX/RwGg/+Ag/+RKP+Ge/20v+jgNB/wDAQf8AyJX3TRQB8Lf8M9/tpf8ARwGg/wDgIP8A5Eo/4Z7/AG0v+jgNB/8AAQf/ACJX3TRQB8Lf8M9/tpf9HAaD/wCAg/8AkSj/AIZ7/bS/6OA0H/wEH/yJX3TXkf7Tvxo1f9nz4V3vjfS/CP8AwmUOnyIb6yW/+yPFATgzBvKkztOMjHegD5//AGCvib8UfEXxi+Mngn4l+L/+EsufCcsFpHMkKJEJBJMrldqL6AfhX25X4w/s7/t3Xvw/+P3xH8Uab8OJfEmofEjU4mttGh1cRPbymVisav8AZz5ufO7V+x+ky3txptpNqFrHYahJCjT20U3nxxSFfmQPtXcAc/NtXPHFAF+iiigAooooAKKKKACiiigAooooAKKKKACiiigAooooAKKKKACiiigAooooAKKKhuPN8iTyCvnbTs3dM+9AHw5/wUE/5OY/ZA/7G9v/AEs0yvumvxZ/aw/bG8a+KPjv4GfxX4N03RNe+FevyXS2dvcSul24mt5AD7f6L+tfpn+yD8bPF/7QHwrTxr4r8O2fhiG/nf8Asy2tpHZprdflMzbuxbOPpQB7nRRRQAUUUUAFFFFABRRRQAUUUUAFFFFABRRRQAUUVh+L9S1XRvCuq3+h6SNd1e1tpJbXS2ufI+1SKpKx+ZtbaWPGcHrQB8U/tb/ED4x6h+2h4G+E3wv8eL4OGveG/t2bmFHgMyNfuSf3Tn7tsBVn/hnv9tL/AKOA0H/wEH/yJXyB4y/4KAHX/wBrzwb8aZfh/Jp8/hjSZdHfw++rgtNlbxdxlNuAuPtXpX6y/AT4lax8XvhTofi/WfC58IXOrw/aodLa8+1MsDHMUjPsT7y4bGOhoA+Wf+Ge/wBtL/o4DQf/AAEH/wAiUf8ADPf7aX/RwGg/+Ag/+RK+6aKAPhb/AIZ7/bS/6OA0H/wEH/yJR/wz3+2l/wBHAaD/AOAg/wDkSvumigD4W/4Z7/bS/wCjgNB/8BB/8iUf8M9/tpf9HAaD/wCAg/8AkSvumigD4W/4Z7/bS/6OA0H/AMBB/wDIlch4T/Yf/ai8E+J/EPiXQ/jH4Y07XvEU3n6rfQ2h3XLev/HtX6MUUAfC3/DPf7aX/RwGg/8AgIP/AJEo/wCGe/20v+jgNB/8BB/8iV900UAfC3/DPf7aX/RwGg/+Ag/+RKP+Ge/20v8Ao4DQf/AQf/IlfdNFAHwt/wAM9/tpf9HAaD/4CD/5Eo/4Z7/bS/6OA0H/AMBB/wDIlfdNFAH5zfF7wH+2H8H/AIa+IfGep/HbSr7T9FtWupYLSzUSso/7dfevrz9k3xhrHxA/Zv8Ah/4i8QXzajrWo6as93dMADI+5ucfhXy1/wAFJv2q9Z+HGi698KtQ8BGbTPFek7bDxLHqwAPK+aPI8knchx35qP8A4Jt/tYaz8RdM8OfCjT/h8U03wvpW3UPFDasCo5+X9x5IO52J7+tAH6DUUUUAFFFFABRRRQAUUUUAFFFFABRRRQAUUUUAFFFFACZo/GvMP2hPjpo/7Pnw4vfFOrIbmRWEFnYo2x7u4b7san/PSvyc+I37bHxg+ImrTXR8Zaj4dtWY+VY6BcPZRxL6bkbc1e7luS4nMk507KK6s8/E42nhnyy1Z+2WaM1+D3/DRnxZ/wCioeMv/B/d/wDxdH/DRnxZ/wCioeMv/B/d/wDxde7/AKo4r/n4vxOL+1qf8rP3hzRmvwe/4aM+LP8A0VDxl/4P7v8A+Lo/4aM+LP8A0VDxl/4P7v8A+Lo/1RxX/PxfiH9rU/5WfvDmjNfg9/w0Z8Wf+ioeMv8Awf3f/wAXR/w0Z8Wf+ioeMv8Awf3f/wAXR/qjiv8An4vxD+1qf8rP0B/aE/4J32Hxg/ao8L+O4Ps8HhS9bzvFVmThppIuU2D/AKbZ2P8ATNfbkUaW8aRxqqRqNqqvAUCvwi/4aM+LP/RUPGX/AIP7v/4uj/hoz4s/9FQ8Zf8Ag/u//i6P9UcV/wA/F+If2tT/AJWfvDmjNfg9/wANGfFn/oqHjL/wf3f/AMXR/wANGfFn/oqHjL/wf3f/AMXR/qjiv+fi/EP7Wp/ys/eHNGa/B7/hoz4s/wDRUPGX/g/u/wD4uj/hoz4s/wDRUPGX/g/u/wD4uj/VHFf8/F+If2tT/lZ+8OaM1+D3/DRnxZ/6Kh4y/wDB/d//ABdH/DRnxZ/6Kh4y/wDB/d//ABdH+qOK/wCfi/EP7Wp/ys/eHIor8I7H9pr4u6fdJcRfEzxc7KchbjWbiWM/8BditffP7D/7c+ofFbWo/Afj54W8RyITp+qxIsa3mxctHIo+7KBzjvXnY3hzF4Kk611JLexvQzKlWnyWs2fclFFFfLHrBRRRQAUUUUAFFFFACUZoNfmv+15/wUI1+HxVqPg74ZXa6XaafK1tea+ArzTSg4dYATgKPX2r0cDl9fMavsqK9X0RzV8RDDx5pn6UZozX4QN+0h8WWkLD4oeMtvp/bt1/8cpv/DRnxZ/6Kh4y/wDB/d//ABdfU/6o4r/n4vxPL/tan/Kz94c0Zr8Hv+GjPiz/ANFQ8Zf+D+7/APi6P+GjPiz/ANFQ8Zf+D+7/APi6P9UcV/z8X4h/a1P+Vn7w5r5R/wCCh37Lcv7RnwlW98P2n2jxt4eY3OnIv3rqM8SW/wDwIfy96/Mz/hoz4s/9FQ8Zf+D+7/8Ai6P+GjPiz/0VDxl/4P7v/wCLo/1RxX/PxfiH9rU/5WfsH+yv8BbH9m/4MaJ4QtvKm1BE+06peRj/AI+bx+ZX+gPyj2Ar17Nfg9/w0Z8Wf+ioeMv/AAf3f/xdH/DRnxZ/6Kh4y/8AB/d//F0f6o4r/n4vxD+1qf8AKz94c0Zr8Hv+GjPiz/0VDxl/4P7v/wCLo/4aM+LP/RUPGX/g/u//AIuj/VHFf8/F+If2tT/lZ+8OaM1+D3/DRnxZ/wCioeMv/B/d/wDxdH/DRnxZ/wCioeMv/B/d/wDxdH+qOK/5+L8Q/tan/Kz94eveivxh+En7dnxY+GOsQTXniS+8X6Tn/SNP12drkuv+zM2ZENfrX8J/ihovxi+H+keL9BkL6bqEW8RycPE4OHRx2ZWBBrwMyyjEZbZ1dU+qO/DYynitI6PsdnRXD/GL4saL8Efh7qvi7XnYWFinywx/6yeQ8JGn+0TX5K/Ff9uz4ufE7Vp5rbxNeeEtL3HydP0GdrYxj3mXEj0Zbk+IzK7paRXVhicZTwtlLVvoftFmjNfg9/w0Z8Wf+ioeMv8Awf3f/wAXR/w0Z8Wf+ioeMv8Awf3f/wAXXv8A+qOK/wCfi/E4P7Wp/wArP3hzRmvwe/4aM+LP/RUPGX/g/u//AIuj/hoz4s/9FQ8Zf+D+7/8Ai6P9UcV/z8X4h/a1P+Vn7w5qjrGj2OvaVe6ZqVtFe2F7C9tcW8y7kljddroR6Fcj8a/Cz/hoz4s/9FQ8Zf8Ag/u//i6P+GjPiz/0VDxl/wCD+7/+Lo/1RxX/AD8X4h/a1P8AlZ9v/sqf8E9W+DP7TXizxVrMf2jw5oU4HhMy7WMvmrnzG94R8v1PtX6BZr8Hv+GjPiz/ANFQ8Zf+D+7/APi6P+GjPiz/ANFQ8Zf+D+7/APi6P9UcV/z8X4h/a1P+Vn7w5ozX4Pf8NGfFn/oqHjL/AMH93/8AF0f8NGfFn/oqHjL/AMH93/8AF0f6o4r/AJ+L8Q/tan/Kz94c0Zr8Hv8Ahoz4s/8ARUPGX/g/u/8A4uli/aR+LMbqy/E/xjj0bXbpv5yUf6pYr/n4vxD+1qf8rP3gor84P2Pf+Cguval4u07wV8TbpNSh1CUQWOu7FikilP3Y5wODn1r9H6+Vx2X1suq+yrL07M9WhiIYiPNAWiiivPOgKKKKACiiigAooooAKKKKACkz+VB/SvzE/ao/ae1n4peKtS0LRtQls/B9nK1ukVvJtF9tOGkk/vKey1yYjERw8bvc+kyPI6+eYh0qT5Yx1lJ9P82+iP0ebxt4ehco+v6YkncPeRhh+GaP+E88N/8AQw6V/wCBsX/xVfi1RXlf2o/5T9J/4h3S/wCgl/8AgP8AwT9pf+E88N/9DDpX/gbF/wDFUf8ACeeG/wDoYdK/8DYv/iq/Fqil/akv5A/4h3S/6CX/AOA/8E/aX/hPPDf/AEMOlf8AgbF/8VR/wnnhv/oYdK/8DYv/AIqvxaoo/tSX8gf8Q7pf9BL/APAf+CfaH7Z37IXhn9ov4ueCfFej+JNGsUkuEsfFLC+hVnskyROvPzSjZ5X0YelfY2h+IPBvhnR7HSNL1fRbDTbGBLe2tYbuJUhiQBVUDd0AAFfjTRR/akv5A/4h3S/6CX/4D/wT9pf+E88N/wDQw6V/4Gxf/FUf8J54b/6GHSv/AANi/wDiq/Fqij+1JfyB/wAQ7pf9BL/8B/4J+0v/AAnnhv8A6GHSv/A2L/4qj/hPPDf/AEMOlf8AgbF/8VX4tUUf2pL+QP8AiHdL/oJf/gP/AAT9pf8AhPPDf/Qw6V/4Gxf/ABVH/CeeG/8AoYdK/wDA2L/4qvxaoo/tR/yB/wAQ7pf9BL/8B/4J+0v/AAnnhv8A6GHSv/A2L/4qtLT9Ts9WtxPZXUN5CxwJLeQOv5g1+JFdJ4B+JHiP4Y69DrHhvVJ9OvEI3CNsxzL/AHZV+6y1cc011joYVvDu0G6OJvLpeOn3pv8AJn7PUV598C/ipbfGT4a6X4nhiFvNOpiurdWyIZ0OHTPsf516FXtxkpJSWzPyCvQqYarKhVVpRbTXmgpK83+OXxj0v4GeBLjX9QRrqcsILOzVsNcTH7q/4mvzh8bftW/FLxtqMl0/i3UNGhJzHa6NO1rGn+ySmGauPEYynQdnqz6nJeGMZncHWptRgtLvq/JH6zZozX46/wDC9PiT/wBFB8U/+Du6/wDi6P8AhenxJ/6KD4p/8Hd1/wDF1yf2nD+U+p/4h7iv+f8AH7mfsVmjNfjr/wAL0+JP/RQfFP8A4O7r/wCLo/4Xp8Sf+ig+Kf8Awd3X/wAXR/acP5Q/4h7iv+f8fuZ9BfGT/gnLD46/bM0rxVbWyj4eaw76xr8AHAuo2XfEPafPP0NfoJFGlvGkcaqkajaqrwFAr8ef+F6fEn/ooPin/wAHd1/8XR/wvT4k/wDRQfFP/g7uv/i6P7Th/KH/ABD3Ff8AP+P3M/YrNGa/HX/henxJ/wCig+Kf/B3df/F0f8L0+JP/AEUHxT/4O7r/AOLo/tOH8of8Q9xX/P8Aj9zP2KzRmvx1/wCF6fEn/ooPin/wd3X/AMXR/wAL0+JP/RQfFP8A4O7r/wCLo/tOH8of8Q9xX/P+P3M/YrNGa/HX/henxJ/6KD4p/wDB3df/ABdSW3x8+JdtN5sfxA8TuR0EurXEin/gJaj+04fyh/xD3FdK8fuZ+w1LXxv+yX+2FfePNbg8HeN5EfWJgfsOpooQTkDLRuOzV9j16VGtGvHmifnmZ5XicpxDw2JWu6a2a7oWkr5G/a2/a+vPhjqreD/B3knXwgN7qEy+YloGUlURf4pCO1fGt5+0B8TdQuWnl+IHiRD3EOqzRKP+AowWuOtjqdKXLuz6rK+C8dmWHWJlJQjLVXvdrvZfgfsHmjNfjr/wvT4k/wDRQfFP/g7uv/i6P+F6fEn/AKKD4p/8Hd1/8XWP9pw/lPZ/4h7iv+f8fuZ+xWaM1+Ov/C9PiT/0UHxT/wCDu6/+Lo/4Xp8Sf+ig+Kf/AAd3X/xdH9pw/lD/AIh7iv8An/H7mfoP+3B+zfF+0p8EdQ0i0hU+J9LzqGiyn/n4UcxH2kA2n8Kg/YX/AGbY/wBmv4I2OnX0Sr4q1grqGtS9xMw+WH6Rqdo/Gvz/AP8AhenxJ/6KD4p/8Hd1/wDF0f8AC9PiT/0UHxT/AODu6/8Ai6P7Th/KH/EPcV/z/j9zP2KzRmvx1/4Xp8Sf+ig+Kf8Awd3X/wAXR/wvT4k/9FB8U/8Ag7uv/i6P7Th/KH/EPcV/z/j9zP2KzRmvx1/4Xp8Sf+ig+Kf/AAd3X/xdH/C9PiT/ANFB8U/+Du6/+Lo/tOH8of8AEPcV/wA/4/cz9is0V+Ov/C9PiT/0UHxT/wCDu6/+Lre8H/tUfFHwfqCXMXjHUtTVTk2usTtdxv7YfkfhSWaU76pkVPD3Gxi3CtFv5r/M/W2ivLP2e/jlp3x28DprNtELHUIH8i/sd4Y28vpnuD1Fep168ZKceaOqPzLE4erhK0qFeNpRdmgooorQ5gooooAKKKKACiiigD85v+Ct2qTrcfDXTFO22K39y3+0wMAAr88q+/8A/grh/wAjD8N/+vW//wDQ4K+AK/auHopZbS+f5s+KzD/eZ/L8gooor6M88KKKKAPSvgD8Cdc/aA8dReHtJWe2tVV3u9UWze4hswI5HXzNv3fMaPalcdrngvxB4X18aHrGhajpetEoE067tXiucv8A6v5Cu7mvYP2HdeTQ/wBpbwost19ngvRdWm15tkbSyWk0cSn/AIE1eT+OvDPifwV4nm07xbaX2na7EqM8N9u80KV+Vq8xVav1ydJyXKoppdb3dzocY+xU0tbv9DuvjF+zR4u+DOh+HNX1PTNSlstU0qC+vLhtNlhi02eUsPskjn5fNXFcf4h+Efjfwn4fttd1rwlrWk6NPjZfXljLFFz0yStfWGpTyX2u/s0+P9X869+G2naNpdlq+qO/mWlveRXMynz/AHDVV+I2m+KfBenfFLVJ/hfrj6fr1lcW174k1TxSt1p9wryq0V1FmELI2VjaOvGo5liLxhOzd35dbW33R1zw0NZK9v8AgXvtt9x8w2vwX8e3fhA+KYvB2uy+HAvmHU1sJWgKf387fuf7VdZ4u/Zd8beD/hL4a8dXOj6s8GqrdTXdr/Zcy/2XDEyiOSd/4RLu3CveZ/BOt/FS1i1Txl4a8UfDfUbHww0S+M9N1JW0KS3gtMIsi/dXzNu3bHNXB+MLHxH48/Y0+G19oQvdUs/DV1rMevyW8mRaB5YZIvOrWOYVqk4Rul71n1VrOyvfyJeHjFN2b00+9eR8x0UUV9OecFFFFABXYfBjWp/Dvxg8E6lbMwltNbs5QF74nWuProvhv/yUTwv/ANhW1/8ARq1hiIqVKaezRUPiR/QGOgpaRfuilr+eT9DCiiigAooooAKKKKAOf8eXk2n+CfEF3ayGK5t9PuJopB/C6xMVP51/PzX9AXxI/wCSe+J/+wXdf+imr+f2v0jhD4a3yPms33h8/wBCRrWdbVLhoJEgZiqybflZhUdfY3gXwPp/xJ/Z1+AvhjVHuotO1bx1eWk72bqsqo2ejFTWB4s+BHwrvPAvxf8A+ESm8Sx+Ivh1cokt/qssT2+oA3DQsqoqqyDg19Qs2pczhOLTTt5b8qbPLeFlbmT6fpf8j5j0nR9R8QalBp+l2FxqeoTHbFaWcDSyyd+FXLNVWWJ4pXjkRklVtrK/ysrCvv34K/C34a/A/wDak+HPg2Q+Ir34gx2/22fVxPENO8yWzdjCseN2K+FvF/8AyNmt/wDX/P8A+htW+Fx6xVVwjG0Uk0+92192hFWg6UU29btfdb/Mq6Xo1/rl19l02yuNQudu7yLWNpW2/wC6KgurWezuHt7iKS3njbbJFKu1lb3U19V/s5/FLQdL+CN94M074hp8IfG02s/bZdeksmlXUbXy8LAZk5jw35Y961vEHwP8Q+OviVqWt/GLxSvibw/4f8HHxAuteGpEMutWMbN5SxylQuT3Zq5nmns60oVY2S23u/TSzNFhuaMXB3b+5fjf8D46or6rsv2ffhj428IfDnxR4bPiawtPFXjuDw3PZ6jeQO1tA+d+wiHlunetu9/Z7+CK2vxXjhn8ZBvhpfD+0Ljz7dvt8Zlli8iIeWNhDLt303nNBPlcXf021t+YlhJtXuv6V/yPjmpLW1n1C6gtbWCS4uZnEcUES7mkY8KoUfeY19jWv7Jfw68RePtIa1vvEGm+ENa8BSeMYoHkilurORSNyFtu2UYPT/8AXWN4E+F3w/8AEVr4H+I3w+/t7S/7E8aaVpGp6brs0U/neZOhS4jeNR60f2zQabSf+T6Jj+qTvq0fK2o6XeaPfz2OoWc1lfW7mOW2uo2SSNh/CVPzK1V6+3/GXwE0Hxp8T/jR478SQX2rWtl4rk0qz0aw1K300zzFRIzvPcfKoCmvmn9oL4b6P8LfiB/Zmg6mdU0a6s7e/tme4huJrfzBhoZmhYpvjaujCZlSxTVNfE0n5bJtfiRVw8qacuh5tX6h/wDBKLV5rr4Q+LdPkYtHa60JYgfSSFD/AEr8vK/TP/gkv/yTvx3/ANhWD/0QK8riZJ5dLya/M6st/wB5Xz/Is/8ABWK/nh+FvgyzRyILjV3eVB/FsiJH8zX5h1+mf/BWf/knXgT/ALCs/wD6INeI/s3nVdP/AGVdY1Lw9r3hXwlrQ8ZCBtY8Vx25tjAbIFoA00UnPp9DXDk2K+qZTCpFXbk1+JtjKftcXJX6fofHVFfZ3xC8EeAPjJrk+v3+uWUsPgvwvFdeNNW8E2sYTUr4y7I0tgypFu65k+gqX4K/AfQbP4j/AAT8R/D/AMZatap4ybXPJutS023knshbW7KV8pt8ROa9r+2KSpuU4tSS21tezdr27K5x/VJOdk7r/gpberPiyivoVf2ffCFj8H/APibUta1p/Evjlr2x0nTbO3i+zreRXXkqZnP3Yen511fxF/Yz0rw3oviGz0jV9SPijw+YBJLqjWsdhqxZ1jlFqqt5qFGb+Kuj+1sNdRb3dtuzs/xI+q1LX/rXX8j5Por7p+F3wr+H3wi+KnjnwppfiHXNT8baL4S1OHUWvLWKPT7h2tAXFvhvMXZXzl+yv4i8G+Ffi/Z6h45FummrbTLaXd5aNdW1pdlMQTTRDO8K1TDMlVjUlTi2opPzd+yCWHcXFSdru3oeR0V9m/Ej4f8AxP8AjtH4X0678U+BfHfh+916306HxV4btbcTaaXVgIpvLjR1Qq27bXEa58A/hdqHhf4oX3hLxL4ll1HwHCPOg1W1gSO9lMxh82Nk6RcVNPNqLivab+V3bWyvorDlhZJvl289PPufNNFfZWqfscfDjT/FvjHwm/jDxJFq3h3w+viie7bT4HtlsQkbSx7dwZptrViaB+yT4M8deKvh1J4f8T6zB4R8Y6PqWopJqdtF9rtZbPcrh9vy7SxoWc4R63f3Ptf8g+p1b2/XzsfKFFfU3gH4QeC76XwN8Q/h9rGuXdlpXjXS9I1Wy8QW0UUu6SVCk0XlMV2c13vxL/Zn0vxh8SPiJ438Sy61PY33i260uysfD7W/nJsGZbiRrhguB2VaiWcUI1OS2mvrddLDWEm43X9eZ8OxSvFKkkbsjK25WX7ytX9Bfg/UpNX8I6JqE5HnXVjBM/8AvNGrH9TX4PfFTwG3wx+ImveF/t8GrLplyYkvrf7k6feRxjPVa/df4b/8k98Mf9gu1/8ARK18rxZKNSnQqR2d/wBD1cpTjKpF+X6nSUUUV+dH0YUUUUAFFFFABRRRQAUUUUAUNcYro98RkEQSHI7fKa/Euv2z17/kB6h/17yf+gmvxMr5/NN4H7T4dfDiv+3P/bgoor2L4a6HoXhD4U6z8S9c0i38R3S6omiaRpd/n7J9oMXmvNKoxvVV/hrxYw5nY/WcViFhoKTV22kkure3/B8jx2ivWV+JGk+PtZ8PWN14B8N6PqH9rWu3UNDga2VoS+Hiki3FXzXa/F79n9tc+KXjz+xdc8Pw6rbz3OoQeF7d2W5+zIvmNjbH5att+bZurVUXJXizz5ZpGjVjSxUeRtN732aXS+mu7tbqfONFeg+LNFvtO+DfgPULjTdBistRudQNtf2cTrqE3lSKri5Y/KwG75dtJ8AvDGheLvitoWk+I5FGmzNI3kNP5K3UioxihMn8PmSKi1Hs3zKJ1vGQjh6mIa0hzXtr8Lafz0PP6K9y+JWsa3o2n6pYeLfgtovhu3uFaO0vLTSZ7J7WX+FknDbZa5uw+At7Pomj3WoeJNB0XVdchS60nR7+d1ubqJ2wjMwjKRK/8HmNTdJ3sjGnmVN01Uq+6ntZqV+v2b7de2+x5jRXpGv/AAH13w6fiCJ73Tpf+EJNuuoeXJJ++86Xy18rMdZdj8JNe1XR/B97YLDeN4ovbixsLSNm80SQtGG35XaqnzKn2c07WOiOOw0o86mrf/a8/wD6T73ocXRXsMn7N91cDWhpPjTwzrN3oNlcXuq2lnPP5lqIU3PtzEPN/u7lrKvvgXd6P4L07xHqviPQ9Pg1XTjf6bYvJK9zeNlh5SoI+tV7GfYxjmmEk0lPV6Ws7667Wvtr6a7HmdFerTfs76pbtcaWfEOhnxlb273UvhVJZWu1RYvMZN3l+U0wXrFurymolGUd0dVDFUcVf2Ur2/XZ+afRrR9AoooqDqP0M/4Jwyk/CnxHHuyqa2xUemYIv8K+t6+Rv+Cb3/JL/E//AGGT/wCiY6+ua+xwf8CJ/LfFH/I5xHr+iPhT/gpbcyfb/ANrvIg8q9l2j+9ugH9K+J6+0v8AgpX/AMhzwH/173n/AKHDXjXh34Z6d4n/AGb9JvrWzt08U6j48j0OHUZWZQsb2oIQ/wCzuNeBi4OpiJW6H7NwziqeDyLCymtJNr75S1Z4lRXtXiL9lfW/D2l+KnHiXw9qGreGYzc6jo9ncSGeG3HPm/NGBXRfBn9nPyvGXgG78Vat4ft31aWG+j8L6g7NdXNmx+8V27Tu7K1cqoVHJRtY+hqZ1gYUZVozul0V7vTm/LW+3mfOdFdL8ULC30v4l+LbOzgW3s7fVruGGCJdqxos7BVFey/s4/DrSvEXw78T69a+FrX4geMrG7jhtvD93d+SsduQCbjYGBfrUxpOpPlTOnFZhTwuFWKkrp27L4rWu20ktdW3Y+daK9u174Z3/wAT/ihZeHdH8AJ8MtVW0e41OG+nlFoiJybn513Im2svVv2c7618Pf29pXirw74h0V9Ut9IjurGeX5riXHBUxjbjIodGfRERzXDPlVSXLKSWm++i1jda9NdUeS0V7zf/ALIOvWM2u2R8V+FpdW0MrLqNkt7IjW1qfm+0OWjAUVSj/ZR8Q6h4v8NaNo+uaJqtt4isZ7/TNUhmmFtMIfvqcx7gear2FXsRHOsvkrqqrb9drc3btr5rVXPE6K9fvPgBd6Jo1l4ktNf0LxZpNrqNvZ6qukztI1k7vgCTco3Kc7dy11vxe+BcWtfHL4hJpculeEPB/h+S1N3f3OYbW182KLYgWNSWZ2o+rztcn+2cJ7RRUtLN37WcVa293zKytr0PnOiuq+JHw5v/AIaa5b2N5dWuoW15ax31jqVg2+C8t3+7Kma5WsGnFtM9elVhWgqlN3TNnwTq02heNNB1G2dlubPUILiJlbaysjqVr9qf4a/ErQ/+Q3p//XxH/wChV+2v8Ne9lm0j8Z8RIr2mFl1tL/20/G34y3s2pfF3xtcTMZJX1m8BA/67tXH17d4S8N6b4w/a8l0fV7RbzTbvxLeJPbuzBXHmy16tqHwl03W9N8eweI/hJF4B0nR9Pu7vT/E0Es6EyRNiIFZGKvvHNeZ7GVTmkn1P0KWb0MvjSw84v4YvRx2emibTe2yTZ8d0V7jp/wCyXrt9faHoz+KPDdj4r1SJbtPD91cyi5hgZchnxGRu2/w1NH8GdT8SeBfh1otnp/h+1vta1i/sotaEs5nmMUjhhP8Au8BB2rP6vUO6Wc4PTlnfv5K0nfXde69r7HhFFew/8M06l/bkuljxT4dnbT4Z59cuY7l2g0ZIiqt57bPvHsq+lMT9mnXtR8XaNpWj6tpOs6Tq1pLe23iCGdlslt4jtmd2ZQy+XU+xqdjX+1sF/wA/Ftfrtq/yV0t2tVpqeQ0V9EeJfhXoHhP9mPWtUtdS0HxTfL4lht4Nb0sFmWIwDdDuZQy//Xrzf4cfB+68e6HrGvXWtab4b8O6XJFBcanqm9gZZPuoqopah0ZJpdxUc0w9WlOttGMuXZ6vTpvq3a1r36Hn9FepeHvgLd6/eeI5v+Eq8P2vhnQvLW48SyTu1lIZP9UkeF3O5rXtf2UfFGoeJvDOh2utaDd3PiKxuL+ynt7iZoTDF/EW8v8AjzxQqNR7Ic81wVNtTqJW169ub8Fq1ukeLUV7Yv7Ltz/YdjrzeO/Ca+HpZzZXeq/a5fKtrsbT9nP7vcxpn/DKfiaLWPG9jeavomm/8IhJajULm8nkSFop0LJKreXxwO9V9XqdiP7YwOv71aevdR7d2lbzXc8Wor6e+Cn7PsOg/HrwDFrUmjeNPB2vwX0lpf2o860umjt5NylWUYZWrzLwd8BbzxV4fs9avvEWjeFbHVLqSz0j+1pHVr6VGwwTy1baoZtu5qPq87f15f5kLOcI5yjzaJRd+93NWtvdcjurafI9u/4Ju6lLH8QPFtiCPIm0yOcqOzJIo/8AatfoHXwF+wD4fv8Awp8cvG2j6nD9lv7DTZLaeHsGS4jGa+/a+kwF/YJM/CONHGWcTnDZxi/wFooor0T4UKKKKACiiigAooooA/Nj/grh/wAjD8N/+vW//wDQ4K+AK+//APgrh/yMPw3/AOvW/wD/AEOCvgCv2zh//kW0vn+bPisw/wB5n8vyQUUUV9CeeFFFFABT7i4lupTJM7Syt95mbc1dr8NfDHg3xK01v4l8Taxod80scNjbaXoQ1Jrot/23TDVf+PXwz0P4Q+OP+Ec0fxPL4nuLeENftJYrbG0nJ5tziV1Z171x/WKftvYa83o7feaezlyc/T1R539ol+ztDvbyN27y93y7qVrqeW3it2lkeCNi0cbN8q5+9ha+l9Y+HXwyg/ZB8PeIv7Yu7fW7jVLpRfLoStNcXS2oP2Iv5/ywhsYlzVSy/ZLsTrNj4KvvEuo2vxFvoY3jtU0UyaVDPJF5kdrLd7wwf/aVWVa5I5lhrNyurNrZ9NGzb6vPS2u34nzn9qna3W382TyFbcse75d397bSLcSwwyxq7IsmPMVW+Vsete06P8C/Dej/AAy0Txh488SavosGvXN1a2a6PpC3q2rQP5btdMZY9vzdI1rtvh78M/hXffs3+OtX1bxFdG6tdXtLZ9ah0ATTWYMkojWBWmVmWVVRm5/A9nUzHD002k3qls+9hRw85b2Wl916ny7RRRXrHMFFFFABXRfDf/konhf/ALCtr/6NWudrovhv/wAlE8L/APYVtf8A0atZVv4cvRlR+JH9Aa/dFLSL90UtfzufoYUUUUAFFFFABRRRQBzfxI/5J74n/wCwXdf+imr+f2v6AviR/wAk98T/APYLuv8A0U1fz+1+k8IbVvkfNZv8UPn+h6x4Q/aS8R+DPD/gbSLKw0uW18IazJrli06TFppn/hkxIMpzVG1+PniC1sfibbCz07y/iDIJdT3RyboWEzzfuP3nHzPXmtFfbfUsPdvl1f8Anf8AM8T209Nf6tb8j6N0T9uPxVo994f1mTwj4R1TxXo1utnH4kvrBzeyW6psCOySivKfGXxYu/Gng3QvD1xoWiWSaVcXdwuo2NoyXdy08rSMsr7juUbtoriKKmngcNSmp046/wBf5lSr1Jq0n/X9I9V+G3x7/wCEF8Mr4d1PwH4Q8aaQs0l1H/bunbrmF329J0YGttf2v/Gq/EJPEotND/s9dJOhL4WSy26R/Zx+9aeVu3bK8PoolgMNObnOF2wVepFJJ7Huupftc69c2fhaw07wt4Z0LSfDfiGPxJp1hptrLHGsyZ2o/wC+5HNc3J+0V4hkX4qgWOloPiLN52qfupf3Dec037j956t/Fury6ilHAYWL0h/V7/mDr1Hu/wCtvyPrX9nf9p7/AIqpbjxVdaToUHhn4e3fh/SJtrD7S6lDAsgZmy5x07/jXmmuftU67e6b4c0vRvC/hnwnpOj6vDrr2OiWjxRXt9F9158yFiteK0VjHK8NGo6lr36dC3ianKo3PbNP/av8Qp4k8X32saBoHiTQ/Fd//aWpeHNSt3ks/PH3ZYf3m9GFeZ+PvF48ceJJtWj0PSfDsUipGmm6JbeRbQqq4XCli271Zq5+iuulhKNGXPTjZ7GUqs5q0ncK/TP/AIJL/wDJO/Hf/YVg/wDRAr8zK/TP/gkv/wAk78d/9hWD/wBECvB4l/5F0/Vfmd2W/wC8x+f5B/wVo/5J34E/7Cs//og1+fkfxQ1OP4Rz/Dxbe0/seXWl103O1vtPnLA0O3O7bs2tX6B/8FaP+SdeBP8AsKz/APog1+ZlZ8O0oVMthzq9m380ysxk44mVuy/I774Q/GXVfg/qGrNZ2Gm61pesWZ0/U9H1aFpba8hLZ2nDBlYdmr0Sz/bU8U6T4g8Bapp3hjwvpsfgs6gNJsbKznjtlS7TY6sPO4r59or3qmBw1eTlUhdv/K35HBGtUgrRl/W53nib4z654m8A+BfCksVraWvg2S8m068tfMWdmuJVlLOxYrwy8ba6H4gftGXfxG068fU/BnhaHxVemM3niu1tJY9QdkZSrr+82JIdvLKteRUVf1HD3Xu7Xfzbuxe1nrrv+h9D3X7a/ia5utS1T/hEPCSeJNX02XStW11bCVbu/iaLywxxLtU8V4/8OvH1x8N/EQ1WHStH11Whe3l0/XrJbq2mRvvKUNcxRRTwWHpxlGEbJ6fIcq1STUpPVHtetftXeI2sdK0/wnoWg+ANN0/UYdX+y+HrQp9ou4vuyTM7MWqz4k/a21jXfDvi/R7TwZ4S0GPxbGBrVzpdlKs1zKJfM83cZj614XRWf9m4XT3NV/w+pX1ir/Me26p+1t4s1bxt4v8AE9xpej/2h4m8NyeGLyOOKYQx2zoql4/324SfLXcfsrftHWmh+Ofh9YeLrvT9F8O+D9K1i2s73ypGaRrvdJibr/EK+WqKzqZZhqlNw5bXW/yt+THHE1IyUr3/AOHuez6p+1HrU2m+HtN0Twz4b8J6XpOrwa/LYaPaSxRX95F9158yFtv+ytW/+Gstb1a78SDxH4X8N+KdH1rVW1w6PqlvK0Fndsu1ngZZQ614bRV/2dhv5P8AP7yfrFX+Y0vE2t/8JFr1/qn2Cx0r7VKZvsWnQ+VbQ5/hjT+ECv3w+G//ACT7wx/2C7X/ANFLX8/tf0BfDf8A5J74X/7Bdr/6JWvi+LoqMKMV0ue1lOspv0/U6Siiivzg+kCiiigAooooAKKKKACiiigDP17/AJAeof8AXvJ/6Ca/Eyv2z17/AJAeof8AXvJ/6Ca/Eyvn803gftPh18OK/wC3P/bgr1j4Y+MvDWqfD/Wfh14yvZtF0q8vo9W0/WorZrlbG8VPLbzIx8zRuteT0V4sZOLufrWJw8cVDkk2rNNNbprVNXv+Onc9UuPDfgX4f6jol5a+Po/E2pQ6rbTSJp2nSpbQ26tl2d3wzP8A7KrXTWfxM8Nx/tVeIvF76kB4eupNUMN8IJcMJbWaOL5du7lmrwWitFVtsranDLLY1FL21SUm4yjfRaSt2SXTT8T17WviZaWXwj+FFloeor/wknh251WW5ia23eT50sbRf6xdj5Wuf/4Tdvih4j06H4ga/JZaZCkyx3thpcW6FmX5WKRLHuXcsea4Gik6spPU2hl9Gmny/FeTUrLmXM3J2du7f6n0hofjLQ/hd4Z8TW9x8UW8f6fqmkT6fbeG4ILrymdxhJZPOULF5dZHiDVvBPxRTwl4l1HxeuhX2j6XZ6bqGiPZStcTNb/LutmRdm2Ra8GoRmVlZa0+sO1rHFHKIQn7VVJc7+17q0ta1lG3ztfzPrHx74k8Px/Fb49eDdd1ePw8viaW1FrqlxC8sEMsEqybZNmWUGuesfir4Q+FS/CBdF1f/hKn8K6rqU2pvBaSQhln8oFovNXpyP1rwTxX4p1Pxv4i1DXdZuftmqX8nm3E3lLHk/7qKFrKpvEO90v63OajkcPZQhWm9lzJW5W/Z+zb2v8AD5+Z9D+ET8N/hndeM72D4hR64da8O6lYabbwafdI0ZmjbYs7FfvVyXxI+IOk6lpHwmfSbpb288P6PHFewtGw8uZbhn2HK89K8loqHXfLypWO6nlcI1VWqVJSl527OPRLoz6q8W/F7T9e1rVPGGg/FCw8PQXe64XRpfDUb6lbyuvzRCURYb/rp5lfKtFFTUquo7s3wOX08vi403daLaK0W2qSb+d2FFFFYnpn6Ff8E3v+SX+J/wDsMn/0THX1zXyN/wAE3v8Akl/if/sMn/0THX1zX2GD/gRP5b4o/wCRziPX9EfB3/BSr/kN+A/+ve8/9DhrxPwL8ZtF8L/Cnw74cure8e/0/wAcW/iSVookaNrWONVZQxcHzPwr2z/gpV/yG/Af/Xvef+hw18W14OKqOniJNH7Pw1hKWMyHDQq7K7/8mke9L8efD8fjL4z6qbXUjb+NNNubPTh5Me6JpWyvmL5nFbulfHf4caprvw/8ZeI7PxJF4r8MWtrp72enLC9pciH7s+XYNXzRQ0bKqsyttb7rVzqvNHuzyTCSVtVpa6fTlUbfNJX89T0L4i+IvBXii11PVNLtdZi8Vahr11eStdbFtfsckjuihQxbzOlSfDO8+HEOmSQ+LZPE2l62tz5ltrHh94nWOPbjY6Mwrzu4t5bW4eGaJopY22tGy7WWmurL8rLWXtHzc1ju+px9h7GM5Jd76+np5ao+oZP2qPDdv4w8PQLp2vap4U07RLvQbq+1KZG1S6juCCZP7vGwYrn5vit8OfCfw3j8JeGF8SXoTxJa6215qMEA8xEADABZPavn5Y2ZWZVbav3morV4ib3PPhkeEhblukraX3abab87t9vwR9AXP7QHh2Xxt8ZdYW01IW3jPSprGwXyEDo7hQplG7ivRf2bfiZpfi7xl8J/D9nbXiXnhrRNYivPORVSYyKGHlsGr46qew1K60u4W4s7qa0nXKrJbyMjc/7QpxxMlK7MsVkOHrYeVKm2m1ZPt7jpr/yV/ee5H4rfD/wL8ONV8PeC7fX7i48RX1ldak2rrEFtYbeXzFji2sd7bq6pv2qNCvfiB8RZC2vaN4c8VTWdxb6lpqxLqFlLDGiZZGZkZHr5copLEz6bG0siwlTmdS8m923rvF3+XJG3Sy1vqd98ZvG9r408R2smn654g8QafZ2ot4rnxHs87duYtsWPKqlcDRRXNJubbZ7VCjHD040obL+uhd0P/kN6f/18R/8AoVftr/DX4laH/wAhvT/+viP/ANCr9tf4a97K9pH454ifHhf+3/8A20/JzTPGtl8Of2p77xJqUc81jp3iS8llS2RWl2+bL0UsK4Txp431LxVrOpSSalqFxp9xdyXEVtdTsyqpbK/LuK1N8WP+SpeMv+w1ef8Ao9q5WvHnN3celz9WwuFpWhiWve5Ir5LX9T6r0z9oj4Y3PxP8M/E/VrPxRF4rs7ZLW8061igezLLA8TTISwbFc/4Z/aJ8NaND8MFns9UY+GNc1DUr3EMZ3RTu5Xy/3nJ56V86UVp9ZqHnrh/B2s+ZpKy12VpJJeSU5fh2PZvhV8crHwR448Z3N4mpJonihZUe505lF/Z5l8yKVM/KzBjytdda/tGaB4e8eWUrav4u8Z+Gm06902+/tbyo5VW4CAtbqGIH3BXzXRULETSsjetkuErTc5p6qz+61+6aXZrzPbfFnxE+H2n/AAT1LwD4R/4SC6mutai1P7fq0EKK4WLaeI2OPyrN+BnxG0jwDDqQu/E/ifw3d3LDLaPa293a3CL/AAzRTMMtXklFT7aXMpW2Nf7Lo+wnh221N3bdm29O6t07H0bffHjwB4yuPH+g6roeoeHfCPiK7tr+0m0WGJp4JoQAzPFkJ+8xWto/7S3gbQfGHw9vLGw8QHR/DGhXekss8UBuHeRSFIxIF7V8uUVf1ipucksgwco8nvctrWvprHkb9XH/ADPTI/iXpa/s8r4F8q6/tgeKRrXm7B5PkC18rbu3Z319EN8SvCfxS0D9ofxVc2uqjwvqA8PxSKqRpdjafKyBuKhg4B/Cviup4r+6gtbi1huJora4x50KyMscm1sruX+LFOniJR31X/D/AOYYvJaOI96DcZc173/vwnK3ryK3Y+nPCv7SXgjwB4u+Gdjo1prVx4P8IJqEkt3cRRfbLy4uopBkR+YFChmrG+Hv7Qmiw/DPRPCmuav4n8LS6HLctbX/AIbEUn2yKWTzPLkRyNrBuhr51oo+s1P6+X+QSyHByWt76O97u6c3fVWu3OV9La7aH2f+wnrv/CTftAePNV+1X18t3p0kiXGpsr3LJ9oj2+Yw7196V+eX/BN//kqfib/sDf8AteOv0Nr6LAy5qKZ+H8aQVPN5QjsoxX4BRRRXonwoUUUUAFFFFABRRRQB+cf/AAVv02c33wzvwu622X8Bb+62YCP51+etfub+0d8BdJ/aK+Gl54Y1CX7HcqwudPvVXcbW5UMFb3HJBX0r8k/iN+yH8Wfhrq0tnf8AgrVdRhUkJfaPbSXdvL7gpyPxr9V4bzKh9VWGnK0o/jr0Plcyw1T2rqxV0zx6iuz/AOFJ/EP/AKEPxN/4J7n/AON0f8KT+If/AEIfib/wT3P/AMbr7H6zR/nX3o8f2c+xxlFdn/wpP4h/9CH4m/8ABPc//G6P+FJ/EP8A6EPxN/4J7n/43R9Zo/zr70Hs59jtv2cPiB4F+Gc+vav4gm1y08VtALfRdR0rT4btdP38SzKssqYm/hRq4D4hL4RXVopPCOq67q9tIhkuZtdsoreXzS3by5ZNwqz/AMKT+If/AEIfib/wT3P/AMbo/wCFJ/EP/oQ/E3/gnuf/AI3XFGNCNZ11U1fS6saPncFDl29TsfD/AMSPCOrfs8z+AfE8utWGq6VqlzrOi3emW8UsMsklusfky7pFZR5i7ty16V4g/aa8M/EWZfE+s+Nvid4Y1xoIFvNA8OXamxnlRFRpIJTKPKVtu4qy14J/wpP4h/8AQh+Jv/BPc/8Axuj/AIUn8Q/+hD8Tf+Ce5/8Ajdc0sLg5S5+frfdaX3+81VWslbl/B9Nj074HfGDw18OLG1vZPHXjzQ75LhrjU9F0+2gutP1X5+m2SVVXK+WpaRWpvhP4yeBdW0n4p+GfE9hqnhzw14u1eLWdP/4R+3imbTmilkcQ7GaNSm2TbXmf/Ck/iH/0Ifib/wAE9z/8bo/4Un8Q/wDoQ/E3/gnuf/jdOWGwkpSm6mr81pZ6AqlVJLl29TjKK7P/AIUn8Q/+hD8Tf+Ce5/8AjdH/AApP4h/9CH4m/wDBPc//ABuvU+sUf5196Ob2c+xxlFdn/wAKT+If/Qh+Jv8AwT3P/wAbo/4Un8Q/+hD8Tf8Agnuf/jdP6zR/nX3oPZz7HGV13we0mbXfiz4K061G6a61uzhT/eadat2XwH+JWpXa21v8PfE8kz9FXR7j/wCN197fsOfsPap8NfEEPj7x/AttrsCsNL0cOHNruXa0sp/vV5OZZph8Lh5PnTk1ojqw2FqVqiSWnU+9h0FLRRX4efcBRRRQAUUUUAFFFFAHN/Ej/knvif8A7Bd1/wCimr+f2v6AviR/yT3xP/2C7r/0U1fz+1+k8IbVvkfNZv8AFD5/odXcfCPxva+EV8VTeEtai8MtEs66s1jKtr5bNgN5u3G0sR+ddJ8BfiRrvhPxloei6e9j/Z+qatax3cd1plrdeYpdUZd0sbMteft4g1SXTf7PbUrx9P2hfsjTt5O0Nn7tTeEtc/4RnxVo2seR9o/s+9gvPI3bfM8t1fbur7idOdSnKNWzvtp9x4kZKMk4XR9BfFL+2fi54k+MWhtqen2sXgi8vNR03R7XRbWBp7WC6aKUebEqv+7hbdXL3n7Kusw2fwxa31Bbq78YXUVnc2qwndpUsqxzRCT6wSRzVzuhfGs6L8er74iDS/Os7/U7y6vNHM3yzW100gmty+3vHI67q67Sv2tNU0zWviPqbaPHPL4nZ5tLLTbRok3lSW0Usfy/MY7aZ4xXjqnjaKUKK0SXbe1rfqdfNRqXdR6/pv8A8ApL8F/A/h/S5/EHinxpqNv4bvtWvNK0GbSdKS4ub5bdlD3boZwqRjdXAfEz4bXfwz+IF54Ynu4b4R+U9tfRKwjuLeZFkhl2n5lzHJXS+E/iv4bk8A2HhDx34ZvvEGm6Pc3F9pU+k6itlPCZlXzYnYxSb43aOuX+KnxEu/ir44v/ABHd2kNj5wihgsbdmaO3t4oliiiDH72I1rsoRxaqtVHdWfa3la2u25lUdLk93f5/O/6H0b4uv/E/gH4wX/wi+F1l4Z02y0GFIbmTV7XTy2rSCON5Zbie79W6IK4Q/AezuLr4ka98RdTj8Br4a1W1gvNH8P2C3as10JmWK3xMFXG2s3VvjR4G+I32fVfiJ4J1TVfF0NvHDPq2ia0toupeWqojTxNBJtfb1ZarfEH9og+P7H4kwzaEtlL4w1fT9TVlu9y2i2yTLs+78+d9cFOji4+7CPK7K8tNXdXd7u+lzeU6UtW7rWy17O36dTcsf2evCK6j4a8Oar411DTfFviyGG60a2/shXtoUuG/0Nbt/N3I0q+X91W2V5/40+E83gn4faDr95eH7ffatqWlz6d5f/Hq9p5Ksd+75stLXbaJ+0H4dWTwpr/iHwZdav458J21ta6Zexan5FlMtt/x7tdQeWWZo/8AZZd1Z+m/HLQdc8GpoXj/AMLXfieSz1W81qwuLHU1st01z5fmxTr5TZjLR7vl2tW8XjoSvJNpb7ee3lsZy9hJWWnbfy3/ABOh1X9mPw/4VuviXJ4i8aXNppHgi/0+ykltdJWWe9+1Ix/doZgqsMV5z8V/hrYeCIvD2saDq8mu+FPENtJdabe3Nv8AZ7lfLlaKWKaLc2HRlr3JfjN4b+IHgb42+KvEnh1n03Xde0Mto8GpLFcRqsVwN0Evl/eGP514b8V/ibYeOovD2j6Fo0nh/wALeHbaS102ynuPtE/7yVpZZZpdq7ndmpYOeMnVtUvZPW9rfCn63uOtGio+78t+7/Q8/r9M/wDgkv8A8k78d/8AYVg/9ECvzMr9M/8Agkv/AMk78d/9hWD/ANECubiX/kXT9V+Zplv+8x+f5B/wVo/5J34E/wCwrP8A+iDX58eF/hP4w8beH7/XNB8PX2paRYs63N3Au6OFlXe2a/Qf/grR/wAk78Cf9hWf/wBEGvzMqOHVJ5ZDkdnd/mVmFvrLv5fke7fsq6Da65J8R2ktNCnv7Pwy89jN4kht5LS2m+12q+a3nqYx8rd66fxJ8PPDnj7TNBsdQ1fwnpvifTYNS1TX9U8GwxS2selwxRmLdHBtie5Mm9Qq14T4N+IV/wCCdN8VWVlBazR+ItLbSrpp1YtHGZo5dyYYfNuhpvw8+IGofDfxA2qWEFrerNaz2N1Y38bPBdW8qbJYpFDBtpWvRqYWu6060ZWfT7rHNGrBQjFr1+89w+HPwT0C7vPD3iHwt4hbU9P1uHxBbx2+v6BFK1r9k07zCsiecVZz5nDVi2v7NOj32peDdCg8V3kviTxFo0HiFo10r/RrGzNq1xLlvO3SyBVk2Kq1k2P7TWqaLHodtofhbQdH03RV1RbS0t1uX/4/rdbeXe0kxZmH3hWB/wAL28QxeL/C/iKGCxiu9B0eDQooPLZobq1jgaFlmUt83mRtIrVhGjmHM25W0fbe7tctzoWSt+flf9Ttbj9mO1vL7SLq01jUtJ8PzQ31xqTeINLW3v7GKzg8+WUW6zN5quv+r2tVLx9oXhOw/Zz0K98LXd1qVvceKr1TPqNglvew4s7f90+2SRWWudsvjUvh/wARafqvhzwZoHh5bdLiG5soPtU8WoQzp5csM/nSszRFao+Nvi5J4s8G6d4VsfDWi+G9Bsb+XUYrfTPPZvNlRUbe80sjN92toU8ZKpD2j91ennvYlzpKL5d/n5G74+8JeCNJ+CXw/wBY0u41T/hItUW7afzbJFimZJVD7n887VT7qbV+atO3+GPhbxH8FvAb6RLff8Jpr3iK50mF5bUCGacixURSv5/yxJ5oZZFX16d/P7z4jS6l8NdO8IXmkafcLptzNcafqjeat3arKymWLiQIyFl/iWrvh/4wal4f8D2/hyGxsZX0/VhrOkas3mrd6ZdHyw7R4YKyt5MeVkVq0nSxPKuVu6k+22tvkSp07u60sv0PSdc/ZZtLe5trTT/EN9ZNDrFro99deItL+wWzefL5f2m2bzGZ41bqrbWrT8M/ATwfoPxm8N+HvEEfjCO2vIrktZa94dWzMzxxZDhhc/NCa8u8RfGCy8QX/wDaDfD3wpaahNerfXk0Ud1tun6spQzlUR+6xqtayftIappt54RbQfD+i6Fpvhq8lv7bS4vtFxFNLKqpL5jTyyPsKrt2q1c7p45pLmeqfbf1NFKgne35nmGsLp0WqXC6TcXV3pqt+4nvIFglZfdFZlX/AL6qlV7XtRtdW1i6vLPS7fRbaZ90en2rSvFCvoGlZn/76aqNe/Tvyq5wPcK/oC+G/wDyT3wx/wBgu1/9FLX8/tf0BfDf/knvhj/sF2v/AKKWvz3i/aj8z6DKPin8jpKKKK/Nj6UKKKKACiiigAooooAKKKKAM/Xv+QHqH/XvJ/6Ca/Eyv2z17/kB6h/17yf+gmvxMr5/NN4H7T4dfDiv+3P/AG4K0dN8M6vrlu02n6TfahErbWktbZ5VVv7u4VnVs6D438R+F4Ht9F8QappUEj+ZJHYXssCs394qrCvDVr6n6/V9py/urX89jLWJorpY5EZGV9rKy19i/tF+HdJ+DvxM8QfEfUtNg13UtUu1g8Pab5e6xtZI4I91xcnozj+CKvjprp57priZ2llZ/MkZm3MzFss1e7eLv2kLHXPi14v1H+zZ9X+HvieSEXmhaiFSVtkSp5sWGPlTDbw1dVGUFCSe7f8AmfO5lhsTWxNKVNXioz5ktOa7h7qfRuz9Umrq9zyS4sPFHjy/vNaay1LW57qUtPdxWzy7n/Ba91+F82syfB3Rbf4U3+jWXjH7XdHxBBPJbxalcfMv2ZYWn6xbf4Vrxq58dah4Vvrux8FeK/Elp4d80yW6NO1m+D/fSKQrmtXwrH8LNQ0C1h8RTeJ9D12Hd5t3p8MF3a3HzZVtjFGRqVNpS/r8zTG0Z1qMVKPupppKLlpZ6ThpdK+y2aT6Fb40XXi6bxcsPjfR4dI8RW9usc+yyS1a6/uzP5eFdj/eWuDr0X4xfEnTPHH/AAjWlaFbX0OieHdOFhaz6oytd3GSzM8m35V+ZuFrzqsqlufQ9TAKaw0FOHI+y2XbTp3td22voFFFFZHeFFFFABRRRQAUUUUAfoV/wTe/5Jf4n/7DJ/8ARMdfXNfI3/BN7/kl/if/ALDJ/wDRMdfXNfYYP+BE/lvij/kc4j1/RHwd/wAFK/8AkOeA/wDr3vP/AEOGvkrwl4Pn8YXU9vDqWk6Y0KeZu1a/is42/wBkNIw3NX1r/wAFK/8AkOeA/wDr3vP/AEOGvi2vnsZb6xK5+38KRlLIqCg7O0td/tSPS/gT4P03W/jz4a0HWhb31j/aLRyhWWWC5ZNxVFYfeSRlqTXvjt498VTXulazqhk064n2vpTW0fkWn73pEm391ivNLW6ns7qK4t5ZLeeFxJHJE21lYcqwYV3mu/Hvxn4i0y7sry/tNt7tW7ubXTLWC5usNnbLKkYd6whUShY9uvg51MSqzjGasl732Wm23HR738tkevfHTwh4Q8X+PPjC1nBqlt4k8P7tWkvprlGtrj99HG8Ii2Blx5nDbq474v8Aw3vdc+MHjKP/AISjTXaxmiha58TatBbXNx+6X12bq88vPih4l1DVvFGp3F+r33iSI2+pyeTEPORnWRlA27U+aOP7tZXirxRqXjTxBea5rFx9r1O8YNPP5apuYLj7q4WrnVhK+nX/ADOLBZfisNyRdRWjG3WVtIXte2l4y69Vp2+h/AnxBl8SaB4P8NeCvHkXgLVoLSOxk8PX+nt9k1O93sfNMqq6nzd33Za5yy+E3hfRV8GWPjK21iXxD4vv5oWbS5YoIdL2XjW23yvLPmnctcRonx68ZeH9PsbSzvLHfYoI7K7uNKtZbu1QfdWOdoy64qXwD8dfEnhC40u1mvVu9Ktb4Xn+kWUFxcw7nV5WglkUujP/ALLVftYOykczy7GUXOVCyTd9H7z+L7Sgnu07PmvZq9t+j8Y/BfQ/D954eit7i+db/wAX6loUvmyr8tvBPDHGwwv39r1c8QfCrwR4D+XWl1zUv7W17UtH09rO5jRrOG1uVi811MZ81zu+7XP337QviLSfE3iO58N3UMOlX+u3GtWUeo6db3EtrLJLlXjMit5T7eu2sax+OnjLT/7RMeo28v229k1JvtVhbz+TdSHLzQ+ZGfKc/wB6OlzUb7GsMNmk4x556L+803e71tHTlutr3tbZnonj/wCEfgT4Z6X4sv7uHWtWex8TXOg6farfRxKAtssiyyN5PZmqX4jfAfwh4I0HXLGTXLO38Q6PaJMty2u2zyX1xtUyQ/YQu+L70myvIvFfxO8R+NLa8t9Y1BbmG71NtXmQQRx5uXjWMvwo/hWrmqfGTxVrnh9tHvrqzu4GhS1ku5dOt2u5Il+6hufL81gNtJ1KWug6eCzGKpOVa7T97V+VraeT0a1vrsrcVRRRXGfVF3Q/+Q3p/wD18R/+hV+2v8NfiVof/Ib0/wD6+I//AEKv21/hr38r2kfiviJ8eF/7f/8AbT8Z/ix/yVLxl/2Grz/0e1crXVfFj/kqXjL/ALDV5/6PaovA/j688B3F3NZafpN+blFjZdX02G8C4/uiRTtrxZW53c/XKMpxwsHTV3ZaXt0XXUzPC+h/8JN4m0jSftUdl/aF3Da/aZfuw73VN5/2RXqfxC0r4f8AgzU9Y8MXfgvxRpV1ZGWC21ye/XzbiVOFc27RBfKdl/havLp9Ri8QeJ3vtU8vT4Ly7865bTrRQsKO+X8uIYXjste+6L44sfCWiX8WufFqPx/4Uks7i2g8MNbXUs07tFiHcs8eLfYxRtytWtJRaaPLzCVWE4TSb0+GPMtdPtRTTfS0rLrpqeb6t8Kr3XvEHh7SfDegXVlPdeH7fVJ/t9/E8bKVy90ZeFijP91qhl+AXjT7RpMcNjaX0Or3w06wurPUraW3uZiu75JBJXosPxM8ManN/Y0+oTQaVqfgOw0K81e1tJJW0+4hMbfOvDNFuXa+2up8D6t4Y+HPgP4ZXf8AwkH2/QrLxxNc3GqvaSwxEi2j3GNCu9lFaqlTk9zzJ5jjsPBJQ16Jxk7+63e997q3LvbXqreC+KPg14o8I+H31nULaza0ilWG5W1v4LiWzlb7qTpGxaInb/FXEV6h4S8ZaRYfCX4saTeXu3Vdcl01rGNlZmm8q6Z5a8vrlqRirOJ9Lg6leXtI11rF2TSaTXLF9W9m2t+gUUUVkegFFFFABRRRQB9bf8E3/wDkqXib/sDf+146/Q2vzy/4Jv8A/JUvE3/YG/8Aa8dfobX1eX/wEfzfxv8A8jmfpH8gooor0j4IKKKKACiiigAooooAKSlooATaPSjaPSlooATaPSjaPSlooATaPSjaPSlooATA9KNo9KWigBNo9KNo9KWigBNo9KNo9KWigBNo9KNo9KWigBMD0paKKACiiigAooooAKKKKACiiigDm/iR/wAk98T/APYLuv8A0U1fz+1/QF8SP+Se+J/+wXdf+imr+f2v0nhDat8j5rN/ih8/0CpLeznulnaGCSVYU8yXylZvLTpuP91a7i8+GemWvw/XxIvj/wANXF80SSf8I/E91/aCszKPL2mLZuH3vvV6b+y74o07RvA/xeS78L6XrLW/hp7uR72S5BuYvtVsn2aTy5VHld+MHgdsg/a1sYqdN1IRbs0u27t1PGhS5pcsnY+erOznv7qK1tYJLi5mYLHFEu6RmP8ACFFR17v+xvrtjb/tQeEXl8P6fcJfamscCStPt09i+VeHD9R90eZXR+F/D3gzVvBPiH4kX2j+DtDnbXE0Gx0rWZNUbS4NsHmyyssTSytLJ2Vm21hWzD2FV05QbSSelnu3oVCj7SPMn3/Cx8y1Nb2dxdRTzQwSSxW6+ZKyqzLGpbG4/wB1dzV9IaRovwcXxl4mk0vUPDN1dNp1lcaNZa9Pfpokd23/AB/Rebtjlbb/AMs/MrrvD0ll8PfC3xvs9Q+GPh238jStO1P7JDqF1dW11by3FoFCypcZMBY+cmMH8MisqmZqO0HfTey3aXXtctYe+8l189r/AOR8d0U+4lWW4eRYlt1Ziyxru2r/ALIzlqZXtnGFFFFABRRRQAV+mf8AwSX/AOSd+O/+wrB/6IFfmZX6Z/8ABJf/AJJ347/7CsH/AKIFfK8Tf8i6fqvzPTy3/eY/P8g/4Kz/APJOvAn/AGFZ/wD0Qa/Myv0z/wCCs/8AyTrwJ/2FZ/8A0Qa/Mynw1/yLoer/ADDMv95fy/IKKKK+pPMCiiigAooooAKKKKACiiigAooopgFf0BfDf/knvhj/ALBdr/6KWv5/a/oC+G//ACT3wx/2C7X/ANFLX5zxftR+Z9BlHxT+R0lFFFfm59KFFFFABRRRQAUUUUAFFFFAGfr3/ID1D/r3k/8AQTX4mV+2evf8gPUP+veT/wBBNfiZXz+abwP2nw6+HFf9uf8AtwUUV1ng/wCHMvjKwluo/EPh3R/Ll8vyNZ1RLWRu+4K33lrw0m3ZH6/Vqwox56jsjk69auv2UPiva7vM8ITbl/5Zrd2zyf8AfIkry6W3+x6k1v5scvky+X5kTbo2w33g38S19dfFb4d+DfGH7Wl9BdfEC40XXJ9QtdunrpTH96Io9kST+YFDPXRSpKabZ4OZZhUwtSEabSTjOTfJKfw8vSLVvi1bPkC6tZbO4lt7iKS3nhcxyRyrtZWHDKVNR19BeJLLTfiNa/tBeMNX0J7DW9NurI2UMk7F7J3vDFKG2fKzcVD8Ofhj4a1qx+CUl/pguH8R69f2mpt50o+1QxvCIxww243U/YNuyf8AVzRZtCFJzqwaa0aVnr7P2js766aev3ngdFfQcGk+A/GEfxJ8L2Pg2PRZPDOmXmpabra3c8t3M9tKo2zZbZh1q34R8F+HNS8C+HB4U8HaJ8Qb2eyaTXYLrWHttXjudzDy7eISpwq9GWNt1CoNvRilnFOnG86clqlryrRq6bfNZXXd76HznFE9xKsccbPKzKqqq7mZjUt/YXWl3ktnfW81pcwttkguI2SSNv7pU11PwnvrbR/iZoL3+kxanGb6KL7LcySxBGL4VvkYHcle9+MPCnh74oftJeOra80Sy0y38ORahqN9ImoSQHVmjKKvmvI5WJdzctGBUxpc8bp63NcVmX1Ov7OpB8nK5N6dGlbfz+/yvb5Uor37xd4T8CX2g6Tqepv4a8M30es29re2vhPWPtyzae+7zZthklZZY6s/Erw/pHh+xvdX0z4beG9Z8HaffRfZNc0XW5rgND5gCrd7JywMn+7HR7B732IjnFOUox9m7y0+ytdNLuSTbvsmzwHUtLvdJuFhvrO4sp2QSLHcRsjMrcq20/wmq1fQf7ZGt6ZdeObOwg8O2tpfLp1hO2qpNMZmja2BWAqzmPav+c9a+fKzqRVObitTty/FSxuFhiJR5XJJ20/T/hwooorM9E/Qr/gm9/yS/wAT/wDYZP8A6Jjr65r5G/4Jvf8AJL/E/wD2GT/6Jjr65r7DB/wIn8t8Uf8AI5xHr+iPg7/gpX/yHPAf/Xvef+hw18W19pf8FK/+Q54D/wCve8/9Dhr5K8Jap4f0u6nk8QaDca7AybY47e/+x+W397d5b7q+dxmuIlrY/b+E5OGRUHGN3aWit/M+7S/ETwP4RvfiB4u0rw5pzwpfajcC3ga6bCKx9WGav+G/hjr/AIm+I0Xge2tdniB7x7Jo5GwsLo2JGcr2TbuNdD8BtY0vTvj94U1J3j0fSI9WWYNeTri3jz915GxXr/hf4heG7PxB4e+IK6rZ2/ivXr6w0bUIfNVfsqxTr9svX/uiWFYP+/k9RSpQkrt9T0MdmGJw9WUKULpwVtL2m+be3RJXfp5nzBeaTdWd5e27RNK1m5jlaJWZVw2Kgis7i4l8uOCR25+VFZm4+9X1D4Y8TXMmh+HP+ES8XaT4ftLHXb6fxPDPqcVr9qVrjckrozBrqLyflCrR8Tvi5c+G9L1Z/C3ipLK7ufiHq1zI+m3imWS2Kw7DlGz5Zp+xja/MZxzavKqqMaSbd1u1az6+67Xtdb6NHy7b2s90yrDBJK392Jd1R19R/Fj4oL4O8P8Ai5PA3iS202e48e3NwjaNdqsrW5tovmVo2/1ZkrhfjJ4j8Df8La8cSyaH/wAJAl5d+daX2l6stvAu6NSzbVjdZPmqJUoxvqdOFzKtiLN0Wk02rPXTl3vZfa79GeLUUUVzH0AUUUUAFFFFAF3Q/wDkN6f/ANfEf/oVftr/AA1+JWh/8hvT/wDr4j/9Cr9tf4a9/K9pH4r4ifHhf+3/AP20/Gf4sf8AJUvGX/YavP8A0e1crXVfFj/kqXjL/sNXn/o9q5eK3luP9WjP/ururw5/Ez9gwv8Au9P0X5IbRWn4ZvLXRvE2m3WpWS6hY29zHJc2Mv3Zog3zofqte3aP8KfDnhf46eLJNftxeeAfDcB1bZ0W6tptos4/x85KcablsYYrHQwramm9G1brZpWXndpL1PFPC/i3WfBerLqWh6jcaZfKhj8+3bbuU/eU/wB5TVjxh4+8Q+PLi1k17VJtTa1QxwK21Y4VPLbEGFWvS7X4Zab4H8WfFGTXLddQ0rwrayx2atu23FxcN5dif++W86teHwdYpofiOS98PaPbyR/Dq01K1ay3y/O9xb/6Q3mfdmKtztrVUp2auedPH4X2irRhd+6lKyv71tE99pJv1Pn+ivRvEHwb/wCEV0d31bxZodl4gjtY7xvD0rT/AGlUdPMVWYR+Usu1vubq0Lj9nvUbeO4sP+Eh0d/GNrafbpvCqNL9rWIReYy7vL8ppQvzGPdWfspnof2lhbKXPo/J/fttqve213PKaK9K034C65rK6XfWt/pr+Hryxk1CTxA0jraWaRf61JmK7llRvl21J4f+Br6ppel3GoeK9D8O3Otbv7GtNR89ZL5d7Ir7ljKxIWXaGko9lPsEsywsU3z7drvv0Xazv2SuzzGivT9L+A93/YU2s+IfEekeELKDVrjRp01RpWlW6hVSV2RRtu+9XHePPBd/8O/Ft/4f1RoXvLNk/eW7bo5FZVdHRj/CVak6coq7NaWMw9abp05Xev4WvZ7O11t3XcwaKKKzO0+tv+Cb/wDyVLxN/wBgb/2vHX6G1+eX/BN//kqXib/sDf8AteOv0Nr6vL/4CP5v43/5HM/SP5BRRRXpHwQUUUUAFFFFABRRRQAUUUUAFFFFABRRRQAUUUUAFFFFABRRRQAUUUUAFFFFABRRRQAUUUUAFFFFABRRRQAUUUUAc38SP+Se+J/+wXdf+imr+f2v6AviR/yT3xP/ANgu6/8ARTV/P7X6TwhtW+R81m/xQ+f6BXT/AA9+JWvfC7Wp9T0GW3SW4t3s7m2vLWK6trqFvvRSRSqVZa5iuq8CeFfDniT7b/b3jWz8IeTs8r7VYXV19ozu3Y8mNtuK+9rcnI/aK6+/8EeDHm5vddn9xmaX4u1bRPFcHiTTboadrFvdi9huLZFiEUgbdlFHyiu3tf2jPGdnr2papG2jbNUWNb3S20S0bT7jZ91jamPyt/8AtfeqL4vfB21+FumeF7238VWXiJNftnvoI4Laa2lS3BwkrpKoZVk/eba5jVPh/q+k+CdH8V3USLpGq3NxbWr7/mLQ+Xv3L/Cv75Pyrl/2XERjNpa6a+XTX0Nf3tNtX21Ohs/j14rtfEGp6rIui6g2pLCtzaXmh2ctoyxcRKIDFsTZ/s06w/aD8c2fjDUfEj6nb3t7qVoun3tvd2EM1nLapt2Qm3aPytieWmBtrgJbO4t7eK4kgkSCbPlyMrKrY9Go+wXX2eK4+zzeRM5jjk2ttkYfwhq0eGw/WK7dCfa1OjY26uJL26luJNvmyOZG2qqruP8Asio66Hx74A1j4c68NI1qFY7tra3udsL7l2TQrKn/AI7JXPV1QlGUU4O6Zm04uzCiiirEFFFFABX6Z/8ABJf/AJJ347/7CsH/AKIFfmZX6Z/8El/+Sd+O/wDsKwf+iBXyvE3/ACLp+q/M9PLf95j8/wAg/wCCs/8AyTrwJ/2FZ/8A0Qa/Myv0z/4Kz/8AJOvAn/YVn/8ARBr8zKfDX/Iuh6v8wzL/AHl/L8gooor6k8wKKKKACiiigAooooAKKKKACiiimAV/QF8N/wDknvhj/sF2v/opa/n9r+gL4b/8k98Mf9gu1/8ARS1+c8X7UfmfQZR8U/kdJRRRX5ufShRRRQAUUUUAFFFFABRRRQBn69/yA9Q/695P/QTX4mV+2evf8gPUP+veT/0E1+JlfP5pvA/afDr4cV/25/7cFFFFeEfsgK21lauq8ffErVviF8QL3xjdLDY6tdSxzn7ArJHG6KqqybmLfw1yqruZVr3jxZ+zz4M8I+L7jwnf/Fe3t/EUcscBtpdAuPK3vtZcyoxranGck7bHl4rEYbD1YusnzNStaMpae7zfCnp8N7nOxftEau3jTxNr19oWh6hbeJYo4dZ0eWBxaXOzad/Em5X3Luouf2jNabUvBlzaaJommW3hG9mvNL0+yt5FhUyspKP+83EbkNc5rXw7i8Jt4wsPEOsw6X4l0K4ht4NJSF5f7QJfD7JR8qKi/N833q5CG1nlWVo4JHWNd0jKv3V96pzqrRswp4LL6y54QTSSXW1nGyt0fuu1100vpY6nQ/iXqmg6t4q1C3gs3n8RWV1p92sqttjS4bLtHhvvVveFfjd/wiC6XdWXgvw1/b+lqos9b8iZZ0K/xsglETv/ALTLXnFraz3kqw28ElxK33Y4l3NUdQpzWx11MHhqt4yjva+rXS2tultLbMn+33C3/wBu81vtnm+d5n8W/dndXp2s/tEa1qXja28WWujaLpWstDJDqTWts7Q6ssi7HW5RmKspWvL/ALHcJLBG1vJumVWiXa26RT93FbHhfQdL1S/v7fXNcXw4tvaSzRSS2ks/nTJ92Hav3WP95qIynHRaBiKGHqLnqxvZNdXo9GrLdf8ADnReIvipaax/Z32DwN4X0JbW6jvJFtbR3+0On8L+bI37o946k1z4xNfeF9T0PRvCuieFrbVhENTk0xZt1z5b+Yq/vZZNi7l+6tcBFaz3CyyRxSOsa7pGVdyr9a7TwJ8OI/GHhHxzrMl7JaP4csYrtYFj3edvlWPa1UpTk7IwqUMJh4KdRaRa6t6tq19XfW1r7bjvH3xYufiJoOjWep6NpKappsMNq2uW8Trd3UMSbYkk+bZxXC0UVi25O73PRo0aeHh7OkrLsFFFFI2P0K/4Jvf8kv8AE/8A2GT/AOiY6+ua+Rv+Cb3/ACS/xP8A9hk/+iY6+ua+wwf8CJ/LfFH/ACOcR6/oj4O/4KV/8hvwH/173n/ocNfIel+FdW1zRtZ1SxtGuLHR0jkvpFZf3KO+xW2/eZd1fXn/AAUr/wCQ54D/AOve8/8AQ4a+eP2e9Wtbf4hpoeoMqaV4otpdBu2b+FbhcI//AAGby2rwMWlLEtPqftHDdWdDh2lVpq7ipP5Kbb+dr28zjLjwhrNr4VtfE01hImiXV09nFe/LtaVFyy1p3nwt8R6b4butcurJbext7ezvJN0yeZ5V0zCBto9fLr6IsdH0/wAYeJLv4CSX0MVlpdhaJbXm5Qi6lbSNLfOv1Wa7WsKL4pNqXh/43eKtPtbOWL7dpEOlx3lss8NvbxyTxwfupMq2I1rP2MFuzt/tbE1NIQW8XrfWM5RUPRtOV97OOx8+6X4Zv9Z0nV9UtUjez0lI5LtmnRGVXfYuFLbn+b+7VfWdGv8Aw/fvY6lZzafdxqjNBcLskVWVXXK+6tX0t4ttdNsPDPijxZb6Ho8WryeGvDWtf8g6JoFu5bhfNdIipRQ/da6fx3dXreLvHuv6j4c0m+0uDwhDfaDfXuiwPDcMWsd0ofZiXYzfgMAcUfV1bccc7m5/AuV+dne1PRdH8flovLX42or648I6LoXi648LeJNU0m1PibU/CN5dW9vp2mWzfbLyK9aJWjtTiJ5vJqlrfh3RfF/iZ/A03ha60LxJ4i0PfaXms6XbadPJqMMsjxNshysSyr5kb0fV3a9zX+3oc7hKm/dvza7WbUn5pWeu/Sx8qUV3nxul0i38cy6LoMFumlaDDHpMdzbxqn2x4uJbh/7zPJ5jbq4OuOSs7XPoqFX21KNS1rq9gooopG4UUUUAXdD/AOQ3p/8A18R/+hV+2v8ADX4laH/yG9P/AOviP/0Kv21/hr38r2kfiviJ8eF/7f8A/bT8Z/ix/wAlS8Zf9hq8/wDR7VX8G/EbxN8Pbi5n8M63d6NLcKscxtJNhkUVY+LH/JUvGX/YavP/AEe1crXhybU207H65Qpwq4WEKkU00tHqtkWtW1a817VLzUtQuZLu+vJXmnnlbc0js2WY16h4w+NNp4j+C+geFYbKSLxBH5dvquoMq7bq1tvM+xoG9lmryWiiNSSvYqrhKNZ03NfA7r5fp1t3S7HrnxG+NNr4y+FPhjw7b2cltq0Plvrl0wwt41vF5Npj6RdavXnxn0K603UoFtr0vceBbPw1HlF2/aopYSzH5v8AV/u68Voq/bTvc5FlWGjBQSdk29+raf3KyS7JJHrvxG8ZeB/iRcXXjC6utcsvGd1bx+bpcVpE1o10iLH5onMm5UO3cV210Nx8ZPBv/CdX3xOgXWP+Eyu4Jh/Yj28Rso7qW2aJpfP8zc0fzbgm2vAaKftpXvYj+yaLgqblKyTjv9l2vHbbRefme1+H/i74T0TwjD8P20y8uPBupwebrl95a/bWvjsYXEK7tqrDs2iP+KobPx14D8R23hG88Sza5a6l4Vt47GKHTrWJ49Ut4p2kiyzSjyH+bafvV41RT9tLsN5VQu5Rk027t31u7pv5p2fkla1keo/Ej4u23xC8Fy2kttNbaxc+KL/XJk48hY50hCqG9Qy1m/HTx1p/xH+Itzr2kpcRWclnZwKt0qrJuit4426Mf4lrgKKzlVlLfqdFHL6GHlGVNW5ea3/bzTf5KwUUUVmeifW3/BN//kqXib/sDf8AteOv0Nr88v8Agm//AMlS8Tf9gb/2vHX6G19Xl/8AAR/N/G//ACOZ+kfyCiiivSPggooooAKKKKACiiigAooooAKKKKACiiigAooooAKKKKACiiigAooooAKKKKACiiigAooooAKKKKACiiigAooooA5v4kf8k98T/wDYLuv/AEU1fz+1/QF8SP8Aknvif/sF3X/opq/n9r9J4Q2rfI+azf4ofP8AQ7u81D4at8P1gtdF8SJ418pd15LqULaf5m7528vyt+3b/tV2f7LPwPufix4k1XWptEvNf8P+GYRe3el2QzLqEpGYLRf+uhBy38K14jUkd1Pb7vJlki3fe2ttr7arh5OlKnSnZvq7s8WNRKSlJXt8j1H4/eFvibD4nn8WfEXw7faJNrMxWD7Tb+XCqp92GNf4UjX5Qtey6H4r8VeMP2cfhot9rWvap4L07xBcWXi5YLqSWG20xWs/LiuMciMJ5myvkmS6nuNvnSyS7fu7m3Ui3EsUUsccrJFJjzFVvlbHrXNVwLrUqcJNJwd9tNraK5ca3LKTV9fP/gH2n8c9R8RWeg/Elb3wT4y1DwfeRbLC+vtbil8P2aCVTa3FgotlVVC/Kqxt92n/ABOvPGmp+BPEviMS+OPhYukWWn3cejX8itoDSQvCIk06Ubdkm794vl18VNeTtapbtPI8EbFo42ZtqsfRaJby4lt4oZJ5Hgjz5cbM21c+i1yRylwjFXWj7PbTo2+xs8VzNvv/AMHy8z6O/bR1Txp4h8QaDquqXmraj4JvNJ02bSbiaZ5bGaY2MJuGi/h371k3V8209riWWKKFpWeKPPlxs3yrn72KZXr4Oh9VoxpdvkctWp7Wbn3CiiiusyCiiigAr9M/+CS//JO/Hf8A2FYP/RAr8zK/TP8A4JL/APJO/Hf/AGFYP/RAr5XiX/kXT9V+Z6eW/wC8x+f5B/wVn/5J14E/7Cs//og1+Zlfpn/wVo/5J14E/wCwrP8A+iDX5mU+Gv8AkXQ9X+YZl/vL+X5BRRRX1J5gUUUUAFFFFABRRRQAUUUUAFFFFMAr+gL4b/8AJPfDH/YLtf8A0Utfz+1/QF8N/wDknvhj/sF2v/opa/OeL9qPzPoMo+Kfy/U6Siiivzc+lCiiigAooooAKKKKACiiigDP17/kB6h/17yf+gmvxMr9s9e/5Aeof9e8n/oJr8TK+fzTeB+0+HXw4r/tz/24K6zwevgVrCX/AISqfxFFfeb+6/saCB49nv5jBt1cnRXhp2fc/X6tP2seXma9NyzL5H9pN9l8z7N5v7rzdvmbN3y5x/FX118aPFlno/7SGseT8ILXxZqUV5Bt1Am7eWZvJjZcKCYuPpXx5XcTfHT4j3ELRy+PvErKw2sraxcf/FV00qqgmmeLj8BPFVadSOqjGUWnKUficesd/h1Xme7+PdKOh+E/2mbJ9Um1mQavozm7nZWlJad32nbxlK3vE3xO8SeH/wBp/wAC+GtP1FrbQb5dGhvLGJVEd4s0cccnnH/lqdrcfhXyDF4g1S302/sY9SvIrHUHSS9tlnZY7hkbKNIv8WGbjdU9x4s1y61u11qfWb6bV7UxtBqD3LtPD5f3Nj/eXZt4rT6x2X9a/wCZ5yyFyv7WSlo1qurhTje2y1g35XR9BXFxq3w9+Dd/e/Dr7RpupTeLr2y1W80lG+0wwxr/AKNCWHzLHXeaBJJb/FbRNY1C2iTxbd/Dm6vdZhniC+ZP5b7HmTaPnZFTfXyT4d+IHibwjqVzqGjeINT0m8us/aLi0unjebP98j71Qr4y16LWbzVl1zUk1W8R47m++1v50yOuHV5N25lK01XSFVyOpVU05LXm977T5ukv7q6ei0Vj3u0+N3jK4/Z01DxBPrlxceI7XxLDYWusS/Nd21vNbmSSKN/vIC0Ndra3Umr+KtT1e6bzNT1X4LTXl9c97i4aPDSPXyGusX66TLpK3twmmyTC6ay8xvKaVVYK5T7u4K33quxeNPEMDbo9e1JG+wnS9y3b/wDHoePs/wB7/V/9M/u1KxHfU1q5HF83seWN29l0dtNPNXtse+eIPEPjHwZ8OvhTa/DQ30GkajpXn3jaTBv+26kZmWeKfGd+Pu7GruPikrR+JP2h1KRx7fDejAxxcouEtvlX29K+UtA+IfijwvpV5pmjeIdT0uwujm4tbO6eJH+qhqguPG3iC6fUGm13Upnv4Y7a833bt9qjj2hEk/vBNqYVqr6wrW/rqZvJajq8946X1s+aV6kJ+95pRa67302MaiiiuA+wCiiigD9Cv+Cb3/JL/E//AGGT/wCiY6+ua+Rv+Cb3/JL/ABP/ANhk/wDomOvrmvsMH/Aify3xR/yOcR6/oj4O/wCClf8AyHPAf/Xvef8AocNfG1npt7frcSWdrcXC2sX2idreNm8lA2N74+6u5vvV9k/8FK/+Q54D/wCve8/9DhryP9lHWNL0G9+IN7rVut1pKeG2ivIP70D3Vukv6E14OKip4pp6f8MfsnD2IlhOHKNaMeZq+ne82jxKzsL2/wDtElnb3Fx9niNxO0UbN5aDhnfH3V+b71VtzV9S6J4JX4M+C/iF4fuGW41fXtJv5oZ/l/5BkDbYJR/12kbdVPx98Ofh14V8P6looa1OoW+hR6haXNvZajJfzXRgWXe8vNv5L1i8O7XuezHPKUqvIoNpvRpXutLt9km7emp866To2peIJZ7fT7Wa9lht5LqWOJd22KNd7sf9kLRrOk6toNwlnqlreafO0KSRwXUbI3lOu9WCnsa+qtD8P6J4P8ceN/CmleEo4bfR/B9+8fiYzTvPdbrEFpZMsYmR93AVaw/FHgnw74dk8aeI30BfEs+i6boEVppN9c3EkK/arRTLPJiTewDU3h2o7mUM8jOry8j5Wk1td8zSXWyvzLfzufMXmt8rbm+X7tdR4L+Il74DvLzUrGzs7jWpE222qXSs81i3Rnh+bbv/ANplbbXvmu/D3wR4b0zU9ek8EJ+48E6Zri6RdXdztju573y2ywk3YryX42aHo9kvg3WdI0yHRV8QaGmo3VjbtI0Ec/nTRt5e5iyg+XWbpyp63OujmNDMX7F03yvTW1r25raN9Pk9jzWiiiuY+hCiiigAooooAu6H/wAhvT/+viP/ANCr9tf4a/ErQ/8AkN6f/wBfEf8A6FX7a/w17+V7SPxXxE+PC/8Ab/8A7afjP8WP+SpeMv8AsNXn/o9qo+FvAviLxxNcReHtCv8AXJLcK0q6dbPO0anudtXvix/yVLxl/wBhq8/9HtXPWGqXulszWd5cWjMu1mt5GTd+VeLK3O7n63R5/qsPZtKVlvtsvQ1NG0i40vx1YabqVpJb3MOoR29zaXUe1o2EuGR1Ne0/H74PRav8f4rPwpCINM8SajNaqVTbFa3MMrR3f4Lt86vB9N1R7PXLXUpt13LDcJcNub5pGDZ5avUr79oq7mX4gCHSU3eJL+4v7KaSfdLpTXG5JzH/AHvMhby61punytSPOxlLG/WKdbD62i0+1210v0+L0TW7O1+LPwv8PeLPiBBNpFyugeB9H8H2WqT6gtt5szW/3Iz5fG+WTdWV8HrDwBpfijxldW/2rxl4ah8JXVxPaapZLa3MLCeAMowzrvC/MJFrmrT48Rf2lZi90D7doUnhm18Nanpv2va1zHCFKypIF+R9yowrNtviR4a8M3niFfDPhu9srDVtCn0X/TtTWaXfJKr+eSIlX+Hb5a1o50+bmVjy44TG/V/qs+a1klZxtbS938XN6aWt5naaP8NLfwfa/E1laLWdDuvCTahomrNErebEbu3CuP7sg+6y+1LZ/so381rbabK2vL4lvNPF9E0Gis+kxs0XmLbyXW75XK/xbdqtXC+DfjNf+F/hz4m8HTWi6jp+rW7RW0kj7Xs2Zo2cr/svsjJX2FamufFnw34vtY9Q8ReGdQvfFK2sVm1zZ6t9nsrry08tZZIvKLZ2rHna3zU06LWppKjmlOcuV7vdcrbtGKi7Nqy35vPbRmt4f+Avhy+h8EWup+L7u01zxhYibTbS30pZIopWlaNRK5mHyFlrO1L4I6XfeH5Z/CXiC41rVLDV7bRL+2utPFvG09w0ixNA29spuSs20+MSW/iT4Z6t/ZR/4o2G3hMfnf8AH35VzJPu+78mfMqvonxguPD+j+IrexsvKvtT1qz1uC683d9le3kmdRt2/NlpKi9HY6PZ5mm5qbbutHy2+NprRXsoWe9/nodM3wR8IXV94p0fTfGt1ca14X0++vL5X0nbBdNbq25bZ/O3fe/vVz/jz4aeHPAfhXRLibxJdXviPWNKs9Wg02CwVYoUmXLLNKZOvptWuhm+OHhG3uvFuraX4GurPXvFGm3lneSvq2+2tWuPvPAnk/8AoTV5/wDEHxwvjqTQZFs/sX9l6LaaT/rN/meQmzf90bc0qjpJaDwscwnVj7ZyUFa9+S7aWq92+jfzt5HK0UUVyH059bf8E3/+SpeJv+wN/wC146/Q2vzy/wCCb/8AyVLxN/2Bv/a8dfobX1eX/wABH838b/8AI5n6R/IKKKK9I+CCiiigAooooAKKKKACiiigAooooAKKKKACiiigAooooAKKKKACiiigAooooAKKKKACiiigAooooAKKKKACiiigDP1zSYdc0e/06YlYbyCS3dl67XXaf51+B3xI+H2sfCvx1rHhXXIDDqOmTmJyy4WRR92Rf9l1+YV/QB+tePfHb9lnwH+0NZw/8JRp8ianbIY7bVbF/KuoVP8ACGwQR7EV9LkebLLKklUV4yPMx2EeKiuV6o/Duiv02f8A4JL+ESW2eO9bUHsbaE0n/Dpjwl/0Petf+AkH+Fff/wCsuXfzv7meD/ZuJ7fifmVRX6a/8OmPCX/Q961/4CQf4Uf8OmPCX/Q961/4CQf4Uf6y5d/O/uYf2bie34o/Mqiv01/4dMeEv+h71r/wEg/wo/4dMeEv+h71r/wEg/wo/wBZcu/nf3MP7NxPb8UfmVRX6a/8OmPCX/Q961/4CQf4Uf8ADpjwl/0Petf+AkH+FH+suXfzv7mH9m4nt+KPzKor9Nf+HTHhL/oe9a/8BIP8KP8Ah0x4S/6HvWv/AAEg/wAKP9Zcu/nf3MP7NxPb8UfmVRX6a/8ADpjwl/0Petf+AkH+FH/Dpjwl/wBD3rX/AICQf4Uf6y5d/O/uYf2bie34o/Mqv16/4J0/CnUfhh8BUuNXga01DxDeNqnkSDDRwNGixDH0H61D8Jf+Ccfwz+GetW+r3rX/AIt1C1bzIBqrqLeNh0PlKMV9Y4x06V8jnue08dTWHw693qz1cDgZUJe0qbnyX/wUl+FOofET4Ew6ppMLXF74bu/7QkhU8vbmNlmH5EV+R1f0SY3fSvkv4sf8E2/hj8RNXm1XTJb7wfdztvlj0vYbdz6+URgfhTyLPaeBpvD4hadGGOwMq8/aU9z8j6K/TX/h0x4S/wCh71r/AMBIP8KP+HTHhL/oe9a/8BIP8K+t/wBZcu/nf3M8r+zcT2/FH5lUV+mv/Dpjwl/0Petf+AkH+FH/AA6Y8Jf9D3rX/gJB/hR/rLl387+5h/ZuJ7fij8yqK/TX/h0x4S/6HvWv/ASD/Cj/AIdMeEv+h71r/wABIP8ACj/WXLv539zD+zcT2/FH5lUV+mv/AA6Y8Jf9D3rX/gJB/hR/w6Y8Jf8AQ961/wCAkH+FH+suXfzv7mH9m4nt+KPzKor9Nf8Ah0x4S/6HvWv/AAEg/wAKP+HTHhL/AKHvWv8AwEg/wo/1ly7+d/cw/s3E9vxR+ZVFfpr/AMOmPCX/AEPetf8AgJB/hSr/AMEmfCAkDSeOtbcdwLaIZo/1ly7+d/cw/s3E9vxPz0+FXw31b4ufELRPCeixNPe6nOIi6rnyY+skrf7KL8xr979L0+HSdNtbK3XZBbRLDGvoqjAry/4G/sx+Av2fbGZfC2lML+4XFxql4/nXco9C+OB7LivW6/P88zZZnVj7NWjE97A4R4WLcnqxaKKK+bPTCiiigAooooAKKKKACiiigDP17/kB6h/17yf+gmvxMr9s9e/5Aeof9e8n/oJr8TK+fzTeB+0+HXw4r/tz/wBuCiiivCP2QKKKKACiiigAooooAKKKKACiiigAooooAKKKKAP0K/4Jvf8AJL/E/wD2GT/6Jjr65r5G/wCCb3/JL/E//YZP/omOvrmvsMH/AAIn8t8Uf8jnEev6I+Dv+Clf/Ic8B/8AXvef+hw18b2GsX+lxXcNneXFrFeQ/Z7lbeRlWaLcp2Pj7y7lr7I/4KV/8hzwH/173n/ocNfFtfO43+PI/cuEoqWR4dNd/wD0pmm3irWZZWkk1a+dmtBp7M1yzf6KFwsP+5/s1of8LK8Wf8I3/wAI9/wk2r/2Ds2f2b9sl8jb/d2btu2oPA/hG9+IHi7SvDmnPCl9qNwLeBrpsIrH1YZq5L8OdWs/BreJr5rfTNMkn+z2a3TMs2oOGw/kKFO5U7t92uVc9rrY+jqPCRkqdRK+lk13va33PbsxV+K3jKLRYdGXxVrSaTDE0KWSX8vlLEybCgXd90q22q+n/EfxVpGtHWbLxJq1rq3kJb/bYL1xK0SqoVGYN90KtWfAPw8v/iBdX/k3ljpWn6bb/ar7VNSkZILWIsqKxYKW3Fm2hVqLxt4LTwbdW62+v6L4is7hT5d3o1yzqu37yurKrq1P37c19DP/AGP2rw/KuZ7q3fXXS2u9nqyvqHjzxJq63S33iDVL1bq3FrP9ou3fzolfzFR8t8yiT5qzL7WL/VIrOG8vLi7is4fs9sssjMsMW5jsTP3V3NVWis+Zvqd0aVOHwxS+XyCiiikahRRRQAUUUUAXdD/5Den/APXxH/6FX7a/w1+JWh/8hvT/APr4j/8AQq/bX+GvfyvaR+K+Inx4X/t//wBtPxn+LH/JUvGX/YavP/R7VytdV8WP+SpeMv8AsNXn/o9qi8D/AA51j4hXF3DowszJaoskn23UIbQbT/dMrrurxZJubSP1yjVhRwsJ1JJJJavbZHNVei0HVLjTX1CPTryXT4/vXawM0K/Vq2vDPhJG+KGkeGdaeNIm1iHT71op1eNVM6xvh1bbXoXxS+NXjfwz8V9fsdD8QX2haVouoXGn6fpNjI0dpb28TtGqeR91qcYK15GNbFVHVjRw6TbXNdtpW+Se/wCHmeOXGm3lra2t1NazRW10paCdo2WOZVbDbG/iw1MW1na1a4WGR4FYK0m35VY/w7q+h3/4Q+/+FXwgj8WWWranPqH9pW8S6XcparDvv2DSnMb7vZayfFnw0ufBvgjx34ft9bu5Y7DxnbaVHaPOsdrcbopissi/3/lq3R6rY44ZrFvknHlfM15NKfJdfhulueFUV6npPwLn0vx14Z0rxnqen6NpWrTyRtd2WqWk+3Yu7aSjsE3/AHQzV1TfA3TNU8ZaNY3PhzxB4K0/7JeX+oT3V/FqEU1rbReYzWsqRhWc1CozkdFTNsLTfxXVm7qzVlfbW7ej2Ttpe10eBUV7BeeD/Afif4a6/wCKvD1nrekXWnahZWAsLy+iuExL5n73eIV5Kp92ptS+Dui2fxY+JnhkTXo0/wAN6ZqN7ZsZVLtJBHuTedtHsZdBrNKN5KScXG90125ezf8AMjxmivf9N+FHgHT/ABn4O8Aa4uuzeI9aSxlutWsbuJYbWS5VXSFYTHyu1tpk3Vkan4B8D+Ffh/b65qFrrmpanqOr6npVlbW99FBEBCUWKRyYT93ePzqvYytczWbUZSUYxk3K1tN73s1rt7r3toeL0V9GeJv2fvDPhttZ8PXF5Hbatptk858QXPiOwWKS7SLebf7H/rVUsvlivnOs6lOVPRnXg8dRx0XKjsrfc9n/AMB2fdI+tv8Agm//AMlS8Tf9gb/2vHX6G1+eX/BN/wD5Kl4m/wCwN/7Xjr9Da+ny/wDgI/n/AI3/AORzP0j+QUUUV6R8EFFFFABRRRQAUUUUAFFFFABRRRQAUUUUAFFFFABRRRQAUUUUAFFFFABRRRQAUUUUAFFFFABRRRQAUUUUAFFFFABRRRQAUUUUAFFFFABRRRQAUUUUAFFFFABRRRQAUUUUAFFFFABRRRQAUUUUAFFFFABRRRQAUUUUAFFFFABRRRQAUUUUAFFFFABRRRQAUUUUAFFFFAGfr3/ID1D/AK95P/QTX4mV+2uqQNc6XeRRjLyQuqj6qRX4mXET28rwyIySRsVZW+8rCvAzTeB+0eHL93FL/B/7cNooorwT9lCiiigAooooAKKKKACiiigAooooAKKKKACiiigD9Cv+Cbv/ACS/xP8A9hk/+iY6+ua+T/8AgnRp81r8H9bu5UCpd61IYvcLFGK+sK+xwn8GB/LXFDTznE2/m/RHwd/wUr/5DngP/r3vP/Q4a+SvCWqeH9Lup5PEGg3GuwMm2OO3v/sflt/e3eW+6vrv/gpZZzfbvAV3sJtvLvISw7NmI18T189jNMRJn7hwnCNXIqEW9Pe2bX2n1Wp6Z8BtY0vTvj94U1J3TR9Ij1ZZg15OuLePP3XkbFbvj7WdE+LDReNPtEcU+ktDb6l4Sl1BYFa1ThW09m+7Ge8SrujavFqK5VVahy2PoKmXxniFiVJqSSj8k3f7777q17739k8A+I1uPEeqL4Ht9F8O2Nxp4hvdC8Yaok9tqmHzt3yxxpVP47aX4dsLbww9ha6JpnieaGb+2dP8O3n2uyhwy+UwcSSBXK9VVq8noodW8eVijl/JiFWhOyXTW70t7zvr31V9tbaBRRRWJ6wUUUUAFFFFABRRRQBd0P8A5Den/wDXxH/6FX7a/wANfit4J0mbXfGmg6dbIzXN5qEFvEqruZmd1C1+1P8ADXv5ZtI/FPESS9phY9bS/wDbT8Z/ix/yVLxl/wBhq8/9HtXK12Pxm0+XT/i742t7hRHKut3hJHf9+1cdXiVPjZ+wYNp4am1/KvyQ6KVomWSNmRlbcrLXqsn7QUmpTpqes+CvC+ueJkUJ/bl9bStLIwXG+aMSCKV/9plryiilGUo7BXwtHE2dWN7eq/Lp3WzOqvviNqOpaX4UsZLezSLw280loyxsvmNJP57b/wDgX92tTxl8ZdX8cWfiS3vbSxhXXtYj1q4+zrJuWZI5EVUyx+XbJXA0Ue0kL6nh7qXIrq7XzfM/x1NHw/q0eg6zb30mnWeqxQ53WN+rNBIpXG04YNXfxfH/AFTR7rQ/+Eb0TSfDmn6PcT3Uem26yzxXDzIscvnNNI7Mrqu3bXl9FCqSjswrYSjiHerG/TW9u222zfnqe13nxP0XW/gh4u0mz0nR/CV0+q6dPbabpxl33GBN5suZZGOBiqWoftJalqC63cL4Y8P2+t69p0+n6vrCxT+fdrIuxn5l2of91a8hoq3Wnockcqwqb5le7vq32irXvqvdT1vr6I9a0D9ozUNFn8P6jdeGNC1rxFoSwwWOtX0c5nWGL7qOEkCNhflEm3ctcd4i+ImoeKPDOn6LdQ2yW9lf3l+kkSsrs9z5e9Tlug8viuWopOpNqzZvTy/DUp+0hCz+em+3bd6banpGvfGhvFGnzvq3hHQdQ8R3Fv8AZZfEMsc/2ll2bN5QSeV5v/TTbXm9FFS5OW50UcPTw6caSsvn+HZeS0Prb/gm/wD8lS8Tf9gb/wBrx1+htfn3/wAE3dNll8e+LtRAzBBpsduW/wBqSXcP0iNfoJX1GX/wEfzrxtJPOaiXRR/IKKKK9I+ECiiigAooooAKKKKACiiigAooooAKKKKACiiigAooooAKKKKACiiigAooooAKKKKACiiigAooooAKKKKACiiigAooooAKKKKACiiigAooooAKKKKACiiigAooooAKKKKACiiigAooooAKKKKACiiigAooooAKKKKACiiigAooooAKKKKACiiigAooooAKKKKACiiigAr4a/ak/Yq1XWPEl/4u8BQxXZvX8680Yv5beYT80kJ6ZPHFfctFc9ajCvHlke1lWbYrJ6/t8M/Jp7NeZ+PE/wAAfiXayFG+H/iZ2/2NIndf++gtR/8ACi/iT/0T7xT/AOCS6/8AiK/YqivN/syH8x9//wARCxXWhH72fjr/AMKL+JP/AET7xT/4JLr/AOIo/wCFF/En/on3in/wSXX/AMRX7FUUf2bD+YP+IhYr/nxH72fjr/wov4k/9E+8U/8Agkuv/iKP+FF/En/on3in/wAEl1/8RX7FUUf2bD+YP+IhYr/nxH72fjr/AMKL+JP/AET7xT/4JLr/AOIo/wCFF/En/on3in/wSXX/AMRX7FUUf2bD+YP+IhYr/nxH72fjr/wov4k/9E+8U/8Agkuv/iKP+FF/En/on3in/wAEl1/8RX7FUUf2bD+YP+IhYr/nxH72fjr/AMKL+JP/AET7xT/4JLr/AOIo/wCFF/En/on3in/wSXX/AMRX7FUUf2bD+YP+IhYr/nxH72fjr/wov4k/9E+8U/8Agkuv/iKP+FF/En/on3in/wAEl1/8RX7FUUf2bD+YP+IhYr/nxH72fjr/AMKL+JP/AET7xT/4JLr/AOIr0D4ZfsX/ABG8eapAup6PN4V0nI8+81RfLlVf7qRH5ifrX6lUU45bTTu22YV/EDHVKbjSpRi311djmfAfgfSvhv4P0zw7osK2+n2EQjjz1J6s7f7RYlj9a6eiivXSSSS6H5hUqSqzdSbu3q35nnPx0+DelfHDwHdeH9Qb7PNkTWd6q7mtph91xX5x+Nv2S/ij4K1CaD/hFr7WrdT8l3osTXKOPUKvzA/Wv1ipK4sRhKdd3ejPrMl4nxuSQdKmlKD1s+j8j8df+FF/En/on3in/wAEl1/8RR/wov4k/wDRPvFP/gkuv/iK/YqiuT+zIfzH1X/EQsV/z4j97Px1/wCFF/En/on3in/wSXX/AMRR/wAKL+JP/RPvFP8A4JLr/wCIr9iqKP7Mh/MH/EQsV/z4j97Px1/4UX8Sf+ifeKf/AASXX/xFH/Ci/iT/ANE+8U/+CS6/+Ir9iqKP7Nh/MH/EQsV/z4j97Px1/wCFF/En/on3in/wSXX/AMRR/wAKL+JP/RPvFP8A4JLr/wCIr9iqKP7Nh/MH/EQsV/z4j97Px1/4UX8Sf+ifeKf/AASXX/xFH/Ci/iT/ANE+8U/+CS6/+Ir9iqKP7Nh/MH/EQsV/z4j97Px1/wCFF/En/on3in/wSXX/AMRU9j+z78TNQmEcXw/8Rxk9TcaXNEv/AH06iv2Doo/s2H8wn4hYu2lCP3s+Ov2T/wBju98Aa1B4x8aiNdYgH+gaZE28WxPHmSMPvPivsWlor06NGFGPLE/PczzTE5tiHicU7vZLol2R8k/ta/shXXxS1RvF3g/7Omv+WqXljKRGL0LwpVzwrgdzXxlqH7PfxO0248mb4f8AiRm/vQaZLOv/AH1GpWv2DorkrYGnVlzbM+qyvjPH5bQWGcVOMdFe90u1+39XPx0/4UX8Sf8Aon3in/wSXX/xFH/Ci/iT/wBE+8U/+CS6/wDiK/Yqiuf+zIfzHs/8RCxX/PiP3s/HX/hRfxJ/6J94p/8ABJdf/EUf8KL+JP8A0T7xT/4JLr/4iv2Koo/syH8wf8RCxX/PiP3s/HX/AIUX8Sf+ifeKf/BJdf8AxFH/AAov4k/9E+8U/wDgkuv/AIiv2Koo/syH8wf8RCxX/PiP3s/HX/hRfxJ/6J94p/8ABJdf/EUf8KL+JP8A0T7xT/4JLr/4iv2Koo/syH8wf8RCxX/PiP3s/HX/AIUX8Sf+ifeKf/BJdf8AxFH/AAov4k/9E+8U/wDgkuv/AIiv2Koo/syH8wf8RCxX/PiP3s/HX/hRfxJ/6J94p/8ABJdf/EV0Xg/9lP4o+ML+OGPwjqGlRMctc6xA1pGn+0Q/J/Cv1ooprLKd9W2Z1PELGyi1CjFPvq/8jy/4BfBDTfgX4Gi0Szk+13kz/aL69PBnmPU+yjsK9Roor1YxVOKjFaH5liMRVxdaVetK8pO7YUUUVoc4UUUUAFFFFABRRRQAUUUUAFFFFABRRRQAUUUUAFFFFABRRRQAUUUUAFFFFABRRRQAUUUUAFFFFABRRRQAUUUUAFFFFABRRRQAUUUUAFFFFABRRRQAUUUUAFFFFABRRRQAUUUUAFFFFABRRRQAUUUUAFFFFABRRRQAUUUUAFFFFABRRRQAUUUUAFFFFABRRRQAUUUUAFFFFABRRRQAUUUUAFFFFABRRRQAUUUUAFFFFABRRRQAUUUUAFFFFABRRRQAUUUUAFFFFABRRRQAUUUUAFFFFABRRRQAUUUUAFFFFABRRRQAUUUUAFFFFABRRRQAUUUUAFFFFABRRRQAUUUUAFFFFAH/2Q==)"
      ],
      "metadata": {
        "id": "S6LrOuydVtxc"
      }
    },
    {
      "cell_type": "markdown",
      "source": [
        "![Hypothesis2.jpg](data:image/jpeg;base64,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)"
      ],
      "metadata": {
        "id": "Fxtd77WrVhPY"
      }
    },
    {
      "cell_type": "markdown",
      "source": [
        "## Z-Test"
      ],
      "metadata": {
        "id": "UUDHNbufgynn"
      }
    },
    {
      "cell_type": "code",
      "source": [
        "# H0: mu = 500\n",
        "# Ha : mu >500\n",
        "\n",
        "z_stat = (530-500)/(125/np.sqrt(70))\n",
        "p_value = 1-norm.cdf(z_stat)\n",
        "print(p_value)\n",
        "alpha = 0.05\n",
        "if p_value < alpha:\n",
        "    print(\"Reject H0\")\n",
        "else:\n",
        "    print(\"Do not reject H0\")"
      ],
      "metadata": {
        "id": "sZO285Ctg6Uo"
      },
      "execution_count": null,
      "outputs": []
    },
    {
      "cell_type": "code",
      "source": [
        "z = norm.ppf(0.95)\n",
        "x = 500 + z * 125/np.sqrt(70)\n",
        "x"
      ],
      "metadata": {
        "id": "jrXeq46mhRcj"
      },
      "execution_count": null,
      "outputs": []
    },
    {
      "cell_type": "code",
      "source": [
        "1-norm.cdf((524.574701413748-500)/(125/np.sqrt(70)))"
      ],
      "metadata": {
        "id": "afTyy4l2hTh-"
      },
      "execution_count": null,
      "outputs": []
    },
    {
      "cell_type": "markdown",
      "source": [
        "## T-Test"
      ],
      "metadata": {
        "id": "JsYBO_iuhYrv"
      }
    },
    {
      "cell_type": "markdown",
      "source": [
        "### 1-Sample T-Test"
      ],
      "metadata": {
        "id": "v7PJxkcFhsoJ"
      }
    },
    {
      "cell_type": "code",
      "source": [
        "# Improve IQ with a pill\n",
        "#Population IQ average = 100\n",
        "#One researcher claims that his pill will improve IQ\n",
        "\n",
        "iq_scores = [110, 105, 98, 102, 99, 104, 115, 95]\n",
        "np.mean(iq_scores)"
      ],
      "metadata": {
        "colab": {
          "base_uri": "https://localhost:8080/"
        },
        "id": "xWal05lohXt8",
        "outputId": "d4787f03-274e-47f2-87ff-7acfc11f06fb"
      },
      "execution_count": null,
      "outputs": [
        {
          "output_type": "execute_result",
          "data": {
            "text/plain": [
              "103.5"
            ]
          },
          "metadata": {},
          "execution_count": 40
        }
      ]
    },
    {
      "cell_type": "code",
      "source": [
        "alpha = 0.01\n",
        "#H0 : mu = 100 (pill does have any effect)\n",
        "#Ha : mu> 100 (pill has a good effect)\n",
        "\n",
        "t_stat, p_value = ttest_1samp(iq_scores, 100,alternative = \"greater\")\n",
        "# meaning iq_scores mean greater than 100 similarily less than and two tailed meaning not equal to in alternativa\n",
        "print(p_value)\n",
        "print(t_stat)\n",
        "if p_value < alpha:\n",
        "    print(\"Reject H0\")\n",
        "else:\n",
        "    print(\"Fail to reject H0\")\n",
        "    print(\"Pill has no effect\")"
      ],
      "metadata": {
        "colab": {
          "base_uri": "https://localhost:8080/"
        },
        "id": "9YtzVQspiDdd",
        "outputId": "c146bdef-5787-444b-e947-716ff024ed87"
      },
      "execution_count": null,
      "outputs": [
        {
          "output_type": "stream",
          "name": "stdout",
          "text": [
            "0.08774972467925055\n",
            "1.5071573172061195\n",
            "Fail to reject H0\n",
            "Pill has no effect\n"
          ]
        }
      ]
    },
    {
      "cell_type": "markdown",
      "source": [
        "### 2-Sample or Independent T-Test"
      ],
      "metadata": {
        "id": "Wel3M_TKiRSk"
      }
    },
    {
      "cell_type": "markdown",
      "source": [
        "First Need to check if both Data Sets have same Variance .... This can be done using levene test or by looking into both datasets Std Dev values in \"describe() function\""
      ],
      "metadata": {
        "id": "jY-Hk6tl35qH"
      }
    },
    {
      "cell_type": "code",
      "source": [
        "#IQ across 2 schools\n",
        "df_iq = pd.read_csv(\"iq_two_schools.csv\")\n",
        "df_iq.head()"
      ],
      "metadata": {
        "colab": {
          "base_uri": "https://localhost:8080/",
          "height": 206
        },
        "id": "u0-Taul1iQ9C",
        "outputId": "4da7e2ae-6df9-43da-db60-5ddf6f741204"
      },
      "execution_count": null,
      "outputs": [
        {
          "output_type": "execute_result",
          "data": {
            "text/plain": [
              "     School   iq\n",
              "0  school_1   91\n",
              "1  school_1   95\n",
              "2  school_1  110\n",
              "3  school_1  112\n",
              "4  school_1  115"
            ],
            "text/html": [
              "\n",
              "\n",
              "  <div id=\"df-2331bfec-4b67-4b5c-85d8-a626002ad57b\">\n",
              "    <div class=\"colab-df-container\">\n",
              "      <div>\n",
              "<style scoped>\n",
              "    .dataframe tbody tr th:only-of-type {\n",
              "        vertical-align: middle;\n",
              "    }\n",
              "\n",
              "    .dataframe tbody tr th {\n",
              "        vertical-align: top;\n",
              "    }\n",
              "\n",
              "    .dataframe thead th {\n",
              "        text-align: right;\n",
              "    }\n",
              "</style>\n",
              "<table border=\"1\" class=\"dataframe\">\n",
              "  <thead>\n",
              "    <tr style=\"text-align: right;\">\n",
              "      <th></th>\n",
              "      <th>School</th>\n",
              "      <th>iq</th>\n",
              "    </tr>\n",
              "  </thead>\n",
              "  <tbody>\n",
              "    <tr>\n",
              "      <th>0</th>\n",
              "      <td>school_1</td>\n",
              "      <td>91</td>\n",
              "    </tr>\n",
              "    <tr>\n",
              "      <th>1</th>\n",
              "      <td>school_1</td>\n",
              "      <td>95</td>\n",
              "    </tr>\n",
              "    <tr>\n",
              "      <th>2</th>\n",
              "      <td>school_1</td>\n",
              "      <td>110</td>\n",
              "    </tr>\n",
              "    <tr>\n",
              "      <th>3</th>\n",
              "      <td>school_1</td>\n",
              "      <td>112</td>\n",
              "    </tr>\n",
              "    <tr>\n",
              "      <th>4</th>\n",
              "      <td>school_1</td>\n",
              "      <td>115</td>\n",
              "    </tr>\n",
              "  </tbody>\n",
              "</table>\n",
              "</div>\n",
              "      <button class=\"colab-df-convert\" onclick=\"convertToInteractive('df-2331bfec-4b67-4b5c-85d8-a626002ad57b')\"\n",
              "              title=\"Convert this dataframe to an interactive table.\"\n",
              "              style=\"display:none;\">\n",
              "\n",
              "  <svg xmlns=\"http://www.w3.org/2000/svg\" height=\"24px\"viewBox=\"0 0 24 24\"\n",
              "       width=\"24px\">\n",
              "    <path d=\"M0 0h24v24H0V0z\" fill=\"none\"/>\n",
              "    <path d=\"M18.56 5.44l.94 2.06.94-2.06 2.06-.94-2.06-.94-.94-2.06-.94 2.06-2.06.94zm-11 1L8.5 8.5l.94-2.06 2.06-.94-2.06-.94L8.5 2.5l-.94 2.06-2.06.94zm10 10l.94 2.06.94-2.06 2.06-.94-2.06-.94-.94-2.06-.94 2.06-2.06.94z\"/><path d=\"M17.41 7.96l-1.37-1.37c-.4-.4-.92-.59-1.43-.59-.52 0-1.04.2-1.43.59L10.3 9.45l-7.72 7.72c-.78.78-.78 2.05 0 2.83L4 21.41c.39.39.9.59 1.41.59.51 0 1.02-.2 1.41-.59l7.78-7.78 2.81-2.81c.8-.78.8-2.07 0-2.86zM5.41 20L4 18.59l7.72-7.72 1.47 1.35L5.41 20z\"/>\n",
              "  </svg>\n",
              "      </button>\n",
              "\n",
              "\n",
              "\n",
              "    <div id=\"df-0d9d1487-6518-439f-8fad-6f7c4d1d66fd\">\n",
              "      <button class=\"colab-df-quickchart\" onclick=\"quickchart('df-0d9d1487-6518-439f-8fad-6f7c4d1d66fd')\"\n",
              "              title=\"Suggest charts.\"\n",
              "              style=\"display:none;\">\n",
              "\n",
              "<svg xmlns=\"http://www.w3.org/2000/svg\" height=\"24px\"viewBox=\"0 0 24 24\"\n",
              "     width=\"24px\">\n",
              "    <g>\n",
              "        <path d=\"M19 3H5c-1.1 0-2 .9-2 2v14c0 1.1.9 2 2 2h14c1.1 0 2-.9 2-2V5c0-1.1-.9-2-2-2zM9 17H7v-7h2v7zm4 0h-2V7h2v10zm4 0h-2v-4h2v4z\"/>\n",
              "    </g>\n",
              "</svg>\n",
              "      </button>\n",
              "    </div>\n",
              "\n",
              "<style>\n",
              "  .colab-df-quickchart {\n",
              "    background-color: #E8F0FE;\n",
              "    border: none;\n",
              "    border-radius: 50%;\n",
              "    cursor: pointer;\n",
              "    display: none;\n",
              "    fill: #1967D2;\n",
              "    height: 32px;\n",
              "    padding: 0 0 0 0;\n",
              "    width: 32px;\n",
              "  }\n",
              "\n",
              "  .colab-df-quickchart:hover {\n",
              "    background-color: #E2EBFA;\n",
              "    box-shadow: 0px 1px 2px rgba(60, 64, 67, 0.3), 0px 1px 3px 1px rgba(60, 64, 67, 0.15);\n",
              "    fill: #174EA6;\n",
              "  }\n",
              "\n",
              "  [theme=dark] .colab-df-quickchart {\n",
              "    background-color: #3B4455;\n",
              "    fill: #D2E3FC;\n",
              "  }\n",
              "\n",
              "  [theme=dark] .colab-df-quickchart:hover {\n",
              "    background-color: #434B5C;\n",
              "    box-shadow: 0px 1px 3px 1px rgba(0, 0, 0, 0.15);\n",
              "    filter: drop-shadow(0px 1px 2px rgba(0, 0, 0, 0.3));\n",
              "    fill: #FFFFFF;\n",
              "  }\n",
              "</style>\n",
              "\n",
              "    <script>\n",
              "      async function quickchart(key) {\n",
              "        const containerElement = document.querySelector('#' + key);\n",
              "        const charts = await google.colab.kernel.invokeFunction(\n",
              "            'suggestCharts', [key], {});\n",
              "      }\n",
              "    </script>\n",
              "\n",
              "      <script>\n",
              "\n",
              "function displayQuickchartButton(domScope) {\n",
              "  let quickchartButtonEl =\n",
              "    domScope.querySelector('#df-0d9d1487-6518-439f-8fad-6f7c4d1d66fd button.colab-df-quickchart');\n",
              "  quickchartButtonEl.style.display =\n",
              "    google.colab.kernel.accessAllowed ? 'block' : 'none';\n",
              "}\n",
              "\n",
              "        displayQuickchartButton(document);\n",
              "      </script>\n",
              "      <style>\n",
              "    .colab-df-container {\n",
              "      display:flex;\n",
              "      flex-wrap:wrap;\n",
              "      gap: 12px;\n",
              "    }\n",
              "\n",
              "    .colab-df-convert {\n",
              "      background-color: #E8F0FE;\n",
              "      border: none;\n",
              "      border-radius: 50%;\n",
              "      cursor: pointer;\n",
              "      display: none;\n",
              "      fill: #1967D2;\n",
              "      height: 32px;\n",
              "      padding: 0 0 0 0;\n",
              "      width: 32px;\n",
              "    }\n",
              "\n",
              "    .colab-df-convert:hover {\n",
              "      background-color: #E2EBFA;\n",
              "      box-shadow: 0px 1px 2px rgba(60, 64, 67, 0.3), 0px 1px 3px 1px rgba(60, 64, 67, 0.15);\n",
              "      fill: #174EA6;\n",
              "    }\n",
              "\n",
              "    [theme=dark] .colab-df-convert {\n",
              "      background-color: #3B4455;\n",
              "      fill: #D2E3FC;\n",
              "    }\n",
              "\n",
              "    [theme=dark] .colab-df-convert:hover {\n",
              "      background-color: #434B5C;\n",
              "      box-shadow: 0px 1px 3px 1px rgba(0, 0, 0, 0.15);\n",
              "      filter: drop-shadow(0px 1px 2px rgba(0, 0, 0, 0.3));\n",
              "      fill: #FFFFFF;\n",
              "    }\n",
              "  </style>\n",
              "\n",
              "      <script>\n",
              "        const buttonEl =\n",
              "          document.querySelector('#df-2331bfec-4b67-4b5c-85d8-a626002ad57b button.colab-df-convert');\n",
              "        buttonEl.style.display =\n",
              "          google.colab.kernel.accessAllowed ? 'block' : 'none';\n",
              "\n",
              "        async function convertToInteractive(key) {\n",
              "          const element = document.querySelector('#df-2331bfec-4b67-4b5c-85d8-a626002ad57b');\n",
              "          const dataTable =\n",
              "            await google.colab.kernel.invokeFunction('convertToInteractive',\n",
              "                                                     [key], {});\n",
              "          if (!dataTable) return;\n",
              "\n",
              "          const docLinkHtml = 'Like what you see? Visit the ' +\n",
              "            '<a target=\"_blank\" href=https://colab.research.google.com/notebooks/data_table.ipynb>data table notebook</a>'\n",
              "            + ' to learn more about interactive tables.';\n",
              "          element.innerHTML = '';\n",
              "          dataTable['output_type'] = 'display_data';\n",
              "          await google.colab.output.renderOutput(dataTable, element);\n",
              "          const docLink = document.createElement('div');\n",
              "          docLink.innerHTML = docLinkHtml;\n",
              "          element.appendChild(docLink);\n",
              "        }\n",
              "      </script>\n",
              "    </div>\n",
              "  </div>\n"
            ]
          },
          "metadata": {},
          "execution_count": 43
        }
      ]
    },
    {
      "cell_type": "code",
      "source": [
        "df_iq.groupby(\"School\")[\"iq\"].mean()"
      ],
      "metadata": {
        "colab": {
          "base_uri": "https://localhost:8080/"
        },
        "id": "RTeibfXLicCE",
        "outputId": "a125cfcd-73dc-401e-b262-b13a1875cecc"
      },
      "execution_count": null,
      "outputs": [
        {
          "output_type": "execute_result",
          "data": {
            "text/plain": [
              "School\n",
              "school_1    101.153846\n",
              "school_2    109.416667\n",
              "Name: iq, dtype: float64"
            ]
          },
          "metadata": {},
          "execution_count": 44
        }
      ]
    },
    {
      "cell_type": "code",
      "source": [
        "iq_1 = df_iq[df_iq[\"School\"]==\"school_1\"][\"iq\"]\n",
        "iq_2 = df_iq[df_iq[\"School\"]==\"school_2\"][\"iq\"]"
      ],
      "metadata": {
        "id": "UIp73KhgiikZ"
      },
      "execution_count": null,
      "outputs": []
    },
    {
      "cell_type": "code",
      "source": [
        "# H0: mu1 = mu2 #H0 : two schools are essentially the same\n",
        "#Ha: mu1 != mu2  #Default - two sided\n",
        "t_stat, p_value = ttest_ind(iq_1, iq_2)\n",
        "print(p_value)\n",
        "if p_value < 0.05:\n",
        "    print(\"Reject H0\")\n",
        "else:\n",
        "    print(\"Fail to reject H0\")"
      ],
      "metadata": {
        "colab": {
          "base_uri": "https://localhost:8080/"
        },
        "id": "Vr-MG2R8inWc",
        "outputId": "70b73907-63e9-4303-f3c4-5c462edf381a"
      },
      "execution_count": null,
      "outputs": [
        {
          "output_type": "stream",
          "name": "stdout",
          "text": [
            "0.02004552710936217\n",
            "Reject H0\n"
          ]
        }
      ]
    },
    {
      "cell_type": "code",
      "source": [
        "#H0: mu1 >= mu2\n",
        "#Ha : mu1 < mu2\n",
        "\n",
        "t_stat, p_value = ttest_ind(iq_1, iq_2, alternative=\"less\")\n",
        "print(p_value)\n",
        "if p_value < 0.05:\n",
        "    print(\"Reject H0\")\n",
        "else:\n",
        "    print(\"Fail to reject H0\")"
      ],
      "metadata": {
        "colab": {
          "base_uri": "https://localhost:8080/"
        },
        "id": "PdDMMZk0ir6g",
        "outputId": "a4306319-102e-4660-daa0-63098042c7c9"
      },
      "execution_count": null,
      "outputs": [
        {
          "output_type": "stream",
          "name": "stdout",
          "text": [
            "0.010022763554681085\n",
            "Reject H0\n"
          ]
        }
      ]
    },
    {
      "cell_type": "code",
      "source": [
        "#H0: mu1 <= mu2\n",
        "#Ha : mu1 > mu2\n",
        "\n",
        "t_stat, p_value = ttest_ind(iq_1, iq_2, alternative=\"greater\")\n",
        "print(p_value)\n",
        "if p_value < 0.05:\n",
        "    print(\"Reject H0\")\n",
        "else:\n",
        "    print(\"Fail to reject H0\")"
      ],
      "metadata": {
        "colab": {
          "base_uri": "https://localhost:8080/"
        },
        "id": "DAOpkL1oivZA",
        "outputId": "ac60c9e5-55c5-48fb-bd46-fdf44f7f3e69"
      },
      "execution_count": null,
      "outputs": [
        {
          "output_type": "stream",
          "name": "stdout",
          "text": [
            "0.9899772364453189\n",
            "Fail to reject H0\n"
          ]
        }
      ]
    },
    {
      "cell_type": "markdown",
      "source": [
        "### Two Related Sample / Dependent / Paired T-test"
      ],
      "metadata": {
        "id": "2TfTzsuaLReB"
      }
    },
    {
      "cell_type": "code",
      "source": [
        "# Before & After data collected from same person/point"
      ],
      "metadata": {
        "id": "Xsa-jCwMLRKf"
      },
      "execution_count": null,
      "outputs": []
    },
    {
      "cell_type": "markdown",
      "source": [
        "The Zumba trainer claims that the new dance routine helps to reduce more weight of the customers. The weights of 8 people are recorded for before the Zumba training and after the Zumba training for a month.\n",
        "\n",
        "Test the trainer's claim with 90% confidence"
      ],
      "metadata": {
        "id": "G7s5oq-lLrYy"
      }
    },
    {
      "cell_type": "code",
      "source": [
        "wt_before=[85, 74, 63.5, 69.4, 71.6, 65,90,78]\n",
        "\n",
        "wt_after=[82, 71, 64, 65.2, 67.8, 64.7,95,77]\n",
        "\n",
        "#H0: mu1 = mu2\n",
        "#Ha : mu1 < mu2 or mu1 > mu2 or mu1 != mu2\n",
        "\n",
        "t_stat, p_value = ttest_rel(wt_after,wt_before,alternative = \"less\")\n",
        "print(p_value)\n",
        "if p_value < 0.1:\n",
        "    print(\"Reject H0\")\n",
        "    print(\"There is a effect on before & after results\")\n",
        "else :\n",
        "  print(\"Accept Ho\")\n",
        "  print(\"No effect , before & after are same\")"
      ],
      "metadata": {
        "colab": {
          "base_uri": "https://localhost:8080/"
        },
        "id": "lZKnPtKzL4vk",
        "outputId": "d9b14b59-7832-4cad-94ac-f3e03560db1c"
      },
      "execution_count": null,
      "outputs": [
        {
          "output_type": "stream",
          "name": "stdout",
          "text": [
            "0.14546808501326386\n",
            "Accept Ho\n",
            "No effect , before & after are same\n"
          ]
        }
      ]
    },
    {
      "cell_type": "markdown",
      "source": [
        "Will problem solving sessions help students?\n",
        "\n",
        "Test 1: Before the session\n",
        "\n",
        "Test 2: After the session"
      ],
      "metadata": {
        "id": "eVX9umA0a9Ub"
      }
    },
    {
      "cell_type": "code",
      "source": [
        "df_ps = pd.read_csv(\"problem_solving.csv\")"
      ],
      "metadata": {
        "id": "tcuSVSI_a_Hj"
      },
      "execution_count": null,
      "outputs": []
    },
    {
      "cell_type": "code",
      "source": [
        "df_ps.head()"
      ],
      "metadata": {
        "colab": {
          "base_uri": "https://localhost:8080/",
          "height": 206
        },
        "id": "7lNXtmSsbwtj",
        "outputId": "808362b0-8193-4f5f-be43-e3c4c7cf8190"
      },
      "execution_count": null,
      "outputs": [
        {
          "output_type": "execute_result",
          "data": {
            "text/plain": [
              "   id  test_1  test_2\n",
              "0   0      40      38\n",
              "1   1      49      44\n",
              "2   2      65      69\n",
              "3   3      59      63\n",
              "4   4      44      43"
            ],
            "text/html": [
              "\n",
              "\n",
              "  <div id=\"df-157bc3ec-ab92-4ef4-ac82-8f2999367b8b\">\n",
              "    <div class=\"colab-df-container\">\n",
              "      <div>\n",
              "<style scoped>\n",
              "    .dataframe tbody tr th:only-of-type {\n",
              "        vertical-align: middle;\n",
              "    }\n",
              "\n",
              "    .dataframe tbody tr th {\n",
              "        vertical-align: top;\n",
              "    }\n",
              "\n",
              "    .dataframe thead th {\n",
              "        text-align: right;\n",
              "    }\n",
              "</style>\n",
              "<table border=\"1\" class=\"dataframe\">\n",
              "  <thead>\n",
              "    <tr style=\"text-align: right;\">\n",
              "      <th></th>\n",
              "      <th>id</th>\n",
              "      <th>test_1</th>\n",
              "      <th>test_2</th>\n",
              "    </tr>\n",
              "  </thead>\n",
              "  <tbody>\n",
              "    <tr>\n",
              "      <th>0</th>\n",
              "      <td>0</td>\n",
              "      <td>40</td>\n",
              "      <td>38</td>\n",
              "    </tr>\n",
              "    <tr>\n",
              "      <th>1</th>\n",
              "      <td>1</td>\n",
              "      <td>49</td>\n",
              "      <td>44</td>\n",
              "    </tr>\n",
              "    <tr>\n",
              "      <th>2</th>\n",
              "      <td>2</td>\n",
              "      <td>65</td>\n",
              "      <td>69</td>\n",
              "    </tr>\n",
              "    <tr>\n",
              "      <th>3</th>\n",
              "      <td>3</td>\n",
              "      <td>59</td>\n",
              "      <td>63</td>\n",
              "    </tr>\n",
              "    <tr>\n",
              "      <th>4</th>\n",
              "      <td>4</td>\n",
              "      <td>44</td>\n",
              "      <td>43</td>\n",
              "    </tr>\n",
              "  </tbody>\n",
              "</table>\n",
              "</div>\n",
              "      <button class=\"colab-df-convert\" onclick=\"convertToInteractive('df-157bc3ec-ab92-4ef4-ac82-8f2999367b8b')\"\n",
              "              title=\"Convert this dataframe to an interactive table.\"\n",
              "              style=\"display:none;\">\n",
              "\n",
              "  <svg xmlns=\"http://www.w3.org/2000/svg\" height=\"24px\"viewBox=\"0 0 24 24\"\n",
              "       width=\"24px\">\n",
              "    <path d=\"M0 0h24v24H0V0z\" fill=\"none\"/>\n",
              "    <path d=\"M18.56 5.44l.94 2.06.94-2.06 2.06-.94-2.06-.94-.94-2.06-.94 2.06-2.06.94zm-11 1L8.5 8.5l.94-2.06 2.06-.94-2.06-.94L8.5 2.5l-.94 2.06-2.06.94zm10 10l.94 2.06.94-2.06 2.06-.94-2.06-.94-.94-2.06-.94 2.06-2.06.94z\"/><path d=\"M17.41 7.96l-1.37-1.37c-.4-.4-.92-.59-1.43-.59-.52 0-1.04.2-1.43.59L10.3 9.45l-7.72 7.72c-.78.78-.78 2.05 0 2.83L4 21.41c.39.39.9.59 1.41.59.51 0 1.02-.2 1.41-.59l7.78-7.78 2.81-2.81c.8-.78.8-2.07 0-2.86zM5.41 20L4 18.59l7.72-7.72 1.47 1.35L5.41 20z\"/>\n",
              "  </svg>\n",
              "      </button>\n",
              "\n",
              "\n",
              "\n",
              "    <div id=\"df-40ba0c36-8fd3-49f3-8c35-ba721af97c30\">\n",
              "      <button class=\"colab-df-quickchart\" onclick=\"quickchart('df-40ba0c36-8fd3-49f3-8c35-ba721af97c30')\"\n",
              "              title=\"Suggest charts.\"\n",
              "              style=\"display:none;\">\n",
              "\n",
              "<svg xmlns=\"http://www.w3.org/2000/svg\" height=\"24px\"viewBox=\"0 0 24 24\"\n",
              "     width=\"24px\">\n",
              "    <g>\n",
              "        <path d=\"M19 3H5c-1.1 0-2 .9-2 2v14c0 1.1.9 2 2 2h14c1.1 0 2-.9 2-2V5c0-1.1-.9-2-2-2zM9 17H7v-7h2v7zm4 0h-2V7h2v10zm4 0h-2v-4h2v4z\"/>\n",
              "    </g>\n",
              "</svg>\n",
              "      </button>\n",
              "    </div>\n",
              "\n",
              "<style>\n",
              "  .colab-df-quickchart {\n",
              "    background-color: #E8F0FE;\n",
              "    border: none;\n",
              "    border-radius: 50%;\n",
              "    cursor: pointer;\n",
              "    display: none;\n",
              "    fill: #1967D2;\n",
              "    height: 32px;\n",
              "    padding: 0 0 0 0;\n",
              "    width: 32px;\n",
              "  }\n",
              "\n",
              "  .colab-df-quickchart:hover {\n",
              "    background-color: #E2EBFA;\n",
              "    box-shadow: 0px 1px 2px rgba(60, 64, 67, 0.3), 0px 1px 3px 1px rgba(60, 64, 67, 0.15);\n",
              "    fill: #174EA6;\n",
              "  }\n",
              "\n",
              "  [theme=dark] .colab-df-quickchart {\n",
              "    background-color: #3B4455;\n",
              "    fill: #D2E3FC;\n",
              "  }\n",
              "\n",
              "  [theme=dark] .colab-df-quickchart:hover {\n",
              "    background-color: #434B5C;\n",
              "    box-shadow: 0px 1px 3px 1px rgba(0, 0, 0, 0.15);\n",
              "    filter: drop-shadow(0px 1px 2px rgba(0, 0, 0, 0.3));\n",
              "    fill: #FFFFFF;\n",
              "  }\n",
              "</style>\n",
              "\n",
              "    <script>\n",
              "      async function quickchart(key) {\n",
              "        const containerElement = document.querySelector('#' + key);\n",
              "        const charts = await google.colab.kernel.invokeFunction(\n",
              "            'suggestCharts', [key], {});\n",
              "      }\n",
              "    </script>\n",
              "\n",
              "      <script>\n",
              "\n",
              "function displayQuickchartButton(domScope) {\n",
              "  let quickchartButtonEl =\n",
              "    domScope.querySelector('#df-40ba0c36-8fd3-49f3-8c35-ba721af97c30 button.colab-df-quickchart');\n",
              "  quickchartButtonEl.style.display =\n",
              "    google.colab.kernel.accessAllowed ? 'block' : 'none';\n",
              "}\n",
              "\n",
              "        displayQuickchartButton(document);\n",
              "      </script>\n",
              "      <style>\n",
              "    .colab-df-container {\n",
              "      display:flex;\n",
              "      flex-wrap:wrap;\n",
              "      gap: 12px;\n",
              "    }\n",
              "\n",
              "    .colab-df-convert {\n",
              "      background-color: #E8F0FE;\n",
              "      border: none;\n",
              "      border-radius: 50%;\n",
              "      cursor: pointer;\n",
              "      display: none;\n",
              "      fill: #1967D2;\n",
              "      height: 32px;\n",
              "      padding: 0 0 0 0;\n",
              "      width: 32px;\n",
              "    }\n",
              "\n",
              "    .colab-df-convert:hover {\n",
              "      background-color: #E2EBFA;\n",
              "      box-shadow: 0px 1px 2px rgba(60, 64, 67, 0.3), 0px 1px 3px 1px rgba(60, 64, 67, 0.15);\n",
              "      fill: #174EA6;\n",
              "    }\n",
              "\n",
              "    [theme=dark] .colab-df-convert {\n",
              "      background-color: #3B4455;\n",
              "      fill: #D2E3FC;\n",
              "    }\n",
              "\n",
              "    [theme=dark] .colab-df-convert:hover {\n",
              "      background-color: #434B5C;\n",
              "      box-shadow: 0px 1px 3px 1px rgba(0, 0, 0, 0.15);\n",
              "      filter: drop-shadow(0px 1px 2px rgba(0, 0, 0, 0.3));\n",
              "      fill: #FFFFFF;\n",
              "    }\n",
              "  </style>\n",
              "\n",
              "      <script>\n",
              "        const buttonEl =\n",
              "          document.querySelector('#df-157bc3ec-ab92-4ef4-ac82-8f2999367b8b button.colab-df-convert');\n",
              "        buttonEl.style.display =\n",
              "          google.colab.kernel.accessAllowed ? 'block' : 'none';\n",
              "\n",
              "        async function convertToInteractive(key) {\n",
              "          const element = document.querySelector('#df-157bc3ec-ab92-4ef4-ac82-8f2999367b8b');\n",
              "          const dataTable =\n",
              "            await google.colab.kernel.invokeFunction('convertToInteractive',\n",
              "                                                     [key], {});\n",
              "          if (!dataTable) return;\n",
              "\n",
              "          const docLinkHtml = 'Like what you see? Visit the ' +\n",
              "            '<a target=\"_blank\" href=https://colab.research.google.com/notebooks/data_table.ipynb>data table notebook</a>'\n",
              "            + ' to learn more about interactive tables.';\n",
              "          element.innerHTML = '';\n",
              "          dataTable['output_type'] = 'display_data';\n",
              "          await google.colab.output.renderOutput(dataTable, element);\n",
              "          const docLink = document.createElement('div');\n",
              "          docLink.innerHTML = docLinkHtml;\n",
              "          element.appendChild(docLink);\n",
              "        }\n",
              "      </script>\n",
              "    </div>\n",
              "  </div>\n"
            ]
          },
          "metadata": {},
          "execution_count": 5
        }
      ]
    },
    {
      "cell_type": "code",
      "source": [
        "#H0 : Problem solving has no effect\n",
        "#Ha : Problem solving has an effect\n",
        "\n",
        "t_stat, p_value= ttest_rel(df_ps[\"test_1\"] , df_ps[\"test_2\"])\n",
        "print(p_value)\n",
        "if p_value < 0.1:\n",
        "    print(\"Reject H0\")\n",
        "    print(\"There is a effect on before & after results\")\n",
        "else :\n",
        "  print(\"Accept Ho\")\n",
        "  print(\"No effect , before & after are same\")"
      ],
      "metadata": {
        "colab": {
          "base_uri": "https://localhost:8080/"
        },
        "id": "buyYly8Qb32S",
        "outputId": "a682f361-11e3-4013-c3ea-f9cef09ecec1"
      },
      "execution_count": null,
      "outputs": [
        {
          "output_type": "stream",
          "name": "stdout",
          "text": [
            "1.795840353792313e-07\n",
            "Reject H0\n",
            "There is a effect on before & after results\n"
          ]
        }
      ]
    },
    {
      "cell_type": "code",
      "source": [
        "#H0 : Problem solving has no effect (>=)\n",
        "#Ha : Problem solving improved the scores (<)\n",
        "\n",
        "t_stat, p_value= ttest_rel(df_ps[\"test_1\"], df_ps[\"test_2\"], alternative=\"less\")\n",
        "print(p_value)\n",
        "if p_value < 0.1:\n",
        "    print(\"Reject H0\")\n",
        "    print(\"Problem solving improved the scores\")\n",
        "else :\n",
        "  print(\"Accept Ho\")\n",
        "  print(\"Problem solving has no effect\")"
      ],
      "metadata": {
        "colab": {
          "base_uri": "https://localhost:8080/"
        },
        "id": "kUpidNdscGFh",
        "outputId": "c5bdd171-1f72-4475-835b-950a666a971c"
      },
      "execution_count": null,
      "outputs": [
        {
          "output_type": "stream",
          "name": "stdout",
          "text": [
            "8.979201768961566e-08\n",
            "Reject H0\n",
            "Problem solving improved the scores\n"
          ]
        }
      ]
    },
    {
      "cell_type": "code",
      "source": [
        "# H0 : Problem solving has no effect (<=)\n",
        "# Ha: Problem solving deteriorated the scores (>)\n",
        "\n",
        "t_stat, p_value = ttest_rel(df_ps[\"test_1\"], df_ps[\"test_2\"], alternative=\"greater\")\n",
        "print(p_value)\n",
        "if p_value < 0.1:\n",
        "    print(\"Reject H0\")\n",
        "    print(\"# Ha: Problem solving deteriorated the scores \")\n",
        "else :\n",
        "  print(\"Accept Ho\")\n",
        "  print(\"Problem solving has no effect\")"
      ],
      "metadata": {
        "colab": {
          "base_uri": "https://localhost:8080/"
        },
        "id": "wvPxZnvicVo5",
        "outputId": "691da01c-be49-4178-a83d-331f9dea60e0"
      },
      "execution_count": null,
      "outputs": [
        {
          "output_type": "stream",
          "name": "stdout",
          "text": [
            "0.9999999102079823\n",
            "Accept Ho\n",
            "Problem solving has no effect\n"
          ]
        }
      ]
    },
    {
      "cell_type": "code",
      "source": [
        "len(df_ps)"
      ],
      "metadata": {
        "colab": {
          "base_uri": "https://localhost:8080/"
        },
        "id": "bXjVjuimc9yW",
        "outputId": "dbe211f4-b810-42d2-9265-eaf3f67ccdc5"
      },
      "execution_count": null,
      "outputs": [
        {
          "output_type": "execute_result",
          "data": {
            "text/plain": [
              "137"
            ]
          },
          "metadata": {},
          "execution_count": 12
        }
      ]
    },
    {
      "cell_type": "code",
      "source": [
        "# Notice df ( Degrees of Freedom ) in the output - we need 136 other values to fill rest of the data in the table\n",
        "ttest_rel(df_ps[\"test_1\"], df_ps[\"test_2\"], alternative=\"greater\")"
      ],
      "metadata": {
        "colab": {
          "base_uri": "https://localhost:8080/"
        },
        "id": "69S0sDdecq3z",
        "outputId": "0a6805f5-519e-49f1-e06a-be3221ec115d"
      },
      "execution_count": null,
      "outputs": [
        {
          "output_type": "execute_result",
          "data": {
            "text/plain": [
              "TtestResult(statistic=-5.502886353508166, pvalue=0.9999999102079823, df=136)"
            ]
          },
          "metadata": {},
          "execution_count": 11
        }
      ]
    },
    {
      "cell_type": "markdown",
      "source": [
        "## Mannwhitneyu\n",
        "\n",
        "\n",
        "\n"
      ],
      "metadata": {
        "id": "6KQ8CHDiMgma"
      }
    },
    {
      "cell_type": "markdown",
      "source": [
        "### Non Parametric 2 Sample or Independent T-test"
      ],
      "metadata": {
        "id": "Cj0PjsRCEgbj"
      }
    },
    {
      "cell_type": "markdown",
      "source": [
        "* T-Test Independent is valid on the assumptions that - Sample means of 2 data sets follow Normal Distribution & Datasets Have Equal Variances\n",
        "* When both of them are not valid\n",
        "* then we will do **Non-Paramteric Independent sample T-test**"
      ],
      "metadata": {
        "id": "8qU0T-khLszy"
      }
    },
    {
      "cell_type": "code",
      "source": [
        "# subset = [\"od_total_time\",\"start_scan_to_end_scan\"]\n",
        "\n",
        "#H0: mu1 <= mu2\n",
        "#Ha : mu1 > mu2\n",
        "\n",
        "kruskal_stat, p_value= mannwhitneyu(data2[subset[0]],data2[subset[1]],alternative = \"greater\")\n",
        "print(p_value)\n",
        "if p_value < 0.05:\n",
        "    print(\"Reject H0\")\n",
        "    print(\"One or more groups have different mean\")\n",
        "else:\n",
        "    print(\"Fail to reject H0\")\n",
        "    print(\"All groups have same mean\")"
      ],
      "metadata": {
        "colab": {
          "base_uri": "https://localhost:8080/"
        },
        "id": "-6YGFiqgFq64",
        "outputId": "79716a0a-5e17-4c57-8ac8-ef78ee9230ff"
      },
      "execution_count": null,
      "outputs": [
        {
          "output_type": "stream",
          "name": "stdout",
          "text": [
            "0.010834055922721585\n",
            "Reject H0\n",
            "One or more groups have different mean\n"
          ]
        }
      ]
    },
    {
      "cell_type": "markdown",
      "source": [
        "## Kolmogorov Smirnoff"
      ],
      "metadata": {
        "id": "_wf14QUuNWBb"
      }
    },
    {
      "cell_type": "markdown",
      "source": [
        "### KS-test"
      ],
      "metadata": {
        "id": "5vb6CZ09O42L"
      }
    },
    {
      "cell_type": "markdown",
      "source": [
        "* Performs the (one-sample or two-sample) Kolmogorov-Smirnov test for goodness of fit.\n",
        "\n",
        "* The one-sample test compares the underlying distribution F(x) of a sample against a given distribution G(x). The two-sample test compares the underlying distributions of two independent samples. Both tests are valid only for continuous distributio"
      ],
      "metadata": {
        "id": "F7Ki6TDaPTDR"
      }
    },
    {
      "cell_type": "markdown",
      "source": [
        "* scipy.stats.kstest(rvs, cdf, args=(), N=20, alternative='two-sided', method='auto')"
      ],
      "metadata": {
        "id": "qvBxeFaQPWwF"
      }
    },
    {
      "cell_type": "code",
      "source": [
        "rng = np.random.default_rng()\n",
        "stats.kstest(stats.uniform.rvs(size=100, random_state=rng),\n",
        "             stats.norm.cdf)\n",
        "KstestResult(statistic=0.5001899973268688, pvalue=1.1616392184763533e-23"
      ],
      "metadata": {
        "id": "gKvZ8qE4PDtS"
      },
      "execution_count": null,
      "outputs": []
    },
    {
      "cell_type": "markdown",
      "source": [
        "### KS_1Samp test"
      ],
      "metadata": {
        "id": "Q9Itrm_8PK2x"
      }
    },
    {
      "cell_type": "markdown",
      "source": [
        "* Performs the one-sample Kolmogorov-Smirnov test for goodness of fit.\n",
        "\n",
        "* This test compares the underlying distribution F(x) of a sample against a given continuous distribution G(x). See Notes for a description of the available null and alternative hypotheses."
      ],
      "metadata": {
        "id": "qqCFv3kDP3Hs"
      }
    },
    {
      "cell_type": "markdown",
      "source": [
        "* scipy.stats.ks_1samp(x, cdf, args=(), alternative='two-sided', method='auto')"
      ],
      "metadata": {
        "id": "w15-rXgIP78F"
      }
    },
    {
      "cell_type": "code",
      "source": [
        "rng = np.random.default_rng()\n",
        "stats.ks_1samp(stats.uniform.rvs(size=100, random_state=rng),\n",
        "               stats.norm.cdf)\n",
        "KstestResult(statistic=0.5001899973268688, pvalue=1.1616392184763533e-23)"
      ],
      "metadata": {
        "id": "UvOeENF3QItr"
      },
      "execution_count": null,
      "outputs": []
    },
    {
      "cell_type": "markdown",
      "source": [
        "### KS_2Samp test"
      ],
      "metadata": {
        "id": "t6j2P9T-QO0B"
      }
    },
    {
      "cell_type": "markdown",
      "source": [
        "* Performs the two-sample Kolmogorov-Smirnov test for goodness of fit.\n",
        "\n",
        "* This test compares the underlying continuous distributions F(x) and G(x) of two independent samples. See Notes for a description of the available null and alternative hypotheses."
      ],
      "metadata": {
        "id": "WvsDkOm-QRIz"
      }
    },
    {
      "cell_type": "markdown",
      "source": [
        "* scipy.stats.ks_2samp(data1, data2, alternative='two-sided', method='auto')"
      ],
      "metadata": {
        "id": "KVt4mA5hQy-c"
      }
    },
    {
      "cell_type": "code",
      "source": [
        "rng = np.random.default_rng()\n",
        "sample1 = stats.uniform.rvs(size=100, random_state=rng)\n",
        "sample2 = stats.norm.rvs(size=110, random_state=rng)\n",
        "stats.ks_2samp(sample1, sample2)\n",
        "KstestResult(statistic=0.5454545454545454, pvalue=7.37417839555191e-15"
      ],
      "metadata": {
        "id": "cYkSvcQxQ3no"
      },
      "execution_count": null,
      "outputs": []
    },
    {
      "cell_type": "markdown",
      "source": [
        "## Chisquared Test"
      ],
      "metadata": {
        "id": "eGpjPOUr2jcf"
      }
    },
    {
      "cell_type": "markdown",
      "source": [
        "### fit the Expected Distribution"
      ],
      "metadata": {
        "id": "G01nHNgHM9Uy"
      }
    },
    {
      "cell_type": "code",
      "source": [
        "#Coin toss\n",
        "#Checking to see if categories fit the Expected Distribution like a fair coin having 50% Head and 50% Tails\n",
        "\n",
        "#H0 : Coin is fair\n",
        "#Ha : Coin is biased\n",
        "#Chisquared(Actual Values, Expected Values as per Ho)\n",
        "alpha = 0.05\n",
        "chi_stat, p_value = chisquare(\n",
        "    [28, 22],\n",
        "    [25, 25],\n",
        ")\n",
        "print(p_value)\n",
        "print(chi_stat)\n",
        "if p_value < alpha:\n",
        "    print(\"Reject H0\")\n",
        "else:\n",
        "    print(\"Fail to reject H0\")\n",
        "    print(\"Coin is fair\")"
      ],
      "metadata": {
        "colab": {
          "base_uri": "https://localhost:8080/"
        },
        "id": "Rq-TfgKu2rqq",
        "outputId": "8bcec4bc-5951-42f7-dc31-f9fc3199f398"
      },
      "execution_count": null,
      "outputs": [
        {
          "output_type": "stream",
          "name": "stdout",
          "text": [
            "0.3961439091520741\n",
            "0.72\n",
            "Fail to reject H0\n",
            "Coin is fair\n"
          ]
        }
      ]
    },
    {
      "cell_type": "code",
      "source": [
        "#chi-stat manually doing\n",
        "(28 - 25)**2/25 + (22 - 25)**2 /25"
      ],
      "metadata": {
        "colab": {
          "base_uri": "https://localhost:8080/"
        },
        "id": "r408cJE83oL3",
        "outputId": "1a916826-c3ad-420d-dcf5-fde94d435633"
      },
      "execution_count": null,
      "outputs": [
        {
          "output_type": "execute_result",
          "data": {
            "text/plain": [
              "0.72"
            ]
          },
          "metadata": {},
          "execution_count": 5
        }
      ]
    },
    {
      "cell_type": "code",
      "source": [
        "#p-value manually doing\n",
        "# 1 - chi2.cdf(chi-stat, df=1)\n",
        "1 - chi2.cdf(0.72, df=1)"
      ],
      "metadata": {
        "colab": {
          "base_uri": "https://localhost:8080/"
        },
        "id": "6mFNvEqq3vgI",
        "outputId": "b3db2879-e04d-412a-c16d-72bd31cab129"
      },
      "execution_count": null,
      "outputs": [
        {
          "output_type": "execute_result",
          "data": {
            "text/plain": [
              "0.3961439091520741"
            ]
          },
          "metadata": {},
          "execution_count": 6
        }
      ]
    },
    {
      "cell_type": "code",
      "source": [
        "#finding 95% Critical Chistat Value\n",
        "chi2.ppf(0.95, df=1)"
      ],
      "metadata": {
        "colab": {
          "base_uri": "https://localhost:8080/"
        },
        "id": "LzUo0SLZ4Onb",
        "outputId": "1888220c-9c3b-44b2-b727-f0d859c46631"
      },
      "execution_count": null,
      "outputs": [
        {
          "output_type": "execute_result",
          "data": {
            "text/plain": [
              "3.841458820694124"
            ]
          },
          "metadata": {},
          "execution_count": 7
        }
      ]
    },
    {
      "cell_type": "markdown",
      "source": [
        "### Independence between categories"
      ],
      "metadata": {
        "id": "LevXPeahNDqV"
      }
    },
    {
      "cell_type": "code",
      "source": [
        "#Gender vs offline and online\n",
        "# Testing for Independence between categories like if Gender has effect on Online/Offline Buying\n",
        "\n",
        "# H0: Gender and preference are independent\n",
        "# Ha: Preference depends on gender\n",
        "\n",
        "observed = [\n",
        "    [527, 72],\n",
        "    [206, 102],\n",
        "]\n",
        "\n",
        "chi_stat, p_value, df, exp_freq = chi2_contingency(observed)\n",
        "print(chi_stat)\n",
        "print(p_value)\n",
        "print(df)\n",
        "print(exp_freq)\n",
        "if p_value < 0.05:\n",
        "    print(\"Reject H0\")"
      ],
      "metadata": {
        "colab": {
          "base_uri": "https://localhost:8080/"
        },
        "id": "wdO3ssYb4ZkJ",
        "outputId": "422f870c-55a9-4d2c-bed1-0674d4250fab"
      },
      "execution_count": null,
      "outputs": [
        {
          "output_type": "stream",
          "name": "stdout",
          "text": [
            "57.04098674049609\n",
            "4.268230756875865e-14\n",
            "1\n",
            "[[484.08710033 114.91289967]\n",
            " [248.91289967  59.08710033]]\n",
            "Reject H0\n"
          ]
        }
      ]
    },
    {
      "cell_type": "markdown",
      "source": [
        "## ANOVA"
      ],
      "metadata": {
        "id": "EbGyir2qw1B_"
      }
    },
    {
      "cell_type": "code",
      "source": [
        "from scipy.stats import f_oneway"
      ],
      "metadata": {
        "id": "SuZKvKvRw7AN"
      },
      "execution_count": null,
      "outputs": []
    },
    {
      "cell_type": "code",
      "source": [
        "#H0 : All groups have same mean\n",
        "#Ha : One or more groups have different mean\n",
        "\n",
        "f_stats, p_value = f_oneway(income_kp281, income_kp481, income_kp781)\n",
        "\n",
        "if p_value < 0.05:\n",
        "    print(\"Reject H0\")\n",
        "else:\n",
        "    print(\"Fail to reject H0\")\n",
        "    print(\"All groups have same mean\")"
      ],
      "metadata": {
        "id": "AxRkFMjjxG9m"
      },
      "execution_count": null,
      "outputs": []
    },
    {
      "cell_type": "markdown",
      "source": [
        "### Kruskal Wallis"
      ],
      "metadata": {
        "id": "-PbIjvb8xwXH"
      }
    },
    {
      "cell_type": "code",
      "source": [
        "from scipy.stats import kruskal"
      ],
      "metadata": {
        "id": "A2gUn0a0xRqU"
      },
      "execution_count": null,
      "outputs": []
    },
    {
      "cell_type": "code",
      "source": [
        "#H0 : All groups have same mean\n",
        "#Ha : One or more groups have different mean\n",
        "\n",
        "kruskal_stat, p_value= kruskal(weather1,weather2,weather3,weather4)\n",
        "print(p_value)\n",
        "if p_value < 0.05:\n",
        "    print(\"Reject H0\")\n",
        "    print(\"All groups have different mean\")\n",
        "else:\n",
        "    print(\"Fail to reject H0\")\n",
        "    print(\"All groups have same mean\")"
      ],
      "metadata": {
        "id": "tRkjI9pDxSXm"
      },
      "execution_count": null,
      "outputs": []
    },
    {
      "cell_type": "code",
      "source": [
        "#H0 : All groups have same mean\n",
        "#Ha : One or more groups have different mean\n",
        "\n",
        "kruskal_stat, p_value= kruskal(weather1,weather2,weather3,weather4)\n",
        "print(p_value)\n",
        "if p_value < 0.05:\n",
        "    print(\"Reject H0\")\n",
        "    print(\"One or more groups have different mean\")\n",
        "else:\n",
        "    print(\"Fail to reject H0\")\n",
        "    print(\"All groups have same mean\")"
      ],
      "metadata": {
        "id": "hEXWZ01r3BoL"
      },
      "execution_count": null,
      "outputs": []
    },
    {
      "cell_type": "markdown",
      "source": [
        "### QQplots"
      ],
      "metadata": {
        "id": "2_YbEvk1x5dk"
      }
    },
    {
      "cell_type": "markdown",
      "source": [
        "To get intuition if data is Normal Distribution"
      ],
      "metadata": {
        "id": "7UJxvmg9NbM7"
      }
    },
    {
      "cell_type": "code",
      "source": [
        "from statsmodels.graphics.gofplots import qqplot\n",
        "qqplot(height, line=\"s\")\n",
        "plt.show()"
      ],
      "metadata": {
        "id": "H3jr0X98yVg3"
      },
      "execution_count": null,
      "outputs": []
    },
    {
      "cell_type": "markdown",
      "source": [
        "### Shapiro"
      ],
      "metadata": {
        "id": "bfh8qo8nyxW7"
      }
    },
    {
      "cell_type": "markdown",
      "source": [
        "To statistically check if given data is Gaussian Distribution"
      ],
      "metadata": {
        "id": "w5nxcmwkNf5b"
      }
    },
    {
      "cell_type": "code",
      "source": [
        "from scipy.stats import shapiro"
      ],
      "metadata": {
        "id": "nlSmXsiCy6gS"
      },
      "execution_count": null,
      "outputs": []
    },
    {
      "cell_type": "code",
      "source": [
        "#H0 : Data is Gaussian\n",
        "#Ha : Data is not Gaussian\n",
        "\n",
        "test_stat, p_value = shapiro(height_subset)\n",
        "if p_value < 0.05:\n",
        "    print(\"Reject H0\")\n",
        "    print(\"Data is Not Gaussian\")\n",
        "else:\n",
        "    print(\"Fail to reject H0\")\n",
        "    print(\"Data is Gaussian\")"
      ],
      "metadata": {
        "id": "7bkghHKTzIDR"
      },
      "execution_count": null,
      "outputs": []
    },
    {
      "cell_type": "markdown",
      "source": [
        "### Levene Test"
      ],
      "metadata": {
        "id": "WMw6M-QDNm2F"
      }
    },
    {
      "cell_type": "markdown",
      "source": [
        "To check if data sets have same Variance"
      ],
      "metadata": {
        "id": "wnOwQI0Mzx5w"
      }
    },
    {
      "cell_type": "code",
      "source": [
        "from scipy.stats import levene"
      ],
      "metadata": {
        "id": "t0LC2riiz0hU"
      },
      "execution_count": null,
      "outputs": []
    },
    {
      "cell_type": "markdown",
      "source": [
        "* levene(data1,data2,centre = \"mean\") --> when distribution Normal or moderately skewed\n",
        "* levene(data1,data2,centre = \"median\") --> when distribution skewed\n",
        "* levene(data1,data2,centre = \"trimmed\") --> when distribution is heavy tailed\n",
        "\n",
        "![photo.png](data:image/png;base64,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)"
      ],
      "metadata": {
        "id": "HB-Otktjbp6S"
      }
    },
    {
      "cell_type": "code",
      "source": [
        "# Ho: Variances are equal\n",
        "# Ha: Variances are not equal\n",
        "levene_stat, p_value = levene(height_men, height_women)\n",
        "print(p_value)\n",
        "if p_value < 0.05:\n",
        "    print(\"Reject Ho\")\n",
        "    print(\"Variances are not equal\")\n",
        "else:\n",
        "    print(\"Fail to reject Ho\")\n",
        "    print(\"Variances are equal\")"
      ],
      "metadata": {
        "id": "P5SwRXPNz98r"
      },
      "execution_count": null,
      "outputs": []
    },
    {
      "cell_type": "markdown",
      "source": [
        "## Correlation test"
      ],
      "metadata": {
        "id": "mTH0Rp3e1J2n"
      }
    },
    {
      "cell_type": "markdown",
      "source": [
        "### Linear Relation data"
      ],
      "metadata": {
        "id": "DuFUlUA-1ZfP"
      }
    },
    {
      "cell_type": "code",
      "source": [
        "df_hw = pd.read_csv(\"weight-height.csv\")"
      ],
      "metadata": {
        "id": "sIxatxaX1Oly"
      },
      "execution_count": null,
      "outputs": []
    },
    {
      "cell_type": "code",
      "source": [
        "sns.scatterplot(x=df_hw[\"Height\"], y=df_hw[\"Weight\"])"
      ],
      "metadata": {
        "id": "khHYd9Bd1u5X",
        "outputId": "1b5aaa8c-aa4e-4ab9-bd28-bfa4b1cc5f65",
        "colab": {
          "base_uri": "https://localhost:8080/",
          "height": 466
        }
      },
      "execution_count": null,
      "outputs": [
        {
          "output_type": "execute_result",
          "data": {
            "text/plain": [
              "<Axes: xlabel='Height', ylabel='Weight'>"
            ]
          },
          "metadata": {},
          "execution_count": 4
        },
        {
          "output_type": "display_data",
          "data": {
            "text/plain": [
              "<Figure size 640x480 with 1 Axes>"
            ],
            "image/png": "[encoded data removed]"
          },
          "metadata": {}
        }
      ]
    },
    {
      "cell_type": "code",
      "source": [
        "df_hw[[\"Height\", \"Weight\"]].corr() #pearson corr coeff"
      ],
      "metadata": {
        "id": "izoZoK1k129v",
        "outputId": "5fb728fe-e22b-497b-b038-2e5a85cbfca8",
        "colab": {
          "base_uri": "https://localhost:8080/",
          "height": 112
        }
      },
      "execution_count": null,
      "outputs": [
        {
          "output_type": "execute_result",
          "data": {
            "text/plain": [
              "          Height    Weight\n",
              "Height  1.000000  0.924756\n",
              "Weight  0.924756  1.000000"
            ],
            "text/html": [
              "\n",
              "\n",
              "  <div id=\"df-9cbb892c-e188-4180-8646-cc119296a21e\">\n",
              "    <div class=\"colab-df-container\">\n",
              "      <div>\n",
              "<style scoped>\n",
              "    .dataframe tbody tr th:only-of-type {\n",
              "        vertical-align: middle;\n",
              "    }\n",
              "\n",
              "    .dataframe tbody tr th {\n",
              "        vertical-align: top;\n",
              "    }\n",
              "\n",
              "    .dataframe thead th {\n",
              "        text-align: right;\n",
              "    }\n",
              "</style>\n",
              "<table border=\"1\" class=\"dataframe\">\n",
              "  <thead>\n",
              "    <tr style=\"text-align: right;\">\n",
              "      <th></th>\n",
              "      <th>Height</th>\n",
              "      <th>Weight</th>\n",
              "    </tr>\n",
              "  </thead>\n",
              "  <tbody>\n",
              "    <tr>\n",
              "      <th>Height</th>\n",
              "      <td>1.000000</td>\n",
              "      <td>0.924756</td>\n",
              "    </tr>\n",
              "    <tr>\n",
              "      <th>Weight</th>\n",
              "      <td>0.924756</td>\n",
              "      <td>1.000000</td>\n",
              "    </tr>\n",
              "  </tbody>\n",
              "</table>\n",
              "</div>\n",
              "      <button class=\"colab-df-convert\" onclick=\"convertToInteractive('df-9cbb892c-e188-4180-8646-cc119296a21e')\"\n",
              "              title=\"Convert this dataframe to an interactive table.\"\n",
              "              style=\"display:none;\">\n",
              "\n",
              "  <svg xmlns=\"http://www.w3.org/2000/svg\" height=\"24px\"viewBox=\"0 0 24 24\"\n",
              "       width=\"24px\">\n",
              "    <path d=\"M0 0h24v24H0V0z\" fill=\"none\"/>\n",
              "    <path d=\"M18.56 5.44l.94 2.06.94-2.06 2.06-.94-2.06-.94-.94-2.06-.94 2.06-2.06.94zm-11 1L8.5 8.5l.94-2.06 2.06-.94-2.06-.94L8.5 2.5l-.94 2.06-2.06.94zm10 10l.94 2.06.94-2.06 2.06-.94-2.06-.94-.94-2.06-.94 2.06-2.06.94z\"/><path d=\"M17.41 7.96l-1.37-1.37c-.4-.4-.92-.59-1.43-.59-.52 0-1.04.2-1.43.59L10.3 9.45l-7.72 7.72c-.78.78-.78 2.05 0 2.83L4 21.41c.39.39.9.59 1.41.59.51 0 1.02-.2 1.41-.59l7.78-7.78 2.81-2.81c.8-.78.8-2.07 0-2.86zM5.41 20L4 18.59l7.72-7.72 1.47 1.35L5.41 20z\"/>\n",
              "  </svg>\n",
              "      </button>\n",
              "\n",
              "\n",
              "\n",
              "    <div id=\"df-8beecc2a-99da-4510-aeaf-470bea4130fa\">\n",
              "      <button class=\"colab-df-quickchart\" onclick=\"quickchart('df-8beecc2a-99da-4510-aeaf-470bea4130fa')\"\n",
              "              title=\"Suggest charts.\"\n",
              "              style=\"display:none;\">\n",
              "\n",
              "<svg xmlns=\"http://www.w3.org/2000/svg\" height=\"24px\"viewBox=\"0 0 24 24\"\n",
              "     width=\"24px\">\n",
              "    <g>\n",
              "        <path d=\"M19 3H5c-1.1 0-2 .9-2 2v14c0 1.1.9 2 2 2h14c1.1 0 2-.9 2-2V5c0-1.1-.9-2-2-2zM9 17H7v-7h2v7zm4 0h-2V7h2v10zm4 0h-2v-4h2v4z\"/>\n",
              "    </g>\n",
              "</svg>\n",
              "      </button>\n",
              "    </div>\n",
              "\n",
              "<style>\n",
              "  .colab-df-quickchart {\n",
              "    background-color: #E8F0FE;\n",
              "    border: none;\n",
              "    border-radius: 50%;\n",
              "    cursor: pointer;\n",
              "    display: none;\n",
              "    fill: #1967D2;\n",
              "    height: 32px;\n",
              "    padding: 0 0 0 0;\n",
              "    width: 32px;\n",
              "  }\n",
              "\n",
              "  .colab-df-quickchart:hover {\n",
              "    background-color: #E2EBFA;\n",
              "    box-shadow: 0px 1px 2px rgba(60, 64, 67, 0.3), 0px 1px 3px 1px rgba(60, 64, 67, 0.15);\n",
              "    fill: #174EA6;\n",
              "  }\n",
              "\n",
              "  [theme=dark] .colab-df-quickchart {\n",
              "    background-color: #3B4455;\n",
              "    fill: #D2E3FC;\n",
              "  }\n",
              "\n",
              "  [theme=dark] .colab-df-quickchart:hover {\n",
              "    background-color: #434B5C;\n",
              "    box-shadow: 0px 1px 3px 1px rgba(0, 0, 0, 0.15);\n",
              "    filter: drop-shadow(0px 1px 2px rgba(0, 0, 0, 0.3));\n",
              "    fill: #FFFFFF;\n",
              "  }\n",
              "</style>\n",
              "\n",
              "    <script>\n",
              "      async function quickchart(key) {\n",
              "        const containerElement = document.querySelector('#' + key);\n",
              "        const charts = await google.colab.kernel.invokeFunction(\n",
              "            'suggestCharts', [key], {});\n",
              "      }\n",
              "    </script>\n",
              "\n",
              "      <script>\n",
              "\n",
              "function displayQuickchartButton(domScope) {\n",
              "  let quickchartButtonEl =\n",
              "    domScope.querySelector('#df-8beecc2a-99da-4510-aeaf-470bea4130fa button.colab-df-quickchart');\n",
              "  quickchartButtonEl.style.display =\n",
              "    google.colab.kernel.accessAllowed ? 'block' : 'none';\n",
              "}\n",
              "\n",
              "        displayQuickchartButton(document);\n",
              "      </script>\n",
              "      <style>\n",
              "    .colab-df-container {\n",
              "      display:flex;\n",
              "      flex-wrap:wrap;\n",
              "      gap: 12px;\n",
              "    }\n",
              "\n",
              "    .colab-df-convert {\n",
              "      background-color: #E8F0FE;\n",
              "      border: none;\n",
              "      border-radius: 50%;\n",
              "      cursor: pointer;\n",
              "      display: none;\n",
              "      fill: #1967D2;\n",
              "      height: 32px;\n",
              "      padding: 0 0 0 0;\n",
              "      width: 32px;\n",
              "    }\n",
              "\n",
              "    .colab-df-convert:hover {\n",
              "      background-color: #E2EBFA;\n",
              "      box-shadow: 0px 1px 2px rgba(60, 64, 67, 0.3), 0px 1px 3px 1px rgba(60, 64, 67, 0.15);\n",
              "      fill: #174EA6;\n",
              "    }\n",
              "\n",
              "    [theme=dark] .colab-df-convert {\n",
              "      background-color: #3B4455;\n",
              "      fill: #D2E3FC;\n",
              "    }\n",
              "\n",
              "    [theme=dark] .colab-df-convert:hover {\n",
              "      background-color: #434B5C;\n",
              "      box-shadow: 0px 1px 3px 1px rgba(0, 0, 0, 0.15);\n",
              "      filter: drop-shadow(0px 1px 2px rgba(0, 0, 0, 0.3));\n",
              "      fill: #FFFFFF;\n",
              "    }\n",
              "  </style>\n",
              "\n",
              "      <script>\n",
              "        const buttonEl =\n",
              "          document.querySelector('#df-9cbb892c-e188-4180-8646-cc119296a21e button.colab-df-convert');\n",
              "        buttonEl.style.display =\n",
              "          google.colab.kernel.accessAllowed ? 'block' : 'none';\n",
              "\n",
              "        async function convertToInteractive(key) {\n",
              "          const element = document.querySelector('#df-9cbb892c-e188-4180-8646-cc119296a21e');\n",
              "          const dataTable =\n",
              "            await google.colab.kernel.invokeFunction('convertToInteractive',\n",
              "                                                     [key], {});\n",
              "          if (!dataTable) return;\n",
              "\n",
              "          const docLinkHtml = 'Like what you see? Visit the ' +\n",
              "            '<a target=\"_blank\" href=https://colab.research.google.com/notebooks/data_table.ipynb>data table notebook</a>'\n",
              "            + ' to learn more about interactive tables.';\n",
              "          element.innerHTML = '';\n",
              "          dataTable['output_type'] = 'display_data';\n",
              "          await google.colab.output.renderOutput(dataTable, element);\n",
              "          const docLink = document.createElement('div');\n",
              "          docLink.innerHTML = docLinkHtml;\n",
              "          element.appendChild(docLink);\n",
              "        }\n",
              "      </script>\n",
              "    </div>\n",
              "  </div>\n"
            ]
          },
          "metadata": {},
          "execution_count": 5
        }
      ]
    },
    {
      "cell_type": "code",
      "source": [
        "np.corrcoef(df_hw[\"Height\"], df_hw[\"Weight\"]) #pearson corr coeff"
      ],
      "metadata": {
        "id": "_V2WMsTQ17Rg",
        "outputId": "92a668a6-1d61-428f-87f2-ec10024bf27c",
        "colab": {
          "base_uri": "https://localhost:8080/"
        }
      },
      "execution_count": null,
      "outputs": [
        {
          "output_type": "execute_result",
          "data": {
            "text/plain": [
              "array([[1.       , 0.9247563],\n",
              "       [0.9247563, 1.       ]])"
            ]
          },
          "metadata": {},
          "execution_count": 6
        }
      ]
    },
    {
      "cell_type": "code",
      "source": [
        "# H0: No correlation\n",
        "# Ha: There is correlation\n",
        "\n",
        "pearson_coeff, p_value = pearsonr(df_hw[\"Height\"], df_hw[\"Weight\"])\n",
        "\n",
        "# pearson works only if data is linear....so plot XY scatter before applying any correlation test\n",
        "print(p_value)\n",
        "if p_value < 0.05:\n",
        "    print(\"Reject H0\")\n",
        "    print(\"There is correlation\")\n",
        "else:\n",
        "    print(\"Fail to reject H0\")\n",
        "    print(\"There is no correlation\")"
      ],
      "metadata": {
        "id": "vClzP-An2FWI",
        "outputId": "04e839a4-f73b-457c-ef5f-aa621ec013f0",
        "colab": {
          "base_uri": "https://localhost:8080/"
        }
      },
      "execution_count": null,
      "outputs": [
        {
          "output_type": "stream",
          "name": "stdout",
          "text": [
            "Reject H0\n"
          ]
        }
      ]
    },
    {
      "cell_type": "markdown",
      "source": [
        "### Non Linear Realtion Data"
      ],
      "metadata": {
        "id": "Bxq4Zyi72WEM"
      }
    },
    {
      "cell_type": "markdown",
      "source": [
        "Detect nonlinear data correlation as long as data is monotonous meaning x-increase then y-increase lly x-decrease then y-decrease"
      ],
      "metadata": {
        "id": "vPcZU4cRN84u"
      }
    },
    {
      "cell_type": "code",
      "source": [
        "# H0: No correlation\n",
        "# Ha: There is correlation\n",
        "\n",
        "spearman_coeff, p_value = spearmanr(df_hw[\"Height\"], df_hw[\"Weight\"])\n",
        "\n",
        "#spearman detect nonlinear as data is monotonin meaning x-increase then y-increase lly x-decrease then y-decrease\n",
        "print(p_value)\n",
        "if p_value < 0.05:\n",
        "    print(\"Reject H0\")\n",
        "    print(\"There is correlation\")\n",
        "else:\n",
        "    print(\"Fail to reject H0\")\n",
        "    print(\"There is no correlation\")"
      ],
      "metadata": {
        "id": "-beKdXfp2al6",
        "outputId": "ad442357-4d75-4c46-ee5a-b144d7bad4d4",
        "colab": {
          "base_uri": "https://localhost:8080/"
        }
      },
      "execution_count": null,
      "outputs": [
        {
          "output_type": "stream",
          "name": "stdout",
          "text": [
            "Reject H0\n"
          ]
        }
      ]
    },
    {
      "cell_type": "markdown",
      "source": [
        "## Poisson Distribution"
      ],
      "metadata": {
        "id": "3z0jpswcLLOy"
      }
    },
    {
      "cell_type": "code",
      "source": [
        "#Accident\n",
        "#A city sees 3 accidents per day on average., what is the propability that there will be eactly 5 Accidents\n",
        "# k = No of Events = 5\n",
        "# mu = lambda = Expected occurence rate = 3\n",
        "poisson.pmf(k=5, mu=3)"
      ],
      "metadata": {
        "colab": {
          "base_uri": "https://localhost:8080/"
        },
        "id": "KNrwDJucLRVD",
        "outputId": "df20b83f-2416-45ba-f2e9-740be28463b7"
      },
      "execution_count": null,
      "outputs": [
        {
          "output_type": "execute_result",
          "data": {
            "text/plain": [
              "0.10081881344492458"
            ]
          },
          "metadata": {},
          "execution_count": 16
        }
      ]
    },
    {
      "cell_type": "code",
      "source": [
        "#Accident\n",
        "#A city sees 3 accidents per day on average., what is the propability that there will be eactly 5 or fewer accidents tomorrow\n",
        "# k = No of Events = 5\n",
        "# mu = lambda = Expected occurence rate = 3\n",
        "poisson.cdf(k=5, mu=3)"
      ],
      "metadata": {
        "colab": {
          "base_uri": "https://localhost:8080/"
        },
        "id": "ESODophYSB_i",
        "outputId": "7373662a-10c5-4c23-9e1e-9baafb3a3d61"
      },
      "execution_count": null,
      "outputs": [
        {
          "output_type": "execute_result",
          "data": {
            "text/plain": [
              "0.9160820579686966"
            ]
          },
          "metadata": {},
          "execution_count": 17
        }
      ]
    },
    {
      "cell_type": "code",
      "source": [
        "# Rechecking Function of CDF & PMF\n",
        "# [poisson.pmf(k=0, mu=3) + poisson.pmf(k=1, mu=3) + poisson.pmf(k=2, mu=3) + poisson.pmf(k=3, mu=3) + poisson.pmf(k=4, mu=3)] == [poisson.cdf(k= 4, mu=3)]"
      ],
      "metadata": {
        "id": "5DYfvdBpSQH5"
      },
      "execution_count": null,
      "outputs": []
    },
    {
      "cell_type": "code",
      "source": [
        "poisson.pmf(k=0, mu=3) + poisson.pmf(k=1, mu=3) + poisson.pmf(k=2, mu=3) + poisson.pmf(k=3, mu=3) + poisson.pmf(k=4, mu=3)"
      ],
      "metadata": {
        "colab": {
          "base_uri": "https://localhost:8080/"
        },
        "id": "FVqNABENS1aW",
        "outputId": "982d8ed9-1d53-40f9-edcb-21551d0bea0a"
      },
      "execution_count": null,
      "outputs": [
        {
          "output_type": "execute_result",
          "data": {
            "text/plain": [
              "0.8152632445237721"
            ]
          },
          "metadata": {},
          "execution_count": 22
        }
      ]
    },
    {
      "cell_type": "code",
      "source": [
        "poisson.cdf(k=4, mu=3)"
      ],
      "metadata": {
        "colab": {
          "base_uri": "https://localhost:8080/"
        },
        "id": "aRaH4WE_SycI",
        "outputId": "4b5584ee-b082-4932-c355-ae16058df3df"
      },
      "execution_count": null,
      "outputs": [
        {
          "output_type": "execute_result",
          "data": {
            "text/plain": [
              "0.8152632445237722"
            ]
          },
          "metadata": {},
          "execution_count": 21
        }
      ]
    },
    {
      "cell_type": "code",
      "source": [
        "# A shop is open for 8 hours. The average number of customers is 74 - assume Poisson distributed.\n",
        "\n",
        "# What is the probability that in 2 hours, there will be at most 15 customers\n",
        "\n",
        "# mu = 74/8*2 = 18.5\n",
        "poisson.cdf(k=15, mu=18.5)"
      ],
      "metadata": {
        "colab": {
          "base_uri": "https://localhost:8080/"
        },
        "id": "qr3yMMLSTMo4",
        "outputId": "bee6b555-7fd9-4a5f-d6b6-6c3f62b8bd0e"
      },
      "execution_count": null,
      "outputs": [
        {
          "output_type": "execute_result",
          "data": {
            "text/plain": [
              "0.24902769151284776"
            ]
          },
          "metadata": {},
          "execution_count": 25
        }
      ]
    },
    {
      "cell_type": "code",
      "source": [
        "# A shop is open for 8 hours. The average number of customers is 74 - assume Poisson distributed.\n",
        "\n",
        "# What is the probability that in 2 hours, there will be atleast 7 Customers\n",
        "\n",
        "# mu = 74/8*2 = 18.5\n",
        "\n",
        "# P[x >=7] = 1 - P[x<=6] #discrete\n",
        "# P[x >=7] = 1 - P[x<7] #continous\n",
        "\n",
        "# Poisson is discrete Distribution like binom, geom where as norm is continuous,so\n",
        "\n",
        "1- poisson.cdf(k=6 , mu=18.5)"
      ],
      "metadata": {
        "colab": {
          "base_uri": "https://localhost:8080/"
        },
        "id": "7QTgNQqXTusk",
        "outputId": "caf4dc87-8876-4f90-e3a4-7e8872acb26e"
      },
      "execution_count": null,
      "outputs": [
        {
          "output_type": "execute_result",
          "data": {
            "text/plain": [
              "0.9992622541111789"
            ]
          },
          "metadata": {},
          "execution_count": 26
        }
      ]
    },
    {
      "cell_type": "code",
      "source": [
        "# There are 80 students in a kinder garden class. Each one of them has 0.015 probability of forgetting their lunch on any given day.\n",
        "\n",
        "# What is the average or expected number of students who forgot lunch in the class?\n",
        "\n",
        "80*0.015 #rate = 1.2\n",
        "\n",
        "# What is the propability that 3 Students will forget their lunch\n",
        "\n",
        "poisson.pmf(k=3,mu=1.2)"
      ],
      "metadata": {
        "colab": {
          "base_uri": "https://localhost:8080/"
        },
        "id": "-oEzNAQQUdVw",
        "outputId": "d5f2818b-3cbf-4800-be29-ff6d1eb7e9fb"
      },
      "execution_count": null,
      "outputs": [
        {
          "output_type": "execute_result",
          "data": {
            "text/plain": [
              "0.08674393303071422"
            ]
          },
          "metadata": {},
          "execution_count": 28
        }
      ]
    },
    {
      "cell_type": "code",
      "source": [
        "# when Large n, small p, np=mu or lambda,\n",
        "# then Binom distribution approximately equal to Poisson distribution\n",
        "\n",
        "binom.pmf(k=3, n=80, p=0.015)"
      ],
      "metadata": {
        "colab": {
          "base_uri": "https://localhost:8080/"
        },
        "id": "lQrUbJX9U-Tf",
        "outputId": "bd3346ac-0604-4ead-aee7-ac4bc6f703e4"
      },
      "execution_count": null,
      "outputs": [
        {
          "output_type": "execute_result",
          "data": {
            "text/plain": [
              "0.08660120920447566"
            ]
          },
          "metadata": {},
          "execution_count": 30
        }
      ]
    },
    {
      "cell_type": "code",
      "source": [
        "#Comparison of Poisson & Binom Distribution with p= 0.5,n=30\n",
        "\n",
        "plt.figure(figsize=(20,8))\n",
        "plt.subplot(1,2,1)\n",
        "mu = 15\n",
        "x_values = np.arange(0, 30)\n",
        "y_values = poisson.pmf(x_values, mu=mu)\n",
        "sns.barplot(x=x_values, y=y_values)\n",
        "plt.title(\"Poisson Distribution\")\n",
        "\n",
        "plt.subplot(1,2,2)\n",
        "p = 0.5\n",
        "x_values = np.arange(0, 30)\n",
        "y_values = binom.pmf(x_values, n=30,p=0.5)\n",
        "sns.barplot(x=x_values, y=y_values)\n",
        "plt.title(\"Binomial Distribution\")\n",
        "\n",
        "plt.show()"
      ],
      "metadata": {
        "colab": {
          "base_uri": "https://localhost:8080/",
          "height": 609
        },
        "id": "IBCDFpz8VtUC",
        "outputId": "d6c39a4a-5f7a-4bc6-cf11-d93eeb808b21"
      },
      "execution_count": null,
      "outputs": [
        {
          "output_type": "display_data",
          "data": {
            "text/plain": [
              "<Figure size 2000x800 with 2 Axes>"
            ],
            "image/png": "[encoded data removed]"
          },
          "metadata": {}
        }
      ]
    },
    {
      "cell_type": "code",
      "source": [
        "#Poisson distribution - Football\n",
        "\n",
        "mu = 2.5\n",
        "x_values = np.arange(0, 10)\n",
        "y_values = poisson.pmf(x_values, mu=mu)\n",
        "sns.barplot(x=x_values, y=y_values)"
      ],
      "metadata": {
        "colab": {
          "base_uri": "https://localhost:8080/",
          "height": 447
        },
        "id": "NcqVkxQMVcfp",
        "outputId": "0dd35ff7-e0da-4429-85d7-fff94c5f584a"
      },
      "execution_count": null,
      "outputs": [
        {
          "output_type": "execute_result",
          "data": {
            "text/plain": [
              "<Axes: >"
            ]
          },
          "metadata": {},
          "execution_count": 31
        },
        {
          "output_type": "display_data",
          "data": {
            "text/plain": [
              "<Figure size 640x480 with 1 Axes>"
            ],
            "image/png": "[encoded data removed]"
          },
          "metadata": {}
        }
      ]
    },
    {
      "cell_type": "code",
      "source": [
        "mu = 6\n",
        "x_values = np.arange(0, 30)\n",
        "y_values = poisson.pmf(x_values, mu=mu)\n",
        "sns.barplot(x=x_values, y=y_values)"
      ],
      "metadata": {
        "colab": {
          "base_uri": "https://localhost:8080/",
          "height": 447
        },
        "id": "zKd_SpR3VkPU",
        "outputId": "9215fbb2-33ac-44d6-ac6b-5457bd7021ef"
      },
      "execution_count": null,
      "outputs": [
        {
          "output_type": "execute_result",
          "data": {
            "text/plain": [
              "<Axes: >"
            ]
          },
          "metadata": {},
          "execution_count": 32
        },
        {
          "output_type": "display_data",
          "data": {
            "text/plain": [
              "<Figure size 640x480 with 1 Axes>"
            ],
            "image/png": "[encoded data removed]"
          },
          "metadata": {}
        }
      ]
    },
    {
      "cell_type": "markdown",
      "source": [
        "0.02% of credit card holders of a company report theft of their credit cards each month. The company has a total of 15,000 credit cards."
      ],
      "metadata": {
        "id": "bTJsMpvkAFRh"
      }
    },
    {
      "cell_type": "code",
      "source": [
        "# Determine the expected number of reported stolen credit cards in a month.\n",
        "# 0.02%*15000\n",
        "0.02/100 * 15000"
      ],
      "metadata": {
        "colab": {
          "base_uri": "https://localhost:8080/"
        },
        "id": "Syxun2sqAKjK",
        "outputId": "419bf2e1-43c4-46ac-f760-8e27fd7056d0"
      },
      "execution_count": null,
      "outputs": [
        {
          "output_type": "execute_result",
          "data": {
            "text/plain": [
              "3.0"
            ]
          },
          "metadata": {},
          "execution_count": 9
        }
      ]
    },
    {
      "cell_type": "code",
      "source": [
        "# What is the probability that no one reports theft of credit cards during the next month\n",
        "poisson.pmf(k=0,mu=3)"
      ],
      "metadata": {
        "colab": {
          "base_uri": "https://localhost:8080/"
        },
        "id": "1aXexxLxAfoe",
        "outputId": "afbfc565-9813-40ca-f0e1-1efc2c006353"
      },
      "execution_count": null,
      "outputs": [
        {
          "output_type": "execute_result",
          "data": {
            "text/plain": [
              "0.049787068367863944"
            ]
          },
          "metadata": {},
          "execution_count": 10
        }
      ]
    },
    {
      "cell_type": "code",
      "source": [
        "# What is the probability that no of thefts <= 3   credit cards during the next month\n",
        "poisson.cdf(k=3,mu=3)"
      ],
      "metadata": {
        "colab": {
          "base_uri": "https://localhost:8080/"
        },
        "id": "_86--MU1BKTY",
        "outputId": "249757ce-d608-42af-ab0f-b13eb5da01f6"
      },
      "execution_count": null,
      "outputs": [
        {
          "output_type": "execute_result",
          "data": {
            "text/plain": [
              "0.6472318887822313"
            ]
          },
          "metadata": {},
          "execution_count": 13
        }
      ]
    },
    {
      "cell_type": "code",
      "source": [
        "# With 99% confidence how many cards might be lost in next month\n",
        "poisson.ppf(q=0.99,mu=3)"
      ],
      "metadata": {
        "colab": {
          "base_uri": "https://localhost:8080/"
        },
        "id": "gLNMxGU_An4l",
        "outputId": "9698cd8b-4c78-477f-aa1c-6dc12ecb169f"
      },
      "execution_count": null,
      "outputs": [
        {
          "output_type": "execute_result",
          "data": {
            "text/plain": [
              "8.0"
            ]
          },
          "metadata": {},
          "execution_count": 11
        }
      ]
    },
    {
      "cell_type": "code",
      "source": [
        "# Cummulative distribution for Poisson Distribution\n",
        "n = 20 # no of events\n",
        "p = 8 # rate : lambda/mu\n",
        "sns.lineplot(x= np.arange(0,n+1), y = [poisson.cdf(k=i,mu=p) for i in range(0,n+1)])"
      ],
      "metadata": {
        "id": "i8jwoTZJNQ0p",
        "outputId": "2af9d310-25a0-4e60-b804-96420d31e1df",
        "colab": {
          "base_uri": "https://localhost:8080/",
          "height": 447
        }
      },
      "execution_count": null,
      "outputs": [
        {
          "output_type": "execute_result",
          "data": {
            "text/plain": [
              "<Axes: >"
            ]
          },
          "metadata": {},
          "execution_count": 31
        },
        {
          "output_type": "display_data",
          "data": {
            "text/plain": [
              "<Figure size 640x480 with 1 Axes>"
            ],
            "image/png": "[encoded data removed]"
          },
          "metadata": {}
        }
      ]
    },
    {
      "cell_type": "markdown",
      "source": [
        "## Exponential Distribution"
      ],
      "metadata": {
        "id": "eWp6Js7hZ81o"
      }
    },
    {
      "cell_type": "code",
      "source": [
        "# lambda = 240 msgs in 1 hr --> 240/3600 msgs/sec -- >> 1/15\n",
        "\n",
        "#find the propoability that there will be \"0\" msg in next 10 seconds\n",
        "\n",
        "# for 10 sec --> mu or lamba = 10 * 240/3600 msg\n",
        "poisson.pmf(k=0,mu=10*240/3600)"
      ],
      "metadata": {
        "id": "-yxD13RDEjxz",
        "outputId": "9629678f-0329-4c4c-cc0b-ce9ff5ef6d01",
        "colab": {
          "base_uri": "https://localhost:8080/"
        }
      },
      "execution_count": null,
      "outputs": [
        {
          "output_type": "execute_result",
          "data": {
            "text/plain": [
              "0.513417119032592"
            ]
          },
          "metadata": {},
          "execution_count": 2
        }
      ]
    },
    {
      "cell_type": "code",
      "source": [
        "# What is the propability that next msg will after 10 sec (t> 10)\n",
        "# p[T>10] = 1- p[T<=10]\n",
        "# scale = Amount of time for one event [ 240/3600 msgs/sec --> 15 sec for 1 msg ]\n",
        "# x is the time\n",
        "# Scale(time units for 1 event) = 1/lambda(no of event per one time unit)\n",
        "1-expon.cdf(x=10,scale = 15)"
      ],
      "metadata": {
        "colab": {
          "base_uri": "https://localhost:8080/"
        },
        "id": "T0j3g1yWebvI",
        "outputId": "64721eb6-cde8-4471-96b8-aa36c3c3c8a7"
      },
      "execution_count": null,
      "outputs": [
        {
          "output_type": "execute_result",
          "data": {
            "text/plain": [
              "0.513417119032592"
            ]
          },
          "metadata": {},
          "execution_count": 13
        }
      ]
    },
    {
      "cell_type": "code",
      "source": [
        "# With 99% confidence,after how much time will be taken for next msg\n",
        "expon.ppf(q=0.99,scale=15)"
      ],
      "metadata": {
        "colab": {
          "base_uri": "https://localhost:8080/"
        },
        "id": "TuBR2COMBwv2",
        "outputId": "e7417d48-99f8-4b16-b61d-dca2e1683f92"
      },
      "execution_count": null,
      "outputs": [
        {
          "output_type": "execute_result",
          "data": {
            "text/plain": [
              "69.07755278982137"
            ]
          },
          "metadata": {},
          "execution_count": 15
        }
      ]
    },
    {
      "cell_type": "code",
      "source": [
        "# For a certain railway agency, the number of days people book their rail ticket in advance can be modeled by an exponential distribution, with the average amount of time to be 4 days.\n",
        "# Based on this data, how many days in advance do 75% of all travelers book tickets\n",
        "expon.ppf(q=0.75,scale=4)"
      ],
      "metadata": {
        "id": "fUzHi3_QEp6z",
        "outputId": "e844f72d-ee4a-4b9f-ef28-f26b5dd7702b",
        "colab": {
          "base_uri": "https://localhost:8080/"
        }
      },
      "execution_count": null,
      "outputs": [
        {
          "output_type": "execute_result",
          "data": {
            "text/plain": [
              "5.545177444479562"
            ]
          },
          "metadata": {},
          "execution_count": 19
        }
      ]
    },
    {
      "cell_type": "markdown",
      "source": [
        "### Memoryless Property"
      ],
      "metadata": {
        "id": "kPxVyhfj10qd"
      }
    },
    {
      "cell_type": "code",
      "source": [
        "# Propability that next event occurs after 9 time units/ given no event occured in first 3 time units\n",
        "(1-expon.cdf(x=9,scale=5))/(1-expon.cdf(x=3,scale=5))"
      ],
      "metadata": {
        "id": "WD3JRR5ZJ004",
        "outputId": "d3617170-7a84-41f6-b98b-7a99afd03077",
        "colab": {
          "base_uri": "https://localhost:8080/"
        }
      },
      "execution_count": null,
      "outputs": [
        {
          "output_type": "execute_result",
          "data": {
            "text/plain": [
              "0.30119421191220214"
            ]
          },
          "metadata": {},
          "execution_count": 9
        }
      ]
    },
    {
      "cell_type": "code",
      "source": [
        "# Propability that next event occurs after 6 time units\n",
        "(1-expon.cdf(x=6,scale=5))"
      ],
      "metadata": {
        "id": "bpn5sft3Qawd",
        "outputId": "fef39e4d-f2e8-4885-a683-98cd954b9638",
        "colab": {
          "base_uri": "https://localhost:8080/"
        }
      },
      "execution_count": null,
      "outputs": [
        {
          "output_type": "execute_result",
          "data": {
            "text/plain": [
              "0.3011942119122022"
            ]
          },
          "metadata": {},
          "execution_count": 10
        }
      ]
    },
    {
      "cell_type": "code",
      "source": [
        "#propability of Zero events in 9 times units given No event in first 3 time units\n",
        "poisson.pmf(k=0,mu=9*1/5)/poisson.pmf(k=0,mu=3*1/5)"
      ],
      "metadata": {
        "id": "kfpAkp4RRJ8C",
        "outputId": "80d33cac-2437-45dd-e69d-ca02811237c2",
        "colab": {
          "base_uri": "https://localhost:8080/"
        }
      },
      "execution_count": null,
      "outputs": [
        {
          "output_type": "execute_result",
          "data": {
            "text/plain": [
              "0.3011942119122021"
            ]
          },
          "metadata": {},
          "execution_count": 14
        }
      ]
    },
    {
      "cell_type": "code",
      "source": [
        "# Cummulative distribution for Exponential Distribution\n",
        "n = 20 # amount of time\n",
        "p = 8 # scale\n",
        "sns.lineplot(x= np.arange(0,n+1), y = [expon.cdf(x=i,scale=p) for i in range(0,n+1)])"
      ],
      "metadata": {
        "id": "Ek8fGwvaMlVE",
        "outputId": "b69e4a05-757d-4ab7-c9d6-cb4e88ec754f",
        "colab": {
          "base_uri": "https://localhost:8080/",
          "height": 447
        }
      },
      "execution_count": null,
      "outputs": [
        {
          "output_type": "execute_result",
          "data": {
            "text/plain": [
              "<Axes: >"
            ]
          },
          "metadata": {},
          "execution_count": 27
        },
        {
          "output_type": "display_data",
          "data": {
            "text/plain": [
              "<Figure size 640x480 with 1 Axes>"
            ],
            "image/png": "[encoded data removed]"
          },
          "metadata": {}
        }
      ]
    },
    {
      "cell_type": "markdown",
      "source": [
        "# **DAV - Python Libraries**"
      ],
      "metadata": {
        "id": "ttd3WwPNgp5a"
      }
    },
    {
      "cell_type": "code",
      "source": [
        "from sklearn.impute import SimpleImputer"
      ],
      "metadata": {
        "id": "oRtJpiDFgwp4"
      },
      "execution_count": null,
      "outputs": []
    },
    {
      "cell_type": "markdown",
      "source": [
        "## SimpleImputer"
      ],
      "metadata": {
        "id": "IXXwFVsBh5i9"
      }
    },
    {
      "cell_type": "markdown",
      "source": [
        "To fill NaN Values"
      ],
      "metadata": {
        "id": "EhHiWX8tjZ1W"
      }
    },
    {
      "cell_type": "markdown",
      "source": [
        "* For Numerical Missing --> Impute with Median [ median_imputer= SimpleImputer(strategy = 'median')]\n",
        "* For Categorical Missing --> Impute with Mode [freq_imputer = SimpleImputer(strategy = 'most_frequent') ]"
      ],
      "metadata": {
        "id": "ql4Vnb_QiEXr"
      }
    },
    {
      "cell_type": "code",
      "source": [
        "a = pd.DataFrame([10, 10, 20, 10, 30, 10, np.nan, 50])\n",
        "a"
      ],
      "metadata": {
        "colab": {
          "base_uri": "https://localhost:8080/",
          "height": 300
        },
        "id": "QqLv2QeRhoc4",
        "outputId": "24e0ca03-1591-4506-9c4b-d738b36b13e5"
      },
      "execution_count": null,
      "outputs": [
        {
          "output_type": "execute_result",
          "data": {
            "text/plain": [
              "      0\n",
              "0  10.0\n",
              "1  10.0\n",
              "2  20.0\n",
              "3  10.0\n",
              "4  30.0\n",
              "5  10.0\n",
              "6   NaN\n",
              "7  50.0"
            ],
            "text/html": [
              "\n",
              "  <div id=\"df-fc9227fe-5c10-4865-a1ea-e728f4325ede\" class=\"colab-df-container\">\n",
              "    <div>\n",
              "<style scoped>\n",
              "    .dataframe tbody tr th:only-of-type {\n",
              "        vertical-align: middle;\n",
              "    }\n",
              "\n",
              "    .dataframe tbody tr th {\n",
              "        vertical-align: top;\n",
              "    }\n",
              "\n",
              "    .dataframe thead th {\n",
              "        text-align: right;\n",
              "    }\n",
              "</style>\n",
              "<table border=\"1\" class=\"dataframe\">\n",
              "  <thead>\n",
              "    <tr style=\"text-align: right;\">\n",
              "      <th></th>\n",
              "      <th>0</th>\n",
              "    </tr>\n",
              "  </thead>\n",
              "  <tbody>\n",
              "    <tr>\n",
              "      <th>0</th>\n",
              "      <td>10.0</td>\n",
              "    </tr>\n",
              "    <tr>\n",
              "      <th>1</th>\n",
              "      <td>10.0</td>\n",
              "    </tr>\n",
              "    <tr>\n",
              "      <th>2</th>\n",
              "      <td>20.0</td>\n",
              "    </tr>\n",
              "    <tr>\n",
              "      <th>3</th>\n",
              "      <td>10.0</td>\n",
              "    </tr>\n",
              "    <tr>\n",
              "      <th>4</th>\n",
              "      <td>30.0</td>\n",
              "    </tr>\n",
              "    <tr>\n",
              "      <th>5</th>\n",
              "      <td>10.0</td>\n",
              "    </tr>\n",
              "    <tr>\n",
              "      <th>6</th>\n",
              "      <td>NaN</td>\n",
              "    </tr>\n",
              "    <tr>\n",
              "      <th>7</th>\n",
              "      <td>50.0</td>\n",
              "    </tr>\n",
              "  </tbody>\n",
              "</table>\n",
              "</div>\n",
              "    <div class=\"colab-df-buttons\">\n",
              "\n",
              "  <div class=\"colab-df-container\">\n",
              "    <button class=\"colab-df-convert\" onclick=\"convertToInteractive('df-fc9227fe-5c10-4865-a1ea-e728f4325ede')\"\n",
              "            title=\"Convert this dataframe to an interactive table.\"\n",
              "            style=\"display:none;\">\n",
              "\n",
              "  <svg xmlns=\"http://www.w3.org/2000/svg\" height=\"24px\" viewBox=\"0 -960 960 960\">\n",
              "    <path d=\"M120-120v-720h720v720H120Zm60-500h600v-160H180v160Zm220 220h160v-160H400v160Zm0 220h160v-160H400v160ZM180-400h160v-160H180v160Zm440 0h160v-160H620v160ZM180-180h160v-160H180v160Zm440 0h160v-160H620v160Z\"/>\n",
              "  </svg>\n",
              "    </button>\n",
              "\n",
              "  <style>\n",
              "    .colab-df-container {\n",
              "      display:flex;\n",
              "      gap: 12px;\n",
              "    }\n",
              "\n",
              "    .colab-df-convert {\n",
              "      background-color: #E8F0FE;\n",
              "      border: none;\n",
              "      border-radius: 50%;\n",
              "      cursor: pointer;\n",
              "      display: none;\n",
              "      fill: #1967D2;\n",
              "      height: 32px;\n",
              "      padding: 0 0 0 0;\n",
              "      width: 32px;\n",
              "    }\n",
              "\n",
              "    .colab-df-convert:hover {\n",
              "      background-color: #E2EBFA;\n",
              "      box-shadow: 0px 1px 2px rgba(60, 64, 67, 0.3), 0px 1px 3px 1px rgba(60, 64, 67, 0.15);\n",
              "      fill: #174EA6;\n",
              "    }\n",
              "\n",
              "    .colab-df-buttons div {\n",
              "      margin-bottom: 4px;\n",
              "    }\n",
              "\n",
              "    [theme=dark] .colab-df-convert {\n",
              "      background-color: #3B4455;\n",
              "      fill: #D2E3FC;\n",
              "    }\n",
              "\n",
              "    [theme=dark] .colab-df-convert:hover {\n",
              "      background-color: #434B5C;\n",
              "      box-shadow: 0px 1px 3px 1px rgba(0, 0, 0, 0.15);\n",
              "      filter: drop-shadow(0px 1px 2px rgba(0, 0, 0, 0.3));\n",
              "      fill: #FFFFFF;\n",
              "    }\n",
              "  </style>\n",
              "\n",
              "    <script>\n",
              "      const buttonEl =\n",
              "        document.querySelector('#df-fc9227fe-5c10-4865-a1ea-e728f4325ede button.colab-df-convert');\n",
              "      buttonEl.style.display =\n",
              "        google.colab.kernel.accessAllowed ? 'block' : 'none';\n",
              "\n",
              "      async function convertToInteractive(key) {\n",
              "        const element = document.querySelector('#df-fc9227fe-5c10-4865-a1ea-e728f4325ede');\n",
              "        const dataTable =\n",
              "          await google.colab.kernel.invokeFunction('convertToInteractive',\n",
              "                                                    [key], {});\n",
              "        if (!dataTable) return;\n",
              "\n",
              "        const docLinkHtml = 'Like what you see? Visit the ' +\n",
              "          '<a target=\"_blank\" href=https://colab.research.google.com/notebooks/data_table.ipynb>data table notebook</a>'\n",
              "          + ' to learn more about interactive tables.';\n",
              "        element.innerHTML = '';\n",
              "        dataTable['output_type'] = 'display_data';\n",
              "        await google.colab.output.renderOutput(dataTable, element);\n",
              "        const docLink = document.createElement('div');\n",
              "        docLink.innerHTML = docLinkHtml;\n",
              "        element.appendChild(docLink);\n",
              "      }\n",
              "    </script>\n",
              "  </div>\n",
              "\n",
              "\n",
              "<div id=\"df-0cf061e7-f97d-430b-9dd0-7ee2ba3aa0a4\">\n",
              "  <button class=\"colab-df-quickchart\" onclick=\"quickchart('df-0cf061e7-f97d-430b-9dd0-7ee2ba3aa0a4')\"\n",
              "            title=\"Suggest charts.\"\n",
              "            style=\"display:none;\">\n",
              "\n",
              "<svg xmlns=\"http://www.w3.org/2000/svg\" height=\"24px\"viewBox=\"0 0 24 24\"\n",
              "     width=\"24px\">\n",
              "    <g>\n",
              "        <path d=\"M19 3H5c-1.1 0-2 .9-2 2v14c0 1.1.9 2 2 2h14c1.1 0 2-.9 2-2V5c0-1.1-.9-2-2-2zM9 17H7v-7h2v7zm4 0h-2V7h2v10zm4 0h-2v-4h2v4z\"/>\n",
              "    </g>\n",
              "</svg>\n",
              "  </button>\n",
              "\n",
              "<style>\n",
              "  .colab-df-quickchart {\n",
              "    background-color: #E8F0FE;\n",
              "    border: none;\n",
              "    border-radius: 50%;\n",
              "    cursor: pointer;\n",
              "    display: none;\n",
              "    fill: #1967D2;\n",
              "    height: 32px;\n",
              "    padding: 0 0 0 0;\n",
              "    width: 32px;\n",
              "  }\n",
              "\n",
              "  .colab-df-quickchart:hover {\n",
              "    background-color: #E2EBFA;\n",
              "    box-shadow: 0px 1px 2px rgba(60, 64, 67, 0.3), 0px 1px 3px 1px rgba(60, 64, 67, 0.15);\n",
              "    fill: #174EA6;\n",
              "  }\n",
              "\n",
              "  [theme=dark] .colab-df-quickchart {\n",
              "    background-color: #3B4455;\n",
              "    fill: #D2E3FC;\n",
              "  }\n",
              "\n",
              "  [theme=dark] .colab-df-quickchart:hover {\n",
              "    background-color: #434B5C;\n",
              "    box-shadow: 0px 1px 3px 1px rgba(0, 0, 0, 0.15);\n",
              "    filter: drop-shadow(0px 1px 2px rgba(0, 0, 0, 0.3));\n",
              "    fill: #FFFFFF;\n",
              "  }\n",
              "</style>\n",
              "\n",
              "  <script>\n",
              "    async function quickchart(key) {\n",
              "      const charts = await google.colab.kernel.invokeFunction(\n",
              "          'suggestCharts', [key], {});\n",
              "    }\n",
              "    (() => {\n",
              "      let quickchartButtonEl =\n",
              "        document.querySelector('#df-0cf061e7-f97d-430b-9dd0-7ee2ba3aa0a4 button');\n",
              "      quickchartButtonEl.style.display =\n",
              "        google.colab.kernel.accessAllowed ? 'block' : 'none';\n",
              "    })();\n",
              "  </script>\n",
              "</div>\n",
              "    </div>\n",
              "  </div>\n"
            ]
          },
          "metadata": {},
          "execution_count": 2
        }
      ]
    },
    {
      "cell_type": "code",
      "source": [
        "SimpleImputer(strategy=\"mean\").fit_transform(a)"
      ],
      "metadata": {
        "colab": {
          "base_uri": "https://localhost:8080/"
        },
        "id": "HMYy2l4Dhu4s",
        "outputId": "bf4068e9-2ffb-4e55-cf19-8021814cf0cf"
      },
      "execution_count": null,
      "outputs": [
        {
          "output_type": "execute_result",
          "data": {
            "text/plain": [
              "array([[10.],\n",
              "       [10.],\n",
              "       [20.],\n",
              "       [10.],\n",
              "       [30.],\n",
              "       [10.],\n",
              "       [20.],\n",
              "       [50.]])"
            ]
          },
          "metadata": {},
          "execution_count": 5
        }
      ]
    },
    {
      "cell_type": "code",
      "source": [
        "SimpleImputer(strategy=\"constant\",fill_value=1000).fit_transform(a)"
      ],
      "metadata": {
        "colab": {
          "base_uri": "https://localhost:8080/"
        },
        "id": "qwAgveNkh3uC",
        "outputId": "c808f95a-c5d2-403c-a1b9-7d519a56eae8"
      },
      "execution_count": null,
      "outputs": [
        {
          "output_type": "execute_result",
          "data": {
            "text/plain": [
              "array([[  10.],\n",
              "       [  10.],\n",
              "       [  20.],\n",
              "       [  10.],\n",
              "       [  30.],\n",
              "       [  10.],\n",
              "       [1000.],\n",
              "       [  50.]])"
            ]
          },
          "metadata": {},
          "execution_count": 9
        }
      ]
    },
    {
      "cell_type": "markdown",
      "source": [
        "## LabelEncoder"
      ],
      "metadata": {
        "id": "7B-EvG55jfRH"
      }
    },
    {
      "cell_type": "markdown",
      "source": [
        "It is used when we have only 2 groups [y or N / True or False] in categorical attribute & when we want to change them to Numerical : 0 or 1, we use LabelEncoder"
      ],
      "metadata": {
        "id": "e3lJf5vVkB1X"
      }
    },
    {
      "cell_type": "code",
      "source": [
        "#!pip install sklearn\n",
        "from sklearn.preprocessing import LabelEncoder"
      ],
      "metadata": {
        "id": "0Enxgb2tjkrS"
      },
      "execution_count": null,
      "outputs": []
    },
    {
      "cell_type": "code",
      "source": [
        "label_encoder=LabelEncoder()\n",
        "data[col]=label_encoder.fit_transform(data[col])"
      ],
      "metadata": {
        "id": "tGcB2f-Dj1RF"
      },
      "execution_count": null,
      "outputs": []
    },
    {
      "cell_type": "markdown",
      "source": [
        "## TargetEncoder"
      ],
      "metadata": {
        "id": "Dw0ejABDkiRX"
      }
    },
    {
      "cell_type": "markdown",
      "source": [
        "It is used when we have only > 2 groups [y or N / True or False] in categorical attribute & when we want to change them to Numerical we use TargetEncoder ...it replace cateogircal value with conditional propability values : P[Targetfeaturecolumn | Cateorigal group]"
      ],
      "metadata": {
        "id": "wMTWKCL4krZ-"
      }
    },
    {
      "cell_type": "code",
      "source": [
        "# !pip install category_encoders\n",
        "from category_encoders import TargetEncoder"
      ],
      "metadata": {
        "id": "H5cv1vyukhZ5"
      },
      "execution_count": null,
      "outputs": []
    },
    {
      "cell_type": "code",
      "source": [
        "col=\"Property_Area\"\n",
        "te=TargetEncoder()\n",
        "data[col]=te.fit_transform(data[col],data[\"Loan_Status\"])\n",
        "data[col].value_counts()"
      ],
      "metadata": {
        "id": "Bq6xH44qlQz4"
      },
      "execution_count": null,
      "outputs": []
    },
    {
      "cell_type": "markdown",
      "source": [
        "# **A/B Testing**"
      ],
      "metadata": {
        "id": "hj5WeQvp1x9S"
      }
    },
    {
      "cell_type": "markdown",
      "source": [
        "## Methodology"
      ],
      "metadata": {
        "id": "l_7NArmu2qu4"
      }
    },
    {
      "cell_type": "markdown",
      "source": [
        "**Typical steps we have for A/B testing**\n",
        "\n",
        "1) Hypothesis formulation\n",
        "\n",
        "2) Diversion and exposure condition\n",
        "\n",
        "3) Sample size calculation --> how many samples we need in our A/B test\n",
        "\n",
        "4) A/B test\n",
        "\n",
        "5) Analyze data\n",
        "\n",
        "6) Recommendation"
      ],
      "metadata": {
        "id": "r5YYsy92m8gI"
      }
    },
    {
      "cell_type": "markdown",
      "source": [
        "**1. Hypothesis formulation**\n",
        "\n",
        "**Null Hypothesis:** The change in the button design has no effect on the conversion rate.\n",
        "\n",
        "**Alternate Hypothesis:** The change in the button effect the conversion rate."
      ],
      "metadata": {
        "id": "8hGoDE9Hnobl"
      }
    },
    {
      "cell_type": "markdown",
      "source": [
        "**2. Diversion Criterion**\n",
        "\n",
        "For simplicity, we'll divert users randomly to either the control or treatment group using cookie-based diversion. We'll expose 50% of our visitors to the old button design (Group A) and 50% to the new design (Group B)."
      ],
      "metadata": {
        "id": "T7AgfpUZoZHW"
      }
    },
    {
      "cell_type": "markdown",
      "source": [
        "**3. Power analysis**\n",
        "\n",
        "It helps us to calculate the number of samples required in each group for running effective experiment\n",
        "\n",
        "a) alpha (type I error) =0.05/5%\n",
        "\n",
        "b) power (1- type II error) = 80%\n",
        "\n",
        "c) standard deviation\n",
        "\n",
        "d) minimum detectatble effect\n",
        "\n",
        "\n",
        "Minimum detectable effect  is the minimum change you expect in your metric to have considerable business impact\n",
        "\n"
      ],
      "metadata": {
        "id": "ZGcQzGc6o5tW"
      }
    },
    {
      "cell_type": "markdown",
      "source": [
        "## Power Analysis & Sample Size Fixing"
      ],
      "metadata": {
        "id": "MrEf9M112i7R"
      }
    },
    {
      "cell_type": "code",
      "source": [
        "# calculate power curves for varying sample and effect size\n",
        "from numpy import array\n",
        "from matplotlib import pyplot\n",
        "from statsmodels.stats.power import NormalIndPower\n",
        "from statsmodels.stats.proportion import proportion_effectsize"
      ],
      "metadata": {
        "id": "ATD_p37XsAxt"
      },
      "execution_count": null,
      "outputs": []
    },
    {
      "cell_type": "code",
      "source": [
        "base_conversion_rate = 0.1 # current sales conversion rate for company\n",
        "effect_size = 0.15 #mde\n",
        "alpha = 0.05\n",
        "power = 0.6\n",
        "# 10%. Increase of 5% in conversion = 0.1*0.15 =0.015 = 1.5%\n",
        "\n",
        "# new conversion rate =0.1+0.015= 0.115 = 11.5%\n"
      ],
      "metadata": {
        "id": "elM5zIFJsI5J"
      },
      "execution_count": null,
      "outputs": []
    },
    {
      "cell_type": "code",
      "source": [
        "# 2. Power Analysis\n",
        "sample_size = NormalIndPower().solve_power(effect_size=effect_size, alpha=alpha, power=power, alternative='larger')\n"
      ],
      "metadata": {
        "id": "F3cxLLfssogW"
      },
      "execution_count": null,
      "outputs": []
    },
    {
      "cell_type": "code",
      "source": [
        "sample_size"
      ],
      "metadata": {
        "colab": {
          "base_uri": "https://localhost:8080/"
        },
        "id": "KX8b4AuBs1d8",
        "outputId": "9f6cdd66-a8f1-401f-8131-ced7c09b7d00"
      },
      "execution_count": null,
      "outputs": [
        {
          "output_type": "execute_result",
          "data": {
            "text/plain": [
              "320.281423255832"
            ]
          },
          "metadata": {},
          "execution_count": 14
        }
      ]
    },
    {
      "cell_type": "markdown",
      "source": [
        "Number of samples are:\n",
        "\n",
        "1. Inversely proportional to effect size --> bigger the effect smaller the sample you need\n",
        "\n",
        "2. Inversely proprtional to sifnificance level --> smaller the significance more sample you need\n",
        "\n",
        "3. directly proportional to power --> higher the power the more samples you need\n"
      ],
      "metadata": {
        "id": "IsoFAw0GAgi8"
      }
    },
    {
      "cell_type": "code",
      "source": [
        "# Parameters for power analysis\n",
        "effect_sizes = array([0.02, 0.04, 0.06,0.08, 0.1, 0.12])\n",
        "sample_sizes = array(range(5, 8001, 500))  # Ranges from 5 to 10000 for a broader view\n",
        "\n",
        "# Calculate power curves for the varying samples and effect sizes\n",
        "analysis = NormalIndPower()\n",
        "analysis.plot_power(dep_var='nobs', nobs=sample_sizes, effect_size=effect_sizes)\n",
        "pyplot.title('Power Curves for Different Effect Sizes and Sample Sizes')\n",
        "pyplot.show()"
      ],
      "metadata": {
        "colab": {
          "base_uri": "https://localhost:8080/",
          "height": 472
        },
        "id": "CtxoFj0NvAtJ",
        "outputId": "e53483de-1a60-4b70-db57-4c3198f4ad74"
      },
      "execution_count": null,
      "outputs": [
        {
          "output_type": "display_data",
          "data": {
            "text/plain": [
              "<Figure size 640x480 with 1 Axes>"
            ],
            "image/png": "[encoded data removed]"
          },
          "metadata": {}
        }
      ]
    },
    {
      "cell_type": "markdown",
      "source": [
        "## Testing"
      ],
      "metadata": {
        "id": "3U7mMCyW3MRM"
      }
    },
    {
      "cell_type": "markdown",
      "source": [
        "If I have a population of 1 million customer and I want to understand change in the conversion rate\n",
        "\n",
        "Test: I would extract 4946 customers from population and put it in test\n",
        "\n",
        "Control : I would also extract 4946 customers from population and put it in control"
      ],
      "metadata": {
        "id": "twJ6fXH5vBv2"
      }
    },
    {
      "cell_type": "code",
      "source": [
        "import pandas as pd"
      ],
      "metadata": {
        "id": "l2S0KuiY3BtQ"
      },
      "execution_count": null,
      "outputs": []
    },
    {
      "cell_type": "code",
      "source": [
        "ab_test_data = pd.read_csv('ab_test_data.csv')"
      ],
      "metadata": {
        "id": "JJj37zn722uf"
      },
      "execution_count": null,
      "outputs": []
    },
    {
      "cell_type": "code",
      "source": [
        "ab_test_data.head()"
      ],
      "metadata": {
        "colab": {
          "base_uri": "https://localhost:8080/",
          "height": 206
        },
        "id": "vtdE6osJ3GNK",
        "outputId": "5b16827d-f29e-41e6-a3ec-49180964230b"
      },
      "execution_count": null,
      "outputs": [
        {
          "output_type": "execute_result",
          "data": {
            "text/plain": [
              "  group  converted\n",
              "0     A          0\n",
              "1     A          1\n",
              "2     A          0\n",
              "3     A          0\n",
              "4     A          0"
            ],
            "text/html": [
              "\n",
              "  <div id=\"df-c1b28450-a910-49c6-a511-6f3b18381b7e\" class=\"colab-df-container\">\n",
              "    <div>\n",
              "<style scoped>\n",
              "    .dataframe tbody tr th:only-of-type {\n",
              "        vertical-align: middle;\n",
              "    }\n",
              "\n",
              "    .dataframe tbody tr th {\n",
              "        vertical-align: top;\n",
              "    }\n",
              "\n",
              "    .dataframe thead th {\n",
              "        text-align: right;\n",
              "    }\n",
              "</style>\n",
              "<table border=\"1\" class=\"dataframe\">\n",
              "  <thead>\n",
              "    <tr style=\"text-align: right;\">\n",
              "      <th></th>\n",
              "      <th>group</th>\n",
              "      <th>converted</th>\n",
              "    </tr>\n",
              "  </thead>\n",
              "  <tbody>\n",
              "    <tr>\n",
              "      <th>0</th>\n",
              "      <td>A</td>\n",
              "      <td>0</td>\n",
              "    </tr>\n",
              "    <tr>\n",
              "      <th>1</th>\n",
              "      <td>A</td>\n",
              "      <td>1</td>\n",
              "    </tr>\n",
              "    <tr>\n",
              "      <th>2</th>\n",
              "      <td>A</td>\n",
              "      <td>0</td>\n",
              "    </tr>\n",
              "    <tr>\n",
              "      <th>3</th>\n",
              "      <td>A</td>\n",
              "      <td>0</td>\n",
              "    </tr>\n",
              "    <tr>\n",
              "      <th>4</th>\n",
              "      <td>A</td>\n",
              "      <td>0</td>\n",
              "    </tr>\n",
              "  </tbody>\n",
              "</table>\n",
              "</div>\n",
              "    <div class=\"colab-df-buttons\">\n",
              "\n",
              "  <div class=\"colab-df-container\">\n",
              "    <button class=\"colab-df-convert\" onclick=\"convertToInteractive('df-c1b28450-a910-49c6-a511-6f3b18381b7e')\"\n",
              "            title=\"Convert this dataframe to an interactive table.\"\n",
              "            style=\"display:none;\">\n",
              "\n",
              "  <svg xmlns=\"http://www.w3.org/2000/svg\" height=\"24px\" viewBox=\"0 -960 960 960\">\n",
              "    <path d=\"M120-120v-720h720v720H120Zm60-500h600v-160H180v160Zm220 220h160v-160H400v160Zm0 220h160v-160H400v160ZM180-400h160v-160H180v160Zm440 0h160v-160H620v160ZM180-180h160v-160H180v160Zm440 0h160v-160H620v160Z\"/>\n",
              "  </svg>\n",
              "    </button>\n",
              "\n",
              "  <style>\n",
              "    .colab-df-container {\n",
              "      display:flex;\n",
              "      gap: 12px;\n",
              "    }\n",
              "\n",
              "    .colab-df-convert {\n",
              "      background-color: #E8F0FE;\n",
              "      border: none;\n",
              "      border-radius: 50%;\n",
              "      cursor: pointer;\n",
              "      display: none;\n",
              "      fill: #1967D2;\n",
              "      height: 32px;\n",
              "      padding: 0 0 0 0;\n",
              "      width: 32px;\n",
              "    }\n",
              "\n",
              "    .colab-df-convert:hover {\n",
              "      background-color: #E2EBFA;\n",
              "      box-shadow: 0px 1px 2px rgba(60, 64, 67, 0.3), 0px 1px 3px 1px rgba(60, 64, 67, 0.15);\n",
              "      fill: #174EA6;\n",
              "    }\n",
              "\n",
              "    .colab-df-buttons div {\n",
              "      margin-bottom: 4px;\n",
              "    }\n",
              "\n",
              "    [theme=dark] .colab-df-convert {\n",
              "      background-color: #3B4455;\n",
              "      fill: #D2E3FC;\n",
              "    }\n",
              "\n",
              "    [theme=dark] .colab-df-convert:hover {\n",
              "      background-color: #434B5C;\n",
              "      box-shadow: 0px 1px 3px 1px rgba(0, 0, 0, 0.15);\n",
              "      filter: drop-shadow(0px 1px 2px rgba(0, 0, 0, 0.3));\n",
              "      fill: #FFFFFF;\n",
              "    }\n",
              "  </style>\n",
              "\n",
              "    <script>\n",
              "      const buttonEl =\n",
              "        document.querySelector('#df-c1b28450-a910-49c6-a511-6f3b18381b7e button.colab-df-convert');\n",
              "      buttonEl.style.display =\n",
              "        google.colab.kernel.accessAllowed ? 'block' : 'none';\n",
              "\n",
              "      async function convertToInteractive(key) {\n",
              "        const element = document.querySelector('#df-c1b28450-a910-49c6-a511-6f3b18381b7e');\n",
              "        const dataTable =\n",
              "          await google.colab.kernel.invokeFunction('convertToInteractive',\n",
              "                                                    [key], {});\n",
              "        if (!dataTable) return;\n",
              "\n",
              "        const docLinkHtml = 'Like what you see? Visit the ' +\n",
              "          '<a target=\"_blank\" href=https://colab.research.google.com/notebooks/data_table.ipynb>data table notebook</a>'\n",
              "          + ' to learn more about interactive tables.';\n",
              "        element.innerHTML = '';\n",
              "        dataTable['output_type'] = 'display_data';\n",
              "        await google.colab.output.renderOutput(dataTable, element);\n",
              "        const docLink = document.createElement('div');\n",
              "        docLink.innerHTML = docLinkHtml;\n",
              "        element.appendChild(docLink);\n",
              "      }\n",
              "    </script>\n",
              "  </div>\n",
              "\n",
              "\n",
              "<div id=\"df-2d3b787c-c6b7-4a9d-9271-e077fa20ef0b\">\n",
              "  <button class=\"colab-df-quickchart\" onclick=\"quickchart('df-2d3b787c-c6b7-4a9d-9271-e077fa20ef0b')\"\n",
              "            title=\"Suggest charts.\"\n",
              "            style=\"display:none;\">\n",
              "\n",
              "<svg xmlns=\"http://www.w3.org/2000/svg\" height=\"24px\"viewBox=\"0 0 24 24\"\n",
              "     width=\"24px\">\n",
              "    <g>\n",
              "        <path d=\"M19 3H5c-1.1 0-2 .9-2 2v14c0 1.1.9 2 2 2h14c1.1 0 2-.9 2-2V5c0-1.1-.9-2-2-2zM9 17H7v-7h2v7zm4 0h-2V7h2v10zm4 0h-2v-4h2v4z\"/>\n",
              "    </g>\n",
              "</svg>\n",
              "  </button>\n",
              "\n",
              "<style>\n",
              "  .colab-df-quickchart {\n",
              "      --bg-color: #E8F0FE;\n",
              "      --fill-color: #1967D2;\n",
              "      --hover-bg-color: #E2EBFA;\n",
              "      --hover-fill-color: #174EA6;\n",
              "      --disabled-fill-color: #AAA;\n",
              "      --disabled-bg-color: #DDD;\n",
              "  }\n",
              "\n",
              "  [theme=dark] .colab-df-quickchart {\n",
              "      --bg-color: #3B4455;\n",
              "      --fill-color: #D2E3FC;\n",
              "      --hover-bg-color: #434B5C;\n",
              "      --hover-fill-color: #FFFFFF;\n",
              "      --disabled-bg-color: #3B4455;\n",
              "      --disabled-fill-color: #666;\n",
              "  }\n",
              "\n",
              "  .colab-df-quickchart {\n",
              "    background-color: var(--bg-color);\n",
              "    border: none;\n",
              "    border-radius: 50%;\n",
              "    cursor: pointer;\n",
              "    display: none;\n",
              "    fill: var(--fill-color);\n",
              "    height: 32px;\n",
              "    padding: 0;\n",
              "    width: 32px;\n",
              "  }\n",
              "\n",
              "  .colab-df-quickchart:hover {\n",
              "    background-color: var(--hover-bg-color);\n",
              "    box-shadow: 0 1px 2px rgba(60, 64, 67, 0.3), 0 1px 3px 1px rgba(60, 64, 67, 0.15);\n",
              "    fill: var(--button-hover-fill-color);\n",
              "  }\n",
              "\n",
              "  .colab-df-quickchart-complete:disabled,\n",
              "  .colab-df-quickchart-complete:disabled:hover {\n",
              "    background-color: var(--disabled-bg-color);\n",
              "    fill: var(--disabled-fill-color);\n",
              "    box-shadow: none;\n",
              "  }\n",
              "\n",
              "  .colab-df-spinner {\n",
              "    border: 2px solid var(--fill-color);\n",
              "    border-color: transparent;\n",
              "    border-bottom-color: var(--fill-color);\n",
              "    animation:\n",
              "      spin 1s steps(1) infinite;\n",
              "  }\n",
              "\n",
              "  @keyframes spin {\n",
              "    0% {\n",
              "      border-color: transparent;\n",
              "      border-bottom-color: var(--fill-color);\n",
              "      border-left-color: var(--fill-color);\n",
              "    }\n",
              "    20% {\n",
              "      border-color: transparent;\n",
              "      border-left-color: var(--fill-color);\n",
              "      border-top-color: var(--fill-color);\n",
              "    }\n",
              "    30% {\n",
              "      border-color: transparent;\n",
              "      border-left-color: var(--fill-color);\n",
              "      border-top-color: var(--fill-color);\n",
              "      border-right-color: var(--fill-color);\n",
              "    }\n",
              "    40% {\n",
              "      border-color: transparent;\n",
              "      border-right-color: var(--fill-color);\n",
              "      border-top-color: var(--fill-color);\n",
              "    }\n",
              "    60% {\n",
              "      border-color: transparent;\n",
              "      border-right-color: var(--fill-color);\n",
              "    }\n",
              "    80% {\n",
              "      border-color: transparent;\n",
              "      border-right-color: var(--fill-color);\n",
              "      border-bottom-color: var(--fill-color);\n",
              "    }\n",
              "    90% {\n",
              "      border-color: transparent;\n",
              "      border-bottom-color: var(--fill-color);\n",
              "    }\n",
              "  }\n",
              "</style>\n",
              "\n",
              "  <script>\n",
              "    async function quickchart(key) {\n",
              "      const quickchartButtonEl =\n",
              "        document.querySelector('#' + key + ' button');\n",
              "      quickchartButtonEl.disabled = true;  // To prevent multiple clicks.\n",
              "      quickchartButtonEl.classList.add('colab-df-spinner');\n",
              "      try {\n",
              "        const charts = await google.colab.kernel.invokeFunction(\n",
              "            'suggestCharts', [key], {});\n",
              "      } catch (error) {\n",
              "        console.error('Error during call to suggestCharts:', error);\n",
              "      }\n",
              "      quickchartButtonEl.classList.remove('colab-df-spinner');\n",
              "      quickchartButtonEl.classList.add('colab-df-quickchart-complete');\n",
              "    }\n",
              "    (() => {\n",
              "      let quickchartButtonEl =\n",
              "        document.querySelector('#df-2d3b787c-c6b7-4a9d-9271-e077fa20ef0b button');\n",
              "      quickchartButtonEl.style.display =\n",
              "        google.colab.kernel.accessAllowed ? 'block' : 'none';\n",
              "    })();\n",
              "  </script>\n",
              "</div>\n",
              "    </div>\n",
              "  </div>\n"
            ]
          },
          "metadata": {},
          "execution_count": 23
        }
      ]
    },
    {
      "cell_type": "code",
      "source": [
        "# Z test for proportions\n",
        "\n",
        "# 2. Data preparation for z-test\n",
        "count = ab_test_data.groupby('group')['converted'].sum().values\n",
        "nobs = ab_test_data.groupby('group').size().values\n",
        "\n",
        "print(count)\n",
        "print(nobs)\n",
        "\n"
      ],
      "metadata": {
        "colab": {
          "base_uri": "https://localhost:8080/"
        },
        "id": "juRWIz9r5l22",
        "outputId": "1e11299a-8982-45af-cd38-a325be317660"
      },
      "execution_count": null,
      "outputs": [
        {
          "output_type": "stream",
          "name": "stdout",
          "text": [
            "[479 567]\n",
            "[5000 5000]\n"
          ]
        }
      ]
    },
    {
      "cell_type": "code",
      "source": [
        "from statsmodels.stats.proportion import proportions_ztest\n",
        "# 3. Conduct z-test for proportions\n",
        "z_stat, p_value_ztest = proportions_ztest(count, nobs)\n",
        "\n",
        "print(f\"Z-Statistic: {z_stat}\")\n",
        "print(f\"P-value: {p_value_ztest}\")\n",
        "\n"
      ],
      "metadata": {
        "colab": {
          "base_uri": "https://localhost:8080/"
        },
        "id": "UaKDPwr95xRR",
        "outputId": "e4c803ac-5d24-47ee-bd7a-b0194b911117"
      },
      "execution_count": null,
      "outputs": [
        {
          "output_type": "stream",
          "name": "stdout",
          "text": [
            "Z-Statistic: -2.8754663182630487\n",
            "P-value: 0.004034311857575921\n"
          ]
        }
      ]
    },
    {
      "cell_type": "code",
      "source": [
        "from scipy.stats import chi2_contingency\n",
        "\n",
        "# 2. Create a contingency table\n",
        "contingency_table = pd.crosstab(ab_test_data['group'], ab_test_data['converted'])\n",
        "\n",
        "# 3. Conduct chi-square test\n",
        "chi2_stat, p_value, _, _ = chi2_contingency(contingency_table)\n",
        "\n",
        "print(f\"Chi-Square Statistic: {chi2_stat}\")\n",
        "print(f\"P-value: {p_value}\")"
      ],
      "metadata": {
        "colab": {
          "base_uri": "https://localhost:8080/"
        },
        "id": "_Ve34McI6dsY",
        "outputId": "1f321321-d08a-4418-e468-ec84a0aa02ab"
      },
      "execution_count": null,
      "outputs": [
        {
          "output_type": "stream",
          "name": "stdout",
          "text": [
            "Chi-Square Statistic: 8.081458194442725\n",
            "P-value: 0.004472044654175628\n"
          ]
        }
      ]
    },
    {
      "cell_type": "markdown",
      "source": [
        "Conclusion:\n",
        "\n",
        "1) We reject null hypothesis as p-value < alpha\n",
        "\n",
        "2) We saw a point estimate increase of 19% with 95% confidence..CI??\n",
        "\n",
        "3) My recommendation is to build the feature as sales value is greater than equal to MDE"
      ],
      "metadata": {
        "id": "nvQ2AthVI4_w"
      }
    }
  ],
  "metadata": {
    "colab": {
      "name": "Welcome to Colaboratory",
      "provenance": [],
      "toc_visible": true,
      "include_colab_link": true
    },
    "kernelspec": {
      "display_name": "Python 3",
      "name": "python3"
    }
  },
  "nbformat": 4,
  "nbformat_minor": 0
}