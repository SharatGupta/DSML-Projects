{
  "cells": [
    {
      "cell_type": "markdown",
      "metadata": {
        "id": "view-in-github",
        "colab_type": "text"
      },
      "source": [
        "<a href=\"https://colab.research.google.com/github/SharatGupta/DSML-Projects/blob/main/DAV%20-%20Propability%20%26%20Statistics.ipynb\" target=\"_parent\"><img src=\"https://colab.research.google.com/assets/colab-badge.svg\" alt=\"Open In Colab\"/></a>"
      ]
    },
    {
      "cell_type": "markdown",
      "source": [
        "# **Loading Modules**"
      ],
      "metadata": {
        "id": "88OyOtSomLsg"
      }
    },
    {
      "cell_type": "code",
      "source": [
        "import numpy as np\n",
        "import pandas as pd\n",
        "import matplotlib.pyplot as plt\n",
        "import seaborn as sns\n",
        "\n",
        "from scipy.stats import norm, binom, geom\n",
        "\n",
        "from scipy.stats import ttest_1samp, ttest_ind,ttest_rel\n",
        "\n",
        "from scipy.stats import chisquare,chi2,chi2_contingency\n",
        "\n",
        "from scipy.stats import f_oneway,kruskal,shapiro,levene\n",
        "from statsmodels.graphics.gofplots import qqplot\n",
        "\n",
        "from scipy.stats import pearsonr,spearmanr\n",
        "\n",
        "from scipy.stats import poisson\n",
        "\n",
        "from scipy.stats import expon\n",
        "\n",
        "from sklearn.impute import SimpleImputer\n",
        "#!pip install sklearn\n",
        "from sklearn.preprocessing import LabelEncoder\n",
        "#!pip install category_encoders\n",
        "from category_encoders import TargetEncoder"
      ],
      "metadata": {
        "id": "A1cnXURf3_FK"
      },
      "execution_count": null,
      "outputs": []
    },
    {
      "cell_type": "markdown",
      "source": [
        "# **DAV - Propability & Statistics**"
      ],
      "metadata": {
        "id": "89l2xmvqgg9m"
      }
    },
    {
      "cell_type": "markdown",
      "source": [
        "## Normal Distribution"
      ],
      "metadata": {
        "id": "C5mipznFLoSj"
      }
    },
    {
      "cell_type": "code",
      "source": [
        "# TO calculate Percentile from Z value ( Input Z : -inf to +inf)(output Percentile: 0 ~ 1)\n",
        "norm.cdf(-1)"
      ],
      "metadata": {
        "id": "WeFR6guko9bX",
        "outputId": "c3668ac4-e63b-465a-dac1-16f63f1a6131",
        "colab": {
          "base_uri": "https://localhost:8080/"
        }
      },
      "execution_count": null,
      "outputs": [
        {
          "output_type": "execute_result",
          "data": {
            "text/plain": [
              "0.15865525393145707"
            ]
          },
          "metadata": {},
          "execution_count": 67
        }
      ]
    },
    {
      "cell_type": "code",
      "source": [
        "# TO calculate Z value from  Percentile ( Input Percentile : 0 ~ 1)( output Z: -inf to +inf)\n",
        "norm.ppf(0.9)"
      ],
      "metadata": {
        "id": "SGQYHfNbot3y",
        "outputId": "5e12633d-d9e2-49c5-9f15-3fb886e7c43a",
        "colab": {
          "base_uri": "https://localhost:8080/"
        }
      },
      "execution_count": null,
      "outputs": [
        {
          "output_type": "execute_result",
          "data": {
            "text/plain": [
              "1.2815515655446004"
            ]
          },
          "metadata": {},
          "execution_count": 66
        }
      ]
    },
    {
      "cell_type": "code",
      "source": [
        "def normal(mu, sigma,obs):\n",
        "  # Sigma is the Population standard Deviation\n",
        "  # mu is Pupulation or Sample Mean\n",
        "  # obs is value for which propability to be calculated\n",
        "  z = (obs- mu)/sigma\n",
        "  prob_less = norm.cdf(z)\n",
        "  prob_more = 1 - prob_less\n",
        "  return prob_less, prob_more,z"
      ],
      "metadata": {
        "id": "ZxwkC7t94bhK"
      },
      "execution_count": null,
      "outputs": []
    },
    {
      "cell_type": "code",
      "source": [
        "normal(80,10, 90)"
      ],
      "metadata": {
        "id": "3LtVNrJTwd2z",
        "outputId": "ecd40a69-c6c3-4469-97bb-46c67f4ed3f4",
        "colab": {
          "base_uri": "https://localhost:8080/"
        }
      },
      "execution_count": null,
      "outputs": [
        {
          "output_type": "execute_result",
          "data": {
            "text/plain": [
              "(0.8413447460685429, 0.15865525393145707, 1.0)"
            ]
          },
          "metadata": {},
          "execution_count": 61
        }
      ]
    },
    {
      "cell_type": "code",
      "source": [
        "def clt_fun(mu, sigma, n, obs):\n",
        "  # Sigma is the Population standard Deviation\n",
        "  # mu is Pupulation or Sample Mean\n",
        "  # n is sample Size\n",
        "  # obs is value for which propability to be calculated\n",
        "  std_error = sigma / np.sqrt(n)\n",
        "  z = (obs- mu)/std_error\n",
        "  prob_less = norm.cdf(z)\n",
        "  prob_more = 1 - prob_less\n",
        "  return prob_less, prob_more"
      ],
      "metadata": {
        "id": "Qn-YZ0O64H8p"
      },
      "execution_count": null,
      "outputs": []
    },
    {
      "cell_type": "code",
      "source": [
        "clt_fun(80, 15, 50, 75)"
      ],
      "metadata": {
        "id": "ip9h9OAh4OEC",
        "outputId": "141eb3db-a77c-44ce-8414-d3163868399e",
        "colab": {
          "base_uri": "https://localhost:8080/"
        }
      },
      "execution_count": null,
      "outputs": [
        {
          "output_type": "execute_result",
          "data": {
            "text/plain": [
              "(0.009211062727049501, 0.9907889372729505)"
            ]
          },
          "metadata": {},
          "execution_count": 63
        }
      ]
    },
    {
      "cell_type": "code",
      "source": [
        "def confiinterval(mu, sigma, n, perct):\n",
        "  # Sigma is the Population standard Deviation\n",
        "  # mu is Population or Sample Mean\n",
        "  # n is sample Size\n",
        "  # perct is confidence percentatge required for interval calculation\n",
        "  std_error = sigma / np.sqrt(n)\n",
        "  x1 = mu + (std_error * norm.ppf((100-perct)/200))\n",
        "  x2 = mu + (std_error * norm.ppf(1 - ((100-perct)/200)))\n",
        "  return x1,x2"
      ],
      "metadata": {
        "id": "y2blgh4c4YVM"
      },
      "execution_count": null,
      "outputs": []
    },
    {
      "cell_type": "code",
      "source": [
        "confiinterval(80, 10, 30, 99)"
      ],
      "metadata": {
        "id": "-e9YJJ33xHBT",
        "outputId": "634bb690-70ab-49dd-b81d-5e26c67322f9",
        "colab": {
          "base_uri": "https://localhost:8080/"
        }
      },
      "execution_count": null,
      "outputs": [
        {
          "output_type": "execute_result",
          "data": {
            "text/plain": [
              "(75.29720062054481, 84.70279937945519)"
            ]
          },
          "metadata": {},
          "execution_count": 65
        }
      ]
    },
    {
      "cell_type": "markdown",
      "source": [
        "### Population Mean & CI using Centre Limit Theorem"
      ],
      "metadata": {
        "id": "by6bV_-6OyiT"
      }
    },
    {
      "cell_type": "code",
      "source": [
        "# This can be used to interpret about population when large sample data is given but not given standard deviation of population\n",
        "# Function for Finding Confidence Interval(CI) from given sample data - \"data\" using CLT with sample bin size - \"n\" , No of sample bins - \"m\" , Confidence Interval - \"perct\"\n",
        "# This Function return tuple of 3 Values - CI lower limit, Mean, CI Upper Limit of given data\n",
        "\n",
        "# data = sample Dataset(Numerical Series Datatype)\n",
        "# n = Sample bin size for mean calculation >=30 (int)\n",
        "# m = No of Sample bins for mean distribution (int)\n",
        "# perct = Confidence interval Percentage (float)\n",
        "def Confidence_Interval(data,n,m,perct):\n",
        "   sample_mean_n = [np.mean(data.sample(n)) for i in range(m)]\n",
        "\n",
        "   Mean_of_samples_Mean = np.mean(sample_mean_n)\n",
        "   sd_of_samples_Mean = np.std(sample_mean_n)\n",
        "\n",
        "   std_error = sd_of_samples_Mean / np.sqrt(n)\n",
        "   x1 = Mean_of_samples_Mean + (std_error * norm.ppf((100-perct)/200))\n",
        "   x2 = Mean_of_samples_Mean + (std_error * norm.ppf(1 - ((100-perct)/200)))\n",
        "   return round(x1),round(Mean_of_samples_Mean),round(x2)"
      ],
      "metadata": {
        "id": "-IwxeV_nPvVO"
      },
      "execution_count": null,
      "outputs": []
    },
    {
      "cell_type": "code",
      "source": [
        "# This can also be used to interpret about population when large sample data is given but not given standard deviation of population\n",
        "# this method told during case study review session\n",
        "\n",
        "# Function for Finding Confidence Interval(CI) from given sample data - \"data\" using CLT with sample bin size - \"n\" , No of sample bins - \"m\" , Confidence Interval - \"perct\"\n",
        "# This Function return tuple of 3 Values - CI lower limit, Mean, CI Upper Limit of given data\n",
        "\n",
        "# data = sample Dataset(Numerical Series Datatype)\n",
        "# n = Sample bin size for mean calculation >=30 (int)\n",
        "# m = No of Sample bins for mean distribution (int)\n",
        "# perct = Confidence interval Percentage (float)\n",
        "def Confidence_Interval1(data,n,m,perct):\n",
        "   sample_mean_n = [np.mean(data.sample(n,replace=True)) for i in range(m)]\n",
        "\n",
        "   Mean_of_samples_Mean = np.mean(sample_mean_n)\n",
        "   x1 = np.percentile(sample_mean_n,(100-perct)/2)\n",
        "   x2 = np.percentile(sample_mean_n,100 -(100-perct)/2)\n",
        "\n",
        "   return round(x1),round(Mean_of_samples_Mean),round(x2)"
      ],
      "metadata": {
        "id": "J8X2TDK1yYTt"
      },
      "execution_count": null,
      "outputs": []
    },
    {
      "cell_type": "code",
      "source": [
        "data = pd.read_csv(\"https://d2beiqkhq929f0.cloudfront.net/public_assets/assets/000/001/293/original/walmart_data.csv\")\n",
        "print(\"*********************************************************************************\")\n",
        "for z in ['Gender', 'Age', 'Marital_Status', 'City_Category','Stay_In_Current_City_Years']:\n",
        "  X = []\n",
        "  U = []\n",
        "  L = []\n",
        "  M = []\n",
        "  print(z,\"Attribute Population - Mean & 99% Confidence Interval\")\n",
        "  print(\"*********************************************************************************\")\n",
        "  for y in data[z].value_counts().index:\n",
        "    outlierlist=[]\n",
        "    datai = data[data[z] == y]\n",
        "    print(\"-------------------------------------------------------------------\")\n",
        "    print(z,\"-\", y,\"Group\")\n",
        "    print()\n",
        "    IQR = np.percentile(datai[\"Purchase\"],75) - np.percentile(datai[\"Purchase\"],25)\n",
        "    lower_limit = max (np.percentile(datai[\"Purchase\"],25) - 1.5*IQR,0)\n",
        "    upper_limit = np.percentile(datai[\"Purchase\"],75) + 1.5*IQR\n",
        "    outlierlist = list(np.where( (datai[\"Purchase\"]>upper_limit) | (datai[\"Purchase\"]<lower_limit) )[0])\n",
        "    datai = datai.reset_index()\n",
        "    datai.drop(outlierlist,inplace=True)\n",
        "    Lower_limit,Mean_value,Upper_limit = Confidence_Interval(data= datai[\"Purchase\"],n=100,m=5000,perct=99)\n",
        "    print(\"Mean Purchase value :\",Mean_value)\n",
        "    print(\"99% Confidence Interval :\",Lower_limit,\"~\",Upper_limit )\n",
        "    X.append(y)\n",
        "    U.append(Upper_limit)\n",
        "    M.append(Mean_value)\n",
        "    L.append(Lower_limit)\n",
        "  print(\"-------------------------------------------------------------------\")\n",
        "  plt.figurefigsize=(6,4)\n",
        "  plt.title(\"Population Mean & 99% CI Intervals\" )\n",
        "  sns.scatterplot( x= X, y=U)\n",
        "  sns.scatterplot( x= X, y=M)\n",
        "  sns.scatterplot( x= X, y=L)\n",
        "  plt.grid(linestyle = '--', linewidth = 0.5,axis=\"y\")\n",
        "  plt.show()"
      ],
      "metadata": {
        "id": "inCcuERhIDaw"
      },
      "execution_count": null,
      "outputs": []
    },
    {
      "cell_type": "markdown",
      "source": [
        "### Population Mean & CI using Bootstrapping"
      ],
      "metadata": {
        "id": "TE1eg3v1Mh9y"
      }
    },
    {
      "cell_type": "markdown",
      "source": [
        "Bootstrapping is used when we have very small sample data may be less than 100 sample data points  or where we cannot use Centre limit Theorem"
      ],
      "metadata": {
        "id": "X2T_HFdjMpFd"
      }
    },
    {
      "cell_type": "code",
      "source": [
        "survey_1 = [35, 36, 33, 37, 34, 35]\n",
        "survey_2 = [20, 37, 17, 50, 53, 33]\n",
        "\n",
        "bootstrapped_mean_samples = []\n",
        "for i in range(10000):\n",
        "  bootstrapped_samples = np.random.choice(survey_1, size=6)\n",
        "  bootstrapped_samples_mean = np.mean(bootstrapped_samples)\n",
        "  bootstrapped_mean_samples.append(bootstrapped_samples_mean)\n",
        "len(bootstrapped_mean_samples)\n",
        "#Confidence interval [x1 ~ x2]\n",
        "x1 = np.percentile(bootstrapped_mean_samples, 2.5)\n",
        "x2 = np.percentile(bootstrapped_mean_samples, 97.5)\n",
        "x1, x2\n",
        "\n",
        "# Population Mean\n",
        "np.mean(bootstrapped_mean_samples)\n",
        "\n"
      ],
      "metadata": {
        "colab": {
          "base_uri": "https://localhost:8080/"
        },
        "id": "WJxSBGbMMzbI",
        "outputId": "e93e83e6-747f-4645-e7c4-007ef462e907"
      },
      "execution_count": null,
      "outputs": [
        {
          "output_type": "execute_result",
          "data": {
            "text/plain": [
              "35.00555"
            ]
          },
          "metadata": {},
          "execution_count": 3
        }
      ]
    },
    {
      "cell_type": "markdown",
      "source": [
        "## Binomial Distribution"
      ],
      "metadata": {
        "id": "S54Gt0bSLw88"
      }
    },
    {
      "cell_type": "code",
      "source": [
        "# Binomial Distribution Propability for \"s\" sucesses in \"n\" trial with success propability of \"p\"\n",
        "n = 10 # No of Trial\n",
        "p = 0.5 # Propability of Success\n",
        "s = 5 #No of Success in N trials\n",
        "binom.pmf(s, n, p)"
      ],
      "metadata": {
        "id": "qSU-GvIbsBT2",
        "outputId": "ce353b84-cce3-4e63-b1ff-5362f8eeda8f",
        "colab": {
          "base_uri": "https://localhost:8080/"
        }
      },
      "execution_count": null,
      "outputs": [
        {
          "output_type": "execute_result",
          "data": {
            "text/plain": [
              "0.24609375000000003"
            ]
          },
          "metadata": {},
          "execution_count": 68
        }
      ]
    },
    {
      "cell_type": "code",
      "source": [
        "# Binomial Distribution Propability for all possible success outcomes from 0 to n Sucesses\n",
        "n = 10 # No of Trial\n",
        "p = 0.5 # Propability of Succes\n",
        "binom.pmf(np.arange(n+1), n, p)"
      ],
      "metadata": {
        "id": "NrWFXrM8pZ-h",
        "outputId": "e2b89fa5-66ff-4893-faeb-e91d3a94825c",
        "colab": {
          "base_uri": "https://localhost:8080/"
        }
      },
      "execution_count": null,
      "outputs": [
        {
          "output_type": "execute_result",
          "data": {
            "text/plain": [
              "array([0.00097656, 0.00976563, 0.04394531, 0.1171875 , 0.20507812,\n",
              "       0.24609375, 0.20507812, 0.1171875 , 0.04394531, 0.00976563,\n",
              "       0.00097656])"
            ]
          },
          "metadata": {},
          "execution_count": 69
        }
      ]
    },
    {
      "cell_type": "code",
      "source": [
        "# Binomial Distribution Propability plot\n",
        "n = 10 # No of Trial\n",
        "p = 0.3 # Propability of Succes\n",
        "sns.barplot(x= np.arange(n+1), y = [binom.pmf(i,n,p) for i in range(n+1)])"
      ],
      "metadata": {
        "id": "Zfsk9lZlrmF_",
        "outputId": "8e30a4c1-3635-4933-933e-5f283bb644fd",
        "colab": {
          "base_uri": "https://localhost:8080/",
          "height": 447
        }
      },
      "execution_count": null,
      "outputs": [
        {
          "output_type": "execute_result",
          "data": {
            "text/plain": [
              "<Axes: >"
            ]
          },
          "metadata": {},
          "execution_count": 70
        },
        {
          "output_type": "display_data",
          "data": {
            "text/plain": [
              "<Figure size 640x480 with 1 Axes>"
            ],
            "image/png": "[encoded data removed]"
          },
          "metadata": {}
        }
      ]
    },
    {
      "cell_type": "code",
      "source": [
        "# Binomial Distribution Propability for  sucesses less than \"s\" in \"n\" trial with success propability of \"p\":Cummulative Distribution\n",
        "n = 10 # No of Trial\n",
        "p = 0.5 # Propability of Succes\n",
        "s = 7 # No of Success less than \"s\"\n",
        "binom.cdf(s,n,p)"
      ],
      "metadata": {
        "id": "AhCdhYRWqNi7",
        "outputId": "ccb26f36-8ac1-433e-cdd7-94ba803eaac9",
        "colab": {
          "base_uri": "https://localhost:8080/"
        }
      },
      "execution_count": null,
      "outputs": [
        {
          "output_type": "execute_result",
          "data": {
            "text/plain": [
              "0.9453125"
            ]
          },
          "metadata": {},
          "execution_count": 71
        }
      ]
    },
    {
      "cell_type": "code",
      "source": [
        "# Cummulative distribution for Binomial Distribution\n",
        "n = 10 # No of Trial\n",
        "p = 0.5 # Propability of Succes\n",
        "sns.lineplot(x= np.arange(n+1), y = [binom.cdf(i,n,p) for i in range(n+1)])"
      ],
      "metadata": {
        "id": "38Mc7CBpqi_J",
        "outputId": "1911c95e-4099-4f8e-8ef2-b2a5f6d33519",
        "colab": {
          "base_uri": "https://localhost:8080/",
          "height": 447
        }
      },
      "execution_count": null,
      "outputs": [
        {
          "output_type": "execute_result",
          "data": {
            "text/plain": [
              "<Axes: >"
            ]
          },
          "metadata": {},
          "execution_count": 72
        },
        {
          "output_type": "display_data",
          "data": {
            "text/plain": [
              "<Figure size 640x480 with 1 Axes>"
            ],
            "image/png": "[encoded data removed]"
          },
          "metadata": {}
        }
      ]
    },
    {
      "cell_type": "code",
      "source": [
        "# Binomial Distribution Propability given CDF value = q ,  \"n\" trial with success propability of \"p\":finding no of success\n",
        "# Given 94% confidence out of n trial, how many trial will be successful\n",
        "n = 10 # No of Trial\n",
        "p = 0.5 # Propability of Succes\n",
        "q = 0.94 # Percentile\n",
        "binom.ppf(q=0.94,n=10,p=0.5)"
      ],
      "metadata": {
        "colab": {
          "base_uri": "https://localhost:8080/"
        },
        "id": "X6UZojDNMZ2e",
        "outputId": "1c5f3e1a-e9f4-417c-e363-a3b30e830336"
      },
      "execution_count": null,
      "outputs": [
        {
          "output_type": "execute_result",
          "data": {
            "text/plain": [
              "7.0"
            ]
          },
          "metadata": {},
          "execution_count": 11
        }
      ]
    },
    {
      "cell_type": "markdown",
      "source": [
        "## Geometric Distribution"
      ],
      "metadata": {
        "id": "uDg0Pe5wL5s8"
      }
    },
    {
      "cell_type": "code",
      "source": [
        "# Geometric Distribution Propability\n",
        "n = 0 # No of Trial for 1st Succes\n",
        "p = 0.5 # Propability of Succes\n",
        "geom.pmf(n, p)"
      ],
      "metadata": {
        "id": "qXjAM5E9qCzX",
        "outputId": "f461fba9-d684-4894-8528-aa76ab02a855",
        "colab": {
          "base_uri": "https://localhost:8080/"
        }
      },
      "execution_count": null,
      "outputs": [
        {
          "output_type": "execute_result",
          "data": {
            "text/plain": [
              "0.0"
            ]
          },
          "metadata": {},
          "execution_count": 73
        }
      ]
    },
    {
      "cell_type": "code",
      "source": [
        "# Geometric Distribution Propability curve [Propability of Succes at given no of trials]\n",
        "n = 100 # No of Trial\n",
        "p = 0.1 # Propability of Succes\n",
        "sns.lineplot(x= np.arange(0,n+1), y = [geom.pmf(i,p) for i in range(0,n+1)])"
      ],
      "metadata": {
        "id": "7Kj8ypIisyo_",
        "outputId": "3d88c08d-f8b8-4f4d-fcc1-3dd316a62ce4",
        "colab": {
          "base_uri": "https://localhost:8080/",
          "height": 447
        }
      },
      "execution_count": null,
      "outputs": [
        {
          "output_type": "execute_result",
          "data": {
            "text/plain": [
              "<Axes: >"
            ]
          },
          "metadata": {},
          "execution_count": 74
        },
        {
          "output_type": "display_data",
          "data": {
            "text/plain": [
              "<Figure size 640x480 with 1 Axes>"
            ],
            "image/png": "[encoded data removed]"
          },
          "metadata": {}
        }
      ]
    },
    {
      "cell_type": "code",
      "source": [
        "# Geometric Distribution Propability for sucess  by \"n\"th trial  with success propability of \"p\" : Cummulative Distribution\n",
        "n = 3 #  sucesse  by \"n\"th\n",
        "p = 0.1 # Propability of Succes\n",
        "geom.cdf(n, p)"
      ],
      "metadata": {
        "id": "5gNpIWo4vEKJ",
        "outputId": "aa4e8aa2-0d78-49bd-9682-377ea4f40362",
        "colab": {
          "base_uri": "https://localhost:8080/"
        }
      },
      "execution_count": null,
      "outputs": [
        {
          "output_type": "execute_result",
          "data": {
            "text/plain": [
              "0.271"
            ]
          },
          "metadata": {},
          "execution_count": 75
        }
      ]
    },
    {
      "cell_type": "code",
      "source": [
        "# Cummulative distribution for Geomtric Distribution\n",
        "n = 20 # No of Trial\n",
        "p = 0.5 # Propability of Success\n",
        "sns.lineplot(x= np.arange(0,n+1), y = [geom.cdf(i,p) for i in range(0,n+1)])"
      ],
      "metadata": {
        "id": "8yI8W05UvJMd",
        "outputId": "24f08cb9-f115-45d5-b319-6be7ff741413",
        "colab": {
          "base_uri": "https://localhost:8080/",
          "height": 447
        }
      },
      "execution_count": null,
      "outputs": [
        {
          "output_type": "execute_result",
          "data": {
            "text/plain": [
              "<Axes: >"
            ]
          },
          "metadata": {},
          "execution_count": 23
        },
        {
          "output_type": "display_data",
          "data": {
            "text/plain": [
              "<Figure size 640x480 with 1 Axes>"
            ],
            "image/png": "[encoded data removed]"
          },
          "metadata": {}
        }
      ]
    },
    {
      "cell_type": "code",
      "source": [
        "# Geometric Distribution Propability given CDF value = q , with success propability of \"p\":finding n no of trials\n",
        "# with 95% confidence how many trial willbe needed for the first success\n",
        "p = 0.5 # Propability of Succes\n",
        "q = 0.95 # Percentile for\n",
        "geom.ppf(q=0.95,p=0.5)"
      ],
      "metadata": {
        "id": "pJBjxKW9_ods",
        "outputId": "0c286f5a-d2cf-461c-b6e5-0c661b995143",
        "colab": {
          "base_uri": "https://localhost:8080/"
        }
      },
      "execution_count": null,
      "outputs": [
        {
          "output_type": "execute_result",
          "data": {
            "text/plain": [
              "5.0"
            ]
          },
          "metadata": {},
          "execution_count": 18
        }
      ]
    },
    {
      "cell_type": "code",
      "source": [
        "geom.ppf?"
      ],
      "metadata": {
        "id": "gr2YrvtrN3eo"
      },
      "execution_count": null,
      "outputs": []
    },
    {
      "cell_type": "markdown",
      "source": [
        "# **DAV - Fundamentals**"
      ],
      "metadata": {
        "id": "Z5-OJAfHgocv"
      }
    },
    {
      "cell_type": "markdown",
      "source": [
        "## Z-Test"
      ],
      "metadata": {
        "id": "UUDHNbufgynn"
      }
    },
    {
      "cell_type": "code",
      "source": [
        "# H0: mu = 500\n",
        "# Ha : mu >500\n",
        "\n",
        "z_stat = (530-500)/(125/np.sqrt(70))\n",
        "p_value = 1-norm.cdf(z_stat)\n",
        "print(p_value)\n",
        "alpha = 0.05\n",
        "if p_value < alpha:\n",
        "    print(\"Reject H0\")\n",
        "else:\n",
        "    print(\"Do not reject H0\")"
      ],
      "metadata": {
        "id": "sZO285Ctg6Uo"
      },
      "execution_count": null,
      "outputs": []
    },
    {
      "cell_type": "code",
      "source": [
        "z = norm.ppf(0.95)\n",
        "x = 500 + z * 125/np.sqrt(70)\n",
        "x"
      ],
      "metadata": {
        "id": "jrXeq46mhRcj"
      },
      "execution_count": null,
      "outputs": []
    },
    {
      "cell_type": "code",
      "source": [
        "1-norm.cdf((524.574701413748-500)/(125/np.sqrt(70)))"
      ],
      "metadata": {
        "id": "afTyy4l2hTh-"
      },
      "execution_count": null,
      "outputs": []
    },
    {
      "cell_type": "markdown",
      "source": [
        "## T-Test"
      ],
      "metadata": {
        "id": "JsYBO_iuhYrv"
      }
    },
    {
      "cell_type": "markdown",
      "source": [
        "### 1-Sample T-Test"
      ],
      "metadata": {
        "id": "v7PJxkcFhsoJ"
      }
    },
    {
      "cell_type": "code",
      "source": [
        "# Improve IQ with a pill\n",
        "#Population IQ average = 100\n",
        "#One researcher claims that his pill will improve IQ\n",
        "\n",
        "iq_scores = [110, 105, 98, 102, 99, 104, 115, 95]\n",
        "np.mean(iq_scores)"
      ],
      "metadata": {
        "colab": {
          "base_uri": "https://localhost:8080/"
        },
        "id": "xWal05lohXt8",
        "outputId": "d4787f03-274e-47f2-87ff-7acfc11f06fb"
      },
      "execution_count": null,
      "outputs": [
        {
          "output_type": "execute_result",
          "data": {
            "text/plain": [
              "103.5"
            ]
          },
          "metadata": {},
          "execution_count": 40
        }
      ]
    },
    {
      "cell_type": "code",
      "source": [
        "alpha = 0.01\n",
        "#H0 : mu = 100 (pill does have any effect)\n",
        "#Ha : mu> 100 (pill has a good effect)\n",
        "\n",
        "t_stat, p_value = ttest_1samp(iq_scores, 100,alternative = \"greater\")\n",
        "# meaning iq_scores mean greater than 100 similarily less than and two tailed meaning not equal to in alternativa\n",
        "print(p_value)\n",
        "print(t_stat)\n",
        "if p_value < alpha:\n",
        "    print(\"Reject H0\")\n",
        "else:\n",
        "    print(\"Fail to reject H0\")\n",
        "    print(\"Pill has no effect\")"
      ],
      "metadata": {
        "colab": {
          "base_uri": "https://localhost:8080/"
        },
        "id": "9YtzVQspiDdd",
        "outputId": "c146bdef-5787-444b-e947-716ff024ed87"
      },
      "execution_count": null,
      "outputs": [
        {
          "output_type": "stream",
          "name": "stdout",
          "text": [
            "0.08774972467925055\n",
            "1.5071573172061195\n",
            "Fail to reject H0\n",
            "Pill has no effect\n"
          ]
        }
      ]
    },
    {
      "cell_type": "markdown",
      "source": [
        "### 2-Sample or Independent T-Test"
      ],
      "metadata": {
        "id": "Wel3M_TKiRSk"
      }
    },
    {
      "cell_type": "markdown",
      "source": [
        "First Need to check if both Data Sets have same Variance .... This can be done using levene test or by looking into both datasets Std Dev values in \"describe() function\""
      ],
      "metadata": {
        "id": "jY-Hk6tl35qH"
      }
    },
    {
      "cell_type": "code",
      "source": [
        "#IQ across 2 schools\n",
        "df_iq = pd.read_csv(\"iq_two_schools.csv\")\n",
        "df_iq.head()"
      ],
      "metadata": {
        "colab": {
          "base_uri": "https://localhost:8080/",
          "height": 206
        },
        "id": "u0-Taul1iQ9C",
        "outputId": "4da7e2ae-6df9-43da-db60-5ddf6f741204"
      },
      "execution_count": null,
      "outputs": [
        {
          "output_type": "execute_result",
          "data": {
            "text/plain": [
              "     School   iq\n",
              "0  school_1   91\n",
              "1  school_1   95\n",
              "2  school_1  110\n",
              "3  school_1  112\n",
              "4  school_1  115"
            ],
            "text/html": [
              "\n",
              "\n",
              "  <div id=\"df-2331bfec-4b67-4b5c-85d8-a626002ad57b\">\n",
              "    <div class=\"colab-df-container\">\n",
              "      <div>\n",
              "<style scoped>\n",
              "    .dataframe tbody tr th:only-of-type {\n",
              "        vertical-align: middle;\n",
              "    }\n",
              "\n",
              "    .dataframe tbody tr th {\n",
              "        vertical-align: top;\n",
              "    }\n",
              "\n",
              "    .dataframe thead th {\n",
              "        text-align: right;\n",
              "    }\n",
              "</style>\n",
              "<table border=\"1\" class=\"dataframe\">\n",
              "  <thead>\n",
              "    <tr style=\"text-align: right;\">\n",
              "      <th></th>\n",
              "      <th>School</th>\n",
              "      <th>iq</th>\n",
              "    </tr>\n",
              "  </thead>\n",
              "  <tbody>\n",
              "    <tr>\n",
              "      <th>0</th>\n",
              "      <td>school_1</td>\n",
              "      <td>91</td>\n",
              "    </tr>\n",
              "    <tr>\n",
              "      <th>1</th>\n",
              "      <td>school_1</td>\n",
              "      <td>95</td>\n",
              "    </tr>\n",
              "    <tr>\n",
              "      <th>2</th>\n",
              "      <td>school_1</td>\n",
              "      <td>110</td>\n",
              "    </tr>\n",
              "    <tr>\n",
              "      <th>3</th>\n",
              "      <td>school_1</td>\n",
              "      <td>112</td>\n",
              "    </tr>\n",
              "    <tr>\n",
              "      <th>4</th>\n",
              "      <td>school_1</td>\n",
              "      <td>115</td>\n",
              "    </tr>\n",
              "  </tbody>\n",
              "</table>\n",
              "</div>\n",
              "      <button class=\"colab-df-convert\" onclick=\"convertToInteractive('df-2331bfec-4b67-4b5c-85d8-a626002ad57b')\"\n",
              "              title=\"Convert this dataframe to an interactive table.\"\n",
              "              style=\"display:none;\">\n",
              "\n",
              "  <svg xmlns=\"http://www.w3.org/2000/svg\" height=\"24px\"viewBox=\"0 0 24 24\"\n",
              "       width=\"24px\">\n",
              "    <path d=\"M0 0h24v24H0V0z\" fill=\"none\"/>\n",
              "    <path d=\"M18.56 5.44l.94 2.06.94-2.06 2.06-.94-2.06-.94-.94-2.06-.94 2.06-2.06.94zm-11 1L8.5 8.5l.94-2.06 2.06-.94-2.06-.94L8.5 2.5l-.94 2.06-2.06.94zm10 10l.94 2.06.94-2.06 2.06-.94-2.06-.94-.94-2.06-.94 2.06-2.06.94z\"/><path d=\"M17.41 7.96l-1.37-1.37c-.4-.4-.92-.59-1.43-.59-.52 0-1.04.2-1.43.59L10.3 9.45l-7.72 7.72c-.78.78-.78 2.05 0 2.83L4 21.41c.39.39.9.59 1.41.59.51 0 1.02-.2 1.41-.59l7.78-7.78 2.81-2.81c.8-.78.8-2.07 0-2.86zM5.41 20L4 18.59l7.72-7.72 1.47 1.35L5.41 20z\"/>\n",
              "  </svg>\n",
              "      </button>\n",
              "\n",
              "\n",
              "\n",
              "    <div id=\"df-0d9d1487-6518-439f-8fad-6f7c4d1d66fd\">\n",
              "      <button class=\"colab-df-quickchart\" onclick=\"quickchart('df-0d9d1487-6518-439f-8fad-6f7c4d1d66fd')\"\n",
              "              title=\"Suggest charts.\"\n",
              "              style=\"display:none;\">\n",
              "\n",
              "<svg xmlns=\"http://www.w3.org/2000/svg\" height=\"24px\"viewBox=\"0 0 24 24\"\n",
              "     width=\"24px\">\n",
              "    <g>\n",
              "        <path d=\"M19 3H5c-1.1 0-2 .9-2 2v14c0 1.1.9 2 2 2h14c1.1 0 2-.9 2-2V5c0-1.1-.9-2-2-2zM9 17H7v-7h2v7zm4 0h-2V7h2v10zm4 0h-2v-4h2v4z\"/>\n",
              "    </g>\n",
              "</svg>\n",
              "      </button>\n",
              "    </div>\n",
              "\n",
              "<style>\n",
              "  .colab-df-quickchart {\n",
              "    background-color: #E8F0FE;\n",
              "    border: none;\n",
              "    border-radius: 50%;\n",
              "    cursor: pointer;\n",
              "    display: none;\n",
              "    fill: #1967D2;\n",
              "    height: 32px;\n",
              "    padding: 0 0 0 0;\n",
              "    width: 32px;\n",
              "  }\n",
              "\n",
              "  .colab-df-quickchart:hover {\n",
              "    background-color: #E2EBFA;\n",
              "    box-shadow: 0px 1px 2px rgba(60, 64, 67, 0.3), 0px 1px 3px 1px rgba(60, 64, 67, 0.15);\n",
              "    fill: #174EA6;\n",
              "  }\n",
              "\n",
              "  [theme=dark] .colab-df-quickchart {\n",
              "    background-color: #3B4455;\n",
              "    fill: #D2E3FC;\n",
              "  }\n",
              "\n",
              "  [theme=dark] .colab-df-quickchart:hover {\n",
              "    background-color: #434B5C;\n",
              "    box-shadow: 0px 1px 3px 1px rgba(0, 0, 0, 0.15);\n",
              "    filter: drop-shadow(0px 1px 2px rgba(0, 0, 0, 0.3));\n",
              "    fill: #FFFFFF;\n",
              "  }\n",
              "</style>\n",
              "\n",
              "    <script>\n",
              "      async function quickchart(key) {\n",
              "        const containerElement = document.querySelector('#' + key);\n",
              "        const charts = await google.colab.kernel.invokeFunction(\n",
              "            'suggestCharts', [key], {});\n",
              "      }\n",
              "    </script>\n",
              "\n",
              "      <script>\n",
              "\n",
              "function displayQuickchartButton(domScope) {\n",
              "  let quickchartButtonEl =\n",
              "    domScope.querySelector('#df-0d9d1487-6518-439f-8fad-6f7c4d1d66fd button.colab-df-quickchart');\n",
              "  quickchartButtonEl.style.display =\n",
              "    google.colab.kernel.accessAllowed ? 'block' : 'none';\n",
              "}\n",
              "\n",
              "        displayQuickchartButton(document);\n",
              "      </script>\n",
              "      <style>\n",
              "    .colab-df-container {\n",
              "      display:flex;\n",
              "      flex-wrap:wrap;\n",
              "      gap: 12px;\n",
              "    }\n",
              "\n",
              "    .colab-df-convert {\n",
              "      background-color: #E8F0FE;\n",
              "      border: none;\n",
              "      border-radius: 50%;\n",
              "      cursor: pointer;\n",
              "      display: none;\n",
              "      fill: #1967D2;\n",
              "      height: 32px;\n",
              "      padding: 0 0 0 0;\n",
              "      width: 32px;\n",
              "    }\n",
              "\n",
              "    .colab-df-convert:hover {\n",
              "      background-color: #E2EBFA;\n",
              "      box-shadow: 0px 1px 2px rgba(60, 64, 67, 0.3), 0px 1px 3px 1px rgba(60, 64, 67, 0.15);\n",
              "      fill: #174EA6;\n",
              "    }\n",
              "\n",
              "    [theme=dark] .colab-df-convert {\n",
              "      background-color: #3B4455;\n",
              "      fill: #D2E3FC;\n",
              "    }\n",
              "\n",
              "    [theme=dark] .colab-df-convert:hover {\n",
              "      background-color: #434B5C;\n",
              "      box-shadow: 0px 1px 3px 1px rgba(0, 0, 0, 0.15);\n",
              "      filter: drop-shadow(0px 1px 2px rgba(0, 0, 0, 0.3));\n",
              "      fill: #FFFFFF;\n",
              "    }\n",
              "  </style>\n",
              "\n",
              "      <script>\n",
              "        const buttonEl =\n",
              "          document.querySelector('#df-2331bfec-4b67-4b5c-85d8-a626002ad57b button.colab-df-convert');\n",
              "        buttonEl.style.display =\n",
              "          google.colab.kernel.accessAllowed ? 'block' : 'none';\n",
              "\n",
              "        async function convertToInteractive(key) {\n",
              "          const element = document.querySelector('#df-2331bfec-4b67-4b5c-85d8-a626002ad57b');\n",
              "          const dataTable =\n",
              "            await google.colab.kernel.invokeFunction('convertToInteractive',\n",
              "                                                     [key], {});\n",
              "          if (!dataTable) return;\n",
              "\n",
              "          const docLinkHtml = 'Like what you see? Visit the ' +\n",
              "            '<a target=\"_blank\" href=https://colab.research.google.com/notebooks/data_table.ipynb>data table notebook</a>'\n",
              "            + ' to learn more about interactive tables.';\n",
              "          element.innerHTML = '';\n",
              "          dataTable['output_type'] = 'display_data';\n",
              "          await google.colab.output.renderOutput(dataTable, element);\n",
              "          const docLink = document.createElement('div');\n",
              "          docLink.innerHTML = docLinkHtml;\n",
              "          element.appendChild(docLink);\n",
              "        }\n",
              "      </script>\n",
              "    </div>\n",
              "  </div>\n"
            ]
          },
          "metadata": {},
          "execution_count": 43
        }
      ]
    },
    {
      "cell_type": "code",
      "source": [
        "df_iq.groupby(\"School\")[\"iq\"].mean()"
      ],
      "metadata": {
        "colab": {
          "base_uri": "https://localhost:8080/"
        },
        "id": "RTeibfXLicCE",
        "outputId": "a125cfcd-73dc-401e-b262-b13a1875cecc"
      },
      "execution_count": null,
      "outputs": [
        {
          "output_type": "execute_result",
          "data": {
            "text/plain": [
              "School\n",
              "school_1    101.153846\n",
              "school_2    109.416667\n",
              "Name: iq, dtype: float64"
            ]
          },
          "metadata": {},
          "execution_count": 44
        }
      ]
    },
    {
      "cell_type": "code",
      "source": [
        "iq_1 = df_iq[df_iq[\"School\"]==\"school_1\"][\"iq\"]\n",
        "iq_2 = df_iq[df_iq[\"School\"]==\"school_2\"][\"iq\"]"
      ],
      "metadata": {
        "id": "UIp73KhgiikZ"
      },
      "execution_count": null,
      "outputs": []
    },
    {
      "cell_type": "code",
      "source": [
        "# H0: mu1 = mu2 #H0 : two schools are essentially the same\n",
        "#Ha: mu1 != mu2  #Default - two sided\n",
        "t_stat, p_value = ttest_ind(iq_1, iq_2)\n",
        "print(p_value)\n",
        "if p_value < 0.05:\n",
        "    print(\"Reject H0\")\n",
        "else:\n",
        "    print(\"Fail to reject H0\")"
      ],
      "metadata": {
        "colab": {
          "base_uri": "https://localhost:8080/"
        },
        "id": "Vr-MG2R8inWc",
        "outputId": "70b73907-63e9-4303-f3c4-5c462edf381a"
      },
      "execution_count": null,
      "outputs": [
        {
          "output_type": "stream",
          "name": "stdout",
          "text": [
            "0.02004552710936217\n",
            "Reject H0\n"
          ]
        }
      ]
    },
    {
      "cell_type": "code",
      "source": [
        "#H0: mu1 >= mu2\n",
        "#Ha : mu1 < mu2\n",
        "\n",
        "t_stat, p_value = ttest_ind(iq_1, iq_2, alternative=\"less\")\n",
        "print(p_value)\n",
        "if p_value < 0.05:\n",
        "    print(\"Reject H0\")\n",
        "else:\n",
        "    print(\"Fail to reject H0\")"
      ],
      "metadata": {
        "colab": {
          "base_uri": "https://localhost:8080/"
        },
        "id": "PdDMMZk0ir6g",
        "outputId": "a4306319-102e-4660-daa0-63098042c7c9"
      },
      "execution_count": null,
      "outputs": [
        {
          "output_type": "stream",
          "name": "stdout",
          "text": [
            "0.010022763554681085\n",
            "Reject H0\n"
          ]
        }
      ]
    },
    {
      "cell_type": "code",
      "source": [
        "#H0: mu1 <= mu2\n",
        "#Ha : mu1 > mu2\n",
        "\n",
        "t_stat, p_value = ttest_ind(iq_1, iq_2, alternative=\"greater\")\n",
        "print(p_value)\n",
        "if p_value < 0.05:\n",
        "    print(\"Reject H0\")\n",
        "else:\n",
        "    print(\"Fail to reject H0\")"
      ],
      "metadata": {
        "colab": {
          "base_uri": "https://localhost:8080/"
        },
        "id": "DAOpkL1oivZA",
        "outputId": "ac60c9e5-55c5-48fb-bd46-fdf44f7f3e69"
      },
      "execution_count": null,
      "outputs": [
        {
          "output_type": "stream",
          "name": "stdout",
          "text": [
            "0.9899772364453189\n",
            "Fail to reject H0\n"
          ]
        }
      ]
    },
    {
      "cell_type": "markdown",
      "source": [
        "### Two Related Sample / Dependent / Paired T-test"
      ],
      "metadata": {
        "id": "2TfTzsuaLReB"
      }
    },
    {
      "cell_type": "code",
      "source": [
        "# Before & After data collected from same person/point"
      ],
      "metadata": {
        "id": "Xsa-jCwMLRKf"
      },
      "execution_count": null,
      "outputs": []
    },
    {
      "cell_type": "markdown",
      "source": [
        "The Zumba trainer claims that the new dance routine helps to reduce more weight of the customers. The weights of 8 people are recorded for before the Zumba training and after the Zumba training for a month.\n",
        "\n",
        "Test the trainer's claim with 90% confidence"
      ],
      "metadata": {
        "id": "G7s5oq-lLrYy"
      }
    },
    {
      "cell_type": "code",
      "source": [
        "wt_before=[85, 74, 63.5, 69.4, 71.6, 65,90,78]\n",
        "\n",
        "wt_after=[82, 71, 64, 65.2, 67.8, 64.7,95,77]\n",
        "\n",
        "#H0: mu1 = mu2\n",
        "#Ha : mu1 < mu2 or mu1 > mu2 or mu1 != mu2\n",
        "\n",
        "t_stat, p_value = ttest_rel(wt_after,wt_before,alternative = \"less\")\n",
        "print(p_value)\n",
        "if p_value < 0.1:\n",
        "    print(\"Reject H0\")\n",
        "    print(\"There is a effect on before & after results\")\n",
        "else :\n",
        "  print(\"Accept Ho\")\n",
        "  print(\"No effect , before & after are same\")"
      ],
      "metadata": {
        "colab": {
          "base_uri": "https://localhost:8080/"
        },
        "id": "lZKnPtKzL4vk",
        "outputId": "d9b14b59-7832-4cad-94ac-f3e03560db1c"
      },
      "execution_count": null,
      "outputs": [
        {
          "output_type": "stream",
          "name": "stdout",
          "text": [
            "0.14546808501326386\n",
            "Accept Ho\n",
            "No effect , before & after are same\n"
          ]
        }
      ]
    },
    {
      "cell_type": "markdown",
      "source": [
        "Will problem solving sessions help students?\n",
        "\n",
        "Test 1: Before the session\n",
        "\n",
        "Test 2: After the session"
      ],
      "metadata": {
        "id": "eVX9umA0a9Ub"
      }
    },
    {
      "cell_type": "code",
      "source": [
        "df_ps = pd.read_csv(\"problem_solving.csv\")"
      ],
      "metadata": {
        "id": "tcuSVSI_a_Hj"
      },
      "execution_count": null,
      "outputs": []
    },
    {
      "cell_type": "code",
      "source": [
        "df_ps.head()"
      ],
      "metadata": {
        "colab": {
          "base_uri": "https://localhost:8080/",
          "height": 206
        },
        "id": "7lNXtmSsbwtj",
        "outputId": "808362b0-8193-4f5f-be43-e3c4c7cf8190"
      },
      "execution_count": null,
      "outputs": [
        {
          "output_type": "execute_result",
          "data": {
            "text/plain": [
              "   id  test_1  test_2\n",
              "0   0      40      38\n",
              "1   1      49      44\n",
              "2   2      65      69\n",
              "3   3      59      63\n",
              "4   4      44      43"
            ],
            "text/html": [
              "\n",
              "\n",
              "  <div id=\"df-157bc3ec-ab92-4ef4-ac82-8f2999367b8b\">\n",
              "    <div class=\"colab-df-container\">\n",
              "      <div>\n",
              "<style scoped>\n",
              "    .dataframe tbody tr th:only-of-type {\n",
              "        vertical-align: middle;\n",
              "    }\n",
              "\n",
              "    .dataframe tbody tr th {\n",
              "        vertical-align: top;\n",
              "    }\n",
              "\n",
              "    .dataframe thead th {\n",
              "        text-align: right;\n",
              "    }\n",
              "</style>\n",
              "<table border=\"1\" class=\"dataframe\">\n",
              "  <thead>\n",
              "    <tr style=\"text-align: right;\">\n",
              "      <th></th>\n",
              "      <th>id</th>\n",
              "      <th>test_1</th>\n",
              "      <th>test_2</th>\n",
              "    </tr>\n",
              "  </thead>\n",
              "  <tbody>\n",
              "    <tr>\n",
              "      <th>0</th>\n",
              "      <td>0</td>\n",
              "      <td>40</td>\n",
              "      <td>38</td>\n",
              "    </tr>\n",
              "    <tr>\n",
              "      <th>1</th>\n",
              "      <td>1</td>\n",
              "      <td>49</td>\n",
              "      <td>44</td>\n",
              "    </tr>\n",
              "    <tr>\n",
              "      <th>2</th>\n",
              "      <td>2</td>\n",
              "      <td>65</td>\n",
              "      <td>69</td>\n",
              "    </tr>\n",
              "    <tr>\n",
              "      <th>3</th>\n",
              "      <td>3</td>\n",
              "      <td>59</td>\n",
              "      <td>63</td>\n",
              "    </tr>\n",
              "    <tr>\n",
              "      <th>4</th>\n",
              "      <td>4</td>\n",
              "      <td>44</td>\n",
              "      <td>43</td>\n",
              "    </tr>\n",
              "  </tbody>\n",
              "</table>\n",
              "</div>\n",
              "      <button class=\"colab-df-convert\" onclick=\"convertToInteractive('df-157bc3ec-ab92-4ef4-ac82-8f2999367b8b')\"\n",
              "              title=\"Convert this dataframe to an interactive table.\"\n",
              "              style=\"display:none;\">\n",
              "\n",
              "  <svg xmlns=\"http://www.w3.org/2000/svg\" height=\"24px\"viewBox=\"0 0 24 24\"\n",
              "       width=\"24px\">\n",
              "    <path d=\"M0 0h24v24H0V0z\" fill=\"none\"/>\n",
              "    <path d=\"M18.56 5.44l.94 2.06.94-2.06 2.06-.94-2.06-.94-.94-2.06-.94 2.06-2.06.94zm-11 1L8.5 8.5l.94-2.06 2.06-.94-2.06-.94L8.5 2.5l-.94 2.06-2.06.94zm10 10l.94 2.06.94-2.06 2.06-.94-2.06-.94-.94-2.06-.94 2.06-2.06.94z\"/><path d=\"M17.41 7.96l-1.37-1.37c-.4-.4-.92-.59-1.43-.59-.52 0-1.04.2-1.43.59L10.3 9.45l-7.72 7.72c-.78.78-.78 2.05 0 2.83L4 21.41c.39.39.9.59 1.41.59.51 0 1.02-.2 1.41-.59l7.78-7.78 2.81-2.81c.8-.78.8-2.07 0-2.86zM5.41 20L4 18.59l7.72-7.72 1.47 1.35L5.41 20z\"/>\n",
              "  </svg>\n",
              "      </button>\n",
              "\n",
              "\n",
              "\n",
              "    <div id=\"df-40ba0c36-8fd3-49f3-8c35-ba721af97c30\">\n",
              "      <button class=\"colab-df-quickchart\" onclick=\"quickchart('df-40ba0c36-8fd3-49f3-8c35-ba721af97c30')\"\n",
              "              title=\"Suggest charts.\"\n",
              "              style=\"display:none;\">\n",
              "\n",
              "<svg xmlns=\"http://www.w3.org/2000/svg\" height=\"24px\"viewBox=\"0 0 24 24\"\n",
              "     width=\"24px\">\n",
              "    <g>\n",
              "        <path d=\"M19 3H5c-1.1 0-2 .9-2 2v14c0 1.1.9 2 2 2h14c1.1 0 2-.9 2-2V5c0-1.1-.9-2-2-2zM9 17H7v-7h2v7zm4 0h-2V7h2v10zm4 0h-2v-4h2v4z\"/>\n",
              "    </g>\n",
              "</svg>\n",
              "      </button>\n",
              "    </div>\n",
              "\n",
              "<style>\n",
              "  .colab-df-quickchart {\n",
              "    background-color: #E8F0FE;\n",
              "    border: none;\n",
              "    border-radius: 50%;\n",
              "    cursor: pointer;\n",
              "    display: none;\n",
              "    fill: #1967D2;\n",
              "    height: 32px;\n",
              "    padding: 0 0 0 0;\n",
              "    width: 32px;\n",
              "  }\n",
              "\n",
              "  .colab-df-quickchart:hover {\n",
              "    background-color: #E2EBFA;\n",
              "    box-shadow: 0px 1px 2px rgba(60, 64, 67, 0.3), 0px 1px 3px 1px rgba(60, 64, 67, 0.15);\n",
              "    fill: #174EA6;\n",
              "  }\n",
              "\n",
              "  [theme=dark] .colab-df-quickchart {\n",
              "    background-color: #3B4455;\n",
              "    fill: #D2E3FC;\n",
              "  }\n",
              "\n",
              "  [theme=dark] .colab-df-quickchart:hover {\n",
              "    background-color: #434B5C;\n",
              "    box-shadow: 0px 1px 3px 1px rgba(0, 0, 0, 0.15);\n",
              "    filter: drop-shadow(0px 1px 2px rgba(0, 0, 0, 0.3));\n",
              "    fill: #FFFFFF;\n",
              "  }\n",
              "</style>\n",
              "\n",
              "    <script>\n",
              "      async function quickchart(key) {\n",
              "        const containerElement = document.querySelector('#' + key);\n",
              "        const charts = await google.colab.kernel.invokeFunction(\n",
              "            'suggestCharts', [key], {});\n",
              "      }\n",
              "    </script>\n",
              "\n",
              "      <script>\n",
              "\n",
              "function displayQuickchartButton(domScope) {\n",
              "  let quickchartButtonEl =\n",
              "    domScope.querySelector('#df-40ba0c36-8fd3-49f3-8c35-ba721af97c30 button.colab-df-quickchart');\n",
              "  quickchartButtonEl.style.display =\n",
              "    google.colab.kernel.accessAllowed ? 'block' : 'none';\n",
              "}\n",
              "\n",
              "        displayQuickchartButton(document);\n",
              "      </script>\n",
              "      <style>\n",
              "    .colab-df-container {\n",
              "      display:flex;\n",
              "      flex-wrap:wrap;\n",
              "      gap: 12px;\n",
              "    }\n",
              "\n",
              "    .colab-df-convert {\n",
              "      background-color: #E8F0FE;\n",
              "      border: none;\n",
              "      border-radius: 50%;\n",
              "      cursor: pointer;\n",
              "      display: none;\n",
              "      fill: #1967D2;\n",
              "      height: 32px;\n",
              "      padding: 0 0 0 0;\n",
              "      width: 32px;\n",
              "    }\n",
              "\n",
              "    .colab-df-convert:hover {\n",
              "      background-color: #E2EBFA;\n",
              "      box-shadow: 0px 1px 2px rgba(60, 64, 67, 0.3), 0px 1px 3px 1px rgba(60, 64, 67, 0.15);\n",
              "      fill: #174EA6;\n",
              "    }\n",
              "\n",
              "    [theme=dark] .colab-df-convert {\n",
              "      background-color: #3B4455;\n",
              "      fill: #D2E3FC;\n",
              "    }\n",
              "\n",
              "    [theme=dark] .colab-df-convert:hover {\n",
              "      background-color: #434B5C;\n",
              "      box-shadow: 0px 1px 3px 1px rgba(0, 0, 0, 0.15);\n",
              "      filter: drop-shadow(0px 1px 2px rgba(0, 0, 0, 0.3));\n",
              "      fill: #FFFFFF;\n",
              "    }\n",
              "  </style>\n",
              "\n",
              "      <script>\n",
              "        const buttonEl =\n",
              "          document.querySelector('#df-157bc3ec-ab92-4ef4-ac82-8f2999367b8b button.colab-df-convert');\n",
              "        buttonEl.style.display =\n",
              "          google.colab.kernel.accessAllowed ? 'block' : 'none';\n",
              "\n",
              "        async function convertToInteractive(key) {\n",
              "          const element = document.querySelector('#df-157bc3ec-ab92-4ef4-ac82-8f2999367b8b');\n",
              "          const dataTable =\n",
              "            await google.colab.kernel.invokeFunction('convertToInteractive',\n",
              "                                                     [key], {});\n",
              "          if (!dataTable) return;\n",
              "\n",
              "          const docLinkHtml = 'Like what you see? Visit the ' +\n",
              "            '<a target=\"_blank\" href=https://colab.research.google.com/notebooks/data_table.ipynb>data table notebook</a>'\n",
              "            + ' to learn more about interactive tables.';\n",
              "          element.innerHTML = '';\n",
              "          dataTable['output_type'] = 'display_data';\n",
              "          await google.colab.output.renderOutput(dataTable, element);\n",
              "          const docLink = document.createElement('div');\n",
              "          docLink.innerHTML = docLinkHtml;\n",
              "          element.appendChild(docLink);\n",
              "        }\n",
              "      </script>\n",
              "    </div>\n",
              "  </div>\n"
            ]
          },
          "metadata": {},
          "execution_count": 5
        }
      ]
    },
    {
      "cell_type": "code",
      "source": [
        "#H0 : Problem solving has no effect\n",
        "#Ha : Problem solving has an effect\n",
        "\n",
        "t_stat, p_value= ttest_rel(df_ps[\"test_1\"] , df_ps[\"test_2\"])\n",
        "print(p_value)\n",
        "if p_value < 0.1:\n",
        "    print(\"Reject H0\")\n",
        "    print(\"There is a effect on before & after results\")\n",
        "else :\n",
        "  print(\"Accept Ho\")\n",
        "  print(\"No effect , before & after are same\")"
      ],
      "metadata": {
        "colab": {
          "base_uri": "https://localhost:8080/"
        },
        "id": "buyYly8Qb32S",
        "outputId": "a682f361-11e3-4013-c3ea-f9cef09ecec1"
      },
      "execution_count": null,
      "outputs": [
        {
          "output_type": "stream",
          "name": "stdout",
          "text": [
            "1.795840353792313e-07\n",
            "Reject H0\n",
            "There is a effect on before & after results\n"
          ]
        }
      ]
    },
    {
      "cell_type": "code",
      "source": [
        "#H0 : Problem solving has no effect (>=)\n",
        "#Ha : Problem solving improved the scores (<)\n",
        "\n",
        "t_stat, p_value= ttest_rel(df_ps[\"test_1\"], df_ps[\"test_2\"], alternative=\"less\")\n",
        "print(p_value)\n",
        "if p_value < 0.1:\n",
        "    print(\"Reject H0\")\n",
        "    print(\"Problem solving improved the scores\")\n",
        "else :\n",
        "  print(\"Accept Ho\")\n",
        "  print(\"Problem solving has no effect\")"
      ],
      "metadata": {
        "colab": {
          "base_uri": "https://localhost:8080/"
        },
        "id": "kUpidNdscGFh",
        "outputId": "c5bdd171-1f72-4475-835b-950a666a971c"
      },
      "execution_count": null,
      "outputs": [
        {
          "output_type": "stream",
          "name": "stdout",
          "text": [
            "8.979201768961566e-08\n",
            "Reject H0\n",
            "Problem solving improved the scores\n"
          ]
        }
      ]
    },
    {
      "cell_type": "code",
      "source": [
        "# H0 : Problem solving has no effect (<=)\n",
        "# Ha: Problem solving deteriorated the scores (>)\n",
        "\n",
        "t_stat, p_value = ttest_rel(df_ps[\"test_1\"], df_ps[\"test_2\"], alternative=\"greater\")\n",
        "print(p_value)\n",
        "if p_value < 0.1:\n",
        "    print(\"Reject H0\")\n",
        "    print(\"# Ha: Problem solving deteriorated the scores \")\n",
        "else :\n",
        "  print(\"Accept Ho\")\n",
        "  print(\"Problem solving has no effect\")"
      ],
      "metadata": {
        "colab": {
          "base_uri": "https://localhost:8080/"
        },
        "id": "wvPxZnvicVo5",
        "outputId": "691da01c-be49-4178-a83d-331f9dea60e0"
      },
      "execution_count": null,
      "outputs": [
        {
          "output_type": "stream",
          "name": "stdout",
          "text": [
            "0.9999999102079823\n",
            "Accept Ho\n",
            "Problem solving has no effect\n"
          ]
        }
      ]
    },
    {
      "cell_type": "code",
      "source": [
        "len(df_ps)"
      ],
      "metadata": {
        "colab": {
          "base_uri": "https://localhost:8080/"
        },
        "id": "bXjVjuimc9yW",
        "outputId": "dbe211f4-b810-42d2-9265-eaf3f67ccdc5"
      },
      "execution_count": null,
      "outputs": [
        {
          "output_type": "execute_result",
          "data": {
            "text/plain": [
              "137"
            ]
          },
          "metadata": {},
          "execution_count": 12
        }
      ]
    },
    {
      "cell_type": "code",
      "source": [
        "# Notice df ( Degrees of Freedom ) in the output - we need 136 other values to fill rest of the data in the table\n",
        "ttest_rel(df_ps[\"test_1\"], df_ps[\"test_2\"], alternative=\"greater\")"
      ],
      "metadata": {
        "colab": {
          "base_uri": "https://localhost:8080/"
        },
        "id": "69S0sDdecq3z",
        "outputId": "0a6805f5-519e-49f1-e06a-be3221ec115d"
      },
      "execution_count": null,
      "outputs": [
        {
          "output_type": "execute_result",
          "data": {
            "text/plain": [
              "TtestResult(statistic=-5.502886353508166, pvalue=0.9999999102079823, df=136)"
            ]
          },
          "metadata": {},
          "execution_count": 11
        }
      ]
    },
    {
      "cell_type": "markdown",
      "source": [
        "## Chisquared Test"
      ],
      "metadata": {
        "id": "eGpjPOUr2jcf"
      }
    },
    {
      "cell_type": "markdown",
      "source": [
        "### fit the Expected Distribution"
      ],
      "metadata": {
        "id": "G01nHNgHM9Uy"
      }
    },
    {
      "cell_type": "code",
      "source": [
        "#Coin toss\n",
        "#Checking to see if categories fit the Expected Distribution like a fair coin having 50% Head and 50% Tails\n",
        "\n",
        "#H0 : Coin is fair\n",
        "#Ha : Coin is biased\n",
        "#Chisquared(Actual Values, Expected Values as per Ho)\n",
        "alpha = 0.05\n",
        "chi_stat, p_value = chisquare(\n",
        "    [28, 22],\n",
        "    [25, 25],\n",
        ")\n",
        "print(p_value)\n",
        "print(chi_stat)\n",
        "if p_value < alpha:\n",
        "    print(\"Reject H0\")\n",
        "else:\n",
        "    print(\"Fail to reject H0\")\n",
        "    print(\"Coin is fair\")"
      ],
      "metadata": {
        "colab": {
          "base_uri": "https://localhost:8080/"
        },
        "id": "Rq-TfgKu2rqq",
        "outputId": "8bcec4bc-5951-42f7-dc31-f9fc3199f398"
      },
      "execution_count": null,
      "outputs": [
        {
          "output_type": "stream",
          "name": "stdout",
          "text": [
            "0.3961439091520741\n",
            "0.72\n",
            "Fail to reject H0\n",
            "Coin is fair\n"
          ]
        }
      ]
    },
    {
      "cell_type": "code",
      "source": [
        "#chi-stat manually doing\n",
        "(28 - 25)**2/25 + (22 - 25)**2 /25"
      ],
      "metadata": {
        "colab": {
          "base_uri": "https://localhost:8080/"
        },
        "id": "r408cJE83oL3",
        "outputId": "1a916826-c3ad-420d-dcf5-fde94d435633"
      },
      "execution_count": null,
      "outputs": [
        {
          "output_type": "execute_result",
          "data": {
            "text/plain": [
              "0.72"
            ]
          },
          "metadata": {},
          "execution_count": 5
        }
      ]
    },
    {
      "cell_type": "code",
      "source": [
        "#p-value manually doing\n",
        "# 1 - chi2.cdf(chi-stat, df=1)\n",
        "1 - chi2.cdf(0.72, df=1)"
      ],
      "metadata": {
        "colab": {
          "base_uri": "https://localhost:8080/"
        },
        "id": "6mFNvEqq3vgI",
        "outputId": "b3db2879-e04d-412a-c16d-72bd31cab129"
      },
      "execution_count": null,
      "outputs": [
        {
          "output_type": "execute_result",
          "data": {
            "text/plain": [
              "0.3961439091520741"
            ]
          },
          "metadata": {},
          "execution_count": 6
        }
      ]
    },
    {
      "cell_type": "code",
      "source": [
        "#finding 95% Critical Chistat Value\n",
        "chi2.ppf(0.95, df=1)"
      ],
      "metadata": {
        "colab": {
          "base_uri": "https://localhost:8080/"
        },
        "id": "LzUo0SLZ4Onb",
        "outputId": "1888220c-9c3b-44b2-b727-f0d859c46631"
      },
      "execution_count": null,
      "outputs": [
        {
          "output_type": "execute_result",
          "data": {
            "text/plain": [
              "3.841458820694124"
            ]
          },
          "metadata": {},
          "execution_count": 7
        }
      ]
    },
    {
      "cell_type": "markdown",
      "source": [
        "### Independence between categories"
      ],
      "metadata": {
        "id": "LevXPeahNDqV"
      }
    },
    {
      "cell_type": "code",
      "source": [
        "#Gender vs offline and online\n",
        "# Testing for Independence between categories like if Gender has effect on Online/Offline Buying\n",
        "\n",
        "# H0: Gender and preference are independent\n",
        "# Ha: Preference depends on gender\n",
        "\n",
        "observed = [\n",
        "    [527, 72],\n",
        "    [206, 102],\n",
        "]\n",
        "\n",
        "chi_stat, p_value, df, exp_freq = chi2_contingency(observed)\n",
        "print(chi_stat)\n",
        "print(p_value)\n",
        "print(df)\n",
        "print(exp_freq)\n",
        "if p_value < 0.05:\n",
        "    print(\"Reject H0\")"
      ],
      "metadata": {
        "colab": {
          "base_uri": "https://localhost:8080/"
        },
        "id": "wdO3ssYb4ZkJ",
        "outputId": "422f870c-55a9-4d2c-bed1-0674d4250fab"
      },
      "execution_count": null,
      "outputs": [
        {
          "output_type": "stream",
          "name": "stdout",
          "text": [
            "57.04098674049609\n",
            "4.268230756875865e-14\n",
            "1\n",
            "[[484.08710033 114.91289967]\n",
            " [248.91289967  59.08710033]]\n",
            "Reject H0\n"
          ]
        }
      ]
    },
    {
      "cell_type": "markdown",
      "source": [
        "## ANOVA"
      ],
      "metadata": {
        "id": "EbGyir2qw1B_"
      }
    },
    {
      "cell_type": "code",
      "source": [
        "from scipy.stats import f_oneway"
      ],
      "metadata": {
        "id": "SuZKvKvRw7AN"
      },
      "execution_count": null,
      "outputs": []
    },
    {
      "cell_type": "code",
      "source": [
        "#H0 : All groups have same mean\n",
        "#Ha : One or more groups have different mean\n",
        "\n",
        "f_stats, p_value = f_oneway(income_kp281, income_kp481, income_kp781)\n",
        "\n",
        "if p_value < 0.05:\n",
        "    print(\"Reject H0\")\n",
        "else:\n",
        "    print(\"Fail to reject H0\")\n",
        "    print(\"All groups have same mean\")"
      ],
      "metadata": {
        "id": "AxRkFMjjxG9m"
      },
      "execution_count": null,
      "outputs": []
    },
    {
      "cell_type": "markdown",
      "source": [
        "### Kruskal Wallis"
      ],
      "metadata": {
        "id": "-PbIjvb8xwXH"
      }
    },
    {
      "cell_type": "code",
      "source": [
        "from scipy.stats import kruskal"
      ],
      "metadata": {
        "id": "A2gUn0a0xRqU"
      },
      "execution_count": null,
      "outputs": []
    },
    {
      "cell_type": "code",
      "source": [
        "#H0 : All groups have same mean\n",
        "#Ha : One or more groups have different mean\n",
        "\n",
        "kruskal_stat, p_value= kruskal(weather1,weather2,weather3,weather4)\n",
        "print(p_value)\n",
        "if p_value < 0.05:\n",
        "    print(\"Reject H0\")\n",
        "    print(\"All groups have different mean\")\n",
        "else:\n",
        "    print(\"Fail to reject H0\")\n",
        "    print(\"All groups have same mean\")"
      ],
      "metadata": {
        "id": "tRkjI9pDxSXm"
      },
      "execution_count": null,
      "outputs": []
    },
    {
      "cell_type": "code",
      "source": [
        "#H0 : All groups have same mean\n",
        "#Ha : One or more groups have different mean\n",
        "\n",
        "kruskal_stat, p_value= kruskal(weather1,weather2,weather3,weather4)\n",
        "print(p_value)\n",
        "if p_value < 0.05:\n",
        "    print(\"Reject H0\")\n",
        "    print(\"One or more groups have different mean\")\n",
        "else:\n",
        "    print(\"Fail to reject H0\")\n",
        "    print(\"All groups have same mean\")"
      ],
      "metadata": {
        "id": "hEXWZ01r3BoL"
      },
      "execution_count": null,
      "outputs": []
    },
    {
      "cell_type": "markdown",
      "source": [
        "### QQplots"
      ],
      "metadata": {
        "id": "2_YbEvk1x5dk"
      }
    },
    {
      "cell_type": "markdown",
      "source": [
        "To get intuition if data is Normal Distribution"
      ],
      "metadata": {
        "id": "7UJxvmg9NbM7"
      }
    },
    {
      "cell_type": "code",
      "source": [
        "from statsmodels.graphics.gofplots import qqplot\n",
        "qqplot(height, line=\"s\")\n",
        "plt.show()"
      ],
      "metadata": {
        "id": "H3jr0X98yVg3"
      },
      "execution_count": null,
      "outputs": []
    },
    {
      "cell_type": "markdown",
      "source": [
        "### Shapiro"
      ],
      "metadata": {
        "id": "bfh8qo8nyxW7"
      }
    },
    {
      "cell_type": "markdown",
      "source": [
        "To statistically check if given data is Gaussian Distribution"
      ],
      "metadata": {
        "id": "w5nxcmwkNf5b"
      }
    },
    {
      "cell_type": "code",
      "source": [
        "from scipy.stats import shapiro"
      ],
      "metadata": {
        "id": "nlSmXsiCy6gS"
      },
      "execution_count": null,
      "outputs": []
    },
    {
      "cell_type": "code",
      "source": [
        "#H0 : Data is Gaussian\n",
        "#Ha : Data is not Gaussian\n",
        "\n",
        "test_stat, p_value = shapiro(height_subset)\n",
        "if p_value < 0.05:\n",
        "    print(\"Reject H0\")\n",
        "    print(\"Data is Not Gaussian\")\n",
        "else:\n",
        "    print(\"Fail to reject H0\")\n",
        "    print(\"Data is Gaussian\")"
      ],
      "metadata": {
        "id": "7bkghHKTzIDR"
      },
      "execution_count": null,
      "outputs": []
    },
    {
      "cell_type": "markdown",
      "source": [
        "### Levene Test"
      ],
      "metadata": {
        "id": "WMw6M-QDNm2F"
      }
    },
    {
      "cell_type": "markdown",
      "source": [
        "To check if data sets have same Variance"
      ],
      "metadata": {
        "id": "wnOwQI0Mzx5w"
      }
    },
    {
      "cell_type": "code",
      "source": [
        "from scipy.stats import levene"
      ],
      "metadata": {
        "id": "t0LC2riiz0hU"
      },
      "execution_count": null,
      "outputs": []
    },
    {
      "cell_type": "markdown",
      "source": [
        "* levene(data1,data2,centre = \"mean\") --> when distribution Normal or moderately skewed\n",
        "* levene(data1,data2,centre = \"median\") --> when distribution skewed\n",
        "* levene(data1,data2,centre = \"trimmed\") --> when distribution is heavy tailed\n",
        "\n",
        "![photo.png](data:image/png;base64,iVBORw0KGgoAAAANSUhEUgAAA04AAAIwCAIAAAA+nazTAAAJLmlDQ1BJQ0MgUHJvZmlsZQAAeJyVlWdQk1kXx+/zPOmFQBJCh1BDkSolgJQQWijSq6hA6J1QRWyIuAIriog0RZBFARdclSJrRRQLi4ICFnSDLALKunEVUUFZcN8ZnfcdP7z/mXvPb/5z5t5zz/lwASCIg2XBy3tiUrrA28mOGRgUzATfKIyflsLx9HQD39W7EQCtxHu638/5rggRkWn85bi4vHL5KYJ0AKDsZdbMSk9Z4aPLTA+P/8JnV1iwXOAy31jh6H957EvOvyz6kuPrzV1+FQoAHCn6Gw7/hv9z74pUOIL02KjIbKZPclR6Vpggkpm20gkel8v0FCRHxSZEflPw/5X8HaVHZqevRG5yyiZBbHRMOvN/DjUyMDQEX2fxxutLjyFG/3/PZ0VfveR6ANhzACD7vnrhlQB07gJA+tFXT225r5R8ADru8DMEmf96qJUNDQiAAuhABigCVaAJdIERMAOWwBY4ABfgAXxBENgA+CAGJAIByAK5YAcoAEVgHzgIqkAtaABNoBWcBp3gPLgCroPb4C4YBo+BEEyCl0AE3oEFCIKwEBmiQTKQEqQO6UBGEBuyhhwgN8gbCoJCoWgoCcqAcqGdUBFUClVBdVAT9At0DroC3YQGoYfQODQD/Q19hBGYBNNhBVgD1ofZMAd2hX3h9XA0nArnwPnwXrgCrodPwh3wFfg2PAwL4ZfwHAIQIsJAlBFdhI1wEQ8kGIlCBMhWpBApR+qRVqQb6UPuIUJkFvmAwqBoKCZKF2WJckb5ofioVNRWVDGqCnUC1YHqRd1DjaNEqM9oMloerYO2QPPQgehodBa6AF2ObkS3o6+hh9GT6HcYDIaBYWHMMM6YIEwcZjOmGHMY04a5jBnETGDmsFisDFYHa4X1wIZh07EF2ErsSewl7BB2EvseR8Qp4YxwjrhgXBIuD1eOa8ZdxA3hpnALeHG8Ot4C74GPwG/Cl+Ab8N34O/hJ/AJBgsAiWBF8CXGEHYQKQivhGmGM8IZIJKoQzYlexFjidmIF8RTxBnGc+IFEJWmTuKQQUgZpL+k46TLpIekNmUzWINuSg8np5L3kJvJV8lPyezGamJ4YTyxCbJtYtViH2JDYKwqeok7hUDZQcijllDOUO5RZcby4hjhXPEx8q3i1+DnxUfE5CZqEoYSHRKJEsUSzxE2JaSqWqkF1oEZQ86nHqFepEzSEpkrj0vi0nbQG2jXaJB1DZ9F59Dh6Ef1n+gBdJEmVNJb0l8yWrJa8IClkIAwNBo+RwChhnGaMMD5KKUhxpCKl9ki1Sg1JzUvLSdtKR0oXSrdJD0t/lGHKOMjEy+yX6ZR5IouS1Zb1ks2SPSJ7TXZWji5nKceXK5Q7LfdIHpbXlveW3yx/TL5ffk5BUcFJIUWhUuGqwqwiQ9FWMU6xTPGi4owSTclaKVapTOmS0gumJJPDTGBWMHuZImV5ZWflDOU65QHlBRWWip9KnkqbyhNVgipbNUq1TLVHVaSmpOaulqvWovZIHa/OVo9RP6Tepz6vwdII0Nit0akxzZJm8Vg5rBbWmCZZ00YzVbNe874WRoutFa91WOuuNqxtoh2jXa19RwfWMdWJ1TmsM7gKvcp8VdKq+lWjuiRdjm6mbovuuB5Dz00vT69T75W+mn6w/n79Pv3PBiYGCQYNBo8NqYYuhnmG3YZ/G2kb8Y2qje6vJq92XL1tddfq18Y6xpHGR4wfmNBM3E12m/SYfDI1MxWYtprOmKmZhZrVmI2y6WxPdjH7hjna3M58m/l58w8WphbpFqct/rLUtYy3bLacXsNaE7mmYc2ElYpVmFWdldCaaR1qfdRaaKNsE2ZTb/PMVtU2wrbRdoqjxYnjnOS8sjOwE9i1281zLbhbuJftEXsn+0L7AQeqg59DlcNTRxXHaMcWR5GTidNmp8vOaGdX5/3OozwFHp/XxBO5mLlscel1Jbn6uFa5PnPTdhO4dbvD7i7uB9zH1qqvTVrb6QE8eB4HPJ54sjxTPX/1wnh5elV7Pfc29M717vOh+Wz0afZ552vnW+L72E/TL8Ovx5/iH+Lf5D8fYB9QGiAM1A/cEng7SDYoNqgrGBvsH9wYPLfOYd3BdZMhJiEFISPrWeuz19/cILshYcOFjZSNYRvPhKJDA0KbQxfDPMLqw+bCeeE14SI+l3+I/zLCNqIsYibSKrI0cirKKqo0ajraKvpA9EyMTUx5zGwsN7Yq9nWcc1xt3Hy8R/zx+KWEgIS2RFxiaOK5JGpSfFJvsmJydvJgik5KQYow1SL1YKpI4CpoTIPS1qd1pdOXP8X+DM2MXRnjmdaZ1Znvs/yzzmRLZCdl92/S3rRn01SOY85Pm1Gb+Zt7cpVzd+SOb+FsqdsKbQ3f2rNNdVv+tsntTttP7CDsiN/xW55BXmne250BO7vzFfK350/sctrVUiBWICgY3W25u/YH1A+xPwzsWb2ncs/nwojCW0UGReVFi8X84ls/Gv5Y8ePS3qi9AyWmJUf2YfYl7RvZb7P/RKlEaU7pxAH3Ax1lzLLCsrcHNx68WW5cXnuIcCjjkLDCraKrUq1yX+ViVUzVcLVddVuNfM2emvnDEYeHjtgeaa1VqC2q/Xg09uiDOqe6jnqN+vJjmGOZx543+Df0/cT+qalRtrGo8dPxpOPCE94nepvMmpqa5ZtLWuCWjJaZkyEn7/5s/3NXq25rXRujregUOJVx6sUvob+MnHY93XOGfab1rPrZmnZae2EH1LGpQ9QZ0ynsCuoaPOdyrqfbsrv9V71fj59XPl99QfJCyUXCxfyLS5dyLs1dTrk8eyX6ykTPxp7HVwOv3u/16h245nrtxnXH61f7OH2XbljdOH/T4ua5W+xbnbdNb3f0m/S3/2byW/uA6UDHHbM7XXfN73YPrhm8OGQzdOWe/b3r93n3bw+vHR4c8Rt5MBoyKnwQ8WD6YcLD148yHy083j6GHit8Iv6k/Kn80/rftX5vE5oKL4zbj/c/83n2eII/8fKPtD8WJ/Ofk5+XTylNNU0bTZ+fcZy5+2Ldi8mXKS8XZgv+lPiz5pXmq7N/2f7VLwoUTb4WvF76u/iNzJvjb43f9sx5zj19l/huYb7wvcz7Ex/YH/o+BnycWshaxC5WfNL61P3Z9fPYUuLS0j9CLJC+ERlPpwAAsSdJREFUeJzs3XV8E+cfB/DvJfUW2tKWoqWCFnd3t+FuQ8bwjQ2HCfKDCTrYBmwMZ8gGGwx3dy9WWhxKlbomud8f114vl7RN0ySXpJ/3i9f2PE8ud98Emn7z3CMMy7IEAAAAANZIJnUAAACW6eFDmj6dVq2SOg4AgNww6NUDAMg3hskuy2R0/Di1aSNdNAAAOUKqBwCQT69eUblyai0BARQSIlE0AAC5QaoHAJAfsbFUqhSlpIjb8VkKAGYJY/UAAPLj77+15HlE9Py5yUMBAMgbevUAAPLDwYHS0rS0d+hAR4+aPBoAgDwg1QMAyA/hhAyRCxeoaVMThgIAkDfcwAUAMJALF6SOAABADKkeAIDO7txRq9aqpVZdudJkgQAA6AipHgCAzkSp3sSJatX3700YCgCATjBWDwBAZx070rFj2VWWJU9Pio5WawEAMCfo1QMA0NnDh+KWunWliAMAQFdI9QAAdHPnDr15I24cNUqtGhNjsnAAAHSBVA8AQDdPn6pVuVVXatZUa7x/33TxAADoAKkeAIBuhKP0iKhFCyKiypXVGv/803TxAADoAKkeAIBunj1TqwYEaDlGczAfAICkkOoBAOjm3Dm1atu2Wo45f54iI00TDgCALpDqAQDoRqFQq/r6aj/s8WPjhwIAoCukegAA+WdrS40aZZarVlV7aP9+04cDAJATpHoAAPlXpgzJsj4/K1VSeyg42PThAADkBKkeAED+NW2aXe7aVe2ho0dNHAsAQC6Q6gEA5F+TJtnlLl3UHkpLM3EsAAC5QKoHAKCD1FS1apky2eUSJcjZ2cThAADoCKkeAIAOrl5Vq/JzMjjt2pkyFgAA3SHVA4DC7smTJ//++28eB719q1b19FSral1OGQDADCDVA4BCJDw8/OjRo4MGDZLL5UyWypUrp+U5wO7aNbUqtwEur00btWp8vCGCBQAwABupAwAAMLrg4OA//vjjzp07R7VNj3V2du7WrVsepxD16on4+alVnz+nmjXzGyQAgDEg1QMAK8eIeuA0bN++3cnJKY+zXL+e26OBgWrVs2eR6gGAmcANXAAoXFxcXIoWLSps6dSpU95PCwvLxzVevsxnUAAAxoJUDwCsHCuwbdu29PT0+Ph4EvT22dvb532W9PR8XPL8eX0CBQAwAoZlWaljAAAwET69K1u27OvXr4nIw8MjKipKl2eqVTU/OYUHeHvT+/cFiRMAwFDQqwcAhULbtm35PG/s2LFcnkdEu3fvzve5KlfO44Dw8HyfEwDAONCrBwDW7+XLl76+vlxZJpMplUou7fP29n779q1cLs/7FMJOuzZt6OTJ3A4gbd1+AABSQK8eAFg5Z2dnPs+7efOmUql8+PAhV/3rr790yvNE6tXT0ohVlAHALCHVAwBr9vvvvycnJ3PlatWq1alTh4h27tzJtTRt2lSfk5YqpaVRuCsuAIDZwLp6AGCdkpOTnZ2d+WpGRoaNTeYn3okTJ7hCnkvuZRLNsdDaq9eoEZ09q0+gAADGhF49ALBC79+/b9myJV+dM2cOn+cR0cqVKx0dHb/++mtdT/funVoVvXoAYDnQqwcA1ubkyZPt2rXjysWKFYuOjhYd0KBBA/6urk5u3Mguu7uLt0HLOqla9fVrKls2H5cAADAOpHoAYFWE92QjIyM9PT0NcFJhqqf17i0R1alDMhmpVJnVa9eQ6gGAOcANXACwEunp6UOHDuWr/fr1M0yeR+o3cLXevSUiGxsqXlz7UwAApINePQCwBs+ePQvIWu5ELpcrFApDnl3Yq1e/fo6H1atH//2XWb5505ABAADoC716AGANGjVqxBVcXFz+4/Mtg1AoKDIyu1qyZI5HCh8KCzNkDAAA+kKqBwCW7ZdffpHJZJGRkURUs2bNhISETp06GfICt29nj8CjnMfqEVHdutll9OoBgHlAqgcAFkypVE6cOJHb4LFTp04XLlww/DVEo+5KlMjxSOEwvpgYSk83fDAAAPmEVA8ALFXt2rX51fJ++OGHw4cPu7i4GP4ywoF6RGRnl+ORtWpll1mW7t41fDAAAPmEVA8ALNK9e/fu3LnDlR0cHKZPn26sK+k+6k7U4YfhegBgBpDqAYDlsbW1rVmzJlcOCQlJSUkx4sVEvXq5sLVVq2ZlogAAEkKqBwCWhGXZWbNm8WupNG/enF9jxVj0XiFPtHMuAIAUsK4eAFiM6Oho4arI3GwMoxOutJIv9+4ZNA4AAH2gVw8ALMPTp0/5xfNsbGw2bNggbTx5Q68eAJgBxkRfiwEACmDXrl0DBw7kyj4+Pi9fvjTdtQWb6pKXF0VE6HowEeEDFgCkhl49ADB3q1atGjRoEFeuW7fu1atXJQsll60yAADMEsbqAYD5io+P79ev37Fjx7jqqFGjJL5vK9wPQyuGQU8eAJgVpHoAYKZu375dp04druzo6JicnCxtPEREWfHkqHJlevTIJKEAAOgEN3ABwBwdPHiwefPmXNnb2/vs2bPSxKFUqlXzvIFbvLjxYgEA0ANSPQAwO19++WW3bt2SkpKIqHXr1u/fv69fv740oYg2N8uzV69qVePFAgCgB6R6AGBeUlJSli9fzpWHDx9+9OhRKaMRbW6GXj0AsDRI9QDAjPj7+zs5ORGRra3tli1bNm/ebCvabczEbt/OLlepQg4OeRwfGGjUcAAA8gvTMgDAXJw9e/b58+dc+dixY61atZI0HCJSXwa5RIm8j/fyUqvGxpKbm2EjAgDIF6R6AGAWGMHiw+Hh4cXN5E6osFevdu28jxf16j16RI0bGzgkAID8wA1cAJBYRkbGxx9/zFd79eplLnkeqY/V02X9ZA8PtQ0z9N4/FwDAQNCrBwBSevnypa+vL1eWy+UKhULScNTFxVHWDWUiolq18n6KXE7ly9PTp5nVx4/po4+MERoAgI7QqwcAkrl+/XrDhg25srOz8z///CNpOBqEA/VI513RPD2zy1FRhowHACD/kOoBgDTWr1/foEGD8PBwIqpWrVpiYmK3bt2kDkqdcKAe6bxmXqVK2eUnTwwZDwBA/iHVAwAJTJky5dNPP+XK7du3v3jxorTxaCfq1dORsFcvOtpQsQAA6AepHgCY1Pv37+vVq7d69WoiYhhm3rx5x44dK1q0qNRxaXPnjj7PqlgxuxwcbKBQAAD0hGkZAGBSDRs2fPXqFVfesWPHwIEDpY0nNwXv1YuJIZZVm5MLAGBa6NUDABPZuHGjnZ0dl+cFBAQEBwebdZ5HGhvg6qhCheyyUknPnhkqHAAAPSDVAwBTGDJkyKhRozIyMoiof//+ISEhFYQpkXnSr1dP9Lr4hVcAAKSAVA8AjC4mJmbHjh1cefLkyTt37pQ2HuOyt1erYmYGAEgKY/UAwLiKFy8eGRlJREWKFNmzZ0/Hjh2ljkgvzs56PjEkxKBxAADkD1I9ADCiv/76KzJrc7ALFy7UqFFD2nj0V6KEnk9Erx4ASAqpHgAYhVKptLHJ/oRJSEhwcXGRMJ6CqllTzyeiVw8AJIWxegBgeImJid27d+erI0aMsOw8j4i8vfV8YkyMQeMAAMgf9OoBgIHdu3evZlYfmIODQ0pKirTxGIbet57RqwcAkkKvHgAY0tGjR5s1a8aVvby8Tp8+LW08+lOp1KrFi+t5ntjYAocCAKA/pHoAYBgsy86aNatTp04JCQlE1KJFi4iIiEaNGkkdl74ePFCr6t2rp1QWPBYAAL3hBi4AGMbAgQN3797NlQcPHrxx40Zp4ymo8HC1qt5j9QAAJIVUDwAK6unTp507dw4NDSUiW1vbdevWjRw5UuqgCuzePbVqkSL5eK6DA6WmGjYcAAD9INUDgIJq1KhRTNY808OHD7dt21baeAxD1KuXL+7uFBZmuFAAAPSHsXoAoL8VK1bIZDIuz6tbt25YWJiV5HlEdP++/s8NCDBcHAAABcKwLCt1DABgkRQKha2tLV9NSkpycnKSMB4Dq1ePbt7Mrubro7JHD9q/X8/nAgAYFHr1AEAfr1+/5vO8lStXsixrVXkeEQUF6f9c9OoBgNlAqgcA+Xbr1q2GDRtyZScnp88++0zaeAwvLo7S0vR/erFihgsFAKBAkOoBQP5s2LCBG5ZHRC9evEhKSpI6IiMoSJceoVcPAMwIZuACgK5SUlKEd2nT09OFY/Wsimj9ZC+v/D1dlOq9f08lShQ0JAAAvaBXDwB0EhER0apVK746a9Ysq83ziCgiQq2a313R3N3Vqh8+FDQeAAB9oVcPAPJ25syZ1q1bc2V3d3d+FT2rJerVq1o1f0/391erhoZSlSoFDQkAQC/o1QOAPGzdurVjx45c2c/P79KlS9LGYwqRkWrV/N7AlcvVqujVAwDpINUDgBxlZGSMGDFi+PDh6enpRNS7d+9nz55VrlxZ6riMr4C9eiKhoQV6OgBAAeAGLgDkqGPHjqdPn+bKEyZMWLNmjbTxmE5UlFo1v716IujVAwDpINUDAC2uX7/evXv38PBwInJ2dt61a1fXrl2lDsqEFAq1amBggc6GXj0AkA5SPQDQomXLlikpKVz5/PnztWvXljYeiaFXDwAsFsbqAYCayZMnMwzD5XkdOnSIi4sr7Hmeh0dBU71nzwwUCgBAvjEs9uEGgCxJSUkuLi58NSMjw8amUPb9M0x2uXJlevSoQGewsyvQNmsAAAWAXj0AyFSuXDk+z/vzzz9Zli2keZ5IwZfES0+nt28NEQoAQL4h1QMAIqITJ068evWKK3t4eAwcOFDaeMyIp6cBToLhegAgEaR6AECLFi1q3749V46KiooSLTVSyOm3jqBM/dMVk3ABQCK4OwNQ2A0ePPjPP//kyv379/fw8JA2HrOjX6+eq6taTx569QBAIkj1AAqv0NDQLl26BAcHE5GNjU1GRobUEZmHsDC1qn69ev7+dPNmdhWTcAFAIriBC1BI/fXXX+XLl+fyvDJlyiDPy/bkiVq1YkV9ThIQoFbFDVwAkAhSPYDC6Keffurfvz9XrlWr1tWrV6WNx7xER6tVXV31OYm7u1oVN3ABQCK4gQtQuCQmJvbr1+/IkSNcdeTIkX/88Ye0IZmd4GC1qnCFPN35+6tVcQMXACSCVA+gcGnWrNndu3e58o8//jht2jRp4zFHMTEGOAl69QDAPCDVAygsjhw50r9//4SEBCLy8vLav39/o0aNpA7KLIl69fQjGqsXEWGAcwIA5B9SPYDColu3bkqlkitfuXLFX3SHEXjG6NUDAJAIpmUAWL/+/fszDMPleUOGDElLS0OelxuDzJbFOwwA5oFhWVbqGADAiKKiory8vPgqfuTz5uBAaWnZVf3eMZYlW1vK6kbV/zwAAAWDXj0Aa+bh4cHneSdOnECel7d379TyPL0xDPn6GuA8AAAFg1QPwGr9+eefMVnDzsqVK9e2bVtp47EMBpwqW6yYwU4FAKAvpHoAVkihUIwePXrw4MFcNSkp6cWLF5JGZDlEC+Dpt6geB8P1AMAMYAYugBXq3LnziRMnuPLYsWOdnJykjceSiHr19Nsqg4NJuABgBpDqAViVW7dudevWLSwsjIicnJySkpKkjsjSPH+uVi3IeDv06gGAGUCqB2BVWrRowad3Z8+elTYYixQbq1Z1c9P/VOjVAwAzgLF6AFbiiy++YBiGy/PatGkTGxtbr149qYOyQKJBjX5++p9KtGFGQoL+pwIA0Bd69QCsQUpKyooVK/jqkSNHbG1tJYzHghmvV+/DBypSRP+zAQDoBb16ABbPz8+Pn3ixbds2lmWR5+nv5Uu1arly+p9KNFZPNLcXAMAkkOoBWLAtW7bY2dlxC6n4+/s/fvx4yJAhUgdl4V69UqsWJNUrWlStapD91gAA8gk3cAEs2IgRI/jylStXhBuggZ6EW5lRwRZbETHg4swAADpDrx6ARWrdujWTtbrvpEmTVCoV8jyj8PEx2KnQqwcAUmCwJyaAxXnx4oVf1sxQuVyuUCikjceqiLbHiIwkT0/DnG3AANq5U/9TAQDoBb16ABbGycmJz/Nu3bqFPM+IHB0LlOeJoFcPAKSAVA/Akvzyyy8pKSlcuXr16rVr15Y2HitnwIF6hLF6ACANTMsAsAxJSUkuLi58NSMjw8YGP79GZsCBekT0/DmxrPgGMQCAkaFXD8AytGjRgiswDPPtt98izzMF0WopBaRSUVycIU8IAKAD/LYAMHfHjx/v27dvfHw8EXl4eERFRUkdUaFRtqyBTxgaSnXrGvicAAC5Qq8egLnr0qULl+eVL1/+ypUrUodTmBi2V4+IYmIMfEIAgLwg1QMwX4MHD2YYhptjO2DAgKdPn5YvX17qoAqTgvfqlSypVsUkXAAwOaR6AGYqJibmzz//5KvCMphIwXv13N3VqujVAwCTQ6oHYI68vLw8PDy48tGjR1mWZTBz0wREixSWKVPQE4p6YdGrBwAmh1QPwOzs2bOHn3tRpkyZDh06SBtPIRIfr1ZFrx4AWD7MwAUwI0qlUriKSkJCgnAtPTC6N2/UqujVAwDLh149AHNRq1YtPs9bunQpy7LI80zN2KleSEhBTwgAkE9I9QDMwt27d+/evcuVHR0dv/zyS2njKaREN3Dl8oKesFgxtWrWpnYAACaDG7gA0rOxsVEqlVz52bNnfn5+0sZTeL19a+ATYnEcAJAaevUApMSy7Lx58/g8r2XLlsjzpCTq1Ss4Ua8eAIDJoVcPQDJRUVFeXl58lWVZCYMBIo2xegXn5kYeHhQdbeDTAgDoDL16AJJp1KgRV7C1td20aZOksQARESUkGP6c6NgDAEkh1QOQwI4dO+zt7UNDQ4moXLly6enpI0aMkDooMEKvHhFVqGD4cwIA6AypHoAEhgwZkp6eTkT16tW7evWq1OFAFoOP1SP06gGAxJDqAZhU+/bt+S3Oxo0bd/36dW9vb2lDgmwGn4FLmIQLABJjMBIcwGRevXpVrlw5riyTyfiJt2Au5HJSqbKrBvl4XLOGJk828DkBAHSGXj0AE3FxceHzvOvXryPPMzthYWp5nqGIxuqlphr+EgAAOUOqB2AK69atS0pK4spVq1atV6+etPGAFsYYqEdEHh5qVSy8AgCmhXX1AIwrOTnZ2dmZr6anp9va2koYD+TIGNNviahiRbVqcDCVLm2UCwEAaINePQAjCg8Pb9WqFV+dN28e8jzzJVpUr+Ab4HKKFlWrxsQY5rQAALpBrx6AsZw+fbpNmzZc2d3dPQa/483c69dq1TJljHKVJ0+McloAgBwg1QMwCn5FFSKKiIgQboAGZkp0A9dIqV5wsFFOCwCQA9zABTCw9PT04cOH89U+ffogz7MMomkZohuvhoJpGQBgWujVAzCk58+f+/v7c2W5XK5QKKSNB/JB1KtXtqxRroJePQAwLfTqARjMtWvXGjVqxJVdXFz2798vbTyQP3FxalX06gGAVUCqB2AYa9asadiwYUREBBHVqFEjISGhS5cuUgcF+WGaXr3oaEzCBQBTQqoHYABKpXJy1uZXHTt2vHDhgrTxgD5M06tH6NgDAJNCqgdQUHXr1rWxsSEihmEWLFhw5MiRIkWKSB0U5J+os81IvXqE4XoAYFKYlgFQIPfv37916xZX3rlzZ//+/aWNBwzG1dVgpypaVG16L3r1AMCEkOoB6M/W1pafY/v06dPy5ctLGw8Yko+PwU5VqRJdv55dxSrKAGBCSPUA9MGy7Pz58/k8r1mzZsjzrI0Be/U8PNSq6NUDABNCqgeQb9HR0Z6ennxVpVIJ98YAa1C8ONnbG+xsFSvSkSPZVYzVAwATwrQMgPwJCQlp3LgxV7axsfntt9+Q51khA3bpEXr1AEBK6NUDyIfdu3cPGDCAK5ctW/bVq1fSxgPGUq6cIc9WqZJaFb16AGBC6NUD0NXy5csHDhzIlWvXrn316lVp4wEjcnMz5NlEvXqpqYY8OQBArtCrB5C3hISEfv36HT16lKt+8skn69evlzYkMC5fX0OerWJFQ54NACA/kOoB5K1Zs2b37t3jysuWLfviiy+kjQeMzqi9egAAJoQbuAC5OXz4cJEiRbg8r3jx4leuXEGeVyj4+RnybM7OVLq0IU8IAKAzpHoAOZozZ06XLl0SExOJqFWrVuHh4Q0bNpQ6KDCOyEi1qmFTPcI9XACQDFI9AO1SU1OXLFnClYcOHcoP1APr9OGDWtXd3cDnxz1cAJAIUj0ALQICAhwdHYnI1tZ206ZNW7dutbOzkzooMKZnz9Sq/v4GPr9ovRUAAFPBtAwAsXPnzj3L+sV/9OjR1q1bSxsPmIKoV8/gmT169QBAIkj1ANQIt754//69t7e3hMGA6YSGGvf8orF6GRlka2vcKwIAEBFu4ALwMjIyRo0axVd79uyJPK8QiYkx7vkFmyYTYW80ADAd9OoBEBG9evWqXNZeWDKZTKlUShsPmJqJe/WCg6lECeNeEQCAiNCrB0BEN2/e5FdRcXZ2/ueffyQNB6Rg7F490ZrM6NUDAFNBrx4Udr/++uuECRO4ctWqVYOCgqSNB6QREmLc8wvGgBIRPXli3MsBAGRBrx4Uap9//jmf57Vr1+7ixYvSxgOSMXavngh69QDAVJDqQSEVHh7eoEGDVatWcdWvv/76+PHjrq6u0kYF0nj9mtLTTXpF9OoBgKngBi4UUg0bNnz58iVX3r59++DBg6WNB6Rk4i49Qq8eAJgOevWg0Nm8ebOdnR2X5/n7+z958gR5XmEnGqhnY/zvwOjVAwBTQa8eFDoff/wxX75y5YqXl5d0sYB5EPWxFStm9Ct++EAqFcnwZRsAjA4fNFCIfPjwgd8M4/PPP1epVMjzgEijV69CBaNfUaUy+pxfAAAiQqoHhYe3t3exYsWIyMXF5dChQytWrGBE619AoRUcrFY1UqqH9VYAQAq4gQuFwt69eyMiIrjy+fPna9WqJWk4YGZEN3A9PIxyFTc3+vAhuxoVZZSrAACoQ6oHVk6pVNoIRtnHx8cXKVJEwnjAHIl69USbmBlKxYp09WqOFwUAMA7cwAVrlpiY2KNHD746duxY5HmghWixFSP16nl6qlXRqwcAJoFePbBa9+/fr1GjBld2cHBISUmRNh4wXwqFWtVIvXqVKtHBg9lVjNUDAJNArx5Yp2PHjjVr1owre3p6njx5Utp4wJIYqVdPdFqsogwAJoFUD6wNy7Jff/11x44d4+PjiahZs2aRkZFNmjSROi6wEM7OVKqUUc5cubJaFWP1AMAkcAMXrM2gQYN27drFlzdu3ChtPGBhjNSlp3lm0V1jAADjQKoH1iMkJKRLly5Pnz4lIhsbm7Vr144ePVrqoMDSVKpkeWcGAMgZUj2wHo0aNYrOGv906NCh9u3bSxsPWCTRPFkDMl5/IQBAzjBWD6zB0qVLZTIZl+fVqVPn3bt3yPNAT8bre7O1JX9/Y50cACAHSPXA4ikUiunTp7Msy1XPnTtXsmRJaUMCC2a8Xj1jnxwAQBukemDZatasaWtry5WXL1/Osqyzs7O0IYGFSUhQq4rmyRoWhusBgMkh1QMLdvv27Xv37nFlR0fHqVOnShsPWCTRrhXo1QMA64JUDyzVr7/+WqdOHa787Nmz5ORkaeMBS/X4sVoVvXoAYF2Q6oFFmjVr1oQJE7hyq1at/Pz8pI0HLFhkpFrV3t6I1xL16mUNMAUAMB4stgIWJjIy8qOPPrpy5QpXZfHLEgpI1KtnVKIuw9BQKl/edFcHgEIJvXpgSc6ePVu8eHEuz3Nzc0OeBwbw6JHprlWxolr1yRPTXRoACiukemAxtm/f3qFDB67s6+t76dIlaeMBKyG6gWtUWbPFM4lmhAAAGAFSPbAAGRkZI0eOHDp0aHp6OhH17Nnz+fPnVapUkTousAqm7NUTMeW9YwAorDBWDyxA586dT548yZUnTZq0atUqaeMB66FQ0IcPkl09ax8/AADjQaoHZu3GjRvdu3d///49ETk7O//555/du3eXOiiwIo8fSzkNFr16AGB8SPXArLVs2ZJfMO/s2bN169aVNh6wNqYcqKcJY/UAwPgwVg/M1GeffcYwDJfntWvXLi4uDnkeGN7Dh2rVUqVMevXgYCytBwDGhlQPzFFycvJPP/3EVw8fPly0aFEJ4wGrJerV8/Iy6dWVSilHCgJA4YBUD8yOr6+vs7MzV96xYwfLsjY2GGkAxiHq1QsMNHUAGK4HAEaGVA/My8mTJ1++fMmVixUrNmjQIGnjAStn+l49hlGrYrgeABgZUj0wI/Pnz2/Xrh1XjoyMjMZSFGBspu/Vq1BBrSrhqn4AUDjgvhiYi6FDh27fvp0r9+vXz1O0MTyAMYi+TpigV8/Tk4KDs6vo1QMAI0OqB9J79uxZly5dnjx5QkRyuVyhUEgdERQaSqVatWpVo1+xcmUS7umHsXoAYGRI9UB6jRo1iswaMvXff/9JGwwUaibo1RNdAr16AGBkGKsHUlq5cqVMJuPyvJo1a75586ZTp05SBwWFVYkSVKyY0a9SubJaFWP1AMDIkOqBNBITE7t27Tp16lSWZYno008/vXPnTunSpaWOCwoxE9y9JaIqVdSqcXGmuCgAFGK4gQvSaNGixe3bt7ny4sWLZ8+eLW08ACZaPxnzjQDAtJDqgakdPXq0X79+CQkJROTp6bl///7GjRtLHRSAqXr1AgLI1pYyMkxxLQAApHpget26dePn2F65ciUgIEDaeAAymWxXNE9PCgsz0bUAoNDDWD0wnYEDBzIMw+V5gwYNSk1NRZ4HUhJtlWGaXj3SGK4HAGBM6NUDE4mOjt61axdf3b59OyPaIQrAxESpXvHiJrouhusBgAmhVw9MwdPTk9/94vjx4yzLIs8D6T14oFatWNFE10WvHgCYEFI9MLpdu3bxu9n6+Pjwu9wCSCwiQprrmmxQIAAAbuCCUSkUCltbW76amJjo7OwsYTwAakS9eiYj6tWLj6eiRaWJBAAKAfTqgRF17dqVL48fPx55HpgXqXr1RGP1sDcaABgTevXAKG7fvt2tW7d3794RkZOTU1JSktQRAWgwk169hw/J31+aSACgEECqB0bRokWLxMREIvL29t6/f7/U4QBoI1WvnmBUA5HGRGAAAIPCDVwwsBkzZjAMw+V5rVu3fv/+fYMGDaQOCkDD+/cUEyN1EERE9OiR1BEAgDVjuM3mAQwiJSXFycmJr6anp9uKOjAAzMT9+1SjhlqLKT8MhYsNffwxbdxouksDQCGDXj0wGH9/fz7P27JlC8uyyPPAfD18qFa1t5coDo1IAAAMCqkeGMbZs2efP3/Old3c3IYNGyZtPAB5EA3Uk3CtO4zVAwBjwrQMMADh1hfh4eHFTbbBFIDeRH1pgYESxUGU9R0JAMAY0KsHBdK2bVs+z5syZYpSqUSeB5ZBtNJK1aoSxQEAYFzo1QP9vXz58tSpU1xZLpevWrVK2ngA8kF02xSblQGAlUKvHujJ2dnZ19eXK9+8eVOhUEgaDkA+PXmiVjVxr17Wzw4AgLEh1QN9rF69Ojk5mStXq1atTp060sYDkG+ipVVM3KuHTkQAMBXcwIX8SU5OFm5lm5GRYWODf0Vg+Uzcq1e1Kl2/btIrAkBhhV49yJ8WLVpwBYZhFixYgDwPrIGdHRUtatIrolcPAEwFv6dBVydPnuzTp09cXBwRFStWLDo6WuqIAAzE9NNvMeEXAEwFvXqgq86dO3N5XkBAwOXLl6UOB8BwTN/HJrpiWpqpAwCAQgOpHuRt6NChDMNkZGQQUb9+/UJCQipWrCh1UACGI3mvnmiRPwAAw0GqB3mIiYnZvn07X921a5eEwQAYhel79UQrjWNvNAAwGqR6kJvixYt7eHhw5cOHD7MsK9wDDcBSKZVqVdP36jk6kp9fdhW9egBgNEj1IEd//fVXZFZnQ5kyZTp16iRtPAAGExWlVpVkPqzwohEREgQAAIUDZuCCFkqlUriKSkJCgouLi4TxABiYOWyAW60aXbuWWUavHgAYDXr1QCwxMbF79+58ddy4ccjzwNqIetFMvKgeB716AGAS6NUDNffu3atZsyZXdnBwSElJkTYeAKN4+FD3YyMjIx88eHDp0qW7d+/Gx8dPnTq1Q4cO/KM3b97s1auXo6Ojn5+fh4dHgwYNypYt27VrV3t7+zzOW61adhm9egBgNEj1IJutra1CoeDKISEhAQEB0sYDYCx5pVYTJ078+++/w8PDNR/q0aOHsJqcnPz69WsiCg4OJqIdO3YIH7W3t2/UqNFPP/1Uo0YN8YmEd42TkujlSypXTvdXAACgI9zABSIilmXnzJnD53ktWrRAngfWLOcbplu2bKldu/Yvv/yiNc8jIlFXN/9To1VaWtrZs2dr1qzp6+t7+/ZttcdE663gHi4AGAd69YCioqK8BMOGVCoVVlQBK6ftBm79+vVv3LiR51NFWwKmp6frcsGXL1926NDh3bt3tra2mU2lS6sd8eAB1a+vy6kAAPIFvXpAjRs35gq2trZ//PEH8jywfh8+CGtpaWlz5szRJc+jfPbqCQ0dOjQ7z9OEXj0AMA6keoXazp07HRwcQkJCiMjHxyc9PX3kyJFSBwVgfCwrrNnb2/fq1UvzKIZh6tWrt2/fvpCQEDbLsmXLhMd07dqVVRcfH79p06bGjRvb2dkJj1yxYoWw+ubNG1ei7HNhZgYAGAfDqn/kQaEik8m4fwB169b977//SpQoIXVEACYh6rpmWSIS9WcHBgYePXq0TJkyel8kJSVl/vz5//3334MHD4hI9GE7atSojRs3EtElosZE1KkTHT6s97UAAHKCXr1CqkOHDgyTmehPnDjxxo0byPOgUMlOu8qW5f7/9OlTZ2dnPz+/vXv3siz74MGDguR5ROTo6Pjdd98FBQVxvX3Ch7p168bleUTUhKg60YO7dwtyLQCAnKBXrzB6/fq1j48PV5bJZErRfqAAVo9hmhAtImpDRHXq0M2bXPPvv/8+aNAgZ2dn419fPCLWmWESVSpjXxcACiH06hU6Li4ufJ537do15HlQCNUmukzUluguqa1vN2bMGBPkeUQ0aNAgUUsSyzIM07FjRxNcHQAKFaR6hcvPP/+clJTElQMDA+tjcQcofJKSku5klTsQBecyK9ZoduzYcfbsWc32Y8eOvX//3vTxAIAVww3cwiIlJcXJyYmvpqen57buA4CVGjly5KZNm0SNkn0MeniciYlprdFcqlSpt2/fShAPAFgj9OoVChEREa1ateKr33zzDfI8KJw087xfJkyQIhAiIipevBVRc43md+/ePXnyxPThAIBVQq+e9Ttz5kzr1pkdB+7u7jExMdLGAyCJmzdvNm/eXLQAMktEz56Rn580MfXtS3//TUTLiKYLJwUTEVFAQAC35iUAQEGgV8/Kbd26lR/o7efnd+nSJWnjAZBKr169RHneZO5/or1oTSnr0l8S7dB4MDQ0NC4uzsQRAYD1QapntTIyMj7++OPhw4dze3T27t372bNnlStXljouAAnMmDHj9evXwpZkop+IqFw5MsmUW+0Ek38HEh06dMje3p5vGTNmjKurqxRhAYBVsZE6ADCKFy9e+GXdk5LL5bpv0wlgfTw8PETjFm4QOXIlQbIlgWrVhLXOjRqlpqbKZDK5XJ6RkSFVUABgZZDqWaHr1693796dKzs7O+/atUvaeAAkpFAoNMen1uVLEt691bx6RAS5u//888/+/v4SBQQAVgg3cK3NqlWrGjRoEB4eTkTVq1dPTEzs2rWr1EEBSOP8+fMODg7Clnr16qUJEyn1fjVTq1yZ5PLsalAQEY0fP160kHJsbGzPnj1NGxkAWA+kelZFpVJ9/vnnXLlDhw4XLlyQNBwAiT19+tTGRu3exe7du+0iIrLrXl6mjkmIYcjTM7sqDEygbt26//777+7du00UFQBYF6R61qNevXpyuZyIGIZZtGjR0aNHixYtKnVQAFIaNWpUamrq1KlTuT1nP/30Uz+ZjBITs4+QtldPFMCDB6IHhw4dyjDMs2fPiGjAgAGNGjUyZWgAoKlPnz4Mw2huY23OMFbPSjx48OBm1pbtO3bsGDhwoLTxAJiP5cuXd+nSZcqUKStWrBCnU9KO1RMFoNGrt337dmH16tWrJogIwLD69OmjUChcXV3btGnz8ccfCx/65JNPQkNDK1Wq9NNPP1nKwv6WOM0RSyhbAzs7O36+XnBwcIUKFaSNB8B8bdxIo0ZlVyX/AFy8mObOzSxXqUIPHwoffPPmTc2aNYXTSipVqnTnzh3RAEQAs/Xzzz9PmjSJrz548CAwMJCv8n1jL1++9PHxMXVweunRo8f+/ftJwg0V8w83cC0by7JfffUVn+c1adIEeR5AdHR0jo/lMB5OMrn26pUpU+aPP/4Qtjx58mTevHkmiAvAGGbPni11CIURUj0LFhMTI5PJFi1axFVVKtXFixelDQlAcseOHfP09GQYxlM444EXFGTyiHIlHKsXHU1hYaLHe/ToUb58eWHLsmXLuHXRASzO/v37W7RoIXUUhQ5SPUsVGhrauHFjrmxjY7N+/XrLGiUKYCSffvopV4iOju7Wrdvbt2/VHg4PlyCmXGguradh8+bNMpnaZ/XixYuNGhTkyVlnej8xOTlZvyfy47bz+8Rt27bl8sQCvmN16tThCufPn8/z4H379s2dOzcgIKBIkSKDBw9esGCB6IBhw4b17duX2zmwbt26Dg4Oa9as4R46cuRI3759p0yZQkS//vprv379vL29mzVrxt/+CgoK8vX1dXZ2Hj9+/OXLl0VnXrRoUceOHV1cXFxdXTt37vztt9/q/5rNBwsWaM+ePfzfYJkyZaQOB8Bc3Lp1S/QR9/3336sdUaIES5T9xxwI49m2Teshot/6+OiWnN6/ZHV/YlJSkn5PvHbtmn5P3LhxYy5P1O+N4jOw9PR0fjTetqx/5/zJX758ybUcOHAgp/0AlUqlKLZp06bxfRz169fnHvroo4+4Fs3zcPmfyOXLl7kn9urVS+t1bW1t7927x1+aP79+b4gk0KtneZYuXdq/f3+uXKtWLUzKA+CoVKpx48YJW2rXrv3FF1+oHRQVZdKY8iuHoYSOjo6ibvtNmzaZIh4AA7G1tZ05cyZX/vrrr3Pa+m/MmDFcXx0RNWnSpF27dvxDmzdvFh28dOlSNivt05yrxJ+H99NPP2lecfny5VwhLGv4RL169WbNmjVmzBiumpGR8dlnn+X4wiyC1Lkm5ENCQkLnzp35v7vx48dLHRGAGdH8Eq/lIGEXmpl8AArjGTkyp6M+fPhQokQJ4asbN26cKcMEIb1/yer+RCvr1ROd09vbm9Xo1YuMjOSq5cqVy8jI4E/C7xbz559/is7j4OAguiLf61a1alWuZdWqVfzxwp8avjE0NJRl2bS0tJSUFOGphE/UPL9+b4gk0KtnSZo1a3b48GGu/MMPP/zyyy/SxgNgVkRf4suVKydVJPrLeYKwm5vbypUrhS3r1683ejwABlW1alWuEK5t1Oy9e/e4woQJE4T73IwePZorhISEiJ6ybNmynK518uRJrsAnZ0Sk9ffmmzdviMjOzk7UNVi2bNmcTm5ZkOpZhiNHjhQtWvTu3btE5OXldfny5enTp0sdFIAZqVGjhrDas2fPFy9e5PEcM/wcv38/lwcHDBhgb2/PV1Uq1dOnT40fE2ihe4eK3k90cnLS74n169fX74mi9Y1FjxrkfQsKCmrSpAlXXrJkiejRgwcPcoV+/foJ27t168YVTpw4IWz39PScMGFCTtfy9vbmCr6+vnyj1vmLiVk76ISFhQUGBjJZevfuncfrsRBI9SxD9+7dExISuPKVK1ewPxKAyH31JEnroByxrN8EZiSvCcIzZszgCjY2NpMnT8Y6mmBx+AxvxYoVoofev3/PFURpLs9QGadWwcHBtWvXfvTokfEuIRWkeuYuNTWVYRhuJ5YhQ4akpaX5+/tLHRSAeRH1RlSuXFmnOy/VqxspHv2lpeX++IIFC/7+++89e/ZkZGTolM4CmJkWLVpwXWv8yDxey5YtuYJojVjujhYRCUerG1ylSpW428rr1q3jOjIPHDhgvMuZElI9s1a+fHlHR0cisrW1/eOPP7Zt22ZnZyd1UADmpXHjxsKpef369dP1e7n6PV/JyOX5Orx37959+/Y1UiwAJhASEqJ1x1t+cYlBgwbxN3MvXbrUvHlzIipXrtznn39u7NicnJwGDBjAlYXrmlk0pHrm6/z586GhoVz58OHDI0eOlDYeAPN05coVYTWXYdpiZnIDV+uuHvnBrTdmkFgATMDf33/s2LGa7W5ublwhPT29V69emzZt2r59e9u2bbnxS0uWLDHB7s/JyclfffUVEd27d2/Lli3GvpxpINUzUzKZjN89JiwsrG3bttLGA2Cenj17Jqz6+vrmduv2yRO1as2axgkqnwrQuRgUFNSxY0cbGxtL2SoegMMvwsJxcXHhCk+ePOHmbWRkZIwcOXLo0KGpqalENHHixEGDBhk1pB9//JErrF69mmGYmjVrNmzYsGvXrka9qGkg1TM7CoVizJgx/Hf0jz76SLSYFgDw/P39t2zZUrp0aa6aR5de1qDvTGbSq6dvGOHh4bVq1Tp27BhlrRYBYG5yWfNo1qxZXGHChAnFihXjyhUrVjx//ryPjw8/VdbJyalBgwai1JCjdeR6Lo2i6bdcH6Gjo2PJkiWJ6Msvv9y+fTv/qKur6/nz5xs0aEBEwpnvljhcnkG3v1l59eoV/4Mhk8mUSqW08QBYilevXsXFxVXPfabF6tXE74xUujSZSXr044+UNa+WiEjnz+TWrVufOXOGr44fPx5rbQKAJvTqmZFbt27xq6g4OTnt3btX2ngALIiPj08eeR6p9+qZSZceEenbbb906VJh9bfffgsODjZEQABgVZDqmYs1a9bUrVuX24MvMDAwKSmpR48eUgcFYKZSU1P5DSvz4c6d7HKtWgaLpoBEY/WyJmPlqW7dusJR6gqFolKlSgaMCwCsA1I9s/DFF19MnjyZK7dp0+bSpUvSxgNg5lasWFGhQoWkpKT8PU3Yq2c+Q2BF/Yt5raIsNIW/Hw0AkAOkehKLiIho2LAhv2j4/PnzT548qblrOwAIzZkzJykpycXFhWEYfqfLPLAsZe2wSWROvXqipDNrtVhdfP/996KZKNWqVVOpVAaJCwCsA1I9iTVs2PDatWtceevWrV9//bW08QCYvyfqa6a0b99epzFq0dGkUGRXzadXT0Q0TTgvEydOFFYfPHhgNYuBAYBBINWTzJYtW+zt7bkd2f38/B49ejR06FCpgwIwdxcuXKhcubKw5fnz5xUrVsz7mbdvq1XNp1dPRDigUAf29vY11Ef7Ybl1ABBCqieZESNGpKenc+UrV66IfnsBgFbTp08XteSycJca0TSOIkUMFJGh5bNXjwT7x/Pi4+MNFA0AWDw9Uz2FQjF16tTx48dHR0fn97lMllGjRul3dakYKvI2bdrwCzl+8cUXSqWyePHihggQwMplZGSItkFbuXKlrk8W9eqZrfyM1eN06dLl8uXLwpZSpUpFREQYLiYAsGA23P9+//33pKSkunXrNmvWTPOgTZs2paSklCtXrkuXLlzLkiVLuE/YoKCg8+fP63ftmJgY/Z4ouYJE/uLFi9OnT3NluVyej/06AQq93377TVj19/cfP368rk/Of2+ZNNLS6MMHcnfP15P4JTk5SUlJixYt+umnnwwaGQBYJBsiev78+SeffMLVL1++LPrIIMHID35rjcOHD3OFixcvpqen29nZmSJYy7dv377evXtz5Vu3btWuXVvaeAAsyIIFC7755hthS0hIiGino9zcumX4mIzk9m1q0ya/Txo5cuTGjRv5KjcOGABAzxu4hw8f7tWrV7du3Z4/f448TxdKpZJhGC7P69ChQ1xcHPI8gHwR5XmdO3fOR55HROa8k4Svr1pVr3vNf/zxx+eff167du3Dhw+zLLt//36DhAZgMufOnQsMDGzSpIlRL9GhQ4cmTZqsXbuWa+nTpw83NMt4F+U0adIkMDDwwoULxr6QJhv9nubq6optu3SXlJQ0cOBAvnrw4EEbGz3feYDC6dmzZ8KqTCb77rvvpArG8EqUIGEnnB4bgRAR0dy5c5cvX26CX1oAOsrIyOjbty9ftbe3d3Nzq1evXtOmTatWrSo6+OOPP37+/DkRvXr1ysfHxxjx8Je4cuXKuHHjiEghXIPJaJ4+fcoNqB07duzDhw9NcEUhPROOyMjIGTNmKJXKL774opb6mgWLFi169OjRmTNnateuXaVKFblczrV36tSpVatWovOwLLtr166FCxd6enrWqVOHX0k4F9OmTQsPD+/WrduAAQMyMjK6dev24MGDgICApk2bLl68WOtT1q9fv2XLlqCgoObNm1erVm3x4sWaH4Usy86dO/fixYs3b9709fUtW7bs8uXLq1Spkmc8t2/fXrlypbu7e//+/bV+FwkKCuK35rS3t09NTc3znAAgdPfuXVEv+LNnz3SdeKuVrW1BYzKsOnVION1E3xkknp6ehokHwEDWr1+v2cHMD7q9f/9+tWrV+PaEhASuoFQqdTn5oEGDDh48aGdnN3369JkzZ+ryFP4S/IA0gxs0aNDff/9dtGjRqKgovjExMZErmCazFGNZVvh1+fLly6wG4cEcfrRvr169+MbU1NQFCxbkdKH69euLztajR49OnToJj1myZInm1bUGU7p06Tt37tSsWVP49LFjxyqVStHx//77ryiSdu3avXnzRnjMli1b/Pz8RIfJZLJhw4ZpfR969OjBtTx69MjFxYVrHDx4sGa0x48fL1q0KHeAh4fHhQsX8nyBACDSuXNnzQ+ufCPK/lO2rKFjLJiFC9XCq1LFgOdWqVQGPBtAvqxZsyanrICIbGxs/vrrL/7gP//8s2jRor6+vjqevETWQuj8L+U8/fnnn5UqVfL19V20aBHX8tFHH+n/qZJrVKL2MmXKuLq6Hjp0yFAX0p2eqR6/wIHw/eUPs7W17dOnj+hvtHXr1qLDtHJ3d88jYiIiymWAoNbI/fz8evfu7ejoyLcIk0Lh00Vfi/fv3695GP+q+ZZ9+/Zphhoq2La8adOmub8uAMjJkiVL3Nzc+J+mhQsX6nMWYS7Vs6ehYyyYgwfVwjPEb52wsDBbW1siqly5csHPBqAfPtX7448/+EalUjl//nytv7XzRY9UT5PJUj0JiadldOjQoZiGnJIqrdzc3C5duvTXX3999dVXfOPu3bs3b96s9fjSpUt//PHHfPXDhw+6XIVffHj58uUzZszQekxsbCxXcHBwePbs2d9//x0UFMT3FWvuHbRs2bLHjx9HRkYeOXKkTJkyXOP27dtzimHnzp18uWfPnpoH+Pv7c4UBAwbouk0nAGiYNWvWs2fPuK9q3t7eU6dOLegZS5c2QFgGVLKkYc83Z86cgICAjIwMInr8+LFhTw5QQDKZTLgLKL8A2dmzZ/v27Tts2DDhwTdu3Pj444+9vLzKlSvXo0ePtLQ0Inr48OHkyZP5pcLv3bs3adKkSZMmcdUjR44MGzZsypQpRPTvv/86ODiUKlWKv8SYMWOGDRumNSdJTk6uV6+eq6tr//79RWsV/f3338OHDx8+fPiePXv4xr1793KNf/31FxfVpEmT+KgmafP27VvRRfft2zd37tyAgIAiRYoMHjxY8+7osGHD+vbtGxcXR0S///770KFDfXx8evbsmY/xYKx6r16eB3M0e/XuZi37efToUf6w7t27i57Iqneh8Y3cX4nmwZr4w7Zu3co33hPsYv7dd99xjR4eHlxLfHy85hlsbGwyMjJyusr7rCW43NzcNC/do0cP4cihXO6PqFSqEydO5P6KAEB36enpej5T2Ge2caMhYyo4pZK1sTFgr17dunWFn7Rr1qwxSJgA+aW1V4/Dr9rWpk0brkWzg2306NGiPIS7vTtt2rRcshT+PMJx+aKHPD09RS1OTk6is5UtW/bVq1fcYQ0bNuQaa9WqxYfHL05Xt27dXKISGj58OP/0AwcOuLq6aj2sWbNm/GFcy+zZs901ltvkh8blzmAboxXJ2mVI2C2X+3LtHTt25MuNGzfO7xWFO8ZWr169fPnyXJlLmWNiYvidPIpo2wFJoVC8evUqp5Pz21fExsbyPYhCt7PGTbdq1SqX+W4Mw7Rt2zb3FwIAurPVb0aFaKOwrK/45kImI29vA55v0aJFwurixYsxIQzMTevWrbnCo0ePtB5w9+7dDRs2cOWdO3f+9NNPXbp04eZ66jJpkvI59yI5OZnUP2Fev36ty2xRno5R8caMGcP11RFRkyZN2rVrxz+kuSbLkiVLNG97Xr9+XZcLiVO93Mfq5YKf1jBw4MAOHTqcPHnS1dX16tWruTzFwcGBLwcEBOhylVx069aNK1y7do0EizyTYEMz0do5fF+gQqHYvXu3ra0tf4xMllsSfOTIEb48YMCAAkYOAFolJSXpOBEvb6IPxPr1DXNaA6pXz4An69Sp07lz5/jqu3fvfEVL9wFIzd7eniuEhYVxv7hFdu/ezRWKFSs2YMCAyZMnHzx4MCQkhIhGjRrFahurJzqDg4PDqVOndMxkmjRpkpCQwN034Cd95ivVE0WlNZXik5CoqKjw8HAiKleuXEZGxsWLF48fP86yLD8eTDhIjMOPu33w4IHuUZHeSyhrxY/qO378eLt27fjb1cKheMbDT7ngUv53797lfjzDMHzX6+DBgwcMGKD7FOj27dvzZR0neANAfq1cuTIwMJD/uC+QN2/UqvncdswUDN3R2Lx5c2GV+6UCYJ60pmKVK1fmCjExMUFBQXqcdtmyZXzfYZ7++ecffkkNE+QtfGfThAkThEvt8vesuaSW5+TkxA9qDAwMzFcPosFSvZSUFG5n2Fq1avH9n1WrVmVZVrhXj/HwW/FyH3AtWrTgH9J661qlUnGpd3h4ODfKkmGY1atX69KXKZfL+Vvy8fHxf/75p5FeFEChNXPmzHnz5gUHBw8YMIBhmJYtWxbodNr6DMyLEToau3btKqx+//33Br8EgN5SUlL4coUKFTQPGDZsGD/Ur3r16gzD8DMmdTRhwgTdD/by8uLLgwYNyteF9HDw4EGu0K9fP2E7f4vyxIkTwnYnJye+v5CIKlasqPu1DJbqnTlzhitcu3YtLCzs33//TUxM1C8N11FkZCRffvv27aVLl7gyt7Cq8I4wN2EnJ9wC1kTUv39/fv5OnubPn8/fs/7ss890jhoAdLJ69Wphlf8upyeNWW9mRzQpWDS4UC/C9SyIaOnSpUlJSQU/LYBB8HPDy5Ytm9NaHxMnTuSHzhPR27dvZ8+ebYLYhEuzGQk/+1NzOggnXwMNc2ewVE+YaU2bNu3Bgwfbt2/fu3ev1jkNBlG8ePHq1asnJye/e/euTJkyKpWKax8/fjwReXp6zpo1iz9S+ESVSnXq1Ck+DeXXZLl8+TJ3krdv34oWZ9bk5OTEz1yOjIwUDg0EgAJ69uyZ8Bu/jY1NcAF3sM36Rme+RL16uo22zl3dunVvCzbeiIqK0lwrHkAq/DzxpUuX5nJYeHg4y7Jnz57lqt99951mp4wBsyLO8ePHRS3Ozs5cQbhaSkGuy9+puHjxorCdX89Ec+l4vRks1ePvFISFhW3atGnOnDmffvppnz59nJ2dhwwZYqiriAQFBXl6epbOYYmsuXPncoX4+PimTZtOnjz5hx9+mD59uoeHR9u2bY8ePco9ym/s9urVq65du545c6Z+/frC1VtywX8RGTduHL/dCgAU0Lfffiusjho1ip9ir4/UVMp1NQCzIBo+aKBuSNHGlcKbIQASunbtGp8nae65oKlFixb82nj8pAR+51XhhgV6E2ac27ZtEz1aMmvxS35xD8qaBirCR5U7/t6jaPrFpk2buEK+btHmzmCpXqNGjbS+PIVCsWPHDk9PzzB9N/DOCXd7W/jVv2PHjnwXHRG5uLhs376du7d96dKlNWvWzJw5c+nSpdwx/Ltcq1YtPmM7cuRI69atw8LCAgMDdYkhOjqa29j31atXOa2OAwD5tXXrVmF13bp1BTqd+XfpaTLc4MIePXoIq6tWrTLUmQF09+2339auXbtkyZLcMhf8MnWzZ8/OKTcaPXo0wzD//vtvZGRkcnIyn0Xwc1T5ZdoePHgwYcKE4cOHFyTC6dOnMwwzYcKEli1b/vPPP1wjv0dD7969uYJKpapcufLAgQMZhtHaq8dH5ebmNmHCBOE8TiF+IbY9e/bY2dlt2rRp+/btjo6O/LrF/BUNgGVZPj3y9vZ++fJlToutuLi48C0HDhzgGmfNmsW18FMT2rdvf+fOnQsXLixdulS4pNzvv//OHcnNr2YYhn8uy7IvX77kVzzWOotCc7aESqX65Zdf+Grx4sUVCoXm8bGxscItlYioaNGiffr0ER7z+vVr4TqN48aNS0pK4m7Vly1blt9CTWvkT58+5Z5la2ube+QAoAvRF+UiRYoU9IybN6utTuzgYIgwjUAYZAE2ehK5efOm8P0sVapUamqqoU4OkLvc98BdvXq1cA8C0RLKwtVzeZ6envyyxr/99pvoUa3nEcplCWVNDg4O79694w5TKpWaq8Lx02C5JZS1RuXs7My1c9URI0bwR3JTC7QSbqYqCpjDf4XT5W/BMHu0/fvvv6I3WhQiEU2bNs0g18rpQgBgBfjVBDgeHh6i3W70MXasWhaVtTS/2REG6e1t0BNnK1eu3I4dOwx4coBcREVFCf/5ubi4lC5desiQIStXrtQ8+PPPPxf+fk9MTBROwrC1teUWrhMS3TDUeh6tl2jQoAHXwo3vt7e3T01NnT59OveojY1N48aNNZ8unCm8adOmiIiIokWLElGvXr2Eh/Xt25c/bMqUKVwjV/3mm2+ERyqVSh8fH36xPScnJz4wnihgDr8/pGaQmrR3P+bX9evXGzRowJV79+49atSoOnXqHDx4cOnSpU+ePCEiT0/PJ0+e5Hc7Xa34d8QgkQOAWRHtPZOSkiJca11P1auTcDWAr74ijV0mzYJo350XLyjnL/35cvHixWbNmm3fvn3AgAE6DiQCAKthmFRPoVAEBgbytzI1XbhwoWnTpgW/ECHVA7BeLMuKNqoxzI+5q6va2iXr19MnnxjgtAYnSvUuXCADfWwS0alTp9q0aWOoswGABTHMtAxuKYR169bx+09wGIb5448/0tLSDJXnAYC1UiqVovXfRZMz9Cdao65JE8Oc1uDKllWrGnQ2CfI8gELLJu9DdDZ27NixY8fev38/PDz81atXzZs39/Hx4Te5M5Tz58+/evXKIPeCAcB8bN26lRvvwalatergwYONciUfH6OctuDKlqXXr7OrwrIRpKen29nZGfUSAGAODHMDFwCggJ4/f75gwQJ+TSlDfjQJb4xWq0b37xvszIY1fToJ15KtV88gCymLxMbGrlmz5quvviIMgwEoHAzZqwcAoDc/P7+NGzemp6fv3LmT3/zG8EQ3Sc2KqLvRCL16ERERFSpUiM+6o3358mV+DTAAsFYGW0IZAKDgtm/frlQqU1NTjXUBcx43LBpEGB5u8Cu4u7vHC0YuNm3aVMedgQDAciHVAwCzY/AxvtnMuVfP+LHZ2toKqyzLfv/998a+KABIC6keAEjsxo0bRjz7rVtqVXPu1StenAQLtBrJkiVLhNUdO3YY+4oAIC2kegAgpdTU1Pr163fv3t1YF3j1Sq1apoyxLmQQxp8dPGHCBNGG3e/fvzf2RQFAQkj1AEAyaWlp3LaS//33H7cJelpamoGvcemSWtV4t4YNolkzY1+haNGiwkVtiKhSpUpxcXHGvi4ASAWpHgBI5rfffnv37p2wxfCj9ES9embOQDuh5c7b21tYjY+P//XXX01wXQCQBNbVAwDJiHa87dChw9GjRw18jZIlSXiD0sw/8Z4+pYoVs6s3b1KdOsa4zpAhQ0Sj9PC7AMBaoVcPAKSRkZEhavnmm28MfI3UVGMsWWJEorF6L18a6TozZ84UtSiVSiNdCwCkhVQPACSgVCoDAwOFLWfPnm1i8N1pz50z9248EdH963PnjHSdGjVqnFM/ecOGDY10LQCQFlI9AJBAjRo1QkJChC0tWrQw/GXOnlWrVqtm+EsYldFSPSJq3ry5sHrz5s0OHToY73IAIBWkegAggYcPHwqrxtqeS3QD1CSTHgzJaDdwOVWqVBFWz58/b9TLAYAkkOoBgKkdPHhQWK1Tp84l0ZIohiLq1WvZ0ihXMZ7oaAoKMt7p79y5U7p06dKlSy9dupRl2ZSUFONdCwCkYiN1AABQ6CxevFhYnTt3rrGupL6SC/n6GutCxvPihfHuO9vZ2X333XcDBgwQbZgGANYEi60AgEm1b9/+xIkTwhYjfgqpL+ZC4eFUvLixrmUodeuqbeY2bRr9+KN00QCAxcMNXAAwKVGex+2WYQpOThaQ55FG1+OLF5JEAQBWA6keAJhUvXr1+HLp0qVF8zOMqHVrE12ogFq1UquePm2yKysUiho1ajAMgzX2AKwJUj0AMKnr168fO3aMK0+bNs3Ozs5EF/bzM9GFCkgUZ3S0aS67YsUKf3//+/fvE9GePXtMc1EAMAGM1QMAK5WSQk5O2dW9e6lXL+mi0VlSErm4qLWY5FNatEkdfjUAWA306gGAlXr+XK1qKb16zs7k5SV1EABgPZDqAYApJCQkmPqSp06pVWvVMnUAepNiWOGGDRuE1WHDhpk+BgAwBqR6AGAKP/3007Rp096JFrozKlGvngWRogNy6NChJUuW5Ku7du16/fq16cMAAIPDWD0AMAV+KJhMJuvbt++uXbuMfsnatenOneyqBX3WHT9Owu1oIyJMc0s3Li7Ozc2NrxYpUiQ+Pt4E1wUAo0KqBwBGp1AohPsxMAyjUqmMflVXVxJmKhb0WRcaSuXLZ1evXqUGDUxzZUzOALA+uIELAMbFsmzt2rWFLRcvXjT6Va9dI8vtkRItK62+6LRRDR06VFjduHGjyS4NAEaCVA8AjKtZs2ZBQUF89fDhw40bNzb6VY8fV6ta4u63PNFrMaatW7d2ENw7HjVq1KFDh0x2dQAwBqR6AGBcly5dElY7depkiquGhqpV/f1NcVEjefbMlFebPn26sPojduAFsHBI9QDAiLjdF3j+Jku5RD1h7dub6LrG8OoVBQeb7Grt2rUTVs+cOWOySwOAMSDVAwAj+v7774VVUY+REb19q1YVjX6zOKbt2PPx8RFWX7x4YcqrA4BhIdUDAGOZMmXK9u3b+erixYvHjRtnomuLpo5aXK9e3bpq1aNHTXlxfmzlxIkTQ0NDfS16pCNAoYfFVgDAWJydnZOTk/lqbGysq6uria4tXDTE3Z1iYkx0XUMZMIB2786udutGBw6Y8vre3t6TJk366quvTHlRADAGG6kDAADrlJSUJMzz7O3tTZfniQiXI7YUHTuqpXomXG+FEx4ebuIrAoCR4AYuABjF77//LqxKuaeqcDliSyEaXJiaKlEcAGDxkOoBgOE9ePDgu+++E7b89ttvpru8aBqBaZZ3MawWLcjRUeogsl26dKl169ZSRwEA+kCqBwCGV7Vq1RcvXlSoUEGay4eEqFUtsVePYcxk1rBKpWratGnTpk3PnDlz/fp1qcMBgHzDWD0AMAp7e/vg4GAiOnXqlIuLi0mvfeSIWrVECZNe3VA6dybBLiOS8PX1ffnyJV9t3LixQqGQMB4A0AN69QDAuNq0adOgQQOTXlLUq2ehRJ2RUqyWMHXqVGFVqVSaPgYAKCCkegBgXVjWxKvQGUuXLmpVKXat+Oyzz2bPni1sWbRokenDACgk2F/Xs0t+pJu3DXCuV6/Zn9eym7cR1tUDAMP6+uuvvb29J06cKFkEb95Q2bJqLRb6KceyJBN8G1+7lj791PRRhIWFlSpViq8WL1785cuXDg4Opo8EwMqoOnRj37yRTZnIjPuEa1EwDkTEeHvL37/M9al5U7Zox56/QEQ2bCp69QDAkBYuXDhp0iSGYVxcXF69eiVBBAcPqlXNaR5r/ghXgSaN12UqJUuWZASRRERE1KpVS5JIwBKxP69VMA4KxoH97Q/RQ6q2nbmHKNpiVjhXte/KxZzLH/a/wzqdS6lSHT/BPnqsHD+Zzl9Uf8gQIyUyMvgiUj0AMJi4uDi+nJSUVKNGjZSUFFMH8fSpWtUSp99qJXpdJtRF/VbykydPpIoEQFqsLitc6vihJxckYGVK6xmQbjADFwAMIy0trXLlysKWe/fuOZq+U03U+9Wtm6kDMJLHjykkRJLM9b///mvQoIFwpZUrV640atTI9JEASEu+bzc9fMSV2XdhykHDiIhp0li+ZGHmEfb21LC+jmezYU20NDpSPQAwjOrVq79//17Y4uPjI0Ecjx+rVbt2lSAGQ3F3pw8fsqsHDpD6lFiTuXz5so1N9u+Lpk2bPn78WLJ1E8G6paapPp/G3r1HUdFMtUDZN/OoVg3RIeyi79jzF9mLl0guZ5o0pob1Zd/O4x9VffwJJSRQ9WrCRkpLVy34Hz0JJk9PUqkoJobKB8gWfEN2tpkHKJSqOV/Ry1dUzkf2w2LtsXl6UItmXJF59jyzUMydb8wlSNmOzeTuJjxANWY8xcYy3bsyI4bm/oawm7eqNm2lBw+Ztq2pWlXZwm80j1J99iV79ToxDNOkkWzZ9+qhAAAYguhzp3PnzlLFofYnPFyaMAyiUSO11zJunISxiP5+x0kaDFgK1ZpfM8g+g+xV6zeIHlK26cQ9xEZFZ7feuaeoWptr5/4obF1U//s++4DnL5TtuggPyDz/ut/5Q/hGtUh27tHyrO07sw/Yt1/rE3MU+ow7WNmtl/ghbUEqXIsLg+TjVHiWzqWFZVnRG5JB9qr/fc8qlGpv5pcz1Q7Y/beiUQv+tWAGLgAYwOnTp9u0acNXGzZseOXKFWlCEc5mqFePLHqDh8WLae7c7GrJkvTunVSxfP311wsXLhS2FOpfHz/+KHUEJjd9uh5PYn9eq5z0ORHJxo5h2qrtradauJgNekBENlHvyKMYEVFcvMKtOBExXl6ySePJ3U312x/s/SAisjl7gus5UzZuyV65SkRMvbpMuzYUFa36PXPCh6x1K9mpI0SkdC/BxsYSkY0yhWSZHwh8o6xTRzY0lH0aQkSMjY08IzHzgGIl2Q8fiEjWrYvswN68X9uz54qAKlqPzyVI4U3bzPm2np7yyDfaW+LilQFV2OhoIpLP/5pq1lB99S33hqid6sIlRfPMj1/G3p5NSxMGY8Om5qNXLygoaP/+/VeuXNH9KaZkDuEdPHhw//796enpeR4ZHh5+9uzZ+/fvmyAqABPopL7P7N69eyULRdgNNniwZGEYxF9/iTsppRMeHi5aYyUpKUnCeCQm+nspDH/0wvfq5fKH79VTTp+d2fLiZebzk5IzO7oat8w85pMJiiKe7LPn/CUU1epkHuPikXnMx59knuf8Rf6w7B6vDZtUi77T7MDLPmDrDp1eW869erkEKTwsz149/g1ReJXh3xBFnUaiUyk/6pMZSdvOrEKpOnZC7e1lWbW/vE2bNs2bN69Zs2YdOnT4+eefnz59yj+0cuVK/sebb1ywYAHX0qxZM53eF6PRGp5UMfTo0SP3I//55x/JowUwoMGDB4u+7koWSmqq2i+n7dsli8Qg0tJYudxMUj2WZbmd7oiIYZiuXbtKG4zEJE+8rC/Vu3hZ6/3TPG+qqvb+Kz4mLV3h5p1B9ooKVUXnUXbszlWVbTurpZWqrAN69c98glLFRkVn/4mLF184lxu4OQfJXrshCimXVC/7dd26k32uh48zG2/fZVlWdeRYZhhfL8g+JjVNUb4q/55kDrONjY1dsWIFn7oR0bFjx4jo3r171atXpxycOnWKK1y6dCkjI8PW1janIwHAiu3evVtYLVmypFSRiFckqVRJojgMxM6O/P0lXGZFhJuHYWdnd/v27cDAQKnDAUvClC9PJbzVmu4HsYLlmbg7qhzVxM/zPuOz5+zd+xQRwV7VGKRhZ8v06M5u3so+DaGHjymwMgU9zAyjX+/MwsfD6OQpImL/3M3MmkY3bma2D+iXGcOQEaqd2Z9sDMPIL5/TfXZtjkHqtYu0as2vxPepJydz/2dDnzG1atCr11xV1qFd9hPs7cjTg98i0oaI0tPT3d3dtZ69RYsWH4Tzv9RVr179zJkzRFSnTh3keQCFU1RUlELw4VW0aNHHojmwprR/v1q1bl2J4jCcnj3NalgYW5jH50EByGZ8wXwyStiiatuZPXWar7IXLmU/9MvaHE8UHKJs0ZYND8/jcut/UW3eSkTKUWPlV84px4zj2pnRH2cWhg6iYSOJSDl7nk23LsoRozPbB/TNjOfBQ+EJWZZlIyLVlzXPmW5B6k71xybNRqZKZSJib9zKrJcPyOnpNqS+p2GZMmXmzJkTFRW1atWq6OhohsntdS1cuPDNmzcZGRlr1qzRJ3YAsHyrV68WVseNG1e0aFGpgiHrW91XfalCUijIBotkmYGqVaW5rvWm2kzZMnxZvmGd+NF6mV/blG078SmU7LNJjLc3++w5P+khG7+EyrXr9D6cruU2PUu1Yyf7SPwFVTbjS3bP39l1NzemaWOdXonuQepMvnIZFXFRa2IYCqxMRFTcK7MlMoq8i2t9uk16evr332euv3LgwIFuWcuNfvXVV0SUS5ceEbm6uu7dq8MsFQCwUqtWrRIO/CAi/vNEGqJePSvQqxeNHp1d/e8/6tlTsmC02bRp08cffyx1FCYXFCR1BNaGad+Wvsn8MGFGjcjpMPbNGyJiSpSQh73IbPrvMGnLopiiRdn4eJZlVZ+M53qjZe3bCQ+QL/hG+fV8IlIt+YFrkQ0ZlP30oYOYoYNIL7oHqSsZk9N7wjRswBVUCxfLdm3LDODvf4TZrez+/fvp6elcRXNd+5xu7HIiIyNHjhw5fPjwO3fu8I1v3ryZNm3a6KzPprVr1zZt2rRo0aJVq1Z99OgRf9jSpUvr169fpkyZHj16iJZdzcmWLVsGDhxYrFgxZ2fnHj16xMbG5nQky7KffPJJ1apVW7ZsOTWHFUdTU1P37t3br1+/KlWqVKtWrW/fvn/99ZdKpRIe8/Tp0xEjRowYMUK0EVB8fPzIkSOHDRt2+vRp0sHWrVsnTZrk6urarFkz4Xul1fr16ydOnOjm5ubn5zd79uy///5bdMC0adOGDRu2ZcsWIjp69Gjz5s3d3d379OnDHyB6o37++WddggTQw+DBg+fNy16kVCaTdK/F8HDK+WPBUok+hCW8Oa7h5s2bAwYM+OSTT6QOBKxCYBWmSJHMcmSU+NGERLVqfDzFxXNFtb43AaZH98wDTp3JbMkaqJdZHT5EdOuSH6hnGDoEmTv+DVH9T+MrdHxC5jEtmzMuLtwl2H//yzx+6MesMJ9RKpXC+fNz587VOnlE6xRXrXNO+cYDBw6IZuYTEcMwa9eu1fx98OzZs1ymrgQFBTk7O2u+CwcPHtQMz9vbW/NI4dmUSuW3336reQxn7dq1/JEzZszgGqdMmSI8Az+FtnHjxrm/Gw8fPixXrpzoEn5+floDGzt2rNaQ3N3dhYdxja6urnv27NF8jbm/UQBGkp6eHhgYePXqVSmDWL9ebcKgvW7roJo/4YuqV0/qaFiWZVu2bCn8hImKipI6IjBT+VtCOS09p1m6ypFjuUMUti7ZixJ7lBJP5hVKTVM7Q7suWsLbsj37gI8/yd9ry3kGbi5Bspeyl4TLcwYum5auqFA1x5nLvHtBmo8qfCrwh8lkMlmdOnX4n9j//e9/mp1b+undu3eqxsbALMuOGzdO8/yrVq3K5VT9+vVLSkriyh999FGfPn24LXoyMjI0Dw7XNhAyMTH7C8Fvv/2WS6r32Wef5RJJfk2YMOHly5eixufPn2s9eP369Xy5d+/e/BaTHz580HzHUlJStN400f2NAjAgW1vbBw8eNGjQQMogRAP1rHLbrkePzGG0VsOGDYVV0XhNAD3Z2TINcpjimjV7V7Y4ex1vbm1hpmEDWdfOWp5ibyesibr0Mht798wuZ03IKDitQepzIjtb+d7deR9WvSqj3rMm69NLfvxQdp3LCDWfWLZs2Y0bN/Ipox69ekTEMIxKpWJZVpjEEJGdnR138OzZs/nGW7du5ZQ688f873//03qA8KJEtHTpUq69SFbn54gRIzTP5uXlxTcqlUrNSAreq8ef09HRkWsRZX78kdOmTdN8jTdu3OAaAwMDNc9JRB07dgwLC0tLS+NWY+b7+XJ6owCsWUCAWgfYnDlSB2QgouXN/vtP6oBYlmVHC0cQEq1atUrqiMBchUew4RHaHwp7z8Z80NKekMjeuqP67Q/VX/vY+AQtB9x/oNq3n330hFVltbwPZ1PTtBz5IZYNe6/9JCzL6rBuX26iY9iw9zk+KgryQyz7Xn2fxoRE9l1YHi28W3dUu/5S/bWPvXhZ+wEJiaoTp9SeHvaejYxiWTbzRio3CUPo9evXI0eOTM5avkU/a9as4W6Ejx492tfXl2u0tbX966+/uPLs2bNdXDInlbx58ybPEwoXH87JypUrv/zyS648cuRIrvAuazchVpAqTZkyhS/LZDJ7e3uuzK0gU3DC9JFPan18fIQ3cHkbN27kCpMnT+Yb69aty61rGBwcrNC2GM+///5bokQJOzu7atWqEZGdXeaXGF3eKIACYs2ge0mNqL+8ShWJ4jA00XC9Bw8kikPNdPVtspYtWyZVJGDuintlzxIVKeFN7m5a2l2cqXZNZsxIpk9P8cxTTrVApmd3qlyR+LF23sVF3XiZ3FyphLf2kxRcMXfxYoFCoiDdXMUzZF2cqWSJPFp4tWsy/fswfXpSk0baD3BxZtq2Vnt6CW/y9CCizFRvwYIFLMvu3r27fn21vlNnZ2e9f4B79OgxYcIEriyTyT766COuPHny5O7dMwdLFilSpG3btlw5p9uaRNSsWTOucP36dYZhSpQooXlXlCe8A9urVy+u8CDrw5FP47y8vITDyYlo5syZXOHEiRN5vTidXLqUuUpQyZIlhcn0ihUrREdeu3YtOjqaK3ft2rWFADdnRaFQaE4B6dGjB5+ecvg3Vpc3CqAghg8fLpPJfHx8RH3qUhKOc2AYyvrxt3j91IeKqw/SlUol9eWpX716ZXapP0Be2F8yV3WRTZogbSRGpTY9ol+/fteuXWNZVjhyjr+xWEByuVxru40Oa0SdP38+NDSUr4aHh/v6+tasWTNOsNC2VppzFM6dO8cVKmkso8/PnwgJCSFDuJ61z7q/v3/uR549e5Yvn1cXGRlJRAzD5LJtCY9hGM03imGYPN8oXvv27V1dXX80pyVbwQxNmTJl69atRPT69eupU6cuXrxY6og0dOhA2qYoWaT+/dWqWeM6JHfkyBFhlf9ODmAZ7t5XTszsG5L9tFzaWIxKe5o1ZcoUw85OKDh/f//9+/evWLGC79y6d+/e9OnTRaMA81S6dGmuoDl7IywsjCtU0BjNrfXmaZ68vDK7rKOiNOaNqytTJnvpSH6AoFDXrl1LlMihU1ed5htFRDq+USdOnOB6NGfMmFGsWLERI0bokohDIbRhwwZhle+/NyNWc/eWiMx1C7KOHTvWrl379u3bXPXSpUsXL15s2rSptFEB6KpsGdnMaZSUzJQsQbrug2GRLOkXeffu3bkblDdv3qxXrx4R/fbbb/lN9dq3b88Vnj59evLkSf72MRGtXZu5E0uXLl24go+PD1cQLobHsuyBAwd0uRY/G/HJkyfHjh3r0KEDVz169GhOURHRggULRLdl80vrGzV69GjRpDlN5cuXHzBgwK5du4hozJgxY8aMqVOnzvLly0ULK0Ahl5iYKBzFa2dn5+bmJl04WUSd8b21zLazVCVLUrNmdOGC1HFocf36deEXwubNmxtkAQcAUyjmLvtuUd6HWT7Z4sWLa9WqlcsR/LQJ81G3APtaCvvPfvnlF+FD/LyQFi1acAV+1/bLly/zqyiPGzdO1KWRE+GKesLxTL/++qvoSE9PT1dXV65swGULhG9UQkJCnsf7+vru3LlTmHfeunWrVatWN8zmhhGYA9H3q+HDh0sViRrRZAVr6tUjomrVpI5AO9HIHAzXAzBDsqtXr969e5dhGIZhbGxsfHx8uDL3cNGiRc3h1zwX0uzZszdv3rx27dratWtz7Zrj7fIkl8uLF8+cArN3715nZ+fmzZuXKlWKf8nOzs7Vsj5V+VkdLMtWrlyZC0P3fkThCtKHDx9mGKZ48eI5bSvMJ5rTp09nGGby5MmrVq2aPn169+7dGYbRcXLMggULcnqj2rVrl/tzeceOHWNZdteuXVWyflnWr1+fYZgpU6bw97ih0NqwYQM/w52I+vbt+9tvv0kYT7bd6qtPeXpKFIdxDBmiVn34MIfjJLBw4UJhVTQzFwAkZ8N3XBGRUql8/fq18OFt27bpkU4ZyXfffSesyuVy/ab+LVq0iN+XIjk5+YL6bZElS5bw5ZzSMm9vb60LNWvi9lvjq9wcC09Pz0qVKl28eFF4pKj3dM2aNcKqjvdEuDu/ojeK1PsUddS/f/8+ffr4+vryOejq1as3bNjw7t07vgMSCqEffvhBWJ01a5ZUkYiZxxIkxiLq1bt/33wG8E2YMEG4wsC6devmzZuHTwkA8yFbu3ZtYmJi3bp1RZuVrVy5MiUlhV+8IyAggEsjhNlPQEAAV6giuFfCH1lF/QYKnzKKckeuam9vz59N0549exo3bixsGThwoEKh6NSpUy7hEZG3t7eHhwcRBQo+Fj/55BOWZUeNGsVPmyAimUw2adKkhIQE4bJ2RMSyrHB2oaura3Jy8vv377kLlS9fPvd3Y8+ePUql0snJiW+ZMGFCZGTkgAEDNF8my7KxsbGaw5769Okj/KLMv9IqGreoZs6cqflG3b17l3+j8kUul79+/Zpl2S+//JJ7CcnJyW5ubj4+Ptu3b9fjhGAFgoODhdWCjKYwsLt3pY7AmEQfC+b0A1isWDHhcD0fH5/jx49LGA8AiDD80IqYmJjDhw9HRkY2atSofPnynhq3PzIyMiIiItzd3YWJy/v375VKJT+tVXikqJGyprgK+xE5b9++LV68uK2tbe6xHj58+N27d0WKFPH19dXcf0lreETEsuzbt2+FQ/SELl68+OjRo1q1agUGBoqeKPTkyZNbt265ubm1atXK0dGRiBISEuLi4kSn1fpucAefO3fuxYsXPj4+fPb85s0bR0dHLhMViY6OPnToUFRUVEBAQJUqVUQzgjMyMqKjo4sWLZpTwLm/UfoJCwvz8fERzkQ+dOhQ587a9qIB63X06FHh14aGDRteuXJFwnjUiPrgrW/QmPAF+vqK14uW1LBhw7Zt20ZErVu3PnnyZE73QwBAEgxG0UK+tGjR4vz583y1V69e8+fP12XNP7B0ly5dEq2joVKpzOiXujCSdu3I+jqWzDuXjYiI4IdBA1iSV6/Zg4cpLZ35fJLUoRiLLO9DAATOnTtXp04dvrpv375atWphT47CQHOdZDPK80SqVpU6AiPI676HtJDngQGcu6AMrKVs0sqol1B16KZs0opdmzmfTDV1unLCFOVUw+wWkQtlk1bKwFp04ZKxL6QJqR7k282bN1mWXbFihbe3NxGpVCpuT47vvvsuKSlJ6ujAWA4ePCisimYOSSxrFd9MgwZJFIcxifbMMHtYYA+IiP3vsIJx0PqH3f232qFKlaJlO/bRY/byFTp/MYfzFZSiZTvV8RPs5SvK8Vnj8vXaIiG/2CPH2MtX2EePlR26muByIkj1QE+ff/55aGho0aJF+ZbZs2cHBARkZGRIGBUYj51d9lbi3t7eo0ePljAYsfv3s8sMY7ar0BVIzZpqVTO7gSvy7bffChcWhcIr53s+ygFDKEiwbJBcxvCTBMqIh7xrpRo0XFnUS+lZmv1ep/XIiIgx/jJMqkHDlXZFlJ5qL4Hx9s4s6fbSDAupHujP2dk5Li6OZdlBgwZxM7jDw8Pt7OwYhhFuywbWIS0tjWXZefPmubm5BQcHC5eNlN62bdnlnj2tZ/dboWHD1Kr//CNNGLk6deoUt/7o/Pnz37x5k5KSInVEYC7kPy23iXpn8/yJzfVLTONGXKOieh2lt0/2MZFvbNhUGzaV/Hx1OSd75hybkMBGR7OXdZ0fxl/Chk3N5yvQFXvmHJuRwUZHq7XWrsldVB4cZKTr5gKpHhjAjh077qovddGmTZs2bdpIFQ8Yz8KFC1+9eiXszTULwl69GjWki8OYSpQg4Xg4s1xc5h/1BHTr1q0SBQLmx8WFPIqRbzmqV0d+4bR8/tdcMxsRIW1chQFSPTCMatWqsSzLsmzVrBHxp0+fZhhm0qRJ7969kzY2MKwiRYpIHYK6kyfp/fvsqmhjCWsi3INu82bp4sjRTz/9JKx++umnmlt+A5CMYb6ewzTMXAtMNfHzzEKPvtwwvuwj09JFI/xUPfoSkWrO1wrGgc36wVf9e0D4RP487IrVSpmj1oeUXhpLsN24pfSpILwWvXzFP6hs1CLzibWzd5NXNm6Z2ViviWZUWkcoqqapLzv/+o2WUYxLfiSFkj8kM5hzFyj0mfAwZf2m9OatTu+3LgcB6O7evXvr1q3jqz///HP58uVjY2OliwgKRKlU5n2QtET9Wzkvxm7xhPuVv3hBcXGSRaIz/fY0gsJA9u28zNLjJzkdo5r4maiFvRdERKTboHDVlzN0X1FO2bIdq75hmLJ5W3r9Rsen6xpVZBRfZP87rKyuZRV65ZyvlK07iBpVR44p66std8XeuKnsrWU7Bk1I9cDAZDLZ2LFjuZ0/uEWeU1JS3N3dGYbZsmWLBeQNIJCYmMht3FyvXj3zXYNz0ya1qsx6P9ZEu+yYZcfeZvWojhw5IlUkYOaYTpnZjOrUaYqL1zyAXfe7asNGImLKluUH2Ml+Wk5Esh+X2DwJ4udYyNq0tnl0z+bRPfEZWJaxt5dv2yT7QpwyarlccjJTs4aNKtXmYea3R/b1a2WtfGxDIPtxic2je3xUXEj8H83jld17sXFxRCTr3DHz1c2ekXnpCxcpWW2oq2rJD+yHD/L1v9iEv2aqVM487PoNnQLT/TUA5Iurq2tSUtLTp0979erFtYwYMcLGxqZx48bnzp2TNjbQUUBAQExMDBHdvHlTJpPJzDOLEg7Us26C/ceIzDTVGz58+Pz584Uton2TAbTQ2rGXtSMU+/o1P1eX6d4l89GK5bN/Ioq4UOWKVLmi6ATyn1fJU+OYIQNly77PMwSbiDfyO9eIIapSSb5iaealY2Ly90IqV8yOiguJ/5P5AjKXI2VPnckM8vvFskP/cmXZ4gXyA/syD1i+SnhixsnJJuwl88koKu4lf3iHz/Z0YZYf3GBFypcvv3fv3pYtW/ItV65cadmy5b17Wr7igLmJUB8x3adPH6ki0ZV5JqNG8uCB1BFoN27cOGF1zZo16M6HPBQrptnGtG7JZGV7iup12C3bKT1/i3kxEz7Nx9Fe2euwMG1a5etC+gh+mnmtxg2FzUzTzI3s2Wfqmx86OVEJ7+zDNPaYzUVh+lgE6Zw5c4Zl2W3btpUvX55rqVmzJsMw06ZNi4yMlDY2yMnatWuF1W7duu3Zs0eqYHTVr5/UERiZcIeStDTp4siNaOeM169fC7/sAWS6nXmflClblipoG2JbprQ8KYbJ+uekHDFaYV9ENfsrU8Tma/RVIVl+meiKatvck7tb5gGhz3J7fhEX3a+FVA9MZ8iQIY8ePSpRogTfsmzZsoCAgMTERAmjAq0yMjK+++47Ycu8efNyOlhKohGEtWtLFIep+PtLHYFOWrVqJaxevGiszQ/Acqm+z7xJyrRqkcth8udP5KtX8FX2+6XG20sjW3jOS8CkpxvmEmWzpgCLrpWYuekUU95gM8yQ6oFJ2djYhIWFsSw7efJke3t7IkpISChSpAjDMLt37zbfgf+FT+XKlUVbGzds2DCng6X0559qVbPaw8MYRo6UOgKdnDx50s/PT9gSFhYmVTBgjq7dUO3KvEsg2/hbbkc6OTKTxtuwqUypUkTEsqzq6wWZD8nl3P/ZkNCCR8QuXcmXVTNmix7NTryEwwqvXtNyoqyocse0b5t5rUVLhO2qr77NPKBrZ13OowukeiCNn3766enTp8Jh/gMGDKht9V0yluPZM7V7B+Z7A+7Wreyyjw8Zf9cjiYl+Rp4/z+E4iclkssmTJwtbfv31V6mCAfMSn6Ca87WyieAjRZ5DKvLgEd0VTLryz/ryUDLr1lDpUpmFR48LHpdy+ix2eebCkKp/9nMFhl8uPuuirEpFShURsat+1t49wUcVFa3l0SxM3TqZJ/z3AHswa6L6pSvshk2ZB3TppMer0AqpHkimbNmySqWSZdlmzZpxLXfv3mUYZuDAgY8fG+DnFvQm2uSgSZMmZ86ckSiWXLEs/f57dvWTT6QLxVS6dCHv7KHZai/fzEydOlVYXbhw4caNG6UKBiSnHDU2c+1fVy/Vkh9YpZKI5KtX2Khy3KBM9d2Pilr1sxcWvnCRiBhPT9n3/+MOkH0yiiuwKpV47WX9gvxyhvA8jIOD/HHmDELZ94uZrDU7FTZOCsZB+fmXWqfB8lEpvEorGAeli4f2i7m5MuXKERGbnq7s1jPzZTZtxSYkEBHTtAk52Bfw5WSHZKgTAejt/Pnze/fu5au7du2qVq3a27c6LQIOBqdUKhctWiRs+frrr6UKJg+hoWrLCNepI10oJiR8mbdvSxdH3hjBJJKlS5fy6y5BIZLz5jqymdOYSeOJyelx7YPV5H/v5Ee5MSNHMJXEC6zojWlQX3yto/9l9yDKGNnKpeID9u7Wcp6RI9Tqjo45XVF+7CDTpLFmu2ziePmxg3lHrDMGo6PAfKSlpZUpUyYqKnsx8WXLlo0fP94x5x8VMLjKlSs/eaK2xpX5fkrMmEE//phdNds4Devvv6lv3+zq27dUqlTOR0vp9OnTGzZs2LZtm9SBgOUIe08ODvwsVCKiB4/YJ8HEsky7NuSqbfftyCgKfsrGxTM1q2ffPE1MoowMtfPwNB+K+UDOzmRvR0TswSMUHs4M7E9OOfzeCY9gz55nWjTLXPpEoaT4eCrmrhkVe+oMFSnCdOmYfZW0tOzcUT0k9t8D5OzMfNSNZBrJb2ISJSRoeaLme5UDpHpgXuLj40uVKpWUlMS3lC5d+uXLl3LdBrpCwQl7Yoiofv36165pG3psDlq3JuGd5ULyafb8udo83AMHqFs36aIBAHOHG7hgXooWLZqYmMiybJ8+fbic4+3btzY2NgzDXLhwQerorJ9olF69evXMN88jIvMcQWhs6jNbaf16ieIAAMuAVA/M1F9//XXjhtrufs2bN+/c2WCTz0Gr4OBgYfXbb7+VKBDQ2c2bUkeQD+np6Q/MdZMPAGuFG7hgASpVqiRMQWxtbd+8eSNakR8M6PHjx1WrVlWpVOb++SC81zxgAO3cKV0opqV+k90i7lxPmjRp48aNycnJZM6jPwGsEXr1wAI8ePBgzZo1fDUjIyMgIEA0SxQMqHLlyvfu3ZszZ47UgeQqQ303zPri2XPWzM1N6gjyIT09vVevXj///DOX5wGAiaFXDyxJTExM6dKlU1Oz12H6888/+/fvLytUm9wDZ/VqmjIlu5qQQC752BTSslna1ONjx4517NiRr7Zr1+748eMSxgNQqCDVA4vUrVu3gwezlx1q0aLF999/36hRIwlDsnRt27Y9efKk1FHkh58fvXiRXS1UH2UvXqhNzti7l8x+yTrRzG786gEwGfSFgEX677//Ll26xFfPnTvXuHHjR48eSRiSRYuPjz916lS3bt3u3LkjdSy6ef9eLc8rbHx91arqE5jMU+nSpYVV0c57AGA8SPXAUjVu3Jhl2T/++MM369deYGAgwzBz5sz58OGDpKFZmKioqDJlyhDRwYMHa9eubWNj8/LlS6mDysvy5WpVjxy2Hiokfv7Z/Ds1Hz165CYYYli1atWIiAjpwgEoRJDqgWUbOXLkkydPvLy8+JYlS5b4+/unpKRIGJVl+e677xISEvhqjx49ypUrJ2E8Orl8Wa1ayO/dx8WR+gYnZqhIkSITJkzgq6mpqStWrJAwHoDCA2P1wHqMHz9+w4YNGYKJmfv27evZs6d0EVkGixxEJVpt5ORJatNGolAkIhqqOHEiCWapmy2L/McGYOHQqwfW49dff338+LHwd0mvXr0aNGggYUjmTzRkytbWVqpI9CeTUSH8Wxa95KtXJYojf0Q7HAq3QAQAI0GqB1bF39+fW/iXz/CuX7/OMIxMJgsNDZU2NjP06NGjChUq8FVHR8cXljjX4ZNPCtEyKzzhQjNkGTMziOjevXvCL2MBAQEYa1Eo3LqjYBwUjIPUceSI/XU9u3IN3bxdwPMoi5VUMA7KWg1IqTJIYAaBVA+s09WrV3cK9k5gWbZKlSqff/65dBGZo6+//lqlyv48mjhxYqlSpSSMR1dhYWrVxo0likNSdeuSBXbBBgYG9hKsCxMeHv7rr79KGA+YhmrZyryOYEnSm/nKCVOUU6cpu/Ys6IlYlojYu/fYfw8UPCpDwVg9sHIpKSmlSpWKjY3lW1avXj127Fg7OzvpgjIXljpwavp0Wro0u2opYRvclCm0enV21XLeB0v9hwd6Uc39RrX4eyJinJ3lidHCh5T+Vdjnz0XHM/Xqyq9fNF18RETE9Tgynp7yyDcFOQ+7919lnwFc2YZNzf1gk0GvHlg5R0fHZ8+effHFF3zL5MmTK1asKOzNKpyuXLkirBYrVkyqSPJNsKRioSaad2z+S+Ro4ydcCxqsEfv7Rq7AdGwvbFfN/kozzyMi9sZNU4RlHEynDoyjo9RRiCHVA+vn7u6+bNkylmX5NZZfvnwpl8sZhrlUWJOGs2fPNla/7/nq1SupgsmfCxeQ6mUaPFitKtwqzbxdvXq1TJkyv/zyC8uyWEvZ6rEREUTE2NrKNqzLbjx1RvVd5r9Y+feLbS6esQl7aXP2BOPkJE2UhuLkKFubNRf+mrmMoEWqB4VI5cqVRV1ZTZs27dOnj1TxSOirr74StTg7O0sSSb5duKBWtcDxasZy0dT3vPTWoEGDkJCQ8ePHSx0ImA7TqiW5uWZWlCrV59My2/38mBlfUJNGVMKbWjSTBwfJeveUKEbDYLp35Qoqsxmuh1QPCpeGDRuyLKtSqfjbRnv37mUYxsHBISYmRtrYTOn8+fPCqiUNjf/+e7WqaCJqYXbnDh09KnUQurK3t5c6BDAF9t//uAIzcjjfqKxWm70fRESyYUPkz9Q3tCxdSvZ31oy6Fy9V7btyU3f5P0o3b3b9BuEzMttrNxQ2Khu3VDAOynpN1II5c058tnIVRQErGzRTO6BBM65d9fUCvlHtnP8c4BrZQ1k/fe5umQ+t+MlM5uEi1YPCiGGYx48fLxdsrpWWlubv7//DDz9IGJXJxMXFCau+vr6jR4+WKph8E8ywISJq3lyaMMyE6G6XegZvWaKjo/M+CCzOnbuZhZIl+Db2cebmLrIvP8/lqaovZqhOnBQ1snFxqkm5PSsn7K/rVW06ihtFA1fi49nrandd+aqsUwftp937D1dgmoj37GFTUij4qR6hGhxSPSik7Ozspk6dyrJsREQENxs3Li5u5syZDMNUrFjRuqcEurq6sizLsiw3XC8kJMQiV04moipVqEcPqYOQ1PTpatVlyySKQ3/p6ene3t4Mw5QoUeKJ2W/vBvml4jOhenW1PFyzem5P9vRkihSxefbYhk21YVNtEmOYalWJiBVsiaQ75YQp3Ae7rHdP7oSy4UNFx7Dp6Uz58vL1v9hcPMNUqZz5EsZOJCJq0ki+aH7mYb9kDjpkT55Wbd2e+WT+9rTwhFkvX1pI9aCw8/Lyevz48cCBA/mWp0+fNmjQ4MyZM9IFZSKXLl06dOiQaAMDS9KihdQRSE3UqZlqLos76Gjr1q2VKlWKiIggIoVCMXv2bKkjAkOLzbqH4JLv0cCyNSvlEW/Izzez7uwk+yTr/kN4RP7OlXU8U6WybM+fmeff/LvN5XOiA+XnTzKfjKImjeR/Zd1HfvU687nDMidCqXbs4grsvv2ZDzloXx2aFd2FkAhSPQDy8/P7888/WZbl07sbN260bt1aJpOFhIRIGprRde7cWeoQ8mP9erXqvHkSxWE22rYVL7liUR4+fCjcoGXfvn3SxQJGoGLp9Wv9n25nSw72RETPnrP79rNLV7L87eBnWlZpyQX73yGuIN/0O8kEyzo2UttgkPH0pBLemZXAzF499t79zBafspktFy+x3y0lItXPmaOcZZt+137hl2axsgFSPYBsLVu2ZFlWoVCULl2aiFiWrVChAsMw33zzTXx8vNTRFZRSqQwMDLTIrc948+erVcuUkSgOc/Ltt2pVixqut2TJEuGQWSKqUKFCenq6VPGAgckYyqG7K1NScm6PBocoS5RTMA6KgCrK3v2V02epNm7WLxD21JnMUoB/vp8sWIRVNnokV1DOzv6eKevflxnQV/tzzWPtGKR6AGJyuTwkJGTx4sV8y4IFC/z9/dPS0iSMquC2bNny6NGjihUrjhs3TupY9PLkCb17J3UQ5qdpU7XqqVMSxaGniRMnCqshISFr1qzJ6WCwPK5aRrAxWZsVsfxAN22UbTux4eFcWfbZJPmKpbIxo3I8OvdvCHxf3buw3A7Li+zjYdmVJ5lTLpgB/XJ8gmvRglzOUJDqAWjh4OAwe/ZslmVHjRrFDWWLjo52cHBgGObQoUNSR6enUaNGEVFGRsa6desYhmnVqpXUEeWTaC3AgACJ4jAzLi5q1cWLKTnXnhIzY2dnV79+fWHLl19+KVUwYHBM5UqZpecv+Eb+dqdy/GTVtFni51y9zv2fffOGiJgSJWzYVNnKpcznk5ge3XO80uMn9OZt5hN/30hXr6mF0b4tV1DN+0btWfEJur8WIqJmTeQLMs+gbNoq8+S9c5wclv3yJYVUDyA3GzZsePDggbCla9euzZo1kyoevWneFJszZ44kkehP1F/Vpo1EcZi39HQ6Jx5pbuZE93CJ6PHjx5JEAoZXvVpmQdCdxgzszzTKXAZPtWwlPQ3lH1INHqFsrD7dKj6e4uKJiBRKds/fOV2HValUs+Zxh6nGThCtosDUqZ152MHDLD+p4sAhZaVcpwBrwwwfkvl0HZYHYmrk+/zGgFQPIA+VKlXiliapVasW13Lx4kWGYeRyuaVsJpaamiraafTUqVMdOmhfJsp8CT9YGYYWLZIuFDPTrp1aVbQCi9lr1qyZaHu0KlWqHD58WKp4wIBkfGJ0XbCzLUPyy2eZrLn/iopV+dWJVX/u4rM0xtaWiNjkZIVbcaVnaYWts2rLNs1LMFkd/KrtfyoYB4WtM8uy/FIpmYp7Me7uRMQqlcohIzKXR/6oN/v+fb5fUjkftRf48fCcDmT8/Khp45weNSWkegC6unXr1pYtW/iqSqWqWLHidEv4tbp27dp36qPcWrduLVUwhlG9OhUvLnUQZkOUtQcFSRSH/kRfRYho6tSpkkQCBpbVq8deuix6RH7htNZnMFk7qcgWL+QbuS40pmEDzeNlK5cyjo5qLZMmyPfuFl/uv32Mxj8z/TCCURNaJmSkZd5CYRo3FD8kEca6l4oFMIbExMRSpUolJGQP8ihRosSrV6/MdiFihmGE1fbt2x87dkyqYPR06BB17ZpdPXpUnN8UZixLJUpQRIRai6VZv379p59+KmyJjIz09PSUKh4wFH4nMfmh/UxnbT+2L16yDx6RkyPj50u+5cSPBj1kQ0KZypWockUiotg4Sksjb41veuER7O07TK2a2TMwwiO0HEZEL1+x5y5QCW9+AB8RUWISZWTwe5plNyYkCPf5yHT5qqJJSyKSfTJatv5n0YOqTyaofv+DiGziIqloES0BmBxSPZ08ePDg5cuXHh4ederUMdtf52BKUVFR8+fPF04VLF++fHBwsCipMgeJiYlFiqh93Fy+fLmRxS3GNnkyCSdmJieT+vf4wm7oUNoumMyoUJClrYytUqnq1q17584dvuXTTz9du3atdBGBYShtXViFgohkn34iW7ta6nAMQDXqU27ZF/nJI0ybVuqPscqS5diICCKyYc1lSfPMVO/3339PSkqqW7euJY43N6yFCxd+/fXXRNSsWTN+S3j+93ePHj3++ecfqWIDM3T//v0aNWoIW65fv16vXj2p4hGJi4vz8/P78OED33Ljxo26dbXtUGTOHj2iwEC1FnxHFYmKIi+v7Oq8ebRwYc5Hmy/Rl6Uvv/xy6dKlUgUDhnHxsqJZ5ogR88l+CoLvp9R8Oarps1VLVxARU6aM/LW5rMAvI6J379598sknn3/+efPmza9fvy51SBI7lTXL79KlSxl6bbQHhUr16tXPnTvHbSbLadCgwaBBgyQMSWj58uXCPI+ILC/PI6IDB6SOwOyJbnT+959EcRSUg2DF3d27dyPPswZNG2sdY2eV+K3SZJMnSBuJkIyIhAvDplraFoois2bNYhiGYZivREtw6ax69cyp0bhXCzpq3rz5pUuXFApF2bJliYhl2Z07dzIM4+zsHBcXl+fTjWrBggXCav/+/aWKpEBEW6Ni3bU83blDv/4qdRD6iIqKKl269OvXr1mW7dcv55VpwaLIL5+TL/9R/pN4VR2LFPNBNmKYbNIEm7CXmg/KliyUL//R5vY1ZsYXpg8tJzZSB2BgfNqqd866cOHCN2/eZGRkYMV2yBe5XB4cHLxq1apZszJXBE1OTvb39583b55UcwnDsxaa58hksm9Fm2hZCsHGREREH30kURzmrVQptd1EDhyg8eOli0ZPzs7OQUFBbm5uUgcCBsUQM3Wy1EEYSDF32abfcnqQ6dfblLHoCIutiLm6uu7du/fAgQPlymnMAwLIlYODw8yZM1mWfffunY2NDRHFxMR88cUXDMNUrVrV9PGI/g0/efKkSpUqpg+joEQ9o8OGUYsWORxauIlmMFjsunSaeZ5SqZQiEAAroWuqx7Ls6dOnW7Zs6efn5+rqWq1atUmTJj169Eh02Js3b4YNGzZ69GgiOnr0aPPmzd3d3fv06cMf8P79+yFDhtSrV69KlSrdunWbleXMmTOiU61fv37ixIlubm5+fn6zZ8/+++8c18jmhIWFzZo168KFC1z13Llz3Jn/97//8cecPn16zpw5fn5+Li4u1apV69y5s+ZLiIyMHDly5PDhw4UTwXKyZcuWgQMHFitWzNfXt0ePHrGxsXk+BQqDkiVLPnjwoHfv7K93Dx8+bNq06XnTbkVfubLaIqLly5c35dUNRjRQr1cvieIwe+3bk7Oz1EEYXlxcXLNmzVSinl0A0B3LssJlys+dO8dq2L1bvBQhr1+/fsIjV65cybXv2bNHdJXcV3Xx8fHhTzJ27Fitx7i7u2sNj5PL4LzcXwIfnugl9OjRg2/kj+Qbg4KCnLV9qh48eDCnCKFwOnr0qPBfiEwm+/jjj012dYVCsXHjRiKaPHmyyS5qSHFxrL09S5T9B3Kxdavae7Vvn9QBFciFCxfq1KnD/eB4eXlJHQ6ApdKpVy8kJISIatas+fjx47S0tIyMjCNHjnAP7dmzZ+DAgZpP4YbT2tnZOTs7c5Pn+Q2tr1+/zrKsUqnkk7MlS5bwvXGxsbHr168nIgcHh+3bt3NRVqtWjYg+fPjQIucbNxMnThw5cmRg1ooM1apVGzly5MiRI7mNPvmXsGzZsrS0NJZljxw5UqZMGe5grS8hd9WqVUtKSuJeFxdkZGRk+fLluYH5ALwOHTqwLJuenu7t7U1EKpVq06ZNDMMULVqU+ydkVHK5nMssf/rpJ2Nfyyh69ybBvDGr7LUypKFD1arDhlFKikShGECzZs1u3brFlSMjIzVvwgCATlgdevWePXt2+PBhUSP/lHr16vGNfJcYEXXs2DEsLCwtLe3+/fvp6en2WVud8Afzwy9GjhzJN06bNo1r/N///sc33rhxQxhwLj7//HPusGnTpolewogRI0QH8119Wl9C7r16fIswTl3s2bMnX8eD1UhMTBTNivD29k5PT5c6LvMmk6l1Uw0eLHVAZk/4dhGxf/0ldUD669Spk/DnpX379lJHBGCRdOrV8/PzE/3ICQnzMJ67u/uRI0dKlChhZ2dXrVq1N2/eCJd04chkmVePjIzkCjExMfwqSlxvHKdu3bpdunThyqJdsXXk5+e3adMmUWPfvn35l5Cenq7HaYlo7ty5u3bt0uXI4cOHMwzTr18//vVCoeLs7PzNN9+wLPvixQvuH394eLidnR3DMMePHzfghU6cODFz5syYmBgDnlMywhFaXl60ebN0oVgI0fTk4TnuxW7+Dh8+/KVgYZ3jx49rbpULAHnK32IrBw8ejIiICAoKynP+gehOq6+vr7Ozs+h21bVr17hCrVq1uAJ3m1XrGR4/fswVQkND/f398xW2UHh4+KFDhyIiIoKDg/U+CRE1a9aMv+k8cODAGzduTJo0KfdJuy5ZGyT37dv3xIkTWLSv0CpXrtzdu3dnzpx56NAhrqVDhw6tW7fml+8uCJZlZ8+efePGjXXr1r19+1briFKLcfu2WrV/f7KxtvWhDK9/f9q/P7uanCxdKAbw9ddfL1u2jK++ePFCulgALBarww1chUKR50k4Wu9+csLCwvJ8+g8//JBnwGFhYbn0UuZ0A1ehUOS+Gic3gC+nl8AfJmwMDQ0VnaRGjRqxsbG5hCdc5yyXw6DwEC3CYmNj8/bt24KcsGLFisITbt682VChmlpaGuvhgQkZ+ujVS+19i4yUOqACadiwofCfdO/evaWOCMDC6PQVecyYMXzZw8OjY8eOLi4u3OQJ3SUmJmptb9KkCV/m50kQ0YwZMzQPlsvlJUqUyNd1OWPGjOEnBXt4eNSuXdvf359hmHXr1ulxNo6/v//+/ftXrFhx+vRpruXevXvTp0/P5Z0pXry4k5NTcnIyEZ07dy6XWSZQSNy7d2/Tpk3c+kREpFAoypcvP3XqVOEiQfki6q4eMmRIQUOUyv79FB0tdRCWacAA2rcvu7pjB02ZIl00BbV69eoGDbK31dq7d+/x48fbt28vYUgAFobVoVdPeLBmI+nQq8ffqCpWrFhUVNTZs2fv3r2bmJgoupBwEFtqaqoeqSvfqydaz4I/7YABA7S269GrJ8RPOiEd+h74I2vWrJm/lwfWKzY21snJSfhjVaZMGYVCka+TiBJE4XwjyyOakNGli9QBWRTR5AwLp7mostQRAVgSE+2Wwa+QnJGR4eHh0aJFixo1amiOIvL09HR1deXKq1ev1uNCxYoV4wrXr1/XeoBwOF18fLwel9CqZcuWuh/cvXt3rnD37l1DBQCWztXVNTQ0VLio5Js3b6pXr/7vv//qeIbo6GjREIglS5YYMkQTEy2ZO3KkRHGA9ERbORPRO+EWcACQK3Gq16JFC0bdlStX+Ec7d+68efPmuXPnlipVKl+X6dWrF7e6XkJCguj8tra2T58+5Y988+YNV5g+fTrDMJMnT161atX06dO7d+/OHZ/7hfiU68GDBwzDODg4iJ7yww8/bN68+cyZM6VKleLTSj1wwcyePXvz5s1r1649duwY116pUqU8n7t//37+JctkMt1/l4N1K1GixLp161jB6kKPHj3q2bMnwzDdunXL8+mlSpWKE+whxjBMu3btjBWrsYnWPJ8xg7Lmy4NO5s9Xq2athGqhJk+efPbsWWFL6dKl+ZEzAJAHVv0Grqa9e/c2btxYs12YQvGdhLlMy+CW7NfKxsZGeGSeAedC6wwSlmW1vgSh/N7A1XoSuVyuuQBhTuRyOfesIkWK6PgUKDyOHz9et25d4b+u4cOH5/4U0b/GQYMGmSZUo2jWTO3+49OnUgdkaZ4/Zxkm+w20iqkMon/hgYGBUkcEYBlkROTn5+fo6Kg1d3FxcWnYsOGlS5dGjx7NpyZFixYdN25caGgo9yzh/hABAQFcQbSr+s6dO0dm3X+5c+fOjRs3Tpw4wS+hp1AoNmzYwB/MsmxsbKzm4Iw+ffr8888/WuPkyeXys2fPCichcuN5L1269Pr1a/4lENG4ceOSkpL4l2CTtYiD1pfADcVjGIZv3LNnjzB9lMvlAwcOVCgUuSxAKKJQKEaMGEFECQkJ7du3x37eINSuXbsbN25kZGT8/PPPXMuWLVu4PTa0znASTfH57LPPduzYYYpAjSRrJaNMFrp7r4R8femPP7Kre/fSokXSRWMY/K8MIvL19bXs8QkAJsSwefWi8SIiIg4cOGBjYzNs2DBuAdi0tLS4uDgPDw9hCvX+/XulUlm6dGnhcz08PLgFXQMCAoSL59WuXfvOnTtENH78+F9++UV0xejo6EOHDkVFRQUEBFSpUqVChQo6hqpUKk+cOPH27dsmTZoId3yPiIh49OjRixcvGjRowCVtaWlpMTExxYsXz/0lZGRkREdHFy1aVDRw/vDhw+/evStSpEjbtm09PDx0DI+Xlpbm4ODAlSdPnmypW1eBkS1atGjp0qX8zdnixYt//fXXEydO5A/4559/evXqJXxKZGSkp6enSaM0oPBwEk609/Wl58+li8ZiJSer7SNXrhxZ+KJ0CoWiVq1aDx48sLe3//DhQ049FAAgko9Ur0CXybrb27Vr1//++49vr1SpErc2xD///NOjRw8TRGJurl271rJly9TUVCK6dOlSnjeaodB69eqVn5+fSjBZoWbNmtw3JdGAVB8fn5cvX5o4PINJS6Ny5YhfgdLZmd68IY0+ftCJaHCzST7tAcDcmGgGLu/gwYMHDx58+vTpzZs3f//9d34NsObNm5s4EjPRoEEDfh2+3r17v337Vtp4wGz5+Pjcu3dPOD/j7t27rVu31txUbfHixaYNzaC2biXBSuM0YgTyPP01a6ZWff1aojgAQEom6tV78+ZNy5Ytc5r/sW/fvp49e5ogDLPVqVOno0ePcmXT/I2ARdu/f39OveBnz5617KW50RFlQGlpVLp09krUnp70+jVlDRqxDlFRUcOHD+eXbgUATSZK9XjR0dG3b99+//59iRIlypUrp/vwO6v3+PFjbvigTCY7ePCg7tM7oNBKS0srU6ZMVFQU38IwDD/ZyCJduULCMQz16lEOC2SCrkJD1Sa1BAbSgwfSRWNI9+7dq1mzJlcuVaoUbokA5MTUqR7kQi6XcyOxXF1dY2NjpQ4HLEB8fPwPP/wg3CSjdOnS8+fP53daszA9e5JwmcmdO2nAAOmisRbW2FG6cOHC+fPnCxcuwO8ygJyYeqwe5EKpVA4cOJCI4uLiunbtqhLtFgCgoWjRoosWLWJZNiQkhJuc8fbt2zFjxjAM06hRI6mjy6chQ9TyvJ9+Qp5nGLVqqVUfPZImDIOaN2+eaBJbvXr1sGQVgFZI9czLH1lLYR06dGjmzJnSBgMWJCAg4MaNG8LtMa5evdqlSxcJQ8q3XbvUqhbaMWmGpk5Vq65YIVEchsQwzNq1a4UtN2/e1G87TQCrhxu4ZufixYtt2rRJT08nohs3boi2TAAgooyMDDs7Oycnpw8fPtjZ2Yke3b179wBBf5itre2bN2+KFy9u2hjz6e1bKlMmu1q0KAk2eYOCEt3D/eILWrZMolAMyc/P74X6YoH4jQagCb16Zqdp06Zr1qzhyj179gwXLjwBQEREy5cvJ6Lk5OTq1avzc7d5/fv3//XXX0uWLMlVMzIyAgIC5os2RTU333+vVhUsEA0GIJqps26dRHEYmObC+3///bckkQCYM/Tqmak2bdrwm3nj7wiEevbs+a9wTBtRenq6ra2t5pExMTGlS5fmFujm+Pr6hoaGcrvdmJHPPiPRVjH4N29Yr19TQABlZGS3xMdTkSLSBWQw79+/57/VcPCBCSBiZp/4kGXPnj1+fn5cedWqVdIGA2ZFlOcRkdY8j4iKFSv29OlTfvtpInrx4kXt2rUPHz5sxPj0kLWKeCZ7e4nisF5ly9KwYWotv/4qUSgGVkK4hx4REZ07d06SSADMFnr1zJpMJuP+gkJDQ/39/aUOB6Q3efJk/v4+Ebm5uT158kSXcXiXL19u0qSJsKVXr1579+41fIj5FRZGpUplV+3sKDRUbdweGIpoxN4PP9D06RKFYkiPHj2qVasWN76ZM2fOHOEKRACFHHr1zNq3337LFXr06JGYmChpLCC9q1evigYnLV68WMf5Fo0bNz5w4ECNGjX4ln379o0ZM+bNmzcGjjK/RNu4jR6NPM9EROMjLVaVKlXmzJkjbPnhhx+kCgbADKFXz9wlJiYWyRpSg7+sQo5R75WxtbUV9mToKD09/ZdffpkqWIDDzc1t1qxZ0izu88kn9Pvvai34R248N29SvXpqLdHRVKyYRNEYGL8EPWfJkiWzZs2SMB4A84FePXPn4uLi4eHBlTG5rDC7d++eqGW6Xnff7OzsPv/886+++srFxYVriY2NnTVr1m+//VbQEPWwaZNaFaP0jKpuXerVS63lxx8lCsXwJqrP2v7w4YNUkQCYG/TqWQa+O8fX1/f58+fSBgOSEHXpnTp1qnXr1gU857Nnz+bNm/fnn3/yLfXr17927VoBT6uroCCqXj276uREz56Rt7eJrl5oiUbsTZpE1rLy8LFjxzp27Dhjxoz58+c7ODhIHQ6AuUCqZxk++eST37Puc2VkZNjY2EgbD5jY/fv3hcPsyKB38zt16iRcnK9jx45LliypXbu2oc6fo48+ogMHsqszZ9J33xn9omBrSwpFdtXGRm0RFgtXvXr1+/fvSx0FgHnBDVzL8Ntvv71//54r29rarhctTgFWbe7cuaI878iRIwY8/5EjR1iW3bNnD1c9evRonTp17OzsJk2aZMCriDVvrpbnESHPM5HQULUb5QoFnTkjWTCGhjwPQBN69SyJk5NTSkoK6TseHyyUjY2NcB/3kSNH8nslG9b69evnz5//7t07vuWrr76aNm1a0aJFDX8x0W1ELy+KiDD8VUCrGTPURunVqUM3boj/RqzFxo0bhUtLAhRC6NWzJMnJybNnzyaijIyMOnXqJCcnSx0RmMKrV6/at2/PlRmGMVKeR0Rjx459+/ZtTEwMP+Fj4cKFrq6uvr6+W7du1Tx+9uzZDMOI9irQiegl+PqS5Gu+FCqitUhu3SIfH4lCMaIdO3YwDDNq1KgFCxZIHQuAlNCrZ3mqVKny+PFjroy/vsLjwYMHvXv3vn37tpOTk2mu+Pjx4ypVqghbmjdvLtyKYMKECb/++isRnTx5sk2bNrqed8EC+uYbtRalksxtrzart38/9eih1hIcTBUqSBSNgbEsK9r9r2rVqkFBQVLFAyAtpHqW5+nTpw0aNIiNjSWiAwcOdOvWTeqIwESeP3/Ob5dnGlevXp05c+bZs2f5lh49eixevDgwMJCIIiIivL29iahSpUr37t2zs7PT6aRFipBoPXB8CkmidWu1UXodO5JBx4BKi9G4H41fdlBo4Zu05alQoQK/ZFT37t0rWMsXcRA6fvx43759RY0mzvOIqGHDhmfOnFGpVNu2beNa/v3336pVqzo6Ok6bNq148eINGzYkoidPnri6uup0xnv31PI8mYxu3zZ83KCL06fVqkePWtNt3Pj4eNHPS5kyZbDYHhROSPUs1bCszctDQkKEY/bBOgwePPjvv/823RJ3uWIYZsiQIatWreI3YUtNTV22bNnixYvXrl0rl8u5Fp3O9fnnatVhw6hWLYMGC/nh5aVWff1aojgMr0iRIpvUF+h++/btuHHjJAoHQEq4gWvB3r17V7p0aa68efPm4cOHSxsPGMpnn332008/8dXo6OhiZrN7VWRk5MKFC1cLFt0tX758SEgIEZUuXfrRo0f8Pn5alCtHr16pteDzR1osS82a0aVL2S316tGVKySXSxeTIdWsWVO0zczTp0/Lly8vVTwAkkCqZ9kcHBzS0tKIyN7eXtduFTBvu3fvHjBggLCla9eu//33n1TxaDV06NAdO3ZofnpMnTp1+fLlOT5NNHyqVCl6+9YI0UF+3LlDouWyv/+eZsyQKBoDCwoKql+/vvCzsV69epcuXbK1tZUwKgATQ6pn8b744osVK1YQUYMGDc6dO2ePXUQtWXR0tKenp6jRbH9Iz54926pVK1GjSqXSHBFPRNS4MV25ola9eNFa13KzMD4+4lu3VjQnWnM2LsMwKpVKqngATM9KfpgLsx+zlkK9du3a2LFjpQ0GCkKhUPTv31/U+MUXX0gSTE5++OGHjz76qEmTJrVr1x42bJi9vb0osfvtt9+0P1OY5xHRL78gzzMX69aJW5YskSIOo2AYxkt9SCLLsvzmQwCFAXr1rMHDhw8bNWqUkJBAREePHu3QoYPUEYE+NDvD3r59W6pUKUmCyYn2Hjt1w4cP37x5c3ZdpaIWLejixeyW0qWxZrJ5iYkhDw+1lrg4MsYuKRIRjX8lom+//fYb0fqOAFYKqZ6V2L9/f48ePYjI3d09JiZG6nAg386cOdO6dWthi52dHTcQ06zkkurJZDIHBwcPDw8nJyd+lW8iou++o9mz1Q795x/x+r0gOdHf7ODBtH27RKEYXlpamoODg7BFJpNh7QIoJHAD10p89NFH3L2/Dx8+dO/eHSNRLIufn58oz5s8ebIZ5nlExOZMqVQmJSW9evVKLc+LjxfneRERyPPMUUKC2m4ZO3aQFQ38tbe3F27u980332RkZEgYD4ApoVfPeiQnJzdt2vTOnTtENGvWrCVWNNrGuiUnJzs7O4saMzIybGxsJInHwPr3pz171FrwmWO2btyg+vXVWt69Iz32ODZXo0eP/uOPP7y8vCIiIqSOBcB0kOpZGzs7O+7b6q1bt2qL1lAA86M5hMjd3f3y5cuVKlWSKiRDsrMjYd+Jvz/duUO5LLwHkuvcWbw92scf08aNEkVjeAqFwkq+RAHoDKmetVm3bh23InzZsmVv3LjBb28A5klz6NvZs2dbtGghSTAG9u4dZS3xnenKFWrYUKJoQDcfPlC9evTsmVqjVf+aePfunblNfgIwLIzVszaffvppy5Ytiej169fcVvRgzliWnTt3Ll9dtGiRleR5Q4eK87wePZDnWQB3dwoNFTfa2tKxY1JEY3Tr168vXbr056L9+gCsC3r1rNPdu3dr1apFRDY2NsePH9dc5xbMyj///DN48OD4+HgrubW0dy/16aPW4uxMiYkSRQP5p1Jp2Rvt9m1r2rD4/fv3JQXDEG1tbdPT0yWMB8B40KtnnWrWrMndGVQoFP369ZM6HMhDz549z5w5YyV53s2bNGyYuNGKBnsVCjIZNWokbuzQgR49kiIaozh06JCwmpGREarZnQlgFZDqWS2lUsmttBcVFdW3b19035qJ6Ojo6tWru7m5nT9/XtjeoEEDqUIypMREqlePkpPVGlUqwvcNi3P5Mj19qtYSGUmBgVpu71qmUaNGiVY4Kl++fNOmTaWKB8B4cAPXmiUkJBTNWu8eS8Obibp16966dYuIHB0dk0UpkaVTKqlHDzp4UK2xdm26dUuigKDA3NwoLk6tpUwZOnVKbQU+ixUTE9OgQQNRZ55SqZRZy/6/ABz8g7ZmRYoUOXHihFwuJ6Jvv/02KChI6ogKteTk5BYtWtzKyntSUlLkmsOhLJqNjTjPu3EDeZ5li42lEyfUWt68oYoVreOvtVixYiEhIaKBE3K5nN9YHMA6INWzcm3btl2+fDlX7tGjR3R0tLTxFGY9evQQ3bS1qj71P/4QtzAM1a0rRShgUG3bkq2tuLFNG1L/x2y51q1bJ2qZOXOmJJEAGAlSPes3ZcqUxo0bE9GzZ888PT2lDqcwUigUvXv3PiHqHSGynv3r7Oxo9Gi1lrFjyWpeHaSn07//qrXExVGLFrRpkzTxGNSoUaNGjBghbGFZ1tnZ+fLly1KFBGBYSPUKhb1795bOWuRsw4YN0gZTCPXr12/fvn2ixsWLF0sSjOHt3Uua24n+/LMUoYDRfPQROTiIG0eOJKv4Z/zbb7+1b99e2JKcnNytWzep4gEwLEzLKET4jRm8vb3fv38vbTCFRHJy8kcffXTy5ElRu5X83LEsaQ5gr1SJzp8nLy8pAgIju3KFGjcWN370kbjPzzJVqFAhJCRE2FK5cuUrV664urpKFRKAQaBXrxCZMWMGVwgPD09JSZE2mEKic+fOmnnepEmTJAnG8Pr21dJ44gTyPKvVqBFp7iG2fz+Fh0sRjYEdO3asRIkSwpbOnTvzixgAWC706hUucXFxbm5uXHnJkiWzZs2SNBxrFhMT06FDh5s3b4raVSqV5r63luePP2jyZPH6eT4+dPo0+ftLFBOYSmQkaW6u7epKsbESBGNojo6Oqampcrl87dq1Y8aMkTocAANAr17h4urqyt+MEG69CgbXunVrzTxvypQp1pDnxcbS6NHiPI+ILlxAnlcoeHlR587ixrg4WrFCimgMbMeOHXK5fM+ePcjzwGog1St0YmNjv//+eyJSqVSVKlWKtYov4mZIc9l9lmVXrVolSTAGEx9PMhm5u4vbhw6l1FQqW1aKmEAKhw6R5h2hL74ghqFXr6QIyGB69eqlUCh69eolal+6dKkk8QAUHFK9wogftBccHDxo0CBpg7FWP//885AhQ/jq//73PwmDMYz//qOqVbX8grexoa1byd5eiphAUtu3a/l7r1WL9u+XIhojOn78+PTp01euXCl1IAD6wFi9QurNmzf16tULDw8noq1btw4dOlTqiKxTmzZtzpw5Y/Hr561eTfPmUXy8lofCw7UM24JCpWpVevhQ3FinDm3ZQlWrShGQgdnY2CiVSq6MT0uwREj1Cq9Lly5xNxkdHBwwIdcgjhw50qlTJ2FLQkLCiRMnNG8GWZLLl6lJE+0PLVtGX3xh2mjA/CQkkNZpqvb2lJysZTkei/Lzzz8Lp8zL5XKFQiFhPAB6sOwfQiiIJk2aTJkyhYhSU1MbN26clpYmdUQWLC0tjWGYzp07F1fv4ipSpIil5nnp6fTjj8Qw2vO8b76h9HTkeUBEVKQIsSzt3StuT0sjuZwcHbWssG05hMMwiEipVNrZ2f3zzz8ShQOgD6R6hdqqVau4XXGvXLnioL4U/uLFi+vXr5+eni5RaJakUqVK/LsXGRlZr169xMREaUMqkBs3qFUrsrenrDGdalauJKWSvv1Wy76oUJj16kXp6TR1qrg9NZXs7EgmI8tctt3Nze3du3cVKlTgWzIyMnr16vXXX39JGBVAviDVK+yKFSvm4uLClYWbtM6dO/fGjRvLli2TKC6Lce7cueDgYGHLzZs3Z8+eLVU8BfX8OTVoQGfPan+0b1/67DNLvyUHxmJrS8uXU9YejGpYlipWpB9/NHlMBlCyZEnNhdAHDhy4detWSeIByC+M1QMiwZ5pVatWDQoK4lvKli37ysKXTjAelUoll8s129PT020tscfrq69o0SLtDzk705w5NGeOaQMCS+btTRER2h9q1IguXzZtNAbw7NmzVq1avX79Wti4fPnyqZodmQBmBt/OgYioT58+XOHBgwfC7P/NmzdJSUkSBWXWEhISevToodk+Z84cy8vz4uNp0aIc8zwievwYeR7kz6NHNGqU9oeuXKHu3U0bjQH4+/ufOXNG1PjFF1/MmzdPinAA8gG9epDpxYsXfn5+XHn37t2zZ88ODQ0lom3btokGJsOJEyfat28vanRzc/vw4YMk8ehv7lz6+WeKi9P+aJky9OoVWcH2HiCVtDT68Uf66ivtjzIM3btH1aqZNqYCef36tY+Pj6jxo48+2rlzp6OjoyQhAeQJvXqQydfX18bGhit//PHHlStX5sqPHz+WLihz9MMPP4hWVOFcunTJ9MHoLziYxo+nxYtzzPOWLKGnT5HnQYHY29O8eZTTOu0sSzVqUM+eJg2pYMqWLVtVY7HA//777+LFi5LEA6AL9OoBrVmzpmzZsl26dLG1tf3000/Xr19PRBUrVuRmG1SrVu3+/ftSx2gWgoODe/Xq9VBjtdiRI0euXbvWzs5OkqjyJyyMWrSgkJAcD5DLKTSUypUzYUxQOOzcSXPn0rNnOR6wYQMNHkzqSwGYp7i4ODc3N76KX6Ng5pDqQeYMDC8vr+PHjwcGBopSFnt7+9TUVIlCMy+nTp3q0KEDv24+x2KWVE1IoP796fhxUo9fTb9+tGABZXXoAhhYRgaVLk2RkTke4OFBFy9SpUomjElPvXr14lbX6927999//y11OAC5QaoH2dNvOba2tizLCtMX/CPhsSwrEyw1EhwcLFxwy+ycO0dffEG3bmnZuFZILqf+/WnHDlOFBYXe//5Huc9mkMmoaVP64w8qX95UMekjOjraw8ND2PLll1+ePXv2xo0bUoUEoAmpHtCOHTtyn3iBfyRC5cuX5yas9O3bd8+ePVKHo016Ov3wA124QEeP5n2wgwMFBVFAgPHDAhD43/9o1arcevg4fn70v//lONrP/HDfnPft29fTosYggnXDtAygwYMHsyzLsuyJEyewk7fQo0ePGIb54YcfhI0hISF//vkny7LmkucpFJSYSDt2kK0tMQwxDNnb01df5ZHnNWhAmzcTy1JKCvI8kMDcuRQRQenptGlTboc9f06DB2f+w+b+bY8fT7//boabrcXGxpbP6oPs1asXwzCY0wZmAr16ILZhw4ZNmzZduHCBbym0/0icnJxSUlJsbGwyzO/3CqWmUno6PXpE+/bR99/n44nFitGQIfTTT0aLDCCfTp2i1aspXxvL2tlRjRr06adUpw7VqWOswPKja9euhw4dErY4Ojp+//33kydPliokAA5SPcgRy7IjRoz4+++/Dx8+3KJFC6nDMakSJUqEh4fz1X79+u3evVuyaFiWVCpSKOjgQTp5knbupJiY/J3By4u6dKFffyUs/QXmjGVpzBj65598/wvnlSlDHTtSQAC1bk2+vlSihEHjy83BgweHDx8eoxG5q6vrhw8fGKxbBNJBqgd5SEhIuH37duFJ9RISEqZOnbphwwZR+9q1az/99FPTxcHdln38mJ4/px076PlzevBAn/M0bUrt29NXX2HjWrAYSiV9+SXt30/Pnxf0VJUqka9vZtrXpg15eRkivhy9evWqnLaFiho3brxu3brq1asb9eoAOUGqB5ApISFh5syZv/76q+ZDx48fb9euneEveeMGnTtHL1/S6dP0/DklJhb0hG5uNGgQ1apFH39MFrHOH0CeHj2iZcvo6lUKCjLwmRs0oGLFKCCAypcnd/fs/xbsZ+fw4cNdunTRbC9TpsySJUswHhpMD6keAMXExHz55ZebtA0P//nnnydMmJC/07EsRUXRnTv0/j3dvElhYXT9Or17R2lpBolWja8vNWhA06ZR/fqGPzmAeUpMpN9+oxs3aOdOUqlMfXVXV3J3J19fcnOjcuWoaFEqW5ZcXbP/6+JCDLNt27Zhw4ZpPcHSpUu//PJLE0cNhRlSPQAqXrx4pLZFHxo2bHjlypXcnpmRQZGR9OABRURQUBDdvUvv39P9+2TURZUZhvz9adQoqlOHtG3RBlBYJCXRvXu0axc9eEAnT+axfqTJyGRUpgy5uvaKjPzn/XvRg3K5/N7584GNG0sSGhROSPWgUHN2dk5OTtZsr+bltaV169pxcRQSQjEx9OGD6WMjIvLzo0qVqGdPqlKFCs1wSQADeP6cXrygM2foxQs6fZrevpWg/4+IiD4jEk53f01URlBVENnk/nxHRypRgpyds//r5EReXuTkRJ6emQW+inlXoA1SPSgcWJbCwig+nl69otevKS6O++/k48fXvHkjOtaWKJFImpFuNjbUqhWVL0+dOlGFChQYKEkUANYmI4POnaPnz2nbNjp71sQXb010Jqss+o27nWg70ZdEbQ1yJYYhT8/M5M/RkdzdydGRihXL/K+DAxUrJq46OJCrK8nlBrk+mCekemA2WJZSU+nDB4qNpZQUio6mlBSKilIrJydTRAQlJVFkZOZ/c9nRVTfbiPgBNQ5ECXl+yS6gGjWoTBlq0oR8fKhpU/LzI6zCAGAOoqPpwwcKCaEPHyg0lGJj6flzio2lFy8oNlb/9V+yLCeyJ5ooaDlI1E1QdSO6RFSlgJeRnI0N2dqSkxPZ2JCTE9nakqNjZgtfdnAgGxuytyd7e5LLyd4+s8qV+RY7O5LJyMaGZDKytc0saP0vw2QuMiD6L7/4Nv8xy3XusmyOf1SqzMWtcv+vUknp6f9v7+6Doqr6OID/loWF2F1hedlEeDbTJTQwGcckzVEkx6bBwiEzmHIam2CqScucahh6MTLHHu0FCp/UNGbiaRT1CcHCqSwJnV4mlaIIAsdZlreFBYR9YV/Y3eePu15vu8u6rAvrst/POHfOPffcu+fqDv449/zuIaORxsbIaCSL5dp2bIxMJnv9v/5Fb73ll38HLoR6cGMsFjKbSa8nk4n0ejKbSaslk4m0WjIaSau172o0ZDTS8DAZjTQyQgYDjYzYa0ZH7bHd8PAU9PffRNuIHH6BZX4GrCb6D5EvV9wUCmnRIpo1ixYvplmzaMkSSkzEExaAgKTR2IM/JvJjth0d7CMCMhgmeskVRA1OlYeINhAJfdJn8LuFC6mx0d+dQKjnBYzBBKZUomYiIpIStROJOYf+R7SKSHLdS/B4JJHQvHkUG0vz5lFcHKWmklRKaWkI4ILNuXPnwsLClixZ4u+OQOAwm0mjoa4u0miou5s0Gt6TT7ppnkB0lGjZ1d9FISDdcQe1tvq7Ewj1vIBQL9CcJNpOdJ5TU0S0c7zWISEUFUVz51JMDMnlJJfbC7GxlJyMGS3A4PF4UqmUu6QKwEQlJCT0OqXoOraRSP77+OMrZs7k9/WRVksqFen11N9v346MTE1XwUtz5tClS/7uBEI9LyDUu2mJxSQS0cyZzHZMJMo4depCT4/Ltvjmw41AqAe+cubMmfLy8mPHjrlpU1hYuG/fPp99pNlMQ0M0OkqDg/aJNAaDfYKNQ5ndZablsJNzdDp/ZTQHmFmzqKvL352Y5AnoADeEz6fYWIqM/Mc2Pp6EQvtWKrUXmPBOeG1+y549e8rKypTjxHk8Hs9isfAxRAcA/paZmZmZmfnmm29++umnCoXCZZuHHnqIu5ubm7ty5crNmzeHeLfgYVgYSaVERK6WcfMUs3gjMxWbDQT1evuk7dFR+zRul2WDwZ614DKVgZviYLOR2WzPhGBTIqYej+ciHSQiggQC1wklbDk21g+9dYJRvYmrqaGxMfs3dXTUXmYLTFYO863lfl+Z9AWrlczmawV2a7HYtzbbtS2TB+SQHEScBCJmfNF5y+fb05GYPzyevYbPt+cxcXOamLJAQHy+fct8R9lyaCjdcguFhtpzpiIi7LtMOhWzFQqvlUUiEghILKawsCn+l1Gr1ZWVlVu3bnXTZuHChY03wSRZCHQY1YNJsn///srKyoaGawkbOTk51dXV3Da8fz5cWrx48dKlS5955pmUlBQvgz+Y1hDqwfRRUlLyxhtvuGkwb9685uZmHh7Bww1DqAeTavfu3cePH//555+J6ODBg09yEjgMBsMt4+SBiUSip556atGiRY8++qgAq2DDVQj1IFAZDIbt27fv2rWLW7l06VLnpczuvPPO1157LS8vbwp7B9McQj3wl+Li4p07x80r40pPT7948SK3Rq/XR0ZGTk6/4OaFkV4IMAaD4ezZs2vWrImJiXnnnXeMRiP36GOPPebQftWqVX/88QfiPACYHk6fPu1hy7S0NO6uwWAQiUSZmZkFBQVVVVW//vrrJPQObkYY1YObWktLS1NT04EDBy5cuDAwMODcYMuWLaWlpdwa5vnsnj17Nm7cKGWmHgP4Gkb1wL/UavXbb7+9d+9ek8k0Xpva2tq1a6+tx3H8+PH169e7v2xSUlJiYuLzzz+fn5/vs76CvyHUA/9ra2tTKpVZWVlsTVNT01133eX56XK5Lxe5ALguhHpws/n666/Pnz//ySefXL58mfmf3Wq1cqcmb9q0qaKiwpNLlZeXP/vss+yuy/nN0dHRKSkpcXFxKSkpsbGxcrk8JiYmPT09Li7uRu8EfA2hHkypK1eu/PnnnyqV6uLFiz09PRcuXFAqlWq1mv75ojs3846dlZaWbtmyZVK6CzAOhHpw09JoNJ9//vlvv/22d+9ebv2yZct+/PFHT65QXV2dk5PD7nqeylZcXLxjxw52t7CwMDo6evbs2dHR0TKZLCoqSiaTicVipAlPMYR6MGH9/f0DAwPt7e2Dg4OXL1++cuWKQqEYHh5mtv39/dzGnv+McPgquj8xIyNj+fLlJSUlmGIMfoFQDwKOTqerq6urq6trb28/e/asdfx3IHd2diYmJrK7nv8YP3To0KZNm7w4cfPmzWVlZeyuUCgUi8XXXUoEPIRXKAcdq9U60d+oVCpVTU3NuXPnurq6GhsbmUE4n9NqtSKRyH2b+Pj4rVu33nvvvStWrJiMPgAATFdCoXD9+vXMdD2TyaRQKE6fPq1QKBoaGjo6OpRKJdty5syZ3n1ETEyMdyeKxdxlyUmv1+v1eu8uBc4Q6gWXEydOrFu3jt0NDw+fMWNGeHi4VqvV6XRms5k9xB1j4/P5hYWFk923+vr67Oxsdnf16tWpqamPPPJIampqdHT0ZH86AEDwEAgEycnJycnJnjR+5ZVXVCpVU1OTSqXq7Ox003Lu3Lne9ScpKcm7E8ETCPWCy1dffcXdNRqNDs9bXYqLixMKhTqdzpOP8GLUkDE0NMTd/eabb7y4CAAA+Bb39aUajaa/v7+5uVmtVre2tjLbwcHB9vZ2o9EokUi8+4gZM2b4qLPgQmDM1cPyBgAAAADOBgcH3QfZyIIBAAAAmLYC4wFuQkKCv7swTVitVp1OZzKZ3Lx1k8fjhYSExMbG8vn8qewbQADp6enh8/l4RzcA+N11J00FxgNc8LmhoSGlUtna2mo0GkdHR4VCYWRkZFJSkkQimTNnDp6YA7iHl60AQKBAqAcAAAAwbWGuHgAAAMC0hVAPAAAAYNpCqAcAAAAwbQVGBi4AgNfmz5/Plv/666/xmr3//vv79++/bjMAgMCCtAwAmOa4GeVufuLNnz+/paXlus0AAAILHuACQBCpr68f7xAb5wEATCcI9QAgKLz00ktElJeXZ7VanY/+9NNPRLRhw4ap7hYAwCRDqAcAQSE7O1soFPb29v7www/ORw8fPkxEeXl5U94vAIDJhVAPAIJCZGRkZWUluYrnzpw5U1paWlhYmJ2d7fLckydP8v6psbHRudl3333Hc5KYmMhtU1RUxOPxPvjgA7Va7dCyu7vbN7cKAMCBUA8AgsUDDzxARM6rmTFDevn5+S7Pevrppx988EEiCgsLmz17NlOZkZHx3nvvOVzk/vvvZ8rx8fHsEtLd3d2///67wzW1Wu19993nUJmenq5UKid2SwAA14MMXACY5pgM3F9++eXuu+9mymNjY2woxjaw2Wwmkyk8PJw4GbhKpVImkzmcotVqxWKxQyVzkba2Nrlczl45JyenpqYmLCxsYGCAOaWoqGjXrl1EFBISYrFYmGYqlSojI0OhUMTHx/f19U3i3wUABB+M6gFAEJFIJETkcrqeSy+//DIRJScnc0NDkUgUFRVFROx7+FjcOI+InnvuOSIym82dnZ0OLQsLC9nyrbfeunv3biLq7+/3sGMAAB5CqAcAQcQ5/aK6upqIXn31VefG58+fZ9ozbbjKy8uJqKSkhK2x2WzOD0n0ej1TGBkZ4daHhoZ+9NFH3Jo1a9ZM5D4AADyF1TIAIIhkZWXFxcVxH5K6yb1ta2tjCmVlZdz3MNPVCX+9vb1arVYkEnEPWSyWb7/9tra2trm5+fvvv2cqHaLApKQk7jAhEUVGRnp9UwAAbiDUA4AgEhoaWlVVlZWVZbFY+Hz+4cOHjxw5snPnztTUVOfG7HPeffv2jXfBhoYGJtvj0KFDL7744vDwMHtIIpG8++6727Ztcz7LIS0XAGDyINQDgOCycuVKIqqvr8/KynL/Oj0mIUMmkzU0NIx3NalUyhQKCgqYlzPLZLKCgoKNGzfedtttCoXCZagHADBlEOoBQHAJCQkhovz8/J6enhMnThDR7bff7rLl2rVri4qKOjo6Ojo6li9fzj00ODjY3d2dlpbG7NbW1jJxnsOD2qamJqbgcokOAIApgLQMAAg6iYmJfX19zFgdE/m5JJfLIyIiiOjDDz90OFRcXLxgwYKkpCSdTkdXl9ZlXqfCdfLkSaYwNjbmu+4DAEwAQj0ACDrHjh0jolWrVpGrF6awIiIihoaGiKiqqurIkSNs/aVLlz7++GMiqqurEwqFRHTPPfcQkUaj4Z5+9OhRdpLfwMCAz+8CAMATeIALAEGHicxsNptAIMjNzXXTMiIigsfj2Wy2vLy8v//+Oy0t7csvv/zss8+YowsWLGAK7DoZubm5TzzxhFQq3bFjx6lTp8RisUAgGBgY6OrqmswbAgAYF0b1ACB4VVRUMC9VdsNqtep0uoSEhNdffz03N/fgwYMWi6WlpYU7LU8sFre3tz/88MNffPHFunXrli1b1tvbW1FRMTIycuDAASJ64YUXJvVGAADG838+cg2VWwahhAAAAABJRU5ErkJggg==)"
      ],
      "metadata": {
        "id": "HB-Otktjbp6S"
      }
    },
    {
      "cell_type": "code",
      "source": [
        "# Ho: Variances are equal\n",
        "# Ha: Variances are not equal\n",
        "levene_stat, p_value = levene(height_men, height_women)\n",
        "print(p_value)\n",
        "if p_value < 0.05:\n",
        "    print(\"Reject Ho\")\n",
        "    print(\"Variances are not equal\")\n",
        "else:\n",
        "    print(\"Fail to reject Ho\")\n",
        "    print(\"Variances are equal\")"
      ],
      "metadata": {
        "id": "P5SwRXPNz98r"
      },
      "execution_count": null,
      "outputs": []
    },
    {
      "cell_type": "markdown",
      "source": [
        "## Correlation test"
      ],
      "metadata": {
        "id": "mTH0Rp3e1J2n"
      }
    },
    {
      "cell_type": "markdown",
      "source": [
        "### Linear Relation data"
      ],
      "metadata": {
        "id": "DuFUlUA-1ZfP"
      }
    },
    {
      "cell_type": "code",
      "source": [
        "df_hw = pd.read_csv(\"weight-height.csv\")"
      ],
      "metadata": {
        "id": "sIxatxaX1Oly"
      },
      "execution_count": null,
      "outputs": []
    },
    {
      "cell_type": "code",
      "source": [
        "sns.scatterplot(x=df_hw[\"Height\"], y=df_hw[\"Weight\"])"
      ],
      "metadata": {
        "id": "khHYd9Bd1u5X",
        "outputId": "1b5aaa8c-aa4e-4ab9-bd28-bfa4b1cc5f65",
        "colab": {
          "base_uri": "https://localhost:8080/",
          "height": 466
        }
      },
      "execution_count": null,
      "outputs": [
        {
          "output_type": "execute_result",
          "data": {
            "text/plain": [
              "<Axes: xlabel='Height', ylabel='Weight'>"
            ]
          },
          "metadata": {},
          "execution_count": 4
        },
        {
          "output_type": "display_data",
          "data": {
            "text/plain": [
              "<Figure size 640x480 with 1 Axes>"
            ],
            "image/png": "[encoded data removed]"
          },
          "metadata": {}
        }
      ]
    },
    {
      "cell_type": "code",
      "source": [
        "df_hw[[\"Height\", \"Weight\"]].corr() #pearson corr coeff"
      ],
      "metadata": {
        "id": "izoZoK1k129v",
        "outputId": "5fb728fe-e22b-497b-b038-2e5a85cbfca8",
        "colab": {
          "base_uri": "https://localhost:8080/",
          "height": 112
        }
      },
      "execution_count": null,
      "outputs": [
        {
          "output_type": "execute_result",
          "data": {
            "text/plain": [
              "          Height    Weight\n",
              "Height  1.000000  0.924756\n",
              "Weight  0.924756  1.000000"
            ],
            "text/html": [
              "\n",
              "\n",
              "  <div id=\"df-9cbb892c-e188-4180-8646-cc119296a21e\">\n",
              "    <div class=\"colab-df-container\">\n",
              "      <div>\n",
              "<style scoped>\n",
              "    .dataframe tbody tr th:only-of-type {\n",
              "        vertical-align: middle;\n",
              "    }\n",
              "\n",
              "    .dataframe tbody tr th {\n",
              "        vertical-align: top;\n",
              "    }\n",
              "\n",
              "    .dataframe thead th {\n",
              "        text-align: right;\n",
              "    }\n",
              "</style>\n",
              "<table border=\"1\" class=\"dataframe\">\n",
              "  <thead>\n",
              "    <tr style=\"text-align: right;\">\n",
              "      <th></th>\n",
              "      <th>Height</th>\n",
              "      <th>Weight</th>\n",
              "    </tr>\n",
              "  </thead>\n",
              "  <tbody>\n",
              "    <tr>\n",
              "      <th>Height</th>\n",
              "      <td>1.000000</td>\n",
              "      <td>0.924756</td>\n",
              "    </tr>\n",
              "    <tr>\n",
              "      <th>Weight</th>\n",
              "      <td>0.924756</td>\n",
              "      <td>1.000000</td>\n",
              "    </tr>\n",
              "  </tbody>\n",
              "</table>\n",
              "</div>\n",
              "      <button class=\"colab-df-convert\" onclick=\"convertToInteractive('df-9cbb892c-e188-4180-8646-cc119296a21e')\"\n",
              "              title=\"Convert this dataframe to an interactive table.\"\n",
              "              style=\"display:none;\">\n",
              "\n",
              "  <svg xmlns=\"http://www.w3.org/2000/svg\" height=\"24px\"viewBox=\"0 0 24 24\"\n",
              "       width=\"24px\">\n",
              "    <path d=\"M0 0h24v24H0V0z\" fill=\"none\"/>\n",
              "    <path d=\"M18.56 5.44l.94 2.06.94-2.06 2.06-.94-2.06-.94-.94-2.06-.94 2.06-2.06.94zm-11 1L8.5 8.5l.94-2.06 2.06-.94-2.06-.94L8.5 2.5l-.94 2.06-2.06.94zm10 10l.94 2.06.94-2.06 2.06-.94-2.06-.94-.94-2.06-.94 2.06-2.06.94z\"/><path d=\"M17.41 7.96l-1.37-1.37c-.4-.4-.92-.59-1.43-.59-.52 0-1.04.2-1.43.59L10.3 9.45l-7.72 7.72c-.78.78-.78 2.05 0 2.83L4 21.41c.39.39.9.59 1.41.59.51 0 1.02-.2 1.41-.59l7.78-7.78 2.81-2.81c.8-.78.8-2.07 0-2.86zM5.41 20L4 18.59l7.72-7.72 1.47 1.35L5.41 20z\"/>\n",
              "  </svg>\n",
              "      </button>\n",
              "\n",
              "\n",
              "\n",
              "    <div id=\"df-8beecc2a-99da-4510-aeaf-470bea4130fa\">\n",
              "      <button class=\"colab-df-quickchart\" onclick=\"quickchart('df-8beecc2a-99da-4510-aeaf-470bea4130fa')\"\n",
              "              title=\"Suggest charts.\"\n",
              "              style=\"display:none;\">\n",
              "\n",
              "<svg xmlns=\"http://www.w3.org/2000/svg\" height=\"24px\"viewBox=\"0 0 24 24\"\n",
              "     width=\"24px\">\n",
              "    <g>\n",
              "        <path d=\"M19 3H5c-1.1 0-2 .9-2 2v14c0 1.1.9 2 2 2h14c1.1 0 2-.9 2-2V5c0-1.1-.9-2-2-2zM9 17H7v-7h2v7zm4 0h-2V7h2v10zm4 0h-2v-4h2v4z\"/>\n",
              "    </g>\n",
              "</svg>\n",
              "      </button>\n",
              "    </div>\n",
              "\n",
              "<style>\n",
              "  .colab-df-quickchart {\n",
              "    background-color: #E8F0FE;\n",
              "    border: none;\n",
              "    border-radius: 50%;\n",
              "    cursor: pointer;\n",
              "    display: none;\n",
              "    fill: #1967D2;\n",
              "    height: 32px;\n",
              "    padding: 0 0 0 0;\n",
              "    width: 32px;\n",
              "  }\n",
              "\n",
              "  .colab-df-quickchart:hover {\n",
              "    background-color: #E2EBFA;\n",
              "    box-shadow: 0px 1px 2px rgba(60, 64, 67, 0.3), 0px 1px 3px 1px rgba(60, 64, 67, 0.15);\n",
              "    fill: #174EA6;\n",
              "  }\n",
              "\n",
              "  [theme=dark] .colab-df-quickchart {\n",
              "    background-color: #3B4455;\n",
              "    fill: #D2E3FC;\n",
              "  }\n",
              "\n",
              "  [theme=dark] .colab-df-quickchart:hover {\n",
              "    background-color: #434B5C;\n",
              "    box-shadow: 0px 1px 3px 1px rgba(0, 0, 0, 0.15);\n",
              "    filter: drop-shadow(0px 1px 2px rgba(0, 0, 0, 0.3));\n",
              "    fill: #FFFFFF;\n",
              "  }\n",
              "</style>\n",
              "\n",
              "    <script>\n",
              "      async function quickchart(key) {\n",
              "        const containerElement = document.querySelector('#' + key);\n",
              "        const charts = await google.colab.kernel.invokeFunction(\n",
              "            'suggestCharts', [key], {});\n",
              "      }\n",
              "    </script>\n",
              "\n",
              "      <script>\n",
              "\n",
              "function displayQuickchartButton(domScope) {\n",
              "  let quickchartButtonEl =\n",
              "    domScope.querySelector('#df-8beecc2a-99da-4510-aeaf-470bea4130fa button.colab-df-quickchart');\n",
              "  quickchartButtonEl.style.display =\n",
              "    google.colab.kernel.accessAllowed ? 'block' : 'none';\n",
              "}\n",
              "\n",
              "        displayQuickchartButton(document);\n",
              "      </script>\n",
              "      <style>\n",
              "    .colab-df-container {\n",
              "      display:flex;\n",
              "      flex-wrap:wrap;\n",
              "      gap: 12px;\n",
              "    }\n",
              "\n",
              "    .colab-df-convert {\n",
              "      background-color: #E8F0FE;\n",
              "      border: none;\n",
              "      border-radius: 50%;\n",
              "      cursor: pointer;\n",
              "      display: none;\n",
              "      fill: #1967D2;\n",
              "      height: 32px;\n",
              "      padding: 0 0 0 0;\n",
              "      width: 32px;\n",
              "    }\n",
              "\n",
              "    .colab-df-convert:hover {\n",
              "      background-color: #E2EBFA;\n",
              "      box-shadow: 0px 1px 2px rgba(60, 64, 67, 0.3), 0px 1px 3px 1px rgba(60, 64, 67, 0.15);\n",
              "      fill: #174EA6;\n",
              "    }\n",
              "\n",
              "    [theme=dark] .colab-df-convert {\n",
              "      background-color: #3B4455;\n",
              "      fill: #D2E3FC;\n",
              "    }\n",
              "\n",
              "    [theme=dark] .colab-df-convert:hover {\n",
              "      background-color: #434B5C;\n",
              "      box-shadow: 0px 1px 3px 1px rgba(0, 0, 0, 0.15);\n",
              "      filter: drop-shadow(0px 1px 2px rgba(0, 0, 0, 0.3));\n",
              "      fill: #FFFFFF;\n",
              "    }\n",
              "  </style>\n",
              "\n",
              "      <script>\n",
              "        const buttonEl =\n",
              "          document.querySelector('#df-9cbb892c-e188-4180-8646-cc119296a21e button.colab-df-convert');\n",
              "        buttonEl.style.display =\n",
              "          google.colab.kernel.accessAllowed ? 'block' : 'none';\n",
              "\n",
              "        async function convertToInteractive(key) {\n",
              "          const element = document.querySelector('#df-9cbb892c-e188-4180-8646-cc119296a21e');\n",
              "          const dataTable =\n",
              "            await google.colab.kernel.invokeFunction('convertToInteractive',\n",
              "                                                     [key], {});\n",
              "          if (!dataTable) return;\n",
              "\n",
              "          const docLinkHtml = 'Like what you see? Visit the ' +\n",
              "            '<a target=\"_blank\" href=https://colab.research.google.com/notebooks/data_table.ipynb>data table notebook</a>'\n",
              "            + ' to learn more about interactive tables.';\n",
              "          element.innerHTML = '';\n",
              "          dataTable['output_type'] = 'display_data';\n",
              "          await google.colab.output.renderOutput(dataTable, element);\n",
              "          const docLink = document.createElement('div');\n",
              "          docLink.innerHTML = docLinkHtml;\n",
              "          element.appendChild(docLink);\n",
              "        }\n",
              "      </script>\n",
              "    </div>\n",
              "  </div>\n"
            ]
          },
          "metadata": {},
          "execution_count": 5
        }
      ]
    },
    {
      "cell_type": "code",
      "source": [
        "np.corrcoef(df_hw[\"Height\"], df_hw[\"Weight\"]) #pearson corr coeff"
      ],
      "metadata": {
        "id": "_V2WMsTQ17Rg",
        "outputId": "92a668a6-1d61-428f-87f2-ec10024bf27c",
        "colab": {
          "base_uri": "https://localhost:8080/"
        }
      },
      "execution_count": null,
      "outputs": [
        {
          "output_type": "execute_result",
          "data": {
            "text/plain": [
              "array([[1.       , 0.9247563],\n",
              "       [0.9247563, 1.       ]])"
            ]
          },
          "metadata": {},
          "execution_count": 6
        }
      ]
    },
    {
      "cell_type": "code",
      "source": [
        "# H0: No correlation\n",
        "# Ha: There is correlation\n",
        "\n",
        "pearson_coeff, p_value = pearsonr(df_hw[\"Height\"], df_hw[\"Weight\"])\n",
        "\n",
        "# pearson works only if data is linear....so plot XY scatter before applying any correlation test\n",
        "print(p_value)\n",
        "if p_value < 0.05:\n",
        "    print(\"Reject H0\")\n",
        "    print(\"There is correlation\")\n",
        "else:\n",
        "    print(\"Fail to reject H0\")\n",
        "    print(\"There is no correlation\")"
      ],
      "metadata": {
        "id": "vClzP-An2FWI",
        "outputId": "04e839a4-f73b-457c-ef5f-aa621ec013f0",
        "colab": {
          "base_uri": "https://localhost:8080/"
        }
      },
      "execution_count": null,
      "outputs": [
        {
          "output_type": "stream",
          "name": "stdout",
          "text": [
            "Reject H0\n"
          ]
        }
      ]
    },
    {
      "cell_type": "markdown",
      "source": [
        "### Non Linear Realtion Data"
      ],
      "metadata": {
        "id": "Bxq4Zyi72WEM"
      }
    },
    {
      "cell_type": "markdown",
      "source": [
        "Detect nonlinear data correlation as long as data is monotonous meaning x-increase then y-increase lly x-decrease then y-decrease"
      ],
      "metadata": {
        "id": "vPcZU4cRN84u"
      }
    },
    {
      "cell_type": "code",
      "source": [
        "# H0: No correlation\n",
        "# Ha: There is correlation\n",
        "\n",
        "spearman_coeff, p_value = spearmanr(df_hw[\"Height\"], df_hw[\"Weight\"])\n",
        "\n",
        "#spearman detect nonlinear as data is monotonin meaning x-increase then y-increase lly x-decrease then y-decrease\n",
        "print(p_value)\n",
        "if p_value < 0.05:\n",
        "    print(\"Reject H0\")\n",
        "    print(\"There is correlation\")\n",
        "else:\n",
        "    print(\"Fail to reject H0\")\n",
        "    print(\"There is no correlation\")"
      ],
      "metadata": {
        "id": "-beKdXfp2al6",
        "outputId": "ad442357-4d75-4c46-ee5a-b144d7bad4d4",
        "colab": {
          "base_uri": "https://localhost:8080/"
        }
      },
      "execution_count": null,
      "outputs": [
        {
          "output_type": "stream",
          "name": "stdout",
          "text": [
            "Reject H0\n"
          ]
        }
      ]
    },
    {
      "cell_type": "markdown",
      "source": [
        "## Poisson Distribution"
      ],
      "metadata": {
        "id": "3z0jpswcLLOy"
      }
    },
    {
      "cell_type": "code",
      "source": [
        "#Accident\n",
        "#A city sees 3 accidents per day on average., what is the propability that there will be eactly 5 Accidents\n",
        "# k = No of Events = 5\n",
        "# mu = lambda = Expected occurence rate = 3\n",
        "poisson.pmf(k=5, mu=3)"
      ],
      "metadata": {
        "colab": {
          "base_uri": "https://localhost:8080/"
        },
        "id": "KNrwDJucLRVD",
        "outputId": "df20b83f-2416-45ba-f2e9-740be28463b7"
      },
      "execution_count": null,
      "outputs": [
        {
          "output_type": "execute_result",
          "data": {
            "text/plain": [
              "0.10081881344492458"
            ]
          },
          "metadata": {},
          "execution_count": 16
        }
      ]
    },
    {
      "cell_type": "code",
      "source": [
        "#Accident\n",
        "#A city sees 3 accidents per day on average., what is the propability that there will be eactly 5 or fewer accidents tomorrow\n",
        "# k = No of Events = 5\n",
        "# mu = lambda = Expected occurence rate = 3\n",
        "poisson.cdf(k=5, mu=3)"
      ],
      "metadata": {
        "colab": {
          "base_uri": "https://localhost:8080/"
        },
        "id": "ESODophYSB_i",
        "outputId": "7373662a-10c5-4c23-9e1e-9baafb3a3d61"
      },
      "execution_count": null,
      "outputs": [
        {
          "output_type": "execute_result",
          "data": {
            "text/plain": [
              "0.9160820579686966"
            ]
          },
          "metadata": {},
          "execution_count": 17
        }
      ]
    },
    {
      "cell_type": "code",
      "source": [
        "# Rechecking Function of CDF & PMF\n",
        "# [poisson.pmf(k=0, mu=3) + poisson.pmf(k=1, mu=3) + poisson.pmf(k=2, mu=3) + poisson.pmf(k=3, mu=3) + poisson.pmf(k=4, mu=3)] == [poisson.cdf(k= 4, mu=3)]"
      ],
      "metadata": {
        "id": "5DYfvdBpSQH5"
      },
      "execution_count": null,
      "outputs": []
    },
    {
      "cell_type": "code",
      "source": [
        "poisson.pmf(k=0, mu=3) + poisson.pmf(k=1, mu=3) + poisson.pmf(k=2, mu=3) + poisson.pmf(k=3, mu=3) + poisson.pmf(k=4, mu=3)"
      ],
      "metadata": {
        "colab": {
          "base_uri": "https://localhost:8080/"
        },
        "id": "FVqNABENS1aW",
        "outputId": "982d8ed9-1d53-40f9-edcb-21551d0bea0a"
      },
      "execution_count": null,
      "outputs": [
        {
          "output_type": "execute_result",
          "data": {
            "text/plain": [
              "0.8152632445237721"
            ]
          },
          "metadata": {},
          "execution_count": 22
        }
      ]
    },
    {
      "cell_type": "code",
      "source": [
        "poisson.cdf(k=4, mu=3)"
      ],
      "metadata": {
        "colab": {
          "base_uri": "https://localhost:8080/"
        },
        "id": "aRaH4WE_SycI",
        "outputId": "4b5584ee-b082-4932-c355-ae16058df3df"
      },
      "execution_count": null,
      "outputs": [
        {
          "output_type": "execute_result",
          "data": {
            "text/plain": [
              "0.8152632445237722"
            ]
          },
          "metadata": {},
          "execution_count": 21
        }
      ]
    },
    {
      "cell_type": "code",
      "source": [
        "# A shop is open for 8 hours. The average number of customers is 74 - assume Poisson distributed.\n",
        "\n",
        "# What is the probability that in 2 hours, there will be at most 15 customers\n",
        "\n",
        "# mu = 74/8*2 = 18.5\n",
        "poisson.cdf(k=15, mu=18.5)"
      ],
      "metadata": {
        "colab": {
          "base_uri": "https://localhost:8080/"
        },
        "id": "qr3yMMLSTMo4",
        "outputId": "bee6b555-7fd9-4a5f-d6b6-6c3f62b8bd0e"
      },
      "execution_count": null,
      "outputs": [
        {
          "output_type": "execute_result",
          "data": {
            "text/plain": [
              "0.24902769151284776"
            ]
          },
          "metadata": {},
          "execution_count": 25
        }
      ]
    },
    {
      "cell_type": "code",
      "source": [
        "# A shop is open for 8 hours. The average number of customers is 74 - assume Poisson distributed.\n",
        "\n",
        "# What is the probability that in 2 hours, there will be atleast 7 Customers\n",
        "\n",
        "# mu = 74/8*2 = 18.5\n",
        "\n",
        "# P[x >=7] = 1 - P[x<=6] #discrete\n",
        "# P[x >=7] = 1 - P[x<7] #continous\n",
        "\n",
        "# Poisson is discrete Distribution like binom, geom where as norm is continuous,so\n",
        "\n",
        "1- poisson.cdf(k=6 , mu=18.5)"
      ],
      "metadata": {
        "colab": {
          "base_uri": "https://localhost:8080/"
        },
        "id": "7QTgNQqXTusk",
        "outputId": "caf4dc87-8876-4f90-e3a4-7e8872acb26e"
      },
      "execution_count": null,
      "outputs": [
        {
          "output_type": "execute_result",
          "data": {
            "text/plain": [
              "0.9992622541111789"
            ]
          },
          "metadata": {},
          "execution_count": 26
        }
      ]
    },
    {
      "cell_type": "code",
      "source": [
        "# There are 80 students in a kinder garden class. Each one of them has 0.015 probability of forgetting their lunch on any given day.\n",
        "\n",
        "# What is the average or expected number of students who forgot lunch in the class?\n",
        "\n",
        "80*0.015 #rate = 1.2\n",
        "\n",
        "# What is the propability that 3 Students will forget their lunch\n",
        "\n",
        "poisson.pmf(k=3,mu=1.2)"
      ],
      "metadata": {
        "colab": {
          "base_uri": "https://localhost:8080/"
        },
        "id": "-oEzNAQQUdVw",
        "outputId": "d5f2818b-3cbf-4800-be29-ff6d1eb7e9fb"
      },
      "execution_count": null,
      "outputs": [
        {
          "output_type": "execute_result",
          "data": {
            "text/plain": [
              "0.08674393303071422"
            ]
          },
          "metadata": {},
          "execution_count": 28
        }
      ]
    },
    {
      "cell_type": "code",
      "source": [
        "# when Large n, small p, np=mu or lambda,\n",
        "# then Binom distribution approximately equal to Poisson distribution\n",
        "\n",
        "binom.pmf(k=3, n=80, p=0.015)"
      ],
      "metadata": {
        "colab": {
          "base_uri": "https://localhost:8080/"
        },
        "id": "lQrUbJX9U-Tf",
        "outputId": "bd3346ac-0604-4ead-aee7-ac4bc6f703e4"
      },
      "execution_count": null,
      "outputs": [
        {
          "output_type": "execute_result",
          "data": {
            "text/plain": [
              "0.08660120920447566"
            ]
          },
          "metadata": {},
          "execution_count": 30
        }
      ]
    },
    {
      "cell_type": "code",
      "source": [
        "#Comparison of Poisson & Binom Distribution with p= 0.5,n=30\n",
        "\n",
        "plt.figure(figsize=(20,8))\n",
        "plt.subplot(1,2,1)\n",
        "mu = 15\n",
        "x_values = np.arange(0, 30)\n",
        "y_values = poisson.pmf(x_values, mu=mu)\n",
        "sns.barplot(x=x_values, y=y_values)\n",
        "plt.title(\"Poisson Distribution\")\n",
        "\n",
        "plt.subplot(1,2,2)\n",
        "p = 0.5\n",
        "x_values = np.arange(0, 30)\n",
        "y_values = binom.pmf(x_values, n=30,p=0.5)\n",
        "sns.barplot(x=x_values, y=y_values)\n",
        "plt.title(\"Binomial Distribution\")\n",
        "\n",
        "plt.show()"
      ],
      "metadata": {
        "colab": {
          "base_uri": "https://localhost:8080/",
          "height": 609
        },
        "id": "IBCDFpz8VtUC",
        "outputId": "d6c39a4a-5f7a-4bc6-cf11-d93eeb808b21"
      },
      "execution_count": null,
      "outputs": [
        {
          "output_type": "display_data",
          "data": {
            "text/plain": [
              "<Figure size 2000x800 with 2 Axes>"
            ],
            "image/png": "[encoded data removed]"
          },
          "metadata": {}
        }
      ]
    },
    {
      "cell_type": "code",
      "source": [
        "#Poisson distribution - Football\n",
        "\n",
        "mu = 2.5\n",
        "x_values = np.arange(0, 10)\n",
        "y_values = poisson.pmf(x_values, mu=mu)\n",
        "sns.barplot(x=x_values, y=y_values)"
      ],
      "metadata": {
        "colab": {
          "base_uri": "https://localhost:8080/",
          "height": 447
        },
        "id": "NcqVkxQMVcfp",
        "outputId": "0dd35ff7-e0da-4429-85d7-fff94c5f584a"
      },
      "execution_count": null,
      "outputs": [
        {
          "output_type": "execute_result",
          "data": {
            "text/plain": [
              "<Axes: >"
            ]
          },
          "metadata": {},
          "execution_count": 31
        },
        {
          "output_type": "display_data",
          "data": {
            "text/plain": [
              "<Figure size 640x480 with 1 Axes>"
            ],
            "image/png": "[encoded data removed]"
          },
          "metadata": {}
        }
      ]
    },
    {
      "cell_type": "code",
      "source": [
        "mu = 6\n",
        "x_values = np.arange(0, 30)\n",
        "y_values = poisson.pmf(x_values, mu=mu)\n",
        "sns.barplot(x=x_values, y=y_values)"
      ],
      "metadata": {
        "colab": {
          "base_uri": "https://localhost:8080/",
          "height": 447
        },
        "id": "zKd_SpR3VkPU",
        "outputId": "9215fbb2-33ac-44d6-ac6b-5457bd7021ef"
      },
      "execution_count": null,
      "outputs": [
        {
          "output_type": "execute_result",
          "data": {
            "text/plain": [
              "<Axes: >"
            ]
          },
          "metadata": {},
          "execution_count": 32
        },
        {
          "output_type": "display_data",
          "data": {
            "text/plain": [
              "<Figure size 640x480 with 1 Axes>"
            ],
            "image/png": "[encoded data removed]"
          },
          "metadata": {}
        }
      ]
    },
    {
      "cell_type": "markdown",
      "source": [
        "0.02% of credit card holders of a company report theft of their credit cards each month. The company has a total of 15,000 credit cards."
      ],
      "metadata": {
        "id": "bTJsMpvkAFRh"
      }
    },
    {
      "cell_type": "code",
      "source": [
        "# Determine the expected number of reported stolen credit cards in a month.\n",
        "# 0.02%*15000\n",
        "0.02/100 * 15000"
      ],
      "metadata": {
        "colab": {
          "base_uri": "https://localhost:8080/"
        },
        "id": "Syxun2sqAKjK",
        "outputId": "419bf2e1-43c4-46ac-f760-8e27fd7056d0"
      },
      "execution_count": null,
      "outputs": [
        {
          "output_type": "execute_result",
          "data": {
            "text/plain": [
              "3.0"
            ]
          },
          "metadata": {},
          "execution_count": 9
        }
      ]
    },
    {
      "cell_type": "code",
      "source": [
        "# What is the probability that no one reports theft of credit cards during the next month\n",
        "poisson.pmf(k=0,mu=3)"
      ],
      "metadata": {
        "colab": {
          "base_uri": "https://localhost:8080/"
        },
        "id": "1aXexxLxAfoe",
        "outputId": "afbfc565-9813-40ca-f0e1-1efc2c006353"
      },
      "execution_count": null,
      "outputs": [
        {
          "output_type": "execute_result",
          "data": {
            "text/plain": [
              "0.049787068367863944"
            ]
          },
          "metadata": {},
          "execution_count": 10
        }
      ]
    },
    {
      "cell_type": "code",
      "source": [
        "# What is the probability that no of thefts <= 3   credit cards during the next month\n",
        "poisson.cdf(k=3,mu=3)"
      ],
      "metadata": {
        "colab": {
          "base_uri": "https://localhost:8080/"
        },
        "id": "_86--MU1BKTY",
        "outputId": "249757ce-d608-42af-ab0f-b13eb5da01f6"
      },
      "execution_count": null,
      "outputs": [
        {
          "output_type": "execute_result",
          "data": {
            "text/plain": [
              "0.6472318887822313"
            ]
          },
          "metadata": {},
          "execution_count": 13
        }
      ]
    },
    {
      "cell_type": "code",
      "source": [
        "# With 99% confidence how many cards might be lost in next month\n",
        "poisson.ppf(q=0.99,mu=3)"
      ],
      "metadata": {
        "colab": {
          "base_uri": "https://localhost:8080/"
        },
        "id": "gLNMxGU_An4l",
        "outputId": "9698cd8b-4c78-477f-aa1c-6dc12ecb169f"
      },
      "execution_count": null,
      "outputs": [
        {
          "output_type": "execute_result",
          "data": {
            "text/plain": [
              "8.0"
            ]
          },
          "metadata": {},
          "execution_count": 11
        }
      ]
    },
    {
      "cell_type": "code",
      "source": [
        "# Cummulative distribution for Poisson Distribution\n",
        "n = 20 # no of events\n",
        "p = 8 # rate : lambda/mu\n",
        "sns.lineplot(x= np.arange(0,n+1), y = [poisson.cdf(k=i,mu=p) for i in range(0,n+1)])"
      ],
      "metadata": {
        "id": "i8jwoTZJNQ0p",
        "outputId": "2af9d310-25a0-4e60-b804-96420d31e1df",
        "colab": {
          "base_uri": "https://localhost:8080/",
          "height": 447
        }
      },
      "execution_count": null,
      "outputs": [
        {
          "output_type": "execute_result",
          "data": {
            "text/plain": [
              "<Axes: >"
            ]
          },
          "metadata": {},
          "execution_count": 31
        },
        {
          "output_type": "display_data",
          "data": {
            "text/plain": [
              "<Figure size 640x480 with 1 Axes>"
            ],
            "image/png": "[encoded data removed]"
          },
          "metadata": {}
        }
      ]
    },
    {
      "cell_type": "markdown",
      "source": [
        "## Exponential Distribution"
      ],
      "metadata": {
        "id": "eWp6Js7hZ81o"
      }
    },
    {
      "cell_type": "code",
      "source": [
        "# lambda = 240 msgs in 1 hr --> 240/3600 msgs/sec -- >> 1/15\n",
        "\n",
        "#find the propoability that there will be \"0\" msg in next 10 seconds\n",
        "\n",
        "# for 10 sec --> mu or lamba = 10 * 240/3600 msg\n",
        "poisson.pmf(k=0,mu=10*240/3600)"
      ],
      "metadata": {
        "id": "-yxD13RDEjxz",
        "outputId": "9629678f-0329-4c4c-cc0b-ce9ff5ef6d01",
        "colab": {
          "base_uri": "https://localhost:8080/"
        }
      },
      "execution_count": null,
      "outputs": [
        {
          "output_type": "execute_result",
          "data": {
            "text/plain": [
              "0.513417119032592"
            ]
          },
          "metadata": {},
          "execution_count": 2
        }
      ]
    },
    {
      "cell_type": "code",
      "source": [
        "# What is the propability that next msg will after 10 sec (t> 10)\n",
        "# p[T>10] = 1- p[T<=10]\n",
        "# scale = Amount of time for one event [ 240/3600 msgs/sec --> 15 sec for 1 msg ]\n",
        "# x is the time\n",
        "# Scale(time units for 1 event) = 1/lambda(no of event per one time unit)\n",
        "1-expon.cdf(x=10,scale = 15)"
      ],
      "metadata": {
        "colab": {
          "base_uri": "https://localhost:8080/"
        },
        "id": "T0j3g1yWebvI",
        "outputId": "64721eb6-cde8-4471-96b8-aa36c3c3c8a7"
      },
      "execution_count": null,
      "outputs": [
        {
          "output_type": "execute_result",
          "data": {
            "text/plain": [
              "0.513417119032592"
            ]
          },
          "metadata": {},
          "execution_count": 13
        }
      ]
    },
    {
      "cell_type": "code",
      "source": [
        "# With 99% confidence,after how much time will be taken for next msg\n",
        "expon.ppf(q=0.99,scale=15)"
      ],
      "metadata": {
        "colab": {
          "base_uri": "https://localhost:8080/"
        },
        "id": "TuBR2COMBwv2",
        "outputId": "e7417d48-99f8-4b16-b61d-dca2e1683f92"
      },
      "execution_count": null,
      "outputs": [
        {
          "output_type": "execute_result",
          "data": {
            "text/plain": [
              "69.07755278982137"
            ]
          },
          "metadata": {},
          "execution_count": 15
        }
      ]
    },
    {
      "cell_type": "code",
      "source": [
        "# For a certain railway agency, the number of days people book their rail ticket in advance can be modeled by an exponential distribution, with the average amount of time to be 4 days.\n",
        "# Based on this data, how many days in advance do 75% of all travelers book tickets\n",
        "expon.ppf(q=0.75,scale=4)"
      ],
      "metadata": {
        "id": "fUzHi3_QEp6z",
        "outputId": "e844f72d-ee4a-4b9f-ef28-f26b5dd7702b",
        "colab": {
          "base_uri": "https://localhost:8080/"
        }
      },
      "execution_count": null,
      "outputs": [
        {
          "output_type": "execute_result",
          "data": {
            "text/plain": [
              "5.545177444479562"
            ]
          },
          "metadata": {},
          "execution_count": 19
        }
      ]
    },
    {
      "cell_type": "markdown",
      "source": [
        "### Memoryless Property"
      ],
      "metadata": {
        "id": "kPxVyhfj10qd"
      }
    },
    {
      "cell_type": "code",
      "source": [
        "# Propability that next event occurs after 9 time units/ given no event occured in first 3 time units\n",
        "(1-expon.cdf(x=9,scale=5))/(1-expon.cdf(x=3,scale=5))"
      ],
      "metadata": {
        "id": "WD3JRR5ZJ004",
        "outputId": "d3617170-7a84-41f6-b98b-7a99afd03077",
        "colab": {
          "base_uri": "https://localhost:8080/"
        }
      },
      "execution_count": null,
      "outputs": [
        {
          "output_type": "execute_result",
          "data": {
            "text/plain": [
              "0.30119421191220214"
            ]
          },
          "metadata": {},
          "execution_count": 9
        }
      ]
    },
    {
      "cell_type": "code",
      "source": [
        "# Propability that next event occurs after 6 time units\n",
        "(1-expon.cdf(x=6,scale=5))"
      ],
      "metadata": {
        "id": "bpn5sft3Qawd",
        "outputId": "fef39e4d-f2e8-4885-a683-98cd954b9638",
        "colab": {
          "base_uri": "https://localhost:8080/"
        }
      },
      "execution_count": null,
      "outputs": [
        {
          "output_type": "execute_result",
          "data": {
            "text/plain": [
              "0.3011942119122022"
            ]
          },
          "metadata": {},
          "execution_count": 10
        }
      ]
    },
    {
      "cell_type": "code",
      "source": [
        "#propability of Zero events in 9 times units given No event in first 3 time units\n",
        "poisson.pmf(k=0,mu=9*1/5)/poisson.pmf(k=0,mu=3*1/5)"
      ],
      "metadata": {
        "id": "kfpAkp4RRJ8C",
        "outputId": "80d33cac-2437-45dd-e69d-ca02811237c2",
        "colab": {
          "base_uri": "https://localhost:8080/"
        }
      },
      "execution_count": null,
      "outputs": [
        {
          "output_type": "execute_result",
          "data": {
            "text/plain": [
              "0.3011942119122021"
            ]
          },
          "metadata": {},
          "execution_count": 14
        }
      ]
    },
    {
      "cell_type": "code",
      "source": [
        "# Cummulative distribution for Exponential Distribution\n",
        "n = 20 # amount of time\n",
        "p = 8 # scale\n",
        "sns.lineplot(x= np.arange(0,n+1), y = [expon.cdf(x=i,scale=p) for i in range(0,n+1)])"
      ],
      "metadata": {
        "id": "Ek8fGwvaMlVE",
        "outputId": "b69e4a05-757d-4ab7-c9d6-cb4e88ec754f",
        "colab": {
          "base_uri": "https://localhost:8080/",
          "height": 447
        }
      },
      "execution_count": null,
      "outputs": [
        {
          "output_type": "execute_result",
          "data": {
            "text/plain": [
              "<Axes: >"
            ]
          },
          "metadata": {},
          "execution_count": 27
        },
        {
          "output_type": "display_data",
          "data": {
            "text/plain": [
              "<Figure size 640x480 with 1 Axes>"
            ],
            "image/png": "[encoded data removed]"
          },
          "metadata": {}
        }
      ]
    },
    {
      "cell_type": "markdown",
      "source": [
        "# **DAV - Python Libraries**"
      ],
      "metadata": {
        "id": "ttd3WwPNgp5a"
      }
    },
    {
      "cell_type": "code",
      "source": [
        "from sklearn.impute import SimpleImputer"
      ],
      "metadata": {
        "id": "oRtJpiDFgwp4"
      },
      "execution_count": null,
      "outputs": []
    },
    {
      "cell_type": "markdown",
      "source": [
        "## SimpleImputer"
      ],
      "metadata": {
        "id": "IXXwFVsBh5i9"
      }
    },
    {
      "cell_type": "markdown",
      "source": [
        "To fill NaN Values"
      ],
      "metadata": {
        "id": "EhHiWX8tjZ1W"
      }
    },
    {
      "cell_type": "markdown",
      "source": [
        "* For Numerical Missing --> Impute with Median [ median_imputer= SimpleImputer(strategy = 'median')]\n",
        "* For Categorical Missing --> Impute with Mode [freq_imputer = SimpleImputer(strategy = 'most_frequent') ]"
      ],
      "metadata": {
        "id": "ql4Vnb_QiEXr"
      }
    },
    {
      "cell_type": "code",
      "source": [
        "a = pd.DataFrame([10, 10, 20, 10, 30, 10, np.nan, 50])\n",
        "a"
      ],
      "metadata": {
        "colab": {
          "base_uri": "https://localhost:8080/",
          "height": 300
        },
        "id": "QqLv2QeRhoc4",
        "outputId": "24e0ca03-1591-4506-9c4b-d738b36b13e5"
      },
      "execution_count": null,
      "outputs": [
        {
          "output_type": "execute_result",
          "data": {
            "text/plain": [
              "      0\n",
              "0  10.0\n",
              "1  10.0\n",
              "2  20.0\n",
              "3  10.0\n",
              "4  30.0\n",
              "5  10.0\n",
              "6   NaN\n",
              "7  50.0"
            ],
            "text/html": [
              "\n",
              "  <div id=\"df-fc9227fe-5c10-4865-a1ea-e728f4325ede\" class=\"colab-df-container\">\n",
              "    <div>\n",
              "<style scoped>\n",
              "    .dataframe tbody tr th:only-of-type {\n",
              "        vertical-align: middle;\n",
              "    }\n",
              "\n",
              "    .dataframe tbody tr th {\n",
              "        vertical-align: top;\n",
              "    }\n",
              "\n",
              "    .dataframe thead th {\n",
              "        text-align: right;\n",
              "    }\n",
              "</style>\n",
              "<table border=\"1\" class=\"dataframe\">\n",
              "  <thead>\n",
              "    <tr style=\"text-align: right;\">\n",
              "      <th></th>\n",
              "      <th>0</th>\n",
              "    </tr>\n",
              "  </thead>\n",
              "  <tbody>\n",
              "    <tr>\n",
              "      <th>0</th>\n",
              "      <td>10.0</td>\n",
              "    </tr>\n",
              "    <tr>\n",
              "      <th>1</th>\n",
              "      <td>10.0</td>\n",
              "    </tr>\n",
              "    <tr>\n",
              "      <th>2</th>\n",
              "      <td>20.0</td>\n",
              "    </tr>\n",
              "    <tr>\n",
              "      <th>3</th>\n",
              "      <td>10.0</td>\n",
              "    </tr>\n",
              "    <tr>\n",
              "      <th>4</th>\n",
              "      <td>30.0</td>\n",
              "    </tr>\n",
              "    <tr>\n",
              "      <th>5</th>\n",
              "      <td>10.0</td>\n",
              "    </tr>\n",
              "    <tr>\n",
              "      <th>6</th>\n",
              "      <td>NaN</td>\n",
              "    </tr>\n",
              "    <tr>\n",
              "      <th>7</th>\n",
              "      <td>50.0</td>\n",
              "    </tr>\n",
              "  </tbody>\n",
              "</table>\n",
              "</div>\n",
              "    <div class=\"colab-df-buttons\">\n",
              "\n",
              "  <div class=\"colab-df-container\">\n",
              "    <button class=\"colab-df-convert\" onclick=\"convertToInteractive('df-fc9227fe-5c10-4865-a1ea-e728f4325ede')\"\n",
              "            title=\"Convert this dataframe to an interactive table.\"\n",
              "            style=\"display:none;\">\n",
              "\n",
              "  <svg xmlns=\"http://www.w3.org/2000/svg\" height=\"24px\" viewBox=\"0 -960 960 960\">\n",
              "    <path d=\"M120-120v-720h720v720H120Zm60-500h600v-160H180v160Zm220 220h160v-160H400v160Zm0 220h160v-160H400v160ZM180-400h160v-160H180v160Zm440 0h160v-160H620v160ZM180-180h160v-160H180v160Zm440 0h160v-160H620v160Z\"/>\n",
              "  </svg>\n",
              "    </button>\n",
              "\n",
              "  <style>\n",
              "    .colab-df-container {\n",
              "      display:flex;\n",
              "      gap: 12px;\n",
              "    }\n",
              "\n",
              "    .colab-df-convert {\n",
              "      background-color: #E8F0FE;\n",
              "      border: none;\n",
              "      border-radius: 50%;\n",
              "      cursor: pointer;\n",
              "      display: none;\n",
              "      fill: #1967D2;\n",
              "      height: 32px;\n",
              "      padding: 0 0 0 0;\n",
              "      width: 32px;\n",
              "    }\n",
              "\n",
              "    .colab-df-convert:hover {\n",
              "      background-color: #E2EBFA;\n",
              "      box-shadow: 0px 1px 2px rgba(60, 64, 67, 0.3), 0px 1px 3px 1px rgba(60, 64, 67, 0.15);\n",
              "      fill: #174EA6;\n",
              "    }\n",
              "\n",
              "    .colab-df-buttons div {\n",
              "      margin-bottom: 4px;\n",
              "    }\n",
              "\n",
              "    [theme=dark] .colab-df-convert {\n",
              "      background-color: #3B4455;\n",
              "      fill: #D2E3FC;\n",
              "    }\n",
              "\n",
              "    [theme=dark] .colab-df-convert:hover {\n",
              "      background-color: #434B5C;\n",
              "      box-shadow: 0px 1px 3px 1px rgba(0, 0, 0, 0.15);\n",
              "      filter: drop-shadow(0px 1px 2px rgba(0, 0, 0, 0.3));\n",
              "      fill: #FFFFFF;\n",
              "    }\n",
              "  </style>\n",
              "\n",
              "    <script>\n",
              "      const buttonEl =\n",
              "        document.querySelector('#df-fc9227fe-5c10-4865-a1ea-e728f4325ede button.colab-df-convert');\n",
              "      buttonEl.style.display =\n",
              "        google.colab.kernel.accessAllowed ? 'block' : 'none';\n",
              "\n",
              "      async function convertToInteractive(key) {\n",
              "        const element = document.querySelector('#df-fc9227fe-5c10-4865-a1ea-e728f4325ede');\n",
              "        const dataTable =\n",
              "          await google.colab.kernel.invokeFunction('convertToInteractive',\n",
              "                                                    [key], {});\n",
              "        if (!dataTable) return;\n",
              "\n",
              "        const docLinkHtml = 'Like what you see? Visit the ' +\n",
              "          '<a target=\"_blank\" href=https://colab.research.google.com/notebooks/data_table.ipynb>data table notebook</a>'\n",
              "          + ' to learn more about interactive tables.';\n",
              "        element.innerHTML = '';\n",
              "        dataTable['output_type'] = 'display_data';\n",
              "        await google.colab.output.renderOutput(dataTable, element);\n",
              "        const docLink = document.createElement('div');\n",
              "        docLink.innerHTML = docLinkHtml;\n",
              "        element.appendChild(docLink);\n",
              "      }\n",
              "    </script>\n",
              "  </div>\n",
              "\n",
              "\n",
              "<div id=\"df-0cf061e7-f97d-430b-9dd0-7ee2ba3aa0a4\">\n",
              "  <button class=\"colab-df-quickchart\" onclick=\"quickchart('df-0cf061e7-f97d-430b-9dd0-7ee2ba3aa0a4')\"\n",
              "            title=\"Suggest charts.\"\n",
              "            style=\"display:none;\">\n",
              "\n",
              "<svg xmlns=\"http://www.w3.org/2000/svg\" height=\"24px\"viewBox=\"0 0 24 24\"\n",
              "     width=\"24px\">\n",
              "    <g>\n",
              "        <path d=\"M19 3H5c-1.1 0-2 .9-2 2v14c0 1.1.9 2 2 2h14c1.1 0 2-.9 2-2V5c0-1.1-.9-2-2-2zM9 17H7v-7h2v7zm4 0h-2V7h2v10zm4 0h-2v-4h2v4z\"/>\n",
              "    </g>\n",
              "</svg>\n",
              "  </button>\n",
              "\n",
              "<style>\n",
              "  .colab-df-quickchart {\n",
              "    background-color: #E8F0FE;\n",
              "    border: none;\n",
              "    border-radius: 50%;\n",
              "    cursor: pointer;\n",
              "    display: none;\n",
              "    fill: #1967D2;\n",
              "    height: 32px;\n",
              "    padding: 0 0 0 0;\n",
              "    width: 32px;\n",
              "  }\n",
              "\n",
              "  .colab-df-quickchart:hover {\n",
              "    background-color: #E2EBFA;\n",
              "    box-shadow: 0px 1px 2px rgba(60, 64, 67, 0.3), 0px 1px 3px 1px rgba(60, 64, 67, 0.15);\n",
              "    fill: #174EA6;\n",
              "  }\n",
              "\n",
              "  [theme=dark] .colab-df-quickchart {\n",
              "    background-color: #3B4455;\n",
              "    fill: #D2E3FC;\n",
              "  }\n",
              "\n",
              "  [theme=dark] .colab-df-quickchart:hover {\n",
              "    background-color: #434B5C;\n",
              "    box-shadow: 0px 1px 3px 1px rgba(0, 0, 0, 0.15);\n",
              "    filter: drop-shadow(0px 1px 2px rgba(0, 0, 0, 0.3));\n",
              "    fill: #FFFFFF;\n",
              "  }\n",
              "</style>\n",
              "\n",
              "  <script>\n",
              "    async function quickchart(key) {\n",
              "      const charts = await google.colab.kernel.invokeFunction(\n",
              "          'suggestCharts', [key], {});\n",
              "    }\n",
              "    (() => {\n",
              "      let quickchartButtonEl =\n",
              "        document.querySelector('#df-0cf061e7-f97d-430b-9dd0-7ee2ba3aa0a4 button');\n",
              "      quickchartButtonEl.style.display =\n",
              "        google.colab.kernel.accessAllowed ? 'block' : 'none';\n",
              "    })();\n",
              "  </script>\n",
              "</div>\n",
              "    </div>\n",
              "  </div>\n"
            ]
          },
          "metadata": {},
          "execution_count": 2
        }
      ]
    },
    {
      "cell_type": "code",
      "source": [
        "SimpleImputer(strategy=\"mean\").fit_transform(a)"
      ],
      "metadata": {
        "colab": {
          "base_uri": "https://localhost:8080/"
        },
        "id": "HMYy2l4Dhu4s",
        "outputId": "bf4068e9-2ffb-4e55-cf19-8021814cf0cf"
      },
      "execution_count": null,
      "outputs": [
        {
          "output_type": "execute_result",
          "data": {
            "text/plain": [
              "array([[10.],\n",
              "       [10.],\n",
              "       [20.],\n",
              "       [10.],\n",
              "       [30.],\n",
              "       [10.],\n",
              "       [20.],\n",
              "       [50.]])"
            ]
          },
          "metadata": {},
          "execution_count": 5
        }
      ]
    },
    {
      "cell_type": "code",
      "source": [
        "SimpleImputer(strategy=\"constant\",fill_value=1000).fit_transform(a)"
      ],
      "metadata": {
        "colab": {
          "base_uri": "https://localhost:8080/"
        },
        "id": "qwAgveNkh3uC",
        "outputId": "c808f95a-c5d2-403c-a1b9-7d519a56eae8"
      },
      "execution_count": null,
      "outputs": [
        {
          "output_type": "execute_result",
          "data": {
            "text/plain": [
              "array([[  10.],\n",
              "       [  10.],\n",
              "       [  20.],\n",
              "       [  10.],\n",
              "       [  30.],\n",
              "       [  10.],\n",
              "       [1000.],\n",
              "       [  50.]])"
            ]
          },
          "metadata": {},
          "execution_count": 9
        }
      ]
    },
    {
      "cell_type": "markdown",
      "source": [
        "## LabelEncoder"
      ],
      "metadata": {
        "id": "7B-EvG55jfRH"
      }
    },
    {
      "cell_type": "markdown",
      "source": [
        "It is used when we have only 2 groups [y or N / True or False] in categorical attribute & when we want to change them to Numerical : 0 or 1, we use LabelEncoder"
      ],
      "metadata": {
        "id": "e3lJf5vVkB1X"
      }
    },
    {
      "cell_type": "code",
      "source": [
        "#!pip install sklearn\n",
        "from sklearn.preprocessing import LabelEncoder"
      ],
      "metadata": {
        "id": "0Enxgb2tjkrS"
      },
      "execution_count": null,
      "outputs": []
    },
    {
      "cell_type": "code",
      "source": [
        "label_encoder=LabelEncoder()\n",
        "data[col]=label_encoder.fit_transform(data[col])"
      ],
      "metadata": {
        "id": "tGcB2f-Dj1RF"
      },
      "execution_count": null,
      "outputs": []
    },
    {
      "cell_type": "markdown",
      "source": [
        "## TargetEncoder"
      ],
      "metadata": {
        "id": "Dw0ejABDkiRX"
      }
    },
    {
      "cell_type": "markdown",
      "source": [
        "It is used when we have only > 2 groups [y or N / True or False] in categorical attribute & when we want to change them to Numerical we use TargetEncoder ...it replace cateogircal value with conditional propability values : P[Targetfeaturecolumn | Cateorigal group]"
      ],
      "metadata": {
        "id": "wMTWKCL4krZ-"
      }
    },
    {
      "cell_type": "code",
      "source": [
        "# !pip install category_encoders\n",
        "from category_encoders import TargetEncoder"
      ],
      "metadata": {
        "id": "H5cv1vyukhZ5"
      },
      "execution_count": null,
      "outputs": []
    },
    {
      "cell_type": "code",
      "source": [
        "col=\"Property_Area\"\n",
        "te=TargetEncoder()\n",
        "data[col]=te.fit_transform(data[col],data[\"Loan_Status\"])\n",
        "data[col].value_counts()"
      ],
      "metadata": {
        "id": "Bq6xH44qlQz4"
      },
      "execution_count": null,
      "outputs": []
    }
  ],
  "metadata": {
    "colab": {
      "name": "Welcome to Colaboratory",
      "provenance": [],
      "toc_visible": true,
      "include_colab_link": true
    },
    "kernelspec": {
      "display_name": "Python 3",
      "name": "python3"
    }
  },
  "nbformat": 4,
  "nbformat_minor": 0
}