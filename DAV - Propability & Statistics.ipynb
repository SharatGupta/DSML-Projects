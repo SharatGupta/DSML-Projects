{
  "cells": [
    {
      "cell_type": "markdown",
      "metadata": {
        "id": "view-in-github",
        "colab_type": "text"
      },
      "source": [
        "<a href=\"https://colab.research.google.com/github/SharatGupta/DSML-Projects/blob/main/DAV%20-%20Propability%20%26%20Statistics.ipynb\" target=\"_parent\"><img src=\"https://colab.research.google.com/assets/colab-badge.svg\" alt=\"Open In Colab\"/></a>"
      ]
    },
    {
      "cell_type": "code",
      "source": [
        "import numpy as np\n",
        "import pandas as pd\n",
        "import matplotlib.pyplot as plt\n",
        "import seaborn as sns\n",
        "from scipy.stats import norm, binom, geom\n",
        "from scipy.stats import ttest_1samp, ttest_ind\n",
        "\n",
        "from scipy.stats import chisquare,chi2,chi2_contingency\n",
        "\n",
        "from scipy.stats import f_oneway,kruskal,shapiro\n",
        "from statsmodels.graphics.gofplots import qqplot"
      ],
      "metadata": {
        "id": "A1cnXURf3_FK"
      },
      "execution_count": 1,
      "outputs": []
    },
    {
      "cell_type": "markdown",
      "source": [
        "# **DAV - Propability & Statistics**"
      ],
      "metadata": {
        "id": "89l2xmvqgg9m"
      }
    },
    {
      "cell_type": "code",
      "source": [
        "def normal(mu, sigma,obs):\n",
        "  # Sigma is the Population standard Deviation\n",
        "  # mu is Pupulation or Sample Mean\n",
        "  # obs is value for which propability to be calculated\n",
        "  z = (obs- mu)/sigma\n",
        "  prob_less = norm.cdf(z)\n",
        "  prob_more = 1 - prob_less\n",
        "  return prob_less, prob_more,z"
      ],
      "metadata": {
        "id": "ZxwkC7t94bhK"
      },
      "execution_count": null,
      "outputs": []
    },
    {
      "cell_type": "code",
      "source": [
        "normal(80,10, 90)"
      ],
      "metadata": {
        "id": "3LtVNrJTwd2z",
        "outputId": "ecd40a69-c6c3-4469-97bb-46c67f4ed3f4",
        "colab": {
          "base_uri": "https://localhost:8080/"
        }
      },
      "execution_count": null,
      "outputs": [
        {
          "output_type": "execute_result",
          "data": {
            "text/plain": [
              "(0.8413447460685429, 0.15865525393145707, 1.0)"
            ]
          },
          "metadata": {},
          "execution_count": 61
        }
      ]
    },
    {
      "cell_type": "code",
      "source": [
        "def clt_fun(mu, sigma, n, obs):\n",
        "  # Sigma is the Population standard Deviation\n",
        "  # mu is Pupulation or Sample Mean\n",
        "  # n is sample Size\n",
        "  # obs is value for which propability to be calculated\n",
        "  std_error = sigma / np.sqrt(n)\n",
        "  z = (obs- mu)/std_error\n",
        "  prob_less = norm.cdf(z)\n",
        "  prob_more = 1 - prob_less\n",
        "  return prob_less, prob_more"
      ],
      "metadata": {
        "id": "Qn-YZ0O64H8p"
      },
      "execution_count": null,
      "outputs": []
    },
    {
      "cell_type": "code",
      "source": [
        "clt_fun(80, 15, 50, 75)"
      ],
      "metadata": {
        "id": "ip9h9OAh4OEC",
        "outputId": "141eb3db-a77c-44ce-8414-d3163868399e",
        "colab": {
          "base_uri": "https://localhost:8080/"
        }
      },
      "execution_count": null,
      "outputs": [
        {
          "output_type": "execute_result",
          "data": {
            "text/plain": [
              "(0.009211062727049501, 0.9907889372729505)"
            ]
          },
          "metadata": {},
          "execution_count": 63
        }
      ]
    },
    {
      "cell_type": "code",
      "source": [
        "def confiinterval(mu, sigma, n, perct):\n",
        "  # Sigma is the Population standard Deviation\n",
        "  # mu is Population or Sample Mean\n",
        "  # n is sample Size\n",
        "  # perct is confidence percentatge required for interval calculation\n",
        "  std_error = sigma / np.sqrt(n)\n",
        "  x1 = mu + (std_error * norm.ppf((100-perct)/200))\n",
        "  x2 = mu + (std_error * norm.ppf(1 - ((100-perct)/200)))\n",
        "  return x1,x2"
      ],
      "metadata": {
        "id": "y2blgh4c4YVM"
      },
      "execution_count": null,
      "outputs": []
    },
    {
      "cell_type": "code",
      "source": [
        "confiinterval(80, 10, 30, 99)"
      ],
      "metadata": {
        "id": "-e9YJJ33xHBT",
        "outputId": "634bb690-70ab-49dd-b81d-5e26c67322f9",
        "colab": {
          "base_uri": "https://localhost:8080/"
        }
      },
      "execution_count": null,
      "outputs": [
        {
          "output_type": "execute_result",
          "data": {
            "text/plain": [
              "(75.29720062054481, 84.70279937945519)"
            ]
          },
          "metadata": {},
          "execution_count": 65
        }
      ]
    },
    {
      "cell_type": "code",
      "source": [
        "# TO calculate Z value from  Percentile ( Input Percentile : 0 ~ 1)( output Z: -inf to +inf)\n",
        "norm.ppf(0.9)"
      ],
      "metadata": {
        "id": "SGQYHfNbot3y",
        "outputId": "5e12633d-d9e2-49c5-9f15-3fb886e7c43a",
        "colab": {
          "base_uri": "https://localhost:8080/"
        }
      },
      "execution_count": null,
      "outputs": [
        {
          "output_type": "execute_result",
          "data": {
            "text/plain": [
              "1.2815515655446004"
            ]
          },
          "metadata": {},
          "execution_count": 66
        }
      ]
    },
    {
      "cell_type": "code",
      "source": [
        "# TO calculate Percentile from Z value ( Input Z : -inf to +inf)(output Percentile: 0 ~ 1)\n",
        "norm.cdf(-1)"
      ],
      "metadata": {
        "id": "WeFR6guko9bX",
        "outputId": "c3668ac4-e63b-465a-dac1-16f63f1a6131",
        "colab": {
          "base_uri": "https://localhost:8080/"
        }
      },
      "execution_count": null,
      "outputs": [
        {
          "output_type": "execute_result",
          "data": {
            "text/plain": [
              "0.15865525393145707"
            ]
          },
          "metadata": {},
          "execution_count": 67
        }
      ]
    },
    {
      "cell_type": "code",
      "source": [
        "# Binomial Distribution Propability for \"s\" sucesses in \"n\" trial with success propability of \"p\"\n",
        "n = 10 # No of Trial\n",
        "p = 0.5 # Propability of Success\n",
        "s = 5 #No of Success in N trials\n",
        "binom.pmf(s, n, p)"
      ],
      "metadata": {
        "id": "qSU-GvIbsBT2",
        "outputId": "ce353b84-cce3-4e63-b1ff-5362f8eeda8f",
        "colab": {
          "base_uri": "https://localhost:8080/"
        }
      },
      "execution_count": null,
      "outputs": [
        {
          "output_type": "execute_result",
          "data": {
            "text/plain": [
              "0.24609375000000003"
            ]
          },
          "metadata": {},
          "execution_count": 68
        }
      ]
    },
    {
      "cell_type": "code",
      "source": [
        "# Binomial Distribution Propability for all possible success outcomes from 0 to n Sucesses\n",
        "n = 10 # No of Trial\n",
        "p = 0.5 # Propability of Succes\n",
        "binom.pmf(np.arange(n+1), n, p)"
      ],
      "metadata": {
        "id": "NrWFXrM8pZ-h",
        "outputId": "e2b89fa5-66ff-4893-faeb-e91d3a94825c",
        "colab": {
          "base_uri": "https://localhost:8080/"
        }
      },
      "execution_count": null,
      "outputs": [
        {
          "output_type": "execute_result",
          "data": {
            "text/plain": [
              "array([0.00097656, 0.00976563, 0.04394531, 0.1171875 , 0.20507812,\n",
              "       0.24609375, 0.20507812, 0.1171875 , 0.04394531, 0.00976563,\n",
              "       0.00097656])"
            ]
          },
          "metadata": {},
          "execution_count": 69
        }
      ]
    },
    {
      "cell_type": "code",
      "source": [
        "# Binomial Distribution Propability plot\n",
        "n = 10 # No of Trial\n",
        "p = 0.3 # Propability of Succes\n",
        "sns.barplot(x= np.arange(n+1), y = [binom.pmf(i,n,p) for i in range(n+1)])"
      ],
      "metadata": {
        "id": "Zfsk9lZlrmF_",
        "outputId": "8e30a4c1-3635-4933-933e-5f283bb644fd",
        "colab": {
          "base_uri": "https://localhost:8080/",
          "height": 447
        }
      },
      "execution_count": null,
      "outputs": [
        {
          "output_type": "execute_result",
          "data": {
            "text/plain": [
              "<Axes: >"
            ]
          },
          "metadata": {},
          "execution_count": 70
        },
        {
          "output_type": "display_data",
          "data": {
            "text/plain": [
              "<Figure size 640x480 with 1 Axes>"
            ],
            "image/png": "[encoded data removed]"
          },
          "metadata": {}
        }
      ]
    },
    {
      "cell_type": "code",
      "source": [
        "# Binomial Distribution Propability for  sucesses less than \"s\" in \"n\" trial with success propability of \"p\":Cummulative Distribution\n",
        "n = 10 # No of Trial\n",
        "p = 0.5 # Propability of Succes\n",
        "s = 7 # No of Success less than \"s\"\n",
        "binom.cdf(s,n,p)"
      ],
      "metadata": {
        "id": "AhCdhYRWqNi7",
        "outputId": "ccb26f36-8ac1-433e-cdd7-94ba803eaac9",
        "colab": {
          "base_uri": "https://localhost:8080/"
        }
      },
      "execution_count": null,
      "outputs": [
        {
          "output_type": "execute_result",
          "data": {
            "text/plain": [
              "0.9453125"
            ]
          },
          "metadata": {},
          "execution_count": 71
        }
      ]
    },
    {
      "cell_type": "code",
      "source": [
        "# Cummulative distribution for Binomial Distribution\n",
        "n = 10 # No of Trial\n",
        "p = 0.5 # Propability of Succes\n",
        "sns.lineplot(x= np.arange(n+1), y = [binom.cdf(i,n,p) for i in range(n+1)])"
      ],
      "metadata": {
        "id": "38Mc7CBpqi_J",
        "outputId": "1911c95e-4099-4f8e-8ef2-b2a5f6d33519",
        "colab": {
          "base_uri": "https://localhost:8080/",
          "height": 447
        }
      },
      "execution_count": null,
      "outputs": [
        {
          "output_type": "execute_result",
          "data": {
            "text/plain": [
              "<Axes: >"
            ]
          },
          "metadata": {},
          "execution_count": 72
        },
        {
          "output_type": "display_data",
          "data": {
            "text/plain": [
              "<Figure size 640x480 with 1 Axes>"
            ],
            "image/png": "[encoded data removed]"
          },
          "metadata": {}
        }
      ]
    },
    {
      "cell_type": "code",
      "source": [
        "# Geometric Distribution Propability\n",
        "n = 0 # No of Trial for 1st Succes\n",
        "p = 0.5 # Propability of Succes\n",
        "geom.pmf(n, p)"
      ],
      "metadata": {
        "id": "qXjAM5E9qCzX",
        "outputId": "f461fba9-d684-4894-8528-aa76ab02a855",
        "colab": {
          "base_uri": "https://localhost:8080/"
        }
      },
      "execution_count": null,
      "outputs": [
        {
          "output_type": "execute_result",
          "data": {
            "text/plain": [
              "0.0"
            ]
          },
          "metadata": {},
          "execution_count": 73
        }
      ]
    },
    {
      "cell_type": "code",
      "source": [
        "# Geometric Distribution Propability curve [Propability of Succes at given no of trials]\n",
        "n = 100 # No of Trial\n",
        "p = 0.1 # Propability of Succes\n",
        "sns.lineplot(x= np.arange(0,n+1), y = [geom.pmf(i,p) for i in range(0,n+1)])"
      ],
      "metadata": {
        "id": "7Kj8ypIisyo_",
        "outputId": "3d88c08d-f8b8-4f4d-fcc1-3dd316a62ce4",
        "colab": {
          "base_uri": "https://localhost:8080/",
          "height": 447
        }
      },
      "execution_count": null,
      "outputs": [
        {
          "output_type": "execute_result",
          "data": {
            "text/plain": [
              "<Axes: >"
            ]
          },
          "metadata": {},
          "execution_count": 74
        },
        {
          "output_type": "display_data",
          "data": {
            "text/plain": [
              "<Figure size 640x480 with 1 Axes>"
            ],
            "image/png": "[encoded data removed]"
          },
          "metadata": {}
        }
      ]
    },
    {
      "cell_type": "code",
      "source": [
        "# Geometric Distribution Propability for sucesses  by \"n\"th trial  with success propability of \"p\":Cummulative Distribution\n",
        "n = 3 #  sucesse  by \"n\"th\n",
        "p = 0.1 # Propability of Succes\n",
        "geom.cdf(n, p)"
      ],
      "metadata": {
        "id": "5gNpIWo4vEKJ",
        "outputId": "aa4e8aa2-0d78-49bd-9682-377ea4f40362",
        "colab": {
          "base_uri": "https://localhost:8080/"
        }
      },
      "execution_count": null,
      "outputs": [
        {
          "output_type": "execute_result",
          "data": {
            "text/plain": [
              "0.271"
            ]
          },
          "metadata": {},
          "execution_count": 75
        }
      ]
    },
    {
      "cell_type": "code",
      "source": [
        "# Cummulative distribution for Geomtric Distribution\n",
        "n = 10 # No of Trial\n",
        "p = 0.1 # Propability of Success\n",
        "sns.lineplot(x= np.arange(0,n+1), y = [geom.cdf(i,p) for i in range(0,n+1)])"
      ],
      "metadata": {
        "id": "8yI8W05UvJMd",
        "outputId": "3d3f54c0-fab3-4e31-8d80-0d436092a725",
        "colab": {
          "base_uri": "https://localhost:8080/",
          "height": 447
        }
      },
      "execution_count": null,
      "outputs": [
        {
          "output_type": "execute_result",
          "data": {
            "text/plain": [
              "<Axes: >"
            ]
          },
          "metadata": {},
          "execution_count": 76
        },
        {
          "output_type": "display_data",
          "data": {
            "text/plain": [
              "<Figure size 640x480 with 1 Axes>"
            ],
            "image/png": "[encoded data removed]"
          },
          "metadata": {}
        }
      ]
    },
    {
      "cell_type": "code",
      "source": [
        "geom.ppf(0.7,0.5)"
      ],
      "metadata": {
        "id": "pJBjxKW9_ods",
        "outputId": "c20a836a-31b9-4f13-f817-f86fa91accd3",
        "colab": {
          "base_uri": "https://localhost:8080/"
        }
      },
      "execution_count": null,
      "outputs": [
        {
          "output_type": "execute_result",
          "data": {
            "text/plain": [
              "2.0"
            ]
          },
          "metadata": {},
          "execution_count": 2
        }
      ]
    },
    {
      "cell_type": "markdown",
      "source": [
        "# **DAV - Fundamentals**"
      ],
      "metadata": {
        "id": "Z5-OJAfHgocv"
      }
    },
    {
      "cell_type": "markdown",
      "source": [
        "## Z-Test"
      ],
      "metadata": {
        "id": "UUDHNbufgynn"
      }
    },
    {
      "cell_type": "code",
      "source": [
        "# H0: mu = 500\n",
        "# Ha : mu >500\n",
        "\n",
        "z_stat = (530-500)/(125/np.sqrt(70))\n",
        "p_value = 1-norm.cdf(z_stat)\n",
        "print(p_value)\n",
        "alpha = 0.05\n",
        "if p_value < alpha:\n",
        "    print(\"Reject H0\")\n",
        "else:\n",
        "    print(\"Do not reject H0\")"
      ],
      "metadata": {
        "id": "sZO285Ctg6Uo"
      },
      "execution_count": null,
      "outputs": []
    },
    {
      "cell_type": "code",
      "source": [
        "z = norm.ppf(0.95)\n",
        "x = 500 + z * 125/np.sqrt(70)\n",
        "x"
      ],
      "metadata": {
        "id": "jrXeq46mhRcj"
      },
      "execution_count": null,
      "outputs": []
    },
    {
      "cell_type": "code",
      "source": [
        "1-norm.cdf((524.574701413748-500)/(125/np.sqrt(70)))"
      ],
      "metadata": {
        "id": "afTyy4l2hTh-"
      },
      "execution_count": null,
      "outputs": []
    },
    {
      "cell_type": "markdown",
      "source": [
        "## T-Test"
      ],
      "metadata": {
        "id": "JsYBO_iuhYrv"
      }
    },
    {
      "cell_type": "markdown",
      "source": [
        "1-Sample T-Test"
      ],
      "metadata": {
        "id": "v7PJxkcFhsoJ"
      }
    },
    {
      "cell_type": "code",
      "source": [
        "# Improve IQ with a pill\n",
        "#Population IQ average = 100\n",
        "#One researcher claims that his pill will improve IQ\n",
        "\n",
        "iq_scores = [110, 105, 98, 102, 99, 104, 115, 95]\n",
        "np.mean(iq_scores)"
      ],
      "metadata": {
        "colab": {
          "base_uri": "https://localhost:8080/"
        },
        "id": "xWal05lohXt8",
        "outputId": "d4787f03-274e-47f2-87ff-7acfc11f06fb"
      },
      "execution_count": null,
      "outputs": [
        {
          "output_type": "execute_result",
          "data": {
            "text/plain": [
              "103.5"
            ]
          },
          "metadata": {},
          "execution_count": 40
        }
      ]
    },
    {
      "cell_type": "code",
      "source": [
        "alpha = 0.01\n",
        "#H0 : mu = 100 (pill does have any effect)\n",
        "#Ha : mu> 100 (pill has a good effect)\n",
        "\n",
        "t_stat, p_value = ttest_1samp(iq_scores, 100,alternative = \"greater\")\n",
        "print(p_value)\n",
        "print(t_stat)\n",
        "if p_value < alpha:\n",
        "    print(\"Reject H0\")\n",
        "else:\n",
        "    print(\"Fail to reject H0\")\n",
        "    print(\"Pill has no effect\")"
      ],
      "metadata": {
        "colab": {
          "base_uri": "https://localhost:8080/"
        },
        "id": "9YtzVQspiDdd",
        "outputId": "c146bdef-5787-444b-e947-716ff024ed87"
      },
      "execution_count": null,
      "outputs": [
        {
          "output_type": "stream",
          "name": "stdout",
          "text": [
            "0.08774972467925055\n",
            "1.5071573172061195\n",
            "Fail to reject H0\n",
            "Pill has no effect\n"
          ]
        }
      ]
    },
    {
      "cell_type": "markdown",
      "source": [
        "2-Sample or Independent T-Test"
      ],
      "metadata": {
        "id": "Wel3M_TKiRSk"
      }
    },
    {
      "cell_type": "code",
      "source": [
        "#IQ across 2 schools\n",
        "df_iq = pd.read_csv(\"iq_two_schools.csv\")\n",
        "df_iq.head()"
      ],
      "metadata": {
        "colab": {
          "base_uri": "https://localhost:8080/",
          "height": 206
        },
        "id": "u0-Taul1iQ9C",
        "outputId": "4da7e2ae-6df9-43da-db60-5ddf6f741204"
      },
      "execution_count": null,
      "outputs": [
        {
          "output_type": "execute_result",
          "data": {
            "text/plain": [
              "     School   iq\n",
              "0  school_1   91\n",
              "1  school_1   95\n",
              "2  school_1  110\n",
              "3  school_1  112\n",
              "4  school_1  115"
            ],
            "text/html": [
              "\n",
              "\n",
              "  <div id=\"df-2331bfec-4b67-4b5c-85d8-a626002ad57b\">\n",
              "    <div class=\"colab-df-container\">\n",
              "      <div>\n",
              "<style scoped>\n",
              "    .dataframe tbody tr th:only-of-type {\n",
              "        vertical-align: middle;\n",
              "    }\n",
              "\n",
              "    .dataframe tbody tr th {\n",
              "        vertical-align: top;\n",
              "    }\n",
              "\n",
              "    .dataframe thead th {\n",
              "        text-align: right;\n",
              "    }\n",
              "</style>\n",
              "<table border=\"1\" class=\"dataframe\">\n",
              "  <thead>\n",
              "    <tr style=\"text-align: right;\">\n",
              "      <th></th>\n",
              "      <th>School</th>\n",
              "      <th>iq</th>\n",
              "    </tr>\n",
              "  </thead>\n",
              "  <tbody>\n",
              "    <tr>\n",
              "      <th>0</th>\n",
              "      <td>school_1</td>\n",
              "      <td>91</td>\n",
              "    </tr>\n",
              "    <tr>\n",
              "      <th>1</th>\n",
              "      <td>school_1</td>\n",
              "      <td>95</td>\n",
              "    </tr>\n",
              "    <tr>\n",
              "      <th>2</th>\n",
              "      <td>school_1</td>\n",
              "      <td>110</td>\n",
              "    </tr>\n",
              "    <tr>\n",
              "      <th>3</th>\n",
              "      <td>school_1</td>\n",
              "      <td>112</td>\n",
              "    </tr>\n",
              "    <tr>\n",
              "      <th>4</th>\n",
              "      <td>school_1</td>\n",
              "      <td>115</td>\n",
              "    </tr>\n",
              "  </tbody>\n",
              "</table>\n",
              "</div>\n",
              "      <button class=\"colab-df-convert\" onclick=\"convertToInteractive('df-2331bfec-4b67-4b5c-85d8-a626002ad57b')\"\n",
              "              title=\"Convert this dataframe to an interactive table.\"\n",
              "              style=\"display:none;\">\n",
              "\n",
              "  <svg xmlns=\"http://www.w3.org/2000/svg\" height=\"24px\"viewBox=\"0 0 24 24\"\n",
              "       width=\"24px\">\n",
              "    <path d=\"M0 0h24v24H0V0z\" fill=\"none\"/>\n",
              "    <path d=\"M18.56 5.44l.94 2.06.94-2.06 2.06-.94-2.06-.94-.94-2.06-.94 2.06-2.06.94zm-11 1L8.5 8.5l.94-2.06 2.06-.94-2.06-.94L8.5 2.5l-.94 2.06-2.06.94zm10 10l.94 2.06.94-2.06 2.06-.94-2.06-.94-.94-2.06-.94 2.06-2.06.94z\"/><path d=\"M17.41 7.96l-1.37-1.37c-.4-.4-.92-.59-1.43-.59-.52 0-1.04.2-1.43.59L10.3 9.45l-7.72 7.72c-.78.78-.78 2.05 0 2.83L4 21.41c.39.39.9.59 1.41.59.51 0 1.02-.2 1.41-.59l7.78-7.78 2.81-2.81c.8-.78.8-2.07 0-2.86zM5.41 20L4 18.59l7.72-7.72 1.47 1.35L5.41 20z\"/>\n",
              "  </svg>\n",
              "      </button>\n",
              "\n",
              "\n",
              "\n",
              "    <div id=\"df-0d9d1487-6518-439f-8fad-6f7c4d1d66fd\">\n",
              "      <button class=\"colab-df-quickchart\" onclick=\"quickchart('df-0d9d1487-6518-439f-8fad-6f7c4d1d66fd')\"\n",
              "              title=\"Suggest charts.\"\n",
              "              style=\"display:none;\">\n",
              "\n",
              "<svg xmlns=\"http://www.w3.org/2000/svg\" height=\"24px\"viewBox=\"0 0 24 24\"\n",
              "     width=\"24px\">\n",
              "    <g>\n",
              "        <path d=\"M19 3H5c-1.1 0-2 .9-2 2v14c0 1.1.9 2 2 2h14c1.1 0 2-.9 2-2V5c0-1.1-.9-2-2-2zM9 17H7v-7h2v7zm4 0h-2V7h2v10zm4 0h-2v-4h2v4z\"/>\n",
              "    </g>\n",
              "</svg>\n",
              "      </button>\n",
              "    </div>\n",
              "\n",
              "<style>\n",
              "  .colab-df-quickchart {\n",
              "    background-color: #E8F0FE;\n",
              "    border: none;\n",
              "    border-radius: 50%;\n",
              "    cursor: pointer;\n",
              "    display: none;\n",
              "    fill: #1967D2;\n",
              "    height: 32px;\n",
              "    padding: 0 0 0 0;\n",
              "    width: 32px;\n",
              "  }\n",
              "\n",
              "  .colab-df-quickchart:hover {\n",
              "    background-color: #E2EBFA;\n",
              "    box-shadow: 0px 1px 2px rgba(60, 64, 67, 0.3), 0px 1px 3px 1px rgba(60, 64, 67, 0.15);\n",
              "    fill: #174EA6;\n",
              "  }\n",
              "\n",
              "  [theme=dark] .colab-df-quickchart {\n",
              "    background-color: #3B4455;\n",
              "    fill: #D2E3FC;\n",
              "  }\n",
              "\n",
              "  [theme=dark] .colab-df-quickchart:hover {\n",
              "    background-color: #434B5C;\n",
              "    box-shadow: 0px 1px 3px 1px rgba(0, 0, 0, 0.15);\n",
              "    filter: drop-shadow(0px 1px 2px rgba(0, 0, 0, 0.3));\n",
              "    fill: #FFFFFF;\n",
              "  }\n",
              "</style>\n",
              "\n",
              "    <script>\n",
              "      async function quickchart(key) {\n",
              "        const containerElement = document.querySelector('#' + key);\n",
              "        const charts = await google.colab.kernel.invokeFunction(\n",
              "            'suggestCharts', [key], {});\n",
              "      }\n",
              "    </script>\n",
              "\n",
              "      <script>\n",
              "\n",
              "function displayQuickchartButton(domScope) {\n",
              "  let quickchartButtonEl =\n",
              "    domScope.querySelector('#df-0d9d1487-6518-439f-8fad-6f7c4d1d66fd button.colab-df-quickchart');\n",
              "  quickchartButtonEl.style.display =\n",
              "    google.colab.kernel.accessAllowed ? 'block' : 'none';\n",
              "}\n",
              "\n",
              "        displayQuickchartButton(document);\n",
              "      </script>\n",
              "      <style>\n",
              "    .colab-df-container {\n",
              "      display:flex;\n",
              "      flex-wrap:wrap;\n",
              "      gap: 12px;\n",
              "    }\n",
              "\n",
              "    .colab-df-convert {\n",
              "      background-color: #E8F0FE;\n",
              "      border: none;\n",
              "      border-radius: 50%;\n",
              "      cursor: pointer;\n",
              "      display: none;\n",
              "      fill: #1967D2;\n",
              "      height: 32px;\n",
              "      padding: 0 0 0 0;\n",
              "      width: 32px;\n",
              "    }\n",
              "\n",
              "    .colab-df-convert:hover {\n",
              "      background-color: #E2EBFA;\n",
              "      box-shadow: 0px 1px 2px rgba(60, 64, 67, 0.3), 0px 1px 3px 1px rgba(60, 64, 67, 0.15);\n",
              "      fill: #174EA6;\n",
              "    }\n",
              "\n",
              "    [theme=dark] .colab-df-convert {\n",
              "      background-color: #3B4455;\n",
              "      fill: #D2E3FC;\n",
              "    }\n",
              "\n",
              "    [theme=dark] .colab-df-convert:hover {\n",
              "      background-color: #434B5C;\n",
              "      box-shadow: 0px 1px 3px 1px rgba(0, 0, 0, 0.15);\n",
              "      filter: drop-shadow(0px 1px 2px rgba(0, 0, 0, 0.3));\n",
              "      fill: #FFFFFF;\n",
              "    }\n",
              "  </style>\n",
              "\n",
              "      <script>\n",
              "        const buttonEl =\n",
              "          document.querySelector('#df-2331bfec-4b67-4b5c-85d8-a626002ad57b button.colab-df-convert');\n",
              "        buttonEl.style.display =\n",
              "          google.colab.kernel.accessAllowed ? 'block' : 'none';\n",
              "\n",
              "        async function convertToInteractive(key) {\n",
              "          const element = document.querySelector('#df-2331bfec-4b67-4b5c-85d8-a626002ad57b');\n",
              "          const dataTable =\n",
              "            await google.colab.kernel.invokeFunction('convertToInteractive',\n",
              "                                                     [key], {});\n",
              "          if (!dataTable) return;\n",
              "\n",
              "          const docLinkHtml = 'Like what you see? Visit the ' +\n",
              "            '<a target=\"_blank\" href=https://colab.research.google.com/notebooks/data_table.ipynb>data table notebook</a>'\n",
              "            + ' to learn more about interactive tables.';\n",
              "          element.innerHTML = '';\n",
              "          dataTable['output_type'] = 'display_data';\n",
              "          await google.colab.output.renderOutput(dataTable, element);\n",
              "          const docLink = document.createElement('div');\n",
              "          docLink.innerHTML = docLinkHtml;\n",
              "          element.appendChild(docLink);\n",
              "        }\n",
              "      </script>\n",
              "    </div>\n",
              "  </div>\n"
            ]
          },
          "metadata": {},
          "execution_count": 43
        }
      ]
    },
    {
      "cell_type": "code",
      "source": [
        "df_iq.groupby(\"School\")[\"iq\"].mean()"
      ],
      "metadata": {
        "colab": {
          "base_uri": "https://localhost:8080/"
        },
        "id": "RTeibfXLicCE",
        "outputId": "a125cfcd-73dc-401e-b262-b13a1875cecc"
      },
      "execution_count": null,
      "outputs": [
        {
          "output_type": "execute_result",
          "data": {
            "text/plain": [
              "School\n",
              "school_1    101.153846\n",
              "school_2    109.416667\n",
              "Name: iq, dtype: float64"
            ]
          },
          "metadata": {},
          "execution_count": 44
        }
      ]
    },
    {
      "cell_type": "code",
      "source": [
        "iq_1 = df_iq[df_iq[\"School\"]==\"school_1\"][\"iq\"]\n",
        "iq_2 = df_iq[df_iq[\"School\"]==\"school_2\"][\"iq\"]"
      ],
      "metadata": {
        "id": "UIp73KhgiikZ"
      },
      "execution_count": null,
      "outputs": []
    },
    {
      "cell_type": "code",
      "source": [
        "# H0: mu1 = mu2 #H0 : two schools are essentially the same\n",
        "#Ha: mu1 != mu2  #Default - two sided\n",
        "t_stat, p_value = ttest_ind(iq_1, iq_2)\n",
        "print(p_value)\n",
        "if p_value < 0.05:\n",
        "    print(\"Reject H0\")\n",
        "else:\n",
        "    print(\"Fail to reject H0\")"
      ],
      "metadata": {
        "colab": {
          "base_uri": "https://localhost:8080/"
        },
        "id": "Vr-MG2R8inWc",
        "outputId": "70b73907-63e9-4303-f3c4-5c462edf381a"
      },
      "execution_count": null,
      "outputs": [
        {
          "output_type": "stream",
          "name": "stdout",
          "text": [
            "0.02004552710936217\n",
            "Reject H0\n"
          ]
        }
      ]
    },
    {
      "cell_type": "code",
      "source": [
        "#H0: mu1 = mu2\n",
        "#Ha : mu1 < mu2\n",
        "\n",
        "t_stat, p_value = ttest_ind(iq_1, iq_2, alternative=\"less\")\n",
        "print(p_value)\n",
        "if p_value < 0.05:\n",
        "    print(\"Reject H0\")\n",
        "else:\n",
        "    print(\"Fail to reject H0\")"
      ],
      "metadata": {
        "colab": {
          "base_uri": "https://localhost:8080/"
        },
        "id": "PdDMMZk0ir6g",
        "outputId": "a4306319-102e-4660-daa0-63098042c7c9"
      },
      "execution_count": null,
      "outputs": [
        {
          "output_type": "stream",
          "name": "stdout",
          "text": [
            "0.010022763554681085\n",
            "Reject H0\n"
          ]
        }
      ]
    },
    {
      "cell_type": "code",
      "source": [
        "# Ha: mu1 > mu2\n",
        "\n",
        "t_stat, p_value = ttest_ind(iq_1, iq_2, alternative=\"greater\")\n",
        "print(p_value)\n",
        "if p_value < 0.05:\n",
        "    print(\"Reject H0\")\n",
        "else:\n",
        "    print(\"Fail to reject H0\")"
      ],
      "metadata": {
        "colab": {
          "base_uri": "https://localhost:8080/"
        },
        "id": "DAOpkL1oivZA",
        "outputId": "ac60c9e5-55c5-48fb-bd46-fdf44f7f3e69"
      },
      "execution_count": null,
      "outputs": [
        {
          "output_type": "stream",
          "name": "stdout",
          "text": [
            "0.9899772364453189\n",
            "Fail to reject H0\n"
          ]
        }
      ]
    },
    {
      "cell_type": "markdown",
      "source": [
        "## Chisquared Test"
      ],
      "metadata": {
        "id": "eGpjPOUr2jcf"
      }
    },
    {
      "cell_type": "code",
      "source": [
        "#Coin toss\n",
        "\n",
        "#H0 : Coin is fair\n",
        "#Ha : Coin is biased\n",
        "#Chisquared(Actual Values, Expected Values as per Ho)\n",
        "alpha = 0.05\n",
        "chi_stat, p_value = chisquare(\n",
        "    [28, 22],\n",
        "    [25, 25],\n",
        ")\n",
        "print(p_value)\n",
        "print(chi_stat)\n",
        "if p_value < alpha:\n",
        "    print(\"Reject H0\")\n",
        "else:\n",
        "    print(\"Fail to reject H0\")\n",
        "    print(\"Coin is fair\")"
      ],
      "metadata": {
        "colab": {
          "base_uri": "https://localhost:8080/"
        },
        "id": "Rq-TfgKu2rqq",
        "outputId": "8bcec4bc-5951-42f7-dc31-f9fc3199f398"
      },
      "execution_count": 2,
      "outputs": [
        {
          "output_type": "stream",
          "name": "stdout",
          "text": [
            "0.3961439091520741\n",
            "0.72\n",
            "Fail to reject H0\n",
            "Coin is fair\n"
          ]
        }
      ]
    },
    {
      "cell_type": "code",
      "source": [
        "#chi-stat manually doing\n",
        "(28 - 25)**2/25 + (22 - 25)**2 /25"
      ],
      "metadata": {
        "colab": {
          "base_uri": "https://localhost:8080/"
        },
        "id": "r408cJE83oL3",
        "outputId": "1a916826-c3ad-420d-dcf5-fde94d435633"
      },
      "execution_count": 5,
      "outputs": [
        {
          "output_type": "execute_result",
          "data": {
            "text/plain": [
              "0.72"
            ]
          },
          "metadata": {},
          "execution_count": 5
        }
      ]
    },
    {
      "cell_type": "code",
      "source": [
        "#p-value manually doing\n",
        "# 1 - chi2.cdf(chi-stat, df=1)\n",
        "1 - chi2.cdf(0.72, df=1)"
      ],
      "metadata": {
        "colab": {
          "base_uri": "https://localhost:8080/"
        },
        "id": "6mFNvEqq3vgI",
        "outputId": "b3db2879-e04d-412a-c16d-72bd31cab129"
      },
      "execution_count": 6,
      "outputs": [
        {
          "output_type": "execute_result",
          "data": {
            "text/plain": [
              "0.3961439091520741"
            ]
          },
          "metadata": {},
          "execution_count": 6
        }
      ]
    },
    {
      "cell_type": "code",
      "source": [
        "#finding 95% Critical Chistat Value\n",
        "chi2.ppf(0.95, df=1)"
      ],
      "metadata": {
        "id": "LzUo0SLZ4Onb",
        "outputId": "1888220c-9c3b-44b2-b727-f0d859c46631",
        "colab": {
          "base_uri": "https://localhost:8080/"
        }
      },
      "execution_count": 7,
      "outputs": [
        {
          "output_type": "execute_result",
          "data": {
            "text/plain": [
              "3.841458820694124"
            ]
          },
          "metadata": {},
          "execution_count": 7
        }
      ]
    },
    {
      "cell_type": "code",
      "source": [
        "#Gender vs offline and online\n",
        "\n",
        "# H0: Gender and preference are independent\n",
        "# Ha: Preference depends on gender\n",
        "\n",
        "observed = [\n",
        "    [527, 72],\n",
        "    [206, 102],\n",
        "]\n",
        "\n",
        "chi_stat, p_value, df, exp_freq = chi2_contingency(observed)\n",
        "print(chi_stat)\n",
        "print(p_value)\n",
        "print(df)\n",
        "print(exp_freq)\n",
        "if p_value < 0.05:\n",
        "    print(\"Reject H0\")"
      ],
      "metadata": {
        "id": "wdO3ssYb4ZkJ",
        "outputId": "422f870c-55a9-4d2c-bed1-0674d4250fab",
        "colab": {
          "base_uri": "https://localhost:8080/"
        }
      },
      "execution_count": 8,
      "outputs": [
        {
          "output_type": "stream",
          "name": "stdout",
          "text": [
            "57.04098674049609\n",
            "4.268230756875865e-14\n",
            "1\n",
            "[[484.08710033 114.91289967]\n",
            " [248.91289967  59.08710033]]\n",
            "Reject H0\n"
          ]
        }
      ]
    },
    {
      "cell_type": "markdown",
      "source": [
        "## ANOVA"
      ],
      "metadata": {
        "id": "EbGyir2qw1B_"
      }
    },
    {
      "cell_type": "code",
      "source": [
        "from scipy.stats import f_oneway"
      ],
      "metadata": {
        "id": "SuZKvKvRw7AN"
      },
      "execution_count": null,
      "outputs": []
    },
    {
      "cell_type": "code",
      "source": [
        "#H0 : All groups have same mean\n",
        "#Ha : One or more groups have different mean\n",
        "\n",
        "f_stats, p_value = f_oneway(income_kp281, income_kp481, income_kp781)\n",
        "\n",
        "if p_value < 0.05:\n",
        "    print(\"Reject H0\")\n",
        "else:\n",
        "    print(\"Fail to reject H0\")\n",
        "    print(\"All groups have same mean\")"
      ],
      "metadata": {
        "id": "AxRkFMjjxG9m"
      },
      "execution_count": null,
      "outputs": []
    },
    {
      "cell_type": "markdown",
      "source": [
        "Kruskal Wallis"
      ],
      "metadata": {
        "id": "-PbIjvb8xwXH"
      }
    },
    {
      "cell_type": "code",
      "source": [
        "from scipy.stats import kruskal"
      ],
      "metadata": {
        "id": "A2gUn0a0xRqU"
      },
      "execution_count": null,
      "outputs": []
    },
    {
      "cell_type": "code",
      "source": [
        "#H0 : All groups have same mean\n",
        "#Ha : One or more groups have different mean\n",
        "\n",
        "kruskal(income_kp281, income_kp481, income_kp781)\n",
        "\n",
        "if p_value < 0.05:\n",
        "    print(\"Reject H0\")\n",
        "else:\n",
        "    print(\"Fail to reject H0\")\n",
        "    print(\"All groups have same mean\")"
      ],
      "metadata": {
        "id": "tRkjI9pDxSXm"
      },
      "execution_count": null,
      "outputs": []
    },
    {
      "cell_type": "markdown",
      "source": [
        "QQplots - to get intuition if data is Normal Distribution"
      ],
      "metadata": {
        "id": "2_YbEvk1x5dk"
      }
    },
    {
      "cell_type": "code",
      "source": [
        "from statsmodels.graphics.gofplots import qqplot\n",
        "qqplot(height, line=\"s\")\n",
        "plt.show()"
      ],
      "metadata": {
        "id": "H3jr0X98yVg3"
      },
      "execution_count": null,
      "outputs": []
    },
    {
      "cell_type": "markdown",
      "source": [
        "Shapiro - to statistically check if given data is Gaussian Distribution"
      ],
      "metadata": {
        "id": "bfh8qo8nyxW7"
      }
    },
    {
      "cell_type": "code",
      "source": [
        "from scipy.stats import shapiro"
      ],
      "metadata": {
        "id": "nlSmXsiCy6gS"
      },
      "execution_count": null,
      "outputs": []
    },
    {
      "cell_type": "code",
      "source": [
        "#H0 : Data is Gaussian\n",
        "#Ha : Data is not Gaussian\n",
        "\n",
        "test_stat, p_value = shapiro(height_subset)\n",
        "if p_value < 0.05:\n",
        "    print(\"Reject H0\")\n",
        "    print(\"Data is Not Gaussian\")\n",
        "else:\n",
        "    print(\"Fail to reject H0\")\n",
        "    print(\"Data is Gaussian\")"
      ],
      "metadata": {
        "id": "7bkghHKTzIDR"
      },
      "execution_count": null,
      "outputs": []
    },
    {
      "cell_type": "markdown",
      "source": [
        "levene Test - to check if data sets have same Variance"
      ],
      "metadata": {
        "id": "wnOwQI0Mzx5w"
      }
    },
    {
      "cell_type": "code",
      "source": [
        "from scipy.stats import levene"
      ],
      "metadata": {
        "id": "t0LC2riiz0hU"
      },
      "execution_count": null,
      "outputs": []
    },
    {
      "cell_type": "code",
      "source": [
        "# H0: Variances are equal\n",
        "# Ha: Variances are not equal\n",
        "levene_stat, p_value = levene(height_men, height_women)\n",
        "if p_value < 0.05:\n",
        "    print(\"Variances are not equal\")\n",
        "else:\n",
        "    print(\"Fail to reject H0\")\n",
        "    print(\"Variances are equal\")"
      ],
      "metadata": {
        "id": "P5SwRXPNz98r"
      },
      "execution_count": null,
      "outputs": []
    }
  ],
  "metadata": {
    "colab": {
      "name": "Welcome to Colaboratory",
      "provenance": [],
      "include_colab_link": true
    },
    "kernelspec": {
      "display_name": "Python 3",
      "name": "python3"
    }
  },
  "nbformat": 4,
  "nbformat_minor": 0
}