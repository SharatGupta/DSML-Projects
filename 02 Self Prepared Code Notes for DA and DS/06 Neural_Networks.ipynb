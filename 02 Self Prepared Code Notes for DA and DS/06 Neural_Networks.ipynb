{
  "nbformat": 4,
  "nbformat_minor": 0,
  "metadata": {
    "colab": {
      "provenance": [],
      "collapsed_sections": [
        "kmf4fyde4NNR",
        "UmfaWJf-ECsR",
        "rBy7Ro-wMVPk",
        "KQJGCJYeMrvp",
        "Rtjvq23hqOAR",
        "mQi26y-Adx8h",
        "qzxqJcCHipyw",
        "cLp_JIjxrU-A",
        "5eIlR72-q5Kq",
        "7MR8e9k6q5Kq",
        "NZnWy-zrcQ2y",
        "8BY45N9trEWD",
        "eG79j4RS0j4z"
      ],
      "toc_visible": true,
      "include_colab_link": true
    },
    "kernelspec": {
      "name": "python3",
      "display_name": "Python 3"
    },
    "language_info": {
      "name": "python"
    }
  },
  "cells": [
    {
      "cell_type": "markdown",
      "metadata": {
        "id": "view-in-github",
        "colab_type": "text"
      },
      "source": [
        "<a href=\"https://colab.research.google.com/github/SharatGupta/DSML-Projects/blob/main/02%20Self%20Prepared%20Code%20Notes%20for%20DA%20and%20DS/06%20Neural_Networks.ipynb\" target=\"_parent\"><img src=\"https://colab.research.google.com/assets/colab-badge.svg\" alt=\"Open In Colab\"/></a>"
      ]
    },
    {
      "cell_type": "markdown",
      "source": [
        "## Reference\n",
        "\n",
        "Lecture 1 : https://www.scaler.com/meetings/i/nn-n-layer-nn-contd/archive\n",
        "\n",
        "Lecture 2 : https://www.scaler.com/meetings/i/nn-backprop-for-n-layer-nns/archive"
      ],
      "metadata": {
        "id": "XWjpSr4ZvMhK"
      }
    },
    {
      "cell_type": "markdown",
      "source": [
        "# Content\n",
        "\n",
        "##N Layer-1\n",
        "\n",
        "- **Recap**\n",
        "- **Backpropagation for single layer**\n",
        " - Chain rule\n",
        " - Scratch code for backprop\n",
        "- **MLP: Multi layer Preceptron**\n",
        " - Nlayer NN with 3 outputs\n",
        " - how hidden layers are useful\n",
        "\n",
        "\n",
        "- Assessments:\n",
        "  - [Trainable parameters](https://www.scaler.com/hire/test/problem/20725/)\n",
        "  - [Number of connections](https://www.scaler.com/hire/test/problem/21148/)\n",
        "  - [How many parameters?](https://www.scaler.com/hire/test/problem/19918/)\n",
        "  - [Convergence](https://www.scaler.com/hire/test/problem/17702/)\n",
        "  - [Complete the updating code ](https://www.scaler.com/hire/test/problem/20091/)\n",
        "\n",
        "\n",
        "##N Layer-2\n",
        "- **Activation Functions**\n",
        " - vanishing gradient issue\n",
        " - ReLU and Leaky ReLU as solution to vanishing gradient\n",
        "\n",
        "- Assessments\n",
        "    - [Tanh and Leaky ReLu](https://www.scaler.com/hire/test/problem/19839/)\n",
        "    - [Dog and cat classifier](https://www.scaler.com/hire/test/problem/21095/)\n",
        "    - [Maximum value of derivates](https://www.scaler.com/hire/test/problem/20686/)\n",
        "    - [ Rectified Linear Unit](https://www.scaler.com/hire/test/problem/17665/)\n",
        "    - [No Activation Function](https://www.scaler.com/hire/test/problem/16595/)\n",
        "    - [ReLu(vanishing/ exploding gradient)](https://www.scaler.com/hire/test/problem/19836/)\n",
        "    \n",
        "- **Notations**\n",
        " - N layer notations\n",
        "\n",
        "- Assessments\n",
        "    - [Fully Connected Neural Network](https://www.scaler.com/hire/test/problem/21150/)\n",
        "\n",
        "    - [Compare the learnings](https://www.scaler.com/hire/test/problem/20388/)\n",
        "    \n",
        "  \n",
        "\n",
        "\n",
        "- **Forward Propagation for multi-layer**\n",
        " - Code for Forward propagation in multi-layer NN\n",
        "\n",
        "- Assessments\n",
        "    - [Hidden layer](https://www.scaler.com/hire/test/problem/19852/)\n",
        "    - [Intercept and Bias](https://www.scaler.com/hire/test/problem/19862/)\n"
      ],
      "metadata": {
        "id": "1QkOqtrdAyo3"
      }
    },
    {
      "cell_type": "markdown",
      "source": [
        "## Quizzes"
      ],
      "metadata": {
        "id": "kmf4fyde4NNR"
      }
    },
    {
      "cell_type": "markdown",
      "source": [
        "### Quizes of lec-1"
      ],
      "metadata": {
        "id": "UmfaWJf-ECsR"
      }
    },
    {
      "cell_type": "markdown",
      "source": [
        "**Quiz-1**\n",
        "```\n",
        "What happens if we set the activation function of a neuron (WX+b)as sigmoid?\n",
        "a) It is not a neuron anymore\n",
        "b) We get a LRU\n",
        "c) We don't have to add a bias anymore\n",
        "d) We get a perceptron\n",
        "e) It does not add any non-linearity\n",
        "```\n",
        "**Ans:** b\n",
        "\n",
        "- If we set the activation function of a neuron as sigmoid, it is still a neuron\n",
        "- It is called a Logistic Regression Unit (LRU), as that neuron becomes identical to a Logistic Regression model, in functionality.\n",
        "- We still need to add a bias to a LRU, just as in LogReg\n",
        "- Perceptron employs step function as it's activation function, it is different from a LRU.\n",
        "- Sigmoid function does add a layer of non-linearity. Recall it's graph. This non-linearity is what helps build complex feature relations."
      ],
      "metadata": {
        "id": "q43tWvqnjJe4"
      }
    },
    {
      "cell_type": "markdown",
      "source": [
        "**Quiz-2**\n",
        "```\n",
        "Which of the following can be represented as a single-neuron model?\n",
        "a) Linear Regression\n",
        "b) SVM\n",
        "c) Logistic Regression\n",
        "d) KNN\n",
        "```\n",
        "\n",
        "**Ans:** a, b, c\n",
        "\n",
        "If the activation function is set as sigmoid function -> Logistic Regression\n",
        "\n",
        "If the activation function is set as hinge loss function -> Linear SVM model"
      ],
      "metadata": {
        "id": "wxZM0fSLiN-F"
      }
    },
    {
      "cell_type": "markdown",
      "source": [
        "**Quiz-3**\n",
        "```\n",
        "The number of features for input vector are 2.\n",
        "\n",
        "Suppose we are implementing log. regression using neuron. How many parameters will neuron have ?\n",
        "\n",
        "a. 1\n",
        "b. 2\n",
        "c. 3\n",
        "d. 4\n",
        "\n",
        "```\n",
        "Ans: 3\n",
        "\n",
        "Explanation:\n",
        "\n",
        "Since we have 2 features, there will be one weight corresponding to each feature i.e. $w_1$ and $w_2$.\n",
        "- and there'll be one param corresponding to bias (b)\n",
        "\n",
        "Hence, total of 3 params"
      ],
      "metadata": {
        "id": "Wwa5hCK7T9QM"
      }
    },
    {
      "cell_type": "markdown",
      "source": [
        "**Quiz-4**\n",
        "\n",
        "```\n",
        "How many total weights and bias there will be between 2 feature input and 3 neurons ?\n",
        "\n",
        "a. 3\n",
        "b. 6\n",
        "c. 9\n",
        "d. 12\n",
        "\n",
        "```\n",
        "Ans. 6 + 3 = 9.\n",
        "\n",
        "Since there are 2 inputs, and 3 neurons, there would be a weight associated with each pair of input and neuron.\n",
        "> **Hence, weights = 2*3 = 6**\n",
        "\n",
        "> And each neuron has bias associated with it i.e 3 biases\n",
        "> Hence, **total weights and biases = 6 + 3 = 9**\n",
        "\n"
      ],
      "metadata": {
        "id": "ZxJ1VxG_sj0m"
      }
    },
    {
      "cell_type": "markdown",
      "source": [
        "**Quiz-5**\n",
        "```\n",
        "If we have a small training data set, which of the following will perform the best?\n",
        "\n",
        "a) Traditional ML Algos: SVM, LogReg, etc\n",
        "b) Small NN network\n",
        "c) Medium NN network\n",
        "d) Large NN network\n",
        "e) All of may give comparable results\n",
        "```\n",
        "**Ans:** e\n",
        "\n",
        "<center><img src='https://drive.google.com/uc?id=1nAEi54cPQM8H2046tHeK-UDsupw7dtBP' width=\"700\"></center>\n",
        "\n",
        "Source: Andrew Ng"
      ],
      "metadata": {
        "id": "CeUMxwz8v8lp"
      }
    },
    {
      "cell_type": "markdown",
      "source": [
        "### Quizes of Lec-2"
      ],
      "metadata": {
        "id": "qB4Q_TBgD8pn"
      }
    },
    {
      "cell_type": "markdown",
      "source": [
        "**Quiz-1**\n",
        "```\n",
        "Which of the following would we employ for a multi-class classification setting?\n",
        "\n",
        "a) sigmoid function as activation function\n",
        "b) cross entropy as loss function\n",
        "c) softmax function as activation function\n",
        "d) log loss as loss function\n",
        "```\n",
        "\n",
        "**Ans:** b, c\n",
        "- In binary setting\n",
        "    - we use Sigmoid for probability\n",
        "    - and Binary CE/logloss as loss function\n",
        "\n",
        "- In multiclass setting,\n",
        "    - we use softmax to compute class probabilities\n",
        "    - and Cross entropy as loss function"
      ],
      "metadata": {
        "id": "P0prM1zaEF-2"
      }
    },
    {
      "cell_type": "markdown",
      "source": [
        "**Quiz-2**\n",
        "```\n",
        "Consider the following variables:\n",
        "d -> dimensionality, number of features\n",
        "n -> number of classes\n",
        "m -> number of training examples\n",
        "\n",
        "What will be the shape of the weights matrix?\n",
        "\n",
        "a) m x n\n",
        "b) m x d\n",
        "c) n x d\n",
        "d) d x n\n",
        "```\n",
        "\n",
        "**Ans:** d\n",
        "\n",
        "In order to get the output matrix ($m \\times  n$), as a dot product of data matrix ($m \\times d$) and weight matrices, the shape of weight matrix has to be: **d x n**\n",
        "\n",
        "$w^1 = \\begin{bmatrix}\n",
        "w_{11}^1 & w_{12}^1 & w_{13}^1\\\\\n",
        "w_{21}^1 & w_{22}^1 & w_{23}^1\n",
        "\\end{bmatrix}_{dxn}$"
      ],
      "metadata": {
        "id": "kzMFYfo0E1qQ"
      }
    },
    {
      "cell_type": "markdown",
      "metadata": {
        "id": "dzKsuxLA1Seq"
      },
      "source": [
        "![image.png](data:image/png;base64,iVBORw0KGgoAAAANSUhEUgAAAjAAAADpCAYAAAA6Xw2hAAAABHNCSVQICAgIfAhkiAAAIABJREFUeF7svVfXHUeWJZYfQIKgBb0nQNCTRZY3Xd3Vmh7NjKSZWavf5kF/TY960ZoXrSVpaazWTE1PVXeXN6wqegOSIIsetCBA82nvc+JEnHB5M++9n8VN8sPNDHNix44TESfD5dZX29vbW4Nd27gJT3brnGKwRvjR4JWMRjqF8CrKEFy8Rx3ISVHP0eD05BUJKAR25OfO7sluO/E0seQ5GryS0UhnLzhjmhm2AmiFu8x1IWCUBMvghrOM9A1nhQ6mipCrX6POdPSz1NJRiisZjXQ2dTNnYMOZ4yORsdEz0DJKgu8DeL+VdT9bsF8YvbpUZqV1VbjaoRWn5YaYk4DnKXQkVTDa4dquFjnzXRrbeBoVUHFoxWm5bThL/LX4yd3i09Jl2S4t79pC0S7PDvKlsbVTHkfcirPhbMNZmwHVjJbOtMN3NDw4b/RsnLUWzxvOxjmDOaMGTIu8RVF3yp9YeKVxoZjSjsLsCffuvfud4mKq3A1nU5lK4TacrZWz+cJmxDikdXMGA/ODbjjbcDafgfkx9lbPjkTA1p4XOaidzaX2aWU+hpoWvCViotuOJ1Dj6CRZO2842+hZrT6TXWqFkqi18x7qWQ3GZW/Uc5yGZaN24tXOG86Wr5vjRWe+kfOa/GkCfKhRGd5zNGCd7szgizhbNYGd5CzP6h5wVpPTcVlcKMGAwbxSY8CDUnXGyeRToAXMI6SZqO2sYZVQiJbJF1w9cIxRyLbkK4wmw+OywPqbz5Dl2CykSoHwJi6faH6/4WzDWdShbCZ2o2epfq9QN2O7sbd65lsUaQEiruDTbDcsFmPkDZe1WvUgs/kcFM48M6Al1oGYQwmwN5wlzhf2ATugZ3n/NqU8d4+z1KeXuHaJs1xt3JPnoMSWgvny7K6BKdMw0cwi9XSLbUr4zcL20+0H88Kb60FKNPmzJWn1ZxVsFfzoUPmMgyJPIcSGs4VUNXVjo2fTefN1wPSfsXkfr4kqnAXzSnyI6iY52XCWG1ZTtG3DmdSqKVRV1c63ZyLlkNXNjJnYiGQNyGTeJukZOeQaGA3smq2mZTIlbScDweUJ/3CkYqzIU6xGfEk2uK+Ei3IUhceVXCWh6tKUc1wMVLmvhC2x47HtR85IYc1GTlvFTfCu3A8dZ0kz4l0g6zByxjzGPQFLl+Xh5Czjxun/hrNARvHD+tHijG5Zu7HRs4y5qk0Nvoefs6Av29tfIa/9rrLSl0Ut8cLuLeM/qmd0jfLrhEoXwybupWeZjDxPCuRiuvBZ1HE5G85a+rThrKmSo3q54WzDWZ+BldqzTOwh0bMxqqLfeF5rEb3wPXeV4PsACTkeHCEWBiigFeHjYy2ndMn6zTrDDZdSQiNI5tQLX7t7l/mchRGYPhwVz395tbqlftzlfeps9mXNCduX0veZL/8S4qxDTse5T3I9njUSdn1ec3DOCUuE3fAdj47zSGb3Rs9GAFVec/PUDd/x6DhXOJLDhrMNZ5u6Odo+dWpPV286Hh3njvSEiPF4TbU10i6kEdEUNlVgLsbgqNKMJLGEV5I9J7LGasRtOM2RW4a9JDgrM73i83I6xkT3n54pFblSrVnFJInd1rNpeZgWqq0uB4OzNva26zQ2poWaksIqktry16NnPdkt92l5mBaqJb/skVaR1Ja/4azHy5j73PYMBoztmCiKUB4pbqxox/zy+PluJs1CL7Z2ZH4nhwsZbxVbv9NrS9fwZb4QtiOo7bzhTPSiIMcYP2icpQq1s3omdWDDWbdNadXN/cpZq11stzhW5N730tSzDWdjXbf38/1TrVW1i8bV+qO+/l/xjZFUdruNzgJmYPe+bra5gwGzFdrUIkvhcbtscaPBQ4EIRGIyRvHgntOHCrx8DRBdMhkW2XCFdAy/E5NjU6MiJR2wZflO2PwHFFKvkmVEY0Yn77ciZ5ScJZVwiVfcn32wOMvKU9jbBc5CEqtwpgXNfx3fu6RnG86M/el1c8PZujiz+rlD7dmhrJvr4CyUX6sPWBNnWkf2S3u2U5wNgxuBSc24v5PFR9mVDAvxIkdlYx+e6b8VBORiLEJwdTJSuPZZGh5Kjk1xZZIdLsYTgwf/e1zqblJ9BIdN4vprHNtCzijKJWW4DMuGMyWo0JI2Z0V5bvRM9TTy0NKzDWeuMhftWa9uroEzq98u8ez20LVnG842epZp+Hr7TYqWERi98qY/9tixAXT+ed+e4sPdtZfhXl28OyNwxTFDl1naKkYfPCq59w4iFA4qjA/xSumlCOZWIiqxqZAcmx8P2nCWl7Nn3ZfnweNMdWU5Pat179LQsw1nLPkp7VlqiRxnrs3SBnNRe7ZOPctbxPI1bT/0ARvOvIIkPSvLyvebh4Iz69NDZvI+OuXQHWRHx3ZXnlPYeRqNPupZlFALxoz4LXgrRheRTRlNxxaCttto9FHPneesjXieazMLtWPtMpLMrMBz5axL+Ei6i7yaEGrH2mVE8KzAc+WsKHzF6IK2KaN2rF3m5nUkfM+rmWjTsSehdl8xeuSMN1mTv6LgFaPHjDblNB1rbnouK0a/VDhbB01ZEVAgrx3Ss5FdSOFd2gBUilGOnViAIkI3fiVwxMHn3gkckR291lUik2y7Q8JZVhIjJI+UmHhN5EzCdpOZo2ddIYuQBv+5ejYR28TUJdilxlnM7wpld+A48woxpT0r9GxdnC3kbZ3t2QrlW9WfDWcVJQsdpnHWFrNC2VHHdkzPZAoJl+CrUxEX/hPx6w3/5bqNLEacwC2+nhSFUFh5JXnRB+GL5MpI6Tli87iKF7JiQYrJjml0pTewIWyO7eBzxuxreXoN8OzkX87o0iUelxpnvg5cYpyNK4JrNxIvqmeHn7OMGt+eRY+63RCvoj2zGpW3tYdTz0Y5kywffs48B7qSopNn97YXtaHUs0uCM2hF+JKAUCJ0GSNj3Hm/VngR5j2CdOeUpVemVRxlOxrWSj0GcmrQdTOPGlAWpYxv83LhIxYZLiZb5qOHzSUb0UY3j81pZbiNZVSmddg5I1FVeQT2RNdISPh1/GZltOHM1e9LhLOW3sRK19CpVvjDWjclr8hc2Z61OLjEOGN2p7S1WZOUPXjCyLMJdO6l24HRM6cgIQ8RuvPKGNghPdv6ChaMa/oL1vPHxHfJfCNcliPzL+IVna6X4kOOp+Z1Y1HIELYZbD62ppiCwRRmPHT0rYLNx9XToR6/o4UOT0FQ4WqkMqE8m2I2nDWLwLg6PJyN52SjZ6oGOUuHjbOysiN/2VcNk7/P+TgLpX0wHnq/6lnM+Tj8zOgsG45LjTMdgRklrO3Zdi3pDM8IvI0esJh06gTefWfO9I5ia2W25bZAA0ejlNnecCaM7GfOZmGTvFxKetZmp+1aKn963nA2sw4cdD2bqyCdFmKumP2qZ91RfV9l5mb2EHHmdiH1G5GVfQLBs3leOeEFAggI16KvZS+QstB7qXwvFWkhlNUD7BJnSwHdcDaftsNYN3daDw4jZ/M1Z16MDWfz+GLondbj+YhSDGDb6X5zCryRXUgheuiwTJg+Fo5Gtv8V9rUMLG65BKEKEBNpyDe/zm83hveQe/4TVtcTEP5sCq0SjaBduVVg5xAiffnVMLz/yTC8+OdheO3dYfj4/DDQLV4mPCaiNwvTbAUI63P4bfHPLg7DpxcWY2+JEWzeQ+75T3DcYc6MG02tgdCcolc3ZKS5ylNMpCE/j6VPLtikGBKI/4TQB4CztdfNSUQ5stfJWTMzIa0Clz42wJpT9KpDNpNpiGqdU9VSs9mNzTo5awLacMYyaRXpGF3iV0SqtafgNtOz3u7GBanaGs0FwUpsi4JreAJ0mdrBftPwLOQMAcMIDIO66lg8Lszg1ABebieN3HmXcBG/JTUJl48QMt+I9+Gnw/DkmWH4zVPDcP21w/DIvcPwwJ3DcOKq7rRvzeRMzj7+bHt47b2t4TMYMA/dMwxXHp2RVkj94pfD8MUX2KIGlTh2uf7WwHaGs2Y6cx1ncpYKv1+WcyF0w++AnnXTmuMxm7NCeEP/5yQ/GnbD2Sg9Tc/9ypkH29GZ2tm51J7N7C/luOFsPm17zFkYgUFPRSB2la8W4sd/XKB4m7ubcxFaY3q5ZRqSdv51o2hUmdBWnIgtoncwHV6HPncNwU12K40KF9NazNmLrw/Dz58chqeeH4af/XYY/sPfD8PzcPvsizZnykDKh+Ccydmrb28N/x7p/Nt/PwwvIS2OyFRXwRkN9xRue3j5beB+DrhfHYbzF1RAKSbDtkbO+nqWs+PxVPczOTvoeqaVy7GQFVZ6qHgKipGVZalzUXnKuukj476lAyI4A7Nv6uaGs1iw4WZxe7YWznyyLZ1Z1Na24hx2Pdtw5hjI25PLrInhQnB6ef2wZ53rKjQnPuYxbDGsuiaJeWwMkUGoLT7vhwp4Cmwe53RsKW96sklClO5yXJGbRussGApcKfwwfI4Ab38MThHmB98ahltvHIb/DMPil08PwzXHt4aH79b4arR5LH02pnD26WfD8An+3nt/GP7+j8Nw763DcAVGUT7HqMqnYWrpY4zOnP9sa/gY01scJeLU1leY2rr1hmE4efvW8O+A85lnh+Ge08Nw9ZVbw0MYNdoNzsbLkuwaT/liWI8tMamlMYUzhpSrUZ7mNY4tT9Wedo+zAN7lw25X5ayWk1zkbi2cpfLccEZKc31Kj959w9lq/ZPvRVItYXvs2wyquIYsysTcG/qf4wqVxKpNJsYelmvPTKRHb26L+qfp7dnu6llT15ucaU5hwASAyHG5m83i1UWXqMvvypCuOcr0xYyXnmpQalmo6lZW7zLFHrJxnElJKw4EYq7sUzj74vNh+AgGwqf4O3HXMHz3QayDeWsYzpwdht+9NAw3nRiGW64jqjIHOWdM+XMYF19+sTVchvGyyy8f5+xLaObnSPuTD4fhOaTzExgwnE46Bxzvw6Ci0fI5no9gaolTREcgk26cMnriYRg+HwEn1uxcQJhPEP61dzAVBQOmwgkYVgnWxVnJRL8sy5Cr6ZnPm0ouy7vKfR9a5lPgPICcTcno6px5njacTeE818gDwllRN7TdqOtaM/8IVoa3XJetQTO+OB5APZvEWc2h5PQActYvu7YPDJjpxd8WMe4apc9OxkWI5TNbyDg459uVLB6lb/lcJ8MRj48wssHFtDQUbsIamO8/MgxvYTEvDYQzMGZuhlvZ+fvUmO03MZLywhtqWNwMg+dbD+iISiveF19tDV8iEv++QNrvI+5zr+lxy18BD6+rsf7m6NX6S1yvQDZHbW68XkdgfvaHYTh+BYwuPHN+kfibF+J2WViSs2Y6Ex0jliaopmOQ7Px2Ws/GOBM0Jc7yeSIZE4Mtz5lLYBc4G89OyVH5PB57ru+Gs7mM1VqdS5hbXnPDT8S7UGwZoHyemM7EYOPSS9/yuUxkkX8ZfuLzQrFlgPJ5YjojwWQKqXe1zyWrrT2JL8693fSdOFWDbSMhBSLk20vgPS+jQ/2KNOwx4GLoHooitZUejbPPMaLxGUZCLuB3CAtp779DF/E+h7Ulz7yCRb0Ymbnmyj5n7324NfzjM8Pw9IswhjAacvWVw3AVpnRuxejNDdfA0DimUC1f72LU5S0YLecxogJbZuBSmxMIdyemr66F0XLNcSzqxR+nlI4B0xmsdXnrPciCYfRdGFe3Qe7rGCF64jG4QzQ3TB0f1ZCVqIqRd17Papw9XfDuvOe1K3o2s24fCs6EXWW8Vx6efy0N9++h5qzIbUbQhrN23dxwVtaRxe3Z/uRsVMNdptI26lZjUHxHSLPqA5oawSdMs2RizJtzDXK58PKUPzMEtkWFsPlPDi9fUKh+RQYMu5v+iSF8EvF+AbYWrhHOvpBpH+QRIx9HguirYTw8dO8wXAYD4kUYMW/A2GD3WHLGpD7/fGv4BRbS/vTXGAXBaMrNN2HkBqMl/89P4Ya1Le9iqscu44zbtZ87MwwfwCjh8Al3EHHU50ePD8P3HtoeHjs5DKcxpXQHRleuwijLkzCMPoTRcxq7lR6G36sYHfrkHHZMcfQlGC40gOTaBc5ihuTGs+IS30k9Q5J5ke5/PdtvnCl/qbz0uagosV1huCLEJahnbc7ykk2fZtlwllqHUs8OK2fMV8rr5H6zaM8Okp7V7UbZB2hZH8GXBGKp+7ZDlaRoeDIagxoxkkRMYaMccwq/sTsIAcrFaiom0FwYDB5bGY+pl9gFT4ErhvPZ8ticEJ+GxyUyJnD2FY0XRNzCSIfHdg8MiNtvGYaLWFDLaSS7Yhjg4ZqXMzAmfgLj5QYYE19/CNM7+OW6mt//HEbKyxiRweJbwcJ/wnwSp4KuxSjNNZyaguH0FcJ/iV/B4cqHxhWNnd9iQfG1GH35JqalOLrDEZyr8XwRcojvSrjdglGZisYd4sy4iPmKDjFBZja6EleGzeES90BqqS+eM1+WZbplvNJfgeytnkUyUnaD095wxsRL3kIxOKgbzkpO9hNnHluJq64DGz2L7VCseamNMqXPy3suZ2zKrM506lfoA8bas/1WN9ehZ0e24mKK/G0ztjZFTUtFEzzIqzjiOTm5xope6hHjZuWbEvCyEy6VnUVpaEXurzIjLoemKQf+4l55FrhFDniawBmnXzi8dTn+gQ0Tru3hOhgFd8OIuQprUbjNmgtu1cCIgYbzGHH5Bc6O+QLGx2P3DcNdCM8D8K6DEXMlDQrg5LZnovOcXY0ppYsId4HGCxKl8cJ4iWGBL2n+4SVMJQHbQ5jGuhujO7Jmh9NUMGBex8LdY/A7fTtGfvBc0RKgrpuzxEBppqhPS88ybE7PamyHU88ONWe+3aiUcPm6eSg4C+pc0+J4qT0l67lz3Z51okXakn+qUweibm44Cw1pqgGlLtAn6zf3K2chC2EKiSg1K0klQ14rbZYsxvB80iD4lzf0KoU0VpwmS7EVCW5RhqbVEqsJl4klbBGXZiVgK8ObZ+t3DFtKp5QoBgYtGPwe5TJpsWA0PHcS0Si4BobMm1iD8jFGO+QMliDkAoyLNz7Qw+/ugOHyIHYAHYMMrqW5iQYM4tnhcrqqx3BvDTfD/yLCfQpDREZgIJMLev3F0ZdzGL155mXI47bp22AYXbU9cJHvZ8ByBaa5zmIdzOWYfqLflVxnEzoSLuh9BaNGr2N0yA1C5Qk0lcDKc5yzQhATxp+WIv1iebaKRQKksCZroZ7FRDUtVxTRZz/rWQIZcxyZEkrEGf8eRM4a5Zny28oQ3ETfLwE9i9kvKvglxlnrJdWXf9R/qwxSwTecxQ4nVqhUZ/aKM9fUp2re6wNCiGDAuPDFrWam71/5TIyQB2tEik4NvyzR0r98LjO0wL/Q7Sp/dFgggt40HLbALkdguNvHLrYvHIU5DkPhXaw3OYfRFo6U2MUzXF7G9M77MBLuuxtTRxhxOY/pHBoX3HpNo+RajN5cERbwppgwjLi4F9NHYuAgXSZbZocGzptI9w0YKbdiKutmLPC97KiaQtswbrheh3HvxILjUzBg4IVLM/AKRmZ+86LuiqIhFC9JpEzJ+ScRhWN6XEBpHW9ihDzYWKQxv1YGFoWvIWcuG84WENTwviQ4K/O9Dj0rZRbPC5JY4F0LnxhhHXWznVTbtQbacaGelUZOGXRBEgu8S2kL+xSLcJg5q0mhyziTwYBJgcaDazeVTTa1+q1CiOhDhY6BvCue2wElJkOPYauiVg5tAa1gHqrOPQZsWR7GOeNBdtzGQ4OFf54zLqA9BgOE61hosMgIDMPgl26vYrHutRhNOQ0j4gqE/QRGzgUYMTRcLiD8DTBUdAdSztl18L8fIza3YuSGhsdRjPzQGPGXGDBYPMxzXnhwHY0pGiMXMfJDvBeR1slTw/C107ruhrhoq/B8mF9jUTGNq8+4vicXqxkIbsty5kVquSSOGwlWCtEuS8rwaHPOymwwtEu19K5VtJWoCMmlVMHEO4XZcLbhTJVNdaLSl8ohqM8kPUtqvGN6VjYIRSVqwVf9X0fd9PXIVdlWolPrpuN1w9nEurkjnI2XJ7q3oEBOj0pdTM/aDWebkwpFpbhylTTf7321FHlZAx5SEOWiZ6F5NcSYK/Xq4FqIjfEStoQrkSZjExFXgS3gMtcUS6eQuBiXQ5wchTGaGYY7fDhFQx659oSGCznjepX3MP3zBkY6HjitBsTlGBLhCM7lHHGBnC9pyGBLtG2hTtgYbnu4A+tZbr0Z4WHMXAMjiGe6+BEgGjDceXQtjCBOZXGty/t4fg3TWTSmOKVFI4g7lYjrPAydD2BUcUfU77Glm+fIPIiRIW7DjiVd8LwsZ4nOTnl6ggNn3mlX9czAZroR0CzA5tQmwj/0nKm6aH4vCc5QyjGfLHFX6uG2pQfqFvT/IHHm24AF+p+3GxYxcLQCZ6RLpBmx+13PGpz5vnNxexYye6lyhuxzhYaUtzfkPa9RKXij6hF/xKm42GFnK9dFmcRRf+VfSVH/LRMXeYog6mEAVOLyEl00uW1dGTbDFYUQdcIlzguwjXHG7dOyEwlyLkNnz5NuLyPbyAQNCq6F4Z8MbwTOOFXE0RFOH/3gMaw/gZFz5RVbsg2a00P/AVuoWWI84Ze7hAYYMunakpEcrk/5GEbQ3SeH4S+/jdEUTBFxDY1dNEp4PgxHZ2iDcCv3r57HJw5+D7kwZD5C/D+9oP63cXEvcPOwu3/AjqjHH4ZM/N2NkRu91stZKt+RAg8pHyw9I2gpZPldp54dGM4CBaH4qp+6brY5o6tUyxXq5oYzT7+yUdKZONKwG872I2ehjkRoqSzFJxRaWZYplvNpBQpy92vdJDzp2uQcEeZWtDigXuInRde7slIkkZqIO6KlmVoGBcKUyGbQhY4eG99vipHXED/g4tMCLhZxxkW8XNvyHkZTnoSB8K0Hw4JeiKahIefE4PcIR2Ik9W2sddmS0Q7uEroN61No+PDiKMjr72FxLaZv7rsXa1BetcW3NHA0DP99Duta+PHIc1jjchMMl2deHIa/wDkwNGB0LYuOnFyPUZSPYLj8n/8VU0lIi+fV3IHpqn/2V0gHabz42jD8+OfB+IKRxQXH3/n6MPwQRtUpTk8FXJry8pwtoDhlrLjzZUn25Lmpt4dPz1bnTMk8qJwR/cJ2o2jPNpxtOKPe+HZjUR8wS89C+7TRsxl6tiJnIboaMD1TbVKBMFC4UifiOjXx60hqdTrS+DBO4YnHVvCYeHnjcDFiits62UAhZgZSMzGXj455ayH4y9NwZSEvjJTL0embSH576DwMFZ6mS2NCDYKt4SIMHv4dg8FwPfxowNCYeRVGELdcc+s1R1V++jtM6eAwO47C3He7juy8g9GTH/8W0z0YfTl5Dz4NgMW8f4LhxGkhrp0xm+MqLB5+7F4YVv8EIz3Y7UR83L30AKaNuObm07uG4SVMEb2NNS9cF0Pjhxjvg/9tCMddSZEaZHIVzkxORzvyEnXleSnr2eqcKa1JvTvst/T/gNbNDWd1c6pa0G/PNpzN4Cy0VIeNM+nD8A+P8/jiyy3ZTMIX3s/wy5dqPrMPYj93LfqVuzBiz3PD6quhZytyZp2Qm1yok53l0mrwZgkocrRM3BXjrCsLhMGOnaMwlEkDhsYIO14WPLcin4PxcA+Mgpuu3h6OhkUqXAPD7cxcuMsj/Dl98wZGXn4LQ+QtGDGPPoRD5+7XBbUcjfnZn4bhjy+rAXMOBsyHMDp4qu7XEYaGxlGZgsrXwNAguQujO/8ChtA7wEBsN8BAoZFzHPc3YVrqFhgq/AwCR4g4csP1LpTTGuVYJ2eTim9dCa5LziTQeaBdT3pdCa5LzqXE2RJ5XVeUXS+uXU9wXUwlObuehV1PcDFnPGbjHF6EORvwMf4+xEvwefzZppMv0TfIER3oq/hOw1UQ7G++/ajugrWZg8UprR7isvz9yz3hVjqsPECRogVKwZrBx+Z+qghaopWzAfEedSCnieo5NbhadIXASn4LmwuE28gZnfHHL0G/jSkdHv1Pv9ewxuSpV3Wk5Zso8GuOYwokKLF8HRp/HPl4C3H+jD8e9/88wl+DEZkfIDy/V/Q3mM75Axbg/vEljJZg2oiGEg0RHnr3HRg592Kah1upuQ2aJ/P6RddMiqNBHE3hX35pXrhFu/zOUhlSngX3GjkLPPTTmqtnedm4YTgDX6JP+fHZKrKY4QvzGVODL8+ZSxWJLa6bMYsxj81sVHVzw5nX6pU5C1Z/LSe4TFWcS0nPNpxpZZ9TN9fAGY2Szy5uD79+cUs2dXyIF1weqmojLdwAwjDcQcuT24/jj4bL2dfRv8HvJEbw+RIuazuztlwf6joQ2jR4LNOeMfZleZ+RnpQ7k+waT3cr84jhOf02YBaT1jGE3bSiVEkGEvBjiyBzkvIIhs3nL8aLQZkwLyM45Mc7L8TW5oyuNCz4YcVXYWT87Fl0vijkp1/GtA6MmkdobDyoSRsubq/mSMh5WL//DYtmP4T1+w5GYO7GSM3ffBNxMLVDufw4480waL7F0RjI5zTRjRg5uQlGDWUcpQLh4hZpXrEs+RAUXX3yf1fiTBKifPfrxPty8No9Tc9SDJNTlyXTzgsr6udkXAQcdAE/mgadcvQuW8iy6owP0cTmTCVfb6ZzllLddc4SLQKiZmPDmTDg9ewQcfYFFI7r5OS4B2sbRROgC3gZsg0JK9fNWZwxMMAc0LppWd1PnHFd5psfbA1/96t07hjXYnI5wnXoX2i0XI3+hX8ckedLMw2W/+3/RkmgKG5COL4cT+sDRH3kmtqeMSz58u1PmEJC6mbtBQVVvWg1xamWtleT5M2bhoab3MQnRR5Lz2RKdtQvskAnBGRYeBkuC5lSy2UswpYhCdhiHJ+F2CkaLqYcwIxwRqws1OtgbJw+hfUp/4DRFRTurZgn/CsYI984jS9FBwPDiuQEjJfvYQSF9ge/QM2D676NRbj80OJJbI3226GPHdseboYC3Xgty0hV/fWIAAAgAElEQVS3WhP/lg237DZnRov8WlmMcBYKcOf0jKyGgsz0zJUfb3dFz0I6pZ5Z8vK74UyKA5cxIWWz4UwYmdaekb31cvYVFji8hpeoP3PaGy9U/FQJ5wykZuMfdm734c2b6x/S5RtQK8+ES1GuWjdVStKVAMjq/B5yxjLIcXlsi8syhd5dznhkxx3Xbw3/8i/x4oxNHlwbyTWW/KAvS4tttZQa/mEfxeUQT2PDxwsvoz97At/4Yx8VXp53pz2D8Uw8QrgDp27RR/z18sVibsEHvbV+I4jdaapuEgrRVH6IExqlJNfLqu8XYyvVJcngUfL+20XVG7PHVuEieJOV53chZyhtM1j+R6w32cYfR0Y4KkJDhdasVW3+Ehf9uf6E26a/gREaTgPR0r0Kw3QyLJdVCxortrvoAHLmqRWWfRlu9Iz06OXq5ho4S/oc7g573dxwJrUrXePt2QcY0eVHXd/B9PVb+OVC/zdhwLyNDu1TTCewjboC7RI/kcL7u9BpsY26Ay9qrMPWB2z0bH57ttecsexYtl/DC/PnGPXnaArPEbsMhk1pdvHlnN/cewbLG05gdIZnh92CGYCpehY10qnm/D4gGjC5insYLeWXzQhFfx6NBFgbpR/rTxYcDyUhKU1f8OpaJFWR1JJlGPOPQjbeYzw2SahIrYYT01+Ei+e+XAbrlZWbhgsNGi6KTafjBgmOMy6Y5VsNdyFFizek2MqnetUgF2FrydoPnPkSH9UzlFOVR1+WoShb+byUOYvKazcbzmSktGyzUrtRaZk0EZkrHg66npEDHsPAT4W8gg0CPPmbndkVaMM4rc227EMYN3Tn4ZeyTg5t2rVoqxhO2ypj5dLgLDQxVZXybdic9qwStAd6RgzXYEdRdjX6dE4ncoHvS2f0m3q342wwLl+IV90lRa+GdgQ/76P343XTGTAF5OUf++gymf1gfZ/lQa0j5kiJdMSzovPUXVZwjqaUjeRYifrpIgu3X5npZB/O8znry7pUfDaczS/pDWercCadEdbR/cNTMF6wIJOjK7fgpYsHWXJXIt+wyTDX7nHagIPB3M1II4aLOG/FqPHBa5vmM3bY2rPJZdYIyK3VH2FE7m3sjv3awzqrYGsvc2Z3tm7KFJImMT2hbkfc6rAgNk4BLdSZHobg3jLHILPBb8NYSLLlrpdUgVGx14HVpXb30fnWQsPFtlC3s5/LMGyXKmeeo6l6NsZZSzf6DVEoiwOmZxvO8lKu6manPI23S13PeEr4WUwRPfkMpoSw5uGHmMJ+EFMC/GSJfjJEmSKv1sS365ULEMi9pOrmAdMz327060Lqn3xPxcW7n2I07hOMyl2NERsZhXMCJ/ebS3OmicGY5uAnL/2XIEVRw0X5vKK790zBwh1lFAHg1Fd2k2yCEDJG93ICtqKl8djKZCtogkJlirRxUCG64ybLVs5ZmQvi4ggK5w95+JyuX6kRqUvCFWHBaRxewc0h4cx4lOxkfJfcbTgTihxHG85MRxp107UbG85CK+N053MMwfD7a5/gqIfbseuE6xluxHoGM16MM2s3bZ9AWSv1+RKum5eCnoVCp/pwQTcPWuWLej5jMKPfXJozBYKk864yfwIQJECw0X28Z5WQKXxxlwky9a/la7A6oeSitS/DVgdv1C9LKwciT4uwQb6myhzWiXlsxMWPKv7Fo1q43G42fh1ezpjvKeW5W3pGPFJWoTwXlaUE9XWgLnoGKa7V9IzC5nDG8JanEkn+vEDPoiCLpeG9/Cm4JPwh40w5SI1EbDMOAWfbeF2+iCkkftaE00L+1HBqopWl1wPTkPav15vDydmidmN/csbSKvr0JdszlqoMnmD0jjZILsa1M8FjSrsxnzOZzrTvXzIJd8kjUzdrKvfWpyJOCJIyo/FVEnOby7DYJYf67GW7+4hrFWwJVw+bIfXYeG/YFFGR/4htWw6QuxcHyd2DVfp5/oo4h5wz5Zf/rqJnud7UZZPKU6pOTrgYA4ajLE81FUzi/tAzwzqVsyK7bbIcB4kNzW/kzAnacJZoTPW+oWcHhDNfnl5BJEfw/Jzbo3FxfUt8KZZImufEgYZb9O9h52yn6qaq007pWV6e7TJ0baALUOKSRhV/8hN+GXxMz3aCMxmBSeAqxGK+qH/yI8hmHBc93VrsUkrVz4QoJt2Hd/eZmFpmlm4C2gDfkt+I0HCawhkXNPkPLW44G9ezljY0qW/qGCsR5EuR1jpRuzDc7ujZxc/xdou3FP5dwPdEPsUiSC58vAm7zDhvHK9mZvcHZ5zv5qK9r8gZP3xitR+3R7GtjsPHsoAvI7rNuuYXfq38Rjcf1+4bERpOi+pmrR/1FlFXKtXtftWzPF8199GlyZnG3g7nu8RpthiplLfh7FDrWaX1cGjVTbhxrYu/xvVsbnu2WM9kEe+leHXq8QgV82OMCDuQXvMZmB/jQBLTAM2dHa/gOO7XcADYezhZmTs4aLzw+1b8ovd3cWDhLc2pxf3DGU/mfAuLO/kldJ4PchEGGDs5udBScW2X7UbhF8u5/ZIf/rwGf3Ii55LXfAbmx1gS2r6NNp8BxuClhj93HvE7bNRPniB+KVyrcHYp8NPKY8YZ2oDStK3jJD2r/VZ3gdqOWzmttSEGuqUA3k3v/b8l4FpCclFcjNElqY4eExCvIqK5lYiSGB8huAanPKkNZ+vmrPVG3i13lK0vDy3XslS9ruWlR5/ksl4942gFP4R5Dh3+T5/EN6uewxZV3FMXOUrBb1pdj46eIxp6La9nO83ZZxe3hl8/j6+av6RHi3O3inAHyHzz4qCLGDFYrM4zQWjE3ItdLPzkxZ1YA5bOO7K8uhzvUd2sOatHmD3a/apnUg74o16Vml9rewztGtNUADy9+/ixLdHJCyhjGq7ZVQnccLao3zzQetYq/qhnuecWP+jYUpaoXr6ij/ebczljsm4Rb6oG9IiGi6QfIOY1pjAs4BmH8TVHCt3/m3IqC4BkoV8+SbUV9w/7eAlbZlAZNo9LwHujR3GJc+CyRBScBZziUiEeW8IVEtDQlJruFGZw2jvOBJBv1gxXhE5OCB3YA8z9zJnmx/7V8vTGqS9PX5bCAoJP0TOVrkTJvzM5o658iRGKDzDa8jJGXf7wIj7aib8PcJrpTTjk6dH70bGfwi6PcKghp5H0yuvAuvTMpMd8LVE3aYi99KZ+kPSJB8NhjCCY/RsNNU6L8Su1H+M8iD/jI6XPYBvukzBi3vveMPwt/o7jcxcbPQNhopRZKyPPy+iZEBrG7Vdpz3y9PwJBx2FUc3TtAkcJQ6c0pQ9Yh54t6gOiDk/hjIFD3U2Mr5+zVJ6pocjKUxKni+GBQwqq7ua5RN3cO84S9K1g6DJbyeYt+vRAQV4H1sBZqE8yheSrVryH9oppIWkFV/MMhZOZHtHwKEopK1WX+SjSp+7KtcAVcQZc8mzYMlz0ccUbcal7zG3EFSXzJhu1GXvPKFHL84Yzaozw2LpKn8PE2QWMVjx7Fh/txGFgT2PUhVXm0Qf0k/M8gp2nmT5+Mm05zA2wkpnEXumzm5xdjsT4DS4uRP8Bvsl1I0aPfPHqSMw2ph628BXbYfgV8v3ff4MpJ5zkSkPu+I0QYBmIGZlaN8lB3pYcBM6W1X/mdvX2bDnOWDQ8cZdNJY+H54LeOXom2CVpK+897AMSGO2/MlwFPxHm7uvZXnDGUkrdsaubK3JGmRyNtWvZOrDI1qg5kxEYXGYIOBAxMDWzoY8kI7ZJEtgCBZKCLNXpLKRLpRAcEq1d8/jxKWJLMXiXYYu41N1CjuNKEKPkMgviUTpaxYdfkYkKl8CxQLmccWyFYM1WmZxw4K8NZ0VZ4bFmcj5n5PgCRip+9SxOMv0jTqdEx/04TqbkBzhPYRfaRfjxlFPuSuNn6GuN0VJaXc9Uwjr17OqrtoYffk0x89MWXNfS5AxrebhgnV+p5fWlggiBU4wK22jdpKQeW/uXswrzmvQs1V9fAqmtTe9p8zgTaYhyHGXL9UzbXKwdpgpjCVBkTFZvqrKUwBYox7C/27MxPUt5lRyFbOVU1HzHsPuMs7o8I0ApXmYw5qZTN10AibENy6UobZETJe8oZ2bAIJGUFcElIOJVlFFdZHl476/3tfQqjZQa6gHCN4wDBdkCk9wyX0k2D6/l0thb1YHYzqvSU0dxoVswXR5H8y+etfTROAeEs4qCBXrG46o/xB+/u/EJDIHPuasHjewWGtw7MDVzG44x5+LRnp4pi+1SXIeecSrlLA4B++kfdKrl6xip+Dami3i8+lVXbGM9AdYWoEPgTh1B0SnWNkKEb3q09EzdmsHbQhZyxvUtt+CL6F5mjzO+gXGhMrPH6TE5+0giptgZth2um0w5v3aHszJVYWDH62ZDTSbqGVnh32UoL36rTQyYOB/Q4QyyW81zA4XQoVJqQDtdN1NZZJoX7azcFaEriBqiDBefSw+X2/wWAQ8JZ4lTvbNpJD+FlMq8UQJr5kxHYEpU63iulCEXGr0XhGOsCUHWgXjvZSzI6GHgbEEWYxl8iU7/fRgtv31xGN7A+orzMGJkKy//IOQjGDOP34c3R0zTVB8fa5XkhIQnBKkkc7ThhdfwBV/s1HkU60R4eOGdMKyknuIfjlqssiOHYibjmhpwRrh2R5VoMFHso7lwmR8rvQ4f+EtrfCrKdsVhahYnkztV4IRwE4LM5GiixF4wvkXTAkXZsW6tbRdSL70ydxPCTQhSStXnbsSuRy5nQbAF3m1MY65TBU4INyFIG0k3Yu7BNm67tduwG39BkbTRjLriQ9nLXOOxxFdyZ7LN7ErxxEXeTBrpo9VsptAK65MpRTXCcziz2rzOeDI0M+2aHtJR0M5RTHDDWeKeXPCY6lewGPa//AKjG78chmfP6DZknhTKTvXsG8Pw5jmMenC4ew/1jIbWGSx0vQEjFfdj982tHLEAvj3RM61Ui5VY6oAFs0qStFrF4Nm8vMRG3WRMLvx8HwuWj6JBu8GdcdOtKw3Zkzlju9G5+j51BAm7R5wJmgYHdO7moRF+FmeN+D69YMP00zdsG85GOZKyddfB0DOndQ09KfWMQTh9NHDUzitsr09n+IKXscepnOknDBC6gTnIbyXbMTBCjCjLbiCCS/eqVMrXu5JDPk/AVmJvITayJKzDRflNbJ7dQqBEn4DLJ8VEF+IqsDVx7QBngWaf4+x+rzjj2yAPe7sBIxqPYFrmf/7BMPybf4pFpThHhR/I5Cfcb4bB4MtztzgjQcTHNS7vfoCRIExjXYd1LjbaslecLdKzWLDrrJvggbuRuOOK007k4Uh4NdqRuunrwC7UzR3hrFnbNDO7zhkX7cIQN52V0ZjsSiQnbOPt2aHnjBkELWVZJdoOGmfj5Zm1ZyGTNB640F/OhrLs7nLd1CmkfikAGDydP3Eyq9VKY/XQjLjRDAvJ8BakrBsxCUvH5ozHcIkCJWyGi84ZNp+o3CvTPgcLsXkcU7AdIM44LcPs0SCI1z7gjIbL109vDyeu2Rqew+4erjUhTlaWt3G42gl8KfeWsM6EuPdCz4gIG3BkjQs2GaWV+IdMz8hvbJca+k9D7hPsQjqHBcwnMPoiU3qXSN0UbviPXeBC3lZxjXHmYri4ZXtGr6Kt3Ym6KUcpo44RNzujtKBBsa25PaPQA88ZCzfLRCpGuTvknFFljnGdGxbu8+ygL9GPxCvUgexdu9FuFIzN5wwCwhoYXysKsUUh6WOj5MxJfpO/f8xiWZJw9O7iXI4yGKQSpouot1kKGss7OTDuVsLFRdc+DYctOqdWKcunQVRh2VPI3wi2Aox/zGKtmbPnsHbjT6/oKMKD9wzDN0+HRtcn6sBwbpzZty+P7iRnUkEu25JtvDx2n2tNjqPCcMcPF/ZyR89x/B0NYHaLM6UmEcR6KXUXTlE1HBiPa5KeQd4bWE9z5k0s/gXf3390G18Frl4XVMESDKd2hWPAlgKoPxdGv4aTgq+HIXgzDEH78rCEm6lnDM4FvFyndCNkySc0HAy9HcEVMbqQPr7hiZVQ5VcSD1HdTHkrchkeuW39bYz8PXd2a3j8tG5x9y8h2SYSKdRxzr6SEbMt+VIE77K3zSaEiv1U5uJV5CA8ZrFm6pnkwetAnkyZogSXyyfqsBUwUx+QYmq99s8izwQWYAr9LMQUQIKviSrA+Md9xxmg85DKK2D0cucaX+D4ghkvAM4w02MnOIPYYMBUyTk0O3TbSbLjrCC6nqVWG+a2e9PVZHfSqJ1rlx1iKontJNlxzjjjW/IHWBT7KYb6eZ4Hj7X/h6d18ekFNIY8iIxbZU/evB2NAgogV1TONzDq8fzrGGmA0cCPVHL3T9TSDoDauXZZxBlHYuybQTQWPgVW29VjhtSojCJJ5uVdTHWcwfoabnPmeo1qkW0LpihNrjnEE4/WHwXhPE12Kw0EO4cy+tUL+PsTKidq543XbQ0P4HRbrv1Z18VdXDRefvxbPVzvu9zizSEkuzrYOs4yB04DhsYld7NErM2KtkQuFnBWS+whrUOuzaWTZMdZk215TuSMW/OfwsvHj7E+jOuvrsaoVzaK2pI9llmMGBzhC8oCHRgTMduvg7HjvDJnC/GNJtyKXUSYHb8lc4FbJ42O845xJgYM2qSroHfsP/gJChtkGc/BejkLBgySnFhxIrhO+I7zbPHjJDjfXoKTBUwJ2EkEznxL5omlNDCvwpvnqCL1xTTjdYJPAVyFOQ8lexojLq9gwSlHWvj29jKmZu7GehJifxWHj/3+RRgmaAz5Bs18mMHwKjr7f8Q5J+/AyGEeaUDcfF34gF+Vkjl00HecJ4tB/GkVpS2RBsIfz8BAgPH2r36o57NUBkw7auVKjrhegPzxBYS4/DU3q6yEZ9/ZGs5ggfLbKCduRX4BZXTyFhmpnX4tSJhTPc/BGH3xZRpI6UvE0xOo88kRARpz5JKGV7p6YNrubdcxZJ0YHecxSfvHrwc+udOQ53e2XnsZLyYY+fJvwL3Yo2XCSAf66uU6d7enMnT5XFOxOEQdZ7+7FHmKj4s548sjDz+8GiO4XP/GaaS9YEiWazFh9ljy6y57Lt0lCFvv6uJ8rb9SzNLdN/ZN+YXsXhidb26C6YEExq60ZidkmeWbKw0B/lICpzX+DEPgD3gTehYdAi3R3eKsor7h4HNJBXsJRsov8X2e3780DL9AB34cveIj92Lr72PDcPpO5ON5Ts9gGDkMB/Ko+NdhtPz4N+j0YcCwczqH/L6EDpZv23ph2WxBpz7WZSLuK+oZjYWxRYY5DTk2pv9nTM88iRGON9/Rcy9KlEVWorimniEytw3z/AzOI5U8zNWzr5DIqxgZ4dkKJ+/AehKMirwDvtk5lbjsuXQXwGWmxDGFpBHHjzQyT5w6yrci1uUZSejc0HD5HPrARo0jMDYS0OQsymiCXLpuemhL6VkzbyW75bNFWoKzZnpaJp0CRIzEGV8iaMQcQR1mvfSjkSlUjUtz0OAeTl+iNyhzWD53YDvnMkb5vHecMXeW87JuLsNZP2eLWcpDlJLK513iLJLg9aPNma2BuQZHJpxH3edLvN9+389Bm5te+Hbo5CoqK3AhQWFTlIpLhb1IjPn7jNPNqQlEJpCY07dEGSp6+Gy4+wxbjqVMkZ0IG3z5MBlI5dHYNDikE4giC/WN2DwuDazY9J7bdp9D5/0GfpmZT9ER8IN9//Y/DsO/+3t0CnDfLc6ETIEVM5XfwzmVJ0YaMNR3N97kucjyuZdgkGCK4iSmJjgdxA/v3Yq/V2GEcWSGw4G82NE9hRGAF89gtOJHw/CNh/Tt+iOc93ExHFrGVFJZ1pypJMVpRZ7KLIQPgcqyTHFTAKbFjyLSeOSZMJr9Ws9MstczdrTnPsJ0B/L10GnNu3yvx66CM59+CxvdOJR6OeeBEZd/+TVPzziKcRYGzFEMzd59F7jG2w3X+/Bk1LKOGJ4WrhKFPqeQPDH3WsjmDqrLkRYNQkJvcTZFzyifBjIHXjjdx51IvKZj0/AWK6MRDzkuhgou8lOSXrZnLnxIZjquMuQ0PZvCmUousU/nTF6mUAevQFlyLYLqecjgkpwdRf04irgeW8lASGHkp4yxfzjL2V1UN53eLNCzRIZp6gg9Ta+Dxxn1jS8/18OAuYD29DOMwuhC3ml1c3XOVALanEQek/bLBcuhevXXfyW6u9V7bmLNFxzGyoAcl8UU044eqlT6mIf22Hq4+D2ad9BBvYJO4CyGV7nWgVYhG9X70SE8cT+GzNFw84q45KHE5tKW2y15w3zyJRys9gymWdDZ/+1fwgh4EaMZz6HDR8fDFdk8cO0eGAm+MdHidKzsEWfsVO7BhwRvw5TR3/13/IKPR07qAlnm8CZMJVwHI4fD0TzT4zhKkutDfvDQ1nA/jJx7EY8f9vsKcs6js+LUWV5CNWc+q7WeuVJAwJIzrwmmZ0wB63qHazAywa3LxEFDhv1lLM+qLFM6tu2Zxi0XAevIQ56LUs8kdgiifnmumDbL/nNWYODZDsppUpN0zWSeWuY7vAvDkGuRbod+8aOPr2DEjKN6xJ1SDTmdyBnxl3WTu4SuA4fkgdOFNMJyXImz5NGvm5YGdSN13uIacOecxcxE57zdGOesxJZpCjxzTvVpdc40N9P0bApnmnWH1ZWn+vU5o4+sO8Af67Os44rTdipovDxrzuzlLi7itRrlcDXL08OU+93pAwTLDM40Oxs9WydnRzD8zE0AXE/5Ido/GtVXmPKLAtZ6ZvUoqc2MuqkiM7sjzVZDTqX0xaJF3xgIEB8hhK1kMFyxpSxlojR3qP9FjQnpZHLxYASwcSeBL7yxNTzzCjpZjBh8BIuQb5j8sup7GBVhp8dGmkaMGDCRPS/V10RDmH6P4tXk6itwjD0MmWdexkf70Mn8Gt++4YgGOwOuxuZCRn1VVrk8LZbTNq++tTV8+0E9lt3eTkXyLnPGrcd3YFcP37o51M+RDHbOPHyMb+XH4c9RAP2WzdZwOfxvgoV9Aos8aQQyrBQP/nR6YJyzpi7AsXKfoWecrmE+LsDQ4ucFZBQBbnIt0DMmY9NP22GUKcTUnxJbAVQfnSPDQ+jlGE+9ANk61YPFkCY0o8fi9Tmj/twAvu9CGXFBNcvlC+SPA03VNYOzSs84GslRSXBA7qryIJX4rzLrO3WT2FgPKUf0Iqcod2Bgwx7z4FKayZmI4z/lxbKp3HLu1b8Cq7FaddOiL9Azn+yU9oxip3OmesYhe46CSvsDg5R1NQAPv309K5KLcAVHea2iZ5S1TzjTbG30bI6eLeKM00h8mfwSesh1MDZy71WoqoP0XFPdpKhsuZ1PWNNpJl8GC88jYTteZQMpgvyr+IKUOEX0Jt7E+RVcHuf+JZ7fxRusGC2nYKygM7jxBu3wHrhbF2xqGi3BHZAh6BGUFtck3IhFrh8gzZ/9Wnf0PIFplc9RgFyrwDUjPk/8ds8LmHL63VO6noHxL4OhkK6RNDteq3Amc5XAdDVwfILRqRcwZcRv3fD0WBpWHJXgWx07N14sChp/l8Gd14cwGLjmg8YhDZq6i9Nwc/9t5qkjhEYXt+pyNxWPrudJvGFQrdFjqRCTT+PlCDSeFY+Gj4xs4K+ncp0iiMjozy3/5I6yYBfES9rthoAuZwh7M/T1r76uRja3OUufxLIgTspz8udwVhJDrPziMKemiL2Fsym/FdAwkUf+OYz9WwuVh57NWT+Bpk8zT82QdGzkpA07SmjKH+MsxGyk1ECVQnGoni9n/LsdIzBc7F0m09WzhmSOGm7BKCP/vNalZ5mwTibncObrQEdckbt2qEtJz3aSM7ajV8J4Zr/HtaHZWTANPRtzaupBN0Iq11EDphXfE9LyX5ebVCpXK8t0OfzNNSc/xSjIUy/oXDDPCbkenfEJGC2PnEblRkfHqRG+1dJ44LkhpRzDK+4dT3PmcPsJyOLoxStnsE4BaZxCA8JdHfwrC5BTMdzu+B4WTHLhK89r4C6enbrGOOPoANe3/BmLV+/ElBBHh/4Iw4/Dz1chPxyhonFA44X59Ref2eFzWo4GDKc35KwPXgs4MzklNi+/dd8RKx0uy5RTgx/CgOHoG8+JmXJRnbhegLtkaFxyGuxYYYb10u3JFxXFH+PRGOrxkcVvJEIxzAdHCHn/9Nm6U+phMPeG2GYUOXyPBgzK+ii4KDu/ZqRFGQj+xF4pUEvgVLALMleKWZeetSCv5pYjLXFPkh0isZ1hh8Fp7avl1ONO7E4ilTN0gTJZ99kpdeWFZKr4neRXd15DSnNFdMKXzgdFz5YqgzKzHSFmwLAt5mACP//ir1LMTnDmDJgyuba2SgOF6wvMM9DKp7IzI2K/d4ZWR19zmy1+brywRSwtNHbAPAfhHzEScurkMPz1E1if8iw6NOD5y2/oVmEaGnEWjtnDZfj1Kf0r7pWncmLO3PfOj9Sxwefqf+4W4dssO3UO9+vUC+QEKtmuyC4V/L2N3S+y1Qx+jK9Bdo8zNnj8avIHWCP0nUcIbBj+688wOvSMjkzJN4ZMAS3DIR9c/Mr1RC9jxIY7l3iUf5y2QVgakxw+5Bwod0eQCxqTXBvCvEv5xV4yCE3U613hbBAimYFWTuXdiNN5ef7AZxil4OFp8RobTgkYaMRyuk+mn4D1qmNIKSZW65nI7kAWD+i8lCfDIP92JfzJjXfiXnlqAnSOskJZ0NgYS97LSmJTDL1TnBaWHRXLjJi5dqKCEyG3Ui7dXFq+Iy2DFTK1qQiBwk+FI5TnIs4Sw+vTs3W3ZznLS+gZSsk44xfOOYXEFyRO/Wb2yxKcbaOSnoe+cVSOBi3/sqsoy6l6lsuAkK6l3FKW0m01zoT/jZ5pkZTULlk32aazPaUC0njhS5FPIK/Pa66bodW6TAtVc8R/7bLEs4bG4KGSvPMRKhQAX4s3gGvwJwrCSCKkUNaG4iZrLEYK0vlsymaI6uFNTtk8j7dUdpj/7Ls62gRlL80AACAASURBVPLUa6h8qNC3YASGw6p6hZz0sFmw8JtbiR7bloxW3IK3/+sxmnPrY1jU+wtsPb4Pc9BwJ080ZnhFzpBvjhiwgeHx99w1YAaPosK/PVxr5oy7b7jImLuyvnZaV4+/D7c/wOj7yZPD8MBJNGDAySmWmHTA9iVAP/Pq1vAeOH8Cxs/dWP9jxcyRnfdg3JyFgfY6DCTKvA6jCA+dwi4nhNMRJwgSFZN/NK5SFdTQcRZdhEkJbxfvjgAc+T+BcvgMfHKXTgqQwppbqWeX4+MdnMb7BHj5BsvyOBIR1XpGOXUdSHpp6cjuDUveyGmUYY2LLlEJwr26SMdEufizFC20eCFaNNDpIFfNmUiLSeDFAx0gy42LbmUBb0FbyVkULULwJ0kkDoiDT2y/xJXPFbYUPgTRgPYg3vjHgymAjdVNxs6xLdIzSzikW+hZyZmKD0SVhBE52kQ10iPRCqnHmfMNt5M5kx2WeCHh+igaMBmcJTijQcs1DF+gPtF4oVHrtSiV5cHlTMuPBcW7CXomWQ36rpHoIGIuFT2zrPY4Iz1cSsCX2W3oItfURX52mrOQ0mVaJlowVjwGIxSVFlhwZIN/8fOt4T/+Ep0AOqvvokP7zoPOahchuaS86bIsWkVnQxPGV3zAQk6JjWcgcNiKq/DvhsFCI+J/gSHDiyfNVvxFWOPYFEkCItjCIztqLsrl+oS//Qt0gPh9821dVyKnxYZwxianBL5+L972MdXxy9/rug02PhyVkSv7HcelwZfnjCMoNDhP3aHfEOLoyI8eRwcG5Xvq+WH4/16BP7Dd8H2MUMDNLnZKH1/YkkPuboFB8sCdarDyVF+eWfLMGUx3vIQRGkzncXHw9TAsqNhcJ3MbptvilJlkz5hJ8u2u9FEqC71AYI7oXAWD+WYsdP0QBhXX5XAIkx3xFD3jYsdj+LuABptrgiydHEeOz2Pz4ekuuoH0v4BMnqMhl8urSSqxjekZ4wSxig/yJC0TFn6nclbqGXea8OKUYWu6IGGbWDcBliKZfe7s4p/HVnLWKSjEznM4izOLKr8lM5JduUofwybulmAKOKksNTglUMBEzhipuKZyxjdd6i7feq+AMa+jnCpsGc7YpnM0k4YLR5jLhd27wZnyhn99BlxZMneKIydtKmcxViGT7m3OzCeUZx0oIlqEK6VRt2dl3fS5K5Okn6+be84Z21LoDPsS2xSQ1YEyA477tXAGPpKtrXXP89e85wglhy/fwJbad/DGzfUUX4PldbUNOzbk1G+JVvZF1Yi5KnOuUEy0YMDbAlfhX4dO8vgV2xjp2JIdM7zYMDcvxNtGDQlqJEESkWHfRaHggh09Mnfn8Cj999Fp8svIj9yNjh0G3I9/pQ0JT7SVc0ncxYLl+hvulT8PA4K7TOTEzLL0dpozyOcaHU4R3QmcOrWzjc8BbA0/hAFKg+9lGGbs3O+GYSAf6QoX177w3JvnX8Z3eTA1dxE8/B3WHXEB8MuvwJjAVA4XNj94GgYL1sbcDFl8Y+PCYB5vrpcrz0ZeU2rpTiiysI4v3rKh5QLtt6F/XMjLqTmZ2osRnERXnryVETEYaJw+0mkUByjctiCqWz2MTWOAQ+9UuWiYIvCyeibIjS7cSoPunl3OqtseZzFgyJicoYM/8lB2VhK24Cy58c7AhEIJj2YUsezt0uRqzir9D2JX4kwSddhCXhOa9t1UznzsUs8kqbmcIXwL4hTOaMDIInTo8DHUMT/okugfb89SfhgO7SmOoODULzukqMdtyrT4DLwr7xi8kbFFnDGuoxBPrizpGWQ2RAevdetZRKTtSjay5bC1ADV42wk922vO2ObJuU9oe6mTbAetc7N+M1Exl7NQnmN6BuFQ16CBLUVsFAQbfS4G/RCd9zl0bO+jYxzdCSK4Ibwhv1/2jcCRGugyInLqiBX4cr6BwHihfi2qeDoU6mRnAGjWtBBpeH4LiJ08h1i/9YBOI3EqhutwPgYHn+IN5lrOB7qLb0bc2cMRA+7uoQGT5gldwDK7FWcJVwuhSiqFJFd2VpxqYVx2/PrGtiWGCg+xo6FxGiMzdKe/3+rNOLSuuWj3lbN6gi0FiZECY+h+GHKnbsE9FkxzofSVwfjJ3+wVm2Bvw/S0pftOWOLkNmOuuxEDBo25pguPGKfNFKfIuIiX5cE1BF9Zz8tUQ9xWsuqW+1APaZByKopGs+3oWUXPYubZOjA5/DEnk68WeIsc/DhiRWObI23cZZbKpM1ZnnaRQHg0V0owStVtDFCSvBbOQgGuS88EXQlfCoOkJexlkORjd0WI8NiKp24tnySVQ/VifENHrkQZxvLLim+8PfPo2T5wepttG9fC5Z+CqHMjLmMQS799wJnlYj/rWVZ8FWcNA60qmvXq2SLOqHf8nMAx9A08xJNrINNVKoF7Lr2qfNAhBFoQFslH47YppnSksnPnh0wloVPkLhuOyNiVFUIZufU8O4LiZfr86462NNJawEUdI2BjwTzzGgwQ5PdOdNb33a6Nxu2YuvoGjJnfYB0Jt1bfhufy4qgG56m5aJajRjICU1yLKSiQL46QpcDgPC+CGGho+IvHvnNXD/9aF/25vfcH38L0GThgb8qRFh51z1EnftSRH3iMw9gzsbXSnOJGA4Zc8swfTidyXUx+Jc4EUsAl0ybIE7fc2/c7yphTnymSRhTrg80Fs1LTfdbV4syE4NePasySWwS2ZLjjRN7eUfvzEZg2Z1PSlHU6TMD+pkRaJUyLs1XkdeLOSUbCzonQSXORM40XGjE0mK+goTv16mCTNh3tuE0h+ReYqaJ9uE4yTVG7xVkz8SmOczIzRV4nzOJklq+bnSRXdiYivgTx5ZbnavFFTq6RzIx4LYVHDJh42FKQPpYIOzR+AO443trZsHIxGacVctwqQf4dsRoWVvawot6Eq/WsadEO4B/FjyShgbN/3RFdVcTCAY+s3Fw/8hxGWmiIPHYqnCcDbEfRaz98j64FOctOtGEEkC+OwBznNBI6uvKwn8T1znHGTptbuNlxcdH1nIsd3K03bA//6vtbwzksXOYoF09ytd1YBbWjhTFHz8YwkqlrsMaGvzQqeSLvmBJ4PaOhxdEh2TXFYXgK8ReevZ6N4WDcz8Ap1zhdB8PWpt5UiybqWVKACoesJcGf9FEhXC/4GE4XXQRxFwvfmLiYWXbqNTrBhXWz4EwWA6NCssoS45wr5WlFzkKi69QzK0sqmOCs2oyU07mcTdWzkkuO4tJ45+gudS6WX4XNOYwoDkfjuCuPb9IcyaQBMxK8hJM9l/H2C2cEuf/1TKlcC2fWd0LYsnq2iDPWBRq93IlEo5qzIosUZ11105RODJhYK4O+m9qXysig7MD4XR22eXJ8NYBzOJ7AU+VWCan6BEn8YVB4iF8KoB7iSUHB07cWFodBwp+EaskQOfwnXFkYvwLGAiEAblsFzU7q6Vd1wfJ9Dw/4dlDIS0j4Doy6/E/f0XNFOP0SfGPScsotCpg7tXh6LN/8Pbbd4oxHPvPq0SWeHc7I2JUo6ytl9GaEs1J4LMuQsmU2hLPgJWeCxV8eF9wphouDudPsC+geFyDqFSSF8C09o/7yjyMQcm5PIZsEeVyUW2bLUmPDz4MBP8EU4hV36tZx82OsFG8mZyIEH9UkPBMSfj22Hi6J3uBMsaEjpmBglxEYGh4UNMKZxmMYBJJE85QZn7JYV2gYtkYZowzeeGyIm6StwFkUQoHhIf+p6maGqcTFXHqZWa6ZAXiuwBmjm3inHRWk6OA4k44CZcjhe/4l+9NJwm3WnsW8BIkyXKZZ+Bx79Xm8At+kuaaNL10eWxk1A+nLEh6JMw2V4u4tZ55v5i7HRaxanlM408gswCAl/1lBz9bImcPmyzLkNCvCbnkyi9HTc0ZHndLihojLoTPn0QY2v0gd9GzdnBmw/EO0vmWBvgn4QkFjjuDJj87R+udqeGtoy+CSf/OkQCHFhSojCPFZCBGRWovsqYIXAkOEZiB2AElCDKI5DEVU4gpJkn9+d+f0PVjvgU7qKnxOIIe8LdMv92AtCUc3Ss44+sERi5sw7bKFhkG+FxN42E3OQpJ1eTo2JnPmyrNkIyMnlGVdnnn5l5x5SHIfypK8WdKcspEzCHBxFFCuCXomp/GGTlsMhBA1/QQXVZ+qPH1wGXpH2hwFYiVmJy4wKpkOeEfPYhRwJttxGYWy8Ks4V+fMJMjbEoTKlllywcT5T4mtzEinbm6hFeFoABcHc3G0bKcs43pOptbNfaBnzWxM0DNfnrX+0zdIxk+gfjJnsgUeZcj2V9arSAHyotKEh7Is6e0zIzqGkTiMxnEZwDs4VoCjmlwPF6flA7YpZemT3o+cGUM1tvmc1eXppF4SnFGXRMHk2A0avaz7XEoiLy8NPVudM1Vvr2cs07h0QQs41oRQD6w0rPjDbwjGysMFgRyKt5hVh8YoMrbqrxCazrwtvYNzK45vO+hv0UsRtA/N3+Q0sblELI44BWx8W//eo9hy/HX9UCMJs7xqVD3rhaMBunA154zh+WZzD9aMyCm+MGISHpNQoof7DnAmqeXgExjcTebMyWhxtrg8kwAtz46eRXQpvN1x7pVf4iVN0YCZwBmDWBnKSER1aQqmZ+Ld4YyVlguzubaJHbidPdTUsyU4o617JGDM3hlF1nzODBcbGY4+sf7W58AEoEH/F5elEsTy4OJdrhf73OJW3KrDQdKzdlmW9XU5zoQNr1sdPdPSVk/+K6co4yaWn+fZyZhSN6kHH8MA56aMa7CuzE8NL1s3p3AWsc3Us2U5M4ra2BKBUzgri80X4qXEGVXNXtA5KihnCfHlhR5lFQnOiemkqNM4a8VEHUjO+V2qLu0QNOCPcscJgHI3R1u8ubpa1QqaeVvO23Homvk0O6Fen9OW2UQZgrKBP4mtxfo43jJrmDqNq49vD99/FKfHosPl9Ft91XF6OYiZz6Is5qxOs3ZpoejiCNGzOPZQYWtLpgj16fvXKNWFc/887fciKg2HLvXqyHG4wuCGBK/sHZdYR5ILoVMm3F7PtR/EkxY/jsfOfB22KFwWkoSmFv7FMOnSnBnbYsAgCRpcnOJsXi1csVXK88cnjojJadTBOGrKDI5tdtquJmchZ/bGIRHqeqrxx9NoY27Fabkhtjln3uN1s51m7epFyiJeGqBom+KJ2HWUvJ2M2Dw3uh6Kp5p/inV+/DAfDXG7dpKzmJ9d4qzMVYMuONF8cUx3sWUFnIm61Dhje8qZBzGEoUd8gZEuLqOoro+etOU5Q9uogthg9oq0dA8Bkaqd2Mhh494VxXbk9+I13RsyuJWQuWha1k0hDUeR2xAuQTOb3EWezhmnOh47Ocj6mSnfQtppzlImenlucFQ6LeCsDK7P0zlL5dHGKCMwqCn05TbqqZwxnPxBZzq2b18VJBMJD0cfuf6Lnchx/PnRtWb+J3Lmc2x4W/J8OPU3l9rHx5fv3gA76y/foPrNcSvV2o2NGLffSufHERi0BzmCMke1jK7LRM6q+B0KaudpnJn8GL8WVEHoOnSSzEX6p9xHhulpNLP8oHcys+cvCT4NoHyvDQt4+SJwFQ2YxittLamTgU6GY/xaUCdGw7mTZC7SP81MbDR4zxPuHa/a2Vxqn0ZuJ7dnrbjRrZNkjsA/TcOWy9+WJRI2nZ5sgZ4suHe8audOBlymgwGD7r+sBCFQbhhQoNqoHJngECYbQlYCHqWtlx6MZGmIWGL28iVoDVfjMGAOJoZ0zlkopN01MyIuTbOVqmKDxCYujyW/n8NZypveCZpd5kxTTuVU8mzIEq4OZ7E8944zOVE3vC1yF5yUzCw9q3Pf0rMxzlh8PM79CEYfZAoxqkdeB0TG0pxp3WnpbatuKl6vp7WeyRQE/jhqwpCZbHlopUZ3hi5ka4KSf46IsT3Qr7KbDP7m9SZEcfqvaVapLs3ZvPZM8YxzZpjn61mDM0sqTxIsTeOMa4zIM43GI+Xw3EzOOOTPNVy8uP5FNmYU17J6ZmL2A2cpS+usm+vVM0/7QeJMDBgawtAjngmnV7vOsy1YX78ZR2DKZqmiUqpWnLsGNsKjAUPrnzs64sf6gK6olxI4c8NDNdcYW6+qGavkSZOogHTbZngFkZH3EN1+/RetyVyFjbIc55UhNANXYk0les5KXAy7m5zV2ALGZTjz5VmWJRPaAc7K8uRZLtzySQucJzLLW6nHJQTXeiZH3beUQIMnmrI7K8+cM3YidjCh+Jjclp55bCUuxi044yOnprgGi3lsQ06uprdez0rOpOWAYFkEijrLaS++wWd8lNhUiQMbEWRkhwhY/TgCRXk89FCPClBsHldZBxbWTYiIOSxxNTiLoLp8MUSUGNugRZylGCEFjyuIXKU9S7gXc0b81DkxYDjqh8LL8M3iDFNIKC+u4boSC3jZEbXPgDnYnC2jZ5mmZ3UzrwOVbsTCnM+Z11+530M9m8MZ107hIOfhIxwnwfOE5NoNzpCMjMBoWq5grEYHLPxhcdgfT+/k+RE8N4CROe8VZbgSFTf8kxe5CvUFLxaZODBk8knxwp3DJV/pxZ9saGDnxZh8DtGrYVUJoOEMlz7l/6bUQ9gGLvooIpezEc4k6S4uZiBhMGxOcvT02JbhzOfUZC3DWYltNzjLy3NbFp/KGz8yxXNg2HGWuIR3l2lyxl1gDEe9CWrj4gUJjbL0sjLO4EEsNKg0LcgIiYo0E+lweFnmLOXp9J/R+G0lYuRfzNsEbCIf8krOiEvkgiueA9NbP1Fy1qqbTEMvRcapKL69Q3Q4Ulx9Tda4nq2HsxxRZAyZdvcJeNQNXzdbnGVyIaolzXMmgovydMniNkiYgMtjowzG5JHtX0A+P1xLA1R0x0TmCWX6L/EzXDCGUGDcSXcZjBd+aT7tQGrlMtWn3eRMkSzPWaIEMkJBibQRznx5lpyZvAyXyNt9zsp2o4ltAq5Sz+ZwxpE72YELveR0pFBR6FkTlwRcljOVKM25FpYrMleLW/LZYLOxso/+xQNsRFICJBLxj1cGy0j69e8uCBmjF+6UXODivBu3xVL+2ILMMk3DVbrXzw1uJFDDfYyzdhmF5HaPM58/gTSKy0JrIM/ZtPIsQ62Xsy0UOOfrSbts31uYF03fRu5EZ6A7qSx5r5i9nhkLGtI/pXuRhcqrsfnvejgj1moEZkU9Y32m8UKjSM77EA56V79uphgh1xzJoTxmncZkKI+FxSKC1sfZfqibGTdNAtp6NoUzhpE1RihA2YUEUSJNRU5sa0NgRJMRGAz9X4236Ks4ImdeK+qZcWDYUoqJnfYdQhacaVz9t6ybUzjLymNNdXPv9UxzFbnZQ864c+1qHpAKDDystcmNwF1nH6D5D92/PrT+NT32/NCNb2+yiBce8l2OGGC6qmp6Rfj4WMsxF6bFCsx5N9263EK+DrcaQxNzkVTFWU9MjLcwQJlC/jyBM4uQ6fmkZCcFcnh64XvugdHgPVWNOHAuXwDHxW3UnBZZkIKEpXwu4OUbghq9dazSJeNMk4z/Rr/MECglFJGqxzw8ZXKNCkdKeM5Cd8oL0eaVp65moGzWIdbfcaSFb3ysYxGjdX4cHV0guGJgfoQagwrtuQff4D1Vz1bGNQKn8qocaprksEDoBX/lEDvEmRAtCMpDUge4AP48DJjrMIXET4K0dqXtfHtW5HMkQ5VX5VBzlrvMjdAL33NPekYd2zk92z+ccSTcPtzLr6T3NXIaZzFn48El2Oj7l28eTRaV2Ybv+cu3OZmTLfjUx+Ta9m9G6shKYdkAc9SHFdDW4UytxYojRyNPHYAd5zZwcU0xJvDfkJPiz0l7Wli1gBl2DjaVnacgT51EO86NvJpTijEHlyw4RAR+g0O/hNqFlNIOGs8UdZhzBJZ4LeYsonfgV+WMHRT/pEMh5ooYTaFyXpAd1hlZA0ODj7Ilh9OvVlhikD/8Q3++XPCZ93Pwqew8BXlqJdp3ZozOlQTNwZWEpfgdSM10p4VdrGcULoZtGIFJBuhynFG/eAwAz+/gFmpZFFwRc/A5KwtFc7QcZ6Ws9rPKtnrRDjPmmrBN0x2VNS3sND0r0Y1xxpFcGtPMr30qZxoWn0rirEx77JnvoqF9KJKUR2uGchFUcs6X8g2RCyhlV0MTcYqfr2RXec0oIdWEi2FdSNyyEvPNgSM//M5QexSmLV3rZ54vwVZUXItdOAcics7YIfAwPz1Qrc1ZYrCNK/nvDGcqX2W381TwnAAFatbLWRQvdCzHGUcBqYvc9SI74URSza93ydZLiYffleBCxttFnAX4ji/LUZmvyXqGtGloyGmrHCMFhKzMBNtynAlM6GsgSx4XcSaBwqU4cs4IR/7wD/31jd1PPzkBcut4dl4qO8/XZM6inPntWYLQxpX8E7ZlOEs5d+nEW5WdlbPjxjgjxzIFiIA8SVm5Xo4zOT0VdYdvzVdhBKbaki3YctkZJHnY/5yVmDd6tt66ST5Nb00b2nq8/rrJ5jEkXiQZHuusKgj7gJMYMPijUaEXsuB0eju+5nr5GiC68DHGSRSkGC4ubvm2zXUPYsCErbQUkIlhrhyOElvCRR+TnyJk2CSyF5Zz9gFWX7/452F44U1LxedV41aSM2x4cM87wZkiYzIe295xZngMTk/PNFzAXHBmw90ypI6GOAsrDxrBl6WJSKMvfheH48bdjnMG7UH6+ZXKcxk9I0ZWJ/5xnVm1vivSsYSeQahxcBT3KiHXCebFc5Z002LWnPEFxtYh8YVinDNIz8qSKa7GWeJ/ufZM40dikzjDFfCuUjcTr45vdzuFMxlBg75R544xboUrpeJJzspTcrctIzncgXQBIzDXYQSm2oEU6XAgQ9xUfPufM1eYStgKnCVOD7eezeGMdd9mYeIIXlQQ3tjDujmDzlI4K06popYBaTwzT4TFM4/HJ2iOPMgbgSkFZTmd5mJLCsjFmMDg6uSncH1cnD66wK2z+KUhpdHzPIicIlOST7ipn0+p1ZAHBnxeYqnm2N7GMdw/f1a3kd2Jbx5dxxXZ2eRcwhZTzfK885y1y3PdnOXlmZd5vzyJralnAXSPM45O0BDhLjjRP/zJ2pZYTnaXcMmibzrDiW+xQRtijNZNjq2uK3KYorvm6VnNGUVx9EXyFN+ya2TLcOYnjU1H83KqObOUU7g8Bv3t695c0CffV8qC7D894wsXMV/Adh6OnPKF6FP8sUPntIqsP0K+jh3fkvrM6RXO9d9yrWZsHZyVJTqFMzEUOYWEyFwfRWUXLC5ywpZqQtTz4MQwbL85+sL8X9kdyS7Lkqh3rz3ztbnkS5Dscz1LmOt2w/er1mYwvC/PZfUsj5czt27OaAOw/jBNW5doectxLN8HxBx4lYajW8ZXZNkeY4TkTwJ4oiwbWR4ipgdjwRG9hzcaNKr/NxEpw80IXGZpK/ZAGs+jknv8YyMwbIT4PZxWJ1TkUxI2txJRK2xCqne5+lkMRce3Fy5iOvPqMLxxTkeF+JXODFfISJ7WLnHmMyMAmC4JydG0eJjHWV6eY5xFSFbAMXFzSPT1OLM1AF+h8lxkNGYpCtabUs/oz6Jh26+7ZdJkgMV1CFSIeLQ50wDhXybmGneVlxCV2Ey4rwPCGUdJIIqdlUwhFQaSlp0kZQmnhwA+T4vY67ppo1AlLuOsrFe+bga6BQLDn6cRgC2U3E4pH9kUoW3OyvQY0tz0N4VohWXoirPARJIUiDD38MiXjbPvDsOf8fcePtLK0VMewEX8NFrYpnFKWHb5gHceUiifiYDC3H3bMPzr720NJ1Dfq5cjyNezM/J0e5wFdnJ9ncAZuRY1Az7b8rwsZ8wnjRe+EHJJQJmndemZlUlZlnP1bFnOomrsop6N1U2PR+tIXTfXwZnV36ImBNHrq5ufYASP39Ji+V6D+r9s3ZzFWQgs7XjzKrWtCEQDhlM4tL44fP+Vvs42RbUcrbI07NIYPEFwRQBHThlwDQwr4HEYDlXFKxOsSrAMMOHZyWD676LAjl2+Jd82uhHzx/xUAA+W4nay9pqcVhoLSC6iLM3ZMkkvyVlWnlNkzKMAOUkRZBswHtkAyxeQG1fJGYc4pWPCr73JlnrWhdTxSM6dAA1c3qnkjIYFjRd2onFbax5hgcTSO89h9GX5NK5Un/r58RL59sjtkzzEisYWRyvi1RehQaboSAuj7/onyOBL1juos//4FF4y8OXl994fhvfxywWs52HEXHsCoxCoyzzbiqNI9qFEMWYgn1v2T3CdCI3JRp7mckYhDTGa066HdkmiGwhTL7htEJUVhRNMGWjHWHdotNFIq+SN4GinNC/CbnEmWCfoSCtPZd2UMGPZHPNrJTAqrI4wjzON34XU9QjpTuTsHA+ww8vL9ddrHVkrZwswigHTDhPsqJgJFwq3HHKEDSHfgqEhI2tgJEiRa3mcyETgrf7RtPXfbQz9bsnCTV5c/VznwNmAWdLuYQVItDh/98Iw3IwCe/AOnT9+4E589PGWbUytbblR+pyz3DYF7IhhJzhTfoyzyJEk1SrxHeCsSKaVauQkUjCds6NocTl9Y4t4K91TCrJ/eRIvF/9uocG+AL2Vt1l3pZJwZdLjzEOl/serjJunMfoEmYzN9STERmO45m28bk7WMwHisI4C63sSJ4eQWQ7yWQXWyR5n/v0sS3oFHBP07AsQeva9reG5l/DSg7brphv05YcGzDmMmn7nUXW7GgYMR5BosBCRGMe4OYFzUm5DfT8Od47/fIkXNnb4zarUp6rh4/I9gTNyLQYMJE1/UWokC+xsQjn9z9Ec3dHnsEiUNemZiC1lNzBNdnKy5LauIVUdiEFWwDFBzy5Fzt7DiwEV8loY+ByBza5VORNhfkyHj6x4moqOwHSUQMLwn1jmqfD5liVHqaPhoiGT2u98vYum1VIwBabNgWukEbSRnKIN/9quJ54GzCPM/TobDeJswKziJGyOg0x2elAUEUvIgjTWeNt8IFz0SAAAIABJREFU/hVtSPilal5yLg7+4lVkgo/MZcZExLYTnHU4j+WZ8qeYd4CzQEZORY1LXCIuPnhsfc62qL3o4GVdAIwRp0UhZftJ8rjwl0bvUegvTyCVhaf4489FGMZcE8BOjKM0sV3scJYZP/JmbjldQc8UjjKAPPHU69a1LGeURZRyRSHm4H8TZxECbiyHUUggiSOxpICjkPxL5RljhCgT9MygtWCJWwNbdLWbgjiAY/18+L5heOTuYbgDa9U+Qfm/jlGYM1iA/9ePYyT1Wj8KkXBTv2jIfIR6/wrC33rdlkw7cdqYQ+Zp5CLhIkqjt8dZlb1Czyynvt2gLDFu8StrwEI6xGhbWO2Ax1x+wmbMRFk0YPDQGhNaVs8Ml+QBQlqyFV/CxeeKMxFAj6I8NfI0PUtaKykYNo/RxOW/NWcRzgiuVTijWFGDCZxlWBA+y88ucvYevmTOEcsbrtPPUWS4AqERWwfXcpyFpQBkLEtAWHQKE281IB/5lsJFbXyj/RIVm6MwdiWbwZYHB+mOYb0N8lxSkrROjgZtLrABl3RWbNxBGo0YCQiBlY43yFJsHleKn/HQkglchHrzia3hf/3nupBZFi0xHREzwlmRx7JSjnKWQWzndRFnAWHAmQTuFmfCjUIXDtfBmfST4J7qokUQFCyWh+lO4ozTThw95HeUzn+s00gERKP0BXRkP//TMPwIndnJ27Z0LYcRJ6Bz7unEpOwvKmzARXDacFeAUn1r6RnfBqDfPBDOFmoajFJvlMwaWy98OjHY0C7mLMqSfCF8KEu6S96B90sYMHQm3rhmx3FGnPJolySbuQT7b0nOKM5hC7nS1PBwHJbg4yeH4VEYLzQ45A8GwE1Yz3IK5c0RlmiIFNh4ztDLbw7DL54Zhj8+Nwzf/towPP0iRm0eG4YfYuTmBhg+mh6EBnp8VlucSc4bHChJKqfFmazRCW2tjACJjG1M4W3JTkgaMY+f0hGkoFqB9wY2ykLe+FmCI1xLKKDCVWKLfg05jFKEF1y8sjoQ8iXuEznLwuKhxBX8ncCZekYBIrT8iW5lGzmmZyv3AZKfRr8Z8qlIE1ZfZBFXFtay50Nq1tbBGWde3scU0mWwBzjFyhHKRXUgsE2UdXnO1LPLMmEh4yq5/jfpzjaOnd7Stw8A5poQjorYJdajKDBvnFCtbRJMnK3BERd3QWMqXPQOmZMtswhgaxksqUJKDO/dFVuBS2RH1dDgLQBBk/kWz8KSdjwSXqUuDp6zDFARL44IxZsQYE2clegSrsKnkZ91cFbR2UjHkEzlLBIM3dPRkMWc0ejlR+t4dPp7MGDsO148D+PVd4bh139AB3D/MNzl9LnG5TgD2JYOTOesFsD8842ajQOP58+uDm9TOZNTiINA/TXOUiriMrNusuPkeh05m4dDMS6NFj95L6OBV+FMJIy0G1zLcg7z9D/5vXLL4W4ara+hzNnhP3GvvhDR7RP8fYgRlnMYGuci3z9jiunPb2MNDcJ+AhkvvTYMDyDO/XelE0iX4azFAbORyjKQaD9IhH6q66ob5OxzfEnv50/DqHoFu6QwNfYQcB3jkAoSiOrSKE82o58jGA0iWU/mk8sekkfCpvKjTxnenqv2LMnaOc4cthIX+YNbWlxNPCFQ1QdATkt5R/TMU2j3h5UzqtSXaKg+/XRL+mIOahw5uruc6Qh1J00tgKQMpgusFpxCkkPkoPgX0Th4A4bxUqHpw3a0Kl0Rt5QjeHu9K3XQhv2Zthy+1NKajpuErSI4hbd4PkzhTS9ZXFnJscg1ZwzcSCWijKLsBoHXyVlJRxd6GdCyWUVo5GYBZySgX+TzObO3aEJmh8+rmC2Vxv48GviPsdaBU0Py3Q78nsCizXexC4WLT2VLLaYTPoRB8zE6LRFV5bd2YjjGZdA0jaA4JHolo8WZC+S8ZZ0D/lhBKzGaBP5NEVKYcT1rwory3E2/oDI8TJcoOPXGk32PgV92hnb1sdeJtjgry1NieWwFpSIDbiV88vkRdOD3L6DM0GGfukMNLe4cvA4G7VlMDdluCv7SsOXIskwNs61DmMcewkJF6A2njW/DFNQtGHmRtSN2lYl6r869c05iWo7BjZ2v2dayoBj5egWG1W+ZL9zfDmzHjhWkMG6DMzGSkU8anHgfna1nIzCTlylAA5IE2hHOxuvATupZi5NUBybWhh3nTAsjR7McZ9y8w9kXtn96sKiTWpS5+MBtpMgjfVM589WvxT01rOnOA7Y4FM91CHz7sikkDiedRYXitzXuQiVPW/3acprCFzjaGwgn3aeQ0RVHgnHxA2Gj6EY9W9LbEdqurfjqtgBVP+JO+uwjzqTsoQP8wjQbderFkUIhqJscWv/9S+hwsAjzEbydsqLdhI7oVbyxvg+jhXoqb93Q3Su4EA2dVXP3T8ErOxNO83DKRIbze7zP5Iz5EB1HpmQbdU9ux6cfPgiCTDm7JqQxOIOjm9SIB7Fy5IKGC4eQeQ7MylfgbGEFX5hZRcJpLk4FfYzyPo9RFHbeVJVzMGLPvKEvYGY08oRbHq1/FfSF8/o3wVC5Eb83YtTuetxfxzVSCLNS27MkQcwHdw8x26SZL45/gh6/jV1Vd9yiOyIvX6S8gbNt1A0a4NSxbM1XhW0iyVW8vXOYjHjNerZ3OZ6TcpudtmtHrvAGowe6IyPFeJI20AuZJbCTzgJnNWDGEiJQ56+P22issEYAFfko1hKw4su3iRD0TbzJ/MMfh+Fe7Mq5FQ1AexeFQ1XIFx+2iBNaB8IyaC0xKqsMJMwDK8yDEJk/zfhwjCOgEstdS3CWEUlRlmhMXG+aWHzarQATOfMZbYmRZLyH3POffchZ4ETQKcTgkn44vfnMGaxf+A2MExjc72P9wqP3QDcx1P4RFp+9jQ7sY3S+78F44ZTB7bdqh5W9WTs+MmpQcWm4swPIKu+qnCG+GDHIhkwh9XTNgwkUNN+jLBx+RRStPXaEvB8zNgr5DN6qmwzGEQtiJW82MmC4W2JUFv7NKrAg2pG6SSOTX1u+7+5heAudveycRHK3o53idBINlWthoPCMF57rxCliLtLlH9f6XcahccPWzZAEqMtrRt2UKSEYWjSiWnZIqIpSfuw4zsEg+9OLyA9HixBXTuntwCA2357JFnGEpzHG7ePVeUOS41qYZrGRUXOKXo4zk9X6bYhq6Vkr6qT2zEeUtBSXMBX0bypnGQbT3RawIk/62MioOUUvxWarYFqixa0hahnOuvK9h6SluDxhdBKDOngJHeG+6jetDqyTMySnBkzJhienSFAfsYUQDQIXQrJys6LJCnjE+wSV7x00ENejMZADkpiCyfBy7b6QL87RePERAjkIT1fhycXt8uI95F4dyvBxqUmRdwtXIElgKJJXEc+c+dtOMXq4fLiQrYRX4CzicRkvOWiFUfDtHOw1Z9Q79u9HUIkEYYMzdlLUyavRIVEvf4k1LjzFmVMIDP821je8A0PmNR5sht+H79UOzEYOhZMOZ6yT3IUnU5nQ8ziN5MCUHE/hjMUsNgZu5ORgARGudegZZBB7Nu3l5dp9AV6cs7pJTBpIeMCtrUvrceZykmdsRc5yqD4zSBGPHHW7C9Mr/+Zv9Awntlecs+d0IncScTG+jHaVBRYBq4eDmdf5JTgrm12WOXWT01kc7eFZW5wib42O8M2XxwC8iMXFZ15C/oBfjOhgkE7RMx4IyhEcxpVzb5gHuzyFBSeOCRcBtxYuhu9wxlj0msQZAzswRdFO0jOPMivAAr7JLvJu2SmTzhUgh5lXWqOmINJ48L8hYgbTymUHOMsZ6Dwt4sxFM8Ol4mxBny4iCnr0cYQzRAkGDAKNKKz6eRah7IjM9QRcB8OO5DNUJl4XOX+Mxsx/XoDuIt5jaeBiqHzaJAQybGUcuKthWKhWfMzd7akInWMr05BclbjoNoWzmHORknHsHjye6n7dnEUcB58znp3IP3+Uv+TKccZpjZM4QfXnv8Xixvu1g/gZ7vmWew3euj/DYs1X3tJt8R9iNOaRU9qYa4G5f0VwzRmNdKYhBk/oPCxUEXqynjEe1ybw7YZv1dlVPsdEXGpZwumBdyI7/JpcCbGKnkEA16Wxo7XDBUW2CM7AuDqQu9tTEXoyZ5YX/e3XzRs4DQRjVi5gk/aG/2cJpwfvXN2vwhnjFmXJ9VhciPt//CfsdMLuptMwsrkol58noTFD8r5CJHYSvHiGzauYHuWZRsRGa57GiOA02UUaGlPzzdEajsBw3RJPDs+ClvEkAQp2LOwKZ5Jo0psSF70FRwZmz/VMuLoEODNdlPxanmMZLdlvUs4EPWMwMWBM4b0K0DLn8CSVnOtZjuPLYaWCcwqJ62DYcPPNgZL4bRGbuz8qJr3GyvUOS/OQc6tkvVCUKJfT3+gW3PUA4EKr42Pubk/lMHsKleNiEoqtkG/uARfPhHgHnR+/ofLwPfomlIbQXNxMjD3kheyx5anW2JSLGpu4B2wtX8VW+MTH3N2e1s2ZT8XKf1nOlIcWGzrVeQpv3jdizQs/e3EzOgTq3U9+Dt1GuX0Jo+bls5hGwhTSfafxB2MnG30JwlucxVESyKMRb2+w6+CMMlocWV5X4gyCRXZoYH06dPR1M3Gbh4rucKYYTmfw1/5EvKRTxIuPubs97bieMSHBxcthyODYw+7WTVlMC2OCx/v/7EmMFmJL/wmsueGuuL/A1Odt17vD8wCRC6f/9Bx0GmtfPkb7Q72WM2Akb7zqsvTtmZ0yzNEX+TAq0je9ShKCvCh0f3EmuQSkaXqWynOdemZcXWqclfnmc6o5jTJhWTGMU6HlOdOYYsCIPEj2gj/AQrcf/06/G8I1A0+cRgVC4++HnbkTid8iko85odJREuPxLYxfib4MgWOFyGqGGS++OllW2r+a5yTELL9s2LMdteFaM2hISnLVECyrdc7Zh8jzU3hz4omE9+GtqX2QVAOGOJVYyqpl8XLOetK8e8lZkjQldhmmxGmNXTJEo3yha5yzGmfNRIkgPSsWnmli5c/U6mtLjJHbbtgeHntga/jj8/q2yXUQvLgl9gRGYZ5B2XG04+voKPiGfqSHvUiAabITYJ3gNFK9hmB5zmS7M9+KIYJSSkn2XLrXHJhL4kyyh6vHmdaBuvz6spOP4aXLdGxech1LkUzVs9BJIVJVl0MydQq9nJUhd7Zust3kmTK33qSLjTk6eA4vkE+/rG3Lj57QxcVExSlAGjofYrrpYejts9Bl6iFHxXlN4YxTlBw45/SnbaOuc9zjpudeS2hr0l60Zx5bgRMgzRCq9KaZgdbognJSMtBjKrmXMXZWz5humWIf4whnIZKv8yan0YTCa52caUphCimHz8rxKSrPMy9xCyoWO8K656ml33tYhzMtS9yJxGFjvgl8ihEYNubvoxPnMCZ3clilEOnTGcvB8KmpQBrMDJk60u65cKGonBeB3Vc8Tt0+MrgsglWoimmOcLYsrnnx1pKLSUmOpcRGncPv33gA613Q2L+LdTDvopE/dacOwb+FNTDcQXP6LizuxV92mvKC1FlP+D0lHuLUGrVZEL3hnXLC4tuJK5M7RtzUxJ3AVkM2Vczy4cpMlM/LS96xmJ26SR3id9X+6ps6ovsnGNzvYW0WvzH1KkYJ/xvi0cjm+h3upHrjbb2/FVNMr+Ge33IyA2Ycu3IUd12hHV+P/o6nupJvh7OVZPrIs9UmRNhpXKtkMGKbnblJqXqpNo0/Tsf6OcsMGJ84k+LQ4m14I3gLlej3qExsoP4HvAXcEOaQabxw2JEjMHybpbHzFjoJjspwZX9aRd/LVk1sL6S6h/BhEj+PXcS0R/nVh55sllaNJJShePQsYrWtuFOBWxj7O646KQdsbbu0E6eBtBdS3TVnvPf5bDJiggKusXx7WUF0+glkjuNKwdubNDqxAzZyZhh4Nz5qsDXce+swfBcnp/4cO+TOvK4GNxv7s2/AKL8dfjDO78AI4yzOEJiLV2URJOqBjdx0kEe8FV+WEfwyrjxSx3EFVdcH9+/SnHFUh/KjrB7aukb0QlKUvUgYfhOvcYqY9ii/zRBZfmskwbvrkUVPOUVS/u16NOWAraybmmSRn5hCDagXUt2TNIqgsc225K/RxnJ3HD8++S7aXoa6Em0qv+NEheCHKD/B9P5rMLwvxxQ+dY/rejh6yE0VvGok6u49qEOU50fVQ6j4U+rZfuPM8tnEZeTLbzNElt0pnJX8tJ73H2eKkgzwmsSZhFzMWQwW2itNwSUSHcZv5nOm8pIBg1xZxljJubblJN5Sf/8MrP6HUFmw2v0X2MHBQ584lMnRFRk2hxweAvYRDBhuRX0LoxAPn9KdHBFyXNxgGqU+rUOqsuOQTYDDJk40nCptKxxsDMuNZcUQXrEpTzwSNuJS5yRzDNctmIb4ETpHLui8AodIVfOxGVjHQcCWIY/YLNNr4ix1jSFvMePyrI4hrSU4Y/yyPMc4S4nizqWX3D0rbc4Ygn+mDul0zZqzK7GG65un9WNjP4NOP/Ws6vC9mE764eNYvItpUg6l55fqgSmbIkq4uD6Mi9flkxasC6F3jCE8jHhfY/P6Qs6OhPpiqZeo5HkNnKl8QzuOS5NEGG8BiKOi4xRcekyySs40UPAf0zMGnMhZc/toKiYFJuDyPNbYnP/kuulzXdf9aXVAS8LI5Dk6t6JN4dT9+zBguDuO9PLwvOdeRFuLdpafADgPx7vQRvOlkZspeFYNp6/1WlCe7DGwgFCMGFxShw4QZ4Sq7bQvxSIDVt77Us/IOvDuop7N4sz1h5FVr1JRZbXVZ27UKde79dbNnDM+XbYNDbaG1yfNLdIPogL9HRY7yvc1TmNKCcOY/+kX4bhqVBw7MpwjMPyk9qvYzfEh3g6uwoIzHgQV++3AQKzeIaGyoxfnUIs8LiPHq6fdS/njKmjTxFWgBgj/Zk5OoGCbgEvSanDGtyB+ILDMU40tkpG1GBF/zJgCXhdni3ExPSS+JGcaOxHqy7LHmeZwec44f5+NUCzQMy46p6FyEqMxH34L+ovGnnrOKaZj4c3V69EYZ2z4OWXK3UzcwSFbXS1D+K1o9NhcIj4N40x2VuFvCxmUk7lNnpM/hk2DxQQrPYvyM7wafkodaNVNOVwNImQrb9ETek4jtoqg1TizrLTqpvmtwhllxGy5shT3kMFSvpUnw7Q4C2KabQYX1Z7CyOCzMFpegLF9+2mMyMCYuR5na/HMFu6Y4xpEHgfAg/juO6lbrw2jb88Eo9NOw2XrrKjL4Zibqh0t8yR5EXl29fVM0k2ZlAjEJe4rciYyshpX4tIQdUW8dPVs3ZxRb2TBP8tSyqOtZ+qb14EQJZZgWZaMM0XPcHCpaZiplibHcxHuxbQIv/nxLix8foL+Oxhmp5X/X36GERm4ce0HEdCAeR3b+f7z36NSwXDhmwLXwMQrmPlR6ZP2B5gaMjkno0p9cmzixty5YatMpHgiiDgaVeJUqLy6RfdcSIxbyu5xFsPlSbo0k0fEFpzqpNUjumcBkpzkPIEzZtRhK/Ml3uK4e5wxNbmW4cyPxDH+Aj1j1mhoUDdvh47eemJbDiyj8aJcNPSswGacMTluHaZxzw+Klgt4c241i/xX3CvPoqwZhLqNcFIeaCGqKJSzBGc+ecuzudXYUgIp/VrPiENOdIUgMWAKbDl2lXmg9EyLgrnSy+nZspwtKk/634Gdc9+4D0YK1r2cxyjMjTBezmHN1tt4UeSuI376gmvuuOWeU6S3wd+uGhd9aj1jG8qwuptzfXpGmVked4mzxMAMPfPtRlUwDc7AY68PiOkvUTf3JWchHzUtqiuCme1waIt9vc7j1JzVMlPp8S75JzLLdoPJ4mIADW5BuaiLjfsTD+rC3FcwhcTt1F/HYkh+Q+Z3L2DhKioVo37BKSSMvJzD3+1YQX87jBweEhWvxtgk30j0Yrq89yXus6bYyhCMq417SkbvUl5UipMlQnw6ZdzyeQxbSqeUqCSXslJ4+kRsrSQkgOdAZa2Ds6p3EdEHk7OMIT5M5IzBOOXDXXKxww0ctPSsxxkXQdKIF1mQ6d4F1qBnqiO6OE5zWupZ3kOojviyFDUSZ4LTYra1NRbaQqRnQreUQqSRuslmjLYWT+KlBSPfJouGZYl47/VsGc6y7AudyuqynJHzKXrGNpS7Gr/zqK6z4nEN1/AcGxgq16KN5TpDrj38FqavubOO62fGr6I8AYIukhvpCTRfZakdJM40/zP1rFGeicdOHRCSUjqHlrOY/SKHgTOqDes8p5D5EqPXLnAWUqpm/VPB6dvqo/firIGX9Gusb+CtlcOaZzFc+UcYMA/hl/vwCJ5HczNPp7CTg98OWbSqXatKmWGfuvcr3ANRbUMhl9ySOOqWdHI0WOlp+kwOZiOw8i6FFs8rcTYqezbiXNqSnHkhsxE0IiyGMUZ0Q+AIZxw65RoYrkXgbryxhZBNMYvBarTYKDSlzHMsskgIRbPUkLeYM9o7nE7jxxxZ7/tM9n0aCddOUzmrYy7vMpb9rtSxSNM5YFvCE80fv0/P5HrxVT05l1OfN2PE5f578RteKrkOr9nmCmdt4lhu4jMdUjfHmcdY9rsSxiLNBTg3fAFKKgX+GSNmxSQqGsayXwU2h7FIcwHODa8Y2O5x7SB1iWfH8XeMtm5WlvQIIzAJvM8GgdyFnRmcOuL20mfP6AfvvoNFvWy838ScLD+Ax8W83ErKkZjTeBO4BpXKX9QH0YnsKsnHczugxGJow+Z/TW4VtXIwIT6Ho0lKujJQRkupykCSY9vHuZWRb6JlUIUSwrdwWQYlRb3awSjDSw+4ygSDDIbOc2vS1bVKo3IIAgqNbAUzyfydwlkbV5KScaZCK2Jb2S7ddG51/ZzJGRqosF9hCJ8VOJtCEuLzHM7iLMDlj0gJz2vhLNR4EevSScwzTaY0kbOQMTZeXEfBnYc2J27aV+W9cggZXYUznwGn9evgrKxEbfgzOLPsZpjtQRFbGpzevAuj2v/824N8X47T9fz+3IMwav4ptlv/i+9hFx38/RouX3IqNbHg6ybLXz5XwVEzR9RB5yzS2i6oxXWTBAghyuRutWd7qWfLcEa8HH3h54JkNJrTmaFRaXImipW0ax16huYsqLv78RWAFtbjp9Qw4ZdbuROJw+U/wLAlV7+/gbUvrFDXYtTlDhgvp1CZrpLPuaeLA6YKVjVKfLPMhPB0E3cNFyU4bOJrjTDctbFU+XJvSUdZUYr42Q4jdWW8hC3hSnFksLfClQP6GOc0/AYjUv/XT/TAKTuVNKVhOOEyCReDrZczx0KgaLc4Y8quYKx8gmuNS8MLTS5sxZvzM5WZxlmrPAOKvFg9tJoz+HINjByhz3FMAZHkrKRnJoujGV4uxHtKmFp6duVpOEpdk8AIx/rDP6Fiip6NcEYxMF44lcZF/TICE+qnYltWz3JsIqvgIq+bmrfIiCNqVc5Ylr48V+YsACpxWQ6kjJhdBsAfXx75JXUaME/gZfJv/xp/PxiGu/FyydPOPS1z2jOKNxWxJpUYEg57mq9ne8aZB1/qf/DL62ZDz2K2ldlV9EzLeFrdPIic8egIHpvClzl+m+urMC2yK5yhnPjuKI2gNZRFGyFFeQLDmN99RBd6/erJYfjf/19MH53G8CWGLS9gXvYDnFfARuuBe2C8YB72iB9PlxKEVBHsFMLS9YlLaimcVTCroR6biVW+gk8LfJSJSigwQiATEJOjj6aoSoewFbaUgPdi4XEXFreay/dFIDOFXIwtw0U8hk2ianyPrcaVcyZPI8maRIZzQOWxvFbnLCVS0pk40lTncmZYrbxCAcN5dziTN1iWN5LzHcBUzohfOCmJSZRFVbC8rsrZEXAjO+YgaBtvTNtcvYkOclnOJA8QwQP9xHChrADSSkGwl8DFMV01ZyGSxEt1k09dzkIiJZ1l0uk5A+rhxPv9UjdpGH4fxsu3HlCDhiMuq3LG3Ive8qYg6cByZvlplubqnKlYZefQ6NkqnKGjkdE/kMERGPZ/7T356+eMsPnuiAYUqbPHkxKhS37RHuEK97/gLiQYM5xKOouV8DyPgO3fA/fjlF4sNHsYIzDXYheSdbYipSHPHLXhLlNLz1lUYNMKq/7ml72l90W5rNHORYM4hotyOlxYEp4zWwPEdUCykIlxJ15lMv8/e+/1bNeRpfmdS4IOBAGSoCfh6G3RluvqquruqmlpOqSJ0IMeNE/60/QkE4qQRtLMtJueblaXpSuy6EkQhgAIOoAOJEELfb+1Mneanfucfc499+ICvDtwcfZOs3LllyszV650daVIZJzh1WA2kqUuWOJt+Zi15WIch5EvEOEdyO3plenaY4b8F8pLx8ZszIzlWgDkhpNVSTIW5akRjvhjnxjdFi3DsP64jbhg3ojNh5mxJ7lHgcGcbFNIY5kK4eaRM+NwBhb12Sszgg9yW8ez72bm5sPMEhSxvD0bZCLzsKtbMqY81cXlLJI2/VV086zVeR/DXyDTp3MWMcv5TnlaPWbQPV/lbF7MzF4BuCgvMwRnWZhFHk2BGRqu57ywUBElBgsL19KjwHym+VhGc9dqux+r5dm1FKpyjsFwrpqCTarGVElDn63gNALNJ5IJpFKw1o5zBVL4okFp0s0QyUwcn8gKxV1QO4QDB0q1G7mMyyyLdTLpe0AS6giQtd4uZDQHQ26t4E28jE7mU8RdPmY5DwM5LdmcglkKOECpBUKGGUrnCe2o4x6v69jhoTKcCVxQLFAycvLpfXHMqOTR5tDlrcrDQE5nYoZs+qnBPu3jO44aADWcmnImRuzmeeFgV2i04pVcLSRnAyBnlDNEKiYiS3NhhghUeUmfA5RaeV9i3WyRR/qa7jWLjUAEicHqgeD5gllefxIEi2NW9NDnqZzNixkwRFmqq7p/L79uRqF3Baadas/VLhuTksIfN/yycIcH82ZcRNaLNK9DXfEG4tN/FB3uQLh7FUhJAAAgAElEQVS1doZdOj8uXrtZ5+bQ+c29I2WtmTyf6GfyEa1dNEzxUMVFsspdXi+/NZkcOKZ7aO7z7ajpGozpFBv9wvQIY3wtQ65Qt3unMUSyMFWdor4y6uYMkXiC7pwUu+Bdw6UX2F4TPER3ZLOwaDbOy3izMItlZbo4Vrm1KrzzEt3NTG0EBKrLnBH58IQGaUhJwJx5meyZ3NFh87EpWj9fPTNJmU4RwbRan4QqCYU4/Jj24k9uvi/CM6QQqTzpLNWSNF8K20u1F8FreO7MCJZBFtanO7SFHEvV9HbA+TLeAhe9ZHBfNmYxx83Eguc6YZZyTj4DXtP4ioGy8iQ4C0eZc2UXEKP/PvIZ0Zp+JmefahH2G1JentMVAyd0OBjlWch9HZekQoP/rX6ZRspEcqjKOMgj5CyOD+HD/ixmmReTsRZfnkqXVl4HLLgi2qnBktMvpLix6M7y2z1lOrmPmyR6tcTZiObjGGEabxtWzhyfHmYFCPo4b+qm15jBopLHwnJ2LmEWAWhltgeOBRquet9JzLxKODItcNYGM8qBDUXZk758OoXSKEPkod3Q7S4xVLH+JQauJq27eAgHEeNvk5OOiL1Y20EDzC9/ec+RxY9p5Nz3eSskV2yEriN3nsGbjjK24+n36nwcv0htY2LWdTsjynOtMQvNYleextsIvoiQy9npL7zzRYneykKySpCacpYTCfTY+s5t6hwDwJEARkkJjcEsyl/O/mg5y1mu5SxMTUUxnx+zHCvPU+QLBYaKz0WUvu0xlfhYzJxi9r9opn59XHlOl7McHEo2M/tHrGrMFCWnuUzMivyOac+IkDFT8pU8x8rZuPZsccxsIFjhOa4PcGSSnMZ6U+V4I2OW8baYnCXp2NiYhUIe0dbOrJsZZuzEZF2d3Y0YBWFm3Vw9ZlAwuTXJJcH4wJC9d0146WlfFHXrKV2drNzspfvyiDGogREf3uN3+M0+Iz6RWtFoZjRm8ZY4Sbx1cfJEOt4iXxkz4XWb1gXt1OJmfjcqZl6idXnGvDia64mZFZWS9zRrvmLpTueL289RIMD9Yk5+pvZYllLp8tUJahj5m5uF8XCnpbxwIB0nn2JB44l89cszx6wzxJRbvrOakThpyFlKSMlEur6Z0pR0/TFNW1hI9L0azEiSxbY0Nl/YuQ1jMEu8lXUzy52UwFhteut3uvpM6rPbjYTweMzy8rT3RMTeV4uZCYVxz5NjluXHE/Gy7LUbMXbGW8bXdDlbG8zIi00fdfmyzPkzB2Yx2yly6XI+YbYsOVtbzCiJlpzhXre1Xjqx0Pt8eZxYtim01wFmILjMGXFnarpbPtGT/xgz4yuwObZutngLCowylftm72V2YSJ6luTS8eM5ICE0PFvwPE4erk68TKPjLThbTP3Hp/vlfJXpJL48Uky1SzHnLRImaPfkvPCeviNf9JuswYiK7Zpg1uOty0HgKecz4pKxG/KTeDu7mBk7WRYWwewzVRymb1g4jfJBnSnkbCRmHA7GdAqzIDa9kkNrbEapKTHLg8UQDjNKiD9dmJy3Hl85GHT/uuJAYYhrp1vWRd3RzlPNeSszUNdNa2ikwHARJTeouxEzxOnxhnukN/QuHqPlSqGdk8hbzleeT4WrNLMYYxHMnMfE57IxC5A7EmI0yZnSnBOzuj1LtNcCs0i9yEFXpiAWOoFOZi1kVwi5/OORl2cWCJ+uPGM+jNJ5hllZBzamnDnqq5EzL7n4/3B7hmpN28n6WO5PjBbsfpuxFnUzyW4uryXvhY8zUc6ZByHtWv1SqKME9137LlXC3WcvZJg2Su69EN2otbwZt7H6XFG72PZS0SrrYsFiDGkdINaAJsceatWYtXgruCk/+ohE/8BPnU95Rx7XA7M+6znHIzBT7QRzbmy226QLy0mgPhIzyu9L0WJBK+tp+k8fM8IiGrGRKPFenZyZQhzMsel+kT5XpayOwCyUuS3iVXC2PmP+LZ6pmNWBFTNkHBwa3ZbcSmRI65ySswb/OBW5srz38+m49jEbClk2+mWxLI5ZVb4VO0MdcEMogpNzv4z27FzFLMdmdlkS+tzDrC7/Xj6DQzyBlzaLAz2jMlw1BgW5Hq3ON/cZg1mWXsnwKr769bVJbDjYsE9OaBiEZnJLcGzzxSj2Ne1g+dMh3RCrxaALPW3SPVLDwYZ9ekTW1WHt+IIyige/aP6MAIrGOORzmIPkg5XDzkSRUI3dfQR5GnH+zGy6NIGEoMihZChPHJI4rTEI2Zzrh8aGPxZAx52EOYFhzPrJkO14tgxYtOj1Yy3bZR6Ol5328umtT26yVILsLk2Elw/JTIrrjtlMjjZ+gNGYDQWUO3WeA+yQHWs7e0I0FHk5+JjC5EmMT6g2sSdWRCPLgFEkkw1e83wmf956CHQcdkM3cd0f8ZWJ9HksU2ky1eDTO8U+X07tzOS0Cu+5/ZPJr/+kCy911f3Q0+cnhhSlBTBL6fR5c7+Q39ZQSQFaKPd5XBvMOt4HeIv+fX4SZnBG584vV1kMhW3l02MlH1MS9Mc04EXmnPLd8aqXWmaxXnASr03JdAFXjxlTYTYliQIj+gU3q8Asz4ttmxVhU8JyjyqfyYtQfTSZXqPhQoHEWmRrdjJ6/Ritskox7K1mqOIvfs6qm120ZWEWeGux18pnLWcpG4HCAF8tWn35LjGzcuRvAKtpmEUdOU0UUAbTKfX56VIoODAqA3y18rmemEWwpudUHHVtQsmxx8tin6+YhWzHsgxFauVM+4T12tpOrMah9NceM08IVSAk6knDZF6gsUw696mlDY0UwCjqv7LYQw67n9yQqJBd9DyhwFuoNXzZGgFqnh4LOZUvAiTeIl8ee9r/GTYF/eROoV3KwWd6Tuo8GJ71wMxT4v9xmMXwOW9nC7OOl6wVnBuz0FqbLOg/fl1KEjLlWyVPmZzR6dKfMw2FMlJrQy3MoumU05cvsjgxtdXLGRRQCshXPcVzpoEZKc+uA4kvMmvnJ5CGfodxG8Ys5pbY8MmxCiiCTEvBTAuzFKd+Wz1miWLZnhk2y8DM4TKwhvGy1LLMKWQmZ8nDKeR8WcwQdnZZErrEjIM0P2cnnaySw0+7PYsykE98fhcwiwU5qzzdPy9LK60QPcX+rmFGG/iJZh0+1FVCWzSIZDeoV7VKzrI60GEZhHRxzJwA47xC3vnKiqTb2NG5l8EbdSVfjpkq83ClLJdvkrjH6icUXfC3UYMcuo0l/eBTeEt8EWgUb4F+zRtn4Oy9XmfA3DKZbLddSCq8kAeiWLSZvK09Zh2qGW+z+XLmPc/LwwyqJSwLYhZYyuEdVZYh8ViW/DJlc5EqINNRiR4+JW/RE2sDIw/W4VyqeKb4dE8sz8Uwsy2J/JE6K4sLyvEj8WX84zxWzhShm24L8lD0u116I+qm4rNe5zIpMGfUgXI43jfqifM6MJsvZ97RWgwzKMTy7NgPL3l5Rr7mxsxoJd7srWS1Sw3nzivi2wChLK7FMUN5+YenJ5P/69eayj4c0p7CmzFK4uEvLsAOGei8/XsVcmYEGpj1eHM5W0/M6sKbVZ45KM5nWXr4L0POnPY4zAp010HOaswYvH2kQfuHH/gRIr4L15HIyxJg1gYzKU6QRl9yEcoKhRRNnXJfK8CRT6Li8Slao5+NhCBlSYS/nLTHj755SI8Uj2+HXEUyI5PHT85OO/GFT4u3GCPlxV0ibxEzzoG546bJZLdOJr6crbyWo42HWQJqGm/rg1le1V0IFsAslD2y4MYY571VlkNyRryDuhLjBFN/ekd5wZpiZWyRYun3McPawPThlxqBXCILHOtV8sdjer5iflu8xTgxJb5J1iwwosnanDgy7+h3vPX5Krnof6UceRYtvVXUTeJeKBMMStxX4gsF5lu7IHIab+eQnBk+8UnluRrMUssnuh0UUNSW1G9WJsfVIVytgzEvF6bxhOmvZYo7+M7K5HLJGn7suosPHclb78sCrHjX6CoME5iBhrGQM/JG+kSxv6pcliBnjp7TXQvM4LqxZD5Ac37LGZmsy7OQrbw8MzlbFmbsOvv49IpZ/i6WXF4WZiJqvtL38nUNa64dhByKHJnKPQh7kJARPzF+n07fJSfXLxrzxVlce4WblrwChsrZDjVAvw7cpFFitl0Fx31QbOf1p5+zJpk6re57DTDr0W4l3ufbQnXMLw+zPjv9tKdhRmi2PLOWgxN54zXuZZX2VPqUZWpXnEPvTCZ//8Rk8tIB31Jsi4H1Z08RqU+B+39Oh23Itn2wDrIKzCBlFyMqb3GdT+Cq4q1OdIbIRyKBt+6ohjKz/ewXidfgqC6IjYtRYJgPFya2pqhBM5Hp821+q8Asp+3UqzS6z37a0+Qs0Y1vMX6fTt8lj537Zu/Z6+kvVyZvaEPA//n4ZPL7l6VYyzTPg6y+/9HK5O+fnEx+91K11k7Mo+R+JkX6AyniH2hE/OXXUzjJM6v3kqsqXvfZp7e2mEXqJXcdmgU7fd4S6gN+56WcrT9mtLkcZUG9ZQr54nwHZ1NAlq9rYKWe+vT56LuUBEr/3uhxamp4zqLvIUw0ZwftpxbitKO2XZ1I2w9XLnM8qcaGxrvNVjtuYq70XwvM+kAMuExhte3Vdh1CYiDVRlFOo0vDe8YsJjw298/ai5EPHeyHurjxty9OJoePTSafKv4FqnyXagqQxahT+96Qhi1eM2uDKq/i9BSYEK6di7arR9GIUsJNxcQCwyLhoadPpe9SxnV/6k5+h8isWIlGOyT0mEJiNxeH47kCM8R1cG+TMs+2V9vVqU3zK/noh+y7TON8Lesmd3K9Jnl86YXJ5CkpMMdO+qJoFMO3P9L00POTyR/lh7XFMXbekUPO4vhEbdD7UmCsU7FnWt7kl7X+A139AJVpdPvozY9Zn8bCLj1Wk0PPayC3KW1itGPN5m++eGuJ2UxOegHamOHKAaBYi1kL2m4D1xYzs2X0+M1KI43SomMy2LXiYdCLD/4rgUArbEsYcqiGsk4K1si3iVry5lXVyuhmfGW5TmTyCME1OJVJJcxoSN7QSJ65548+taSrU1mdkUi5xfJ6YOac6f8WA8FzvTDreMle5pYzCQA3o1NpPpUyQiPO085e6Yrl5E2VGZ3Bvl26mPRGv2WdcwyquzUGiaK4sGAVSwlWm7zyRhz5XVTObBeS4jMtM3Th4tyYhQrBGhuzYioBM5Y0nz6SycXlP35TFy+RBQaljo7UlMl+9C6ViE+e7DIwc3rLbs8Sl1aea9CexRToDJjOvErTQO9JSUFRYY0VbczHalvA9r33JpN3FYZ1L7HdQJ5R4k9JgTkpRSe2Q2UDGAqkbs/0bVmKDVReKOF9mpw1ghdFv9aYzS9nZNjFc7G6GYGaLmd9voYnusAwry5rjVm/PFMptutmGzNi0ZYQJ50Y3pKztcGM9EMzmSAkeWMhImpp6wOVMKqFJY8ECGHKeuBs5/+HoIQ2Gj7vm1ypTDGz8TfQ9hSclfgewCv46vEG3x6hpJzoFynFfFe8Jb6cb+f5zISLAJ99XSZfdYaMfuzZgJgFzkrecAzYdGxbwLXFrEg24h0xi7IWA+k3L5/IG24oMHSep2QBY9QJqTJsW85OSeF59ZCUAzX69+/1g/A+FQ3idsXfvUSiYBIc9cPuIDoWlBd2L11Aq4C3/iIP/ps4ynlLI6yyDiBnkCIsSpEt4s0iGgeBjU7O5sCM6NBl1ITFhL+UaXzbmOE+rW5eKuXPFBgpLzaDYTyDSWA2YGN0+M8e/P0nuvlvCpHeEiko5N3HUN3MUlk1ZtDKecv5spxYNhdrzyKflMUnks2tW6WESEk5KmUFZQQ5O6VflMTP9Pue/KK8Evdz5B8lXn/I9gdhIJX46vMGZheIbrlUJgpWgGuEnEXe/dfLM8dmrTFbdznrIIq5/O5iRjvC1DHT6TZwoS1p1c21wCwInhkRa4Gzb7Wilq79JxckPUq7Bag0UNsS1EXgxZ9EJLnpLZHKUy+CGLnc197hKzS65k8Ocr5q3iJfNW8dX0kAjXyW4DSdOQZj+uFjNRo03izm3LCYRWjz8rQMh7+8PKdiRqTVYVYkW8tZlLUYaIqc2ZojKQ807qwB6DpL4oanljPM8e9olPr6m5PJnbf72iVGsJ+KBmJldZAn8NUrT/NTUgr4rTrrC+LOJasf7lfg00E1J2ZRwBQtt8CY8yowI7qdxKs/Lq+MJwrjHp8as9yvC6OXyCJ18HJ1ujRgHObI3VJFu0GksyRnMenVYtZhkASigGVezHK+eGcESyfwkdqSy7VI9yLJ9se6Gf09DYrA9UMpKbaoVzji7kqKt8G8A+82WW4ukSL59onE2rT2zJpRpdsakS9DztYas6G66YKZ9U/r0J7l5VnwNUd7lkqNguGrbDMsjVDpZvVNsW7mfHUUjaxCLNxvOiVkcYdkFcX6tOTz83CQ6yzeiB2feeSsQ6MzcpgFRk/MUE5Z7048+idPgvfWfne1IIdO4ToiFXH77BcQifZdS5rxsCzbbqrAtSmw4K2onSlk4qukXXPZ8VIHC5jxs1MLeG/WLqRtGo1vVMw69nkx3hPKvI3HjLg1GCVqszArQy+OGTsxLhLmKCWn1GnmU3EDHNkI9Yh2Hr2l0e2dtzkKJ7R745Q6ivrQOHJZlmfCjFEHHQtzvygDK8V8Zi1n82GGbJKSpd9pVGWOViVnikx86tHwVQUpr13Kga+aExoRFrKzqPoLlYNdq0ECRiLR4W2MnCXxslwOPh3lOph51I51WSayPb4seqRe0lmL9ozkKAemgT6Vcr1NncLOqyRfUpBZW8dJp6xv4bypHcH9fVvgKzkTm+9orQwLKHde67uTUGCw2iTky7zaF2UZsmY73s5BzIx9/jPeU2575VkUYdZbdO5lGRs+2dNRJlgedDRmTqHHF2mss5wtEzOmz1Fgdmz3es9sRHzWArNUXKmsfd1ws/wyx6rQiJ5r9s50CsQCSRa2Ylq/jm19XXOcMljHyX1WbFjQYCpPWN5ufSFmCtuPVbrEr364mrdpHKYkabgfvUM5VCfKe/dUCbTTm+ZqmW0w1XKjHozALFIzEolOn2LpEr964QZY7IUr0q2zlIWuIrbpJNetkt7LWQcjkqyDGSNnjHDfk8JCvFuv04hXo1k6XSwRXAthiyNbAm7JprQpbzqdi1g3IzkvpzH49uC9PMyJWVyvUqK2OGbQsVGL/oMVdjy3n7ZHy5WqeoXwvExWGNYF0RHbU2HWj1u6RMx6/MyJWbPa5I4VI32+OuZ7rHjYAYbaCQ+4Oukvv1qxdVTsNMJ6dUrySKdw5mqX6Q+kqLDe5UMp2Cg2/CGj70nR+VJxkNljUsZZgL5TcZDjt7V2hvb3CrVH5flEVYtCNvTHic+t5rYIvWrMelAGh3nQjzRazCS3NsWU/vrLmXPU5mse14H8T0VyII4luzrMsMBsl/VlhwbwrEG0QSTyJPd2rookU4E06+Y4zNwCI1LI8qzHFpOpYrz0ps/PUrHq53O5vXBwMvmvf5xM/vCaRhCqkK2nS29Ewq0gZM/+9F/L39JseZhbw6Ph1OI7dyMKDfddN00md+/yA82accbSnhGu854RbiCHTdZ6ji3a5tby6MWeGWwklZl0SJlR5zY10ijKNNitJ8eMyoUCw5TTLTfozIxt3hGw24fpP9YS0CGMeaBlCoxqkN1g3dWkPPbI3LaCyc2cB1uCBpctOo1g1lkFunaOThWm+649COeLPboYBIEeu5AuU12gA2UqZObTom2RBj1KkjOCzfBOtMYGnBGu826Fa2CGE9Oezx+e6HwXl0sGfigw2yWX18rSQhhOOf1MHQNbpK+8YjK5SUo3GGN1YX0Mp38fPa52SHFYjM5ZHO9KgXlfCg4WxeKpeItXP7ADL543U8Vof7by2ApZhOtHmhczS6JPppVychsMP+hR0psRbIb3CD4q9s8hzGhCmLLcIbmk3USeserOKqNlYtbbyIM5HsXEF+SU4OJ+QJXlP/zzZPJPz0jT10jWRqzhgTHuA/pXbff71W+0sPXZyeSVo1TE2Aon1s3F1LUyDftSi9jMZBW2FbWg1ghgrGRzaF341kRwRox8xqmrmrc4f40JjcY7b68srGe2YK3+6MJ1xNcGs5hunYeEQ81ZgGsMZkPlKZKD6fWTyzru6bEuVqeJJYXdQyzknSVnbEn+JKyXuU5TfiguR9V5oAjRATCHiwI+lGrubot49UfaNoVU5WO0nA1hJoI2lVQTbuCFk/E2Us5YaPuF8krSKU/pzcnou5X2QN1EibNzeVRP6jahyXKD9qoxizg0E+w7zoOZYdFBFJlfHDNinpDy8Q9/mEx+86LkUNM+nOHCdNGVksWrZbnWmXampLDG7gO1tVfKVH/L9SoWye27UmBoazmI8X1ZYK5SJ7JPSjlyzHqut0SvaMMrOeMTqw9KDKeJt2S4j9h4ObO4S8aso9lgLJUEntnXOSRn5xpmDFwu3HJmsk1WGOo8bee3dIYNzKtSaZRg6TS2bvruz5AmaR+T4O+XkkLl8o44CQOV6cVDWgD5ui4v1AFgr+rMAhaxdo+CvqUK9YEq12WqSBxu89J+n8v91ohVOavtlrXc8R14a+XYLqQTyRqvjEwvmoWNEQJ9X+5VU8miKhyWJxQUKryFDHxBgi2Obwizp9/QuSJqTL7KLrBJVAeUspBMFy7jrcnXKjGLlbvO7VIwy3mrCOaY9QrFHFKEsZgxdcP9G1zmaAvIVDbTMMPkjgwzxcG87XHJ6QEp2KylocOg8/gUBaYHhjvkmBGG+nKhFBg6lFoILWxWlmRvGm8VBBaV0YXtFOnxY6H1zI8ZC4+PSEZfP6ToDD74W1LdNFIdV33MSo75Kp/VYga1tZCzrtyz8pxZllVmI19duyF4ODeKXUdMadJusjj3qp2TyfWyvuyUfJKZDyWv78kK84nCYKq/SQrMFVJWWDR54IjvptuqaaXdsr7svtbX4m1XOOQ6Hi1gKFd1k9KhPqDUc4K4KTBdRi1G9swvZ13kJWJWc+XfLTkb0dZmfM1bN0l3LeTsnMEMRgU7dYCT6O0SR1V+LH7frncfYKCFwnzhkCwrT6qBU2d8iyrEXz48mdy7Z8UUER7muDBZXqeK8r4UHRZD3nlLWPtBhvR3VG7sSLhBpk7oviElh21/116ttclk1Eml/4knR3PvhEqOANEL7NFwplGPVwrgihi72FZroN3DI9o7/xE+heMtD+aBnSiNMqP7//tfnZ3v3+1bbyNvjHQ4HfMFKXWfKdwVakz+579ZmdyohsgORXMylkJvdXZMNOPLw3vIaXzNi1nKU8J1rTAz3vKys9HfcHk6SKV/5G0aZheqLC/W9dHgjFJiCsWUsoSmHc2vPw0cJi9K4WT9wV5NAaKI01mwDoFwxdOBHeXMfZE/1pBY+DySMe8OY+Usx8ygi/RyHEuuFGZ+zC7QEf+XXbJiUw1g5rwPy/9YOUNnp5iZimBRaM6bwWG8V3UgeTgjq8DMyYvgGshZrkHGHCyjbp5Wg8/UG9v5WceCAkO7ebXaT+SS9vJTtZ0fSYG5WEoLp33fhKVFSsxHUmieV5vDgt3bb3XlhSmmG6WI3yjr4uuHNZBUPO6noUxYm4Tcc98XEHHpI0o/Z8+wm2/qFNICcjYvZgiIiUOU9zFtholUqgPns5yR1QiNy7o7bATM4OdbjAmwRIeJJZZiyRkeU57zypknRbJnbOrjpSMu1DswQ6ozxrT5gSoV5iH+2MGBtQEF5lpVItvOpz8bjYoKJ0m+pVEt53PslQLE7pyPVYmOyI0V9b0CsByX7hRImXMcwmOeyTSKydoaSz3+U6SQe2TvhAndor96/EDbA4b/4U1/aJg8+4XPE2o03tX8MvdAYMJ9/AXfksuugQek3Bx9S0qeMGIqLj4zebMAkZmMt+DaEYo8wlci751QIS21Z/YdItpcpT05JXdhzh1l9o/q4H0Nk/NWsEnMIcwC5e4ntUq1T/qu2PDPPm8du/JaEd2Lgwww2oQd/opYFWZM+dAxsPX015rivF6N/S7JMjKPJYb1MfUFijnBnLahIvodLjE3ncMccpYhkxdNbBiawFXw+GflSMTopF8wo9Nk7RDrduLanSLWnHJG/UfesWB19SUjmF6bDHvWzIv/FsPMiKyRnEW+Ct4yWC3tOTGD1WulcNy515WHwxo0Mjjce7OvJWJt3RVSZL6RRZBdcrS318oqw11It0vhvlFtMBfpXSW3h25ziw3tFN+s7zqugeN+tUVYeN6UcvQrteX/qoFW5JPppbhUAFlIGbDclE+z2CpHYkSnrCzHYpZHNyjnbM/y+ImRkI2c1XNUzrosZHJ21jDLEo7tn1mKA9y89KRjLeqm0jO9ibUDNNyHJPBbpKHfq101N2ok8PJrbm6OR7WzUJL51WtlXcBC86mUF06OpOFiaoW52nc0IsCsz7ZiTKEc935Y6wwwVxZPL4fuO+BceNrdN0qPudto5aioz/85kDDOpHOrGg1GKseE0Z8OsL1xZfLb52VhOuyLd+/aM5nsUxhGU5iGGe0s/ZnC42BaVRw6G87peOLVyeQ55SNNFToFcEWRxar05Ms62lz5pc7EelOkM8DPIC99sR4OOtKHOVDqBqZw8tZ7Mh7Zcn2VOgUU35eVdw5h+t7tLqt0DFvVsWOJaZGp6XZkqbhjIkQCIzEzzKFdJ7yE763K93Z1noMLkAcSHXA2jugMT2tEz0ie+rLUZ1rCzYTmjtCkMpfjQJIDznaeC2td7tyl9lIyyTZ+wt6pNuTii86YLO6QO+tUTmoAuFvuKNnseqNtffjOyeSR700mP390MrlHNOJNwNsVh7ZquxSZVw5JiXnb6/kLGoxgJYv9CAoMA06OA+Aizp6ls8o8bRoHdbLEgMXG84j8II4D4Aw4O5mpnoMpjfOYm/bcEcbxMS3UQJIDzuuGmbVX4W8a+8tu0VQd3HrCSJuV7jdL079DFVcDDaYAACAASURBVOJDff/+Cc2lqgLskTKDkGNi58RHVsgzOmC7HgctURFYjcwI4mNZJy7fJyuNrC90GKwtOKT52E8fUBxMlVORnp716GsKgtDiAB06I+9BWoSBtO9eu9bfNRcXajHCXbtWzJT7/H7hIsWFfPxJSgDTa9cEPKwAxY/lsZ+sl3DDfSj9Ifeav3m+oUknzcnBWMV+cJ+P4Gj4sMqw1gfF5X01mpTfq1JmHlUnXyuKs3kbCBGcKT97FR4NSFKWppCxQMGKgL5IUCeaoudvyAqN/217JpODxyaTHz84mdy3W0qNpv3o1Jn6xKTefIyPxAxljJkfZdp2e1ji/sRQNetD7r2YCmgKsP6wME7FJ0Xukam9Yvps071ddZzveB1DHXaeb+TmE8kU579cpPrAAMYeS7BCofss3eNXFXpaceaJ9NmtCfVDlC4D4QecR/A1JcFAFEVvF/Ioqwt1EQXlNg0MbVeb/JgSoo3D7y6V11YpNljQaEfvkdzukhUGuQXv2K5iXdut9vrhh3wdDPd9fa52m8PxmO7354wGgCtpWklybCxVmaVcWZhJu8+uJ6bLcbtbaXNkhMllQzhXh9lA7AFny0+L+S58GTF+1eTq7wBU9jMQYsC5Hz+4DIQfcB4kU3oMxB5wtrjmVwXoPkv3+FWT674lr/R7fK+ar5pEx2vLQ3XF/JXyCSkmWFKwMjDXyqmPN6piHZP1hE6NNpoFkCgP10i7R5D/oAaWEfzHGnkxsmVqhZEw2wCpjHRO112t6Qh1iMzH7pSbX8Cn5T+y+sTRQA1MZDV3z9+Z7qJ95+wDmytu1SIj0qhd5lqmmEKVfEHBQ2pNi5SURzXqQdH7ndYJ0XFdoEZm7x4pZuKDbWRsRyRJu8emlXTLTSlE/sGWBcAXqjViOiMG987ewy2KWZ5jRmJMEx055DyjvNy3l9yq0ZO5GYVzjxo7GkOUVF/b442nh8qRHcYMGSEPBc9yADtM2+yGQTHij51Adhs0Cmn+TMHM8gTezTAQ6cvZLWr0/606hk+kUF+HFSKUGaPdm+W3Tb+tLdE+PZsSgmfifikcP1c+mGJ1JS+VZy1nCBN5pr5sE7Yov5H3KGdwTZ7AgukALCXslsrLz3Pm2NbuBl0Tj8TXTtH8/l3eEV0V6qnFs6ePWZNcimDWUKaSYZKt1Ax2jJIi9upmRyynOoxZCjUsZxkrnq7+B8Mam/hdu1ukZiYTX55GilkG7/NW81R8Z7zRlv7wHj+GgQHDTg34wAy5QLm5fZ9bTu7bw4AipXrZxVrLdHH8TnwRj7b4Z5JvtrW+fsgPxWOaCXoesuIeRx740jvtgy0wVrv/puo/U+eH35Kc6/tGDXCx8MTw4S37WS1mJW8QNp7hjd8iJf8+n+WsxLcvZ63yXG/MrL8LAy4rJD0L81WVsRHri4Qnov/VBDsozKdeRqMpTX3HZVocqaHfXnVi+w+FdS5i8HN1Olx2x5Y91hLQWLEannUubKV6W53fNvldoz9ofSNl6BpVmnck/MdUEW7S1BOjDiqod2ohmyHTpUaYVQT5x/CMHOycCbmRRvPyvS57Qy9V1yJasRIkvhw5V1KdzxuUl0fv9V0Drx+YTP79fyfrxT51MpdzJ9LK5PmDbomydRZDSffcU0i2Uh55Z8WsVvdrlIMPfLHw9GtdMEMnv0WLMA3BOTBzxD1hGji2HrPImDJ7V2k+IQWT6T5M2q8d8g6IvLIj5wMppSiu27YKM8XtuB2B2ekvtcBWwu1TCqE8FY/R3BOv+QgRJYlOmum3e/fIYif5m/0kzKziRCxCxA6ahpwhLzu2ntFfpOF43qqGeZ9Grrj6qbopDciWX25puEQ4nhI+dN43C0/vt/OQpZxhoUBB/KenvIO5e5du1Fb+u/IMIyJkcM/1Zyb//c+Vjuohyo5TzXPmma35ChA0flJIdpzsUN3sRtGhLAMno+pmhwhx9fe+rLfUR+o+gx+n1WCj6TSMGWU7pm4msknOvC7j42UcU1kEs5gjp+Qk4Yunbs86eSxGuF1MYydv/ziPiL/8wf+Bfa4sYIFB0alCZJ+lnNFO7NU6mP/x52qbH3Mr287tPjByKPSuBFCYsGCyOcMe8YUijjwz9fSsLMzPq23guUO8/OR7qqNql1jbOPzU6Ga8hbIk7jyYGcUKM6fhXNQpjuNtVh8QEoVTK7qs/CyBjSFnlveGnK0lZpakQ2B10+RI8GAA+cbm8dcDMxhQf/jG2yuTXWp8UWBYob5NFekiafZo4TepE3v6OZ/7hDm08h0Ky6iN0ea1sq5wuRjHXVPBUFLYnoqCQ6dFnWTF/FWqTMfe9blaFCRG5nZjrTLKKDY1NLlQlWIZYDFzPdYDTOxm/jYVDEqVgMXPzDkPUVDXR5la9mWvTp0dVkwfvfSSGmllDuWOsxd2bHMCtntafxgR4kiG6Fz0h8Xp2TeEsxoHFo0Sz4wN+Ik+B6w9pU79aZl896mRuP3mM5NL1Xkxun1mv6xYB9w0/MtHfHSWGJ6NGcnAT8SZaYmbZG04KtoXquM5rk7192qofqRR+avKE1OEdMic84NwfqKRHGWmIg+PExvCTGQnrx9dmTz+rFs0fnA3pvGotGr9yVGN7NRAsrYK685hfSNPtwmTieTDy2mg4MzZMYMZTJfky/5Q7vRS8kWo4NJ59DEzL/7rXnAon5wvlL/rpWiixLAbDwXIO27nLSYVfz89fUbriVYmf/+EW+xs+3dcgR7TDnJGnEtVB68LdQOl09PuMlCUJ9HHYpYoRFSGMQttUUCvj1lM90sVOAoMWGDN42DB+PT4SsxGpo37fNye5bJRnlkO7LWu+UXsjndL1rM6zJsz6/72XvLlqRmlBl/JNwlgG7NAQcHa5Rkx26KCx7prT+St43E2ZrTTKKm2Myya+gJmyN9Nar/3SzmmzWFXEm3qR6qP3IJ9UnUfhfTR+zV9tU9tkuSbAU60oHd1aoNh1vG1IGYB7fATyuc8l7MWZuxae199FYNnZh/KzTIB3NDW2k46hftMMvQ1hxfxLBuzvGAymdvCThoYPCFmL0XpkMCzuO8bFBS5s4gMUyK7PLB8oH2z4JGRNaP2g1JgONb6RlUGToDcLasNC8rIMMLOtr67btW0xDF1Wns0wr7ijBb7urWCkSCdG3O68WkeiS9aARY7nInFgmxfzadZikIwAEMuM+000ugagxyUtmMXAisTCsg76qzuuF1KmfL10gEpIzdLgVGnS17AZKsqOZ0pYVkbdLNwueOWFVvk+NTrGoG/qYWjUhRYQ3TdDucRvjhx8x3h976sVdxw/LEWCV8krJmSYz3Sm8KP9RlfPeBbh5PSR1ZFJ3ew/FeI6DuWO8olJmV2M7whpeFZKU7PSIFhC/g7UizuVf6QCdbK0NBxTL+tyeg6JkeSJvQzWZ7eUWNHGXJ2BdMvKLvk/z1ZWt487qM6rHVsUaYd5dwLftlJwfOk8ox8oSTxOHX/P3MIngmzGJaQFhqhyDpPj1B3j5FMhZmiZilaoMBO557zRaXForhrl5Q+yQFYXiHLJYpHRycAzo6nlw6tTJ4WzrD3mMr/OhoFYVU/MS74MHU0+FQjwpw3i5NnJoSt82fhCrOap8YUHwekMSBBkWWAgxy05IyLMN9U2MOSTwYuV0tmbUQWnh5fuHd1M4WqMXOf6BolN9HN35r5kmPPfQ0xg5++utPGDMZy3kzOMgd/dYU/6bgBgy5cX85qzFBaWjJGONxZQ3OP6vr+wxogqb4ibig7DAx3q13GirNHf1erTWOtTZre7TEbki7rpjuG/xtyhs+yMSvS3JSzUXLWwoxlI+xCPS4L/X17JQuSFdoAZhe82XLlnN24DM6RG9ORc8Huf3pSClMFS21CYCbWgYK3+JHV4y1MEWDaPilFBuWFkSWMwCgaPCvkURg44pr5fnYgRcXBFBg1XGSSswc4EfLh+zyjcAgdOmpWzP/j79WIH/SpEKYkXj2kTlTuvafuiKsAKFSsI+CJ59P0aJhDhKgHVQO9PHyfGkrTq+pkD8pSwPkZP1QeqdBYDrjVGOXt9hu9QfiLH/tW8hfVqX0obO/c5+uA6NRp5N9TY/+WcKMTv25H4o0V/pzLQD3nIEDW2jDioRclLlN1WG/If2+XxwzM6txRLlgPWOuE8sVCvSdlWfqDRmJcGEfDdrU6o8vEB0qt7cyJvXkGD7w8f0gjOJma92iE9gN1zHRgLPqjfFF07fRm5Xur5IBdbjzb1UBieeOP9VLcRRSVl4x88Yr1jzAoCN2jVyoTLgZBg0fCtmwyPYWvSM0/spR6vliMsDo+eK+2qEq2/6TKfqnWKLDgPcolVsZ3VK5crbFfcgKGLJq+a7crfCOKrZfuYg5TcjLg9aXK7fUjknkpoFgLkYltOj/GznhQPlBosYRybMIf90uGVOYP3CGZFia5YanN70CiXliNKFPCN0IPOTXlYChwv4lNIQfYadIfUcgD5CrOpoRqejUdO5qwdd2VZyaP3e5nVrFVm8EHbTttAu0DAxKUmemUcjanhBzw2liYDQrDXB7NPA1SGACG8ANeTfpLljPaZjbmsLHnX56STEgedkgW2LkZFVnGtN9o0Piq2jcG2vT1vTWMg/kuPZp5GhF3C9M/jIy5LIzdNHTMPDRCzJNfqQ4JxYW7Nb4QkygtpmnpuUHvNNYn5cconOPJr1dn3u1CUBgqxL171Ymp82LB75PqJCkYFCPWPODfetDsWHEfH/omvug07UwZOfRN1RWlGClzbjiZr7k3POk0US6e0eiZjv6+231uGny+d4/WjEhReU0NPeZY1pUw+vxf/4srfCfUuO/X9/vq2Nkn/6GEAQGAf3ZvRcMJabwjP6agrhAd1hqBFSdr0lEyWuLYfJSLHJMqt6LXxqwOF7+BlwWd9+/xo8n/8LRbFJjmQ3g5V4L59NPiF2jyB54/+2Jl8pSm01475OenoBChBB+XLLyn0fvuB30BIcf1P/+KrErq5JClXbJWcH8GipgZGawmlPRjebAOB4WIHRA8rA3K5csGduFvqMKXlKt05sQsFxEq7Pdu87U8KGfIJvWE3SM8yMtrUlywQmGBekRywEJwtsi22pucNvHr8sw5b1X4On6Z0/FfyLYpuPpjASc70l5FoaVtkB9yy1oJBjbszEOu90mGWGjKoGfU02C24WSkzH3As3aehlmLrzp+K8yibjntmq+F0m1EajiNxuzyS1dsPdyua7UrSWvsMGDaSJo/GtuBZyjNgeBt5wEipfO0rzbZnmsjnYaTRbNpzAHP2rkuz166lUMdf1b4pv8AkWkoDURpku8cFYl2nPVOWMb/GGYOWD9Yn9hM080yAJY97NXgjf4iPnXaS8HMiCbh3MI5LifVYX6iDpNRclRgEGAaWkaZrFVAQ6cDxdrgzxmZwVfMIsP2aXYrXa33G9ToMXcaH5tq0lTJX2rtxjMCggObWLT504fcBF/PYEfaZUedZsg5twALDI1oru2V9c2hc6tlgDH8DNVLc688MW9+pYr94iGNRNUR3bpPI251WFeqg6cD51TeN4763y0qvHuV78OysByQUvPY90ROeceqgvWKw9FOC+drFI6HabdvRIR5bkayHGvPc7P8WQzNXSdf73EFj44DDZhdMiiMK81aViovoTo60fz/gANOMc/blR/WM/HAC9OJKGTgyzQGO6yI1j0C/2u1dliEsMDdrBE6zyHlndH6kbddI0fZZeROR//6IWHygFulXtCInfUS+yQHyB8XKSopV2T0Q+eIxYXzat4QFmBMR4rc7JGlj+mbWFbkwfJBTTLTgL6ahZxlnPD2LIhZiH2R1tzcfOXK5L/54WTy909qbY+sMPsPuXJGHbMtqMrfXlXuP1feURTbVkPnrWQ7563Fu7Ff5DXFTx7+NgWXqEWHPPFDB4Yy+lPxjIL7J5XXfuUNay0jLR7WHjEIQSZ/oHAPSbG/RWXTDUgGWI5Mj6qbgbcopxmLcKC/Wo07e5gl3lLG8/IYas+KPJ0lzC5QG3SBDSQHGKiclyJnhbC3MSsrcuoDNgJmqTzPX8yuV//+c9Vtzhk6pP6dmRNma7iOhOaW0SfLTRiccZkxa2bjTsw1q5uSm1xn2HJCI2VG/9+qw2ABrt0oS9OggIyQuXuDOdIv1RFzAi8KShR0tp7ev1fKizqsZ57W6PIRlBUsI7XEr0xuVcdG58OBdrRLl10SBRJJJnx8+NafkYjuzjIhmM6x9RJ6Z5qrrHQpPD5eR0JN6ZJRmNbwlwhQy0bk32hB0gmNMDmw7nrh8H2NnndLSYM3Fubefv3K5If3yqr0gqZRZKFhyoQD0lAEuZuExY0odkzBsKWRTvs6xWctC6a5019ph4ncWADJAXl0bqypwerA9mWwQuNFG0YpZLQLdp6z8ZgFBDx/+iiVxjOTEx+tmNK0U+VzQvw+KatK3A1kpQFkFtsfSg4F431G3yckvPs8Dyz+e0ed3CEpqddIVphWvEv5uV3YfSmFbtu2M7L0+QLxp4TpK+oYr1c4ppGkJ9ofygtrfvZLMXr2dXWestxwBwzrhh4T/lgFjBnLvt/FQUX6St/wVT+pPLtIIYjlbFDOckpFZ2uxk5xRPhw+dtXPxLPK8JDqAgvisaaxTuovf+D+nKKar0coRyM5bzHlnLck/6QeQyS+CtcsRAyrGF0SgfdYBxp1IfLGjqKf3Hdm8rCmGRjk2Knckk2rlqp7TC9cK+WX8uM4A1NCwzMNs8RtyEnOW85Pxdu5gFkGdECCzOVl6blPErSJ2UbEzErJ5K8TzvDu5Zf6p7NTN9cLMwYkDEJ3XUMnEOprEtnsLZfodcAspLyFHSZc/MUFYMxfb1VHGdlkJHbPrTKDH5bVQY3xvXt9XUauetwuxeSin2haRZ3L3WrIGW2vVPbHmDV2DF2qho5vHzv5W6db1xhkHVLkyaaQ1HmagmWjBvfxqNmIrNVCWNCyEOpgOV9MrXHq7seyhjysUTYFCSb++MKlB4QPDTvrY/5Zc4XH1YHtuiXsypJSgBWDbYrs6GGH1w2ybLyFhUUd/QfqFFBg/AJIXzi7V509U090hCz+ZB0MOxGwfrFuhpXe20STymU5GYFZ5DjlPmH2qaaBSJ9pgsfuFv19rjj8Tp0XhxFa28tfIMKi71dkDTkiRYey5oAsRuGfii9uej4kWq8Is4ek2O2UP/nfonJCGebiL6aOfilFlzUzz0mBOXRIypJkCyvPQeX5ZX2zoPAoOEq2/urPpQRJrm6SNQcFsatDoSyhiyLLOUNMdTGFJxHrnkXlLCMRJCZhFqXXwggYfK5W3XlQ/N2zV518sFLYmgLxhpwiNy7tTjnxxTeNYDBf+2cMZH65k3tk3pk8F3UgFtgAvUinln8PTprOLaNzrLLk43qVnSvQ8lYQqjkjLvLmXCbucq4LvgjSTtSJJhK9YOcKZh0aeT4NkIRSjVfydZ+IWee+iVlPxtYWM6h7HVh63Yykc5Go5KMVxIMT0PlaLzlzPa6U2J440knYs46YKbUtdB4va6R7722+piVfIArje2Qx+OnDgkp8sSqdOa5uBkP+TG+wxY61L5xXYQeDVU8x4lecBIW/dd/dSw+eDhrWSjAdE0+8zeAqU02JFO71qvcULPiYw4pZelgfRGd6o6wpt6kTtUW1ebOqxBlZP3iHj65ZD3NSVoifStlhLQBYsZ6AXTzH1eFj4WKdDAeZfawOml0eV6nTe+2QOgjhuFv4ctDa21ImnpGF4gW5X4KZTnTovFEMOMYba0y8nymBOYxZDUWOGWuf2C3EVNEDkgFuV2a0/Zb4/UhKFjvJImVDRh9YSLhlnDUQO8Uv016sj8LtRckSCzw5rZPFgK5wqAkIuMb1FVi2yBcd4FVSlMCIxWKYJLG4/OhRyeTNvhYDOvDRKS+xGEST6SRklmk6pjrtSPU8wyFd453/ipfFMItkclrkgz+xaoCdEVCZOp1FKeUselgd6WUwMOsFViTb+rD8xbB1oed+WeTSGhc8KsywHPEnmEMC/JYJtFh0twYOA7zVmKVg5xZmHbxdBpYnZ1nRNeXsXMeMdpdpbHb0MU3PWVIozVgCqF/rJ2dJxpdeN/vVpyjW+DGrbs6UswDW+YzZlh99Tx3jUU2P3ONWg9x4QmXgbIsH9/koix0p1sbG+qhXvhGufDFuC7BUQtN9myUZHGPSMXm+vcKmajstPn7tTsVj5VToDLnp9W115L/4M3WksgB0SkNsvBUBN6bG2Elz/F23NrAWAOsEx4BjWv9Enevxt6QgyCqBAnNKZvgTos0N1ivq+NlavUcdPjtYOK3YLmuT0sTCUEa/e6QkoDyhGHAI3DXqJRMvMcdVwWSY1ZjkmHFTOOt0OLiOdTzQ/aEsMX94yRWYa+We44I1COvJib2+U4rDtthOjBywSBdl6MH7PQ9xPVWBrsJRfiiHbE1nWg1rC5aTrcrXHiktd8uChSK3U98oVM0n0EEmUW4+FS2m6b4VTj6XMUbOFsOsyU/uKLJj5Ww6rYB8XgDTI0z3DZiV5PKvTcx6AG5wzHr8Zg7jxWYBOZtGfEHMUFw4+fd5DdS+f+eKWaA5Y4kzRjhFmGUIbNWvd7k5K9MYGg/KGCpYej845SFpo8qzzKaUyAzi/dqXR+j79lMifOwd9RqiDyc77FPQnhFshncf/PERys6nn+HJlh9Lcbl7j6YLJBh+SFE/VH5Oi/lOYaAHs+GpCF2cFNnC9iJMTyDeuWBUpvCBd/0UScVyLvhKIegM2VHCyBOFgtX6/niEnBaLnVn0uEfhWGCMVQY325IuhYAdRVgYsFTgxygDCwdTc3aZosLcqo6bs1ewKNyqcH/9A1VmKTmkhoWB6RwqL/HukHJTKgclb3W+h745JI81K/DDHSzxQjh2h3Gw3ivijzUpKGKWa2WadQ+sa2EtCtu7WeSJkovig/LLgm6mlK4Rv76gi4glZqyfId9cIMoUFAt5vxbeP3rQz0gBy6hIwxvKEd9OxXMT8Wd6Bv64RJPrCewwQXtSaAubF1gMUoUrnFfx0UuqcICvKoR95rkj8RKz0ezUZLKITb5SUl2aOG1i5sCNw8xDnR3MsgJfTzmbIpCLYsbaRgZorI+zoxs0uHvtoLcTe3dpMLnbd/HRPuQ7UKew0vNy3tqYfatpEC4kpg3Bym1trEVI4VmY/+a7OpRUShZt0w/u1GBLA7h8Z2Qv0REOi2LWJz2lAcgCjwvlEaZh5u1UxX2FmVNZsD3rZ7Bw2cJJjdsvVYoUEgnr6YE5g0j0TvH8rZmPjNZwpxIC5TskRIxpNrYjx8M/uvn4LHgkn/cHka8IoRm1myWYHKlMCDIVh8443x5GGt2hXoE4C5qxRnBZIAc/oZVzHxTKx3tSRK6XgnCbLAvctXOz/O7cK8uDlBGsL3/9Ey1S1Tc06Le4VPDn6syxAtk6A4U/KkWKG8I5wZaV4GeYnomZzX8bmDXDKQ55PPW56Is222bjwy6rx+5w3kkPq5EdqhYIUbFrBYo4Vwb+W2zhFjGj3InPVBHY/rUsXP/1CcWXcocSlVsBsRBR7jQQlwkHLFrwIZb1MDWl6wqEMUog64Na58ksImdDmA3lLbrndaCbPOkRyxxShCbpWs5mBG/ScKRi8TkF+7/HV4q+iVneDs7CzIGciZkVhGiFttYXOg8W2VSPc1/O+pgxSMQKfbsUFY50uO8ubwu+VnvH2sJXZbFGgcBCHBfF0y5hkQHSvN1ogTcNMwZzrHl8cj/TVhpEysrMQDFfUkHRsZbxty9PJr/5nQ+6ODrkr1jTp0Eb7dKUKtViydxyvqAwXDf7mA0TPb/lLObbDfSxJQvox0JIwA7ARIDsSQ1iALrzC5TKn3ZpWwUnItKQiQOfcqUDo8PFMsBf/tgdSXKz9QjZ1EPZUOfG/ZgBUdZr3qBg7Xj4dgnzXu9UXaxiahlvgUU63ssl9EyvRBPnLlXGvbJWfCol4S8ekxlUigDnq6AM/VAKwm0KS6UhTv9sEF3WxsFh8KVksVRwkdrjv/VzUVg02k0jzcAMrrOcFpgxmkGJZQF3F0ivbJ//qaaCvlZjwfRgahyGMevV3o4vkkyYcWHoX3yPHS7CgrUVog8WYJA3GBxn/Z9+4wf4cWrvPjUonA5NQ4ccnNFWbs7oYa2OKS5RXAKLXXlG9zznq8CsADDCEbPYeY6Ts7GYxXB5FlvZ6pLP+QKaLrC/pLgBuE3MCvm34lw2ZjlR0c7LMohPV3y9l++AnNGecUzHL9RWMnA5csw3bLD+71spFRyW+I+/8vvb7lC7erXaAqbWab+YJaCdKqaXRmEG0mekGMmqIgXpf///3Jr7yEOiJSs424Pjw/ldbDSAr5vlTtvFDtx3xSsnVsf2OG+KYtx8XJm3s/ife3LmmJkEK7OFIl43SmTcMhn+W5KuESvPlhLs7EuvllarNJwlBUie8a0ZPOYwZK5YnFRHCBmsnSMjl0tIWSDLWgvOSvl2jxQZCdYhzZ0+J7MeB6Vx1fzDtzuFnE6fZoa2NSgpBJ0pZ6HQMdp5M5kWVNJJX1CzChSc2Ib6U3XSD97qIwZbJyTM6NpYtHuDhJ5zNei0SyULGsaQ/fGzTVaye3atTL5S5YZuviU3Ru7nL7jop6OfBSLdR6RIIWNmUQnlGYNQIe0smAwm50ZheSrMzC1nYgpmnFqLMkcQ/uxiwSIdt/qwRuvlQ255evENKYNS+OB1RXHBjhty4eNBKVp7VF5mKQt0ViNn5KOFmeUxfyrM8OqXQ5axVWDWZSzy1k8ocXYW6ubSMYv528RMRe9g5EXeL34Bte6YJZGLSff5olJYIXYiDKOc4so0NDtL2YX4hQafHB3B1AwbR/7Tv2qKWgMsLLNcRTPRYIV31g+yKYK2AMsJmyM4hJVTrjmzhIM47RmFmfPGJgSOQeAsM9pwLNMvHnFLjO921ZICKVBvHPcprR+oXeJgt/8iS8x+8bJXgyuWYXR1+AAyAQAAIABJREFUIAOBHaecgcbBsPerL8iXZMyD2cZpzxyz1D9VJZ5/DvYBoYz4UXgL1hScEA7/8OTBqsucUyiXt0g5RS7fUvj41l45XXMWQk8pvYzfIgecsbJP2jdbin//kjo5dbCs1+CaAgC4Q8oLUzfRfJ/T6dMsc5Pvl6DTNmtAzbqcSjrpq8bMdtiIl3hXkqfm4Y2+/H3PbyuR0o3bwblXaqs6ahYIo1PVTz9/wSX3yN7hoaxMbjWIQfitlYo6zWKPyejy9Ck8aBOF/9muWz/422WZyu9tKvN31YBxyN7XUlKZ3jP+BAQY3y3/nTowkYMB0xPeR/NFzBCnQabmj+/VylknXy0RKBJMDNVy1uIrl9IYc63rZlExcvwqBtuYTQdgUTmLSW9iFkR7OswhkKM2DrNUuEnOQnylhYLCBodTUlBQOLA4s1btU92hxjrDz/TO4l2mhpi64R4ulBkGJ0wbfaDByrv6O/WJ3OTO9SzsnOQoDTtOQ0mdlmLBVM67N0mRkCU3KjBj5YxBKhsZmNLHwotVmqMu9h8STbW3N8uNtui4BskfydpyhRSVe/bITfEe/6PaJPVF3GWHAlNjRp6OiNbTr8ji/GBs74YxSz4URV1YAeHoXHsTpSDAR3DJPfqBulhjMcsTWqxuJkZrzHpZqBxy9rOJljLUlDzOoL9AzDmiYBVglwoLbFng9dSLvoUXEFBeOJeFKw7mINnlp4izAIFWFAS/XjXfB7AVswxFv2y7vVCqZgfvJzHCZRGya4FZzioLhLdq+oh1OEwR0thxQi8nMpM2VhzWx6CIFVapVn4XyWCLTua2CMm1xmyY5QW4XSDKcPrTfKYndE5gFpmcnpVpIMzpNz2htcCMzp5F+Kw3Y40e1m8GE1hxuz/lAqsKCgvnM3FkAmdl2Z1ncsdqQt9L+K8Uhl09HJTK2j5o48Z0DQoKOxUVdXKRpo2vkKUFC8nbWEq01vAWKSzsYrxUg5grNIjhmI96bV4f0D5m8I/FhbOw7r/TB8hcZsjFvdzzhwKDYnVUCgx3hLEZg52mHOlxnay+nLDOrspimigkTL657JT8XC/e8ynyPm+1S59XC/EdkLMaiaHvoMAgfUKlh1drzIboETD+DpF2dw+l8K3gvfSIQ0CehmegwXzjj+/1kTk3OHPI2+0yHd4mAeYSwi0XtBILZMNPEcI+BuJ07jVf+t7ImMXsVNkqP/Mvv1U0Qt9AvyzCUZhBrUxjEcywC9mBeFJUUGhaj5fOKuVsAcyacpoxWOC9jpjN4iuVzPpjNm2Lea9szyXMesxHlPnNatQCcrYRMEN5+UQdO9elcFs51pOowKCY0FSiDMQNENyRc1JKwccoL+rgmfbl+oltaqPZzMBauEuleOiA7sk3Uk5QbDgEkj+zxMgdiwcW1yulRNy2x3f8/K3o3arB6l8/6lNKmo22U8wvufiMBosR58Iu0CyZ6IhyQb64ToeBEMdCcDo9my+Oy3pyRssRTslihAKjw9ntuAnCnREgN12zYlensJMSa5MrKN5vsiP1gHBiKzgbOG5RHnqn1A9wFkWk2W824xCD5xyTsy6ji+kaQYFRZOU7y3oHUUm2S60ESl/pmO/yqDijqWgFfSOT0+qS69EN0Z23wCBCwrbfvdf7XUUXSmG5SGaONN2RclIeP554i3wZfcu7/mvyFWnV6GxwzCxPfThTeSb8bSSkc/wZMdEAbdU1D6xR8VOHK8xCgYzDrGbg/MGMnOU1ZqqcbWLmcI3ErAvctRuz6mZZFpTLhm7P5qibjkVqe4bkbD0wwzrCnTh/+1t1zIekjGitCWvOOJ+KzhtlhsX1p2Qdv0yKyRWaiuFqGk4g36KpnQs0+KBNYWodpYOT2e2QRL71zllQWFSxNDNQQdnhEmCuVcHq8Tff19SOFCKsLrT1WF6v2x7bsbo/GY8Z624+kgLzuZQsFCt2VLIr8w3RR2mhbWQdC8oMx1wwgLaZaqb1ZR3m1nYusP1EitZOLOQ8alSPn1yxoyiYXvqllC2sQ5xGnj91v4kfISxUJ/8hRrN/itRKuhZdTuZaebX6AKeSAq6bnGW8za9rSJaGs1/6gB1IkF40leUms+5yK6FWlZEBWGCoj+a8maVRC2IP/8AJlpaVyYUSqJwv+4K+yPBbXKJW8xaY6nir+SrYGceXMZflNuZzTTDrkpqft5wvpmYOqmH6L0/KHKr3Hz+w4jcLsxiuxiyk+V3HzGAYK2ebmFl9PBcwizyuuj0LZT62PQvo2E9eNzcSZpzQ/YoUinfUkf/7f+eX99Ghc63IHzSV/8Yb6sDVuXMx7HZZVLip/WH9ccQB7QVKi73oL/YRKAKMZe1byoy1K3KIFidFnXwsywgXx6LwcPUNu08ZxHK9RYixKsyYqmKNDesKudeLDRasW0SBIq+c4cWddtxhd7UUKY5+iA/HZqAAvSVrDdNIHETK84XuuXvhgFufwIErd+LyvLwubAQ5g9+6f5rabxKBcvOs2kvP3tV1SaHip9DZWySQEQqvrX7TkjXZ6VJ2BcbT6neCOfkUxYlEYiULURLd1Sjqv9ZoKKeX/Id4CO65xhQSbvHV5g1mSr5aSOb0CO289fkag5nxEfkMLz3lDoUtcxyLWeK9z1uWyySZgY/4k/NFo8BpzE89o8ZHI4qn1DBwYN3le8JCY3AgLwNJLYxZozzPFcw6HOvMZxnYxKwv/wbPJmagMKpuzitndRWtoR7dnjXqph0BIY2CqREu7eV+Mg4/xY3F9NxGzDQQ5cv0EOtDtkkRgAfSRUHonsBY5C/xXeaA+EwdfyLlgPUnr73p946x3gW/Dp/wkstW/s6pvliPuAblR1qYC9/GjxhggTEHa14l/jnDi/ygwNAG7j8oC5DiHNA0EflnLd52KTY8cMpxEzdJqflYFppjUnY4O4aptucO6dyawworOpwPlp/W25d/RTiLfYDBEMsjFohn0XMZPPP2bC3lzPgJ6Q/z5QEyHbbHuYVoyHEg3fqBRsqaUdR/bcoxfq67KWSNjAVzCmeUmxatZpQWe8Et8jUlSOfl6fVTHXInYg+zqQxCaV7Mcs5XjxkL2NjVxQjhHVXUDzWfy9UCu/VHBeVZE8zySlvW4QE5iPk++5jlJTD0vnrMYt3I5G8DYPYW5nJ1CNvVwF9/tU81rn/dbGBjBdFw3wCYlTLi5bkWmGWS0hDLBjYjMIuEOH+JU7oZyNCRY31hCoh1hygEu9WRs3aFhzvN2C05c2F9IJ741lvWXqI0QIsTcrk77vn9Eztba7cGWvnJ8VObWKWBBYedqofVvnG2i532LbpYc5BlNoVcq2kupo9QNljjwhZueduOpEMa4F2pfLJBxNN1LAmPMvW8FCAGgZxPw8LlX2kwSN7v3uvHcUwvl43cniXeLA8hI9Pzszo5CyIxow/wUKbATHti3Z8lIInG9Kz106rCzxF9PE/9VNfSpYfZzDzNDDCd3TmitzBjNwHbCC9Xhf1QlfVTVWZu1z6iysiIJN3APZ2N1fiea5itJq/j484uWLalcm4Go8ZFdmDkvKB4M3pkB4ld2lolj+ywU+Tp1zVdIPngvirOOeIi1/ppyVkdZnXfQ9gMuXtq6y5nUzJZc7pRMYtZQJnYq0HNdWoTsELEKRF2htpJ3Ppb9sOBpCuijwXmaU1RcfLuHVJAbpDMkf5YzFjfx912x477rijaNTYGsH2bBbvvyu9+TfVwaB7tHQeTsqUaReaw4pyU0n6r0mVtjOfbSw9lhot+j6rdPKLptb9/0hf0snD5+/fr2hUt3h13zUAtDctDsqY8FrPEQU1hFm9D4YfcB+iNCG5WtOGHrI4Xkj4djx9p9P3bLilW6V/mBy1vft5SjhJtcxtIdMC5zbi5nnuY0QGyAI/KyHbFS9QQcYklBztxjsF6YQZ6I2S2gf13U84++/LM5KUjk8nvXp5M/nRIVjQpnowox8lsiRnKC5dxvqEyf160ODKdRZs5LZSbkwrz9EuTybPP6u9VyYgad7M4FqWysevmusqZgBlbHhu5PYuY0UZwSnlUXhqVsXJaoG5mmJEOCsVpWYn3Sy4fudNvqefgS5AdixkH1XG+DIVxTLL9FbsV9HwkeeacFnZM3SllgwXE0GRXE/fPcZnt64elhCi9XbK0cAJ6XZ67pMjfJeWGKafXtO4FJen+O3z9D1cezP+sDrPp6Y3HLKfjHJU5t68ajBCpdq6/+zzODtGPY4t44y4TCGTNkH26eLQnbiL3WZxeCkm8yhXGHrBKsYvtFPPdTFnI7nUx3px24otEjbfczBw4IVQ7d+cPZnQ+tm2RXQTK72eq0OwaOCWTKBWbQwKpmI5EKocaM0JE30UxG0I7UQ4F0/tZvZx5DtdXzlaLGQf7/cNTmp9/TVN9amh//D1ZRB70g/3YmTeMp+c24kpZsuiQk0cff9oPC7vv7snk3zziI85YNVBgbLQqUz47UBjBHlRjzYV27CDpBCB0K/O2G2Pq5moxmy5L82FW4zsU2/Plbca5KGdnEzMOuMTqghJzhdqhxyRrHFzpMun1foyccRbXdileXD/AupaH9ugk8IvOaPGtriORPO+UZWWfLCnxzjsUJ5SVW6XUvCSF/Wd/JiVF/vCQlyd158qtK5OHZL3BqsP0EQuMOY+MAzjbih6SEutgeC1+VteewaHL4sZpz2rMirpjbKY8txBJmpJTimEw0IUCKT1izx1nsxLRXLEIcYqaq49s1e6ZbhdLTt8jdC51fEs8F8ssbvZa8pY3EEE4Crq4Jd4SXyGsZbDiKzl1fhZso2DmrGS8zY+ZCbuyzUr8L6S8MM/7jRqLL/X+kTpIDqHilmyKZBpmHSu8dLjnBbBB5GwJmPkYJlZBgHF8IO3PODnrWOFlAcw4cZS5/M+1cJDy41hzbmv/q4cw50+pmyHhvG4eO6mL7GRROfSm5u3VSfz+j2q8RZcG224pF7lvNGp9R1tDWSOwU6NOtr8ekALDYV3XdKb1iEAui8urm6vFbOH2rIGZ5zQVXtGedYzGgp2/bm4UOTubmG3TAl7WWu2QfHGfHPJuynJ4xvYBd+/2tS2PS+F/5kUpGHdJZj9emTynaakPpJRzFcl1SiNX/Lmy5RcPa6pU01V7pbxcdYVS6wa6ZXtGWBSraI1E4SqVl5H95hLkrBO92IknB0Otxsz6ALm7/K5FexYZWHYfIIzJDswPPbbzpHhSRey8KqUi4magBAIlmRghuBbxY2K9hGtGfFdM5+p8FZQzugSzBiGWT5axlFIVgUjBqeRmg2DW420xzBwbzyvzzZZt/UKNNQ+bmDkmARkTiY0gZ1fIzP2T+7VFc6+XFbf2Pv6ETN6aBmJtDI1px6heo/zX5cm0E4rIKSki+zRyfEAKzJcyqR8UnQ9kgYs0mGrk4Eh2mNws5eYS/b4vKx2WIHaf5E/ZbnjdZKfHS1KQ3tNvsOB3Uearm2W7say62TGTNQNDmJVpFtLgeC2pbi5PzlqYxVws3p6tNWYsFH5M0zH/0y/9nqN84S5pt+SshRlrxDigDtm+SpaR//y4Lm78J1/rd50WH7PV2Rccp8JHmWENDPcX7ZQ1xi9rbGOGXoNF0u6Pw2JUVgc4zaui+24QOTMcA7+Wu4wvPldTNwPZjnpZb0rfabpGF7LizSww/kC68sWjc8r8w2svtNyzmZgQ1UPVYX2nDq5luiud9ca1wpyFHodGVK7mUaZQp5fTqTlqhSV8/pTiF2P0OPIoHcFZmMG7KGcM5LzVfC0TMzotRhMxDUYLjKiZTvo6dH7MQsSOJucrx7LG6XzGbMPIWRCrC1V792nnRLxzi22bbx6cTP5J00DHZVG5T6NOjjzHVD5Nzlj7wlQQJ5Leq8b6NjXo12m+/y0pK+zOYLssMvrlFyumwLD+gM6AUeYR/b2jtO7QCBU+uscEhnRdWlhT85SmujjF9a80qmXBZy+4go6Ts7JmjKqbsSp2UaODs9lv+qZjVnKgbCq4j84zuuRnw7RntKdp7N3GLBWfvW0AzJCxncG6gXJg4pQ/uZxN6QMIhjWHdS6//JkuajzoSvdOWVdYv8I6lv7DDrszk8svjaWdl3otASH2BsAsYhQ5LCVSfI7ELOJR5j7lu41AKWexRjutdoyF5CxUWDWBZ+dJsjaQqYizsdcrgvmYXmX0ZbDQZng4763wq8GM9QvcI8R5CCc/WbGjsxlxXKJGgUOYOMfhYlXwz1kLw2K38NhSikWfZeDeS3s+zFL04XjJZ5UMzxHdrCN6+LE//Wd/Uiz5pbxQHrnz6Yxu7bUj1nGT/7cqo6/0a2uX9MsOMnY6cObE5RopHntT5SylgnMzUDauvXI47/CAkoISwo4PFCLm8rlX7OUDfvIpygkjX84L4nj1PeoEWJwIL5y0yn0xWGd0gHPZXlkO3ULzhJQXFKwd6oyYkupkeSBOiDruZwyN6RCMS2dUqOGEzoac5SwXSguY8RTsVkAOZ2UUEuMDDSeEj53Wu4Q+AAUbS8qP7vWdcyjsTJkzLcUW8dYzN2YtImviNh0zT3JGxRgmMSr6ULbWEzNTYNr5CPp6h0EWyl5zfd4+k2aXUzT3GUAOIVG5OwcZLXuVay8DGW9F0nXckQk3gvWStDAbE7Nv1BuitOx/WwvYjqhD0Zwvt7picbHLIfVwAu8l6gS5mIyRPVtpufcDxaZ7VlmMZwOzalCWZWb4dbVyhhR8I6WD23bZ+cCdLigkUTE5I2z5jkoKigCNqX0H5YTzNLhThlOS+UWRsYvw8MdKpt9vpKCgwPBHeeF2lawlXJrH7rFT+iX+rLp5/IOVyWnxeoOUF873YCcG51k8rbUCb0uxYSH31VKOTmqK6QPJzX1aP8ComBNIt0lBYnsqytJluovmglgZya/eUXrYds2IF+UF6wvbr0MTktXdTLiy1+FSGvZZjpzFdqVixj77DJ4NOcsKtngdRibzqUD6rmB2ocpu+2Urkwf35fViFGK9fqaJmeibnasTkSxUEPpkB4OHsyhnvWyP6De7OP060COHwxg5Wxgz24UEiCTULw5z4b+OV3/hfzyKGF2J5QuCYvn0aRuJQLiAQkGr5Cyt5tPxlvNFyIy3orFJvGXrjBukPYfQ6XgJfDn1yHqfL3Pp+OJDQqHEfCpGVx/gF6OtFWbGQ+Ltk89XJk+pE/n10+psjqqTk9lU13vYiFtrdO0qevhje6T6QjsPhovNWNdAmIjBIpg5AiHLRmgcZhH7oiwtX5GbxeTMSIT/Cjkztz5vOKfyHCdnKC+c+EmnfUK/WEhQJGyhNIqKcEVRQekwBQTlQ8oG4LMbDMXAFBopBcQj7AVSNFk8e7GUi4v0x04HrB8oG1hfOL+C9QIct378He2a+IGf0cLiwmmYfStej2paB0UWxeJKDh8TDd5Z48KuCvLCCPUd/XK+BZfxYdnh/CBuAeaYdc7Z4OAydozwgBRK1B+Fwe+e1ZoZKUd/+YjfYdahvFDdjNTLuplcQ+KNsozlXjcw8DpLzjzE+PYshkd21krOYh0hX9PrZkKn48XyXLe1ffk/1zCLeSrKc1lytghmxAnpb1Q5mwszsmM49GXF4UltZB6iqAOz6uZozKICM6uSdZx4wF76xl1iN8lL1DUD+1nt8dc2vRWfUO4wmpp5S7ZNx1uOHMYoSzlfKX5qbEIcJZzn1fiy4PL3JFMxVhhEDzqI02roGb3ixkp1DhxzthNva4nZs29MJr/9k18Zf8MudUhaj0AnerlG63fs8U6Rg8kOHPBthFeps6EDZf7ZDjSzvC2GmcGVlWcmAqH1zMqne3Vwz1U5ozP/oxTG//gvrnRwpwrnSpC9zyQHLBrkQrrLhS8KIieNopzwbhfd4SaFAiWFw8O28K5fFiLyiwJzCWZ13uXG4kHKigXXLxyVxQPlRmG26s8U5iSl2cjQFWumErlNlykiDulCQaK4OF2VtS/fSnY5K4MTmU9o/cuV+r1ef1jr2F7P+RhMV6Go7dyuW8ODAsMBYa8cm0z+7leTyT5Zc/5c27tvlVx1RVzXFxexTM7gO0hL+eP5kVstH2sqZwZjoz0L8DqLbbldv/ZsEzMELGtR+m3MppwhJAEkl9dzGbMtRYfSZczz2PzfpKOKVUhMGA0QpEMmBMjCOZlGK2TRytF1x0eVTnQ3blp+DTcbqWQL6xLtrglypx4wKZGWV1lrOqqT45qu+e0L6tBeUWeiTmKXGvGHb9dW1Vt8xNrLW83bKjBjauIDWVKeUdpMN7CinhH7nge806PD47ZXOkK7+0N/p9QZsbCNg53oUK1DWw1mZHDh8pwuZx3mS8TMyqMhNziPlTOUDg69ukvlzE20rGuhw8fCtfNO7Rq6SWUhrFFc9M+m6ZBfFlKTtL3jhpKCW+ZnYYgX3Akf+UUpZes7ZYySbMqEBcie+I1VUOGZIrI7XPa5khLpMR101Q4t2pUfR62zfoqpop3X+PkYKDxYfpCbLzTFdEJy/pVkWyJm1phXJVdcDnqDLDk/0JqDPVLa+ot8S9ZKOcMvMBu0+y4rzQpI8EXbjXNTzkBoPGbKY6uR3MRsipxtYhZr6EaVsy3WKAyUkzPfai0GGoqQ27xRNacWCdxbFSqn0XgPTsVP3Ua3wkS3Hm/m0WAwJ9pq30ZixmmmNO4nZaa/mNEqOzvUabwnt3v2eCfAOgnM7yxu7Br5BkvG6hyYsaaCLatcA08nQ6fHjpNLlBZ9AnyRdRZgHtUImvCsZbAdSmFkb5eQWbqWevY0GFwVZol0ItNLtGbCv2OwBksWYA7M2gmUyUwLgx+Wk1u0luTffN8XvjIFRLliseAIdnbgoAD0Drlq8d9yazDANNT7UpZYKMvpoSyyjYdyNYJbeTJdxQV3PBybjnWQBzi3SHO6MkwPfSiZ4aZddiDdLMWMxcJYfbDwYJlBnrhLi+kuLC9vHJfS/KpkSd8/lbLMwuDZ1xwsKGfOcve/iYIwm1LkZVj7OjflrOO8x35DaKYAsolZEJpaDjYxK+vKBpQzdU/f4Yd6rmfoUrVlIMNo+Fp1ZnRedh28FIm3NDploSU3nHJ4EqPmGzVSvU2mdran7mAYu4SHDoo0sKZ8qXSZemAtxQkpUJwZwkJe1jPwfKQOiPqK4vKh+PlK/NERX1QL7TpgtoSsn1USKCYoo+zeQSnsOlTwXQPOsLygYLxyRL9SSv9MC2X9UK7hxODrcykYBxVnhxSVG2V1swPrwoMsYF2JVrx3Feak5OaHUki2Si7wRwnjBFMWDrNtG8sLys6z+2XVkdyx2JeL87ahMM+b8U05Gy68IZ9NzIaQGXbfxGwYm2k+wm0t+81pSed+rsBMa1w687xHo7yxv1RLeJMRwwIEqdBrI2TJmxOs3OQ4psXL4rbIGNHcI+PN+Ar55qcZX46W/RY+LbeYiwwzOgEa8TfVUbBdVQNlUx7eOirlQqNUztt4V4399VJejmnKgQvFvrdXFhmZ5wefFrNxnUmIRAeF2f/lg95pMn11hZSVq9ThqL+zhaGszWCUzCJTFl/aDiSl+76sRQRi4ealJiEkGMpyzTBTAhmmnsVGRqNT55XxZlwOPA1S4fCOgQiZcxa3RcZC5h727nzZWTu9fFVJKuhickY6sqpJQd1/zMuaxbIP7EnWlJy3JCJnbOHwCZ1EevCwprskn9dJCWG6MH+wtCBHJyS3l0qpxlJ4kxRtlHIephhZ9HujLD5Y+bDmcHbMG6K5U/R+KAUGGkyHNZ8BzOaqmznhau3czDQVwFnIGQmxolPnxUuoA03CVbw8TFU3B6NnbDQ48mibmJXwLQMz0aCKNjGXY9UFyoEIipHV616ZVsT8s5FCdOq8eNm4cpZn+qxjJpyCBSYD1vFLfFaF5J+NkotO9pv8i8+8/OJ7RcqcuxY/j2ClWgpNFrfBEYw0wnvIOny3iDZPQ4FiuDrpHjNVPE/czex33KhR6F9qN8aLk8kTWg/zUZi62abdPnQMF2FxUUKvvu4jV849+MEdavghshBmTAutTE5i7ZE5fxsmfykv18i6wxocLCt0Qoy4OVWVU1j/9WmNoMXXBVJcOBp+uzolFB7OhokorBdmwylm5dkxk5Vnq7BGy1lK9VyTs6NSGtjxxO6lf/cTrTuR8uCnhpInFyGmBu3Waqxqmh5iB9FhKc7H9ff9R32bdHd9UsCMnU28ntDaF95ZfIylBhr4mKVJW1J3Sfl+UeusfvWMZEeWvCuV/s8ekqxJ3qY+uUDZe1aWWcTRdXNMu1EJcTvFjpWs/RiQs8j2uSpnm5h1ZbwpZ3mlq9+bFSdtCqj6vxi6c14LOROLQYFRcgMV0LLRcZFxmTOctfi5c+89x6DCw+Gq7TUh0EzeCmba/GbZqEI795GfUXzBbYZZ+PQ8hP8zzC7SPAzbUv/mRzrpVBaW52Rif/E1LYrUVNIxWWIeVQdyRKPX05oG4DyOXz+r9TFa5IuC4cdbB5qjePNAdFiMnE/JpH+ZRs633aoDnGT+Z3ROiJULhbWGFifk/7KsQ6dRWli8Kx4u1XTBTnU+10qBiefErDdmXatSJJw+cufee47THJjNrgMVClkZZz1dR2a9MGP30E9UtizGZrFsITPi5jOdoPsvz/k00w/v1SJiKdRM9bDz7CrJ5V5ZAVng3WnrAbPLZV1hoe57kk2mObnYjjUvrH+JgS+X/11yf0aK8VHJ0e2S759Lnu+RVceB2JiYeV4z3go200dPtvLq/R2Ts03M6sZE37mA1N74WVXZlLOABGAsDTNodhMEKEhVU5MaYvl52WQlVBRW/CgVkDxIEVyUy4sBY/bKUF2m5VzzFv3cvFfF6z5L9/jFFBjpx8fWKdiT3CMelm4Im82MmVlxzMM2as76YMfPKf3xyy4V1gWwtZbttJDarU7kuEa272hEzNqE99VhXKbv1BnNhxnrXzizAwvLx7KscHvw9VJQ6JAcyxXj5XV1Ym9KkbpU/LB195QUGKwwxKNTi+b/etm11vzBAAAgAElEQVR2yn6fr0i/xsfcFbEuy/idTLUZuAXO8aOWs0SxLJY+b87TQOE1eIt5WFTOklaQv/X5WhQzhIfFtkz3YREpdvoY877b6KTk6TkpzaxZYT3WQSklB97UOh0ptjdJLuK0UKwDlNM2ySdWuK8kJygwrH9hK3c3mBJ1ZHivlJf/4RdSkBTmJlnu9kqJst1rlnqFdfdZusevZcpZLLuuDI2f+F/xkhdOFuC7J2ebmNWt04AcC6jYnm1idjYwc9RNgbFKLR7yhqlzj/51KTW/q8aqGcYpe1r9jA9Fccr98LNSfEdWCHb8cLkdh7VxCmo8WI6TTe0UVP1y0ukF6qWY3mSNCA+p2XSns5xYkwPuZnIPLPHDwFT6ij1R2cFszxqTj/X3iRQKwn8p8/1HUhRYD/OZpnkOaQrnak0nrSisDW7l0duhQlcQC6ruFDzJ4n8UGBbjGv8iyu4XG2WHB6WNS//YLcI5NberIzui7zOKR1wWHNOpJXz7SHvWyzUekPcBRwAm4ypSqCkNuRcZKj6GKNQx5sPMeDcSw7zXKUz/rvmMlIcw61MbwianzHRRPmVUU0GpuV4WNax7HFqHBeWA1sxwFcHDd2qxrmQjyVvCjDtgdkkZefsmyY4UYLZ/c3pz/sQFy/ftPqMTg1fMYhfPvKn5GPe9PMzq9PqU6xD1dx2jVq9i+PNHzmYhUPv3v899zOo85QaU3K/OaZKGmsKs75rSuSdndQ7bmNUzLClWjUBNb+jbFJi1fLquoN8njE92FXG54+XFw77NE2WFxavsymEenwPCABo3Tki149lRauTGzo54dDuKBu/GhpBeEWo22kXT4VuNOg07Z3bwSzijI3+UgS+UHorKFzLbsxOIBbWE+VaWFhSJk1rDgGWE9PG/RWsKWPxYdxbjAVO6Spst06QDTZ6PpECx9gHeSet3Wo9zgjULYcvtZwqPIMETeWEL9dIfA3HpVBsqxwJprBFv4zkZYGDAeSxdyvGu3bKOSAE5JgXmXS24pYxRWrncLllfSoooIvftkmzqF4sK6196irXoUCfYJj1mq/RYnseHq8EJ37XzeIJrH/Ks81YzsInZ/A3IJmbzYxaqVi1+q6hxRRdV020vns9C5RHsXaZxLAUZQ/4uz9q8Y2H6PVnNQyTl7h21Irb7VTHDpx0EptBYQbBIsDaEKZUr1Rhvl+n9UpnTbcSoQF9oZHohikdQPrgL6GsUEn2jq2BxYTSL4hNPUMVSsYUGnlGw3pkeIunuHhspKV/JDL9NioMpUEFpIQy8ccDZ+1okiemFaYodMvH/6D52d5zR9FEfn7GYkYcvlN4VUk7YIk3H9UQAE8XotJSqZ1/SyBxzv3g+dFh5FDYoV+SFfJrFSnFaXEBqyN09hkYRfZq1nPXKM2fC3qfIWZOrPqdD+XJ3D897ns8eX3hGQoEvUBmindMKpNOPJTkct6Y5D2YcmLfr6jOTn9y3MvnVn3z7POtZfv4ga1pYjNvHB15wvU1Kz25NEZHekGVlY2GW8jI3ZnmhhPIcbM82rJzlpdGTslBpazn7rmBGdS37J0dImKkOtGqB+QePUp4GQ7vVO/P2eLU0hrLZ8HK2OsxKCVwmZk45KTCi3SPftANloXL/8F7QiGXWLW4oC7HfDdE3uTAVGe/xBh0eTy3/v4sX+Llv7xnN+69MfidFgbuAPtDok7UeWF0+lCLDXS5XqoFm26eNNFFI6MT1jnKBQkL4S7To9SIpFHTsKC12iqr+OAkQkzwLKO3WVLQc5dempsIfVhgUii/51i/aEDngm5Na/4//LAXiZXUUt+myu8e0K+ROlJuI5IKYib5YnexRB/ScFJgXZG15VcoavHLvDttoofyBMOCkVaaOrhEOXEB4ldYxoDuxALgrz64sA8LmkXijLHnyZmBcWRKpzGOvPBeSM+fGuew3W+N48zyNkbM8DxsRM5SUn0gxvk0LeDmvhbuM2P6cFnOVeY11Exnn2gJ7llw3F8GsVZ7jylIxZ8lZkGEr79HtGRx5ia9HezYVMwMH3h2lyNcmZql96dXNJWAGieLZlLMEB20GTz5I6gohQ20BzIi95YwSiNuWy24E8e+n1OpqvB9LYbsw0Sn8dt1ICFDTN+eQ0ZwvGM3TrePV/g6LEnWCZung9FPu/dkiJYETR7G+sFCVy+7YxWGKiaXPf171eTfW5UGaMTsQ7rZ6x7CeaFdQFyltkueJZRi/8UCR4f6Yl97wNSi775hM/kLKy2N3uyIVE1sUM6wsKF5HtViT3U3kZbvyylQVZ9DcpI7srWOuhHHE/aea4jr6lsKJN24Nhj+2U3MhX7RQWWYSCKDQtad1mTj0GWLfATkLxe1lDlQx+xsEM2T8Bq2FQR47417gbVE5M/nOxKKWg9rfMVKiLiA5ZKXTAGZEKGsiOJ89OTN+AgB13vM6sMz2LAetB2NenlnBnA3MDJuqDiBnm5h1hZQBlPqLTcxcwvN2pet4KoHX4CXvXrNWI9aSkkpWd2oPfadtJHkd8xYza2QqT8S8dCqaRLzqtELwAecY3r21uPCrFVvE+6k6Y7OYqCG3i/OkmFwky8ol2ubcZq+VQO7W8h9mt+NL0d7UtBHm/P0HfLrpzx5xy8t1WsxrnUtrtNuh1Eq3dONY+d+8OJk8/ltZk6S0YCHi9F/W9nCYHRYn1j6wsJirDT7SYmfOEblGU2usByIs01kofVzC94gULCxUbZzy4pvFW8t/NmYpBcXfoHLWl+Mcl2nvLUxyt5b/OMw85iZmU6uOeSaMNzGrZHVA/DYxK+WmQO2cx6ySgbk+W5nP3Vr+RRUcFMCubgadIUwh1ZU3i1/rFubVYkABreMNcfN4U3u9VqQ8cmIZygU7M3hz7xVbsHs1f8ab/iv4aRLJMlFnKIZfHDNisvPnXSkx3PD70P1+7gvWoDQyXpQvz+O2S1Ymd+2aTP7E7hOlheWFdTkfS1FBmWEa4TJNKX0qRQel5kZNNe3SH+t4npRixYJedp6wZof1Mw/cKoWnxj+gVP5MK8/FMUtpiH4rCQKsqZwl3p2X9B3lrOOxKWdNsIJjK0OrlzODxFLYxKxDP8JaFEdZtpuYzdfOLipnySo1Tf6h7uVj1UpPUYT28d2pm+uHWQA7wtvrNzP/3uu08lxdH9DVzZBmUGB6HHQOtWgMh5zPpzSp5hmu6TRbnCxQzeGs8DX96rsmNyN4y3sWCXYCvau1Jx9ImbhMU1n37PPL9/pneJTU58EM68purXF4VOseuAn7c00RochgWTmpdUBMMV0iBYVzPvZoOgkF5VbtfvqYbd2aSvpUCswOWYPu3SMlRmzY+R+tzOI2K8ND8TL3JZBopjIPZk0Cg46DaAzGKDzGZHhGmBnefT6mVbO8LLLpvlJbrEnOi8G84av0xmR4RpgZ3nUGp2f/nMFsRq5nePdBmeEyUs5KKtMizSs384ZvyNmsDnsTsxI08FhvzJRiUGBSgddFX38bn+rKzN0/zKXr3eoIWbDcyym4FPj/8o30GjQaTp5uSLgXtecQeSwptYIFwvbTrfPgo4iaPmre6u8cM6wdXHz30mEpMfr98UN+iSPH/Zfp+ldOK8es852SAZSYH93jd9i8+qbWtSgsW6q532inlJPrr/XTVW+9QQqUFCnuQ7paZ4Lcs9cX9zL1xA4Uts/O4q30F6dNvhbDbFlyNgazuuxSvtynl62eg2JY0JJSK9hMzCo6NW/1dy5nTcz6bDWr3LxyVvOx9piRU3bSNORsNZjBeKugqgy2gxDI+fL867sVMICzvpgl3hbBLJWnvxVydr5iZtbc+eWMmX/ul7O2liUKamshNQYzC6P/oiG5JT5rVTdJ2mSynWj0JYQ9rWDOOD6L1c2OeJFG0DUGEhW8nmD+Q9i8gkWW3D2UBgFatVCBz6j3ypK17Hhgz7b5Wlwn0Pl39Cp4ShaJ2D0ZXCWqo3jrlpSJXthDUMUz3rqpichX4D3jK7hUfPEZsAhhv5Bw75eF4y0trt23ezL55aNSJqS8XNBbhR0iBFGpMesy2+MtZEDRmY66SrT/RouDf/Y9WVVkfWFKiErFScBbpcz4sfBiM0Rj99Xt4uvVI3KTssV5MeXuiuVg5si05KyP2bLkbAxmpBWR7wrTSrGrlusgZxEdfkuGat7Sdyln0zBzql7gs+rmxsQs472YNgSNVWAWogYi/iOStGfutdExcxmNbW1qM1LGyvYM9/GYOZVKzhJpxyuQ/K5ixvlbhzXl/qEs2axnZIPIZZfMxoyB7edao4k4x7WG61Y3oxgg3qEfSIXpIjKtTz9rcibW0A+9cQ6Mt/iP1bbLVCtQ8OwduW71QxEsTqQUuwO52GtN0L+7xjl416FyipZ8K4B5+FPwFvnq4qFydSn6W4+3lEDu1Uo2uZXMv3ZU56+85laRf/tnsm5oMS3br3OFz9sUxbOoHj/yZun2+ErhWpixLXyHStpO4g0BUG56sAecblTFY6cWU11a/5x4WyJmieOQaJfTzKcFbAh+fstZVZ4ZDjUk6Tu81QESvGHtcxYglqc5ufs8cmaxpiQbKRoLU/jCe/V1MyVSV4866fQ9hXljuuLLHEI6GxKzkrfZ7VkIH7KVtwcbBbMI+drJ2fIwY+cmVvX/+HtZ2NXG79YaxF9+n4t5/fiNaXXgJQ0Yn3zV1yr+udZE3mJWb5XCAnI2N2ZJDHjrPf26GSIE3s6WnMGFTSF15yh0vV8vD6McmtHrmmCU3LEyOvTSKKKK+NDmk17EhkPirW1p8SgpxZm8Td0l1GeA9Jk6ekKCTSP4/Qf8wjtXXqrwa4AZDUDzXLw+q3avzn37tF5GI4Iddv3A2cGswZo5bcrZEDLD7puYDWMz5FNjZt9rUDeH0p/mfrbbsyHelo0Z6XSQi/hG7gM+kdXlhcOTyWtSRG7dqw0aau//8IKvb7xDGyRaD3hxVMVzBxXvgLdtp2Ul/29lNb9Oh5CWbbYjMatvOpcwq+WlhdE0N44+GRxGQXzmQ6AQsFm3jcAApWaEjGCeuMI2gw8xGMn0eCtsHUOxBxLL8tFuyYZyaulwsi13Et1/mxSY2/0wseE8nUXMZM7crRN679BprVdoHQxgNPmsWZwVaAHMugLKxKKZjAWsGQqxmxEygl0iltV2XvMw+XskE5JOSW1iNgSZFVOzPDc2ZqlsN+WsKNtmWXqIZtWr6ltfThJBxonxoI956ybTMrWcmZXkw5XJweNSMD72Az279OtibTKfBcraM3g8pdPN2QCBxfsH2jzBrs6T2qzx8mENBqWUtDDjZPiXtT4Riw1T+xyk+sr+yeSp17UT9EsNHGueINLiywI2Am/w9ixmpcF5BVjIXpVNV2D6Qed3GcXBCLLLojMiqSKI0l3LpCmoK2XNeFTnqTx2pw6S0/bmlhzOy7aFXyLj1IPD2qV0VH+nNKJIN3W3OVti0u0EatdlJbgsOjV/I77XPellJbgsOiMwqoOse9LLSnBZdGpARnyve9JTE5zqWeYmBGUdyQGtFTykNSUc+zD2sUNCpZw8L8WBy3w5PoKHk9Hfk/uvn59M/uXZyeRpKQnvSMHIlYQhLonL6epNhUK08ftQOze5Z+xm7ea8XTs779fOTo7weOGQ0lG6dVvKN9aXlw76qfAcLorS8yGWm+dE66MVu0tvoz9DmK0H31tIPHWk2ZdeTcEsA1Q8xUApWDN4z+5XplP05EGr7dMJLrlHP1DiL9jZxgZ37b4i2KPvSJXO2Zdep2F2hawvV+iOo4h4fOslQy7OAmYs1PpKNwo/oW3Xrx2UFUaVaatMmbu0W6n5mHZfcd/LzOow83QjsJtyZnjMkLPzBrMoS5typormYOTVq1fVgmxYe7pumHlaedJtvoyh7MlC1RHUiNK5v6aTwp+VNYKT1B+9SwrBnjPadKCPKSDghSLx/CEpAVJU7pa1m0M4b9RiWpSgV7TW5J+1RmWr2uIjssKw8/JaHSXBaeMtzFBYUICOSxHSeaeTHZev2BQ7T8rOGSkiK5P3pQy9p7O9fqh1L6w35Pb2l8TH6wf1p3ThgfRiZGifFu33ddXL5dpssUe7Qdk0QR9yTHk/KGvOTvGGEuTPdMwIU0PZuUzBLFJ3vjzgzOAxwMJylqUqWtP6zS5kADznrVoWkRWJvUK5yF7xEfej4BiDeYdWxbHKl54uXuSE3zJII1lPgX7dA4/jLWe/z1uZcMFXzludneL7PMJM4J7W6OW4Dtc7osXGrx1SxVMlKp9NzHI8osxsRDmLVeqcrZtZu7FedfO8xAyBXbP2LDXdyJnhp56ZzjliafWlKEum011JMYtGjBgi4MadbE9rWuXAQSkd+v3HJ9jZE+JM6QOYNjosq81v/qjpISkDf/v4ZPJ7DchO6MBO/rB28Pzix7KIiA5TSR/I0hOfvE8jA9A4KgvQfxCd/+fXvjvzjNLI6ztfp7Th4ZgUGO62u0nnb6F03CCF5e7dUnq0IeKlA25tibiQVZQ0tlyz8PcGTdnfrIW71ykO71frFwUmtzxtnH5TzLfqJiDm5ZlgtbcSs+TZ9elDAQLZIB4FnTCFJK/oG5hwWv0uPwUsijpjteTCycrNXrovDx+DAkYXjTCRmfCbfUa+iBCdnVj+NZu3xEnirWOBl5w3SyDylTFTJhmi1HzFuP7bpeFMh/9L1443e0mcWuCcry5a5C2FzyH0YJ6pnOW60AlB5cRcul27oy5RJXxLJlG+E2WnE8uzYyE4O48ZRh1ugcJ5iJmjk//foZKVntxCea4XZomLyFvpcjbl7LuJWVUHVABeIl55ZtXNhTEjYiz6ruOJbUZWVxesm5E0HfLHuprk6Psr+tP1JLKEhBw7A0H+35M142lZVn6vC2w/kaJiUysGgTPAloH3ROeIrBDXaKr9JlkysEi8rrUiX6nDn4bZJ1qHckRWEA7k/IUsITdJGTh0eDJ58aCOrxCNwxqYPaojJe68RcqCaNO2fSClo1c3g9Onove4TiZ/XzSffVGK0Ut+DUyXs4AZC3g/ER2uX7lFbaddACyrzs2yXu/U36vi4U1h8sVX3jeRB6aPDkrZelP54gqXq7X7E+sO53MxDXVI/J5knY6tn8n6tK4sE2apf3LO7DuWp36nYRZjFGkkRxLpviJJc7OPqq/teMsSt4DZdyJizpG33NkTTHEIk7hIzAUFRp1u7pu9l90xBDsOExXYM1Wap2TDQsvJ6eeJ5OHqxKs02klWsNY0AjcdX85ITLULnfNmniX/ZX6JlZg5NzHLy2kIM7/QkVEEJwZ/pooGjMOYOdbp/7zAzh3MuvLMYbESH4NZLjc0wf5Mw4zRFXPw76pBP1flbDWYlVIzDrMyzgaRs167Uder8vt8xIw1ICgC//DMZPK//N1k8r/9s++4ZDrHci+MyPfHp1cmL6jD/rvfTCb/768mk2e0DgWlwx/H6RuZRt7WwImO+2opA7u1NmSrplhY7MqUS96k13UTReIz/V2pqRd2/jxyr6Z1NEXzjHYGHZa1hTvwHtZ0FFMzV2mXD8eMw2PXP2XVmN1Ab8o68qwUrT3aEn21FB6UlONSZiK/xEMB4+Jb7pW7Xgd/7hTdiy5Qxy6/a6SU7JIS9ZUsNPulPH3OuRR6SAblbb+mlrYrzB7FY8cnh49yRhcnph9VeJSeU2p/DcVKzva/PZn87pWVYCWHrtPOebP33Nk+Yyb5LeN43Pr/jVo3NSUXWa3ymOWgn8FCJwgh042wDUpy6rv2XWrYxn8P08pvqoWLXsicN/PshRhkYzhk7uPvGwezyFufe8TZFBX9XaK5WuYXP1flZg44iryBIfcudp/MIF7T0T37mA1nZRizmNl55YyR3+tqUP9JDf6/aMHeCSkxdAKtZzZfCdn1lrPZvA2HKPM6pm5W6BRCWVNrIZlwcl/nbdWYGZmx+ZwWcrac1bnspSqHzq3nqdhLwqxG9zN1uBx++btnPQ2uSXn5oJQGdbL2BL5YXHtQloV3ZHlguuc5WWJQfHLZ/1ZKxTF13FgwrpVFgx2R12pa5vXDHjZahDvCMQH9okhg2bhe4XdI6Xlgn8flwlr+uC5ln5SFrdpduU1/tHFM47QwY1cR/NMe3rNHcaXErIjnd6UQxQW5xCPvHJHxidpKTi7HinJBWJyxXUoJ/O9UPl4VHuQV/uGROPullO3dLauNlCPuq+PKFgaOXPvCSejHpMgRx2TUmHROOeLidSk4rxzyzRaORfl/l6eeZ/Tph2jVBdLshZRD59bzVIJrJGeGQLb7q1Ngenlc1GEK4znJ4WDDPkMstWK0C2KIwhT3jngrlSnx5vEaSXo42LDPEBtDMaisFwSpoKIxB3ymVmCGiEb37xBmTTkbAjfDjQaMQw3/oAb/mRc016+G0nccTI9Mes00A238GNFyqmdPIZpOuuNuONiwz5BItGI0+W8FHCLac19V5B61wmEk6eFgwz5DCbdibDTMcn7ozE+q8/7TIXW8sir86AFdj6IpGqwVyDiWFPLEHwtdP5QSs10d+j23SUGQ0nNcbnGbMXS/UHvDOjwWtl4ja8ZNCnujFBKmcY6oQ6fu1A+0OabipNL8UjwQnm3J7Pa8U4oHD9NB3PuGUsH5W5xCjp7RGjdA6wPl6agUrX17pGRIMUERYRHue4Ff0uRhqgyrDErF3hvC9QHBD4vKDZoe2is8mMpieguF50MpWge0xuVDKXp37/WDQ+GHi3Y5iZcpqD1K97jSP6Q/TlHnsXyK4bek/KDcoHxdKZymagwetfd/5L/nUTuMDlhHXIyvnEpT7rMA1lU5fxmXM2JlClDFsWhk2phR1H+t/OdKW/LnLfmU7tBqUSqS7Pjp81hRa5Oq8qMkjZ2Sr+hS5GyAt0iwz0/0Ee2NgplY4pJHKj7ZoUPlTg8bbcS/HkJ9h3MNs5SDIBQDZdkaaPz/7Z35kx1FkudfcUlC6EBCAnSgEuhEAgHi7MFo6J5eszXbNVuztf1p97/b3/eHnZ1d6x6b6emBHqabbkBIIEEDurjPhuHulmq/H/eMzLgy33ulqlKVqDSVXmYcHh4eHhEeHh4eZbt27WnQAsiMTHg5/kSD11fN6tMEGK08c2727P4/K9Zvvp8bfaABlMGVQT+sBMnJwMZg+tI5F4i+0kDePR1ehAXcGvTihOVqy2JJWaNAqKBOsAn/LzVJIEAF4amWY740S5AEo2XaNzs8x9MsrxPfK41mjBPYtVzQhMypHwxXmZTxh/KWtC1fiifpUvDvJxJe/iq+3btDWzwSLL4QL7+rST3w6iUxNPyD7d0GTcxoUTZpu2eXhAe0E28DT/E530Iz61OCx6S+U1tP8BnhXI/C1hF9BR7lj3fi7C8HprBLqhM4YUx8n+q0Sds63B8HTE4NBRzYXEEj87nKXSONCXjG/A18BCa7KFdpEFrQQmEjRF3Wq27QK5xsQuDBHmZWgtb9B5x2J89KUyNtLXY9bJEhLL34pvcz7GW231rymVepqdgSjGeqZvIsft/04piq1IihKRvGUAsQwkPdaZDQxtbYITJBmQ8iugSWTP/1Jrf8ofwmcZs9CydlhJfljHAbxquB3eAW8LLiB5+INkm9r12a3ahB4mb9faVOzkBAx2/5f7ghG0quPJp1HOoVXAw+y0n3vejL4EjnYM/7Uw2CHKFM5YSUz75Ve5y6MDP67cu+qntE+/uontdq4OQB3m9OjkZ/909aLWrF9x+fcJ9Drs0Gg+n75lxksNH1m7gzdDRDsHrlbd9+fPigrwwt5eCYAeYdbl0Zk44byjHQN4Eet2cYMyx8LG7zo1nCTy1udZo59cBmYcazGJ5Djf/P+iZRliHlMwupzAGesmxPtlre0QT7kbQpTx/3CZsTNWvF129ri+QjTdibpUnBpgR7L+4Lwrh2t3gXI12EGHxOcXfQD3Lj8IG0Cx9por9XgsNmweDOtruY1DXRv61yOE1EWsaqeA7A4BWbvUsKv0NwiftYsE694WnXCNbvXhXcWQk4iseAgr6RHcWlmjbu3a4yHpIQceRu3965TcIG4e9LuPpUGhQ85V6+NDN6T8IIQhluJzgqbfOlyg6CzHr1zwOKu0tw3lW9XlO+D9Tf39f7ow8oXELImhudP7bqxNLjKvNR1R0B6kMJK2feGo3+XuUhSKGlOX1OebXgOXpoNHpAMNevjfuAw3E+8P+XYjwzorXP4vBZWoZ/iRwpy/PVhQiRiDYWniavwIzNfiGmP/bWfUb5slM7TXm1gmK8ABDjNh4vy9GgkCIyEW5N4Z4zJQJfMW4rlWbgTQddp46ufjn6i1Si+GDopOmu2X4cNPP6LgafoVbHUA/9Nd432fLhWGeQF2p8xkr2otTJF96Rp05tO/3DC+7kC8ddl/T3iQb2F0+PRgf3+R46Wp1UCzNd3zwjYemfJCxhmPnKOe++NbyMSoo4JeEFG4jfvab9ea0uSWv9Iu0ulrx8FqdvpsV349nkuE1Hs6KytKlVtiRCGpKOtZXkJcmudDybCLfxNEMbiOCwQULGHgkma6V54egwWyfr9M7lhvAn6fCTgo3LnRIgMLTdI0GbLSV4l20bhHTS3yjNC3Ys66W9YEt7g+AdFl+/L97Hhoa+AGXjvnlBggUPWz1cYouW5cQ5F47Ywjmsyf57CUrYneHQju0u2uYGBCEH5wD0P0INR5ofOyzjXeHJlhPaoG3C+0YJVGiIyMPWGc72VCUzxEWDAscEvAL8LRJaHrtfgp6Ell8+J42K8OKk0RNahKDxjvljRhI/W0n4DXtaAs7jx0zWGj0nvP9Zf8B86lH9KZwtMnsmaksSrlw+a2qa/IhMzT03RpaoS9kn30GaqmWvh3VQPD9wbRgweN0TSkxDAxYZPiFbi5cH5HlL6CmOnr7Di9gabiFXDt+/lwfNTGWvDsTAcKs62SY5yTNHT/kzBc2uUxvdoo7KxIrl/HVahdh9TQ0vhNZZqTSLSRPaMuH7kCBhv6E+UOfTcXyG0NGZFVEAACAASURBVGHbP0rYktY/DYManyHksM++WW3CvvzLEmKYKG6R0SDtjwbk4vnR6Bc/c+GIfXZWq6iww9NxB2+OQN6W8BUnHH4pAelzrRSZWBi4WQ3v2gY/xHXG58eMCWAXlOcygpgmLWwV8DqddfkGjfnRrKuFv+WcXqNZm8eK9DpXTBJz0Mn3JDQjQ71WXVt2fFZLOQ63Wp4AsWtL8MjbM67MQtMMPsbbLXyGF1nTjGhWEVuOtumdrZFg9IrtyLfS1qwXH23ThL5G6dgq+dcTEkw+k6ChuK8lYHBaiK0RLrrF2JbnZt3ofHjXzOjfZGOCXcoHKuvWW2Yk3Igu4j8EoFfPu43K3YLJQ3/A2+5GlXVwj58OYtv2pIR8hBIEHgQs3EXUaIaGh7/w0M/w8YIDPPzHfCvhBuHlY2lgNiCMCTcEDW+VdMxAS/qQBLDPJTh9qPS3qm5oVO6UkBdsDruSvD0xBN61dW60fs2MHftmnOfBLog/bF/YVgtP3rZ1jlyZfNbVMn0TC4XunFW//SzJ0gesHh7yl3DKkBhCT2xPcFn2uIRx/Li0OfSloxkraLDDsAtGjzGlM7xy3o8X4i33ySMz1jELGSbKhGEuA8V7WglxjBd1LuM6as5tm2ZGqDBZ9TC5sqXBagoNgT9LS7P6kJ23RY5b2ZZlSAyjJzYJ7kljYIbi8vgurd3TQm5GPFUUTVe5F5/yGcaLtB+D+1P3SR2twZOjmZxwOKjV3EdqU1TXrMoQbFnpwiN7tSKtPwGfCC/lJy9aFFbLd6gsJineX5SGhVXpWg2oXQ4b+uVkzFXr2D1wiuIDpWcL0iaHgkRFQIZeHD8ubV6zpeubZcl5SPw9SZ2G6joURzmTwFeyaqeaP804Coyjty8lGDwubYGdwBEqCDHYjeDxlm0cTjJidAqW2zVpc9s9mg+Map8/6XYlbMXgVO78hdHoWKP5IA3PTeogt2vSP3ZQWzBvubCCVmPrhhlz83BCvPm1BHZOCjEWYgh85rzwkgB+6P7mmLJweVRwMZwFBsetsdlBmBrfj71ObBFtlODwxjlpPyWwn5CABE3vkvByh/DrmiFtLxaBaKSeftB9u6wTndjGQmNTfzz/2ptmDC7CIP2Q5mM8zueCIRhl3BAv9cS1fDMhn5WFGnE8d1ZG+9lTdhWWB7ZTU1+akt+D9mGyHPFeYF+ONLwscd75aqCasFpUtXe3Ces5ariVKedHMyzPsSmgM85qEmJiYkLgYQLEEv3Um1oNaBLDGRIrAAYQhJ3awyqZvdfTF9X5lAe1LvMo2xZ0io0aVB5Sh7ZtI8IViTCzVoMIrFXWi1IqoQtEs+FBJS136fisQtmCBAqAqPrHJB4Mbc1A2gbkOYU1nVU0xlCaAd9DCmBtgT/QXvrbrHZCVf8TCTGolDm+SviH4octWiGyCv6zBktWenYEUxBqsGs0Q0h6R8LHiTPiOQlFT2nw/1phv3lZGp/XNQFoArlduIaJBeQw2MW2ASdmW1UuQgxHVjE4vEm4NDVNCVdUs6NZEWU5K6FtUCUuLa39KlPOr2/2gK8ElyVWEvXVME1agJoHzRJK8FFtnaTcUCyaOcaM66+XpleDBDnRvmBUyvs9EkbgcdoKja2NRRo/3pe2gsXSBQnc8MYOCRhmtKpMTOI4lPtCfIqxKmMUxricYtqgNAE7hGC0MVwLwPYNWhqEAoxmEbhxFIdgdEA8ixv/D4TXyxIubhX/3SNtDQszxs79O9Xej0iTI15Gw7xXOOOrpXsKIresx9bO9s0zo90aZ/+kcfk3J6SN0ZbQTm0dsYCINZ05FMR8aMY4Tt+FnVPBPs0R903S0d9uEN3722soLq5ftSeNSdDBrpdSCW2DeOGZnM86ZMb1TdGE6gwpyEsDvG71VUE7gWXxDYBa2hopY1KB12DVE6ApgbzsjhS8hTDPFpcUyBvDaOKboLgonPZdFm5M9LVnoWiGyvDXL2lyUMe/XxPH0w/B/NofVcF21FDCCKuJ3eqEr6tD4rPAjOdsHzZ9mPwuaKX0O6lPX3lNaTQ43KmOxyDBBIRl/SmFfyq16z51RnvUaTZu0CSEQCSAvtZ2yB09JqPZtcNnKV3rfOaUwqj2Q9EVN+MMQviduF0ruHXSYPCQF+GFtsHnBUc0Yz7LacbKFu0GqzfeH5iVIKqBHI+dL4oPKGOXeIHtpNtUDlqTLyRUhMEw7ueOt5cWyuSXEyBnzomvlHffE+6Ei8kH1fmzv3ceYqtyfcP81IQtJlbPlI/jsUsS2t4XThxpBZf2/herddcPqTcKKCYiMpM/xSimh9MsgtAy+RDNmiLbn4Xqm2mZAXwZ2oX4OEvKuCYxfiVuXazByTJae14RzQLACeYAlc+WJIaym6X1QEim3S9qTPlG4xRjyU7xCHwZ+Ay/JrdImECIRsBFY8hWJH0gbJtsFC8d2jszekkC8yv6u1F59u5F0PBto3gOAPbdEh5+ekwecV+VgKL0b0iQQLtzh8o+eo/bv3Aq6j3hdfac0j6eLvzW6kKjY0qHh1zGvVvWzo1ulhFs107DfIYDPAxn2RZDoGdReUTwdqv+sea7bMtu3jQeqLVl09ze1o5RylFde+VcdM3wWUKXlGZxXwnv7bovHjqMwIEiBlAffFuEcajRL20D0niHalI28Z4qa69mUIVxUvFpplm5ptCjxoxbNMYt4GU4xrkdr4B6E+2JGkRj3DrJN8Ut4IXmgwsP8Qi5Yd2cmNaZ3+BmNAOWl1unGYIQTRQzc0ytdWodVipfatB44RW3f/hvz8zIon9O20Cyftcql+2g41KLYgWPMMM36sZkKhAe3DD9KwlDCDoPHRmNfiZ1L5b6aF5sq0GD0AvS5vyvX7pANKPJFK0Ae63dHm1HqWlo1lDBf6IpymiT0exa4DPqhSbj3yQQPifNxQcSLKEn2zFPSQhFjY1Whnl7pHb7XgICqnYGwI7/jTr8p8eJhL0LKvdbGi0cJzs4JXFR8E+rrNu10nxC7YoGDq+eCA5sQV6WlHTdDf18FkqBt5mguHxu316fRFCXIzThoEvabJsYDuzoLrSj//5V/QEcNmjywW4Bz6Y/IBQL1t7bhXtQ6TVVojzqf1FCDydMUOEHjY7j0nFX9yYqKI/3lXrfdFqlNGupl/NZG6H0TVxclo9542nmZQbcVth41rRHzmc1ml0W8d94Z8Ym7YOzo9Ez0syx3fPWRQkCGgsP7ZGwul6EDJpFAWHswoPuFxqnTp4TL4ov7t3nAoyVoeSMn0cFDw3Mi1o8IXz8l8dcK4LGgqbxJzSgtpEkQOyUFgM7KxzmodU5epfbg4nNTSNEHP3J7iLiAt0GrzDWMq75k3Oc40UcWqR4fqJvkh8j4f/+M23Z36cFnvot2h1sXAzDgKaBbbC3sGufz/poZnQ2eoQe1rXlpDQzGO3T5dcU1YFN3tUSNr0G4oey20SZ6NEKHh1wKy/BsMWgnbSHZKy4yLbYgFcLW6lCwjZDhFuLV5vBkcjQDJilwkSKAR2O8/vPS/p/SwP2z4/PjA7vjlSHEc1+0JESOi37vjg3un/Wyw/iGjYof3xD8DXJ/PRoAyNpX18Z4O76iCY88DpxWpOXOssvVC7HDhFsqDvW+jhHMq+NWiXtEZ5BOwTI97RaeFYC0OcqkwnumeMaIATHti2UgBUMLu1PaHCakTBzWd+oim9S52Ql3z4tzVLiDdEsyt02E2EtZZcxn7VY5n2gRb7kM3gEzcO/SqD4x+elEdHE//RPnM6sQP/uWTfCDd6zEF6+kdAJnU0TkT1tUQrfIeGAm3PbYVVlcfIB7RzaFlTpu8RrN+mO+aDlwXkXR1MZ5JvO2JVg9era8gulfVM4viutzt8+JW2KJh9wwg6KFTfeUDGg/EZC1xay6o9tBVbYF6RxsdW1IrDrQTBhe+FSaOmIZmyfoT3kcjxsB57Wivq2WyKeWkA+o7JWdM5nbURIcPXGM2/R0BTCNtBqgM9AP2nPRaaZ3bYs/sLmxfyhqI3ffM8FWozK7xYfhm3TgBcax7vgCcX9Vtq73dKqHNzl9i9G/qZ+CLA/17j0oIQb7Dz2SNDnuLCl8Z/2/9CWt+pWaOBfkkAPLvAoCy36H/ZYXB+wT/DoM2uQaiJath/zpBmCEdqle8S7GBFfr4AW/CqfiRZ5q3WNmMeE9kxkjbjhLUE0Nthn154mwHh8DrppZoLz/JYpQ7MdCFM4XlYJ20DkgB1sJTTN3361uHUI8pbgFg3QhLcp+1ByxNr/4/Ssqs9JSDj1J6fNH8+4hoKVRiww0H6sKLBfOS2txuf73Q/ATVJfwvzYRaA9+YMEIS1UR0clBNEhgsV7oJlZ80uIYF+YzvqdOj9qfFbrbBNxzJk9XvwVIIScOd+sfn/oJjA6NN4w2SK6UyuHx+719PFJEnC6WXVg8ju0V+VpkEKjw/71nAaUkmbDxCvTN+S0iDKvhfBf14yWoWhLSxcSpXAWg88MCStTf1Zsh2CBW4POFxo8T5yV8PI7DcRq1ye0SmNARuPwpgZzDBoRArZpYIUU5lAL7Ywmft9KCYU2v1akA89PRYAXJyM4GbRNbXte5XI8GwHBTicoHr5A1e/PMM3QvuD5c60El0PCHdjkAC/sChBg2CpCeL4kgQutyfe62+Wi6vShBPoDd/vqGuNvTppgVBwMDwMJgUidceL1V/EvxuOcBCHcquqvVXybwPanTN9ERTSL87Sw24we6+S5euNZW+VApAn4zDFfOpphl4KNE0b/HCe2I/tv+CJov7QcaHPzvsnWM7yJrxNOIB2TQIEb/9h+io7FyUnsuhjr0AJiq9KybNuAKe8i4Nwg+PZYe3qjgh8CDLg+cMg1I2Yo3z4LQzPGTE5RrbTxLO0DXUco+kBC7oWhmTXBgvZNs4GhEdrWjV6iwGp8nqeeqB6a502/h/NksfaZhk3+NYxHDhlrd5wsfa6/Y9KaYMmObwH2dBnsYzzYL/5Iws6HEh6wWcBz4xZR2wQYDfB4Y3xPK10mnI81GGBhHwSYgD8TB6eK0IZsVzz7rNyZ84eTfvKEPVyz6FcaTqeQjvs4vtVqCYGIiQLvjafO+iR0UJPSbk1CvtLvqITPAQzZHlOHZ678389JWFI+/BCwVZZRfCzRetNXI6LAanxeXD1RPTTkrcfWQ3vyWOI0R54fwRQfFq+KLxiEn7zfBQEmf9qCwfk2tSOaEjQV8MXNGrgRZjhpkA7seb3j765kE4LU7mvVhlvEh5xKYpU7J95hRUq5Pjil8LB1QZvIpAH/IkmjFWSimRWfYPMSTp9RBipyPIS+JuGd7UZ4mEkEzR92OME4E34FNvWC/4nH+DJolxCoOSp7+pxPhGw5hZMYOT2HKDB9XAQ9K4jPkkZ1bOqhAZt6bD20J48lTnMM5R+Km55GeY4OOoKBGaQjEOvvhHgcjeJe8dohbV36cecUGxZ15pjtiPtcQUj3cTIux/PAYzb+8VdQoB+vLrHDYQykLelbOIiLj0HnUK74u0r8KDCL53Ol8tm0tKqSBiDViGlp1mHTyqYlYXtQVkKKq+IRZ0kAltA9RFDKKIWlge1XLW0os4lL8Kqlt7BKRCUoT8ZgjFHkJVGNVce/S5j4QJMAavr8wcERHZ6TPJ9J4MFzI52LBxfwCBZfS4j5TuFs++CZNS3PzdfohAged2uQuF/C0t8+KrgqD8t+YCP4MHgwcaBGRcji1AjVQcDBiPQdrY7NfkKrdIxF26epMwMNFvRYyH+mCQxPk+xFc6KAicrxqhCoEpTTLCrNXmtZ8jQh4cLxWU/BC8xnuPFHrf6R2vtvHuy0GNQHwZXBe5/akmPPCJgIORskOCKYcqy09AehjD1dJNAMHsNA8gfx5l07pfXTqpgtQwRjHhamYoP0URiaIk5pvHbeT30gcJ/XhISdwuG9wlX8AM7hAVeE3O8Uz5YR2kgmtc+Uj1NwO8WfnChBG4nAhht4/GPQD8zDsB7AwfvYvuDQC2EO4S1oL6flswi9DtGmoGn4LOCWAsm+EoAl9DakjJrfeNYUn9SxCpuElYhKEMnmSzO0wZxIRJv3ooQXHCmywDmscZB7hyqKVUNr7U1zoz2KP7hrzo5Vx9uki0EzeAmNND5WWBT4qaiMPazgCoEqQYM0q0PJGKf5bGBP154lQotBMzAch5cpuKagWZ0IHlrWqid1L806bM0l1aSPpbW8w7nadG2yUGCXz8Hou9aj1BuqJdTSBmxqeFXSs9UQG5q1dfcW6kjB5JblR43KwI2nWjotUj5XqHNKI35Y9XInB7/r0I5oAOeukHA/DFoNNDJ/UT4mCVbkdpmZ4RYgeeH33Dk3OrbX95IxzPzJveqch5VUQhTCBYMIgwe44EyJ1Xi47IwVP+UCk4kCTU14rBgrwgsEN3DienuCWEGjmSH8SmiWlNeWPvyS49aXuk2X0SzmT6+iEmRtaTDnzWdkbgs12LALgsM7Ev5uVFscPygaatKPB3ba6m/uk0r9gKOD4IvnYxwHMrDnKEYl9JFghN0KPlc4lcYW4CcSVtkyJDzZPW0gBJrZXS8SYlhFs0WJUPGBcEfTwh0115M5QoiVLNuVhGGki8dU+B5jyXdV5t27xGPiL9IhxOCjg8v82CqF33kwBEV78/KbPhFiiInH1PCs8plTIm33lM86ajVpaSMjXPZMMJ6FHJPwGQba2HywffT8S75Nc1y8jPFuqVVpekeCW8CxK81CKuOs4TWfvqlsXILImMkhha3iwVhgauu7RDRL6OuVDUH+mzVb6Jtde8Y0c7otBs0cmeXBZ9PSDPMm47aqBG3QqJgTsqN3tCcWSox+23QR/efUoQrjnrzQrqh4bh2LW4xXinGJnKWN8LL043Br8MLYkiOiaDM2SZOxRStOTnl8mQkwXIWOvxWEkzs0SH+tQfszTTJ/3ev4oELHI+U6dbA1GuxZ9WJzYs8AzVih4377wUOapM778WqcSOEvhkkDAQX8sGEBjPnnULm44Wb17Gper0xOM476nrogw+KXZTR81PMjDJmNRoYXn5PSzCvVwLhm+MwJErGrCZPYR32ndj2yp1n9ZXyG/4yt8h7KnTCvnlO7SfjFLTnG1wjHwVnhNDT7+IsZE4DRmODv4l4JThckwKCRY14DR56Aa0AJ+wTsDt4UH5H/T9KI/CBBBu3Lbqn68QIaP6zA0RJtVhwOwLgGgfT4E+I3vpCOCe3ObeI38RxHvO/dyUkQtpZmRq/r+4UT4mHxGLZBwdMqZa3yWd43nSoxnyWNsoQ0w34PbQtb1vj30edot8Y2NIm1p+We8KJKjB0zABRV1rI2DJxPFV2ZdZq142gFuYTPmjLG4pY1QsBtHF6A73rScp03HcuJ+WwZ0cy3kDoKl82dSffOT+F0fpS8YTRnOD78LwQjvIT3pBAFtuEtszchfE+IWww7yRJH2Dv/ceKge2LcUKnjfpobUklk6QSQhQJ+PTA8xDcKGg9sDlDdI4ww0fOQji2h97SyZQ7YcbtWtUrPXSFoYkjG6piJ7lbl36RBnomMFXSOWx/NcOTEBIQfjZdO67iu/i7/Rb45hBPlt1fTCyJ+RlCrhqvj49Vag7KtwM9qFf3si5qgpKnB5TXGd7Z/zNbWGJqRon0E1ODGjRC2aiZsS7I7biuHz7A9os3ZJsQ5lmkwKnyGCv7kOb+zCF888AfbKbgk99uoG0pOQLPLOumG8AOx2D7CLfkxaejelVDLlqXR0NHw5ogC4JU7VPZFCRR/OKOtpLPiEU1GR2ajVas3giEED7EK57QUJ6fgcbQvbKEeUp54exKbFvwR7VP4GWlbzqiMi+pPr6oMDNfXSBA6Ji0UQk37RLhFxQrvMePGMuSztk4Bt7gtJ+wDHQ2yPhATZ4lphrCJzRKamFlpOQp/UwG3FkdeurF2qC2vGs0aXIdwsyRLwmcUtAJo1jTWVaeZ8NC6KhCtp2dlwf5ZSRuC7LeLjz+TXLQTAfqLwy24T6wNeRzpJGMCO8SnqDTpPWWMlyUXbAxhT5/3bYADezRYS/AINiPE/VlCB7Yqu9CcaG/31o0zoz9LTc7RQoQT/GWAIsaQbC3tUEdnlcKKBU0IavebJSxwbwjC0HbFcQKFeOxrOD2C0BPjFtcLIQkbl7Oa8Di9sV82MVjb/4tUujtv00CvxMhB2CaEqjPxoEkxr7vKH9tZAJttAC7e42g4Ngs/OS64u1yg4iZUl18dixgvg5+3R1NojLMjEkJqGRzXhAmA7RmbyOgngMqQiT+T8kORCozDLXgB+YxTGWjobpYmBLukpAZNwQgobPf89hU/wYDjLU5/fam8nGi7Q8IsWy9+Gilg208z+A7vpvAM1wVgx4Q/jBfUlp9JA2hbVL5EcQJGRELbg33V7Kx8A51zm5Vj+93HRUuniGBsWdIXcFSHHRgCL3yM9uaxY64BCup6ftEGPiBBGCeML5xUv3rbeRWcHr/fBZ7EjXqEW/RqeK80PnNi+/9XzmdRIxgxIuhLTDP4zE638Zd32DgoY6C4PZPaRH0zqpWNoVfWN5cPzUK9HKMMr5VKswjvq9o3hUc8vMU8tPjvlbaM23PxEShLsDtfZDPy1jmtiCUkMEGEB7sSBmyMW3GChH0IKnUu18N2xIxd9WBbwOBOZ799q3unZDD/UKtVBn5sAHD5zjbTTgk427SixfiTiQDY8QNcLiTD4JcHIYlLz3AatlGT3SNHtGLWJPGV8EIAsdtV1fvBgVEAHJgQmVgRqjj5hCBGGow8Mf586S1NqKdce8Atxo8c8u0Hm4yuHnckdLiij/nwWU+eITxoKwRETvWwnZM/JryoLZ8/rTaUhmT/rGs7cH1+QO9nL0pToe0YNBvBViqHkX/DqxzXp0y8oLLNg+EiBub4CPoY7Qx1qdQHwWa7+PKZh6VBUbtzUgQHYWbPUElPEBo5bKmwnTl9TvwjgXe7yj28x20PYvxYrbOVxlYRfeVTCVTw41FpXh7TNpc52rsW+CtUukIzonqCPddgZEzNa/S9p/49was0G8tQPXwySNCePCskWENLQ5UgDU+KeE/6nmCXqieF3Zeu1hBWYFZq+5mGh68cR74ZaZiAUPGzvYNPDDxNusdGeb79bmb0mSYMhBwcOV2nDNijIAggfGDXwH4wQs/bmog4hbFLgzvHn7co/b8zoWgQR4PCdhLHXLmJlbwvv6YwVvCKC3cdIWSwrQAeHH3GAJQtozc00VEmx3Dv1UTFhAW81153L5fgb4a3qhIW+HhQXS9BC78bGLjtldCE/wLKeut92UAI3rfCgesIfnocuwQ5ZpJmAlrgA8YANT8x+QnuU2DUcxAqCJbRU0z0f0/6nuAJwffk7gk2PC0uS9B+zkmQde0ZW4vmHyJk0S9betzNwoVzL0uAwS7qfgkNbPnwHN3rtiInJUzSdnj65CQPGor1cnNu83xGM4rGYJhgND4YLNIeaEmOiC+4Mfcb8dRI7R2yxtiTFn59SELLgd1+DDvwniFVPM4XGN7+EX6VEL1DPPOgtDY7JITnxpIm7Ijvfypty9tKy8klbs/lmgo7tp21VMAtbwL7HuSXPAewlaEWXNQpCuhJHwf3vfeDnQBontmyZPnazzQ8fOWl2PeS06zDIsan7z2vdved16aJ6Qm2WIvLErSfaXj4ysHZ96LRLCotKbj7iIP73odoVtiXtnTpyWWFZFRoP9Pw8JWldrJfRZpRMxtqDbFKn+9D3EhSRTw31O2qnCbXvqj2JgLD5IQx+Hri8N53AS4ary0svJC7S5ebUpGKFBhZcs8HEz5aDISHOZsAtFUkYYbVLqp0TltQfwQYbEzQkCAQrFcenHoxedyrgZ2BGsGDy8pw684leTP6w+YF+xmcOn0q4YEJDuGGVTzuuNlKQuPDXR8ck2W1elkSxVffzJgqHgNJu4RMMFjtP65V7tmzrslBaDG5Q/jhVwTh50mp+H/9R/29oGO2mlQ4bs3WEW7huUPkYa2+j2tljN0CFUN4QVPD3+VmlVyjGamhXNyWHlJpE0upcOEVt2WXvgw38CnjWBAp0zbvIKbJ+/gsT9UUk+HmXONx0HOIzxA40SiEiZxvdv+/k6M3TuJgV8VdL5w64k6re+6Qs0F88+uBD555TBcz/kH2TCclWKpdcQyGZ9uje7y9SBmwBi9OmF2UgIv2hbTxdgxH7hE0Ppdgy7amH1Ou0wztyKZG4DJksvaMKQtv3S24wP4I4VjCCEa/sSYlphl9BQHbbukFsiK7SSJugw635cxnMW45B+XjGfXN+aWlTcZnTvXJ+Mwp6TkC/OVBs44743pfKc1a2qxomkXckjDOldGs45uUG38cNPOeoKGrGTzawaUbggJZSvJ03Sh9y1NG7CuwPgmQIwgvPjyaIGjB/u0f0YCb4JYOC3mJDaTsJ0+VdfmmWFxO/2dNJDxnL/iNuo7SnDzZCoYmja2aLDax2lWazVptr9eK95KEDbZpvpMwwa2onMrgmDXbN7hUn5VgcEACzdvSdnwuoYhVOnYmbDExweBqm3uMEGLu2qqLGiW0cGP0KWlVHj4uTY4mDFb4OB574013836HYDPvrNdlZEfvmjF39b961k8cYVsB3kwWN904N3r84IxtMbz+jh95RShihf/kA35yxS4YFJ7hgRzBZ43tedtT0ixM6j4ptY3YNGPcluRfWj5zjJeOzzZJmEVw/ETtiFC6XULw12qzV86NRr8/pW1DCRvYRP2Hx6WFkPDJqQ4X2TiJMzM6vkeCwea50UtvzozOafvyBWlqroc3xDs71NZoz/xxoQzDa4x1uYEcV+zx6hGh+QHxG4be2OSskabFOTbA8O+2hfTitk7WMxtYHhv3TVyms+X5X59xbSDbTbeqLO9dTfqoiKLX5QFt2jhiofmMQlLcetGIyWPvecpyPPNU/TTrYPSPZ3FJeYkFSm3ANDQjU9Se+cq76JtR+qa8+eHlNZuWz2KaOUc6+t0449gEnOaH2zg+8zsnYgAAC8lJREFUW/40o0mt7tm8+eOgmTOm5sCu+fMhKF0xhS7QsmMIcEgWnN0nQpDFQulU8PBMTdktCkPyetssnjX63zGK8GqKtMJ70E2YXh/hG40GN4xyouRdrZzZGuL2Z4QHVrK7FLdRAzfpEQI2a0Bn2+YTaVXQsiB0sB3DrakYVbIK5RgzFy7++vfa/pGgc0gCxn1S3a9R+ts2zY3u269L0rQ6Z9LiwVD411qNz2or4D6p97coPxfjvS3NzkZNVvu0wuaSPZCAqqy+nxR8hCA0AG5E2g3bTH44GWOb4XtNbOFQBFsIeHBFK2CDQ0MrHOSxwg+Gm45VRyP7jmjm8RFF7TUbIFoKd3gFuNcCn2GAu0vCxpnzo9H//H/iC31jSIvWjlNrjz2obaO9vj2Eh1unVkczNCHbN8+MnpQ2DW0YNlLwlQmqtszo8rDNhN0Uvob2z7ohcNwHgIqQRJvThsFXQq6D8dKVc5q+qUxsq5rGSe/A8LK7uoR25TfGqw0PlekqFXfTlFMK3KJy7HUcn3kaw8WrmqHRg4QFL+fxLMWto4pXsmyNJmShadZSEwKv0mwiPruKNIv7wGR9c3H4rCOB8+XYvlnQzAM0NDaP4BRMn0nqHh+lijM0aQsY1qI14PB7PqQyZmSjDPmz7BC+CY5+s5ID7jV0ozGrAaUfD2RQZu8e/xwXtBLG8BItCac9UKFzjDBcgogmZZsmrQ+1Ej6vfX7c/F+Q5uYXz7gQYekEmZMmD6AV0WTCynlWGhcuGZsRjjdKKjouoQLfGnjM/T/P+cqb1e0j9/pxZgQKrm/HtubAPuGgiSneMuDI7hadiHpGWxM8GBfHK3LCqAN/1fbxbBBfbzMmBHGMGqdmTIL2DNAsZM9/q2VlbWl5rgE+w6cKR4PXSmi1O4C0nbhdwu2sNG1cuEib26k2acT6WgG7EexEOF5sNkj6q10vgHYMg/LgywWDWad1R3GE085Hh5dZbY959M3kZFNWG0qyJk1+s5In7pshXz/N4rKaIlsEivpeA3zWdeBoQZiQZ4lpFhN92c8BqzSLJ4B8zPCO2zCTRWbjxgLyWdJXrROnfbyKW8gUpe0EmALitAHFcDEtAE+fz7wVKJOVNJBqIIricPrGaYuLEhhOSyDBUyrXtnNqiPs8AooIBDv0zU28r0rzwtbSRk34h2f1rjwhHQM+QhGnL1g9Y4PiAogjcpe2dzgF8rryc9fSTZp8uOCRO20QZMyvzMd+NPvph1WGJjgErfBw5BDtEL44+qrWF56S11OBNxMuglLrZXMyAJXWWuigBUJkwfjM64cBLFcxIIBgsMqx+A1qO7Rvm9VebCX2Nk5GIlBzu5U67dD00S44NOQodHI9RDXL8qTZYqJahT1V4CrNpiKXJZ6eZjW9/CTlTl9SBvWKAUyC5SRpBhDpiVo6mmUI9OAzSS0XK80Nc1rmhTP3+TqnRqg8zUSI9VS8Bj/Ai/EibFy51fhKYCXIijRdUBO5RZPQ3VLBn7+obR3ZL2DfwJ0LaCU4gRRwY6JhAjml+I+khcExGXfgcLV8blMCCdhyqj1MQAckrOwWLOxf0NRguIsmBJS4YI/j0zi+Y2sAASg8SX0y7VVfXat5s0A8uQ6mU2RMsy61v+Vl5+0Zp6/xQZ4/h1/9zvmsAZLDj2HneI0rt4xXoU0gbc4fWroyXaBLx2d5HfI8OW4h/Y3iCzRjbHfCU0EjkufP4Ve/rzLNYpz68F9yPutDJCC7SrNSVJknzXKeNDDN4iLn/3FFlPFd31yRfFYlTh7YjDXzpFkJbSXQrOuAN3QOg8rtHKtcxhVd1i7C3/R/jzq62HxOqFaynU2NyQp5PG7pmNJgpEDbIe8sFNOOx4TPo7IsfwMEzQoCzPv7R6O//5VvHR27zy/n27guxm1O7ttnRk/JbmGnJi00MEdnfXUcoz8JzZiE7BK8IOQ0wgh+ZrC/wWHeEW1DIVhcF6nQYthLQjPo1OAW08zoaI/TPm+PmM+qK7WMDSahWVdmKFpA6oRv8SLlotEMyE090vpTvOO2EDSjimh8tovfYoZepVnaN+fNZyJkO24UDdm1Zct/SZqOkeP2WNC+uUR81tZvkr65SrOWXPayQmhWQ9qn8aYCSzCezYvPmoFvZo4b1poJEVzDEzqf45+1Rt46MRUMiP5LBJA4gb+n0nWlZCsyhLuhHjnjsaLErUtfluhojcMt4IUNAjf2viG7FI6j7teRUbaLTLPS4uZ4mXM42SWg2jfDxtCZK9hOixe+Pv6vDHqxgfkfP2+2iYwIy49mXd0q7ZDRLKT9sfPZVaEZhQ70z+XeN1dp1lDAupn+m7gtm/SWPRpJJ+6bcT7LZJCKJ+BlyXvSKOrHwWdGhIZEy5VmoDcBbhO3ZYAX1z0U4eUYizRPOQfE+QbwUjLZzAY1RARx4DUU3DeH1rImeUICw6urTAKvn+dr4C2sKKMIqGctkkV4Ya/CKSQuWsRmhdM8se1JHWIZOl+aIUThJfe1c+7z5T89imGt06wtpahAWX5fSJG1CKjnLJJFNCNH+8nHPNoywGizhwLHwCvwSpCJEKkmJPH4p8haBNRhFMlWaTaWN/pp5ozQktA/64QfE1otYwy8Ig/ps/a0YqsJxyDURBdZi4A6nCJZRqTssw5kTGi1DPIM9PUiD+lbZJZh37T6GIILP56Fui8jmrWoVBuK2PQpkrUBS0uzzojXy83xLL5bQYOXGsNW4OQHHQ2o5XUALZj2pSCPZamAbsIqW0w13AxGmrZL1sREeGGDsh6BQX46uifCooZQlDK8Wu6QtoZXBQ40wzkWNjHY3eAt1Y01MwDLjGZU1do7kdYXgWZVOlcJaRglzyrNWnKM65tRwuYVGvOkNK1QflH7pmNQ47MGtxpCDebxT9I3y2pVcrRTWhpngFYqn1Vwr9bcA38cNOtoUh/PfkQ0U1/Kb+vuOL3paG2AvywVzRbwFFLD8cJ/eOwYjh3oN8svKhuv5o1gD82QAXBUtkuaIAxDBzR48y56yTMuFM2E+DAnDccueb2jAqcmwdQZ+ms3TJXh2H6oix8zOQmalJNnGIv8MFWGY8cCX8QEk5Ng8pSTojtMleHYSctI0y1MHSaHMnnKSeszTJXh2KEy+jHtj0ngTZhsCAePWzBAbVG2hTR/0pQoF7AI4KngbmmLDCXMhQpJiqrilSEzgNtA1NToFrAGcLO0RYapi5w4Q1LUAF4twAHcBqImxickLGAN4LZKM6faKs2mZrNSSF7ls7FEXDF8Rk2qyEaTVRHfVX8gaiyN8gQFrOXKZ2NoZvUoKrM4NAOqNkkosKFW+pPTeOx3h7cDsv/hhYrw4uX2x1lhsXmOgDXoWdQ0D/li3PrxahBNM1SLWnqaOW5DzGGIXi2aWdn662lropc1zaI+sGR8tkozKDBd31yl2QqiGdvydPzmzzAPzxTj2QL0TUot5gACi/EqCrgq49kC0Mwq24xi+pnveDYfmo2bnxZqDmi5aMiId0z7lZQpmCEU00BKf0Jk+gvhDU4vsLZB+lPQgBHY3oQhkRLQ0PrpTxrwGo9bLwyyxngNglqlWduCqzSLmNlfG+4owq+IZrDnRH2gn8OjHjUZbv2gwEZ/y7xvrtIsbefe9ozGs1WaXRWaUehU40ZvW0aQBHCyMYM8/QCnwisCNaNT1MFLSlq9AHEQchc5mLyAEQUUcd62ZXATEkeUiTyz/e+REyeP8rRAeuCnwdFXeO3Jl9dsMHkBo1JOVNuuxnFgkyeGVcAt00+cfJVmooBTa/nRrGvXgFu16YvAKKCIyzk4lNEknJgInnDi5EvGZ6s0i0eDdrbr4YMkbdsTeibJAsYy4rMEtwzRAu++PtBQI6TvybdKs5wC4xinTB+Tdswx6glbISmjlqcWNj3iZVX6Q3pK7M8QoWOJpmTEDvB8Sq6h1QNn3njVykjDekoczJjkmTdu8ym5hlYPnHnjVStjlWbjqTKcoqeVBjNdKZ95/vmUXEOrB841xmc/RpolrT2P9lylmSiIoqWni/T3pikyRED+P7jkp6Sqdrd1AAAAAElFTkSuQmCC)"
      ]
    },
    {
      "cell_type": "markdown",
      "source": [
        "**Quiz-3**\n",
        "```\n",
        "What will be the shape of bias matrix?\n",
        "\n",
        "a) 1 x d: because there are d features and it can get broadcasted\n",
        "b) m x d: because there are d features and m train examples\n",
        "c) 1 x n: because there are n neurons, and this will get broadcasted\n",
        "d) m x n: because X.W will fetch a mxn matrix\n",
        "```\n",
        "**Ans:** c\n",
        "\n",
        "- The bias term has to be added to the dot product of $X.W$.\n",
        "- Therefore, the shape of bias matrix should also be: **m x n**\n",
        "\n",
        "However, the value of bias will not change for different data points.\n",
        "- The same bias values can be broadcasted for m examples.\n",
        "- Therefore, the shape of bias matrix becomes: **1 x n**\n"
      ],
      "metadata": {
        "id": "ZaY74LpyHA_1"
      }
    },
    {
      "cell_type": "markdown",
      "source": [
        "**Quiz-4**\n",
        "```\n",
        "Backpropagation is used to calculate gradients, in order to update the values of of __ .\n",
        "\n",
        "a) weights\n",
        "b) biases\n",
        "c) both\n",
        "d) None of above\n",
        "```\n",
        "**Ans:** c\n",
        "Both weight and bias values are updated using backprop algorithm as:\n",
        "\n",
        "$w_i = w_i - lr* \\frac{\\partial J}{\\partial w_i}$\n",
        "\n",
        "$b_i = b_i - lr* \\frac{\\partial J}{\\partial b_i}$"
      ],
      "metadata": {
        "id": "9XWjo1rMNn3Q"
      }
    },
    {
      "cell_type": "markdown",
      "source": [
        "### Quizes of lec-3 (To be moved in other script)"
      ],
      "metadata": {
        "id": "30LiWeJtGn66"
      }
    },
    {
      "cell_type": "markdown",
      "source": [
        "**Quiz-1 and 2**\n",
        "```\n",
        "Suppose we have a MLP network that has 2 inputs going into 3 neurons in the first layer.\n",
        "The results of these neurons are going to 5 neurons in the hidden layer.\n",
        "The output layer consists of 2 neurons.\n",
        "\n",
        "What will be the shape of $W^2$\n",
        "\n",
        "a) 1 x 3\n",
        "b) 2 x 3\n",
        "c) 5 x 2\n",
        "d) 3 x 5\n",
        "```\n",
        "\n",
        "**Ans:** d\n",
        "\n",
        "$W^2$ refers to the weight matrix connecting the first layer to the second layer.\n",
        "\n",
        "There are 3 neurons in L-1, and 5 in L-2. Therefore, there will be a total of 15 weight values, and the shape of $W^2$ will be $3 \\times 5$\n",
        "\n",
        "<br>\n",
        "\n",
        "```\n",
        "What will be the shape of $b^3$?\n",
        "\n",
        "a) 1 x 2\n",
        "b) 2 x 1\n",
        "c) 5 x 2\n",
        "d) 2 x 5\n",
        "```\n",
        "\n",
        "**Ans:** a\n",
        "\n",
        "Since there are 2 neurons in layer 3, i.e. output layer, we will have 2 biases.\n",
        "\n",
        "This will be represented as 1 x 2 matrix."
      ],
      "metadata": {
        "id": "269qz8vKGujk"
      }
    },
    {
      "cell_type": "markdown",
      "source": [
        "**Quiz-3**\n",
        "```\n",
        "Can we use a NN for a regression task?\n",
        "\n",
        "a) No.\n",
        "b) Yes, by adding more layers in order to increase computation.\n",
        "c) Yes, by using linear functions for activation throughout the network.\n",
        "d) Yes, by using linear function for activation for the neuron(s) in output layer.\n",
        "```\n",
        "\n",
        "**Ans:** d\n",
        "\n",
        "\n",
        "If the last neuron in chain is:\n",
        "- Linear --> then NeuralNet will do regression. Ex: y = x\n",
        "- Probabilistic (Sigmoid/softmax) --> NeuralNet will do classification. Ex: y = sig(x)\n",
        "        \n",
        "<br>\n",
        "\n",
        "If the activations of intermediate layers are linear also, then, NN wouldn't be able to create high order complex features\n",
        "\n",
        "The activations in intermediate layers should always be non-linear."
      ],
      "metadata": {
        "id": "hJ3fLJ_fMdOQ"
      }
    },
    {
      "cell_type": "markdown",
      "source": [
        "**Quiz-4**\n",
        "\n",
        "`Consider the following NN:-`\n",
        "<center><img src='https://drive.google.com/uc?id=1NtRshEAzeT58_PPpmX9AboReOSiZ6JJi' width=\"700\"></center>\n",
        "\n",
        "`How will we calculate the value of `$\\frac{∂Loss}{∂w_{11}^1}$ ?\n",
        "\n",
        "<br>\n",
        "\n",
        "a) $\\frac{∂L}{∂a^3_1}.\\frac{∂a^3_1}{∂a^2_{11}}.\\frac{∂a^2_{11}}{∂a^1_{11}}.\\frac{∂a^1_{11}}{∂w^1_{11}}$\n",
        "\n",
        "b) $\\frac{∂L}{∂a^3_1}.\\frac{∂a^3_1}{∂a^2_{21}}.\\frac{∂a^2_{21}}{∂a^1_{12}}.\\frac{∂a^1_{12}}{∂w^1_{11}}$\n",
        "\n",
        "c) $\\frac{∂L}{∂a^3_1}.\\frac{∂a^3_1}{∂a^2_{11}}.\\frac{∂a^2_{11}}{∂a^1_{11}}.\\frac{∂a^1_{11}}{∂w^1_{11}}$ +\n",
        "$\\frac{∂L}{∂a^3_1}.\\frac{∂a^3_1}{∂a^2_{21}}.\\frac{∂a^2_{21}}{∂a^1_{12}}.\\frac{∂a^1_{12}}{∂w^1_{11}}$\n",
        "\n",
        "d) $\\frac{∂L}{∂a^3_1}.\\frac{∂a^3_1}{∂a^2_{11}}.\\frac{∂a^2_{11}}{∂a^1_{11}}.\\frac{∂a^1_{11}}{∂w^1_{11}}$ .\n",
        "$\\frac{∂L}{∂a^3_1}.\\frac{∂a^3_1}{∂a^2_{21}}.\\frac{∂a^2_{21}}{∂a^1_{12}}.\\frac{∂a^1_{12}}{∂w^1_{11}}$\n",
        "\n",
        "<br>\n",
        "\n",
        "**Ans:** c\n",
        "\n",
        "As per the backpropagation, we employ chain rule to calculate the gradient of each parameter, in order to update them.\n",
        "\n",
        "There can be multiple paths to reach a certain parameter.\n",
        "\n",
        "In order to combine the derivate from path-1 and path-2, we take the **sum** of the derivatives in these paths."
      ],
      "metadata": {
        "id": "KbkVghYMbDYx"
      }
    },
    {
      "cell_type": "markdown",
      "source": [
        "**Quiz-5**\n",
        "```\n",
        "Which of the following is true regarding Vanishing gardients?\n",
        "\n",
        "a) This is caused when we're using sigmoid or tanh as activation functions\n",
        "b) This is caused when we're using ReLu or Leaky ReLu as activation functions\n",
        "c) This happens because the gradients are ~0, for most of the values of z, causing the learning to be slow\n",
        "d) This happens because the learning is too fast, causing it to overshoot, and not find optimal values\n",
        "```\n",
        "\n",
        "**Ans:** a, c\n",
        "\n",
        "For sigmoid and tanh, the derivative is very close to zero for most values.\n",
        "\n",
        "This makes the gradients ~0, thereby causing the learning to be too slow."
      ],
      "metadata": {
        "id": "I9unvtXaijXg"
      }
    },
    {
      "cell_type": "markdown",
      "source": [],
      "metadata": {
        "id": "qE7f_gf9JgU1"
      }
    },
    {
      "cell_type": "markdown",
      "source": [
        "## Backward propogation"
      ],
      "metadata": {
        "id": "_AYDLffdTUr5"
      }
    },
    {
      "cell_type": "markdown",
      "source": [
        "We had the following NN for our multiclass classification"
      ],
      "metadata": {
        "id": "TEOnsPn-bxOK"
      }
    },
    {
      "cell_type": "markdown",
      "source": [
        "<center><img src='https://drive.google.com/uc?id=1LDBuwe2xUQ_CF9ymiHvxzb2ojuYq16oz' width=\"800\"></center>\n",
        "\n",
        "\n",
        "\n",
        "\n",
        "\n",
        "\n",
        "\n",
        "\n"
      ],
      "metadata": {
        "id": "2tEB6rzyZTqG"
      }
    },
    {
      "cell_type": "markdown",
      "source": [
        "Let's draw computational graph for this"
      ],
      "metadata": {
        "id": "OOgfYrQsZURy"
      }
    },
    {
      "cell_type": "markdown",
      "source": [
        "\n",
        "\n",
        "<center><img src='https://drive.google.com/uc?id=1B9cHNnwhrLp2tJlle8TmCktltlbtey3Z' width=600></center>\n"
      ],
      "metadata": {
        "id": "umfBGT3TTLtr"
      }
    },
    {
      "cell_type": "markdown",
      "source": [
        "\n",
        "\n",
        "\n",
        "#### Question: How did we decrease the loss in Logistic Regression?\n",
        "\n",
        "- We calculate partial derivative of J wrt each W and b.\n",
        "- And then we iteratively updated the params values of $W$ and $b$\n",
        "- What does the partial derivative explain inituitively? How does J change with a small change in any param?\n",
        "\n",
        "Problem: **We cannot directly calculate dW and db here**\n",
        "\n",
        "- But what we can see is the error J is directly dependent on `p`, so we can calculate $\\frac{\\partial J}{\\partial p_i}$ directly\n",
        "- Further, the `p` in-turn  depend on `z`, and `z` is of course dependent on `W` (and `b`).\n",
        "\n",
        "#### Lets break this down using chain rule  \n"
      ],
      "metadata": {
        "id": "CiJYH46xP75-"
      }
    },
    {
      "cell_type": "markdown",
      "source": [
        "\n",
        "\n",
        "<center><img src='https://drive.google.com/uc?id=1b_cQdk8t8YR2GBs78pDFYXZM-dRYwZPJ' width=700></center>\n",
        "\n"
      ],
      "metadata": {
        "id": "ci-NT0-ueRw7"
      }
    },
    {
      "cell_type": "markdown",
      "metadata": {
        "id": "oBAj5kyu7ht0"
      },
      "source": [
        "\n",
        "\n",
        "$$\\frac{\\partial J}{\\partial w} =  \\frac{\\partial J}{\\partial z} \\frac{\\partial z}{\\partial w}$$\n",
        "\n",
        "We can see from the picture that $\\frac{\\partial J}{\\partial z}$ can be calculated using\n",
        "\n",
        "$$\\frac{\\partial J}{\\partial w} =  \\frac{\\partial J}{\\partial p} \\frac{\\partial p}{\\partial z} \\frac{\\partial z}{\\partial w}$$\n",
        "\n",
        "- Since, J (cost function) is the final function we want to optimise, we would come across a lot of intermediate calculations like $\\frac{\\partial J}{\\partial <var>}$.\n",
        "- In Python, we will represent gradients of J, $\\frac{\\partial J}{\\partial w}$ as `dw`.\n",
        "- And the equation $\\frac{\\partial J}{\\partial w} =  \\frac{\\partial J}{\\partial z} \\frac{\\partial z}{\\partial w}$ can be represented as\n",
        "$$dw =  dz  \\frac{\\partial z}{\\partial w}$$\n",
        "\n",
        "Since, we are moving from right to left across the computational graph, we call this process backpropagation.\n",
        "\n",
        "<hr style=\"border:1px solid gray\"> </hr>"
      ]
    },
    {
      "cell_type": "markdown",
      "source": [
        "We made a simple Neural network to classify a  multiclass setting use case"
      ],
      "metadata": {
        "id": "FvAGvcyxXR8N"
      }
    },
    {
      "cell_type": "markdown",
      "source": [
        "<center><img src='https://drive.google.com/uc?id=1-f3HjcdZ_K4SeT3P8pr7Bp_zFjJixXXi' width=\"800\"></center>\n",
        "\n",
        "\n",
        "\n"
      ],
      "metadata": {
        "id": "QoOEHBNMtqlP"
      }
    },
    {
      "cell_type": "markdown",
      "source": [
        "#### (Revision) Question: How many weights did we have for 2 feature input and 3 neurons?\n",
        "\n",
        "Ans: Since we have 2 input and 3 neuron, we have total of 2*3 = 6 weights and 3 bias (one per neuron.)"
      ],
      "metadata": {
        "id": "onTb6K8GDcA5"
      }
    },
    {
      "cell_type": "markdown",
      "source": [
        "#### (Revision) What activation did we use in output ?\n",
        "\n",
        "Ans: Softmax"
      ],
      "metadata": {
        "id": "9OBG5-3qEBzy"
      }
    },
    {
      "cell_type": "markdown",
      "source": [
        "Now, we only had a simple network of 3 neuron.\n",
        "\n",
        "#### What if we add more neuron to our network and make it more complex ?\n",
        "\n",
        "Let's see how we do it"
      ],
      "metadata": {
        "id": "miLPyASltzx9"
      }
    },
    {
      "cell_type": "markdown",
      "metadata": {
        "id": "Iz0K71j27ht0"
      },
      "source": [
        "### Let's calculate gradients using backpropagation\n",
        "\n",
        "- We previously calculated $\\frac{\\partial z}{\\partial w}$ in LR - since $z=w^Tx$, $\\frac{\\partial z}{\\partial w}=x$\n",
        "- Now, we need to calculate `dz`, $dz=\\frac{\\partial J}{\\partial p} \\frac{\\partial p}{\\partial z}$\n",
        "\n",
        "Turns out that the result for `dz` has a very neat and intuitive solution (won't get into derivation)\n",
        "\n",
        "$$dz = (p_k - y_i)$$\n",
        "\n",
        "- First, the second term is called an **Indicator Function**,\n",
        "    - where p_k  is the prob. of class K\n",
        "    - $y_i$ is 1 for the ground truth label,  else 0.\n",
        "    - e.g if $y_i = 2$ and `probs = [0.2, 0.3, 0.5]`\n",
        "      - As the second index of the probs is the one with the correct class\n",
        "      - `dz = [0.2-0, 0.3-1, 0.5-0] = [0.2,-0.7,0.5]`\n",
        "\n",
        "**Note:** If we were saving ground truth, y,  as one-hot encoded vectors,\n",
        "- We could simply subtract the probabilities with the one-hot encoded vector\n",
        "\n",
        "We won't go into its derivation, but lets intuitively understand this\n",
        "\n",
        "<br>\n",
        "\n",
        "#### Why are we subtracting 1 only from the probability of true class?\n",
        "- The use of subtracting 1 from the true class is to make it derivative negative.\n",
        "- For the true class (middle), increasing its probability values will decrease the error (0.3 --> -0.7) - aligns with goal.\n",
        "- For other values, first and last, increase (or keeping it same) their probability values will increase the error - aligns with goal."
      ]
    },
    {
      "cell_type": "code",
      "source": [
        "import pandas as pd\n",
        "import matplotlib.pyplot as plt\n",
        "import numpy as np\n",
        "\n",
        "!gdown 1dLOPwh01o3k8p_hK633ixhD1ehz6nNWk\n",
        "df = pd.read_csv(\"/content/spiral.csv\")\n",
        "df.head()"
      ],
      "metadata": {
        "colab": {
          "base_uri": "https://localhost:8080/",
          "height": 278
        },
        "id": "k4Vbkz351k8k",
        "outputId": "c12f42a3-2981-406d-8b5f-815da75ad2bd"
      },
      "execution_count": null,
      "outputs": [
        {
          "output_type": "stream",
          "name": "stdout",
          "text": [
            "Downloading...\n",
            "From: https://drive.google.com/uc?id=1dLOPwh01o3k8p_hK633ixhD1ehz6nNWk\n",
            "To: /content/spiral.csv\n",
            "\r  0% 0.00/12.9k [00:00<?, ?B/s]\r100% 12.9k/12.9k [00:00<00:00, 41.1MB/s]\n"
          ]
        },
        {
          "output_type": "execute_result",
          "data": {
            "text/plain": [
              "         x1        x2  y\n",
              "0  0.000000  0.000000  0\n",
              "1 -0.000650  0.010080  0\n",
              "2  0.009809  0.017661  0\n",
              "3  0.007487  0.029364  0\n",
              "4 -0.000027  0.040404  0"
            ],
            "text/html": [
              "\n",
              "  <div id=\"df-08a4f3c3-3279-4250-9070-d66b466cc818\" class=\"colab-df-container\">\n",
              "    <div>\n",
              "<style scoped>\n",
              "    .dataframe tbody tr th:only-of-type {\n",
              "        vertical-align: middle;\n",
              "    }\n",
              "\n",
              "    .dataframe tbody tr th {\n",
              "        vertical-align: top;\n",
              "    }\n",
              "\n",
              "    .dataframe thead th {\n",
              "        text-align: right;\n",
              "    }\n",
              "</style>\n",
              "<table border=\"1\" class=\"dataframe\">\n",
              "  <thead>\n",
              "    <tr style=\"text-align: right;\">\n",
              "      <th></th>\n",
              "      <th>x1</th>\n",
              "      <th>x2</th>\n",
              "      <th>y</th>\n",
              "    </tr>\n",
              "  </thead>\n",
              "  <tbody>\n",
              "    <tr>\n",
              "      <th>0</th>\n",
              "      <td>0.000000</td>\n",
              "      <td>0.000000</td>\n",
              "      <td>0</td>\n",
              "    </tr>\n",
              "    <tr>\n",
              "      <th>1</th>\n",
              "      <td>-0.000650</td>\n",
              "      <td>0.010080</td>\n",
              "      <td>0</td>\n",
              "    </tr>\n",
              "    <tr>\n",
              "      <th>2</th>\n",
              "      <td>0.009809</td>\n",
              "      <td>0.017661</td>\n",
              "      <td>0</td>\n",
              "    </tr>\n",
              "    <tr>\n",
              "      <th>3</th>\n",
              "      <td>0.007487</td>\n",
              "      <td>0.029364</td>\n",
              "      <td>0</td>\n",
              "    </tr>\n",
              "    <tr>\n",
              "      <th>4</th>\n",
              "      <td>-0.000027</td>\n",
              "      <td>0.040404</td>\n",
              "      <td>0</td>\n",
              "    </tr>\n",
              "  </tbody>\n",
              "</table>\n",
              "</div>\n",
              "    <div class=\"colab-df-buttons\">\n",
              "\n",
              "  <div class=\"colab-df-container\">\n",
              "    <button class=\"colab-df-convert\" onclick=\"convertToInteractive('df-08a4f3c3-3279-4250-9070-d66b466cc818')\"\n",
              "            title=\"Convert this dataframe to an interactive table.\"\n",
              "            style=\"display:none;\">\n",
              "\n",
              "  <svg xmlns=\"http://www.w3.org/2000/svg\" height=\"24px\" viewBox=\"0 -960 960 960\">\n",
              "    <path d=\"M120-120v-720h720v720H120Zm60-500h600v-160H180v160Zm220 220h160v-160H400v160Zm0 220h160v-160H400v160ZM180-400h160v-160H180v160Zm440 0h160v-160H620v160ZM180-180h160v-160H180v160Zm440 0h160v-160H620v160Z\"/>\n",
              "  </svg>\n",
              "    </button>\n",
              "\n",
              "  <style>\n",
              "    .colab-df-container {\n",
              "      display:flex;\n",
              "      gap: 12px;\n",
              "    }\n",
              "\n",
              "    .colab-df-convert {\n",
              "      background-color: #E8F0FE;\n",
              "      border: none;\n",
              "      border-radius: 50%;\n",
              "      cursor: pointer;\n",
              "      display: none;\n",
              "      fill: #1967D2;\n",
              "      height: 32px;\n",
              "      padding: 0 0 0 0;\n",
              "      width: 32px;\n",
              "    }\n",
              "\n",
              "    .colab-df-convert:hover {\n",
              "      background-color: #E2EBFA;\n",
              "      box-shadow: 0px 1px 2px rgba(60, 64, 67, 0.3), 0px 1px 3px 1px rgba(60, 64, 67, 0.15);\n",
              "      fill: #174EA6;\n",
              "    }\n",
              "\n",
              "    .colab-df-buttons div {\n",
              "      margin-bottom: 4px;\n",
              "    }\n",
              "\n",
              "    [theme=dark] .colab-df-convert {\n",
              "      background-color: #3B4455;\n",
              "      fill: #D2E3FC;\n",
              "    }\n",
              "\n",
              "    [theme=dark] .colab-df-convert:hover {\n",
              "      background-color: #434B5C;\n",
              "      box-shadow: 0px 1px 3px 1px rgba(0, 0, 0, 0.15);\n",
              "      filter: drop-shadow(0px 1px 2px rgba(0, 0, 0, 0.3));\n",
              "      fill: #FFFFFF;\n",
              "    }\n",
              "  </style>\n",
              "\n",
              "    <script>\n",
              "      const buttonEl =\n",
              "        document.querySelector('#df-08a4f3c3-3279-4250-9070-d66b466cc818 button.colab-df-convert');\n",
              "      buttonEl.style.display =\n",
              "        google.colab.kernel.accessAllowed ? 'block' : 'none';\n",
              "\n",
              "      async function convertToInteractive(key) {\n",
              "        const element = document.querySelector('#df-08a4f3c3-3279-4250-9070-d66b466cc818');\n",
              "        const dataTable =\n",
              "          await google.colab.kernel.invokeFunction('convertToInteractive',\n",
              "                                                    [key], {});\n",
              "        if (!dataTable) return;\n",
              "\n",
              "        const docLinkHtml = 'Like what you see? Visit the ' +\n",
              "          '<a target=\"_blank\" href=https://colab.research.google.com/notebooks/data_table.ipynb>data table notebook</a>'\n",
              "          + ' to learn more about interactive tables.';\n",
              "        element.innerHTML = '';\n",
              "        dataTable['output_type'] = 'display_data';\n",
              "        await google.colab.output.renderOutput(dataTable, element);\n",
              "        const docLink = document.createElement('div');\n",
              "        docLink.innerHTML = docLinkHtml;\n",
              "        element.appendChild(docLink);\n",
              "      }\n",
              "    </script>\n",
              "  </div>\n",
              "\n",
              "\n",
              "<div id=\"df-3fa18bf2-53c7-46ad-9057-d21a3a7382ef\">\n",
              "  <button class=\"colab-df-quickchart\" onclick=\"quickchart('df-3fa18bf2-53c7-46ad-9057-d21a3a7382ef')\"\n",
              "            title=\"Suggest charts\"\n",
              "            style=\"display:none;\">\n",
              "\n",
              "<svg xmlns=\"http://www.w3.org/2000/svg\" height=\"24px\"viewBox=\"0 0 24 24\"\n",
              "     width=\"24px\">\n",
              "    <g>\n",
              "        <path d=\"M19 3H5c-1.1 0-2 .9-2 2v14c0 1.1.9 2 2 2h14c1.1 0 2-.9 2-2V5c0-1.1-.9-2-2-2zM9 17H7v-7h2v7zm4 0h-2V7h2v10zm4 0h-2v-4h2v4z\"/>\n",
              "    </g>\n",
              "</svg>\n",
              "  </button>\n",
              "\n",
              "<style>\n",
              "  .colab-df-quickchart {\n",
              "      --bg-color: #E8F0FE;\n",
              "      --fill-color: #1967D2;\n",
              "      --hover-bg-color: #E2EBFA;\n",
              "      --hover-fill-color: #174EA6;\n",
              "      --disabled-fill-color: #AAA;\n",
              "      --disabled-bg-color: #DDD;\n",
              "  }\n",
              "\n",
              "  [theme=dark] .colab-df-quickchart {\n",
              "      --bg-color: #3B4455;\n",
              "      --fill-color: #D2E3FC;\n",
              "      --hover-bg-color: #434B5C;\n",
              "      --hover-fill-color: #FFFFFF;\n",
              "      --disabled-bg-color: #3B4455;\n",
              "      --disabled-fill-color: #666;\n",
              "  }\n",
              "\n",
              "  .colab-df-quickchart {\n",
              "    background-color: var(--bg-color);\n",
              "    border: none;\n",
              "    border-radius: 50%;\n",
              "    cursor: pointer;\n",
              "    display: none;\n",
              "    fill: var(--fill-color);\n",
              "    height: 32px;\n",
              "    padding: 0;\n",
              "    width: 32px;\n",
              "  }\n",
              "\n",
              "  .colab-df-quickchart:hover {\n",
              "    background-color: var(--hover-bg-color);\n",
              "    box-shadow: 0 1px 2px rgba(60, 64, 67, 0.3), 0 1px 3px 1px rgba(60, 64, 67, 0.15);\n",
              "    fill: var(--button-hover-fill-color);\n",
              "  }\n",
              "\n",
              "  .colab-df-quickchart-complete:disabled,\n",
              "  .colab-df-quickchart-complete:disabled:hover {\n",
              "    background-color: var(--disabled-bg-color);\n",
              "    fill: var(--disabled-fill-color);\n",
              "    box-shadow: none;\n",
              "  }\n",
              "\n",
              "  .colab-df-spinner {\n",
              "    border: 2px solid var(--fill-color);\n",
              "    border-color: transparent;\n",
              "    border-bottom-color: var(--fill-color);\n",
              "    animation:\n",
              "      spin 1s steps(1) infinite;\n",
              "  }\n",
              "\n",
              "  @keyframes spin {\n",
              "    0% {\n",
              "      border-color: transparent;\n",
              "      border-bottom-color: var(--fill-color);\n",
              "      border-left-color: var(--fill-color);\n",
              "    }\n",
              "    20% {\n",
              "      border-color: transparent;\n",
              "      border-left-color: var(--fill-color);\n",
              "      border-top-color: var(--fill-color);\n",
              "    }\n",
              "    30% {\n",
              "      border-color: transparent;\n",
              "      border-left-color: var(--fill-color);\n",
              "      border-top-color: var(--fill-color);\n",
              "      border-right-color: var(--fill-color);\n",
              "    }\n",
              "    40% {\n",
              "      border-color: transparent;\n",
              "      border-right-color: var(--fill-color);\n",
              "      border-top-color: var(--fill-color);\n",
              "    }\n",
              "    60% {\n",
              "      border-color: transparent;\n",
              "      border-right-color: var(--fill-color);\n",
              "    }\n",
              "    80% {\n",
              "      border-color: transparent;\n",
              "      border-right-color: var(--fill-color);\n",
              "      border-bottom-color: var(--fill-color);\n",
              "    }\n",
              "    90% {\n",
              "      border-color: transparent;\n",
              "      border-bottom-color: var(--fill-color);\n",
              "    }\n",
              "  }\n",
              "</style>\n",
              "\n",
              "  <script>\n",
              "    async function quickchart(key) {\n",
              "      const quickchartButtonEl =\n",
              "        document.querySelector('#' + key + ' button');\n",
              "      quickchartButtonEl.disabled = true;  // To prevent multiple clicks.\n",
              "      quickchartButtonEl.classList.add('colab-df-spinner');\n",
              "      try {\n",
              "        const charts = await google.colab.kernel.invokeFunction(\n",
              "            'suggestCharts', [key], {});\n",
              "      } catch (error) {\n",
              "        console.error('Error during call to suggestCharts:', error);\n",
              "      }\n",
              "      quickchartButtonEl.classList.remove('colab-df-spinner');\n",
              "      quickchartButtonEl.classList.add('colab-df-quickchart-complete');\n",
              "    }\n",
              "    (() => {\n",
              "      let quickchartButtonEl =\n",
              "        document.querySelector('#df-3fa18bf2-53c7-46ad-9057-d21a3a7382ef button');\n",
              "      quickchartButtonEl.style.display =\n",
              "        google.colab.kernel.accessAllowed ? 'block' : 'none';\n",
              "    })();\n",
              "  </script>\n",
              "</div>\n",
              "    </div>\n",
              "  </div>\n"
            ]
          },
          "metadata": {},
          "execution_count": 1
        }
      ]
    },
    {
      "cell_type": "code",
      "source": [
        "\n",
        "\n",
        "\n",
        "\n",
        "# Separating feature and label columns\n",
        "X = df.iloc[:, :-1].to_numpy()\n",
        "y = df.iloc[:, -1].to_numpy()"
      ],
      "metadata": {
        "id": "I3A_O_W91lwo"
      },
      "execution_count": null,
      "outputs": []
    },
    {
      "cell_type": "code",
      "execution_count": null,
      "metadata": {
        "id": "TtRydh-2rEV4"
      },
      "outputs": [],
      "source": [
        "d = 2\n",
        "n = 3\n",
        "m = y.shape[0]\n",
        "# initialize parameters randomly\n",
        "W = 0.01 * np.random.randn(d,n)\n",
        "b = np.zeros((1,n))"
      ]
    },
    {
      "cell_type": "code",
      "execution_count": null,
      "metadata": {
        "id": "-Y_56F_wrEV5",
        "outputId": "4f08089a-ee2a-48e5-e981-d10993046349",
        "colab": {
          "base_uri": "https://localhost:8080/"
        }
      },
      "outputs": [
        {
          "output_type": "stream",
          "name": "stdout",
          "text": [
            "(300, 3)\n"
          ]
        }
      ],
      "source": [
        "# compute scores for a linear classifier\n",
        "z = np.dot(X, W) + b\n",
        "print(z.shape) # should be mXn = #examples X #output"
      ]
    },
    {
      "cell_type": "markdown",
      "metadata": {
        "id": "ASOSk_DtrEV5"
      },
      "source": [
        "Lets raise these scores to base $e$, and normalise them to get probabilities"
      ]
    },
    {
      "cell_type": "code",
      "execution_count": null,
      "metadata": {
        "id": "uWwFRrtcrEV5"
      },
      "outputs": [],
      "source": [
        "exp_z = np.exp(z)\n",
        "probs = exp_z / np.sum(exp_z, axis=1, keepdims=True) # explain why axis=1"
      ]
    },
    {
      "cell_type": "code",
      "source": [
        "probs.shape # probabilities of class"
      ],
      "metadata": {
        "id": "fY7K71qlLL6k",
        "outputId": "826c8662-51f9-4c95-e349-722f62bf4c01",
        "colab": {
          "base_uri": "https://localhost:8080/"
        }
      },
      "execution_count": null,
      "outputs": [
        {
          "output_type": "execute_result",
          "data": {
            "text/plain": [
              "(300, 3)"
            ]
          },
          "metadata": {},
          "execution_count": 11
        }
      ]
    },
    {
      "cell_type": "code",
      "execution_count": null,
      "metadata": {
        "id": "vpvBysnG7ht0"
      },
      "outputs": [],
      "source": [
        "dz = probs\n",
        "dz[range(m),y] -= 1  # subtracting 1 from class where i == j as dz = pi - I\n",
        "#dz = dz/m"
      ]
    },
    {
      "cell_type": "markdown",
      "metadata": {
        "id": "lE3TFTzT7ht0"
      },
      "source": [
        "$\\frac{\\partial z_i}{\\partial w_i}$ is something we calculated earlier as well in LR, it will be equal to X.\n",
        "\n",
        "Now, to calculate dW, we just need to multiply X with dz"
      ]
    },
    {
      "cell_type": "code",
      "source": [
        "X.shape # shape (m, d)"
      ],
      "metadata": {
        "colab": {
          "base_uri": "https://localhost:8080/"
        },
        "id": "0ijpwZ3yTYC1",
        "outputId": "2a2fd2e3-a881-452b-bb3c-19ec5de87fd5"
      },
      "execution_count": null,
      "outputs": [
        {
          "output_type": "execute_result",
          "data": {
            "text/plain": [
              "(300, 2)"
            ]
          },
          "metadata": {},
          "execution_count": 13
        }
      ]
    },
    {
      "cell_type": "code",
      "source": [
        "# shape (m, n ) as we have m samples and each sample has 3 class probab.\n",
        "dz.shape"
      ],
      "metadata": {
        "colab": {
          "base_uri": "https://localhost:8080/"
        },
        "id": "cIlwEiGWTbJc",
        "outputId": "e59ed68f-3f62-48ed-d328-93fca68bbeae"
      },
      "execution_count": null,
      "outputs": [
        {
          "output_type": "execute_result",
          "data": {
            "text/plain": [
              "(300, 3)"
            ]
          },
          "metadata": {},
          "execution_count": 14
        }
      ]
    },
    {
      "cell_type": "code",
      "execution_count": null,
      "metadata": {
        "id": "jk_WYdWL7ht0",
        "colab": {
          "base_uri": "https://localhost:8080/"
        },
        "outputId": "8eab40aa-a4aa-4093-fdca-f7d607f0120f"
      },
      "outputs": [
        {
          "output_type": "execute_result",
          "data": {
            "text/plain": [
              "(2, 3)"
            ]
          },
          "metadata": {},
          "execution_count": 15
        }
      ],
      "source": [
        "# dW = dZ . X\n",
        "\n",
        "dW = np.dot(X.T, dz) # check dimensions (2, 300) x (300 , 3) => (2, 3)\n",
        "dW.shape"
      ]
    },
    {
      "cell_type": "code",
      "source": [
        "b.shape # shape (1, n)"
      ],
      "metadata": {
        "colab": {
          "base_uri": "https://localhost:8080/"
        },
        "id": "wwyolIARTu6p",
        "outputId": "264792d4-dc28-434e-96f2-f3f939883729"
      },
      "execution_count": null,
      "outputs": [
        {
          "output_type": "execute_result",
          "data": {
            "text/plain": [
              "(1, 3)"
            ]
          },
          "metadata": {},
          "execution_count": 16
        }
      ]
    },
    {
      "cell_type": "markdown",
      "source": [
        "We know that,\n",
        "\n",
        "$z = wx + b$\n",
        "\n",
        "So,\n",
        "\n",
        "- $\\frac{∂z}{∂b}$ = $\\frac{∂(wx + b)}{∂b}$ = 1\n",
        "\n",
        "- as wx will be treated as constant when calculating partial derivative w.r.t b\n",
        "\n",
        "\n",
        "Now,\n",
        "\n",
        "For calculating db,\n",
        "\n",
        "db = dz.$\\frac{∂Z}{∂b}$ = dz\n",
        "\n",
        "#### But why sum?\n",
        "\n",
        "Since we are performing GD and not SGD,\n",
        "- we'll take sum of average across all points\n",
        "- we already took the average of dz (dz = dz/m)\n",
        "\n",
        "Recall update equation of bias\n",
        "\n",
        "\n",
        "\n"
      ],
      "metadata": {
        "id": "E8QfBTDiIlFr"
      }
    },
    {
      "cell_type": "markdown",
      "source": [
        "<center><img src='https://drive.google.com/uc?id=1IeM-uQ6cYp-167twAm8CuEK5avjn-j68' width=600></center>\n",
        "\n",
        "\n"
      ],
      "metadata": {
        "id": "SIPYvH5XMq7u"
      }
    },
    {
      "cell_type": "code",
      "source": [
        "db = np.sum(dz, axis=0, keepdims=True)\n",
        "db.shape"
      ],
      "metadata": {
        "colab": {
          "base_uri": "https://localhost:8080/"
        },
        "id": "tBNyMDF4Tqdz",
        "outputId": "8d2dba05-68e7-4226-91f3-a430610a8269"
      },
      "execution_count": null,
      "outputs": [
        {
          "output_type": "execute_result",
          "data": {
            "text/plain": [
              "(1, 3)"
            ]
          },
          "metadata": {},
          "execution_count": 17
        }
      ]
    },
    {
      "cell_type": "code",
      "execution_count": null,
      "metadata": {
        "id": "GRAiyPl97ht1"
      },
      "outputs": [],
      "source": [
        "def backprop(probs, y):\n",
        "    # we know that dz = pi - I\n",
        "    dz = probs # dz = pi\n",
        "    dz[range(m),y] -= 1 # subtacting 1 where i ==j i.e. class label matches\n",
        "    dz = dz/m # taking average as we have m points\n",
        "    dW = np.dot(X.T, dz)\n",
        "    db = np.sum(dz, axis=0, keepdims=True)\n",
        "    return dW, db"
      ]
    },
    {
      "cell_type": "markdown",
      "metadata": {
        "id": "5u5MHDezrEWB"
      },
      "source": [
        "Since, we are moving from right to left, to calculate the gradients, lets call it backproprogation"
      ]
    },
    {
      "cell_type": "markdown",
      "metadata": {
        "id": "Bb5OvKTo7ht1"
      },
      "source": [
        "#### Once, we have the gradients, we will update the parameters"
      ]
    },
    {
      "cell_type": "code",
      "execution_count": null,
      "metadata": {
        "id": "1u_c0r5Z7ht1"
      },
      "outputs": [],
      "source": [
        "lr = 0.1\n",
        "W += -lr * dW\n",
        "b += -lr * db"
      ]
    },
    {
      "cell_type": "markdown",
      "metadata": {
        "id": "xPfHt-LT7ht1"
      },
      "source": [
        "Lets put all this together in a class"
      ]
    },
    {
      "cell_type": "code",
      "execution_count": null,
      "metadata": {
        "outputId": "30017928-0d51-4879-aea2-512225b59c9a",
        "colab": {
          "base_uri": "https://localhost:8080/"
        },
        "id": "hFUX0j2f7ht1"
      },
      "outputs": [
        {
          "output_type": "stream",
          "name": "stdout",
          "text": [
            "iteration: 0, loss: 1.1034975631352493\n",
            "iteration: 100, loss: 0.7447334923011109\n",
            "iteration: 200, loss: 0.7405327174688755\n",
            "iteration: 300, loss: 0.7402162294779646\n",
            "iteration: 400, loss: 0.740185995247451\n"
          ]
        }
      ],
      "source": [
        "max_iters = 500\n",
        "lr = 1\n",
        "\n",
        "d = X.shape[1]\n",
        "n = len(np.unique(y))\n",
        "m = X.shape[0]\n",
        "W = 0.01 * np.random.randn(d,n)\n",
        "b = np.zeros((1,n))\n",
        "loss_history = []\n",
        "\n",
        "for i in range(max_iters):\n",
        "    # evaluate the class probs\n",
        "    z = np.dot(X, W) + b\n",
        "    exp_z = np.exp(z)\n",
        "    probs = exp_z/np.sum(exp_z, axis=1, keepdims=True)\n",
        "\n",
        "    # compute the loss: average cross-entropy loss and regularization\n",
        "    error = -np.log(probs[range(m), y])\n",
        "    loss = np.sum(error)/m\n",
        "    loss_history.append(loss)\n",
        "    if i % 100 == 0:\n",
        "        print(f\"iteration: {i}, loss: {loss}\")\n",
        "\n",
        "\n",
        "    # compute the gradient on score\n",
        "    dZ = probs\n",
        "    dZ[range(m),y] -= 1\n",
        "    dZ = dZ/m\n",
        "    dW = np.dot(X.T, dZ)\n",
        "    db = np.sum(dZ, axis=0, keepdims=True)\n",
        "\n",
        "    # perform a parameter update using gradient descent\n",
        "    W += -lr * dW\n",
        "    b += -lr * db\n",
        "# history = pd.DataFrame({'step': list(range(max_iters)), 'loss': loss_history})\n",
        "# history.plot(x='step', y='loss',xlabel='step', ylabel='loss')"
      ]
    },
    {
      "cell_type": "code",
      "execution_count": null,
      "metadata": {
        "outputId": "0ad4860d-b519-4047-9bf1-5877fd8fe05f",
        "colab": {
          "base_uri": "https://localhost:8080/"
        },
        "id": "WvL9xpSh7ht1"
      },
      "outputs": [
        {
          "output_type": "stream",
          "name": "stdout",
          "text": [
            "Training Accuracy 0.5266666666666666\n"
          ]
        }
      ],
      "source": [
        "def predict(X):\n",
        "    Z = np.dot(X, W) + b\n",
        "    Z_e = np.exp(Z)\n",
        "    probs = Z_e/np.sum(Z_e, axis=1, keepdims=True)\n",
        "    return np.argmax(probs, axis=1)\n",
        "\n",
        "print(f\"Training Accuracy {np.sum(predict(X) == y)/m}\")"
      ]
    },
    {
      "cell_type": "markdown",
      "metadata": {
        "id": "GFHx_NP87ht1"
      },
      "source": [
        "We have adapted the Logistic Regression model to work for mult-class setting.\n",
        "\n",
        "Let's plot the decision boundaries"
      ]
    },
    {
      "cell_type": "code",
      "execution_count": null,
      "metadata": {
        "outputId": "512a26da-1a08-4bb8-9282-6cffbe3e84dd",
        "colab": {
          "base_uri": "https://localhost:8080/",
          "height": 430
        },
        "id": "P3kYQGsx7ht2"
      },
      "outputs": [
        {
          "output_type": "display_data",
          "data": {
            "text/plain": [
              "<Figure size 640x480 with 1 Axes>"
            ],
            "image/png": "[encoded data removed]"
          },
          "metadata": {}
        }
      ],
      "source": [
        "# create a 2D grid\n",
        "step = 0.02\n",
        "x_min, x_max = X[:, 0].min() - 1, X[:, 0].max() + 1\n",
        "y_min, y_max = X[:, 1].min() - 1, X[:, 1].max() + 1\n",
        "xx, yy = np.meshgrid(np.arange(x_min, x_max, step), np.arange(y_min, y_max, step))\n",
        "\n",
        "# predict for all the points in the grid\n",
        "y_hat = predict(np.c_[xx.ravel(), yy.ravel()]) # concatenates along second axis\n",
        "y_hat = y_hat.reshape(xx.shape)\n",
        "\n",
        "# plot\n",
        "fig = plt.figure()\n",
        "plt.contourf(xx, yy, y_hat, cmap=plt.cm.Spectral, alpha=0.8)\n",
        "plt.scatter(X[:, 0], X[:, 1], c=y, s=40, cmap=plt.cm.Spectral)\n",
        "plt.xlim(xx.min(), xx.max())\n",
        "plt.ylim(yy.min(), yy.max())\n",
        "plt.show()"
      ]
    },
    {
      "cell_type": "markdown",
      "metadata": {
        "id": "fc_TAEO_7ht2"
      },
      "source": [
        "- We can see that the model has learnt three decision boundaries\n",
        "- But since  haven't added any intermediate layer of neurons to create complex features, we don't expect the model to learn complex boundaries"
      ]
    },
    {
      "cell_type": "markdown",
      "metadata": {
        "id": "Bxgxh6xa7ht2"
      },
      "source": [
        "#### Softmax Classifier code wrapped in a Python class"
      ]
    },
    {
      "cell_type": "code",
      "execution_count": null,
      "metadata": {
        "id": "_KksJRrV7ht2"
      },
      "outputs": [],
      "source": [
        "class SoftmaxClassfier:\n",
        "    def __init__(self, n_features, n_outputs):\n",
        "        self.d = n_features\n",
        "        self.n = n_outputs\n",
        "        self.W = 0.01 * np.random.randn(d,n)\n",
        "        self.b = np.zeros((1,n))\n",
        "        self.loss = []\n",
        "\n",
        "    def fwdprop(self, X):\n",
        "        z = np.dot(X, self.W) + self.b\n",
        "        exp_z = np.exp(z)\n",
        "        probs = exp_z / np.sum(exp_z, axis=1, keepdims=True)\n",
        "        return probs\n",
        "\n",
        "    def cce_loss(self, probs, y):\n",
        "        m = y.shape[0]\n",
        "        error = -np.log(probs[range(m), y])\n",
        "        return np.sum(error)/m\n",
        "\n",
        "    def backprop(self, probs, y):\n",
        "        m = y.shape[0]\n",
        "        dz = probs\n",
        "        dz[range(m),y] -= 1\n",
        "        dz = dz/m\n",
        "        dW = np.dot(X.T, dz)\n",
        "        db = np.sum(dz, axis=0, keepdims=True)\n",
        "        return dW, db\n",
        "\n",
        "    def fit(self, X, y, lr=0.1, max_iters=50):\n",
        "\n",
        "        for i in range(max_iters):\n",
        "            # evaluate the class probs\n",
        "            probs = self.fwdprop(X)\n",
        "\n",
        "            # compute the loss: average cross-entropy loss and regularization\n",
        "            loss = self.cce_loss(probs, y)\n",
        "\n",
        "            # compute the gradient on score\n",
        "            dW, db = self.backprop(probs, y)\n",
        "\n",
        "            # perform a parameter update using gradient descent\n",
        "            self.W += -lr * dW\n",
        "            self.b += -lr * db\n",
        "            self.loss.append(loss)\n",
        "\n",
        "        self.history = pd.DataFrame({\n",
        "        'step': list(range(max_iters)),\n",
        "        'loss': self.loss})\n",
        "\n",
        "    def plot_loss(self):\n",
        "        return self.history.plot(x='step', y='loss',xlabel='step', ylabel='loss')\n",
        "\n",
        "    def predict(self, X):\n",
        "        probs = self.fwdprop(X)\n",
        "        return np.argmax(probs, axis=1)\n",
        "\n",
        "model = SoftmaxClassfier(n_features=2, n_outputs=3)\n",
        "model.fit(X, y, lr=1, max_iters=500)\n",
        "#model.plot_loss()\n",
        "#print('training accuracy:', np.sum(model.predict(X) == y)/X.shape[0])"
      ]
    },
    {
      "cell_type": "markdown",
      "source": [
        "> **Assessments Covered (Misc):-**\n",
        "- Identify the Function: https://www.scaler.com/hire/test/problem/16643/ (To be attempted after post read; contains mention of perceptron)"
      ],
      "metadata": {
        "id": "gsSDb22AaZcC"
      }
    },
    {
      "cell_type": "markdown",
      "source": [
        "## MLP: Multi Layer Perceptron"
      ],
      "metadata": {
        "id": "Nm1EUxZdDsTU"
      }
    },
    {
      "cell_type": "markdown",
      "source": [
        "We make our model/ network complex by adding a layer between our input and output."
      ],
      "metadata": {
        "id": "6SIvTk5_Lmop"
      }
    },
    {
      "cell_type": "markdown",
      "source": [
        "<center><img src='https://drive.google.com/uc?id=1wMWkvsARzV1eN0JpUcgg1J63dJkkcUAD' width=\"800\"></center>\n",
        "\n"
      ],
      "metadata": {
        "id": "e4kQZtezLt0C"
      }
    },
    {
      "cell_type": "markdown",
      "source": [
        "Let's understand what we did here.\n",
        "\n",
        "#### What are we given with?\n",
        "\n",
        "- We know that we have 2 feature input and\n",
        "- we have 3 classes in output.\n",
        "\n"
      ],
      "metadata": {
        "id": "rBy7Ro-wMVPk"
      }
    },
    {
      "cell_type": "markdown",
      "source": [
        "#### Understanding the architecture\n",
        "$ $\n",
        "- Here, we use superscript notation to represent the layer.\n",
        "    - So, instead of writing $f_1$, we write it as $f^1_1$ i.e. neuron 1 of layer 1\n",
        "\n",
        "<br>\n",
        "\n",
        "Now,\n",
        "\n",
        "We took our 2 inputs (Layer - 0 / **Input Layer**) and connected them with the the 4 neuron of **Layer-1**\n",
        "- These 4 neurons will be connected with the 3 neuron of the **output layer** (Layer -2).\n",
        "\n",
        "This intermediate layer in between the input and output layer is called **Hidden layer**\n",
        "\n"
      ],
      "metadata": {
        "id": "KQJGCJYeMrvp"
      }
    },
    {
      "cell_type": "markdown",
      "source": [
        "#### But, why is called hidden layer?\n",
        "\n",
        "As both input and output are hidden from this layer,\n",
        "and\n",
        "- we don't directly deal with this layer,\n",
        "- hence, it is called hidden layer.\n",
        "\n",
        "We make our network complex by increasing the number of neuron in the layer or by increasing the number of layers."
      ],
      "metadata": {
        "id": "Ip73Rut6PvmR"
      }
    },
    {
      "cell_type": "markdown",
      "source": [
        "<center><img src='https://drive.google.com/uc?id=1G1J430m73eqrBQ0NVCVCHspjaPMpgEba' width=\"800\"></center>\n",
        "\n"
      ],
      "metadata": {
        "id": "-1geLbxnU3b5"
      }
    },
    {
      "cell_type": "markdown",
      "source": [
        "#### Question: What will be the activation function for output layer?\n",
        "\n",
        "Ans: Since it is a multiclass classification problem, we'll use softmax activation function"
      ],
      "metadata": {
        "id": "Rtjvq23hqOAR"
      }
    },
    {
      "cell_type": "markdown",
      "source": [
        "#### What will be the activation function for hidden layer ?\n",
        "\n",
        "Recall that we want our model to learn non linear decision boundary,\n",
        "- Hence, we'll always use non linear activation function\n",
        "\n",
        "\n",
        "\n"
      ],
      "metadata": {
        "id": "mQi26y-Adx8h"
      }
    },
    {
      "cell_type": "markdown",
      "source": [
        "#### Question: What happens if each activation function in MLP is a linear function?"
      ],
      "metadata": {
        "id": "922BK2gpmHEN"
      }
    },
    {
      "cell_type": "markdown",
      "source": [
        "Let's try to understand it using an example"
      ],
      "metadata": {
        "id": "W9W8CkSKk_nJ"
      }
    },
    {
      "cell_type": "markdown",
      "metadata": {
        "id": "pRtHGWr3lJU9"
      },
      "source": [
        "\n",
        "\n",
        "<br>\n",
        "\n",
        "#### **Case 1:**\n",
        "\n",
        "Given $f(x) = 2x+1, g(x) = 3x+2$, will $f(g(x))$ be linear or non-linear?\n",
        "\n",
        "\n",
        "\n"
      ]
    },
    {
      "cell_type": "markdown",
      "source": [
        "<center><img src='https://drive.google.com/uc?id=1TNF_X-rg9Wee84yURhbc8AfAE0T758f4' width=\"800\"></center>\n"
      ],
      "metadata": {
        "id": "y4m-x1Y1GkeK"
      }
    },
    {
      "cell_type": "markdown",
      "source": [
        "$f(g(x)) = 2(3x+2) + 1 = 6x + 5$ ---> linear\n",
        "\n",
        "- Composition of two linear function is linear.\n",
        "\n",
        "If we use linear activation\n",
        "- it'll become a linear model.\n",
        "\n",
        "Remember, we have to generare higher order non-linear features\n",
        "\n",
        "<br>"
      ],
      "metadata": {
        "id": "A4J-JX1JGhCR"
      }
    },
    {
      "cell_type": "markdown",
      "source": [
        "#### How non-linear function helps us here ?\n",
        "\n",
        "\n",
        "\n",
        "\n",
        "\n"
      ],
      "metadata": {
        "id": "_Bg08QrImyzP"
      }
    },
    {
      "cell_type": "markdown",
      "source": [
        "\n",
        "**Case 2:** $f(x) = x^2+1, g(x) = 2x+1$\n",
        "\n"
      ],
      "metadata": {
        "id": "PGSm2cBJGzfw"
      }
    },
    {
      "cell_type": "markdown",
      "source": [
        "<center><img src='https://drive.google.com/uc?id=1hZsaEgqvksWKed5pcAtNeGpEWTMexZTA' width=\"800\"></center>\n"
      ],
      "metadata": {
        "id": "0iLAP0rBHirX"
      }
    },
    {
      "cell_type": "markdown",
      "source": [
        "$f(g(x)) = (2x+1)^2 + 1 = 4x^2 + 2x + 2$ ---> non-linear, higher order\n",
        "\n",
        "<br>"
      ],
      "metadata": {
        "id": "l3nTM6vzHhWq"
      }
    },
    {
      "cell_type": "markdown",
      "source": [
        "#### Q. How about we stack non-linearity once more?\n",
        "\n"
      ],
      "metadata": {
        "id": "mPKWUXO4Gvy9"
      }
    },
    {
      "cell_type": "markdown",
      "source": [
        "**Case 3:** $h(x) = x^2+1, f(x) = 2x^2+1, g(x) = x+1$\n"
      ],
      "metadata": {
        "id": "_1fjW79TIxas"
      }
    },
    {
      "cell_type": "markdown",
      "source": [
        "<center><img src='https://drive.google.com/uc?id=1IDG5hLnzrQvKUE0PKgaxr-6_2vcqrWn7' width=\"800\"></center>\n"
      ],
      "metadata": {
        "id": "IexqaIlRJP6N"
      }
    },
    {
      "cell_type": "markdown",
      "source": [
        "\n",
        "$f(h(g(x))) = 2((x+1)^2+1)^2 + 1 =  2(2x^2 + 2x + 3)^2 + 1$ ---> non-linear, much higher order\n",
        "\n",
        "<br>\n",
        "\n",
        "Conclusion - **Stacking a non-linearity over a linear function, and repeating the process may create complex features**"
      ],
      "metadata": {
        "id": "DNj8pV4eJOpG"
      }
    },
    {
      "cell_type": "markdown",
      "source": [
        "For example, suppose we have 2 inputs: $x_1, x_2$\n",
        "\n",
        "They are going through the following **computation graph**.\n",
        "\n",
        "  <center><img src='https://drive.google.com/uc?id=1zVmAdtYjnAiZ0trhE2XV9pSrOw9fFOF9' width=800></center>\n",
        "\n"
      ],
      "metadata": {
        "id": "0gtJg-c_EUNr"
      }
    },
    {
      "cell_type": "markdown",
      "metadata": {
        "id": "M57VBrYT0CF7"
      },
      "source": [
        "- $z$ is a weighted sum, so it'll be linear only: $z = 3x_1 + 4x_2$\n",
        "- $a_1$ will be non-linear and complex: $a_1 = 9x_1^2 + 16x_2^2 + 24x_1x_2$\n",
        "- $a_2$ will be non-linear and much more complex: $a_2 = (9x_1^2 + 16x_2^2 + 24x_1x_2 +1)^2 = (9x_1^2 + 16x_2^2)^2 + 2(9x_1^2 + 16x_2^2)(24x_1x_2 +1) + (24x_1x_2 +1)^2$\n",
        "\n",
        "<hr style=\"border:1px solid gray\"> </hr>"
      ]
    },
    {
      "cell_type": "markdown",
      "source": [
        "#### What non-linear function shall we use?  Have you seen any non linear function in the ML algos so far ?\n",
        "\n",
        "\n",
        "Ans: Recall Sigmoid is one of the non linear activation function we saw.\n",
        "\n",
        "\n",
        "\n",
        "\n",
        "\n"
      ],
      "metadata": {
        "id": "qzxqJcCHipyw"
      }
    },
    {
      "cell_type": "markdown",
      "source": [
        "#### Question: Should we use different activation functions in different layers?\n",
        "\n",
        "***Anwser:***\n",
        "- Theoretically we can. But studies have shown that it is not of much value.\n",
        "\n",
        "\n",
        "\n",
        "\n",
        "\n",
        "\n",
        "\n",
        "\n",
        "\n",
        "\n"
      ],
      "metadata": {
        "id": "cLp_JIjxrU-A"
      }
    },
    {
      "cell_type": "markdown",
      "source": [
        "## Activation function"
      ],
      "metadata": {
        "id": "bG9aCo9Tiq8J"
      }
    },
    {
      "cell_type": "markdown",
      "source": [
        "We saw that how sigmoid can be used as a activation function for hidden layer."
      ],
      "metadata": {
        "id": "H6520VEBq6o7"
      }
    },
    {
      "cell_type": "markdown",
      "source": [
        "Do note that\n",
        "- Domain of sigmoid is $(-∞, ∞)$\n",
        "- Range is (0,1)\n",
        "- Derivative of sigmoid also lies between (0,1)\n",
        "\n",
        "Also, derivative of sigmoid can also be represented in terms of sigmoid."
      ],
      "metadata": {
        "id": "bxgYc7eJX6kv"
      }
    },
    {
      "cell_type": "markdown",
      "source": [
        "However, Sigmoid activation function was very popular in 1980's and 1990's"
      ],
      "metadata": {
        "id": "QR9hrhLztjRm"
      }
    },
    {
      "cell_type": "markdown",
      "source": [
        "<img src='https://drive.google.com/uc?id=1YsuzkFwJUxGkAtjV8_QYnui4Sx_kqurC'>"
      ],
      "metadata": {
        "id": "saagnU2hs4oT"
      }
    },
    {
      "cell_type": "markdown",
      "source": [
        "### Are there any other activation functions ?"
      ],
      "metadata": {
        "id": "hlxH5PBZr-gQ"
      }
    },
    {
      "cell_type": "markdown",
      "source": [
        "#### tanh function\n",
        "\n",
        "- Shifted version of sigmoid function\n",
        "- Works better than sigmoid almost all the time - mean value is zero\n",
        "- Inputs lies in the range: $(- ∞, ∞)$\n",
        "- Output lies in the range: $(-1, 1)$\n",
        "- We don't use tanh function very often, unless we want output to lie in the range of (-1, 1).\n",
        "- Formula: $tanh(z) = \\frac{e^z - e^{-z}}{e^z + e^{-z}}$\n",
        "\n",
        "- Derivative of tanh function: $\\frac{d(tanh(z))}{dz} = 1-tanh^2(z)$\n",
        " - This lies between $(0, 1)$\n",
        "\n",
        "![picture](https://drive.google.com/uc?export=view&id=1M2i6y-FQd9mmsxK1jNPyVicfe3ETZvq5)"
      ],
      "metadata": {
        "id": "5eIlR72-q5Kq"
      }
    },
    {
      "cell_type": "markdown",
      "source": [
        "### Issue with Sigmoid and tanh"
      ],
      "metadata": {
        "id": "KPgBL3nStazI"
      }
    },
    {
      "cell_type": "markdown",
      "source": [
        "#### Vanishing Gradients"
      ],
      "metadata": {
        "id": "ZxW1jv5aq5Kq"
      }
    },
    {
      "cell_type": "markdown",
      "source": [
        "**Downside of both sigmoid and tanh is that their gradient is <1, for most of the values of z**\n",
        "\n",
        "- This hampers the gradient descent process, and the calculated gradients will be very small.\n",
        "\n",
        "\n",
        "\n",
        "\n"
      ],
      "metadata": {
        "id": "zfFRGjWGq5Kq"
      }
    },
    {
      "cell_type": "markdown",
      "source": [
        "#### Why does small gradient hampers GD process ?"
      ],
      "metadata": {
        "id": "yPV9Tt5cnq7U"
      }
    },
    {
      "cell_type": "markdown",
      "source": [
        "\n",
        "\n",
        "Since the activation functions are sigmoid or tanh\n",
        "- We know that derivative of these functions lie between (0, 1).\n",
        "- So, the product of these terms inside the bracket, will become very small.\n",
        "- In fact, as the number of layers in the NN increase, this product will become smaller and smaller.\n",
        "\n",
        "\n",
        "\n",
        "\n"
      ],
      "metadata": {
        "id": "FdwxIBrGq5Kq"
      }
    },
    {
      "cell_type": "markdown",
      "source": [
        "\n",
        "![picture](https://drive.google.com/uc?export=view&id=1WBZQqwBCAUFDCCcdliaSlKDDKs5ypw-G)\n",
        "\n"
      ],
      "metadata": {
        "id": "SLFuNcCAwdpx"
      }
    },
    {
      "cell_type": "markdown",
      "source": [
        "The equation to update the weight $w$ is: $w_{new} = w_{{old}} - 𝝶.\\frac{∂ \\ loss}{∂ \\ w} \\biggr\\vert_{{W}_{old}}$\n",
        "\n",
        "- We just saw that this partial derivative value becomes miniscule, as the number of layers increase.\n",
        "- As a result, the NN gets trained very very slowly.\n",
        "- In fact, for close to 2 decades, people could not imagine using a NN with more than 3-4 layers.\n",
        "\n",
        "\n"
      ],
      "metadata": {
        "id": "JrTPBP3Qq5Kq"
      }
    },
    {
      "cell_type": "markdown",
      "source": [
        "<center><img src=\"https://drive.google.com/uc?export=view&id=1C4-Z6rDkRA-fzEaxelwruZfGD5Rii1uI\" width=600></center>\n",
        "\n",
        "<br>\n",
        "\n"
      ],
      "metadata": {
        "id": "y07g_tMQUsfy"
      }
    },
    {
      "cell_type": "markdown",
      "source": [
        "### How shall we deal with this problem ?  "
      ],
      "metadata": {
        "id": "vJK4rGSHw6_o"
      }
    },
    {
      "cell_type": "markdown",
      "source": [
        "#### Question: What should be the properties of ideal activation function?"
      ],
      "metadata": {
        "id": "VE3nHB0oszpq"
      }
    },
    {
      "cell_type": "markdown",
      "source": [
        "It should be:\n",
        "- differentiable\n",
        "- non linear\n",
        "- easy to calculate\n",
        "- gradient $≥ 1$ for big range of z"
      ],
      "metadata": {
        "id": "o8pS7qDds34-"
      }
    },
    {
      "cell_type": "markdown",
      "source": [
        "#### ReLu\n",
        "\n",
        "- Stands for **Rectified Linear Unit**.\n",
        "- It says, that for any positive value, it will return that value as it is: $Relu(z) = z$, if $z > 0$\n",
        "- Otherwise, it returns 0: $Relu(z) = 0$, if $z <= 0$\n",
        "\n",
        "It can be stated as: $Relu(z) = max(z, 0)$\n",
        "- Very fast to compute.\n",
        "\n",
        "- Derivative of ReLu wrt z: $ReLu'(z) = \\left\\{\\begin{matrix}\n",
        "1, if \\ z>0\\\\\n",
        "0, if \\ z<0\n",
        "\\end{matrix}\\right.$\n",
        "\n",
        " - Though it is not differential at 0, as it is not continuous\n",
        " - So here we take an approximation, for it to work. So we make it as:$ReLu'(z) = \\left\\{\\begin{matrix}\n",
        "1, if \\ z>0\\\\\n",
        "0, if \\ z<=0\n",
        "\\end{matrix}\\right.$\n",
        "\n"
      ],
      "metadata": {
        "id": "7MR8e9k6q5Kq"
      }
    },
    {
      "cell_type": "markdown",
      "source": [
        "![picture](https://drive.google.com/uc?export=view&id=11WM7DXTHZNFI06flIdUcR-zKbn8n1YBz)"
      ],
      "metadata": {
        "id": "RvheEXX_t1QW"
      }
    },
    {
      "cell_type": "markdown",
      "source": [
        "#### Question: Is there a problem in practically using ReLu as activation function?\n",
        "\n",
        "Yes. Even though it is the most widely used activation function in the world of Deep Learning, there is a slight problem.\n",
        "\n",
        "\n",
        "- If even one derivative term in calculation of $\\frac{\\partial Loss}{∂ w}$ gets the value as 0, the entire term will become zero.\n",
        "\n",
        "- Hence, there is no update in the value of weight.\n",
        "- This is also know as **\"dying ReLU\"**\n",
        "- So there's a potential **vanishing gradient** problem.\n",
        "    - While calculating backprop, if one of the derivative is 0, the whole update will become zero and network won't update\n",
        "\n",
        "<br>\n",
        "\n",
        "\n",
        "However, to deal with this, a slight modification is made to ReLu, and we get another activation function known as **Leaky ReLu**\n",
        "\n"
      ],
      "metadata": {
        "id": "y1C7qTOrq5Kq"
      }
    },
    {
      "cell_type": "markdown",
      "source": [
        "![picture](https://drive.google.com/uc?export=view&id=1l4UnOtfTGexfm2gJEj4sTnHwAzzym1mR)"
      ],
      "metadata": {
        "id": "7DbC82VaxJay"
      }
    },
    {
      "cell_type": "markdown",
      "source": [
        "#### Leaky ReLu\n",
        "\n",
        "- This is very similar to ReLu but there's a twist\n",
        "- In case of negative vales, we add a small gradient ($α$) associated with it, instead of having 0.\n",
        "- Gradient: $Leaky \\ ReLu'(z) = \\left\\{\\begin{matrix}\n",
        "1, if \\ z>0\\\\\n",
        "α, if \\ z<=0\n",
        "\\end{matrix}\\right.$\n",
        "\n"
      ],
      "metadata": {
        "id": "F4bUrVu5q5Kr"
      }
    },
    {
      "cell_type": "markdown",
      "source": [
        "\n",
        "![picture](https://drive.google.com/uc?export=view&id=1pbkhu3NxintyCdHo5DSVy6M6aQaDhbcI)"
      ],
      "metadata": {
        "id": "1s67e4Bsq5Kr"
      }
    },
    {
      "cell_type": "markdown",
      "source": [
        "## Notations for N layer NN"
      ],
      "metadata": {
        "id": "RK-cZ904qRhI"
      }
    },
    {
      "cell_type": "markdown",
      "source": [
        "\n",
        "So, we introduce layer number in notation as superscript\n",
        "\n",
        "Now,\n",
        "As layer increase, earlier weight notation will not work.\n",
        "- So, we add layer number to weight notation as well."
      ],
      "metadata": {
        "id": "dloOzLLyTN25"
      }
    },
    {
      "cell_type": "markdown",
      "source": [
        "\n",
        "\n",
        "For weight: $w^L_{ij}$\n",
        "\n",
        "where\n",
        "- L represent layer number\n",
        "- and i represents from neuron\n",
        "- j represent to neuron\n",
        "\n",
        "<br>\n",
        "\n",
        "Bias: $b^L_i$\n",
        "where\n",
        "- L represents the layer\n",
        "- i represents the neuron."
      ],
      "metadata": {
        "id": "04JInT7ySCcK"
      }
    },
    {
      "cell_type": "markdown",
      "source": [
        "<center><img src='https://drive.google.com/uc?id=1LAnU_9qgGqf9LbK1PzotW6J80WRYb9Rx' width=\"800\"></center>\n",
        "\n",
        "\n"
      ],
      "metadata": {
        "id": "aX18RkNPbgOI"
      }
    },
    {
      "cell_type": "markdown",
      "source": [
        "#### Quiz\n",
        "\n",
        "```\n",
        "How many total parameters do we have for this network?\n",
        "\n",
        "a. 15\n",
        "b. 21\n",
        "c. 27\n",
        "d. 30\n",
        "\n",
        "\n",
        "```\n",
        "Ans: 27 (c)\n",
        "\n",
        "- For first layer,\n",
        "    - we have 2*4 = 8 weights and 4 biases i.e. 12 params\n",
        "\n",
        "- For second layer,\n",
        "    - we have 4*3 = 12 and 3 biases i.e. 15 params\n",
        "\n",
        "Hence, we have total of 12 + 15 = 27\n"
      ],
      "metadata": {
        "id": "NZnWy-zrcQ2y"
      }
    },
    {
      "cell_type": "markdown",
      "metadata": {
        "id": "8BY45N9trEWD"
      },
      "source": [
        "\n",
        "\n",
        "We will now have two sets of weights and biases (for the first and second layers) - $W^1, W^2, b^1, b^2$\n",
        "\n",
        "<br>\n",
        "\n",
        "#### What will be the dimensions of the parameters $W^1, b^1, W^2, b^2$?\n",
        "\n",
        "\n",
        "Forget about the second layer for now, let's just focus on the first layer, and it's inputs.\n",
        "\n",
        "<br>\n",
        "\n",
        "\n",
        "\n"
      ]
    },
    {
      "cell_type": "markdown",
      "source": [
        "#### $W^1$\n",
        "- Here, we have **2 inputs** being passed to **4 neurons**\n",
        "- Recall that each pair of input and neuron, has a unique weights value.\n",
        "- Therefore, $W^1$ will be $2\\times4$ matrix:\n",
        "$W^1 = \\begin{bmatrix}\n",
        "w_{11}^1 & w_{12}^1 & w_{13}^1 & w_{14}^1\\\\\n",
        "w_{21}^1 & w_{22}^1 & w_{23}^1 & w_{24}^1\n",
        "\\end{bmatrix}_{2 \\times 4}$\n",
        "\n",
        "<br>\n",
        "\n",
        "#### $b^1$\n",
        "- There are 4 neurons in the first layer.\n",
        "- Each of which has an unique bias value.\n",
        "- Therefore, $b^1$ will be $1 \\times 4$ matrix: $b^1 = \\begin{bmatrix}\n",
        "b_1^1 & b_2^1 & b_3^1 & b_4^1\n",
        "\\end{bmatrix}_{1 \\times 4}$\n"
      ],
      "metadata": {
        "id": "eG79j4RS0j4z"
      }
    },
    {
      "cell_type": "markdown",
      "metadata": {
        "id": "ED3RYU5-2GUV"
      },
      "source": [
        "Let's figure dimensions $W^2$ and $b^2$ by considering only layer-1 and layer-2 again as a one layer NN\n",
        "\n",
        "\n",
        "#### $W^2$\n",
        "- Now, the outputs of the layer-1 are inputs to the layer-2.\n",
        "- Layer-2 neurons don't need to know if its an output from an earlier layer, or a raw input\n",
        "- Here, 4 inputs are passed to 3 neurons, $W^2$ will be $4\\times3$ matrix: $W^2 = \\begin{bmatrix}\n",
        "w_{11}^2 & w_{12}^2 & w_{13}^2\\\\\n",
        "w_{21}^2 & w_{22}^2 & w_{23}^2\\\\\n",
        "w_{31}^2 & w_{32}^2 & w_{33}^2\\\\\n",
        "w_{41}^2 & w_{42}^2 & w_{43}^2\n",
        "\\end{bmatrix}_{4 \\times 3}$\n",
        "\n",
        "<br>\n",
        "\n",
        "#### $b^2$\n",
        "- There are 3 neurons in second layer, each of which will have a bias associated with them.\n",
        "- Therefore, $b^2$ will be $1 \\times 3$ matrix: $b^2 = \\begin{bmatrix}\n",
        "b_1^2 & b_2^2 & b_3^2\n",
        "\\end{bmatrix}_{1 \\times 3}$\n",
        "\n"
      ]
    },
    {
      "cell_type": "markdown",
      "source": [
        "## Forward Propagation"
      ],
      "metadata": {
        "id": "5oxI772Vep1x"
      }
    },
    {
      "cell_type": "markdown",
      "source": [
        "Forward Propagation is all easy.\n",
        "- We just need to propagation our inputs from left to right\n",
        "- Calculate the value of $z_i$\n",
        "- Apply activation function on top of it\n",
        "- And pass it to neuron in front of it.\n",
        "\n",
        "Ultimately, we'll get the probabilities\n",
        "\n",
        "- Use those probabilities to calcualte the loss.\n",
        "\n",
        "\n",
        "#### Question: What will be the loss here?\n",
        "\n",
        "Ans: Since it is a multiclass classification => **Categorical cross entropy**"
      ],
      "metadata": {
        "id": "z-1htLcpeqUI"
      }
    },
    {
      "cell_type": "code",
      "source": [
        "import numpy as np\n",
        "# initialize parameters randomly\n",
        "d = 2 # diensionality / number of inputs\n",
        "n = 3 # Number of classes (A/B/C) / Number of neurons in output layer\n",
        "h = 4 # neurons in hidden layer"
      ],
      "metadata": {
        "id": "UpSGuRU0y5oW"
      },
      "execution_count": null,
      "outputs": []
    },
    {
      "cell_type": "markdown",
      "source": [
        "Let;s intitialise these matrices randomly."
      ],
      "metadata": {
        "id": "IHJReVDzyzwv"
      }
    },
    {
      "cell_type": "code",
      "execution_count": null,
      "metadata": {
        "id": "UCY9Gn0lrEWE"
      },
      "outputs": [],
      "source": [
        "W1 = 0.01 * np.random.randn(d,h)\n",
        "b1 = np.zeros((1,h))\n",
        "W2 = 0.01 * np.random.randn(h,n)\n",
        "b2 = np.zeros((1,n))"
      ]
    },
    {
      "cell_type": "code",
      "execution_count": null,
      "metadata": {
        "id": "X2faLFmnrEWE"
      },
      "outputs": [],
      "source": [
        "Z1 = np.dot(X, W1) + b1 # (300,2) x (2,4) + (1,4) => (300,4)\n",
        "A1 = np.maximum(0, Z1) # ReLU if Z1 < 0 A1 =0 else A1 = Z1"
      ]
    },
    {
      "cell_type": "markdown",
      "source": [
        "#### Calculation Z2 and A2"
      ],
      "metadata": {
        "id": "u57B3T81uOXU"
      }
    },
    {
      "cell_type": "markdown",
      "source": [
        "Now, in order to get shape of (300,3)\n",
        "- we need to multiply $A^1$ with $W^2$ and add bias $b^2$ to it\n"
      ],
      "metadata": {
        "id": "sBMxydYkx0p6"
      }
    },
    {
      "cell_type": "code",
      "source": [
        "Z2 = np.dot(A1, W2) + b2  # (300, 4) x (4, 3) + (1, 3) => (300, 3)\n",
        "# Applying softmax function to get A2\n",
        "Z2_exp = np.exp(Z2)\n",
        "A2 = Z2_exp/np.sum(Z2_exp, axis=1, keepdims=True)\n",
        "probs = A2"
      ],
      "metadata": {
        "id": "d8hQfcg7e8Tp"
      },
      "execution_count": null,
      "outputs": []
    },
    {
      "cell_type": "code",
      "source": [
        "probs.shape"
      ],
      "metadata": {
        "colab": {
          "base_uri": "https://localhost:8080/"
        },
        "id": "x0311gJc3F1-",
        "outputId": "101d5110-5113-4ee7-8d7b-1f14762d5122"
      },
      "execution_count": null,
      "outputs": [
        {
          "output_type": "execute_result",
          "data": {
            "text/plain": [
              "(300, 3)"
            ]
          },
          "metadata": {},
          "execution_count": 31
        }
      ]
    },
    {
      "cell_type": "code",
      "source": [],
      "metadata": {
        "id": "-Ysm6Sv2MfAP"
      },
      "execution_count": null,
      "outputs": []
    },
    {
      "cell_type": "markdown",
      "source": [
        "\n",
        "\n",
        "- **BackPropagation**\n",
        "  - [backpropagation](https://www.scaler.com/hire/test/problem/17679/)\n",
        "  - [Backpropagation in MLP](https://www.scaler.com/hire/test/problem/19831/)\n",
        "  - [Complete the code](https://www.scaler.com/hire/test/problem/19738/)\n",
        "  - [Weight's value](https://www.scaler.com/hire/test/problem/20676/)\n",
        "\n",
        "\n",
        "\n",
        "\n",
        "- **Code walkthrough**\n",
        "    \n",
        "    - [Calculate the loss](https://www.scaler.com/hire/test/problem/21618/) - H/W\n",
        "\n",
        "\n",
        "\n",
        "- **MLP using sklearn**\n",
        "\n",
        "\n"
      ],
      "metadata": {
        "id": "46nAonuvKj0l"
      }
    },
    {
      "cell_type": "markdown",
      "source": [
        "## Backpropagation"
      ],
      "metadata": {
        "id": "xT3kKmiYhhuG"
      }
    },
    {
      "cell_type": "code",
      "source": [
        "import pandas as pd\n",
        "import numpy as np"
      ],
      "metadata": {
        "id": "ZLYwdCpdgNYy"
      },
      "execution_count": null,
      "outputs": []
    },
    {
      "cell_type": "code",
      "source": [
        "!gdown 1dLOPwh01o3k8p_hK633ixhD1ehz6nNWk\n",
        "df = pd.read_csv(\"/content/spiral.csv\")\n",
        "\n",
        "# Separating feature and label columns\n",
        "X = df.iloc[:, :-1].to_numpy()\n",
        "y = df.iloc[:, -1].to_numpy()"
      ],
      "metadata": {
        "colab": {
          "base_uri": "https://localhost:8080/"
        },
        "id": "b2DwJZ28gJxB",
        "outputId": "7adf6144-6e24-4c1a-f501-78a0b60bc5c9"
      },
      "execution_count": null,
      "outputs": [
        {
          "output_type": "stream",
          "name": "stdout",
          "text": [
            "Downloading...\n",
            "From: https://drive.google.com/uc?id=1dLOPwh01o3k8p_hK633ixhD1ehz6nNWk\n",
            "To: /content/spiral.csv\n",
            "\r  0% 0.00/12.9k [00:00<?, ?B/s]\r100% 12.9k/12.9k [00:00<00:00, 27.4MB/s]\n"
          ]
        }
      ]
    },
    {
      "cell_type": "markdown",
      "source": [
        "Now, let's get back to our NN network"
      ],
      "metadata": {
        "id": "KVfSGd_aHqlr"
      }
    },
    {
      "cell_type": "markdown",
      "source": [
        "<center><img src='https://drive.google.com/uc?id=1PWWndBIY0xFSxY7E06DEoTH9-JNuZryf' width=\"700\"></center>\n",
        "\n"
      ],
      "metadata": {
        "id": "bkjAr2U6Hyh-"
      }
    },
    {
      "cell_type": "markdown",
      "source": [
        "#### How'll computational graph look for above NN ?"
      ],
      "metadata": {
        "id": "TbKCU6nAIKsV"
      }
    },
    {
      "cell_type": "markdown",
      "source": [
        "\n",
        "\n",
        "\n",
        "<center><img src='https://drive.google.com/uc?id=1aAZ3E7rr0wh-y_V2lqL0m3XjpLmbs2da' width=\"700\"></center>\n",
        "\n",
        "\n",
        "\n",
        "\n"
      ],
      "metadata": {
        "id": "8P8sGIHoIU44"
      }
    },
    {
      "cell_type": "markdown",
      "metadata": {
        "id": "NenozJcZrEWE"
      },
      "source": [
        "### Forward Propagation"
      ]
    },
    {
      "cell_type": "markdown",
      "source": [
        "Now, we need to calculate $Z^2$,\n",
        "- for this we multiply each row of X with each column of W1\n",
        "- add bias to it (using broadcasting)\n",
        "\n",
        "\n",
        "The formulation comes out to be:\n",
        "\n",
        "$$X.W + b$$"
      ],
      "metadata": {
        "id": "JnXJolbZt133"
      }
    },
    {
      "cell_type": "code",
      "source": [
        "import numpy as np\n",
        "# initialize parameters randomly\n",
        "d = 2 # diensionality / number of inputs\n",
        "n = 3 # Number of classes (A/B/C) / Number of neurons in output layer\n",
        "h = 4 # neurons in hidden layer"
      ],
      "metadata": {
        "id": "L8yIBD_BMfgG"
      },
      "execution_count": null,
      "outputs": []
    },
    {
      "cell_type": "markdown",
      "source": [
        "Let;s intitialise these matrices randomly."
      ],
      "metadata": {
        "id": "gJEBC2rzMfgH"
      }
    },
    {
      "cell_type": "code",
      "execution_count": null,
      "metadata": {
        "id": "DVJGfM4rMfgI"
      },
      "outputs": [],
      "source": [
        "W1 = 0.01 * np.random.randn(d,h)\n",
        "b1 = np.zeros((1,h))\n",
        "W2 = 0.01 * np.random.randn(h,n)\n",
        "b2 = np.zeros((1,n))"
      ]
    },
    {
      "cell_type": "code",
      "execution_count": null,
      "metadata": {
        "id": "8ZPIrarnMfgJ"
      },
      "outputs": [],
      "source": [
        "Z1 = np.dot(X, W1) + b1 # (300,2) x (2,4) + (1,4) => (300,4)\n",
        "A1 = np.maximum(0, Z1) # ReLU if Z1 < 0 A1 =0 else A1 = Z1"
      ]
    },
    {
      "cell_type": "markdown",
      "source": [
        "#### Calculation Z2 and A2"
      ],
      "metadata": {
        "id": "2UzR4jOzMfgK"
      }
    },
    {
      "cell_type": "markdown",
      "source": [
        "Now, in order to get shape of (300,3)\n",
        "- we need to multiply $A^1$ with $W^2$ and add bias $b^2$ to it\n"
      ],
      "metadata": {
        "id": "FzZuIsgNMfgL"
      }
    },
    {
      "cell_type": "code",
      "source": [
        "Z2 = np.dot(A1, W2) + b2  # (300, 4) x (4, 3) + (1, 3) => (300, 3)\n",
        "# Applying softmax function to get A2\n",
        "Z2_exp = np.exp(Z2)\n",
        "A2 = Z2_exp/np.sum(Z2_exp, axis=1, keepdims=True)\n",
        "probs = A2"
      ],
      "metadata": {
        "id": "7TsLX_z4MfgM"
      },
      "execution_count": null,
      "outputs": []
    },
    {
      "cell_type": "markdown",
      "metadata": {
        "id": "XC1h07UxrEWE"
      },
      "source": [
        "- Notice that the only change from before is one extra line of code.\n",
        "- We first compute the hidden layer representation and considered that as an input to the output layer."
      ]
    },
    {
      "cell_type": "markdown",
      "source": [
        "<center><img src='https://drive.google.com/uc?id=1XOhwDbTokMed7Xg82bUXDd9L4H4vNZE3' width=\"700\"></center>\n",
        "\n",
        "\n",
        "\n",
        "\n"
      ],
      "metadata": {
        "id": "QOcmp1F8L-7f"
      }
    },
    {
      "cell_type": "markdown",
      "metadata": {
        "id": "uLLKODN9rEWE"
      },
      "source": [
        "### Loss\n",
        "\n",
        "#### Question: Will the loss change?\n",
        "\n",
        "No\n",
        "\n",
        "### Backpropagation\n",
        "\n",
        "#### Will the gradient calculation change?\n",
        "\n",
        "No, but, we would have to backpropagate the gradients for one additional layer."
      ]
    },
    {
      "cell_type": "code",
      "execution_count": null,
      "metadata": {
        "id": "djjOv187rEWE"
      },
      "outputs": [],
      "source": [
        "# Number of training examples\n",
        "m = y.shape[0] # 300 datapoints"
      ]
    },
    {
      "cell_type": "markdown",
      "source": [
        "#### Calculating dz2"
      ],
      "metadata": {
        "id": "KVq2uZLip5t1"
      }
    },
    {
      "cell_type": "markdown",
      "source": [
        "<center><img src='https://drive.google.com/uc?id=1LTeDUnS2efPF07Ah2BRFyJccX1DsSeUt' width=\"700\"></center>\n",
        "\n",
        "\n",
        "\n"
      ],
      "metadata": {
        "id": "m5MxEogZcIMe"
      }
    },
    {
      "cell_type": "markdown",
      "source": [
        "$$dZ^2 = \\frac{∂L}{∂Z^2}$$\n",
        "\n",
        "\n",
        "So,\n",
        "\n",
        "$$\\frac{∂L}{∂Z^2} = \\frac{∂L}{∂A^2}.\\frac{∂A^2}{∂Z^2}$$\n",
        "\n",
        "Here, $A^2$ is our output probabilities.\n",
        "- Replaceing $A^2$ with $p$\n",
        "\n",
        "$$\\frac{∂L}{∂Z^2} = \\frac{∂L}{∂p}.\\frac{∂p}{∂Z^2}$$\n",
        "\n",
        "#### Doesn't this look familiar ?\n",
        "\n",
        "- This is similar to what we calculated previously i.e derivative of Loss w.r.t to Z\n",
        "\n",
        "$$dz=\\frac{\\partial J}{\\partial p} \\frac{\\partial p}{\\partial z}$$\n",
        "\n",
        "- The derivative came out to be : $dz = (p_i - I (i=y))$\n",
        "\n",
        "\n",
        "Hence, $dZ_2 = (p_i - I (i=y))$\n",
        "\n",
        "\n"
      ],
      "metadata": {
        "id": "lNpgXmNpp83F"
      }
    },
    {
      "cell_type": "code",
      "source": [
        "dZ2 = probs\n",
        "dZ2[range(m),y] -= 1"
      ],
      "metadata": {
        "id": "FE0y547c5JB9"
      },
      "execution_count": null,
      "outputs": []
    },
    {
      "cell_type": "markdown",
      "source": [
        "#### What will be the shape of dZ2 ?"
      ],
      "metadata": {
        "id": "vAA8ofaUysdB"
      }
    },
    {
      "cell_type": "markdown",
      "source": [
        "As dZ2 is same as probabilties,\n",
        "- its shape will be (m,3) or (300, 3)"
      ],
      "metadata": {
        "id": "ZXfBit3PzAKn"
      }
    },
    {
      "cell_type": "markdown",
      "source": [
        "#### Calculating $dW^2$ and $db^2$"
      ],
      "metadata": {
        "id": "Xjyuvgfmr1in"
      }
    },
    {
      "cell_type": "markdown",
      "metadata": {
        "id": "MCwJ4_MPrEWF"
      },
      "source": [
        "Gradient calculation for $dW^2$ and $db^2$ will also be similar to $dW$ and $db$ in the softmax classifier case"
      ]
    },
    {
      "cell_type": "markdown",
      "source": [
        "<center><img src='https://drive.google.com/uc?id=1uLs3BG6wmrriUuOPkTPHbrqSQOA8B7U6' width=\"700\"></center>\n",
        "\n",
        "\n",
        "\n"
      ],
      "metadata": {
        "id": "XhaSXlTRtISQ"
      }
    },
    {
      "cell_type": "markdown",
      "source": [
        "$$dW^2 = \\frac{∂L}{∂W^2} = \\frac{∂L}{∂A^2}.\\frac{∂A^2}{∂Z^2}.\\frac{∂Z^2}{∂W^2}$$\n",
        "\n",
        "$$= dZ^2.\\frac{∂Z^2}{∂W^2}$$\n",
        "\n",
        "Here, $Z^2 = W^{2^{T}}.A^1 + b^2$\n",
        "\n",
        "So, $\\frac{∂Z^2}{∂W^2} = A^1$\n",
        "\n",
        "$$dW^2 = \\frac{∂L}{∂W^2} = dZ^2 . A^1$$\n",
        "\n",
        "\n"
      ],
      "metadata": {
        "id": "cCQ1g0TmuBcC"
      }
    },
    {
      "cell_type": "markdown",
      "source": [
        "#### How to do mat mul for dW2  ?"
      ],
      "metadata": {
        "id": "9x68P15mzLRZ"
      }
    },
    {
      "cell_type": "markdown",
      "source": [
        "- Shape of dZ2 = (300, 3)\n",
        "- Shape of A1 = (300, 4)\n",
        "\n",
        "#### What should be the shape of dW2 ?\n",
        "\n",
        "We know that dW2 will be used for updating $W^2$\n",
        "- its shape should match of $W^2$\n",
        "\n",
        "Hence, shape of dW2 will be (4,3)\n",
        "\n"
      ],
      "metadata": {
        "id": "_FVVYHZ81R61"
      }
    },
    {
      "cell_type": "markdown",
      "source": [
        "We have to multipy $dZ^2$ and $A^1$\n",
        "- such that we get (4,3)\n",
        "\n",
        "For that, we take a transpose of A1 and multiply it with dW2.\n",
        "\n",
        "=> $A_1^T. dZ^2$ = (4, 300) x (300, 3) = (4, 3)"
      ],
      "metadata": {
        "id": "XR0kiHkg1lnV"
      }
    },
    {
      "cell_type": "markdown",
      "source": [
        "<center><img src='https://drive.google.com/uc?id=1JE6a4iXmFJO_Uno_OlUdccZ6hSMT4mGi' width=\"700\"></center>\n",
        "\n"
      ],
      "metadata": {
        "id": "95N-MebY1Nwh"
      }
    },
    {
      "cell_type": "code",
      "execution_count": null,
      "metadata": {
        "id": "TjY5p67hrEWF"
      },
      "outputs": [],
      "source": [
        "# shape A1 => (300,4)  shape dZ2 (equal to probability)=> (300,3)\n",
        "dW2 = np.dot(A1.T, dZ2)/m # shape => (4, 300) x (300, 3) => (4,3)"
      ]
    },
    {
      "cell_type": "markdown",
      "source": [
        "#### But, why are we dividing by m ?"
      ],
      "metadata": {
        "id": "sumY4y07_P4V"
      }
    },
    {
      "cell_type": "markdown",
      "source": [
        "Recall that in GD,\n",
        "- as we are using all datapoints for calculating the updated w\n",
        "    - we take average of it by dividing it by total number of datapoints"
      ],
      "metadata": {
        "id": "gY04HPvNAPy2"
      }
    },
    {
      "cell_type": "markdown",
      "source": [
        "<center><img src='https://drive.google.com/uc?id=1d-Oqw5zbGhS3zin_mnycATtK3hOsPDvd' width=\"700\"></center>\n"
      ],
      "metadata": {
        "id": "zGWGgqoP_YEB"
      }
    },
    {
      "cell_type": "markdown",
      "source": [
        "#### Where all do we need to divide by m ?\n",
        "$ $\n",
        "Our goal is to update weights and biases\n",
        "- so we can either do with while calculating the derivates dW2, db2, dW1, db1 (like we are doing)\n",
        "- or we can do it when updating the weights\n",
        "    - i.e. $w^1 = w^1 - η.dw^1.\\frac{1}{m}$"
      ],
      "metadata": {
        "id": "QYpJ9nz9Aelv"
      }
    },
    {
      "cell_type": "markdown",
      "source": [
        "Similarly, we calculate db2"
      ],
      "metadata": {
        "id": "TAmY_3VXt6EL"
      }
    },
    {
      "cell_type": "markdown",
      "source": [
        "<center><img src='https://drive.google.com/uc?id=1ZOXIPvQUsnz8OwvooZ6LWTLKutDULdga' width=\"700\"></center>\n",
        "\n",
        "\n",
        "\n",
        "\n"
      ],
      "metadata": {
        "id": "gcoDFQG-wxO6"
      }
    },
    {
      "cell_type": "markdown",
      "source": [
        "$$db^2 = \\frac{∂L}{∂b^2} = \\frac{∂L}{∂A^2}.\\frac{∂A^2}{∂Z^2}.\\frac{∂Z^2}{∂b^2}$$\n",
        "\n",
        "Now,\n",
        "\n",
        "$$\\frac{∂Z^2}{∂b^2} = \\frac{∂(W^2A^1 + b^2)}{db^2} = 1$$\n",
        "\n",
        "$$db^2 = \\frac{∂L}{∂b^2} = \\frac{∂L}{∂A^2}.\\frac{∂A^2}{∂Z^2}.1 = dZ^2$$\n"
      ],
      "metadata": {
        "id": "Dxg9EqXZw_2r"
      }
    },
    {
      "cell_type": "markdown",
      "source": [
        "#### Question:  What will be the shape of db2 ?"
      ],
      "metadata": {
        "id": "7fFf3o9T2IP1"
      }
    },
    {
      "cell_type": "markdown",
      "source": [
        "We know that db2 will be used to update $b^2$\n",
        "- so their shape should match\n",
        "\n",
        "Hence, Shape of db2 = (1,3)"
      ],
      "metadata": {
        "id": "BP8lb9EWaMGf"
      }
    },
    {
      "cell_type": "markdown",
      "source": [
        "But, dZ2 shape is (300, 3)\n",
        "\n",
        "Now, recall that we are doing GD not SGD.\n",
        "- we need to sum up the derivates across across the rows and then average it out before using it for update\n"
      ],
      "metadata": {
        "id": "u47nIfTPaU4V"
      }
    },
    {
      "cell_type": "markdown",
      "source": [
        "<center><img src='https://drive.google.com/uc?id=1ES5B4mTwP6hhAbo1-EZaMkaF4bupg06M' width=\"700\"></center>\n",
        "\n",
        "\n"
      ],
      "metadata": {
        "id": "cU9N4RDb43pH"
      }
    },
    {
      "cell_type": "markdown",
      "source": [
        "- So, we'll take the sum across the row"
      ],
      "metadata": {
        "id": "p_3GhI9rapWx"
      }
    },
    {
      "cell_type": "code",
      "source": [
        "db2 = np.sum(dZ2, axis=0, keepdims=True)/m # shape (1 ,3)"
      ],
      "metadata": {
        "id": "BMAJYaUUt5ZY"
      },
      "execution_count": null,
      "outputs": []
    },
    {
      "cell_type": "markdown",
      "metadata": {
        "id": "VkFcUS5crEWF"
      },
      "source": [
        "However, unlike earlier, we are not done yet, because $A^2$ is also a function of $Z^1$, and indirectly of ($W^1$ and $b^1$)\n",
        "- We still need to calculate $dW^1$ and $db^1$\n",
        "- So, we would need to calculate $dZ^1$, followed by $dW^1$ and $dW^2$"
      ]
    },
    {
      "cell_type": "markdown",
      "source": [
        "#### Calculating $dA^1$"
      ],
      "metadata": {
        "id": "0YJ6aidmx8Gq"
      }
    },
    {
      "cell_type": "markdown",
      "source": [
        "<center><img src='https://drive.google.com/uc?id=1QLxk1Kaw-ZuEHt3jgUS7Ud7377IWt9kW' width=\"700\"></center>\n",
        "\n",
        "\n",
        "\n",
        "\n",
        "\n"
      ],
      "metadata": {
        "id": "EmTimJIhytPp"
      }
    },
    {
      "cell_type": "markdown",
      "source": [
        "$$dA^1 = \\frac{∂L}{∂A^1} = \\frac{∂L}{∂A^2}.\\frac{∂A^2}{∂Z^2}.\\frac{∂Z^2}{∂A^1}$$\n",
        "\n",
        "\n",
        "We know that, $$\\frac{∂L}{∂A^2}.\\frac{∂A^2}{∂Z^2} = dZ^2$$\n",
        "\n",
        "Now,\n",
        "\n",
        "$$\\frac{∂Z^2}{∂A^1} = \\frac{∂(W^2A^1 + b^2)}{dA^1} = W^2$$\n",
        "\n",
        "\n",
        "$$dA^1 =\\frac{∂L}{∂A^2}.\\frac{∂A^2}{∂Z^2}.W^2 = dZ^2.W^2$$\n"
      ],
      "metadata": {
        "id": "Zl0fOfJUzwQ0"
      }
    },
    {
      "cell_type": "markdown",
      "source": [
        "#### What will be the shape of dA1?\n",
        "\n"
      ],
      "metadata": {
        "id": "w3KWLcxQ5oGH"
      }
    },
    {
      "cell_type": "markdown",
      "source": [
        "<center><img src='https://drive.google.com/uc?id=13wUYyovmm6UTPVJ4asWfWdiBPkcvcf_A' width=\"700\"></center>\n",
        "\n",
        "\n",
        "\n",
        "\n",
        "\n"
      ],
      "metadata": {
        "id": "aFKda7I579ra"
      }
    },
    {
      "cell_type": "markdown",
      "source": [
        "Shape of $dA^1$ will be same as $A^1$ => (300, 4)\n",
        "\n"
      ],
      "metadata": {
        "id": "9zsyIVge8K6V"
      }
    },
    {
      "cell_type": "markdown",
      "source": [
        "#### What will be the shape of $dZ^1$ ?\n",
        "- Same as $Z^1$ => (300, 4)"
      ],
      "metadata": {
        "id": "XlwMMVIVazKX"
      }
    },
    {
      "cell_type": "markdown",
      "source": [
        "#### What will be the matrix multiplication  then?"
      ],
      "metadata": {
        "id": "hT9namcB9L1M"
      }
    },
    {
      "cell_type": "markdown",
      "source": [
        "<center><img src='https://drive.google.com/uc?id=14JsUS-VrzKDeVScDMGOhR7b8DRJd6MII' width=\"700\"></center>\n",
        "\n"
      ],
      "metadata": {
        "id": "WrUBKHlP9vzT"
      }
    },
    {
      "cell_type": "markdown",
      "source": [
        "Now that, we have all the shapes\n",
        "- $dZ^2$ = (300, 3)\n",
        "- $W^2$ = (4,3)\n",
        "\n",
        "We need a final shape of (300, 4)\n",
        "\n",
        "So, we will have to\n",
        "- multiply dZ2 with transpose of $W^2$\n",
        "- (300, 3) x (3, 4) => (300, 4)\n",
        "\n",
        "$$dA^1 = dZ^2.W^{2^{T}}$$"
      ],
      "metadata": {
        "id": "CxWtG2Q19RTd"
      }
    },
    {
      "cell_type": "code",
      "execution_count": null,
      "metadata": {
        "id": "-1_fc6GDrEWF"
      },
      "outputs": [],
      "source": [
        "dA1 = np.dot(dZ2, W2.T) # (300,3) x (3 , 4) => (300, 4)"
      ]
    },
    {
      "cell_type": "markdown",
      "source": [
        "#### Calculating $dZ^1$"
      ],
      "metadata": {
        "id": "_YXNa9Px0sXd"
      }
    },
    {
      "cell_type": "markdown",
      "metadata": {
        "id": "62HBVo7xrEWF"
      },
      "source": [
        " Now, we have to pass back through the ReLU layer to calculate the gradient $dZ_1$"
      ]
    },
    {
      "cell_type": "markdown",
      "source": [
        "<center><img src='https://drive.google.com/uc?id=1A3ZdZS9a-1Ta-1Lk6xYGCVOCDbF0muNs' width=\"700\"></center>\n",
        "\n",
        "\n",
        "\n",
        "\n",
        "\n"
      ],
      "metadata": {
        "id": "lryS3eDq1Zm4"
      }
    },
    {
      "cell_type": "markdown",
      "source": [
        "$$ \\frac{∂L}{∂Z^1} = \\frac{∂L}{∂A^2}.\\frac{∂A^2}{∂Z^2}.\\frac{∂Z^2}{∂A^1}.\\frac{∂A^1}{∂Z^1}$$\n",
        "\n",
        "We know that,\n",
        "\n",
        "$$\\frac{∂L}{∂A^2}.\\frac{∂A^2}{∂Z^2}.\\frac{∂Z^2}{∂A^1} = dA^1 $$\n",
        "\n",
        "\n",
        "We have to calculate $\\frac{∂A^1}{∂Z^1}$"
      ],
      "metadata": {
        "id": "yCCb5lqU3QRQ"
      }
    },
    {
      "cell_type": "markdown",
      "source": [
        "<center><img src='https://drive.google.com/uc?id=1v2agZ0GS-iFu6HtLSTvlJzIU-IjpwtVh' width=\"700\"></center>\n",
        "\n"
      ],
      "metadata": {
        "id": "dBj0T6DN5cRc"
      }
    },
    {
      "cell_type": "markdown",
      "source": [
        "<center><img src='https://drive.google.com/uc?id=1nSSN8JUfFjT2Fne9ioVd7NtvkiumIaXB' width=\"700\"></center>\n",
        "\n"
      ],
      "metadata": {
        "id": "n-eKtKlq6Dzo"
      }
    },
    {
      "cell_type": "code",
      "execution_count": null,
      "metadata": {
        "id": "SyCkJcxRrEWF"
      },
      "outputs": [],
      "source": [
        "dA1[Z1 <= 0] = 0 # was dA1[A1 <= 0] = 0. changed it to dA1[Z1 <= 0] = 0\n",
        "dZ1 = dA1 # same shape as dA1 (300, 4)"
      ]
    },
    {
      "cell_type": "markdown",
      "source": [
        "#### But, why are we updating dA1 and not making a copy of it?\n",
        "\n",
        "Ans: The purpose of calculating dA1 and dZ1 is to ultimately calculate dW1 and db1.\n",
        "\n",
        "These are being used for intermediatory purpose.\n",
        "\n",
        "So, making changes in dA1 won't change anything as\n",
        "- we have already calculated dZ1\n",
        "- and we won't be using dA1 anywhere else except for calc. of dZ1"
      ],
      "metadata": {
        "id": "YVUhW7FHgXYo"
      }
    },
    {
      "cell_type": "markdown",
      "metadata": {
        "id": "WiqY9XlQrEWG"
      },
      "source": [
        "This also means that we need to save the intermediate output values from the forward pass.\n",
        "\n",
        "Finally, $dW^1$ and $db^1$ are calculated the same way we did earlier."
      ]
    },
    {
      "cell_type": "markdown",
      "source": [
        "#### Calculating $dW^1$ and $db^1$"
      ],
      "metadata": {
        "id": "3LFF0PybAePt"
      }
    },
    {
      "cell_type": "markdown",
      "source": [
        "<center><img src='https://drive.google.com/uc?id=1_XYrgF622SovKGbrcvlP0Aqh5JKECL6U' width=\"700\"></center>\n",
        "\n"
      ],
      "metadata": {
        "id": "LLIesEgw9DIc"
      }
    },
    {
      "cell_type": "markdown",
      "source": [
        "<center><img src='https://drive.google.com/uc?id=1SX20lELZhhIvKS2u4o7E3NsVJaIOpBqN' width=\"700\"></center>\n",
        "\n"
      ],
      "metadata": {
        "id": "Do9ZfbuJ-3V9"
      }
    },
    {
      "cell_type": "markdown",
      "source": [
        "$$ \\frac{∂L}{∂W^1} = \\frac{∂L}{∂A^2}.\\frac{∂A^2}{∂Z^2}.\\frac{∂Z^2}{∂A^1}.\\frac{∂A^1}{∂Z^1}.\\frac{∂Z^1}{∂W^1}$$\n",
        "\n",
        "We know that,\n",
        "\n",
        "$$\\frac{∂L}{∂A^2}.\\frac{∂A^2}{∂Z^2}.\\frac{∂Z^2}{∂A^1}.\\frac{∂A^1}{∂Z^1} = dZ^1 $$\n",
        "\n",
        "\n",
        "We have to calculate $\\frac{∂Z^1}{∂W^1}$\n",
        "\n",
        "$$\\frac{∂Z^1}{∂W^1} = \\frac{∂(W^1.X + b^1)}{∂W^1} = X $$\n",
        "\n",
        "\n",
        "So,\n",
        "\n",
        "$$ \\frac{∂L}{∂W^1} = dZ^1.X$$"
      ],
      "metadata": {
        "id": "0mRg94aC-2DT"
      }
    },
    {
      "cell_type": "markdown",
      "source": [
        "Similarly, for $db^1$"
      ],
      "metadata": {
        "id": "bA6kxrXi-9Yk"
      }
    },
    {
      "cell_type": "markdown",
      "source": [
        "<center><img src='https://drive.google.com/uc?id=1eEY30KJ_3NYX-kbhhXYz4dofWKvKWDZQ' width=\"700\"></center>\n",
        "\n",
        "\n",
        "\n"
      ],
      "metadata": {
        "id": "hlLgXqWJAlGT"
      }
    },
    {
      "cell_type": "markdown",
      "source": [
        "$$ \\frac{∂L}{∂b^1} = \\frac{∂L}{∂A^2}.\\frac{∂A^2}{∂Z^2}.\\frac{∂Z^2}{∂A^1}.\\frac{∂A^1}{∂Z^1}.\\frac{∂Z^1}{∂b^1}$$\n",
        "\n",
        "We know that,\n",
        "\n",
        "$$\\frac{∂L}{∂A^2}.\\frac{∂A^2}{∂Z^2}.\\frac{∂Z^2}{∂A^1}.\\frac{∂A^1}{∂Z^1} = dZ^1 $$\n",
        "\n",
        "\n",
        "We have to calculate $\\frac{∂Z^1}{∂b^1}$\n",
        "\n",
        "$$\\frac{∂Z^1}{∂b^1} = \\frac{∂(W^1.X + b^1)}{∂b^1} = 1 $$\n",
        "\n",
        "\n",
        "So,\n",
        "\n",
        "$$ \\frac{∂L}{∂b^1} = dZ^1.1$$"
      ],
      "metadata": {
        "id": "RyDoutBHA6hp"
      }
    },
    {
      "cell_type": "code",
      "execution_count": null,
      "metadata": {
        "id": "Cjju4gURrEWG"
      },
      "outputs": [],
      "source": [
        "dW1 = np.dot(X.T, dZ1)/m # (2, 300) x (300 ,4) => (2, 4)\n",
        "db1 = np.sum(dZ1, axis=0, keepdims=True)/m"
      ]
    },
    {
      "cell_type": "markdown",
      "source": [
        "Now that we've found these gradients, we update the weight and bias values as:-\n"
      ],
      "metadata": {
        "id": "-TxOQ2KE7uTp"
      }
    },
    {
      "cell_type": "code",
      "source": [
        "lr = 1e-0"
      ],
      "metadata": {
        "id": "DROjJjp16mEX"
      },
      "execution_count": null,
      "outputs": []
    },
    {
      "cell_type": "code",
      "source": [
        "# perform a parameter update\n",
        "W1 += -lr * dW1\n",
        "b1 += -lr * db1\n",
        "W2 += -lr * dW2\n",
        "b2 += -lr * db2"
      ],
      "metadata": {
        "id": "0dqRYm0472sQ"
      },
      "execution_count": null,
      "outputs": []
    },
    {
      "cell_type": "markdown",
      "source": [
        "This parameter updation is done untill it converges (error goes down)."
      ],
      "metadata": {
        "id": "-poceGqg8DIc"
      }
    },
    {
      "cell_type": "markdown",
      "source": [
        "#### Summarizing whole process"
      ],
      "metadata": {
        "id": "zumaZQ8xSIkG"
      }
    },
    {
      "cell_type": "markdown",
      "source": [
        "A single GD cycle for weight update looks like following :"
      ],
      "metadata": {
        "id": "07kHYWpqYioI"
      }
    },
    {
      "cell_type": "markdown",
      "source": [
        "<center><img src='https://drive.google.com/uc?id=1XfiVgAan0dhRloAFkWr8SLbKMVHk_3ww' width=\"700\"></center>\n",
        "\n",
        "\n"
      ],
      "metadata": {
        "id": "7KuROszgR5dq"
      }
    },
    {
      "cell_type": "markdown",
      "source": [
        "Let's write all the derivatives"
      ],
      "metadata": {
        "id": "iiKhmBIKSPiv"
      }
    },
    {
      "cell_type": "markdown",
      "source": [
        "<center><img src='https://drive.google.com/uc?id=1YMOO4MkXGq80WsZsptjPPQB1-SeZ-jvF' width=\"500\"></center>\n",
        "\n"
      ],
      "metadata": {
        "id": "EqWO9qhHRzq5"
      }
    },
    {
      "cell_type": "markdown",
      "source": [
        "Notice that,\n",
        "- We use dZ2 for calculation of dW2, db2 and dA1.\n",
        "- similarly, we use dA1 for calculation of dZ1.\n",
        "- and dZ1 for calculation of dW1 and db1."
      ],
      "metadata": {
        "id": "trW6kaFfSd8X"
      }
    },
    {
      "cell_type": "markdown",
      "source": [
        "So, in order to not calculate value of deeper derivaties i.e dA1, dZ1 again and again\n",
        "- we calculate and store the derivatives of deeper layer\n",
        "- so as we can use them to calculate derivative of shallow layers\n",
        "\n",
        "This is called as **memoization**\n",
        "- also used in **dynamic programming**"
      ],
      "metadata": {
        "id": "9rm0ZvgYS1_N"
      }
    },
    {
      "cell_type": "markdown",
      "source": [
        "#### Simplfying the single cycle of updation"
      ],
      "metadata": {
        "id": "RGStIXhXZKZx"
      }
    },
    {
      "cell_type": "markdown",
      "source": [
        "<center><img src='https://drive.google.com/uc?id=1a7bjDa3R-2e7MShYCbPCqJ-m8R8lJM7_' width=\"700\"></center>\n",
        "\n"
      ],
      "metadata": {
        "id": "oU8lcUtGWrTR"
      }
    },
    {
      "cell_type": "markdown",
      "source": [
        "While performing forward prop,\n",
        "- we store/cache the value of $Z^j, W^j, b^j$ in order to use them during back prop\n",
        "- For example: dA1 uses $w^2$ for its calculation."
      ],
      "metadata": {
        "id": "e8uzmQuUYyim"
      }
    },
    {
      "cell_type": "markdown",
      "metadata": {
        "id": "M-nWDh_IrEWG"
      },
      "source": [
        "Done! Let's put everything together."
      ]
    },
    {
      "cell_type": "code",
      "execution_count": null,
      "metadata": {
        "id": "YCaMRBxKrEWG",
        "outputId": "e36733cf-350b-461d-e400-6caf26f1fefc",
        "colab": {
          "base_uri": "https://localhost:8080/"
        }
      },
      "outputs": [
        {
          "output_type": "stream",
          "name": "stdout",
          "text": [
            "iteration 0: loss 1.098661\n",
            "iteration 1000: loss 0.340004\n",
            "iteration 2000: loss 0.266893\n",
            "iteration 3000: loss 0.256200\n",
            "iteration 4000: loss 0.253119\n",
            "iteration 5000: loss 0.252083\n",
            "iteration 6000: loss 0.251621\n",
            "iteration 7000: loss 0.251314\n",
            "iteration 8000: loss 0.251100\n",
            "iteration 9000: loss 0.250901\n"
          ]
        }
      ],
      "source": [
        "# initialize parameters randomly\n",
        "d = 2\n",
        "h = 100 # size of hidden layer\n",
        "n = 3\n",
        "W1 = 0.01 * np.random.randn(d,h)\n",
        "b1 = np.zeros((1,h))\n",
        "W2 = 0.01 * np.random.randn(h,n)\n",
        "b2 = np.zeros((1,n))\n",
        "\n",
        "# some hyperparameters\n",
        "lr = 1e-0\n",
        "reg = 1e-3 # regularization strength\n",
        "num_examples = X.shape[0]\n",
        "\n",
        "for i in range(10000):\n",
        "\n",
        "    # forward prop\n",
        "    Z1 = np.dot(X, W1) + b1\n",
        "    A1 = np.maximum(0, Z1)\n",
        "    Z2 = np.dot(A1, W2) + b2\n",
        "    Z2 = np.exp(Z2)\n",
        "    A2 = Z2 / np.sum(Z2, axis=1, keepdims=True)\n",
        "    probs = A2\n",
        "\n",
        "    # calc. loss\n",
        "    correct_logprobs = -np.log(probs[range(num_examples),y])\n",
        "    data_loss = np.sum(correct_logprobs)/num_examples\n",
        "    # regularization\n",
        "    loss = data_loss # adding reg. to loss\n",
        "    if i % 1000 == 0:\n",
        "        print(\"iteration %d: loss %f\" % (i, loss))\n",
        "\n",
        "    # backprop\n",
        "    # compute the gradient on scores\n",
        "    dZ2 = probs\n",
        "    dZ2[range(num_examples),y] -= 1\n",
        "    dZ2 /= num_examples\n",
        "\n",
        "    # first backprop into parameters W2 and b2\n",
        "    dW2 = np.dot(A1.T, dZ2)\n",
        "    db2 = np.sum(dZ2, axis=0, keepdims=True)\n",
        "    # next backprop into hidden layer, A1\n",
        "    dA1 = np.dot(dZ2, W2.T)\n",
        "    # backprop the ReLU non-linearity\n",
        "    dA1[Z1 <= 0] = 0\n",
        "    # finally into W,b\n",
        "    dZ1 = dA1\n",
        "    dW1 = np.dot(X.T, dZ1)\n",
        "    db1 = np.sum(dZ1, axis=0, keepdims=True)\n",
        "\n",
        "    # add regularization gradient contribution\n",
        "\n",
        "\n",
        "    # perform a parameter update\n",
        "    W1 += -lr * dW1\n",
        "    b1 += -lr * db1\n",
        "    W2 += -lr * dW2\n",
        "    b2 += -lr * db2"
      ]
    },
    {
      "cell_type": "markdown",
      "metadata": {
        "id": "xhEtzZUHrEWH"
      },
      "source": [
        "#### NN class - all code wrapped as class"
      ]
    },
    {
      "cell_type": "code",
      "execution_count": null,
      "metadata": {
        "id": "04v7YLXurEWH",
        "colab": {
          "base_uri": "https://localhost:8080/"
        },
        "outputId": "120a92f2-a3a3-4662-dd42-f2312c685a7d"
      },
      "outputs": [
        {
          "output_type": "stream",
          "name": "stdout",
          "text": [
            "iteration 0: loss 1.098567\n",
            "iteration 1000: loss 0.397011\n",
            "iteration 2000: loss 0.266143\n",
            "iteration 3000: loss 0.253787\n",
            "iteration 4000: loss 0.252140\n",
            "iteration 5000: loss 0.251514\n",
            "iteration 6000: loss 0.251190\n",
            "iteration 7000: loss 0.250905\n",
            "iteration 8000: loss 0.250834\n",
            "iteration 9000: loss 0.250677\n",
            "training accuracy: 0.99\n"
          ]
        }
      ],
      "source": [
        "class NN:\n",
        "\n",
        "    def __init__(self, n_features, n_hidden, n_classes):\n",
        "        self.d = n_features\n",
        "        self.h = n_hidden\n",
        "        self.n = n_classes\n",
        "        self.W1 = 0.01 * np.random.randn(self.d, self.h)\n",
        "        self.b1 = np.zeros((1,self.h))\n",
        "        self.W2 = 0.01 * np.random.randn(self.h,self.n)\n",
        "        self.b2 = np.zeros((1,self.n))\n",
        "\n",
        "    def fwd_prop(self, X):\n",
        "        Z1 = np.dot(X, self.W1) + self.b1\n",
        "        A1 = np.maximum(0, Z1)\n",
        "        Z2 = np.dot(A1, self.W2) + self.b2\n",
        "        Z2 = np.exp(Z2)\n",
        "        A2 = Z2 / np.sum(Z2, axis=1, keepdims=True)\n",
        "        return A1, A2\n",
        "\n",
        "    def cce_loss(self, y, probs):\n",
        "        num_examples = y.shape[0]\n",
        "        correct_logprobs = -np.log(probs[range(num_examples),y])\n",
        "        loss = np.sum(correct_logprobs)/num_examples\n",
        "        return loss\n",
        "\n",
        "    def back_prop(self, X, A1, A2, y):\n",
        "        # compute the gradient on scores\n",
        "        num_examples = y.shape[0]\n",
        "        dZ2 = A2\n",
        "        dZ2[range(num_examples),y] -= 1\n",
        "        dZ2 /= num_examples\n",
        "        # first backprop into parameters W2 and b2\n",
        "        dW2 = np.dot(A1.T, dZ2)\n",
        "        db2 = np.sum(dZ2, axis=0, keepdims=True)\n",
        "        # next backprop into hidden layer, A1\n",
        "        dA1 = np.dot(dZ2, self.W2.T)\n",
        "        # backprop the ReLU non-linearity\n",
        "        dA1[A1 <= 0] = 0\n",
        "        # finally into W,b\n",
        "        dZ1 = dA1\n",
        "        dW1 = np.dot(X.T, dZ1)\n",
        "        db1 = np.sum(dZ1, axis=0, keepdims=True)\n",
        "        return dW1, db1, dW2, db2\n",
        "\n",
        "    def fit(self, X, lr, reg, max_iters):\n",
        "        num_examples = X.shape[0]\n",
        "        for i in range(max_iters):\n",
        "            #foward prop\n",
        "            A1, A2 = self.fwd_prop(X)\n",
        "            # calculate loss\n",
        "            data_loss = self.cce_loss(y, A2)\n",
        "            reg_loss = 0.5*reg*np.sum(self.W1*self.W1) + 0.5*reg*np.sum(self.W2*self.W2)\n",
        "            loss = data_loss + reg_loss\n",
        "\n",
        "            if i % 1000 == 0:\n",
        "                print(\"iteration %d: loss %f\" % (i, loss))\n",
        "\n",
        "            dW1, db1, dW2, db2  = self.back_prop(X, A1, A2, y)\n",
        "\n",
        "            # add regularization gradient contribution\n",
        "            dW2 += reg * self.W2\n",
        "            dW1 += reg * self.W1\n",
        "\n",
        "            # perform a parameter update\n",
        "            self.W1 += -lr * dW1\n",
        "            self.b1 += -lr * db1\n",
        "            self.W2 += -lr * dW2\n",
        "            self.b2 += -lr * db2\n",
        "\n",
        "    def predict(self, X):\n",
        "        A1 = np.maximum(0, np.dot(X, self.W1) + self.b1) # ReLU(Z1) = ReLU(W1T. X + b1)\n",
        "        Z2 = np.dot(A1, self.W2) + self.b2 # Z2 = W2T.A1 + b2 => 3 probab\n",
        "        y_hat = np.argmax(Z2, axis=1) # taking index of max probab\n",
        "        return y_hat\n",
        "\n",
        "nn_model = NN(n_features=2, n_hidden=100, n_classes=3)\n",
        "nn_model.fit(X, lr=1, reg=1e-3, max_iters=10000)\n",
        "print('training accuracy: %.2f' % (np.mean(nn_model.predict(X) == y)))"
      ]
    },
    {
      "cell_type": "code",
      "source": [
        "from matplotlib import pyplot as plt"
      ],
      "metadata": {
        "id": "u_4VUY4OBtvn"
      },
      "execution_count": null,
      "outputs": []
    },
    {
      "cell_type": "code",
      "execution_count": null,
      "metadata": {
        "id": "zCXe-zVirEWH",
        "outputId": "310908d7-1619-4f35-e43f-648c01f0674b",
        "colab": {
          "base_uri": "https://localhost:8080/",
          "height": 430
        }
      },
      "outputs": [
        {
          "output_type": "display_data",
          "data": {
            "text/plain": [
              "<Figure size 640x480 with 1 Axes>"
            ],
            "image/png": "[encoded data removed]"
          },
          "metadata": {}
        }
      ],
      "source": [
        "# create a 2D grid\n",
        "step = 0.02\n",
        "x_min, x_max = X[:, 0].min() - 1, X[:, 0].max() + 1\n",
        "y_min, y_max = X[:, 1].min() - 1, X[:, 1].max() + 1\n",
        "xx, yy = np.meshgrid(np.arange(x_min, x_max, step), np.arange(y_min, y_max, step))\n",
        "\n",
        "# predict for all the points in the grid\n",
        "\n",
        "y_hat = nn_model.predict(np.c_[xx.ravel(), yy.ravel()])\n",
        "y_hat = y_hat.reshape(xx.shape)\n",
        "\n",
        "# plot\n",
        "fig = plt.figure()\n",
        "plt.contourf(xx, yy, y_hat, cmap=plt.cm.Spectral, alpha=0.8)\n",
        "plt.scatter(X[:, 0], X[:, 1], c=y, s=40, cmap=plt.cm.Spectral)\n",
        "plt.xlim(xx.min(), xx.max())\n",
        "plt.ylim(yy.min(), yy.max())\n",
        "plt.show()"
      ]
    },
    {
      "cell_type": "markdown",
      "metadata": {
        "id": "jNGUiHTGrEWI"
      },
      "source": [
        "---\n",
        "\n",
        "## Training a NN using sklearn - Multi layer perceptron (MLP)\n",
        "\n",
        "As mentioned earlier, each unit of a NN is also called as perceptron, NN is called as MLP"
      ]
    },
    {
      "cell_type": "markdown",
      "source": [
        "sklearn MLPClassifier: https://scikit-learn.org/stable/modules/generated/sklearn.neural_network.MLPClassifier.html"
      ],
      "metadata": {
        "id": "j_J-a5sCB1pO"
      }
    },
    {
      "cell_type": "code",
      "execution_count": null,
      "metadata": {
        "id": "UvwXziTSrEWI",
        "outputId": "5201a091-f7e8-4fd7-816d-785e06373665",
        "colab": {
          "base_uri": "https://localhost:8080/"
        }
      },
      "outputs": [
        {
          "output_type": "stream",
          "name": "stdout",
          "text": [
            "0.9933333333333333\n"
          ]
        }
      ],
      "source": [
        "from sklearn.neural_network import MLPClassifier\n",
        "mlp = MLPClassifier(solver='lbfgs',\n",
        "                    alpha=1e-5,\n",
        "                    hidden_layer_sizes=(100),\n",
        "                    random_state=100,\n",
        "                    activation='relu',\n",
        "                    max_iter=200)\n",
        "mlp.fit(X, y)\n",
        "print(mlp.score(X, y))"
      ]
    },
    {
      "cell_type": "code",
      "execution_count": null,
      "metadata": {
        "id": "aErW-ChTrEWJ",
        "outputId": "ce29c7f3-aaae-468b-a708-baa2dbd89aa6",
        "colab": {
          "base_uri": "https://localhost:8080/"
        }
      },
      "outputs": [
        {
          "output_type": "execute_result",
          "data": {
            "text/plain": [
              "2"
            ]
          },
          "metadata": {},
          "execution_count": 23
        }
      ],
      "source": [
        "len(mlp.coefs_)"
      ]
    },
    {
      "cell_type": "code",
      "execution_count": null,
      "metadata": {
        "id": "sOZ6DjhWrEWJ",
        "outputId": "4fee2cf2-5376-4cc8-f6dd-80515cf4be6e",
        "colab": {
          "base_uri": "https://localhost:8080/"
        }
      },
      "outputs": [
        {
          "output_type": "execute_result",
          "data": {
            "text/plain": [
              "2"
            ]
          },
          "metadata": {},
          "execution_count": 24
        }
      ],
      "source": [
        "len(mlp.intercepts_)"
      ]
    },
    {
      "cell_type": "code",
      "execution_count": null,
      "metadata": {
        "id": "2iS2c1R-rEWJ",
        "outputId": "de93ca17-cff6-447c-fbc8-218659a5e42a",
        "colab": {
          "base_uri": "https://localhost:8080/"
        }
      },
      "outputs": [
        {
          "output_type": "execute_result",
          "data": {
            "text/plain": [
              "0.012061771596620623"
            ]
          },
          "metadata": {},
          "execution_count": 25
        }
      ],
      "source": [
        "mlp.loss_"
      ]
    },
    {
      "cell_type": "code",
      "execution_count": null,
      "metadata": {
        "id": "hSnNjcFGrEWK",
        "outputId": "f23a259a-fb9e-454c-a318-7cd5aa0a0ea2",
        "colab": {
          "base_uri": "https://localhost:8080/",
          "height": 430
        }
      },
      "outputs": [
        {
          "output_type": "display_data",
          "data": {
            "text/plain": [
              "<Figure size 640x480 with 1 Axes>"
            ],
            "image/png": "[encoded data removed]"
          },
          "metadata": {}
        }
      ],
      "source": [
        "# create a 2D grid\n",
        "step = 0.02\n",
        "x_min, x_max = X[:, 0].min() - 1, X[:, 0].max() + 1\n",
        "y_min, y_max = X[:, 1].min() - 1, X[:, 1].max() + 1\n",
        "xx, yy = np.meshgrid(np.arange(x_min, x_max, step), np.arange(y_min, y_max, step))\n",
        "\n",
        "# predict for all the points in the grid\n",
        "y_hat = mlp.predict(np.c_[xx.ravel(), yy.ravel()])\n",
        "y_hat = y_hat.reshape(xx.shape)\n",
        "\n",
        "# plot\n",
        "fig = plt.figure()\n",
        "plt.contourf(xx, yy, y_hat, cmap=plt.cm.Spectral, alpha=0.8)\n",
        "plt.scatter(X[:, 0], X[:, 1], c=y, s=40, cmap=plt.cm.Spectral)\n",
        "plt.xlim(xx.min(), xx.max())\n",
        "plt.ylim(yy.min(), yy.max())\n",
        "plt.show()"
      ]
    },
    {
      "cell_type": "markdown",
      "metadata": {
        "id": "1mbrlh7frEWI"
      },
      "source": [
        "Till now, we saw how to solve classification using NN.\n",
        "\n",
        "#### Question: Can we use Neural Networks for Regression task?\n",
        "\n"
      ]
    },
    {
      "cell_type": "markdown",
      "metadata": {
        "id": "Oc_BXJfG3DC4"
      },
      "source": [
        "![image.png](data:image/png;base64,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)"
      ]
    },
    {
      "cell_type": "markdown",
      "metadata": {
        "id": "hTRKeMYQ3CkC"
      },
      "source": [
        "\n",
        "If the last neuron in chain is:\n",
        "- Linear --> then NeuralNet will do regression. Ex: y = x\n",
        "        --W1--(S)--W2--(S)--W3--(/)--\n",
        "- Probabilistic (Sigmoid/softmax) --> NeuralNet will do classification. Ex: y = sig(x)\n",
        "        --W1--(S)--W2--(S)--W3--(S)--\n",
        "        \n",
        "<br>\n",
        "\n",
        "#### Question: What about activations of intermediate layers? Should that be linear too?\n",
        "\n",
        "No, then, NN wouldn't be able to create high order complex features\n",
        "\n",
        "As discussed earlier, the activations in intermediate layers should always be non-linear."
      ]
    },
    {
      "cell_type": "markdown",
      "metadata": {
        "id": "aPmPY3l3rEWK"
      },
      "source": [
        "In the next class, we will study a popular framework to called Tensorflow which will be helpful in working with various other kinds of Neural Networks"
      ]
    },
    {
      "cell_type": "code",
      "source": [
        "Tensorflow and Pytorch"
      ],
      "metadata": {
        "id": "kwp3TWM14ibB"
      },
      "execution_count": null,
      "outputs": []
    },
    {
      "cell_type": "code",
      "source": [],
      "metadata": {
        "id": "TQ02mesmMoFK"
      },
      "execution_count": null,
      "outputs": []
    },
    {
      "cell_type": "code",
      "execution_count": null,
      "metadata": {
        "id": "439mtpbAgeqy"
      },
      "outputs": [],
      "source": [
        "import tensorflow"
      ]
    },
    {
      "cell_type": "code",
      "source": [
        "from tensorflow.keras import Sequential\n",
        "from tensorflow.keras.layers import Dense"
      ],
      "metadata": {
        "id": "vo4V0oj_gxFt"
      },
      "execution_count": null,
      "outputs": []
    },
    {
      "cell_type": "code",
      "source": [
        "relu=keras.activations.relu(negative_slope=0.01)"
      ],
      "metadata": {
        "id": "DUqaqrcyk-a2"
      },
      "execution_count": null,
      "outputs": []
    },
    {
      "cell_type": "code",
      "source": [
        "sgdopt=keras.optimizers.SGD(\n",
        "    learning_rate=0.2)"
      ],
      "metadata": {
        "id": "rXaCDKl8mSgz"
      },
      "execution_count": null,
      "outputs": []
    },
    {
      "cell_type": "code",
      "source": [
        "model=Sequential()\n",
        "#first hidden layer\n",
        "model.add(Dense(10,input_shape=(4,),activation=relu))\n",
        "#second hidden layer\n",
        "model.add(Dense(5,activation='tanh'))\n",
        "model.add(Dense(1))\n"
      ],
      "metadata": {
        "id": "FZuZFhA2im24"
      },
      "execution_count": null,
      "outputs": []
    },
    {
      "cell_type": "code",
      "source": [
        "model=Sequential()\n",
        "#first hidden layer\n",
        "model.add(Dense(10,input_shape=(4,),activation=relu))\n",
        "#second hidden layer\n",
        "model.add(Dense(5,activation='tanh'))\n",
        "#Output layer changes for regression/classification\n",
        "model.add(Dense(10,activation='softmax'))"
      ],
      "metadata": {
        "id": "qmsfZVRwoEqI"
      },
      "execution_count": null,
      "outputs": []
    },
    {
      "cell_type": "code",
      "source": [
        "model.compile(loss='categorical_crossentropy',optimizer=sgdopt,metrics=['Accuracy','Precision','Recall'])"
      ],
      "metadata": {
        "id": "Ovbj8MBqnqnT"
      },
      "execution_count": null,
      "outputs": []
    },
    {
      "cell_type": "code",
      "source": [
        "model.fit(X,Y,epochs=50)"
      ],
      "metadata": {
        "id": "9TSq3nQQnriT"
      },
      "execution_count": null,
      "outputs": []
    },
    {
      "cell_type": "code",
      "source": [],
      "metadata": {
        "id": "xwID_Q-ZNkru"
      },
      "execution_count": null,
      "outputs": []
    },
    {
      "cell_type": "code",
      "execution_count": null,
      "metadata": {
        "id": "fj0HrhE5C52n"
      },
      "outputs": [],
      "source": [
        "import tensorflow as tf\n",
        "from tensorflow.keras.models import Sequential\n",
        "from tensorflow.keras.layers import Dense\n",
        "from tensorflow.keras.utils import to_categorical\n",
        "from sklearn.datasets import load_iris\n",
        "from sklearn.model_selection import train_test_split\n",
        "from sklearn.preprocessing import StandardScaler"
      ]
    },
    {
      "cell_type": "code",
      "source": [
        "iris=load_iris()\n",
        "X=iris.data\n",
        "y=iris.target"
      ],
      "metadata": {
        "id": "9AtAuKlhEAtC"
      },
      "execution_count": null,
      "outputs": []
    },
    {
      "cell_type": "code",
      "source": [
        "X.shape"
      ],
      "metadata": {
        "colab": {
          "base_uri": "https://localhost:8080/"
        },
        "id": "w5JyNc1g257L",
        "outputId": "a8cb6109-b711-4f18-ba41-9f61150697e9"
      },
      "execution_count": null,
      "outputs": [
        {
          "output_type": "execute_result",
          "data": {
            "text/plain": [
              "(150, 4)"
            ]
          },
          "metadata": {},
          "execution_count": 5
        }
      ]
    },
    {
      "cell_type": "code",
      "source": [
        "y"
      ],
      "metadata": {
        "colab": {
          "base_uri": "https://localhost:8080/"
        },
        "id": "0u_7M3u02-Ja",
        "outputId": "87eb6b98-a646-48f4-847e-e004b5bce9fb"
      },
      "execution_count": null,
      "outputs": [
        {
          "output_type": "execute_result",
          "data": {
            "text/plain": [
              "array([0, 0, 0, 0, 0, 0, 0, 0, 0, 0, 0, 0, 0, 0, 0, 0, 0, 0, 0, 0, 0, 0,\n",
              "       0, 0, 0, 0, 0, 0, 0, 0, 0, 0, 0, 0, 0, 0, 0, 0, 0, 0, 0, 0, 0, 0,\n",
              "       0, 0, 0, 0, 0, 0, 1, 1, 1, 1, 1, 1, 1, 1, 1, 1, 1, 1, 1, 1, 1, 1,\n",
              "       1, 1, 1, 1, 1, 1, 1, 1, 1, 1, 1, 1, 1, 1, 1, 1, 1, 1, 1, 1, 1, 1,\n",
              "       1, 1, 1, 1, 1, 1, 1, 1, 1, 1, 1, 1, 2, 2, 2, 2, 2, 2, 2, 2, 2, 2,\n",
              "       2, 2, 2, 2, 2, 2, 2, 2, 2, 2, 2, 2, 2, 2, 2, 2, 2, 2, 2, 2, 2, 2,\n",
              "       2, 2, 2, 2, 2, 2, 2, 2, 2, 2, 2, 2, 2, 2, 2, 2, 2, 2])"
            ]
          },
          "metadata": {},
          "execution_count": 6
        }
      ]
    },
    {
      "cell_type": "code",
      "source": [
        "y=to_categorical(y,num_classes=3)"
      ],
      "metadata": {
        "id": "T4NsDH8BEIF2"
      },
      "execution_count": null,
      "outputs": []
    },
    {
      "cell_type": "code",
      "source": [
        "y"
      ],
      "metadata": {
        "colab": {
          "base_uri": "https://localhost:8080/"
        },
        "id": "L0ztE0qm3G7r",
        "outputId": "714b3f28-56f5-42b7-fc48-ec1c30fe8de2"
      },
      "execution_count": null,
      "outputs": [
        {
          "output_type": "execute_result",
          "data": {
            "text/plain": [
              "array([[1., 0., 0.],\n",
              "       [1., 0., 0.],\n",
              "       [1., 0., 0.],\n",
              "       [1., 0., 0.],\n",
              "       [1., 0., 0.],\n",
              "       [1., 0., 0.],\n",
              "       [1., 0., 0.],\n",
              "       [1., 0., 0.],\n",
              "       [1., 0., 0.],\n",
              "       [1., 0., 0.],\n",
              "       [1., 0., 0.],\n",
              "       [1., 0., 0.],\n",
              "       [1., 0., 0.],\n",
              "       [1., 0., 0.],\n",
              "       [1., 0., 0.],\n",
              "       [1., 0., 0.],\n",
              "       [1., 0., 0.],\n",
              "       [1., 0., 0.],\n",
              "       [1., 0., 0.],\n",
              "       [1., 0., 0.],\n",
              "       [1., 0., 0.],\n",
              "       [1., 0., 0.],\n",
              "       [1., 0., 0.],\n",
              "       [1., 0., 0.],\n",
              "       [1., 0., 0.],\n",
              "       [1., 0., 0.],\n",
              "       [1., 0., 0.],\n",
              "       [1., 0., 0.],\n",
              "       [1., 0., 0.],\n",
              "       [1., 0., 0.],\n",
              "       [1., 0., 0.],\n",
              "       [1., 0., 0.],\n",
              "       [1., 0., 0.],\n",
              "       [1., 0., 0.],\n",
              "       [1., 0., 0.],\n",
              "       [1., 0., 0.],\n",
              "       [1., 0., 0.],\n",
              "       [1., 0., 0.],\n",
              "       [1., 0., 0.],\n",
              "       [1., 0., 0.],\n",
              "       [1., 0., 0.],\n",
              "       [1., 0., 0.],\n",
              "       [1., 0., 0.],\n",
              "       [1., 0., 0.],\n",
              "       [1., 0., 0.],\n",
              "       [1., 0., 0.],\n",
              "       [1., 0., 0.],\n",
              "       [1., 0., 0.],\n",
              "       [1., 0., 0.],\n",
              "       [1., 0., 0.],\n",
              "       [0., 1., 0.],\n",
              "       [0., 1., 0.],\n",
              "       [0., 1., 0.],\n",
              "       [0., 1., 0.],\n",
              "       [0., 1., 0.],\n",
              "       [0., 1., 0.],\n",
              "       [0., 1., 0.],\n",
              "       [0., 1., 0.],\n",
              "       [0., 1., 0.],\n",
              "       [0., 1., 0.],\n",
              "       [0., 1., 0.],\n",
              "       [0., 1., 0.],\n",
              "       [0., 1., 0.],\n",
              "       [0., 1., 0.],\n",
              "       [0., 1., 0.],\n",
              "       [0., 1., 0.],\n",
              "       [0., 1., 0.],\n",
              "       [0., 1., 0.],\n",
              "       [0., 1., 0.],\n",
              "       [0., 1., 0.],\n",
              "       [0., 1., 0.],\n",
              "       [0., 1., 0.],\n",
              "       [0., 1., 0.],\n",
              "       [0., 1., 0.],\n",
              "       [0., 1., 0.],\n",
              "       [0., 1., 0.],\n",
              "       [0., 1., 0.],\n",
              "       [0., 1., 0.],\n",
              "       [0., 1., 0.],\n",
              "       [0., 1., 0.],\n",
              "       [0., 1., 0.],\n",
              "       [0., 1., 0.],\n",
              "       [0., 1., 0.],\n",
              "       [0., 1., 0.],\n",
              "       [0., 1., 0.],\n",
              "       [0., 1., 0.],\n",
              "       [0., 1., 0.],\n",
              "       [0., 1., 0.],\n",
              "       [0., 1., 0.],\n",
              "       [0., 1., 0.],\n",
              "       [0., 1., 0.],\n",
              "       [0., 1., 0.],\n",
              "       [0., 1., 0.],\n",
              "       [0., 1., 0.],\n",
              "       [0., 1., 0.],\n",
              "       [0., 1., 0.],\n",
              "       [0., 1., 0.],\n",
              "       [0., 1., 0.],\n",
              "       [0., 1., 0.],\n",
              "       [0., 1., 0.],\n",
              "       [0., 0., 1.],\n",
              "       [0., 0., 1.],\n",
              "       [0., 0., 1.],\n",
              "       [0., 0., 1.],\n",
              "       [0., 0., 1.],\n",
              "       [0., 0., 1.],\n",
              "       [0., 0., 1.],\n",
              "       [0., 0., 1.],\n",
              "       [0., 0., 1.],\n",
              "       [0., 0., 1.],\n",
              "       [0., 0., 1.],\n",
              "       [0., 0., 1.],\n",
              "       [0., 0., 1.],\n",
              "       [0., 0., 1.],\n",
              "       [0., 0., 1.],\n",
              "       [0., 0., 1.],\n",
              "       [0., 0., 1.],\n",
              "       [0., 0., 1.],\n",
              "       [0., 0., 1.],\n",
              "       [0., 0., 1.],\n",
              "       [0., 0., 1.],\n",
              "       [0., 0., 1.],\n",
              "       [0., 0., 1.],\n",
              "       [0., 0., 1.],\n",
              "       [0., 0., 1.],\n",
              "       [0., 0., 1.],\n",
              "       [0., 0., 1.],\n",
              "       [0., 0., 1.],\n",
              "       [0., 0., 1.],\n",
              "       [0., 0., 1.],\n",
              "       [0., 0., 1.],\n",
              "       [0., 0., 1.],\n",
              "       [0., 0., 1.],\n",
              "       [0., 0., 1.],\n",
              "       [0., 0., 1.],\n",
              "       [0., 0., 1.],\n",
              "       [0., 0., 1.],\n",
              "       [0., 0., 1.],\n",
              "       [0., 0., 1.],\n",
              "       [0., 0., 1.],\n",
              "       [0., 0., 1.],\n",
              "       [0., 0., 1.],\n",
              "       [0., 0., 1.],\n",
              "       [0., 0., 1.],\n",
              "       [0., 0., 1.],\n",
              "       [0., 0., 1.],\n",
              "       [0., 0., 1.],\n",
              "       [0., 0., 1.],\n",
              "       [0., 0., 1.],\n",
              "       [0., 0., 1.]])"
            ]
          },
          "metadata": {},
          "execution_count": 8
        }
      ]
    },
    {
      "cell_type": "code",
      "source": [
        "X_train,X_test,y_train,y_test=train_test_split(X,y,test_size=0.2,random_state=42)"
      ],
      "metadata": {
        "id": "Uzvj8q_QElNg"
      },
      "execution_count": null,
      "outputs": []
    },
    {
      "cell_type": "code",
      "source": [
        "scaler=StandardScaler()\n",
        "X_train=scaler.fit_transform(X_train)\n",
        "X_test=scaler.transform(X_test)"
      ],
      "metadata": {
        "id": "2xY7PcoTE32Y"
      },
      "execution_count": null,
      "outputs": []
    },
    {
      "cell_type": "code",
      "source": [
        "X_train.shape[1]"
      ],
      "metadata": {
        "colab": {
          "base_uri": "https://localhost:8080/"
        },
        "id": "Mcy3TT5eFtYd",
        "outputId": "ecbe6c44-79cc-4f48-bd43-69f2cb206a22"
      },
      "execution_count": null,
      "outputs": [
        {
          "output_type": "execute_result",
          "data": {
            "text/plain": [
              "4"
            ]
          },
          "metadata": {},
          "execution_count": 10
        }
      ]
    },
    {
      "cell_type": "code",
      "source": [
        "model=Sequential()\n",
        "model.add(Dense(10,activation='relu',input_shape=(X_train.shape[1],)))\n",
        "model.add(Dense(5,activation='relu'))\n",
        "model.add(Dense(3,activation='softmax'))"
      ],
      "metadata": {
        "colab": {
          "base_uri": "https://localhost:8080/"
        },
        "id": "OWRRanHLFkhS",
        "outputId": "46a19220-48c6-4528-a020-5a7a6a8bb281"
      },
      "execution_count": null,
      "outputs": [
        {
          "output_type": "stream",
          "name": "stderr",
          "text": [
            "/usr/local/lib/python3.10/dist-packages/keras/src/layers/core/dense.py:87: UserWarning: Do not pass an `input_shape`/`input_dim` argument to a layer. When using Sequential models, prefer using an `Input(shape)` object as the first layer in the model instead.\n",
            "  super().__init__(activity_regularizer=activity_regularizer, **kwargs)\n"
          ]
        }
      ]
    },
    {
      "cell_type": "code",
      "source": [
        "model.compile(optimizer='adam',loss='categorical_crossentropy',metrics=['accuracy'])"
      ],
      "metadata": {
        "id": "gJH-1mgjGTxR"
      },
      "execution_count": null,
      "outputs": []
    },
    {
      "cell_type": "code",
      "source": [
        "model.fit(X_train,y_train,epochs=50,batch_size=32,validation_split=0.2)"
      ],
      "metadata": {
        "colab": {
          "base_uri": "https://localhost:8080/"
        },
        "id": "df8_Z5wrGkXc",
        "outputId": "93fc54b6-be80-478d-d5be-b43abc5e236b"
      },
      "execution_count": null,
      "outputs": [
        {
          "output_type": "stream",
          "name": "stdout",
          "text": [
            "Epoch 1/50\n",
            "\u001b[1m4/4\u001b[0m \u001b[32m━━━━━━━━━━━━━━━━━━━━\u001b[0m\u001b[37m\u001b[0m \u001b[1m2s\u001b[0m 114ms/step - accuracy: 0.3129 - loss: 1.1722 - val_accuracy: 0.2000 - val_loss: 1.0640\n",
            "Epoch 2/50\n",
            "\u001b[1m4/4\u001b[0m \u001b[32m━━━━━━━━━━━━━━━━━━━━\u001b[0m\u001b[37m\u001b[0m \u001b[1m0s\u001b[0m 16ms/step - accuracy: 0.2242 - loss: 1.1044 - val_accuracy: 0.2333 - val_loss: 1.0550\n",
            "Epoch 3/50\n",
            "\u001b[1m4/4\u001b[0m \u001b[32m━━━━━━━━━━━━━━━━━━━━\u001b[0m\u001b[37m\u001b[0m \u001b[1m0s\u001b[0m 17ms/step - accuracy: 0.2321 - loss: 1.1342 - val_accuracy: 0.4000 - val_loss: 1.0469\n",
            "Epoch 4/50\n",
            "\u001b[1m4/4\u001b[0m \u001b[32m━━━━━━━━━━━━━━━━━━━━\u001b[0m\u001b[37m\u001b[0m \u001b[1m0s\u001b[0m 19ms/step - accuracy: 0.2637 - loss: 1.1356 - val_accuracy: 0.4667 - val_loss: 1.0395\n",
            "Epoch 5/50\n",
            "\u001b[1m4/4\u001b[0m \u001b[32m━━━━━━━━━━━━━━━━━━━━\u001b[0m\u001b[37m\u001b[0m \u001b[1m0s\u001b[0m 23ms/step - accuracy: 0.2719 - loss: 1.0681 - val_accuracy: 0.4667 - val_loss: 1.0331\n",
            "Epoch 6/50\n",
            "\u001b[1m4/4\u001b[0m \u001b[32m━━━━━━━━━━━━━━━━━━━━\u001b[0m\u001b[37m\u001b[0m \u001b[1m0s\u001b[0m 17ms/step - accuracy: 0.3179 - loss: 1.1140 - val_accuracy: 0.4667 - val_loss: 1.0269\n",
            "Epoch 7/50\n",
            "\u001b[1m4/4\u001b[0m \u001b[32m━━━━━━━━━━━━━━━━━━━━\u001b[0m\u001b[37m\u001b[0m \u001b[1m0s\u001b[0m 24ms/step - accuracy: 0.3469 - loss: 1.1031 - val_accuracy: 0.5000 - val_loss: 1.0206\n",
            "Epoch 8/50\n",
            "\u001b[1m4/4\u001b[0m \u001b[32m━━━━━━━━━━━━━━━━━━━━\u001b[0m\u001b[37m\u001b[0m \u001b[1m0s\u001b[0m 16ms/step - accuracy: 0.3523 - loss: 1.0726 - val_accuracy: 0.5000 - val_loss: 1.0146\n",
            "Epoch 9/50\n",
            "\u001b[1m4/4\u001b[0m \u001b[32m━━━━━━━━━━━━━━━━━━━━\u001b[0m\u001b[37m\u001b[0m \u001b[1m0s\u001b[0m 24ms/step - accuracy: 0.3140 - loss: 1.0701 - val_accuracy: 0.5333 - val_loss: 1.0089\n",
            "Epoch 10/50\n",
            "\u001b[1m4/4\u001b[0m \u001b[32m━━━━━━━━━━━━━━━━━━━━\u001b[0m\u001b[37m\u001b[0m \u001b[1m0s\u001b[0m 17ms/step - accuracy: 0.3346 - loss: 1.0344 - val_accuracy: 0.5333 - val_loss: 1.0029\n",
            "Epoch 11/50\n",
            "\u001b[1m4/4\u001b[0m \u001b[32m━━━━━━━━━━━━━━━━━━━━\u001b[0m\u001b[37m\u001b[0m \u001b[1m0s\u001b[0m 17ms/step - accuracy: 0.4031 - loss: 1.0246 - val_accuracy: 0.5333 - val_loss: 0.9969\n",
            "Epoch 12/50\n",
            "\u001b[1m4/4\u001b[0m \u001b[32m━━━━━━━━━━━━━━━━━━━━\u001b[0m\u001b[37m\u001b[0m \u001b[1m0s\u001b[0m 20ms/step - accuracy: 0.4119 - loss: 1.0368 - val_accuracy: 0.5333 - val_loss: 0.9907\n",
            "Epoch 13/50\n",
            "\u001b[1m4/4\u001b[0m \u001b[32m━━━━━━━━━━━━━━━━━━━━\u001b[0m\u001b[37m\u001b[0m \u001b[1m0s\u001b[0m 17ms/step - accuracy: 0.3006 - loss: 1.0277 - val_accuracy: 0.5333 - val_loss: 0.9845\n",
            "Epoch 14/50\n",
            "\u001b[1m4/4\u001b[0m \u001b[32m━━━━━━━━━━━━━━━━━━━━\u001b[0m\u001b[37m\u001b[0m \u001b[1m0s\u001b[0m 20ms/step - accuracy: 0.3948 - loss: 1.0206 - val_accuracy: 0.5333 - val_loss: 0.9788\n",
            "Epoch 15/50\n",
            "\u001b[1m4/4\u001b[0m \u001b[32m━━━━━━━━━━━━━━━━━━━━\u001b[0m\u001b[37m\u001b[0m \u001b[1m0s\u001b[0m 25ms/step - accuracy: 0.3552 - loss: 1.0485 - val_accuracy: 0.5333 - val_loss: 0.9726\n",
            "Epoch 16/50\n",
            "\u001b[1m4/4\u001b[0m \u001b[32m━━━━━━━━━━━━━━━━━━━━\u001b[0m\u001b[37m\u001b[0m \u001b[1m0s\u001b[0m 12ms/step - accuracy: 0.3890 - loss: 1.0552 - val_accuracy: 0.5333 - val_loss: 0.9669\n",
            "Epoch 17/50\n",
            "\u001b[1m4/4\u001b[0m \u001b[32m━━━━━━━━━━━━━━━━━━━━\u001b[0m\u001b[37m\u001b[0m \u001b[1m0s\u001b[0m 12ms/step - accuracy: 0.4010 - loss: 1.0333 - val_accuracy: 0.5333 - val_loss: 0.9614\n",
            "Epoch 18/50\n",
            "\u001b[1m4/4\u001b[0m \u001b[32m━━━━━━━━━━━━━━━━━━━━\u001b[0m\u001b[37m\u001b[0m \u001b[1m0s\u001b[0m 12ms/step - accuracy: 0.3773 - loss: 1.0424 - val_accuracy: 0.5333 - val_loss: 0.9555\n",
            "Epoch 19/50\n",
            "\u001b[1m4/4\u001b[0m \u001b[32m━━━━━━━━━━━━━━━━━━━━\u001b[0m\u001b[37m\u001b[0m \u001b[1m0s\u001b[0m 15ms/step - accuracy: 0.3656 - loss: 1.0298 - val_accuracy: 0.5333 - val_loss: 0.9499\n",
            "Epoch 20/50\n",
            "\u001b[1m4/4\u001b[0m \u001b[32m━━━━━━━━━━━━━━━━━━━━\u001b[0m\u001b[37m\u001b[0m \u001b[1m0s\u001b[0m 11ms/step - accuracy: 0.4381 - loss: 1.0046 - val_accuracy: 0.5333 - val_loss: 0.9436\n",
            "Epoch 21/50\n",
            "\u001b[1m4/4\u001b[0m \u001b[32m━━━━━━━━━━━━━━━━━━━━\u001b[0m\u001b[37m\u001b[0m \u001b[1m0s\u001b[0m 12ms/step - accuracy: 0.4402 - loss: 1.0081 - val_accuracy: 0.5333 - val_loss: 0.9374\n",
            "Epoch 22/50\n",
            "\u001b[1m4/4\u001b[0m \u001b[32m━━━━━━━━━━━━━━━━━━━━\u001b[0m\u001b[37m\u001b[0m \u001b[1m0s\u001b[0m 19ms/step - accuracy: 0.4508 - loss: 0.9876 - val_accuracy: 0.5333 - val_loss: 0.9312\n",
            "Epoch 23/50\n",
            "\u001b[1m4/4\u001b[0m \u001b[32m━━━━━━━━━━━━━━━━━━━━\u001b[0m\u001b[37m\u001b[0m \u001b[1m0s\u001b[0m 12ms/step - accuracy: 0.3944 - loss: 1.0152 - val_accuracy: 0.5333 - val_loss: 0.9251\n",
            "Epoch 24/50\n",
            "\u001b[1m4/4\u001b[0m \u001b[32m━━━━━━━━━━━━━━━━━━━━\u001b[0m\u001b[37m\u001b[0m \u001b[1m0s\u001b[0m 12ms/step - accuracy: 0.3929 - loss: 0.9555 - val_accuracy: 0.5333 - val_loss: 0.9187\n",
            "Epoch 25/50\n",
            "\u001b[1m4/4\u001b[0m \u001b[32m━━━━━━━━━━━━━━━━━━━━\u001b[0m\u001b[37m\u001b[0m \u001b[1m0s\u001b[0m 12ms/step - accuracy: 0.4787 - loss: 0.9930 - val_accuracy: 0.5333 - val_loss: 0.9120\n",
            "Epoch 26/50\n",
            "\u001b[1m4/4\u001b[0m \u001b[32m━━━━━━━━━━━━━━━━━━━━\u001b[0m\u001b[37m\u001b[0m \u001b[1m0s\u001b[0m 21ms/step - accuracy: 0.4321 - loss: 0.9628 - val_accuracy: 0.5333 - val_loss: 0.9057\n",
            "Epoch 27/50\n",
            "\u001b[1m4/4\u001b[0m \u001b[32m━━━━━━━━━━━━━━━━━━━━\u001b[0m\u001b[37m\u001b[0m \u001b[1m0s\u001b[0m 15ms/step - accuracy: 0.4544 - loss: 0.9803 - val_accuracy: 0.5333 - val_loss: 0.8998\n",
            "Epoch 28/50\n",
            "\u001b[1m4/4\u001b[0m \u001b[32m━━━━━━━━━━━━━━━━━━━━\u001b[0m\u001b[37m\u001b[0m \u001b[1m0s\u001b[0m 12ms/step - accuracy: 0.4317 - loss: 1.0102 - val_accuracy: 0.5333 - val_loss: 0.8944\n",
            "Epoch 29/50\n",
            "\u001b[1m4/4\u001b[0m \u001b[32m━━━━━━━━━━━━━━━━━━━━\u001b[0m\u001b[37m\u001b[0m \u001b[1m0s\u001b[0m 11ms/step - accuracy: 0.3971 - loss: 1.0047 - val_accuracy: 0.5333 - val_loss: 0.8889\n",
            "Epoch 30/50\n",
            "\u001b[1m4/4\u001b[0m \u001b[32m━━━━━━━━━━━━━━━━━━━━\u001b[0m\u001b[37m\u001b[0m \u001b[1m0s\u001b[0m 12ms/step - accuracy: 0.4071 - loss: 0.9713 - val_accuracy: 0.5333 - val_loss: 0.8837\n",
            "Epoch 31/50\n",
            "\u001b[1m4/4\u001b[0m \u001b[32m━━━━━━━━━━━━━━━━━━━━\u001b[0m\u001b[37m\u001b[0m \u001b[1m0s\u001b[0m 11ms/step - accuracy: 0.4460 - loss: 0.9800 - val_accuracy: 0.5333 - val_loss: 0.8776\n",
            "Epoch 32/50\n",
            "\u001b[1m4/4\u001b[0m \u001b[32m━━━━━━━━━━━━━━━━━━━━\u001b[0m\u001b[37m\u001b[0m \u001b[1m0s\u001b[0m 11ms/step - accuracy: 0.4148 - loss: 0.9708 - val_accuracy: 0.5333 - val_loss: 0.8715\n",
            "Epoch 33/50\n",
            "\u001b[1m4/4\u001b[0m \u001b[32m━━━━━━━━━━━━━━━━━━━━\u001b[0m\u001b[37m\u001b[0m \u001b[1m0s\u001b[0m 12ms/step - accuracy: 0.3973 - loss: 0.9808 - val_accuracy: 0.5333 - val_loss: 0.8662\n",
            "Epoch 34/50\n",
            "\u001b[1m4/4\u001b[0m \u001b[32m━━━━━━━━━━━━━━━━━━━━\u001b[0m\u001b[37m\u001b[0m \u001b[1m0s\u001b[0m 11ms/step - accuracy: 0.3856 - loss: 1.0003 - val_accuracy: 0.5333 - val_loss: 0.8612\n",
            "Epoch 35/50\n",
            "\u001b[1m4/4\u001b[0m \u001b[32m━━━━━━━━━━━━━━━━━━━━\u001b[0m\u001b[37m\u001b[0m \u001b[1m0s\u001b[0m 11ms/step - accuracy: 0.4558 - loss: 0.9029 - val_accuracy: 0.5333 - val_loss: 0.8558\n",
            "Epoch 36/50\n",
            "\u001b[1m4/4\u001b[0m \u001b[32m━━━━━━━━━━━━━━━━━━━━\u001b[0m\u001b[37m\u001b[0m \u001b[1m0s\u001b[0m 12ms/step - accuracy: 0.4217 - loss: 0.9745 - val_accuracy: 0.5333 - val_loss: 0.8505\n",
            "Epoch 37/50\n",
            "\u001b[1m4/4\u001b[0m \u001b[32m━━━━━━━━━━━━━━━━━━━━\u001b[0m\u001b[37m\u001b[0m \u001b[1m0s\u001b[0m 14ms/step - accuracy: 0.4808 - loss: 0.8827 - val_accuracy: 0.5333 - val_loss: 0.8450\n",
            "Epoch 38/50\n",
            "\u001b[1m4/4\u001b[0m \u001b[32m━━━━━━━━━━━━━━━━━━━━\u001b[0m\u001b[37m\u001b[0m \u001b[1m0s\u001b[0m 15ms/step - accuracy: 0.4802 - loss: 0.8956 - val_accuracy: 0.5333 - val_loss: 0.8393\n",
            "Epoch 39/50\n",
            "\u001b[1m4/4\u001b[0m \u001b[32m━━━━━━━━━━━━━━━━━━━━\u001b[0m\u001b[37m\u001b[0m \u001b[1m0s\u001b[0m 13ms/step - accuracy: 0.4573 - loss: 0.9404 - val_accuracy: 0.5333 - val_loss: 0.8335\n",
            "Epoch 40/50\n",
            "\u001b[1m4/4\u001b[0m \u001b[32m━━━━━━━━━━━━━━━━━━━━\u001b[0m\u001b[37m\u001b[0m \u001b[1m0s\u001b[0m 11ms/step - accuracy: 0.4363 - loss: 0.9468 - val_accuracy: 0.5333 - val_loss: 0.8277\n",
            "Epoch 41/50\n",
            "\u001b[1m4/4\u001b[0m \u001b[32m━━━━━━━━━━━━━━━━━━━━\u001b[0m\u001b[37m\u001b[0m \u001b[1m0s\u001b[0m 11ms/step - accuracy: 0.5410 - loss: 0.9126 - val_accuracy: 0.5333 - val_loss: 0.8220\n",
            "Epoch 42/50\n",
            "\u001b[1m4/4\u001b[0m \u001b[32m━━━━━━━━━━━━━━━━━━━━\u001b[0m\u001b[37m\u001b[0m \u001b[1m0s\u001b[0m 12ms/step - accuracy: 0.4079 - loss: 0.9458 - val_accuracy: 0.5333 - val_loss: 0.8165\n",
            "Epoch 43/50\n",
            "\u001b[1m4/4\u001b[0m \u001b[32m━━━━━━━━━━━━━━━━━━━━\u001b[0m\u001b[37m\u001b[0m \u001b[1m0s\u001b[0m 19ms/step - accuracy: 0.4333 - loss: 0.9433 - val_accuracy: 0.5667 - val_loss: 0.8105\n",
            "Epoch 44/50\n",
            "\u001b[1m4/4\u001b[0m \u001b[32m━━━━━━━━━━━━━━━━━━━━\u001b[0m\u001b[37m\u001b[0m \u001b[1m0s\u001b[0m 12ms/step - accuracy: 0.5154 - loss: 0.9033 - val_accuracy: 0.6333 - val_loss: 0.8046\n",
            "Epoch 45/50\n",
            "\u001b[1m4/4\u001b[0m \u001b[32m━━━━━━━━━━━━━━━━━━━━\u001b[0m\u001b[37m\u001b[0m \u001b[1m0s\u001b[0m 12ms/step - accuracy: 0.4554 - loss: 0.9164 - val_accuracy: 0.6333 - val_loss: 0.7983\n",
            "Epoch 46/50\n",
            "\u001b[1m4/4\u001b[0m \u001b[32m━━━━━━━━━━━━━━━━━━━━\u001b[0m\u001b[37m\u001b[0m \u001b[1m0s\u001b[0m 12ms/step - accuracy: 0.4444 - loss: 0.9125 - val_accuracy: 0.6667 - val_loss: 0.7917\n",
            "Epoch 47/50\n",
            "\u001b[1m4/4\u001b[0m \u001b[32m━━━━━━━━━━━━━━━━━━━━\u001b[0m\u001b[37m\u001b[0m \u001b[1m0s\u001b[0m 12ms/step - accuracy: 0.4810 - loss: 0.9013 - val_accuracy: 0.6667 - val_loss: 0.7849\n",
            "Epoch 48/50\n",
            "\u001b[1m4/4\u001b[0m \u001b[32m━━━━━━━━━━━━━━━━━━━━\u001b[0m\u001b[37m\u001b[0m \u001b[1m0s\u001b[0m 13ms/step - accuracy: 0.5158 - loss: 0.9290 - val_accuracy: 0.6667 - val_loss: 0.7784\n",
            "Epoch 49/50\n",
            "\u001b[1m4/4\u001b[0m \u001b[32m━━━━━━━━━━━━━━━━━━━━\u001b[0m\u001b[37m\u001b[0m \u001b[1m0s\u001b[0m 16ms/step - accuracy: 0.5202 - loss: 0.9349 - val_accuracy: 0.7000 - val_loss: 0.7730\n",
            "Epoch 50/50\n",
            "\u001b[1m4/4\u001b[0m \u001b[32m━━━━━━━━━━━━━━━━━━━━\u001b[0m\u001b[37m\u001b[0m \u001b[1m0s\u001b[0m 11ms/step - accuracy: 0.4512 - loss: 0.9039 - val_accuracy: 0.8667 - val_loss: 0.7675\n"
          ]
        },
        {
          "output_type": "execute_result",
          "data": {
            "text/plain": [
              "<keras.src.callbacks.history.History at 0x7b1d44063bb0>"
            ]
          },
          "metadata": {},
          "execution_count": 13
        }
      ]
    },
    {
      "cell_type": "code",
      "source": [
        "test_loss,test_acc=model.evaluate(X_test,y_test)"
      ],
      "metadata": {
        "colab": {
          "base_uri": "https://localhost:8080/"
        },
        "id": "HVBFnnkyHaDm",
        "outputId": "5dd207a9-c0a9-4fdb-c7b6-c6c7ffd8288a"
      },
      "execution_count": null,
      "outputs": [
        {
          "output_type": "stream",
          "name": "stdout",
          "text": [
            "\u001b[1m1/1\u001b[0m \u001b[32m━━━━━━━━━━━━━━━━━━━━\u001b[0m\u001b[37m\u001b[0m \u001b[1m0s\u001b[0m 39ms/step - accuracy: 0.8667 - loss: 0.7675\n"
          ]
        }
      ]
    },
    {
      "cell_type": "code",
      "source": [
        "import numpy as np\n",
        "import tensorflow as tf\n",
        "from tensorflow.keras.layers import Input, Dense\n",
        "from tensorflow.keras.models import Model\n",
        "from sklearn.datasets import load_iris\n",
        "from sklearn.model_selection import train_test_split\n",
        "from sklearn.preprocessing import StandardScaler\n",
        "from sklearn.preprocessing import OneHotEncoder\n",
        "from sklearn.compose import ColumnTransformer\n",
        "\n",
        "# Set random seed for reproducibility\n",
        "np.random.seed(0)\n",
        "tf.random.set_seed(0)\n",
        "\n",
        "# Load Iris dataset\n",
        "iris = load_iris()\n",
        "X = iris.data\n",
        "y = iris.target\n",
        "\n",
        "# Preprocess the data\n",
        "# Standardize features\n",
        "scaler = StandardScaler()\n",
        "X_scaled = scaler.fit_transform(X)\n",
        "\n",
        "# One-hot encode the labels\n",
        "encoder = OneHotEncoder(sparse=False)\n",
        "y_one_hot = encoder.fit_transform(y.reshape(-1, 1))\n",
        "\n",
        "# Split the dataset into training and test sets\n",
        "X_train, X_test, y_train, y_test = train_test_split(X_scaled, y_one_hot, test_size=0.2, random_state=0)\n",
        "\n",
        "# Define the model using the Functional API\n",
        "inputs = Input(shape=(X_train.shape[1],))\n",
        "x = Dense(64, activation='relu')(inputs)\n",
        "x = Dense(32, activation='relu')(x)\n",
        "outputs = Dense(y_train.shape[1], activation='softmax')(x)\n",
        "\n",
        "# Create the model\n",
        "model = Model(inputs=inputs, outputs=outputs)\n",
        "\n",
        "# Compile the model\n",
        "model.compile(optimizer='adam', loss='categorical_crossentropy', metrics=['accuracy'])\n",
        "\n",
        "# Train the model\n",
        "model.fit(X_train, y_train, epochs=30, batch_size=16, validation_data=(X_test, y_test))\n",
        "\n",
        "# Evaluate the model\n",
        "loss, accuracy = model.evaluate(X_test, y_test)\n",
        "print(f\"Test loss: {loss:.4f}\")\n",
        "print(f\"Test accuracy: {accuracy:.4f}\")\n",
        "\n",
        "# Print model summary\n",
        "model.summary()\n"
      ],
      "metadata": {
        "colab": {
          "base_uri": "https://localhost:8080/",
          "height": 1000
        },
        "id": "aG7dEbTKM0IC",
        "outputId": "3eb555eb-b249-4301-f4f4-73cd1eaf3ad9"
      },
      "execution_count": null,
      "outputs": [
        {
          "output_type": "stream",
          "name": "stderr",
          "text": [
            "/usr/local/lib/python3.10/dist-packages/sklearn/preprocessing/_encoders.py:975: FutureWarning: `sparse` was renamed to `sparse_output` in version 1.2 and will be removed in 1.4. `sparse_output` is ignored unless you leave `sparse` to its default value.\n",
            "  warnings.warn(\n"
          ]
        },
        {
          "output_type": "stream",
          "name": "stdout",
          "text": [
            "Epoch 1/30\n",
            "\u001b[1m6/6\u001b[0m \u001b[32m━━━━━━━━━━━━━━━━━━━━\u001b[0m\u001b[37m\u001b[0m \u001b[1m5s\u001b[0m 147ms/step - accuracy: 0.4528 - loss: 1.1342 - val_accuracy: 0.3750 - val_loss: 1.0472\n",
            "Epoch 2/30\n",
            "\u001b[1m6/6\u001b[0m \u001b[32m━━━━━━━━━━━━━━━━━━━━\u001b[0m\u001b[37m\u001b[0m \u001b[1m0s\u001b[0m 23ms/step - accuracy: 0.6243 - loss: 0.9613 - val_accuracy: 0.5833 - val_loss: 0.9279\n",
            "Epoch 3/30\n",
            "\u001b[1m6/6\u001b[0m \u001b[32m━━━━━━━━━━━━━━━━━━━━\u001b[0m\u001b[37m\u001b[0m \u001b[1m0s\u001b[0m 27ms/step - accuracy: 0.7716 - loss: 0.8128 - val_accuracy: 0.6250 - val_loss: 0.8260\n",
            "Epoch 4/30\n",
            "\u001b[1m6/6\u001b[0m \u001b[32m━━━━━━━━━━━━━━━━━━━━\u001b[0m\u001b[37m\u001b[0m \u001b[1m0s\u001b[0m 22ms/step - accuracy: 0.7949 - loss: 0.6908 - val_accuracy: 0.6250 - val_loss: 0.7467\n",
            "Epoch 5/30\n",
            "\u001b[1m6/6\u001b[0m \u001b[32m━━━━━━━━━━━━━━━━━━━━\u001b[0m\u001b[37m\u001b[0m \u001b[1m0s\u001b[0m 24ms/step - accuracy: 0.7949 - loss: 0.5993 - val_accuracy: 0.6250 - val_loss: 0.6872\n",
            "Epoch 6/30\n",
            "\u001b[1m6/6\u001b[0m \u001b[32m━━━━━━━━━━━━━━━━━━━━\u001b[0m\u001b[37m\u001b[0m \u001b[1m0s\u001b[0m 15ms/step - accuracy: 0.7949 - loss: 0.5351 - val_accuracy: 0.7083 - val_loss: 0.6415\n",
            "Epoch 7/30\n",
            "\u001b[1m6/6\u001b[0m \u001b[32m━━━━━━━━━━━━━━━━━━━━\u001b[0m\u001b[37m\u001b[0m \u001b[1m0s\u001b[0m 23ms/step - accuracy: 0.8079 - loss: 0.4874 - val_accuracy: 0.7083 - val_loss: 0.6023\n",
            "Epoch 8/30\n",
            "\u001b[1m6/6\u001b[0m \u001b[32m━━━━━━━━━━━━━━━━━━━━\u001b[0m\u001b[37m\u001b[0m \u001b[1m0s\u001b[0m 24ms/step - accuracy: 0.8079 - loss: 0.4505 - val_accuracy: 0.7500 - val_loss: 0.5663\n",
            "Epoch 9/30\n",
            "\u001b[1m6/6\u001b[0m \u001b[32m━━━━━━━━━━━━━━━━━━━━\u001b[0m\u001b[37m\u001b[0m \u001b[1m0s\u001b[0m 20ms/step - accuracy: 0.8049 - loss: 0.4202 - val_accuracy: 0.7500 - val_loss: 0.5311\n",
            "Epoch 10/30\n",
            "\u001b[1m6/6\u001b[0m \u001b[32m━━━━━━━━━━━━━━━━━━━━\u001b[0m\u001b[37m\u001b[0m \u001b[1m0s\u001b[0m 21ms/step - accuracy: 0.8119 - loss: 0.3942 - val_accuracy: 0.8333 - val_loss: 0.4977\n",
            "Epoch 11/30\n",
            "\u001b[1m6/6\u001b[0m \u001b[32m━━━━━━━━━━━━━━━━━━━━\u001b[0m\u001b[37m\u001b[0m \u001b[1m0s\u001b[0m 15ms/step - accuracy: 0.8382 - loss: 0.3713 - val_accuracy: 0.8333 - val_loss: 0.4684\n",
            "Epoch 12/30\n",
            "\u001b[1m6/6\u001b[0m \u001b[32m━━━━━━━━━━━━━━━━━━━━\u001b[0m\u001b[37m\u001b[0m \u001b[1m0s\u001b[0m 16ms/step - accuracy: 0.8616 - loss: 0.3511 - val_accuracy: 0.8333 - val_loss: 0.4430\n",
            "Epoch 13/30\n",
            "\u001b[1m6/6\u001b[0m \u001b[32m━━━━━━━━━━━━━━━━━━━━\u001b[0m\u001b[37m\u001b[0m \u001b[1m0s\u001b[0m 26ms/step - accuracy: 0.8546 - loss: 0.3332 - val_accuracy: 0.8333 - val_loss: 0.4211\n",
            "Epoch 14/30\n",
            "\u001b[1m6/6\u001b[0m \u001b[32m━━━━━━━━━━━━━━━━━━━━\u001b[0m\u001b[37m\u001b[0m \u001b[1m0s\u001b[0m 27ms/step - accuracy: 0.8546 - loss: 0.3170 - val_accuracy: 0.8333 - val_loss: 0.4026\n",
            "Epoch 15/30\n",
            "\u001b[1m6/6\u001b[0m \u001b[32m━━━━━━━━━━━━━━━━━━━━\u001b[0m\u001b[37m\u001b[0m \u001b[1m0s\u001b[0m 29ms/step - accuracy: 0.8690 - loss: 0.3023 - val_accuracy: 0.8333 - val_loss: 0.3856\n",
            "Epoch 16/30\n",
            "\u001b[1m6/6\u001b[0m \u001b[32m━━━━━━━━━━━━━━━━━━━━\u001b[0m\u001b[37m\u001b[0m \u001b[1m0s\u001b[0m 23ms/step - accuracy: 0.8690 - loss: 0.2886 - val_accuracy: 0.8750 - val_loss: 0.3696\n",
            "Epoch 17/30\n",
            "\u001b[1m6/6\u001b[0m \u001b[32m━━━━━━━━━━━━━━━━━━━━\u001b[0m\u001b[37m\u001b[0m \u001b[1m0s\u001b[0m 16ms/step - accuracy: 0.8738 - loss: 0.2756 - val_accuracy: 0.8750 - val_loss: 0.3541\n",
            "Epoch 18/30\n",
            "\u001b[1m6/6\u001b[0m \u001b[32m━━━━━━━━━━━━━━━━━━━━\u001b[0m\u001b[37m\u001b[0m \u001b[1m0s\u001b[0m 15ms/step - accuracy: 0.8808 - loss: 0.2630 - val_accuracy: 0.8750 - val_loss: 0.3393\n",
            "Epoch 19/30\n",
            "\u001b[1m6/6\u001b[0m \u001b[32m━━━━━━━━━━━━━━━━━━━━\u001b[0m\u001b[37m\u001b[0m \u001b[1m0s\u001b[0m 15ms/step - accuracy: 0.8878 - loss: 0.2510 - val_accuracy: 0.8750 - val_loss: 0.3250\n",
            "Epoch 20/30\n",
            "\u001b[1m6/6\u001b[0m \u001b[32m━━━━━━━━━━━━━━━━━━━━\u001b[0m\u001b[37m\u001b[0m \u001b[1m0s\u001b[0m 12ms/step - accuracy: 0.8908 - loss: 0.2394 - val_accuracy: 0.8750 - val_loss: 0.3115\n",
            "Epoch 21/30\n",
            "\u001b[1m6/6\u001b[0m \u001b[32m━━━━━━━━━━━━━━━━━━━━\u001b[0m\u001b[37m\u001b[0m \u001b[1m0s\u001b[0m 7ms/step - accuracy: 0.8908 - loss: 0.2282 - val_accuracy: 0.8750 - val_loss: 0.2989\n",
            "Epoch 22/30\n",
            "\u001b[1m6/6\u001b[0m \u001b[32m━━━━━━━━━━━━━━━━━━━━\u001b[0m\u001b[37m\u001b[0m \u001b[1m0s\u001b[0m 7ms/step - accuracy: 0.8908 - loss: 0.2172 - val_accuracy: 0.8750 - val_loss: 0.2874\n",
            "Epoch 23/30\n",
            "\u001b[1m6/6\u001b[0m \u001b[32m━━━━━━━━━━━━━━━━━━━━\u001b[0m\u001b[37m\u001b[0m \u001b[1m0s\u001b[0m 8ms/step - accuracy: 0.8908 - loss: 0.2063 - val_accuracy: 0.8750 - val_loss: 0.2769\n",
            "Epoch 24/30\n",
            "\u001b[1m6/6\u001b[0m \u001b[32m━━━━━━━━━━━━━━━━━━━━\u001b[0m\u001b[37m\u001b[0m \u001b[1m0s\u001b[0m 12ms/step - accuracy: 0.9007 - loss: 0.1957 - val_accuracy: 0.8750 - val_loss: 0.2675\n",
            "Epoch 25/30\n",
            "\u001b[1m6/6\u001b[0m \u001b[32m━━━━━━━━━━━━━━━━━━━━\u001b[0m\u001b[37m\u001b[0m \u001b[1m0s\u001b[0m 7ms/step - accuracy: 0.9241 - loss: 0.1856 - val_accuracy: 0.8750 - val_loss: 0.2590\n",
            "Epoch 26/30\n",
            "\u001b[1m6/6\u001b[0m \u001b[32m━━━━━━━━━━━━━━━━━━━━\u001b[0m\u001b[37m\u001b[0m \u001b[1m0s\u001b[0m 11ms/step - accuracy: 0.9475 - loss: 0.1757 - val_accuracy: 0.8750 - val_loss: 0.2513\n",
            "Epoch 27/30\n",
            "\u001b[1m6/6\u001b[0m \u001b[32m━━━━━━━━━━━━━━━━━━━━\u001b[0m\u001b[37m\u001b[0m \u001b[1m0s\u001b[0m 7ms/step - accuracy: 0.9619 - loss: 0.1663 - val_accuracy: 0.8750 - val_loss: 0.2444\n",
            "Epoch 28/30\n",
            "\u001b[1m6/6\u001b[0m \u001b[32m━━━━━━━━━━━━━━━━━━━━\u001b[0m\u001b[37m\u001b[0m \u001b[1m0s\u001b[0m 11ms/step - accuracy: 0.9619 - loss: 0.1574 - val_accuracy: 0.8750 - val_loss: 0.2382\n",
            "Epoch 29/30\n",
            "\u001b[1m6/6\u001b[0m \u001b[32m━━━━━━━━━━━━━━━━━━━━\u001b[0m\u001b[37m\u001b[0m \u001b[1m0s\u001b[0m 8ms/step - accuracy: 0.9619 - loss: 0.1490 - val_accuracy: 0.8750 - val_loss: 0.2323\n",
            "Epoch 30/30\n",
            "\u001b[1m6/6\u001b[0m \u001b[32m━━━━━━━━━━━━━━━━━━━━\u001b[0m\u001b[37m\u001b[0m \u001b[1m0s\u001b[0m 13ms/step - accuracy: 0.9619 - loss: 0.1411 - val_accuracy: 0.8750 - val_loss: 0.2266\n",
            "\u001b[1m1/1\u001b[0m \u001b[32m━━━━━━━━━━━━━━━━━━━━\u001b[0m\u001b[37m\u001b[0m \u001b[1m0s\u001b[0m 26ms/step - accuracy: 0.9667 - loss: 0.1897\n",
            "Test loss: 0.1897\n",
            "Test accuracy: 0.9667\n"
          ]
        },
        {
          "output_type": "display_data",
          "data": {
            "text/plain": [
              "\u001b[1mModel: \"functional\"\u001b[0m\n"
            ],
            "text/html": [
              "<pre style=\"white-space:pre;overflow-x:auto;line-height:normal;font-family:Menlo,'DejaVu Sans Mono',consolas,'Courier New',monospace\"><span style=\"font-weight: bold\">Model: \"functional\"</span>\n",
              "</pre>\n"
            ]
          },
          "metadata": {}
        },
        {
          "output_type": "display_data",
          "data": {
            "text/plain": [
              "┏━━━━━━━━━━━━━━━━━━━━━━━━━━━━━━━━━━━━━━┳━━━━━━━━━━━━━━━━━━━━━━━━━━━━━┳━━━━━━━━━━━━━━━━━┓\n",
              "┃\u001b[1m \u001b[0m\u001b[1mLayer (type)                        \u001b[0m\u001b[1m \u001b[0m┃\u001b[1m \u001b[0m\u001b[1mOutput Shape               \u001b[0m\u001b[1m \u001b[0m┃\u001b[1m \u001b[0m\u001b[1m        Param #\u001b[0m\u001b[1m \u001b[0m┃\n",
              "┡━━━━━━━━━━━━━━━━━━━━━━━━━━━━━━━━━━━━━━╇━━━━━━━━━━━━━━━━━━━━━━━━━━━━━╇━━━━━━━━━━━━━━━━━┩\n",
              "│ input_layer (\u001b[38;5;33mInputLayer\u001b[0m)             │ (\u001b[38;5;45mNone\u001b[0m, \u001b[38;5;34m4\u001b[0m)                   │               \u001b[38;5;34m0\u001b[0m │\n",
              "├──────────────────────────────────────┼─────────────────────────────┼─────────────────┤\n",
              "│ dense (\u001b[38;5;33mDense\u001b[0m)                        │ (\u001b[38;5;45mNone\u001b[0m, \u001b[38;5;34m64\u001b[0m)                  │             \u001b[38;5;34m320\u001b[0m │\n",
              "├──────────────────────────────────────┼─────────────────────────────┼─────────────────┤\n",
              "│ dense_1 (\u001b[38;5;33mDense\u001b[0m)                      │ (\u001b[38;5;45mNone\u001b[0m, \u001b[38;5;34m32\u001b[0m)                  │           \u001b[38;5;34m2,080\u001b[0m │\n",
              "├──────────────────────────────────────┼─────────────────────────────┼─────────────────┤\n",
              "│ dense_2 (\u001b[38;5;33mDense\u001b[0m)                      │ (\u001b[38;5;45mNone\u001b[0m, \u001b[38;5;34m3\u001b[0m)                   │              \u001b[38;5;34m99\u001b[0m │\n",
              "└──────────────────────────────────────┴─────────────────────────────┴─────────────────┘\n"
            ],
            "text/html": [
              "<pre style=\"white-space:pre;overflow-x:auto;line-height:normal;font-family:Menlo,'DejaVu Sans Mono',consolas,'Courier New',monospace\">┏━━━━━━━━━━━━━━━━━━━━━━━━━━━━━━━━━━━━━━┳━━━━━━━━━━━━━━━━━━━━━━━━━━━━━┳━━━━━━━━━━━━━━━━━┓\n",
              "┃<span style=\"font-weight: bold\"> Layer (type)                         </span>┃<span style=\"font-weight: bold\"> Output Shape                </span>┃<span style=\"font-weight: bold\">         Param # </span>┃\n",
              "┡━━━━━━━━━━━━━━━━━━━━━━━━━━━━━━━━━━━━━━╇━━━━━━━━━━━━━━━━━━━━━━━━━━━━━╇━━━━━━━━━━━━━━━━━┩\n",
              "│ input_layer (<span style=\"color: #0087ff; text-decoration-color: #0087ff\">InputLayer</span>)             │ (<span style=\"color: #00d7ff; text-decoration-color: #00d7ff\">None</span>, <span style=\"color: #00af00; text-decoration-color: #00af00\">4</span>)                   │               <span style=\"color: #00af00; text-decoration-color: #00af00\">0</span> │\n",
              "├──────────────────────────────────────┼─────────────────────────────┼─────────────────┤\n",
              "│ dense (<span style=\"color: #0087ff; text-decoration-color: #0087ff\">Dense</span>)                        │ (<span style=\"color: #00d7ff; text-decoration-color: #00d7ff\">None</span>, <span style=\"color: #00af00; text-decoration-color: #00af00\">64</span>)                  │             <span style=\"color: #00af00; text-decoration-color: #00af00\">320</span> │\n",
              "├──────────────────────────────────────┼─────────────────────────────┼─────────────────┤\n",
              "│ dense_1 (<span style=\"color: #0087ff; text-decoration-color: #0087ff\">Dense</span>)                      │ (<span style=\"color: #00d7ff; text-decoration-color: #00d7ff\">None</span>, <span style=\"color: #00af00; text-decoration-color: #00af00\">32</span>)                  │           <span style=\"color: #00af00; text-decoration-color: #00af00\">2,080</span> │\n",
              "├──────────────────────────────────────┼─────────────────────────────┼─────────────────┤\n",
              "│ dense_2 (<span style=\"color: #0087ff; text-decoration-color: #0087ff\">Dense</span>)                      │ (<span style=\"color: #00d7ff; text-decoration-color: #00d7ff\">None</span>, <span style=\"color: #00af00; text-decoration-color: #00af00\">3</span>)                   │              <span style=\"color: #00af00; text-decoration-color: #00af00\">99</span> │\n",
              "└──────────────────────────────────────┴─────────────────────────────┴─────────────────┘\n",
              "</pre>\n"
            ]
          },
          "metadata": {}
        },
        {
          "output_type": "display_data",
          "data": {
            "text/plain": [
              "\u001b[1m Total params: \u001b[0m\u001b[38;5;34m7,499\u001b[0m (29.30 KB)\n"
            ],
            "text/html": [
              "<pre style=\"white-space:pre;overflow-x:auto;line-height:normal;font-family:Menlo,'DejaVu Sans Mono',consolas,'Courier New',monospace\"><span style=\"font-weight: bold\"> Total params: </span><span style=\"color: #00af00; text-decoration-color: #00af00\">7,499</span> (29.30 KB)\n",
              "</pre>\n"
            ]
          },
          "metadata": {}
        },
        {
          "output_type": "display_data",
          "data": {
            "text/plain": [
              "\u001b[1m Trainable params: \u001b[0m\u001b[38;5;34m2,499\u001b[0m (9.76 KB)\n"
            ],
            "text/html": [
              "<pre style=\"white-space:pre;overflow-x:auto;line-height:normal;font-family:Menlo,'DejaVu Sans Mono',consolas,'Courier New',monospace\"><span style=\"font-weight: bold\"> Trainable params: </span><span style=\"color: #00af00; text-decoration-color: #00af00\">2,499</span> (9.76 KB)\n",
              "</pre>\n"
            ]
          },
          "metadata": {}
        },
        {
          "output_type": "display_data",
          "data": {
            "text/plain": [
              "\u001b[1m Non-trainable params: \u001b[0m\u001b[38;5;34m0\u001b[0m (0.00 B)\n"
            ],
            "text/html": [
              "<pre style=\"white-space:pre;overflow-x:auto;line-height:normal;font-family:Menlo,'DejaVu Sans Mono',consolas,'Courier New',monospace\"><span style=\"font-weight: bold\"> Non-trainable params: </span><span style=\"color: #00af00; text-decoration-color: #00af00\">0</span> (0.00 B)\n",
              "</pre>\n"
            ]
          },
          "metadata": {}
        },
        {
          "output_type": "display_data",
          "data": {
            "text/plain": [
              "\u001b[1m Optimizer params: \u001b[0m\u001b[38;5;34m5,000\u001b[0m (19.54 KB)\n"
            ],
            "text/html": [
              "<pre style=\"white-space:pre;overflow-x:auto;line-height:normal;font-family:Menlo,'DejaVu Sans Mono',consolas,'Courier New',monospace\"><span style=\"font-weight: bold\"> Optimizer params: </span><span style=\"color: #00af00; text-decoration-color: #00af00\">5,000</span> (19.54 KB)\n",
              "</pre>\n"
            ]
          },
          "metadata": {}
        }
      ]
    },
    {
      "cell_type": "code",
      "source": [],
      "metadata": {
        "id": "tmjqeTGyNzCa"
      },
      "execution_count": null,
      "outputs": []
    },
    {
      "cell_type": "code",
      "execution_count": null,
      "metadata": {
        "id": "Vft2mdLXOAV2"
      },
      "outputs": [],
      "source": [
        "import tensorflow as tf\n",
        "from tensorflow.keras.models import Sequential\n",
        "from tensorflow.keras.layers import Dense\n",
        "from tensorflow.keras.utils import to_categorical\n",
        "from sklearn.datasets import load_iris\n",
        "from sklearn.model_selection import train_test_split\n",
        "from sklearn.preprocessing import StandardScaler"
      ]
    },
    {
      "cell_type": "code",
      "source": [
        "iris=load_iris()\n",
        "X=iris.data\n",
        "y=iris.target"
      ],
      "metadata": {
        "id": "8nAG--X-OAV4"
      },
      "execution_count": null,
      "outputs": []
    },
    {
      "cell_type": "code",
      "source": [
        "X"
      ],
      "metadata": {
        "colab": {
          "base_uri": "https://localhost:8080/"
        },
        "outputId": "772a306f-6ae2-4e9b-cc8e-473d952f9577",
        "collapsed": true,
        "id": "QbPnz7K-OAV5"
      },
      "execution_count": null,
      "outputs": [
        {
          "output_type": "execute_result",
          "data": {
            "text/plain": [
              "array([[5.1, 3.5, 1.4, 0.2],\n",
              "       [4.9, 3. , 1.4, 0.2],\n",
              "       [4.7, 3.2, 1.3, 0.2],\n",
              "       [4.6, 3.1, 1.5, 0.2],\n",
              "       [5. , 3.6, 1.4, 0.2],\n",
              "       [5.4, 3.9, 1.7, 0.4],\n",
              "       [4.6, 3.4, 1.4, 0.3],\n",
              "       [5. , 3.4, 1.5, 0.2],\n",
              "       [4.4, 2.9, 1.4, 0.2],\n",
              "       [4.9, 3.1, 1.5, 0.1],\n",
              "       [5.4, 3.7, 1.5, 0.2],\n",
              "       [4.8, 3.4, 1.6, 0.2],\n",
              "       [4.8, 3. , 1.4, 0.1],\n",
              "       [4.3, 3. , 1.1, 0.1],\n",
              "       [5.8, 4. , 1.2, 0.2],\n",
              "       [5.7, 4.4, 1.5, 0.4],\n",
              "       [5.4, 3.9, 1.3, 0.4],\n",
              "       [5.1, 3.5, 1.4, 0.3],\n",
              "       [5.7, 3.8, 1.7, 0.3],\n",
              "       [5.1, 3.8, 1.5, 0.3],\n",
              "       [5.4, 3.4, 1.7, 0.2],\n",
              "       [5.1, 3.7, 1.5, 0.4],\n",
              "       [4.6, 3.6, 1. , 0.2],\n",
              "       [5.1, 3.3, 1.7, 0.5],\n",
              "       [4.8, 3.4, 1.9, 0.2],\n",
              "       [5. , 3. , 1.6, 0.2],\n",
              "       [5. , 3.4, 1.6, 0.4],\n",
              "       [5.2, 3.5, 1.5, 0.2],\n",
              "       [5.2, 3.4, 1.4, 0.2],\n",
              "       [4.7, 3.2, 1.6, 0.2],\n",
              "       [4.8, 3.1, 1.6, 0.2],\n",
              "       [5.4, 3.4, 1.5, 0.4],\n",
              "       [5.2, 4.1, 1.5, 0.1],\n",
              "       [5.5, 4.2, 1.4, 0.2],\n",
              "       [4.9, 3.1, 1.5, 0.2],\n",
              "       [5. , 3.2, 1.2, 0.2],\n",
              "       [5.5, 3.5, 1.3, 0.2],\n",
              "       [4.9, 3.6, 1.4, 0.1],\n",
              "       [4.4, 3. , 1.3, 0.2],\n",
              "       [5.1, 3.4, 1.5, 0.2],\n",
              "       [5. , 3.5, 1.3, 0.3],\n",
              "       [4.5, 2.3, 1.3, 0.3],\n",
              "       [4.4, 3.2, 1.3, 0.2],\n",
              "       [5. , 3.5, 1.6, 0.6],\n",
              "       [5.1, 3.8, 1.9, 0.4],\n",
              "       [4.8, 3. , 1.4, 0.3],\n",
              "       [5.1, 3.8, 1.6, 0.2],\n",
              "       [4.6, 3.2, 1.4, 0.2],\n",
              "       [5.3, 3.7, 1.5, 0.2],\n",
              "       [5. , 3.3, 1.4, 0.2],\n",
              "       [7. , 3.2, 4.7, 1.4],\n",
              "       [6.4, 3.2, 4.5, 1.5],\n",
              "       [6.9, 3.1, 4.9, 1.5],\n",
              "       [5.5, 2.3, 4. , 1.3],\n",
              "       [6.5, 2.8, 4.6, 1.5],\n",
              "       [5.7, 2.8, 4.5, 1.3],\n",
              "       [6.3, 3.3, 4.7, 1.6],\n",
              "       [4.9, 2.4, 3.3, 1. ],\n",
              "       [6.6, 2.9, 4.6, 1.3],\n",
              "       [5.2, 2.7, 3.9, 1.4],\n",
              "       [5. , 2. , 3.5, 1. ],\n",
              "       [5.9, 3. , 4.2, 1.5],\n",
              "       [6. , 2.2, 4. , 1. ],\n",
              "       [6.1, 2.9, 4.7, 1.4],\n",
              "       [5.6, 2.9, 3.6, 1.3],\n",
              "       [6.7, 3.1, 4.4, 1.4],\n",
              "       [5.6, 3. , 4.5, 1.5],\n",
              "       [5.8, 2.7, 4.1, 1. ],\n",
              "       [6.2, 2.2, 4.5, 1.5],\n",
              "       [5.6, 2.5, 3.9, 1.1],\n",
              "       [5.9, 3.2, 4.8, 1.8],\n",
              "       [6.1, 2.8, 4. , 1.3],\n",
              "       [6.3, 2.5, 4.9, 1.5],\n",
              "       [6.1, 2.8, 4.7, 1.2],\n",
              "       [6.4, 2.9, 4.3, 1.3],\n",
              "       [6.6, 3. , 4.4, 1.4],\n",
              "       [6.8, 2.8, 4.8, 1.4],\n",
              "       [6.7, 3. , 5. , 1.7],\n",
              "       [6. , 2.9, 4.5, 1.5],\n",
              "       [5.7, 2.6, 3.5, 1. ],\n",
              "       [5.5, 2.4, 3.8, 1.1],\n",
              "       [5.5, 2.4, 3.7, 1. ],\n",
              "       [5.8, 2.7, 3.9, 1.2],\n",
              "       [6. , 2.7, 5.1, 1.6],\n",
              "       [5.4, 3. , 4.5, 1.5],\n",
              "       [6. , 3.4, 4.5, 1.6],\n",
              "       [6.7, 3.1, 4.7, 1.5],\n",
              "       [6.3, 2.3, 4.4, 1.3],\n",
              "       [5.6, 3. , 4.1, 1.3],\n",
              "       [5.5, 2.5, 4. , 1.3],\n",
              "       [5.5, 2.6, 4.4, 1.2],\n",
              "       [6.1, 3. , 4.6, 1.4],\n",
              "       [5.8, 2.6, 4. , 1.2],\n",
              "       [5. , 2.3, 3.3, 1. ],\n",
              "       [5.6, 2.7, 4.2, 1.3],\n",
              "       [5.7, 3. , 4.2, 1.2],\n",
              "       [5.7, 2.9, 4.2, 1.3],\n",
              "       [6.2, 2.9, 4.3, 1.3],\n",
              "       [5.1, 2.5, 3. , 1.1],\n",
              "       [5.7, 2.8, 4.1, 1.3],\n",
              "       [6.3, 3.3, 6. , 2.5],\n",
              "       [5.8, 2.7, 5.1, 1.9],\n",
              "       [7.1, 3. , 5.9, 2.1],\n",
              "       [6.3, 2.9, 5.6, 1.8],\n",
              "       [6.5, 3. , 5.8, 2.2],\n",
              "       [7.6, 3. , 6.6, 2.1],\n",
              "       [4.9, 2.5, 4.5, 1.7],\n",
              "       [7.3, 2.9, 6.3, 1.8],\n",
              "       [6.7, 2.5, 5.8, 1.8],\n",
              "       [7.2, 3.6, 6.1, 2.5],\n",
              "       [6.5, 3.2, 5.1, 2. ],\n",
              "       [6.4, 2.7, 5.3, 1.9],\n",
              "       [6.8, 3. , 5.5, 2.1],\n",
              "       [5.7, 2.5, 5. , 2. ],\n",
              "       [5.8, 2.8, 5.1, 2.4],\n",
              "       [6.4, 3.2, 5.3, 2.3],\n",
              "       [6.5, 3. , 5.5, 1.8],\n",
              "       [7.7, 3.8, 6.7, 2.2],\n",
              "       [7.7, 2.6, 6.9, 2.3],\n",
              "       [6. , 2.2, 5. , 1.5],\n",
              "       [6.9, 3.2, 5.7, 2.3],\n",
              "       [5.6, 2.8, 4.9, 2. ],\n",
              "       [7.7, 2.8, 6.7, 2. ],\n",
              "       [6.3, 2.7, 4.9, 1.8],\n",
              "       [6.7, 3.3, 5.7, 2.1],\n",
              "       [7.2, 3.2, 6. , 1.8],\n",
              "       [6.2, 2.8, 4.8, 1.8],\n",
              "       [6.1, 3. , 4.9, 1.8],\n",
              "       [6.4, 2.8, 5.6, 2.1],\n",
              "       [7.2, 3. , 5.8, 1.6],\n",
              "       [7.4, 2.8, 6.1, 1.9],\n",
              "       [7.9, 3.8, 6.4, 2. ],\n",
              "       [6.4, 2.8, 5.6, 2.2],\n",
              "       [6.3, 2.8, 5.1, 1.5],\n",
              "       [6.1, 2.6, 5.6, 1.4],\n",
              "       [7.7, 3. , 6.1, 2.3],\n",
              "       [6.3, 3.4, 5.6, 2.4],\n",
              "       [6.4, 3.1, 5.5, 1.8],\n",
              "       [6. , 3. , 4.8, 1.8],\n",
              "       [6.9, 3.1, 5.4, 2.1],\n",
              "       [6.7, 3.1, 5.6, 2.4],\n",
              "       [6.9, 3.1, 5.1, 2.3],\n",
              "       [5.8, 2.7, 5.1, 1.9],\n",
              "       [6.8, 3.2, 5.9, 2.3],\n",
              "       [6.7, 3.3, 5.7, 2.5],\n",
              "       [6.7, 3. , 5.2, 2.3],\n",
              "       [6.3, 2.5, 5. , 1.9],\n",
              "       [6.5, 3. , 5.2, 2. ],\n",
              "       [6.2, 3.4, 5.4, 2.3],\n",
              "       [5.9, 3. , 5.1, 1.8]])"
            ]
          },
          "metadata": {},
          "execution_count": 3
        }
      ]
    },
    {
      "cell_type": "code",
      "source": [
        "X.shape"
      ],
      "metadata": {
        "colab": {
          "base_uri": "https://localhost:8080/"
        },
        "collapsed": true,
        "id": "zYnz3x_vC39_",
        "outputId": "2ec2db47-398c-41ae-f07f-4d145b22ebe1"
      },
      "execution_count": null,
      "outputs": [
        {
          "output_type": "execute_result",
          "data": {
            "text/plain": [
              "(150, 4)"
            ]
          },
          "metadata": {},
          "execution_count": 5
        }
      ]
    },
    {
      "cell_type": "code",
      "source": [
        "y"
      ],
      "metadata": {
        "colab": {
          "base_uri": "https://localhost:8080/"
        },
        "outputId": "13a6cbd6-bee9-4aea-c4cc-ac799a4a1af2",
        "id": "B_R8czeROAV8"
      },
      "execution_count": null,
      "outputs": [
        {
          "output_type": "execute_result",
          "data": {
            "text/plain": [
              "array([0, 0, 0, 0, 0, 0, 0, 0, 0, 0, 0, 0, 0, 0, 0, 0, 0, 0, 0, 0, 0, 0,\n",
              "       0, 0, 0, 0, 0, 0, 0, 0, 0, 0, 0, 0, 0, 0, 0, 0, 0, 0, 0, 0, 0, 0,\n",
              "       0, 0, 0, 0, 0, 0, 1, 1, 1, 1, 1, 1, 1, 1, 1, 1, 1, 1, 1, 1, 1, 1,\n",
              "       1, 1, 1, 1, 1, 1, 1, 1, 1, 1, 1, 1, 1, 1, 1, 1, 1, 1, 1, 1, 1, 1,\n",
              "       1, 1, 1, 1, 1, 1, 1, 1, 1, 1, 1, 1, 2, 2, 2, 2, 2, 2, 2, 2, 2, 2,\n",
              "       2, 2, 2, 2, 2, 2, 2, 2, 2, 2, 2, 2, 2, 2, 2, 2, 2, 2, 2, 2, 2, 2,\n",
              "       2, 2, 2, 2, 2, 2, 2, 2, 2, 2, 2, 2, 2, 2, 2, 2, 2, 2])"
            ]
          },
          "metadata": {},
          "execution_count": 4
        }
      ]
    },
    {
      "cell_type": "code",
      "source": [
        "y=to_categorical(y,num_classes=3)"
      ],
      "metadata": {
        "id": "thHfHaqBOAV-"
      },
      "execution_count": null,
      "outputs": []
    },
    {
      "cell_type": "code",
      "source": [
        "y"
      ],
      "metadata": {
        "colab": {
          "base_uri": "https://localhost:8080/"
        },
        "outputId": "db5aa920-6c34-4830-9e94-54f88339bffc",
        "collapsed": true,
        "id": "m-nNowheOAV_"
      },
      "execution_count": null,
      "outputs": [
        {
          "output_type": "execute_result",
          "data": {
            "text/plain": [
              "array([[1., 0., 0.],\n",
              "       [1., 0., 0.],\n",
              "       [1., 0., 0.],\n",
              "       [1., 0., 0.],\n",
              "       [1., 0., 0.],\n",
              "       [1., 0., 0.],\n",
              "       [1., 0., 0.],\n",
              "       [1., 0., 0.],\n",
              "       [1., 0., 0.],\n",
              "       [1., 0., 0.],\n",
              "       [1., 0., 0.],\n",
              "       [1., 0., 0.],\n",
              "       [1., 0., 0.],\n",
              "       [1., 0., 0.],\n",
              "       [1., 0., 0.],\n",
              "       [1., 0., 0.],\n",
              "       [1., 0., 0.],\n",
              "       [1., 0., 0.],\n",
              "       [1., 0., 0.],\n",
              "       [1., 0., 0.],\n",
              "       [1., 0., 0.],\n",
              "       [1., 0., 0.],\n",
              "       [1., 0., 0.],\n",
              "       [1., 0., 0.],\n",
              "       [1., 0., 0.],\n",
              "       [1., 0., 0.],\n",
              "       [1., 0., 0.],\n",
              "       [1., 0., 0.],\n",
              "       [1., 0., 0.],\n",
              "       [1., 0., 0.],\n",
              "       [1., 0., 0.],\n",
              "       [1., 0., 0.],\n",
              "       [1., 0., 0.],\n",
              "       [1., 0., 0.],\n",
              "       [1., 0., 0.],\n",
              "       [1., 0., 0.],\n",
              "       [1., 0., 0.],\n",
              "       [1., 0., 0.],\n",
              "       [1., 0., 0.],\n",
              "       [1., 0., 0.],\n",
              "       [1., 0., 0.],\n",
              "       [1., 0., 0.],\n",
              "       [1., 0., 0.],\n",
              "       [1., 0., 0.],\n",
              "       [1., 0., 0.],\n",
              "       [1., 0., 0.],\n",
              "       [1., 0., 0.],\n",
              "       [1., 0., 0.],\n",
              "       [1., 0., 0.],\n",
              "       [1., 0., 0.],\n",
              "       [0., 1., 0.],\n",
              "       [0., 1., 0.],\n",
              "       [0., 1., 0.],\n",
              "       [0., 1., 0.],\n",
              "       [0., 1., 0.],\n",
              "       [0., 1., 0.],\n",
              "       [0., 1., 0.],\n",
              "       [0., 1., 0.],\n",
              "       [0., 1., 0.],\n",
              "       [0., 1., 0.],\n",
              "       [0., 1., 0.],\n",
              "       [0., 1., 0.],\n",
              "       [0., 1., 0.],\n",
              "       [0., 1., 0.],\n",
              "       [0., 1., 0.],\n",
              "       [0., 1., 0.],\n",
              "       [0., 1., 0.],\n",
              "       [0., 1., 0.],\n",
              "       [0., 1., 0.],\n",
              "       [0., 1., 0.],\n",
              "       [0., 1., 0.],\n",
              "       [0., 1., 0.],\n",
              "       [0., 1., 0.],\n",
              "       [0., 1., 0.],\n",
              "       [0., 1., 0.],\n",
              "       [0., 1., 0.],\n",
              "       [0., 1., 0.],\n",
              "       [0., 1., 0.],\n",
              "       [0., 1., 0.],\n",
              "       [0., 1., 0.],\n",
              "       [0., 1., 0.],\n",
              "       [0., 1., 0.],\n",
              "       [0., 1., 0.],\n",
              "       [0., 1., 0.],\n",
              "       [0., 1., 0.],\n",
              "       [0., 1., 0.],\n",
              "       [0., 1., 0.],\n",
              "       [0., 1., 0.],\n",
              "       [0., 1., 0.],\n",
              "       [0., 1., 0.],\n",
              "       [0., 1., 0.],\n",
              "       [0., 1., 0.],\n",
              "       [0., 1., 0.],\n",
              "       [0., 1., 0.],\n",
              "       [0., 1., 0.],\n",
              "       [0., 1., 0.],\n",
              "       [0., 1., 0.],\n",
              "       [0., 1., 0.],\n",
              "       [0., 1., 0.],\n",
              "       [0., 1., 0.],\n",
              "       [0., 0., 1.],\n",
              "       [0., 0., 1.],\n",
              "       [0., 0., 1.],\n",
              "       [0., 0., 1.],\n",
              "       [0., 0., 1.],\n",
              "       [0., 0., 1.],\n",
              "       [0., 0., 1.],\n",
              "       [0., 0., 1.],\n",
              "       [0., 0., 1.],\n",
              "       [0., 0., 1.],\n",
              "       [0., 0., 1.],\n",
              "       [0., 0., 1.],\n",
              "       [0., 0., 1.],\n",
              "       [0., 0., 1.],\n",
              "       [0., 0., 1.],\n",
              "       [0., 0., 1.],\n",
              "       [0., 0., 1.],\n",
              "       [0., 0., 1.],\n",
              "       [0., 0., 1.],\n",
              "       [0., 0., 1.],\n",
              "       [0., 0., 1.],\n",
              "       [0., 0., 1.],\n",
              "       [0., 0., 1.],\n",
              "       [0., 0., 1.],\n",
              "       [0., 0., 1.],\n",
              "       [0., 0., 1.],\n",
              "       [0., 0., 1.],\n",
              "       [0., 0., 1.],\n",
              "       [0., 0., 1.],\n",
              "       [0., 0., 1.],\n",
              "       [0., 0., 1.],\n",
              "       [0., 0., 1.],\n",
              "       [0., 0., 1.],\n",
              "       [0., 0., 1.],\n",
              "       [0., 0., 1.],\n",
              "       [0., 0., 1.],\n",
              "       [0., 0., 1.],\n",
              "       [0., 0., 1.],\n",
              "       [0., 0., 1.],\n",
              "       [0., 0., 1.],\n",
              "       [0., 0., 1.],\n",
              "       [0., 0., 1.],\n",
              "       [0., 0., 1.],\n",
              "       [0., 0., 1.],\n",
              "       [0., 0., 1.],\n",
              "       [0., 0., 1.],\n",
              "       [0., 0., 1.],\n",
              "       [0., 0., 1.],\n",
              "       [0., 0., 1.],\n",
              "       [0., 0., 1.]])"
            ]
          },
          "metadata": {},
          "execution_count": 7
        }
      ]
    },
    {
      "cell_type": "code",
      "source": [
        "X_train,X_test,y_train,y_test=train_test_split(X,y,test_size=0.2,random_state=42)"
      ],
      "metadata": {
        "id": "jlGOPH6XOAWB"
      },
      "execution_count": null,
      "outputs": []
    },
    {
      "cell_type": "code",
      "source": [
        "scaler=StandardScaler()\n",
        "X_train=scaler.fit_transform(X_train)\n",
        "X_test=scaler.transform(X_test)"
      ],
      "metadata": {
        "id": "BTkmGMLQOAWC"
      },
      "execution_count": null,
      "outputs": []
    },
    {
      "cell_type": "code",
      "source": [
        "X_train.shape[1]"
      ],
      "metadata": {
        "colab": {
          "base_uri": "https://localhost:8080/"
        },
        "outputId": "ecbe6c44-79cc-4f48-bd43-69f2cb206a22",
        "id": "YVh69AdqOAWD"
      },
      "execution_count": null,
      "outputs": [
        {
          "output_type": "execute_result",
          "data": {
            "text/plain": [
              "4"
            ]
          },
          "metadata": {},
          "execution_count": 10
        }
      ]
    },
    {
      "cell_type": "code",
      "source": [],
      "metadata": {
        "id": "Mnw_Q7R9MkxC"
      },
      "execution_count": null,
      "outputs": []
    },
    {
      "cell_type": "code",
      "source": [
        "reg1=keras.regularizers.L1(l1=0.0)\n",
        "reg2=keras.regularizers.L2(l2=0.01)"
      ],
      "metadata": {
        "id": "rwGf4mQMHTZD"
      },
      "execution_count": null,
      "outputs": []
    },
    {
      "cell_type": "code",
      "source": [
        "model=Sequential()\n",
        "model.add(Dense(10,activation='relu',input_shape=(X_train.shape[1],),kernel_regularizer='l1'))\n",
        "model.add(Dense(5,activation='relu',kernel_regularizer='l2'))\n",
        "model.add(Dense(3,activation='softmax'))"
      ],
      "metadata": {
        "colab": {
          "base_uri": "https://localhost:8080/"
        },
        "outputId": "b66072e8-647d-41bd-be94-960648b72c6a",
        "id": "57lvZ64IOAWF"
      },
      "execution_count": null,
      "outputs": [
        {
          "output_type": "stream",
          "name": "stderr",
          "text": [
            "/usr/local/lib/python3.10/dist-packages/keras/src/layers/core/dense.py:87: UserWarning: Do not pass an `input_shape`/`input_dim` argument to a layer. When using Sequential models, prefer using an `Input(shape)` object as the first layer in the model instead.\n",
            "  super().__init__(activity_regularizer=activity_regularizer, **kwargs)\n"
          ]
        }
      ]
    },
    {
      "cell_type": "code",
      "source": [
        "model.summary()"
      ],
      "metadata": {
        "colab": {
          "base_uri": "https://localhost:8080/",
          "height": 230
        },
        "id": "-WfreAa50Vz-",
        "outputId": "461e1fc6-3644-4115-9c7c-15046570632c"
      },
      "execution_count": null,
      "outputs": [
        {
          "output_type": "display_data",
          "data": {
            "text/plain": [
              "\u001b[1mModel: \"sequential_1\"\u001b[0m\n"
            ],
            "text/html": [
              "<pre style=\"white-space:pre;overflow-x:auto;line-height:normal;font-family:Menlo,'DejaVu Sans Mono',consolas,'Courier New',monospace\"><span style=\"font-weight: bold\">Model: \"sequential_1\"</span>\n",
              "</pre>\n"
            ]
          },
          "metadata": {}
        },
        {
          "output_type": "display_data",
          "data": {
            "text/plain": [
              "┏━━━━━━━━━━━━━━━━━━━━━━━━━━━━━━━━━━━━━━┳━━━━━━━━━━━━━━━━━━━━━━━━━━━━━┳━━━━━━━━━━━━━━━━━┓\n",
              "┃\u001b[1m \u001b[0m\u001b[1mLayer (type)                        \u001b[0m\u001b[1m \u001b[0m┃\u001b[1m \u001b[0m\u001b[1mOutput Shape               \u001b[0m\u001b[1m \u001b[0m┃\u001b[1m \u001b[0m\u001b[1m        Param #\u001b[0m\u001b[1m \u001b[0m┃\n",
              "┡━━━━━━━━━━━━━━━━━━━━━━━━━━━━━━━━━━━━━━╇━━━━━━━━━━━━━━━━━━━━━━━━━━━━━╇━━━━━━━━━━━━━━━━━┩\n",
              "│ dense_1 (\u001b[38;5;33mDense\u001b[0m)                      │ (\u001b[38;5;45mNone\u001b[0m, \u001b[38;5;34m10\u001b[0m)                  │              \u001b[38;5;34m50\u001b[0m │\n",
              "├──────────────────────────────────────┼─────────────────────────────┼─────────────────┤\n",
              "│ dense_2 (\u001b[38;5;33mDense\u001b[0m)                      │ (\u001b[38;5;45mNone\u001b[0m, \u001b[38;5;34m5\u001b[0m)                   │              \u001b[38;5;34m55\u001b[0m │\n",
              "├──────────────────────────────────────┼─────────────────────────────┼─────────────────┤\n",
              "│ dense_3 (\u001b[38;5;33mDense\u001b[0m)                      │ (\u001b[38;5;45mNone\u001b[0m, \u001b[38;5;34m3\u001b[0m)                   │              \u001b[38;5;34m18\u001b[0m │\n",
              "└──────────────────────────────────────┴─────────────────────────────┴─────────────────┘\n"
            ],
            "text/html": [
              "<pre style=\"white-space:pre;overflow-x:auto;line-height:normal;font-family:Menlo,'DejaVu Sans Mono',consolas,'Courier New',monospace\">┏━━━━━━━━━━━━━━━━━━━━━━━━━━━━━━━━━━━━━━┳━━━━━━━━━━━━━━━━━━━━━━━━━━━━━┳━━━━━━━━━━━━━━━━━┓\n",
              "┃<span style=\"font-weight: bold\"> Layer (type)                         </span>┃<span style=\"font-weight: bold\"> Output Shape                </span>┃<span style=\"font-weight: bold\">         Param # </span>┃\n",
              "┡━━━━━━━━━━━━━━━━━━━━━━━━━━━━━━━━━━━━━━╇━━━━━━━━━━━━━━━━━━━━━━━━━━━━━╇━━━━━━━━━━━━━━━━━┩\n",
              "│ dense_1 (<span style=\"color: #0087ff; text-decoration-color: #0087ff\">Dense</span>)                      │ (<span style=\"color: #00d7ff; text-decoration-color: #00d7ff\">None</span>, <span style=\"color: #00af00; text-decoration-color: #00af00\">10</span>)                  │              <span style=\"color: #00af00; text-decoration-color: #00af00\">50</span> │\n",
              "├──────────────────────────────────────┼─────────────────────────────┼─────────────────┤\n",
              "│ dense_2 (<span style=\"color: #0087ff; text-decoration-color: #0087ff\">Dense</span>)                      │ (<span style=\"color: #00d7ff; text-decoration-color: #00d7ff\">None</span>, <span style=\"color: #00af00; text-decoration-color: #00af00\">5</span>)                   │              <span style=\"color: #00af00; text-decoration-color: #00af00\">55</span> │\n",
              "├──────────────────────────────────────┼─────────────────────────────┼─────────────────┤\n",
              "│ dense_3 (<span style=\"color: #0087ff; text-decoration-color: #0087ff\">Dense</span>)                      │ (<span style=\"color: #00d7ff; text-decoration-color: #00d7ff\">None</span>, <span style=\"color: #00af00; text-decoration-color: #00af00\">3</span>)                   │              <span style=\"color: #00af00; text-decoration-color: #00af00\">18</span> │\n",
              "└──────────────────────────────────────┴─────────────────────────────┴─────────────────┘\n",
              "</pre>\n"
            ]
          },
          "metadata": {}
        },
        {
          "output_type": "display_data",
          "data": {
            "text/plain": [
              "\u001b[1m Total params: \u001b[0m\u001b[38;5;34m123\u001b[0m (492.00 B)\n"
            ],
            "text/html": [
              "<pre style=\"white-space:pre;overflow-x:auto;line-height:normal;font-family:Menlo,'DejaVu Sans Mono',consolas,'Courier New',monospace\"><span style=\"font-weight: bold\"> Total params: </span><span style=\"color: #00af00; text-decoration-color: #00af00\">123</span> (492.00 B)\n",
              "</pre>\n"
            ]
          },
          "metadata": {}
        },
        {
          "output_type": "display_data",
          "data": {
            "text/plain": [
              "\u001b[1m Trainable params: \u001b[0m\u001b[38;5;34m123\u001b[0m (492.00 B)\n"
            ],
            "text/html": [
              "<pre style=\"white-space:pre;overflow-x:auto;line-height:normal;font-family:Menlo,'DejaVu Sans Mono',consolas,'Courier New',monospace\"><span style=\"font-weight: bold\"> Trainable params: </span><span style=\"color: #00af00; text-decoration-color: #00af00\">123</span> (492.00 B)\n",
              "</pre>\n"
            ]
          },
          "metadata": {}
        },
        {
          "output_type": "display_data",
          "data": {
            "text/plain": [
              "\u001b[1m Non-trainable params: \u001b[0m\u001b[38;5;34m0\u001b[0m (0.00 B)\n"
            ],
            "text/html": [
              "<pre style=\"white-space:pre;overflow-x:auto;line-height:normal;font-family:Menlo,'DejaVu Sans Mono',consolas,'Courier New',monospace\"><span style=\"font-weight: bold\"> Non-trainable params: </span><span style=\"color: #00af00; text-decoration-color: #00af00\">0</span> (0.00 B)\n",
              "</pre>\n"
            ]
          },
          "metadata": {}
        }
      ]
    },
    {
      "cell_type": "code",
      "source": [
        "model.compile(optimizer='adam',loss='categorical_crossentropy',metrics=['accuracy'])"
      ],
      "metadata": {
        "id": "sm2VAAr4OAWI"
      },
      "execution_count": null,
      "outputs": []
    },
    {
      "cell_type": "code",
      "source": [
        "model.fit(X_train,y_train,epochs=20,batch_size=32,validation_data=(X_test,y_test))"
      ],
      "metadata": {
        "colab": {
          "base_uri": "https://localhost:8080/"
        },
        "outputId": "c8e96de0-0646-4a30-f022-c2c1cd87ec64",
        "id": "e9ZI6YzwOAWJ"
      },
      "execution_count": null,
      "outputs": [
        {
          "output_type": "stream",
          "name": "stdout",
          "text": [
            "Epoch 1/20\n",
            "\u001b[1m4/4\u001b[0m \u001b[32m━━━━━━━━━━━━━━━━━━━━\u001b[0m\u001b[37m\u001b[0m \u001b[1m0s\u001b[0m 62ms/step - accuracy: 0.8338 - loss: 0.6490 - val_accuracy: 0.8667 - val_loss: 0.5886\n",
            "Epoch 2/20\n",
            "\u001b[1m4/4\u001b[0m \u001b[32m━━━━━━━━━━━━━━━━━━━━\u001b[0m\u001b[37m\u001b[0m \u001b[1m0s\u001b[0m 24ms/step - accuracy: 0.8527 - loss: 0.6107 - val_accuracy: 0.8667 - val_loss: 0.5840\n",
            "Epoch 3/20\n",
            "\u001b[1m4/4\u001b[0m \u001b[32m━━━━━━━━━━━━━━━━━━━━\u001b[0m\u001b[37m\u001b[0m \u001b[1m0s\u001b[0m 25ms/step - accuracy: 0.8371 - loss: 0.6215 - val_accuracy: 0.8667 - val_loss: 0.5791\n",
            "Epoch 4/20\n",
            "\u001b[1m4/4\u001b[0m \u001b[32m━━━━━━━━━━━━━━━━━━━━\u001b[0m\u001b[37m\u001b[0m \u001b[1m0s\u001b[0m 40ms/step - accuracy: 0.8329 - loss: 0.6309 - val_accuracy: 0.8667 - val_loss: 0.5738\n",
            "Epoch 5/20\n",
            "\u001b[1m4/4\u001b[0m \u001b[32m━━━━━━━━━━━━━━━━━━━━\u001b[0m\u001b[37m\u001b[0m \u001b[1m0s\u001b[0m 24ms/step - accuracy: 0.8998 - loss: 0.5841 - val_accuracy: 0.8667 - val_loss: 0.5685\n",
            "Epoch 6/20\n",
            "\u001b[1m4/4\u001b[0m \u001b[32m━━━━━━━━━━━━━━━━━━━━\u001b[0m\u001b[37m\u001b[0m \u001b[1m0s\u001b[0m 16ms/step - accuracy: 0.8852 - loss: 0.5785 - val_accuracy: 0.8667 - val_loss: 0.5633\n",
            "Epoch 7/20\n",
            "\u001b[1m4/4\u001b[0m \u001b[32m━━━━━━━━━━━━━━━━━━━━\u001b[0m\u001b[37m\u001b[0m \u001b[1m0s\u001b[0m 20ms/step - accuracy: 0.8581 - loss: 0.6128 - val_accuracy: 0.8667 - val_loss: 0.5582\n",
            "Epoch 8/20\n",
            "\u001b[1m4/4\u001b[0m \u001b[32m━━━━━━━━━━━━━━━━━━━━\u001b[0m\u001b[37m\u001b[0m \u001b[1m0s\u001b[0m 42ms/step - accuracy: 0.8521 - loss: 0.5968 - val_accuracy: 0.8667 - val_loss: 0.5532\n",
            "Epoch 9/20\n",
            "\u001b[1m4/4\u001b[0m \u001b[32m━━━━━━━━━━━━━━━━━━━━\u001b[0m\u001b[37m\u001b[0m \u001b[1m0s\u001b[0m 37ms/step - accuracy: 0.8604 - loss: 0.6037 - val_accuracy: 0.8667 - val_loss: 0.5482\n",
            "Epoch 10/20\n",
            "\u001b[1m4/4\u001b[0m \u001b[32m━━━━━━━━━━━━━━━━━━━━\u001b[0m\u001b[37m\u001b[0m \u001b[1m0s\u001b[0m 25ms/step - accuracy: 0.8958 - loss: 0.5634 - val_accuracy: 0.8667 - val_loss: 0.5431\n",
            "Epoch 11/20\n",
            "\u001b[1m4/4\u001b[0m \u001b[32m━━━━━━━━━━━━━━━━━━━━\u001b[0m\u001b[37m\u001b[0m \u001b[1m0s\u001b[0m 36ms/step - accuracy: 0.8698 - loss: 0.6120 - val_accuracy: 0.8667 - val_loss: 0.5379\n",
            "Epoch 12/20\n",
            "\u001b[1m4/4\u001b[0m \u001b[32m━━━━━━━━━━━━━━━━━━━━\u001b[0m\u001b[37m\u001b[0m \u001b[1m0s\u001b[0m 34ms/step - accuracy: 0.8760 - loss: 0.5616 - val_accuracy: 0.9000 - val_loss: 0.5328\n",
            "Epoch 13/20\n",
            "\u001b[1m4/4\u001b[0m \u001b[32m━━━━━━━━━━━━━━━━━━━━\u001b[0m\u001b[37m\u001b[0m \u001b[1m0s\u001b[0m 16ms/step - accuracy: 0.8627 - loss: 0.5781 - val_accuracy: 0.9000 - val_loss: 0.5276\n",
            "Epoch 14/20\n",
            "\u001b[1m4/4\u001b[0m \u001b[32m━━━━━━━━━━━━━━━━━━━━\u001b[0m\u001b[37m\u001b[0m \u001b[1m0s\u001b[0m 39ms/step - accuracy: 0.8890 - loss: 0.5981 - val_accuracy: 0.9000 - val_loss: 0.5222\n",
            "Epoch 15/20\n",
            "\u001b[1m4/4\u001b[0m \u001b[32m━━━━━━━━━━━━━━━━━━━━\u001b[0m\u001b[37m\u001b[0m \u001b[1m0s\u001b[0m 52ms/step - accuracy: 0.8702 - loss: 0.5654 - val_accuracy: 0.9000 - val_loss: 0.5168\n",
            "Epoch 16/20\n",
            "\u001b[1m4/4\u001b[0m \u001b[32m━━━━━━━━━━━━━━━━━━━━\u001b[0m\u001b[37m\u001b[0m \u001b[1m0s\u001b[0m 12ms/step - accuracy: 0.8944 - loss: 0.5691 - val_accuracy: 0.9000 - val_loss: 0.5115\n",
            "Epoch 17/20\n",
            "\u001b[1m4/4\u001b[0m \u001b[32m━━━━━━━━━━━━━━━━━━━━\u001b[0m\u001b[37m\u001b[0m \u001b[1m0s\u001b[0m 11ms/step - accuracy: 0.9165 - loss: 0.5268 - val_accuracy: 0.9000 - val_loss: 0.5062\n",
            "Epoch 18/20\n",
            "\u001b[1m4/4\u001b[0m \u001b[32m━━━━━━━━━━━━━━━━━━━━\u001b[0m\u001b[37m\u001b[0m \u001b[1m0s\u001b[0m 12ms/step - accuracy: 0.9154 - loss: 0.5461 - val_accuracy: 0.9000 - val_loss: 0.5008\n",
            "Epoch 19/20\n",
            "\u001b[1m4/4\u001b[0m \u001b[32m━━━━━━━━━━━━━━━━━━━━\u001b[0m\u001b[37m\u001b[0m \u001b[1m0s\u001b[0m 13ms/step - accuracy: 0.8935 - loss: 0.5427 - val_accuracy: 0.9000 - val_loss: 0.4955\n",
            "Epoch 20/20\n",
            "\u001b[1m4/4\u001b[0m \u001b[32m━━━━━━━━━━━━━━━━━━━━\u001b[0m\u001b[37m\u001b[0m \u001b[1m0s\u001b[0m 12ms/step - accuracy: 0.9325 - loss: 0.5192 - val_accuracy: 0.9000 - val_loss: 0.4902\n"
          ]
        },
        {
          "output_type": "execute_result",
          "data": {
            "text/plain": [
              "<keras.src.callbacks.history.History at 0x7deb7c45a560>"
            ]
          },
          "metadata": {},
          "execution_count": 10
        }
      ]
    },
    {
      "cell_type": "code",
      "source": [
        "test_loss,test_acc=model.evaluate(X_test,y_test)"
      ],
      "metadata": {
        "colab": {
          "base_uri": "https://localhost:8080/"
        },
        "outputId": "8b5e16a2-e49c-43f7-d680-c5bfe23b9877",
        "id": "GQM4XQWJOAWK"
      },
      "execution_count": null,
      "outputs": [
        {
          "output_type": "stream",
          "name": "stdout",
          "text": [
            "\u001b[1m1/1\u001b[0m \u001b[32m━━━━━━━━━━━━━━━━━━━━\u001b[0m\u001b[37m\u001b[0m \u001b[1m0s\u001b[0m 34ms/step - accuracy: 0.8000 - loss: 0.6199\n"
          ]
        }
      ]
    },
    {
      "cell_type": "code",
      "source": [
        "import numpy as np\n",
        "import tensorflow as tf\n",
        "from tensorflow.keras.layers import Input, Dense\n",
        "from tensorflow.keras.models import Model\n",
        "from sklearn.datasets import load_iris\n",
        "from sklearn.model_selection import train_test_split\n",
        "from sklearn.preprocessing import StandardScaler\n",
        "from sklearn.preprocessing import OneHotEncoder\n",
        "from sklearn.compose import ColumnTransformer\n",
        "\n",
        "# Set random seed for reproducibility\n",
        "np.random.seed(0)\n",
        "tf.random.set_seed(0)\n",
        "\n",
        "# Load Iris dataset\n",
        "iris = load_iris()\n",
        "X = iris.data\n",
        "y = iris.target\n",
        "\n",
        "# Preprocess the data\n",
        "# Standardize features\n",
        "scaler = StandardScaler()\n",
        "X_scaled = scaler.fit_transform(X)\n",
        "\n",
        "# One-hot encode the labels\n",
        "encoder = OneHotEncoder(sparse=False)\n",
        "y_one_hot = encoder.fit_transform(y.reshape(-1, 1))\n",
        "\n",
        "# Split the dataset into training and test sets\n",
        "X_train, X_test, y_train, y_test = train_test_split(X_scaled, y_one_hot, test_size=0.2, random_state=0)\n",
        "\n",
        "# Define the model using the Functional API\n",
        "inputs = Input(shape=(X_train.shape[1],))\n",
        "x = Dense(64, activation='relu')(inputs)\n",
        "x = Dense(32, activation='relu')(x)\n",
        "outputs = Dense(y_train.shape[1], activation='softmax')(x)\n",
        "\n",
        "# Create the model\n",
        "model = Model(inputs=inputs, outputs=outputs)\n",
        "\n",
        "# Compile the model\n",
        "model.compile(optimizer='adam', loss='categorical_crossentropy', metrics=['accuracy'])\n",
        "\n",
        "# Train the model\n",
        "model.fit(X_train, y_train, epochs=30, batch_size=16, validation_data=(X_test, y_test))\n",
        "\n",
        "# Evaluate the model\n",
        "loss, accuracy = model.evaluate(X_test, y_test)\n",
        "print(f\"Test loss: {loss:.4f}\")\n",
        "print(f\"Test accuracy: {accuracy:.4f}\")\n",
        "\n",
        "# Print model summary\n",
        "model.summary()\n"
      ],
      "metadata": {
        "colab": {
          "base_uri": "https://localhost:8080/",
          "height": 1000
        },
        "outputId": "3eb555eb-b249-4301-f4f4-73cd1eaf3ad9",
        "id": "DCkkX4rVOAWL"
      },
      "execution_count": null,
      "outputs": [
        {
          "output_type": "stream",
          "name": "stderr",
          "text": [
            "/usr/local/lib/python3.10/dist-packages/sklearn/preprocessing/_encoders.py:975: FutureWarning: `sparse` was renamed to `sparse_output` in version 1.2 and will be removed in 1.4. `sparse_output` is ignored unless you leave `sparse` to its default value.\n",
            "  warnings.warn(\n"
          ]
        },
        {
          "output_type": "stream",
          "name": "stdout",
          "text": [
            "Epoch 1/30\n",
            "\u001b[1m6/6\u001b[0m \u001b[32m━━━━━━━━━━━━━━━━━━━━\u001b[0m\u001b[37m\u001b[0m \u001b[1m5s\u001b[0m 147ms/step - accuracy: 0.4528 - loss: 1.1342 - val_accuracy: 0.3750 - val_loss: 1.0472\n",
            "Epoch 2/30\n",
            "\u001b[1m6/6\u001b[0m \u001b[32m━━━━━━━━━━━━━━━━━━━━\u001b[0m\u001b[37m\u001b[0m \u001b[1m0s\u001b[0m 23ms/step - accuracy: 0.6243 - loss: 0.9613 - val_accuracy: 0.5833 - val_loss: 0.9279\n",
            "Epoch 3/30\n",
            "\u001b[1m6/6\u001b[0m \u001b[32m━━━━━━━━━━━━━━━━━━━━\u001b[0m\u001b[37m\u001b[0m \u001b[1m0s\u001b[0m 27ms/step - accuracy: 0.7716 - loss: 0.8128 - val_accuracy: 0.6250 - val_loss: 0.8260\n",
            "Epoch 4/30\n",
            "\u001b[1m6/6\u001b[0m \u001b[32m━━━━━━━━━━━━━━━━━━━━\u001b[0m\u001b[37m\u001b[0m \u001b[1m0s\u001b[0m 22ms/step - accuracy: 0.7949 - loss: 0.6908 - val_accuracy: 0.6250 - val_loss: 0.7467\n",
            "Epoch 5/30\n",
            "\u001b[1m6/6\u001b[0m \u001b[32m━━━━━━━━━━━━━━━━━━━━\u001b[0m\u001b[37m\u001b[0m \u001b[1m0s\u001b[0m 24ms/step - accuracy: 0.7949 - loss: 0.5993 - val_accuracy: 0.6250 - val_loss: 0.6872\n",
            "Epoch 6/30\n",
            "\u001b[1m6/6\u001b[0m \u001b[32m━━━━━━━━━━━━━━━━━━━━\u001b[0m\u001b[37m\u001b[0m \u001b[1m0s\u001b[0m 15ms/step - accuracy: 0.7949 - loss: 0.5351 - val_accuracy: 0.7083 - val_loss: 0.6415\n",
            "Epoch 7/30\n",
            "\u001b[1m6/6\u001b[0m \u001b[32m━━━━━━━━━━━━━━━━━━━━\u001b[0m\u001b[37m\u001b[0m \u001b[1m0s\u001b[0m 23ms/step - accuracy: 0.8079 - loss: 0.4874 - val_accuracy: 0.7083 - val_loss: 0.6023\n",
            "Epoch 8/30\n",
            "\u001b[1m6/6\u001b[0m \u001b[32m━━━━━━━━━━━━━━━━━━━━\u001b[0m\u001b[37m\u001b[0m \u001b[1m0s\u001b[0m 24ms/step - accuracy: 0.8079 - loss: 0.4505 - val_accuracy: 0.7500 - val_loss: 0.5663\n",
            "Epoch 9/30\n",
            "\u001b[1m6/6\u001b[0m \u001b[32m━━━━━━━━━━━━━━━━━━━━\u001b[0m\u001b[37m\u001b[0m \u001b[1m0s\u001b[0m 20ms/step - accuracy: 0.8049 - loss: 0.4202 - val_accuracy: 0.7500 - val_loss: 0.5311\n",
            "Epoch 10/30\n",
            "\u001b[1m6/6\u001b[0m \u001b[32m━━━━━━━━━━━━━━━━━━━━\u001b[0m\u001b[37m\u001b[0m \u001b[1m0s\u001b[0m 21ms/step - accuracy: 0.8119 - loss: 0.3942 - val_accuracy: 0.8333 - val_loss: 0.4977\n",
            "Epoch 11/30\n",
            "\u001b[1m6/6\u001b[0m \u001b[32m━━━━━━━━━━━━━━━━━━━━\u001b[0m\u001b[37m\u001b[0m \u001b[1m0s\u001b[0m 15ms/step - accuracy: 0.8382 - loss: 0.3713 - val_accuracy: 0.8333 - val_loss: 0.4684\n",
            "Epoch 12/30\n",
            "\u001b[1m6/6\u001b[0m \u001b[32m━━━━━━━━━━━━━━━━━━━━\u001b[0m\u001b[37m\u001b[0m \u001b[1m0s\u001b[0m 16ms/step - accuracy: 0.8616 - loss: 0.3511 - val_accuracy: 0.8333 - val_loss: 0.4430\n",
            "Epoch 13/30\n",
            "\u001b[1m6/6\u001b[0m \u001b[32m━━━━━━━━━━━━━━━━━━━━\u001b[0m\u001b[37m\u001b[0m \u001b[1m0s\u001b[0m 26ms/step - accuracy: 0.8546 - loss: 0.3332 - val_accuracy: 0.8333 - val_loss: 0.4211\n",
            "Epoch 14/30\n",
            "\u001b[1m6/6\u001b[0m \u001b[32m━━━━━━━━━━━━━━━━━━━━\u001b[0m\u001b[37m\u001b[0m \u001b[1m0s\u001b[0m 27ms/step - accuracy: 0.8546 - loss: 0.3170 - val_accuracy: 0.8333 - val_loss: 0.4026\n",
            "Epoch 15/30\n",
            "\u001b[1m6/6\u001b[0m \u001b[32m━━━━━━━━━━━━━━━━━━━━\u001b[0m\u001b[37m\u001b[0m \u001b[1m0s\u001b[0m 29ms/step - accuracy: 0.8690 - loss: 0.3023 - val_accuracy: 0.8333 - val_loss: 0.3856\n",
            "Epoch 16/30\n",
            "\u001b[1m6/6\u001b[0m \u001b[32m━━━━━━━━━━━━━━━━━━━━\u001b[0m\u001b[37m\u001b[0m \u001b[1m0s\u001b[0m 23ms/step - accuracy: 0.8690 - loss: 0.2886 - val_accuracy: 0.8750 - val_loss: 0.3696\n",
            "Epoch 17/30\n",
            "\u001b[1m6/6\u001b[0m \u001b[32m━━━━━━━━━━━━━━━━━━━━\u001b[0m\u001b[37m\u001b[0m \u001b[1m0s\u001b[0m 16ms/step - accuracy: 0.8738 - loss: 0.2756 - val_accuracy: 0.8750 - val_loss: 0.3541\n",
            "Epoch 18/30\n",
            "\u001b[1m6/6\u001b[0m \u001b[32m━━━━━━━━━━━━━━━━━━━━\u001b[0m\u001b[37m\u001b[0m \u001b[1m0s\u001b[0m 15ms/step - accuracy: 0.8808 - loss: 0.2630 - val_accuracy: 0.8750 - val_loss: 0.3393\n",
            "Epoch 19/30\n",
            "\u001b[1m6/6\u001b[0m \u001b[32m━━━━━━━━━━━━━━━━━━━━\u001b[0m\u001b[37m\u001b[0m \u001b[1m0s\u001b[0m 15ms/step - accuracy: 0.8878 - loss: 0.2510 - val_accuracy: 0.8750 - val_loss: 0.3250\n",
            "Epoch 20/30\n",
            "\u001b[1m6/6\u001b[0m \u001b[32m━━━━━━━━━━━━━━━━━━━━\u001b[0m\u001b[37m\u001b[0m \u001b[1m0s\u001b[0m 12ms/step - accuracy: 0.8908 - loss: 0.2394 - val_accuracy: 0.8750 - val_loss: 0.3115\n",
            "Epoch 21/30\n",
            "\u001b[1m6/6\u001b[0m \u001b[32m━━━━━━━━━━━━━━━━━━━━\u001b[0m\u001b[37m\u001b[0m \u001b[1m0s\u001b[0m 7ms/step - accuracy: 0.8908 - loss: 0.2282 - val_accuracy: 0.8750 - val_loss: 0.2989\n",
            "Epoch 22/30\n",
            "\u001b[1m6/6\u001b[0m \u001b[32m━━━━━━━━━━━━━━━━━━━━\u001b[0m\u001b[37m\u001b[0m \u001b[1m0s\u001b[0m 7ms/step - accuracy: 0.8908 - loss: 0.2172 - val_accuracy: 0.8750 - val_loss: 0.2874\n",
            "Epoch 23/30\n",
            "\u001b[1m6/6\u001b[0m \u001b[32m━━━━━━━━━━━━━━━━━━━━\u001b[0m\u001b[37m\u001b[0m \u001b[1m0s\u001b[0m 8ms/step - accuracy: 0.8908 - loss: 0.2063 - val_accuracy: 0.8750 - val_loss: 0.2769\n",
            "Epoch 24/30\n",
            "\u001b[1m6/6\u001b[0m \u001b[32m━━━━━━━━━━━━━━━━━━━━\u001b[0m\u001b[37m\u001b[0m \u001b[1m0s\u001b[0m 12ms/step - accuracy: 0.9007 - loss: 0.1957 - val_accuracy: 0.8750 - val_loss: 0.2675\n",
            "Epoch 25/30\n",
            "\u001b[1m6/6\u001b[0m \u001b[32m━━━━━━━━━━━━━━━━━━━━\u001b[0m\u001b[37m\u001b[0m \u001b[1m0s\u001b[0m 7ms/step - accuracy: 0.9241 - loss: 0.1856 - val_accuracy: 0.8750 - val_loss: 0.2590\n",
            "Epoch 26/30\n",
            "\u001b[1m6/6\u001b[0m \u001b[32m━━━━━━━━━━━━━━━━━━━━\u001b[0m\u001b[37m\u001b[0m \u001b[1m0s\u001b[0m 11ms/step - accuracy: 0.9475 - loss: 0.1757 - val_accuracy: 0.8750 - val_loss: 0.2513\n",
            "Epoch 27/30\n",
            "\u001b[1m6/6\u001b[0m \u001b[32m━━━━━━━━━━━━━━━━━━━━\u001b[0m\u001b[37m\u001b[0m \u001b[1m0s\u001b[0m 7ms/step - accuracy: 0.9619 - loss: 0.1663 - val_accuracy: 0.8750 - val_loss: 0.2444\n",
            "Epoch 28/30\n",
            "\u001b[1m6/6\u001b[0m \u001b[32m━━━━━━━━━━━━━━━━━━━━\u001b[0m\u001b[37m\u001b[0m \u001b[1m0s\u001b[0m 11ms/step - accuracy: 0.9619 - loss: 0.1574 - val_accuracy: 0.8750 - val_loss: 0.2382\n",
            "Epoch 29/30\n",
            "\u001b[1m6/6\u001b[0m \u001b[32m━━━━━━━━━━━━━━━━━━━━\u001b[0m\u001b[37m\u001b[0m \u001b[1m0s\u001b[0m 8ms/step - accuracy: 0.9619 - loss: 0.1490 - val_accuracy: 0.8750 - val_loss: 0.2323\n",
            "Epoch 30/30\n",
            "\u001b[1m6/6\u001b[0m \u001b[32m━━━━━━━━━━━━━━━━━━━━\u001b[0m\u001b[37m\u001b[0m \u001b[1m0s\u001b[0m 13ms/step - accuracy: 0.9619 - loss: 0.1411 - val_accuracy: 0.8750 - val_loss: 0.2266\n",
            "\u001b[1m1/1\u001b[0m \u001b[32m━━━━━━━━━━━━━━━━━━━━\u001b[0m\u001b[37m\u001b[0m \u001b[1m0s\u001b[0m 26ms/step - accuracy: 0.9667 - loss: 0.1897\n",
            "Test loss: 0.1897\n",
            "Test accuracy: 0.9667\n"
          ]
        },
        {
          "output_type": "display_data",
          "data": {
            "text/plain": [
              "\u001b[1mModel: \"functional\"\u001b[0m\n"
            ],
            "text/html": [
              "<pre style=\"white-space:pre;overflow-x:auto;line-height:normal;font-family:Menlo,'DejaVu Sans Mono',consolas,'Courier New',monospace\"><span style=\"font-weight: bold\">Model: \"functional\"</span>\n",
              "</pre>\n"
            ]
          },
          "metadata": {}
        },
        {
          "output_type": "display_data",
          "data": {
            "text/plain": [
              "┏━━━━━━━━━━━━━━━━━━━━━━━━━━━━━━━━━━━━━━┳━━━━━━━━━━━━━━━━━━━━━━━━━━━━━┳━━━━━━━━━━━━━━━━━┓\n",
              "┃\u001b[1m \u001b[0m\u001b[1mLayer (type)                        \u001b[0m\u001b[1m \u001b[0m┃\u001b[1m \u001b[0m\u001b[1mOutput Shape               \u001b[0m\u001b[1m \u001b[0m┃\u001b[1m \u001b[0m\u001b[1m        Param #\u001b[0m\u001b[1m \u001b[0m┃\n",
              "┡━━━━━━━━━━━━━━━━━━━━━━━━━━━━━━━━━━━━━━╇━━━━━━━━━━━━━━━━━━━━━━━━━━━━━╇━━━━━━━━━━━━━━━━━┩\n",
              "│ input_layer (\u001b[38;5;33mInputLayer\u001b[0m)             │ (\u001b[38;5;45mNone\u001b[0m, \u001b[38;5;34m4\u001b[0m)                   │               \u001b[38;5;34m0\u001b[0m │\n",
              "├──────────────────────────────────────┼─────────────────────────────┼─────────────────┤\n",
              "│ dense (\u001b[38;5;33mDense\u001b[0m)                        │ (\u001b[38;5;45mNone\u001b[0m, \u001b[38;5;34m64\u001b[0m)                  │             \u001b[38;5;34m320\u001b[0m │\n",
              "├──────────────────────────────────────┼─────────────────────────────┼─────────────────┤\n",
              "│ dense_1 (\u001b[38;5;33mDense\u001b[0m)                      │ (\u001b[38;5;45mNone\u001b[0m, \u001b[38;5;34m32\u001b[0m)                  │           \u001b[38;5;34m2,080\u001b[0m │\n",
              "├──────────────────────────────────────┼─────────────────────────────┼─────────────────┤\n",
              "│ dense_2 (\u001b[38;5;33mDense\u001b[0m)                      │ (\u001b[38;5;45mNone\u001b[0m, \u001b[38;5;34m3\u001b[0m)                   │              \u001b[38;5;34m99\u001b[0m │\n",
              "└──────────────────────────────────────┴─────────────────────────────┴─────────────────┘\n"
            ],
            "text/html": [
              "<pre style=\"white-space:pre;overflow-x:auto;line-height:normal;font-family:Menlo,'DejaVu Sans Mono',consolas,'Courier New',monospace\">┏━━━━━━━━━━━━━━━━━━━━━━━━━━━━━━━━━━━━━━┳━━━━━━━━━━━━━━━━━━━━━━━━━━━━━┳━━━━━━━━━━━━━━━━━┓\n",
              "┃<span style=\"font-weight: bold\"> Layer (type)                         </span>┃<span style=\"font-weight: bold\"> Output Shape                </span>┃<span style=\"font-weight: bold\">         Param # </span>┃\n",
              "┡━━━━━━━━━━━━━━━━━━━━━━━━━━━━━━━━━━━━━━╇━━━━━━━━━━━━━━━━━━━━━━━━━━━━━╇━━━━━━━━━━━━━━━━━┩\n",
              "│ input_layer (<span style=\"color: #0087ff; text-decoration-color: #0087ff\">InputLayer</span>)             │ (<span style=\"color: #00d7ff; text-decoration-color: #00d7ff\">None</span>, <span style=\"color: #00af00; text-decoration-color: #00af00\">4</span>)                   │               <span style=\"color: #00af00; text-decoration-color: #00af00\">0</span> │\n",
              "├──────────────────────────────────────┼─────────────────────────────┼─────────────────┤\n",
              "│ dense (<span style=\"color: #0087ff; text-decoration-color: #0087ff\">Dense</span>)                        │ (<span style=\"color: #00d7ff; text-decoration-color: #00d7ff\">None</span>, <span style=\"color: #00af00; text-decoration-color: #00af00\">64</span>)                  │             <span style=\"color: #00af00; text-decoration-color: #00af00\">320</span> │\n",
              "├──────────────────────────────────────┼─────────────────────────────┼─────────────────┤\n",
              "│ dense_1 (<span style=\"color: #0087ff; text-decoration-color: #0087ff\">Dense</span>)                      │ (<span style=\"color: #00d7ff; text-decoration-color: #00d7ff\">None</span>, <span style=\"color: #00af00; text-decoration-color: #00af00\">32</span>)                  │           <span style=\"color: #00af00; text-decoration-color: #00af00\">2,080</span> │\n",
              "├──────────────────────────────────────┼─────────────────────────────┼─────────────────┤\n",
              "│ dense_2 (<span style=\"color: #0087ff; text-decoration-color: #0087ff\">Dense</span>)                      │ (<span style=\"color: #00d7ff; text-decoration-color: #00d7ff\">None</span>, <span style=\"color: #00af00; text-decoration-color: #00af00\">3</span>)                   │              <span style=\"color: #00af00; text-decoration-color: #00af00\">99</span> │\n",
              "└──────────────────────────────────────┴─────────────────────────────┴─────────────────┘\n",
              "</pre>\n"
            ]
          },
          "metadata": {}
        },
        {
          "output_type": "display_data",
          "data": {
            "text/plain": [
              "\u001b[1m Total params: \u001b[0m\u001b[38;5;34m7,499\u001b[0m (29.30 KB)\n"
            ],
            "text/html": [
              "<pre style=\"white-space:pre;overflow-x:auto;line-height:normal;font-family:Menlo,'DejaVu Sans Mono',consolas,'Courier New',monospace\"><span style=\"font-weight: bold\"> Total params: </span><span style=\"color: #00af00; text-decoration-color: #00af00\">7,499</span> (29.30 KB)\n",
              "</pre>\n"
            ]
          },
          "metadata": {}
        },
        {
          "output_type": "display_data",
          "data": {
            "text/plain": [
              "\u001b[1m Trainable params: \u001b[0m\u001b[38;5;34m2,499\u001b[0m (9.76 KB)\n"
            ],
            "text/html": [
              "<pre style=\"white-space:pre;overflow-x:auto;line-height:normal;font-family:Menlo,'DejaVu Sans Mono',consolas,'Courier New',monospace\"><span style=\"font-weight: bold\"> Trainable params: </span><span style=\"color: #00af00; text-decoration-color: #00af00\">2,499</span> (9.76 KB)\n",
              "</pre>\n"
            ]
          },
          "metadata": {}
        },
        {
          "output_type": "display_data",
          "data": {
            "text/plain": [
              "\u001b[1m Non-trainable params: \u001b[0m\u001b[38;5;34m0\u001b[0m (0.00 B)\n"
            ],
            "text/html": [
              "<pre style=\"white-space:pre;overflow-x:auto;line-height:normal;font-family:Menlo,'DejaVu Sans Mono',consolas,'Courier New',monospace\"><span style=\"font-weight: bold\"> Non-trainable params: </span><span style=\"color: #00af00; text-decoration-color: #00af00\">0</span> (0.00 B)\n",
              "</pre>\n"
            ]
          },
          "metadata": {}
        },
        {
          "output_type": "display_data",
          "data": {
            "text/plain": [
              "\u001b[1m Optimizer params: \u001b[0m\u001b[38;5;34m5,000\u001b[0m (19.54 KB)\n"
            ],
            "text/html": [
              "<pre style=\"white-space:pre;overflow-x:auto;line-height:normal;font-family:Menlo,'DejaVu Sans Mono',consolas,'Courier New',monospace\"><span style=\"font-weight: bold\"> Optimizer params: </span><span style=\"color: #00af00; text-decoration-color: #00af00\">5,000</span> (19.54 KB)\n",
              "</pre>\n"
            ]
          },
          "metadata": {}
        }
      ]
    },
    {
      "cell_type": "code",
      "source": [
        "inputs = Input(shape=(10,))\n",
        "x = Dense(5, activation='relu')(inputs)\n",
        "x = Dense(4, activation='relu')(x)\n",
        "\n",
        "o1=Dense(1,activation='linear')(x)\n",
        "o2=Dense(3,activation='softmax')(x)\n",
        "\n",
        "model=Model(inputs=inputs,outputs=[o1,o2])"
      ],
      "metadata": {
        "id": "L4z6wl3ODUsa"
      },
      "execution_count": null,
      "outputs": []
    },
    {
      "cell_type": "code",
      "source": [
        "model.compile(loss={o1:'mse',o2:'categorical_crossentropy'},optimizer='adam',metrics={o1:'mae',o2:'accuracy'})"
      ],
      "metadata": {
        "id": "E8Lc2JcKECEx"
      },
      "execution_count": null,
      "outputs": []
    },
    {
      "cell_type": "code",
      "source": [],
      "metadata": {
        "id": "6D-SHqK_OSJV"
      },
      "execution_count": null,
      "outputs": []
    },
    {
      "cell_type": "code",
      "source": [
        "import numpy as np\n",
        "import matplotlib.pyplot as plt\n",
        "from tensorflow.keras.datasets import boston_housing\n",
        "from tensorflow.keras.models import Sequential\n",
        "from tensorflow.keras.layers import Dense, Dropout\n",
        "from tensorflow.keras.optimizers import Adam\n",
        "from tensorflow.keras.callbacks import History\n",
        "\n",
        "# Load dataset\n",
        "(x_train, y_train), (x_test, y_test) = boston_housing.load_data()\n",
        "\n",
        "# Normalize the data\n",
        "mean = x_train.mean(axis=0)\n",
        "std = x_train.std(axis=0)\n",
        "x_train = (x_train - mean) / std\n",
        "x_test = (x_test - mean) / std\n",
        "\n",
        "def build_model(dropout_rate):\n",
        "    model = Sequential([\n",
        "        Dense(64, activation='relu', input_shape=(x_train.shape[1],)),\n",
        "        Dropout(dropout_rate),\n",
        "        Dense(32, activation='relu'),\n",
        "        Dropout(dropout_rate),\n",
        "        Dense(1)  # Output layer for regression\n",
        "    ])\n",
        "    model.compile(optimizer=Adam(), loss='mean_squared_error')\n",
        "    return model\n",
        "\n",
        "dropout_rates = [0.2, 0.5,0.9]\n",
        "history_dict = {}\n",
        "\n",
        "# Train models with different dropout rates\n",
        "for rate in dropout_rates:\n",
        "    print(f\"Training with dropout rate: {rate}\")\n",
        "    model = build_model(rate)\n",
        "    history = History()\n",
        "    history_dict[rate] = history\n",
        "    model.fit(x_train, y_train, epochs=50, validation_data=(x_test,y_test), verbose=0, callbacks=[history])\n",
        "\n",
        "# Plot training and validation loss\n",
        "plt.figure(figsize=(14, 7))\n",
        "\n",
        "for rate, history in history_dict.items():\n",
        "    plt.plot(history.history['loss'], label=f'Train Loss (Dropout={rate})')\n",
        "    plt.plot(history.history['val_loss'], label=f'Validation Loss (Dropout={rate})')\n",
        "\n",
        "plt.title('Loss Function vs Epoch')\n",
        "plt.xlabel('Epoch')\n",
        "plt.ylabel('Loss')\n",
        "plt.legend()\n",
        "plt.show()\n"
      ],
      "metadata": {
        "colab": {
          "base_uri": "https://localhost:8080/",
          "height": 715
        },
        "id": "OUb-neHbPR3y",
        "outputId": "d42ec019-8b5c-4965-de71-35ac71f2ebea"
      },
      "execution_count": null,
      "outputs": [
        {
          "output_type": "stream",
          "name": "stdout",
          "text": [
            "Downloading data from https://storage.googleapis.com/tensorflow/tf-keras-datasets/boston_housing.npz\n",
            "\u001b[1m57026/57026\u001b[0m \u001b[32m━━━━━━━━━━━━━━━━━━━━\u001b[0m\u001b[37m\u001b[0m \u001b[1m0s\u001b[0m 0us/step\n",
            "Training with dropout rate: 0.2\n"
          ]
        },
        {
          "output_type": "stream",
          "name": "stderr",
          "text": [
            "/usr/local/lib/python3.10/dist-packages/keras/src/layers/core/dense.py:87: UserWarning: Do not pass an `input_shape`/`input_dim` argument to a layer. When using Sequential models, prefer using an `Input(shape)` object as the first layer in the model instead.\n",
            "  super().__init__(activity_regularizer=activity_regularizer, **kwargs)\n"
          ]
        },
        {
          "output_type": "stream",
          "name": "stdout",
          "text": [
            "Training with dropout rate: 0.5\n",
            "Training with dropout rate: 0.9\n"
          ]
        },
        {
          "output_type": "display_data",
          "data": {
            "text/plain": [
              "<Figure size 1400x700 with 1 Axes>"
            ],
            "image/png": "[encoded data removed]"
          },
          "metadata": {}
        }
      ]
    },
    {
      "cell_type": "code",
      "source": [
        "import numpy as np\n",
        "import tensorflow as tf\n",
        "from tensorflow.keras.layers import Input, Dense\n",
        "from tensorflow.keras.models import Model\n",
        "from sklearn.model_selection import train_test_split\n",
        "\n",
        "# Set random seed for reproducibility\n",
        "np.random.seed(0)\n",
        "tf.random.set_seed(0)\n",
        "\n",
        "# Generate synthetic data\n",
        "num_samples = 1000\n",
        "input_dim = 10\n",
        "output_dim1 = 1\n",
        "output_dim2 = 1\n",
        "\n",
        "# Features\n",
        "X = np.random.rand(num_samples, input_dim)\n",
        "\n",
        "# Targets with two different outputs\n",
        "y1 = X[:, 0] * 0.5 + np.random.rand(num_samples) * 0.1  # Example target 1\n",
        "y2 = X[:, 1] * 0.7 + np.random.rand(num_samples) * 0.1  # Example target 2\n",
        "\n",
        "# Split the data into training and testing sets\n",
        "X_train, X_test, y1_train, y1_test, y2_train, y2_test = train_test_split(X, y1, y2, test_size=0.2, random_state=0)\n",
        "\n",
        "# Define the model using the Functional API\n",
        "inputs = Input(shape=(input_dim,))\n",
        "x = Dense(64, activation='relu')(inputs)\n",
        "x = Dense(32, activation='relu')(x)\n",
        "\n",
        "# Two separate output layers for the two outputs\n",
        "output1 = Dense(output_dim1, name='output1')(x)\n",
        "output2 = Dense(output_dim2, name='output2')(x)\n",
        "\n",
        "# Create the model\n",
        "model = Model(inputs=inputs, outputs=[output1, output2])\n",
        "\n",
        "# Compile the model\n",
        "model.compile(optimizer='adam', loss={'output1':'mse','output2':'mse'}, metrics={'output1': 'mae', 'output2': 'mae'})\n",
        "\n",
        "# Train the model\n",
        "history = model.fit(\n",
        "    X_train,\n",
        "    {'output1': y1_train, 'output2': y2_train},\n",
        "    epochs=30,\n",
        "    batch_size=32,\n",
        "    validation_split=0.2\n",
        ")\n",
        "\n",
        "# Evaluate the model\n",
        "loss, mae_output1, mae_output2 = model.evaluate(\n",
        "    X_test,\n",
        "    {'output1': y1_test, 'output2': y2_test}\n",
        ")\n",
        "print(f\"Test loss: {loss:.4f}\")\n",
        "#print(f\"Test loss for output1: {loss_output1:.4f}\")\n",
        "#print(f\"Test loss for output2: {loss_output2:.4f}\")\n",
        "print(f\"Test MAE for output1: {mae_output1:.4f}\")\n",
        "print(f\"Test MAE for output2: {mae_output2:.4f}\")\n",
        "\n",
        "# Print model summary\n",
        "model.summary()\n"
      ],
      "metadata": {
        "colab": {
          "base_uri": "https://localhost:8080/",
          "height": 1000
        },
        "id": "HARSOBtz0ybH",
        "outputId": "b31cee4b-12b0-4f05-e802-cd584027f4ea"
      },
      "execution_count": null,
      "outputs": [
        {
          "output_type": "stream",
          "name": "stdout",
          "text": [
            "Epoch 1/30\n",
            "\u001b[1m20/20\u001b[0m \u001b[32m━━━━━━━━━━━━━━━━━━━━\u001b[0m\u001b[37m\u001b[0m \u001b[1m2s\u001b[0m 15ms/step - loss: 0.2234 - output1_mae: 0.1868 - output2_mae: 0.3345 - val_loss: 0.0642 - val_output1_mae: 0.1286 - val_output2_mae: 0.1690\n",
            "Epoch 2/30\n",
            "\u001b[1m20/20\u001b[0m \u001b[32m━━━━━━━━━━━━━━━━━━━━\u001b[0m\u001b[37m\u001b[0m \u001b[1m0s\u001b[0m 4ms/step - loss: 0.0549 - output1_mae: 0.1089 - output2_mae: 0.1562 - val_loss: 0.0311 - val_output1_mae: 0.0838 - val_output2_mae: 0.1195\n",
            "Epoch 3/30\n",
            "\u001b[1m20/20\u001b[0m \u001b[32m━━━━━━━━━━━━━━━━━━━━\u001b[0m\u001b[37m\u001b[0m \u001b[1m0s\u001b[0m 4ms/step - loss: 0.0265 - output1_mae: 0.0725 - output2_mae: 0.1108 - val_loss: 0.0179 - val_output1_mae: 0.0531 - val_output2_mae: 0.0944\n",
            "Epoch 4/30\n",
            "\u001b[1m20/20\u001b[0m \u001b[32m━━━━━━━━━━━━━━━━━━━━\u001b[0m\u001b[37m\u001b[0m \u001b[1m0s\u001b[0m 4ms/step - loss: 0.0150 - output1_mae: 0.0475 - output2_mae: 0.0855 - val_loss: 0.0104 - val_output1_mae: 0.0444 - val_output2_mae: 0.0692\n",
            "Epoch 5/30\n",
            "\u001b[1m20/20\u001b[0m \u001b[32m━━━━━━━━━━━━━━━━━━━━\u001b[0m\u001b[37m\u001b[0m \u001b[1m0s\u001b[0m 4ms/step - loss: 0.0088 - output1_mae: 0.0417 - output2_mae: 0.0629 - val_loss: 0.0066 - val_output1_mae: 0.0401 - val_output2_mae: 0.0516\n",
            "Epoch 6/30\n",
            "\u001b[1m20/20\u001b[0m \u001b[32m━━━━━━━━━━━━━━━━━━━━\u001b[0m\u001b[37m\u001b[0m \u001b[1m0s\u001b[0m 5ms/step - loss: 0.0059 - output1_mae: 0.0382 - output2_mae: 0.0479 - val_loss: 0.0045 - val_output1_mae: 0.0370 - val_output2_mae: 0.0397\n",
            "Epoch 7/30\n",
            "\u001b[1m20/20\u001b[0m \u001b[32m━━━━━━━━━━━━━━━━━━━━\u001b[0m\u001b[37m\u001b[0m \u001b[1m0s\u001b[0m 4ms/step - loss: 0.0042 - output1_mae: 0.0358 - output2_mae: 0.0380 - val_loss: 0.0034 - val_output1_mae: 0.0349 - val_output2_mae: 0.0318\n",
            "Epoch 8/30\n",
            "\u001b[1m20/20\u001b[0m \u001b[32m━━━━━━━━━━━━━━━━━━━━\u001b[0m\u001b[37m\u001b[0m \u001b[1m0s\u001b[0m 4ms/step - loss: 0.0034 - output1_mae: 0.0338 - output2_mae: 0.0323 - val_loss: 0.0029 - val_output1_mae: 0.0333 - val_output2_mae: 0.0288\n",
            "Epoch 9/30\n",
            "\u001b[1m20/20\u001b[0m \u001b[32m━━━━━━━━━━━━━━━━━━━━\u001b[0m\u001b[37m\u001b[0m \u001b[1m0s\u001b[0m 4ms/step - loss: 0.0029 - output1_mae: 0.0325 - output2_mae: 0.0295 - val_loss: 0.0028 - val_output1_mae: 0.0319 - val_output2_mae: 0.0286\n",
            "Epoch 10/30\n",
            "\u001b[1m20/20\u001b[0m \u001b[32m━━━━━━━━━━━━━━━━━━━━\u001b[0m\u001b[37m\u001b[0m \u001b[1m0s\u001b[0m 5ms/step - loss: 0.0027 - output1_mae: 0.0315 - output2_mae: 0.0282 - val_loss: 0.0026 - val_output1_mae: 0.0311 - val_output2_mae: 0.0280\n",
            "Epoch 11/30\n",
            "\u001b[1m20/20\u001b[0m \u001b[32m━━━━━━━━━━━━━━━━━━━━\u001b[0m\u001b[37m\u001b[0m \u001b[1m0s\u001b[0m 4ms/step - loss: 0.0025 - output1_mae: 0.0305 - output2_mae: 0.0274 - val_loss: 0.0025 - val_output1_mae: 0.0302 - val_output2_mae: 0.0274\n",
            "Epoch 12/30\n",
            "\u001b[1m20/20\u001b[0m \u001b[32m━━━━━━━━━━━━━━━━━━━━\u001b[0m\u001b[37m\u001b[0m \u001b[1m0s\u001b[0m 4ms/step - loss: 0.0024 - output1_mae: 0.0297 - output2_mae: 0.0268 - val_loss: 0.0024 - val_output1_mae: 0.0298 - val_output2_mae: 0.0270\n",
            "Epoch 13/30\n",
            "\u001b[1m20/20\u001b[0m \u001b[32m━━━━━━━━━━━━━━━━━━━━\u001b[0m\u001b[37m\u001b[0m \u001b[1m0s\u001b[0m 5ms/step - loss: 0.0023 - output1_mae: 0.0290 - output2_mae: 0.0263 - val_loss: 0.0023 - val_output1_mae: 0.0292 - val_output2_mae: 0.0267\n",
            "Epoch 14/30\n",
            "\u001b[1m20/20\u001b[0m \u001b[32m━━━━━━━━━━━━━━━━━━━━\u001b[0m\u001b[37m\u001b[0m \u001b[1m0s\u001b[0m 4ms/step - loss: 0.0022 - output1_mae: 0.0283 - output2_mae: 0.0259 - val_loss: 0.0023 - val_output1_mae: 0.0288 - val_output2_mae: 0.0265\n",
            "Epoch 15/30\n",
            "\u001b[1m20/20\u001b[0m \u001b[32m━━━━━━━━━━━━━━━━━━━━\u001b[0m\u001b[37m\u001b[0m \u001b[1m0s\u001b[0m 4ms/step - loss: 0.0021 - output1_mae: 0.0277 - output2_mae: 0.0255 - val_loss: 0.0022 - val_output1_mae: 0.0286 - val_output2_mae: 0.0264\n",
            "Epoch 16/30\n",
            "\u001b[1m20/20\u001b[0m \u001b[32m━━━━━━━━━━━━━━━━━━━━\u001b[0m\u001b[37m\u001b[0m \u001b[1m0s\u001b[0m 4ms/step - loss: 0.0021 - output1_mae: 0.0272 - output2_mae: 0.0253 - val_loss: 0.0022 - val_output1_mae: 0.0284 - val_output2_mae: 0.0262\n",
            "Epoch 17/30\n",
            "\u001b[1m20/20\u001b[0m \u001b[32m━━━━━━━━━━━━━━━━━━━━\u001b[0m\u001b[37m\u001b[0m \u001b[1m0s\u001b[0m 5ms/step - loss: 0.0020 - output1_mae: 0.0268 - output2_mae: 0.0251 - val_loss: 0.0022 - val_output1_mae: 0.0282 - val_output2_mae: 0.0261\n",
            "Epoch 18/30\n",
            "\u001b[1m20/20\u001b[0m \u001b[32m━━━━━━━━━━━━━━━━━━━━\u001b[0m\u001b[37m\u001b[0m \u001b[1m0s\u001b[0m 5ms/step - loss: 0.0020 - output1_mae: 0.0264 - output2_mae: 0.0250 - val_loss: 0.0022 - val_output1_mae: 0.0281 - val_output2_mae: 0.0261\n",
            "Epoch 19/30\n",
            "\u001b[1m20/20\u001b[0m \u001b[32m━━━━━━━━━━━━━━━━━━━━\u001b[0m\u001b[37m\u001b[0m \u001b[1m0s\u001b[0m 4ms/step - loss: 0.0019 - output1_mae: 0.0261 - output2_mae: 0.0248 - val_loss: 0.0022 - val_output1_mae: 0.0280 - val_output2_mae: 0.0261\n",
            "Epoch 20/30\n",
            "\u001b[1m20/20\u001b[0m \u001b[32m━━━━━━━━━━━━━━━━━━━━\u001b[0m\u001b[37m\u001b[0m \u001b[1m0s\u001b[0m 6ms/step - loss: 0.0019 - output1_mae: 0.0257 - output2_mae: 0.0247 - val_loss: 0.0021 - val_output1_mae: 0.0279 - val_output2_mae: 0.0260\n",
            "Epoch 21/30\n",
            "\u001b[1m20/20\u001b[0m \u001b[32m━━━━━━━━━━━━━━━━━━━━\u001b[0m\u001b[37m\u001b[0m \u001b[1m0s\u001b[0m 4ms/step - loss: 0.0019 - output1_mae: 0.0254 - output2_mae: 0.0246 - val_loss: 0.0021 - val_output1_mae: 0.0278 - val_output2_mae: 0.0260\n",
            "Epoch 22/30\n",
            "\u001b[1m20/20\u001b[0m \u001b[32m━━━━━━━━━━━━━━━━━━━━\u001b[0m\u001b[37m\u001b[0m \u001b[1m0s\u001b[0m 5ms/step - loss: 0.0018 - output1_mae: 0.0252 - output2_mae: 0.0246 - val_loss: 0.0021 - val_output1_mae: 0.0278 - val_output2_mae: 0.0259\n",
            "Epoch 23/30\n",
            "\u001b[1m20/20\u001b[0m \u001b[32m━━━━━━━━━━━━━━━━━━━━\u001b[0m\u001b[37m\u001b[0m \u001b[1m0s\u001b[0m 4ms/step - loss: 0.0018 - output1_mae: 0.0250 - output2_mae: 0.0245 - val_loss: 0.0021 - val_output1_mae: 0.0277 - val_output2_mae: 0.0259\n",
            "Epoch 24/30\n",
            "\u001b[1m20/20\u001b[0m \u001b[32m━━━━━━━━━━━━━━━━━━━━\u001b[0m\u001b[37m\u001b[0m \u001b[1m0s\u001b[0m 4ms/step - loss: 0.0018 - output1_mae: 0.0248 - output2_mae: 0.0244 - val_loss: 0.0021 - val_output1_mae: 0.0276 - val_output2_mae: 0.0259\n",
            "Epoch 25/30\n",
            "\u001b[1m20/20\u001b[0m \u001b[32m━━━━━━━━━━━━━━━━━━━━\u001b[0m\u001b[37m\u001b[0m \u001b[1m0s\u001b[0m 4ms/step - loss: 0.0018 - output1_mae: 0.0246 - output2_mae: 0.0244 - val_loss: 0.0021 - val_output1_mae: 0.0275 - val_output2_mae: 0.0259\n",
            "Epoch 26/30\n",
            "\u001b[1m20/20\u001b[0m \u001b[32m━━━━━━━━━━━━━━━━━━━━\u001b[0m\u001b[37m\u001b[0m \u001b[1m0s\u001b[0m 4ms/step - loss: 0.0017 - output1_mae: 0.0245 - output2_mae: 0.0244 - val_loss: 0.0021 - val_output1_mae: 0.0275 - val_output2_mae: 0.0259\n",
            "Epoch 27/30\n",
            "\u001b[1m20/20\u001b[0m \u001b[32m━━━━━━━━━━━━━━━━━━━━\u001b[0m\u001b[37m\u001b[0m \u001b[1m0s\u001b[0m 5ms/step - loss: 0.0017 - output1_mae: 0.0244 - output2_mae: 0.0243 - val_loss: 0.0021 - val_output1_mae: 0.0275 - val_output2_mae: 0.0259\n",
            "Epoch 28/30\n",
            "\u001b[1m20/20\u001b[0m \u001b[32m━━━━━━━━━━━━━━━━━━━━\u001b[0m\u001b[37m\u001b[0m \u001b[1m0s\u001b[0m 4ms/step - loss: 0.0017 - output1_mae: 0.0243 - output2_mae: 0.0243 - val_loss: 0.0021 - val_output1_mae: 0.0274 - val_output2_mae: 0.0259\n",
            "Epoch 29/30\n",
            "\u001b[1m20/20\u001b[0m \u001b[32m━━━━━━━━━━━━━━━━━━━━\u001b[0m\u001b[37m\u001b[0m \u001b[1m0s\u001b[0m 4ms/step - loss: 0.0017 - output1_mae: 0.0242 - output2_mae: 0.0243 - val_loss: 0.0020 - val_output1_mae: 0.0273 - val_output2_mae: 0.0259\n",
            "Epoch 30/30\n",
            "\u001b[1m20/20\u001b[0m \u001b[32m━━━━━━━━━━━━━━━━━━━━\u001b[0m\u001b[37m\u001b[0m \u001b[1m0s\u001b[0m 4ms/step - loss: 0.0017 - output1_mae: 0.0241 - output2_mae: 0.0242 - val_loss: 0.0020 - val_output1_mae: 0.0272 - val_output2_mae: 0.0259\n",
            "\u001b[1m7/7\u001b[0m \u001b[32m━━━━━━━━━━━━━━━━━━━━\u001b[0m\u001b[37m\u001b[0m \u001b[1m0s\u001b[0m 3ms/step - loss: 0.0024 - output1_mae: 0.0286 - output2_mae: 0.0291  \n",
            "Test loss: 0.0025\n",
            "Test MAE for output1: 0.0294\n",
            "Test MAE for output2: 0.0292\n"
          ]
        },
        {
          "output_type": "display_data",
          "data": {
            "text/plain": [
              "\u001b[1mModel: \"functional_3\"\u001b[0m\n"
            ],
            "text/html": [
              "<pre style=\"white-space:pre;overflow-x:auto;line-height:normal;font-family:Menlo,'DejaVu Sans Mono',consolas,'Courier New',monospace\"><span style=\"font-weight: bold\">Model: \"functional_3\"</span>\n",
              "</pre>\n"
            ]
          },
          "metadata": {}
        },
        {
          "output_type": "display_data",
          "data": {
            "text/plain": [
              "┏━━━━━━━━━━━━━━━━━━━━━━━━━━━┳━━━━━━━━━━━━━━━━━━━━━━━━┳━━━━━━━━━━━━━━━━┳━━━━━━━━━━━━━━━━━━━━━━━━┓\n",
              "┃\u001b[1m \u001b[0m\u001b[1mLayer (type)             \u001b[0m\u001b[1m \u001b[0m┃\u001b[1m \u001b[0m\u001b[1mOutput Shape          \u001b[0m\u001b[1m \u001b[0m┃\u001b[1m \u001b[0m\u001b[1m       Param #\u001b[0m\u001b[1m \u001b[0m┃\u001b[1m \u001b[0m\u001b[1mConnected to          \u001b[0m\u001b[1m \u001b[0m┃\n",
              "┡━━━━━━━━━━━━━━━━━━━━━━━━━━━╇━━━━━━━━━━━━━━━━━━━━━━━━╇━━━━━━━━━━━━━━━━╇━━━━━━━━━━━━━━━━━━━━━━━━┩\n",
              "│ input_layer_3             │ (\u001b[38;5;45mNone\u001b[0m, \u001b[38;5;34m10\u001b[0m)             │              \u001b[38;5;34m0\u001b[0m │ -                      │\n",
              "│ (\u001b[38;5;33mInputLayer\u001b[0m)              │                        │                │                        │\n",
              "├───────────────────────────┼────────────────────────┼────────────────┼────────────────────────┤\n",
              "│ dense_6 (\u001b[38;5;33mDense\u001b[0m)           │ (\u001b[38;5;45mNone\u001b[0m, \u001b[38;5;34m64\u001b[0m)             │            \u001b[38;5;34m704\u001b[0m │ input_layer_3[\u001b[38;5;34m0\u001b[0m][\u001b[38;5;34m0\u001b[0m]    │\n",
              "├───────────────────────────┼────────────────────────┼────────────────┼────────────────────────┤\n",
              "│ dense_7 (\u001b[38;5;33mDense\u001b[0m)           │ (\u001b[38;5;45mNone\u001b[0m, \u001b[38;5;34m32\u001b[0m)             │          \u001b[38;5;34m2,080\u001b[0m │ dense_6[\u001b[38;5;34m0\u001b[0m][\u001b[38;5;34m0\u001b[0m]          │\n",
              "├───────────────────────────┼────────────────────────┼────────────────┼────────────────────────┤\n",
              "│ output1 (\u001b[38;5;33mDense\u001b[0m)           │ (\u001b[38;5;45mNone\u001b[0m, \u001b[38;5;34m1\u001b[0m)              │             \u001b[38;5;34m33\u001b[0m │ dense_7[\u001b[38;5;34m0\u001b[0m][\u001b[38;5;34m0\u001b[0m]          │\n",
              "├───────────────────────────┼────────────────────────┼────────────────┼────────────────────────┤\n",
              "│ output2 (\u001b[38;5;33mDense\u001b[0m)           │ (\u001b[38;5;45mNone\u001b[0m, \u001b[38;5;34m1\u001b[0m)              │             \u001b[38;5;34m33\u001b[0m │ dense_7[\u001b[38;5;34m0\u001b[0m][\u001b[38;5;34m0\u001b[0m]          │\n",
              "└───────────────────────────┴────────────────────────┴────────────────┴────────────────────────┘\n"
            ],
            "text/html": [
              "<pre style=\"white-space:pre;overflow-x:auto;line-height:normal;font-family:Menlo,'DejaVu Sans Mono',consolas,'Courier New',monospace\">┏━━━━━━━━━━━━━━━━━━━━━━━━━━━┳━━━━━━━━━━━━━━━━━━━━━━━━┳━━━━━━━━━━━━━━━━┳━━━━━━━━━━━━━━━━━━━━━━━━┓\n",
              "┃<span style=\"font-weight: bold\"> Layer (type)              </span>┃<span style=\"font-weight: bold\"> Output Shape           </span>┃<span style=\"font-weight: bold\">        Param # </span>┃<span style=\"font-weight: bold\"> Connected to           </span>┃\n",
              "┡━━━━━━━━━━━━━━━━━━━━━━━━━━━╇━━━━━━━━━━━━━━━━━━━━━━━━╇━━━━━━━━━━━━━━━━╇━━━━━━━━━━━━━━━━━━━━━━━━┩\n",
              "│ input_layer_3             │ (<span style=\"color: #00d7ff; text-decoration-color: #00d7ff\">None</span>, <span style=\"color: #00af00; text-decoration-color: #00af00\">10</span>)             │              <span style=\"color: #00af00; text-decoration-color: #00af00\">0</span> │ -                      │\n",
              "│ (<span style=\"color: #0087ff; text-decoration-color: #0087ff\">InputLayer</span>)              │                        │                │                        │\n",
              "├───────────────────────────┼────────────────────────┼────────────────┼────────────────────────┤\n",
              "│ dense_6 (<span style=\"color: #0087ff; text-decoration-color: #0087ff\">Dense</span>)           │ (<span style=\"color: #00d7ff; text-decoration-color: #00d7ff\">None</span>, <span style=\"color: #00af00; text-decoration-color: #00af00\">64</span>)             │            <span style=\"color: #00af00; text-decoration-color: #00af00\">704</span> │ input_layer_3[<span style=\"color: #00af00; text-decoration-color: #00af00\">0</span>][<span style=\"color: #00af00; text-decoration-color: #00af00\">0</span>]    │\n",
              "├───────────────────────────┼────────────────────────┼────────────────┼────────────────────────┤\n",
              "│ dense_7 (<span style=\"color: #0087ff; text-decoration-color: #0087ff\">Dense</span>)           │ (<span style=\"color: #00d7ff; text-decoration-color: #00d7ff\">None</span>, <span style=\"color: #00af00; text-decoration-color: #00af00\">32</span>)             │          <span style=\"color: #00af00; text-decoration-color: #00af00\">2,080</span> │ dense_6[<span style=\"color: #00af00; text-decoration-color: #00af00\">0</span>][<span style=\"color: #00af00; text-decoration-color: #00af00\">0</span>]          │\n",
              "├───────────────────────────┼────────────────────────┼────────────────┼────────────────────────┤\n",
              "│ output1 (<span style=\"color: #0087ff; text-decoration-color: #0087ff\">Dense</span>)           │ (<span style=\"color: #00d7ff; text-decoration-color: #00d7ff\">None</span>, <span style=\"color: #00af00; text-decoration-color: #00af00\">1</span>)              │             <span style=\"color: #00af00; text-decoration-color: #00af00\">33</span> │ dense_7[<span style=\"color: #00af00; text-decoration-color: #00af00\">0</span>][<span style=\"color: #00af00; text-decoration-color: #00af00\">0</span>]          │\n",
              "├───────────────────────────┼────────────────────────┼────────────────┼────────────────────────┤\n",
              "│ output2 (<span style=\"color: #0087ff; text-decoration-color: #0087ff\">Dense</span>)           │ (<span style=\"color: #00d7ff; text-decoration-color: #00d7ff\">None</span>, <span style=\"color: #00af00; text-decoration-color: #00af00\">1</span>)              │             <span style=\"color: #00af00; text-decoration-color: #00af00\">33</span> │ dense_7[<span style=\"color: #00af00; text-decoration-color: #00af00\">0</span>][<span style=\"color: #00af00; text-decoration-color: #00af00\">0</span>]          │\n",
              "└───────────────────────────┴────────────────────────┴────────────────┴────────────────────────┘\n",
              "</pre>\n"
            ]
          },
          "metadata": {}
        },
        {
          "output_type": "display_data",
          "data": {
            "text/plain": [
              "\u001b[1m Total params: \u001b[0m\u001b[38;5;34m8,552\u001b[0m (33.41 KB)\n"
            ],
            "text/html": [
              "<pre style=\"white-space:pre;overflow-x:auto;line-height:normal;font-family:Menlo,'DejaVu Sans Mono',consolas,'Courier New',monospace\"><span style=\"font-weight: bold\"> Total params: </span><span style=\"color: #00af00; text-decoration-color: #00af00\">8,552</span> (33.41 KB)\n",
              "</pre>\n"
            ]
          },
          "metadata": {}
        },
        {
          "output_type": "display_data",
          "data": {
            "text/plain": [
              "\u001b[1m Trainable params: \u001b[0m\u001b[38;5;34m2,850\u001b[0m (11.13 KB)\n"
            ],
            "text/html": [
              "<pre style=\"white-space:pre;overflow-x:auto;line-height:normal;font-family:Menlo,'DejaVu Sans Mono',consolas,'Courier New',monospace\"><span style=\"font-weight: bold\"> Trainable params: </span><span style=\"color: #00af00; text-decoration-color: #00af00\">2,850</span> (11.13 KB)\n",
              "</pre>\n"
            ]
          },
          "metadata": {}
        },
        {
          "output_type": "display_data",
          "data": {
            "text/plain": [
              "\u001b[1m Non-trainable params: \u001b[0m\u001b[38;5;34m0\u001b[0m (0.00 B)\n"
            ],
            "text/html": [
              "<pre style=\"white-space:pre;overflow-x:auto;line-height:normal;font-family:Menlo,'DejaVu Sans Mono',consolas,'Courier New',monospace\"><span style=\"font-weight: bold\"> Non-trainable params: </span><span style=\"color: #00af00; text-decoration-color: #00af00\">0</span> (0.00 B)\n",
              "</pre>\n"
            ]
          },
          "metadata": {}
        },
        {
          "output_type": "display_data",
          "data": {
            "text/plain": [
              "\u001b[1m Optimizer params: \u001b[0m\u001b[38;5;34m5,702\u001b[0m (22.28 KB)\n"
            ],
            "text/html": [
              "<pre style=\"white-space:pre;overflow-x:auto;line-height:normal;font-family:Menlo,'DejaVu Sans Mono',consolas,'Courier New',monospace\"><span style=\"font-weight: bold\"> Optimizer params: </span><span style=\"color: #00af00; text-decoration-color: #00af00\">5,702</span> (22.28 KB)\n",
              "</pre>\n"
            ]
          },
          "metadata": {}
        }
      ]
    },
    {
      "cell_type": "code",
      "source": [],
      "metadata": {
        "id": "hLZ4sqT9OgKM"
      },
      "execution_count": null,
      "outputs": []
    }
  ]
}