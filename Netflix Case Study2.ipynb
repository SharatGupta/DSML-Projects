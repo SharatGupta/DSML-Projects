{
  "cells": [
    {
      "cell_type": "code",
      "source": [
        "import numpy as np\n",
        "import pandas as pd\n",
        "import matplotlib.pyplot as plt\n",
        "import seaborn as sns"
      ],
      "metadata": {
        "id": "kZXp4UspRovA"
      },
      "execution_count": null,
      "outputs": []
    },
    {
      "cell_type": "code",
      "source": [
        "data = pd.read_csv(\"Netflix.csv\")"
      ],
      "metadata": {
        "id": "r_DgdCOnR7TO"
      },
      "execution_count": 125,
      "outputs": []
    },
    {
      "cell_type": "code",
      "source": [
        "data.shape"
      ],
      "metadata": {
        "id": "SBIOuA-ySCdu"
      },
      "execution_count": null,
      "outputs": []
    },
    {
      "cell_type": "code",
      "source": [
        "data.info()"
      ],
      "metadata": {
        "id": "-ta9yQx4SFLN"
      },
      "execution_count": null,
      "outputs": []
    },
    {
      "cell_type": "code",
      "source": [
        "data.head(5)"
      ],
      "metadata": {
        "id": "uq4mISZMSeqv"
      },
      "execution_count": null,
      "outputs": []
    },
    {
      "cell_type": "markdown",
      "source": [
        "# **Cleaning Data - Filling NaN**\n",
        "1. Director  - unknown director\n",
        "2. Cast - unknown cast\n",
        "3. country - unknown country\n",
        "4. date_added - Unknown\n",
        "5. rating - NR\n",
        "6. Duration - 0\n",
        "7. Date_added - leaving as NaN only"
      ],
      "metadata": {
        "id": "T-UabKUCjxJu"
      }
    },
    {
      "cell_type": "code",
      "source": [
        "data.dropna(axis = 1, how = \"all\",inplace=True)\n",
        "data[\"director\"].fillna(\"unknown_director\",inplace=True)\n",
        "data[\"country\"].fillna(\"unknown_country\",inplace = True)\n",
        "data[\"cast\"].fillna(\"unknown_cast\",inplace = True)\n",
        "data[\"rating\"].fillna(\"NR\",inplace = True)\n",
        "data[\"duration\"].fillna(\"0 time\",inplace=True)"
      ],
      "metadata": {
        "id": "4VVfLX_1gZFO"
      },
      "execution_count": 126,
      "outputs": []
    },
    {
      "cell_type": "code",
      "source": [
        "data.info()"
      ],
      "metadata": {
        "id": "GpXgBMELlFv_",
        "colab": {
          "base_uri": "https://localhost:8080/",
          "height": 0
        },
        "outputId": "3d787492-5888-4dda-ab0f-0ee3bfa7deca"
      },
      "execution_count": 127,
      "outputs": [
        {
          "output_type": "stream",
          "name": "stdout",
          "text": [
            "<class 'pandas.core.frame.DataFrame'>\n",
            "RangeIndex: 8807 entries, 0 to 8806\n",
            "Data columns (total 12 columns):\n",
            " #   Column        Non-Null Count  Dtype \n",
            "---  ------        --------------  ----- \n",
            " 0   show_id       8807 non-null   object\n",
            " 1   type          8807 non-null   object\n",
            " 2   title         8807 non-null   object\n",
            " 3   director      8807 non-null   object\n",
            " 4   cast          8807 non-null   object\n",
            " 5   country       8807 non-null   object\n",
            " 6   date_added    8797 non-null   object\n",
            " 7   release_year  8807 non-null   int64 \n",
            " 8   rating        8807 non-null   object\n",
            " 9   duration      8807 non-null   object\n",
            " 10  listed_in     8807 non-null   object\n",
            " 11  description   8807 non-null   object\n",
            "dtypes: int64(1), object(11)\n",
            "memory usage: 825.8+ KB\n"
          ]
        }
      ]
    },
    {
      "cell_type": "markdown",
      "source": [
        "# **Cleaning Data - Unesting Columns**\n",
        "1. Country\n",
        "2. Cast\n",
        "3. Listed_in\n",
        "\n",
        "I just splitting them into Lists, will use explode later whenever needed\n",
        "\n",
        "\n",
        "\n",
        "\n"
      ],
      "metadata": {
        "id": "x2qAQL37SahP"
      }
    },
    {
      "cell_type": "code",
      "source": [
        "data[\"country\"]=data[\"country\"].str.split(\", \")\n",
        "data[\"cast\"]=data[\"cast\"].str.split(\", \")\n",
        "data[\"listed_in\"]=data[\"listed_in\"].str.split(\", \")"
      ],
      "metadata": {
        "id": "U6aaaNX3TZHh"
      },
      "execution_count": 128,
      "outputs": []
    },
    {
      "cell_type": "code",
      "source": [
        "data.info()"
      ],
      "metadata": {
        "id": "zfxi3KXBmDsf"
      },
      "execution_count": null,
      "outputs": []
    },
    {
      "cell_type": "markdown",
      "source": [
        "# **Changing \"Rating Columns\" from cateogorical to Numerical :**\n",
        "\n",
        "*   1 --> Very Child Friendly\n",
        "*   9 --> Stricly adult Content\n",
        "*   10 -->Not Rated , NAN, other data like 74 min,84min,66min\n",
        "\n",
        "\n",
        "\n",
        "\n",
        "\n",
        "\n",
        "\n"
      ],
      "metadata": {
        "id": "_gKf1pDlY1rZ"
      }
    },
    {
      "cell_type": "code",
      "source": [
        "data[\"rating\"].value_counts()"
      ],
      "metadata": {
        "id": "pxcn5UpYbsCr"
      },
      "execution_count": null,
      "outputs": []
    },
    {
      "cell_type": "code",
      "source": [
        "data[\"rating\"]=data[\"rating\"].replace([\"TV-Y\",\"TV-Y7\",\"TV-Y7-FV\",\"TV-G\",\"G\",\"TV-PG\",\"PG\",\"PG-13\",\"TV-14\",\"R\",\"TV-MA\",\"NC-17\",\"NR\",\"UR\",\"74 min\",\"84 min\",\"66 min\"],[1,2,3,4,4,5,5,6,7,8,9,9,10,10,10,10,10])"
      ],
      "metadata": {
        "id": "L_n4JVYnaEB7"
      },
      "execution_count": 130,
      "outputs": []
    },
    {
      "cell_type": "code",
      "source": [
        "data[\"rating\"].value_counts()"
      ],
      "metadata": {
        "colab": {
          "base_uri": "https://localhost:8080/",
          "height": 0
        },
        "id": "D2equQMLmXS3",
        "outputId": "8a386958-97e4-4a6f-c6c0-5bd492022889"
      },
      "execution_count": 131,
      "outputs": [
        {
          "output_type": "execute_result",
          "data": {
            "text/plain": [
              "9     3210\n",
              "7     2160\n",
              "5     1150\n",
              "8      799\n",
              "6      490\n",
              "2      334\n",
              "1      307\n",
              "4      261\n",
              "10      90\n",
              "3        6\n",
              "Name: rating, dtype: int64"
            ]
          },
          "metadata": {},
          "execution_count": 131
        }
      ]
    },
    {
      "cell_type": "code",
      "source": [
        "data.info()"
      ],
      "metadata": {
        "id": "1xaMZ4U-bBmS"
      },
      "execution_count": null,
      "outputs": []
    },
    {
      "cell_type": "markdown",
      "source": [
        "# **Changing \"Duration Columns\" from Object to Int**\n",
        "\n",
        "Ex:\n",
        "\n",
        "\n",
        "*   TV Shows are given as seasons, so 2 Seasons --> 2\n",
        "*   Movies are given as min, so 119 mins --> 119\n",
        "\n"
      ],
      "metadata": {
        "id": "VRwuCep6uFSC"
      }
    },
    {
      "cell_type": "code",
      "source": [
        "data[\"duration\"]=data[\"duration\"].str.split(expand = True)[0]\n",
        "data[\"duration\"] = data[\"duration\"].astype(\"int64\")"
      ],
      "metadata": {
        "id": "3XD8pds5rsg4"
      },
      "execution_count": 132,
      "outputs": []
    },
    {
      "cell_type": "code",
      "source": [
        "data.info()"
      ],
      "metadata": {
        "id": "uvCd4wstufb7",
        "colab": {
          "base_uri": "https://localhost:8080/",
          "height": 0
        },
        "outputId": "84fadb96-1390-4bc6-ac3e-ab3055235278"
      },
      "execution_count": 133,
      "outputs": [
        {
          "output_type": "stream",
          "name": "stdout",
          "text": [
            "<class 'pandas.core.frame.DataFrame'>\n",
            "RangeIndex: 8807 entries, 0 to 8806\n",
            "Data columns (total 12 columns):\n",
            " #   Column        Non-Null Count  Dtype \n",
            "---  ------        --------------  ----- \n",
            " 0   show_id       8807 non-null   object\n",
            " 1   type          8807 non-null   object\n",
            " 2   title         8807 non-null   object\n",
            " 3   director      8807 non-null   object\n",
            " 4   cast          8807 non-null   object\n",
            " 5   country       8807 non-null   object\n",
            " 6   date_added    8797 non-null   object\n",
            " 7   release_year  8807 non-null   int64 \n",
            " 8   rating        8807 non-null   int64 \n",
            " 9   duration      8807 non-null   int64 \n",
            " 10  listed_in     8807 non-null   object\n",
            " 11  description   8807 non-null   object\n",
            "dtypes: int64(3), object(9)\n",
            "memory usage: 825.8+ KB\n"
          ]
        }
      ]
    },
    {
      "cell_type": "markdown",
      "source": [
        "# **Changing Column \"Date_added\" Dtype to datetime**"
      ],
      "metadata": {
        "id": "_ndS9VGUX-tD"
      }
    },
    {
      "cell_type": "code",
      "source": [
        "data[\"date_added\"]=data[\"date_added\"].astype(\"datetime64\")"
      ],
      "metadata": {
        "id": "iir2k-2ZX9J9"
      },
      "execution_count": 134,
      "outputs": []
    },
    {
      "cell_type": "markdown",
      "source": [
        "# **Changing Column \"release_year\" Dtype to datetime**\n",
        "\n",
        "*   As Only Year given in release_year , Assuming release happend at **1st Jan of Every Year**\n",
        "\n"
      ],
      "metadata": {
        "id": "utEpiQUo0Its"
      }
    },
    {
      "cell_type": "code",
      "source": [
        "data[\"release_year\"]=pd.to_datetime(data[\"release_year\"],format = \"%Y\")"
      ],
      "metadata": {
        "id": "PWUwx3tsvuS_"
      },
      "execution_count": 135,
      "outputs": []
    },
    {
      "cell_type": "code",
      "source": [
        "data.info()"
      ],
      "metadata": {
        "id": "wM-TPsmgvKo1",
        "colab": {
          "base_uri": "https://localhost:8080/",
          "height": 0
        },
        "outputId": "6a5c41db-e733-4ae9-ef4d-db81b09d259e"
      },
      "execution_count": 136,
      "outputs": [
        {
          "output_type": "stream",
          "name": "stdout",
          "text": [
            "<class 'pandas.core.frame.DataFrame'>\n",
            "RangeIndex: 8807 entries, 0 to 8806\n",
            "Data columns (total 12 columns):\n",
            " #   Column        Non-Null Count  Dtype         \n",
            "---  ------        --------------  -----         \n",
            " 0   show_id       8807 non-null   object        \n",
            " 1   type          8807 non-null   object        \n",
            " 2   title         8807 non-null   object        \n",
            " 3   director      8807 non-null   object        \n",
            " 4   cast          8807 non-null   object        \n",
            " 5   country       8807 non-null   object        \n",
            " 6   date_added    8797 non-null   datetime64[ns]\n",
            " 7   release_year  8807 non-null   datetime64[ns]\n",
            " 8   rating        8807 non-null   int64         \n",
            " 9   duration      8807 non-null   int64         \n",
            " 10  listed_in     8807 non-null   object        \n",
            " 11  description   8807 non-null   object        \n",
            "dtypes: datetime64[ns](2), int64(2), object(8)\n",
            "memory usage: 825.8+ KB\n"
          ]
        }
      ]
    },
    {
      "cell_type": "markdown",
      "source": [
        "# **Statistical Analysis of Cleaned Data**"
      ],
      "metadata": {
        "id": "S2XJ-DeyCG95"
      }
    },
    {
      "cell_type": "code",
      "source": [
        "data.describe()"
      ],
      "metadata": {
        "id": "AA2FiM8M0vkr"
      },
      "execution_count": null,
      "outputs": []
    },
    {
      "cell_type": "code",
      "source": [
        "data.describe(include=object)"
      ],
      "metadata": {
        "id": "tuabY-0p08S2"
      },
      "execution_count": null,
      "outputs": []
    },
    {
      "cell_type": "code",
      "source": [
        "data.describe(datetime_is_numeric=True)"
      ],
      "metadata": {
        "id": "zIWTMDrQ1HO0"
      },
      "execution_count": null,
      "outputs": []
    },
    {
      "cell_type": "code",
      "source": [
        "data.info()"
      ],
      "metadata": {
        "id": "BL5_3toRAAyA"
      },
      "execution_count": null,
      "outputs": []
    },
    {
      "cell_type": "markdown",
      "source": [
        "# Creating New & Using Unfiltered Data with DataFrame Name - \"data2\"\n",
        "\n",
        "*   To avoid getting Unknown Values in Graphical & Non-Graphical Analysis\n",
        "\n",
        "\n"
      ],
      "metadata": {
        "id": "WlHaEqF9Ev_Z"
      }
    },
    {
      "cell_type": "code",
      "source": [
        "data2 = pd.read_csv(\"Netflix.csv\")\n",
        "data2[\"country\"]=data2[\"country\"].str.split(\", \")\n",
        "data2[\"cast\"]=data2[\"cast\"].str.split(\", \")\n",
        "data2[\"listed_in\"]=data2[\"listed_in\"].str.split(\", \")\n",
        "data2[\"rating\"].fillna(\"NR\",inplace = True)\n",
        "data2[\"duration\"].fillna(\"0 time\",inplace=True)\n",
        "data2[\"rating\"]=data2[\"rating\"].replace([\"TV-Y\",\"TV-Y7\",\"TV-Y7-FV\",\"TV-G\",\"G\",\"TV-PG\",\"PG\",\"PG-13\",\"TV-14\",\"R\",\"TV-MA\",\"NC-17\",\"NR\",\"UR\",\"74 min\",\"84 min\",\"66 min\"],[1,2,3,4,4,5,5,6,7,8,9,9,10,10,10,10,10])\n",
        "data2[\"date_added\"]=data2[\"date_added\"].astype(\"datetime64\")\n",
        "data2[\"release_year\"]=pd.to_datetime(data2[\"release_year\"],format = \"%Y\")\n",
        "data2[\"duration\"]=data2[\"duration\"].str.split(expand = True)[0]\n",
        "data2[\"duration\"] = data2[\"duration\"].astype(\"int64\")"
      ],
      "metadata": {
        "id": "U2uyV_yrEdJx"
      },
      "execution_count": 145,
      "outputs": []
    },
    {
      "cell_type": "code",
      "source": [
        "data2.info()"
      ],
      "metadata": {
        "colab": {
          "base_uri": "https://localhost:8080/",
          "height": 0
        },
        "id": "aTVQCHpGnMMn",
        "outputId": "528c441b-d3b2-4a1a-e5c8-0e0e4b0919b2"
      },
      "execution_count": 146,
      "outputs": [
        {
          "output_type": "stream",
          "name": "stdout",
          "text": [
            "<class 'pandas.core.frame.DataFrame'>\n",
            "RangeIndex: 8807 entries, 0 to 8806\n",
            "Data columns (total 12 columns):\n",
            " #   Column        Non-Null Count  Dtype         \n",
            "---  ------        --------------  -----         \n",
            " 0   show_id       8807 non-null   object        \n",
            " 1   type          8807 non-null   object        \n",
            " 2   title         8807 non-null   object        \n",
            " 3   director      6173 non-null   object        \n",
            " 4   cast          7982 non-null   object        \n",
            " 5   country       7976 non-null   object        \n",
            " 6   date_added    8797 non-null   datetime64[ns]\n",
            " 7   release_year  8807 non-null   datetime64[ns]\n",
            " 8   rating        8807 non-null   int64         \n",
            " 9   duration      8807 non-null   int64         \n",
            " 10  listed_in     8807 non-null   object        \n",
            " 11  description   8807 non-null   object        \n",
            "dtypes: datetime64[ns](2), int64(2), object(8)\n",
            "memory usage: 825.8+ KB\n"
          ]
        }
      ]
    },
    {
      "cell_type": "markdown",
      "source": [
        "# **Categorical Variable - Graphical & Non-Graphical Analysis**"
      ],
      "metadata": {
        "id": "XZffwyZ3B4ao"
      }
    },
    {
      "cell_type": "markdown",
      "source": [
        "**Type - A Movie or TV Show**"
      ],
      "metadata": {
        "id": "f98-sRoVCUhw"
      }
    },
    {
      "cell_type": "code",
      "source": [
        "data[\"type\"].value_counts()"
      ],
      "metadata": {
        "id": "jj5ZMYtYot5P"
      },
      "execution_count": null,
      "outputs": []
    },
    {
      "cell_type": "code",
      "source": [
        "sns.countplot(data = data,x=\"type\")\n",
        "plt.title(\"Count of Movies/Shows\")\n",
        "plt.show()"
      ],
      "metadata": {
        "id": "rjRXrksWo1KL"
      },
      "execution_count": null,
      "outputs": []
    },
    {
      "cell_type": "markdown",
      "source": [
        "Inference : Movies Qty is more than TV Shows Qty\n",
        "\n",
        "\n",
        "\n",
        "---\n",
        "\n",
        "\n",
        "\n",
        "---\n",
        "\n",
        "\n",
        "\n"
      ],
      "metadata": {
        "id": "Bdnawh8nCsCQ"
      }
    },
    {
      "cell_type": "markdown",
      "source": [
        "**Director**"
      ],
      "metadata": {
        "id": "GNqIPTqHDRns"
      }
    },
    {
      "cell_type": "code",
      "source": [
        "data2[\"director\"].value_counts()"
      ],
      "metadata": {
        "id": "YzTTihE7ph5g"
      },
      "execution_count": null,
      "outputs": []
    },
    {
      "cell_type": "code",
      "source": [
        "sns.countplot(data = data,x=\"director\")\n",
        "plt.title(\"Director Count\")\n",
        "plt.show()"
      ],
      "metadata": {
        "id": "GAUu93dmDgFp"
      },
      "execution_count": null,
      "outputs": []
    },
    {
      "cell_type": "code",
      "source": [
        "A =data2[\"director\"].value_counts().reset_index()\n",
        "sns.histplot(A[\"director\"],bins=19)\n",
        "plt.title(\"No of Director Vs movies/TV shows Directed\")\n",
        "plt.xlabel(\"No of Directors\")\n",
        "plt.ylabel(\"No of Movies/TV Shows\")\n",
        "plt.show()"
      ],
      "metadata": {
        "id": "C_ojwpNsqDFj"
      },
      "execution_count": null,
      "outputs": []
    },
    {
      "cell_type": "markdown",
      "source": [
        "\n",
        "\n",
        "*   Total Number of Directors in Netflix Platfrom = 4528\n",
        "*   Maximum Shows Directed = 19\n",
        "*   Minimum Shows Directed = 1\n",
        "*   Almost 80% Directors have their show First time in Netflix\n",
        "\n",
        "---\n",
        "\n",
        "\n",
        "\n",
        "---\n",
        "\n"
      ],
      "metadata": {
        "id": "dR0ZGQIEnT9y"
      }
    },
    {
      "cell_type": "markdown",
      "source": [
        "**Cast**"
      ],
      "metadata": {
        "id": "zsYuyzu1ojia"
      }
    },
    {
      "cell_type": "code",
      "source": [
        "data2.explode(\"cast\")[\"cast\"].value_counts()"
      ],
      "metadata": {
        "id": "mhKJNTw1pse8"
      },
      "execution_count": null,
      "outputs": []
    },
    {
      "cell_type": "code",
      "source": [
        "A=data2.explode(\"cast\")[\"cast\"].value_counts().reset_index()\n",
        "plt.figure(figsize=(40,12))\n",
        "sns.histplot(A[\"cast\"],bins=39)\n",
        "plt.title(\"No of Actors Vs Total Shows Acted\",fontsize = 20)\n",
        "plt.xticks(rotation=45,fontsize = 20)\n",
        "plt.yticks(fontsize = 20)\n",
        "plt.xlabel(\"No of Actors\",fontsize = 20)\n",
        "plt.ylabel(\"Total Shows Present in\",fontsize = 20)\n",
        "plt.show()"
      ],
      "metadata": {
        "id": "UBRl8sDBozKy"
      },
      "execution_count": null,
      "outputs": []
    },
    {
      "cell_type": "markdown",
      "source": [
        "*   Total Number of Actors in Netflix Platfrom = 39296\n",
        "*   Maximum Shows Acted = 39\n",
        "*   Minimum Shows Acted = 1\n",
        "*   Almost 75% Actor have their Show for First time in Netflix\n",
        "\n",
        "---\n",
        "\n",
        "\n",
        "\n",
        "---\n",
        "\n"
      ],
      "metadata": {
        "id": "wNHAXHTNpw5F"
      }
    },
    {
      "cell_type": "markdown",
      "source": [
        "**Country**"
      ],
      "metadata": {
        "id": "JSLrfsW9qn5j"
      }
    },
    {
      "cell_type": "code",
      "source": [
        "data2.explode(\"country\")[\"country\"].value_counts()"
      ],
      "metadata": {
        "id": "CBWc6qcfqq3z",
        "colab": {
          "base_uri": "https://localhost:8080/",
          "height": 0
        },
        "outputId": "9ea834bb-ef21-4052-b127-0a81867c562a"
      },
      "execution_count": 89,
      "outputs": [
        {
          "output_type": "execute_result",
          "data": {
            "text/plain": [
              "United States     3211\n",
              "India             1008\n",
              "United Kingdom     628\n",
              " United States     479\n",
              "Canada             271\n",
              "                  ... \n",
              " Ecuador             1\n",
              "Iran                 1\n",
              "Cyprus               1\n",
              " Mongolia            1\n",
              " Montenegro          1\n",
              "Name: country, Length: 197, dtype: int64"
            ]
          },
          "metadata": {},
          "execution_count": 89
        }
      ]
    },
    {
      "cell_type": "code",
      "source": [
        "A = data2.explode(\"country\")[\"country\"].value_counts().reset_index().iloc[:20]\n",
        "plt.figure(figsize=(40,12))\n",
        "sns.barplot(data=A,x=\"index\",y=\"country\")\n",
        "plt.title(\"Country Vs Shows released\",fontsize = 20)\n",
        "plt.xticks(rotation=45,fontsize = 20)\n",
        "plt.yticks(fontsize = 20)\n",
        "plt.xlabel(\"Country\",fontsize = 20)\n",
        "plt.ylabel(\"Total Shows relesed\",fontsize = 20)\n",
        "plt.show()"
      ],
      "metadata": {
        "id": "owd5SP3tqyb0"
      },
      "execution_count": null,
      "outputs": []
    },
    {
      "cell_type": "markdown",
      "source": [
        "*   Netflix content avaiable in 197 Countries\n",
        "*   Maximum Shows Released in United States\n",
        "\n",
        "---\n",
        "\n",
        "\n",
        "\n",
        "---\n",
        "\n",
        "\n",
        "\n"
      ],
      "metadata": {
        "id": "KTQC2foZslV_"
      }
    },
    {
      "cell_type": "markdown",
      "source": [
        "**Date_added**"
      ],
      "metadata": {
        "id": "zJc4RqeTumFy"
      }
    },
    {
      "cell_type": "code",
      "source": [
        "data[\"date_added\"].dt.year.value_counts()"
      ],
      "metadata": {
        "id": "wcqkcIGBt0yR"
      },
      "execution_count": null,
      "outputs": []
    },
    {
      "cell_type": "code",
      "source": [
        "#plt.figure(figsize=(12,8))\n",
        "#A= data[\"date_added\"].dt.year.value_counts().reset_index()\n",
        "#sns.barplot(data=A,x=\"index\",y=\"date_added\")\n",
        "sns.countplot(x=data[\"date_added\"].dt.year)\n",
        "plt.title(\"Show Addition year wise\",fontsize = 12)\n",
        "plt.xticks(rotation=45,fontsize = 12)\n",
        "plt.yticks(fontsize = 12)\n",
        "plt.xlabel(\"Year\",fontsize = 12)\n",
        "plt.ylabel(\"Total Shows added\",fontsize = 12)\n",
        "plt.show()"
      ],
      "metadata": {
        "id": "TU5ewdW1u19i"
      },
      "execution_count": null,
      "outputs": []
    },
    {
      "cell_type": "markdown",
      "source": [
        "\n",
        "\n",
        "*   Netflix started shows addition from 2008 and adding content since then every year\n",
        "*   Shows addition started to drastically increase from 2016 & Peaked in year 2019 with 2016 Nos shows added in single year\n",
        "\n",
        "---\n",
        "\n",
        "\n",
        "\n",
        "---\n",
        "\n",
        "\n",
        "\n"
      ],
      "metadata": {
        "id": "oTR2_Tr-vnsp"
      }
    },
    {
      "cell_type": "markdown",
      "source": [
        "**Ratings**\n",
        "\n",
        "Content Rating 1-->Very Child friendly, 9 --> Mature Audience Content\n"
      ],
      "metadata": {
        "id": "_TsxJwJawlH6"
      }
    },
    {
      "cell_type": "code",
      "source": [
        "data[\"rating\"].value_counts()"
      ],
      "metadata": {
        "id": "5swfPU1Dwjua"
      },
      "execution_count": null,
      "outputs": []
    },
    {
      "cell_type": "code",
      "source": [
        "sns.countplot(x=data[\"rating\"])"
      ],
      "metadata": {
        "id": "kPXmgXTVxUV0"
      },
      "execution_count": null,
      "outputs": []
    },
    {
      "cell_type": "markdown",
      "source": [
        "*   88% Shows Avaible are Either Matured Content or Where Parental Guidance is Needed\n",
        "*   Content avaiable for children is very less\n",
        "\n",
        "---\n",
        "\n",
        "\n",
        "\n",
        "---\n",
        "\n",
        "\n",
        "\n",
        "\n",
        "\n",
        "\n"
      ],
      "metadata": {
        "id": "uRSo3oQvy6du"
      }
    },
    {
      "cell_type": "markdown",
      "source": [
        "**Genres - Listed_in**"
      ],
      "metadata": {
        "id": "XOSTN-yqz2Lp"
      }
    },
    {
      "cell_type": "code",
      "source": [
        "data2.explode(\"listed_in\")[\"listed_in\"].value_counts()"
      ],
      "metadata": {
        "id": "0o37Qevmy6Be"
      },
      "execution_count": null,
      "outputs": []
    },
    {
      "cell_type": "code",
      "source": [
        "plt.figure(figsize=(20,8))\n",
        "sns.countplot(data = data2.explode(\"listed_in\"),x=\"listed_in\",order =data2.explode(\"listed_in\")[\"listed_in\"].value_counts().index)\n",
        "plt.title(\"Genre wise Shows Available\",fontsize = 12)\n",
        "plt.xticks(rotation=45,fontsize = 8)\n",
        "plt.yticks(fontsize = 12)\n",
        "plt.xlabel(\"Genres\",fontsize = 12)\n",
        "plt.ylabel(\"Total Shows Avaiable\",fontsize = 12)\n",
        "plt.show()"
      ],
      "metadata": {
        "id": "SayeKI4c2OFu"
      },
      "execution_count": null,
      "outputs": []
    },
    {
      "cell_type": "markdown",
      "source": [
        "*   There are total 73 Genres avaiable in Netflix\n",
        "\n",
        "*   Major Content Avaiable in Genre -  \"Internation Movies\", next is \"Dramas\"\n",
        "\n",
        "\n",
        "---\n",
        "\n",
        "\n",
        "\n",
        "---\n",
        "\n"
      ],
      "metadata": {
        "id": "rcCoV8_P32oj"
      }
    },
    {
      "cell_type": "markdown",
      "source": [
        "# **Comparison of TV Shows vs Movies**"
      ],
      "metadata": {
        "id": "oRyheRiwYcjK"
      }
    },
    {
      "cell_type": "markdown",
      "source": [
        "**Creating Separate Dataframe for Movies & TV Shows for easy Analysis**\n",
        "* Will use below \"moviedata\" & \"tvshowdata\" for Separate anlysis whereever needed"
      ],
      "metadata": {
        "id": "eBUUxBRXeznl"
      }
    },
    {
      "cell_type": "code",
      "source": [
        "moviedata = data2[data2[\"type\"] == \"Movie\"]\n",
        "tvshowdata = data2[data2[\"type\"] == \"TV Show\"]"
      ],
      "metadata": {
        "id": "NmG7OOode7wW"
      },
      "execution_count": 147,
      "outputs": []
    },
    {
      "cell_type": "code",
      "source": [
        "moviedata.info()\n",
        "tvshowdata.info()"
      ],
      "metadata": {
        "id": "Ot9577KhfTjs"
      },
      "execution_count": null,
      "outputs": []
    },
    {
      "cell_type": "markdown",
      "source": [
        "# **Country wise Content Comparison**"
      ],
      "metadata": {
        "id": "r1y5kDVafn2d"
      }
    },
    {
      "cell_type": "code",
      "source": [
        "moviecountry = moviedata.explode(\"country\").groupby(\"country\")[\"title\"].count().sort_values(ascending=False).reset_index()\n",
        "moviecountry"
      ],
      "metadata": {
        "id": "nUO9tceBfuRt"
      },
      "execution_count": null,
      "outputs": []
    },
    {
      "cell_type": "code",
      "source": [
        "tvshowcountry = tvshowdata.explode(\"country\").groupby(\"country\")[\"title\"].count().sort_values(ascending=False).reset_index()\n",
        "tvshowcountry"
      ],
      "metadata": {
        "id": "04lvYWmZgYkR"
      },
      "execution_count": null,
      "outputs": []
    },
    {
      "cell_type": "code",
      "source": [
        "plt.figure(figsize = (20,8))\n",
        "plt.subplot(1,2,1)\n",
        "sns.barplot(data= moviecountry.iloc[:10], x=\"country\",y=\"title\")\n",
        "plt.title(\"Country wise Movies Count\",fontsize = 12)\n",
        "plt.xticks(rotation=45,fontsize = 10)\n",
        "plt.yticks(fontsize = 12)\n",
        "plt.xlabel(\"Countries\",fontsize = 10)\n",
        "plt.ylabel(\"Total Movies Available\",fontsize = 10)\n",
        "plt.subplot(1,2,2)\n",
        "sns.barplot(data= tvshowcountry.iloc[:10], x=\"country\",y=\"title\")\n",
        "plt.title(\"Country wise TV Show Count\",fontsize = 12)\n",
        "plt.xticks(rotation=45,fontsize = 10)\n",
        "plt.yticks(fontsize = 12)\n",
        "plt.xlabel(\"Countries\",fontsize = 10)\n",
        "plt.ylabel(\"Total TV Shows Avaiable\",fontsize = 10)\n",
        "plt.show()"
      ],
      "metadata": {
        "id": "WhjxH6Cggtxa"
      },
      "execution_count": null,
      "outputs": []
    },
    {
      "cell_type": "code",
      "source": [
        "countrydata = data2.explode(\"country\").groupby([\"type\",\"country\"])[\"title\"].count().sort_values(ascending=False).reset_index()\n",
        "countrydata"
      ],
      "metadata": {
        "id": "dyBtyMSkYjRn"
      },
      "execution_count": null,
      "outputs": []
    },
    {
      "cell_type": "code",
      "source": [
        "plt.figure(figsize = (20,8))\n",
        "plt.subplot(1,2,1)\n",
        "sns.barplot(data= countrydata[countrydata[\"type\"] == \"Movie\"].sort_values(\"title\",ascending = False).iloc[:10], x=\"country\",y=\"title\")\n",
        "plt.title(\"Country wise Movies Count\",fontsize = 12)\n",
        "plt.xticks(rotation=45,fontsize = 10)\n",
        "plt.yticks(fontsize = 12)\n",
        "plt.xlabel(\"Countries\",fontsize = 10)\n",
        "plt.ylabel(\"Total Movies Available\",fontsize = 10)\n",
        "plt.subplot(1,2,2)\n",
        "sns.barplot(data= countrydata[countrydata[\"type\"] == \"TV Show\"].sort_values(\"title\",ascending = False).iloc[:10], x=\"country\",y=\"title\")\n",
        "plt.title(\"Country wise TV Show Count\",fontsize = 12)\n",
        "plt.xticks(rotation=45,fontsize = 10)\n",
        "plt.yticks(fontsize = 12)\n",
        "plt.xlabel(\"Countries\",fontsize = 10)\n",
        "plt.ylabel(\"Total TV Shows Avaiable\",fontsize = 10)\n",
        "plt.show()"
      ],
      "metadata": {
        "id": "PhSmmOX7aMkp"
      },
      "execution_count": null,
      "outputs": []
    },
    {
      "cell_type": "markdown",
      "source": [
        "\n",
        "*   Netflix Movie Content is avaiable in more countries than its TV Shows\n",
        "*   Movie Content in avaiable in 122 Countries\n",
        "*   TV Show Content is avaiable in 66 countries only\n",
        "*   United States has highest content of Movies and TV Shows in Netflix Platform\n",
        "\n",
        "\n",
        "\n"
      ],
      "metadata": {
        "id": "H6v-XOhbcXOu"
      }
    },
    {
      "cell_type": "markdown",
      "source": [
        "# **Best Time to launch Analysis**"
      ],
      "metadata": {
        "id": "kcTcZLc9iFra"
      }
    },
    {
      "cell_type": "code",
      "source": [
        "moviedata.info()"
      ],
      "metadata": {
        "colab": {
          "base_uri": "https://localhost:8080/",
          "height": 0
        },
        "id": "e1G9P_xCiPAi",
        "outputId": "ff06829b-a864-40f1-a7b0-b8f8fe53c712"
      },
      "execution_count": 151,
      "outputs": [
        {
          "output_type": "stream",
          "name": "stdout",
          "text": [
            "<class 'pandas.core.frame.DataFrame'>\n",
            "Int64Index: 6131 entries, 0 to 8806\n",
            "Data columns (total 12 columns):\n",
            " #   Column        Non-Null Count  Dtype         \n",
            "---  ------        --------------  -----         \n",
            " 0   show_id       6131 non-null   object        \n",
            " 1   type          6131 non-null   object        \n",
            " 2   title         6131 non-null   object        \n",
            " 3   director      5943 non-null   object        \n",
            " 4   cast          5656 non-null   object        \n",
            " 5   country       5691 non-null   object        \n",
            " 6   date_added    6131 non-null   datetime64[ns]\n",
            " 7   release_year  6131 non-null   datetime64[ns]\n",
            " 8   rating        6131 non-null   int64         \n",
            " 9   duration      6131 non-null   int64         \n",
            " 10  listed_in     6131 non-null   object        \n",
            " 11  description   6131 non-null   object        \n",
            "dtypes: datetime64[ns](2), int64(2), object(8)\n",
            "memory usage: 622.7+ KB\n"
          ]
        }
      ]
    },
    {
      "cell_type": "code",
      "source": [
        "weekday = data2.groupby([data2[\"date_added\"].dt.day_name(),\"type\"])[\"title\"].count().reset_index().sort_values(\"title\",ascending = False)\n",
        "weekday"
      ],
      "metadata": {
        "id": "d2u85SeZpolS"
      },
      "execution_count": null,
      "outputs": []
    },
    {
      "cell_type": "code",
      "source": [
        "sns.barplot(data =weekday ,x =\"date_added\",y= \"title\", hue=\"type\" )\n",
        "plt.title(\"Day_of_week Vs Released Qty\",fontsize = 12)\n",
        "plt.xticks(rotation=45,fontsize = 10)\n",
        "plt.yticks(fontsize = 12)\n",
        "plt.xlabel(\"Weekday_Name\",fontsize = 10)\n",
        "plt.ylabel(\"Total Content Releases\",fontsize = 10)\n",
        "plt.show()"
      ],
      "metadata": {
        "colab": {
          "base_uri": "https://localhost:8080/",
          "height": 525
        },
        "id": "BKR2IGv3uaPv",
        "outputId": "540e419b-90ee-4398-dd5f-7ba3807ac9f3"
      },
      "execution_count": 178,
      "outputs": [
        {
          "output_type": "display_data",
          "data": {
            "text/plain": [
              "<Figure size 640x480 with 1 Axes>"
            ],
            "image/png": "[encoded data removed]"
          },
          "metadata": {}
        }
      ]
    },
    {
      "cell_type": "code",
      "source": [
        "week = data2.groupby([data2[\"date_added\"].dt.week,\"type\"])[\"title\"].count().reset_index().sort_values(\"title\",ascending = False)\n",
        "week"
      ],
      "metadata": {
        "id": "-XwZJfsg0YOo"
      },
      "execution_count": null,
      "outputs": []
    },
    {
      "cell_type": "code",
      "source": [
        "plt.figure(figsize = (20,8))\n",
        "sns.barplot(data =week ,x =\"date_added\",y= \"title\", hue=\"type\" )\n",
        "plt.title(\"Week# Vs Released Qty\",fontsize = 12)\n",
        "plt.xticks(rotation=45,fontsize = 10)\n",
        "plt.yticks(fontsize = 12)\n",
        "plt.xlabel(\"Week\",fontsize = 10)\n",
        "plt.ylabel(\"Total Content Releases\",fontsize = 10)\n",
        "plt.show()"
      ],
      "metadata": {
        "colab": {
          "base_uri": "https://localhost:8080/",
          "height": 565
        },
        "id": "mS6p0Dso0mBX",
        "outputId": "3bde1c47-3b0f-4350-bd3a-0e6655d76a0e"
      },
      "execution_count": 186,
      "outputs": [
        {
          "output_type": "display_data",
          "data": {
            "text/plain": [
              "<Figure size 2000x800 with 1 Axes>"
            ],
            "image/png": "[encoded data removed]"
          },
          "metadata": {}
        }
      ]
    },
    {
      "cell_type": "code",
      "source": [
        "month = data2.groupby([data2[\"date_added\"].dt.month_name(),\"type\"])[\"title\"].count().reset_index().sort_values(\"title\",ascending = False)\n",
        "month"
      ],
      "metadata": {
        "id": "zhAihbN91NbQ"
      },
      "execution_count": null,
      "outputs": []
    },
    {
      "cell_type": "code",
      "source": [
        "plt.figure(figsize = (20,8))\n",
        "sns.barplot(data =month ,x =\"date_added\",y= \"title\", hue=\"type\" )\n",
        "plt.title(\"Month Vs Released Qty\",fontsize = 12)\n",
        "plt.xticks(rotation=45,fontsize = 10)\n",
        "plt.yticks(fontsize = 12)\n",
        "plt.xlabel(\"Month_Name\",fontsize = 10)\n",
        "plt.ylabel(\"Total Content Releases\",fontsize = 10)\n",
        "plt.show()"
      ],
      "metadata": {
        "colab": {
          "base_uri": "https://localhost:8080/",
          "height": 590
        },
        "id": "Mkoo5p8-1aUn",
        "outputId": "6ca52c9b-2611-4ed0-addd-6c22e497836d"
      },
      "execution_count": 185,
      "outputs": [
        {
          "output_type": "display_data",
          "data": {
            "text/plain": [
              "<Figure size 2000x800 with 1 Axes>"
            ],
            "image/png": "[encoded data removed]"
          },
          "metadata": {}
        }
      ]
    },
    {
      "cell_type": "markdown",
      "source": [
        "\n",
        "\n",
        "* In as week Best Week Day for Relase is Friday\n",
        "* In a Year,Best Week for Release is Last week of Every month , as we can see spike in release every 4 weeks\n",
        "* In a Year,No specific Best month for release, July has highest releases, But Decemeber+January has Highest release may be due to holidays\n",
        "* Overall Best time to release is Last & First week of Year\n",
        "\n",
        "---\n",
        "\n",
        "\n",
        "\n",
        "---\n",
        "\n",
        "\n",
        "\n",
        "\n"
      ],
      "metadata": {
        "id": "F9qVRfRa2VPP"
      }
    },
    {
      "cell_type": "markdown",
      "source": [
        "# **Director Analysis**"
      ],
      "metadata": {
        "id": "cOLKxZKR4LTz"
      }
    },
    {
      "cell_type": "code",
      "source": [
        "moviedirector = moviedata.groupby(\"director\")[\"title\"].count().sort_values(ascending=False).reset_index()\n",
        "moviedirector"
      ],
      "metadata": {
        "colab": {
          "base_uri": "https://localhost:8080/",
          "height": 424
        },
        "id": "4txeUh4R4gVm",
        "outputId": "7638e8e8-41de-43ca-a0fc-8b1c761fd29b"
      },
      "execution_count": 190,
      "outputs": [
        {
          "data": {
            "text/html": [
              "\n",
              "  <div id=\"df-447cd6b6-6b4e-4cc9-b87c-153fec164b28\">\n",
              "    <div class=\"colab-df-container\">\n",
              "      <div>\n",
              "<style scoped>\n",
              "    .dataframe tbody tr th:only-of-type {\n",
              "        vertical-align: middle;\n",
              "    }\n",
              "\n",
              "    .dataframe tbody tr th {\n",
              "        vertical-align: top;\n",
              "    }\n",
              "\n",
              "    .dataframe thead th {\n",
              "        text-align: right;\n",
              "    }\n",
              "</style>\n",
              "<table border=\"1\" class=\"dataframe\">\n",
              "  <thead>\n",
              "    <tr style=\"text-align: right;\">\n",
              "      <th></th>\n",
              "      <th>director</th>\n",
              "      <th>title</th>\n",
              "    </tr>\n",
              "  </thead>\n",
              "  <tbody>\n",
              "    <tr>\n",
              "      <th>0</th>\n",
              "      <td>Rajiv Chilaka</td>\n",
              "      <td>19</td>\n",
              "    </tr>\n",
              "    <tr>\n",
              "      <th>1</th>\n",
              "      <td>Raúl Campos, Jan Suter</td>\n",
              "      <td>18</td>\n",
              "    </tr>\n",
              "    <tr>\n",
              "      <th>2</th>\n",
              "      <td>Suhas Kadav</td>\n",
              "      <td>16</td>\n",
              "    </tr>\n",
              "    <tr>\n",
              "      <th>3</th>\n",
              "      <td>Marcus Raboy</td>\n",
              "      <td>15</td>\n",
              "    </tr>\n",
              "    <tr>\n",
              "      <th>4</th>\n",
              "      <td>Jay Karas</td>\n",
              "      <td>14</td>\n",
              "    </tr>\n",
              "    <tr>\n",
              "      <th>...</th>\n",
              "      <td>...</td>\n",
              "      <td>...</td>\n",
              "    </tr>\n",
              "    <tr>\n",
              "      <th>4349</th>\n",
              "      <td>Jose Gomez</td>\n",
              "      <td>1</td>\n",
              "    </tr>\n",
              "    <tr>\n",
              "      <th>4350</th>\n",
              "      <td>Jose Javier Reyes</td>\n",
              "      <td>1</td>\n",
              "    </tr>\n",
              "    <tr>\n",
              "      <th>4351</th>\n",
              "      <td>Bilal Lashari</td>\n",
              "      <td>1</td>\n",
              "    </tr>\n",
              "    <tr>\n",
              "      <th>4352</th>\n",
              "      <td>Joseduardo Giordano, Sergio Goyri Jr.</td>\n",
              "      <td>1</td>\n",
              "    </tr>\n",
              "    <tr>\n",
              "      <th>4353</th>\n",
              "      <td>Kief Davidson, Pedro Kos</td>\n",
              "      <td>1</td>\n",
              "    </tr>\n",
              "  </tbody>\n",
              "</table>\n",
              "<p>4354 rows × 2 columns</p>\n",
              "</div>\n",
              "      <button class=\"colab-df-convert\" onclick=\"convertToInteractive('df-447cd6b6-6b4e-4cc9-b87c-153fec164b28')\"\n",
              "              title=\"Convert this dataframe to an interactive table.\"\n",
              "              style=\"display:none;\">\n",
              "        \n",
              "  <svg xmlns=\"http://www.w3.org/2000/svg\" height=\"24px\"viewBox=\"0 0 24 24\"\n",
              "       width=\"24px\">\n",
              "    <path d=\"M0 0h24v24H0V0z\" fill=\"none\"/>\n",
              "    <path d=\"M18.56 5.44l.94 2.06.94-2.06 2.06-.94-2.06-.94-.94-2.06-.94 2.06-2.06.94zm-11 1L8.5 8.5l.94-2.06 2.06-.94-2.06-.94L8.5 2.5l-.94 2.06-2.06.94zm10 10l.94 2.06.94-2.06 2.06-.94-2.06-.94-.94-2.06-.94 2.06-2.06.94z\"/><path d=\"M17.41 7.96l-1.37-1.37c-.4-.4-.92-.59-1.43-.59-.52 0-1.04.2-1.43.59L10.3 9.45l-7.72 7.72c-.78.78-.78 2.05 0 2.83L4 21.41c.39.39.9.59 1.41.59.51 0 1.02-.2 1.41-.59l7.78-7.78 2.81-2.81c.8-.78.8-2.07 0-2.86zM5.41 20L4 18.59l7.72-7.72 1.47 1.35L5.41 20z\"/>\n",
              "  </svg>\n",
              "      </button>\n",
              "      \n",
              "  <style>\n",
              "    .colab-df-container {\n",
              "      display:flex;\n",
              "      flex-wrap:wrap;\n",
              "      gap: 12px;\n",
              "    }\n",
              "\n",
              "    .colab-df-convert {\n",
              "      background-color: #E8F0FE;\n",
              "      border: none;\n",
              "      border-radius: 50%;\n",
              "      cursor: pointer;\n",
              "      display: none;\n",
              "      fill: #1967D2;\n",
              "      height: 32px;\n",
              "      padding: 0 0 0 0;\n",
              "      width: 32px;\n",
              "    }\n",
              "\n",
              "    .colab-df-convert:hover {\n",
              "      background-color: #E2EBFA;\n",
              "      box-shadow: 0px 1px 2px rgba(60, 64, 67, 0.3), 0px 1px 3px 1px rgba(60, 64, 67, 0.15);\n",
              "      fill: #174EA6;\n",
              "    }\n",
              "\n",
              "    [theme=dark] .colab-df-convert {\n",
              "      background-color: #3B4455;\n",
              "      fill: #D2E3FC;\n",
              "    }\n",
              "\n",
              "    [theme=dark] .colab-df-convert:hover {\n",
              "      background-color: #434B5C;\n",
              "      box-shadow: 0px 1px 3px 1px rgba(0, 0, 0, 0.15);\n",
              "      filter: drop-shadow(0px 1px 2px rgba(0, 0, 0, 0.3));\n",
              "      fill: #FFFFFF;\n",
              "    }\n",
              "  </style>\n",
              "\n",
              "      <script>\n",
              "        const buttonEl =\n",
              "          document.querySelector('#df-447cd6b6-6b4e-4cc9-b87c-153fec164b28 button.colab-df-convert');\n",
              "        buttonEl.style.display =\n",
              "          google.colab.kernel.accessAllowed ? 'block' : 'none';\n",
              "\n",
              "        async function convertToInteractive(key) {\n",
              "          const element = document.querySelector('#df-447cd6b6-6b4e-4cc9-b87c-153fec164b28');\n",
              "          const dataTable =\n",
              "            await google.colab.kernel.invokeFunction('convertToInteractive',\n",
              "                                                     [key], {});\n",
              "          if (!dataTable) return;\n",
              "\n",
              "          const docLinkHtml = 'Like what you see? Visit the ' +\n",
              "            '<a target=\"_blank\" href=https://colab.research.google.com/notebooks/data_table.ipynb>data table notebook</a>'\n",
              "            + ' to learn more about interactive tables.';\n",
              "          element.innerHTML = '';\n",
              "          dataTable['output_type'] = 'display_data';\n",
              "          await google.colab.output.renderOutput(dataTable, element);\n",
              "          const docLink = document.createElement('div');\n",
              "          docLink.innerHTML = docLinkHtml;\n",
              "          element.appendChild(docLink);\n",
              "        }\n",
              "      </script>\n",
              "    </div>\n",
              "  </div>\n",
              "  "
            ],
            "text/plain": [
              "                                   director  title\n",
              "0                             Rajiv Chilaka     19\n",
              "1                    Raúl Campos, Jan Suter     18\n",
              "2                               Suhas Kadav     16\n",
              "3                              Marcus Raboy     15\n",
              "4                                 Jay Karas     14\n",
              "...                                     ...    ...\n",
              "4349                             Jose Gomez      1\n",
              "4350                      Jose Javier Reyes      1\n",
              "4351                          Bilal Lashari      1\n",
              "4352  Joseduardo Giordano, Sergio Goyri Jr.      1\n",
              "4353               Kief Davidson, Pedro Kos      1\n",
              "\n",
              "[4354 rows x 2 columns]"
            ]
          },
          "execution_count": 190,
          "metadata": {},
          "output_type": "execute_result"
        }
      ]
    },
    {
      "cell_type": "code",
      "source": [
        "tvshowdirector = tvshowdata.groupby(\"director\")[\"title\"].count().sort_values(ascending=False).reset_index()\n",
        "tvshowdirector"
      ],
      "metadata": {
        "colab": {
          "base_uri": "https://localhost:8080/",
          "height": 424
        },
        "id": "KsQIsUek4lJ7",
        "outputId": "d64bb3e0-d691-467d-87a4-0afe76d38311"
      },
      "execution_count": 191,
      "outputs": [
        {
          "output_type": "execute_result",
          "data": {
            "text/plain": [
              "                director  title\n",
              "0    Alastair Fothergill      3\n",
              "1            Stan Lathan      2\n",
              "2         Iginio Straffi      2\n",
              "3        Rob Seidenglanz      2\n",
              "4              Ken Burns      2\n",
              "..                   ...    ...\n",
              "217        James Bamford      1\n",
              "218          James Hawes      1\n",
              "219            James Lee      1\n",
              "220         Jan Holoubek      1\n",
              "221         Ziad Doueiri      1\n",
              "\n",
              "[222 rows x 2 columns]"
            ],
            "text/html": [
              "\n",
              "  <div id=\"df-a96fdcd9-5622-4782-ac0d-04e2937469e4\">\n",
              "    <div class=\"colab-df-container\">\n",
              "      <div>\n",
              "<style scoped>\n",
              "    .dataframe tbody tr th:only-of-type {\n",
              "        vertical-align: middle;\n",
              "    }\n",
              "\n",
              "    .dataframe tbody tr th {\n",
              "        vertical-align: top;\n",
              "    }\n",
              "\n",
              "    .dataframe thead th {\n",
              "        text-align: right;\n",
              "    }\n",
              "</style>\n",
              "<table border=\"1\" class=\"dataframe\">\n",
              "  <thead>\n",
              "    <tr style=\"text-align: right;\">\n",
              "      <th></th>\n",
              "      <th>director</th>\n",
              "      <th>title</th>\n",
              "    </tr>\n",
              "  </thead>\n",
              "  <tbody>\n",
              "    <tr>\n",
              "      <th>0</th>\n",
              "      <td>Alastair Fothergill</td>\n",
              "      <td>3</td>\n",
              "    </tr>\n",
              "    <tr>\n",
              "      <th>1</th>\n",
              "      <td>Stan Lathan</td>\n",
              "      <td>2</td>\n",
              "    </tr>\n",
              "    <tr>\n",
              "      <th>2</th>\n",
              "      <td>Iginio Straffi</td>\n",
              "      <td>2</td>\n",
              "    </tr>\n",
              "    <tr>\n",
              "      <th>3</th>\n",
              "      <td>Rob Seidenglanz</td>\n",
              "      <td>2</td>\n",
              "    </tr>\n",
              "    <tr>\n",
              "      <th>4</th>\n",
              "      <td>Ken Burns</td>\n",
              "      <td>2</td>\n",
              "    </tr>\n",
              "    <tr>\n",
              "      <th>...</th>\n",
              "      <td>...</td>\n",
              "      <td>...</td>\n",
              "    </tr>\n",
              "    <tr>\n",
              "      <th>217</th>\n",
              "      <td>James Bamford</td>\n",
              "      <td>1</td>\n",
              "    </tr>\n",
              "    <tr>\n",
              "      <th>218</th>\n",
              "      <td>James Hawes</td>\n",
              "      <td>1</td>\n",
              "    </tr>\n",
              "    <tr>\n",
              "      <th>219</th>\n",
              "      <td>James Lee</td>\n",
              "      <td>1</td>\n",
              "    </tr>\n",
              "    <tr>\n",
              "      <th>220</th>\n",
              "      <td>Jan Holoubek</td>\n",
              "      <td>1</td>\n",
              "    </tr>\n",
              "    <tr>\n",
              "      <th>221</th>\n",
              "      <td>Ziad Doueiri</td>\n",
              "      <td>1</td>\n",
              "    </tr>\n",
              "  </tbody>\n",
              "</table>\n",
              "<p>222 rows × 2 columns</p>\n",
              "</div>\n",
              "      <button class=\"colab-df-convert\" onclick=\"convertToInteractive('df-a96fdcd9-5622-4782-ac0d-04e2937469e4')\"\n",
              "              title=\"Convert this dataframe to an interactive table.\"\n",
              "              style=\"display:none;\">\n",
              "        \n",
              "  <svg xmlns=\"http://www.w3.org/2000/svg\" height=\"24px\"viewBox=\"0 0 24 24\"\n",
              "       width=\"24px\">\n",
              "    <path d=\"M0 0h24v24H0V0z\" fill=\"none\"/>\n",
              "    <path d=\"M18.56 5.44l.94 2.06.94-2.06 2.06-.94-2.06-.94-.94-2.06-.94 2.06-2.06.94zm-11 1L8.5 8.5l.94-2.06 2.06-.94-2.06-.94L8.5 2.5l-.94 2.06-2.06.94zm10 10l.94 2.06.94-2.06 2.06-.94-2.06-.94-.94-2.06-.94 2.06-2.06.94z\"/><path d=\"M17.41 7.96l-1.37-1.37c-.4-.4-.92-.59-1.43-.59-.52 0-1.04.2-1.43.59L10.3 9.45l-7.72 7.72c-.78.78-.78 2.05 0 2.83L4 21.41c.39.39.9.59 1.41.59.51 0 1.02-.2 1.41-.59l7.78-7.78 2.81-2.81c.8-.78.8-2.07 0-2.86zM5.41 20L4 18.59l7.72-7.72 1.47 1.35L5.41 20z\"/>\n",
              "  </svg>\n",
              "      </button>\n",
              "      \n",
              "  <style>\n",
              "    .colab-df-container {\n",
              "      display:flex;\n",
              "      flex-wrap:wrap;\n",
              "      gap: 12px;\n",
              "    }\n",
              "\n",
              "    .colab-df-convert {\n",
              "      background-color: #E8F0FE;\n",
              "      border: none;\n",
              "      border-radius: 50%;\n",
              "      cursor: pointer;\n",
              "      display: none;\n",
              "      fill: #1967D2;\n",
              "      height: 32px;\n",
              "      padding: 0 0 0 0;\n",
              "      width: 32px;\n",
              "    }\n",
              "\n",
              "    .colab-df-convert:hover {\n",
              "      background-color: #E2EBFA;\n",
              "      box-shadow: 0px 1px 2px rgba(60, 64, 67, 0.3), 0px 1px 3px 1px rgba(60, 64, 67, 0.15);\n",
              "      fill: #174EA6;\n",
              "    }\n",
              "\n",
              "    [theme=dark] .colab-df-convert {\n",
              "      background-color: #3B4455;\n",
              "      fill: #D2E3FC;\n",
              "    }\n",
              "\n",
              "    [theme=dark] .colab-df-convert:hover {\n",
              "      background-color: #434B5C;\n",
              "      box-shadow: 0px 1px 3px 1px rgba(0, 0, 0, 0.15);\n",
              "      filter: drop-shadow(0px 1px 2px rgba(0, 0, 0, 0.3));\n",
              "      fill: #FFFFFF;\n",
              "    }\n",
              "  </style>\n",
              "\n",
              "      <script>\n",
              "        const buttonEl =\n",
              "          document.querySelector('#df-a96fdcd9-5622-4782-ac0d-04e2937469e4 button.colab-df-convert');\n",
              "        buttonEl.style.display =\n",
              "          google.colab.kernel.accessAllowed ? 'block' : 'none';\n",
              "\n",
              "        async function convertToInteractive(key) {\n",
              "          const element = document.querySelector('#df-a96fdcd9-5622-4782-ac0d-04e2937469e4');\n",
              "          const dataTable =\n",
              "            await google.colab.kernel.invokeFunction('convertToInteractive',\n",
              "                                                     [key], {});\n",
              "          if (!dataTable) return;\n",
              "\n",
              "          const docLinkHtml = 'Like what you see? Visit the ' +\n",
              "            '<a target=\"_blank\" href=https://colab.research.google.com/notebooks/data_table.ipynb>data table notebook</a>'\n",
              "            + ' to learn more about interactive tables.';\n",
              "          element.innerHTML = '';\n",
              "          dataTable['output_type'] = 'display_data';\n",
              "          await google.colab.output.renderOutput(dataTable, element);\n",
              "          const docLink = document.createElement('div');\n",
              "          docLink.innerHTML = docLinkHtml;\n",
              "          element.appendChild(docLink);\n",
              "        }\n",
              "      </script>\n",
              "    </div>\n",
              "  </div>\n",
              "  "
            ]
          },
          "metadata": {},
          "execution_count": 191
        }
      ]
    },
    {
      "cell_type": "code",
      "source": [
        "plt.figure(figsize = (20,8))\n",
        "plt.subplot(1,2,1)\n",
        "sns.barplot(data= moviecountry.iloc[:10], x=\"country\",y=\"title\")\n",
        "plt.title(\"Country wise Movies Count\",fontsize = 12)\n",
        "plt.xticks(rotation=45,fontsize = 10)\n",
        "plt.yticks(fontsize = 12)\n",
        "plt.xlabel(\"Countries\",fontsize = 10)\n",
        "plt.ylabel(\"Total Movies Available\",fontsize = 10)\n",
        "plt.subplot(1,2,2)\n",
        "sns.barplot(data= tvshowcountry.iloc[:10], x=\"country\",y=\"title\")\n",
        "plt.title(\"Country wise TV Show Count\",fontsize = 12)\n",
        "plt.xticks(rotation=45,fontsize = 10)\n",
        "plt.yticks(fontsize = 12)\n",
        "plt.xlabel(\"Countries\",fontsize = 10)\n",
        "plt.ylabel(\"Total TV Shows Avaiable\",fontsize = 10)\n",
        "plt.show()"
      ],
      "metadata": {
        "id": "dBUXFL_Y4rV9"
      },
      "execution_count": null,
      "outputs": []
    }
  ],
  "metadata": {
    "colab": {
      "name": "Welcome to Colaboratory",
      "provenance": []
    },
    "kernelspec": {
      "display_name": "Python 3",
      "name": "python3"
    }
  },
  "nbformat": 4,
  "nbformat_minor": 0
}