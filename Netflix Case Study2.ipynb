{
  "cells": [
    {
      "cell_type": "code",
      "source": [
        "import numpy as np\n",
        "import pandas as pd\n",
        "import matplotlib.pyplot as plt\n",
        "import seaborn as sns"
      ],
      "metadata": {
        "id": "kZXp4UspRovA"
      },
      "execution_count": null,
      "outputs": []
    },
    {
      "cell_type": "code",
      "source": [
        "data = pd.read_csv(\"Netflix.csv\")\n"
      ],
      "metadata": {
        "id": "r_DgdCOnR7TO"
      },
      "execution_count": null,
      "outputs": []
    },
    {
      "cell_type": "code",
      "source": [],
      "metadata": {
        "id": "XCwSRfDFEZsp"
      },
      "execution_count": null,
      "outputs": []
    },
    {
      "cell_type": "code",
      "source": [
        "data.shape"
      ],
      "metadata": {
        "id": "SBIOuA-ySCdu"
      },
      "execution_count": null,
      "outputs": []
    },
    {
      "cell_type": "code",
      "source": [
        "data.info()"
      ],
      "metadata": {
        "id": "-ta9yQx4SFLN"
      },
      "execution_count": null,
      "outputs": []
    },
    {
      "cell_type": "code",
      "source": [
        "data.head(5)"
      ],
      "metadata": {
        "id": "uq4mISZMSeqv"
      },
      "execution_count": null,
      "outputs": []
    },
    {
      "cell_type": "markdown",
      "source": [
        "# **Cleaning Data - Filling NaN**\n",
        "1. Director  - unknown director\n",
        "2. Cast - unknown cast\n",
        "3. country - unknown country\n",
        "4. date_added - Unknown\n",
        "5. rating - NR\n",
        "6. Duration - 0\n",
        "7. Date_added - leaving as NaN only"
      ],
      "metadata": {
        "id": "T-UabKUCjxJu"
      }
    },
    {
      "cell_type": "code",
      "source": [
        "data.dropna(axis = 1, how = \"all\",inplace=True)\n",
        "data[\"director\"].fillna(\"unknown_director\",inplace=True)\n",
        "data[\"country\"].fillna(\"unknown_country\",inplace = True)\n",
        "data[\"cast\"].fillna(\"unknown_cast\",inplace = True)\n",
        "data[\"rating\"].fillna(\"NR\",inplace = True)\n",
        "data[\"duration\"].fillna(\"0 time\",inplace=True)"
      ],
      "metadata": {
        "id": "4VVfLX_1gZFO"
      },
      "execution_count": null,
      "outputs": []
    },
    {
      "cell_type": "code",
      "source": [
        "data.info()"
      ],
      "metadata": {
        "id": "GpXgBMELlFv_"
      },
      "execution_count": null,
      "outputs": []
    },
    {
      "cell_type": "markdown",
      "source": [
        "# **Cleaning Data - Unesting Columns**\n",
        "1. Country\n",
        "2. Cast\n",
        "3. Listed_in\n",
        "\n",
        "I just splitting them into Lists, will use explode later whenever needed\n",
        "\n",
        "\n",
        "\n",
        "\n"
      ],
      "metadata": {
        "id": "x2qAQL37SahP"
      }
    },
    {
      "cell_type": "code",
      "source": [
        "data[\"country\"]=data[\"country\"].str.split(\",\")\n",
        "data[\"cast\"]=data[\"cast\"].str.split(\",\")\n",
        "data[\"listed_in\"]=data[\"listed_in\"].str.split(\",\")"
      ],
      "metadata": {
        "id": "U6aaaNX3TZHh"
      },
      "execution_count": null,
      "outputs": []
    },
    {
      "cell_type": "code",
      "source": [
        "data.info()"
      ],
      "metadata": {
        "id": "zfxi3KXBmDsf"
      },
      "execution_count": null,
      "outputs": []
    },
    {
      "cell_type": "code",
      "source": [],
      "metadata": {
        "id": "KstjrJeNpWnV"
      },
      "execution_count": null,
      "outputs": []
    },
    {
      "cell_type": "markdown",
      "source": [
        "# **Changing \"Rating Columns\" from cateogorical to Numerical :**\n",
        "\n",
        "*   1 --> Very Child Friendly\n",
        "*   9 --> Stricly adult Content\n",
        "*   10 -->Not Rated , NAN, other data like 74 min,84min,66min\n",
        "\n",
        "\n",
        "\n",
        "\n",
        "\n",
        "\n",
        "\n"
      ],
      "metadata": {
        "id": "_gKf1pDlY1rZ"
      }
    },
    {
      "cell_type": "code",
      "source": [
        "data[\"rating\"].value_counts()"
      ],
      "metadata": {
        "id": "pxcn5UpYbsCr"
      },
      "execution_count": null,
      "outputs": []
    },
    {
      "cell_type": "code",
      "source": [
        "data[\"rating\"]=data[\"rating\"].replace([\"TV-Y\",\"TV-Y7\",\"TV-Y7-FV\",\"TV-G\",\"G\",\"TV-PG\",\"PG\",\"PG-13\",\"TV-14\",\"R\",\"TV-MA\",\"NC-17\",\"NR\",\"UR\",\"74 min\",\"84 min\",\"66 min\"],[1,2,3,4,4,5,5,6,7,8,9,9,10,10,10,10,10])"
      ],
      "metadata": {
        "id": "L_n4JVYnaEB7"
      },
      "execution_count": null,
      "outputs": []
    },
    {
      "cell_type": "code",
      "source": [
        "data.info()"
      ],
      "metadata": {
        "id": "1xaMZ4U-bBmS"
      },
      "execution_count": null,
      "outputs": []
    },
    {
      "cell_type": "markdown",
      "source": [
        "# **Changing \"Duration Columns\" from Object to Int**\n",
        "\n",
        "Ex:\n",
        "\n",
        "\n",
        "*   TV Shows are given as seasons, so 2 Seasons --> 2\n",
        "*   Movies are given as min, so 119 mins --> 119\n",
        "\n"
      ],
      "metadata": {
        "id": "VRwuCep6uFSC"
      }
    },
    {
      "cell_type": "code",
      "source": [
        "data[\"duration\"]=data[\"duration\"].str.split(expand = True)[0]\n",
        "data[\"duration\"] = data[\"duration\"].astype(\"int64\")"
      ],
      "metadata": {
        "id": "3XD8pds5rsg4"
      },
      "execution_count": null,
      "outputs": []
    },
    {
      "cell_type": "code",
      "source": [
        "data.info()"
      ],
      "metadata": {
        "id": "uvCd4wstufb7"
      },
      "execution_count": null,
      "outputs": []
    },
    {
      "cell_type": "markdown",
      "source": [
        "# **Changing Column \"Date_added\" Dtype to datetime**"
      ],
      "metadata": {
        "id": "_ndS9VGUX-tD"
      }
    },
    {
      "cell_type": "code",
      "source": [
        "data[\"date_added\"]=data[\"date_added\"].astype(\"datetime64\")"
      ],
      "metadata": {
        "id": "iir2k-2ZX9J9"
      },
      "execution_count": null,
      "outputs": []
    },
    {
      "cell_type": "markdown",
      "source": [
        "# **Changing Column \"release_year\" Dtype to datetime**\n",
        "\n",
        "*   As Only Year given in release_year , Assuming release happend at **1st Jan of Every Year**\n",
        "\n"
      ],
      "metadata": {
        "id": "utEpiQUo0Its"
      }
    },
    {
      "cell_type": "code",
      "source": [
        "data[\"release_year\"]=pd.to_datetime(data[\"release_year\"],format = \"%Y\")"
      ],
      "metadata": {
        "id": "PWUwx3tsvuS_"
      },
      "execution_count": null,
      "outputs": []
    },
    {
      "cell_type": "code",
      "source": [
        "data.info()"
      ],
      "metadata": {
        "id": "wM-TPsmgvKo1"
      },
      "execution_count": null,
      "outputs": []
    },
    {
      "cell_type": "markdown",
      "source": [
        "# Statistical Analysis of Cleaned Data"
      ],
      "metadata": {
        "id": "S2XJ-DeyCG95"
      }
    },
    {
      "cell_type": "code",
      "source": [
        "data.describe()"
      ],
      "metadata": {
        "id": "AA2FiM8M0vkr"
      },
      "execution_count": null,
      "outputs": []
    },
    {
      "cell_type": "code",
      "source": [
        "data.describe(include=object)"
      ],
      "metadata": {
        "id": "tuabY-0p08S2"
      },
      "execution_count": null,
      "outputs": []
    },
    {
      "cell_type": "code",
      "source": [
        "data.describe(datetime_is_numeric=True)"
      ],
      "metadata": {
        "id": "zIWTMDrQ1HO0"
      },
      "execution_count": null,
      "outputs": []
    },
    {
      "cell_type": "code",
      "source": [
        "data.info()"
      ],
      "metadata": {
        "id": "BL5_3toRAAyA"
      },
      "execution_count": null,
      "outputs": []
    },
    {
      "cell_type": "markdown",
      "source": [
        "# Creating New & Using Unfiltered Data with DataFrame Name - \"data2\"\n",
        "\n",
        "*   To avoid getting Unknown Values in Graphical & Non-Graphical Analysis\n",
        "\n",
        "\n"
      ],
      "metadata": {
        "id": "WlHaEqF9Ev_Z"
      }
    },
    {
      "cell_type": "code",
      "source": [
        "data2 = pd.read_csv(\"Netflix.csv\")\n",
        "data2[\"country\"]=data2[\"country\"].str.split(\",\")\n",
        "data2[\"cast\"]=data2[\"cast\"].str.split(\",\")\n",
        "data2[\"listed_in\"]=data2[\"listed_in\"].str.split(\",\")"
      ],
      "metadata": {
        "id": "U2uyV_yrEdJx"
      },
      "execution_count": null,
      "outputs": []
    },
    {
      "cell_type": "markdown",
      "source": [
        "# Categorical Variable - Graphical & Non-Graphical Analysis"
      ],
      "metadata": {
        "id": "XZffwyZ3B4ao"
      }
    },
    {
      "cell_type": "markdown",
      "source": [
        "**Type - A Movie or TV Show**"
      ],
      "metadata": {
        "id": "f98-sRoVCUhw"
      }
    },
    {
      "cell_type": "code",
      "source": [
        "data[\"type\"].value_counts()"
      ],
      "metadata": {
        "id": "jj5ZMYtYot5P"
      },
      "execution_count": null,
      "outputs": []
    },
    {
      "cell_type": "code",
      "source": [
        "sns.countplot(data = data,x=\"type\")\n",
        "plt.title(\"Count of Movies/Shows\")\n",
        "plt.show()"
      ],
      "metadata": {
        "id": "rjRXrksWo1KL"
      },
      "execution_count": null,
      "outputs": []
    },
    {
      "cell_type": "markdown",
      "source": [
        "Inference : Movies Qty is more than TV Shows Qty\n",
        "\n",
        "\n",
        "\n",
        "---\n",
        "\n",
        "\n",
        "\n",
        "---\n",
        "\n",
        "\n",
        "\n"
      ],
      "metadata": {
        "id": "Bdnawh8nCsCQ"
      }
    },
    {
      "cell_type": "markdown",
      "source": [
        "**Director**"
      ],
      "metadata": {
        "id": "GNqIPTqHDRns"
      }
    },
    {
      "cell_type": "code",
      "source": [
        "data2[\"director\"].value_counts()"
      ],
      "metadata": {
        "id": "YzTTihE7ph5g"
      },
      "execution_count": null,
      "outputs": []
    },
    {
      "cell_type": "code",
      "source": [
        "sns.countplot(data = data,x=\"director\")\n",
        "plt.title(\"Director Count\")\n",
        "plt.show()"
      ],
      "metadata": {
        "id": "GAUu93dmDgFp"
      },
      "execution_count": null,
      "outputs": []
    },
    {
      "cell_type": "code",
      "source": [
        "A =data2[\"director\"].value_counts().reset_index()\n",
        "sns.histplot(A[\"director\"],bins=19)\n",
        "plt.title(\"No of Director Vs movies/TV shows Directed\")\n",
        "plt.xlabel(\"No of Directors\")\n",
        "plt.ylabel(\"No of Movies/TV Shows\")\n",
        "plt.show()"
      ],
      "metadata": {
        "id": "C_ojwpNsqDFj"
      },
      "execution_count": null,
      "outputs": []
    },
    {
      "cell_type": "markdown",
      "source": [
        "\n",
        "\n",
        "*   Total Number of Directors in Netflix Platfrom = 4528\n",
        "*   Maximum Shows Directed = 19\n",
        "*   Minimum Shows Directed = 1\n",
        "*   Almost 80% Directors have their show First time in Netflix\n",
        "\n",
        "---\n",
        "\n",
        "\n",
        "\n",
        "---\n",
        "\n"
      ],
      "metadata": {
        "id": "dR0ZGQIEnT9y"
      }
    },
    {
      "cell_type": "markdown",
      "source": [
        "**Cast**"
      ],
      "metadata": {
        "id": "zsYuyzu1ojia"
      }
    },
    {
      "cell_type": "code",
      "source": [
        "data2.explode(\"cast\")[\"cast\"].value_counts()"
      ],
      "metadata": {
        "id": "mhKJNTw1pse8"
      },
      "execution_count": null,
      "outputs": []
    },
    {
      "cell_type": "code",
      "source": [
        "A=data2.explode(\"cast\")[\"cast\"].value_counts().reset_index()\n",
        "plt.figure(figsize=(40,12))\n",
        "sns.histplot(A[\"cast\"],bins=39)\n",
        "plt.title(\"No of Actors Vs Total Shows Acted\",fontsize = 20)\n",
        "plt.xticks(rotation=45,fontsize = 20)\n",
        "plt.yticks(fontsize = 20)\n",
        "plt.xlabel(\"No of Actors\",fontsize = 20)\n",
        "plt.ylabel(\"Total Shows Present in\",fontsize = 20)\n",
        "plt.show()"
      ],
      "metadata": {
        "id": "UBRl8sDBozKy"
      },
      "execution_count": null,
      "outputs": []
    },
    {
      "cell_type": "markdown",
      "source": [
        "*   Total Number of Actors in Netflix Platfrom = 39296\n",
        "*   Maximum Shows Acted = 39\n",
        "*   Minimum Shows Acted = 1\n",
        "*   Almost 75% Actor have their Show for First time in Netflix\n",
        "\n",
        "---\n",
        "\n",
        "\n",
        "\n",
        "---\n",
        "\n"
      ],
      "metadata": {
        "id": "wNHAXHTNpw5F"
      }
    },
    {
      "cell_type": "markdown",
      "source": [
        "**Country**"
      ],
      "metadata": {
        "id": "JSLrfsW9qn5j"
      }
    },
    {
      "cell_type": "code",
      "source": [
        "data2.explode(\"country\")[\"country\"].value_counts()"
      ],
      "metadata": {
        "id": "CBWc6qcfqq3z"
      },
      "execution_count": null,
      "outputs": []
    },
    {
      "cell_type": "code",
      "source": [
        "A = data2.explode(\"country\")[\"country\"].value_counts().reset_index().iloc[:20]\n",
        "plt.figure(figsize=(40,12))\n",
        "sns.barplot(data=A,x=\"index\",y=\"country\")\n",
        "plt.title(\"Country Vs Shows released\",fontsize = 20)\n",
        "plt.xticks(rotation=45,fontsize = 20)\n",
        "plt.yticks(fontsize = 20)\n",
        "plt.xlabel(\"Country\",fontsize = 20)\n",
        "plt.ylabel(\"Total Shows relesed\",fontsize = 20)\n",
        "plt.show()"
      ],
      "metadata": {
        "id": "owd5SP3tqyb0"
      },
      "execution_count": null,
      "outputs": []
    },
    {
      "cell_type": "markdown",
      "source": [
        "*   Netflix content avaiable in 197 Countries\n",
        "*   Maximum Shows Released in United States\n",
        "\n",
        "---\n",
        "\n",
        "\n",
        "\n",
        "---\n",
        "\n",
        "\n",
        "\n"
      ],
      "metadata": {
        "id": "KTQC2foZslV_"
      }
    },
    {
      "cell_type": "markdown",
      "source": [
        "**Date_added**"
      ],
      "metadata": {
        "id": "zJc4RqeTumFy"
      }
    },
    {
      "cell_type": "code",
      "source": [
        "data[\"date_added\"].dt.year.value_counts()"
      ],
      "metadata": {
        "id": "wcqkcIGBt0yR"
      },
      "execution_count": null,
      "outputs": []
    },
    {
      "cell_type": "code",
      "source": [
        "#plt.figure(figsize=(12,8))\n",
        "#A= data[\"date_added\"].dt.year.value_counts().reset_index()\n",
        "#sns.barplot(data=A,x=\"index\",y=\"date_added\")\n",
        "sns.countplot(x=data[\"date_added\"].dt.year)\n",
        "plt.title(\"Show Addition year wise\",fontsize = 12)\n",
        "plt.xticks(rotation=45,fontsize = 12)\n",
        "plt.yticks(fontsize = 12)\n",
        "plt.xlabel(\"Year\",fontsize = 12)\n",
        "plt.ylabel(\"Total Shows added\",fontsize = 12)\n",
        "plt.show()"
      ],
      "metadata": {
        "id": "TU5ewdW1u19i"
      },
      "execution_count": null,
      "outputs": []
    },
    {
      "cell_type": "markdown",
      "source": [
        "\n",
        "\n",
        "*   Netflix started shows addition from 2008 and adding content since then every year\n",
        "*   Shows addition started to drastically increase from 2016 & Peaked in year 2019 with 2016 Nos shows added in single year\n",
        "\n",
        "---\n",
        "\n",
        "\n",
        "\n",
        "---\n",
        "\n",
        "\n",
        "\n"
      ],
      "metadata": {
        "id": "oTR2_Tr-vnsp"
      }
    },
    {
      "cell_type": "markdown",
      "source": [
        "**Ratings**\n",
        "\n",
        "Content Rating 1-->Very Child friendly, 9 --> Mature Audience Content\n"
      ],
      "metadata": {
        "id": "_TsxJwJawlH6"
      }
    },
    {
      "cell_type": "code",
      "source": [
        "data[\"rating\"].value_counts()"
      ],
      "metadata": {
        "id": "5swfPU1Dwjua",
        "outputId": "6b7b9889-c0b2-4e5e-e34a-e1460f1470f6",
        "colab": {
          "base_uri": "https://localhost:8080/"
        }
      },
      "execution_count": 154,
      "outputs": [
        {
          "output_type": "execute_result",
          "data": {
            "text/plain": [
              "9     3210\n",
              "7     2160\n",
              "5     1150\n",
              "8      799\n",
              "6      490\n",
              "2      334\n",
              "1      307\n",
              "4      261\n",
              "10      90\n",
              "3        6\n",
              "Name: rating, dtype: int64"
            ]
          },
          "metadata": {},
          "execution_count": 154
        }
      ]
    },
    {
      "cell_type": "code",
      "source": [
        "sns.countplot(x=data[\"rating\"])"
      ],
      "metadata": {
        "id": "kPXmgXTVxUV0",
        "outputId": "fe6b9bb0-2dd5-468c-df68-b1df9221c12c",
        "colab": {
          "base_uri": "https://localhost:8080/",
          "height": 466
        }
      },
      "execution_count": 153,
      "outputs": [
        {
          "output_type": "execute_result",
          "data": {
            "text/plain": [
              "<Axes: xlabel='rating', ylabel='count'>"
            ]
          },
          "metadata": {},
          "execution_count": 153
        },
        {
          "output_type": "display_data",
          "data": {
            "text/plain": [
              "<Figure size 640x480 with 1 Axes>"
            ],
            "image/png": "[encoded data removed]"
          },
          "metadata": {}
        }
      ]
    },
    {
      "cell_type": "markdown",
      "source": [
        "*   88% Shows Avaible are Either Matured Content or Where Parental Guidance is Needed\n",
        "*   Content avaiable for children is very less\n",
        "\n",
        "---\n",
        "\n",
        "\n",
        "\n",
        "---\n",
        "\n",
        "\n",
        "\n",
        "\n",
        "\n",
        "\n"
      ],
      "metadata": {
        "id": "uRSo3oQvy6du"
      }
    },
    {
      "cell_type": "markdown",
      "source": [
        "**Genres - Listed_in**"
      ],
      "metadata": {
        "id": "XOSTN-yqz2Lp"
      }
    },
    {
      "cell_type": "code",
      "source": [],
      "metadata": {
        "id": "0o37Qevmy6Be"
      },
      "execution_count": null,
      "outputs": []
    },
    {
      "cell_type": "code",
      "source": [
        "showdata = data[data[\"type\"] == \"TV Show\"].reset_index()\n",
        "moviedata = data[data[\"type\"] == \"Movie\"].reset_index()"
      ],
      "metadata": {
        "id": "hzfpx9QmKBMW"
      },
      "execution_count": null,
      "outputs": []
    },
    {
      "cell_type": "code",
      "source": [
        "data.columns"
      ],
      "metadata": {
        "id": "tsXR2hsRdUeX"
      },
      "execution_count": null,
      "outputs": []
    },
    {
      "cell_type": "code",
      "source": [
        "plt.figure(figsize=(20,8))\n",
        "sns.countplot(data= data[\"date_added\"].dt.week.reset_index(), x=\"date_added\")\n",
        "plt.show()"
      ],
      "metadata": {
        "id": "_S1bFV0SespX"
      },
      "execution_count": null,
      "outputs": []
    },
    {
      "cell_type": "code",
      "source": [
        "data.explode(\"director\").groupby(\"director\")[\"title\"].count().sort_values(ascending=False)"
      ],
      "metadata": {
        "id": "ToMzbMU1i-Pi"
      },
      "execution_count": null,
      "outputs": []
    }
  ],
  "metadata": {
    "colab": {
      "name": "Welcome to Colaboratory",
      "provenance": []
    },
    "kernelspec": {
      "display_name": "Python 3",
      "name": "python3"
    }
  },
  "nbformat": 4,
  "nbformat_minor": 0
}