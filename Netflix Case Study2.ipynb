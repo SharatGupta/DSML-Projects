{
  "cells": [
    {
      "cell_type": "code",
      "source": [
        "import numpy as np\n",
        "import pandas as pd\n",
        "import matplotlib.pyplot as plt\n",
        "import seaborn as sns"
      ],
      "metadata": {
        "id": "kZXp4UspRovA"
      },
      "execution_count": null,
      "outputs": []
    },
    {
      "cell_type": "code",
      "source": [
        "data = pd.read_csv(\"Netflix.csv\")\n"
      ],
      "metadata": {
        "id": "r_DgdCOnR7TO"
      },
      "execution_count": 96,
      "outputs": []
    },
    {
      "cell_type": "code",
      "source": [],
      "metadata": {
        "id": "XCwSRfDFEZsp"
      },
      "execution_count": null,
      "outputs": []
    },
    {
      "cell_type": "code",
      "source": [
        "data.shape"
      ],
      "metadata": {
        "id": "SBIOuA-ySCdu"
      },
      "execution_count": null,
      "outputs": []
    },
    {
      "cell_type": "code",
      "source": [
        "data.info()"
      ],
      "metadata": {
        "id": "-ta9yQx4SFLN"
      },
      "execution_count": null,
      "outputs": []
    },
    {
      "cell_type": "code",
      "source": [
        "data.head(5)"
      ],
      "metadata": {
        "id": "uq4mISZMSeqv"
      },
      "execution_count": null,
      "outputs": []
    },
    {
      "cell_type": "markdown",
      "source": [
        "# **Cleaning Data - Filling NaN**\n",
        "1. Director  - unknown director\n",
        "2. Cast - unknown cast\n",
        "3. country - unknown country\n",
        "4. date_added - Unknown\n",
        "5. rating - NR\n",
        "6. Duration - 0\n",
        "7. Date_added - leaving as NaN only"
      ],
      "metadata": {
        "id": "T-UabKUCjxJu"
      }
    },
    {
      "cell_type": "code",
      "source": [
        "data.dropna(axis = 1, how = \"all\",inplace=True)\n",
        "data[\"director\"].fillna(\"unknown_director\",inplace=True)\n",
        "data[\"country\"].fillna(\"unknown_country\",inplace = True)\n",
        "data[\"cast\"].fillna(\"unknown_cast\",inplace = True)\n",
        "data[\"rating\"].fillna(\"NR\",inplace = True)\n",
        "data[\"duration\"].fillna(\"0 time\",inplace=True)"
      ],
      "metadata": {
        "id": "4VVfLX_1gZFO"
      },
      "execution_count": 97,
      "outputs": []
    },
    {
      "cell_type": "code",
      "source": [
        "data.info()"
      ],
      "metadata": {
        "id": "GpXgBMELlFv_"
      },
      "execution_count": null,
      "outputs": []
    },
    {
      "cell_type": "markdown",
      "source": [
        "# **Cleaning Data - Unesting Columns**\n",
        "1. Country\n",
        "2. Cast\n",
        "3. Listed_in\n",
        "\n",
        "I just splitting them into Lists, will use explode later whenever needed\n",
        "\n",
        "\n",
        "\n",
        "\n"
      ],
      "metadata": {
        "id": "x2qAQL37SahP"
      }
    },
    {
      "cell_type": "code",
      "source": [
        "data[\"country\"]=data[\"country\"].str.split(\",\")\n",
        "data[\"cast\"]=data[\"cast\"].str.split(\",\")\n",
        "data[\"listed_in\"]=data[\"listed_in\"].str.split(\",\")"
      ],
      "metadata": {
        "id": "U6aaaNX3TZHh"
      },
      "execution_count": 98,
      "outputs": []
    },
    {
      "cell_type": "code",
      "source": [
        "data.info()"
      ],
      "metadata": {
        "id": "zfxi3KXBmDsf"
      },
      "execution_count": null,
      "outputs": []
    },
    {
      "cell_type": "code",
      "source": [],
      "metadata": {
        "id": "KstjrJeNpWnV"
      },
      "execution_count": null,
      "outputs": []
    },
    {
      "cell_type": "markdown",
      "source": [
        "# **Changing \"Rating Columns\" from cateogorical to Numerical :**\n",
        "\n",
        "*   1 --> Very Child Friendly\n",
        "*   9 --> Stricly adult Content\n",
        "*   10 -->Not Rated , NAN, other data like 74 min,84min,66min\n",
        "\n",
        "\n",
        "\n",
        "\n",
        "\n",
        "\n",
        "\n"
      ],
      "metadata": {
        "id": "_gKf1pDlY1rZ"
      }
    },
    {
      "cell_type": "code",
      "source": [
        "data[\"rating\"].value_counts()"
      ],
      "metadata": {
        "id": "pxcn5UpYbsCr"
      },
      "execution_count": null,
      "outputs": []
    },
    {
      "cell_type": "code",
      "source": [
        "data[\"rating\"]=data[\"rating\"].replace([\"TV-Y\",\"TV-Y7\",\"TV-Y7-FV\",\"TV-G\",\"G\",\"TV-PG\",\"PG\",\"PG-13\",\"TV-14\",\"R\",\"TV-MA\",\"NC-17\",\"NR\",\"UR\",\"74 min\",\"84 min\",\"66 min\"],[1,2,3,4,4,5,5,6,7,8,9,9,10,10,10,10,10])"
      ],
      "metadata": {
        "id": "L_n4JVYnaEB7"
      },
      "execution_count": 99,
      "outputs": []
    },
    {
      "cell_type": "code",
      "source": [
        "data.info()"
      ],
      "metadata": {
        "id": "1xaMZ4U-bBmS"
      },
      "execution_count": null,
      "outputs": []
    },
    {
      "cell_type": "markdown",
      "source": [
        "# **Changing \"Duration Columns\" from Object to Int**\n",
        "\n",
        "Ex:\n",
        "\n",
        "\n",
        "*   TV Shows are given as seasons, so 2 Seasons --> 2\n",
        "*   Movies are given as min, so 119 mins --> 119\n",
        "\n"
      ],
      "metadata": {
        "id": "VRwuCep6uFSC"
      }
    },
    {
      "cell_type": "code",
      "source": [
        "data[\"duration\"]=data[\"duration\"].str.split(expand = True)[0]\n",
        "data[\"duration\"] = data[\"duration\"].astype(\"int64\")"
      ],
      "metadata": {
        "id": "3XD8pds5rsg4"
      },
      "execution_count": 100,
      "outputs": []
    },
    {
      "cell_type": "code",
      "source": [
        "data.info()"
      ],
      "metadata": {
        "id": "uvCd4wstufb7"
      },
      "execution_count": null,
      "outputs": []
    },
    {
      "cell_type": "markdown",
      "source": [
        "# **Changing Column \"Date_added\" Dtype to datetime**"
      ],
      "metadata": {
        "id": "_ndS9VGUX-tD"
      }
    },
    {
      "cell_type": "code",
      "source": [
        "data[\"date_added\"]=data[\"date_added\"].astype(\"datetime64\")"
      ],
      "metadata": {
        "id": "iir2k-2ZX9J9"
      },
      "execution_count": 101,
      "outputs": []
    },
    {
      "cell_type": "markdown",
      "source": [
        "# **Changing Column \"release_year\" Dtype to datetime**\n",
        "\n",
        "*   As Only Year given in release_year , Assuming release happend at **1st Jan of Every Year**\n",
        "\n"
      ],
      "metadata": {
        "id": "utEpiQUo0Its"
      }
    },
    {
      "cell_type": "code",
      "source": [
        "data[\"release_year\"]=pd.to_datetime(data[\"release_year\"],format = \"%Y\")"
      ],
      "metadata": {
        "id": "PWUwx3tsvuS_"
      },
      "execution_count": 102,
      "outputs": []
    },
    {
      "cell_type": "code",
      "source": [
        "data.info()"
      ],
      "metadata": {
        "colab": {
          "base_uri": "https://localhost:8080/"
        },
        "id": "wM-TPsmgvKo1",
        "outputId": "90ae7005-91f2-43ed-8fec-2fbdcb255181"
      },
      "execution_count": 105,
      "outputs": [
        {
          "output_type": "stream",
          "name": "stdout",
          "text": [
            "<class 'pandas.core.frame.DataFrame'>\n",
            "RangeIndex: 8807 entries, 0 to 8806\n",
            "Data columns (total 12 columns):\n",
            " #   Column        Non-Null Count  Dtype         \n",
            "---  ------        --------------  -----         \n",
            " 0   show_id       8807 non-null   object        \n",
            " 1   type          8807 non-null   object        \n",
            " 2   title         8807 non-null   object        \n",
            " 3   director      8807 non-null   object        \n",
            " 4   cast          8807 non-null   object        \n",
            " 5   country       8807 non-null   object        \n",
            " 6   date_added    8797 non-null   datetime64[ns]\n",
            " 7   release_year  8807 non-null   datetime64[ns]\n",
            " 8   rating        8807 non-null   int64         \n",
            " 9   duration      8807 non-null   int64         \n",
            " 10  listed_in     8807 non-null   object        \n",
            " 11  description   8807 non-null   object        \n",
            "dtypes: datetime64[ns](2), int64(2), object(8)\n",
            "memory usage: 825.8+ KB\n"
          ]
        }
      ]
    },
    {
      "cell_type": "markdown",
      "source": [
        "# Statistical Analysis of Cleaned Data"
      ],
      "metadata": {
        "id": "S2XJ-DeyCG95"
      }
    },
    {
      "cell_type": "code",
      "source": [
        "data.describe()"
      ],
      "metadata": {
        "id": "AA2FiM8M0vkr"
      },
      "execution_count": null,
      "outputs": []
    },
    {
      "cell_type": "code",
      "source": [
        "data.describe(include=object)"
      ],
      "metadata": {
        "id": "tuabY-0p08S2"
      },
      "execution_count": null,
      "outputs": []
    },
    {
      "cell_type": "code",
      "source": [
        "data.describe(datetime_is_numeric=True)"
      ],
      "metadata": {
        "id": "zIWTMDrQ1HO0"
      },
      "execution_count": null,
      "outputs": []
    },
    {
      "cell_type": "code",
      "source": [
        "data.info()"
      ],
      "metadata": {
        "id": "BL5_3toRAAyA"
      },
      "execution_count": null,
      "outputs": []
    },
    {
      "cell_type": "markdown",
      "source": [
        "# Creating New & Using Unfiltered Data with DataFrame Name - \"data2\"\n",
        "\n",
        "*   To avoid getting Unknown Values in Graphical & Non-Graphical Analysis\n",
        "\n",
        "\n"
      ],
      "metadata": {
        "id": "WlHaEqF9Ev_Z"
      }
    },
    {
      "cell_type": "code",
      "source": [
        "data2 = pd.read_csv(\"Netflix.csv\")\n",
        "data2[\"country\"]=data2[\"country\"].str.split(\",\")\n",
        "data2[\"cast\"]=data2[\"cast\"].str.split(\",\")\n",
        "data2[\"listed_in\"]=data2[\"listed_in\"].str.split(\",\")"
      ],
      "metadata": {
        "id": "U2uyV_yrEdJx"
      },
      "execution_count": 117,
      "outputs": []
    },
    {
      "cell_type": "markdown",
      "source": [
        "# Categorical Variable - Graphical & Non-Graphical Analysis"
      ],
      "metadata": {
        "id": "XZffwyZ3B4ao"
      }
    },
    {
      "cell_type": "markdown",
      "source": [
        "**Type - A Movie or TV Show**"
      ],
      "metadata": {
        "id": "f98-sRoVCUhw"
      }
    },
    {
      "cell_type": "code",
      "source": [
        "data[\"type\"].value_counts()"
      ],
      "metadata": {
        "colab": {
          "base_uri": "https://localhost:8080/"
        },
        "id": "jj5ZMYtYot5P",
        "outputId": "9ac488a1-6cf5-4e15-9bff-82a7e33a085e"
      },
      "execution_count": 110,
      "outputs": [
        {
          "output_type": "execute_result",
          "data": {
            "text/plain": [
              "Movie      6131\n",
              "TV Show    2676\n",
              "Name: type, dtype: int64"
            ]
          },
          "metadata": {},
          "execution_count": 110
        }
      ]
    },
    {
      "cell_type": "code",
      "source": [
        "sns.countplot(data = data,x=\"type\")\n",
        "plt.title(\"Count of Movies/Shows\")\n",
        "plt.show()"
      ],
      "metadata": {
        "colab": {
          "base_uri": "https://localhost:8080/",
          "height": 472
        },
        "id": "rjRXrksWo1KL",
        "outputId": "02428047-e0f5-4a28-f0a1-3002fed56788"
      },
      "execution_count": 111,
      "outputs": [
        {
          "output_type": "display_data",
          "data": {
            "text/plain": [
              "<Figure size 640x480 with 1 Axes>"
            ],
            "image/png": "[encoded data removed]"
          },
          "metadata": {}
        }
      ]
    },
    {
      "cell_type": "markdown",
      "source": [
        "Inference : Movies Qty is more than TV Shows Qty\n",
        "\n",
        "\n",
        "\n",
        "---\n",
        "\n",
        "\n",
        "\n",
        "---\n",
        "\n",
        "\n",
        "\n"
      ],
      "metadata": {
        "id": "Bdnawh8nCsCQ"
      }
    },
    {
      "cell_type": "markdown",
      "source": [
        "**Director**"
      ],
      "metadata": {
        "id": "GNqIPTqHDRns"
      }
    },
    {
      "cell_type": "code",
      "source": [
        "data2[\"director\"].value_counts()"
      ],
      "metadata": {
        "colab": {
          "base_uri": "https://localhost:8080/"
        },
        "id": "YzTTihE7ph5g",
        "outputId": "3aca3bf1-b928-4aab-cbb2-27bb901a0138"
      },
      "execution_count": 118,
      "outputs": [
        {
          "output_type": "execute_result",
          "data": {
            "text/plain": [
              "Rajiv Chilaka                     19\n",
              "Raúl Campos, Jan Suter            18\n",
              "Marcus Raboy                      16\n",
              "Suhas Kadav                       16\n",
              "Jay Karas                         14\n",
              "                                  ..\n",
              "Raymie Muzquiz, Stu Livingston     1\n",
              "Joe Menendez                       1\n",
              "Eric Bross                         1\n",
              "Will Eisenberg                     1\n",
              "Mozez Singh                        1\n",
              "Name: director, Length: 4528, dtype: int64"
            ]
          },
          "metadata": {},
          "execution_count": 118
        }
      ]
    },
    {
      "cell_type": "code",
      "source": [
        "sns.countplot(data = data,x=\"director\")\n",
        "plt.title(\"Director Count\")\n",
        "plt.show()"
      ],
      "metadata": {
        "id": "GAUu93dmDgFp"
      },
      "execution_count": null,
      "outputs": []
    },
    {
      "cell_type": "code",
      "source": [
        "A =data2[\"director\"].value_counts().reset_index()\n",
        "sns.histplot(A[\"director\"],bins=19)\n",
        "plt.title(\"No of Director Vs movies/TV shows Directed\")\n",
        "plt.xlabel(\"No of Directors\")\n",
        "plt.ylabel(\"No of Movies/TV Shows\")\n",
        "plt.show()"
      ],
      "metadata": {
        "colab": {
          "base_uri": "https://localhost:8080/",
          "height": 472
        },
        "id": "C_ojwpNsqDFj",
        "outputId": "782296df-221b-4f8e-804c-0d06722126ec"
      },
      "execution_count": 122,
      "outputs": [
        {
          "output_type": "display_data",
          "data": {
            "text/plain": [
              "<Figure size 640x480 with 1 Axes>"
            ],
            "image/png": "[encoded data removed]"
          },
          "metadata": {}
        }
      ]
    },
    {
      "cell_type": "markdown",
      "source": [
        "\n",
        "\n",
        "*   Total Number of Directors in Netflix Platfrom = 4528\n",
        "*   Maximum Shows Directed = 19\n",
        "*   Minimum Shows Directed = 1\n",
        "*   Almost 80% Directors have their show First time in Netflix\n",
        "\n",
        "---\n",
        "\n",
        "\n",
        "\n",
        "---\n",
        "\n"
      ],
      "metadata": {
        "id": "dR0ZGQIEnT9y"
      }
    },
    {
      "cell_type": "markdown",
      "source": [
        "**Cast**"
      ],
      "metadata": {
        "id": "zsYuyzu1ojia"
      }
    },
    {
      "cell_type": "code",
      "source": [
        "data2.explode(\"cast\")[\"cast\"].value_counts()"
      ],
      "metadata": {
        "id": "mhKJNTw1pse8",
        "outputId": "73e7ff25-61a7-4ba7-c5d4-fd64cc8d6492",
        "colab": {
          "base_uri": "https://localhost:8080/"
        }
      },
      "execution_count": 125,
      "outputs": [
        {
          "output_type": "execute_result",
          "data": {
            "text/plain": [
              " Anupam Kher              39\n",
              " Rupa Bhimani             31\n",
              " Takahiro Sakurai         30\n",
              " Julie Tejwani            28\n",
              " Om Puri                  27\n",
              "                          ..\n",
              " Vedika                    1\n",
              " Tedros Teclebrhan         1\n",
              " Maryam Zaree              1\n",
              " Melanie Straub            1\n",
              " Chittaranjan Tripathy     1\n",
              "Name: cast, Length: 39296, dtype: int64"
            ]
          },
          "metadata": {},
          "execution_count": 125
        }
      ]
    },
    {
      "cell_type": "code",
      "source": [
        "A=data2.explode(\"cast\")[\"cast\"].value_counts().reset_index()\n",
        "sns.histplot(A[\"cast\"],bins=39)\n",
        "plt.title(\"No of Actors Vs Total Shows Acted\")\n",
        "plt.xlabel(\"No of Actors\")\n",
        "plt.ylabel(\"Total Shows Present in\")\n",
        "plt.show()"
      ],
      "metadata": {
        "id": "UBRl8sDBozKy",
        "outputId": "f2d38df4-af46-4291-dbe1-24891c7549f3",
        "colab": {
          "base_uri": "https://localhost:8080/",
          "height": 472
        }
      },
      "execution_count": 124,
      "outputs": [
        {
          "output_type": "display_data",
          "data": {
            "text/plain": [
              "<Figure size 640x480 with 1 Axes>"
            ],
            "image/png": "[encoded data removed]"
          },
          "metadata": {}
        }
      ]
    },
    {
      "cell_type": "markdown",
      "source": [
        "*   Total Number of Actors in Netflix Platfrom = 39296\n",
        "*   Maximum Shows Acted = 39\n",
        "*   Minimum Shows Acted = 1\n",
        "*   Almost 75% Actor have their Show for First time in Netflix\n",
        "\n",
        "---\n",
        "\n",
        "\n",
        "\n",
        "---\n",
        "\n"
      ],
      "metadata": {
        "id": "wNHAXHTNpw5F"
      }
    },
    {
      "cell_type": "markdown",
      "source": [
        "**Country**"
      ],
      "metadata": {
        "id": "JSLrfsW9qn5j"
      }
    },
    {
      "cell_type": "code",
      "source": [
        "data2.explode(\"country\")[\"country\"].value_counts()"
      ],
      "metadata": {
        "id": "CBWc6qcfqq3z",
        "outputId": "e45cd418-c8ab-4249-9f6e-06ee60309591",
        "colab": {
          "base_uri": "https://localhost:8080/"
        }
      },
      "execution_count": 126,
      "outputs": [
        {
          "output_type": "execute_result",
          "data": {
            "text/plain": [
              "United States     3211\n",
              "India             1008\n",
              "United Kingdom     628\n",
              " United States     479\n",
              "Canada             271\n",
              "                  ... \n",
              " Ecuador             1\n",
              "Iran                 1\n",
              "Cyprus               1\n",
              " Mongolia            1\n",
              " Montenegro          1\n",
              "Name: country, Length: 197, dtype: int64"
            ]
          },
          "metadata": {},
          "execution_count": 126
        }
      ]
    },
    {
      "cell_type": "code",
      "source": [
        "A = data2.explode(\"country\")[\"country\"].value_counts().reset_index().iloc[:20]\n",
        "plt.figure(figsize=(40,12))\n",
        "sns.barplot(data=A,x=\"index\",y=\"country\")\n",
        "plt.title(\"Country Vs Shows released\")\n",
        "plt.xticks(rotation=45,fontsize = 20)\n",
        "plt.yticks(fontsize = 20)\n",
        "plt.xlabel(\"Country\")\n",
        "plt.ylabel(\"Total Shows relesed\")\n",
        "plt.show()"
      ],
      "metadata": {
        "id": "owd5SP3tqyb0"
      },
      "execution_count": null,
      "outputs": []
    },
    {
      "cell_type": "markdown",
      "source": [
        "*   Netflix content avaiable in 197 Countries\n",
        "*   Maximum Shows Released in United States\n",
        "\n",
        "---\n",
        "\n",
        "\n",
        "\n",
        "---\n",
        "\n",
        "\n",
        "\n"
      ],
      "metadata": {
        "id": "KTQC2foZslV_"
      }
    },
    {
      "cell_type": "code",
      "source": [
        "plt.figure(figsize=(40,8))\n",
        "plt.xticks(rotation=90,fontsize = 10)\n",
        "sns.countplot(data = data.explode(\"country\"), x =\"country\" ,order =data.explode(\"country\")[\"country\"].value_counts().index )"
      ],
      "metadata": {
        "id": "lVegamnsB8Hl"
      },
      "execution_count": null,
      "outputs": []
    },
    {
      "cell_type": "code",
      "source": [
        "A = data.explode(\"country\")[\"country\"].value_counts().reset_index().iloc[:20]\n",
        "plt.figure(figsize=(40,8))\n",
        "plt.xticks(rotation=45,fontsize = 20)\n",
        "sns.barplot(data=A,x=\"index\",y=\"country\")"
      ],
      "metadata": {
        "id": "_y-RS0pRDSnX"
      },
      "execution_count": null,
      "outputs": []
    },
    {
      "cell_type": "code",
      "source": [
        "showdata = data[data[\"type\"] == \"TV Show\"].reset_index()\n",
        "moviedata = data[data[\"type\"] == \"Movie\"].reset_index()"
      ],
      "metadata": {
        "id": "hzfpx9QmKBMW"
      },
      "execution_count": null,
      "outputs": []
    },
    {
      "cell_type": "code",
      "source": [
        "data.columns"
      ],
      "metadata": {
        "id": "tsXR2hsRdUeX"
      },
      "execution_count": null,
      "outputs": []
    },
    {
      "cell_type": "code",
      "source": [
        "plt.figure(figsize=(20,8))\n",
        "sns.countplot(data= data[\"date_added\"].dt.week.reset_index(), x=\"date_added\")\n",
        "plt.show()"
      ],
      "metadata": {
        "id": "_S1bFV0SespX"
      },
      "execution_count": null,
      "outputs": []
    },
    {
      "cell_type": "code",
      "source": [
        "data.explode(\"director\").groupby(\"director\")[\"title\"].count().sort_values(ascending=False)"
      ],
      "metadata": {
        "id": "ToMzbMU1i-Pi"
      },
      "execution_count": null,
      "outputs": []
    }
  ],
  "metadata": {
    "colab": {
      "name": "Welcome to Colaboratory",
      "provenance": []
    },
    "kernelspec": {
      "display_name": "Python 3",
      "name": "python3"
    }
  },
  "nbformat": 4,
  "nbformat_minor": 0
}