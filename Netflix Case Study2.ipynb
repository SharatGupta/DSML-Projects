{
  "cells": [
    {
      "cell_type": "code",
      "source": [
        "import numpy as np\n",
        "import pandas as pd\n",
        "import matplotlib.pyplot as plt\n",
        "import seaborn as sns"
      ],
      "metadata": {
        "id": "kZXp4UspRovA"
      },
      "execution_count": null,
      "outputs": []
    },
    {
      "cell_type": "code",
      "source": [
        "data = pd.read_csv(\"Netflix.csv\")"
      ],
      "metadata": {
        "id": "r_DgdCOnR7TO"
      },
      "execution_count": null,
      "outputs": []
    },
    {
      "cell_type": "code",
      "source": [
        "data.shape"
      ],
      "metadata": {
        "id": "SBIOuA-ySCdu"
      },
      "execution_count": null,
      "outputs": []
    },
    {
      "cell_type": "code",
      "source": [
        "data.info()"
      ],
      "metadata": {
        "id": "-ta9yQx4SFLN"
      },
      "execution_count": null,
      "outputs": []
    },
    {
      "cell_type": "code",
      "source": [
        "data.head(5)"
      ],
      "metadata": {
        "id": "uq4mISZMSeqv"
      },
      "execution_count": null,
      "outputs": []
    },
    {
      "cell_type": "markdown",
      "source": [
        "# **Cleaning Data - Filling NaN**\n",
        "1. Director  - unknown director\n",
        "2. Cast - unknown cast\n",
        "3. country - unknown country\n",
        "4. date_added - Unknown\n",
        "5. rating - NR\n",
        "6. Duration - 0\n",
        "7. Date_added - leaving as NaN only"
      ],
      "metadata": {
        "id": "T-UabKUCjxJu"
      }
    },
    {
      "cell_type": "code",
      "source": [
        "data.dropna(axis = 1, how = \"all\",inplace=True)\n",
        "data[\"director\"].fillna(\"unknown_director\",inplace=True)\n",
        "data[\"country\"].fillna(\"unknown_country\",inplace = True)\n",
        "data[\"cast\"].fillna(\"unknown_cast\",inplace = True)\n",
        "data[\"rating\"].fillna(\"NR\",inplace = True)\n",
        "data[\"duration\"].fillna(\"0 time\",inplace=True)"
      ],
      "metadata": {
        "id": "4VVfLX_1gZFO"
      },
      "execution_count": null,
      "outputs": []
    },
    {
      "cell_type": "code",
      "source": [
        "data.info()"
      ],
      "metadata": {
        "id": "GpXgBMELlFv_"
      },
      "execution_count": null,
      "outputs": []
    },
    {
      "cell_type": "markdown",
      "source": [
        "# **Cleaning Data - Unesting Columns**\n",
        "1. Country\n",
        "2. Cast\n",
        "3. Listed_in\n",
        "\n",
        "I just splitting them into Lists, will use explode later whenever needed\n",
        "\n",
        "\n",
        "\n",
        "\n"
      ],
      "metadata": {
        "id": "x2qAQL37SahP"
      }
    },
    {
      "cell_type": "code",
      "source": [
        "data[\"country\"]=data[\"country\"].str.split(\", \")\n",
        "data[\"cast\"]=data[\"cast\"].str.split(\", \")\n",
        "data[\"listed_in\"]=data[\"listed_in\"].str.split(\", \")"
      ],
      "metadata": {
        "id": "U6aaaNX3TZHh"
      },
      "execution_count": 90,
      "outputs": []
    },
    {
      "cell_type": "code",
      "source": [
        "data.info()"
      ],
      "metadata": {
        "id": "zfxi3KXBmDsf"
      },
      "execution_count": null,
      "outputs": []
    },
    {
      "cell_type": "code",
      "source": [],
      "metadata": {
        "id": "KstjrJeNpWnV"
      },
      "execution_count": null,
      "outputs": []
    },
    {
      "cell_type": "markdown",
      "source": [
        "# **Changing \"Rating Columns\" from cateogorical to Numerical :**\n",
        "\n",
        "*   1 --> Very Child Friendly\n",
        "*   9 --> Stricly adult Content\n",
        "*   10 -->Not Rated , NAN, other data like 74 min,84min,66min\n",
        "\n",
        "\n",
        "\n",
        "\n",
        "\n",
        "\n",
        "\n"
      ],
      "metadata": {
        "id": "_gKf1pDlY1rZ"
      }
    },
    {
      "cell_type": "code",
      "source": [
        "data[\"rating\"].value_counts()"
      ],
      "metadata": {
        "id": "pxcn5UpYbsCr"
      },
      "execution_count": null,
      "outputs": []
    },
    {
      "cell_type": "code",
      "source": [
        "data[\"rating\"]=data[\"rating\"].replace([\"TV-Y\",\"TV-Y7\",\"TV-Y7-FV\",\"TV-G\",\"G\",\"TV-PG\",\"PG\",\"PG-13\",\"TV-14\",\"R\",\"TV-MA\",\"NC-17\",\"NR\",\"UR\",\"74 min\",\"84 min\",\"66 min\"],[1,2,3,4,4,5,5,6,7,8,9,9,10,10,10,10,10])"
      ],
      "metadata": {
        "id": "L_n4JVYnaEB7"
      },
      "execution_count": null,
      "outputs": []
    },
    {
      "cell_type": "code",
      "source": [
        "data.info()"
      ],
      "metadata": {
        "id": "1xaMZ4U-bBmS"
      },
      "execution_count": null,
      "outputs": []
    },
    {
      "cell_type": "markdown",
      "source": [
        "# **Changing \"Duration Columns\" from Object to Int**\n",
        "\n",
        "Ex:\n",
        "\n",
        "\n",
        "*   TV Shows are given as seasons, so 2 Seasons --> 2\n",
        "*   Movies are given as min, so 119 mins --> 119\n",
        "\n"
      ],
      "metadata": {
        "id": "VRwuCep6uFSC"
      }
    },
    {
      "cell_type": "code",
      "source": [
        "data[\"duration\"]=data[\"duration\"].str.split(expand = True)[0]\n",
        "data[\"duration\"] = data[\"duration\"].astype(\"int64\")"
      ],
      "metadata": {
        "id": "3XD8pds5rsg4"
      },
      "execution_count": null,
      "outputs": []
    },
    {
      "cell_type": "code",
      "source": [
        "data.info()"
      ],
      "metadata": {
        "id": "uvCd4wstufb7"
      },
      "execution_count": null,
      "outputs": []
    },
    {
      "cell_type": "markdown",
      "source": [
        "# **Changing Column \"Date_added\" Dtype to datetime**"
      ],
      "metadata": {
        "id": "_ndS9VGUX-tD"
      }
    },
    {
      "cell_type": "code",
      "source": [
        "data[\"date_added\"]=data[\"date_added\"].astype(\"datetime64\")"
      ],
      "metadata": {
        "id": "iir2k-2ZX9J9"
      },
      "execution_count": null,
      "outputs": []
    },
    {
      "cell_type": "markdown",
      "source": [
        "# **Changing Column \"release_year\" Dtype to datetime**\n",
        "\n",
        "*   As Only Year given in release_year , Assuming release happend at **1st Jan of Every Year**\n",
        "\n"
      ],
      "metadata": {
        "id": "utEpiQUo0Its"
      }
    },
    {
      "cell_type": "code",
      "source": [
        "data[\"release_year\"]=pd.to_datetime(data[\"release_year\"],format = \"%Y\")"
      ],
      "metadata": {
        "id": "PWUwx3tsvuS_"
      },
      "execution_count": null,
      "outputs": []
    },
    {
      "cell_type": "code",
      "source": [
        "data.info()"
      ],
      "metadata": {
        "id": "wM-TPsmgvKo1"
      },
      "execution_count": null,
      "outputs": []
    },
    {
      "cell_type": "markdown",
      "source": [
        "# **Statistical Analysis of Cleaned Data**"
      ],
      "metadata": {
        "id": "S2XJ-DeyCG95"
      }
    },
    {
      "cell_type": "code",
      "source": [
        "data.describe()"
      ],
      "metadata": {
        "id": "AA2FiM8M0vkr"
      },
      "execution_count": null,
      "outputs": []
    },
    {
      "cell_type": "code",
      "source": [
        "data.describe(include=object)"
      ],
      "metadata": {
        "id": "tuabY-0p08S2"
      },
      "execution_count": null,
      "outputs": []
    },
    {
      "cell_type": "code",
      "source": [
        "data.describe(datetime_is_numeric=True)"
      ],
      "metadata": {
        "id": "zIWTMDrQ1HO0"
      },
      "execution_count": null,
      "outputs": []
    },
    {
      "cell_type": "code",
      "source": [
        "data.info()"
      ],
      "metadata": {
        "id": "BL5_3toRAAyA"
      },
      "execution_count": null,
      "outputs": []
    },
    {
      "cell_type": "markdown",
      "source": [
        "# Creating New & Using Unfiltered Data with DataFrame Name - \"data2\"\n",
        "\n",
        "*   To avoid getting Unknown Values in Graphical & Non-Graphical Analysis\n",
        "\n",
        "\n"
      ],
      "metadata": {
        "id": "WlHaEqF9Ev_Z"
      }
    },
    {
      "cell_type": "code",
      "source": [
        "data2 = pd.read_csv(\"Netflix.csv\")\n",
        "data2[\"country\"]=data2[\"country\"].str.split(\", \")\n",
        "data2[\"cast\"]=data2[\"cast\"].str.split(\", \")\n",
        "data2[\"listed_in\"]=data2[\"listed_in\"].str.split(\", \")"
      ],
      "metadata": {
        "id": "U2uyV_yrEdJx"
      },
      "execution_count": 92,
      "outputs": []
    },
    {
      "cell_type": "markdown",
      "source": [
        "# **Categorical Variable - Graphical & Non-Graphical Analysis**"
      ],
      "metadata": {
        "id": "XZffwyZ3B4ao"
      }
    },
    {
      "cell_type": "markdown",
      "source": [
        "**Type - A Movie or TV Show**"
      ],
      "metadata": {
        "id": "f98-sRoVCUhw"
      }
    },
    {
      "cell_type": "code",
      "source": [
        "data[\"type\"].value_counts()"
      ],
      "metadata": {
        "id": "jj5ZMYtYot5P"
      },
      "execution_count": null,
      "outputs": []
    },
    {
      "cell_type": "code",
      "source": [
        "sns.countplot(data = data,x=\"type\")\n",
        "plt.title(\"Count of Movies/Shows\")\n",
        "plt.show()"
      ],
      "metadata": {
        "id": "rjRXrksWo1KL"
      },
      "execution_count": null,
      "outputs": []
    },
    {
      "cell_type": "markdown",
      "source": [
        "Inference : Movies Qty is more than TV Shows Qty\n",
        "\n",
        "\n",
        "\n",
        "---\n",
        "\n",
        "\n",
        "\n",
        "---\n",
        "\n",
        "\n",
        "\n"
      ],
      "metadata": {
        "id": "Bdnawh8nCsCQ"
      }
    },
    {
      "cell_type": "markdown",
      "source": [
        "**Director**"
      ],
      "metadata": {
        "id": "GNqIPTqHDRns"
      }
    },
    {
      "cell_type": "code",
      "source": [
        "data2[\"director\"].value_counts()"
      ],
      "metadata": {
        "id": "YzTTihE7ph5g"
      },
      "execution_count": null,
      "outputs": []
    },
    {
      "cell_type": "code",
      "source": [
        "sns.countplot(data = data,x=\"director\")\n",
        "plt.title(\"Director Count\")\n",
        "plt.show()"
      ],
      "metadata": {
        "id": "GAUu93dmDgFp"
      },
      "execution_count": null,
      "outputs": []
    },
    {
      "cell_type": "code",
      "source": [
        "A =data2[\"director\"].value_counts().reset_index()\n",
        "sns.histplot(A[\"director\"],bins=19)\n",
        "plt.title(\"No of Director Vs movies/TV shows Directed\")\n",
        "plt.xlabel(\"No of Directors\")\n",
        "plt.ylabel(\"No of Movies/TV Shows\")\n",
        "plt.show()"
      ],
      "metadata": {
        "id": "C_ojwpNsqDFj"
      },
      "execution_count": null,
      "outputs": []
    },
    {
      "cell_type": "markdown",
      "source": [
        "\n",
        "\n",
        "*   Total Number of Directors in Netflix Platfrom = 4528\n",
        "*   Maximum Shows Directed = 19\n",
        "*   Minimum Shows Directed = 1\n",
        "*   Almost 80% Directors have their show First time in Netflix\n",
        "\n",
        "---\n",
        "\n",
        "\n",
        "\n",
        "---\n",
        "\n"
      ],
      "metadata": {
        "id": "dR0ZGQIEnT9y"
      }
    },
    {
      "cell_type": "markdown",
      "source": [
        "**Cast**"
      ],
      "metadata": {
        "id": "zsYuyzu1ojia"
      }
    },
    {
      "cell_type": "code",
      "source": [
        "data2.explode(\"cast\")[\"cast\"].value_counts()"
      ],
      "metadata": {
        "id": "mhKJNTw1pse8"
      },
      "execution_count": null,
      "outputs": []
    },
    {
      "cell_type": "code",
      "source": [
        "A=data2.explode(\"cast\")[\"cast\"].value_counts().reset_index()\n",
        "plt.figure(figsize=(40,12))\n",
        "sns.histplot(A[\"cast\"],bins=39)\n",
        "plt.title(\"No of Actors Vs Total Shows Acted\",fontsize = 20)\n",
        "plt.xticks(rotation=45,fontsize = 20)\n",
        "plt.yticks(fontsize = 20)\n",
        "plt.xlabel(\"No of Actors\",fontsize = 20)\n",
        "plt.ylabel(\"Total Shows Present in\",fontsize = 20)\n",
        "plt.show()"
      ],
      "metadata": {
        "id": "UBRl8sDBozKy"
      },
      "execution_count": null,
      "outputs": []
    },
    {
      "cell_type": "markdown",
      "source": [
        "*   Total Number of Actors in Netflix Platfrom = 39296\n",
        "*   Maximum Shows Acted = 39\n",
        "*   Minimum Shows Acted = 1\n",
        "*   Almost 75% Actor have their Show for First time in Netflix\n",
        "\n",
        "---\n",
        "\n",
        "\n",
        "\n",
        "---\n",
        "\n"
      ],
      "metadata": {
        "id": "wNHAXHTNpw5F"
      }
    },
    {
      "cell_type": "markdown",
      "source": [
        "**Country**"
      ],
      "metadata": {
        "id": "JSLrfsW9qn5j"
      }
    },
    {
      "cell_type": "code",
      "source": [
        "data2.explode(\"country\")[\"country\"].value_counts()"
      ],
      "metadata": {
        "id": "CBWc6qcfqq3z",
        "outputId": "9ea834bb-ef21-4052-b127-0a81867c562a",
        "colab": {
          "base_uri": "https://localhost:8080/"
        }
      },
      "execution_count": 89,
      "outputs": [
        {
          "output_type": "execute_result",
          "data": {
            "text/plain": [
              "United States     3211\n",
              "India             1008\n",
              "United Kingdom     628\n",
              " United States     479\n",
              "Canada             271\n",
              "                  ... \n",
              " Ecuador             1\n",
              "Iran                 1\n",
              "Cyprus               1\n",
              " Mongolia            1\n",
              " Montenegro          1\n",
              "Name: country, Length: 197, dtype: int64"
            ]
          },
          "metadata": {},
          "execution_count": 89
        }
      ]
    },
    {
      "cell_type": "code",
      "source": [
        "A = data2.explode(\"country\")[\"country\"].value_counts().reset_index().iloc[:20]\n",
        "plt.figure(figsize=(40,12))\n",
        "sns.barplot(data=A,x=\"index\",y=\"country\")\n",
        "plt.title(\"Country Vs Shows released\",fontsize = 20)\n",
        "plt.xticks(rotation=45,fontsize = 20)\n",
        "plt.yticks(fontsize = 20)\n",
        "plt.xlabel(\"Country\",fontsize = 20)\n",
        "plt.ylabel(\"Total Shows relesed\",fontsize = 20)\n",
        "plt.show()"
      ],
      "metadata": {
        "id": "owd5SP3tqyb0"
      },
      "execution_count": null,
      "outputs": []
    },
    {
      "cell_type": "markdown",
      "source": [
        "*   Netflix content avaiable in 197 Countries\n",
        "*   Maximum Shows Released in United States\n",
        "\n",
        "---\n",
        "\n",
        "\n",
        "\n",
        "---\n",
        "\n",
        "\n",
        "\n"
      ],
      "metadata": {
        "id": "KTQC2foZslV_"
      }
    },
    {
      "cell_type": "markdown",
      "source": [
        "**Date_added**"
      ],
      "metadata": {
        "id": "zJc4RqeTumFy"
      }
    },
    {
      "cell_type": "code",
      "source": [
        "data[\"date_added\"].dt.year.value_counts()"
      ],
      "metadata": {
        "id": "wcqkcIGBt0yR"
      },
      "execution_count": null,
      "outputs": []
    },
    {
      "cell_type": "code",
      "source": [
        "#plt.figure(figsize=(12,8))\n",
        "#A= data[\"date_added\"].dt.year.value_counts().reset_index()\n",
        "#sns.barplot(data=A,x=\"index\",y=\"date_added\")\n",
        "sns.countplot(x=data[\"date_added\"].dt.year)\n",
        "plt.title(\"Show Addition year wise\",fontsize = 12)\n",
        "plt.xticks(rotation=45,fontsize = 12)\n",
        "plt.yticks(fontsize = 12)\n",
        "plt.xlabel(\"Year\",fontsize = 12)\n",
        "plt.ylabel(\"Total Shows added\",fontsize = 12)\n",
        "plt.show()"
      ],
      "metadata": {
        "id": "TU5ewdW1u19i"
      },
      "execution_count": null,
      "outputs": []
    },
    {
      "cell_type": "markdown",
      "source": [
        "\n",
        "\n",
        "*   Netflix started shows addition from 2008 and adding content since then every year\n",
        "*   Shows addition started to drastically increase from 2016 & Peaked in year 2019 with 2016 Nos shows added in single year\n",
        "\n",
        "---\n",
        "\n",
        "\n",
        "\n",
        "---\n",
        "\n",
        "\n",
        "\n"
      ],
      "metadata": {
        "id": "oTR2_Tr-vnsp"
      }
    },
    {
      "cell_type": "markdown",
      "source": [
        "**Ratings**\n",
        "\n",
        "Content Rating 1-->Very Child friendly, 9 --> Mature Audience Content\n"
      ],
      "metadata": {
        "id": "_TsxJwJawlH6"
      }
    },
    {
      "cell_type": "code",
      "source": [
        "data[\"rating\"].value_counts()"
      ],
      "metadata": {
        "id": "5swfPU1Dwjua"
      },
      "execution_count": null,
      "outputs": []
    },
    {
      "cell_type": "code",
      "source": [
        "sns.countplot(x=data[\"rating\"])"
      ],
      "metadata": {
        "id": "kPXmgXTVxUV0"
      },
      "execution_count": null,
      "outputs": []
    },
    {
      "cell_type": "markdown",
      "source": [
        "*   88% Shows Avaible are Either Matured Content or Where Parental Guidance is Needed\n",
        "*   Content avaiable for children is very less\n",
        "\n",
        "---\n",
        "\n",
        "\n",
        "\n",
        "---\n",
        "\n",
        "\n",
        "\n",
        "\n",
        "\n",
        "\n"
      ],
      "metadata": {
        "id": "uRSo3oQvy6du"
      }
    },
    {
      "cell_type": "markdown",
      "source": [
        "**Genres - Listed_in**"
      ],
      "metadata": {
        "id": "XOSTN-yqz2Lp"
      }
    },
    {
      "cell_type": "code",
      "source": [
        "data2.explode(\"listed_in\")[\"listed_in\"].value_counts()"
      ],
      "metadata": {
        "id": "0o37Qevmy6Be"
      },
      "execution_count": null,
      "outputs": []
    },
    {
      "cell_type": "code",
      "source": [
        "plt.figure(figsize=(20,8))\n",
        "sns.countplot(data = data2.explode(\"listed_in\"),x=\"listed_in\",order =data2.explode(\"listed_in\")[\"listed_in\"].value_counts().index)\n",
        "plt.title(\"Genre wise Shows Available\",fontsize = 12)\n",
        "plt.xticks(rotation=45,fontsize = 8)\n",
        "plt.yticks(fontsize = 12)\n",
        "plt.xlabel(\"Genres\",fontsize = 12)\n",
        "plt.ylabel(\"Total Shows Avaiable\",fontsize = 12)\n",
        "plt.show()"
      ],
      "metadata": {
        "id": "SayeKI4c2OFu"
      },
      "execution_count": null,
      "outputs": []
    },
    {
      "cell_type": "markdown",
      "source": [
        "*   There are total 73 Genres avaiable in Netflix\n",
        "\n",
        "*   Major Content Avaiable in Genre -  \"Internation Movies\", next is \"Dramas\"\n",
        "\n",
        "\n",
        "---\n",
        "\n",
        "\n",
        "\n",
        "---\n",
        "\n"
      ],
      "metadata": {
        "id": "rcCoV8_P32oj"
      }
    },
    {
      "cell_type": "markdown",
      "source": [
        "# **Comparison of TV Shows vs Movies**"
      ],
      "metadata": {
        "id": "oRyheRiwYcjK"
      }
    },
    {
      "cell_type": "code",
      "source": [
        "countrydata = data2.explode(\"country\").groupby([\"type\",\"country\"])[\"title\"].count().sort_values(ascending=False).reset_index()\n",
        "countrydata"
      ],
      "metadata": {
        "id": "dyBtyMSkYjRn",
        "outputId": "85ebdf46-c063-4f77-9af4-470fb157175c",
        "colab": {
          "base_uri": "https://localhost:8080/",
          "height": 424
        }
      },
      "execution_count": 95,
      "outputs": [
        {
          "output_type": "execute_result",
          "data": {
            "text/plain": [
              "        type         country  title\n",
              "0      Movie   United States   2751\n",
              "1      Movie           India    962\n",
              "2    TV Show   United States    938\n",
              "3      Movie  United Kingdom    532\n",
              "4      Movie          Canada    319\n",
              "..       ...             ...    ...\n",
              "183    Movie        Paraguay      1\n",
              "184    Movie          Panama      1\n",
              "185    Movie       Palestine      1\n",
              "186    Movie       Nicaragua      1\n",
              "187    Movie        Slovakia      1\n",
              "\n",
              "[188 rows x 3 columns]"
            ],
            "text/html": [
              "\n",
              "  <div id=\"df-019a0516-0ab0-4fd9-a957-639a7250ff0e\">\n",
              "    <div class=\"colab-df-container\">\n",
              "      <div>\n",
              "<style scoped>\n",
              "    .dataframe tbody tr th:only-of-type {\n",
              "        vertical-align: middle;\n",
              "    }\n",
              "\n",
              "    .dataframe tbody tr th {\n",
              "        vertical-align: top;\n",
              "    }\n",
              "\n",
              "    .dataframe thead th {\n",
              "        text-align: right;\n",
              "    }\n",
              "</style>\n",
              "<table border=\"1\" class=\"dataframe\">\n",
              "  <thead>\n",
              "    <tr style=\"text-align: right;\">\n",
              "      <th></th>\n",
              "      <th>type</th>\n",
              "      <th>country</th>\n",
              "      <th>title</th>\n",
              "    </tr>\n",
              "  </thead>\n",
              "  <tbody>\n",
              "    <tr>\n",
              "      <th>0</th>\n",
              "      <td>Movie</td>\n",
              "      <td>United States</td>\n",
              "      <td>2751</td>\n",
              "    </tr>\n",
              "    <tr>\n",
              "      <th>1</th>\n",
              "      <td>Movie</td>\n",
              "      <td>India</td>\n",
              "      <td>962</td>\n",
              "    </tr>\n",
              "    <tr>\n",
              "      <th>2</th>\n",
              "      <td>TV Show</td>\n",
              "      <td>United States</td>\n",
              "      <td>938</td>\n",
              "    </tr>\n",
              "    <tr>\n",
              "      <th>3</th>\n",
              "      <td>Movie</td>\n",
              "      <td>United Kingdom</td>\n",
              "      <td>532</td>\n",
              "    </tr>\n",
              "    <tr>\n",
              "      <th>4</th>\n",
              "      <td>Movie</td>\n",
              "      <td>Canada</td>\n",
              "      <td>319</td>\n",
              "    </tr>\n",
              "    <tr>\n",
              "      <th>...</th>\n",
              "      <td>...</td>\n",
              "      <td>...</td>\n",
              "      <td>...</td>\n",
              "    </tr>\n",
              "    <tr>\n",
              "      <th>183</th>\n",
              "      <td>Movie</td>\n",
              "      <td>Paraguay</td>\n",
              "      <td>1</td>\n",
              "    </tr>\n",
              "    <tr>\n",
              "      <th>184</th>\n",
              "      <td>Movie</td>\n",
              "      <td>Panama</td>\n",
              "      <td>1</td>\n",
              "    </tr>\n",
              "    <tr>\n",
              "      <th>185</th>\n",
              "      <td>Movie</td>\n",
              "      <td>Palestine</td>\n",
              "      <td>1</td>\n",
              "    </tr>\n",
              "    <tr>\n",
              "      <th>186</th>\n",
              "      <td>Movie</td>\n",
              "      <td>Nicaragua</td>\n",
              "      <td>1</td>\n",
              "    </tr>\n",
              "    <tr>\n",
              "      <th>187</th>\n",
              "      <td>Movie</td>\n",
              "      <td>Slovakia</td>\n",
              "      <td>1</td>\n",
              "    </tr>\n",
              "  </tbody>\n",
              "</table>\n",
              "<p>188 rows × 3 columns</p>\n",
              "</div>\n",
              "      <button class=\"colab-df-convert\" onclick=\"convertToInteractive('df-019a0516-0ab0-4fd9-a957-639a7250ff0e')\"\n",
              "              title=\"Convert this dataframe to an interactive table.\"\n",
              "              style=\"display:none;\">\n",
              "        \n",
              "  <svg xmlns=\"http://www.w3.org/2000/svg\" height=\"24px\"viewBox=\"0 0 24 24\"\n",
              "       width=\"24px\">\n",
              "    <path d=\"M0 0h24v24H0V0z\" fill=\"none\"/>\n",
              "    <path d=\"M18.56 5.44l.94 2.06.94-2.06 2.06-.94-2.06-.94-.94-2.06-.94 2.06-2.06.94zm-11 1L8.5 8.5l.94-2.06 2.06-.94-2.06-.94L8.5 2.5l-.94 2.06-2.06.94zm10 10l.94 2.06.94-2.06 2.06-.94-2.06-.94-.94-2.06-.94 2.06-2.06.94z\"/><path d=\"M17.41 7.96l-1.37-1.37c-.4-.4-.92-.59-1.43-.59-.52 0-1.04.2-1.43.59L10.3 9.45l-7.72 7.72c-.78.78-.78 2.05 0 2.83L4 21.41c.39.39.9.59 1.41.59.51 0 1.02-.2 1.41-.59l7.78-7.78 2.81-2.81c.8-.78.8-2.07 0-2.86zM5.41 20L4 18.59l7.72-7.72 1.47 1.35L5.41 20z\"/>\n",
              "  </svg>\n",
              "      </button>\n",
              "      \n",
              "  <style>\n",
              "    .colab-df-container {\n",
              "      display:flex;\n",
              "      flex-wrap:wrap;\n",
              "      gap: 12px;\n",
              "    }\n",
              "\n",
              "    .colab-df-convert {\n",
              "      background-color: #E8F0FE;\n",
              "      border: none;\n",
              "      border-radius: 50%;\n",
              "      cursor: pointer;\n",
              "      display: none;\n",
              "      fill: #1967D2;\n",
              "      height: 32px;\n",
              "      padding: 0 0 0 0;\n",
              "      width: 32px;\n",
              "    }\n",
              "\n",
              "    .colab-df-convert:hover {\n",
              "      background-color: #E2EBFA;\n",
              "      box-shadow: 0px 1px 2px rgba(60, 64, 67, 0.3), 0px 1px 3px 1px rgba(60, 64, 67, 0.15);\n",
              "      fill: #174EA6;\n",
              "    }\n",
              "\n",
              "    [theme=dark] .colab-df-convert {\n",
              "      background-color: #3B4455;\n",
              "      fill: #D2E3FC;\n",
              "    }\n",
              "\n",
              "    [theme=dark] .colab-df-convert:hover {\n",
              "      background-color: #434B5C;\n",
              "      box-shadow: 0px 1px 3px 1px rgba(0, 0, 0, 0.15);\n",
              "      filter: drop-shadow(0px 1px 2px rgba(0, 0, 0, 0.3));\n",
              "      fill: #FFFFFF;\n",
              "    }\n",
              "  </style>\n",
              "\n",
              "      <script>\n",
              "        const buttonEl =\n",
              "          document.querySelector('#df-019a0516-0ab0-4fd9-a957-639a7250ff0e button.colab-df-convert');\n",
              "        buttonEl.style.display =\n",
              "          google.colab.kernel.accessAllowed ? 'block' : 'none';\n",
              "\n",
              "        async function convertToInteractive(key) {\n",
              "          const element = document.querySelector('#df-019a0516-0ab0-4fd9-a957-639a7250ff0e');\n",
              "          const dataTable =\n",
              "            await google.colab.kernel.invokeFunction('convertToInteractive',\n",
              "                                                     [key], {});\n",
              "          if (!dataTable) return;\n",
              "\n",
              "          const docLinkHtml = 'Like what you see? Visit the ' +\n",
              "            '<a target=\"_blank\" href=https://colab.research.google.com/notebooks/data_table.ipynb>data table notebook</a>'\n",
              "            + ' to learn more about interactive tables.';\n",
              "          element.innerHTML = '';\n",
              "          dataTable['output_type'] = 'display_data';\n",
              "          await google.colab.output.renderOutput(dataTable, element);\n",
              "          const docLink = document.createElement('div');\n",
              "          docLink.innerHTML = docLinkHtml;\n",
              "          element.appendChild(docLink);\n",
              "        }\n",
              "      </script>\n",
              "    </div>\n",
              "  </div>\n",
              "  "
            ]
          },
          "metadata": {},
          "execution_count": 95
        }
      ]
    },
    {
      "cell_type": "code",
      "source": [
        "plt.figure(figsize = (20,8))\n",
        "plt.subplot(1,2,1)\n",
        "sns.barplot(data= countrydata[countrydata[\"type\"] == \"Movie\"].sort_values(\"title\",ascending = False).iloc[:10], x=\"country\",y=\"title\")\n",
        "plt.title(\"Country wise Movies Count\",fontsize = 12)\n",
        "plt.xticks(rotation=45,fontsize = 10)\n",
        "plt.yticks(fontsize = 12)\n",
        "plt.xlabel(\"Countries\",fontsize = 10)\n",
        "plt.ylabel(\"Total Movies Available\",fontsize = 10)\n",
        "plt.subplot(1,2,2)\n",
        "sns.barplot(data= countrydata[countrydata[\"type\"] == \"TV Show\"].sort_values(\"title\",ascending = False).iloc[:10], x=\"country\",y=\"title\")\n",
        "plt.title(\"Country wise TV Show Count\",fontsize = 12)\n",
        "plt.xticks(rotation=45,fontsize = 10)\n",
        "plt.yticks(fontsize = 12)\n",
        "plt.xlabel(\"Countries\",fontsize = 10)\n",
        "plt.ylabel(\"Total TV Shows Avaiable\",fontsize = 10)\n",
        "plt.show()"
      ],
      "metadata": {
        "id": "PhSmmOX7aMkp",
        "outputId": "e09dce2f-d630-4792-8b4d-1b2fcd432809",
        "colab": {
          "base_uri": "https://localhost:8080/",
          "height": 463
        }
      },
      "execution_count": 106,
      "outputs": [
        {
          "output_type": "display_data",
          "data": {
            "text/plain": [
              "<Figure size 2000x800 with 2 Axes>"
            ],
            "image/png": "[encoded data removed]"
          },
          "metadata": {}
        }
      ]
    },
    {
      "cell_type": "markdown",
      "source": [
        "Summary"
      ],
      "metadata": {
        "id": "H6v-XOhbcXOu"
      }
    },
    {
      "cell_type": "code",
      "source": [
        "plt.figure(figsize=(20,8))\n",
        "sns.countplot(data= data[\"date_added\"].dt.week.reset_index(), x=\"date_added\")\n",
        "plt.show()"
      ],
      "metadata": {
        "id": "_S1bFV0SespX"
      },
      "execution_count": null,
      "outputs": []
    },
    {
      "cell_type": "code",
      "source": [
        "data2.explode(\"director\").groupby(\"director\")[\"title\"].count().sort_values(ascending=False)"
      ],
      "metadata": {
        "id": "ToMzbMU1i-Pi"
      },
      "execution_count": null,
      "outputs": []
    }
  ],
  "metadata": {
    "colab": {
      "name": "Welcome to Colaboratory",
      "provenance": []
    },
    "kernelspec": {
      "display_name": "Python 3",
      "name": "python3"
    }
  },
  "nbformat": 4,
  "nbformat_minor": 0
}