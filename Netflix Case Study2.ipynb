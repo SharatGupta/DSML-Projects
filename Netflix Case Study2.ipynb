{
  "cells": [
    {
      "cell_type": "code",
      "source": [
        "import numpy as np\n",
        "import pandas as pd\n",
        "import matplotlib.pyplot as plt\n",
        "import seaborn as sns"
      ],
      "metadata": {
        "id": "kZXp4UspRovA"
      },
      "execution_count": null,
      "outputs": []
    },
    {
      "cell_type": "code",
      "source": [
        "data = pd.read_csv(\"Netflix.csv\")"
      ],
      "metadata": {
        "id": "r_DgdCOnR7TO"
      },
      "execution_count": 58,
      "outputs": []
    },
    {
      "cell_type": "code",
      "source": [
        "data.shape"
      ],
      "metadata": {
        "id": "SBIOuA-ySCdu"
      },
      "execution_count": null,
      "outputs": []
    },
    {
      "cell_type": "code",
      "source": [
        "data.info()"
      ],
      "metadata": {
        "id": "-ta9yQx4SFLN"
      },
      "execution_count": null,
      "outputs": []
    },
    {
      "cell_type": "code",
      "source": [
        "data.describe()"
      ],
      "metadata": {
        "id": "0U_60A1KSI5Q"
      },
      "execution_count": null,
      "outputs": []
    },
    {
      "cell_type": "code",
      "source": [
        "data.describe(include = object)"
      ],
      "metadata": {
        "id": "9rBMrGkkSQ5N"
      },
      "execution_count": null,
      "outputs": []
    },
    {
      "cell_type": "code",
      "source": [
        "data.head(5)"
      ],
      "metadata": {
        "id": "uq4mISZMSeqv"
      },
      "execution_count": null,
      "outputs": []
    },
    {
      "cell_type": "code",
      "source": [
        "data.info()"
      ],
      "metadata": {
        "id": "L574d3eOenzB"
      },
      "execution_count": null,
      "outputs": []
    },
    {
      "cell_type": "markdown",
      "source": [
        "# **Cleaning Data - Filling NaN**\n",
        "1. Director  - unknown director\n",
        "2. Cast - unknown cast\n",
        "3. country - unknown country\n",
        "4. date_added - Unknown\n",
        "5. rating - NR\n",
        "6. Duration - 0\n",
        "7. Date_added - leaving as NaN only"
      ],
      "metadata": {
        "id": "T-UabKUCjxJu"
      }
    },
    {
      "cell_type": "code",
      "source": [
        "data.dropna(axis = 1, how = \"all\",inplace=True)\n",
        "data[\"director\"].fillna(\"unknown_director\",inplace=True)\n",
        "data[\"country\"].fillna(\"unknown_country\",inplace = True)\n",
        "data[\"cast\"].fillna(\"unknown_cast\",inplace = True)\n",
        "data[\"rating\"].fillna(\"NR\",inplace = True)\n",
        "data[\"duration\"].fillna(\"0 time\",inplace=True)"
      ],
      "metadata": {
        "id": "4VVfLX_1gZFO"
      },
      "execution_count": 59,
      "outputs": []
    },
    {
      "cell_type": "code",
      "source": [
        "data.info()"
      ],
      "metadata": {
        "id": "GpXgBMELlFv_",
        "outputId": "c1fa1ce5-7b98-4cd1-e26b-8d55e11e7ede",
        "colab": {
          "base_uri": "https://localhost:8080/"
        }
      },
      "execution_count": 60,
      "outputs": [
        {
          "output_type": "stream",
          "name": "stdout",
          "text": [
            "<class 'pandas.core.frame.DataFrame'>\n",
            "RangeIndex: 8807 entries, 0 to 8806\n",
            "Data columns (total 12 columns):\n",
            " #   Column        Non-Null Count  Dtype \n",
            "---  ------        --------------  ----- \n",
            " 0   show_id       8807 non-null   object\n",
            " 1   type          8807 non-null   object\n",
            " 2   title         8807 non-null   object\n",
            " 3   director      8807 non-null   object\n",
            " 4   cast          8807 non-null   object\n",
            " 5   country       8807 non-null   object\n",
            " 6   date_added    8797 non-null   object\n",
            " 7   release_year  8807 non-null   int64 \n",
            " 8   rating        8807 non-null   object\n",
            " 9   duration      8807 non-null   object\n",
            " 10  listed_in     8807 non-null   object\n",
            " 11  description   8807 non-null   object\n",
            "dtypes: int64(1), object(11)\n",
            "memory usage: 825.8+ KB\n"
          ]
        }
      ]
    },
    {
      "cell_type": "markdown",
      "source": [
        "# **Cleaning Data - Unesting Columns**\n",
        "1. Country\n",
        "2. Cast\n",
        "3. Listed_in\n",
        "\n",
        "I just splitting them into Lists, will use explode later whenever needed\n",
        "\n",
        "\n",
        "\n",
        "\n"
      ],
      "metadata": {
        "id": "x2qAQL37SahP"
      }
    },
    {
      "cell_type": "code",
      "source": [
        "data[\"country\"]=data[\"country\"].str.split(\",\")\n",
        "data[\"cast\"]=data[\"cast\"].str.split(\",\")\n",
        "data[\"listed_in\"]=data[\"listed_in\"].str.split(\",\")"
      ],
      "metadata": {
        "id": "U6aaaNX3TZHh"
      },
      "execution_count": 61,
      "outputs": []
    },
    {
      "cell_type": "code",
      "source": [
        "data.info()"
      ],
      "metadata": {
        "id": "zfxi3KXBmDsf",
        "outputId": "f23c39b2-8b33-4591-b3a5-42f26116ceef",
        "colab": {
          "base_uri": "https://localhost:8080/"
        }
      },
      "execution_count": 62,
      "outputs": [
        {
          "output_type": "stream",
          "name": "stdout",
          "text": [
            "<class 'pandas.core.frame.DataFrame'>\n",
            "RangeIndex: 8807 entries, 0 to 8806\n",
            "Data columns (total 12 columns):\n",
            " #   Column        Non-Null Count  Dtype \n",
            "---  ------        --------------  ----- \n",
            " 0   show_id       8807 non-null   object\n",
            " 1   type          8807 non-null   object\n",
            " 2   title         8807 non-null   object\n",
            " 3   director      8807 non-null   object\n",
            " 4   cast          8807 non-null   object\n",
            " 5   country       8807 non-null   object\n",
            " 6   date_added    8797 non-null   object\n",
            " 7   release_year  8807 non-null   int64 \n",
            " 8   rating        8807 non-null   object\n",
            " 9   duration      8807 non-null   object\n",
            " 10  listed_in     8807 non-null   object\n",
            " 11  description   8807 non-null   object\n",
            "dtypes: int64(1), object(11)\n",
            "memory usage: 825.8+ KB\n"
          ]
        }
      ]
    },
    {
      "cell_type": "code",
      "source": [],
      "metadata": {
        "id": "KstjrJeNpWnV"
      },
      "execution_count": null,
      "outputs": []
    },
    {
      "cell_type": "markdown",
      "source": [
        "# **Changing \"Rating Columns\" from cateogorical to Numerical :**\n",
        "\n",
        "*   1 --> Very Child Friendly\n",
        "*   9 --> Stricly adult Content\n",
        "*   10 -->Not Rated , NAN, other data like 74 min,84min,66min\n",
        "\n",
        "\n",
        "\n",
        "\n",
        "\n",
        "\n",
        "\n"
      ],
      "metadata": {
        "id": "_gKf1pDlY1rZ"
      }
    },
    {
      "cell_type": "code",
      "source": [
        "data[\"rating\"].value_counts()"
      ],
      "metadata": {
        "id": "pxcn5UpYbsCr"
      },
      "execution_count": null,
      "outputs": []
    },
    {
      "cell_type": "code",
      "source": [
        "data[\"rating\"]=data[\"rating\"].replace([\"TV-Y\",\"TV-Y7\",\"TV-Y7-FV\",\"TV-G\",\"G\",\"TV-PG\",\"PG\",\"PG-13\",\"TV-14\",\"R\",\"TV-MA\",\"NC-17\",\"NR\",\"UR\",\"74 min\",\"84 min\",\"66 min\"],[1,2,3,4,4,5,5,6,7,8,9,9,10,10,10,10,10])"
      ],
      "metadata": {
        "id": "L_n4JVYnaEB7"
      },
      "execution_count": 67,
      "outputs": []
    },
    {
      "cell_type": "code",
      "source": [
        "data.info()"
      ],
      "metadata": {
        "id": "1xaMZ4U-bBmS"
      },
      "execution_count": null,
      "outputs": []
    },
    {
      "cell_type": "markdown",
      "source": [
        "# **Changing \"Duration Columns\" from Object to Int**\n",
        "\n",
        "Ex:\n",
        "\n",
        "\n",
        "*   TV Shows are given as seasons, so 2 Seasons --> 2\n",
        "*   Movies are given as min, so 119 mins --> 119\n",
        "\n"
      ],
      "metadata": {
        "id": "VRwuCep6uFSC"
      }
    },
    {
      "cell_type": "code",
      "source": [
        "data[\"duration\"]=data[\"duration\"].str.split(expand = True)[0]\n",
        "data[\"duration\"] = data[\"duration\"].astype(\"int64\")"
      ],
      "metadata": {
        "id": "3XD8pds5rsg4"
      },
      "execution_count": null,
      "outputs": []
    },
    {
      "cell_type": "code",
      "source": [
        "data.info()"
      ],
      "metadata": {
        "id": "uvCd4wstufb7",
        "outputId": "6ed2fac8-512a-4fa6-b751-8c3cf652964f",
        "colab": {
          "base_uri": "https://localhost:8080/"
        }
      },
      "execution_count": 76,
      "outputs": [
        {
          "output_type": "stream",
          "name": "stdout",
          "text": [
            "<class 'pandas.core.frame.DataFrame'>\n",
            "RangeIndex: 8807 entries, 0 to 8806\n",
            "Data columns (total 13 columns):\n",
            " #   Column        Non-Null Count  Dtype \n",
            "---  ------        --------------  ----- \n",
            " 0   show_id       8807 non-null   object\n",
            " 1   type          8807 non-null   object\n",
            " 2   title         8807 non-null   object\n",
            " 3   director      8807 non-null   object\n",
            " 4   cast          8807 non-null   object\n",
            " 5   country       8807 non-null   object\n",
            " 6   date_added    8797 non-null   object\n",
            " 7   release_year  8807 non-null   int64 \n",
            " 8   rating        8807 non-null   int64 \n",
            " 9   duration      8807 non-null   int64 \n",
            " 10  listed_in     8807 non-null   object\n",
            " 11  description   8807 non-null   object\n",
            " 12  numrating     8807 non-null   int64 \n",
            "dtypes: int64(4), object(9)\n",
            "memory usage: 894.6+ KB\n"
          ]
        }
      ]
    },
    {
      "cell_type": "markdown",
      "source": [
        "# **Changing Column \"Date_added\" Dtype to datetime**"
      ],
      "metadata": {
        "id": "_ndS9VGUX-tD"
      }
    },
    {
      "cell_type": "code",
      "source": [
        "data[\"date_added\"]=data[\"date_added\"].astype(\"datetime64\")"
      ],
      "metadata": {
        "id": "iir2k-2ZX9J9"
      },
      "execution_count": 77,
      "outputs": []
    },
    {
      "cell_type": "code",
      "source": [
        "data.info()"
      ],
      "metadata": {
        "id": "jx0qPn-lYZ43"
      },
      "execution_count": null,
      "outputs": []
    },
    {
      "cell_type": "code",
      "source": [
        "data [data[\"date_added\"].isna()]"
      ],
      "metadata": {
        "id": "wM-TPsmgvKo1",
        "outputId": "19d7585a-aec7-4981-e1e1-3dd25126ad37",
        "colab": {
          "base_uri": "https://localhost:8080/",
          "height": 1000
        }
      },
      "execution_count": 79,
      "outputs": [
        {
          "output_type": "execute_result",
          "data": {
            "text/plain": [
              "     show_id     type                                        title  \\\n",
              "6066   s6067  TV Show  A Young Doctor's Notebook and Other Stories   \n",
              "6174   s6175  TV Show              Anthony Bourdain: Parts Unknown   \n",
              "6795   s6796  TV Show                                      Frasier   \n",
              "6806   s6807  TV Show                                      Friends   \n",
              "6901   s6902  TV Show                              Gunslinger Girl   \n",
              "7196   s7197  TV Show                                     Kikoriki   \n",
              "7254   s7255  TV Show                          La Familia P. Luche   \n",
              "7406   s7407  TV Show                                        Maron   \n",
              "7847   s7848  TV Show                                 Red vs. Blue   \n",
              "8182   s8183  TV Show                 The Adventures of Figaro Pho   \n",
              "\n",
              "              director                                               cast  \\\n",
              "6066  unknown_director  [Daniel Radcliffe,  Jon Hamm,  Adam Godley,  C...   \n",
              "6174  unknown_director                                 [Anthony Bourdain]   \n",
              "6795  unknown_director  [Kelsey Grammer,  Jane Leeves,  David Hyde Pie...   \n",
              "6806  unknown_director  [Jennifer Aniston,  Courteney Cox,  Lisa Kudro...   \n",
              "6901  unknown_director  [Yuuka Nanri,  Kanako Mitsuhashi,  Eri Sendai,...   \n",
              "7196  unknown_director                                    [Igor Dmitriev]   \n",
              "7254  unknown_director  [Eugenio Derbez,  Consuelo Duval,  Luis Manuel...   \n",
              "7406  unknown_director  [Marc Maron,  Judd Hirsch,  Josh Brener,  Nora...   \n",
              "7847  unknown_director  [Burnie Burns,  Jason Saldaña,  Gustavo Sorola...   \n",
              "8182  unknown_director  [Luke Jurevicius,  Craig Behenna,  Charlotte H...   \n",
              "\n",
              "                country date_added  release_year  rating  duration  \\\n",
              "6066   [United Kingdom]        NaT          2013       9         2   \n",
              "6174    [United States]        NaT          2018       5         5   \n",
              "6795    [United States]        NaT          2003       5        11   \n",
              "6806    [United States]        NaT          2003       7        10   \n",
              "6901            [Japan]        NaT          2008       7         2   \n",
              "7196  [unknown_country]        NaT          2010       1         2   \n",
              "7254    [United States]        NaT          2012       7         3   \n",
              "7406    [United States]        NaT          2016       9         4   \n",
              "7847    [United States]        NaT          2015      10        13   \n",
              "8182        [Australia]        NaT          2015       2         2   \n",
              "\n",
              "                                              listed_in  \\\n",
              "6066       [British TV Shows,  TV Comedies,  TV Dramas]   \n",
              "6174                                       [Docuseries]   \n",
              "6795                  [Classic & Cult TV,  TV Comedies]   \n",
              "6806                  [Classic & Cult TV,  TV Comedies]   \n",
              "6901                    [Anime Series,  Crime TV Shows]   \n",
              "7196                                         [Kids' TV]   \n",
              "7254  [International TV Shows,  Spanish-Language TV ...   \n",
              "7406                                      [TV Comedies]   \n",
              "7847  [TV Action & Adventure,  TV Comedies,  TV Sci-...   \n",
              "8182                           [Kids' TV,  TV Comedies]   \n",
              "\n",
              "                                            description  numrating  \n",
              "6066  Set during the Russian Revolution, this comic ...          9  \n",
              "6174  This CNN original series has chef Anthony Bour...          5  \n",
              "6795  Frasier Crane is a snooty but lovable Seattle ...          5  \n",
              "6806  This hit sitcom follows the merry misadventure...          7  \n",
              "6901  On the surface, the Social Welfare Agency appe...          7  \n",
              "7196  A wacky rabbit and his gang of animal pals hav...          1  \n",
              "7254  This irreverent sitcom featues Ludovico, Feder...          7  \n",
              "7406  Marc Maron stars as Marc Maron, who interviews...          9  \n",
              "7847  This parody of first-person shooter games, mil...         10  \n",
              "8182  Imagine your worst fears, then multiply them: ...          2  "
            ],
            "text/html": [
              "\n",
              "  <div id=\"df-0d904911-7958-48ef-b135-a2a6546a24db\">\n",
              "    <div class=\"colab-df-container\">\n",
              "      <div>\n",
              "<style scoped>\n",
              "    .dataframe tbody tr th:only-of-type {\n",
              "        vertical-align: middle;\n",
              "    }\n",
              "\n",
              "    .dataframe tbody tr th {\n",
              "        vertical-align: top;\n",
              "    }\n",
              "\n",
              "    .dataframe thead th {\n",
              "        text-align: right;\n",
              "    }\n",
              "</style>\n",
              "<table border=\"1\" class=\"dataframe\">\n",
              "  <thead>\n",
              "    <tr style=\"text-align: right;\">\n",
              "      <th></th>\n",
              "      <th>show_id</th>\n",
              "      <th>type</th>\n",
              "      <th>title</th>\n",
              "      <th>director</th>\n",
              "      <th>cast</th>\n",
              "      <th>country</th>\n",
              "      <th>date_added</th>\n",
              "      <th>release_year</th>\n",
              "      <th>rating</th>\n",
              "      <th>duration</th>\n",
              "      <th>listed_in</th>\n",
              "      <th>description</th>\n",
              "      <th>numrating</th>\n",
              "    </tr>\n",
              "  </thead>\n",
              "  <tbody>\n",
              "    <tr>\n",
              "      <th>6066</th>\n",
              "      <td>s6067</td>\n",
              "      <td>TV Show</td>\n",
              "      <td>A Young Doctor's Notebook and Other Stories</td>\n",
              "      <td>unknown_director</td>\n",
              "      <td>[Daniel Radcliffe,  Jon Hamm,  Adam Godley,  C...</td>\n",
              "      <td>[United Kingdom]</td>\n",
              "      <td>NaT</td>\n",
              "      <td>2013</td>\n",
              "      <td>9</td>\n",
              "      <td>2</td>\n",
              "      <td>[British TV Shows,  TV Comedies,  TV Dramas]</td>\n",
              "      <td>Set during the Russian Revolution, this comic ...</td>\n",
              "      <td>9</td>\n",
              "    </tr>\n",
              "    <tr>\n",
              "      <th>6174</th>\n",
              "      <td>s6175</td>\n",
              "      <td>TV Show</td>\n",
              "      <td>Anthony Bourdain: Parts Unknown</td>\n",
              "      <td>unknown_director</td>\n",
              "      <td>[Anthony Bourdain]</td>\n",
              "      <td>[United States]</td>\n",
              "      <td>NaT</td>\n",
              "      <td>2018</td>\n",
              "      <td>5</td>\n",
              "      <td>5</td>\n",
              "      <td>[Docuseries]</td>\n",
              "      <td>This CNN original series has chef Anthony Bour...</td>\n",
              "      <td>5</td>\n",
              "    </tr>\n",
              "    <tr>\n",
              "      <th>6795</th>\n",
              "      <td>s6796</td>\n",
              "      <td>TV Show</td>\n",
              "      <td>Frasier</td>\n",
              "      <td>unknown_director</td>\n",
              "      <td>[Kelsey Grammer,  Jane Leeves,  David Hyde Pie...</td>\n",
              "      <td>[United States]</td>\n",
              "      <td>NaT</td>\n",
              "      <td>2003</td>\n",
              "      <td>5</td>\n",
              "      <td>11</td>\n",
              "      <td>[Classic &amp; Cult TV,  TV Comedies]</td>\n",
              "      <td>Frasier Crane is a snooty but lovable Seattle ...</td>\n",
              "      <td>5</td>\n",
              "    </tr>\n",
              "    <tr>\n",
              "      <th>6806</th>\n",
              "      <td>s6807</td>\n",
              "      <td>TV Show</td>\n",
              "      <td>Friends</td>\n",
              "      <td>unknown_director</td>\n",
              "      <td>[Jennifer Aniston,  Courteney Cox,  Lisa Kudro...</td>\n",
              "      <td>[United States]</td>\n",
              "      <td>NaT</td>\n",
              "      <td>2003</td>\n",
              "      <td>7</td>\n",
              "      <td>10</td>\n",
              "      <td>[Classic &amp; Cult TV,  TV Comedies]</td>\n",
              "      <td>This hit sitcom follows the merry misadventure...</td>\n",
              "      <td>7</td>\n",
              "    </tr>\n",
              "    <tr>\n",
              "      <th>6901</th>\n",
              "      <td>s6902</td>\n",
              "      <td>TV Show</td>\n",
              "      <td>Gunslinger Girl</td>\n",
              "      <td>unknown_director</td>\n",
              "      <td>[Yuuka Nanri,  Kanako Mitsuhashi,  Eri Sendai,...</td>\n",
              "      <td>[Japan]</td>\n",
              "      <td>NaT</td>\n",
              "      <td>2008</td>\n",
              "      <td>7</td>\n",
              "      <td>2</td>\n",
              "      <td>[Anime Series,  Crime TV Shows]</td>\n",
              "      <td>On the surface, the Social Welfare Agency appe...</td>\n",
              "      <td>7</td>\n",
              "    </tr>\n",
              "    <tr>\n",
              "      <th>7196</th>\n",
              "      <td>s7197</td>\n",
              "      <td>TV Show</td>\n",
              "      <td>Kikoriki</td>\n",
              "      <td>unknown_director</td>\n",
              "      <td>[Igor Dmitriev]</td>\n",
              "      <td>[unknown_country]</td>\n",
              "      <td>NaT</td>\n",
              "      <td>2010</td>\n",
              "      <td>1</td>\n",
              "      <td>2</td>\n",
              "      <td>[Kids' TV]</td>\n",
              "      <td>A wacky rabbit and his gang of animal pals hav...</td>\n",
              "      <td>1</td>\n",
              "    </tr>\n",
              "    <tr>\n",
              "      <th>7254</th>\n",
              "      <td>s7255</td>\n",
              "      <td>TV Show</td>\n",
              "      <td>La Familia P. Luche</td>\n",
              "      <td>unknown_director</td>\n",
              "      <td>[Eugenio Derbez,  Consuelo Duval,  Luis Manuel...</td>\n",
              "      <td>[United States]</td>\n",
              "      <td>NaT</td>\n",
              "      <td>2012</td>\n",
              "      <td>7</td>\n",
              "      <td>3</td>\n",
              "      <td>[International TV Shows,  Spanish-Language TV ...</td>\n",
              "      <td>This irreverent sitcom featues Ludovico, Feder...</td>\n",
              "      <td>7</td>\n",
              "    </tr>\n",
              "    <tr>\n",
              "      <th>7406</th>\n",
              "      <td>s7407</td>\n",
              "      <td>TV Show</td>\n",
              "      <td>Maron</td>\n",
              "      <td>unknown_director</td>\n",
              "      <td>[Marc Maron,  Judd Hirsch,  Josh Brener,  Nora...</td>\n",
              "      <td>[United States]</td>\n",
              "      <td>NaT</td>\n",
              "      <td>2016</td>\n",
              "      <td>9</td>\n",
              "      <td>4</td>\n",
              "      <td>[TV Comedies]</td>\n",
              "      <td>Marc Maron stars as Marc Maron, who interviews...</td>\n",
              "      <td>9</td>\n",
              "    </tr>\n",
              "    <tr>\n",
              "      <th>7847</th>\n",
              "      <td>s7848</td>\n",
              "      <td>TV Show</td>\n",
              "      <td>Red vs. Blue</td>\n",
              "      <td>unknown_director</td>\n",
              "      <td>[Burnie Burns,  Jason Saldaña,  Gustavo Sorola...</td>\n",
              "      <td>[United States]</td>\n",
              "      <td>NaT</td>\n",
              "      <td>2015</td>\n",
              "      <td>10</td>\n",
              "      <td>13</td>\n",
              "      <td>[TV Action &amp; Adventure,  TV Comedies,  TV Sci-...</td>\n",
              "      <td>This parody of first-person shooter games, mil...</td>\n",
              "      <td>10</td>\n",
              "    </tr>\n",
              "    <tr>\n",
              "      <th>8182</th>\n",
              "      <td>s8183</td>\n",
              "      <td>TV Show</td>\n",
              "      <td>The Adventures of Figaro Pho</td>\n",
              "      <td>unknown_director</td>\n",
              "      <td>[Luke Jurevicius,  Craig Behenna,  Charlotte H...</td>\n",
              "      <td>[Australia]</td>\n",
              "      <td>NaT</td>\n",
              "      <td>2015</td>\n",
              "      <td>2</td>\n",
              "      <td>2</td>\n",
              "      <td>[Kids' TV,  TV Comedies]</td>\n",
              "      <td>Imagine your worst fears, then multiply them: ...</td>\n",
              "      <td>2</td>\n",
              "    </tr>\n",
              "  </tbody>\n",
              "</table>\n",
              "</div>\n",
              "      <button class=\"colab-df-convert\" onclick=\"convertToInteractive('df-0d904911-7958-48ef-b135-a2a6546a24db')\"\n",
              "              title=\"Convert this dataframe to an interactive table.\"\n",
              "              style=\"display:none;\">\n",
              "        \n",
              "  <svg xmlns=\"http://www.w3.org/2000/svg\" height=\"24px\"viewBox=\"0 0 24 24\"\n",
              "       width=\"24px\">\n",
              "    <path d=\"M0 0h24v24H0V0z\" fill=\"none\"/>\n",
              "    <path d=\"M18.56 5.44l.94 2.06.94-2.06 2.06-.94-2.06-.94-.94-2.06-.94 2.06-2.06.94zm-11 1L8.5 8.5l.94-2.06 2.06-.94-2.06-.94L8.5 2.5l-.94 2.06-2.06.94zm10 10l.94 2.06.94-2.06 2.06-.94-2.06-.94-.94-2.06-.94 2.06-2.06.94z\"/><path d=\"M17.41 7.96l-1.37-1.37c-.4-.4-.92-.59-1.43-.59-.52 0-1.04.2-1.43.59L10.3 9.45l-7.72 7.72c-.78.78-.78 2.05 0 2.83L4 21.41c.39.39.9.59 1.41.59.51 0 1.02-.2 1.41-.59l7.78-7.78 2.81-2.81c.8-.78.8-2.07 0-2.86zM5.41 20L4 18.59l7.72-7.72 1.47 1.35L5.41 20z\"/>\n",
              "  </svg>\n",
              "      </button>\n",
              "      \n",
              "  <style>\n",
              "    .colab-df-container {\n",
              "      display:flex;\n",
              "      flex-wrap:wrap;\n",
              "      gap: 12px;\n",
              "    }\n",
              "\n",
              "    .colab-df-convert {\n",
              "      background-color: #E8F0FE;\n",
              "      border: none;\n",
              "      border-radius: 50%;\n",
              "      cursor: pointer;\n",
              "      display: none;\n",
              "      fill: #1967D2;\n",
              "      height: 32px;\n",
              "      padding: 0 0 0 0;\n",
              "      width: 32px;\n",
              "    }\n",
              "\n",
              "    .colab-df-convert:hover {\n",
              "      background-color: #E2EBFA;\n",
              "      box-shadow: 0px 1px 2px rgba(60, 64, 67, 0.3), 0px 1px 3px 1px rgba(60, 64, 67, 0.15);\n",
              "      fill: #174EA6;\n",
              "    }\n",
              "\n",
              "    [theme=dark] .colab-df-convert {\n",
              "      background-color: #3B4455;\n",
              "      fill: #D2E3FC;\n",
              "    }\n",
              "\n",
              "    [theme=dark] .colab-df-convert:hover {\n",
              "      background-color: #434B5C;\n",
              "      box-shadow: 0px 1px 3px 1px rgba(0, 0, 0, 0.15);\n",
              "      filter: drop-shadow(0px 1px 2px rgba(0, 0, 0, 0.3));\n",
              "      fill: #FFFFFF;\n",
              "    }\n",
              "  </style>\n",
              "\n",
              "      <script>\n",
              "        const buttonEl =\n",
              "          document.querySelector('#df-0d904911-7958-48ef-b135-a2a6546a24db button.colab-df-convert');\n",
              "        buttonEl.style.display =\n",
              "          google.colab.kernel.accessAllowed ? 'block' : 'none';\n",
              "\n",
              "        async function convertToInteractive(key) {\n",
              "          const element = document.querySelector('#df-0d904911-7958-48ef-b135-a2a6546a24db');\n",
              "          const dataTable =\n",
              "            await google.colab.kernel.invokeFunction('convertToInteractive',\n",
              "                                                     [key], {});\n",
              "          if (!dataTable) return;\n",
              "\n",
              "          const docLinkHtml = 'Like what you see? Visit the ' +\n",
              "            '<a target=\"_blank\" href=https://colab.research.google.com/notebooks/data_table.ipynb>data table notebook</a>'\n",
              "            + ' to learn more about interactive tables.';\n",
              "          element.innerHTML = '';\n",
              "          dataTable['output_type'] = 'display_data';\n",
              "          await google.colab.output.renderOutput(dataTable, element);\n",
              "          const docLink = document.createElement('div');\n",
              "          docLink.innerHTML = docLinkHtml;\n",
              "          element.appendChild(docLink);\n",
              "        }\n",
              "      </script>\n",
              "    </div>\n",
              "  </div>\n",
              "  "
            ]
          },
          "metadata": {},
          "execution_count": 79
        }
      ]
    },
    {
      "cell_type": "code",
      "source": [
        "data[\"type\"].value_counts()"
      ],
      "metadata": {
        "id": "jj5ZMYtYot5P"
      },
      "execution_count": null,
      "outputs": []
    },
    {
      "cell_type": "code",
      "source": [
        "sns.countplot(data = data,x=\"type\")\n",
        "plt.title(\"Count of Movies/Shows\")\n",
        "plt.show()"
      ],
      "metadata": {
        "id": "rjRXrksWo1KL"
      },
      "execution_count": null,
      "outputs": []
    },
    {
      "cell_type": "code",
      "source": [
        "data[\"director\"].value_counts()"
      ],
      "metadata": {
        "id": "YzTTihE7ph5g"
      },
      "execution_count": null,
      "outputs": []
    },
    {
      "cell_type": "code",
      "source": [
        "A =data[\"director\"].value_counts().reset_index()\n",
        "sns.histplot(A[\"director\"],bins=19)"
      ],
      "metadata": {
        "id": "C_ojwpNsqDFj"
      },
      "execution_count": null,
      "outputs": []
    },
    {
      "cell_type": "code",
      "source": [
        "data.explode(\"country\")[\"country\"].value_counts()"
      ],
      "metadata": {
        "id": "EHLxBXbrBhts"
      },
      "execution_count": null,
      "outputs": []
    },
    {
      "cell_type": "code",
      "source": [
        "plt.figure(figsize=(40,8))\n",
        "plt.xticks(rotation=90,fontsize = 10)\n",
        "sns.countplot(data = data.explode(\"country\"), x =\"country\" ,order =data.explode(\"country\")[\"country\"].value_counts().index )"
      ],
      "metadata": {
        "id": "lVegamnsB8Hl"
      },
      "execution_count": null,
      "outputs": []
    },
    {
      "cell_type": "code",
      "source": [
        "A = data.explode(\"country\")[\"country\"].value_counts().reset_index().iloc[:20]\n",
        "plt.figure(figsize=(40,8))\n",
        "plt.xticks(rotation=45,fontsize = 20)\n",
        "sns.barplot(data=A,x=\"index\",y=\"country\")"
      ],
      "metadata": {
        "id": "_y-RS0pRDSnX"
      },
      "execution_count": null,
      "outputs": []
    },
    {
      "cell_type": "code",
      "source": [
        "showdata = data[data[\"type\"] == \"TV Show\"].reset_index()\n",
        "moviedata = data[data[\"type\"] == \"Movie\"].reset_index()"
      ],
      "metadata": {
        "id": "hzfpx9QmKBMW"
      },
      "execution_count": null,
      "outputs": []
    },
    {
      "cell_type": "code",
      "source": [
        "data.columns"
      ],
      "metadata": {
        "id": "tsXR2hsRdUeX"
      },
      "execution_count": null,
      "outputs": []
    },
    {
      "cell_type": "code",
      "source": [
        "plt.figure(figsize=(20,8))\n",
        "sns.countplot(data= data[\"date_added\"].dt.week.reset_index(), x=\"date_added\")\n",
        "plt.show()"
      ],
      "metadata": {
        "id": "_S1bFV0SespX"
      },
      "execution_count": null,
      "outputs": []
    },
    {
      "cell_type": "code",
      "source": [
        "data.explode(\"director\").groupby(\"director\")[\"title\"].count().sort_values(ascending=False)"
      ],
      "metadata": {
        "id": "ToMzbMU1i-Pi"
      },
      "execution_count": null,
      "outputs": []
    }
  ],
  "metadata": {
    "colab": {
      "name": "Welcome to Colaboratory",
      "provenance": []
    },
    "kernelspec": {
      "display_name": "Python 3",
      "name": "python3"
    }
  },
  "nbformat": 4,
  "nbformat_minor": 0
}