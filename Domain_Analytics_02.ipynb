{
  "cells": [
    {
      "cell_type": "markdown",
      "metadata": {
        "id": "view-in-github",
        "colab_type": "text"
      },
      "source": [
        "<a href=\"https://colab.research.google.com/github/SharatGupta/DSML-Projects/blob/main/Domain_Analytics_02.ipynb\" target=\"_parent\"><img src=\"https://colab.research.google.com/assets/colab-badge.svg\" alt=\"Open In Colab\"/></a>"
      ]
    },
    {
      "cell_type": "markdown",
      "source": [
        "## Loading Libraries and Dataset"
      ],
      "metadata": {
        "id": "rnGQ7TmODYDc"
      }
    },
    {
      "cell_type": "code",
      "source": [
        "import numpy as np\n",
        "import pandas as pd\n",
        "import matplotlib.pyplot as plt\n",
        "import seaborn as sns\n",
        "\n",
        "from scipy.stats import norm, binom, geom\n",
        "\n",
        "from scipy.stats import ttest_1samp, ttest_ind,ttest_rel\n",
        "from scipy.stats import mannwhitneyu,kstest, ks_1samp, ks_2samp\n",
        "\n",
        "from scipy.stats import chisquare,chi2,chi2_contingency\n",
        "\n",
        "from scipy.stats import f_oneway,kruskal,shapiro,levene\n",
        "from statsmodels.graphics.gofplots import qqplot\n",
        "\n",
        "from scipy.stats import pearsonr,spearmanr"
      ],
      "metadata": {
        "id": "kZXp4UspRovA"
      },
      "execution_count": null,
      "outputs": []
    },
    {
      "cell_type": "code",
      "source": [
        "!gdown 1E-llv0qvRujhRIng_A46-yHTJErHBb2R"
      ],
      "metadata": {
        "id": "NSR-EgLZ9MrK",
        "outputId": "811a8330-3a7c-4cd3-a0c3-0d20f859c02e",
        "colab": {
          "base_uri": "https://localhost:8080/"
        }
      },
      "execution_count": null,
      "outputs": [
        {
          "output_type": "stream",
          "name": "stdout",
          "text": [
            "Downloading...\n",
            "From: https://drive.google.com/uc?id=1E-llv0qvRujhRIng_A46-yHTJErHBb2R\n",
            "To: /content/campaign - campaign.csv\n",
            "\r  0% 0.00/220k [00:00<?, ?B/s]\r100% 220k/220k [00:00<00:00, 6.00MB/s]\n"
          ]
        }
      ]
    },
    {
      "cell_type": "markdown",
      "source": [
        "Campaign Dataset Column Details:\n",
        "*\tID: Customer's Unique Identifier\n",
        "*\tYear_Birth: Customer's Birth Year\n",
        "*\tEducation: Customer's education level (Graduation, Master, PhD, 2n Cycle(Diploma), Basic)\n",
        "*\tMarital_Status: Customer's marital status\n",
        "*\tIncome: Customer's yearly household income\n",
        "*\tKidhome: Number of children in customer's household\n",
        "*\tTeenhome: Number of teenagers in customer's household\n",
        "*\tDt_Customer: Date of customer's enrollment with the company\n",
        "*\tRecency: Number of days since customer's last purchase\n",
        "*\tMntWines: Amount spent on wine in the last 2 years\n",
        "*\tMntFruits: Amount spent on fruits in the last 2 years\n",
        "*\tMntMeatProducts: Amount spent on meat in the last 2 years\n",
        "*\tMntFishProducts: Amount spent on fish in the last 2 years\n",
        "*\tMntSweetProducts: Amount spent on sweets in the last 2 years\n",
        "*\tMntGoldProds: Amount spent on gold in the last 2 years\n",
        "*\tNumDealsPurchases: Number of purchases made with a discount\n",
        "*\tNumWebPurchases: Number of purchases made through the company's web site\n",
        "*\tNumCatalogPurchases: Number of purchases made using a catalogue\n",
        "*\tNumStorePurchases: Number of purchases made directly in stores\n",
        "*\tNumWebVisitsMonth: Number of visits to company's web site in the last month\n",
        "*\tAcceptedCmp1: 1 if customer accepted the offer in the 1st campaign, 0 otherwise (Target variable)\n",
        "*\tAcceptedCmp2: 1 if customer accepted the offer in the 2nd campaign, 0 otherwise (Target variable)\n",
        "*\tAcceptedCmp3: 1 if customer accepted the offer in the 3rd campaign, 0 otherwise (Target variable)\n",
        "*\tAcceptedCmp4: 1 if customer accepted the offer in the 4th campaign, 0 otherwise (Target variable)\n",
        "*\tAcceptedCmp5: 1 if customer accepted the offer in the 5th campaign, 0 otherwise (Target variable)\n",
        "*\tComplain: 1 if customer complained in the last 2 years, 0 otherwise\n",
        "*\tCountry: Customer's location\n"
      ],
      "metadata": {
        "id": "cN8jOqLlxfYp"
      }
    },
    {
      "cell_type": "code",
      "source": [
        "campaign = pd.read_csv(\"campaign - campaign.csv\")"
      ],
      "metadata": {
        "id": "K3s3oG489Q5g"
      },
      "execution_count": null,
      "outputs": []
    },
    {
      "cell_type": "code",
      "source": [
        "campaign.shape"
      ],
      "metadata": {
        "id": "SBIOuA-ySCdu",
        "colab": {
          "base_uri": "https://localhost:8080/"
        },
        "outputId": "c45abeb1-f5fc-43c5-a91a-e9928e1e840a"
      },
      "execution_count": null,
      "outputs": [
        {
          "output_type": "execute_result",
          "data": {
            "text/plain": [
              "(2239, 27)"
            ]
          },
          "metadata": {},
          "execution_count": 4
        }
      ]
    },
    {
      "cell_type": "code",
      "source": [
        "campaign.head(5)"
      ],
      "metadata": {
        "id": "uq4mISZMSeqv",
        "colab": {
          "base_uri": "https://localhost:8080/",
          "height": 255
        },
        "outputId": "64031fa0-8511-4da2-c4e3-49126e6e20ca"
      },
      "execution_count": null,
      "outputs": [
        {
          "output_type": "execute_result",
          "data": {
            "text/plain": [
              "      ID  Year_Birth   Education Marital_Status      Income  Kidhome  \\\n",
              "0   1826        1970  Graduation       Divorced  $84,835.00        0   \n",
              "1      1        1961  Graduation         Single  $57,091.00        0   \n",
              "2  10476        1958  Graduation        Married  $67,267.00        0   \n",
              "3   1386        1967  Graduation       Together  $32,474.00        1   \n",
              "4   5371        1989  Graduation         Single  $21,474.00        1   \n",
              "\n",
              "   Teenhome Dt_Customer  Recency  MntWines  ...  NumCatalogPurchases  \\\n",
              "0         0     6/16/14        0       189  ...                    4   \n",
              "1         0     6/15/14        0       464  ...                    3   \n",
              "2         1     5/13/14        0       134  ...                    2   \n",
              "3         1     5/11/14        0        10  ...                    0   \n",
              "4         0      4/8/14        0         6  ...                    1   \n",
              "\n",
              "   NumStorePurchases  NumWebVisitsMonth  AcceptedCmp3  AcceptedCmp4  \\\n",
              "0                  6                  1             0             0   \n",
              "1                  7                  5             0             0   \n",
              "2                  5                  2             0             0   \n",
              "3                  2                  7             0             0   \n",
              "4                  2                  7             1             0   \n",
              "\n",
              "   AcceptedCmp5  AcceptedCmp1  AcceptedCmp2  Complain  Country  \n",
              "0             0             0             0         0       SP  \n",
              "1             0             0             1         0       CA  \n",
              "2             0             0             0         0       US  \n",
              "3             0             0             0         0      AUS  \n",
              "4             0             0             0         0       SP  \n",
              "\n",
              "[5 rows x 27 columns]"
            ],
            "text/html": [
              "\n",
              "  <div id=\"df-288046e5-b807-466c-a90d-3846444c6837\" class=\"colab-df-container\">\n",
              "    <div>\n",
              "<style scoped>\n",
              "    .dataframe tbody tr th:only-of-type {\n",
              "        vertical-align: middle;\n",
              "    }\n",
              "\n",
              "    .dataframe tbody tr th {\n",
              "        vertical-align: top;\n",
              "    }\n",
              "\n",
              "    .dataframe thead th {\n",
              "        text-align: right;\n",
              "    }\n",
              "</style>\n",
              "<table border=\"1\" class=\"dataframe\">\n",
              "  <thead>\n",
              "    <tr style=\"text-align: right;\">\n",
              "      <th></th>\n",
              "      <th>ID</th>\n",
              "      <th>Year_Birth</th>\n",
              "      <th>Education</th>\n",
              "      <th>Marital_Status</th>\n",
              "      <th>Income</th>\n",
              "      <th>Kidhome</th>\n",
              "      <th>Teenhome</th>\n",
              "      <th>Dt_Customer</th>\n",
              "      <th>Recency</th>\n",
              "      <th>MntWines</th>\n",
              "      <th>...</th>\n",
              "      <th>NumCatalogPurchases</th>\n",
              "      <th>NumStorePurchases</th>\n",
              "      <th>NumWebVisitsMonth</th>\n",
              "      <th>AcceptedCmp3</th>\n",
              "      <th>AcceptedCmp4</th>\n",
              "      <th>AcceptedCmp5</th>\n",
              "      <th>AcceptedCmp1</th>\n",
              "      <th>AcceptedCmp2</th>\n",
              "      <th>Complain</th>\n",
              "      <th>Country</th>\n",
              "    </tr>\n",
              "  </thead>\n",
              "  <tbody>\n",
              "    <tr>\n",
              "      <th>0</th>\n",
              "      <td>1826</td>\n",
              "      <td>1970</td>\n",
              "      <td>Graduation</td>\n",
              "      <td>Divorced</td>\n",
              "      <td>$84,835.00</td>\n",
              "      <td>0</td>\n",
              "      <td>0</td>\n",
              "      <td>6/16/14</td>\n",
              "      <td>0</td>\n",
              "      <td>189</td>\n",
              "      <td>...</td>\n",
              "      <td>4</td>\n",
              "      <td>6</td>\n",
              "      <td>1</td>\n",
              "      <td>0</td>\n",
              "      <td>0</td>\n",
              "      <td>0</td>\n",
              "      <td>0</td>\n",
              "      <td>0</td>\n",
              "      <td>0</td>\n",
              "      <td>SP</td>\n",
              "    </tr>\n",
              "    <tr>\n",
              "      <th>1</th>\n",
              "      <td>1</td>\n",
              "      <td>1961</td>\n",
              "      <td>Graduation</td>\n",
              "      <td>Single</td>\n",
              "      <td>$57,091.00</td>\n",
              "      <td>0</td>\n",
              "      <td>0</td>\n",
              "      <td>6/15/14</td>\n",
              "      <td>0</td>\n",
              "      <td>464</td>\n",
              "      <td>...</td>\n",
              "      <td>3</td>\n",
              "      <td>7</td>\n",
              "      <td>5</td>\n",
              "      <td>0</td>\n",
              "      <td>0</td>\n",
              "      <td>0</td>\n",
              "      <td>0</td>\n",
              "      <td>1</td>\n",
              "      <td>0</td>\n",
              "      <td>CA</td>\n",
              "    </tr>\n",
              "    <tr>\n",
              "      <th>2</th>\n",
              "      <td>10476</td>\n",
              "      <td>1958</td>\n",
              "      <td>Graduation</td>\n",
              "      <td>Married</td>\n",
              "      <td>$67,267.00</td>\n",
              "      <td>0</td>\n",
              "      <td>1</td>\n",
              "      <td>5/13/14</td>\n",
              "      <td>0</td>\n",
              "      <td>134</td>\n",
              "      <td>...</td>\n",
              "      <td>2</td>\n",
              "      <td>5</td>\n",
              "      <td>2</td>\n",
              "      <td>0</td>\n",
              "      <td>0</td>\n",
              "      <td>0</td>\n",
              "      <td>0</td>\n",
              "      <td>0</td>\n",
              "      <td>0</td>\n",
              "      <td>US</td>\n",
              "    </tr>\n",
              "    <tr>\n",
              "      <th>3</th>\n",
              "      <td>1386</td>\n",
              "      <td>1967</td>\n",
              "      <td>Graduation</td>\n",
              "      <td>Together</td>\n",
              "      <td>$32,474.00</td>\n",
              "      <td>1</td>\n",
              "      <td>1</td>\n",
              "      <td>5/11/14</td>\n",
              "      <td>0</td>\n",
              "      <td>10</td>\n",
              "      <td>...</td>\n",
              "      <td>0</td>\n",
              "      <td>2</td>\n",
              "      <td>7</td>\n",
              "      <td>0</td>\n",
              "      <td>0</td>\n",
              "      <td>0</td>\n",
              "      <td>0</td>\n",
              "      <td>0</td>\n",
              "      <td>0</td>\n",
              "      <td>AUS</td>\n",
              "    </tr>\n",
              "    <tr>\n",
              "      <th>4</th>\n",
              "      <td>5371</td>\n",
              "      <td>1989</td>\n",
              "      <td>Graduation</td>\n",
              "      <td>Single</td>\n",
              "      <td>$21,474.00</td>\n",
              "      <td>1</td>\n",
              "      <td>0</td>\n",
              "      <td>4/8/14</td>\n",
              "      <td>0</td>\n",
              "      <td>6</td>\n",
              "      <td>...</td>\n",
              "      <td>1</td>\n",
              "      <td>2</td>\n",
              "      <td>7</td>\n",
              "      <td>1</td>\n",
              "      <td>0</td>\n",
              "      <td>0</td>\n",
              "      <td>0</td>\n",
              "      <td>0</td>\n",
              "      <td>0</td>\n",
              "      <td>SP</td>\n",
              "    </tr>\n",
              "  </tbody>\n",
              "</table>\n",
              "<p>5 rows × 27 columns</p>\n",
              "</div>\n",
              "    <div class=\"colab-df-buttons\">\n",
              "\n",
              "  <div class=\"colab-df-container\">\n",
              "    <button class=\"colab-df-convert\" onclick=\"convertToInteractive('df-288046e5-b807-466c-a90d-3846444c6837')\"\n",
              "            title=\"Convert this dataframe to an interactive table.\"\n",
              "            style=\"display:none;\">\n",
              "\n",
              "  <svg xmlns=\"http://www.w3.org/2000/svg\" height=\"24px\" viewBox=\"0 -960 960 960\">\n",
              "    <path d=\"M120-120v-720h720v720H120Zm60-500h600v-160H180v160Zm220 220h160v-160H400v160Zm0 220h160v-160H400v160ZM180-400h160v-160H180v160Zm440 0h160v-160H620v160ZM180-180h160v-160H180v160Zm440 0h160v-160H620v160Z\"/>\n",
              "  </svg>\n",
              "    </button>\n",
              "\n",
              "  <style>\n",
              "    .colab-df-container {\n",
              "      display:flex;\n",
              "      gap: 12px;\n",
              "    }\n",
              "\n",
              "    .colab-df-convert {\n",
              "      background-color: #E8F0FE;\n",
              "      border: none;\n",
              "      border-radius: 50%;\n",
              "      cursor: pointer;\n",
              "      display: none;\n",
              "      fill: #1967D2;\n",
              "      height: 32px;\n",
              "      padding: 0 0 0 0;\n",
              "      width: 32px;\n",
              "    }\n",
              "\n",
              "    .colab-df-convert:hover {\n",
              "      background-color: #E2EBFA;\n",
              "      box-shadow: 0px 1px 2px rgba(60, 64, 67, 0.3), 0px 1px 3px 1px rgba(60, 64, 67, 0.15);\n",
              "      fill: #174EA6;\n",
              "    }\n",
              "\n",
              "    .colab-df-buttons div {\n",
              "      margin-bottom: 4px;\n",
              "    }\n",
              "\n",
              "    [theme=dark] .colab-df-convert {\n",
              "      background-color: #3B4455;\n",
              "      fill: #D2E3FC;\n",
              "    }\n",
              "\n",
              "    [theme=dark] .colab-df-convert:hover {\n",
              "      background-color: #434B5C;\n",
              "      box-shadow: 0px 1px 3px 1px rgba(0, 0, 0, 0.15);\n",
              "      filter: drop-shadow(0px 1px 2px rgba(0, 0, 0, 0.3));\n",
              "      fill: #FFFFFF;\n",
              "    }\n",
              "  </style>\n",
              "\n",
              "    <script>\n",
              "      const buttonEl =\n",
              "        document.querySelector('#df-288046e5-b807-466c-a90d-3846444c6837 button.colab-df-convert');\n",
              "      buttonEl.style.display =\n",
              "        google.colab.kernel.accessAllowed ? 'block' : 'none';\n",
              "\n",
              "      async function convertToInteractive(key) {\n",
              "        const element = document.querySelector('#df-288046e5-b807-466c-a90d-3846444c6837');\n",
              "        const dataTable =\n",
              "          await google.colab.kernel.invokeFunction('convertToInteractive',\n",
              "                                                    [key], {});\n",
              "        if (!dataTable) return;\n",
              "\n",
              "        const docLinkHtml = 'Like what you see? Visit the ' +\n",
              "          '<a target=\"_blank\" href=https://colab.research.google.com/notebooks/data_table.ipynb>data table notebook</a>'\n",
              "          + ' to learn more about interactive tables.';\n",
              "        element.innerHTML = '';\n",
              "        dataTable['output_type'] = 'display_data';\n",
              "        await google.colab.output.renderOutput(dataTable, element);\n",
              "        const docLink = document.createElement('div');\n",
              "        docLink.innerHTML = docLinkHtml;\n",
              "        element.appendChild(docLink);\n",
              "      }\n",
              "    </script>\n",
              "  </div>\n",
              "\n",
              "\n",
              "<div id=\"df-8944e384-77cf-41a3-8c41-24fc7e389b62\">\n",
              "  <button class=\"colab-df-quickchart\" onclick=\"quickchart('df-8944e384-77cf-41a3-8c41-24fc7e389b62')\"\n",
              "            title=\"Suggest charts\"\n",
              "            style=\"display:none;\">\n",
              "\n",
              "<svg xmlns=\"http://www.w3.org/2000/svg\" height=\"24px\"viewBox=\"0 0 24 24\"\n",
              "     width=\"24px\">\n",
              "    <g>\n",
              "        <path d=\"M19 3H5c-1.1 0-2 .9-2 2v14c0 1.1.9 2 2 2h14c1.1 0 2-.9 2-2V5c0-1.1-.9-2-2-2zM9 17H7v-7h2v7zm4 0h-2V7h2v10zm4 0h-2v-4h2v4z\"/>\n",
              "    </g>\n",
              "</svg>\n",
              "  </button>\n",
              "\n",
              "<style>\n",
              "  .colab-df-quickchart {\n",
              "      --bg-color: #E8F0FE;\n",
              "      --fill-color: #1967D2;\n",
              "      --hover-bg-color: #E2EBFA;\n",
              "      --hover-fill-color: #174EA6;\n",
              "      --disabled-fill-color: #AAA;\n",
              "      --disabled-bg-color: #DDD;\n",
              "  }\n",
              "\n",
              "  [theme=dark] .colab-df-quickchart {\n",
              "      --bg-color: #3B4455;\n",
              "      --fill-color: #D2E3FC;\n",
              "      --hover-bg-color: #434B5C;\n",
              "      --hover-fill-color: #FFFFFF;\n",
              "      --disabled-bg-color: #3B4455;\n",
              "      --disabled-fill-color: #666;\n",
              "  }\n",
              "\n",
              "  .colab-df-quickchart {\n",
              "    background-color: var(--bg-color);\n",
              "    border: none;\n",
              "    border-radius: 50%;\n",
              "    cursor: pointer;\n",
              "    display: none;\n",
              "    fill: var(--fill-color);\n",
              "    height: 32px;\n",
              "    padding: 0;\n",
              "    width: 32px;\n",
              "  }\n",
              "\n",
              "  .colab-df-quickchart:hover {\n",
              "    background-color: var(--hover-bg-color);\n",
              "    box-shadow: 0 1px 2px rgba(60, 64, 67, 0.3), 0 1px 3px 1px rgba(60, 64, 67, 0.15);\n",
              "    fill: var(--button-hover-fill-color);\n",
              "  }\n",
              "\n",
              "  .colab-df-quickchart-complete:disabled,\n",
              "  .colab-df-quickchart-complete:disabled:hover {\n",
              "    background-color: var(--disabled-bg-color);\n",
              "    fill: var(--disabled-fill-color);\n",
              "    box-shadow: none;\n",
              "  }\n",
              "\n",
              "  .colab-df-spinner {\n",
              "    border: 2px solid var(--fill-color);\n",
              "    border-color: transparent;\n",
              "    border-bottom-color: var(--fill-color);\n",
              "    animation:\n",
              "      spin 1s steps(1) infinite;\n",
              "  }\n",
              "\n",
              "  @keyframes spin {\n",
              "    0% {\n",
              "      border-color: transparent;\n",
              "      border-bottom-color: var(--fill-color);\n",
              "      border-left-color: var(--fill-color);\n",
              "    }\n",
              "    20% {\n",
              "      border-color: transparent;\n",
              "      border-left-color: var(--fill-color);\n",
              "      border-top-color: var(--fill-color);\n",
              "    }\n",
              "    30% {\n",
              "      border-color: transparent;\n",
              "      border-left-color: var(--fill-color);\n",
              "      border-top-color: var(--fill-color);\n",
              "      border-right-color: var(--fill-color);\n",
              "    }\n",
              "    40% {\n",
              "      border-color: transparent;\n",
              "      border-right-color: var(--fill-color);\n",
              "      border-top-color: var(--fill-color);\n",
              "    }\n",
              "    60% {\n",
              "      border-color: transparent;\n",
              "      border-right-color: var(--fill-color);\n",
              "    }\n",
              "    80% {\n",
              "      border-color: transparent;\n",
              "      border-right-color: var(--fill-color);\n",
              "      border-bottom-color: var(--fill-color);\n",
              "    }\n",
              "    90% {\n",
              "      border-color: transparent;\n",
              "      border-bottom-color: var(--fill-color);\n",
              "    }\n",
              "  }\n",
              "</style>\n",
              "\n",
              "  <script>\n",
              "    async function quickchart(key) {\n",
              "      const quickchartButtonEl =\n",
              "        document.querySelector('#' + key + ' button');\n",
              "      quickchartButtonEl.disabled = true;  // To prevent multiple clicks.\n",
              "      quickchartButtonEl.classList.add('colab-df-spinner');\n",
              "      try {\n",
              "        const charts = await google.colab.kernel.invokeFunction(\n",
              "            'suggestCharts', [key], {});\n",
              "      } catch (error) {\n",
              "        console.error('Error during call to suggestCharts:', error);\n",
              "      }\n",
              "      quickchartButtonEl.classList.remove('colab-df-spinner');\n",
              "      quickchartButtonEl.classList.add('colab-df-quickchart-complete');\n",
              "    }\n",
              "    (() => {\n",
              "      let quickchartButtonEl =\n",
              "        document.querySelector('#df-8944e384-77cf-41a3-8c41-24fc7e389b62 button');\n",
              "      quickchartButtonEl.style.display =\n",
              "        google.colab.kernel.accessAllowed ? 'block' : 'none';\n",
              "    })();\n",
              "  </script>\n",
              "</div>\n",
              "\n",
              "    </div>\n",
              "  </div>\n"
            ],
            "application/vnd.google.colaboratory.intrinsic+json": {
              "type": "dataframe",
              "variable_name": "campaign"
            }
          },
          "metadata": {},
          "execution_count": 8
        }
      ]
    },
    {
      "cell_type": "code",
      "source": [
        "for x in campaign.columns:\n",
        "  #print(\"Values count of feature \",x)\n",
        "  print(campaign[x].value_counts())\n",
        "  print(\"***********************************\")"
      ],
      "metadata": {
        "id": "aeZwHV6H_Cqj"
      },
      "execution_count": null,
      "outputs": []
    },
    {
      "cell_type": "markdown",
      "source": [
        "* lets do  cleaning columns as per the Analysis Requirement"
      ],
      "metadata": {
        "id": "XTNptDAdyaXk"
      }
    },
    {
      "cell_type": "markdown",
      "source": [
        "## Cleaning & Data Preparation"
      ],
      "metadata": {
        "id": "8cRTJmqu98f1"
      }
    },
    {
      "cell_type": "markdown",
      "source": [
        "### Income"
      ],
      "metadata": {
        "id": "gHSm5FJe95cT"
      }
    },
    {
      "cell_type": "code",
      "source": [
        "campaign[\"Income\"] = campaign[\"Income\"].str.replace(\"$\",\"\")\n",
        "campaign[\"Income\"] = campaign[\"Income\"].str.replace(\",\",\"\")\n",
        "campaign[\"Income\"] = campaign[\"Income\"].astype(float)"
      ],
      "metadata": {
        "id": "ZPYpq0ZF7ko0"
      },
      "execution_count": null,
      "outputs": []
    },
    {
      "cell_type": "code",
      "source": [
        "plt.figure(figsize=(12,8))\n",
        "sns.histplot(campaign[\"Income\"], bins=20)"
      ],
      "metadata": {
        "colab": {
          "base_uri": "https://localhost:8080/",
          "height": 734
        },
        "id": "2RTryOcR8GB-",
        "outputId": "0e873d6f-9ed1-4901-97c5-da615e78cc32"
      },
      "execution_count": null,
      "outputs": [
        {
          "output_type": "execute_result",
          "data": {
            "text/plain": [
              "<Axes: xlabel='Income', ylabel='Count'>"
            ]
          },
          "metadata": {},
          "execution_count": 10
        },
        {
          "output_type": "display_data",
          "data": {
            "text/plain": [
              "<Figure size 1200x800 with 1 Axes>"
            ],
            "image/png": "[encoded data removed]"
          },
          "metadata": {}
        }
      ]
    },
    {
      "cell_type": "code",
      "source": [
        "campaign[[\"Income\"]].info()"
      ],
      "metadata": {
        "colab": {
          "base_uri": "https://localhost:8080/"
        },
        "id": "ZWcvD-ufGdQB",
        "outputId": "780d3fc2-471d-4bbf-abdb-75d6ec8d6f84"
      },
      "execution_count": null,
      "outputs": [
        {
          "output_type": "stream",
          "name": "stdout",
          "text": [
            "<class 'pandas.core.frame.DataFrame'>\n",
            "RangeIndex: 2239 entries, 0 to 2238\n",
            "Data columns (total 1 columns):\n",
            " #   Column  Non-Null Count  Dtype  \n",
            "---  ------  --------------  -----  \n",
            " 0   Income  2215 non-null   float64\n",
            "dtypes: float64(1)\n",
            "memory usage: 17.6 KB\n"
          ]
        }
      ]
    },
    {
      "cell_type": "code",
      "source": [
        "campaign[\"Income\"].isna().sum(axis=0)"
      ],
      "metadata": {
        "colab": {
          "base_uri": "https://localhost:8080/"
        },
        "id": "4EzaMSU-GsrC",
        "outputId": "1dee53ad-0b3b-4f0b-fe0b-8f1cdcbbc57c"
      },
      "execution_count": null,
      "outputs": [
        {
          "output_type": "execute_result",
          "data": {
            "text/plain": [
              "24"
            ]
          },
          "metadata": {},
          "execution_count": 52
        }
      ]
    },
    {
      "cell_type": "code",
      "source": [
        "campaign[\"Income\"] = campaign[\"Income\"].fillna(campaign[\"Income\"].median())"
      ],
      "metadata": {
        "id": "skflIvbdHlU7"
      },
      "execution_count": null,
      "outputs": []
    },
    {
      "cell_type": "markdown",
      "source": [
        "### Marital_Status"
      ],
      "metadata": {
        "id": "txReu3Bx-CI8"
      }
    },
    {
      "cell_type": "code",
      "source": [
        "campaign[\"Marital_Status\"].value_counts()"
      ],
      "metadata": {
        "colab": {
          "base_uri": "https://localhost:8080/"
        },
        "id": "WPlrca0f8eTY",
        "outputId": "8ebaa4c2-f9da-4d46-e00d-de1843ceef40"
      },
      "execution_count": null,
      "outputs": [
        {
          "output_type": "execute_result",
          "data": {
            "text/plain": [
              "Marital_Status\n",
              "Married     864\n",
              "Together    579\n",
              "Single      480\n",
              "Divorced    232\n",
              "Widow        77\n",
              "Alone         3\n",
              "YOLO          2\n",
              "Absurd        2\n",
              "Name: count, dtype: int64"
            ]
          },
          "metadata": {},
          "execution_count": 56
        }
      ]
    },
    {
      "cell_type": "code",
      "source": [
        "campaign[\"Marital_Status\"] = campaign[\"Marital_Status\"].replace({\"Married\":\"Couple\",\n",
        "                                                                   \"Together\":\"Couple\",\n",
        "                                                                   \"Divorced\": \"Single\",\n",
        "                                                                   \"Widow\": \"Single\",\n",
        "                                                                   \"Alone\" : \"Single\",\n",
        "                                                                   \"YOLO\" : \"Single\",\n",
        "                                                                   \"Absurd\": \"Single\"})"
      ],
      "metadata": {
        "id": "3g3TXohi8mzn"
      },
      "execution_count": null,
      "outputs": []
    },
    {
      "cell_type": "code",
      "source": [
        "campaign[\"Marital_Status\"].value_counts()"
      ],
      "metadata": {
        "colab": {
          "base_uri": "https://localhost:8080/"
        },
        "id": "yG28bu_u90b-",
        "outputId": "6e95bdc7-5f99-42c1-a834-d8bae1aeb08e"
      },
      "execution_count": null,
      "outputs": [
        {
          "output_type": "execute_result",
          "data": {
            "text/plain": [
              "Marital_Status\n",
              "Couple    1443\n",
              "Single     796\n",
              "Name: count, dtype: int64"
            ]
          },
          "metadata": {},
          "execution_count": 58
        }
      ]
    },
    {
      "cell_type": "markdown",
      "source": [
        "## Feature Engineering"
      ],
      "metadata": {
        "id": "R9lhOwF1Cb2d"
      }
    },
    {
      "cell_type": "markdown",
      "source": [
        "### Children = Kidhome + Teenhome"
      ],
      "metadata": {
        "id": "O7lA6kJn-GRp"
      }
    },
    {
      "cell_type": "code",
      "source": [
        "campaign[\"Children\"] = campaign[\"Kidhome\"]+campaign[\"Teenhome\"]"
      ],
      "metadata": {
        "id": "vhCSisIy93pz"
      },
      "execution_count": null,
      "outputs": []
    },
    {
      "cell_type": "markdown",
      "source": [
        "### Age"
      ],
      "metadata": {
        "id": "s9a6jHfG-i2f"
      }
    },
    {
      "cell_type": "code",
      "source": [
        "campaign.head()"
      ],
      "metadata": {
        "colab": {
          "base_uri": "https://localhost:8080/",
          "height": 255
        },
        "id": "1NNA8OpO-sW-",
        "outputId": "5cf0b0d1-131e-413c-85c0-c44e835e80b0"
      },
      "execution_count": null,
      "outputs": [
        {
          "output_type": "execute_result",
          "data": {
            "text/plain": [
              "      ID  Year_Birth   Education Marital_Status   Income  Kidhome  Teenhome  \\\n",
              "0   1826        1970  Graduation         Single  84835.0        0         0   \n",
              "1      1        1961  Graduation         Single  57091.0        0         0   \n",
              "2  10476        1958  Graduation         Couple  67267.0        0         1   \n",
              "3   1386        1967  Graduation         Couple  32474.0        1         1   \n",
              "4   5371        1989  Graduation         Single  21474.0        1         0   \n",
              "\n",
              "  Dt_Customer  Recency  MntWines  ...  AcceptedCmp5  AcceptedCmp1  \\\n",
              "0     6/16/14        0       189  ...             0             0   \n",
              "1     6/15/14        0       464  ...             0             0   \n",
              "2     5/13/14        0       134  ...             0             0   \n",
              "3     5/11/14        0        10  ...             0             0   \n",
              "4      4/8/14        0         6  ...             0             0   \n",
              "\n",
              "   AcceptedCmp2  Complain  Country  Children  Age  cmpaccepted  Incomegroup  \\\n",
              "0             0         0       SP         0   54        False  upperincome   \n",
              "1             1         0       CA         0   63         True  upperincome   \n",
              "2             0         0       US         1   66        False  upperincome   \n",
              "3             0         0      AUS         2   57        False  lowerincome   \n",
              "4             0         0       SP         1   35         True  lowerincome   \n",
              "\n",
              "   TotalSpent  \n",
              "0        1190  \n",
              "1         577  \n",
              "2         251  \n",
              "3          11  \n",
              "4          91  \n",
              "\n",
              "[5 rows x 32 columns]"
            ],
            "text/html": [
              "\n",
              "  <div id=\"df-f2b17ba7-bd81-4912-8556-1167bf7a80fb\" class=\"colab-df-container\">\n",
              "    <div>\n",
              "<style scoped>\n",
              "    .dataframe tbody tr th:only-of-type {\n",
              "        vertical-align: middle;\n",
              "    }\n",
              "\n",
              "    .dataframe tbody tr th {\n",
              "        vertical-align: top;\n",
              "    }\n",
              "\n",
              "    .dataframe thead th {\n",
              "        text-align: right;\n",
              "    }\n",
              "</style>\n",
              "<table border=\"1\" class=\"dataframe\">\n",
              "  <thead>\n",
              "    <tr style=\"text-align: right;\">\n",
              "      <th></th>\n",
              "      <th>ID</th>\n",
              "      <th>Year_Birth</th>\n",
              "      <th>Education</th>\n",
              "      <th>Marital_Status</th>\n",
              "      <th>Income</th>\n",
              "      <th>Kidhome</th>\n",
              "      <th>Teenhome</th>\n",
              "      <th>Dt_Customer</th>\n",
              "      <th>Recency</th>\n",
              "      <th>MntWines</th>\n",
              "      <th>...</th>\n",
              "      <th>AcceptedCmp5</th>\n",
              "      <th>AcceptedCmp1</th>\n",
              "      <th>AcceptedCmp2</th>\n",
              "      <th>Complain</th>\n",
              "      <th>Country</th>\n",
              "      <th>Children</th>\n",
              "      <th>Age</th>\n",
              "      <th>cmpaccepted</th>\n",
              "      <th>Incomegroup</th>\n",
              "      <th>TotalSpent</th>\n",
              "    </tr>\n",
              "  </thead>\n",
              "  <tbody>\n",
              "    <tr>\n",
              "      <th>0</th>\n",
              "      <td>1826</td>\n",
              "      <td>1970</td>\n",
              "      <td>Graduation</td>\n",
              "      <td>Single</td>\n",
              "      <td>84835.0</td>\n",
              "      <td>0</td>\n",
              "      <td>0</td>\n",
              "      <td>6/16/14</td>\n",
              "      <td>0</td>\n",
              "      <td>189</td>\n",
              "      <td>...</td>\n",
              "      <td>0</td>\n",
              "      <td>0</td>\n",
              "      <td>0</td>\n",
              "      <td>0</td>\n",
              "      <td>SP</td>\n",
              "      <td>0</td>\n",
              "      <td>54</td>\n",
              "      <td>False</td>\n",
              "      <td>upperincome</td>\n",
              "      <td>1190</td>\n",
              "    </tr>\n",
              "    <tr>\n",
              "      <th>1</th>\n",
              "      <td>1</td>\n",
              "      <td>1961</td>\n",
              "      <td>Graduation</td>\n",
              "      <td>Single</td>\n",
              "      <td>57091.0</td>\n",
              "      <td>0</td>\n",
              "      <td>0</td>\n",
              "      <td>6/15/14</td>\n",
              "      <td>0</td>\n",
              "      <td>464</td>\n",
              "      <td>...</td>\n",
              "      <td>0</td>\n",
              "      <td>0</td>\n",
              "      <td>1</td>\n",
              "      <td>0</td>\n",
              "      <td>CA</td>\n",
              "      <td>0</td>\n",
              "      <td>63</td>\n",
              "      <td>True</td>\n",
              "      <td>upperincome</td>\n",
              "      <td>577</td>\n",
              "    </tr>\n",
              "    <tr>\n",
              "      <th>2</th>\n",
              "      <td>10476</td>\n",
              "      <td>1958</td>\n",
              "      <td>Graduation</td>\n",
              "      <td>Couple</td>\n",
              "      <td>67267.0</td>\n",
              "      <td>0</td>\n",
              "      <td>1</td>\n",
              "      <td>5/13/14</td>\n",
              "      <td>0</td>\n",
              "      <td>134</td>\n",
              "      <td>...</td>\n",
              "      <td>0</td>\n",
              "      <td>0</td>\n",
              "      <td>0</td>\n",
              "      <td>0</td>\n",
              "      <td>US</td>\n",
              "      <td>1</td>\n",
              "      <td>66</td>\n",
              "      <td>False</td>\n",
              "      <td>upperincome</td>\n",
              "      <td>251</td>\n",
              "    </tr>\n",
              "    <tr>\n",
              "      <th>3</th>\n",
              "      <td>1386</td>\n",
              "      <td>1967</td>\n",
              "      <td>Graduation</td>\n",
              "      <td>Couple</td>\n",
              "      <td>32474.0</td>\n",
              "      <td>1</td>\n",
              "      <td>1</td>\n",
              "      <td>5/11/14</td>\n",
              "      <td>0</td>\n",
              "      <td>10</td>\n",
              "      <td>...</td>\n",
              "      <td>0</td>\n",
              "      <td>0</td>\n",
              "      <td>0</td>\n",
              "      <td>0</td>\n",
              "      <td>AUS</td>\n",
              "      <td>2</td>\n",
              "      <td>57</td>\n",
              "      <td>False</td>\n",
              "      <td>lowerincome</td>\n",
              "      <td>11</td>\n",
              "    </tr>\n",
              "    <tr>\n",
              "      <th>4</th>\n",
              "      <td>5371</td>\n",
              "      <td>1989</td>\n",
              "      <td>Graduation</td>\n",
              "      <td>Single</td>\n",
              "      <td>21474.0</td>\n",
              "      <td>1</td>\n",
              "      <td>0</td>\n",
              "      <td>4/8/14</td>\n",
              "      <td>0</td>\n",
              "      <td>6</td>\n",
              "      <td>...</td>\n",
              "      <td>0</td>\n",
              "      <td>0</td>\n",
              "      <td>0</td>\n",
              "      <td>0</td>\n",
              "      <td>SP</td>\n",
              "      <td>1</td>\n",
              "      <td>35</td>\n",
              "      <td>True</td>\n",
              "      <td>lowerincome</td>\n",
              "      <td>91</td>\n",
              "    </tr>\n",
              "  </tbody>\n",
              "</table>\n",
              "<p>5 rows × 32 columns</p>\n",
              "</div>\n",
              "    <div class=\"colab-df-buttons\">\n",
              "\n",
              "  <div class=\"colab-df-container\">\n",
              "    <button class=\"colab-df-convert\" onclick=\"convertToInteractive('df-f2b17ba7-bd81-4912-8556-1167bf7a80fb')\"\n",
              "            title=\"Convert this dataframe to an interactive table.\"\n",
              "            style=\"display:none;\">\n",
              "\n",
              "  <svg xmlns=\"http://www.w3.org/2000/svg\" height=\"24px\" viewBox=\"0 -960 960 960\">\n",
              "    <path d=\"M120-120v-720h720v720H120Zm60-500h600v-160H180v160Zm220 220h160v-160H400v160Zm0 220h160v-160H400v160ZM180-400h160v-160H180v160Zm440 0h160v-160H620v160ZM180-180h160v-160H180v160Zm440 0h160v-160H620v160Z\"/>\n",
              "  </svg>\n",
              "    </button>\n",
              "\n",
              "  <style>\n",
              "    .colab-df-container {\n",
              "      display:flex;\n",
              "      gap: 12px;\n",
              "    }\n",
              "\n",
              "    .colab-df-convert {\n",
              "      background-color: #E8F0FE;\n",
              "      border: none;\n",
              "      border-radius: 50%;\n",
              "      cursor: pointer;\n",
              "      display: none;\n",
              "      fill: #1967D2;\n",
              "      height: 32px;\n",
              "      padding: 0 0 0 0;\n",
              "      width: 32px;\n",
              "    }\n",
              "\n",
              "    .colab-df-convert:hover {\n",
              "      background-color: #E2EBFA;\n",
              "      box-shadow: 0px 1px 2px rgba(60, 64, 67, 0.3), 0px 1px 3px 1px rgba(60, 64, 67, 0.15);\n",
              "      fill: #174EA6;\n",
              "    }\n",
              "\n",
              "    .colab-df-buttons div {\n",
              "      margin-bottom: 4px;\n",
              "    }\n",
              "\n",
              "    [theme=dark] .colab-df-convert {\n",
              "      background-color: #3B4455;\n",
              "      fill: #D2E3FC;\n",
              "    }\n",
              "\n",
              "    [theme=dark] .colab-df-convert:hover {\n",
              "      background-color: #434B5C;\n",
              "      box-shadow: 0px 1px 3px 1px rgba(0, 0, 0, 0.15);\n",
              "      filter: drop-shadow(0px 1px 2px rgba(0, 0, 0, 0.3));\n",
              "      fill: #FFFFFF;\n",
              "    }\n",
              "  </style>\n",
              "\n",
              "    <script>\n",
              "      const buttonEl =\n",
              "        document.querySelector('#df-f2b17ba7-bd81-4912-8556-1167bf7a80fb button.colab-df-convert');\n",
              "      buttonEl.style.display =\n",
              "        google.colab.kernel.accessAllowed ? 'block' : 'none';\n",
              "\n",
              "      async function convertToInteractive(key) {\n",
              "        const element = document.querySelector('#df-f2b17ba7-bd81-4912-8556-1167bf7a80fb');\n",
              "        const dataTable =\n",
              "          await google.colab.kernel.invokeFunction('convertToInteractive',\n",
              "                                                    [key], {});\n",
              "        if (!dataTable) return;\n",
              "\n",
              "        const docLinkHtml = 'Like what you see? Visit the ' +\n",
              "          '<a target=\"_blank\" href=https://colab.research.google.com/notebooks/data_table.ipynb>data table notebook</a>'\n",
              "          + ' to learn more about interactive tables.';\n",
              "        element.innerHTML = '';\n",
              "        dataTable['output_type'] = 'display_data';\n",
              "        await google.colab.output.renderOutput(dataTable, element);\n",
              "        const docLink = document.createElement('div');\n",
              "        docLink.innerHTML = docLinkHtml;\n",
              "        element.appendChild(docLink);\n",
              "      }\n",
              "    </script>\n",
              "  </div>\n",
              "\n",
              "\n",
              "<div id=\"df-e5dea9ca-a87b-4e43-8766-1a3090eaf883\">\n",
              "  <button class=\"colab-df-quickchart\" onclick=\"quickchart('df-e5dea9ca-a87b-4e43-8766-1a3090eaf883')\"\n",
              "            title=\"Suggest charts\"\n",
              "            style=\"display:none;\">\n",
              "\n",
              "<svg xmlns=\"http://www.w3.org/2000/svg\" height=\"24px\"viewBox=\"0 0 24 24\"\n",
              "     width=\"24px\">\n",
              "    <g>\n",
              "        <path d=\"M19 3H5c-1.1 0-2 .9-2 2v14c0 1.1.9 2 2 2h14c1.1 0 2-.9 2-2V5c0-1.1-.9-2-2-2zM9 17H7v-7h2v7zm4 0h-2V7h2v10zm4 0h-2v-4h2v4z\"/>\n",
              "    </g>\n",
              "</svg>\n",
              "  </button>\n",
              "\n",
              "<style>\n",
              "  .colab-df-quickchart {\n",
              "      --bg-color: #E8F0FE;\n",
              "      --fill-color: #1967D2;\n",
              "      --hover-bg-color: #E2EBFA;\n",
              "      --hover-fill-color: #174EA6;\n",
              "      --disabled-fill-color: #AAA;\n",
              "      --disabled-bg-color: #DDD;\n",
              "  }\n",
              "\n",
              "  [theme=dark] .colab-df-quickchart {\n",
              "      --bg-color: #3B4455;\n",
              "      --fill-color: #D2E3FC;\n",
              "      --hover-bg-color: #434B5C;\n",
              "      --hover-fill-color: #FFFFFF;\n",
              "      --disabled-bg-color: #3B4455;\n",
              "      --disabled-fill-color: #666;\n",
              "  }\n",
              "\n",
              "  .colab-df-quickchart {\n",
              "    background-color: var(--bg-color);\n",
              "    border: none;\n",
              "    border-radius: 50%;\n",
              "    cursor: pointer;\n",
              "    display: none;\n",
              "    fill: var(--fill-color);\n",
              "    height: 32px;\n",
              "    padding: 0;\n",
              "    width: 32px;\n",
              "  }\n",
              "\n",
              "  .colab-df-quickchart:hover {\n",
              "    background-color: var(--hover-bg-color);\n",
              "    box-shadow: 0 1px 2px rgba(60, 64, 67, 0.3), 0 1px 3px 1px rgba(60, 64, 67, 0.15);\n",
              "    fill: var(--button-hover-fill-color);\n",
              "  }\n",
              "\n",
              "  .colab-df-quickchart-complete:disabled,\n",
              "  .colab-df-quickchart-complete:disabled:hover {\n",
              "    background-color: var(--disabled-bg-color);\n",
              "    fill: var(--disabled-fill-color);\n",
              "    box-shadow: none;\n",
              "  }\n",
              "\n",
              "  .colab-df-spinner {\n",
              "    border: 2px solid var(--fill-color);\n",
              "    border-color: transparent;\n",
              "    border-bottom-color: var(--fill-color);\n",
              "    animation:\n",
              "      spin 1s steps(1) infinite;\n",
              "  }\n",
              "\n",
              "  @keyframes spin {\n",
              "    0% {\n",
              "      border-color: transparent;\n",
              "      border-bottom-color: var(--fill-color);\n",
              "      border-left-color: var(--fill-color);\n",
              "    }\n",
              "    20% {\n",
              "      border-color: transparent;\n",
              "      border-left-color: var(--fill-color);\n",
              "      border-top-color: var(--fill-color);\n",
              "    }\n",
              "    30% {\n",
              "      border-color: transparent;\n",
              "      border-left-color: var(--fill-color);\n",
              "      border-top-color: var(--fill-color);\n",
              "      border-right-color: var(--fill-color);\n",
              "    }\n",
              "    40% {\n",
              "      border-color: transparent;\n",
              "      border-right-color: var(--fill-color);\n",
              "      border-top-color: var(--fill-color);\n",
              "    }\n",
              "    60% {\n",
              "      border-color: transparent;\n",
              "      border-right-color: var(--fill-color);\n",
              "    }\n",
              "    80% {\n",
              "      border-color: transparent;\n",
              "      border-right-color: var(--fill-color);\n",
              "      border-bottom-color: var(--fill-color);\n",
              "    }\n",
              "    90% {\n",
              "      border-color: transparent;\n",
              "      border-bottom-color: var(--fill-color);\n",
              "    }\n",
              "  }\n",
              "</style>\n",
              "\n",
              "  <script>\n",
              "    async function quickchart(key) {\n",
              "      const quickchartButtonEl =\n",
              "        document.querySelector('#' + key + ' button');\n",
              "      quickchartButtonEl.disabled = true;  // To prevent multiple clicks.\n",
              "      quickchartButtonEl.classList.add('colab-df-spinner');\n",
              "      try {\n",
              "        const charts = await google.colab.kernel.invokeFunction(\n",
              "            'suggestCharts', [key], {});\n",
              "      } catch (error) {\n",
              "        console.error('Error during call to suggestCharts:', error);\n",
              "      }\n",
              "      quickchartButtonEl.classList.remove('colab-df-spinner');\n",
              "      quickchartButtonEl.classList.add('colab-df-quickchart-complete');\n",
              "    }\n",
              "    (() => {\n",
              "      let quickchartButtonEl =\n",
              "        document.querySelector('#df-e5dea9ca-a87b-4e43-8766-1a3090eaf883 button');\n",
              "      quickchartButtonEl.style.display =\n",
              "        google.colab.kernel.accessAllowed ? 'block' : 'none';\n",
              "    })();\n",
              "  </script>\n",
              "</div>\n",
              "\n",
              "    </div>\n",
              "  </div>\n"
            ],
            "application/vnd.google.colaboratory.intrinsic+json": {
              "type": "dataframe",
              "variable_name": "campaign"
            }
          },
          "metadata": {},
          "execution_count": 102
        }
      ]
    },
    {
      "cell_type": "code",
      "source": [
        "campaign[\"Age\"] = 2024 - campaign[\"Year_Birth\"]"
      ],
      "metadata": {
        "id": "S64hJYuO-lyr"
      },
      "execution_count": null,
      "outputs": []
    },
    {
      "cell_type": "code",
      "source": [
        "campaign[\"Age\"].describe()"
      ],
      "metadata": {
        "colab": {
          "base_uri": "https://localhost:8080/"
        },
        "id": "crZ6wXoW-4y6",
        "outputId": "e5328e99-0289-4074-b345-da09e4069d07"
      },
      "execution_count": null,
      "outputs": [
        {
          "output_type": "execute_result",
          "data": {
            "text/plain": [
              "count    2239.000000\n",
              "mean       55.197856\n",
              "std        11.985494\n",
              "min        28.000000\n",
              "25%        47.000000\n",
              "50%        54.000000\n",
              "75%        65.000000\n",
              "max       131.000000\n",
              "Name: Age, dtype: float64"
            ]
          },
          "metadata": {},
          "execution_count": 104
        }
      ]
    },
    {
      "cell_type": "code",
      "source": [
        "campaign[\"Year_Birth\"].describe()"
      ],
      "metadata": {
        "colab": {
          "base_uri": "https://localhost:8080/"
        },
        "id": "5DIMxJo2-_Wz",
        "outputId": "7db9d452-8f98-40cc-d4ba-6eacdb54e52f"
      },
      "execution_count": null,
      "outputs": [
        {
          "output_type": "execute_result",
          "data": {
            "text/plain": [
              "count    2239.000000\n",
              "mean     1968.802144\n",
              "std        11.985494\n",
              "min      1893.000000\n",
              "25%      1959.000000\n",
              "50%      1970.000000\n",
              "75%      1977.000000\n",
              "max      1996.000000\n",
              "Name: Year_Birth, dtype: float64"
            ]
          },
          "metadata": {},
          "execution_count": 105
        }
      ]
    },
    {
      "cell_type": "markdown",
      "source": [
        "### Campaign accepted"
      ],
      "metadata": {
        "id": "T-YPHP9H_OfU"
      }
    },
    {
      "cell_type": "code",
      "source": [
        "campaign[\"cmpaccepted\"] = (campaign[[\"AcceptedCmp1\",\"AcceptedCmp2\",\"AcceptedCmp3\",\"AcceptedCmp4\",\"AcceptedCmp5\"]] == 1).any(axis=1)"
      ],
      "metadata": {
        "id": "JQMu-0N6EHVl"
      },
      "execution_count": null,
      "outputs": []
    },
    {
      "cell_type": "code",
      "source": [
        "campaign[\"cmpaccepted\"].value_counts()"
      ],
      "metadata": {
        "colab": {
          "base_uri": "https://localhost:8080/"
        },
        "id": "WolHPfX2Eoae",
        "outputId": "16bc6cd6-cce9-4716-f580-21618cf110df"
      },
      "execution_count": null,
      "outputs": [
        {
          "output_type": "execute_result",
          "data": {
            "text/plain": [
              "cmpaccepted\n",
              "False    1776\n",
              "True      463\n",
              "Name: count, dtype: int64"
            ]
          },
          "metadata": {},
          "execution_count": 107
        }
      ]
    },
    {
      "cell_type": "markdown",
      "source": [
        "### Incomegroup"
      ],
      "metadata": {
        "id": "gx39y4xUFDHT"
      }
    },
    {
      "cell_type": "code",
      "source": [
        "campaign[\"Income\"].describe()"
      ],
      "metadata": {
        "colab": {
          "base_uri": "https://localhost:8080/"
        },
        "id": "E_OkYyzNFz8T",
        "outputId": "6d881b0e-78d2-45e0-9825-3106fa8b2133"
      },
      "execution_count": null,
      "outputs": [
        {
          "output_type": "execute_result",
          "data": {
            "text/plain": [
              "count      2239.000000\n",
              "mean      51963.463600\n",
              "std       21410.674611\n",
              "min        1730.000000\n",
              "25%       35533.500000\n",
              "50%       51373.000000\n",
              "75%       68277.500000\n",
              "max      162397.000000\n",
              "Name: Income, dtype: float64"
            ]
          },
          "metadata": {},
          "execution_count": 108
        }
      ]
    },
    {
      "cell_type": "code",
      "source": [
        "campaign[\"Incomegroup\"] = \"lowerincome\""
      ],
      "metadata": {
        "id": "8zV1lMeRFIl-"
      },
      "execution_count": null,
      "outputs": []
    },
    {
      "cell_type": "code",
      "source": [
        "campaign[\"Income\"].median()"
      ],
      "metadata": {
        "colab": {
          "base_uri": "https://localhost:8080/"
        },
        "id": "3EaUWG3nFNNO",
        "outputId": "5ad744bc-1925-473b-a5b4-072cfd89efdf"
      },
      "execution_count": null,
      "outputs": [
        {
          "output_type": "execute_result",
          "data": {
            "text/plain": [
              "51373.0"
            ]
          },
          "metadata": {},
          "execution_count": 110
        }
      ]
    },
    {
      "cell_type": "code",
      "source": [
        "campaign.loc[campaign[\"Income\"] > campaign[\"Income\"].median(),\"Incomegroup\"] = \"upperincome\""
      ],
      "metadata": {
        "id": "2CJ_MAwsFR7e"
      },
      "execution_count": null,
      "outputs": []
    },
    {
      "cell_type": "code",
      "source": [
        "campaign[\"Incomegroup\"].value_counts()"
      ],
      "metadata": {
        "colab": {
          "base_uri": "https://localhost:8080/"
        },
        "id": "hqpvMN4LFjrA",
        "outputId": "75d8cff6-6394-4f87-93df-1e56ac92d7a5"
      },
      "execution_count": null,
      "outputs": [
        {
          "output_type": "execute_result",
          "data": {
            "text/plain": [
              "Incomegroup\n",
              "lowerincome    1132\n",
              "upperincome    1107\n",
              "Name: count, dtype: int64"
            ]
          },
          "metadata": {},
          "execution_count": 112
        }
      ]
    },
    {
      "cell_type": "markdown",
      "source": [
        "### Totalamount Spent"
      ],
      "metadata": {
        "id": "F7dD5qaJKIGH"
      }
    },
    {
      "cell_type": "code",
      "source": [
        "campaign[\"TotalSpent\"] = campaign['MntWines'] + campaign['MntFruits'] + campaign['MntMeatProducts'] + campaign['MntFishProducts'] + campaign['MntSweetProducts'] +campaign['MntGoldProds']"
      ],
      "metadata": {
        "id": "yYM_VgBBKHxE"
      },
      "execution_count": null,
      "outputs": []
    },
    {
      "cell_type": "code",
      "source": [
        "plt.figure(figsize=(12,8))\n",
        "sns.histplot(campaign[\"TotalSpent\"] , bins = 15)"
      ],
      "metadata": {
        "colab": {
          "base_uri": "https://localhost:8080/",
          "height": 710
        },
        "id": "Y-CsbNt-L3VT",
        "outputId": "02c85cb3-6ab9-40eb-9d39-a4d4cd8e21ec"
      },
      "execution_count": null,
      "outputs": [
        {
          "output_type": "execute_result",
          "data": {
            "text/plain": [
              "<Axes: xlabel='TotalSpent', ylabel='Count'>"
            ]
          },
          "metadata": {},
          "execution_count": 114
        },
        {
          "output_type": "display_data",
          "data": {
            "text/plain": [
              "<Figure size 1200x800 with 1 Axes>"
            ],
            "image/png": "[encoded data removed]"
          },
          "metadata": {}
        }
      ]
    },
    {
      "cell_type": "code",
      "source": [
        "campaign.info()"
      ],
      "metadata": {
        "id": "-ta9yQx4SFLN",
        "colab": {
          "base_uri": "https://localhost:8080/"
        },
        "outputId": "6531259c-e334-4426-9ac4-23c0955f2e77"
      },
      "execution_count": null,
      "outputs": [
        {
          "output_type": "stream",
          "name": "stdout",
          "text": [
            "<class 'pandas.core.frame.DataFrame'>\n",
            "RangeIndex: 2239 entries, 0 to 2238\n",
            "Data columns (total 32 columns):\n",
            " #   Column               Non-Null Count  Dtype  \n",
            "---  ------               --------------  -----  \n",
            " 0   ID                   2239 non-null   int64  \n",
            " 1   Year_Birth           2239 non-null   int64  \n",
            " 2   Education            2239 non-null   object \n",
            " 3   Marital_Status       2239 non-null   object \n",
            " 4   Income               2239 non-null   float64\n",
            " 5   Kidhome              2239 non-null   int64  \n",
            " 6   Teenhome             2239 non-null   int64  \n",
            " 7   Dt_Customer          2239 non-null   object \n",
            " 8   Recency              2239 non-null   int64  \n",
            " 9   MntWines             2239 non-null   int64  \n",
            " 10  MntFruits            2239 non-null   int64  \n",
            " 11  MntMeatProducts      2239 non-null   int64  \n",
            " 12  MntFishProducts      2239 non-null   int64  \n",
            " 13  MntSweetProducts     2239 non-null   int64  \n",
            " 14  MntGoldProds         2239 non-null   int64  \n",
            " 15  NumDealsPurchases    2239 non-null   int64  \n",
            " 16  NumWebPurchases      2239 non-null   int64  \n",
            " 17  NumCatalogPurchases  2239 non-null   int64  \n",
            " 18  NumStorePurchases    2239 non-null   int64  \n",
            " 19  NumWebVisitsMonth    2239 non-null   int64  \n",
            " 20  AcceptedCmp3         2239 non-null   int64  \n",
            " 21  AcceptedCmp4         2239 non-null   int64  \n",
            " 22  AcceptedCmp5         2239 non-null   int64  \n",
            " 23  AcceptedCmp1         2239 non-null   int64  \n",
            " 24  AcceptedCmp2         2239 non-null   int64  \n",
            " 25  Complain             2239 non-null   int64  \n",
            " 26  Country              2239 non-null   object \n",
            " 27  Children             2239 non-null   int64  \n",
            " 28  Age                  2239 non-null   int64  \n",
            " 29  cmpaccepted          2239 non-null   bool   \n",
            " 30  Incomegroup          2239 non-null   object \n",
            " 31  TotalSpent           2239 non-null   int64  \n",
            "dtypes: bool(1), float64(1), int64(25), object(5)\n",
            "memory usage: 544.6+ KB\n"
          ]
        }
      ]
    },
    {
      "cell_type": "markdown",
      "source": [
        "## Hypothesis Testing"
      ],
      "metadata": {
        "id": "k10jaYPzMQdz"
      }
    },
    {
      "cell_type": "markdown",
      "source": [
        "### Is income of customers dependent on their education"
      ],
      "metadata": {
        "id": "oCqiEuzDMVtX"
      }
    },
    {
      "cell_type": "code",
      "source": [
        "campaign[\"Education\"].value_counts()"
      ],
      "metadata": {
        "colab": {
          "base_uri": "https://localhost:8080/"
        },
        "id": "Lv1qyLK-MamD",
        "outputId": "669017cd-0502-460f-db96-7965fbb44362"
      },
      "execution_count": null,
      "outputs": [
        {
          "output_type": "execute_result",
          "data": {
            "text/plain": [
              "Education\n",
              "Graduation    1126\n",
              "PhD            486\n",
              "Master         370\n",
              "2n Cycle       203\n",
              "Basic           54\n",
              "Name: count, dtype: int64"
            ]
          },
          "metadata": {},
          "execution_count": 81
        }
      ]
    },
    {
      "cell_type": "code",
      "source": [
        "sns.barplot(data = campaign, x=\"Education\", y =\"Income\", estimator = np.mean)"
      ],
      "metadata": {
        "colab": {
          "base_uri": "https://localhost:8080/",
          "height": 468
        },
        "id": "HfDfuJfJPP7T",
        "outputId": "0dda302e-43c7-4985-97a2-da0c04198085"
      },
      "execution_count": null,
      "outputs": [
        {
          "output_type": "execute_result",
          "data": {
            "text/plain": [
              "<Axes: xlabel='Education', ylabel='Income'>"
            ]
          },
          "metadata": {},
          "execution_count": 88
        },
        {
          "output_type": "display_data",
          "data": {
            "text/plain": [
              "<Figure size 640x480 with 1 Axes>"
            ],
            "image/png": "[encoded data removed]"
          },
          "metadata": {}
        }
      ]
    },
    {
      "cell_type": "markdown",
      "source": [
        "* As there are more than 2 Categories, we will do ANNOVA or Kruskal Wallis"
      ],
      "metadata": {
        "id": "Nv_zMKyiM0xS"
      }
    },
    {
      "cell_type": "code",
      "source": [
        "Education1 = campaign[campaign[\"Education\"]==\"Graduation\"][\"Income\"]\n",
        "Education2 = campaign[campaign[\"Education\"]==\"PhD\"][\"Income\"]\n",
        "Education3 = campaign[campaign[\"Education\"]==\"Master\"][\"Income\"]\n",
        "Education4 = campaign[campaign[\"Education\"]==\"2n Cycle\"][\"Income\"]\n",
        "Education5 = campaign[campaign[\"Education\"]==\"Basic\"][\"Income\"]"
      ],
      "metadata": {
        "id": "8R7-h8tVNM4K"
      },
      "execution_count": null,
      "outputs": []
    },
    {
      "cell_type": "markdown",
      "source": [
        "let's check for Normal Distribution of all data sets using shapiro test"
      ],
      "metadata": {
        "id": "goITVg1Nw9J8"
      }
    },
    {
      "cell_type": "code",
      "source": [
        "# H0 : Data is Gaussian\n",
        "# Ha : Data is not Gaussian\n",
        "for i in [Education1,Education2,Education3,Education4,Education5]:\n",
        "  test_stat, p_value = shapiro(i)\n",
        "  if p_value < 0.05:\n",
        "       print(\"Reject H0\")\n",
        "       print(\"Data is Not Gaussian\")\n",
        "  else:\n",
        "       print(\"Fail to reject H0\")\n",
        "       print(\"Data is Gaussian\")"
      ],
      "metadata": {
        "colab": {
          "base_uri": "https://localhost:8080/"
        },
        "id": "UGrvGjBnxGqw",
        "outputId": "2da49a1c-b8ba-4586-fd87-01c1f708db49"
      },
      "execution_count": null,
      "outputs": [
        {
          "output_type": "stream",
          "name": "stdout",
          "text": [
            "Reject H0\n",
            "Data is Not Gaussian\n",
            "Reject H0\n",
            "Data is Not Gaussian\n",
            "Reject H0\n",
            "Data is Not Gaussian\n",
            "Reject H0\n",
            "Data is Not Gaussian\n",
            "Fail to reject H0\n",
            "Data is Gaussian\n"
          ]
        }
      ]
    },
    {
      "cell_type": "markdown",
      "source": [
        "* Only one Data is Gaussian,Lets check Equal Variances using Levene Test"
      ],
      "metadata": {
        "id": "9lgXysPmOUow"
      }
    },
    {
      "cell_type": "code",
      "source": [
        "# Ho: Variances are equal\n",
        "# Ha: Variances are not equal\n",
        "levene_stat, p_value = levene(Education1,Education2,Education3,Education4,Education5)\n",
        "print(p_value)\n",
        "if p_value < 0.05:\n",
        "    print(\"Reject Ho\")\n",
        "    print(\"Variances are not equal\")\n",
        "else:\n",
        "    print(\"Fail to reject Ho\")\n",
        "    print(\"Variances are equal\")"
      ],
      "metadata": {
        "colab": {
          "base_uri": "https://localhost:8080/"
        },
        "id": "t_uGR9lyOiI_",
        "outputId": "c60c0fbb-93e3-4cc4-da45-1db3665509b2"
      },
      "execution_count": null,
      "outputs": [
        {
          "output_type": "stream",
          "name": "stdout",
          "text": [
            "1.9647881822505775e-14\n",
            "Reject Ho\n",
            "Variances are not equal\n"
          ]
        }
      ]
    },
    {
      "cell_type": "markdown",
      "source": [
        "* All four weather Datasets do not have equal Variance\n",
        "* ANNOVA assumption fails, we will do kruskal Wallis test"
      ],
      "metadata": {
        "id": "XdW7TgzO2Aws"
      }
    },
    {
      "cell_type": "code",
      "source": [
        "#H0 : All groups have same mean\n",
        "#Ha : One or more groups have different mean\n",
        "\n",
        "kruskal_stat, p_value= kruskal(Education1,Education2,Education3,Education4,Education5)\n",
        "print(p_value)\n",
        "if p_value < 0.05:\n",
        "    print(\"Reject H0\")\n",
        "    print(\"One or more groups have different mean\")\n",
        "else:\n",
        "    print(\"Fail to reject H0\")\n",
        "    print(\"All groups have same mean\")"
      ],
      "metadata": {
        "colab": {
          "base_uri": "https://localhost:8080/"
        },
        "id": "aOig0sfP2anw",
        "outputId": "7597fbed-81a5-47d5-a7bf-e9cd0f827cf6"
      },
      "execution_count": null,
      "outputs": [
        {
          "output_type": "stream",
          "name": "stdout",
          "text": [
            "7.851335079234417e-30\n",
            "Reject H0\n",
            "One or more groups have different mean\n"
          ]
        }
      ]
    },
    {
      "cell_type": "markdown",
      "source": [
        "**We can Say that Customer Income is definetley Vary with respect to Education**"
      ],
      "metadata": {
        "id": "Rj6rqv6xO43Y"
      }
    },
    {
      "cell_type": "markdown",
      "source": [
        "### Do higher income people spend more (take in account spending in all categories together)"
      ],
      "metadata": {
        "id": "hUJzwcWzPqL0"
      }
    },
    {
      "cell_type": "code",
      "source": [
        "campaign[[\"Income\", \"TotalSpent\"]].describe()"
      ],
      "metadata": {
        "colab": {
          "base_uri": "https://localhost:8080/",
          "height": 300
        },
        "id": "035Wwa3JPvmz",
        "outputId": "22d7a93b-38ee-4232-a203-28694cef2bd8"
      },
      "execution_count": null,
      "outputs": [
        {
          "output_type": "execute_result",
          "data": {
            "text/plain": [
              "              Income   TotalSpent\n",
              "count    2239.000000  2239.000000\n",
              "mean    51963.463600   606.041090\n",
              "std     21410.674611   602.274089\n",
              "min      1730.000000     5.000000\n",
              "25%     35533.500000    69.000000\n",
              "50%     51373.000000   396.000000\n",
              "75%     68277.500000  1046.000000\n",
              "max    162397.000000  2525.000000"
            ],
            "text/html": [
              "\n",
              "  <div id=\"df-afe7ae2f-6f7a-4cf8-b5ae-a7b4de0168c1\" class=\"colab-df-container\">\n",
              "    <div>\n",
              "<style scoped>\n",
              "    .dataframe tbody tr th:only-of-type {\n",
              "        vertical-align: middle;\n",
              "    }\n",
              "\n",
              "    .dataframe tbody tr th {\n",
              "        vertical-align: top;\n",
              "    }\n",
              "\n",
              "    .dataframe thead th {\n",
              "        text-align: right;\n",
              "    }\n",
              "</style>\n",
              "<table border=\"1\" class=\"dataframe\">\n",
              "  <thead>\n",
              "    <tr style=\"text-align: right;\">\n",
              "      <th></th>\n",
              "      <th>Income</th>\n",
              "      <th>TotalSpent</th>\n",
              "    </tr>\n",
              "  </thead>\n",
              "  <tbody>\n",
              "    <tr>\n",
              "      <th>count</th>\n",
              "      <td>2239.000000</td>\n",
              "      <td>2239.000000</td>\n",
              "    </tr>\n",
              "    <tr>\n",
              "      <th>mean</th>\n",
              "      <td>51963.463600</td>\n",
              "      <td>606.041090</td>\n",
              "    </tr>\n",
              "    <tr>\n",
              "      <th>std</th>\n",
              "      <td>21410.674611</td>\n",
              "      <td>602.274089</td>\n",
              "    </tr>\n",
              "    <tr>\n",
              "      <th>min</th>\n",
              "      <td>1730.000000</td>\n",
              "      <td>5.000000</td>\n",
              "    </tr>\n",
              "    <tr>\n",
              "      <th>25%</th>\n",
              "      <td>35533.500000</td>\n",
              "      <td>69.000000</td>\n",
              "    </tr>\n",
              "    <tr>\n",
              "      <th>50%</th>\n",
              "      <td>51373.000000</td>\n",
              "      <td>396.000000</td>\n",
              "    </tr>\n",
              "    <tr>\n",
              "      <th>75%</th>\n",
              "      <td>68277.500000</td>\n",
              "      <td>1046.000000</td>\n",
              "    </tr>\n",
              "    <tr>\n",
              "      <th>max</th>\n",
              "      <td>162397.000000</td>\n",
              "      <td>2525.000000</td>\n",
              "    </tr>\n",
              "  </tbody>\n",
              "</table>\n",
              "</div>\n",
              "    <div class=\"colab-df-buttons\">\n",
              "\n",
              "  <div class=\"colab-df-container\">\n",
              "    <button class=\"colab-df-convert\" onclick=\"convertToInteractive('df-afe7ae2f-6f7a-4cf8-b5ae-a7b4de0168c1')\"\n",
              "            title=\"Convert this dataframe to an interactive table.\"\n",
              "            style=\"display:none;\">\n",
              "\n",
              "  <svg xmlns=\"http://www.w3.org/2000/svg\" height=\"24px\" viewBox=\"0 -960 960 960\">\n",
              "    <path d=\"M120-120v-720h720v720H120Zm60-500h600v-160H180v160Zm220 220h160v-160H400v160Zm0 220h160v-160H400v160ZM180-400h160v-160H180v160Zm440 0h160v-160H620v160ZM180-180h160v-160H180v160Zm440 0h160v-160H620v160Z\"/>\n",
              "  </svg>\n",
              "    </button>\n",
              "\n",
              "  <style>\n",
              "    .colab-df-container {\n",
              "      display:flex;\n",
              "      gap: 12px;\n",
              "    }\n",
              "\n",
              "    .colab-df-convert {\n",
              "      background-color: #E8F0FE;\n",
              "      border: none;\n",
              "      border-radius: 50%;\n",
              "      cursor: pointer;\n",
              "      display: none;\n",
              "      fill: #1967D2;\n",
              "      height: 32px;\n",
              "      padding: 0 0 0 0;\n",
              "      width: 32px;\n",
              "    }\n",
              "\n",
              "    .colab-df-convert:hover {\n",
              "      background-color: #E2EBFA;\n",
              "      box-shadow: 0px 1px 2px rgba(60, 64, 67, 0.3), 0px 1px 3px 1px rgba(60, 64, 67, 0.15);\n",
              "      fill: #174EA6;\n",
              "    }\n",
              "\n",
              "    .colab-df-buttons div {\n",
              "      margin-bottom: 4px;\n",
              "    }\n",
              "\n",
              "    [theme=dark] .colab-df-convert {\n",
              "      background-color: #3B4455;\n",
              "      fill: #D2E3FC;\n",
              "    }\n",
              "\n",
              "    [theme=dark] .colab-df-convert:hover {\n",
              "      background-color: #434B5C;\n",
              "      box-shadow: 0px 1px 3px 1px rgba(0, 0, 0, 0.15);\n",
              "      filter: drop-shadow(0px 1px 2px rgba(0, 0, 0, 0.3));\n",
              "      fill: #FFFFFF;\n",
              "    }\n",
              "  </style>\n",
              "\n",
              "    <script>\n",
              "      const buttonEl =\n",
              "        document.querySelector('#df-afe7ae2f-6f7a-4cf8-b5ae-a7b4de0168c1 button.colab-df-convert');\n",
              "      buttonEl.style.display =\n",
              "        google.colab.kernel.accessAllowed ? 'block' : 'none';\n",
              "\n",
              "      async function convertToInteractive(key) {\n",
              "        const element = document.querySelector('#df-afe7ae2f-6f7a-4cf8-b5ae-a7b4de0168c1');\n",
              "        const dataTable =\n",
              "          await google.colab.kernel.invokeFunction('convertToInteractive',\n",
              "                                                    [key], {});\n",
              "        if (!dataTable) return;\n",
              "\n",
              "        const docLinkHtml = 'Like what you see? Visit the ' +\n",
              "          '<a target=\"_blank\" href=https://colab.research.google.com/notebooks/data_table.ipynb>data table notebook</a>'\n",
              "          + ' to learn more about interactive tables.';\n",
              "        element.innerHTML = '';\n",
              "        dataTable['output_type'] = 'display_data';\n",
              "        await google.colab.output.renderOutput(dataTable, element);\n",
              "        const docLink = document.createElement('div');\n",
              "        docLink.innerHTML = docLinkHtml;\n",
              "        element.appendChild(docLink);\n",
              "      }\n",
              "    </script>\n",
              "  </div>\n",
              "\n",
              "\n",
              "<div id=\"df-321a8573-8770-4798-8094-23fe3bd9dca7\">\n",
              "  <button class=\"colab-df-quickchart\" onclick=\"quickchart('df-321a8573-8770-4798-8094-23fe3bd9dca7')\"\n",
              "            title=\"Suggest charts\"\n",
              "            style=\"display:none;\">\n",
              "\n",
              "<svg xmlns=\"http://www.w3.org/2000/svg\" height=\"24px\"viewBox=\"0 0 24 24\"\n",
              "     width=\"24px\">\n",
              "    <g>\n",
              "        <path d=\"M19 3H5c-1.1 0-2 .9-2 2v14c0 1.1.9 2 2 2h14c1.1 0 2-.9 2-2V5c0-1.1-.9-2-2-2zM9 17H7v-7h2v7zm4 0h-2V7h2v10zm4 0h-2v-4h2v4z\"/>\n",
              "    </g>\n",
              "</svg>\n",
              "  </button>\n",
              "\n",
              "<style>\n",
              "  .colab-df-quickchart {\n",
              "      --bg-color: #E8F0FE;\n",
              "      --fill-color: #1967D2;\n",
              "      --hover-bg-color: #E2EBFA;\n",
              "      --hover-fill-color: #174EA6;\n",
              "      --disabled-fill-color: #AAA;\n",
              "      --disabled-bg-color: #DDD;\n",
              "  }\n",
              "\n",
              "  [theme=dark] .colab-df-quickchart {\n",
              "      --bg-color: #3B4455;\n",
              "      --fill-color: #D2E3FC;\n",
              "      --hover-bg-color: #434B5C;\n",
              "      --hover-fill-color: #FFFFFF;\n",
              "      --disabled-bg-color: #3B4455;\n",
              "      --disabled-fill-color: #666;\n",
              "  }\n",
              "\n",
              "  .colab-df-quickchart {\n",
              "    background-color: var(--bg-color);\n",
              "    border: none;\n",
              "    border-radius: 50%;\n",
              "    cursor: pointer;\n",
              "    display: none;\n",
              "    fill: var(--fill-color);\n",
              "    height: 32px;\n",
              "    padding: 0;\n",
              "    width: 32px;\n",
              "  }\n",
              "\n",
              "  .colab-df-quickchart:hover {\n",
              "    background-color: var(--hover-bg-color);\n",
              "    box-shadow: 0 1px 2px rgba(60, 64, 67, 0.3), 0 1px 3px 1px rgba(60, 64, 67, 0.15);\n",
              "    fill: var(--button-hover-fill-color);\n",
              "  }\n",
              "\n",
              "  .colab-df-quickchart-complete:disabled,\n",
              "  .colab-df-quickchart-complete:disabled:hover {\n",
              "    background-color: var(--disabled-bg-color);\n",
              "    fill: var(--disabled-fill-color);\n",
              "    box-shadow: none;\n",
              "  }\n",
              "\n",
              "  .colab-df-spinner {\n",
              "    border: 2px solid var(--fill-color);\n",
              "    border-color: transparent;\n",
              "    border-bottom-color: var(--fill-color);\n",
              "    animation:\n",
              "      spin 1s steps(1) infinite;\n",
              "  }\n",
              "\n",
              "  @keyframes spin {\n",
              "    0% {\n",
              "      border-color: transparent;\n",
              "      border-bottom-color: var(--fill-color);\n",
              "      border-left-color: var(--fill-color);\n",
              "    }\n",
              "    20% {\n",
              "      border-color: transparent;\n",
              "      border-left-color: var(--fill-color);\n",
              "      border-top-color: var(--fill-color);\n",
              "    }\n",
              "    30% {\n",
              "      border-color: transparent;\n",
              "      border-left-color: var(--fill-color);\n",
              "      border-top-color: var(--fill-color);\n",
              "      border-right-color: var(--fill-color);\n",
              "    }\n",
              "    40% {\n",
              "      border-color: transparent;\n",
              "      border-right-color: var(--fill-color);\n",
              "      border-top-color: var(--fill-color);\n",
              "    }\n",
              "    60% {\n",
              "      border-color: transparent;\n",
              "      border-right-color: var(--fill-color);\n",
              "    }\n",
              "    80% {\n",
              "      border-color: transparent;\n",
              "      border-right-color: var(--fill-color);\n",
              "      border-bottom-color: var(--fill-color);\n",
              "    }\n",
              "    90% {\n",
              "      border-color: transparent;\n",
              "      border-bottom-color: var(--fill-color);\n",
              "    }\n",
              "  }\n",
              "</style>\n",
              "\n",
              "  <script>\n",
              "    async function quickchart(key) {\n",
              "      const quickchartButtonEl =\n",
              "        document.querySelector('#' + key + ' button');\n",
              "      quickchartButtonEl.disabled = true;  // To prevent multiple clicks.\n",
              "      quickchartButtonEl.classList.add('colab-df-spinner');\n",
              "      try {\n",
              "        const charts = await google.colab.kernel.invokeFunction(\n",
              "            'suggestCharts', [key], {});\n",
              "      } catch (error) {\n",
              "        console.error('Error during call to suggestCharts:', error);\n",
              "      }\n",
              "      quickchartButtonEl.classList.remove('colab-df-spinner');\n",
              "      quickchartButtonEl.classList.add('colab-df-quickchart-complete');\n",
              "    }\n",
              "    (() => {\n",
              "      let quickchartButtonEl =\n",
              "        document.querySelector('#df-321a8573-8770-4798-8094-23fe3bd9dca7 button');\n",
              "      quickchartButtonEl.style.display =\n",
              "        google.colab.kernel.accessAllowed ? 'block' : 'none';\n",
              "    })();\n",
              "  </script>\n",
              "</div>\n",
              "\n",
              "    </div>\n",
              "  </div>\n"
            ],
            "application/vnd.google.colaboratory.intrinsic+json": {
              "type": "dataframe",
              "summary": "{\n  \"name\": \"campaign[[\\\"Income\\\", \\\"TotalSpent\\\"]]\",\n  \"rows\": 8,\n  \"fields\": [\n    {\n      \"column\": \"Income\",\n      \"properties\": {\n        \"dtype\": \"number\",\n        \"std\": 51557.74509694052,\n        \"min\": 1730.0,\n        \"max\": 162397.0,\n        \"num_unique_values\": 8,\n        \"samples\": [\n          51963.46359982135,\n          51373.0,\n          2239.0\n        ],\n        \"semantic_type\": \"\",\n        \"description\": \"\"\n      }\n    },\n    {\n      \"column\": \"TotalSpent\",\n      \"properties\": {\n        \"dtype\": \"number\",\n        \"std\": 953.5741677600665,\n        \"min\": 5.0,\n        \"max\": 2525.0,\n        \"num_unique_values\": 8,\n        \"samples\": [\n          606.0410897722197,\n          396.0,\n          2239.0\n        ],\n        \"semantic_type\": \"\",\n        \"description\": \"\"\n      }\n    }\n  ]\n}"
            }
          },
          "metadata": {},
          "execution_count": 92
        }
      ]
    },
    {
      "cell_type": "code",
      "source": [
        "sns.scatterplot(data= campaign, x= \"Income\", y =\"TotalSpent\")"
      ],
      "metadata": {
        "colab": {
          "base_uri": "https://localhost:8080/",
          "height": 467
        },
        "id": "KO1IKDbZQUNE",
        "outputId": "6e90ee18-aa83-4f2e-c939-9fde6e9b6c4e"
      },
      "execution_count": null,
      "outputs": [
        {
          "output_type": "execute_result",
          "data": {
            "text/plain": [
              "<Axes: xlabel='Income', ylabel='TotalSpent'>"
            ]
          },
          "metadata": {},
          "execution_count": 93
        },
        {
          "output_type": "display_data",
          "data": {
            "text/plain": [
              "<Figure size 640x480 with 1 Axes>"
            ],
            "image/png": "[encoded data removed]"
          },
          "metadata": {}
        }
      ]
    },
    {
      "cell_type": "markdown",
      "source": [
        "* It seems there is not linear Correlation between Income and Spending, so we will use Spearman Test instead of Person Correlation test"
      ],
      "metadata": {
        "id": "5K_Oj59kQmBS"
      }
    },
    {
      "cell_type": "code",
      "source": [
        "# H0: No correlation\n",
        "# Ha: There is correlation\n",
        "\n",
        "spearman_coeff, p_value = spearmanr(campaign[\"Income\"] ,campaign[\"TotalSpent\"])\n",
        "print(spearman_coeff)\n",
        "print(p_value)\n",
        "if p_value < 0.05:\n",
        "    print(\"Reject H0\")\n",
        "    print(\"There is correlation\")\n",
        "else:\n",
        "    print(\"Fail to reject H0\")\n",
        "    print(\"There is no correlation\")"
      ],
      "metadata": {
        "colab": {
          "base_uri": "https://localhost:8080/"
        },
        "id": "H48YzV5TQ3ef",
        "outputId": "9ea1e9c1-4b67-48b5-e0b1-f06b1d326655"
      },
      "execution_count": null,
      "outputs": [
        {
          "output_type": "stream",
          "name": "stdout",
          "text": [
            "0.8488353097986194\n",
            "0.0\n",
            "Reject H0\n",
            "There is correlation\n"
          ]
        }
      ]
    },
    {
      "cell_type": "markdown",
      "source": [
        "* There is a Strong Correlation between Spending and Income\n",
        "* Also we will check if Higher Income group has Higher Spending"
      ],
      "metadata": {
        "id": "Oaq0GuLjRFUH"
      }
    },
    {
      "cell_type": "markdown",
      "source": [
        "* Lets us check T-Test or Mann whitney Test"
      ],
      "metadata": {
        "id": "ToEBz5-gUBXH"
      }
    },
    {
      "cell_type": "code",
      "source": [
        "campaign[\"Incomegroup\"].value_counts()"
      ],
      "metadata": {
        "colab": {
          "base_uri": "https://localhost:8080/"
        },
        "id": "UvvdMnG-UgV5",
        "outputId": "5f5408d8-353b-4a9a-9da8-d5069fd6ee30"
      },
      "execution_count": null,
      "outputs": [
        {
          "output_type": "execute_result",
          "data": {
            "text/plain": [
              "Incomegroup\n",
              "lowerincome    1132\n",
              "upperincome    1107\n",
              "Name: count, dtype: int64"
            ]
          },
          "metadata": {},
          "execution_count": 97
        }
      ]
    },
    {
      "cell_type": "code",
      "source": [
        "LowerIncomegroup = campaign[campaign[\"Incomegroup\"]==\"lowerincome\"][\"TotalSpent\"]\n",
        "UpperIncomegroup = campaign[campaign[\"Incomegroup\"]==\"upperincome\"][\"TotalSpent\"]"
      ],
      "metadata": {
        "id": "hzC6VL1-UgYn"
      },
      "execution_count": null,
      "outputs": []
    },
    {
      "cell_type": "code",
      "source": [
        "sns.violinplot(data=campaign,y=\"TotalSpent\",hue = \"Incomegroup\")"
      ],
      "metadata": {
        "colab": {
          "base_uri": "https://localhost:8080/",
          "height": 429
        },
        "id": "wpHmmY2CoQ7I",
        "outputId": "8ba430f9-a317-4d0c-b6ed-d6028650895f"
      },
      "execution_count": null,
      "outputs": [
        {
          "output_type": "execute_result",
          "data": {
            "text/plain": [
              "<Axes: ylabel='TotalSpent'>"
            ]
          },
          "metadata": {},
          "execution_count": 134
        },
        {
          "output_type": "display_data",
          "data": {
            "text/plain": [
              "<Figure size 640x480 with 1 Axes>"
            ],
            "image/png": "[encoded data removed]"
          },
          "metadata": {}
        }
      ]
    },
    {
      "cell_type": "markdown",
      "source": [
        "* From Above graph it is visible that Higher income groups spent more than Lower income group\n",
        "* howeve we will confirm Statisticaly through Hypothesis Testing"
      ],
      "metadata": {
        "id": "lg_O9mgkoz6U"
      }
    },
    {
      "cell_type": "markdown",
      "source": [
        "Before using 2 Sample/Independent T test, we will check if 2 Samples have equal variance\n",
        "\n",
        "* For Equal Variances Check, we will use Levene Test with below Hypothesis condition\n",
        "** H0: Variances are equal\n",
        "** Ha: Variances are not equal\n",
        "\n",
        "\n"
      ],
      "metadata": {
        "id": "ZBlf1uf0u4ox"
      }
    },
    {
      "cell_type": "code",
      "source": [
        "# Ho: Variances are equal\n",
        "# Ha: Variances are not equal\n",
        "levene_stat, p_value = levene(LowerIncomegroup,UpperIncomegroup)\n",
        "print(p_value)\n",
        "if p_value < 0.05:\n",
        "    print(\"Reject Ho\")\n",
        "    print(\"Variances are not equal\")\n",
        "else:\n",
        "    print(\"Fail to reject Ho\")\n",
        "    print(\"Variances are equal\")"
      ],
      "metadata": {
        "colab": {
          "base_uri": "https://localhost:8080/"
        },
        "id": "S6VHDT29vKeo",
        "outputId": "3de0de6b-ea81-4d04-dc49-ccdf11a751db"
      },
      "execution_count": null,
      "outputs": [
        {
          "output_type": "stream",
          "name": "stdout",
          "text": [
            "1.7014365210508014e-148\n",
            "Reject Ho\n",
            "Variances are not equal\n"
          ]
        }
      ]
    },
    {
      "cell_type": "markdown",
      "source": [
        "* As Assumptions are Failing for T-Test, we will do Non-parametric Test i.e., Mann Whitney"
      ],
      "metadata": {
        "id": "pyyI1MDJkhbY"
      }
    },
    {
      "cell_type": "code",
      "source": [
        "#H0: mu1 = mu2\n",
        "#Ha : mu1 != mu2\n",
        "\n",
        "mannwhitneyu_stat, p_value= mannwhitneyu(LowerIncomegroup,UpperIncomegroup)\n",
        "print(p_value)\n",
        "if p_value < 0.05:\n",
        "    print(\"Reject H0\")\n",
        "    print(\"One or more groups have different mean\")\n",
        "else:\n",
        "    print(\"Fail to reject H0\")\n",
        "    print(\"All groups have same mean\")"
      ],
      "metadata": {
        "colab": {
          "base_uri": "https://localhost:8080/"
        },
        "id": "F67aTc1eU8rI",
        "outputId": "c796960d-b881-4a84-d275-4317377787bd"
      },
      "execution_count": null,
      "outputs": [
        {
          "output_type": "stream",
          "name": "stdout",
          "text": [
            "1.5870298364609206e-295\n",
            "Reject H0\n",
            "One or more groups have different mean\n"
          ]
        }
      ]
    },
    {
      "cell_type": "markdown",
      "source": [
        "* We will confirm if Higher Income Group Spend More than Lower Income Group"
      ],
      "metadata": {
        "id": "H3MvIU__lhO5"
      }
    },
    {
      "cell_type": "code",
      "source": [
        "#H0: mu1 <= mu2\n",
        "#Ha : mu1 > mu2\n",
        "\n",
        "mannwhitneyu_stat, p_value= mannwhitneyu(UpperIncomegroup,LowerIncomegroup,alternative = \"greater\")\n",
        "print(p_value)\n",
        "if p_value < 0.05:\n",
        "    print(\"Reject H0\")\n",
        "\n",
        "else:\n",
        "    print(\"Fail to reject H0\")\n"
      ],
      "metadata": {
        "colab": {
          "base_uri": "https://localhost:8080/"
        },
        "id": "6sVSN-5ulgck",
        "outputId": "5c1599e2-b865-4758-8e5a-56327a56835a"
      },
      "execution_count": null,
      "outputs": [
        {
          "output_type": "stream",
          "name": "stdout",
          "text": [
            "7.935149182304603e-296\n",
            "Reject H0\n"
          ]
        }
      ]
    },
    {
      "cell_type": "markdown",
      "source": [
        "**we can Conclude Higher Income Group Spend More than Lower Income Group**"
      ],
      "metadata": {
        "id": "AEbWx3JimMkD"
      }
    },
    {
      "cell_type": "markdown",
      "source": [
        "### Do couples spend more or less money on wine than people living alone (set 'Married','Together':'In couple' and 'Divorced','Single','Absurd','Widow','YOLO':'Alone')"
      ],
      "metadata": {
        "id": "oxOTFE6lVqOw"
      }
    },
    {
      "cell_type": "markdown",
      "source": [
        "* it is Categorical vs Numeric, Especially Consists of 2 Categories so We will check the Hypothesis thru T-Test ind or MannWhitneyu Test"
      ],
      "metadata": {
        "id": "u5JJwBY-n-xQ"
      }
    },
    {
      "cell_type": "code",
      "source": [
        "sns.violinplot(data=campaign,y=\"MntWines\",hue = \"Marital_Status\")"
      ],
      "metadata": {
        "colab": {
          "base_uri": "https://localhost:8080/",
          "height": 429
        },
        "id": "odXIFA5jV0xL",
        "outputId": "5686dee2-afe6-4146-d3ec-d77db6ed3a3a"
      },
      "execution_count": null,
      "outputs": [
        {
          "output_type": "execute_result",
          "data": {
            "text/plain": [
              "<Axes: ylabel='MntWines'>"
            ]
          },
          "metadata": {},
          "execution_count": 133
        },
        {
          "output_type": "display_data",
          "data": {
            "text/plain": [
              "<Figure size 640x480 with 1 Axes>"
            ],
            "image/png": "[encoded data removed]"
          },
          "metadata": {}
        }
      ]
    },
    {
      "cell_type": "markdown",
      "source": [
        "* From above graph it is visble that Couple and Single spend same on Wine\n",
        "* We will confirm Further through Hypotheis Testing"
      ],
      "metadata": {
        "id": "nslMswajqB6m"
      }
    },
    {
      "cell_type": "code",
      "source": [
        "campaign[\"Marital_Status\"].value_counts()"
      ],
      "metadata": {
        "colab": {
          "base_uri": "https://localhost:8080/"
        },
        "id": "y4hZeOD7rItd",
        "outputId": "b912f203-318d-4fe9-d59b-01deb3d14514"
      },
      "execution_count": null,
      "outputs": [
        {
          "output_type": "execute_result",
          "data": {
            "text/plain": [
              "Marital_Status\n",
              "Couple    1443\n",
              "Single     796\n",
              "Name: count, dtype: int64"
            ]
          },
          "metadata": {},
          "execution_count": 136
        }
      ]
    },
    {
      "cell_type": "code",
      "source": [
        "Couple = campaign[campaign[\"Marital_Status\"]==\"Couple\"][\"MntWines\"]\n",
        "Single = campaign[campaign[\"Marital_Status\"]==\"Single\"][\"MntWines\"]"
      ],
      "metadata": {
        "id": "XEd_rUSeV0uC"
      },
      "execution_count": null,
      "outputs": []
    },
    {
      "cell_type": "code",
      "source": [
        "# Ho: Variances are equal\n",
        "# Ha: Variances are not equal\n",
        "levene_stat, p_value = levene(Couple,Single)\n",
        "print(p_value)\n",
        "if p_value < 0.05:\n",
        "    print(\"Reject Ho\")\n",
        "    print(\"Variances are not equal\")\n",
        "else:\n",
        "    print(\"Fail to reject Ho\")\n",
        "    print(\"Variances are equal\")"
      ],
      "metadata": {
        "colab": {
          "base_uri": "https://localhost:8080/"
        },
        "id": "JKhgCXC6rdxi",
        "outputId": "2ddbf3a0-5c28-484a-a753-fb9e8078769e"
      },
      "execution_count": null,
      "outputs": [
        {
          "output_type": "stream",
          "name": "stdout",
          "text": [
            "0.7387196097922895\n",
            "Fail to reject Ho\n",
            "Variances are equal\n"
          ]
        }
      ]
    },
    {
      "cell_type": "markdown",
      "source": [
        "* As Variances are equal, we will use T-Test"
      ],
      "metadata": {
        "id": "YvAR2R_UruWT"
      }
    },
    {
      "cell_type": "code",
      "source": [
        "#H0: mu1 = mu2\n",
        "#Ha : mu1 != mu2\n",
        "\n",
        "t_stat, p_value = ttest_ind(Couple,Single)\n",
        "print(p_value)\n",
        "if p_value < 0.05:\n",
        "    print(\"Reject H0\")\n",
        "else:\n",
        "    print(\"Fail to reject H0\")"
      ],
      "metadata": {
        "colab": {
          "base_uri": "https://localhost:8080/"
        },
        "id": "Hqf3yhClrdum",
        "outputId": "fea1dff6-0b4b-4be9-d99b-3575ce5cf4fc"
      },
      "execution_count": null,
      "outputs": [
        {
          "output_type": "stream",
          "name": "stdout",
          "text": [
            "0.7862422428083654\n",
            "Fail to reject H0\n"
          ]
        }
      ]
    },
    {
      "cell_type": "code",
      "source": [
        "#H0: mu1 >= mu2\n",
        "#Ha : mu1 < mu2\n",
        "\n",
        "t_stat, p_value = ttest_ind(Couple,Single, alternative=\"less\")\n",
        "print(p_value)\n",
        "if p_value < 0.05:\n",
        "    print(\"Reject H0\")\n",
        "else:\n",
        "    print(\"Fail to reject H0\")"
      ],
      "metadata": {
        "colab": {
          "base_uri": "https://localhost:8080/"
        },
        "id": "Q5QzPoFVuySt",
        "outputId": "c8c4bf32-8305-4e77-df07-bbeaa5c8034e"
      },
      "execution_count": null,
      "outputs": [
        {
          "output_type": "stream",
          "name": "stdout",
          "text": [
            "0.3931211214041827\n",
            "Fail to reject H0\n"
          ]
        }
      ]
    },
    {
      "cell_type": "code",
      "source": [
        "#H0: mu1 <= mu2\n",
        "#Ha : mu1 > mu2\n",
        "\n",
        "t_stat, p_value = ttest_ind(Couple,Single, alternative=\"greater\")\n",
        "print(p_value)\n",
        "if p_value < 0.05:\n",
        "    print(\"Reject H0\")\n",
        "else:\n",
        "    print(\"Fail to reject H0\")"
      ],
      "metadata": {
        "colab": {
          "base_uri": "https://localhost:8080/"
        },
        "id": "Bfv9ZXDpu-IH",
        "outputId": "ac1e9696-42ce-437d-ca2f-eec770243b24"
      },
      "execution_count": null,
      "outputs": [
        {
          "output_type": "stream",
          "name": "stdout",
          "text": [
            "0.6068788785958174\n",
            "Fail to reject H0\n"
          ]
        }
      ]
    },
    {
      "cell_type": "markdown",
      "source": [
        "**Couple and Single Customer Spend same amount on Wine**"
      ],
      "metadata": {
        "id": "UcBAyD1XubNE"
      }
    },
    {
      "cell_type": "markdown",
      "source": [
        "### Are people with lower income are more attracted towards campaign or simply put accept more campaigns. ( create two income brackets one below median , other above median income and create a column which tells if they have ever accepted any campaign)"
      ],
      "metadata": {
        "id": "7N1L4obMVshp"
      }
    },
    {
      "cell_type": "code",
      "source": [
        "campaign.columns"
      ],
      "metadata": {
        "colab": {
          "base_uri": "https://localhost:8080/"
        },
        "id": "uIi9wlYQV20F",
        "outputId": "55594d84-2031-49bc-a814-99205477a69b"
      },
      "execution_count": null,
      "outputs": [
        {
          "output_type": "execute_result",
          "data": {
            "text/plain": [
              "Index(['ID', 'Year_Birth', 'Education', 'Marital_Status', 'Income', 'Kidhome',\n",
              "       'Teenhome', 'Dt_Customer', 'Recency', 'MntWines', 'MntFruits',\n",
              "       'MntMeatProducts', 'MntFishProducts', 'MntSweetProducts',\n",
              "       'MntGoldProds', 'NumDealsPurchases', 'NumWebPurchases',\n",
              "       'NumCatalogPurchases', 'NumStorePurchases', 'NumWebVisitsMonth',\n",
              "       'AcceptedCmp3', 'AcceptedCmp4', 'AcceptedCmp5', 'AcceptedCmp1',\n",
              "       'AcceptedCmp2', 'Complain', 'Country', 'Children', 'Age', 'cmpaccepted',\n",
              "       'Incomegroup', 'TotalSpent'],\n",
              "      dtype='object')"
            ]
          },
          "metadata": {},
          "execution_count": 142
        }
      ]
    },
    {
      "cell_type": "code",
      "source": [
        "campaign[\"Incomegroup\"].value_counts()"
      ],
      "metadata": {
        "colab": {
          "base_uri": "https://localhost:8080/"
        },
        "id": "lz5gUtCSV2xe",
        "outputId": "5edc68f4-f36e-4af9-acc1-770cfb56ca40"
      },
      "execution_count": null,
      "outputs": [
        {
          "output_type": "execute_result",
          "data": {
            "text/plain": [
              "Incomegroup\n",
              "lowerincome    1132\n",
              "upperincome    1107\n",
              "Name: count, dtype: int64"
            ]
          },
          "metadata": {},
          "execution_count": 143
        }
      ]
    },
    {
      "cell_type": "code",
      "source": [
        "campaign[\"cmpaccepted\"].value_counts()"
      ],
      "metadata": {
        "colab": {
          "base_uri": "https://localhost:8080/"
        },
        "id": "ZdoKlDQdV2uc",
        "outputId": "0ba86aa7-5117-4857-89c3-b972c7f0420f"
      },
      "execution_count": null,
      "outputs": [
        {
          "output_type": "execute_result",
          "data": {
            "text/plain": [
              "cmpaccepted\n",
              "False    1776\n",
              "True      463\n",
              "Name: count, dtype: int64"
            ]
          },
          "metadata": {},
          "execution_count": 144
        }
      ]
    },
    {
      "cell_type": "code",
      "source": [
        "pd.crosstab(campaign[\"Incomegroup\"],campaign[\"cmpaccepted\"], normalize = \"index\")"
      ],
      "metadata": {
        "colab": {
          "base_uri": "https://localhost:8080/",
          "height": 143
        },
        "id": "s5-z2j2jV2ip",
        "outputId": "35b82412-a9ba-4826-e279-9ec46f106f2d"
      },
      "execution_count": null,
      "outputs": [
        {
          "output_type": "execute_result",
          "data": {
            "text/plain": [
              "cmpaccepted     False     True \n",
              "Incomegroup                    \n",
              "lowerincome  0.894876  0.105124\n",
              "upperincome  0.689250  0.310750"
            ],
            "text/html": [
              "\n",
              "  <div id=\"df-ea9d73cb-5b03-4435-93f1-589c5bdf611c\" class=\"colab-df-container\">\n",
              "    <div>\n",
              "<style scoped>\n",
              "    .dataframe tbody tr th:only-of-type {\n",
              "        vertical-align: middle;\n",
              "    }\n",
              "\n",
              "    .dataframe tbody tr th {\n",
              "        vertical-align: top;\n",
              "    }\n",
              "\n",
              "    .dataframe thead th {\n",
              "        text-align: right;\n",
              "    }\n",
              "</style>\n",
              "<table border=\"1\" class=\"dataframe\">\n",
              "  <thead>\n",
              "    <tr style=\"text-align: right;\">\n",
              "      <th>cmpaccepted</th>\n",
              "      <th>False</th>\n",
              "      <th>True</th>\n",
              "    </tr>\n",
              "    <tr>\n",
              "      <th>Incomegroup</th>\n",
              "      <th></th>\n",
              "      <th></th>\n",
              "    </tr>\n",
              "  </thead>\n",
              "  <tbody>\n",
              "    <tr>\n",
              "      <th>lowerincome</th>\n",
              "      <td>0.894876</td>\n",
              "      <td>0.105124</td>\n",
              "    </tr>\n",
              "    <tr>\n",
              "      <th>upperincome</th>\n",
              "      <td>0.689250</td>\n",
              "      <td>0.310750</td>\n",
              "    </tr>\n",
              "  </tbody>\n",
              "</table>\n",
              "</div>\n",
              "    <div class=\"colab-df-buttons\">\n",
              "\n",
              "  <div class=\"colab-df-container\">\n",
              "    <button class=\"colab-df-convert\" onclick=\"convertToInteractive('df-ea9d73cb-5b03-4435-93f1-589c5bdf611c')\"\n",
              "            title=\"Convert this dataframe to an interactive table.\"\n",
              "            style=\"display:none;\">\n",
              "\n",
              "  <svg xmlns=\"http://www.w3.org/2000/svg\" height=\"24px\" viewBox=\"0 -960 960 960\">\n",
              "    <path d=\"M120-120v-720h720v720H120Zm60-500h600v-160H180v160Zm220 220h160v-160H400v160Zm0 220h160v-160H400v160ZM180-400h160v-160H180v160Zm440 0h160v-160H620v160ZM180-180h160v-160H180v160Zm440 0h160v-160H620v160Z\"/>\n",
              "  </svg>\n",
              "    </button>\n",
              "\n",
              "  <style>\n",
              "    .colab-df-container {\n",
              "      display:flex;\n",
              "      gap: 12px;\n",
              "    }\n",
              "\n",
              "    .colab-df-convert {\n",
              "      background-color: #E8F0FE;\n",
              "      border: none;\n",
              "      border-radius: 50%;\n",
              "      cursor: pointer;\n",
              "      display: none;\n",
              "      fill: #1967D2;\n",
              "      height: 32px;\n",
              "      padding: 0 0 0 0;\n",
              "      width: 32px;\n",
              "    }\n",
              "\n",
              "    .colab-df-convert:hover {\n",
              "      background-color: #E2EBFA;\n",
              "      box-shadow: 0px 1px 2px rgba(60, 64, 67, 0.3), 0px 1px 3px 1px rgba(60, 64, 67, 0.15);\n",
              "      fill: #174EA6;\n",
              "    }\n",
              "\n",
              "    .colab-df-buttons div {\n",
              "      margin-bottom: 4px;\n",
              "    }\n",
              "\n",
              "    [theme=dark] .colab-df-convert {\n",
              "      background-color: #3B4455;\n",
              "      fill: #D2E3FC;\n",
              "    }\n",
              "\n",
              "    [theme=dark] .colab-df-convert:hover {\n",
              "      background-color: #434B5C;\n",
              "      box-shadow: 0px 1px 3px 1px rgba(0, 0, 0, 0.15);\n",
              "      filter: drop-shadow(0px 1px 2px rgba(0, 0, 0, 0.3));\n",
              "      fill: #FFFFFF;\n",
              "    }\n",
              "  </style>\n",
              "\n",
              "    <script>\n",
              "      const buttonEl =\n",
              "        document.querySelector('#df-ea9d73cb-5b03-4435-93f1-589c5bdf611c button.colab-df-convert');\n",
              "      buttonEl.style.display =\n",
              "        google.colab.kernel.accessAllowed ? 'block' : 'none';\n",
              "\n",
              "      async function convertToInteractive(key) {\n",
              "        const element = document.querySelector('#df-ea9d73cb-5b03-4435-93f1-589c5bdf611c');\n",
              "        const dataTable =\n",
              "          await google.colab.kernel.invokeFunction('convertToInteractive',\n",
              "                                                    [key], {});\n",
              "        if (!dataTable) return;\n",
              "\n",
              "        const docLinkHtml = 'Like what you see? Visit the ' +\n",
              "          '<a target=\"_blank\" href=https://colab.research.google.com/notebooks/data_table.ipynb>data table notebook</a>'\n",
              "          + ' to learn more about interactive tables.';\n",
              "        element.innerHTML = '';\n",
              "        dataTable['output_type'] = 'display_data';\n",
              "        await google.colab.output.renderOutput(dataTable, element);\n",
              "        const docLink = document.createElement('div');\n",
              "        docLink.innerHTML = docLinkHtml;\n",
              "        element.appendChild(docLink);\n",
              "      }\n",
              "    </script>\n",
              "  </div>\n",
              "\n",
              "\n",
              "<div id=\"df-1a8ca25a-9558-4557-9a44-783c02105c19\">\n",
              "  <button class=\"colab-df-quickchart\" onclick=\"quickchart('df-1a8ca25a-9558-4557-9a44-783c02105c19')\"\n",
              "            title=\"Suggest charts\"\n",
              "            style=\"display:none;\">\n",
              "\n",
              "<svg xmlns=\"http://www.w3.org/2000/svg\" height=\"24px\"viewBox=\"0 0 24 24\"\n",
              "     width=\"24px\">\n",
              "    <g>\n",
              "        <path d=\"M19 3H5c-1.1 0-2 .9-2 2v14c0 1.1.9 2 2 2h14c1.1 0 2-.9 2-2V5c0-1.1-.9-2-2-2zM9 17H7v-7h2v7zm4 0h-2V7h2v10zm4 0h-2v-4h2v4z\"/>\n",
              "    </g>\n",
              "</svg>\n",
              "  </button>\n",
              "\n",
              "<style>\n",
              "  .colab-df-quickchart {\n",
              "      --bg-color: #E8F0FE;\n",
              "      --fill-color: #1967D2;\n",
              "      --hover-bg-color: #E2EBFA;\n",
              "      --hover-fill-color: #174EA6;\n",
              "      --disabled-fill-color: #AAA;\n",
              "      --disabled-bg-color: #DDD;\n",
              "  }\n",
              "\n",
              "  [theme=dark] .colab-df-quickchart {\n",
              "      --bg-color: #3B4455;\n",
              "      --fill-color: #D2E3FC;\n",
              "      --hover-bg-color: #434B5C;\n",
              "      --hover-fill-color: #FFFFFF;\n",
              "      --disabled-bg-color: #3B4455;\n",
              "      --disabled-fill-color: #666;\n",
              "  }\n",
              "\n",
              "  .colab-df-quickchart {\n",
              "    background-color: var(--bg-color);\n",
              "    border: none;\n",
              "    border-radius: 50%;\n",
              "    cursor: pointer;\n",
              "    display: none;\n",
              "    fill: var(--fill-color);\n",
              "    height: 32px;\n",
              "    padding: 0;\n",
              "    width: 32px;\n",
              "  }\n",
              "\n",
              "  .colab-df-quickchart:hover {\n",
              "    background-color: var(--hover-bg-color);\n",
              "    box-shadow: 0 1px 2px rgba(60, 64, 67, 0.3), 0 1px 3px 1px rgba(60, 64, 67, 0.15);\n",
              "    fill: var(--button-hover-fill-color);\n",
              "  }\n",
              "\n",
              "  .colab-df-quickchart-complete:disabled,\n",
              "  .colab-df-quickchart-complete:disabled:hover {\n",
              "    background-color: var(--disabled-bg-color);\n",
              "    fill: var(--disabled-fill-color);\n",
              "    box-shadow: none;\n",
              "  }\n",
              "\n",
              "  .colab-df-spinner {\n",
              "    border: 2px solid var(--fill-color);\n",
              "    border-color: transparent;\n",
              "    border-bottom-color: var(--fill-color);\n",
              "    animation:\n",
              "      spin 1s steps(1) infinite;\n",
              "  }\n",
              "\n",
              "  @keyframes spin {\n",
              "    0% {\n",
              "      border-color: transparent;\n",
              "      border-bottom-color: var(--fill-color);\n",
              "      border-left-color: var(--fill-color);\n",
              "    }\n",
              "    20% {\n",
              "      border-color: transparent;\n",
              "      border-left-color: var(--fill-color);\n",
              "      border-top-color: var(--fill-color);\n",
              "    }\n",
              "    30% {\n",
              "      border-color: transparent;\n",
              "      border-left-color: var(--fill-color);\n",
              "      border-top-color: var(--fill-color);\n",
              "      border-right-color: var(--fill-color);\n",
              "    }\n",
              "    40% {\n",
              "      border-color: transparent;\n",
              "      border-right-color: var(--fill-color);\n",
              "      border-top-color: var(--fill-color);\n",
              "    }\n",
              "    60% {\n",
              "      border-color: transparent;\n",
              "      border-right-color: var(--fill-color);\n",
              "    }\n",
              "    80% {\n",
              "      border-color: transparent;\n",
              "      border-right-color: var(--fill-color);\n",
              "      border-bottom-color: var(--fill-color);\n",
              "    }\n",
              "    90% {\n",
              "      border-color: transparent;\n",
              "      border-bottom-color: var(--fill-color);\n",
              "    }\n",
              "  }\n",
              "</style>\n",
              "\n",
              "  <script>\n",
              "    async function quickchart(key) {\n",
              "      const quickchartButtonEl =\n",
              "        document.querySelector('#' + key + ' button');\n",
              "      quickchartButtonEl.disabled = true;  // To prevent multiple clicks.\n",
              "      quickchartButtonEl.classList.add('colab-df-spinner');\n",
              "      try {\n",
              "        const charts = await google.colab.kernel.invokeFunction(\n",
              "            'suggestCharts', [key], {});\n",
              "      } catch (error) {\n",
              "        console.error('Error during call to suggestCharts:', error);\n",
              "      }\n",
              "      quickchartButtonEl.classList.remove('colab-df-spinner');\n",
              "      quickchartButtonEl.classList.add('colab-df-quickchart-complete');\n",
              "    }\n",
              "    (() => {\n",
              "      let quickchartButtonEl =\n",
              "        document.querySelector('#df-1a8ca25a-9558-4557-9a44-783c02105c19 button');\n",
              "      quickchartButtonEl.style.display =\n",
              "        google.colab.kernel.accessAllowed ? 'block' : 'none';\n",
              "    })();\n",
              "  </script>\n",
              "</div>\n",
              "\n",
              "    </div>\n",
              "  </div>\n"
            ],
            "application/vnd.google.colaboratory.intrinsic+json": {
              "type": "dataframe",
              "summary": "{\n  \"name\": \"pd\",\n  \"rows\": 2,\n  \"fields\": [\n    {\n      \"column\": \"Incomegroup\",\n      \"properties\": {\n        \"dtype\": \"string\",\n        \"num_unique_values\": 2,\n        \"samples\": [\n          \"upperincome\",\n          \"lowerincome\"\n        ],\n        \"semantic_type\": \"\",\n        \"description\": \"\"\n      }\n    },\n    {\n      \"column\": false,\n      \"properties\": {\n        \"dtype\": \"number\",\n        \"std\": 0.14539960917055586,\n        \"min\": 0.6892502258355917,\n        \"max\": 0.8948763250883393,\n        \"num_unique_values\": 2,\n        \"samples\": [\n          0.6892502258355917,\n          0.8948763250883393\n        ],\n        \"semantic_type\": \"\",\n        \"description\": \"\"\n      }\n    },\n    {\n      \"column\": true,\n      \"properties\": {\n        \"dtype\": \"number\",\n        \"std\": 0.14539960917055586,\n        \"min\": 0.10512367491166077,\n        \"max\": 0.3107497741644083,\n        \"num_unique_values\": 2,\n        \"samples\": [\n          0.3107497741644083,\n          0.10512367491166077\n        ],\n        \"semantic_type\": \"\",\n        \"description\": \"\"\n      }\n    }\n  ]\n}"
            }
          },
          "metadata": {},
          "execution_count": 150
        }
      ]
    },
    {
      "cell_type": "code",
      "source": [
        "sns.countplot(data=campaign, hue=\"cmpaccepted\",x = \"Incomegroup\")"
      ],
      "metadata": {
        "colab": {
          "base_uri": "https://localhost:8080/",
          "height": 467
        },
        "id": "X31LSPtTw5kj",
        "outputId": "49d963c2-4af7-4a90-9aa2-70835d4d896f"
      },
      "execution_count": null,
      "outputs": [
        {
          "output_type": "execute_result",
          "data": {
            "text/plain": [
              "<Axes: xlabel='Incomegroup', ylabel='count'>"
            ]
          },
          "metadata": {},
          "execution_count": 148
        },
        {
          "output_type": "display_data",
          "data": {
            "text/plain": [
              "<Figure size 640x480 with 1 Axes>"
            ],
            "image/png": "[encoded data removed]"
          },
          "metadata": {}
        }
      ]
    },
    {
      "cell_type": "markdown",
      "source": [
        "* from above we are not able to Confidently Judge if which income group customers are more attracted to campaign\n",
        "\n",
        "* we will do Chi Squared independent test to confirm the same"
      ],
      "metadata": {
        "id": "ndptPdaivyBu"
      }
    },
    {
      "cell_type": "code",
      "source": [
        "# Ho: Both are independent\n",
        "# Ha: Both are not Independent\n",
        "\n",
        "chi_stat, p_value, df, exp_freq = chi2_contingency(pd.crosstab(campaign[\"Incomegroup\"],campaign[\"cmpaccepted\"]))\n",
        "\n",
        "print(p_value)\n",
        "print(exp_freq)\n",
        "if p_value < 0.05:\n",
        "  print(\"Reject H0\")\n",
        "  print(\"Both are not Independent\")\n",
        "else:\n",
        "  print(\"Fail to Reject H0\")\n",
        "  print(\"Both are Independent\")"
      ],
      "metadata": {
        "colab": {
          "base_uri": "https://localhost:8080/"
        },
        "id": "CzuiHUoQwdOk",
        "outputId": "fedb57bb-3a12-448b-e1e6-d364dbd38b03"
      },
      "execution_count": null,
      "outputs": [
        {
          "output_type": "stream",
          "name": "stdout",
          "text": [
            "5.817220780430335e-33\n",
            "[[897.91514069 234.08485931]\n",
            " [878.08485931 228.91514069]]\n",
            "Reject H0\n",
            "Both are not Independent\n"
          ]
        }
      ]
    },
    {
      "cell_type": "markdown",
      "source": [
        "**Incomegroup and Campaign accepted are Not Independent, Higher Income groups have accepted to more campaigns**"
      ],
      "metadata": {
        "id": "i0pmLReTx5Yz"
      }
    }
  ],
  "metadata": {
    "colab": {
      "name": "Welcome to Colaboratory",
      "provenance": [],
      "toc_visible": true,
      "include_colab_link": true
    },
    "kernelspec": {
      "display_name": "Python 3",
      "name": "python3"
    }
  },
  "nbformat": 4,
  "nbformat_minor": 0
}