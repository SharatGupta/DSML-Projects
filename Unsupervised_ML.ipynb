{
  "cells": [
    {
      "cell_type": "markdown",
      "metadata": {
        "id": "view-in-github",
        "colab_type": "text"
      },
      "source": [
        "<a href=\"https://colab.research.google.com/github/SharatGupta/DSML-Projects/blob/main/Unsupervised_ML.ipynb\" target=\"_parent\"><img src=\"https://colab.research.google.com/assets/colab-badge.svg\" alt=\"Open In Colab\"/></a>"
      ]
    },
    {
      "cell_type": "markdown",
      "source": [
        "# **Importing Modules**"
      ],
      "metadata": {
        "id": "-sDBYMecKoZ3"
      },
      "id": "-sDBYMecKoZ3"
    },
    {
      "cell_type": "code",
      "source": [
        "import numpy as np\n",
        "import pandas as pd\n",
        "import matplotlib.pyplot as plt\n",
        "import seaborn as sns\n",
        "\n",
        "from sklearn import datasets\n",
        "from sklearn import decomposition\n",
        "\n",
        "from sklearn.preprocessing import MinMaxScaler,StandardScaler\n",
        "from sklearn.model_selection import train_test_split\n",
        "\n",
        "from sklearn.linear_model import LinearRegression,Lasso,Ridge,ElasticNet,LogisticRegression\n",
        "import statsmodels.api as sm\n",
        "\n",
        "from statsmodels.stats.outliers_influence import variance_inflation_factor\n",
        "\n",
        "from sklearn.preprocessing import PolynomialFeatures\n",
        "\n",
        "from sklearn.metrics import confusion_matrix, ConfusionMatrixDisplay\n",
        "from sklearn.metrics import precision_score\n",
        "from sklearn.metrics import recall_score\n",
        "from sklearn.metrics import f1_score\n",
        "from sklearn.metrics import roc_curve,roc_auc_score\n",
        "from sklearn.metrics import precision_recall_curve\n",
        "from sklearn.metrics import auc\n",
        "from sklearn.metrics import mean_squared_error\n",
        "\n",
        "from sklearn.tree import DecisionTreeClassifier,DecisionTreeRegressor\n",
        "from sklearn.model_selection import KFold, cross_validate, cross_val_score"
      ],
      "metadata": {
        "id": "hb3l8erwuW8i"
      },
      "id": "hb3l8erwuW8i",
      "execution_count": null,
      "outputs": []
    },
    {
      "cell_type": "markdown",
      "source": [
        "# **K-Means Clustering**"
      ],
      "metadata": {
        "id": "kPwjcI2eP86u"
      },
      "id": "kPwjcI2eP86u"
    },
    {
      "cell_type": "markdown",
      "source": [
        "## Python Scratch Code"
      ],
      "metadata": {
        "id": "8fJ9JvRmQCsT"
      },
      "id": "8fJ9JvRmQCsT"
    },
    {
      "cell_type": "code",
      "source": [
        "#points is the list of tuples consisting of coordinates of points.\n",
        "#centroids is the list of tuples consisting of coordinates of centroid points\n",
        "import numpy as np\n",
        "\n",
        "#Function to calculate the distance between two points\n",
        "def calc_dist(p1, p2):\n",
        "  return ((p1[0]-p2[0])**2 + (p1[1]-p2[1])**2)**0.5\n",
        "\n",
        "#Function to update the centroids of a cluster lst\n",
        "def upd_centroid(lst):\n",
        "  val_x, val_y = 0, 0\n",
        "  for x,y in lst:\n",
        "    val_x += x\n",
        "    val_y += y\n",
        "  return (np.round(val_x/len(lst), 2), np.round(val_y/len(lst), 2))\n",
        "\n",
        "#Perform the k-means algorithm to cluster the points\n",
        "def k_means(points, centroids):\n",
        "\n",
        "  #groups is a 2d list where groups[i] will have all the points corresponding to the ith cluster\n",
        "  groups = [[] for i in range(len(centroids))]\n",
        "  for pnt in points:\n",
        "\n",
        "    #tmp is a list to store the distance of points from each centroid. tmp[j] is the distance of jth centroid from pnt\n",
        "    tmp = [0]*len(centroids)\n",
        "\n",
        "    for i,centroid in enumerate(centroids):\n",
        "      tmp[i] = calc_dist(pnt, centroid)\n",
        "\n",
        "    #calculate the minimum distance from a centroid from all the centroid distances\n",
        "    min_d = min(tmp)\n",
        "\n",
        "    #find the index of minimum distance from tmp\n",
        "    group_id = tmp.index(min_d)\n",
        "\n",
        "    #store the point into the sublist of that nearest centroid\n",
        "    groups[group_id].append(pnt)\n",
        "\n",
        "  new_centroid = []\n",
        "\n",
        "  #update the centroids of each cluster\n",
        "  for lst in groups:\n",
        "    #update the centroid\n",
        "    new_centroid.append(upd_centroid(lst))\n",
        "  return new_centroid\n",
        "\n",
        "\n",
        "#Perform 10 iterations of k-means algorithm\n",
        "for i in range(10):\n",
        "  centroids = k_means(points, centroids)\n",
        "  print('Centroids after ' + str(i+1) + 'th iteration: ',centroids)"
      ],
      "metadata": {
        "id": "YeKZUAX2P8nt"
      },
      "id": "YeKZUAX2P8nt",
      "execution_count": null,
      "outputs": []
    },
    {
      "cell_type": "markdown",
      "source": [
        "# **Hierachial Clustering**"
      ],
      "metadata": {
        "id": "lsnGK3s6stUi"
      },
      "id": "lsnGK3s6stUi"
    },
    {
      "cell_type": "code",
      "source": [
        "import scipy.cluster.hierarchy as shc\n",
        "import pandas as pd\n",
        "import matplotlib.pyplot as plt\n",
        "data = pd.DataFrame({'id':[1,2,3,4,5], 'marks':[10,7,28,20,25]})\n",
        "dend = shc.dendrogram(shc.linkage(data, method = 'ward'))"
      ],
      "metadata": {
        "id": "QMNl8nMLsxDC"
      },
      "id": "QMNl8nMLsxDC",
      "execution_count": null,
      "outputs": []
    }
  ],
  "metadata": {
    "kernelspec": {
      "display_name": "Python 3 (ipykernel)",
      "language": "python",
      "name": "python3"
    },
    "language_info": {
      "codemirror_mode": {
        "name": "ipython",
        "version": 3
      },
      "file_extension": ".py",
      "mimetype": "text/x-python",
      "name": "python",
      "nbconvert_exporter": "python",
      "pygments_lexer": "ipython3",
      "version": "3.9.7"
    },
    "varInspector": {
      "cols": {
        "lenName": 16,
        "lenType": 16,
        "lenVar": 40
      },
      "kernels_config": {
        "python": {
          "delete_cmd_postfix": "",
          "delete_cmd_prefix": "del ",
          "library": "var_list.py",
          "varRefreshCmd": "print(var_dic_list())"
        },
        "r": {
          "delete_cmd_postfix": ") ",
          "delete_cmd_prefix": "rm(",
          "library": "var_list.r",
          "varRefreshCmd": "cat(var_dic_list()) "
        }
      },
      "types_to_exclude": [
        "module",
        "function",
        "builtin_function_or_method",
        "instance",
        "_Feature"
      ],
      "window_display": false
    },
    "colab": {
      "provenance": [],
      "toc_visible": true,
      "include_colab_link": true
    }
  },
  "nbformat": 4,
  "nbformat_minor": 5
}