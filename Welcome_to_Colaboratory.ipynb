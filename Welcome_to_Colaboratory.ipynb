{
  "cells": [
    {
      "cell_type": "code",
      "source": [
        "import numpy as np\n",
        "import pandas as pd\n",
        "import matplotlib.pyplot as plt\n",
        "import seaborn as sns"
      ],
      "metadata": {
        "id": "kZXp4UspRovA"
      },
      "execution_count": null,
      "outputs": []
    },
    {
      "cell_type": "code",
      "source": [
        "data = pd.read_csv(\"Netflix.csv\")"
      ],
      "metadata": {
        "id": "r_DgdCOnR7TO"
      },
      "execution_count": null,
      "outputs": []
    },
    {
      "cell_type": "code",
      "source": [
        "data.shape"
      ],
      "metadata": {
        "id": "SBIOuA-ySCdu"
      },
      "execution_count": null,
      "outputs": []
    },
    {
      "cell_type": "code",
      "source": [
        "data.info()"
      ],
      "metadata": {
        "id": "-ta9yQx4SFLN"
      },
      "execution_count": null,
      "outputs": []
    },
    {
      "cell_type": "code",
      "source": [
        "data.describe()"
      ],
      "metadata": {
        "id": "0U_60A1KSI5Q"
      },
      "execution_count": null,
      "outputs": []
    },
    {
      "cell_type": "code",
      "source": [
        "data.describe(include = object)"
      ],
      "metadata": {
        "id": "9rBMrGkkSQ5N"
      },
      "execution_count": null,
      "outputs": []
    },
    {
      "cell_type": "code",
      "source": [
        "data.head(5)"
      ],
      "metadata": {
        "id": "uq4mISZMSeqv"
      },
      "execution_count": null,
      "outputs": []
    },
    {
      "cell_type": "markdown",
      "source": [
        "Cleaning Data - Unesting Columns - Country, Cast, Listed in\n",
        "\n",
        "I just splitting them, will use explode later whenever needed\n",
        "\n",
        "\n",
        "\n",
        "\n"
      ],
      "metadata": {
        "id": "x2qAQL37SahP"
      }
    },
    {
      "cell_type": "code",
      "source": [
        "data[\"country\"]=data[\"country\"].str.split(\",\")\n",
        "data[\"cast\"]=data[\"cast\"].str.split(\",\")\n",
        "data[\"listed_in\"]=data[\"listed_in\"].str.split(\",\")"
      ],
      "metadata": {
        "id": "U6aaaNX3TZHh"
      },
      "execution_count": null,
      "outputs": []
    },
    {
      "cell_type": "code",
      "source": [
        "data.head()"
      ],
      "metadata": {
        "id": "erbWiwmqWrzl"
      },
      "execution_count": null,
      "outputs": []
    },
    {
      "cell_type": "markdown",
      "source": [
        "Changing Rating Columns from cateogorical to Numerical\n",
        "\n",
        "1 --> Very Child Friendly\n",
        "9 --> Stricly adult Content\n",
        "10 -->Not Rated\n"
      ],
      "metadata": {
        "id": "_gKf1pDlY1rZ"
      }
    },
    {
      "cell_type": "code",
      "source": [
        "data[data[\"rating\"].isna()]"
      ],
      "metadata": {
        "id": "cZkV231sckFr"
      },
      "execution_count": null,
      "outputs": []
    },
    {
      "cell_type": "code",
      "source": [
        "data[\"rating\"].value_counts()"
      ],
      "metadata": {
        "id": "pxcn5UpYbsCr"
      },
      "execution_count": null,
      "outputs": []
    },
    {
      "cell_type": "code",
      "source": [
        "data[\"numrating\"]=data[\"rating\"].replace([\"TV-Y\",\"TV-Y7\",\"TV-Y7-FV\",\"TV-G\",\"G\",\"TV-PG\",\"PG\",\"PG-13\",\"TV-14\",\"R\",\"TV-MA\",\"NC-17\",\"NR\",\"UR\",\"74 min\",\"84 min\",\"66 min\"],[1,2,3,4,4,5,5,6,7,8,9,9,10,10,10,10,10])"
      ],
      "metadata": {
        "id": "L_n4JVYnaEB7"
      },
      "execution_count": null,
      "outputs": []
    },
    {
      "cell_type": "code",
      "source": [
        "data.info()"
      ],
      "metadata": {
        "id": "1xaMZ4U-bBmS"
      },
      "execution_count": null,
      "outputs": []
    },
    {
      "cell_type": "code",
      "source": [
        "data[\"numrating\"].value_counts().reset_index()"
      ],
      "metadata": {
        "id": "I0qqmDj6bQPy"
      },
      "execution_count": null,
      "outputs": []
    },
    {
      "cell_type": "code",
      "source": [
        "data.info()"
      ],
      "metadata": {
        "id": "kDoVajAbbMPr"
      },
      "execution_count": null,
      "outputs": []
    },
    {
      "cell_type": "markdown",
      "source": [
        "changing Dtype to datetime"
      ],
      "metadata": {
        "id": "_ndS9VGUX-tD"
      }
    },
    {
      "cell_type": "code",
      "source": [
        "data[\"date_added\"]=data[\"date_added\"].astype(\"datetime64\")"
      ],
      "metadata": {
        "id": "iir2k-2ZX9J9"
      },
      "execution_count": null,
      "outputs": []
    },
    {
      "cell_type": "code",
      "source": [
        "data.info()"
      ],
      "metadata": {
        "id": "jx0qPn-lYZ43"
      },
      "execution_count": null,
      "outputs": []
    },
    {
      "cell_type": "markdown",
      "source": [],
      "metadata": {
        "id": "A6qkzRenbAy6"
      }
    }
  ],
  "metadata": {
    "colab": {
      "name": "Welcome to Colaboratory",
      "provenance": []
    },
    "kernelspec": {
      "display_name": "Python 3",
      "name": "python3"
    }
  },
  "nbformat": 4,
  "nbformat_minor": 0
}